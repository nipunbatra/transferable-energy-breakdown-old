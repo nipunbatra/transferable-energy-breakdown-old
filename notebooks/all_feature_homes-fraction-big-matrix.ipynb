{
 "cells": [
  {
   "cell_type": "code",
   "execution_count": 1,
   "metadata": {
    "collapsed": true
   },
   "outputs": [],
   "source": [
    "import pickle\n",
    "import pandas as pd\n",
    "import sys\n",
    "import numpy as np"
   ]
  },
  {
   "cell_type": "code",
   "execution_count": 2,
   "metadata": {
    "collapsed": false
   },
   "outputs": [],
   "source": [
    "sys.path.append(\"../../code/\")\n",
    "sys.path.append(\"../code/\")\n",
    "\n",
    "\n",
    "from common_functions import tableau20blind, format_axes, latexify\n",
    "from regional_average_contribution import contribution"
   ]
  },
  {
   "cell_type": "code",
   "execution_count": 3,
   "metadata": {
    "collapsed": true
   },
   "outputs": [],
   "source": [
    "out_overall = pickle.load(open('../../data/input/all_regions.pkl', 'r'))"
   ]
  },
  {
   "cell_type": "code",
   "execution_count": 4,
   "metadata": {
    "collapsed": false
   },
   "outputs": [],
   "source": [
    "mf_pred = pickle.load(open('../data/new_mf_pred_subset_homes.pkl','r'))\n",
    "knn_results = pickle.load(open('../data/knn_pred_subset_homes.pkl','r'))"
   ]
  },
  {
   "cell_type": "code",
   "execution_count": 5,
   "metadata": {
    "collapsed": true
   },
   "outputs": [],
   "source": [
    "from sklearn.metrics import mean_squared_error"
   ]
  },
  {
   "cell_type": "code",
   "execution_count": 6,
   "metadata": {
    "collapsed": true
   },
   "outputs": [],
   "source": [
    "thresholds = {'fridge':10,'hvac':100,'dw':0.5,'mw':0.5,'oven':0.5,'wm':0.5}"
   ]
  },
  {
   "cell_type": "code",
   "execution_count": 7,
   "metadata": {
    "collapsed": true
   },
   "outputs": [],
   "source": [
    "def compute_rmse_fraction(appliance, pred_df):\n",
    "    region = \"Austin\"\n",
    "    df = out_overall[region]\n",
    "    #pred_df = mf_pred[appliance][appliance_feature][latent_factors]\n",
    "    gt_df = df[pred_df.columns].ix[pred_df.index]\n",
    "    \n",
    "    if appliance==\"hvac\":\n",
    "        start, stop=5,11\n",
    "    else:\n",
    "        start, stop=1,13\n",
    "    aggregate_df = df.ix[pred_df.index][['aggregate_%d' %month for month in range(start, stop)]]\n",
    "\n",
    "    aggregate_df.columns = gt_df.columns\n",
    "    \n",
    "    # Ignoring homes which have some errors\n",
    "    if appliance in thresholds:\n",
    "        a = gt_df[gt_df<thresholds[appliance]].sum(axis=1)\n",
    "        homes_ignore = a[a>0].index\n",
    "        gt_df_index = [x for x in gt_df.index if x not in homes_ignore]\n",
    "        gt_df = gt_df.ix[gt_df_index]\n",
    "    \n",
    "    a=(aggregate_df<300).sum(axis=1)\n",
    "    homes_agrgegate_ignore = a[a>0]\n",
    "    gt_df_index = [x for x in gt_df.index if x not in homes_agrgegate_ignore]\n",
    "    gt_df = gt_df.ix[gt_df_index]\n",
    "    \n",
    "    \n",
    "    gt_fraction = gt_df.div(aggregate_df)*100\n",
    "    pred_fraction = pred_df.div(aggregate_df)*100\n",
    "    \n",
    "    pred_fraction = pred_fraction.dropna()\n",
    "    gt_fraction = gt_fraction.dropna()\n",
    "    common_index = np.intersect1d(gt_fraction.index, pred_fraction.index)\n",
    "    pred_fraction = pred_fraction.ix[common_index]\n",
    "    gt_fraction = gt_fraction.ix[common_index]\n",
    "    \n",
    "    #print (gt_fraction>1000).sum().sum()\n",
    "    #e = (pred_fraction>1000).sum(axis=1)\n",
    "    #print e[e>0]\n",
    "\n",
    "    rms = np.sqrt(mean_squared_error(pred_fraction,gt_fraction))\n",
    "    return rms"
   ]
  },
  {
   "cell_type": "code",
   "execution_count": 9,
   "metadata": {
    "collapsed": true
   },
   "outputs": [],
   "source": [
    "def compute_rmse_fraction(appliance, pred_df):\n",
    "    region = \"Austin\"\n",
    "    df = out_overall[region]\n",
    "    #pred_df = mf_pred[appliance][appliance_feature][latent_factors]\n",
    "    gt_df = df[pred_df.columns].ix[pred_df.index]\n",
    "    if appliance==\"hvac\":\n",
    "        start, stop=5,11\n",
    "    else:\n",
    "        start, stop=1,13\n",
    "    aggregate_df = df.ix[pred_df.index][['aggregate_%d' %month for month in range(start, stop)]]\n",
    "    \n",
    "    # Ignoring homes which have some errors\n",
    "    if appliance in thresholds:\n",
    "        a = gt_df[gt_df<thresholds[appliance]].sum(axis=1)\n",
    "        homes_ignore = a[a>0].index\n",
    "        gt_df_index = [x for x in gt_df.index if x not in homes_ignore]\n",
    "        gt_df = gt_df.ix[gt_df_index]\n",
    "    \n",
    "    a=(aggregate_df<300).sum(axis=1)\n",
    "    homes_agrgegate_ignore = a[a>0]\n",
    "    gt_df_index = [x for x in gt_df.index if x not in homes_agrgegate_ignore]\n",
    "    gt_df = gt_df.ix[gt_df_index]\n",
    "    \n",
    "\n",
    "    aggregate_df.columns = gt_df.columns\n",
    "    gt_fraction = gt_df.div(aggregate_df)*100\n",
    "    pred_fraction = pred_df.div(aggregate_df)*100\n",
    "    \n",
    "    pred_df = pred_df.dropna()\n",
    "    gt_df = gt_df.dropna()\n",
    "    common_index = np.intersect1d(gt_df.index, pred_df.index)\n",
    "    pred_df = pred_df.ix[common_index]\n",
    "    gt_df = gt_df.ix[common_index]\n",
    "\n",
    "\n",
    "    rms = np.sqrt(mean_squared_error(pred_df,gt_df))\n",
    "    return rms"
   ]
  },
  {
   "cell_type": "code",
   "execution_count": 33,
   "metadata": {
    "collapsed": true
   },
   "outputs": [],
   "source": [
    "result = {'MF-105 homes, feature':{},'MF-516 homes':{},'MF-516 homes, feature':{},'KNN':{},'MF-105 homes':{},'FHMM':{},'LBM':{},\"RA\":{}}\n",
    "#result = {'MF':{},'KNN':{},'FHMM':{},'LBM':{},\"RA\":{}}"
   ]
  },
  {
   "cell_type": "markdown",
   "metadata": {},
   "source": [
    "## Computing for KNN"
   ]
  },
  {
   "cell_type": "code",
   "execution_count": 34,
   "metadata": {
    "collapsed": false
   },
   "outputs": [
    {
     "name": "stdout",
     "output_type": "stream",
     "text": [
      "0 hvac\n",
      "0 wm\n",
      "0 fridge\n",
      "0 mw\n",
      "0 oven\n",
      "0 dw\n"
     ]
    }
   ],
   "source": [
    "for appliance, appliance_df in knn_results.iteritems():\n",
    "    \n",
    "    pred_df = appliance_df\n",
    "    if appliance==\"hvac\":\n",
    "        start, stop=5, 11\n",
    "    else:\n",
    "        start, stop=1, 13\n",
    "    pred_df.columns = [appliance+\"_\"+str(x) for x in range(start, stop)]\n",
    "    print pred_df.isnull().sum().sum(), appliance\n",
    "    rmse_fraction = compute_rmse_fraction(appliance, pred_df)\n",
    "    \n",
    "\n",
    "    #rms = np.sqrt(mean_squared_error(gt_df, pred_df))\n",
    "    result['KNN'][appliance]=rmse_fraction"
   ]
  },
  {
   "cell_type": "code",
   "execution_count": 35,
   "metadata": {
    "collapsed": false
   },
   "outputs": [
    {
     "data": {
      "text/plain": [
       "8.169439936742776"
      ]
     },
     "execution_count": 35,
     "metadata": {},
     "output_type": "execute_result"
    }
   ],
   "source": [
    "pred_df.median().mean()"
   ]
  },
  {
   "cell_type": "code",
   "execution_count": 36,
   "metadata": {
    "collapsed": false
   },
   "outputs": [
    {
     "name": "stdout",
     "output_type": "stream",
     "text": [
      "hvac\n",
      "wm\n",
      "fridge\n",
      "mw\n",
      "oven\n",
      "dw\n",
      "{'hvac': ('None', 1, 12.528468675336295), 'wm': ('None', 1, 0.48946347979038585), 'fridge': ('None', 3, 3.7010559857760841), 'mw': ('None', 1, 0.65037160751281842), 'oven': ('None', 6, 1.0456401145260033), 'dw': ('None', 5, 1.0735108055286455)}\n"
     ]
    }
   ],
   "source": [
    "best_combination = {}\n",
    "for appliance, appliance_struct in mf_pred.iteritems():\n",
    "    print appliance\n",
    "    best_appliance=1000\n",
    "    for latent_factors, appliance_df in appliance_struct['None'].iteritems():\n",
    "        try:\n",
    "            region = \"Austin\"\n",
    "            df = out_overall[region]\n",
    "            pred_df = mf_pred[appliance]['None'][latent_factors]\n",
    "            rms = compute_rmse_fraction(appliance, pred_df)\n",
    "\n",
    "            if rms<best_appliance:\n",
    "                best_appliance=rms\n",
    "                best_combination[appliance]=('None', latent_factors, rms)\n",
    "        except Exception, e:\n",
    "            print e\n",
    "    result['MF-105 homes'][appliance]=best_appliance\n",
    "            \n",
    "print best_combination"
   ]
  },
  {
   "cell_type": "code",
   "execution_count": 56,
   "metadata": {
    "collapsed": false
   },
   "outputs": [
    {
     "name": "stdout",
     "output_type": "stream",
     "text": [
      "hvac\n",
      "wm\n",
      "fridge\n",
      "mw\n",
      "oven\n",
      "dw\n",
      "{'hvac': ('None', 8, 11.726771530318491), 'wm': ('None', 1, 0.48608145514962425), 'fridge': ('None', 3, 3.7386486226163234), 'mw': ('None', 3, 0.62327295992340415), 'oven': ('None', 1, 1.0888817822127712), 'dw': ('None', 7, 1.0269521688013372)}\n"
     ]
    }
   ],
   "source": [
    "best_combination = {}\n",
    "mf_pred_full = pickle.load(open('../data/new_mf_pred_all_homes.pkl','r'))\n",
    "\n",
    "for appliance, appliance_struct in mf_pred_full.iteritems():\n",
    "    print appliance\n",
    "    best_appliance=1000\n",
    "    for latent_factors, appliance_df in appliance_struct['None'].iteritems():\n",
    "        try:\n",
    "            region = \"Austin\"\n",
    "            df = out_overall[region]\n",
    "            pred_df = mf_pred_full[appliance]['None'][latent_factors]\n",
    "            pdcopy = pred_df.copy()\n",
    "            pred_df = pred_df.ix[mf_pred[appliance]['None'][latent_factors].index]\n",
    "            rms = compute_rmse_fraction(appliance, pred_df)\n",
    "\n",
    "            if rms<best_appliance:\n",
    "                best_appliance=rms\n",
    "                best_combination[appliance]=('None', latent_factors, rms)\n",
    "        except Exception, e:\n",
    "            print e\n",
    "    result['MF-516 homes'][appliance]=best_appliance\n",
    "            \n",
    "print best_combination"
   ]
  },
  {
   "cell_type": "code",
   "execution_count": 57,
   "metadata": {
    "collapsed": false
   },
   "outputs": [
    {
     "data": {
      "text/html": [
       "<div>\n",
       "<table border=\"1\" class=\"dataframe\">\n",
       "  <thead>\n",
       "    <tr style=\"text-align: right;\">\n",
       "      <th></th>\n",
       "      <th>dw_1</th>\n",
       "      <th>dw_2</th>\n",
       "      <th>dw_3</th>\n",
       "      <th>dw_4</th>\n",
       "      <th>dw_5</th>\n",
       "      <th>dw_6</th>\n",
       "      <th>dw_7</th>\n",
       "      <th>dw_8</th>\n",
       "      <th>dw_9</th>\n",
       "      <th>dw_10</th>\n",
       "      <th>dw_11</th>\n",
       "      <th>dw_12</th>\n",
       "    </tr>\n",
       "  </thead>\n",
       "  <tbody>\n",
       "    <tr>\n",
       "      <th>count</th>\n",
       "      <td>59.00000</td>\n",
       "      <td>59.00000</td>\n",
       "      <td>59.00000</td>\n",
       "      <td>59.00000</td>\n",
       "      <td>59.00000</td>\n",
       "      <td>59.00000</td>\n",
       "      <td>59.00000</td>\n",
       "      <td>59.00000</td>\n",
       "      <td>59.00000</td>\n",
       "      <td>59.00000</td>\n",
       "      <td>59.00000</td>\n",
       "      <td>59.00000</td>\n",
       "    </tr>\n",
       "    <tr>\n",
       "      <th>mean</th>\n",
       "      <td>12.16938</td>\n",
       "      <td>10.83141</td>\n",
       "      <td>11.17065</td>\n",
       "      <td>10.69579</td>\n",
       "      <td>10.49453</td>\n",
       "      <td>10.18201</td>\n",
       "      <td>9.88115</td>\n",
       "      <td>9.77050</td>\n",
       "      <td>10.28492</td>\n",
       "      <td>10.46811</td>\n",
       "      <td>10.64215</td>\n",
       "      <td>11.55523</td>\n",
       "    </tr>\n",
       "    <tr>\n",
       "      <th>std</th>\n",
       "      <td>7.92909</td>\n",
       "      <td>7.48909</td>\n",
       "      <td>8.30563</td>\n",
       "      <td>8.02682</td>\n",
       "      <td>7.64864</td>\n",
       "      <td>8.43378</td>\n",
       "      <td>7.43828</td>\n",
       "      <td>7.06733</td>\n",
       "      <td>6.78503</td>\n",
       "      <td>7.01235</td>\n",
       "      <td>6.97063</td>\n",
       "      <td>8.87257</td>\n",
       "    </tr>\n",
       "    <tr>\n",
       "      <th>min</th>\n",
       "      <td>2.25520</td>\n",
       "      <td>1.91421</td>\n",
       "      <td>2.35361</td>\n",
       "      <td>1.92477</td>\n",
       "      <td>1.80846</td>\n",
       "      <td>2.01067</td>\n",
       "      <td>1.85745</td>\n",
       "      <td>1.74396</td>\n",
       "      <td>1.64588</td>\n",
       "      <td>1.69283</td>\n",
       "      <td>1.81452</td>\n",
       "      <td>2.02150</td>\n",
       "    </tr>\n",
       "    <tr>\n",
       "      <th>25%</th>\n",
       "      <td>7.15230</td>\n",
       "      <td>6.45625</td>\n",
       "      <td>6.36841</td>\n",
       "      <td>5.97481</td>\n",
       "      <td>5.89046</td>\n",
       "      <td>5.90272</td>\n",
       "      <td>5.75819</td>\n",
       "      <td>5.60805</td>\n",
       "      <td>5.99923</td>\n",
       "      <td>6.28483</td>\n",
       "      <td>6.36163</td>\n",
       "      <td>6.32535</td>\n",
       "    </tr>\n",
       "    <tr>\n",
       "      <th>50%</th>\n",
       "      <td>9.42630</td>\n",
       "      <td>8.93661</td>\n",
       "      <td>9.42134</td>\n",
       "      <td>8.13077</td>\n",
       "      <td>8.47311</td>\n",
       "      <td>7.78958</td>\n",
       "      <td>7.38508</td>\n",
       "      <td>7.87760</td>\n",
       "      <td>8.44476</td>\n",
       "      <td>8.22284</td>\n",
       "      <td>8.43205</td>\n",
       "      <td>9.59274</td>\n",
       "    </tr>\n",
       "    <tr>\n",
       "      <th>75%</th>\n",
       "      <td>14.12420</td>\n",
       "      <td>12.21791</td>\n",
       "      <td>12.66769</td>\n",
       "      <td>12.10352</td>\n",
       "      <td>12.03823</td>\n",
       "      <td>11.51312</td>\n",
       "      <td>11.12677</td>\n",
       "      <td>10.76605</td>\n",
       "      <td>11.78758</td>\n",
       "      <td>11.86656</td>\n",
       "      <td>12.50761</td>\n",
       "      <td>13.10507</td>\n",
       "    </tr>\n",
       "    <tr>\n",
       "      <th>max</th>\n",
       "      <td>46.31055</td>\n",
       "      <td>43.98591</td>\n",
       "      <td>50.15239</td>\n",
       "      <td>48.34756</td>\n",
       "      <td>45.83403</td>\n",
       "      <td>58.29989</td>\n",
       "      <td>46.24464</td>\n",
       "      <td>39.28860</td>\n",
       "      <td>38.43628</td>\n",
       "      <td>37.71488</td>\n",
       "      <td>37.83164</td>\n",
       "      <td>58.89202</td>\n",
       "    </tr>\n",
       "  </tbody>\n",
       "</table>\n",
       "</div>"
      ],
      "text/plain": [
       "0          dw_1      dw_2      dw_3      dw_4      dw_5      dw_6      dw_7  \\\n",
       "count  59.00000  59.00000  59.00000  59.00000  59.00000  59.00000  59.00000   \n",
       "mean   12.16938  10.83141  11.17065  10.69579  10.49453  10.18201   9.88115   \n",
       "std     7.92909   7.48909   8.30563   8.02682   7.64864   8.43378   7.43828   \n",
       "min     2.25520   1.91421   2.35361   1.92477   1.80846   2.01067   1.85745   \n",
       "25%     7.15230   6.45625   6.36841   5.97481   5.89046   5.90272   5.75819   \n",
       "50%     9.42630   8.93661   9.42134   8.13077   8.47311   7.78958   7.38508   \n",
       "75%    14.12420  12.21791  12.66769  12.10352  12.03823  11.51312  11.12677   \n",
       "max    46.31055  43.98591  50.15239  48.34756  45.83403  58.29989  46.24464   \n",
       "\n",
       "0          dw_8      dw_9     dw_10     dw_11     dw_12  \n",
       "count  59.00000  59.00000  59.00000  59.00000  59.00000  \n",
       "mean    9.77050  10.28492  10.46811  10.64215  11.55523  \n",
       "std     7.06733   6.78503   7.01235   6.97063   8.87257  \n",
       "min     1.74396   1.64588   1.69283   1.81452   2.02150  \n",
       "25%     5.60805   5.99923   6.28483   6.36163   6.32535  \n",
       "50%     7.87760   8.44476   8.22284   8.43205   9.59274  \n",
       "75%    10.76605  11.78758  11.86656  12.50761  13.10507  \n",
       "max    39.28860  38.43628  37.71488  37.83164  58.89202  "
      ]
     },
     "execution_count": 57,
     "metadata": {},
     "output_type": "execute_result"
    }
   ],
   "source": [
    "pred_df.describe()"
   ]
  },
  {
   "cell_type": "code",
   "execution_count": 58,
   "metadata": {
    "collapsed": false
   },
   "outputs": [
    {
     "data": {
      "text/html": [
       "<div>\n",
       "<table border=\"1\" class=\"dataframe\">\n",
       "  <thead>\n",
       "    <tr style=\"text-align: right;\">\n",
       "      <th></th>\n",
       "      <th>hvac_5</th>\n",
       "      <th>hvac_6</th>\n",
       "      <th>hvac_7</th>\n",
       "      <th>hvac_8</th>\n",
       "      <th>hvac_9</th>\n",
       "      <th>hvac_10</th>\n",
       "    </tr>\n",
       "  </thead>\n",
       "  <tbody>\n",
       "    <tr>\n",
       "      <th>26</th>\n",
       "      <td>245.07244</td>\n",
       "      <td>468.09985</td>\n",
       "      <td>719.52184</td>\n",
       "      <td>780.84044</td>\n",
       "      <td>558.74813</td>\n",
       "      <td>282.69357</td>\n",
       "    </tr>\n",
       "    <tr>\n",
       "      <th>59</th>\n",
       "      <td>213.14253</td>\n",
       "      <td>407.23240</td>\n",
       "      <td>623.66381</td>\n",
       "      <td>675.81938</td>\n",
       "      <td>485.54353</td>\n",
       "      <td>247.10151</td>\n",
       "    </tr>\n",
       "    <tr>\n",
       "      <th>94</th>\n",
       "      <td>75.89770</td>\n",
       "      <td>143.70702</td>\n",
       "      <td>219.69436</td>\n",
       "      <td>238.53406</td>\n",
       "      <td>171.05347</td>\n",
       "      <td>87.70364</td>\n",
       "    </tr>\n",
       "    <tr>\n",
       "      <th>101</th>\n",
       "      <td>119.32664</td>\n",
       "      <td>227.37596</td>\n",
       "      <td>348.50662</td>\n",
       "      <td>378.59603</td>\n",
       "      <td>271.04893</td>\n",
       "      <td>138.21379</td>\n",
       "    </tr>\n",
       "    <tr>\n",
       "      <th>222</th>\n",
       "      <td>534.51573</td>\n",
       "      <td>1026.99998</td>\n",
       "      <td>1595.52366</td>\n",
       "      <td>1735.60337</td>\n",
       "      <td>1235.94689</td>\n",
       "      <td>618.39129</td>\n",
       "    </tr>\n",
       "  </tbody>\n",
       "</table>\n",
       "</div>"
      ],
      "text/plain": [
       "0       hvac_5      hvac_6      hvac_7      hvac_8      hvac_9    hvac_10\n",
       "26   245.07244   468.09985   719.52184   780.84044   558.74813  282.69357\n",
       "59   213.14253   407.23240   623.66381   675.81938   485.54353  247.10151\n",
       "94    75.89770   143.70702   219.69436   238.53406   171.05347   87.70364\n",
       "101  119.32664   227.37596   348.50662   378.59603   271.04893  138.21379\n",
       "222  534.51573  1026.99998  1595.52366  1735.60337  1235.94689  618.39129"
      ]
     },
     "execution_count": 58,
     "metadata": {},
     "output_type": "execute_result"
    }
   ],
   "source": [
    "mf_pred['hvac']['None'][1].head()"
   ]
  },
  {
   "cell_type": "code",
   "execution_count": 59,
   "metadata": {
    "collapsed": false
   },
   "outputs": [
    {
     "data": {
      "text/html": [
       "<div>\n",
       "<table border=\"1\" class=\"dataframe\">\n",
       "  <thead>\n",
       "    <tr style=\"text-align: right;\">\n",
       "      <th></th>\n",
       "      <th>hvac_5</th>\n",
       "      <th>hvac_6</th>\n",
       "      <th>hvac_7</th>\n",
       "      <th>hvac_8</th>\n",
       "      <th>hvac_9</th>\n",
       "      <th>hvac_10</th>\n",
       "    </tr>\n",
       "  </thead>\n",
       "  <tbody>\n",
       "    <tr>\n",
       "      <th>26</th>\n",
       "      <td>221.99384</td>\n",
       "      <td>436.24388</td>\n",
       "      <td>637.84885</td>\n",
       "      <td>692.47181</td>\n",
       "      <td>489.02102</td>\n",
       "      <td>244.14137</td>\n",
       "    </tr>\n",
       "    <tr>\n",
       "      <th>59</th>\n",
       "      <td>191.91786</td>\n",
       "      <td>377.21833</td>\n",
       "      <td>551.09636</td>\n",
       "      <td>598.05112</td>\n",
       "      <td>422.80683</td>\n",
       "      <td>211.40714</td>\n",
       "    </tr>\n",
       "    <tr>\n",
       "      <th>77</th>\n",
       "      <td>191.90170</td>\n",
       "      <td>377.35208</td>\n",
       "      <td>551.87999</td>\n",
       "      <td>599.29540</td>\n",
       "      <td>423.19836</td>\n",
       "      <td>211.51551</td>\n",
       "    </tr>\n",
       "    <tr>\n",
       "      <th>86</th>\n",
       "      <td>231.32771</td>\n",
       "      <td>454.68131</td>\n",
       "      <td>664.17771</td>\n",
       "      <td>721.07043</td>\n",
       "      <td>509.23103</td>\n",
       "      <td>254.58828</td>\n",
       "    </tr>\n",
       "    <tr>\n",
       "      <th>93</th>\n",
       "      <td>178.42737</td>\n",
       "      <td>350.76767</td>\n",
       "      <td>512.71678</td>\n",
       "      <td>556.67624</td>\n",
       "      <td>393.11540</td>\n",
       "      <td>196.52779</td>\n",
       "    </tr>\n",
       "    <tr>\n",
       "      <th>94</th>\n",
       "      <td>67.42274</td>\n",
       "      <td>132.54776</td>\n",
       "      <td>193.76498</td>\n",
       "      <td>210.42258</td>\n",
       "      <td>148.57906</td>\n",
       "      <td>74.26326</td>\n",
       "    </tr>\n",
       "    <tr>\n",
       "      <th>101</th>\n",
       "      <td>107.52784</td>\n",
       "      <td>211.43981</td>\n",
       "      <td>309.11517</td>\n",
       "      <td>335.70921</td>\n",
       "      <td>237.03130</td>\n",
       "      <td>118.45575</td>\n",
       "    </tr>\n",
       "    <tr>\n",
       "      <th>114</th>\n",
       "      <td>186.93085</td>\n",
       "      <td>367.29986</td>\n",
       "      <td>536.86157</td>\n",
       "      <td>583.02596</td>\n",
       "      <td>411.77688</td>\n",
       "      <td>205.82772</td>\n",
       "    </tr>\n",
       "    <tr>\n",
       "      <th>115</th>\n",
       "      <td>61.19431</td>\n",
       "      <td>120.30570</td>\n",
       "      <td>175.87163</td>\n",
       "      <td>191.00038</td>\n",
       "      <td>134.86390</td>\n",
       "      <td>67.41803</td>\n",
       "    </tr>\n",
       "    <tr>\n",
       "      <th>121</th>\n",
       "      <td>187.69549</td>\n",
       "      <td>369.54342</td>\n",
       "      <td>540.02057</td>\n",
       "      <td>586.55219</td>\n",
       "      <td>413.95463</td>\n",
       "      <td>206.78791</td>\n",
       "    </tr>\n",
       "    <tr>\n",
       "      <th>130</th>\n",
       "      <td>89.62588</td>\n",
       "      <td>176.23292</td>\n",
       "      <td>257.66456</td>\n",
       "      <td>279.81920</td>\n",
       "      <td>197.53892</td>\n",
       "      <td>98.71592</td>\n",
       "    </tr>\n",
       "    <tr>\n",
       "      <th>160</th>\n",
       "      <td>87.95211</td>\n",
       "      <td>172.84695</td>\n",
       "      <td>252.68355</td>\n",
       "      <td>274.39312</td>\n",
       "      <td>193.72594</td>\n",
       "      <td>96.85814</td>\n",
       "    </tr>\n",
       "    <tr>\n",
       "      <th>187</th>\n",
       "      <td>267.55709</td>\n",
       "      <td>525.34585</td>\n",
       "      <td>768.85292</td>\n",
       "      <td>834.16001</td>\n",
       "      <td>588.88067</td>\n",
       "      <td>293.98626</td>\n",
       "    </tr>\n",
       "    <tr>\n",
       "      <th>222</th>\n",
       "      <td>483.42152</td>\n",
       "      <td>951.04268</td>\n",
       "      <td>1393.53925</td>\n",
       "      <td>1513.79816</td>\n",
       "      <td>1067.72406</td>\n",
       "      <td>531.70803</td>\n",
       "    </tr>\n",
       "    <tr>\n",
       "      <th>267</th>\n",
       "      <td>52.94554</td>\n",
       "      <td>104.08585</td>\n",
       "      <td>152.15702</td>\n",
       "      <td>165.24434</td>\n",
       "      <td>116.67836</td>\n",
       "      <td>58.31830</td>\n",
       "    </tr>\n",
       "    <tr>\n",
       "      <th>364</th>\n",
       "      <td>193.09047</td>\n",
       "      <td>379.46142</td>\n",
       "      <td>554.84280</td>\n",
       "      <td>602.43899</td>\n",
       "      <td>425.27082</td>\n",
       "      <td>212.41761</td>\n",
       "    </tr>\n",
       "    <tr>\n",
       "      <th>410</th>\n",
       "      <td>133.61034</td>\n",
       "      <td>262.51724</td>\n",
       "      <td>383.60122</td>\n",
       "      <td>416.64773</td>\n",
       "      <td>294.19704</td>\n",
       "      <td>147.12571</td>\n",
       "    </tr>\n",
       "    <tr>\n",
       "      <th>434</th>\n",
       "      <td>279.59635</td>\n",
       "      <td>549.61257</td>\n",
       "      <td>803.57954</td>\n",
       "      <td>872.16408</td>\n",
       "      <td>615.48197</td>\n",
       "      <td>307.49581</td>\n",
       "    </tr>\n",
       "    <tr>\n",
       "      <th>436</th>\n",
       "      <td>56.19474</td>\n",
       "      <td>110.47397</td>\n",
       "      <td>161.50405</td>\n",
       "      <td>175.38990</td>\n",
       "      <td>123.83834</td>\n",
       "      <td>61.89742</td>\n",
       "    </tr>\n",
       "    <tr>\n",
       "      <th>457</th>\n",
       "      <td>46.00121</td>\n",
       "      <td>90.43798</td>\n",
       "      <td>132.21147</td>\n",
       "      <td>143.57718</td>\n",
       "      <td>101.37536</td>\n",
       "      <td>50.66715</td>\n",
       "    </tr>\n",
       "  </tbody>\n",
       "</table>\n",
       "</div>"
      ],
      "text/plain": [
       "0       hvac_5     hvac_6      hvac_7      hvac_8      hvac_9    hvac_10\n",
       "26   221.99384  436.24388   637.84885   692.47181   489.02102  244.14137\n",
       "59   191.91786  377.21833   551.09636   598.05112   422.80683  211.40714\n",
       "77   191.90170  377.35208   551.87999   599.29540   423.19836  211.51551\n",
       "86   231.32771  454.68131   664.17771   721.07043   509.23103  254.58828\n",
       "93   178.42737  350.76767   512.71678   556.67624   393.11540  196.52779\n",
       "94    67.42274  132.54776   193.76498   210.42258   148.57906   74.26326\n",
       "101  107.52784  211.43981   309.11517   335.70921   237.03130  118.45575\n",
       "114  186.93085  367.29986   536.86157   583.02596   411.77688  205.82772\n",
       "115   61.19431  120.30570   175.87163   191.00038   134.86390   67.41803\n",
       "121  187.69549  369.54342   540.02057   586.55219   413.95463  206.78791\n",
       "130   89.62588  176.23292   257.66456   279.81920   197.53892   98.71592\n",
       "160   87.95211  172.84695   252.68355   274.39312   193.72594   96.85814\n",
       "187  267.55709  525.34585   768.85292   834.16001   588.88067  293.98626\n",
       "222  483.42152  951.04268  1393.53925  1513.79816  1067.72406  531.70803\n",
       "267   52.94554  104.08585   152.15702   165.24434   116.67836   58.31830\n",
       "364  193.09047  379.46142   554.84280   602.43899   425.27082  212.41761\n",
       "410  133.61034  262.51724   383.60122   416.64773   294.19704  147.12571\n",
       "434  279.59635  549.61257   803.57954   872.16408   615.48197  307.49581\n",
       "436   56.19474  110.47397   161.50405   175.38990   123.83834   61.89742\n",
       "457   46.00121   90.43798   132.21147   143.57718   101.37536   50.66715"
      ]
     },
     "execution_count": 59,
     "metadata": {},
     "output_type": "execute_result"
    }
   ],
   "source": [
    "mf_pred_full['hvac']['None'][1].head(20)"
   ]
  },
  {
   "cell_type": "code",
   "execution_count": 60,
   "metadata": {
    "collapsed": false
   },
   "outputs": [
    {
     "name": "stdout",
     "output_type": "stream",
     "text": [
      "hvac\n",
      "wm\n",
      "fridge\n",
      "mw\n",
      "oven\n",
      "dw\n",
      "{'hvac': ('None', 1, 12.528468675336295), 'wm': ('None', 1, 0.48946347979038585), 'fridge': ('occ_rooms', 4, 3.6458884562231337), 'mw': ('area', 1, 0.64178834564621012), 'oven': ('rooms', 6, 1.044315338706997), 'dw': ('occ', 2, 0.92248020518389118)}\n"
     ]
    }
   ],
   "source": [
    "best_combination = {}\n",
    "for appliance, appliance_struct in mf_pred.iteritems():\n",
    "    print appliance\n",
    "    best_appliance=1000\n",
    "    for appliance_feature, appliance_feature_struct in appliance_struct.iteritems():\n",
    "        for latent_factors, appliance_df in appliance_struct[appliance_feature].iteritems():\n",
    "            try:\n",
    "                region = \"Austin\"\n",
    "                df = out_overall[region]\n",
    "                pred_df = mf_pred[appliance][appliance_feature][latent_factors]\n",
    "                if 8419 in pred_df.index:\n",
    "                    pass\n",
    "                    #pred_df = pred_df.drop(8419)\n",
    "                \n",
    "                rms = compute_rmse_fraction(appliance, pred_df)\n",
    "\n",
    "                if rms<best_appliance:\n",
    "\n",
    "                    best_appliance=rms\n",
    "                    best_combination[appliance]=(appliance_feature, latent_factors, rms)\n",
    "            except:\n",
    "                pass\n",
    "    result['MF-105 homes, feature'][appliance]=best_appliance\n",
    "            \n",
    "print best_combination"
   ]
  },
  {
   "cell_type": "code",
   "execution_count": 61,
   "metadata": {
    "collapsed": false
   },
   "outputs": [
    {
     "name": "stdout",
     "output_type": "stream",
     "text": [
      "hvac\n",
      "wm\n",
      "fridge\n",
      "mw\n",
      "oven\n",
      "dw\n",
      "{'hvac': ('None', 8, 11.726771530318491), 'wm': ('None', 1, 0.48608145514962425), 'fridge': ('occ', 6, 3.5998891080357986), 'mw': ('occ', 2, 0.61234072872378198), 'oven': ('occ_area', 2, 1.0210719937671571), 'dw': ('occ_area', 2, 0.93735010995377077)}\n"
     ]
    }
   ],
   "source": [
    "best_combination = {}\n",
    "for appliance, appliance_struct in mf_pred_full.iteritems():\n",
    "    print appliance\n",
    "    best_appliance=1000\n",
    "    for appliance_feature, appliance_feature_struct in appliance_struct.iteritems():\n",
    "        for latent_factors, appliance_df in appliance_struct[appliance_feature].iteritems():\n",
    "            try:\n",
    "                region = \"Austin\"\n",
    "                df = out_overall[region]\n",
    "                pred_df = mf_pred_full[appliance][appliance_feature][latent_factors]\n",
    "                pred_df = pred_df.ix[mf_pred[appliance][appliance_feature][latent_factors].index]\n",
    "                \n",
    "                rms = compute_rmse_fraction(appliance, pred_df)\n",
    "\n",
    "                if rms<best_appliance:\n",
    "\n",
    "                    best_appliance=rms\n",
    "                    best_combination[appliance]=(appliance_feature, latent_factors, rms)\n",
    "            except:\n",
    "                pass\n",
    "    result['MF-516 homes, feature'][appliance]=best_appliance\n",
    "            \n",
    "print best_combination"
   ]
  },
  {
   "cell_type": "code",
   "execution_count": 62,
   "metadata": {
    "collapsed": true
   },
   "outputs": [],
   "source": [
    "def get_fhmm(appliance):\n",
    "    count = 0\n",
    "    for test_region in [\"Austin\"]:\n",
    "        out = {}\n",
    "        test_df = out_overall[test_region]\n",
    "        test_df=test_df[(test_df.full_agg_available==1)&(test_df.md_available==1)]\n",
    "        \n",
    "        if appliance==\"hvac\":\n",
    "            start, stop=5, 11\n",
    "        else:\n",
    "            start, stop=1, 13\n",
    "        out[appliance] = {}\n",
    "        test_df_appliance=test_df.ix[test_df[['%s_%d' %(appliance,month) for month in range(start,stop)]].dropna().index]\n",
    "        for test_home in test_df_appliance.index:\n",
    "            try:\n",
    "                #print test_home\n",
    "                pred_df = pd.read_csv(\"/Users/nipunbatra/wiki-15min-fhmm-out/%s_%d.csv\" %(test_region, test_home),index_col=0)\n",
    "                pred_df_appliance = pred_df[appliance].ix[start:stop-1]\n",
    "                gt_df_appliance = test_df.ix[test_home][['%s_%d' %(appliance, month) for month in range(start, stop)]]\n",
    "                gt_df_appliance.index = pred_df_appliance.index\n",
    "                error = ((pred_df_appliance-gt_df_appliance).abs()*100/gt_df_appliance)\n",
    "                #error[error>100]=100\n",
    "                #acc = 100-error\n",
    "                out[appliance][test_home]=pred_df_appliance\n",
    "            except:\n",
    "                pass\n",
    "    return pd.DataFrame(out[appliance]).T"
   ]
  },
  {
   "cell_type": "code",
   "execution_count": null,
   "metadata": {
    "collapsed": true
   },
   "outputs": [],
   "source": []
  },
  {
   "cell_type": "code",
   "execution_count": 63,
   "metadata": {
    "collapsed": true
   },
   "outputs": [],
   "source": [
    "lbm_pred_df = pickle.load(open('../data/lbm_15_Austin.pkl'))\n",
    "def get_lbm(appliance, region):\n",
    "    if appliance==\"hvac\":\n",
    "        start, stop=5, 11\n",
    "    else:\n",
    "        start, stop=1, 13\n",
    "    test_df = out_overall[region]\n",
    "    test_df=test_df[(test_df.full_agg_available==1)&(test_df.md_available==1)]\n",
    "    pred_df = lbm_pred_df[['%s_%d' %(appliance,month) for month in range(start,stop)]]\n",
    "\n",
    "    test_df_appliance=test_df.ix[test_df[['%s_%d' %(appliance,month) for month in range(start,stop)]].dropna().index]\n",
    "    gt_df = test_df_appliance[['%s_%d' %(appliance, month) for month in range(start, stop)]]\n",
    "    gt_df.columns = pred_df.columns\n",
    "    error = (gt_df-pred_df).abs().div(gt_df).mul(100)\n",
    "    return pred_df"
   ]
  },
  {
   "cell_type": "code",
   "execution_count": 64,
   "metadata": {
    "collapsed": false
   },
   "outputs": [],
   "source": [
    "for appliance in knn_results.keys():\n",
    "    try:\n",
    "    \n",
    "        pred_df = get_fhmm(appliance)\n",
    "        pred_df.columns = [appliance+\"_\"+str(x) for x in pred_df.columns]\n",
    "        rmse_fraction = compute_rmse_fraction(appliance, pred_df)\n",
    "\n",
    "\n",
    "        #rms = np.sqrt(mean_squared_error(gt_df, pred_df))\n",
    "        result['FHMM'][appliance]=rmse_fraction\n",
    "        pred_df = get_lbm(appliance,'Austin')\n",
    "        #pred_df.columns = [appliance+\"_\"+str(x) for x in pred_df.columns]\n",
    "        rmse_fraction = compute_rmse_fraction(appliance, pred_df)\n",
    "\n",
    "\n",
    "        #rms = np.sqrt(mean_squared_error(gt_df, pred_df))\n",
    "        result['LBM'][appliance]=rmse_fraction\n",
    "\n",
    "        pred_df = get_regional_average(appliance,'Austin')\n",
    "        #pred_df.columns = [appliance+\"_\"+str(x) for x in pred_df.columns]\n",
    "        rmse_fraction = compute_rmse_fraction(appliance, pred_df)\n",
    "\n",
    "\n",
    "        #rms = np.sqrt(mean_squared_error(gt_df, pred_df))\n",
    "        result['RA'][appliance]=rmse_fraction\n",
    "    except:\n",
    "        pass"
   ]
  },
  {
   "cell_type": "code",
   "execution_count": 65,
   "metadata": {
    "collapsed": true
   },
   "outputs": [],
   "source": [
    "def get_regional_average(appliance, test_region='Austin'):\n",
    "    try:\n",
    "        contri_austin_appliance = contribution[test_region]['Cooling'][appliance]\n",
    "        if appliance==\"hvac\":\n",
    "            start, stop=5, 11\n",
    "        else:\n",
    "            start, stop=1, 13\n",
    "        test_df = out_overall[test_region]\n",
    "        test_df=test_df[(test_df.full_agg_available==1)&(test_df.md_available==1)]\n",
    "\n",
    "        test_df_appliance=test_df.ix[test_df[['%s_%d' %(appliance,month) for month in range(start,stop)]].dropna().index]\n",
    "        pred_df = test_df_appliance[['aggregate_%d' %month for month in range(start, stop)]]*contri_austin_appliance\n",
    "        pred_df.columns = ['%s_%d' %(appliance, month) for month in range(start, stop)]\n",
    "        gt_df = test_df_appliance[['%s_%d' %(appliance, month) for month in range(start, stop)]]\n",
    "        gt_df.columns = pred_df.columns\n",
    "        error = (gt_df-pred_df).abs().div(gt_df).mul(100)\n",
    "        return pred_df\n",
    "    except:\n",
    "        return np.NaN"
   ]
  },
  {
   "cell_type": "code",
   "execution_count": 207,
   "metadata": {
    "collapsed": false
   },
   "outputs": [
    {
     "name": "stdout",
     "output_type": "stream",
     "text": [
      "31.3941916759 hvac\n",
      "1.36063299198 wm\n",
      "4.32213804187 fridge\n",
      "1.08355587039 mw\n",
      "1.37706062795 oven\n",
      "1.30977897196 dw\n"
     ]
    }
   ],
   "source": [
    "ddsc_data = pickle.load(open('../data/ddsc.pkl','r'))\n",
    "for appliance in knn_results.keys():\n",
    "    if appliance==\"hvac\":\n",
    "        start, stop=5, 11\n",
    "    else:\n",
    "        start, stop=1, 13\n",
    "    pred_df = ddsc_data[appliance]\n",
    "    pred_df.columns = ['%s_%d' %(appliance, month) for month in range(start, stop)]\n",
    "    print compute_rmse_fraction(appliance, pred_df), appliance"
   ]
  },
  {
   "cell_type": "code",
   "execution_count": 204,
   "metadata": {
    "collapsed": false
   },
   "outputs": [
    {
     "data": {
      "text/html": [
       "<div>\n",
       "<table border=\"1\" class=\"dataframe\">\n",
       "  <thead>\n",
       "    <tr style=\"text-align: right;\">\n",
       "      <th></th>\n",
       "      <th>4</th>\n",
       "      <th>5</th>\n",
       "      <th>6</th>\n",
       "      <th>7</th>\n",
       "      <th>8</th>\n",
       "      <th>9</th>\n",
       "    </tr>\n",
       "  </thead>\n",
       "  <tbody>\n",
       "    <tr>\n",
       "      <th>26</th>\n",
       "      <td>126.31</td>\n",
       "      <td>175.36</td>\n",
       "      <td>220.84</td>\n",
       "      <td>245.88</td>\n",
       "      <td>182.68</td>\n",
       "      <td>159.11</td>\n",
       "    </tr>\n",
       "    <tr>\n",
       "      <th>59</th>\n",
       "      <td>120.83</td>\n",
       "      <td>116.30</td>\n",
       "      <td>165.10</td>\n",
       "      <td>213.97</td>\n",
       "      <td>119.74</td>\n",
       "      <td>102.45</td>\n",
       "    </tr>\n",
       "    <tr>\n",
       "      <th>94</th>\n",
       "      <td>36.74</td>\n",
       "      <td>44.24</td>\n",
       "      <td>62.61</td>\n",
       "      <td>67.32</td>\n",
       "      <td>56.24</td>\n",
       "      <td>41.30</td>\n",
       "    </tr>\n",
       "    <tr>\n",
       "      <th>101</th>\n",
       "      <td>62.80</td>\n",
       "      <td>82.71</td>\n",
       "      <td>103.55</td>\n",
       "      <td>99.67</td>\n",
       "      <td>85.97</td>\n",
       "      <td>61.95</td>\n",
       "    </tr>\n",
       "    <tr>\n",
       "      <th>222</th>\n",
       "      <td>252.23</td>\n",
       "      <td>313.75</td>\n",
       "      <td>352.91</td>\n",
       "      <td>465.47</td>\n",
       "      <td>288.02</td>\n",
       "      <td>258.44</td>\n",
       "    </tr>\n",
       "    <tr>\n",
       "      <th>252</th>\n",
       "      <td>201.78</td>\n",
       "      <td>261.93</td>\n",
       "      <td>314.11</td>\n",
       "      <td>339.85</td>\n",
       "      <td>270.97</td>\n",
       "      <td>199.78</td>\n",
       "    </tr>\n",
       "    <tr>\n",
       "      <th>364</th>\n",
       "      <td>157.50</td>\n",
       "      <td>184.24</td>\n",
       "      <td>187.18</td>\n",
       "      <td>144.36</td>\n",
       "      <td>87.50</td>\n",
       "      <td>49.95</td>\n",
       "    </tr>\n",
       "    <tr>\n",
       "      <th>545</th>\n",
       "      <td>135.26</td>\n",
       "      <td>200.79</td>\n",
       "      <td>254.26</td>\n",
       "      <td>268.92</td>\n",
       "      <td>200.49</td>\n",
       "      <td>134.45</td>\n",
       "    </tr>\n",
       "    <tr>\n",
       "      <th>624</th>\n",
       "      <td>50.01</td>\n",
       "      <td>72.94</td>\n",
       "      <td>88.33</td>\n",
       "      <td>100.37</td>\n",
       "      <td>78.05</td>\n",
       "      <td>45.14</td>\n",
       "    </tr>\n",
       "    <tr>\n",
       "      <th>661</th>\n",
       "      <td>108.93</td>\n",
       "      <td>185.89</td>\n",
       "      <td>221.46</td>\n",
       "      <td>235.46</td>\n",
       "      <td>189.21</td>\n",
       "      <td>138.05</td>\n",
       "    </tr>\n",
       "    <tr>\n",
       "      <th>871</th>\n",
       "      <td>63.70</td>\n",
       "      <td>83.55</td>\n",
       "      <td>112.62</td>\n",
       "      <td>127.54</td>\n",
       "      <td>93.43</td>\n",
       "      <td>64.99</td>\n",
       "    </tr>\n",
       "    <tr>\n",
       "      <th>946</th>\n",
       "      <td>61.95</td>\n",
       "      <td>98.01</td>\n",
       "      <td>122.75</td>\n",
       "      <td>126.36</td>\n",
       "      <td>92.86</td>\n",
       "      <td>70.83</td>\n",
       "    </tr>\n",
       "    <tr>\n",
       "      <th>1169</th>\n",
       "      <td>43.85</td>\n",
       "      <td>101.65</td>\n",
       "      <td>121.48</td>\n",
       "      <td>142.39</td>\n",
       "      <td>111.28</td>\n",
       "      <td>83.30</td>\n",
       "    </tr>\n",
       "    <tr>\n",
       "      <th>1283</th>\n",
       "      <td>128.00</td>\n",
       "      <td>133.69</td>\n",
       "      <td>241.16</td>\n",
       "      <td>264.50</td>\n",
       "      <td>236.83</td>\n",
       "      <td>142.55</td>\n",
       "    </tr>\n",
       "    <tr>\n",
       "      <th>1310</th>\n",
       "      <td>50.71</td>\n",
       "      <td>55.75</td>\n",
       "      <td>62.47</td>\n",
       "      <td>65.99</td>\n",
       "      <td>64.03</td>\n",
       "      <td>61.28</td>\n",
       "    </tr>\n",
       "    <tr>\n",
       "      <th>1334</th>\n",
       "      <td>98.98</td>\n",
       "      <td>125.41</td>\n",
       "      <td>107.66</td>\n",
       "      <td>83.65</td>\n",
       "      <td>43.09</td>\n",
       "      <td>46.40</td>\n",
       "    </tr>\n",
       "    <tr>\n",
       "      <th>1415</th>\n",
       "      <td>76.14</td>\n",
       "      <td>103.68</td>\n",
       "      <td>117.87</td>\n",
       "      <td>147.61</td>\n",
       "      <td>117.73</td>\n",
       "      <td>96.82</td>\n",
       "    </tr>\n",
       "    <tr>\n",
       "      <th>1463</th>\n",
       "      <td>40.07</td>\n",
       "      <td>111.16</td>\n",
       "      <td>156.25</td>\n",
       "      <td>180.23</td>\n",
       "      <td>126.86</td>\n",
       "      <td>57.70</td>\n",
       "    </tr>\n",
       "    <tr>\n",
       "      <th>1500</th>\n",
       "      <td>44.28</td>\n",
       "      <td>53.70</td>\n",
       "      <td>21.32</td>\n",
       "      <td>60.57</td>\n",
       "      <td>57.44</td>\n",
       "      <td>39.77</td>\n",
       "    </tr>\n",
       "    <tr>\n",
       "      <th>1642</th>\n",
       "      <td>113.95</td>\n",
       "      <td>122.20</td>\n",
       "      <td>205.63</td>\n",
       "      <td>186.82</td>\n",
       "      <td>164.95</td>\n",
       "      <td>122.02</td>\n",
       "    </tr>\n",
       "    <tr>\n",
       "      <th>1697</th>\n",
       "      <td>200.17</td>\n",
       "      <td>234.46</td>\n",
       "      <td>286.20</td>\n",
       "      <td>308.45</td>\n",
       "      <td>260.69</td>\n",
       "      <td>222.16</td>\n",
       "    </tr>\n",
       "    <tr>\n",
       "      <th>1700</th>\n",
       "      <td>119.95</td>\n",
       "      <td>175.70</td>\n",
       "      <td>193.13</td>\n",
       "      <td>293.57</td>\n",
       "      <td>181.46</td>\n",
       "      <td>109.76</td>\n",
       "    </tr>\n",
       "    <tr>\n",
       "      <th>1790</th>\n",
       "      <td>166.67</td>\n",
       "      <td>241.93</td>\n",
       "      <td>332.45</td>\n",
       "      <td>326.86</td>\n",
       "      <td>264.31</td>\n",
       "      <td>174.63</td>\n",
       "    </tr>\n",
       "    <tr>\n",
       "      <th>1800</th>\n",
       "      <td>90.42</td>\n",
       "      <td>164.79</td>\n",
       "      <td>176.45</td>\n",
       "      <td>125.31</td>\n",
       "      <td>145.65</td>\n",
       "      <td>121.73</td>\n",
       "    </tr>\n",
       "    <tr>\n",
       "      <th>1953</th>\n",
       "      <td>46.89</td>\n",
       "      <td>99.32</td>\n",
       "      <td>145.07</td>\n",
       "      <td>158.45</td>\n",
       "      <td>112.66</td>\n",
       "      <td>72.45</td>\n",
       "    </tr>\n",
       "    <tr>\n",
       "      <th>2129</th>\n",
       "      <td>143.17</td>\n",
       "      <td>184.62</td>\n",
       "      <td>226.70</td>\n",
       "      <td>227.00</td>\n",
       "      <td>188.25</td>\n",
       "      <td>139.09</td>\n",
       "    </tr>\n",
       "    <tr>\n",
       "      <th>2156</th>\n",
       "      <td>139.14</td>\n",
       "      <td>126.90</td>\n",
       "      <td>160.04</td>\n",
       "      <td>156.10</td>\n",
       "      <td>161.69</td>\n",
       "      <td>114.69</td>\n",
       "    </tr>\n",
       "    <tr>\n",
       "      <th>2233</th>\n",
       "      <td>145.23</td>\n",
       "      <td>187.42</td>\n",
       "      <td>272.42</td>\n",
       "      <td>274.10</td>\n",
       "      <td>214.19</td>\n",
       "      <td>133.77</td>\n",
       "    </tr>\n",
       "    <tr>\n",
       "      <th>2242</th>\n",
       "      <td>187.06</td>\n",
       "      <td>258.63</td>\n",
       "      <td>304.24</td>\n",
       "      <td>301.60</td>\n",
       "      <td>262.48</td>\n",
       "      <td>171.13</td>\n",
       "    </tr>\n",
       "    <tr>\n",
       "      <th>2365</th>\n",
       "      <td>80.20</td>\n",
       "      <td>101.21</td>\n",
       "      <td>87.47</td>\n",
       "      <td>156.04</td>\n",
       "      <td>145.18</td>\n",
       "      <td>86.60</td>\n",
       "    </tr>\n",
       "    <tr>\n",
       "      <th>...</th>\n",
       "      <td>...</td>\n",
       "      <td>...</td>\n",
       "      <td>...</td>\n",
       "      <td>...</td>\n",
       "      <td>...</td>\n",
       "      <td>...</td>\n",
       "    </tr>\n",
       "    <tr>\n",
       "      <th>6692</th>\n",
       "      <td>122.48</td>\n",
       "      <td>165.50</td>\n",
       "      <td>210.40</td>\n",
       "      <td>219.99</td>\n",
       "      <td>180.16</td>\n",
       "      <td>118.55</td>\n",
       "    </tr>\n",
       "    <tr>\n",
       "      <th>6836</th>\n",
       "      <td>34.87</td>\n",
       "      <td>73.48</td>\n",
       "      <td>93.09</td>\n",
       "      <td>98.41</td>\n",
       "      <td>82.58</td>\n",
       "      <td>55.87</td>\n",
       "    </tr>\n",
       "    <tr>\n",
       "      <th>6910</th>\n",
       "      <td>117.82</td>\n",
       "      <td>128.97</td>\n",
       "      <td>187.19</td>\n",
       "      <td>192.74</td>\n",
       "      <td>150.74</td>\n",
       "      <td>88.46</td>\n",
       "    </tr>\n",
       "    <tr>\n",
       "      <th>7016</th>\n",
       "      <td>210.69</td>\n",
       "      <td>176.90</td>\n",
       "      <td>287.75</td>\n",
       "      <td>387.62</td>\n",
       "      <td>350.76</td>\n",
       "      <td>267.55</td>\n",
       "    </tr>\n",
       "    <tr>\n",
       "      <th>7390</th>\n",
       "      <td>46.13</td>\n",
       "      <td>76.87</td>\n",
       "      <td>95.59</td>\n",
       "      <td>98.72</td>\n",
       "      <td>72.78</td>\n",
       "      <td>50.41</td>\n",
       "    </tr>\n",
       "    <tr>\n",
       "      <th>7429</th>\n",
       "      <td>111.17</td>\n",
       "      <td>167.28</td>\n",
       "      <td>201.47</td>\n",
       "      <td>224.52</td>\n",
       "      <td>172.84</td>\n",
       "      <td>129.52</td>\n",
       "    </tr>\n",
       "    <tr>\n",
       "      <th>7510</th>\n",
       "      <td>128.76</td>\n",
       "      <td>161.71</td>\n",
       "      <td>182.86</td>\n",
       "      <td>203.26</td>\n",
       "      <td>177.13</td>\n",
       "      <td>132.69</td>\n",
       "    </tr>\n",
       "    <tr>\n",
       "      <th>7641</th>\n",
       "      <td>151.64</td>\n",
       "      <td>192.67</td>\n",
       "      <td>234.54</td>\n",
       "      <td>212.08</td>\n",
       "      <td>190.03</td>\n",
       "      <td>152.78</td>\n",
       "    </tr>\n",
       "    <tr>\n",
       "      <th>7731</th>\n",
       "      <td>84.57</td>\n",
       "      <td>137.76</td>\n",
       "      <td>169.33</td>\n",
       "      <td>192.08</td>\n",
       "      <td>150.33</td>\n",
       "      <td>97.43</td>\n",
       "    </tr>\n",
       "    <tr>\n",
       "      <th>7741</th>\n",
       "      <td>125.35</td>\n",
       "      <td>159.78</td>\n",
       "      <td>180.50</td>\n",
       "      <td>196.98</td>\n",
       "      <td>170.74</td>\n",
       "      <td>80.07</td>\n",
       "    </tr>\n",
       "    <tr>\n",
       "      <th>7769</th>\n",
       "      <td>34.14</td>\n",
       "      <td>50.24</td>\n",
       "      <td>62.87</td>\n",
       "      <td>65.42</td>\n",
       "      <td>51.69</td>\n",
       "      <td>30.18</td>\n",
       "    </tr>\n",
       "    <tr>\n",
       "      <th>7793</th>\n",
       "      <td>107.71</td>\n",
       "      <td>149.41</td>\n",
       "      <td>184.40</td>\n",
       "      <td>198.86</td>\n",
       "      <td>151.89</td>\n",
       "      <td>121.79</td>\n",
       "    </tr>\n",
       "    <tr>\n",
       "      <th>7800</th>\n",
       "      <td>85.09</td>\n",
       "      <td>113.76</td>\n",
       "      <td>144.30</td>\n",
       "      <td>163.35</td>\n",
       "      <td>107.98</td>\n",
       "      <td>85.68</td>\n",
       "    </tr>\n",
       "    <tr>\n",
       "      <th>7866</th>\n",
       "      <td>64.93</td>\n",
       "      <td>72.92</td>\n",
       "      <td>84.16</td>\n",
       "      <td>94.75</td>\n",
       "      <td>63.51</td>\n",
       "      <td>49.30</td>\n",
       "    </tr>\n",
       "    <tr>\n",
       "      <th>8236</th>\n",
       "      <td>99.97</td>\n",
       "      <td>141.08</td>\n",
       "      <td>157.35</td>\n",
       "      <td>182.69</td>\n",
       "      <td>138.29</td>\n",
       "      <td>101.87</td>\n",
       "    </tr>\n",
       "    <tr>\n",
       "      <th>8243</th>\n",
       "      <td>53.84</td>\n",
       "      <td>97.67</td>\n",
       "      <td>112.96</td>\n",
       "      <td>140.56</td>\n",
       "      <td>98.11</td>\n",
       "      <td>89.87</td>\n",
       "    </tr>\n",
       "    <tr>\n",
       "      <th>8317</th>\n",
       "      <td>63.25</td>\n",
       "      <td>83.65</td>\n",
       "      <td>105.91</td>\n",
       "      <td>112.44</td>\n",
       "      <td>92.30</td>\n",
       "      <td>74.85</td>\n",
       "    </tr>\n",
       "    <tr>\n",
       "      <th>8626</th>\n",
       "      <td>81.25</td>\n",
       "      <td>103.31</td>\n",
       "      <td>128.70</td>\n",
       "      <td>151.85</td>\n",
       "      <td>133.68</td>\n",
       "      <td>78.17</td>\n",
       "    </tr>\n",
       "    <tr>\n",
       "      <th>9052</th>\n",
       "      <td>70.32</td>\n",
       "      <td>84.83</td>\n",
       "      <td>172.86</td>\n",
       "      <td>194.92</td>\n",
       "      <td>156.95</td>\n",
       "      <td>101.45</td>\n",
       "    </tr>\n",
       "    <tr>\n",
       "      <th>9134</th>\n",
       "      <td>84.02</td>\n",
       "      <td>120.78</td>\n",
       "      <td>150.97</td>\n",
       "      <td>168.31</td>\n",
       "      <td>155.15</td>\n",
       "      <td>118.90</td>\n",
       "    </tr>\n",
       "    <tr>\n",
       "      <th>9484</th>\n",
       "      <td>191.47</td>\n",
       "      <td>156.23</td>\n",
       "      <td>270.05</td>\n",
       "      <td>270.34</td>\n",
       "      <td>213.42</td>\n",
       "      <td>155.50</td>\n",
       "    </tr>\n",
       "    <tr>\n",
       "      <th>9609</th>\n",
       "      <td>59.14</td>\n",
       "      <td>93.04</td>\n",
       "      <td>137.96</td>\n",
       "      <td>157.06</td>\n",
       "      <td>109.66</td>\n",
       "      <td>81.40</td>\n",
       "    </tr>\n",
       "    <tr>\n",
       "      <th>9647</th>\n",
       "      <td>311.77</td>\n",
       "      <td>278.18</td>\n",
       "      <td>337.70</td>\n",
       "      <td>364.88</td>\n",
       "      <td>376.26</td>\n",
       "      <td>324.82</td>\n",
       "    </tr>\n",
       "    <tr>\n",
       "      <th>9729</th>\n",
       "      <td>129.42</td>\n",
       "      <td>217.04</td>\n",
       "      <td>123.67</td>\n",
       "      <td>216.27</td>\n",
       "      <td>170.20</td>\n",
       "      <td>136.78</td>\n",
       "    </tr>\n",
       "    <tr>\n",
       "      <th>9912</th>\n",
       "      <td>37.35</td>\n",
       "      <td>45.89</td>\n",
       "      <td>57.39</td>\n",
       "      <td>67.43</td>\n",
       "      <td>61.63</td>\n",
       "      <td>53.73</td>\n",
       "    </tr>\n",
       "    <tr>\n",
       "      <th>9922</th>\n",
       "      <td>84.12</td>\n",
       "      <td>101.34</td>\n",
       "      <td>281.68</td>\n",
       "      <td>337.44</td>\n",
       "      <td>257.92</td>\n",
       "      <td>214.71</td>\n",
       "    </tr>\n",
       "    <tr>\n",
       "      <th>9932</th>\n",
       "      <td>43.48</td>\n",
       "      <td>61.29</td>\n",
       "      <td>101.35</td>\n",
       "      <td>55.63</td>\n",
       "      <td>66.70</td>\n",
       "      <td>42.71</td>\n",
       "    </tr>\n",
       "    <tr>\n",
       "      <th>9933</th>\n",
       "      <td>73.01</td>\n",
       "      <td>90.44</td>\n",
       "      <td>113.34</td>\n",
       "      <td>129.52</td>\n",
       "      <td>102.08</td>\n",
       "      <td>85.29</td>\n",
       "    </tr>\n",
       "    <tr>\n",
       "      <th>9971</th>\n",
       "      <td>54.73</td>\n",
       "      <td>100.18</td>\n",
       "      <td>144.74</td>\n",
       "      <td>152.33</td>\n",
       "      <td>118.69</td>\n",
       "      <td>16.83</td>\n",
       "    </tr>\n",
       "    <tr>\n",
       "      <th>9982</th>\n",
       "      <td>65.05</td>\n",
       "      <td>93.85</td>\n",
       "      <td>132.99</td>\n",
       "      <td>133.44</td>\n",
       "      <td>109.08</td>\n",
       "      <td>76.91</td>\n",
       "    </tr>\n",
       "  </tbody>\n",
       "</table>\n",
       "<p>105 rows × 6 columns</p>\n",
       "</div>"
      ],
      "text/plain": [
       "           4       5       6       7       8       9\n",
       "26    126.31  175.36  220.84  245.88  182.68  159.11\n",
       "59    120.83  116.30  165.10  213.97  119.74  102.45\n",
       "94     36.74   44.24   62.61   67.32   56.24   41.30\n",
       "101    62.80   82.71  103.55   99.67   85.97   61.95\n",
       "222   252.23  313.75  352.91  465.47  288.02  258.44\n",
       "252   201.78  261.93  314.11  339.85  270.97  199.78\n",
       "364   157.50  184.24  187.18  144.36   87.50   49.95\n",
       "545   135.26  200.79  254.26  268.92  200.49  134.45\n",
       "624    50.01   72.94   88.33  100.37   78.05   45.14\n",
       "661   108.93  185.89  221.46  235.46  189.21  138.05\n",
       "871    63.70   83.55  112.62  127.54   93.43   64.99\n",
       "946    61.95   98.01  122.75  126.36   92.86   70.83\n",
       "1169   43.85  101.65  121.48  142.39  111.28   83.30\n",
       "1283  128.00  133.69  241.16  264.50  236.83  142.55\n",
       "1310   50.71   55.75   62.47   65.99   64.03   61.28\n",
       "1334   98.98  125.41  107.66   83.65   43.09   46.40\n",
       "1415   76.14  103.68  117.87  147.61  117.73   96.82\n",
       "1463   40.07  111.16  156.25  180.23  126.86   57.70\n",
       "1500   44.28   53.70   21.32   60.57   57.44   39.77\n",
       "1642  113.95  122.20  205.63  186.82  164.95  122.02\n",
       "1697  200.17  234.46  286.20  308.45  260.69  222.16\n",
       "1700  119.95  175.70  193.13  293.57  181.46  109.76\n",
       "1790  166.67  241.93  332.45  326.86  264.31  174.63\n",
       "1800   90.42  164.79  176.45  125.31  145.65  121.73\n",
       "1953   46.89   99.32  145.07  158.45  112.66   72.45\n",
       "2129  143.17  184.62  226.70  227.00  188.25  139.09\n",
       "2156  139.14  126.90  160.04  156.10  161.69  114.69\n",
       "2233  145.23  187.42  272.42  274.10  214.19  133.77\n",
       "2242  187.06  258.63  304.24  301.60  262.48  171.13\n",
       "2365   80.20  101.21   87.47  156.04  145.18   86.60\n",
       "...      ...     ...     ...     ...     ...     ...\n",
       "6692  122.48  165.50  210.40  219.99  180.16  118.55\n",
       "6836   34.87   73.48   93.09   98.41   82.58   55.87\n",
       "6910  117.82  128.97  187.19  192.74  150.74   88.46\n",
       "7016  210.69  176.90  287.75  387.62  350.76  267.55\n",
       "7390   46.13   76.87   95.59   98.72   72.78   50.41\n",
       "7429  111.17  167.28  201.47  224.52  172.84  129.52\n",
       "7510  128.76  161.71  182.86  203.26  177.13  132.69\n",
       "7641  151.64  192.67  234.54  212.08  190.03  152.78\n",
       "7731   84.57  137.76  169.33  192.08  150.33   97.43\n",
       "7741  125.35  159.78  180.50  196.98  170.74   80.07\n",
       "7769   34.14   50.24   62.87   65.42   51.69   30.18\n",
       "7793  107.71  149.41  184.40  198.86  151.89  121.79\n",
       "7800   85.09  113.76  144.30  163.35  107.98   85.68\n",
       "7866   64.93   72.92   84.16   94.75   63.51   49.30\n",
       "8236   99.97  141.08  157.35  182.69  138.29  101.87\n",
       "8243   53.84   97.67  112.96  140.56   98.11   89.87\n",
       "8317   63.25   83.65  105.91  112.44   92.30   74.85\n",
       "8626   81.25  103.31  128.70  151.85  133.68   78.17\n",
       "9052   70.32   84.83  172.86  194.92  156.95  101.45\n",
       "9134   84.02  120.78  150.97  168.31  155.15  118.90\n",
       "9484  191.47  156.23  270.05  270.34  213.42  155.50\n",
       "9609   59.14   93.04  137.96  157.06  109.66   81.40\n",
       "9647  311.77  278.18  337.70  364.88  376.26  324.82\n",
       "9729  129.42  217.04  123.67  216.27  170.20  136.78\n",
       "9912   37.35   45.89   57.39   67.43   61.63   53.73\n",
       "9922   84.12  101.34  281.68  337.44  257.92  214.71\n",
       "9932   43.48   61.29  101.35   55.63   66.70   42.71\n",
       "9933   73.01   90.44  113.34  129.52  102.08   85.29\n",
       "9971   54.73  100.18  144.74  152.33  118.69   16.83\n",
       "9982   65.05   93.85  132.99  133.44  109.08   76.91\n",
       "\n",
       "[105 rows x 6 columns]"
      ]
     },
     "execution_count": 204,
     "metadata": {},
     "output_type": "execute_result"
    }
   ],
   "source": [
    "pred_df"
   ]
  },
  {
   "cell_type": "code",
   "execution_count": 75,
   "metadata": {
    "collapsed": true
   },
   "outputs": [],
   "source": [
    "pd.set_option('precision',2)"
   ]
  },
  {
   "cell_type": "code",
   "execution_count": 67,
   "metadata": {
    "collapsed": false
   },
   "outputs": [],
   "source": [
    "results_df = pd.DataFrame(result)"
   ]
  },
  {
   "cell_type": "code",
   "execution_count": 68,
   "metadata": {
    "collapsed": false
   },
   "outputs": [
    {
     "data": {
      "text/plain": [
       "{'dw': ('occ_area', 2, 0.93735010995377077),\n",
       " 'fridge': ('occ', 6, 3.5998891080357986),\n",
       " 'hvac': ('None', 8, 11.726771530318491),\n",
       " 'mw': ('occ', 2, 0.61234072872378198),\n",
       " 'oven': ('occ_area', 2, 1.0210719937671571),\n",
       " 'wm': ('None', 1, 0.48608145514962425)}"
      ]
     },
     "execution_count": 68,
     "metadata": {},
     "output_type": "execute_result"
    }
   ],
   "source": [
    "best_combination"
   ]
  },
  {
   "cell_type": "code",
   "execution_count": 69,
   "metadata": {
    "collapsed": true
   },
   "outputs": [],
   "source": [
    "map_appliance = {'fridge':'Fridge','dw':'Dish washer','mw':'Microwave','hvac':'HVAC','oven':'Oven','wm':'Washing machine'}"
   ]
  },
  {
   "cell_type": "code",
   "execution_count": 70,
   "metadata": {
    "collapsed": false
   },
   "outputs": [],
   "source": [
    "#results_df[results_df>100]=100\n",
    "#results_df=results_df.fillna(100)\n",
    "results_df.index = [map_appliance[appliance] for appliance in results_df.index]\n",
    "#results_df.plot(kind='bar', colors=tableau20blind[::2])"
   ]
  },
  {
   "cell_type": "code",
   "execution_count": 71,
   "metadata": {
    "collapsed": false
   },
   "outputs": [],
   "source": [
    "results_df = results_df.ix[['HVAC','Fridge','Oven','Dish washer','Washing machine','Microwave']]"
   ]
  },
  {
   "cell_type": "code",
   "execution_count": 72,
   "metadata": {
    "collapsed": false
   },
   "outputs": [],
   "source": [
    "results_df_complete = results_df.copy()\n",
    "results_df_complete.to_latex(\"../results/105-homes-complete.txt\")"
   ]
  },
  {
   "cell_type": "code",
   "execution_count": 77,
   "metadata": {
    "collapsed": false
   },
   "outputs": [],
   "source": [
    "results_df_complete[['FHMM','LBM','RA','KNN','MF-105 homes, feature']].to_latex(\"../results/105-homes-main.txt\")"
   ]
  },
  {
   "cell_type": "code",
   "execution_count": 78,
   "metadata": {
    "collapsed": false
   },
   "outputs": [
    {
     "name": "stdout",
     "output_type": "stream",
     "text": [
      "\\begin{tabular}{lrrrrr}\r\n",
      "\\toprule\r\n",
      "{} &   FHMM &    LBM &     RA &    KNN &  MF-105 homes, feature \\\\\r\n",
      "\\midrule\r\n",
      "HVAC            &  15.26 &  29.37 &  17.44 &  12.62 &                  12.53 \\\\\r\n",
      "Fridge          &   4.48 &   2.69 &   4.62 &   4.37 &                   3.65 \\\\\r\n",
      "Oven            &  34.09 &   3.84 &    NaN &   1.07 &                   1.04 \\\\\r\n",
      "Dish washer     &  12.99 &   1.74 &   1.22 &   1.05 &                   0.92 \\\\\r\n",
      "Washing machine &   3.98 &  13.29 &   0.71 &   0.50 &                   0.49 \\\\\r\n",
      "Microwave       &   6.32 &   1.01 &    NaN &   0.87 &                   0.64 \\\\\r\n",
      "\\bottomrule\r\n",
      "\\end{tabular}\r\n"
     ]
    }
   ],
   "source": [
    "!cat ../results/105-homes-main.txt"
   ]
  },
  {
   "cell_type": "code",
   "execution_count": 114,
   "metadata": {
    "collapsed": false
   },
   "outputs": [],
   "source": [
    "mf_cols = [x for x in results_df_complete.columns if 'MF' in x]\n",
    "non_mf_cols = [x for x in results_df_complete.columns if 'MF' not in x]\n",
    "best_non_mf = results_df_complete[non_mf_cols].min(axis=1)\n",
    "results_df_mf = results_df_complete[mf_cols]"
   ]
  },
  {
   "cell_type": "code",
   "execution_count": 127,
   "metadata": {
    "collapsed": false
   },
   "outputs": [],
   "source": [
    "improvement_df = (100*(results_df_mf.T.ix['MF-105 homes']-results_df_mf.T)/results_df_mf.T.ix['MF-105 homes']).T"
   ]
  },
  {
   "cell_type": "code",
   "execution_count": 135,
   "metadata": {
    "collapsed": false
   },
   "outputs": [],
   "source": [
    "improvement_df =  improvement_df[improvement_df.columns[1:]]"
   ]
  },
  {
   "cell_type": "code",
   "execution_count": 209,
   "metadata": {
    "collapsed": false
   },
   "outputs": [],
   "source": [
    "improvement_df.index = ['HVAC','Fridge','Oven','DW','WM','MW']"
   ]
  },
  {
   "cell_type": "code",
   "execution_count": 215,
   "metadata": {
    "collapsed": false
   },
   "outputs": [
    {
     "data": {
      "image/png": "[encoded data removed]",
      "text/plain": [
       "<matplotlib.figure.Figure at 0x11e95ba90>"
      ]
     },
     "metadata": {},
     "output_type": "display_data"
    }
   ],
   "source": [
    "%matplotlib inline\n",
    "import matplotlib.pyplot as plt\n",
    "\n",
    "latexify(fig_height=1.2)\n",
    "ax= improvement_df.plot(kind=\"bar\",rot=45, colors=tableau20blind[::2])\n",
    "format_axes(ax)\n",
    "plt.ylabel(\"Relative \\% \\nreduction in error\")\n",
    "lgd = ax.legend(loc=9, bbox_to_anchor=(0.5,1.42), ncol=2)\n",
    "plt.savefig(\"../results/improvement.pdf\",bbox_extra_artists=(lgd,), bbox_inches='tight')\n",
    "plt.savefig(\"../results/improvement.png\",bbox_extra_artists=(lgd,), bbox_inches='tight')\n",
    "\n"
   ]
  },
  {
   "cell_type": "code",
   "execution_count": 193,
   "metadata": {
    "collapsed": false
   },
   "outputs": [
    {
     "data": {
      "image/png": "[encoded data removed]",
      "text/plain": [
       "<matplotlib.figure.Figure at 0x120eaee50>"
      ]
     },
     "metadata": {},
     "output_type": "display_data"
    }
   ],
   "source": [
    "latexify(fig_height=1.)\n",
    "latent_factor_hvac = [ 0.06080696,  0.11842875,  0.18152696,  0.19074246,  0.13429664,\n",
    "        0.06635884]\n",
    "dds = [438, 579, 724, 747, 617, 376]\n",
    "plt.scatter(latent_factor_hvac,dds, color='gray')\n",
    "plt.locator_params(axis='y',nbins=6)\n",
    "\n",
    "n=['May','Jun','Jul','Aug','Sep','Oct']\n",
    "for i, txt in enumerate(n):\n",
    "    plt.annotate(txt, (latent_factor_hvac[i]+0.006,dds[i]-50))\n",
    "plt.xlabel(\"Latent factor for months\")\n",
    "plt.ylabel(\"\\# Degree days\")\n",
    "format_axes(plt.gca())\n",
    "plt.savefig(\"../results/dd_latent.pdf\", bbox_inches=\"tight\")"
   ]
  },
  {
   "cell_type": "code",
   "execution_count": 93,
   "metadata": {
    "collapsed": false
   },
   "outputs": [
    {
     "data": {
      "image/png": "[encoded data removed]",
      "text/plain": [
       "<matplotlib.figure.Figure at 0x119915650>"
      ]
     },
     "metadata": {},
     "output_type": "display_data"
    }
   ],
   "source": [
    "import matplotlib.pyplot as plt\n",
    "results_df.plot(kind='bar',rot=0, colors=tableau20blind[::2])\n",
    "lgd = plt.legend(loc='right', bbox_to_anchor=(1.8, 0.5))\n",
    "plt.ylabel(\"Energy error\\n(Lower is better)\");\n",
    "plt.title(\"Results over 105 homes having all features\")\n",
    "plt.savefig(\"../results/subset.pdf\",bbox_extra_artists=(lgd,), bbox_inches='tight')\n",
    "plt.savefig(\"../results/subset.png\",bbox_extra_artists=(lgd,), bbox_inches='tight')"
   ]
  },
  {
   "cell_type": "markdown",
   "metadata": {},
   "source": [
    "Comparing MF with and without homes containing those features"
   ]
  },
  {
   "cell_type": "code",
   "execution_count": 23,
   "metadata": {
    "collapsed": false
   },
   "outputs": [
    {
     "data": {
      "text/plain": [
       "{'dw': ('occ', 1, 47.696584280069516),\n",
       " 'fridge': ('occ_area', 2, 24.91311995551921),\n",
       " 'hvac': ('rooms', 8, 21.29756141099046),\n",
       " 'mw': ('occ', 2, 41.60195238757644),\n",
       " 'oven': ('area_rooms', 8, 48.164684764512515),\n",
       " 'wm': ('occ_rooms', 3, 43.7072363087808)}"
      ]
     },
     "execution_count": 23,
     "metadata": {},
     "output_type": "execute_result"
    }
   ],
   "source": [
    "best_combination"
   ]
  },
  {
   "cell_type": "code",
   "execution_count": 31,
   "metadata": {
    "collapsed": false
   },
   "outputs": [
    {
     "data": {
      "text/html": [
       "<div>\n",
       "<table border=\"1\" class=\"dataframe\">\n",
       "  <thead>\n",
       "    <tr style=\"text-align: right;\">\n",
       "      <th></th>\n",
       "      <th>KNN</th>\n",
       "      <th>MF</th>\n",
       "    </tr>\n",
       "  </thead>\n",
       "  <tbody>\n",
       "    <tr>\n",
       "      <th>dw</th>\n",
       "      <td>55.305178</td>\n",
       "      <td>47.696584</td>\n",
       "    </tr>\n",
       "    <tr>\n",
       "      <th>fridge</th>\n",
       "      <td>30.453563</td>\n",
       "      <td>24.913120</td>\n",
       "    </tr>\n",
       "    <tr>\n",
       "      <th>hvac</th>\n",
       "      <td>27.268441</td>\n",
       "      <td>21.297561</td>\n",
       "    </tr>\n",
       "    <tr>\n",
       "      <th>mw</th>\n",
       "      <td>49.199756</td>\n",
       "      <td>41.601952</td>\n",
       "    </tr>\n",
       "    <tr>\n",
       "      <th>oven</th>\n",
       "      <td>51.708601</td>\n",
       "      <td>48.164685</td>\n",
       "    </tr>\n",
       "    <tr>\n",
       "      <th>wm</th>\n",
       "      <td>43.735111</td>\n",
       "      <td>43.707236</td>\n",
       "    </tr>\n",
       "  </tbody>\n",
       "</table>\n",
       "</div>"
      ],
      "text/plain": [
       "              KNN         MF\n",
       "dw      55.305178  47.696584\n",
       "fridge  30.453563  24.913120\n",
       "hvac    27.268441  21.297561\n",
       "mw      49.199756  41.601952\n",
       "oven    51.708601  48.164685\n",
       "wm      43.735111  43.707236"
      ]
     },
     "execution_count": 31,
     "metadata": {},
     "output_type": "execute_result"
    }
   ],
   "source": [
    "pd.DataFrame(results)"
   ]
  },
  {
   "cell_type": "code",
   "execution_count": 100,
   "metadata": {
    "collapsed": false
   },
   "outputs": [
    {
     "name": "stdout",
     "output_type": "stream",
     "text": [
      "fridge 57.3978457853\n",
      "hvac 55.0774075892\n",
      "dw 51.1713352881\n",
      "mw 57.3493816955\n",
      "wm 53.9492074301\n",
      "oven 55.2763277251\n"
     ]
    }
   ],
   "source": [
    "for appliance in ['fridge','hvac','dw','mw','wm','oven']:\n",
    "    mf_best = mf_pred[appliance][best_combination[appliance][0]][best_combination[appliance][1]]\n",
    "    knn_best = knn_results[appliance]\n",
    "    mf_best.columns = knn_best.columns\n",
    "    common_index = np.intersect1d(mf_best.index, knn_best.index)\n",
    "    mf_best = mf_best.ix[common_index]\n",
    "    knn_best = knn_best.ix[common_index]\n",
    "    knn_best_copy = knn_best.copy()\n",
    "    mf_best_copy = mf_best.copy()\n",
    "    max_two = (mf_best_copy.where(mf_best_copy > knn_best_copy, knn_best_copy).fillna(mf_best_copy))\n",
    "    print appliance,100*((-mf_best+knn_best)/max_two).unstack().std()"
   ]
  },
  {
   "cell_type": "code",
   "execution_count": null,
   "metadata": {
    "collapsed": true
   },
   "outputs": [],
   "source": [
    "Calculating win/loss"
   ]
  },
  {
   "cell_type": "code",
   "execution_count": 97,
   "metadata": {
    "collapsed": false
   },
   "outputs": [
    {
     "name": "stdout",
     "output_type": "stream",
     "text": [
      "fridge\n",
      "hvac\n",
      "dw\n",
      "mw\n",
      "wm\n",
      "oven\n"
     ]
    }
   ],
   "source": [
    "o = {}\n",
    "for appliance in ['fridge','hvac','dw','mw','wm','oven']:\n",
    "    print appliance\n",
    "    mf_best_pred = mf_pred[appliance][best_combination[appliance][0]][best_combination[appliance][1]]\n",
    "    knn_best_pred = knn_results[appliance]\n",
    "    mf_best_pred.columns = knn_best_pred.columns\n",
    "    common_index = np.intersect1d(mf_best_pred.index, knn_best_pred.index)\n",
    "    region = \"Austin\"\n",
    "    df = out_overall[region]\n",
    "    pred_df = mf_pred[appliance][appliance_feature][latent_factors]\n",
    "    gt_df = df[pred_df.columns].ix[pred_df.index]\n",
    "    mf_best_pred = mf_best_pred.ix[common_index]\n",
    "    knn_best_pred = knn_best_pred.ix[common_index]\n",
    "    error_mf = (gt_df-mf_best_pred).abs()\n",
    "    error_knn = (gt_df-knn_best_pred).abs()\n",
    "    win = (error_knn>error_mf).sum().sum()\n",
    "    loss = (error_knn<error_mf).sum().sum()\n",
    "   \n",
    "    o[appliance]={'win':win, \"loss\":loss, \"win/loss\":win*1./loss,\"win/(win_loss)\":win*1./(win+loss)} "
   ]
  },
  {
   "cell_type": "code",
   "execution_count": 98,
   "metadata": {
    "collapsed": false
   },
   "outputs": [
    {
     "data": {
      "text/html": [
       "<div>\n",
       "<table border=\"1\" class=\"dataframe\">\n",
       "  <thead>\n",
       "    <tr style=\"text-align: right;\">\n",
       "      <th></th>\n",
       "      <th>loss</th>\n",
       "      <th>win</th>\n",
       "      <th>win/(win_loss)</th>\n",
       "      <th>win/loss</th>\n",
       "    </tr>\n",
       "  </thead>\n",
       "  <tbody>\n",
       "    <tr>\n",
       "      <th>dw</th>\n",
       "      <td>288</td>\n",
       "      <td>408</td>\n",
       "      <td>0.586207</td>\n",
       "      <td>1.416667</td>\n",
       "    </tr>\n",
       "    <tr>\n",
       "      <th>fridge</th>\n",
       "      <td>423</td>\n",
       "      <td>393</td>\n",
       "      <td>0.481618</td>\n",
       "      <td>0.929078</td>\n",
       "    </tr>\n",
       "    <tr>\n",
       "      <th>hvac</th>\n",
       "      <td>277</td>\n",
       "      <td>293</td>\n",
       "      <td>0.514035</td>\n",
       "      <td>1.057762</td>\n",
       "    </tr>\n",
       "    <tr>\n",
       "      <th>mw</th>\n",
       "      <td>249</td>\n",
       "      <td>315</td>\n",
       "      <td>0.558511</td>\n",
       "      <td>1.265060</td>\n",
       "    </tr>\n",
       "    <tr>\n",
       "      <th>oven</th>\n",
       "      <td>179</td>\n",
       "      <td>181</td>\n",
       "      <td>0.502778</td>\n",
       "      <td>1.011173</td>\n",
       "    </tr>\n",
       "    <tr>\n",
       "      <th>wm</th>\n",
       "      <td>358</td>\n",
       "      <td>338</td>\n",
       "      <td>0.485632</td>\n",
       "      <td>0.944134</td>\n",
       "    </tr>\n",
       "  </tbody>\n",
       "</table>\n",
       "</div>"
      ],
      "text/plain": [
       "        loss  win  win/(win_loss)  win/loss\n",
       "dw       288  408        0.586207  1.416667\n",
       "fridge   423  393        0.481618  0.929078\n",
       "hvac     277  293        0.514035  1.057762\n",
       "mw       249  315        0.558511  1.265060\n",
       "oven     179  181        0.502778  1.011173\n",
       "wm       358  338        0.485632  0.944134"
      ]
     },
     "execution_count": 98,
     "metadata": {},
     "output_type": "execute_result"
    }
   ],
   "source": [
    "pd.DataFrame(o).T"
   ]
  },
  {
   "cell_type": "code",
   "execution_count": 92,
   "metadata": {
    "collapsed": false
   },
   "outputs": [
    {
     "data": {
      "text/plain": [
       "(Index([u'hvac_5', u'hvac_6', u'hvac_7', u'hvac_8', u'hvac_9', u'hvac_10'], dtype='object'),\n",
       " Index([u'hvac_5', u'hvac_6', u'hvac_7', u'hvac_8', u'hvac_9', u'hvac_10'], dtype='object'))"
      ]
     },
     "execution_count": 92,
     "metadata": {},
     "output_type": "execute_result"
    }
   ],
   "source": [
    "knn_best_pred.columns, mf_best_pred.columns"
   ]
  },
  {
   "cell_type": "code",
   "execution_count": 118,
   "metadata": {
    "collapsed": false
   },
   "outputs": [
    {
     "data": {
      "text/plain": [
       "51.70860070119945"
      ]
     },
     "execution_count": 118,
     "metadata": {},
     "output_type": "execute_result"
    }
   ],
   "source": [
    "knn_best.median().mean()"
   ]
  },
  {
   "cell_type": "code",
   "execution_count": 119,
   "metadata": {
    "collapsed": false
   },
   "outputs": [
    {
     "data": {
      "text/plain": [
       "'oven'"
      ]
     },
     "execution_count": 119,
     "metadata": {},
     "output_type": "execute_result"
    }
   ],
   "source": [
    "appliance"
   ]
  },
  {
   "cell_type": "code",
   "execution_count": 112,
   "metadata": {
    "collapsed": false
   },
   "outputs": [
    {
     "data": {
      "text/plain": [
       "59       0\n",
       "457     11\n",
       "499     11\n",
       "954     11\n",
       "2907    11\n",
       "3510    10\n",
       "3893     0\n",
       "4856    11\n",
       "5718    11\n",
       "8419     0\n",
       "dtype: int64"
      ]
     },
     "execution_count": 112,
     "metadata": {},
     "output_type": "execute_result"
    }
   ],
   "source": [
    "a=(gt_df>10).sum(axis=1)\n",
    "a[a<12]"
   ]
  },
  {
   "cell_type": "code",
   "execution_count": null,
   "metadata": {
    "collapsed": true
   },
   "outputs": [],
   "source": []
  }
 ],
 "metadata": {
  "kernelspec": {
   "display_name": "Python 2",
   "language": "python",
   "name": "python2"
  },
  "language_info": {
   "codemirror_mode": {
    "name": "ipython",
    "version": 2
   },
   "file_extension": ".py",
   "mimetype": "text/x-python",
   "name": "python",
   "nbconvert_exporter": "python",
   "pygments_lexer": "ipython2",
   "version": "2.7.11"
  }
 },
 "nbformat": 4,
 "nbformat_minor": 0
}
