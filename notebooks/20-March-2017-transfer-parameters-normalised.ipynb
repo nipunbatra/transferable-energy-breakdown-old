{
 "cells": [
  {
   "cell_type": "markdown",
   "metadata": {},
   "source": [
    "### Date: 20 March 2017"
   ]
  },
  {
   "cell_type": "markdown",
   "metadata": {},
   "source": [
    "Aim: The aim of this notebook is to learn parameters from Austin region and use them to predict for San Diego region."
   ]
  },
  {
   "cell_type": "code",
   "execution_count": 1,
   "metadata": {
    "collapsed": true
   },
   "outputs": [],
   "source": [
    "import sys"
   ]
  },
  {
   "cell_type": "code",
   "execution_count": 2,
   "metadata": {
    "collapsed": false
   },
   "outputs": [],
   "source": [
    "sys.path.append(\"../code/\")"
   ]
  },
  {
   "cell_type": "code",
   "execution_count": 3,
   "metadata": {
    "collapsed": true
   },
   "outputs": [],
   "source": [
    "%matplotlib inline\n",
    "import matplotlib.pyplot as plt"
   ]
  },
  {
   "cell_type": "code",
   "execution_count": 4,
   "metadata": {
    "collapsed": false
   },
   "outputs": [],
   "source": [
    "import sys, traceback\n",
    "from docopt import docopt\n",
    "import pandas as pd\n",
    "import time\n",
    "import numpy as np\n",
    "import os\n",
    "np.random.seed(0)\n",
    "\n",
    "from common_functions import create_region_df, features_dict, create_feature_combinations, create_df_main\n",
    "from matrix_factorisation import nmf_features, prepare_df_factorisation,prepare_known_features, create_matrix_factorised, create_prediction"
   ]
  },
  {
   "cell_type": "markdown",
   "metadata": {},
   "source": [
    "## Learning the appliance factors for fridge from Austin regin"
   ]
  },
  {
   "cell_type": "code",
   "execution_count": 5,
   "metadata": {
    "collapsed": false
   },
   "outputs": [],
   "source": [
    "year=2014\n",
    "seed = 0\n",
    "test_home=54\n",
    "train_regions = [\"Austin\",\"Boulder\",\"SanDiego\"]\n",
    "train_fraction_dict = {region:0 for region in train_regions}\n",
    "train_fraction_dict['Austin']=1.0\n",
    "test_region = 'Austin'\n",
    "feature_list = ['energy','home']\n",
    "appliance=\"fridge\"\n",
    "feature_comb = ['None']\n",
    "lat = 2"
   ]
  },
  {
   "cell_type": "code",
   "execution_count": 6,
   "metadata": {
    "collapsed": false
   },
   "outputs": [],
   "source": [
    "df, dfc, X_matrix, X_normalised, col_max, col_min, \\\n",
    "    appliance_cols, aggregate_cols, static_features, max_f = prepare_df_factorisation(appliance, year, train_regions,\n",
    "                                                                                      train_fraction_dict,\n",
    "                                                                                     test_region, test_home,\n",
    "                                                                                     feature_list, seed, 3000, 0)"
   ]
  },
  {
   "cell_type": "code",
   "execution_count": 7,
   "metadata": {
    "collapsed": true
   },
   "outputs": [],
   "source": [
    "def f(year, seed, test_home, train_regions, train_fraction_dict,test_region\n",
    "              , feature_list, appliance, feature_comb, lat, idx_item=None, data_item=None):\n",
    "    df, dfc, X_matrix, X_normalised, col_max, col_min, \\\n",
    "    appliance_cols, aggregate_cols, static_features, max_f = prepare_df_factorisation(appliance, year, train_regions,\n",
    "                                                                                      train_fraction_dict,\n",
    "                                                                                     test_region, test_home,\n",
    "                                                                                     feature_list, seed, 3000, 0)\n",
    "\n",
    "    idx_user, data_user = prepare_known_features(feature_comb, static_features, X_normalised)\n",
    "\n",
    "    A = create_matrix_factorised(appliance, test_home, X_normalised)\n",
    "    X, Y, res = nmf_features(A=A, k=lat, constant=0.01, regularisation=False,\n",
    "                        idx_user=idx_user, data_user=data_user,\n",
    "                         idx_item=idx_item, data_item=data_item, MAX_ITERS=10)\n",
    "    return X, Y, res, df\n",
    "    \n"
   ]
  },
  {
   "cell_type": "code",
   "execution_count": 8,
   "metadata": {
    "collapsed": false
   },
   "outputs": [],
   "source": [
    "X_austin ={}\n",
    "Y_austin= {}\n",
    "for appliance in ['fridge','hvac']:\n",
    "    X_austin[appliance], Y_austin[appliance], res_sd, df_austin = f(year, seed, 22, train_regions, {\"Austin\":1.0,\"Boulder\":0,\"SanDiego\":0}, \n",
    "              \"Austin\", feature_list, appliance, feature_comb, lat)"
   ]
  },
  {
   "cell_type": "code",
   "execution_count": 9,
   "metadata": {
    "collapsed": true
   },
   "outputs": [],
   "source": [
    "from common_functions import valid_homes_data"
   ]
  },
  {
   "cell_type": "code",
   "execution_count": 10,
   "metadata": {
    "collapsed": true
   },
   "outputs": [],
   "source": [
    "year=2014\n",
    "seed = 0\n",
    "train_regions = [\"Austin\",\"Boulder\",\"SanDiego\"]\n",
    "train_fraction_dict = {region:0 for region in train_regions}\n",
    "train_fraction_dict['SanDiego']=1.0\n",
    "test_region = 'SanDiego'\n",
    "feature_list = ['energy','home']\n",
    "feature_comb = ['None']\n",
    "lat = 2"
   ]
  },
  {
   "cell_type": "code",
   "execution_count": 11,
   "metadata": {
    "collapsed": true
   },
   "outputs": [],
   "source": [
    "import sys"
   ]
  },
  {
   "cell_type": "code",
   "execution_count": 12,
   "metadata": {
    "collapsed": false
   },
   "outputs": [
    {
     "name": "stdout",
     "output_type": "stream",
     "text": [
      "fridge\n",
      "54\n",
      "203\n",
      "1450\n",
      "1524\n",
      "1731\n",
      "3687\n",
      "3864\n",
      "3938\n",
      "4095\n",
      "4329\n",
      "4495\n",
      "4934\n",
      "5938\n",
      "6377\n",
      "6429\n",
      "6497\n",
      "6547\n",
      "7062\n",
      "7114\n",
      "7409\n",
      "7639\n",
      "8061\n",
      "8342\n",
      "8574\n",
      "8733\n",
      "9213\n",
      "9370\n",
      "9585\n",
      "9612\n",
      "9775\n",
      "9836\n",
      "54\n",
      "203\n",
      "1450\n",
      "1524\n",
      "1731\n",
      "3687\n",
      "3864\n",
      "3938\n",
      "4095\n",
      "4329\n",
      "4495\n",
      "4934\n",
      "5938\n",
      "6377\n",
      "6429\n",
      "6497\n",
      "6547\n",
      "7062\n",
      "7114\n",
      "7409\n",
      "7639\n",
      "8061\n",
      "8342\n",
      "8574\n",
      "8733\n",
      "9213\n",
      "9370\n",
      "9585\n",
      "9612\n",
      "9775\n",
      "9836\n",
      "hvac\n",
      "54\n",
      "203\n",
      "527\n",
      "1450\n",
      "1524\n",
      "1731\n",
      "2031\n",
      "2354\n",
      "2606\n",
      "3687\n",
      "3864\n",
      "3938\n",
      "4083\n",
      "4095\n",
      "4495\n",
      "4761\n",
      "4934\n",
      "5938\n",
      "6377\n",
      "6429\n",
      "6497\n",
      "6547\n",
      "7062\n",
      "7114\n",
      "7409\n",
      "7639\n",
      "8061\n",
      "8342\n",
      "8574\n",
      "8733\n",
      "9213\n",
      "9370\n",
      "9585\n",
      "9612\n",
      "9775\n",
      "9836\n",
      "54\n",
      "203\n",
      "527\n",
      "1450\n",
      "1524\n",
      "1731\n",
      "2031\n",
      "2354\n",
      "2606\n",
      "3687\n",
      "3864\n",
      "3938\n",
      "4083\n",
      "4095\n",
      "4495\n",
      "4761\n",
      "4934\n",
      "5938\n",
      "6377\n",
      "6429\n",
      "6497\n",
      "6547\n",
      "7062\n",
      "7114\n",
      "7409\n",
      "7639\n",
      "8061\n",
      "8342\n",
      "8574\n",
      "8733\n",
      "9213\n",
      "9370\n",
      "9585\n",
      "9612\n",
      "9775\n",
      "9836\n"
     ]
    }
   ],
   "source": [
    "out = {}\n",
    "for appliance in ['fridge','hvac']:\n",
    "    print appliance\n",
    "    out[appliance] = {}\n",
    "    for reuse_factors in [True, False]:\n",
    "\n",
    "        out[appliance][reuse_factors]={}\n",
    "        total = 1.0*len(valid_homes_data)\n",
    "        for i, test_home in enumerate(valid_homes_data['SanDiego'][appliance][:]):\n",
    "            print test_home\n",
    "            df, dfc, X_matrix, X_normalised, col_max, col_min, appliance_cols, aggregate_cols, static_features, max_f = prepare_df_factorisation(appliance, year, train_regions,\n",
    "                                                                                              train_fraction_dict,\n",
    "                                                                                             test_region, test_home,\n",
    "                                                                                             feature_list, seed, 3000, 0)\n",
    "\n",
    "            idx_user, data_user = prepare_known_features(feature_comb, static_features, X_normalised)\n",
    "            A = create_matrix_factorised(appliance, test_home, X_normalised)\n",
    "\n",
    "            if reuse_factors:\n",
    "                from collections import OrderedDict\n",
    "                data_items = OrderedDict()\n",
    "                idx_items = OrderedDict()\n",
    "\n",
    "                for count in range(X_austin[appliance].shape[0]):\n",
    "                    data_items['lat_%d' %count] = np.array(X_austin[appliance][count]).flatten()\n",
    "                    idx_items['lat_%d' %count] = np.array(range(X_austin[appliance][count].size))\n",
    "            else:\n",
    "\n",
    "                data_items = None\n",
    "                idx_items = None\n",
    "            X, Y, res = nmf_features(A=A, k=lat, constant=0.01, regularisation=False,\n",
    "                                idx_user=idx_user, data_user=data_user,\n",
    "                                 idx_item=idx_items, data_item=data_items, MAX_ITERS=10)\n",
    "            pred_df = create_prediction(test_home, X, Y, X_normalised, appliance,\n",
    "                                   col_max, col_min, appliance_cols)\n",
    "            out[appliance][reuse_factors][test_home]=pred_df"
   ]
  },
  {
   "cell_type": "code",
   "execution_count": 49,
   "metadata": {
    "collapsed": false
   },
   "outputs": [
    {
     "data": {
      "text/plain": [
       "hvac_5      88.919244\n",
       "hvac_6      64.771631\n",
       "hvac_7     164.734160\n",
       "hvac_8     182.733879\n",
       "hvac_9     213.462511\n",
       "hvac_10     82.308020\n",
       "dtype: float64"
      ]
     },
     "execution_count": 49,
     "metadata": {},
     "output_type": "execute_result"
    }
   ],
   "source": [
    "pd.DataFrame(out['hvac'][False]).mean(axis=1)"
   ]
  },
  {
   "cell_type": "code",
   "execution_count": 50,
   "metadata": {
    "collapsed": false
   },
   "outputs": [
    {
     "data": {
      "text/plain": [
       "hvac_5      50.774597\n",
       "hvac_6     107.139685\n",
       "hvac_7     125.101681\n",
       "hvac_8     156.090496\n",
       "hvac_9     111.995198\n",
       "hvac_10     68.843856\n",
       "dtype: float64"
      ]
     },
     "execution_count": 50,
     "metadata": {},
     "output_type": "execute_result"
    }
   ],
   "source": [
    "pd.DataFrame(out['hvac'][True]).mean(axis=1)"
   ]
  },
  {
   "cell_type": "code",
   "execution_count": 18,
   "metadata": {
    "collapsed": false
   },
   "outputs": [],
   "source": [
    "from common_functions import compute_rmse_fraction"
   ]
  },
  {
   "cell_type": "code",
   "execution_count": 19,
   "metadata": {
    "collapsed": false
   },
   "outputs": [],
   "source": [
    "res = {}\n",
    "for appliance in ['hvac','fridge']:\n",
    "    res[appliance] = {}\n",
    "    for reuse_factors in [True, False]:\n",
    "        if reuse_factors:\n",
    "            string = \"Transferred from Austin\"\n",
    "        else:\n",
    "            string = \"Learnt from SD\"\n",
    "        res[appliance][string] =compute_rmse_fraction(appliance,pd.DataFrame(out[appliance][reuse_factors]).T,\n",
    "                                                             \"SanDiego\")[2]\n",
    "\n"
   ]
  },
  {
   "cell_type": "code",
   "execution_count": 23,
   "metadata": {
    "collapsed": false
   },
   "outputs": [
    {
     "data": {
      "image/png": "[encoded data removed]",
      "text/plain": [
       "<matplotlib.figure.Figure at 0x10e66a450>"
      ]
     },
     "metadata": {},
     "output_type": "display_data"
    }
   ],
   "source": [
    "from plot_functions import autolabel, latexify, tableau20blind, format_axes\n",
    "latexify()\n",
    "ax = pd.DataFrame(res).T.plot(kind=\"bar\",rot=0, colors=tableau20blind[::2])\n",
    "plt.ylabel(\"RMS error \\n(Lower is better)\")\n",
    "rects = ax.patches\n",
    "autolabel(rects, ax)\n",
    "format_axes(ax)\n",
    "plt.savefig(\"/Users/nipunbatra/git/scalable-nilm/results/transfer.png\",bbox_inches=\"tight\")\n",
    "plt.savefig(\"/Users/nipunbatra/git/scalable-nilm/results/transfer.pdf\",bbox_inches=\"tight\")"
   ]
  },
  {
   "cell_type": "code",
   "execution_count": 29,
   "metadata": {
    "collapsed": false
   },
   "outputs": [],
   "source": [
    "difference_fraction = {}\n",
    "for appliance in ['hvac','fridge']:\n",
    "    difference_fraction[appliance] = {}\n",
    "    for reuse_factors in [True, False]:\n",
    "        if reuse_factors:\n",
    "            string = \"Transferred from Austin\"\n",
    "        else:\n",
    "            string = \"Learnt from SD\"\n",
    "        gtf, prf, rms = compute_rmse_fraction(appliance,pd.DataFrame(out[appliance][reuse_factors]).T,\n",
    "                                                             \"SanDiego\")\n",
    "        errors[appliance][string] = (prf-gtf).mean().mean()\n"
   ]
  },
  {
   "cell_type": "code",
   "execution_count": 39,
   "metadata": {
    "collapsed": false
   },
   "outputs": [],
   "source": [
    "appliance=\"hvac\"\n",
    "gtf, prf, rms = compute_rmse_fraction(appliance,pd.DataFrame(out[appliance][False]).T,\n",
    "                                                             \"SanDiego\")"
   ]
  },
  {
   "cell_type": "code",
   "execution_count": 40,
   "metadata": {
    "collapsed": false
   },
   "outputs": [],
   "source": [
    "gtf_au, prf_au, rms = compute_rmse_fraction(appliance,pd.DataFrame(out[appliance][True]).T,\n",
    "                                                             \"SanDiego\")"
   ]
  },
  {
   "cell_type": "code",
   "execution_count": 43,
   "metadata": {
    "collapsed": false
   },
   "outputs": [
    {
     "data": {
      "text/html": [
       "<div>\n",
       "<table border=\"1\" class=\"dataframe\">\n",
       "  <thead>\n",
       "    <tr style=\"text-align: right;\">\n",
       "      <th></th>\n",
       "      <th>hvac_5</th>\n",
       "      <th>hvac_6</th>\n",
       "      <th>hvac_7</th>\n",
       "      <th>hvac_8</th>\n",
       "      <th>hvac_9</th>\n",
       "      <th>hvac_10</th>\n",
       "    </tr>\n",
       "  </thead>\n",
       "  <tbody>\n",
       "    <tr>\n",
       "      <th>count</th>\n",
       "      <td>32.000000</td>\n",
       "      <td>33.000000</td>\n",
       "      <td>36.000000</td>\n",
       "      <td>36.000000</td>\n",
       "      <td>33.000000</td>\n",
       "      <td>30.000000</td>\n",
       "    </tr>\n",
       "    <tr>\n",
       "      <th>mean</th>\n",
       "      <td>20.435769</td>\n",
       "      <td>13.950783</td>\n",
       "      <td>31.686473</td>\n",
       "      <td>32.135224</td>\n",
       "      <td>36.231193</td>\n",
       "      <td>21.352196</td>\n",
       "    </tr>\n",
       "    <tr>\n",
       "      <th>std</th>\n",
       "      <td>9.082356</td>\n",
       "      <td>9.778481</td>\n",
       "      <td>11.545395</td>\n",
       "      <td>9.591072</td>\n",
       "      <td>8.839744</td>\n",
       "      <td>7.257142</td>\n",
       "    </tr>\n",
       "    <tr>\n",
       "      <th>min</th>\n",
       "      <td>6.762588</td>\n",
       "      <td>-0.924343</td>\n",
       "      <td>13.944217</td>\n",
       "      <td>14.392527</td>\n",
       "      <td>18.839719</td>\n",
       "      <td>5.284921</td>\n",
       "    </tr>\n",
       "    <tr>\n",
       "      <th>25%</th>\n",
       "      <td>13.700517</td>\n",
       "      <td>5.077595</td>\n",
       "      <td>23.186018</td>\n",
       "      <td>24.327553</td>\n",
       "      <td>29.850137</td>\n",
       "      <td>17.716894</td>\n",
       "    </tr>\n",
       "    <tr>\n",
       "      <th>50%</th>\n",
       "      <td>19.132000</td>\n",
       "      <td>15.579229</td>\n",
       "      <td>31.430446</td>\n",
       "      <td>32.097923</td>\n",
       "      <td>37.555795</td>\n",
       "      <td>21.105869</td>\n",
       "    </tr>\n",
       "    <tr>\n",
       "      <th>75%</th>\n",
       "      <td>24.668757</td>\n",
       "      <td>20.136384</td>\n",
       "      <td>37.294609</td>\n",
       "      <td>37.733352</td>\n",
       "      <td>42.400953</td>\n",
       "      <td>24.399107</td>\n",
       "    </tr>\n",
       "    <tr>\n",
       "      <th>max</th>\n",
       "      <td>42.412478</td>\n",
       "      <td>35.534735</td>\n",
       "      <td>72.188101</td>\n",
       "      <td>59.436813</td>\n",
       "      <td>60.682946</td>\n",
       "      <td>39.959139</td>\n",
       "    </tr>\n",
       "  </tbody>\n",
       "</table>\n",
       "</div>"
      ],
      "text/plain": [
       "          hvac_5     hvac_6     hvac_7     hvac_8     hvac_9    hvac_10\n",
       "count  32.000000  33.000000  36.000000  36.000000  33.000000  30.000000\n",
       "mean   20.435769  13.950783  31.686473  32.135224  36.231193  21.352196\n",
       "std     9.082356   9.778481  11.545395   9.591072   8.839744   7.257142\n",
       "min     6.762588  -0.924343  13.944217  14.392527  18.839719   5.284921\n",
       "25%    13.700517   5.077595  23.186018  24.327553  29.850137  17.716894\n",
       "50%    19.132000  15.579229  31.430446  32.097923  37.555795  21.105869\n",
       "75%    24.668757  20.136384  37.294609  37.733352  42.400953  24.399107\n",
       "max    42.412478  35.534735  72.188101  59.436813  60.682946  39.959139"
      ]
     },
     "execution_count": 43,
     "metadata": {},
     "output_type": "execute_result"
    }
   ],
   "source": [
    "prf.describe()"
   ]
  },
  {
   "cell_type": "code",
   "execution_count": 44,
   "metadata": {
    "collapsed": false
   },
   "outputs": [
    {
     "data": {
      "text/html": [
       "<div>\n",
       "<table border=\"1\" class=\"dataframe\">\n",
       "  <thead>\n",
       "    <tr style=\"text-align: right;\">\n",
       "      <th></th>\n",
       "      <th>hvac_5</th>\n",
       "      <th>hvac_6</th>\n",
       "      <th>hvac_7</th>\n",
       "      <th>hvac_8</th>\n",
       "      <th>hvac_9</th>\n",
       "      <th>hvac_10</th>\n",
       "    </tr>\n",
       "  </thead>\n",
       "  <tbody>\n",
       "    <tr>\n",
       "      <th>count</th>\n",
       "      <td>32.000000</td>\n",
       "      <td>33.000000</td>\n",
       "      <td>36.000000</td>\n",
       "      <td>36.000000</td>\n",
       "      <td>33.000000</td>\n",
       "      <td>30.000000</td>\n",
       "    </tr>\n",
       "    <tr>\n",
       "      <th>mean</th>\n",
       "      <td>13.090966</td>\n",
       "      <td>29.655388</td>\n",
       "      <td>24.000917</td>\n",
       "      <td>28.569353</td>\n",
       "      <td>20.337267</td>\n",
       "      <td>18.705190</td>\n",
       "    </tr>\n",
       "    <tr>\n",
       "      <th>std</th>\n",
       "      <td>7.651326</td>\n",
       "      <td>14.693231</td>\n",
       "      <td>11.309821</td>\n",
       "      <td>14.596611</td>\n",
       "      <td>12.466929</td>\n",
       "      <td>14.607577</td>\n",
       "    </tr>\n",
       "    <tr>\n",
       "      <th>min</th>\n",
       "      <td>6.462837</td>\n",
       "      <td>16.325651</td>\n",
       "      <td>12.696327</td>\n",
       "      <td>16.366930</td>\n",
       "      <td>10.102777</td>\n",
       "      <td>9.006837</td>\n",
       "    </tr>\n",
       "    <tr>\n",
       "      <th>25%</th>\n",
       "      <td>9.157160</td>\n",
       "      <td>19.203693</td>\n",
       "      <td>17.350162</td>\n",
       "      <td>19.883750</td>\n",
       "      <td>13.398831</td>\n",
       "      <td>11.939282</td>\n",
       "    </tr>\n",
       "    <tr>\n",
       "      <th>50%</th>\n",
       "      <td>10.187399</td>\n",
       "      <td>23.607309</td>\n",
       "      <td>19.642749</td>\n",
       "      <td>22.601932</td>\n",
       "      <td>15.779995</td>\n",
       "      <td>13.563312</td>\n",
       "    </tr>\n",
       "    <tr>\n",
       "      <th>75%</th>\n",
       "      <td>14.025699</td>\n",
       "      <td>32.328218</td>\n",
       "      <td>25.247389</td>\n",
       "      <td>27.611098</td>\n",
       "      <td>17.435926</td>\n",
       "      <td>17.647480</td>\n",
       "    </tr>\n",
       "    <tr>\n",
       "      <th>max</th>\n",
       "      <td>40.630312</td>\n",
       "      <td>65.530177</td>\n",
       "      <td>60.012450</td>\n",
       "      <td>70.151293</td>\n",
       "      <td>55.562191</td>\n",
       "      <td>78.764302</td>\n",
       "    </tr>\n",
       "  </tbody>\n",
       "</table>\n",
       "</div>"
      ],
      "text/plain": [
       "          hvac_5     hvac_6     hvac_7     hvac_8     hvac_9    hvac_10\n",
       "count  32.000000  33.000000  36.000000  36.000000  33.000000  30.000000\n",
       "mean   13.090966  29.655388  24.000917  28.569353  20.337267  18.705190\n",
       "std     7.651326  14.693231  11.309821  14.596611  12.466929  14.607577\n",
       "min     6.462837  16.325651  12.696327  16.366930  10.102777   9.006837\n",
       "25%     9.157160  19.203693  17.350162  19.883750  13.398831  11.939282\n",
       "50%    10.187399  23.607309  19.642749  22.601932  15.779995  13.563312\n",
       "75%    14.025699  32.328218  25.247389  27.611098  17.435926  17.647480\n",
       "max    40.630312  65.530177  60.012450  70.151293  55.562191  78.764302"
      ]
     },
     "execution_count": 44,
     "metadata": {},
     "output_type": "execute_result"
    }
   ],
   "source": [
    "prf_au.describe()"
   ]
  },
  {
   "cell_type": "code",
   "execution_count": 51,
   "metadata": {
    "collapsed": true
   },
   "outputs": [],
   "source": [
    "X_sd ={}\n",
    "Y_sd= {}\n",
    "for appliance in ['fridge','hvac']:\n",
    "    X_sd[appliance], Y_sd[appliance], res_sd, df_austin = f(year, seed, 54, train_regions, {\"Austin\":0.0,\"Boulder\":0,\"SanDiego\":1.0}, \n",
    "              \"SanDiego\", feature_list, appliance, feature_comb, lat)"
   ]
  },
  {
   "cell_type": "code",
   "execution_count": 55,
   "metadata": {
    "collapsed": false
   },
   "outputs": [
    {
     "data": {
      "text/html": [
       "<div>\n",
       "<table border=\"1\" class=\"dataframe\">\n",
       "  <thead>\n",
       "    <tr style=\"text-align: right;\">\n",
       "      <th></th>\n",
       "      <th>0</th>\n",
       "      <th>1</th>\n",
       "    </tr>\n",
       "  </thead>\n",
       "  <tbody>\n",
       "    <tr>\n",
       "      <th>count</th>\n",
       "      <td>24.000000</td>\n",
       "      <td>2.400000e+01</td>\n",
       "    </tr>\n",
       "    <tr>\n",
       "      <th>mean</th>\n",
       "      <td>0.075765</td>\n",
       "      <td>4.067299e-02</td>\n",
       "    </tr>\n",
       "    <tr>\n",
       "      <th>std</th>\n",
       "      <td>0.067250</td>\n",
       "      <td>4.539273e-02</td>\n",
       "    </tr>\n",
       "    <tr>\n",
       "      <th>min</th>\n",
       "      <td>0.007702</td>\n",
       "      <td>5.635644e-07</td>\n",
       "    </tr>\n",
       "    <tr>\n",
       "      <th>25%</th>\n",
       "      <td>0.013728</td>\n",
       "      <td>9.385439e-03</td>\n",
       "    </tr>\n",
       "    <tr>\n",
       "      <th>50%</th>\n",
       "      <td>0.042781</td>\n",
       "      <td>1.056461e-02</td>\n",
       "    </tr>\n",
       "    <tr>\n",
       "      <th>75%</th>\n",
       "      <td>0.136164</td>\n",
       "      <td>5.680889e-02</td>\n",
       "    </tr>\n",
       "    <tr>\n",
       "      <th>max</th>\n",
       "      <td>0.182014</td>\n",
       "      <td>1.462089e-01</td>\n",
       "    </tr>\n",
       "  </tbody>\n",
       "</table>\n",
       "</div>"
      ],
      "text/plain": [
       "               0             1\n",
       "count  24.000000  2.400000e+01\n",
       "mean    0.075765  4.067299e-02\n",
       "std     0.067250  4.539273e-02\n",
       "min     0.007702  5.635644e-07\n",
       "25%     0.013728  9.385439e-03\n",
       "50%     0.042781  1.056461e-02\n",
       "75%     0.136164  5.680889e-02\n",
       "max     0.182014  1.462089e-01"
      ]
     },
     "execution_count": 55,
     "metadata": {},
     "output_type": "execute_result"
    }
   ],
   "source": [
    "pd.DataFrame(X_sd['fridge']).T.describe()"
   ]
  },
  {
   "cell_type": "code",
   "execution_count": 56,
   "metadata": {
    "collapsed": false
   },
   "outputs": [
    {
     "data": {
      "text/html": [
       "<div>\n",
       "<table border=\"1\" class=\"dataframe\">\n",
       "  <thead>\n",
       "    <tr style=\"text-align: right;\">\n",
       "      <th></th>\n",
       "      <th>0</th>\n",
       "      <th>1</th>\n",
       "    </tr>\n",
       "  </thead>\n",
       "  <tbody>\n",
       "    <tr>\n",
       "      <th>count</th>\n",
       "      <td>24.000000</td>\n",
       "      <td>24.000000</td>\n",
       "    </tr>\n",
       "    <tr>\n",
       "      <th>mean</th>\n",
       "      <td>0.117625</td>\n",
       "      <td>0.094027</td>\n",
       "    </tr>\n",
       "    <tr>\n",
       "      <th>std</th>\n",
       "      <td>0.110472</td>\n",
       "      <td>0.105944</td>\n",
       "    </tr>\n",
       "    <tr>\n",
       "      <th>min</th>\n",
       "      <td>0.009261</td>\n",
       "      <td>0.009268</td>\n",
       "    </tr>\n",
       "    <tr>\n",
       "      <th>25%</th>\n",
       "      <td>0.011389</td>\n",
       "      <td>0.013423</td>\n",
       "    </tr>\n",
       "    <tr>\n",
       "      <th>50%</th>\n",
       "      <td>0.099148</td>\n",
       "      <td>0.043909</td>\n",
       "    </tr>\n",
       "    <tr>\n",
       "      <th>75%</th>\n",
       "      <td>0.220648</td>\n",
       "      <td>0.133750</td>\n",
       "    </tr>\n",
       "    <tr>\n",
       "      <th>max</th>\n",
       "      <td>0.278372</td>\n",
       "      <td>0.347021</td>\n",
       "    </tr>\n",
       "  </tbody>\n",
       "</table>\n",
       "</div>"
      ],
      "text/plain": [
       "               0          1\n",
       "count  24.000000  24.000000\n",
       "mean    0.117625   0.094027\n",
       "std     0.110472   0.105944\n",
       "min     0.009261   0.009268\n",
       "25%     0.011389   0.013423\n",
       "50%     0.099148   0.043909\n",
       "75%     0.220648   0.133750\n",
       "max     0.278372   0.347021"
      ]
     },
     "execution_count": 56,
     "metadata": {},
     "output_type": "execute_result"
    }
   ],
   "source": [
    "pd.DataFrame(X_austin['fridge']).T.describe()"
   ]
  },
  {
   "cell_type": "code",
   "execution_count": null,
   "metadata": {
    "collapsed": false
   },
   "outputs": [],
   "source": [
    "X_fridge = pd.DataFrame({\"Austin\":np.array(X_fridge_austin).flatten(),'SanDiego':np.array(X_fridge_sd).flatten()})\n",
    "X_hvac = pd.DataFrame({\"Austin\":np.array(X_hvac_austin).flatten(),'SanDiego':np.array(X_hvac_sd).flatten()})"
   ]
  },
  {
   "cell_type": "code",
   "execution_count": null,
   "metadata": {
    "collapsed": false
   },
   "outputs": [],
   "source": [
    "X_fridge[:12].plot()\n",
    "plt.xlabel(\"Month of year\")\n",
    "plt.ylabel(\"Latent factors for fridge\")"
   ]
  },
  {
   "cell_type": "code",
   "execution_count": null,
   "metadata": {
    "collapsed": false
   },
   "outputs": [],
   "source": [
    "X_hvac[6:].plot()\n",
    "plt.xlabel(\"Month of year\")\n",
    "plt.ylabel(\"Latent factors for HVAC\")"
   ]
  },
  {
   "cell_type": "code",
   "execution_count": null,
   "metadata": {
    "collapsed": false
   },
   "outputs": [],
   "source": [
    "X_fridge.plot()"
   ]
  },
  {
   "cell_type": "markdown",
   "metadata": {
    "collapsed": true
   },
   "source": [
    "### Using the fridge latent factors from Austin region"
   ]
  },
  {
   "cell_type": "code",
   "execution_count": null,
   "metadata": {
    "collapsed": false
   },
   "outputs": [],
   "source": []
  },
  {
   "cell_type": "code",
   "execution_count": null,
   "metadata": {
    "collapsed": false
   },
   "outputs": [],
   "source": [
    "pd.DataFrame(X).head()"
   ]
  },
  {
   "cell_type": "code",
   "execution_count": null,
   "metadata": {
    "collapsed": false
   },
   "outputs": [],
   "source": [
    "pd.DataFrame(X_fridge_austin).head()"
   ]
  },
  {
   "cell_type": "code",
   "execution_count": null,
   "metadata": {
    "collapsed": true
   },
   "outputs": [],
   "source": []
  },
  {
   "cell_type": "code",
   "execution_count": null,
   "metadata": {
    "collapsed": false
   },
   "outputs": [],
   "source": [
    "X_fridge_sd, Y_fridge_sd, res_sd, df_fridge_sd = f(year, seed, 54, train_regions, {\"Austin\":0,\"Boulder\":0,\"SanDiego\":1}, \n",
    "              \"SanDiego\", feature_list, \"fridge\", feature_comb, lat)\n",
    "X_hvac_sd, Y_hvac_sd, res_sd, df_hvac_sd = f(year, seed, 54, train_regions, {\"Austin\":0,\"Boulder\":0,\"SanDiego\":1}, \n",
    "              \"SanDiego\", feature_list, \"hvac\", feature_comb, lat)"
   ]
  }
 ],
 "metadata": {
  "kernelspec": {
   "display_name": "Python 2",
   "language": "python",
   "name": "python2"
  },
  "language_info": {
   "codemirror_mode": {
    "name": "ipython",
    "version": 2
   },
   "file_extension": ".py",
   "mimetype": "text/x-python",
   "name": "python",
   "nbconvert_exporter": "python",
   "pygments_lexer": "ipython2",
   "version": "2.7.11"
  }
 },
 "nbformat": 4,
 "nbformat_minor": 0
}
