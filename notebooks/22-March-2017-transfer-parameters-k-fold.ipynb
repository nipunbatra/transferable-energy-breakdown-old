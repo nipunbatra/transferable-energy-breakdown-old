{
 "cells": [
  {
   "cell_type": "markdown",
   "metadata": {},
   "source": [
    "### Date: 22 March 2017"
   ]
  },
  {
   "cell_type": "markdown",
   "metadata": {},
   "source": [
    "Aim: The aim of this notebook is to learn parameters from Austin region and use them to predict for San Diego region.\n",
    "\n",
    "We will be computing three approaches.\n",
    "\n",
    "1. Oracle- uses all data from test (SD) region (leave-one-out CV)\n",
    "2. Transfer- uses all data from Austin to learn latent factors for appliance and a few homes (k-fold CV) from SD region\n",
    "3. No transfer- uses (k-fold CV) from SD region"
   ]
  },
  {
   "cell_type": "code",
   "execution_count": 1,
   "metadata": {
    "collapsed": true
   },
   "outputs": [],
   "source": [
    "import sys"
   ]
  },
  {
   "cell_type": "code",
   "execution_count": 2,
   "metadata": {
    "collapsed": false
   },
   "outputs": [],
   "source": [
    "sys.path.append(\"../code/\")"
   ]
  },
  {
   "cell_type": "code",
   "execution_count": 3,
   "metadata": {
    "collapsed": true
   },
   "outputs": [],
   "source": [
    "%matplotlib inline\n",
    "import matplotlib.pyplot as plt"
   ]
  },
  {
   "cell_type": "code",
   "execution_count": 4,
   "metadata": {
    "collapsed": false
   },
   "outputs": [],
   "source": [
    "import sys, traceback\n",
    "from docopt import docopt\n",
    "import pandas as pd\n",
    "import time\n",
    "import numpy as np\n",
    "import os\n",
    "np.random.seed(0)\n",
    "\n",
    "from common_functions import create_region_df, features_dict, create_feature_combinations, create_df_main\n",
    "from matrix_factorisation import nmf_features, prepare_df_factorisation,prepare_known_features, create_matrix_factorised, create_prediction"
   ]
  },
  {
   "cell_type": "markdown",
   "metadata": {},
   "source": [
    "## Learning the appliance factors for fridge from Austin regin"
   ]
  },
  {
   "cell_type": "code",
   "execution_count": 5,
   "metadata": {
    "collapsed": false
   },
   "outputs": [],
   "source": [
    "year=2014\n",
    "seed = 0\n",
    "test_home=54\n",
    "test_home_list = [test_home]\n",
    "train_regions = [\"Austin\",\"Boulder\",\"SanDiego\"]\n",
    "train_fraction_dict = {region:0 for region in train_regions}\n",
    "train_fraction_dict['Austin']=1.0\n",
    "test_region = 'Austin'\n",
    "feature_list = ['energy','home']\n",
    "appliance=\"fridge\"\n",
    "feature_comb = ['None']\n",
    "lat = 2"
   ]
  },
  {
   "cell_type": "code",
   "execution_count": 6,
   "metadata": {
    "collapsed": false
   },
   "outputs": [],
   "source": [
    "df, dfc, X_matrix, X_normalised, col_max, col_min, \\\n",
    "    appliance_cols, aggregate_cols, static_features, max_f = prepare_df_factorisation(appliance, year, train_regions,\n",
    "                                                                                      train_fraction_dict,\n",
    "                                                                                     test_region, test_home_list,\n",
    "                                                                                     feature_list, seed, 3000, 0)"
   ]
  },
  {
   "cell_type": "code",
   "execution_count": 7,
   "metadata": {
    "collapsed": true
   },
   "outputs": [],
   "source": [
    "def f(year, seed, test_home, train_regions, train_fraction_dict,test_region\n",
    "              , feature_list, appliance, feature_comb, lat, idx_item=None, data_item=None):\n",
    "    df, dfc, X_matrix, X_normalised, col_max, col_min, \\\n",
    "    appliance_cols, aggregate_cols, static_features, max_f = prepare_df_factorisation(appliance, year, train_regions,\n",
    "                                                                                      train_fraction_dict,\n",
    "                                                                                     test_region, test_home,\n",
    "                                                                                     feature_list, seed, 3000, 0)\n",
    "\n",
    "    idx_user, data_user = prepare_known_features(feature_comb, static_features, X_normalised)\n",
    "\n",
    "    A = create_matrix_factorised(appliance, test_home, X_normalised)\n",
    "    X, Y, res = nmf_features(A=A, k=lat, constant=0.01, regularisation=False,\n",
    "                        idx_user=idx_user, data_user=data_user,\n",
    "                         idx_item=idx_item, data_item=data_item, MAX_ITERS=10)\n",
    "    return X, Y, res, df"
   ]
  },
  {
   "cell_type": "code",
   "execution_count": 8,
   "metadata": {
    "collapsed": false
   },
   "outputs": [],
   "source": [
    "X_austin ={}\n",
    "Y_austin= {}\n",
    "for appliance in ['fridge','hvac']:\n",
    "    X_austin[appliance], Y_austin[appliance], res_sd, df_austin = f(year, seed, [22], train_regions, {\"Austin\":1.0,\"Boulder\":0,\"SanDiego\":0}, \n",
    "              \"Austin\", feature_list, appliance, feature_comb, lat)"
   ]
  },
  {
   "cell_type": "code",
   "execution_count": 9,
   "metadata": {
    "collapsed": true
   },
   "outputs": [],
   "source": [
    "from common_functions import valid_homes_data"
   ]
  },
  {
   "cell_type": "markdown",
   "metadata": {},
   "source": [
    "### Oracle"
   ]
  },
  {
   "cell_type": "code",
   "execution_count": 10,
   "metadata": {
    "collapsed": true
   },
   "outputs": [],
   "source": [
    "year=2014\n",
    "seed = 0\n",
    "train_regions = [\"Austin\",\"Boulder\",\"SanDiego\"]\n",
    "train_fraction_dict = {region:0 for region in train_regions}\n",
    "train_fraction_dict['SanDiego']=1.0\n",
    "test_region = 'SanDiego'\n",
    "feature_list = ['energy','home']\n",
    "feature_comb = ['None']\n",
    "lat = 2"
   ]
  },
  {
   "cell_type": "code",
   "execution_count": 11,
   "metadata": {
    "collapsed": true
   },
   "outputs": [],
   "source": [
    "import sys"
   ]
  },
  {
   "cell_type": "code",
   "execution_count": 141,
   "metadata": {
    "collapsed": false
   },
   "outputs": [],
   "source": [
    "def compute_oracle(lat):\n",
    "    out_oracle = {}\n",
    "    for appliance in ['fridge','hvac']:\n",
    "\n",
    "        out_oracle[appliance] = {}\n",
    "\n",
    "\n",
    "        for i, test_home in enumerate(valid_homes_data['SanDiego'][appliance][:]):\n",
    "            #print test_home\n",
    "            test_home_list=[test_home]\n",
    "            df, dfc, X_matrix, X_normalised, col_max, col_min, appliance_cols, aggregate_cols, static_features, max_f = prepare_df_factorisation(appliance, year, train_regions,\n",
    "                                                                                              train_fraction_dict,\n",
    "                                                                                             test_region, test_home_list,\n",
    "                                                                                             feature_list, seed, 3000, 0)\n",
    "\n",
    "            idx_user, data_user = prepare_known_features(feature_comb, static_features, X_normalised)\n",
    "            A = create_matrix_factorised(appliance, test_home_list, X_normalised)\n",
    "\n",
    "\n",
    "\n",
    "            data_items = None\n",
    "            idx_items = None\n",
    "            X, Y, res = nmf_features(A=A, k=lat, constant=0.01, regularisation=False,\n",
    "                                idx_user=idx_user, data_user=data_user,\n",
    "                                 idx_item=idx_items, data_item=data_items, MAX_ITERS=10)\n",
    "            pred_df = create_prediction(test_home, X, Y, X_normalised, appliance,\n",
    "                                   col_max, col_min, appliance_cols)\n",
    "            out_oracle[appliance][test_home]=pred_df\n",
    "    return out_oracle"
   ]
  },
  {
   "cell_type": "markdown",
   "metadata": {},
   "source": [
    "### Baseline (k-fold on same region, no transfer)"
   ]
  },
  {
   "cell_type": "code",
   "execution_count": 142,
   "metadata": {
    "collapsed": false
   },
   "outputs": [],
   "source": [
    "from sklearn.model_selection import KFold"
   ]
  },
  {
   "cell_type": "code",
   "execution_count": 143,
   "metadata": {
    "collapsed": false
   },
   "outputs": [],
   "source": [
    "def compute_baselines(lat):\n",
    "    out_baseline = {}\n",
    "    for appliance in ['fridge','hvac']:\n",
    "    #for appliance in ['fridge']:\n",
    "\n",
    "        out_baseline[appliance] = {}\n",
    "        for reuse_factors in [True, False]:\n",
    "        #for reuse_factors in [True]:\n",
    "            out_baseline[appliance][reuse_factors] = {}\n",
    "            n_splits=3\n",
    "            kf = KFold(n_splits=n_splits)\n",
    "            all_homes = valid_homes_data['SanDiego'][appliance][:]\n",
    "            temp = {}\n",
    "            for fold, (test_home_idx, train_home_idx) in enumerate(kf.split(all_homes)):\n",
    "                temp[fold] = {}\n",
    "\n",
    "                test_home_list = all_homes[test_home_idx]\n",
    "                train_home_list = all_homes[train_home_idx]\n",
    "                #print appliance, reuse_factors, test_home_list, fold\n",
    "                df, dfc, X_matrix, X_normalised, col_max, col_min, appliance_cols, aggregate_cols, static_features, max_f = prepare_df_factorisation(appliance, year, train_regions,\n",
    "                                                                                                  train_fraction_dict,\n",
    "                                                                                                 test_region, test_home_list,\n",
    "                                                                                                 feature_list, seed, 3000, 0)\n",
    "\n",
    "                idx_user, data_user = prepare_known_features(feature_comb, static_features, X_normalised)\n",
    "                A = create_matrix_factorised(appliance, test_home_list, X_normalised)\n",
    "\n",
    "                if reuse_factors:\n",
    "                    from collections import OrderedDict\n",
    "                    data_items = OrderedDict()\n",
    "                    idx_items = OrderedDict()\n",
    "\n",
    "                    for count in range(X_austin[appliance].shape[0]):\n",
    "                        data_items['lat_%d' %count] = np.array(X_austin[appliance][count]).flatten()\n",
    "                        idx_items['lat_%d' %count] = np.array(range(X_austin[appliance][count].size))\n",
    "                else:\n",
    "\n",
    "                    data_items = None\n",
    "                    idx_items = None\n",
    "\n",
    "\n",
    "\n",
    "\n",
    "                X, Y, res = nmf_features(A=A, k=lat, constant=0.01, regularisation=False,\n",
    "                                    idx_user=idx_user, data_user=data_user,\n",
    "                                     idx_item=idx_items, data_item=data_items, MAX_ITERS=10)\n",
    "                for test_home in test_home_list:\n",
    "                    pred_df = create_prediction(test_home, X, Y, X_normalised, appliance,\n",
    "                                           col_max, col_min, appliance_cols)\n",
    "                    temp[fold][test_home]=pred_df\n",
    "            for home in all_homes:\n",
    "                p =[]\n",
    "\n",
    "                for fold in range(n_splits):\n",
    "                    if home in pd.DataFrame(temp[fold]).T.index:\n",
    "                        p.append(pd.DataFrame(temp[fold]).T.ix[home])\n",
    "                out_baseline[appliance][reuse_factors][home]=pd.DataFrame(p).mean()\n",
    "    return out_baseline"
   ]
  },
  {
   "cell_type": "code",
   "execution_count": 144,
   "metadata": {
    "collapsed": true
   },
   "outputs": [],
   "source": [
    "ob = {}\n",
    "ora ={}"
   ]
  },
  {
   "cell_type": "code",
   "execution_count": 145,
   "metadata": {
    "collapsed": false
   },
   "outputs": [
    {
     "name": "stdout",
     "output_type": "stream",
     "text": [
      "2 baseline\n",
      "2 oracle\n",
      "3 baseline\n",
      "3 oracle\n",
      "4 baseline\n",
      "4 oracle\n"
     ]
    }
   ],
   "source": [
    "for k in [2,3, 4]:\n",
    "    print k, \"baseline\"\n",
    "    ob[k] = compute_baselines(k)\n",
    "    print k, \"oracle\"\n",
    "    ora[k] = compute_oracle(k)"
   ]
  },
  {
   "cell_type": "code",
   "execution_count": 128,
   "metadata": {
    "collapsed": false
   },
   "outputs": [
    {
     "data": {
      "text/html": [
       "<div>\n",
       "<table border=\"1\" class=\"dataframe\">\n",
       "  <thead>\n",
       "    <tr style=\"text-align: right;\">\n",
       "      <th></th>\n",
       "      <th>fridge_1</th>\n",
       "      <th>fridge_2</th>\n",
       "      <th>fridge_3</th>\n",
       "      <th>fridge_4</th>\n",
       "      <th>fridge_5</th>\n",
       "      <th>fridge_6</th>\n",
       "      <th>fridge_7</th>\n",
       "      <th>fridge_8</th>\n",
       "      <th>fridge_9</th>\n",
       "      <th>fridge_10</th>\n",
       "      <th>fridge_11</th>\n",
       "      <th>fridge_12</th>\n",
       "    </tr>\n",
       "  </thead>\n",
       "  <tbody>\n",
       "    <tr>\n",
       "      <th>54</th>\n",
       "      <td>14.996709</td>\n",
       "      <td>13.548923</td>\n",
       "      <td>16.061430</td>\n",
       "      <td>17.471532</td>\n",
       "      <td>19.101432</td>\n",
       "      <td>19.535040</td>\n",
       "      <td>20.439836</td>\n",
       "      <td>20.560782</td>\n",
       "      <td>19.531640</td>\n",
       "      <td>19.917997</td>\n",
       "      <td>16.892969</td>\n",
       "      <td>17.342539</td>\n",
       "    </tr>\n",
       "    <tr>\n",
       "      <th>203</th>\n",
       "      <td>19.647268</td>\n",
       "      <td>17.241433</td>\n",
       "      <td>20.797891</td>\n",
       "      <td>22.700873</td>\n",
       "      <td>24.956581</td>\n",
       "      <td>25.661810</td>\n",
       "      <td>27.183530</td>\n",
       "      <td>27.319379</td>\n",
       "      <td>25.894419</td>\n",
       "      <td>26.324679</td>\n",
       "      <td>22.282411</td>\n",
       "      <td>22.682179</td>\n",
       "    </tr>\n",
       "    <tr>\n",
       "      <th>1450</th>\n",
       "      <td>40.678932</td>\n",
       "      <td>37.004438</td>\n",
       "      <td>43.688223</td>\n",
       "      <td>47.485562</td>\n",
       "      <td>51.846966</td>\n",
       "      <td>52.955066</td>\n",
       "      <td>55.242417</td>\n",
       "      <td>55.581687</td>\n",
       "      <td>52.828178</td>\n",
       "      <td>53.913887</td>\n",
       "      <td>45.747721</td>\n",
       "      <td>47.061100</td>\n",
       "    </tr>\n",
       "    <tr>\n",
       "      <th>1524</th>\n",
       "      <td>33.368604</td>\n",
       "      <td>28.632062</td>\n",
       "      <td>35.010658</td>\n",
       "      <td>38.313697</td>\n",
       "      <td>42.298559</td>\n",
       "      <td>43.671571</td>\n",
       "      <td>46.685816</td>\n",
       "      <td>46.887652</td>\n",
       "      <td>44.369549</td>\n",
       "      <td>45.003316</td>\n",
       "      <td>38.036840</td>\n",
       "      <td>38.474018</td>\n",
       "    </tr>\n",
       "    <tr>\n",
       "      <th>1731</th>\n",
       "      <td>29.829831</td>\n",
       "      <td>27.021906</td>\n",
       "      <td>31.982124</td>\n",
       "      <td>34.779099</td>\n",
       "      <td>38.004128</td>\n",
       "      <td>38.847249</td>\n",
       "      <td>40.599488</td>\n",
       "      <td>40.843245</td>\n",
       "      <td>38.807005</td>\n",
       "      <td>39.586216</td>\n",
       "      <td>33.580332</td>\n",
       "      <td>34.501284</td>\n",
       "    </tr>\n",
       "    <tr>\n",
       "      <th>3687</th>\n",
       "      <td>29.595903</td>\n",
       "      <td>27.319969</td>\n",
       "      <td>31.976009</td>\n",
       "      <td>34.695352</td>\n",
       "      <td>37.774515</td>\n",
       "      <td>38.473633</td>\n",
       "      <td>39.875209</td>\n",
       "      <td>40.139690</td>\n",
       "      <td>38.196238</td>\n",
       "      <td>39.045406</td>\n",
       "      <td>33.165926</td>\n",
       "      <td>34.269195</td>\n",
       "    </tr>\n",
       "    <tr>\n",
       "      <th>3864</th>\n",
       "      <td>14.550600</td>\n",
       "      <td>12.609221</td>\n",
       "      <td>15.326142</td>\n",
       "      <td>16.752910</td>\n",
       "      <td>18.461211</td>\n",
       "      <td>19.026505</td>\n",
       "      <td>20.258943</td>\n",
       "      <td>20.352465</td>\n",
       "      <td>19.273103</td>\n",
       "      <td>19.567937</td>\n",
       "      <td>16.549442</td>\n",
       "      <td>16.786177</td>\n",
       "    </tr>\n",
       "    <tr>\n",
       "      <th>3938</th>\n",
       "      <td>8.752334</td>\n",
       "      <td>8.428530</td>\n",
       "      <td>9.623775</td>\n",
       "      <td>10.389816</td>\n",
       "      <td>11.217833</td>\n",
       "      <td>11.330486</td>\n",
       "      <td>11.514225</td>\n",
       "      <td>11.607943</td>\n",
       "      <td>11.085815</td>\n",
       "      <td>11.389022</td>\n",
       "      <td>9.704607</td>\n",
       "      <td>10.160685</td>\n",
       "    </tr>\n",
       "    <tr>\n",
       "      <th>4095</th>\n",
       "      <td>32.917921</td>\n",
       "      <td>28.245445</td>\n",
       "      <td>34.537834</td>\n",
       "      <td>37.796251</td>\n",
       "      <td>41.727269</td>\n",
       "      <td>43.081710</td>\n",
       "      <td>46.055178</td>\n",
       "      <td>46.254288</td>\n",
       "      <td>43.770208</td>\n",
       "      <td>44.395435</td>\n",
       "      <td>37.523065</td>\n",
       "      <td>37.954377</td>\n",
       "    </tr>\n",
       "    <tr>\n",
       "      <th>4329</th>\n",
       "      <td>14.952950</td>\n",
       "      <td>14.070976</td>\n",
       "      <td>16.284007</td>\n",
       "      <td>17.628660</td>\n",
       "      <td>19.121018</td>\n",
       "      <td>19.402049</td>\n",
       "      <td>19.933157</td>\n",
       "      <td>20.078672</td>\n",
       "      <td>19.137110</td>\n",
       "      <td>19.606082</td>\n",
       "      <td>16.677210</td>\n",
       "      <td>17.334214</td>\n",
       "    </tr>\n",
       "    <tr>\n",
       "      <th>4495</th>\n",
       "      <td>7.857715</td>\n",
       "      <td>7.782196</td>\n",
       "      <td>8.743330</td>\n",
       "      <td>9.407568</td>\n",
       "      <td>10.100071</td>\n",
       "      <td>10.143233</td>\n",
       "      <td>10.166020</td>\n",
       "      <td>10.259709</td>\n",
       "      <td>9.823362</td>\n",
       "      <td>10.127670</td>\n",
       "      <td>8.648890</td>\n",
       "      <td>9.138331</td>\n",
       "    </tr>\n",
       "    <tr>\n",
       "      <th>4934</th>\n",
       "      <td>8.828856</td>\n",
       "      <td>7.859731</td>\n",
       "      <td>9.374380</td>\n",
       "      <td>10.224122</td>\n",
       "      <td>11.190549</td>\n",
       "      <td>11.450896</td>\n",
       "      <td>12.029012</td>\n",
       "      <td>12.101369</td>\n",
       "      <td>11.478764</td>\n",
       "      <td>11.728839</td>\n",
       "      <td>9.920592</td>\n",
       "      <td>10.066408</td>\n",
       "    </tr>\n",
       "    <tr>\n",
       "      <th>5938</th>\n",
       "      <td>8.010097</td>\n",
       "      <td>8.289477</td>\n",
       "      <td>9.071655</td>\n",
       "      <td>9.713708</td>\n",
       "      <td>10.334044</td>\n",
       "      <td>10.270489</td>\n",
       "      <td>10.044385</td>\n",
       "      <td>10.160981</td>\n",
       "      <td>9.770086</td>\n",
       "      <td>10.143548</td>\n",
       "      <td>8.689375</td>\n",
       "      <td>9.294217</td>\n",
       "    </tr>\n",
       "    <tr>\n",
       "      <th>6377</th>\n",
       "      <td>13.055788</td>\n",
       "      <td>12.241545</td>\n",
       "      <td>14.165143</td>\n",
       "      <td>15.352867</td>\n",
       "      <td>16.644997</td>\n",
       "      <td>16.869878</td>\n",
       "      <td>17.323852</td>\n",
       "      <td>17.458064</td>\n",
       "      <td>16.630302</td>\n",
       "      <td>17.078393</td>\n",
       "      <td>14.503978</td>\n",
       "      <td>14.972014</td>\n",
       "    </tr>\n",
       "    <tr>\n",
       "      <th>6429</th>\n",
       "      <td>5.776947</td>\n",
       "      <td>5.505139</td>\n",
       "      <td>6.311085</td>\n",
       "      <td>6.826789</td>\n",
       "      <td>7.378946</td>\n",
       "      <td>7.455560</td>\n",
       "      <td>7.599114</td>\n",
       "      <td>7.662391</td>\n",
       "      <td>7.309407</td>\n",
       "      <td>7.518876</td>\n",
       "      <td>6.393977</td>\n",
       "      <td>6.637158</td>\n",
       "    </tr>\n",
       "    <tr>\n",
       "      <th>6497</th>\n",
       "      <td>30.423946</td>\n",
       "      <td>27.430268</td>\n",
       "      <td>32.472970</td>\n",
       "      <td>35.362674</td>\n",
       "      <td>38.616388</td>\n",
       "      <td>39.424048</td>\n",
       "      <td>41.192136</td>\n",
       "      <td>41.456686</td>\n",
       "      <td>39.363146</td>\n",
       "      <td>40.268644</td>\n",
       "      <td>34.093129</td>\n",
       "      <td>34.736691</td>\n",
       "    </tr>\n",
       "    <tr>\n",
       "      <th>6547</th>\n",
       "      <td>10.583026</td>\n",
       "      <td>10.744324</td>\n",
       "      <td>11.883931</td>\n",
       "      <td>12.755336</td>\n",
       "      <td>13.620930</td>\n",
       "      <td>13.590726</td>\n",
       "      <td>13.426630</td>\n",
       "      <td>13.571538</td>\n",
       "      <td>13.023879</td>\n",
       "      <td>13.491015</td>\n",
       "      <td>11.536314</td>\n",
       "      <td>12.250673</td>\n",
       "    </tr>\n",
       "    <tr>\n",
       "      <th>7062</th>\n",
       "      <td>24.265323</td>\n",
       "      <td>22.475543</td>\n",
       "      <td>26.191967</td>\n",
       "      <td>28.430207</td>\n",
       "      <td>30.892934</td>\n",
       "      <td>31.382416</td>\n",
       "      <td>32.405255</td>\n",
       "      <td>32.642543</td>\n",
       "      <td>31.062568</td>\n",
       "      <td>31.860410</td>\n",
       "      <td>27.031166</td>\n",
       "      <td>27.788307</td>\n",
       "    </tr>\n",
       "    <tr>\n",
       "      <th>7114</th>\n",
       "      <td>17.536593</td>\n",
       "      <td>15.547224</td>\n",
       "      <td>18.588661</td>\n",
       "      <td>20.283652</td>\n",
       "      <td>22.217509</td>\n",
       "      <td>22.751299</td>\n",
       "      <td>23.941333</td>\n",
       "      <td>24.082221</td>\n",
       "      <td>22.835879</td>\n",
       "      <td>23.324442</td>\n",
       "      <td>19.722394</td>\n",
       "      <td>19.985765</td>\n",
       "    </tr>\n",
       "    <tr>\n",
       "      <th>7409</th>\n",
       "      <td>13.138763</td>\n",
       "      <td>12.291139</td>\n",
       "      <td>14.241370</td>\n",
       "      <td>15.439780</td>\n",
       "      <td>16.746362</td>\n",
       "      <td>16.979968</td>\n",
       "      <td>17.455097</td>\n",
       "      <td>17.588920</td>\n",
       "      <td>16.751664</td>\n",
       "      <td>17.199044</td>\n",
       "      <td>14.603729</td>\n",
       "      <td>15.063227</td>\n",
       "    </tr>\n",
       "    <tr>\n",
       "      <th>7639</th>\n",
       "      <td>16.361466</td>\n",
       "      <td>15.021387</td>\n",
       "      <td>17.595364</td>\n",
       "      <td>19.119375</td>\n",
       "      <td>20.809423</td>\n",
       "      <td>21.173946</td>\n",
       "      <td>21.949956</td>\n",
       "      <td>22.104089</td>\n",
       "      <td>21.018744</td>\n",
       "      <td>21.539864</td>\n",
       "      <td>18.262192</td>\n",
       "      <td>18.718342</td>\n",
       "    </tr>\n",
       "    <tr>\n",
       "      <th>8061</th>\n",
       "      <td>26.736891</td>\n",
       "      <td>22.807822</td>\n",
       "      <td>27.980009</td>\n",
       "      <td>30.666010</td>\n",
       "      <td>33.829604</td>\n",
       "      <td>34.895782</td>\n",
       "      <td>37.336499</td>\n",
       "      <td>37.550466</td>\n",
       "      <td>35.530613</td>\n",
       "      <td>36.127296</td>\n",
       "      <td>30.486280</td>\n",
       "      <td>30.476882</td>\n",
       "    </tr>\n",
       "    <tr>\n",
       "      <th>8342</th>\n",
       "      <td>7.242864</td>\n",
       "      <td>7.504324</td>\n",
       "      <td>8.244307</td>\n",
       "      <td>8.826103</td>\n",
       "      <td>9.389987</td>\n",
       "      <td>9.334312</td>\n",
       "      <td>9.136317</td>\n",
       "      <td>9.263138</td>\n",
       "      <td>8.908372</td>\n",
       "      <td>9.210596</td>\n",
       "      <td>7.891358</td>\n",
       "      <td>8.430755</td>\n",
       "    </tr>\n",
       "    <tr>\n",
       "      <th>8574</th>\n",
       "      <td>19.412604</td>\n",
       "      <td>19.415608</td>\n",
       "      <td>21.746873</td>\n",
       "      <td>23.382975</td>\n",
       "      <td>25.048561</td>\n",
       "      <td>25.080626</td>\n",
       "      <td>25.002105</td>\n",
       "      <td>25.305778</td>\n",
       "      <td>24.253664</td>\n",
       "      <td>24.989741</td>\n",
       "      <td>21.343928</td>\n",
       "      <td>22.504361</td>\n",
       "    </tr>\n",
       "    <tr>\n",
       "      <th>8733</th>\n",
       "      <td>31.192633</td>\n",
       "      <td>29.382949</td>\n",
       "      <td>34.033701</td>\n",
       "      <td>36.862205</td>\n",
       "      <td>39.939665</td>\n",
       "      <td>40.462664</td>\n",
       "      <td>41.512352</td>\n",
       "      <td>41.906061</td>\n",
       "      <td>39.952180</td>\n",
       "      <td>40.942520</td>\n",
       "      <td>34.798470</td>\n",
       "      <td>35.921383</td>\n",
       "    </tr>\n",
       "    <tr>\n",
       "      <th>9213</th>\n",
       "      <td>11.929008</td>\n",
       "      <td>11.019603</td>\n",
       "      <td>12.906558</td>\n",
       "      <td>14.012169</td>\n",
       "      <td>15.237123</td>\n",
       "      <td>15.493598</td>\n",
       "      <td>16.035858</td>\n",
       "      <td>16.175138</td>\n",
       "      <td>15.396376</td>\n",
       "      <td>15.752078</td>\n",
       "      <td>13.368165</td>\n",
       "      <td>13.708748</td>\n",
       "    </tr>\n",
       "    <tr>\n",
       "      <th>9370</th>\n",
       "      <td>41.626950</td>\n",
       "      <td>41.934087</td>\n",
       "      <td>46.783095</td>\n",
       "      <td>50.258367</td>\n",
       "      <td>53.763386</td>\n",
       "      <td>53.753966</td>\n",
       "      <td>53.390679</td>\n",
       "      <td>54.057472</td>\n",
       "      <td>51.845034</td>\n",
       "      <td>53.455404</td>\n",
       "      <td>45.684943</td>\n",
       "      <td>48.296045</td>\n",
       "    </tr>\n",
       "    <tr>\n",
       "      <th>9585</th>\n",
       "      <td>16.848951</td>\n",
       "      <td>16.117202</td>\n",
       "      <td>18.506789</td>\n",
       "      <td>20.007597</td>\n",
       "      <td>21.615575</td>\n",
       "      <td>21.834217</td>\n",
       "      <td>22.241950</td>\n",
       "      <td>22.467379</td>\n",
       "      <td>21.447639</td>\n",
       "      <td>22.008643</td>\n",
       "      <td>18.728604</td>\n",
       "      <td>19.435609</td>\n",
       "    </tr>\n",
       "    <tr>\n",
       "      <th>9612</th>\n",
       "      <td>25.296619</td>\n",
       "      <td>22.297754</td>\n",
       "      <td>26.832989</td>\n",
       "      <td>29.295273</td>\n",
       "      <td>32.129560</td>\n",
       "      <td>32.951573</td>\n",
       "      <td>34.795139</td>\n",
       "      <td>35.034902</td>\n",
       "      <td>33.228131</td>\n",
       "      <td>33.868913</td>\n",
       "      <td>28.644963</td>\n",
       "      <td>28.929704</td>\n",
       "    </tr>\n",
       "    <tr>\n",
       "      <th>9775</th>\n",
       "      <td>19.372255</td>\n",
       "      <td>19.275242</td>\n",
       "      <td>21.651526</td>\n",
       "      <td>23.295229</td>\n",
       "      <td>24.979457</td>\n",
       "      <td>25.037434</td>\n",
       "      <td>25.023878</td>\n",
       "      <td>25.321727</td>\n",
       "      <td>24.257286</td>\n",
       "      <td>24.981242</td>\n",
       "      <td>21.327247</td>\n",
       "      <td>22.444363</td>\n",
       "    </tr>\n",
       "    <tr>\n",
       "      <th>9836</th>\n",
       "      <td>12.380443</td>\n",
       "      <td>12.465233</td>\n",
       "      <td>13.910675</td>\n",
       "      <td>14.944989</td>\n",
       "      <td>15.988896</td>\n",
       "      <td>15.987808</td>\n",
       "      <td>15.884022</td>\n",
       "      <td>16.081995</td>\n",
       "      <td>15.423033</td>\n",
       "      <td>15.901262</td>\n",
       "      <td>13.589190</td>\n",
       "      <td>14.363124</td>\n",
       "    </tr>\n",
       "  </tbody>\n",
       "</table>\n",
       "</div>"
      ],
      "text/plain": [
       "       fridge_1   fridge_2   fridge_3   fridge_4   fridge_5   fridge_6  \\\n",
       "54    14.996709  13.548923  16.061430  17.471532  19.101432  19.535040   \n",
       "203   19.647268  17.241433  20.797891  22.700873  24.956581  25.661810   \n",
       "1450  40.678932  37.004438  43.688223  47.485562  51.846966  52.955066   \n",
       "1524  33.368604  28.632062  35.010658  38.313697  42.298559  43.671571   \n",
       "1731  29.829831  27.021906  31.982124  34.779099  38.004128  38.847249   \n",
       "3687  29.595903  27.319969  31.976009  34.695352  37.774515  38.473633   \n",
       "3864  14.550600  12.609221  15.326142  16.752910  18.461211  19.026505   \n",
       "3938   8.752334   8.428530   9.623775  10.389816  11.217833  11.330486   \n",
       "4095  32.917921  28.245445  34.537834  37.796251  41.727269  43.081710   \n",
       "4329  14.952950  14.070976  16.284007  17.628660  19.121018  19.402049   \n",
       "4495   7.857715   7.782196   8.743330   9.407568  10.100071  10.143233   \n",
       "4934   8.828856   7.859731   9.374380  10.224122  11.190549  11.450896   \n",
       "5938   8.010097   8.289477   9.071655   9.713708  10.334044  10.270489   \n",
       "6377  13.055788  12.241545  14.165143  15.352867  16.644997  16.869878   \n",
       "6429   5.776947   5.505139   6.311085   6.826789   7.378946   7.455560   \n",
       "6497  30.423946  27.430268  32.472970  35.362674  38.616388  39.424048   \n",
       "6547  10.583026  10.744324  11.883931  12.755336  13.620930  13.590726   \n",
       "7062  24.265323  22.475543  26.191967  28.430207  30.892934  31.382416   \n",
       "7114  17.536593  15.547224  18.588661  20.283652  22.217509  22.751299   \n",
       "7409  13.138763  12.291139  14.241370  15.439780  16.746362  16.979968   \n",
       "7639  16.361466  15.021387  17.595364  19.119375  20.809423  21.173946   \n",
       "8061  26.736891  22.807822  27.980009  30.666010  33.829604  34.895782   \n",
       "8342   7.242864   7.504324   8.244307   8.826103   9.389987   9.334312   \n",
       "8574  19.412604  19.415608  21.746873  23.382975  25.048561  25.080626   \n",
       "8733  31.192633  29.382949  34.033701  36.862205  39.939665  40.462664   \n",
       "9213  11.929008  11.019603  12.906558  14.012169  15.237123  15.493598   \n",
       "9370  41.626950  41.934087  46.783095  50.258367  53.763386  53.753966   \n",
       "9585  16.848951  16.117202  18.506789  20.007597  21.615575  21.834217   \n",
       "9612  25.296619  22.297754  26.832989  29.295273  32.129560  32.951573   \n",
       "9775  19.372255  19.275242  21.651526  23.295229  24.979457  25.037434   \n",
       "9836  12.380443  12.465233  13.910675  14.944989  15.988896  15.987808   \n",
       "\n",
       "       fridge_7   fridge_8   fridge_9  fridge_10  fridge_11  fridge_12  \n",
       "54    20.439836  20.560782  19.531640  19.917997  16.892969  17.342539  \n",
       "203   27.183530  27.319379  25.894419  26.324679  22.282411  22.682179  \n",
       "1450  55.242417  55.581687  52.828178  53.913887  45.747721  47.061100  \n",
       "1524  46.685816  46.887652  44.369549  45.003316  38.036840  38.474018  \n",
       "1731  40.599488  40.843245  38.807005  39.586216  33.580332  34.501284  \n",
       "3687  39.875209  40.139690  38.196238  39.045406  33.165926  34.269195  \n",
       "3864  20.258943  20.352465  19.273103  19.567937  16.549442  16.786177  \n",
       "3938  11.514225  11.607943  11.085815  11.389022   9.704607  10.160685  \n",
       "4095  46.055178  46.254288  43.770208  44.395435  37.523065  37.954377  \n",
       "4329  19.933157  20.078672  19.137110  19.606082  16.677210  17.334214  \n",
       "4495  10.166020  10.259709   9.823362  10.127670   8.648890   9.138331  \n",
       "4934  12.029012  12.101369  11.478764  11.728839   9.920592  10.066408  \n",
       "5938  10.044385  10.160981   9.770086  10.143548   8.689375   9.294217  \n",
       "6377  17.323852  17.458064  16.630302  17.078393  14.503978  14.972014  \n",
       "6429   7.599114   7.662391   7.309407   7.518876   6.393977   6.637158  \n",
       "6497  41.192136  41.456686  39.363146  40.268644  34.093129  34.736691  \n",
       "6547  13.426630  13.571538  13.023879  13.491015  11.536314  12.250673  \n",
       "7062  32.405255  32.642543  31.062568  31.860410  27.031166  27.788307  \n",
       "7114  23.941333  24.082221  22.835879  23.324442  19.722394  19.985765  \n",
       "7409  17.455097  17.588920  16.751664  17.199044  14.603729  15.063227  \n",
       "7639  21.949956  22.104089  21.018744  21.539864  18.262192  18.718342  \n",
       "8061  37.336499  37.550466  35.530613  36.127296  30.486280  30.476882  \n",
       "8342   9.136317   9.263138   8.908372   9.210596   7.891358   8.430755  \n",
       "8574  25.002105  25.305778  24.253664  24.989741  21.343928  22.504361  \n",
       "8733  41.512352  41.906061  39.952180  40.942520  34.798470  35.921383  \n",
       "9213  16.035858  16.175138  15.396376  15.752078  13.368165  13.708748  \n",
       "9370  53.390679  54.057472  51.845034  53.455404  45.684943  48.296045  \n",
       "9585  22.241950  22.467379  21.447639  22.008643  18.728604  19.435609  \n",
       "9612  34.795139  35.034902  33.228131  33.868913  28.644963  28.929704  \n",
       "9775  25.023878  25.321727  24.257286  24.981242  21.327247  22.444363  \n",
       "9836  15.884022  16.081995  15.423033  15.901262  13.589190  14.363124  "
      ]
     },
     "execution_count": 128,
     "metadata": {},
     "output_type": "execute_result"
    }
   ],
   "source": [
    "pd.DataFrame(out_baseline['fridge'][True]).T"
   ]
  },
  {
   "cell_type": "code",
   "execution_count": 102,
   "metadata": {
    "collapsed": false
   },
   "outputs": [],
   "source": [
    "from common_functions import compute_rmse_fraction"
   ]
  },
  {
   "cell_type": "code",
   "execution_count": 151,
   "metadata": {
    "collapsed": false
   },
   "outputs": [],
   "source": [
    "res = OrderedDict()\n",
    "for lat in range(2, 5):\n",
    "    res[lat]=OrderedDict()\n",
    "    for appliance in ['hvac','fridge']:\n",
    "        res[lat][appliance] = OrderedDict()\n",
    "        res[lat][appliance]['Oracle'] = compute_rmse_fraction(appliance, pd.DataFrame(ora[lat][appliance]).T,\n",
    "                                                                 \"SanDiego\")[2]\n",
    "        for reuse_factors in [True, False]:\n",
    "            if reuse_factors:\n",
    "                string = \"Transferred from Austin\"\n",
    "            else:\n",
    "                string = \"Learnt from SD\"\n",
    "            res[lat][appliance][string] =compute_rmse_fraction(appliance,pd.DataFrame(ob[lat][appliance][reuse_factors]).T,\n",
    "                                                             \"SanDiego\")[2]"
   ]
  },
  {
   "cell_type": "code",
   "execution_count": 152,
   "metadata": {
    "collapsed": true
   },
   "outputs": [],
   "source": [
    "%matplotlib inline"
   ]
  },
  {
   "cell_type": "code",
   "execution_count": 162,
   "metadata": {
    "collapsed": false
   },
   "outputs": [
    {
     "data": {
      "text/plain": [
       "<class 'pandas.core.panel.Panel'>\n",
       "Dimensions: 3 (items) x 3 (major_axis) x 2 (minor_axis)\n",
       "Items axis: 2 to 4\n",
       "Major_axis axis: Learnt from SD to Transferred from Austin\n",
       "Minor_axis axis: hvac to fridge"
      ]
     },
     "execution_count": 162,
     "metadata": {},
     "output_type": "execute_result"
    }
   ],
   "source": [
    "pd.Panel(res)"
   ]
  },
  {
   "cell_type": "code",
   "execution_count": 153,
   "metadata": {
    "collapsed": false
   },
   "outputs": [
    {
     "data": {
      "text/html": [
       "<div>\n",
       "<table border=\"1\" class=\"dataframe\">\n",
       "  <thead>\n",
       "    <tr style=\"text-align: right;\">\n",
       "      <th></th>\n",
       "      <th>hvac</th>\n",
       "      <th>fridge</th>\n",
       "    </tr>\n",
       "  </thead>\n",
       "  <tbody>\n",
       "    <tr>\n",
       "      <th>Learnt from SD</th>\n",
       "      <td>22.428278</td>\n",
       "      <td>7.079287</td>\n",
       "    </tr>\n",
       "    <tr>\n",
       "      <th>Oracle</th>\n",
       "      <td>19.314256</td>\n",
       "      <td>7.438766</td>\n",
       "    </tr>\n",
       "    <tr>\n",
       "      <th>Transferred from Austin</th>\n",
       "      <td>13.774626</td>\n",
       "      <td>11.139682</td>\n",
       "    </tr>\n",
       "  </tbody>\n",
       "</table>\n",
       "</div>"
      ],
      "text/plain": [
       "                              hvac     fridge\n",
       "Learnt from SD           22.428278   7.079287\n",
       "Oracle                   19.314256   7.438766\n",
       "Transferred from Austin  13.774626  11.139682"
      ]
     },
     "execution_count": 153,
     "metadata": {},
     "output_type": "execute_result"
    }
   ],
   "source": [
    "pd.DataFrame(res[4])"
   ]
  },
  {
   "cell_type": "code",
   "execution_count": 148,
   "metadata": {
    "collapsed": false
   },
   "outputs": [
    {
     "data": {
      "text/html": [
       "<div>\n",
       "<table border=\"1\" class=\"dataframe\">\n",
       "  <thead>\n",
       "    <tr style=\"text-align: right;\">\n",
       "      <th></th>\n",
       "      <th>hvac</th>\n",
       "      <th>fridge</th>\n",
       "    </tr>\n",
       "  </thead>\n",
       "  <tbody>\n",
       "    <tr>\n",
       "      <th>Learnt from SD</th>\n",
       "      <td>13.347317</td>\n",
       "      <td>7.154839</td>\n",
       "    </tr>\n",
       "    <tr>\n",
       "      <th>Oracle</th>\n",
       "      <td>16.594558</td>\n",
       "      <td>7.475647</td>\n",
       "    </tr>\n",
       "    <tr>\n",
       "      <th>Transferred from Austin</th>\n",
       "      <td>15.070323</td>\n",
       "      <td>8.369785</td>\n",
       "    </tr>\n",
       "  </tbody>\n",
       "</table>\n",
       "</div>"
      ],
      "text/plain": [
       "                              hvac    fridge\n",
       "Learnt from SD           13.347317  7.154839\n",
       "Oracle                   16.594558  7.475647\n",
       "Transferred from Austin  15.070323  8.369785"
      ]
     },
     "execution_count": 148,
     "metadata": {},
     "output_type": "execute_result"
    }
   ],
   "source": [
    "pd.DataFrame(res[3])"
   ]
  },
  {
   "cell_type": "code",
   "execution_count": 149,
   "metadata": {
    "collapsed": false
   },
   "outputs": [
    {
     "data": {
      "text/html": [
       "<div>\n",
       "<table border=\"1\" class=\"dataframe\">\n",
       "  <thead>\n",
       "    <tr style=\"text-align: right;\">\n",
       "      <th></th>\n",
       "      <th>hvac</th>\n",
       "      <th>fridge</th>\n",
       "    </tr>\n",
       "  </thead>\n",
       "  <tbody>\n",
       "    <tr>\n",
       "      <th>Learnt from SD</th>\n",
       "      <td>15.224823</td>\n",
       "      <td>6.743818</td>\n",
       "    </tr>\n",
       "    <tr>\n",
       "      <th>Oracle</th>\n",
       "      <td>12.545201</td>\n",
       "      <td>7.344456</td>\n",
       "    </tr>\n",
       "    <tr>\n",
       "      <th>Transferred from Austin</th>\n",
       "      <td>20.120866</td>\n",
       "      <td>10.314477</td>\n",
       "    </tr>\n",
       "  </tbody>\n",
       "</table>\n",
       "</div>"
      ],
      "text/plain": [
       "                              hvac     fridge\n",
       "Learnt from SD           15.224823   6.743818\n",
       "Oracle                   12.545201   7.344456\n",
       "Transferred from Austin  20.120866  10.314477"
      ]
     },
     "execution_count": 149,
     "metadata": {},
     "output_type": "execute_result"
    }
   ],
   "source": [
    "pd.DataFrame(res[2])"
   ]
  },
  {
   "cell_type": "code",
   "execution_count": 175,
   "metadata": {
    "collapsed": false
   },
   "outputs": [],
   "source": [
    "from plot_functions import autolabel, latexify, tableau20blind, format_axes\n",
    "latexify()\n",
    "r={}\n",
    "for appliance in ['hvac','fridge']:\n",
    "    r[appliance]={}\n",
    "    for l in range(2, 5):\n",
    "        r[appliance][l]=pd.DataFrame(res[l][appliance]).squeeze()\n",
    "        \n",
    "       \n",
    "#plt.savefig(\"/Users/nipunbatra/git/scalable-nilm/results/transfer.png\",bbox_inches=\"tight\")\n",
    "#plt.savefig(\"/Users/nipunbatra/git/scalable-nilm/results/transfer.pdf\",bbox_inches=\"tight\")"
   ]
  },
  {
   "cell_type": "code",
   "execution_count": 184,
   "metadata": {
    "collapsed": false
   },
   "outputs": [
    {
     "data": {
      "image/png": "[encoded data removed]",
      "text/plain": [
       "<matplotlib.figure.Figure at 0x11541ad50>"
      ]
     },
     "metadata": {},
     "output_type": "display_data"
    },
    {
     "data": {
      "image/png": "[encoded data removed]",
      "text/plain": [
       "<matplotlib.figure.Figure at 0x115f68cd0>"
      ]
     },
     "metadata": {},
     "output_type": "display_data"
    }
   ],
   "source": [
    "for appliance in ['fridge','hvac']:\n",
    "    ax = pd.DataFrame(r[appliance]).T.plot()\n",
    "    format_axes(ax)\n",
    "    ax.set_title(appliance)\n",
    "    ax.set_xlabel(\"\\#latent factors\")\n",
    "    ax.set_ylabel(\"RMS error\")\n",
    "    plt.savefig(\"/Users/nipunbatra/git/scalable-nilm/results/transfer_latent_%s.png\" %appliance,bbox_inches=\"tight\")"
   ]
  },
  {
   "cell_type": "code",
   "execution_count": 163,
   "metadata": {
    "collapsed": false
   },
   "outputs": [
    {
     "ename": "ValueError",
     "evalue": "If using all scalar values, you must pass an index",
     "traceback": [
      "\u001b[0;31m---------------------------------------------------------------------------\u001b[0m",
      "\u001b[0;31mValueError\u001b[0m                                Traceback (most recent call last)",
      "\u001b[0;32m<ipython-input-163-8931e42e6e21>\u001b[0m in \u001b[0;36m<module>\u001b[0;34m()\u001b[0m\n\u001b[1;32m      1\u001b[0m \u001b[0;32mfrom\u001b[0m \u001b[0mplot_functions\u001b[0m \u001b[0;32mimport\u001b[0m \u001b[0mautolabel\u001b[0m\u001b[0;34m,\u001b[0m \u001b[0mlatexify\u001b[0m\u001b[0;34m,\u001b[0m \u001b[0mtableau20blind\u001b[0m\u001b[0;34m,\u001b[0m \u001b[0mformat_axes\u001b[0m\u001b[0;34m\u001b[0m\u001b[0m\n\u001b[1;32m      2\u001b[0m \u001b[0mlatexify\u001b[0m\u001b[0;34m(\u001b[0m\u001b[0;34m)\u001b[0m\u001b[0;34m\u001b[0m\u001b[0m\n\u001b[0;32m----> 3\u001b[0;31m \u001b[0max\u001b[0m \u001b[0;34m=\u001b[0m \u001b[0mpd\u001b[0m\u001b[0;34m.\u001b[0m\u001b[0mDataFrame\u001b[0m\u001b[0;34m(\u001b[0m\u001b[0mres\u001b[0m\u001b[0;34m)\u001b[0m\u001b[0;34m.\u001b[0m\u001b[0mT\u001b[0m\u001b[0;34m[\u001b[0m\u001b[0;34m[\u001b[0m\u001b[0;34m'Oracle'\u001b[0m\u001b[0;34m,\u001b[0m\u001b[0;34m'Learnt from SD'\u001b[0m\u001b[0;34m,\u001b[0m \u001b[0;34m'Transferred from Austin'\u001b[0m\u001b[0;34m]\u001b[0m\u001b[0;34m]\u001b[0m\u001b[0;34m.\u001b[0m\u001b[0mplot\u001b[0m\u001b[0;34m(\u001b[0m\u001b[0mkind\u001b[0m\u001b[0;34m=\u001b[0m\u001b[0;34m\"line\"\u001b[0m\u001b[0;34m,\u001b[0m\u001b[0mrot\u001b[0m\u001b[0;34m=\u001b[0m\u001b[0;36m0\u001b[0m\u001b[0;34m,\u001b[0m \u001b[0mcolors\u001b[0m\u001b[0;34m=\u001b[0m\u001b[0mtableau20blind\u001b[0m\u001b[0;34m[\u001b[0m\u001b[0;34m:\u001b[0m\u001b[0;34m:\u001b[0m\u001b[0;36m2\u001b[0m\u001b[0;34m]\u001b[0m\u001b[0;34m)\u001b[0m\u001b[0;34m\u001b[0m\u001b[0m\n\u001b[0m\u001b[1;32m      4\u001b[0m \u001b[0mplt\u001b[0m\u001b[0;34m.\u001b[0m\u001b[0mylabel\u001b[0m\u001b[0;34m(\u001b[0m\u001b[0;34m\"RMS~error \\n(Lower is better)\"\u001b[0m\u001b[0;34m)\u001b[0m\u001b[0;34m\u001b[0m\u001b[0m\n\u001b[1;32m      5\u001b[0m \u001b[0mplt\u001b[0m\u001b[0;34m.\u001b[0m\u001b[0mlegend\u001b[0m\u001b[0;34m(\u001b[0m\u001b[0mloc\u001b[0m\u001b[0;34m=\u001b[0m\u001b[0;36m3\u001b[0m\u001b[0;34m)\u001b[0m\u001b[0;34m\u001b[0m\u001b[0m\n",
      "\u001b[0;32m/Users/nipunbatra/anaconda/lib/python2.7/site-packages/pandas/core/frame.pyc\u001b[0m in \u001b[0;36m__init__\u001b[0;34m(self, data, index, columns, dtype, copy)\u001b[0m\n\u001b[1;32m    264\u001b[0m                                  dtype=dtype, copy=copy)\n\u001b[1;32m    265\u001b[0m         \u001b[0;32melif\u001b[0m \u001b[0misinstance\u001b[0m\u001b[0;34m(\u001b[0m\u001b[0mdata\u001b[0m\u001b[0;34m,\u001b[0m \u001b[0mdict\u001b[0m\u001b[0;34m)\u001b[0m\u001b[0;34m:\u001b[0m\u001b[0;34m\u001b[0m\u001b[0m\n\u001b[0;32m--> 266\u001b[0;31m             \u001b[0mmgr\u001b[0m \u001b[0;34m=\u001b[0m \u001b[0mself\u001b[0m\u001b[0;34m.\u001b[0m\u001b[0m_init_dict\u001b[0m\u001b[0;34m(\u001b[0m\u001b[0mdata\u001b[0m\u001b[0;34m,\u001b[0m \u001b[0mindex\u001b[0m\u001b[0;34m,\u001b[0m \u001b[0mcolumns\u001b[0m\u001b[0;34m,\u001b[0m \u001b[0mdtype\u001b[0m\u001b[0;34m=\u001b[0m\u001b[0mdtype\u001b[0m\u001b[0;34m)\u001b[0m\u001b[0;34m\u001b[0m\u001b[0m\n\u001b[0m\u001b[1;32m    267\u001b[0m         \u001b[0;32melif\u001b[0m \u001b[0misinstance\u001b[0m\u001b[0;34m(\u001b[0m\u001b[0mdata\u001b[0m\u001b[0;34m,\u001b[0m \u001b[0mma\u001b[0m\u001b[0;34m.\u001b[0m\u001b[0mMaskedArray\u001b[0m\u001b[0;34m)\u001b[0m\u001b[0;34m:\u001b[0m\u001b[0;34m\u001b[0m\u001b[0m\n\u001b[1;32m    268\u001b[0m             \u001b[0;32mimport\u001b[0m \u001b[0mnumpy\u001b[0m\u001b[0;34m.\u001b[0m\u001b[0mma\u001b[0m\u001b[0;34m.\u001b[0m\u001b[0mmrecords\u001b[0m \u001b[0;32mas\u001b[0m \u001b[0mmrecords\u001b[0m\u001b[0;34m\u001b[0m\u001b[0m\n",
      "\u001b[0;32m/Users/nipunbatra/anaconda/lib/python2.7/site-packages/pandas/core/frame.pyc\u001b[0m in \u001b[0;36m_init_dict\u001b[0;34m(self, data, index, columns, dtype)\u001b[0m\n\u001b[1;32m    400\u001b[0m             \u001b[0marrays\u001b[0m \u001b[0;34m=\u001b[0m \u001b[0;34m[\u001b[0m\u001b[0mdata\u001b[0m\u001b[0;34m[\u001b[0m\u001b[0mk\u001b[0m\u001b[0;34m]\u001b[0m \u001b[0;32mfor\u001b[0m \u001b[0mk\u001b[0m \u001b[0;32min\u001b[0m \u001b[0mkeys\u001b[0m\u001b[0;34m]\u001b[0m\u001b[0;34m\u001b[0m\u001b[0m\n\u001b[1;32m    401\u001b[0m \u001b[0;34m\u001b[0m\u001b[0m\n\u001b[0;32m--> 402\u001b[0;31m         \u001b[0;32mreturn\u001b[0m \u001b[0m_arrays_to_mgr\u001b[0m\u001b[0;34m(\u001b[0m\u001b[0marrays\u001b[0m\u001b[0;34m,\u001b[0m \u001b[0mdata_names\u001b[0m\u001b[0;34m,\u001b[0m \u001b[0mindex\u001b[0m\u001b[0;34m,\u001b[0m \u001b[0mcolumns\u001b[0m\u001b[0;34m,\u001b[0m \u001b[0mdtype\u001b[0m\u001b[0;34m=\u001b[0m\u001b[0mdtype\u001b[0m\u001b[0;34m)\u001b[0m\u001b[0;34m\u001b[0m\u001b[0m\n\u001b[0m\u001b[1;32m    403\u001b[0m \u001b[0;34m\u001b[0m\u001b[0m\n\u001b[1;32m    404\u001b[0m     \u001b[0;32mdef\u001b[0m \u001b[0m_init_ndarray\u001b[0m\u001b[0;34m(\u001b[0m\u001b[0mself\u001b[0m\u001b[0;34m,\u001b[0m \u001b[0mvalues\u001b[0m\u001b[0;34m,\u001b[0m \u001b[0mindex\u001b[0m\u001b[0;34m,\u001b[0m \u001b[0mcolumns\u001b[0m\u001b[0;34m,\u001b[0m \u001b[0mdtype\u001b[0m\u001b[0;34m=\u001b[0m\u001b[0mNone\u001b[0m\u001b[0;34m,\u001b[0m \u001b[0mcopy\u001b[0m\u001b[0;34m=\u001b[0m\u001b[0mFalse\u001b[0m\u001b[0;34m)\u001b[0m\u001b[0;34m:\u001b[0m\u001b[0;34m\u001b[0m\u001b[0m\n",
      "\u001b[0;32m/Users/nipunbatra/anaconda/lib/python2.7/site-packages/pandas/core/frame.pyc\u001b[0m in \u001b[0;36m_arrays_to_mgr\u001b[0;34m(arrays, arr_names, index, columns, dtype)\u001b[0m\n\u001b[1;32m   5396\u001b[0m     \u001b[0;31m# figure out the index, if necessary\u001b[0m\u001b[0;34m\u001b[0m\u001b[0;34m\u001b[0m\u001b[0m\n\u001b[1;32m   5397\u001b[0m     \u001b[0;32mif\u001b[0m \u001b[0mindex\u001b[0m \u001b[0;32mis\u001b[0m \u001b[0mNone\u001b[0m\u001b[0;34m:\u001b[0m\u001b[0;34m\u001b[0m\u001b[0m\n\u001b[0;32m-> 5398\u001b[0;31m         \u001b[0mindex\u001b[0m \u001b[0;34m=\u001b[0m \u001b[0mextract_index\u001b[0m\u001b[0;34m(\u001b[0m\u001b[0marrays\u001b[0m\u001b[0;34m)\u001b[0m\u001b[0;34m\u001b[0m\u001b[0m\n\u001b[0m\u001b[1;32m   5399\u001b[0m     \u001b[0;32melse\u001b[0m\u001b[0;34m:\u001b[0m\u001b[0;34m\u001b[0m\u001b[0m\n\u001b[1;32m   5400\u001b[0m         \u001b[0mindex\u001b[0m \u001b[0;34m=\u001b[0m \u001b[0m_ensure_index\u001b[0m\u001b[0;34m(\u001b[0m\u001b[0mindex\u001b[0m\u001b[0;34m)\u001b[0m\u001b[0;34m\u001b[0m\u001b[0m\n",
      "\u001b[0;32m/Users/nipunbatra/anaconda/lib/python2.7/site-packages/pandas/core/frame.pyc\u001b[0m in \u001b[0;36mextract_index\u001b[0;34m(data)\u001b[0m\n\u001b[1;32m   5435\u001b[0m \u001b[0;34m\u001b[0m\u001b[0m\n\u001b[1;32m   5436\u001b[0m         \u001b[0;32mif\u001b[0m \u001b[0;32mnot\u001b[0m \u001b[0mindexes\u001b[0m \u001b[0;32mand\u001b[0m \u001b[0;32mnot\u001b[0m \u001b[0mraw_lengths\u001b[0m\u001b[0;34m:\u001b[0m\u001b[0;34m\u001b[0m\u001b[0m\n\u001b[0;32m-> 5437\u001b[0;31m             raise ValueError('If using all scalar values, you must pass'\n\u001b[0m\u001b[1;32m   5438\u001b[0m                              ' an index')\n\u001b[1;32m   5439\u001b[0m \u001b[0;34m\u001b[0m\u001b[0m\n",
      "\u001b[0;31mValueError\u001b[0m: If using all scalar values, you must pass an index"
     ],
     "output_type": "error"
    }
   ],
   "source": [
    "from plot_functions import autolabel, latexify, tableau20blind, format_axes\n",
    "latexify()\n",
    "ax = pd.DataFrame(res).T[['Oracle','Learnt from SD', 'Transferred from Austin']].plot(kind=\"line\",rot=0, colors=tableau20blind[::2])\n",
    "plt.ylabel(\"RMS~error \\n(Lower is better)\")\n",
    "plt.legend(loc=3)\n",
    "rects = ax.patches\n",
    "autolabel(rects, ax)\n",
    "format_axes(ax)\n",
    "#plt.savefig(\"/Users/nipunbatra/git/scalable-nilm/results/transfer.png\",bbox_inches=\"tight\")\n",
    "#plt.savefig(\"/Users/nipunbatra/git/scalable-nilm/results/transfer.pdf\",bbox_inches=\"tight\")"
   ]
  },
  {
   "cell_type": "code",
   "execution_count": null,
   "metadata": {
    "collapsed": false
   },
   "outputs": [],
   "source": [
    "difference_fraction = {}\n",
    "for appliance in ['hvac','fridge']:\n",
    "    difference_fraction[appliance] = {}\n",
    "    for reuse_factors in [True, False]:\n",
    "        if reuse_factors:\n",
    "            string = \"Transferred from Austin\"\n",
    "        else:\n",
    "            string = \"Learnt from SD\"\n",
    "        gtf, prf, rms = compute_rmse_fraction(appliance,pd.DataFrame(out[appliance][reuse_factors]).T,\n",
    "                                                             \"SanDiego\")\n",
    "        errors[appliance][string] = (prf-gtf).mean().mean()"
   ]
  },
  {
   "cell_type": "code",
   "execution_count": null,
   "metadata": {
    "collapsed": false
   },
   "outputs": [],
   "source": [
    "appliance=\"hvac\"\n",
    "gtf, prf, rms = compute_rmse_fraction(appliance,pd.DataFrame(out[appliance][False]).T,\n",
    "                                                             \"SanDiego\")"
   ]
  },
  {
   "cell_type": "code",
   "execution_count": null,
   "metadata": {
    "collapsed": false
   },
   "outputs": [],
   "source": [
    "gtf_au, prf_au, rms = compute_rmse_fraction(appliance,pd.DataFrame(out[appliance][True]).T,\n",
    "                                                             \"SanDiego\")"
   ]
  },
  {
   "cell_type": "code",
   "execution_count": null,
   "metadata": {
    "collapsed": false
   },
   "outputs": [],
   "source": [
    "prf.describe()"
   ]
  },
  {
   "cell_type": "code",
   "execution_count": null,
   "metadata": {
    "collapsed": false
   },
   "outputs": [],
   "source": [
    "prf_au.describe()"
   ]
  },
  {
   "cell_type": "code",
   "execution_count": null,
   "metadata": {
    "collapsed": true
   },
   "outputs": [],
   "source": [
    "X_sd ={}\n",
    "Y_sd= {}\n",
    "for appliance in ['fridge','hvac']:\n",
    "    X_sd[appliance], Y_sd[appliance], res_sd, df_austin = f(year, seed, 54, train_regions, {\"Austin\":0.0,\"Boulder\":0,\"SanDiego\":1.0}, \n",
    "              \"SanDiego\", feature_list, appliance, feature_comb, lat)"
   ]
  },
  {
   "cell_type": "code",
   "execution_count": null,
   "metadata": {
    "collapsed": false
   },
   "outputs": [],
   "source": [
    "pd.DataFrame(X_sd['fridge']).T.describe()"
   ]
  },
  {
   "cell_type": "code",
   "execution_count": null,
   "metadata": {
    "collapsed": false
   },
   "outputs": [],
   "source": [
    "pd.DataFrame(X_austin['fridge']).T.describe()"
   ]
  },
  {
   "cell_type": "code",
   "execution_count": null,
   "metadata": {
    "collapsed": false
   },
   "outputs": [],
   "source": [
    "X_fridge = pd.DataFrame({\"Austin\":np.array(X_fridge_austin).flatten(),'SanDiego':np.array(X_fridge_sd).flatten()})\n",
    "X_hvac = pd.DataFrame({\"Austin\":np.array(X_hvac_austin).flatten(),'SanDiego':np.array(X_hvac_sd).flatten()})"
   ]
  },
  {
   "cell_type": "code",
   "execution_count": null,
   "metadata": {
    "collapsed": false
   },
   "outputs": [],
   "source": [
    "X_fridge[:12].plot()\n",
    "plt.xlabel(\"Month of year\")\n",
    "plt.ylabel(\"Latent factors for fridge\")"
   ]
  },
  {
   "cell_type": "code",
   "execution_count": null,
   "metadata": {
    "collapsed": false
   },
   "outputs": [],
   "source": [
    "X_hvac[6:].plot()\n",
    "plt.xlabel(\"Month of year\")\n",
    "plt.ylabel(\"Latent factors for HVAC\")"
   ]
  },
  {
   "cell_type": "code",
   "execution_count": null,
   "metadata": {
    "collapsed": false
   },
   "outputs": [],
   "source": [
    "X_fridge.plot()"
   ]
  },
  {
   "cell_type": "markdown",
   "metadata": {
    "collapsed": true
   },
   "source": [
    "### Using the fridge latent factors from Austin region"
   ]
  },
  {
   "cell_type": "code",
   "execution_count": null,
   "metadata": {
    "collapsed": false
   },
   "outputs": [],
   "source": [
    ""
   ]
  },
  {
   "cell_type": "code",
   "execution_count": null,
   "metadata": {
    "collapsed": false
   },
   "outputs": [],
   "source": [
    "pd.DataFrame(X).head()"
   ]
  },
  {
   "cell_type": "code",
   "execution_count": null,
   "metadata": {
    "collapsed": false
   },
   "outputs": [],
   "source": [
    "pd.DataFrame(X_fridge_austin).head()"
   ]
  },
  {
   "cell_type": "code",
   "execution_count": null,
   "metadata": {
    "collapsed": true
   },
   "outputs": [],
   "source": [
    ""
   ]
  },
  {
   "cell_type": "code",
   "execution_count": null,
   "metadata": {
    "collapsed": false
   },
   "outputs": [],
   "source": [
    "X_fridge_sd, Y_fridge_sd, res_sd, df_fridge_sd = f(year, seed, 54, train_regions, {\"Austin\":0,\"Boulder\":0,\"SanDiego\":1}, \n",
    "              \"SanDiego\", feature_list, \"fridge\", feature_comb, lat)\n",
    "X_hvac_sd, Y_hvac_sd, res_sd, df_hvac_sd = f(year, seed, 54, train_regions, {\"Austin\":0,\"Boulder\":0,\"SanDiego\":1}, \n",
    "              \"SanDiego\", feature_list, \"hvac\", feature_comb, lat)"
   ]
  }
 ],
 "metadata": {
  "kernelspec": {
   "display_name": "Python 2",
   "language": "python",
   "name": "python2"
  },
  "language_info": {
   "codemirror_mode": {
    "name": "ipython",
    "version": 2.0
   },
   "file_extension": ".py",
   "mimetype": "text/x-python",
   "name": "python",
   "nbconvert_exporter": "python",
   "pygments_lexer": "ipython2",
   "version": "2.7.11"
  }
 },
 "nbformat": 4,
 "nbformat_minor": 0
}