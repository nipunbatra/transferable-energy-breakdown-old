{
 "cells": [
  {
   "cell_type": "code",
   "execution_count": 1,
   "metadata": {
    "collapsed": true
   },
   "outputs": [],
   "source": [
    "import sys"
   ]
  },
  {
   "cell_type": "code",
   "execution_count": 3,
   "metadata": {
    "collapsed": false
   },
   "outputs": [],
   "source": [
    "sys.path.append(\"../code/\")"
   ]
  },
  {
   "cell_type": "code",
   "execution_count": 72,
   "metadata": {
    "collapsed": true
   },
   "outputs": [],
   "source": [
    "%matplotlib inline\n",
    "import matplotlib.pyplot as plt"
   ]
  },
  {
   "cell_type": "code",
   "execution_count": 15,
   "metadata": {
    "collapsed": false
   },
   "outputs": [
    {
     "name": "stdout",
     "output_type": "stream",
     "text": [
      "['/Users/nipunbatra/anaconda/lib/python2.7/site-packages/ipykernel/__main__.py', '-f', '/Users/nipunbatra/Library/Jupyter/runtime/kernel-6d24d980-c3c9-475e-9ec1-3ef4790ed501.json']\n"
     ]
    }
   ],
   "source": [
    "import sys, traceback\n",
    "print sys.argv\n",
    "from docopt import docopt\n",
    "import pandas as pd\n",
    "import time\n",
    "import numpy as np\n",
    "import os\n",
    "np.random.seed(0)\n",
    "\n",
    "from common_functions import create_region_df, features_dict,create_feature_combinations, create_df_main\n",
    "from matrix_factorisation import nmf_features, transform, transform_2, \\\n",
    "    preprocess, get_static_features, get_static_features_region_level\n"
   ]
  },
  {
   "cell_type": "code",
   "execution_count": 38,
   "metadata": {
    "collapsed": false
   },
   "outputs": [],
   "source": [
    "year=2014\n",
    "seed = 0\n",
    "test_home=54\n",
    "train_regions = [\"Austin\",\"Boulder\",\"SanDiego\"]\n",
    "train_fraction_dict = {region:0 for region in train_regions}\n",
    "train_fraction_dict['SanDiego']=1.0\n",
    "test_region = 'SanDiego'\n",
    "feature_list = ['energy','home']\n",
    "appliance=\"hvac\"\n",
    "feature_comb = ['None']"
   ]
  },
  {
   "cell_type": "code",
   "execution_count": 39,
   "metadata": {
    "collapsed": true
   },
   "outputs": [],
   "source": [
    "def factorise(year, seed, test_home, train_regions, train_fraction_dict, \n",
    "              test_region, feature_list, appliance, feature_comb, lat):\n",
    "    df, dfc = create_df_main(appliance, year, train_regions, train_fraction_dict,\n",
    "                test_region, test_home, feature_list, seed)\n",
    "\n",
    "    if appliance==\"hvac\":\n",
    "        start, end = 5,11\n",
    "    else:\n",
    "        start, end=1,13\n",
    "\n",
    "    X_matrix, X_normalised, col_max, col_min, appliance_cols, aggregate_cols = preprocess(df, dfc, appliance)\n",
    "    if \"region\" in feature_list:\n",
    "        static_features = get_static_features_region_level(dfc, X_normalised)\n",
    "    else:\n",
    "        static_features = get_static_features(dfc, X_normalised)\n",
    "    \n",
    "    if \"region\" in feature_list:\n",
    "        max_f = 20\n",
    "    else:\n",
    "        max_f=3\n",
    "    \n",
    "    if 'None' in feature_comb:\n",
    "        idx_user=None\n",
    "        data_user=None\n",
    "    else:\n",
    "        idx_user = {}\n",
    "        data_user = {}\n",
    "        dictionary_static = {}\n",
    "        for feature in feature_comb:\n",
    "            dictionary_static[feature]=static_features[feature]\n",
    "        static_features_df = pd.DataFrame(dictionary_static, index=range(len(X_normalised.index)))\n",
    "        for fe in static_features_df.columns:\n",
    "            idx_user[fe]=np.where(static_features_df[fe].notnull())[0]\n",
    "            data_user[fe]=static_features_df[fe].dropna().values\n",
    "    \n",
    "    X_home = X_normalised.copy()\n",
    "    for month in range(start, end):\n",
    "        X_home.loc[test_home, '%s_%d' %(appliance, month)] = np.NAN\n",
    "    mask = X_home.notnull().values\n",
    "    # Ensure repeatably random problem data.\n",
    "    A = X_home.copy()\n",
    "    X, Y, res = nmf_features(A, lat, 0.01, False, idx_user, data_user, 8)\n",
    "    pred_df = pd.DataFrame(Y*X)\n",
    "    pred_df.columns = X_normalised.columns\n",
    "    pred_df.index = X_normalised.index\n",
    "\n",
    "    return X, Y, res\n"
   ]
  },
  {
   "cell_type": "code",
   "execution_count": 92,
   "metadata": {
    "collapsed": false
   },
   "outputs": [
    {
     "name": "stdout",
     "output_type": "stream",
     "text": [
      "Int64Index([], dtype='int64') 0\n",
      "Int64Index([], dtype='int64') 0\n",
      "Int64Index([1450, 9775, 6377, 4495, 9585, 9213, 8342, 4934, 7062, 8574, 3687,\n",
      "            6547, 4095, 6429, 8733, 7639,  203, 9836, 3864, 1731, 7114, 9612,\n",
      "            7409, 4329, 3938, 9370, 1524, 8061, 6497, 5938],\n",
      "           dtype='int64') 30\n",
      "Int64Index([], dtype='int64') 0\n",
      "Int64Index([], dtype='int64') 0\n",
      "Int64Index([9370, 6497, 4934, 9213, 7062, 4761, 3864,  527, 3938, 8733, 8342,\n",
      "            9836, 9612, 8574, 9585, 2606, 4095, 1731, 5938, 4495, 2354, 8061,\n",
      "             203, 4083, 7639, 7409, 2031, 7114, 1524, 6377, 6547, 6429, 3687,\n",
      "            9775, 1450],\n",
      "           dtype='int64') 35\n"
     ]
    }
   ],
   "source": [
    "X_fridge_sd, Y_hvac_sd, res_sd = factorise(year, seed, 54, train_regions, {\"Austin\":0,\"Boulder\":0,\"SanDiego\":1}, \n",
    "              \"SanDiego\", feature_list, \"fridge\", feature_comb, lat)\n",
    "X_hvac_sd, Y_hvac_sd, res_sd = factorise(year, seed, 54, train_regions, {\"Austin\":0,\"Boulder\":0,\"SanDiego\":1}, \n",
    "              \"SanDiego\", feature_list, \"hvac\", feature_comb, lat)"
   ]
  },
  {
   "cell_type": "code",
   "execution_count": 93,
   "metadata": {
    "collapsed": false
   },
   "outputs": [
    {
     "name": "stdout",
     "output_type": "stream",
     "text": [
      "Int64Index([2004, 8029, 6691, 4342, 7491, 9875,  187, 7719, 1617, 8188,\n",
      "            ...\n",
      "            8142, 6125,  114, 5552, 7641, 9737, 5456, 3032, 1069, 4856],\n",
      "           dtype='int64', length=339) 339\n",
      "Int64Index([], dtype='int64') 0\n",
      "Int64Index([], dtype='int64') 0\n",
      "Int64Index([8995, 3831, 5356, 9701, 7731, 7719, 3500,  115,  370, 6423,\n",
      "            ...\n",
      "            4874,  114, 9019, 4375, 6078, 7982, 4342, 2751,  980, 3873],\n",
      "           dtype='int64', length=416) 416\n",
      "Int64Index([], dtype='int64') 0\n",
      "Int64Index([], dtype='int64') 0\n"
     ]
    }
   ],
   "source": [
    "X_fridge_austin, Y_hvac_austin, res_sd = factorise(year, seed, 54, train_regions, {\"Austin\":1.0,\"Boulder\":0,\"SanDiego\":0}, \n",
    "              \"Austin\", feature_list, \"fridge\", feature_comb, lat)\n",
    "X_hvac_austin, Y_hvac_austin, res_sd = factorise(year, seed, 54, train_regions, {\"Austin\":1.0,\"Boulder\":0,\"SanDiego\":0}, \n",
    "              \"Austin\", feature_list, \"hvac\", feature_comb, lat)"
   ]
  },
  {
   "cell_type": "code",
   "execution_count": 94,
   "metadata": {
    "collapsed": false
   },
   "outputs": [],
   "source": [
    "X_fridge = pd.DataFrame({\"Austin\":np.array(X_fridge_austin).flatten(),'SanDiego':np.array(X_fridge_sd).flatten()})\n",
    "X_hvac = pd.DataFrame({\"Austin\":np.array(X_hvac_austin).flatten(),'SanDiego':np.array(X_hvac_sd).flatten()})"
   ]
  },
  {
   "cell_type": "code",
   "execution_count": 97,
   "metadata": {
    "collapsed": false
   },
   "outputs": [
    {
     "data": {
      "text/html": [
       "<div>\n",
       "<table border=\"1\" class=\"dataframe\">\n",
       "  <thead>\n",
       "    <tr style=\"text-align: right;\">\n",
       "      <th></th>\n",
       "      <th>Austin</th>\n",
       "      <th>SanDiego</th>\n",
       "    </tr>\n",
       "  </thead>\n",
       "  <tbody>\n",
       "    <tr>\n",
       "      <th>0</th>\n",
       "      <td>0.020392</td>\n",
       "      <td>0.108988</td>\n",
       "    </tr>\n",
       "    <tr>\n",
       "      <th>1</th>\n",
       "      <td>0.045690</td>\n",
       "      <td>0.083935</td>\n",
       "    </tr>\n",
       "    <tr>\n",
       "      <th>2</th>\n",
       "      <td>0.058161</td>\n",
       "      <td>0.199230</td>\n",
       "    </tr>\n",
       "    <tr>\n",
       "      <th>3</th>\n",
       "      <td>0.070302</td>\n",
       "      <td>0.231155</td>\n",
       "    </tr>\n",
       "    <tr>\n",
       "      <th>4</th>\n",
       "      <td>0.044504</td>\n",
       "      <td>0.265589</td>\n",
       "    </tr>\n",
       "    <tr>\n",
       "      <th>5</th>\n",
       "      <td>0.025627</td>\n",
       "      <td>0.098460</td>\n",
       "    </tr>\n",
       "  </tbody>\n",
       "</table>\n",
       "</div>"
      ],
      "text/plain": [
       "     Austin  SanDiego\n",
       "0  0.020392  0.108988\n",
       "1  0.045690  0.083935\n",
       "2  0.058161  0.199230\n",
       "3  0.070302  0.231155\n",
       "4  0.044504  0.265589\n",
       "5  0.025627  0.098460"
      ]
     },
     "execution_count": 97,
     "metadata": {},
     "output_type": "execute_result"
    }
   ],
   "source": [
    "X_hvac[:6]"
   ]
  },
  {
   "cell_type": "code",
   "execution_count": 95,
   "metadata": {
    "collapsed": false
   },
   "outputs": [
    {
     "data": {
      "text/plain": [
       "<matplotlib.axes._subplots.AxesSubplot at 0x116cecc50>"
      ]
     },
     "execution_count": 95,
     "metadata": {},
     "output_type": "execute_result"
    },
    {
     "data": {
      "image/png": "[encoded data removed]",
      "text/plain": [
       "<matplotlib.figure.Figure at 0x116ce5650>"
      ]
     },
     "metadata": {},
     "output_type": "display_data"
    }
   ],
   "source": [
    "X_hvac.plot()"
   ]
  },
  {
   "cell_type": "code",
   "execution_count": 65,
   "metadata": {
    "collapsed": false
   },
   "outputs": [],
   "source": [
    "from degree_days import *"
   ]
  },
  {
   "cell_type": "code",
   "execution_count": 99,
   "metadata": {
    "collapsed": false
   },
   "outputs": [
    {
     "data": {
      "text/plain": [
       "<matplotlib.collections.PathCollection at 0x115f78bd0>"
      ]
     },
     "execution_count": 99,
     "metadata": {},
     "output_type": "execute_result"
    },
    {
     "data": {
      "image/png": "[encoded data removed]",
      "text/plain": [
       "<matplotlib.figure.Figure at 0x116c35390>"
      ]
     },
     "metadata": {},
     "output_type": "display_data"
    }
   ],
   "source": [
    "plt.scatter(X_df[:6]['Austin'],dds[2014]['Austin'][4:10] )\n",
    "#dds[2014]['Austin'][4:9]"
   ]
  },
  {
   "cell_type": "code",
   "execution_count": 75,
   "metadata": {
    "collapsed": false
   },
   "outputs": [
    {
     "data": {
      "text/plain": [
       "6     0.107697\n",
       "7     0.142078\n",
       "8     0.160392\n",
       "9     0.179684\n",
       "10    0.140001\n",
       "11    0.112244\n",
       "Name: Austin, dtype: float64"
      ]
     },
     "execution_count": 75,
     "metadata": {},
     "output_type": "execute_result"
    }
   ],
   "source": [
    "X_df[6:]['Austin']"
   ]
  },
  {
   "cell_type": "code",
   "execution_count": 100,
   "metadata": {
    "collapsed": false
   },
   "outputs": [
    {
     "data": {
      "text/plain": [
       "[0.012706480304955527,\n",
       " 0.07369758576874205,\n",
       " 0.09148665819567979,\n",
       " 0.30495552731893266,\n",
       " 0.5184243964421855,\n",
       " 0.832274459974587,\n",
       " 0.9085133418043202,\n",
       " 1.0,\n",
       " 0.747141041931385,\n",
       " 0.4650571791613723,\n",
       " 0.054637865311308764,\n",
       " 0.03430749682337993]"
      ]
     },
     "execution_count": 100,
     "metadata": {},
     "output_type": "execute_result"
    }
   ],
   "source": [
    "dds[2014]['Austin']"
   ]
  },
  {
   "cell_type": "code",
   "execution_count": 77,
   "metadata": {
    "collapsed": false
   },
   "outputs": [
    {
     "data": {
      "text/plain": [
       "matrix([[ 0.02039206,  0.04568984,  0.0581605 ,  0.07030242,  0.04450363,\n",
       "          0.02562743,  0.10769739,  0.14207768,  0.16039202,  0.17968411,\n",
       "          0.14000083,  0.11224388]])"
      ]
     },
     "execution_count": 77,
     "metadata": {},
     "output_type": "execute_result"
    }
   ],
   "source": [
    "X_hvac_austin"
   ]
  },
  {
   "cell_type": "code",
   "execution_count": 78,
   "metadata": {
    "collapsed": false
   },
   "outputs": [
    {
     "data": {
      "text/plain": [
       "matrix([[ 0.50037877],\n",
       "        [ 0.25846533],\n",
       "        [ 0.36190634],\n",
       "        [ 0.18519378],\n",
       "        [ 0.64164236],\n",
       "        [ 0.91612977],\n",
       "        [ 1.32820979],\n",
       "        [ 0.23230988],\n",
       "        [ 0.86287042],\n",
       "        [ 0.81727218],\n",
       "        [ 1.13134948],\n",
       "        [ 0.50779661],\n",
       "        [ 0.34748687],\n",
       "        [ 0.71765476],\n",
       "        [ 0.31554283],\n",
       "        [ 1.34911238],\n",
       "        [ 0.97815815],\n",
       "        [ 0.64037072],\n",
       "        [ 0.2986775 ],\n",
       "        [ 0.33094265],\n",
       "        [ 0.90171486],\n",
       "        [ 0.76396439],\n",
       "        [ 0.14776769],\n",
       "        [ 0.60846783],\n",
       "        [ 0.40045271],\n",
       "        [ 0.5417921 ],\n",
       "        [ 0.78199659],\n",
       "        [ 0.78248434],\n",
       "        [ 0.54114435],\n",
       "        [ 0.39263816],\n",
       "        [ 0.85281926],\n",
       "        [ 1.60223993],\n",
       "        [ 1.42374286],\n",
       "        [ 0.98733554],\n",
       "        [ 0.93638901],\n",
       "        [ 4.87566995],\n",
       "        [ 0.64647819],\n",
       "        [ 0.11859901],\n",
       "        [ 0.86203369],\n",
       "        [ 0.70657032],\n",
       "        [ 1.19760582],\n",
       "        [ 1.08471411],\n",
       "        [ 0.4528264 ],\n",
       "        [ 0.60981294],\n",
       "        [ 0.18640162],\n",
       "        [ 0.62806855],\n",
       "        [ 0.96870385],\n",
       "        [ 1.57589028],\n",
       "        [ 0.24729211],\n",
       "        [ 1.28308917],\n",
       "        [ 0.47678808],\n",
       "        [ 0.67390283],\n",
       "        [ 0.75980198],\n",
       "        [ 0.32966737],\n",
       "        [ 1.17772094],\n",
       "        [ 2.70299372],\n",
       "        [ 0.72419656],\n",
       "        [ 0.27047697],\n",
       "        [ 0.80575745],\n",
       "        [ 0.6728357 ],\n",
       "        [ 1.17228552],\n",
       "        [ 0.21433122],\n",
       "        [ 0.54649252],\n",
       "        [ 0.87479127],\n",
       "        [ 0.26491428],\n",
       "        [ 0.79540031],\n",
       "        [ 0.17496622],\n",
       "        [ 0.41391933],\n",
       "        [ 0.64069815],\n",
       "        [ 0.25086871],\n",
       "        [ 0.56044679],\n",
       "        [ 0.79806986],\n",
       "        [ 0.462925  ],\n",
       "        [ 0.43081496],\n",
       "        [ 0.661466  ],\n",
       "        [ 0.25423151],\n",
       "        [ 1.05819612],\n",
       "        [ 1.33762303],\n",
       "        [ 0.25453188],\n",
       "        [ 0.25358447],\n",
       "        [ 0.26051186],\n",
       "        [ 0.42073215],\n",
       "        [ 0.38499729],\n",
       "        [ 0.34541626],\n",
       "        [ 0.732972  ],\n",
       "        [ 0.65346527],\n",
       "        [ 0.17895957],\n",
       "        [ 0.38397355],\n",
       "        [ 0.47714357],\n",
       "        [ 0.88232705],\n",
       "        [ 1.21809865],\n",
       "        [ 0.70871056],\n",
       "        [ 0.62570324],\n",
       "        [ 0.18848318],\n",
       "        [ 0.81508202],\n",
       "        [ 0.76323191],\n",
       "        [ 0.9000043 ],\n",
       "        [ 0.72698986],\n",
       "        [ 0.58379726],\n",
       "        [ 0.70942572],\n",
       "        [ 0.44477036],\n",
       "        [ 0.79710373],\n",
       "        [ 1.63961447],\n",
       "        [ 1.49440504],\n",
       "        [ 0.61164958],\n",
       "        [ 0.49035868],\n",
       "        [ 0.91610322],\n",
       "        [ 0.48087357],\n",
       "        [ 0.57948141],\n",
       "        [ 0.4296951 ],\n",
       "        [ 0.97564223],\n",
       "        [ 0.65928912],\n",
       "        [ 0.36928573],\n",
       "        [ 0.07663665],\n",
       "        [ 0.12630127],\n",
       "        [ 0.38054426],\n",
       "        [ 0.67573594],\n",
       "        [ 0.8990424 ],\n",
       "        [ 0.1757079 ],\n",
       "        [ 0.37789088],\n",
       "        [ 0.9603824 ],\n",
       "        [ 1.2174236 ],\n",
       "        [ 0.77572301],\n",
       "        [ 0.59272458],\n",
       "        [ 0.76812192],\n",
       "        [ 0.12308956],\n",
       "        [ 0.95906437],\n",
       "        [ 0.43108198],\n",
       "        [ 0.67802718],\n",
       "        [ 0.43398481],\n",
       "        [ 0.82155453],\n",
       "        [ 0.55952474],\n",
       "        [ 0.4956062 ],\n",
       "        [ 1.10624041],\n",
       "        [ 0.36087694],\n",
       "        [ 0.8376984 ],\n",
       "        [ 0.36652623],\n",
       "        [ 1.03102583],\n",
       "        [ 0.88632776],\n",
       "        [ 2.06923983],\n",
       "        [ 0.77254693],\n",
       "        [ 1.94520366],\n",
       "        [ 0.63350717],\n",
       "        [ 0.83612103],\n",
       "        [ 0.19911145],\n",
       "        [ 0.35833373],\n",
       "        [ 0.58330661],\n",
       "        [ 0.20056465],\n",
       "        [ 0.47177847],\n",
       "        [ 0.37501099],\n",
       "        [ 0.53300546],\n",
       "        [ 0.21334392],\n",
       "        [ 0.74694701],\n",
       "        [ 0.71158355],\n",
       "        [ 0.49088652],\n",
       "        [ 0.37490327],\n",
       "        [ 1.02293752],\n",
       "        [ 0.67051343],\n",
       "        [ 0.68516137],\n",
       "        [ 0.72796673],\n",
       "        [ 0.88663133],\n",
       "        [ 0.46765149],\n",
       "        [ 0.57473094],\n",
       "        [ 1.05876113],\n",
       "        [ 1.12706982],\n",
       "        [ 0.63708411],\n",
       "        [ 0.72430368],\n",
       "        [ 1.1653446 ],\n",
       "        [ 0.80565083],\n",
       "        [ 0.73673098],\n",
       "        [ 0.57542414],\n",
       "        [ 0.38301356],\n",
       "        [ 0.76620414],\n",
       "        [ 0.81173432],\n",
       "        [ 0.15812598],\n",
       "        [ 0.53722949],\n",
       "        [ 0.28423631],\n",
       "        [ 0.18391946],\n",
       "        [ 0.4851292 ],\n",
       "        [ 0.09534721],\n",
       "        [ 0.31614941],\n",
       "        [ 0.1930107 ],\n",
       "        [ 0.32296089],\n",
       "        [ 0.6206835 ],\n",
       "        [ 0.87027283],\n",
       "        [ 0.59489384],\n",
       "        [ 0.56933134],\n",
       "        [ 0.7722547 ],\n",
       "        [ 1.20946236],\n",
       "        [ 0.28229178],\n",
       "        [ 0.43033234],\n",
       "        [ 0.38745735],\n",
       "        [ 0.51636033],\n",
       "        [ 0.9776367 ],\n",
       "        [ 0.22256587],\n",
       "        [ 0.52979471],\n",
       "        [ 1.77685931],\n",
       "        [ 0.53149706],\n",
       "        [ 0.26292651],\n",
       "        [ 0.70008186],\n",
       "        [ 0.6419324 ],\n",
       "        [ 0.30517335],\n",
       "        [ 0.52108843],\n",
       "        [ 0.25008778],\n",
       "        [ 0.1698526 ],\n",
       "        [ 0.22018627],\n",
       "        [ 0.40374188],\n",
       "        [ 0.62146552],\n",
       "        [ 0.11726559],\n",
       "        [ 1.58248328],\n",
       "        [ 0.62893787],\n",
       "        [ 0.47121374],\n",
       "        [ 0.31370321],\n",
       "        [ 0.36289443],\n",
       "        [ 0.54811975],\n",
       "        [ 0.34672693],\n",
       "        [ 0.50074667],\n",
       "        [ 1.37786021],\n",
       "        [ 0.72023265],\n",
       "        [ 0.41805839],\n",
       "        [ 0.78392932],\n",
       "        [ 0.84815428],\n",
       "        [ 0.30702714],\n",
       "        [ 0.26063949],\n",
       "        [ 0.29117959],\n",
       "        [ 0.38626084],\n",
       "        [ 0.20797805],\n",
       "        [ 0.74426864],\n",
       "        [ 0.96946455],\n",
       "        [ 0.59730235],\n",
       "        [ 0.53389829],\n",
       "        [ 0.64655841],\n",
       "        [ 0.29568596],\n",
       "        [ 0.50527706],\n",
       "        [ 0.34649088],\n",
       "        [ 0.49699038],\n",
       "        [ 0.7851231 ],\n",
       "        [ 1.19879636],\n",
       "        [ 0.29763845],\n",
       "        [ 0.49935919],\n",
       "        [ 0.36539209],\n",
       "        [ 0.96720036],\n",
       "        [ 1.01375444],\n",
       "        [ 0.5780414 ],\n",
       "        [ 0.18453081],\n",
       "        [ 0.6966208 ],\n",
       "        [ 0.26419843],\n",
       "        [ 0.65523023],\n",
       "        [ 0.28459935],\n",
       "        [ 1.22705605],\n",
       "        [ 0.53234603],\n",
       "        [ 0.64884439],\n",
       "        [ 0.59405606],\n",
       "        [ 0.29195281],\n",
       "        [ 1.14913854],\n",
       "        [ 0.17449121],\n",
       "        [ 0.52450858],\n",
       "        [ 0.22213002],\n",
       "        [ 0.6989629 ],\n",
       "        [ 0.76672439],\n",
       "        [ 1.48556629],\n",
       "        [ 0.40087006],\n",
       "        [ 0.43022614],\n",
       "        [ 1.2563993 ],\n",
       "        [ 0.61187518],\n",
       "        [ 0.96114918],\n",
       "        [ 0.24903226],\n",
       "        [ 0.32445095],\n",
       "        [ 1.02877581],\n",
       "        [ 1.17164152],\n",
       "        [ 0.95609689],\n",
       "        [ 0.82536291],\n",
       "        [ 0.73611725],\n",
       "        [ 0.1493107 ],\n",
       "        [ 0.80104634],\n",
       "        [ 0.68099193],\n",
       "        [ 1.07304136],\n",
       "        [ 0.66579064],\n",
       "        [ 0.10315148],\n",
       "        [ 0.36578916],\n",
       "        [ 1.00617654],\n",
       "        [ 0.95129148],\n",
       "        [ 0.76354438],\n",
       "        [ 0.78458788],\n",
       "        [ 1.2541476 ],\n",
       "        [ 0.72368115],\n",
       "        [ 0.94693094],\n",
       "        [ 0.3506256 ],\n",
       "        [ 1.44137569],\n",
       "        [ 0.44774375],\n",
       "        [ 0.6454445 ],\n",
       "        [ 0.84977792],\n",
       "        [ 0.79135825],\n",
       "        [ 0.34313875],\n",
       "        [ 0.42090226],\n",
       "        [ 0.33361625],\n",
       "        [ 0.82315065],\n",
       "        [ 0.72896166],\n",
       "        [ 0.37598171],\n",
       "        [ 0.49825976],\n",
       "        [ 0.60642051],\n",
       "        [ 0.46258017],\n",
       "        [ 0.16165892],\n",
       "        [ 0.90097192],\n",
       "        [ 0.67214145],\n",
       "        [ 0.49484332],\n",
       "        [ 0.35309986],\n",
       "        [ 0.45238358],\n",
       "        [ 1.08104634],\n",
       "        [ 0.62210618],\n",
       "        [ 0.95522949],\n",
       "        [ 1.07537801],\n",
       "        [ 0.43207743],\n",
       "        [ 0.22313311],\n",
       "        [ 0.70515795],\n",
       "        [ 0.31241722],\n",
       "        [ 0.85971547],\n",
       "        [ 0.80594052],\n",
       "        [ 0.58808486],\n",
       "        [ 0.87373758],\n",
       "        [ 0.15835396],\n",
       "        [ 0.67131528],\n",
       "        [ 0.17560633],\n",
       "        [ 0.92817255],\n",
       "        [ 0.27468033],\n",
       "        [ 0.53533549],\n",
       "        [ 0.27477156],\n",
       "        [ 0.69915424],\n",
       "        [ 0.32942888],\n",
       "        [ 0.44118929],\n",
       "        [ 1.43220853],\n",
       "        [ 0.8530037 ],\n",
       "        [ 0.53195654],\n",
       "        [ 0.14966971],\n",
       "        [ 0.19678823],\n",
       "        [ 1.04254056],\n",
       "        [ 0.26204017],\n",
       "        [ 0.35795068],\n",
       "        [ 1.07710697],\n",
       "        [ 0.45134132],\n",
       "        [ 0.59025233],\n",
       "        [ 0.90226773],\n",
       "        [ 0.94618032],\n",
       "        [ 0.80360191],\n",
       "        [ 0.33576144],\n",
       "        [ 0.40940186],\n",
       "        [ 0.89984287],\n",
       "        [ 0.15224013],\n",
       "        [ 0.7724151 ],\n",
       "        [ 0.92641349],\n",
       "        [ 0.28705435],\n",
       "        [ 0.72978918],\n",
       "        [ 0.26708884],\n",
       "        [ 0.29150281],\n",
       "        [ 0.30067715],\n",
       "        [ 0.66110118],\n",
       "        [ 0.67318597],\n",
       "        [ 0.35964917],\n",
       "        [ 0.37589224],\n",
       "        [ 0.16212079],\n",
       "        [ 0.929475  ],\n",
       "        [ 0.59386632],\n",
       "        [ 0.36132412],\n",
       "        [ 0.31652951],\n",
       "        [ 0.72282801],\n",
       "        [ 0.24028088],\n",
       "        [ 0.42327234],\n",
       "        [ 0.57640802],\n",
       "        [ 0.43182352],\n",
       "        [ 0.83995852],\n",
       "        [ 0.95726317],\n",
       "        [ 0.87401544],\n",
       "        [ 0.29198128],\n",
       "        [ 1.01991712],\n",
       "        [ 0.44134657],\n",
       "        [ 0.83095754],\n",
       "        [ 1.18806296],\n",
       "        [ 0.21663918],\n",
       "        [ 0.72381411],\n",
       "        [ 0.54306569],\n",
       "        [ 0.36523698],\n",
       "        [ 1.22082724],\n",
       "        [ 2.18239176],\n",
       "        [ 0.68258221],\n",
       "        [ 0.79956309],\n",
       "        [ 0.75503698],\n",
       "        [ 0.84553209],\n",
       "        [ 0.49409869],\n",
       "        [ 0.44823234],\n",
       "        [ 0.68687429],\n",
       "        [ 0.17024479],\n",
       "        [ 0.68361425],\n",
       "        [ 0.52750097],\n",
       "        [ 0.55148043],\n",
       "        [ 0.69778785],\n",
       "        [ 0.91388476],\n",
       "        [ 0.52001705],\n",
       "        [ 0.75045818],\n",
       "        [ 0.62813745],\n",
       "        [ 0.27039135],\n",
       "        [ 0.50989871],\n",
       "        [ 0.72780534],\n",
       "        [ 0.55207833],\n",
       "        [ 0.31696966],\n",
       "        [ 0.55915358],\n",
       "        [ 0.7743691 ],\n",
       "        [ 0.91152925],\n",
       "        [ 0.78536504],\n",
       "        [ 0.46400848],\n",
       "        [ 0.54937213],\n",
       "        [ 0.36487769],\n",
       "        [ 0.58854284],\n",
       "        [ 0.64944728],\n",
       "        [ 0.3120029 ],\n",
       "        [ 0.41050323],\n",
       "        [ 0.36206224],\n",
       "        [ 0.        ]])"
      ]
     },
     "execution_count": 78,
     "metadata": {},
     "output_type": "execute_result"
    }
   ],
   "source": [
    "Y_hvac_austin"
   ]
  },
  {
   "cell_type": "code",
   "execution_count": 101,
   "metadata": {
    "collapsed": true
   },
   "outputs": [],
   "source": [
    "idx_user"
   ]
  },
  {
   "cell_type": "code",
   "execution_count": 102,
   "metadata": {
    "collapsed": true
   },
   "outputs": [],
   "source": [
    "data_user"
   ]
  },
  {
   "cell_type": "code",
   "execution_count": null,
   "metadata": {
    "collapsed": true
   },
   "outputs": [],
   "source": []
  }
 ],
 "metadata": {
  "kernelspec": {
   "display_name": "Python 2",
   "language": "python",
   "name": "python2"
  },
  "language_info": {
   "codemirror_mode": {
    "name": "ipython",
    "version": 2
   },
   "file_extension": ".py",
   "mimetype": "text/x-python",
   "name": "python",
   "nbconvert_exporter": "python",
   "pygments_lexer": "ipython2",
   "version": "2.7.11"
  }
 },
 "nbformat": 4,
 "nbformat_minor": 0
}
