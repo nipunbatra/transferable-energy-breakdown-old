{
 "cells": [
  {
   "cell_type": "code",
   "execution_count": 121,
   "metadata": {
    "collapsed": true
   },
   "outputs": [],
   "source": [
    "import sys"
   ]
  },
  {
   "cell_type": "code",
   "execution_count": 122,
   "metadata": {
    "collapsed": false
   },
   "outputs": [],
   "source": [
    "sys.path.append(\"../code/\")"
   ]
  },
  {
   "cell_type": "code",
   "execution_count": 3,
   "metadata": {
    "collapsed": true
   },
   "outputs": [],
   "source": [
    "%matplotlib inline\n",
    "import matplotlib.pyplot as plt"
   ]
  },
  {
   "cell_type": "code",
   "execution_count": 4,
   "metadata": {
    "collapsed": false
   },
   "outputs": [
    {
     "name": "stdout",
     "output_type": "stream",
     "text": [
      "['/Users/nipunbatra/anaconda/lib/python2.7/site-packages/ipykernel/__main__.py', '-f', '/Users/nipunbatra/Library/Jupyter/runtime/kernel-6d24d980-c3c9-475e-9ec1-3ef4790ed501.json']\n"
     ]
    }
   ],
   "source": [
    "import sys, traceback\n",
    "print sys.argv\n",
    "from docopt import docopt\n",
    "import pandas as pd\n",
    "import time\n",
    "import numpy as np\n",
    "import os\n",
    "np.random.seed(0)\n",
    "\n",
    "from common_functions import create_region_df, features_dict, create_feature_combinations, create_df_main\n",
    "from matrix_factorisation import nmf_features, prepare_df_factorisation,prepare_known_features, create_matrix_factorised, create_prediction"
   ]
  },
  {
   "cell_type": "code",
   "execution_count": 10,
   "metadata": {
    "collapsed": false
   },
   "outputs": [],
   "source": [
    "year=2014\n",
    "seed = 0\n",
    "test_home=54\n",
    "train_regions = [\"Austin\",\"Boulder\",\"SanDiego\"]\n",
    "train_fraction_dict = {region:0 for region in train_regions}\n",
    "train_fraction_dict['SanDiego']=1.0\n",
    "test_region = 'SanDiego'\n",
    "feature_list = ['energy','home']\n",
    "appliance=\"hvac\"\n",
    "feature_comb = ['None']\n",
    "lat = 1"
   ]
  },
  {
   "cell_type": "code",
   "execution_count": 81,
   "metadata": {
    "collapsed": true
   },
   "outputs": [],
   "source": [
    "def f(year, seed, test_home, train_regions, train_fraction_dict,test_region\n",
    "              , feature_list, appliance, feature_comb, lat, idx_item=None, data_item=None):\n",
    "    df, dfc, X_matrix, X_normalised, col_max, col_min, \\\n",
    "    appliance_cols, aggregate_cols, static_features, max_f = prepare_df_factorisation(appliance, year, train_regions,\n",
    "                                                                                      train_fraction_dict,\n",
    "                                                                                     test_region, test_home,\n",
    "                                                                                     feature_list, seed)\n",
    "\n",
    "    idx_user, data_user = prepare_known_features(feature_comb, static_features, X_normalised)\n",
    "\n",
    "    A = create_matrix_factorised(appliance, test_home, X_normalised)\n",
    "    X, Y, res = nmf_features(A=A, k=lat, constant=0.01, regularisation=False,\n",
    "                        idx_user=idx_user, data_user=data_user,\n",
    "                         idx_item=idx_item, data_item=data_item, MAX_ITERS=10)\n",
    "    return X, Y, res, df\n",
    "    \n"
   ]
  },
  {
   "cell_type": "code",
   "execution_count": 82,
   "metadata": {
    "collapsed": false
   },
   "outputs": [],
   "source": [
    "X_fridge_sd, Y_fridge_sd, res_sd, df_fridge_sd = f(year, seed, 54, train_regions, {\"Austin\":0,\"Boulder\":0,\"SanDiego\":1}, \n",
    "              \"SanDiego\", feature_list, \"fridge\", feature_comb, lat)\n",
    "X_hvac_sd, Y_hvac_sd, res_sd, df_hvac_sd = f(year, seed, 54, train_regions, {\"Austin\":0,\"Boulder\":0,\"SanDiego\":1}, \n",
    "              \"SanDiego\", feature_list, \"hvac\", feature_comb, lat)"
   ]
  },
  {
   "cell_type": "code",
   "execution_count": 83,
   "metadata": {
    "collapsed": false
   },
   "outputs": [],
   "source": [
    "X_fridge_austin, Y_fridge_austin, res_sd, df_fridge_austin = f(year, seed, 22, train_regions, {\"Austin\":1.0,\"Boulder\":0,\"SanDiego\":0}, \n",
    "              \"Austin\", feature_list, \"fridge\", feature_comb, lat)\n",
    "X_hvac_austin, Y_hvac_austin, res_sd, df_hvac_austin = f(year, seed, 22, train_regions, {\"Austin\":1.0,\"Boulder\":0,\"SanDiego\":0}, \n",
    "              \"Austin\", feature_list, \"hvac\", feature_comb, lat)"
   ]
  },
  {
   "cell_type": "code",
   "execution_count": 74,
   "metadata": {
    "collapsed": false
   },
   "outputs": [],
   "source": [
    "X_fridge = pd.DataFrame({\"Austin\":np.array(X_fridge_austin).flatten(),'SanDiego':np.array(X_fridge_sd).flatten()})\n",
    "X_hvac = pd.DataFrame({\"Austin\":np.array(X_hvac_austin).flatten(),'SanDiego':np.array(X_hvac_sd).flatten()})"
   ]
  },
  {
   "cell_type": "code",
   "execution_count": 120,
   "metadata": {
    "collapsed": false
   },
   "outputs": [
    {
     "data": {
      "text/plain": [
       "<matplotlib.axes._subplots.AxesSubplot at 0x118370950>"
      ]
     },
     "execution_count": 120,
     "metadata": {},
     "output_type": "execute_result"
    },
    {
     "data": {
      "image/png": "[encoded data removed]",
      "text/plain": [
       "<matplotlib.figure.Figure at 0x11574d0d0>"
      ]
     },
     "metadata": {},
     "output_type": "display_data"
    }
   ],
   "source": [
    "X_fridge.plot()\n"
   ]
  },
  {
   "cell_type": "code",
   "execution_count": 75,
   "metadata": {
    "collapsed": false
   },
   "outputs": [
    {
     "data": {
      "text/plain": [
       "<matplotlib.text.Text at 0x11574da50>"
      ]
     },
     "execution_count": 75,
     "metadata": {},
     "output_type": "execute_result"
    },
    {
     "data": {
      "image/png": "[encoded data removed]",
      "text/plain": [
       "<matplotlib.figure.Figure at 0x115741b90>"
      ]
     },
     "metadata": {},
     "output_type": "display_data"
    }
   ],
   "source": [
    "X_fridge[:12].plot()\n",
    "plt.xlabel(\"Month of year\")\n",
    "plt.ylabel(\"Latent factors for fridge\")"
   ]
  },
  {
   "cell_type": "code",
   "execution_count": 76,
   "metadata": {
    "collapsed": false
   },
   "outputs": [
    {
     "data": {
      "text/plain": [
       "<matplotlib.text.Text at 0x1157683d0>"
      ]
     },
     "execution_count": 76,
     "metadata": {},
     "output_type": "execute_result"
    },
    {
     "data": {
      "image/png": "[encoded data removed]",
      "text/plain": [
       "<matplotlib.figure.Figure at 0x1160001d0>"
      ]
     },
     "metadata": {},
     "output_type": "display_data"
    }
   ],
   "source": [
    "X_hvac[:6].plot()\n",
    "plt.xlabel(\"Month of year\")\n",
    "plt.ylabel(\"Latent factors for HVAC\")"
   ]
  },
  {
   "cell_type": "code",
   "execution_count": 77,
   "metadata": {
    "collapsed": false
   },
   "outputs": [
    {
     "data": {
      "text/plain": [
       "<matplotlib.axes._subplots.AxesSubplot at 0x1160926d0>"
      ]
     },
     "execution_count": 77,
     "metadata": {},
     "output_type": "execute_result"
    },
    {
     "data": {
      "image/png": "[encoded data removed]",
      "text/plain": [
       "<matplotlib.figure.Figure at 0x115c938d0>"
      ]
     },
     "metadata": {},
     "output_type": "display_data"
    }
   ],
   "source": [
    "fig, ax = plt.subplots(ncols=2, sharey=True)\n",
    "pd.DataFrame(Y_fridge_austin).squeeze().plot(kind=\"box\", ax=ax[0], title=\"Austin\", label=\"Fridge\")\n",
    "ax[0].set_ylabel(\"Latent factor for homes\")\n",
    "pd.DataFrame(Y_fridge_sd).squeeze().plot(kind=\"box\", ax=ax[1], title=\"SD\", label=\"Fridge\")\n"
   ]
  },
  {
   "cell_type": "code",
   "execution_count": 78,
   "metadata": {
    "collapsed": false
   },
   "outputs": [
    {
     "data": {
      "text/plain": [
       "<matplotlib.axes._subplots.AxesSubplot at 0x115c47a50>"
      ]
     },
     "execution_count": 78,
     "metadata": {},
     "output_type": "execute_result"
    },
    {
     "data": {
      "image/png": "[encoded data removed]",
      "text/plain": [
       "<matplotlib.figure.Figure at 0x115e69690>"
      ]
     },
     "metadata": {},
     "output_type": "display_data"
    }
   ],
   "source": [
    "fig, ax = plt.subplots(ncols=2, sharey=True)\n",
    "pd.DataFrame(Y_hvac_austin).squeeze().plot(kind=\"box\", ax=ax[0], title=\"Austin\", label=\"hvac\")\n",
    "ax[0].set_ylabel(\"Latent factor for homes\")\n",
    "pd.DataFrame(Y_hvac_sd).squeeze().plot(kind=\"box\", ax=ax[1], title=\"SD\", label=\"hvac\")\n"
   ]
  },
  {
   "cell_type": "code",
   "execution_count": 114,
   "metadata": {
    "collapsed": false
   },
   "outputs": [
    {
     "data": {
      "text/plain": [
       "<matplotlib.text.Text at 0x1175d0e10>"
      ]
     },
     "execution_count": 114,
     "metadata": {},
     "output_type": "execute_result"
    },
    {
     "data": {
      "image/png": "[encoded data removed]",
      "text/plain": [
       "<matplotlib.figure.Figure at 0x11574d810>"
      ]
     },
     "metadata": {},
     "output_type": "display_data"
    }
   ],
   "source": [
    "t = pd.DataFrame(Y_fridge_austin)\n",
    "t.index = df_fridge_austin.index\n",
    "plt.scatter(t[t>1].dropna(), df_fridge_austin.ix[t[t>1].dropna().index]['aggregate_6'])\n",
    "plt.ylabel(\"Aggregate energy consumption\")\n",
    "plt.xlabel(\"Latent factor for fridge\")\n",
    "plt.title(\"Austin\")"
   ]
  },
  {
   "cell_type": "code",
   "execution_count": 116,
   "metadata": {
    "collapsed": false
   },
   "outputs": [
    {
     "data": {
      "text/plain": [
       "817.7833557128906"
      ]
     },
     "execution_count": 116,
     "metadata": {},
     "output_type": "execute_result"
    }
   ],
   "source": [
    "df_fridge_austin.ix[t[t>0].dropna().index]['aggregate_6'].median()"
   ]
  },
  {
   "cell_type": "code",
   "execution_count": 118,
   "metadata": {
    "collapsed": false
   },
   "outputs": [
    {
     "data": {
      "text/plain": [
       "<matplotlib.text.Text at 0x118230290>"
      ]
     },
     "execution_count": 118,
     "metadata": {},
     "output_type": "execute_result"
    },
    {
     "data": {
      "image/png": "[encoded data removed]",
      "text/plain": [
       "<matplotlib.figure.Figure at 0x11427abd0>"
      ]
     },
     "metadata": {},
     "output_type": "display_data"
    }
   ],
   "source": [
    "t = pd.DataFrame(Y_fridge_austin)\n",
    "t.index = df_fridge_austin.index\n",
    "plt.scatter(t[t>1].dropna(), df_fridge_austin.ix[t[t>1].dropna().index]['fridge_6'])\n",
    "plt.ylabel(\"Fridge energy consumption\")\n",
    "plt.xlabel(\"Latent factor for fridge\")\n",
    "plt.title(\"Austin\")"
   ]
  },
  {
   "cell_type": "code",
   "execution_count": 119,
   "metadata": {
    "collapsed": false
   },
   "outputs": [
    {
     "data": {
      "text/plain": [
       "52.76436805725098"
      ]
     },
     "execution_count": 119,
     "metadata": {},
     "output_type": "execute_result"
    }
   ],
   "source": [
    "df_fridge_austin.ix[t[t>0].dropna().index]['fridge_6'].median()"
   ]
  },
  {
   "cell_type": "code",
   "execution_count": 65,
   "metadata": {
    "collapsed": false
   },
   "outputs": [],
   "source": [
    "from degree_days import *"
   ]
  },
  {
   "cell_type": "code",
   "execution_count": 99,
   "metadata": {
    "collapsed": false
   },
   "outputs": [
    {
     "data": {
      "text/plain": [
       "<matplotlib.collections.PathCollection at 0x115f78bd0>"
      ]
     },
     "execution_count": 99,
     "metadata": {},
     "output_type": "execute_result"
    },
    {
     "data": {
      "image/png": "[encoded data removed]",
      "text/plain": [
       "<matplotlib.figure.Figure at 0x116c35390>"
      ]
     },
     "metadata": {},
     "output_type": "display_data"
    }
   ],
   "source": [
    "plt.scatter(X_df[:6]['Austin'],dds[2014]['Austin'][4:10] )\n",
    "#dds[2014]['Austin'][4:9]"
   ]
  },
  {
   "cell_type": "code",
   "execution_count": 75,
   "metadata": {
    "collapsed": false
   },
   "outputs": [
    {
     "data": {
      "text/plain": [
       "6     0.107697\n",
       "7     0.142078\n",
       "8     0.160392\n",
       "9     0.179684\n",
       "10    0.140001\n",
       "11    0.112244\n",
       "Name: Austin, dtype: float64"
      ]
     },
     "execution_count": 75,
     "metadata": {},
     "output_type": "execute_result"
    }
   ],
   "source": [
    "X_df[6:]['Austin']"
   ]
  },
  {
   "cell_type": "code",
   "execution_count": 100,
   "metadata": {
    "collapsed": false
   },
   "outputs": [
    {
     "data": {
      "text/plain": [
       "[0.012706480304955527,\n",
       " 0.07369758576874205,\n",
       " 0.09148665819567979,\n",
       " 0.30495552731893266,\n",
       " 0.5184243964421855,\n",
       " 0.832274459974587,\n",
       " 0.9085133418043202,\n",
       " 1.0,\n",
       " 0.747141041931385,\n",
       " 0.4650571791613723,\n",
       " 0.054637865311308764,\n",
       " 0.03430749682337993]"
      ]
     },
     "execution_count": 100,
     "metadata": {},
     "output_type": "execute_result"
    }
   ],
   "source": [
    "dds[2014]['Austin']"
   ]
  },
  {
   "cell_type": "code",
   "execution_count": 77,
   "metadata": {
    "collapsed": false
   },
   "outputs": [
    {
     "data": {
      "text/plain": [
       "matrix([[ 0.02039206,  0.04568984,  0.0581605 ,  0.07030242,  0.04450363,\n",
       "          0.02562743,  0.10769739,  0.14207768,  0.16039202,  0.17968411,\n",
       "          0.14000083,  0.11224388]])"
      ]
     },
     "execution_count": 77,
     "metadata": {},
     "output_type": "execute_result"
    }
   ],
   "source": [
    "X_hvac_austin"
   ]
  },
  {
   "cell_type": "code",
   "execution_count": 78,
   "metadata": {
    "collapsed": false
   },
   "outputs": [
    {
     "data": {
      "text/plain": [
       "matrix([[ 0.50037877],\n",
       "        [ 0.25846533],\n",
       "        [ 0.36190634],\n",
       "        [ 0.18519378],\n",
       "        [ 0.64164236],\n",
       "        [ 0.91612977],\n",
       "        [ 1.32820979],\n",
       "        [ 0.23230988],\n",
       "        [ 0.86287042],\n",
       "        [ 0.81727218],\n",
       "        [ 1.13134948],\n",
       "        [ 0.50779661],\n",
       "        [ 0.34748687],\n",
       "        [ 0.71765476],\n",
       "        [ 0.31554283],\n",
       "        [ 1.34911238],\n",
       "        [ 0.97815815],\n",
       "        [ 0.64037072],\n",
       "        [ 0.2986775 ],\n",
       "        [ 0.33094265],\n",
       "        [ 0.90171486],\n",
       "        [ 0.76396439],\n",
       "        [ 0.14776769],\n",
       "        [ 0.60846783],\n",
       "        [ 0.40045271],\n",
       "        [ 0.5417921 ],\n",
       "        [ 0.78199659],\n",
       "        [ 0.78248434],\n",
       "        [ 0.54114435],\n",
       "        [ 0.39263816],\n",
       "        [ 0.85281926],\n",
       "        [ 1.60223993],\n",
       "        [ 1.42374286],\n",
       "        [ 0.98733554],\n",
       "        [ 0.93638901],\n",
       "        [ 4.87566995],\n",
       "        [ 0.64647819],\n",
       "        [ 0.11859901],\n",
       "        [ 0.86203369],\n",
       "        [ 0.70657032],\n",
       "        [ 1.19760582],\n",
       "        [ 1.08471411],\n",
       "        [ 0.4528264 ],\n",
       "        [ 0.60981294],\n",
       "        [ 0.18640162],\n",
       "        [ 0.62806855],\n",
       "        [ 0.96870385],\n",
       "        [ 1.57589028],\n",
       "        [ 0.24729211],\n",
       "        [ 1.28308917],\n",
       "        [ 0.47678808],\n",
       "        [ 0.67390283],\n",
       "        [ 0.75980198],\n",
       "        [ 0.32966737],\n",
       "        [ 1.17772094],\n",
       "        [ 2.70299372],\n",
       "        [ 0.72419656],\n",
       "        [ 0.27047697],\n",
       "        [ 0.80575745],\n",
       "        [ 0.6728357 ],\n",
       "        [ 1.17228552],\n",
       "        [ 0.21433122],\n",
       "        [ 0.54649252],\n",
       "        [ 0.87479127],\n",
       "        [ 0.26491428],\n",
       "        [ 0.79540031],\n",
       "        [ 0.17496622],\n",
       "        [ 0.41391933],\n",
       "        [ 0.64069815],\n",
       "        [ 0.25086871],\n",
       "        [ 0.56044679],\n",
       "        [ 0.79806986],\n",
       "        [ 0.462925  ],\n",
       "        [ 0.43081496],\n",
       "        [ 0.661466  ],\n",
       "        [ 0.25423151],\n",
       "        [ 1.05819612],\n",
       "        [ 1.33762303],\n",
       "        [ 0.25453188],\n",
       "        [ 0.25358447],\n",
       "        [ 0.26051186],\n",
       "        [ 0.42073215],\n",
       "        [ 0.38499729],\n",
       "        [ 0.34541626],\n",
       "        [ 0.732972  ],\n",
       "        [ 0.65346527],\n",
       "        [ 0.17895957],\n",
       "        [ 0.38397355],\n",
       "        [ 0.47714357],\n",
       "        [ 0.88232705],\n",
       "        [ 1.21809865],\n",
       "        [ 0.70871056],\n",
       "        [ 0.62570324],\n",
       "        [ 0.18848318],\n",
       "        [ 0.81508202],\n",
       "        [ 0.76323191],\n",
       "        [ 0.9000043 ],\n",
       "        [ 0.72698986],\n",
       "        [ 0.58379726],\n",
       "        [ 0.70942572],\n",
       "        [ 0.44477036],\n",
       "        [ 0.79710373],\n",
       "        [ 1.63961447],\n",
       "        [ 1.49440504],\n",
       "        [ 0.61164958],\n",
       "        [ 0.49035868],\n",
       "        [ 0.91610322],\n",
       "        [ 0.48087357],\n",
       "        [ 0.57948141],\n",
       "        [ 0.4296951 ],\n",
       "        [ 0.97564223],\n",
       "        [ 0.65928912],\n",
       "        [ 0.36928573],\n",
       "        [ 0.07663665],\n",
       "        [ 0.12630127],\n",
       "        [ 0.38054426],\n",
       "        [ 0.67573594],\n",
       "        [ 0.8990424 ],\n",
       "        [ 0.1757079 ],\n",
       "        [ 0.37789088],\n",
       "        [ 0.9603824 ],\n",
       "        [ 1.2174236 ],\n",
       "        [ 0.77572301],\n",
       "        [ 0.59272458],\n",
       "        [ 0.76812192],\n",
       "        [ 0.12308956],\n",
       "        [ 0.95906437],\n",
       "        [ 0.43108198],\n",
       "        [ 0.67802718],\n",
       "        [ 0.43398481],\n",
       "        [ 0.82155453],\n",
       "        [ 0.55952474],\n",
       "        [ 0.4956062 ],\n",
       "        [ 1.10624041],\n",
       "        [ 0.36087694],\n",
       "        [ 0.8376984 ],\n",
       "        [ 0.36652623],\n",
       "        [ 1.03102583],\n",
       "        [ 0.88632776],\n",
       "        [ 2.06923983],\n",
       "        [ 0.77254693],\n",
       "        [ 1.94520366],\n",
       "        [ 0.63350717],\n",
       "        [ 0.83612103],\n",
       "        [ 0.19911145],\n",
       "        [ 0.35833373],\n",
       "        [ 0.58330661],\n",
       "        [ 0.20056465],\n",
       "        [ 0.47177847],\n",
       "        [ 0.37501099],\n",
       "        [ 0.53300546],\n",
       "        [ 0.21334392],\n",
       "        [ 0.74694701],\n",
       "        [ 0.71158355],\n",
       "        [ 0.49088652],\n",
       "        [ 0.37490327],\n",
       "        [ 1.02293752],\n",
       "        [ 0.67051343],\n",
       "        [ 0.68516137],\n",
       "        [ 0.72796673],\n",
       "        [ 0.88663133],\n",
       "        [ 0.46765149],\n",
       "        [ 0.57473094],\n",
       "        [ 1.05876113],\n",
       "        [ 1.12706982],\n",
       "        [ 0.63708411],\n",
       "        [ 0.72430368],\n",
       "        [ 1.1653446 ],\n",
       "        [ 0.80565083],\n",
       "        [ 0.73673098],\n",
       "        [ 0.57542414],\n",
       "        [ 0.38301356],\n",
       "        [ 0.76620414],\n",
       "        [ 0.81173432],\n",
       "        [ 0.15812598],\n",
       "        [ 0.53722949],\n",
       "        [ 0.28423631],\n",
       "        [ 0.18391946],\n",
       "        [ 0.4851292 ],\n",
       "        [ 0.09534721],\n",
       "        [ 0.31614941],\n",
       "        [ 0.1930107 ],\n",
       "        [ 0.32296089],\n",
       "        [ 0.6206835 ],\n",
       "        [ 0.87027283],\n",
       "        [ 0.59489384],\n",
       "        [ 0.56933134],\n",
       "        [ 0.7722547 ],\n",
       "        [ 1.20946236],\n",
       "        [ 0.28229178],\n",
       "        [ 0.43033234],\n",
       "        [ 0.38745735],\n",
       "        [ 0.51636033],\n",
       "        [ 0.9776367 ],\n",
       "        [ 0.22256587],\n",
       "        [ 0.52979471],\n",
       "        [ 1.77685931],\n",
       "        [ 0.53149706],\n",
       "        [ 0.26292651],\n",
       "        [ 0.70008186],\n",
       "        [ 0.6419324 ],\n",
       "        [ 0.30517335],\n",
       "        [ 0.52108843],\n",
       "        [ 0.25008778],\n",
       "        [ 0.1698526 ],\n",
       "        [ 0.22018627],\n",
       "        [ 0.40374188],\n",
       "        [ 0.62146552],\n",
       "        [ 0.11726559],\n",
       "        [ 1.58248328],\n",
       "        [ 0.62893787],\n",
       "        [ 0.47121374],\n",
       "        [ 0.31370321],\n",
       "        [ 0.36289443],\n",
       "        [ 0.54811975],\n",
       "        [ 0.34672693],\n",
       "        [ 0.50074667],\n",
       "        [ 1.37786021],\n",
       "        [ 0.72023265],\n",
       "        [ 0.41805839],\n",
       "        [ 0.78392932],\n",
       "        [ 0.84815428],\n",
       "        [ 0.30702714],\n",
       "        [ 0.26063949],\n",
       "        [ 0.29117959],\n",
       "        [ 0.38626084],\n",
       "        [ 0.20797805],\n",
       "        [ 0.74426864],\n",
       "        [ 0.96946455],\n",
       "        [ 0.59730235],\n",
       "        [ 0.53389829],\n",
       "        [ 0.64655841],\n",
       "        [ 0.29568596],\n",
       "        [ 0.50527706],\n",
       "        [ 0.34649088],\n",
       "        [ 0.49699038],\n",
       "        [ 0.7851231 ],\n",
       "        [ 1.19879636],\n",
       "        [ 0.29763845],\n",
       "        [ 0.49935919],\n",
       "        [ 0.36539209],\n",
       "        [ 0.96720036],\n",
       "        [ 1.01375444],\n",
       "        [ 0.5780414 ],\n",
       "        [ 0.18453081],\n",
       "        [ 0.6966208 ],\n",
       "        [ 0.26419843],\n",
       "        [ 0.65523023],\n",
       "        [ 0.28459935],\n",
       "        [ 1.22705605],\n",
       "        [ 0.53234603],\n",
       "        [ 0.64884439],\n",
       "        [ 0.59405606],\n",
       "        [ 0.29195281],\n",
       "        [ 1.14913854],\n",
       "        [ 0.17449121],\n",
       "        [ 0.52450858],\n",
       "        [ 0.22213002],\n",
       "        [ 0.6989629 ],\n",
       "        [ 0.76672439],\n",
       "        [ 1.48556629],\n",
       "        [ 0.40087006],\n",
       "        [ 0.43022614],\n",
       "        [ 1.2563993 ],\n",
       "        [ 0.61187518],\n",
       "        [ 0.96114918],\n",
       "        [ 0.24903226],\n",
       "        [ 0.32445095],\n",
       "        [ 1.02877581],\n",
       "        [ 1.17164152],\n",
       "        [ 0.95609689],\n",
       "        [ 0.82536291],\n",
       "        [ 0.73611725],\n",
       "        [ 0.1493107 ],\n",
       "        [ 0.80104634],\n",
       "        [ 0.68099193],\n",
       "        [ 1.07304136],\n",
       "        [ 0.66579064],\n",
       "        [ 0.10315148],\n",
       "        [ 0.36578916],\n",
       "        [ 1.00617654],\n",
       "        [ 0.95129148],\n",
       "        [ 0.76354438],\n",
       "        [ 0.78458788],\n",
       "        [ 1.2541476 ],\n",
       "        [ 0.72368115],\n",
       "        [ 0.94693094],\n",
       "        [ 0.3506256 ],\n",
       "        [ 1.44137569],\n",
       "        [ 0.44774375],\n",
       "        [ 0.6454445 ],\n",
       "        [ 0.84977792],\n",
       "        [ 0.79135825],\n",
       "        [ 0.34313875],\n",
       "        [ 0.42090226],\n",
       "        [ 0.33361625],\n",
       "        [ 0.82315065],\n",
       "        [ 0.72896166],\n",
       "        [ 0.37598171],\n",
       "        [ 0.49825976],\n",
       "        [ 0.60642051],\n",
       "        [ 0.46258017],\n",
       "        [ 0.16165892],\n",
       "        [ 0.90097192],\n",
       "        [ 0.67214145],\n",
       "        [ 0.49484332],\n",
       "        [ 0.35309986],\n",
       "        [ 0.45238358],\n",
       "        [ 1.08104634],\n",
       "        [ 0.62210618],\n",
       "        [ 0.95522949],\n",
       "        [ 1.07537801],\n",
       "        [ 0.43207743],\n",
       "        [ 0.22313311],\n",
       "        [ 0.70515795],\n",
       "        [ 0.31241722],\n",
       "        [ 0.85971547],\n",
       "        [ 0.80594052],\n",
       "        [ 0.58808486],\n",
       "        [ 0.87373758],\n",
       "        [ 0.15835396],\n",
       "        [ 0.67131528],\n",
       "        [ 0.17560633],\n",
       "        [ 0.92817255],\n",
       "        [ 0.27468033],\n",
       "        [ 0.53533549],\n",
       "        [ 0.27477156],\n",
       "        [ 0.69915424],\n",
       "        [ 0.32942888],\n",
       "        [ 0.44118929],\n",
       "        [ 1.43220853],\n",
       "        [ 0.8530037 ],\n",
       "        [ 0.53195654],\n",
       "        [ 0.14966971],\n",
       "        [ 0.19678823],\n",
       "        [ 1.04254056],\n",
       "        [ 0.26204017],\n",
       "        [ 0.35795068],\n",
       "        [ 1.07710697],\n",
       "        [ 0.45134132],\n",
       "        [ 0.59025233],\n",
       "        [ 0.90226773],\n",
       "        [ 0.94618032],\n",
       "        [ 0.80360191],\n",
       "        [ 0.33576144],\n",
       "        [ 0.40940186],\n",
       "        [ 0.89984287],\n",
       "        [ 0.15224013],\n",
       "        [ 0.7724151 ],\n",
       "        [ 0.92641349],\n",
       "        [ 0.28705435],\n",
       "        [ 0.72978918],\n",
       "        [ 0.26708884],\n",
       "        [ 0.29150281],\n",
       "        [ 0.30067715],\n",
       "        [ 0.66110118],\n",
       "        [ 0.67318597],\n",
       "        [ 0.35964917],\n",
       "        [ 0.37589224],\n",
       "        [ 0.16212079],\n",
       "        [ 0.929475  ],\n",
       "        [ 0.59386632],\n",
       "        [ 0.36132412],\n",
       "        [ 0.31652951],\n",
       "        [ 0.72282801],\n",
       "        [ 0.24028088],\n",
       "        [ 0.42327234],\n",
       "        [ 0.57640802],\n",
       "        [ 0.43182352],\n",
       "        [ 0.83995852],\n",
       "        [ 0.95726317],\n",
       "        [ 0.87401544],\n",
       "        [ 0.29198128],\n",
       "        [ 1.01991712],\n",
       "        [ 0.44134657],\n",
       "        [ 0.83095754],\n",
       "        [ 1.18806296],\n",
       "        [ 0.21663918],\n",
       "        [ 0.72381411],\n",
       "        [ 0.54306569],\n",
       "        [ 0.36523698],\n",
       "        [ 1.22082724],\n",
       "        [ 2.18239176],\n",
       "        [ 0.68258221],\n",
       "        [ 0.79956309],\n",
       "        [ 0.75503698],\n",
       "        [ 0.84553209],\n",
       "        [ 0.49409869],\n",
       "        [ 0.44823234],\n",
       "        [ 0.68687429],\n",
       "        [ 0.17024479],\n",
       "        [ 0.68361425],\n",
       "        [ 0.52750097],\n",
       "        [ 0.55148043],\n",
       "        [ 0.69778785],\n",
       "        [ 0.91388476],\n",
       "        [ 0.52001705],\n",
       "        [ 0.75045818],\n",
       "        [ 0.62813745],\n",
       "        [ 0.27039135],\n",
       "        [ 0.50989871],\n",
       "        [ 0.72780534],\n",
       "        [ 0.55207833],\n",
       "        [ 0.31696966],\n",
       "        [ 0.55915358],\n",
       "        [ 0.7743691 ],\n",
       "        [ 0.91152925],\n",
       "        [ 0.78536504],\n",
       "        [ 0.46400848],\n",
       "        [ 0.54937213],\n",
       "        [ 0.36487769],\n",
       "        [ 0.58854284],\n",
       "        [ 0.64944728],\n",
       "        [ 0.3120029 ],\n",
       "        [ 0.41050323],\n",
       "        [ 0.36206224],\n",
       "        [ 0.        ]])"
      ]
     },
     "execution_count": 78,
     "metadata": {},
     "output_type": "execute_result"
    }
   ],
   "source": [
    "Y_hvac_austin"
   ]
  },
  {
   "cell_type": "code",
   "execution_count": 101,
   "metadata": {
    "collapsed": true
   },
   "outputs": [],
   "source": [
    "idx_user"
   ]
  },
  {
   "cell_type": "code",
   "execution_count": 102,
   "metadata": {
    "collapsed": true
   },
   "outputs": [],
   "source": [
    "data_user"
   ]
  },
  {
   "cell_type": "code",
   "execution_count": 70,
   "metadata": {
    "collapsed": true
   },
   "outputs": [],
   "source": [
    "from common_functions import valid_homes_data"
   ]
  },
  {
   "cell_type": "code",
   "execution_count": 71,
   "metadata": {
    "collapsed": false
   },
   "outputs": [
    {
     "data": {
      "text/plain": [
       "{'Austin': {'fridge': array([  22,   26,   48,   59,   68,   86,   93,   94,  101,  114,  115,\n",
       "          121,  130,  135,  160,  187,  222,  243,  267,  297,  347,  370,\n",
       "          410,  434,  436,  457,  470,  484,  491,  499,  507,  508,  545,\n",
       "          580,  624,  645,  661,  772,  781,  871,  878,  898,  936,  946,\n",
       "          954,  980, 1037, 1069, 1086, 1105, 1169, 1185, 1310, 1314, 1334,\n",
       "         1403, 1415, 1463, 1479, 1500, 1507, 1551, 1577, 1586, 1617, 1632,\n",
       "         1642, 1697, 1700, 1782, 1796, 1801, 1854, 1889, 1947, 1953, 2004,\n",
       "         2018, 2034, 2075, 2094, 2156, 2158, 2171, 2199, 2207, 2233, 2242,\n",
       "         2247, 2335, 2361, 2365, 2366, 2378, 2458, 2461, 2465, 2470, 2520,\n",
       "         2532, 2557, 2575, 2667, 2751, 2787, 2814, 2818, 2829, 2845, 2859,\n",
       "         2864, 2907, 2953, 2965, 2974, 2992, 2995, 3032, 3036, 3039, 3044,\n",
       "         3143, 3192, 3235, 3268, 3273, 3299, 3367, 3392, 3413, 3443, 3456,\n",
       "         3482, 3500, 3504, 3519, 3538, 3577, 3631, 3649, 3652, 3678, 3721,\n",
       "         3723, 3873, 3883, 3886, 3893, 3916, 3967, 3973, 4000, 4022, 4031,\n",
       "         4042, 4053, 4135, 4220, 4224, 4342, 4352, 4373, 4416, 4438, 4514,\n",
       "         4575, 4590, 4641, 4660, 4767, 4776, 4800, 4856, 4864, 4874, 4910,\n",
       "         4927, 4946, 4957, 4998, 5060, 5087, 5209, 5218, 5226, 5252, 5275,\n",
       "         5279, 5356, 5357, 5371, 5395, 5456, 5539, 5545, 5552, 5568, 5728,\n",
       "         5746, 5786, 5810, 5889, 5921, 5944, 5972, 6012, 6063, 6072, 6101,\n",
       "         6108, 6121, 6125, 6139, 6165, 6286, 6334, 6348, 6498, 6500, 6536,\n",
       "         6614, 6636, 6673, 6688, 6691, 6692, 6730, 6799, 6826, 6836, 6910,\n",
       "         6941, 6990, 7016, 7024, 7057, 7117, 7122, 7287, 7319, 7468, 7491,\n",
       "         7510, 7512, 7527, 7531, 7536, 7549, 7585, 7587, 7627, 7641, 7693,\n",
       "         7703, 7719, 7764, 7769, 7787, 7788, 7800, 7850, 7863, 7866, 7875,\n",
       "         7893, 7901, 7940, 7951, 7982, 7984, 8029, 8034, 8046, 8079, 8092,\n",
       "         8117, 8122, 8142, 8156, 8163, 8183, 8188, 8197, 8236, 8292, 8386,\n",
       "         8419, 8565, 8589, 8597, 8600, 8645, 8669, 8741, 8807, 8848, 8852,\n",
       "         8942, 8956, 9019, 9134, 9139, 9165, 9182, 9195, 9201, 9215, 9233,\n",
       "         9248, 9251, 9278, 9295, 9343, 9356, 9484, 9498, 9610, 9613, 9624,\n",
       "         9647, 9674, 9701, 9729, 9737, 9745, 9766, 9771, 9773, 9803, 9875,\n",
       "         9912, 9915, 9926, 9931, 9936, 9937, 9938, 9939, 9982]),\n",
       "  'hvac': array([  22,   26,   48,   59,   77,   86,   93,   94,  101,  114,  115,\n",
       "          121,  130,  135,  160,  187,  222,  267,  297,  347,  364,  370,\n",
       "          410,  434,  436,  457,  484,  491,  499,  503,  508,  545,  580,\n",
       "          624,  645,  661,  739,  744,  772,  781,  871,  878,  898,  936,\n",
       "          946,  954,  974,  980, 1037, 1069, 1086, 1105, 1169, 1185, 1192,\n",
       "         1202, 1283, 1310, 1314, 1331, 1334, 1403, 1415, 1463, 1479, 1500,\n",
       "         1507, 1551, 1577, 1586, 1589, 1601, 1617, 1632, 1642, 1681, 1697,\n",
       "         1700, 1714, 1718, 1782, 1790, 1791, 1796, 1801, 1854, 1889, 1947,\n",
       "         1953, 2004, 2018, 2034, 2094, 2129, 2156, 2158, 2171, 2199, 2233,\n",
       "         2242, 2247, 2335, 2361, 2365, 2366, 2378, 2458, 2461, 2470, 2472,\n",
       "         2510, 2520, 2532, 2557, 2575, 2638, 2641, 2751, 2755, 2769, 2787,\n",
       "         2814, 2818, 2829, 2845, 2859, 2864, 2907, 2945, 2953, 2965, 2974,\n",
       "         2992, 3009, 3032, 3036, 3039, 3044, 3134, 3143, 3192, 3268, 3273,\n",
       "         3299, 3367, 3411, 3413, 3443, 3456, 3482, 3500, 3504, 3506, 3527,\n",
       "         3531, 3538, 3577, 3631, 3635, 3649, 3652, 3678, 3719, 3721, 3723,\n",
       "         3736, 3778, 3789, 3806, 3829, 3831, 3849, 3873, 3883, 3893, 3916,\n",
       "         3918, 3935, 3967, 3973, 4000, 4022, 4042, 4053, 4135, 4154, 4220,\n",
       "         4296, 4297, 4298, 4302, 4336, 4342, 4352, 4373, 4375, 4416, 4447,\n",
       "         4505, 4514, 4526, 4575, 4590, 4641, 4660, 4732, 4767, 4776, 4800,\n",
       "         4856, 4864, 4874, 4922, 4927, 4946, 4957, 4998, 5026, 5060, 5109,\n",
       "         5129, 5209, 5218, 5275, 5356, 5357, 5371, 5395, 5539, 5545, 5552,\n",
       "         5568, 5673, 5677, 5728, 5746, 5759, 5778, 5785, 5786, 5810, 5814,\n",
       "         5874, 5889, 5921, 5949, 5959, 5972, 6061, 6063, 6072, 6078, 6101,\n",
       "         6108, 6139, 6165, 6286, 6334, 6348, 6412, 6418, 6423, 6498, 6500,\n",
       "         6614, 6636, 6673, 6688, 6691, 6692, 6730, 6799, 6826, 6836, 6871,\n",
       "         6910, 6911, 6941, 6990, 7016, 7017, 7024, 7030, 7036, 7057, 7117,\n",
       "         7122, 7276, 7287, 7319, 7390, 7429, 7436, 7491, 7504, 7510, 7512,\n",
       "         7527, 7531, 7536, 7549, 7560, 7627, 7638, 7641, 7680, 7703, 7719,\n",
       "         7731, 7764, 7769, 7787, 7788, 7793, 7800, 7850, 7863, 7866, 7875,\n",
       "         7900, 7901, 7940, 7951, 7982, 7984, 7989, 8034, 8046, 8079, 8084,\n",
       "         8086, 8092, 8122, 8142, 8156, 8163, 8183, 8188, 8197, 8236, 8243,\n",
       "         8292, 8317, 8386, 8419, 8467, 8565, 8589, 8597, 8600, 8645, 8669,\n",
       "         8741, 8767, 8807, 8829, 8956, 8967, 8995, 9019, 9052, 9121, 9134,\n",
       "         9139, 9141, 9160, 9182, 9195, 9201, 9215, 9233, 9248, 9251, 9278,\n",
       "         9295, 9340, 9343, 9356, 9484, 9498, 9499, 9578, 9609, 9613, 9624,\n",
       "         9643, 9647, 9654, 9674, 9701, 9729, 9737, 9745, 9766, 9771, 9773,\n",
       "         9803, 9830, 9875, 9912, 9915, 9919, 9922, 9926, 9929, 9931, 9932,\n",
       "         9933, 9935, 9936, 9937, 9938, 9939, 9942, 9971, 9982]),\n",
       "  'wm': array([  68,   93,   94,  101,  114,  115,  121,  130,  187,  243,  267,\n",
       "          370,  507,  545,  624,  645,  661,  739,  781,  871,  946, 1037,\n",
       "         1169, 1185, 1192, 1310, 1314, 1403, 1415, 1463, 1507, 1551, 1632,\n",
       "         1642, 1697, 1700, 1714, 1782, 1801, 2004, 2018, 2075, 2094, 2156,\n",
       "         2207, 2233, 2242, 2335, 2361, 2366, 2461, 2470, 2520, 2532, 2575,\n",
       "         2667, 2751, 2769, 2787, 2814, 2818, 2845, 2859, 2953, 2965, 2974,\n",
       "         2992, 2995, 3036, 3039, 3044, 3192, 3235, 3273, 3367, 3392, 3413,\n",
       "         3456, 3482, 3500, 3504, 3531, 3538, 3577, 3649, 3723, 3736, 3778,\n",
       "         3886, 3893, 3916, 3967, 4000, 4031, 4053, 4135, 4224, 4336, 4342,\n",
       "         4352, 4373, 4438, 4514, 4575, 4590, 4641, 4874, 4922, 4946, 4957,\n",
       "         4998, 5026, 5060, 5209, 5226, 5252, 5275, 5279, 5357, 5371, 5395,\n",
       "         5456, 5545, 5568, 5677, 5728, 5746, 5786, 5921, 5944, 5972, 6012,\n",
       "         6063, 6101, 6108, 6139, 6165, 6334, 6348, 6418, 6498, 6536, 6614,\n",
       "         6673, 6691, 6692, 6730, 6826, 6836, 6990, 7016, 7024, 7057, 7117,\n",
       "         7122, 7276, 7287, 7468, 7510, 7531, 7536, 7549, 7585, 7587, 7627,\n",
       "         7641, 7719, 7764, 7769, 7787, 7788, 7800, 7850, 7863, 7866, 7875,\n",
       "         7893, 7901, 7940, 7951, 7982, 8029, 8046, 8142, 8156, 8163, 8236,\n",
       "         8292, 8386, 8419, 8565, 8597, 8669, 8741, 8848, 8852, 8942, 8956,\n",
       "         9019, 9165, 9215, 9233, 9278, 9295, 9343, 9356, 9484, 9499, 9578,\n",
       "         9610, 9613, 9647, 9654, 9701, 9729, 9737, 9766, 9771, 9773, 9830,\n",
       "         9912, 9922, 9926, 9936, 9939, 9942, 9982])},\n",
       " 'Boulder': {'fridge': array([ 516,  698, 1350, 1879, 2144, 2523, 2903, 3104, 3353, 3734, 4147,\n",
       "         4499, 4601, 4703, 4830, 4920, 4974, 5652, 5904, 6148, 6264, 6888,\n",
       "         6956, 7208, 7818, 8273, 8368, 8622, 8729, 8862, 9085, 9341, 9818]),\n",
       "  'hvac': array([ 232,  516,  547,  698, 1350, 1879, 2144, 2523, 2903, 3104, 3734,\n",
       "         4147, 4499, 4601, 4703, 4920, 4974, 5652, 5904, 6148, 6264, 7001,\n",
       "         7818, 8273, 8368, 8395, 8622, 8729, 8862, 9085, 9156, 9341, 9818]),\n",
       "  'wm': array([ 232,  698, 1350, 1766, 1879, 2144, 2903, 3104, 3734, 4147, 4499,\n",
       "         4830, 5652, 5904, 6148, 6264, 7001, 7208, 8273, 8368, 8395, 8622,\n",
       "         9085, 9156, 9818])},\n",
       " 'SanDiego': {'fridge': array([  54,  203, 1450, 1524, 1731, 3687, 3864, 3938, 4095, 4329, 4495,\n",
       "         4934, 5938, 6377, 6429, 6497, 6547, 7062, 7114, 7409, 7639, 8061,\n",
       "         8342, 8574, 8733, 9213, 9370, 9585, 9612, 9775, 9836]),\n",
       "  'hvac': array([  54,  203,  527, 1450, 1524, 1731, 2031, 2354, 2606, 3687, 3864,\n",
       "         3938, 4083, 4095, 4495, 4761, 4934, 5938, 6377, 6429, 6497, 6547,\n",
       "         7062, 7114, 7409, 7639, 8061, 8342, 8574, 8733, 9213, 9370, 9585,\n",
       "         9612, 9775, 9836]),\n",
       "  'wm': array([  54, 2354, 3938, 4329, 6377, 7409, 7639, 8574, 8733, 9213, 9585,\n",
       "         9775])}}"
      ]
     },
     "execution_count": 71,
     "metadata": {},
     "output_type": "execute_result"
    }
   ],
   "source": [
    "valid_homes_data"
   ]
  },
  {
   "cell_type": "code",
   "execution_count": null,
   "metadata": {
    "collapsed": true
   },
   "outputs": [],
   "source": []
  }
 ],
 "metadata": {
  "kernelspec": {
   "display_name": "Python 2",
   "language": "python",
   "name": "python2"
  },
  "language_info": {
   "codemirror_mode": {
    "name": "ipython",
    "version": 2
   },
   "file_extension": ".py",
   "mimetype": "text/x-python",
   "name": "python",
   "nbconvert_exporter": "python",
   "pygments_lexer": "ipython2",
   "version": "2.7.11"
  }
 },
 "nbformat": 4,
 "nbformat_minor": 0
}
