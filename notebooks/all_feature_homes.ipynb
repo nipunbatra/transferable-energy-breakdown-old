{
 "cells": [
  {
   "cell_type": "code",
   "execution_count": 1,
   "metadata": {
    "collapsed": true
   },
   "outputs": [],
   "source": [
    "import pickle\n",
    "import pandas as pd\n",
    "import sys\n",
    "import numpy as np"
   ]
  },
  {
   "cell_type": "code",
   "execution_count": 2,
   "metadata": {
    "collapsed": false
   },
   "outputs": [
    {
     "name": "stdout",
     "output_type": "stream",
     "text": [
      "all_feature_homes.ipynb all_homes.ipynb\r\n"
     ]
    }
   ],
   "source": [
    "!ls"
   ]
  },
  {
   "cell_type": "code",
   "execution_count": 3,
   "metadata": {
    "collapsed": false
   },
   "outputs": [],
   "source": [
    "sys.path.append(\"../../code/\")\n",
    "sys.path.append(\"../code/\")\n",
    "\n",
    "\n",
    "from common_functions import tableau20blind, format_axes, latexify\n",
    "from regional_average_contribution import contribution"
   ]
  },
  {
   "cell_type": "code",
   "execution_count": 4,
   "metadata": {
    "collapsed": true
   },
   "outputs": [],
   "source": [
    "out_overall = pickle.load(open('../../data/input/all_regions.pkl', 'r'))\n"
   ]
  },
  {
   "cell_type": "code",
   "execution_count": 82,
   "metadata": {
    "collapsed": true
   },
   "outputs": [],
   "source": [
    "# Initialising results\n",
    "results = {'KNN':{},'MF-105 homes':{},'MF-105 homes, additional features':{}\n",
    "          ,\"MF-516 homes, additional features\":{},\"MF-516 homes\":{}}\n",
    "\n",
    "# Initialising results\n",
    "results = {'KNN':{},'MF-105 homes':{},'MF-105 homes, additional features':{}\n",
    "          }"
   ]
  },
  {
   "cell_type": "code",
   "execution_count": 83,
   "metadata": {
    "collapsed": true
   },
   "outputs": [],
   "source": [
    "# Loading KNN results\n",
    "knn_results = pickle.load(open('../data/knn_subset_homes.pkl','r'))\n",
    "for appliance, appliance_df in knn_results.iteritems():\n",
    "    results['KNN'][appliance] = appliance_df.median().mean()"
   ]
  },
  {
   "cell_type": "code",
   "execution_count": 85,
   "metadata": {
    "collapsed": false
   },
   "outputs": [
    {
     "name": "stdout",
     "output_type": "stream",
     "text": [
      "{'hvac': ('None', 8, 21.46749926033644), 'wm': ('None', 2, 44.05241484909982), 'fridge': ('None', 3, 28.47212892859601), 'mw': ('None', 2, 43.359407921872695), 'oven': ('None', 1, 52.20834411012954), 'dw': ('None', 9, 52.777753183644315)}\n"
     ]
    }
   ],
   "source": [
    "# Loading MF results and finding the best\n",
    "mf_results = pickle.load(open('../data/mf_subset_homes.pkl','r'))\n",
    "best_combination = {}\n",
    "for appliance, appliance_struct in mf_results.iteritems():\n",
    "    best_appliance=1000\n",
    "    appliance_feature='None'\n",
    "    for latent_factors, appliance_df in appliance_struct[appliace_feature].iteritems():\n",
    "        \n",
    "        pred = appliance_df.median().mean()\n",
    "        if pred<best_appliance:\n",
    "            best_appliance=pred\n",
    "            best_combination[appliance]=(appliance_feature, latent_factors, pred)\n",
    "            results['MF-105 homes'][appliance] = pred\n",
    "print best_combination"
   ]
  },
  {
   "cell_type": "code",
   "execution_count": 94,
   "metadata": {
    "collapsed": false
   },
   "outputs": [],
   "source": [
    "# Loading MF results and finding the best\n",
    "mf_results = pickle.load(open('../data/mf_subset_homes.pkl','r'))\n",
    "best_combination = {}\n",
    "for appliance, appliance_struct in mf_results.iteritems():\n",
    "    best_appliance=1000\n",
    "    for appliance_feature, appliance_feature_struct in appliance_struct.iteritems():\n",
    "        for latent_factors, appliance_df in appliance_feature_struct.iteritems():\n",
    "            pred = appliance_df.median().mean()\n",
    "            if pred<best_appliance:\n",
    "                best_appliance=pred\n",
    "                best_combination[appliance]=(appliance_feature, latent_factors, pred)\n",
    "                results['MF-105 homes, additional features'][appliance] = pred"
   ]
  },
  {
   "cell_type": "code",
   "execution_count": 95,
   "metadata": {
    "collapsed": false
   },
   "outputs": [
    {
     "data": {
      "text/plain": [
       "{'dw': ('occ', 2, 46.37772338804214),\n",
       " 'fridge': ('occ_area', 2, 24.91311995551921),\n",
       " 'hvac': ('rooms', 8, 21.29756141099046),\n",
       " 'mw': ('occ', 5, 41.22580648634024),\n",
       " 'oven': ('area_rooms', 8, 48.164684764512515),\n",
       " 'wm': ('occ_rooms', 3, 43.7072363087808)}"
      ]
     },
     "execution_count": 95,
     "metadata": {},
     "output_type": "execute_result"
    }
   ],
   "source": [
    "best_combination"
   ]
  },
  {
   "cell_type": "code",
   "execution_count": 54,
   "metadata": {
    "collapsed": false
   },
   "outputs": [
    {
     "name": "stdout",
     "output_type": "stream",
     "text": [
      "{'hvac': ('None', 8, 21.46749926033644), 'wm': ('None', 2, 44.05241484909982), 'fridge': ('None', 3, 28.47212892859601), 'mw': ('None', 2, 43.359407921872695), 'oven': ('None', 1, 52.20834411012954), 'dw': ('None', 9, 52.777753183644315)}\n"
     ]
    }
   ],
   "source": [
    "# Loading MF results and finding the best\n",
    "mf_results = pickle.load(open('../data/mf_all_homes.pkl','r'))\n",
    "mf_subset_results = pickle.load(open('../data/mf_subset_homes.pkl','r'))\n",
    "best_combination = {}\n",
    "for appliance, appliance_struct in mf_results.iteritems():\n",
    "    best_appliance=1000\n",
    "    appliance_feature='None'        \n",
    "    for latent_factors, appliance_df in appliance_struct[appliance_feature].iteritems():\n",
    "\n",
    "        pred = appliance_df.ix[mf_subset_results[appliance][appliance_feature][latent_factors].index].median().mean()\n",
    "        if pred<best_appliance:\n",
    "            best_appliance=pred\n",
    "            best_combination[appliance]=(appliance_feature, latent_factors, pred)\n",
    "            results['MF-516 homes'][appliance] = pred\n",
    "print best_combination"
   ]
  },
  {
   "cell_type": "code",
   "execution_count": 65,
   "metadata": {
    "collapsed": false
   },
   "outputs": [
    {
     "data": {
      "text/plain": [
       "('dw', 50.4382645923347)"
      ]
     },
     "execution_count": 65,
     "metadata": {},
     "output_type": "execute_result"
    }
   ],
   "source": [
    "appliance,appliance_df.median().mean()"
   ]
  },
  {
   "cell_type": "code",
   "execution_count": 76,
   "metadata": {
    "collapsed": false
   },
   "outputs": [
    {
     "data": {
      "text/html": [
       "<div>\n",
       "<table border=\"1\" class=\"dataframe\">\n",
       "  <thead>\n",
       "    <tr style=\"text-align: right;\">\n",
       "      <th></th>\n",
       "      <th>dw_1</th>\n",
       "      <th>dw_2</th>\n",
       "      <th>dw_3</th>\n",
       "      <th>dw_4</th>\n",
       "      <th>dw_5</th>\n",
       "      <th>dw_6</th>\n",
       "      <th>dw_7</th>\n",
       "      <th>dw_8</th>\n",
       "      <th>dw_9</th>\n",
       "      <th>dw_10</th>\n",
       "      <th>dw_11</th>\n",
       "      <th>dw_12</th>\n",
       "    </tr>\n",
       "  </thead>\n",
       "  <tbody>\n",
       "    <tr>\n",
       "      <th>26</th>\n",
       "      <td>34.855730</td>\n",
       "      <td>15.678797</td>\n",
       "      <td>32.211937</td>\n",
       "      <td>12.414853</td>\n",
       "      <td>7.081288</td>\n",
       "      <td>4.487206e+00</td>\n",
       "      <td>41.639537</td>\n",
       "      <td>34.499743</td>\n",
       "      <td>23.885481</td>\n",
       "      <td>24.447988</td>\n",
       "      <td>20.859448</td>\n",
       "      <td>12.524931</td>\n",
       "    </tr>\n",
       "    <tr>\n",
       "      <th>94</th>\n",
       "      <td>69.538060</td>\n",
       "      <td>37.909134</td>\n",
       "      <td>15.603427</td>\n",
       "      <td>57.894529</td>\n",
       "      <td>9.337666</td>\n",
       "      <td>3.851588e+00</td>\n",
       "      <td>0.216471</td>\n",
       "      <td>25.804832</td>\n",
       "      <td>41.669234</td>\n",
       "      <td>13.493729</td>\n",
       "      <td>107.075068</td>\n",
       "      <td>11.431772</td>\n",
       "    </tr>\n",
       "    <tr>\n",
       "      <th>101</th>\n",
       "      <td>2.427404</td>\n",
       "      <td>3.593241</td>\n",
       "      <td>34.530698</td>\n",
       "      <td>57.570727</td>\n",
       "      <td>287.247342</td>\n",
       "      <td>inf</td>\n",
       "      <td>193612.131846</td>\n",
       "      <td>14.789327</td>\n",
       "      <td>83439.134871</td>\n",
       "      <td>939.253790</td>\n",
       "      <td>29100.317226</td>\n",
       "      <td>16308.978198</td>\n",
       "    </tr>\n",
       "    <tr>\n",
       "      <th>222</th>\n",
       "      <td>290.869484</td>\n",
       "      <td>102.405023</td>\n",
       "      <td>119.893203</td>\n",
       "      <td>2243.262119</td>\n",
       "      <td>531704.275173</td>\n",
       "      <td>3.576656e+05</td>\n",
       "      <td>11093392.557923</td>\n",
       "      <td>193543.866055</td>\n",
       "      <td>301766.157879</td>\n",
       "      <td>725858.700485</td>\n",
       "      <td>140.186500</td>\n",
       "      <td>128.305188</td>\n",
       "    </tr>\n",
       "    <tr>\n",
       "      <th>545</th>\n",
       "      <td>16.639845</td>\n",
       "      <td>20.144247</td>\n",
       "      <td>21.551902</td>\n",
       "      <td>22.272346</td>\n",
       "      <td>4.260483</td>\n",
       "      <td>2.458241e+01</td>\n",
       "      <td>11.635052</td>\n",
       "      <td>30.932435</td>\n",
       "      <td>22.175190</td>\n",
       "      <td>18.541411</td>\n",
       "      <td>14.927862</td>\n",
       "      <td>8.404200</td>\n",
       "    </tr>\n",
       "  </tbody>\n",
       "</table>\n",
       "</div>"
      ],
      "text/plain": [
       "0          dw_1        dw_2        dw_3         dw_4           dw_5  \\\n",
       "26    34.855730   15.678797   32.211937    12.414853       7.081288   \n",
       "94    69.538060   37.909134   15.603427    57.894529       9.337666   \n",
       "101    2.427404    3.593241   34.530698    57.570727     287.247342   \n",
       "222  290.869484  102.405023  119.893203  2243.262119  531704.275173   \n",
       "545   16.639845   20.144247   21.551902    22.272346       4.260483   \n",
       "\n",
       "0            dw_6             dw_7           dw_8           dw_9  \\\n",
       "26   4.487206e+00        41.639537      34.499743      23.885481   \n",
       "94   3.851588e+00         0.216471      25.804832      41.669234   \n",
       "101           inf    193612.131846      14.789327   83439.134871   \n",
       "222  3.576656e+05  11093392.557923  193543.866055  301766.157879   \n",
       "545  2.458241e+01        11.635052      30.932435      22.175190   \n",
       "\n",
       "0            dw_10         dw_11         dw_12  \n",
       "26       24.447988     20.859448     12.524931  \n",
       "94       13.493729    107.075068     11.431772  \n",
       "101     939.253790  29100.317226  16308.978198  \n",
       "222  725858.700485    140.186500    128.305188  \n",
       "545      18.541411     14.927862      8.404200  "
      ]
     },
     "execution_count": 76,
     "metadata": {},
     "output_type": "execute_result"
    }
   ],
   "source": [
    "mf_results[appliance]['None'][2].ix[mf_subset_results[appliance]['None'][2].index].head()"
   ]
  },
  {
   "cell_type": "code",
   "execution_count": 77,
   "metadata": {
    "collapsed": false
   },
   "outputs": [
    {
     "data": {
      "text/html": [
       "<div>\n",
       "<table border=\"1\" class=\"dataframe\">\n",
       "  <thead>\n",
       "    <tr style=\"text-align: right;\">\n",
       "      <th></th>\n",
       "      <th>dw_1</th>\n",
       "      <th>dw_2</th>\n",
       "      <th>dw_3</th>\n",
       "      <th>dw_4</th>\n",
       "      <th>dw_5</th>\n",
       "      <th>dw_6</th>\n",
       "      <th>dw_7</th>\n",
       "      <th>dw_8</th>\n",
       "      <th>dw_9</th>\n",
       "      <th>dw_10</th>\n",
       "      <th>dw_11</th>\n",
       "      <th>dw_12</th>\n",
       "    </tr>\n",
       "  </thead>\n",
       "  <tbody>\n",
       "    <tr>\n",
       "      <th>26</th>\n",
       "      <td>34.855730</td>\n",
       "      <td>15.678797</td>\n",
       "      <td>32.211937</td>\n",
       "      <td>12.414853</td>\n",
       "      <td>7.081288</td>\n",
       "      <td>4.487206e+00</td>\n",
       "      <td>41.639537</td>\n",
       "      <td>34.499743</td>\n",
       "      <td>23.885481</td>\n",
       "      <td>24.447988</td>\n",
       "      <td>20.859448</td>\n",
       "      <td>12.524931</td>\n",
       "    </tr>\n",
       "    <tr>\n",
       "      <th>94</th>\n",
       "      <td>69.538060</td>\n",
       "      <td>37.909134</td>\n",
       "      <td>15.603427</td>\n",
       "      <td>57.894529</td>\n",
       "      <td>9.337666</td>\n",
       "      <td>3.851588e+00</td>\n",
       "      <td>0.216471</td>\n",
       "      <td>25.804832</td>\n",
       "      <td>41.669234</td>\n",
       "      <td>13.493729</td>\n",
       "      <td>107.075068</td>\n",
       "      <td>11.431772</td>\n",
       "    </tr>\n",
       "    <tr>\n",
       "      <th>101</th>\n",
       "      <td>2.427404</td>\n",
       "      <td>3.593241</td>\n",
       "      <td>34.530698</td>\n",
       "      <td>57.570727</td>\n",
       "      <td>287.247342</td>\n",
       "      <td>inf</td>\n",
       "      <td>193612.131846</td>\n",
       "      <td>14.789327</td>\n",
       "      <td>83439.134871</td>\n",
       "      <td>939.253790</td>\n",
       "      <td>29100.317226</td>\n",
       "      <td>16308.978198</td>\n",
       "    </tr>\n",
       "    <tr>\n",
       "      <th>222</th>\n",
       "      <td>290.869484</td>\n",
       "      <td>102.405023</td>\n",
       "      <td>119.893203</td>\n",
       "      <td>2243.262119</td>\n",
       "      <td>531704.275173</td>\n",
       "      <td>3.576656e+05</td>\n",
       "      <td>11093392.557923</td>\n",
       "      <td>193543.866055</td>\n",
       "      <td>301766.157879</td>\n",
       "      <td>725858.700485</td>\n",
       "      <td>140.186500</td>\n",
       "      <td>128.305188</td>\n",
       "    </tr>\n",
       "    <tr>\n",
       "      <th>545</th>\n",
       "      <td>16.639845</td>\n",
       "      <td>20.144247</td>\n",
       "      <td>21.551902</td>\n",
       "      <td>22.272346</td>\n",
       "      <td>4.260483</td>\n",
       "      <td>2.458241e+01</td>\n",
       "      <td>11.635052</td>\n",
       "      <td>30.932435</td>\n",
       "      <td>22.175190</td>\n",
       "      <td>18.541411</td>\n",
       "      <td>14.927862</td>\n",
       "      <td>8.404200</td>\n",
       "    </tr>\n",
       "  </tbody>\n",
       "</table>\n",
       "</div>"
      ],
      "text/plain": [
       "0          dw_1        dw_2        dw_3         dw_4           dw_5  \\\n",
       "26    34.855730   15.678797   32.211937    12.414853       7.081288   \n",
       "94    69.538060   37.909134   15.603427    57.894529       9.337666   \n",
       "101    2.427404    3.593241   34.530698    57.570727     287.247342   \n",
       "222  290.869484  102.405023  119.893203  2243.262119  531704.275173   \n",
       "545   16.639845   20.144247   21.551902    22.272346       4.260483   \n",
       "\n",
       "0            dw_6             dw_7           dw_8           dw_9  \\\n",
       "26   4.487206e+00        41.639537      34.499743      23.885481   \n",
       "94   3.851588e+00         0.216471      25.804832      41.669234   \n",
       "101           inf    193612.131846      14.789327   83439.134871   \n",
       "222  3.576656e+05  11093392.557923  193543.866055  301766.157879   \n",
       "545  2.458241e+01        11.635052      30.932435      22.175190   \n",
       "\n",
       "0            dw_10         dw_11         dw_12  \n",
       "26       24.447988     20.859448     12.524931  \n",
       "94       13.493729    107.075068     11.431772  \n",
       "101     939.253790  29100.317226  16308.978198  \n",
       "222  725858.700485    140.186500    128.305188  \n",
       "545      18.541411     14.927862      8.404200  "
      ]
     },
     "execution_count": 77,
     "metadata": {},
     "output_type": "execute_result"
    }
   ],
   "source": [
    "mf_subset_results[appliance]['None'][2].head()"
   ]
  },
  {
   "cell_type": "code",
   "execution_count": 63,
   "metadata": {
    "collapsed": false
   },
   "outputs": [
    {
     "data": {
      "text/plain": [
       "52.777753183644315"
      ]
     },
     "execution_count": 63,
     "metadata": {},
     "output_type": "execute_result"
    }
   ],
   "source": [
    "appliance_df.ix[mf_subset_results[appliance][appliance_feature][latent_factors].index].median().mean()"
   ]
  },
  {
   "cell_type": "code",
   "execution_count": 49,
   "metadata": {
    "collapsed": true
   },
   "outputs": [],
   "source": [
    "# Loading MF results and finding the best\n",
    "mf_results = pickle.load(open('../data/mf_all_homes.pkl','r'))\n",
    "mf_subset_results = pickle.load(open('../data/mf_subset_homes.pkl','r'))\n",
    "best_combination = {}\n",
    "for appliance, appliance_struct in mf_results.iteritems():\n",
    "    best_appliance=1000\n",
    "    for appliance_feature, appliance_feature_struct in appliance_struct.iteritems():\n",
    "        for latent_factors, appliance_df in appliance_feature_struct.iteritems():\n",
    "            \n",
    "            pred = appliance_df.ix[mf_subset_results[appliance][appliance_feature][latent_factors].index].median().mean()\n",
    "            if pred<best_appliance:\n",
    "                best_appliance=pred\n",
    "                best_combination[appliance]=(appliance_feature, latent_factors, pred)\n",
    "                results['MF-516 homes, additional features'][appliance] = pred"
   ]
  },
  {
   "cell_type": "code",
   "execution_count": 86,
   "metadata": {
    "collapsed": false
   },
   "outputs": [],
   "source": [
    "%matplotlib inline\n",
    "results_df = pd.DataFrame(results)"
   ]
  },
  {
   "cell_type": "code",
   "execution_count": 87,
   "metadata": {
    "collapsed": false
   },
   "outputs": [
    {
     "data": {
      "text/html": [
       "<div>\n",
       "<table border=\"1\" class=\"dataframe\">\n",
       "  <thead>\n",
       "    <tr style=\"text-align: right;\">\n",
       "      <th></th>\n",
       "      <th>KNN</th>\n",
       "      <th>MF-105 homes</th>\n",
       "      <th>MF-105 homes, additional features</th>\n",
       "    </tr>\n",
       "  </thead>\n",
       "  <tbody>\n",
       "    <tr>\n",
       "      <th>dw</th>\n",
       "      <td>55.305178</td>\n",
       "      <td>52.777753</td>\n",
       "      <td>46.377723</td>\n",
       "    </tr>\n",
       "    <tr>\n",
       "      <th>fridge</th>\n",
       "      <td>30.453563</td>\n",
       "      <td>28.472129</td>\n",
       "      <td>24.913120</td>\n",
       "    </tr>\n",
       "    <tr>\n",
       "      <th>hvac</th>\n",
       "      <td>27.268441</td>\n",
       "      <td>21.467499</td>\n",
       "      <td>21.297561</td>\n",
       "    </tr>\n",
       "    <tr>\n",
       "      <th>mw</th>\n",
       "      <td>49.199756</td>\n",
       "      <td>43.359408</td>\n",
       "      <td>41.225806</td>\n",
       "    </tr>\n",
       "    <tr>\n",
       "      <th>oven</th>\n",
       "      <td>51.708601</td>\n",
       "      <td>52.208344</td>\n",
       "      <td>48.164685</td>\n",
       "    </tr>\n",
       "    <tr>\n",
       "      <th>wm</th>\n",
       "      <td>43.735111</td>\n",
       "      <td>44.052415</td>\n",
       "      <td>43.707236</td>\n",
       "    </tr>\n",
       "  </tbody>\n",
       "</table>\n",
       "</div>"
      ],
      "text/plain": [
       "              KNN  MF-105 homes  MF-105 homes, additional features\n",
       "dw      55.305178     52.777753                          46.377723\n",
       "fridge  30.453563     28.472129                          24.913120\n",
       "hvac    27.268441     21.467499                          21.297561\n",
       "mw      49.199756     43.359408                          41.225806\n",
       "oven    51.708601     52.208344                          48.164685\n",
       "wm      43.735111     44.052415                          43.707236"
      ]
     },
     "execution_count": 87,
     "metadata": {},
     "output_type": "execute_result"
    }
   ],
   "source": [
    "results_df"
   ]
  },
  {
   "cell_type": "code",
   "execution_count": 88,
   "metadata": {
    "collapsed": true
   },
   "outputs": [],
   "source": [
    "map_appliance = {'fridge':'Fridge','dw':'Dish\\nwasher','mw':'Microwave','hvac':'HVAC','oven':'Oven','wm':'Washing\\nmachine'}"
   ]
  },
  {
   "cell_type": "code",
   "execution_count": 89,
   "metadata": {
    "collapsed": false
   },
   "outputs": [],
   "source": [
    "#results_df[results_df>100]=100\n",
    "#results_df=results_df.fillna(100)\n",
    "results_df.index = [map_appliance[appliance] for appliance in results_df.index]\n",
    "#results_df.plot(kind='bar', colors=tableau20blind[::2])"
   ]
  },
  {
   "cell_type": "code",
   "execution_count": 90,
   "metadata": {
    "collapsed": false
   },
   "outputs": [],
   "source": [
    "results_df = results_df.ix[['HVAC','Fridge','Oven','Dish\\nwasher','Washing\\nmachine','Microwave']]"
   ]
  },
  {
   "cell_type": "code",
   "execution_count": 20,
   "metadata": {
    "collapsed": false
   },
   "outputs": [],
   "source": [
    "results_df = results_df[['KNN','MF']]"
   ]
  },
  {
   "cell_type": "code",
   "execution_count": 93,
   "metadata": {
    "collapsed": false
   },
   "outputs": [
    {
     "data": {
      "image/png": "[encoded data removed]",
      "text/plain": [
       "<matplotlib.figure.Figure at 0x119915650>"
      ]
     },
     "metadata": {},
     "output_type": "display_data"
    }
   ],
   "source": [
    "import matplotlib.pyplot as plt\n",
    "results_df.plot(kind='bar',rot=0, colors=tableau20blind[::2])\n",
    "lgd = plt.legend(loc='right', bbox_to_anchor=(1.8, 0.5))\n",
    "plt.ylabel(\"Energy error\\n(Lower is better)\");\n",
    "plt.title(\"Results over 105 homes having all features\")\n",
    "plt.savefig(\"../results/subset.pdf\",bbox_extra_artists=(lgd,), bbox_inches='tight')\n",
    "plt.savefig(\"../results/subset.png\",bbox_extra_artists=(lgd,), bbox_inches='tight')"
   ]
  },
  {
   "cell_type": "markdown",
   "metadata": {},
   "source": [
    "Comparing MF with and without homes containing those features"
   ]
  },
  {
   "cell_type": "code",
   "execution_count": 23,
   "metadata": {
    "collapsed": false
   },
   "outputs": [
    {
     "data": {
      "text/plain": [
       "{'dw': ('occ', 1, 47.696584280069516),\n",
       " 'fridge': ('occ_area', 2, 24.91311995551921),\n",
       " 'hvac': ('rooms', 8, 21.29756141099046),\n",
       " 'mw': ('occ', 2, 41.60195238757644),\n",
       " 'oven': ('area_rooms', 8, 48.164684764512515),\n",
       " 'wm': ('occ_rooms', 3, 43.7072363087808)}"
      ]
     },
     "execution_count": 23,
     "metadata": {},
     "output_type": "execute_result"
    }
   ],
   "source": [
    "best_combination"
   ]
  },
  {
   "cell_type": "code",
   "execution_count": 31,
   "metadata": {
    "collapsed": false
   },
   "outputs": [
    {
     "data": {
      "text/html": [
       "<div>\n",
       "<table border=\"1\" class=\"dataframe\">\n",
       "  <thead>\n",
       "    <tr style=\"text-align: right;\">\n",
       "      <th></th>\n",
       "      <th>KNN</th>\n",
       "      <th>MF</th>\n",
       "    </tr>\n",
       "  </thead>\n",
       "  <tbody>\n",
       "    <tr>\n",
       "      <th>dw</th>\n",
       "      <td>55.305178</td>\n",
       "      <td>47.696584</td>\n",
       "    </tr>\n",
       "    <tr>\n",
       "      <th>fridge</th>\n",
       "      <td>30.453563</td>\n",
       "      <td>24.913120</td>\n",
       "    </tr>\n",
       "    <tr>\n",
       "      <th>hvac</th>\n",
       "      <td>27.268441</td>\n",
       "      <td>21.297561</td>\n",
       "    </tr>\n",
       "    <tr>\n",
       "      <th>mw</th>\n",
       "      <td>49.199756</td>\n",
       "      <td>41.601952</td>\n",
       "    </tr>\n",
       "    <tr>\n",
       "      <th>oven</th>\n",
       "      <td>51.708601</td>\n",
       "      <td>48.164685</td>\n",
       "    </tr>\n",
       "    <tr>\n",
       "      <th>wm</th>\n",
       "      <td>43.735111</td>\n",
       "      <td>43.707236</td>\n",
       "    </tr>\n",
       "  </tbody>\n",
       "</table>\n",
       "</div>"
      ],
      "text/plain": [
       "              KNN         MF\n",
       "dw      55.305178  47.696584\n",
       "fridge  30.453563  24.913120\n",
       "hvac    27.268441  21.297561\n",
       "mw      49.199756  41.601952\n",
       "oven    51.708601  48.164685\n",
       "wm      43.735111  43.707236"
      ]
     },
     "execution_count": 31,
     "metadata": {},
     "output_type": "execute_result"
    }
   ],
   "source": [
    "pd.DataFrame(results)"
   ]
  },
  {
   "cell_type": "code",
   "execution_count": 100,
   "metadata": {
    "collapsed": false
   },
   "outputs": [
    {
     "name": "stdout",
     "output_type": "stream",
     "text": [
      "fridge 57.3978457853\n",
      "hvac 55.0774075892\n",
      "dw 51.1713352881\n",
      "mw 57.3493816955\n",
      "wm 53.9492074301\n",
      "oven 55.2763277251\n"
     ]
    }
   ],
   "source": [
    "for appliance in ['fridge','hvac','dw','mw','wm','oven']:\n",
    "    mf_best = mf_subset_results[appliance][best_combination[appliance][0]][best_combination[appliance][1]]\n",
    "    knn_best = knn_results[appliance]\n",
    "    mf_best.columns = knn_best.columns\n",
    "    common_index = np.intersect1d(mf_best.index, knn_best.index)\n",
    "    mf_best = mf_best.ix[common_index]\n",
    "    knn_best = knn_best.ix[common_index]\n",
    "    knn_best_copy = knn_best.copy()\n",
    "    mf_best_copy = mf_best.copy()\n",
    "    max_two = (mf_best_copy.where(mf_best_copy > knn_best_copy, knn_best_copy).fillna(mf_best_copy))\n",
    "    print appliance,100*((-mf_best+knn_best)/max_two).unstack().std()"
   ]
  },
  {
   "cell_type": "code",
   "execution_count": null,
   "metadata": {
    "collapsed": true
   },
   "outputs": [],
   "source": [
    "Calculating win/loss"
   ]
  },
  {
   "cell_type": "code",
   "execution_count": 113,
   "metadata": {
    "collapsed": false
   },
   "outputs": [],
   "source": [
    "o = {}\n",
    "for appliance in ['fridge','hvac','dw','mw','wm','oven']:\n",
    "    mf_best = mf_subset_results[appliance][best_combination[appliance][0]][best_combination[appliance][1]]\n",
    "    knn_best = knn_results[appliance]\n",
    "    mf_best.columns = knn_best.columns\n",
    "    common_index = np.intersect1d(mf_best.index, knn_best.index)\n",
    "    mf_best = mf_best.ix[common_index]\n",
    "    knn_best = knn_best.ix[common_index]\n",
    "    win = (knn_best>mf_best).sum().sum()\n",
    "    loss = (knn_best<mf_best).sum().sum()\n",
    "   \n",
    "    o[appliance]={'win':win, \"loss\":loss, \"win/loss\":win*1./loss,\"win/(win_loss)\":win*1./(win+loss)} "
   ]
  },
  {
   "cell_type": "code",
   "execution_count": 114,
   "metadata": {
    "collapsed": false
   },
   "outputs": [
    {
     "data": {
      "text/html": [
       "<div>\n",
       "<table border=\"1\" class=\"dataframe\">\n",
       "  <thead>\n",
       "    <tr style=\"text-align: right;\">\n",
       "      <th></th>\n",
       "      <th>loss</th>\n",
       "      <th>win</th>\n",
       "      <th>win/(win_loss)</th>\n",
       "      <th>win/loss</th>\n",
       "    </tr>\n",
       "  </thead>\n",
       "  <tbody>\n",
       "    <tr>\n",
       "      <th>dw</th>\n",
       "      <td>309</td>\n",
       "      <td>380</td>\n",
       "      <td>0.551524</td>\n",
       "      <td>1.229773</td>\n",
       "    </tr>\n",
       "    <tr>\n",
       "      <th>fridge</th>\n",
       "      <td>411</td>\n",
       "      <td>405</td>\n",
       "      <td>0.496324</td>\n",
       "      <td>0.985401</td>\n",
       "    </tr>\n",
       "    <tr>\n",
       "      <th>hvac</th>\n",
       "      <td>253</td>\n",
       "      <td>317</td>\n",
       "      <td>0.556140</td>\n",
       "      <td>1.252964</td>\n",
       "    </tr>\n",
       "    <tr>\n",
       "      <th>mw</th>\n",
       "      <td>268</td>\n",
       "      <td>296</td>\n",
       "      <td>0.524823</td>\n",
       "      <td>1.104478</td>\n",
       "    </tr>\n",
       "    <tr>\n",
       "      <th>oven</th>\n",
       "      <td>179</td>\n",
       "      <td>180</td>\n",
       "      <td>0.501393</td>\n",
       "      <td>1.005587</td>\n",
       "    </tr>\n",
       "    <tr>\n",
       "      <th>wm</th>\n",
       "      <td>354</td>\n",
       "      <td>339</td>\n",
       "      <td>0.489177</td>\n",
       "      <td>0.957627</td>\n",
       "    </tr>\n",
       "  </tbody>\n",
       "</table>\n",
       "</div>"
      ],
      "text/plain": [
       "        loss  win  win/(win_loss)  win/loss\n",
       "dw       309  380        0.551524  1.229773\n",
       "fridge   411  405        0.496324  0.985401\n",
       "hvac     253  317        0.556140  1.252964\n",
       "mw       268  296        0.524823  1.104478\n",
       "oven     179  180        0.501393  1.005587\n",
       "wm       354  339        0.489177  0.957627"
      ]
     },
     "execution_count": 114,
     "metadata": {},
     "output_type": "execute_result"
    }
   ],
   "source": [
    "pd.DataFrame(o).T"
   ]
  },
  {
   "cell_type": "code",
   "execution_count": 117,
   "metadata": {
    "collapsed": false
   },
   "outputs": [
    {
     "data": {
      "text/plain": [
       "48.164684764512515"
      ]
     },
     "execution_count": 117,
     "metadata": {},
     "output_type": "execute_result"
    }
   ],
   "source": [
    "mf_best.median().mean()"
   ]
  },
  {
   "cell_type": "code",
   "execution_count": 118,
   "metadata": {
    "collapsed": false
   },
   "outputs": [
    {
     "data": {
      "text/plain": [
       "51.70860070119945"
      ]
     },
     "execution_count": 118,
     "metadata": {},
     "output_type": "execute_result"
    }
   ],
   "source": [
    "knn_best.median().mean()"
   ]
  },
  {
   "cell_type": "code",
   "execution_count": 119,
   "metadata": {
    "collapsed": false
   },
   "outputs": [
    {
     "data": {
      "text/plain": [
       "'oven'"
      ]
     },
     "execution_count": 119,
     "metadata": {},
     "output_type": "execute_result"
    }
   ],
   "source": [
    "appliance"
   ]
  },
  {
   "cell_type": "code",
   "execution_count": null,
   "metadata": {
    "collapsed": true
   },
   "outputs": [],
   "source": []
  }
 ],
 "metadata": {
  "kernelspec": {
   "display_name": "Python 2",
   "language": "python",
   "name": "python2"
  },
  "language_info": {
   "codemirror_mode": {
    "name": "ipython",
    "version": 2
   },
   "file_extension": ".py",
   "mimetype": "text/x-python",
   "name": "python",
   "nbconvert_exporter": "python",
   "pygments_lexer": "ipython2",
   "version": "2.7.11"
  }
 },
 "nbformat": 4,
 "nbformat_minor": 0
}
