{
 "cells": [
  {
   "cell_type": "code",
   "execution_count": 31,
   "metadata": {
    "collapsed": false
   },
   "outputs": [],
   "source": [
    "import pickle\n",
    "import sys\n",
    "sys.path.append('../code/')\n",
    "from common_functions import compute_rmse_fraction\n",
    "from common_functions import valid_homes_data"
   ]
  },
  {
   "cell_type": "code",
   "execution_count": 2,
   "metadata": {
    "collapsed": false
   },
   "outputs": [],
   "source": [
    "out = pickle.load(open('../data/out_fraction.pkl','r'))"
   ]
  },
  {
   "cell_type": "code",
   "execution_count": 40,
   "metadata": {
    "collapsed": true
   },
   "outputs": [],
   "source": [
    "def test(out, appliance, feature, austin_frac, k):\n",
    "    k_dict = out[appliance][feature][austin_frac][0.0][1.0][k]\n",
    "    best_error = 10000\n",
    "    best_feature='None'\n",
    "    for f, pred_df in k_dict.iteritems():\n",
    "        if len(pred_df)==len(valid_homes_data['SanDiego'][appliance]):\n",
    "            try:\n",
    "                rms = compute_rmse_fraction(appliance, pred_df)\n",
    "                if rms<best_error:\n",
    "                    best_error=rms\n",
    "                    best_feature = f\n",
    "            except:\n",
    "                pass\n",
    "       \n",
    "    return best_error, best_feature\n"
   ]
  },
  {
   "cell_type": "code",
   "execution_count": 41,
   "metadata": {
    "collapsed": false
   },
   "outputs": [
    {
     "data": {
      "text/plain": [
       "array([  54,  203,  527, 1450, 1524, 1731, 2031, 2354, 2606, 3687, 3864,\n",
       "       3938, 4083, 4095, 4495, 4761, 4934, 5938, 6377, 6429, 6497, 6547,\n",
       "       7062, 7114, 7409, 7639, 8061, 8342, 8574, 8733, 9213, 9370, 9585,\n",
       "       9612, 9775, 9836])"
      ]
     },
     "execution_count": 41,
     "metadata": {},
     "output_type": "execute_result"
    }
   ],
   "source": [
    "valid_homes_data['SanDiego'][appliance]"
   ]
  },
  {
   "cell_type": "code",
   "execution_count": 70,
   "metadata": {
    "collapsed": false
   },
   "outputs": [],
   "source": [
    "appliance='hvac'\n",
    "feature='energy_home'\n",
    "austin_frac = 0.0\n",
    "out_results= {}\n",
    "best_f = {}\n",
    "for k in range(1, 9):\n",
    "    temp = test(out, appliance, feature, austin_frac, k)\n",
    "    out_results[k], best_f[k]=  temp[0], temp[1]"
   ]
  },
  {
   "cell_type": "code",
   "execution_count": 71,
   "metadata": {
    "collapsed": false
   },
   "outputs": [
    {
     "data": {
      "text/plain": [
       "1    10000\n",
       "2    10000\n",
       "3    10000\n",
       "4    10000\n",
       "5    10000\n",
       "6    10000\n",
       "7    10000\n",
       "8    10000\n",
       "dtype: int64"
      ]
     },
     "execution_count": 71,
     "metadata": {},
     "output_type": "execute_result"
    }
   ],
   "source": [
    "import pandas as pd\n",
    "pd.Series(out_results)"
   ]
  },
  {
   "cell_type": "code",
   "execution_count": 69,
   "metadata": {
    "collapsed": false
   },
   "outputs": [
    {
     "data": {
      "text/plain": [
       "{1: 'area',\n",
       " 2: 'occ_dd_12',\n",
       " 3: 'area_dd_8',\n",
       " 4: 'dd_3',\n",
       " 5: 'dd_5',\n",
       " 6: 'occ',\n",
       " 7: 'area_dd_8',\n",
       " 8: 'dd_2'}"
      ]
     },
     "execution_count": 69,
     "metadata": {},
     "output_type": "execute_result"
    }
   ],
   "source": [
    "best_f"
   ]
  },
  {
   "cell_type": "code",
   "execution_count": 38,
   "metadata": {
    "collapsed": false
   },
   "outputs": [
    {
     "data": {
      "text/plain": [
       "32"
      ]
     },
     "execution_count": 38,
     "metadata": {},
     "output_type": "execute_result"
    }
   ],
   "source": [
    "len(out[appliance][feature][austin_frac][0.0][1.0][8][best_f[8]])"
   ]
  },
  {
   "cell_type": "code",
   "execution_count": 57,
   "metadata": {
    "collapsed": false
   },
   "outputs": [
    {
     "data": {
      "text/plain": [
       "36"
      ]
     },
     "execution_count": 57,
     "metadata": {},
     "output_type": "execute_result"
    }
   ],
   "source": [
    "len(out[appliance][feature][austin_frac][0.0][1.0][8]['area'])"
   ]
  },
  {
   "cell_type": "code",
   "execution_count": null,
   "metadata": {
    "collapsed": true
   },
   "outputs": [],
   "source": []
  }
 ],
 "metadata": {
  "kernelspec": {
   "display_name": "Python 2",
   "language": "python",
   "name": "python2"
  },
  "language_info": {
   "codemirror_mode": {
    "name": "ipython",
    "version": 2
   },
   "file_extension": ".py",
   "mimetype": "text/x-python",
   "name": "python",
   "nbconvert_exporter": "python",
   "pygments_lexer": "ipython2",
   "version": "2.7.11"
  }
 },
 "nbformat": 4,
 "nbformat_minor": 0
}
