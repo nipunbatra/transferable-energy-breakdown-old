{
 "cells": [
  {
   "cell_type": "code",
   "execution_count": 1,
   "metadata": {
    "collapsed": true
   },
   "outputs": [],
   "source": [
    "import pickle\n",
    "import pandas as pd\n",
    "import sys\n",
    "import numpy as np\n",
    "from sklearn.metrics import mean_squared_error"
   ]
  },
  {
   "cell_type": "code",
   "execution_count": 2,
   "metadata": {
    "collapsed": true
   },
   "outputs": [],
   "source": [
    "sys.path.append(\"../code/\")"
   ]
  },
  {
   "cell_type": "code",
   "execution_count": 4,
   "metadata": {
    "collapsed": true
   },
   "outputs": [],
   "source": [
    "from test_homes import valid_homes_data\n",
    "from common_functions import out_overall"
   ]
  },
  {
   "cell_type": "code",
   "execution_count": 13,
   "metadata": {
    "collapsed": false
   },
   "outputs": [
    {
     "data": {
      "text/plain": [
       "{'fridge': array([1450, 1731, 3687, 3938, 4495, 5938, 6377, 7062, 7114, 8342, 8574,\n",
       "        9213, 9775]),\n",
       " 'hvac': array([ 203, 1450, 1731, 2354, 2606, 3687, 3864, 3938, 4095, 4495, 4934,\n",
       "        5938, 6377, 6429, 6547, 7062, 7114, 7409, 8342, 8574, 8733, 9213,\n",
       "        9370, 9585, 9612, 9775])}"
      ]
     },
     "execution_count": 13,
     "metadata": {},
     "output_type": "execute_result"
    }
   ],
   "source": [
    "valid_homes_data['SanDiego']"
   ]
  },
  {
   "cell_type": "code",
   "execution_count": 5,
   "metadata": {
    "collapsed": true
   },
   "outputs": [],
   "source": [
    "# Case 1- Train and Test SD homes\n"
   ]
  },
  {
   "cell_type": "code",
   "execution_count": 76,
   "metadata": {
    "collapsed": true
   },
   "outputs": [],
   "source": [
    "out_1_100 = pickle.load(open('../data/out_1_100.pkl','r'))\n",
    "out_3_100 = pickle.load(open('../data/out_3_100.pkl','r'))"
   ]
  },
  {
   "cell_type": "code",
   "execution_count": 83,
   "metadata": {
    "collapsed": true
   },
   "outputs": [],
   "source": [
    "mf_results = out_1_100"
   ]
  },
  {
   "cell_type": "code",
   "execution_count": 225,
   "metadata": {
    "collapsed": true
   },
   "outputs": [],
   "source": [
    "def compute_fraction(appliance, pred_df):\n",
    "    region = \"SanDiego\"\n",
    "    df = out_overall[2014][region]\n",
    "    #print df.head()\n",
    "    #pred_df = mf_pred[appliance][appliance_feature][latent_factors]\n",
    "    pred_df = pred_df.ix[valid_homes_data[region][appliance]]\n",
    "    gt_df = df[pred_df.columns].ix[pred_df.index]\n",
    "    #print gt_df\n",
    "    if appliance==\"hvac\":\n",
    "        start, stop=5,11\n",
    "    else:\n",
    "        start, stop=1,13\n",
    "    aggregate_df = df.ix[pred_df.index][['aggregate_%d' %month for month in range(start, stop)]]\n",
    "    \n",
    "    aggregate_df.columns = gt_df.columns\n",
    "    gt_fraction = gt_df.div(aggregate_df)*100\n",
    "    pred_fraction = pred_df.div(aggregate_df)*100\n",
    "    \n",
    "    pred_fraction = pred_fraction.dropna()\n",
    "    gt_fraction = gt_fraction.dropna()\n",
    "    return gt_fraction, pred_fraction"
   ]
  },
  {
   "cell_type": "code",
   "execution_count": 226,
   "metadata": {
    "collapsed": true
   },
   "outputs": [],
   "source": [
    "def compute_rmse_fraction(appliance, pred_df):\n",
    "    pred_fraction, gt_fraction = compute_fraction(appliance, pred_df)\n",
    "    rms = np.sqrt(mean_squared_error(pred_fraction,gt_fraction))\n",
    "    return rms"
   ]
  },
  {
   "cell_type": "code",
   "execution_count": 87,
   "metadata": {
    "collapsed": false
   },
   "outputs": [],
   "source": [
    "out = {}\n",
    "for train, mf_results in {'SD':out_1_100,'SD+Aus':out_3_100}.iteritems():\n",
    "    out[train] = {}\n",
    "    for appliance in ['fridge','hvac']:\n",
    "        out[train][appliance]={}\n",
    "        for homes in range(4, len(valid_homes_data['SanDiego'][appliance]), 4):\n",
    "            out[train][appliance][homes] = {}\n",
    "            best_error = 10000\n",
    "            for feature_name in mf_results[homes][appliance].keys():\n",
    "                feature_dict = mf_results[homes][appliance][feature_name]\n",
    "                for num_factors, pred_df in feature_dict.iteritems():\n",
    "                    try:\n",
    "                        a = pred_df\n",
    "                        rmse_fraction = compute_rmse_fraction(appliance, pred_df)\n",
    "                        if rmse_fraction<best_error:\n",
    "                            best_error = rmse_fraction\n",
    "                            out[train][appliance][homes]['error'] = rmse_fraction\n",
    "                            out[train][appliance][homes]['feature'] = (feature_name, num_factors)\n",
    "                    except:\n",
    "                        pass\n",
    "\n",
    "            "
   ]
  },
  {
   "cell_type": "code",
   "execution_count": 111,
   "metadata": {
    "collapsed": true
   },
   "outputs": [],
   "source": [
    "%matplotlib inline\n",
    "import matplotlib.pyplot as plt"
   ]
  },
  {
   "cell_type": "code",
   "execution_count": 145,
   "metadata": {
    "collapsed": false
   },
   "outputs": [
    {
     "data": {
      "text/html": [
       "<div>\n",
       "<table border=\"1\" class=\"dataframe\">\n",
       "  <thead>\n",
       "    <tr style=\"text-align: right;\">\n",
       "      <th></th>\n",
       "      <th>feature</th>\n",
       "    </tr>\n",
       "  </thead>\n",
       "  <tbody>\n",
       "    <tr>\n",
       "      <th>4</th>\n",
       "      <td>(None, 1)</td>\n",
       "    </tr>\n",
       "    <tr>\n",
       "      <th>8</th>\n",
       "      <td>(None, 1)</td>\n",
       "    </tr>\n",
       "    <tr>\n",
       "      <th>12</th>\n",
       "      <td>(area, 4)</td>\n",
       "    </tr>\n",
       "    <tr>\n",
       "      <th>16</th>\n",
       "      <td>(area, 7)</td>\n",
       "    </tr>\n",
       "    <tr>\n",
       "      <th>20</th>\n",
       "      <td>(None, 5)</td>\n",
       "    </tr>\n",
       "    <tr>\n",
       "      <th>24</th>\n",
       "      <td>(None, 2)</td>\n",
       "    </tr>\n",
       "  </tbody>\n",
       "</table>\n",
       "</div>"
      ],
      "text/plain": [
       "      feature\n",
       "4   (None, 1)\n",
       "8   (None, 1)\n",
       "12  (area, 4)\n",
       "16  (area, 7)\n",
       "20  (None, 5)\n",
       "24  (None, 2)"
      ]
     },
     "execution_count": 145,
     "metadata": {},
     "output_type": "execute_result"
    }
   ],
   "source": [
    "def \n",
    "pd.DataFrame(out['SD'][appliance]).T[['feature']]\n"
   ]
  },
  {
   "cell_type": "code",
   "execution_count": 136,
   "metadata": {
    "collapsed": true
   },
   "outputs": [],
   "source": [
    "def make_line_plot(out, appliance):\n",
    "    pd.DataFrame(out['SD+Aus'][appliance]).T['error'].plot(style='ko-',label='SD+Aus')\n",
    "    pd.DataFrame(out['SD'][appliance]).T['error'].plot(style='b^--',label='SD')\n",
    "    plt.legend()\n",
    "    xmin, xmax = plt.xlim()\n",
    "    plt.xlim((xmin-1, xmax+1))\n",
    "    plt.ylabel(\"% error\")\n",
    "    plt.xlabel(\"# Homes from test SD region\")\n",
    "    plt.title(appliance)\n",
    "    plt.savefig('../results/line_plot_'+appliance+\".png\")\n",
    "    "
   ]
  },
  {
   "cell_type": "code",
   "execution_count": 137,
   "metadata": {
    "collapsed": false
   },
   "outputs": [
    {
     "data": {
      "image/png": "[encoded data removed]",
      "text/plain": [
       "<matplotlib.figure.Figure at 0x117810610>"
      ]
     },
     "metadata": {},
     "output_type": "display_data"
    }
   ],
   "source": [
    "make_line_plot(out, 'hvac')"
   ]
  },
  {
   "cell_type": "code",
   "execution_count": 138,
   "metadata": {
    "collapsed": false
   },
   "outputs": [
    {
     "data": {
      "image/png": "[encoded data removed]",
      "text/plain": [
       "<matplotlib.figure.Figure at 0x11750a550>"
      ]
     },
     "metadata": {},
     "output_type": "display_data"
    }
   ],
   "source": [
    "make_line_plot(out, 'fridge')"
   ]
  },
  {
   "cell_type": "code",
   "execution_count": 162,
   "metadata": {
    "collapsed": false
   },
   "outputs": [
    {
     "data": {
      "text/plain": [
       "{'SD':       feature\n",
       " 4   (None, 1)\n",
       " 8   (None, 1)\n",
       " 12  (area, 2), 'SD+Aus':       feature\n",
       " 4   (None, 1)\n",
       " 8   (None, 1)\n",
       " 12  (area, 2)}"
      ]
     },
     "execution_count": 162,
     "metadata": {},
     "output_type": "execute_result"
    }
   ],
   "source": [
    "{\n",
    "        'SD':pd.DataFrame(out['SD'][appliance]).T[['feature']],\n",
    "            'SD+Aus':pd.DataFrame(out['SD'][appliance]).T[['feature']]}"
   ]
  },
  {
   "cell_type": "code",
   "execution_count": 166,
   "metadata": {
    "collapsed": false
   },
   "outputs": [
    {
     "data": {
      "image/png": "[encoded data removed]",
      "text/plain": [
       "<matplotlib.figure.Figure at 0x10e414450>"
      ]
     },
     "metadata": {},
     "output_type": "display_data"
    },
    {
     "data": {
      "image/png": "[encoded data removed]",
      "text/plain": [
       "<matplotlib.figure.Figure at 0x1181677d0>"
      ]
     },
     "metadata": {},
     "output_type": "display_data"
    }
   ],
   "source": [
    "for appliance in ['fridge','hvac']:\n",
    "    df = pd.DataFrame({\n",
    "        'SD':pd.DataFrame(out['SD'][appliance]).T['feature'],\n",
    "            'SD+Aus':pd.DataFrame(out['SD+Aus'][appliance]).T['feature']})\n",
    "\n",
    "    nrows, ncols = len(df)+1, len(df.columns)\n",
    "    hcell, wcell = 0.3, 1.\n",
    "    hpad, wpad = 0, 0   \n",
    "\n",
    "    #put the table on a correctly sized figure    \n",
    "    fig=plt.figure(figsize=(ncols*wcell+wpad, nrows*hcell+hpad))\n",
    "    plt.gca().axis('off')\n",
    "    matplotlib_tab = pd.tools.plotting.table(plt.gca(),df, loc='center')    \n",
    "    #pp.savefig()\n",
    "    plt.tight_layout()\n",
    "    plt.title(appliance)\n",
    "    plt.savefig(\"../results/features_\"+appliance+\".png\",bbox_inches=\"tight\", dpi=800)\n"
   ]
  },
  {
   "cell_type": "markdown",
   "metadata": {},
   "source": [
    "### Error analysis"
   ]
  },
  {
   "cell_type": "markdown",
   "metadata": {},
   "source": [
    "SD + Aus training set"
   ]
  },
  {
   "cell_type": "code",
   "execution_count": 267,
   "metadata": {
    "collapsed": true
   },
   "outputs": [],
   "source": [
    "n_homes = 4 # Almost all homes from Austin\n",
    "appliance='fridge'\n",
    "feature, lat = out['SD+Aus'][appliance][n_homes]['feature']\n",
    "pred_df = out_3_100[n_homes][appliance][feature][lat]\n",
    "gt_fraction, pred_fraction = compute_fraction(appliance, pred_df)"
   ]
  },
  {
   "cell_type": "code",
   "execution_count": 304,
   "metadata": {
    "collapsed": false
   },
   "outputs": [
    {
     "data": {
      "text/plain": [
       "5"
      ]
     },
     "execution_count": 304,
     "metadata": {},
     "output_type": "execute_result"
    }
   ],
   "source": [
    "lat"
   ]
  },
  {
   "cell_type": "code",
   "execution_count": 268,
   "metadata": {
    "collapsed": false
   },
   "outputs": [],
   "source": [
    "pred_df = pred_df.ix[valid_homes_data['SanDiego'][appliance]]"
   ]
  },
  {
   "cell_type": "code",
   "execution_count": 269,
   "metadata": {
    "collapsed": false
   },
   "outputs": [],
   "source": [
    "gt_df = out_overall[2014]['SanDiego'][pred_df.columns].ix[pred_df.index]"
   ]
  },
  {
   "cell_type": "code",
   "execution_count": 270,
   "metadata": {
    "collapsed": false
   },
   "outputs": [
    {
     "data": {
      "text/plain": [
       "0.84615384615384615"
      ]
     },
     "execution_count": 270,
     "metadata": {},
     "output_type": "execute_result"
    }
   ],
   "source": [
    "((pred_fraction-gt_fraction).mean(axis=1)<0).sum()*1./len(pred_fraction)"
   ]
  },
  {
   "cell_type": "code",
   "execution_count": 292,
   "metadata": {
    "collapsed": true
   },
   "outputs": [],
   "source": [
    "from utility import plot_df_table"
   ]
  },
  {
   "cell_type": "code",
   "execution_count": 302,
   "metadata": {
    "collapsed": false
   },
   "outputs": [],
   "source": [
    "df = pd.DataFrame((pred_fraction-gt_fraction).mean(axis=1).describe()).astype('int')\n",
    "df.index.name=appliance\n"
   ]
  },
  {
   "cell_type": "code",
   "execution_count": 303,
   "metadata": {
    "collapsed": false
   },
   "outputs": [
    {
     "data": {
      "image/png": "[encoded data removed]",
      "text/plain": [
       "<matplotlib.figure.Figure at 0x10f3ada10>"
      ]
     },
     "metadata": {},
     "output_type": "display_data"
    }
   ],
   "source": [
    "plot_df_table(df, 'Fridge_error_homes', '../results/fridge_error_homes.png')"
   ]
  },
  {
   "cell_type": "code",
   "execution_count": 297,
   "metadata": {
    "collapsed": false
   },
   "outputs": [
    {
     "data": {
      "text/html": [
       "<div>\n",
       "<table border=\"1\" class=\"dataframe\">\n",
       "  <thead>\n",
       "    <tr style=\"text-align: right;\">\n",
       "      <th></th>\n",
       "      <th>0</th>\n",
       "    </tr>\n",
       "  </thead>\n",
       "  <tbody>\n",
       "    <tr>\n",
       "      <th>count</th>\n",
       "      <td>13.000000</td>\n",
       "    </tr>\n",
       "    <tr>\n",
       "      <th>mean</th>\n",
       "      <td>-3.070551</td>\n",
       "    </tr>\n",
       "    <tr>\n",
       "      <th>std</th>\n",
       "      <td>4.796855</td>\n",
       "    </tr>\n",
       "    <tr>\n",
       "      <th>min</th>\n",
       "      <td>-14.524015</td>\n",
       "    </tr>\n",
       "    <tr>\n",
       "      <th>25%</th>\n",
       "      <td>-4.081711</td>\n",
       "    </tr>\n",
       "    <tr>\n",
       "      <th>50%</th>\n",
       "      <td>-3.181704</td>\n",
       "    </tr>\n",
       "    <tr>\n",
       "      <th>75%</th>\n",
       "      <td>-0.177225</td>\n",
       "    </tr>\n",
       "    <tr>\n",
       "      <th>max</th>\n",
       "      <td>3.233659</td>\n",
       "    </tr>\n",
       "  </tbody>\n",
       "</table>\n",
       "</div>"
      ],
      "text/plain": [
       "               0\n",
       "count  13.000000\n",
       "mean   -3.070551\n",
       "std     4.796855\n",
       "min   -14.524015\n",
       "25%    -4.081711\n",
       "50%    -3.181704\n",
       "75%    -0.177225\n",
       "max     3.233659"
      ]
     },
     "execution_count": 297,
     "metadata": {},
     "output_type": "execute_result"
    }
   ],
   "source": []
  },
  {
   "cell_type": "code",
   "execution_count": 274,
   "metadata": {
    "collapsed": false
   },
   "outputs": [
    {
     "data": {
      "text/html": [
       "<div>\n",
       "<table border=\"1\" class=\"dataframe\">\n",
       "  <thead>\n",
       "    <tr style=\"text-align: right;\">\n",
       "      <th></th>\n",
       "      <th>fridge_1</th>\n",
       "      <th>fridge_2</th>\n",
       "      <th>fridge_3</th>\n",
       "      <th>fridge_4</th>\n",
       "      <th>fridge_5</th>\n",
       "      <th>fridge_6</th>\n",
       "      <th>fridge_7</th>\n",
       "      <th>fridge_8</th>\n",
       "      <th>fridge_9</th>\n",
       "      <th>fridge_10</th>\n",
       "      <th>fridge_11</th>\n",
       "      <th>fridge_12</th>\n",
       "    </tr>\n",
       "  </thead>\n",
       "  <tbody>\n",
       "    <tr>\n",
       "      <th>1450</th>\n",
       "      <td>7.570670</td>\n",
       "      <td>7.447383</td>\n",
       "      <td>9.325318</td>\n",
       "      <td>8.638054</td>\n",
       "      <td>5.045308</td>\n",
       "      <td>4.328411</td>\n",
       "      <td>4.816415</td>\n",
       "      <td>3.815813</td>\n",
       "      <td>3.856977</td>\n",
       "      <td>4.782417</td>\n",
       "      <td>6.163975</td>\n",
       "      <td>4.668073</td>\n",
       "    </tr>\n",
       "    <tr>\n",
       "      <th>1731</th>\n",
       "      <td>6.856690</td>\n",
       "      <td>10.973240</td>\n",
       "      <td>12.910294</td>\n",
       "      <td>8.762024</td>\n",
       "      <td>6.233998</td>\n",
       "      <td>10.773087</td>\n",
       "      <td>4.998122</td>\n",
       "      <td>5.099330</td>\n",
       "      <td>3.983052</td>\n",
       "      <td>7.315033</td>\n",
       "      <td>7.212339</td>\n",
       "      <td>9.540031</td>\n",
       "    </tr>\n",
       "    <tr>\n",
       "      <th>3687</th>\n",
       "      <td>8.114790</td>\n",
       "      <td>8.814169</td>\n",
       "      <td>9.102565</td>\n",
       "      <td>9.266506</td>\n",
       "      <td>7.998907</td>\n",
       "      <td>7.814411</td>\n",
       "      <td>5.422265</td>\n",
       "      <td>5.508150</td>\n",
       "      <td>6.225870</td>\n",
       "      <td>8.367889</td>\n",
       "      <td>10.731158</td>\n",
       "      <td>7.623967</td>\n",
       "    </tr>\n",
       "    <tr>\n",
       "      <th>3938</th>\n",
       "      <td>12.560057</td>\n",
       "      <td>13.413458</td>\n",
       "      <td>14.950003</td>\n",
       "      <td>15.911687</td>\n",
       "      <td>16.531179</td>\n",
       "      <td>19.813305</td>\n",
       "      <td>9.918985</td>\n",
       "      <td>11.088794</td>\n",
       "      <td>16.382119</td>\n",
       "      <td>16.997952</td>\n",
       "      <td>14.367285</td>\n",
       "      <td>17.244123</td>\n",
       "    </tr>\n",
       "    <tr>\n",
       "      <th>4495</th>\n",
       "      <td>11.232907</td>\n",
       "      <td>14.112599</td>\n",
       "      <td>15.256328</td>\n",
       "      <td>16.811928</td>\n",
       "      <td>17.771870</td>\n",
       "      <td>16.427914</td>\n",
       "      <td>13.300629</td>\n",
       "      <td>14.509934</td>\n",
       "      <td>12.240132</td>\n",
       "      <td>13.289124</td>\n",
       "      <td>13.192593</td>\n",
       "      <td>16.753276</td>\n",
       "    </tr>\n",
       "  </tbody>\n",
       "</table>\n",
       "</div>"
      ],
      "text/plain": [
       "0      fridge_1   fridge_2   fridge_3   fridge_4   fridge_5   fridge_6  \\\n",
       "1450   7.570670   7.447383   9.325318   8.638054   5.045308   4.328411   \n",
       "1731   6.856690  10.973240  12.910294   8.762024   6.233998  10.773087   \n",
       "3687   8.114790   8.814169   9.102565   9.266506   7.998907   7.814411   \n",
       "3938  12.560057  13.413458  14.950003  15.911687  16.531179  19.813305   \n",
       "4495  11.232907  14.112599  15.256328  16.811928  17.771870  16.427914   \n",
       "\n",
       "0      fridge_7   fridge_8   fridge_9  fridge_10  fridge_11  fridge_12  \n",
       "1450   4.816415   3.815813   3.856977   4.782417   6.163975   4.668073  \n",
       "1731   4.998122   5.099330   3.983052   7.315033   7.212339   9.540031  \n",
       "3687   5.422265   5.508150   6.225870   8.367889  10.731158   7.623967  \n",
       "3938   9.918985  11.088794  16.382119  16.997952  14.367285  17.244123  \n",
       "4495  13.300629  14.509934  12.240132  13.289124  13.192593  16.753276  "
      ]
     },
     "execution_count": 274,
     "metadata": {},
     "output_type": "execute_result"
    }
   ],
   "source": [
    "pred_fraction.head()"
   ]
  },
  {
   "cell_type": "code",
   "execution_count": 275,
   "metadata": {
    "collapsed": false
   },
   "outputs": [
    {
     "data": {
      "text/html": [
       "<div>\n",
       "<table border=\"1\" class=\"dataframe\">\n",
       "  <thead>\n",
       "    <tr style=\"text-align: right;\">\n",
       "      <th></th>\n",
       "      <th>fridge_1</th>\n",
       "      <th>fridge_2</th>\n",
       "      <th>fridge_3</th>\n",
       "      <th>fridge_4</th>\n",
       "      <th>fridge_5</th>\n",
       "      <th>fridge_6</th>\n",
       "      <th>fridge_7</th>\n",
       "      <th>fridge_8</th>\n",
       "      <th>fridge_9</th>\n",
       "      <th>fridge_10</th>\n",
       "      <th>fridge_11</th>\n",
       "      <th>fridge_12</th>\n",
       "    </tr>\n",
       "  </thead>\n",
       "  <tbody>\n",
       "    <tr>\n",
       "      <th>1450</th>\n",
       "      <td>6.816651</td>\n",
       "      <td>15.703506</td>\n",
       "      <td>17.537996</td>\n",
       "      <td>13.913089</td>\n",
       "      <td>7.989038</td>\n",
       "      <td>6.529579</td>\n",
       "      <td>7.912087</td>\n",
       "      <td>4.590261</td>\n",
       "      <td>4.755630</td>\n",
       "      <td>6.045774</td>\n",
       "      <td>8.078965</td>\n",
       "      <td>19.566765</td>\n",
       "    </tr>\n",
       "    <tr>\n",
       "      <th>1731</th>\n",
       "      <td>7.963714</td>\n",
       "      <td>10.574006</td>\n",
       "      <td>12.254955</td>\n",
       "      <td>8.158173</td>\n",
       "      <td>6.088804</td>\n",
       "      <td>10.521349</td>\n",
       "      <td>5.378233</td>\n",
       "      <td>5.491804</td>\n",
       "      <td>4.203771</td>\n",
       "      <td>7.241029</td>\n",
       "      <td>8.599692</td>\n",
       "      <td>10.308415</td>\n",
       "    </tr>\n",
       "    <tr>\n",
       "      <th>3687</th>\n",
       "      <td>15.251802</td>\n",
       "      <td>29.551287</td>\n",
       "      <td>28.704236</td>\n",
       "      <td>27.140217</td>\n",
       "      <td>23.260754</td>\n",
       "      <td>22.491938</td>\n",
       "      <td>16.315263</td>\n",
       "      <td>16.036351</td>\n",
       "      <td>17.964889</td>\n",
       "      <td>24.041460</td>\n",
       "      <td>26.245147</td>\n",
       "      <td>22.275480</td>\n",
       "    </tr>\n",
       "    <tr>\n",
       "      <th>3938</th>\n",
       "      <td>18.424256</td>\n",
       "      <td>18.309656</td>\n",
       "      <td>19.609474</td>\n",
       "      <td>21.068681</td>\n",
       "      <td>20.958290</td>\n",
       "      <td>25.494036</td>\n",
       "      <td>16.673551</td>\n",
       "      <td>16.149398</td>\n",
       "      <td>24.594063</td>\n",
       "      <td>22.645489</td>\n",
       "      <td>19.923253</td>\n",
       "      <td>19.951650</td>\n",
       "    </tr>\n",
       "    <tr>\n",
       "      <th>4495</th>\n",
       "      <td>16.198194</td>\n",
       "      <td>16.965554</td>\n",
       "      <td>17.947061</td>\n",
       "      <td>18.907195</td>\n",
       "      <td>21.839943</td>\n",
       "      <td>20.048573</td>\n",
       "      <td>19.208361</td>\n",
       "      <td>19.594707</td>\n",
       "      <td>14.737951</td>\n",
       "      <td>19.859558</td>\n",
       "      <td>18.202658</td>\n",
       "      <td>14.402738</td>\n",
       "    </tr>\n",
       "  </tbody>\n",
       "</table>\n",
       "</div>"
      ],
      "text/plain": [
       "       fridge_1   fridge_2   fridge_3   fridge_4   fridge_5   fridge_6  \\\n",
       "1450   6.816651  15.703506  17.537996  13.913089   7.989038   6.529579   \n",
       "1731   7.963714  10.574006  12.254955   8.158173   6.088804  10.521349   \n",
       "3687  15.251802  29.551287  28.704236  27.140217  23.260754  22.491938   \n",
       "3938  18.424256  18.309656  19.609474  21.068681  20.958290  25.494036   \n",
       "4495  16.198194  16.965554  17.947061  18.907195  21.839943  20.048573   \n",
       "\n",
       "       fridge_7   fridge_8   fridge_9  fridge_10  fridge_11  fridge_12  \n",
       "1450   7.912087   4.590261   4.755630   6.045774   8.078965  19.566765  \n",
       "1731   5.378233   5.491804   4.203771   7.241029   8.599692  10.308415  \n",
       "3687  16.315263  16.036351  17.964889  24.041460  26.245147  22.275480  \n",
       "3938  16.673551  16.149398  24.594063  22.645489  19.923253  19.951650  \n",
       "4495  19.208361  19.594707  14.737951  19.859558  18.202658  14.402738  "
      ]
     },
     "execution_count": 275,
     "metadata": {},
     "output_type": "execute_result"
    }
   ],
   "source": [
    "gt_fraction.head()"
   ]
  },
  {
   "cell_type": "code",
   "execution_count": 282,
   "metadata": {
    "collapsed": false
   },
   "outputs": [
    {
     "data": {
      "text/plain": [
       "1450     1\n",
       "1731     6\n",
       "3687     0\n",
       "3938     0\n",
       "4495     1\n",
       "5938     8\n",
       "6377    10\n",
       "7062     0\n",
       "7114     1\n",
       "8342     0\n",
       "8574     2\n",
       "9213     5\n",
       "9775    11\n",
       "dtype: int64"
      ]
     },
     "execution_count": 282,
     "metadata": {},
     "output_type": "execute_result"
    }
   ],
   "source": [
    "((pred_df-gt_df)>0).sum(axis=1)"
   ]
  },
  {
   "cell_type": "code",
   "execution_count": 306,
   "metadata": {
    "collapsed": false
   },
   "outputs": [
    {
     "data": {
      "text/plain": [
       "1450    -4.081711\n",
       "1731    -0.177225\n",
       "3687   -14.524015\n",
       "3938    -5.385238\n",
       "4495    -3.584438\n",
       "5938    -0.110217\n",
       "6377     3.233659\n",
       "7062    -3.868756\n",
       "7114    -3.181704\n",
       "8342    -9.260821\n",
       "8574    -0.842559\n",
       "9213    -0.714048\n",
       "9775     2.579911\n",
       "dtype: float64"
      ]
     },
     "execution_count": 306,
     "metadata": {},
     "output_type": "execute_result"
    }
   ],
   "source": [
    "(pred_fraction-gt_fraction).mean(axis=1)"
   ]
  },
  {
   "cell_type": "code",
   "execution_count": 309,
   "metadata": {
    "collapsed": false
   },
   "outputs": [
    {
     "data": {
      "text/plain": [
       "42.73236474203333"
      ]
     },
     "execution_count": 309,
     "metadata": {},
     "output_type": "execute_result"
    }
   ],
   "source": [
    "print pred_df.ix[3687].mean()\n",
    "print gt_df.ix[3687].mean()\n",
    "print gt_df.mean().mean()"
   ]
  },
  {
   "cell_type": "code",
   "execution_count": 314,
   "metadata": {
    "collapsed": false
   },
   "outputs": [
    {
     "name": "stdout",
     "output_type": "stream",
     "text": [
      "31.8262404334\n",
      "48.2929697037\n",
      "48.526385185\n"
     ]
    }
   ],
   "source": [
    "print pred_df.ix[8342].mean()\n",
    "print gt_df.ix[8342].mean()\n",
    "print gt_df.mean().mean()"
   ]
  },
  {
   "cell_type": "code",
   "execution_count": 315,
   "metadata": {
    "collapsed": false
   },
   "outputs": [
    {
     "name": "stdout",
     "output_type": "stream",
     "text": [
      "53.0241180004\n",
      "42.1533503532\n",
      "48.526385185\n"
     ]
    }
   ],
   "source": [
    "print pred_df.ix[9775].mean()\n",
    "print gt_df.ix[9775].mean()\n",
    "print gt_df.mean().mean()"
   ]
  },
  {
   "cell_type": "code",
   "execution_count": 285,
   "metadata": {
    "collapsed": false
   },
   "outputs": [
    {
     "data": {
      "text/plain": [
       "0\n",
       "fridge_1     41.119725\n",
       "fridge_2     46.642916\n",
       "fridge_3     53.695265\n",
       "fridge_4     53.749725\n",
       "fridge_5     57.977116\n",
       "fridge_6     55.907570\n",
       "fridge_7     55.081468\n",
       "fridge_8     58.109928\n",
       "fridge_9     55.577977\n",
       "fridge_10    56.513143\n",
       "fridge_11    49.349096\n",
       "fridge_12    52.565487\n",
       "Name: 9775, dtype: float64"
      ]
     },
     "execution_count": 285,
     "metadata": {},
     "output_type": "execute_result"
    }
   ],
   "source": [
    "pred_df.ix[9775]"
   ]
  },
  {
   "cell_type": "code",
   "execution_count": 286,
   "metadata": {
    "collapsed": false
   },
   "outputs": [
    {
     "data": {
      "text/plain": [
       "fridge_1     30.502768\n",
       "fridge_2     30.643467\n",
       "fridge_3     35.652634\n",
       "fridge_4     34.150833\n",
       "fridge_5     36.914169\n",
       "fridge_6     32.729198\n",
       "fridge_7     45.165234\n",
       "fridge_8     49.203285\n",
       "fridge_9     52.186234\n",
       "fridge_10    49.099617\n",
       "fridge_11    58.499451\n",
       "fridge_12    51.093315\n",
       "Name: 9775, dtype: float64"
      ]
     },
     "execution_count": 286,
     "metadata": {},
     "output_type": "execute_result"
    }
   ],
   "source": [
    "gt_df.ix[9775]"
   ]
  },
  {
   "cell_type": "code",
   "execution_count": 289,
   "metadata": {
    "collapsed": false
   },
   "outputs": [
    {
     "data": {
      "text/plain": [
       "203     1555.0\n",
       "1450    1575.0\n",
       "1524    2050.0\n",
       "1731    1555.0\n",
       "2354    2180.0\n",
       "2606    1390.0\n",
       "3864    1464.0\n",
       "3938    1120.0\n",
       "4495    1087.0\n",
       "4761    1580.0\n",
       "4934    1547.0\n",
       "5009    1088.0\n",
       "5909     670.0\n",
       "5938    1476.0\n",
       "6497    2050.0\n",
       "6547    1547.0\n",
       "7062    1400.0\n",
       "7114    1401.0\n",
       "8061    1600.0\n",
       "8342    1401.0\n",
       "8574    1400.0\n",
       "9370    2050.0\n",
       "9612    1555.0\n",
       "9775    2300.0\n",
       "Name: area, dtype: float64"
      ]
     },
     "execution_count": 289,
     "metadata": {},
     "output_type": "execute_result"
    }
   ],
   "source": [
    "out_overall[2014]['SanDiego']['area'].dropna()"
   ]
  },
  {
   "cell_type": "code",
   "execution_count": 15,
   "metadata": {
    "collapsed": true
   },
   "outputs": [],
   "source": [
    "def compute_rmse_fraction(appliance, pred_df):\n",
    "    region = \"Austin\"\n",
    "    df = out_overall[region]\n",
    "    #pred_df = mf_pred[appliance][appliance_feature][latent_factors]\n",
    "    gt_df = df[pred_df.columns].ix[pred_df.index]\n",
    "    if appliance==\"hvac\":\n",
    "        start, stop=5,11\n",
    "    else:\n",
    "        start, stop=1,13\n",
    "    aggregate_df = df.ix[pred_df.index][['aggregate_%d' %month for month in range(start, stop)]]\n",
    "\n",
    "    aggregate_df.columns = gt_df.columns\n",
    "    gt_fraction = gt_df.div(aggregate_df)*100\n",
    "    pred_fraction = pred_df.div(aggregate_df)*100\n",
    "    \n",
    "    pred_fraction = pred_fraction.dropna()\n",
    "    gt_fraction = gt_fraction.dropna()\n",
    "    print pred_fraction.describe()\n",
    "    print gt_fraction.describe()\n",
    "\n",
    "\n",
    "    rms = np.sqrt(mean_squared_error(pred_fraction,gt_fraction))\n",
    "    return rms"
   ]
  },
  {
   "cell_type": "code",
   "execution_count": 7,
   "metadata": {
    "collapsed": true
   },
   "outputs": [],
   "source": [
    "result = {'MF':{},'KNN':{},'FHMM':{}}"
   ]
  },
  {
   "cell_type": "markdown",
   "metadata": {},
   "source": [
    "## Computing for KNN"
   ]
  },
  {
   "cell_type": "code",
   "execution_count": 8,
   "metadata": {
    "collapsed": false
   },
   "outputs": [],
   "source": [
    "for appliance, appliance_df in knn_results.iteritems():\n",
    "    \n",
    "    pred_df = appliance_df\n",
    "    pred_df.columns = [appliance+\"_\"+str(x) for x in pred_df.columns]\n",
    "    rmse_fraction = compute_rmse_fraction(appliance, pred_df)\n",
    "    \n",
    "\n",
    "    #rms = np.sqrt(mean_squared_error(gt_df, pred_df))\n",
    "    result['KNN'][appliance]=rmse_fraction"
   ]
  },
  {
   "cell_type": "code",
   "execution_count": 9,
   "metadata": {
    "collapsed": false
   },
   "outputs": [
    {
     "name": "stdout",
     "output_type": "stream",
     "text": [
      "hvac\n",
      "wm\n",
      "fridge\n",
      "mw\n",
      "oven\n",
      "dw\n",
      "{'hvac': ('area', 9, 23.062443182449364), 'wm': ('occ', 3, 1.292907746177548), 'fridge': ('occ_area', 7, 56.419845955447094), 'mw': ('occ_area', 6, 0.9841175302519054), 'oven': ('occ', 8, 1.4241289192051436), 'dw': ('None', 5, 16.697917236289435)}\n"
     ]
    }
   ],
   "source": [
    "best_combination = {}\n",
    "for appliance, appliance_struct in mf_pred.iteritems():\n",
    "    print appliance\n",
    "    best_appliance=1000\n",
    "    for appliance_feature, appliance_feature_struct in appliance_struct.iteritems():\n",
    "        for latent_factors, appliance_df in appliance_struct[appliance_feature].iteritems():\n",
    "            try:\n",
    "                region = \"Austin\"\n",
    "                df = out_overall[region]\n",
    "                pred_df = mf_pred[appliance][appliance_feature][latent_factors]\n",
    "                \n",
    "                rms = compute_rmse_fraction(appliance, pred_df)\n",
    "\n",
    "                if rms<best_appliance:\n",
    "\n",
    "                    best_appliance=rms\n",
    "                    best_combination[appliance]=(appliance_feature, latent_factors, rms)\n",
    "            except:\n",
    "                pass\n",
    "    result['MF'][appliance]=best_appliance\n",
    "            \n",
    "print best_combination"
   ]
  },
  {
   "cell_type": "code",
   "execution_count": 10,
   "metadata": {
    "collapsed": true
   },
   "outputs": [],
   "source": [
    "def get_fhmm(appliance):\n",
    "    count = 0\n",
    "    for test_region in [\"Austin\"]:\n",
    "        out = {}\n",
    "        test_df = out_overall[test_region]\n",
    "        #test_df=test_df[(test_df.full_agg_available==1)&(test_df.md_available==1)]\n",
    "        \n",
    "        if appliance==\"hvac\":\n",
    "            start, stop=5, 11\n",
    "        else:\n",
    "            start, stop=1, 13\n",
    "        out[appliance] = {}\n",
    "        test_df_appliance=test_df.ix[test_df[['%s_%d' %(appliance,month) for month in range(start,stop)]].dropna().index]\n",
    "        for test_home in test_df_appliance.index:\n",
    "            try:\n",
    "                #print test_home\n",
    "                pred_df = pd.read_csv(\"/Users/nipunbatra/wiki-15min-fhmm-out/%s_%d.csv\" %(test_region, test_home),index_col=0)\n",
    "                pred_df_appliance = pred_df[appliance].ix[start:stop-1]\n",
    "                gt_df_appliance = test_df.ix[test_home][['%s_%d' %(appliance, month) for month in range(start, stop)]]\n",
    "                gt_df_appliance.index = pred_df_appliance.index\n",
    "                error = ((pred_df_appliance-gt_df_appliance).abs()*100/gt_df_appliance)\n",
    "                #error[error>100]=100\n",
    "                #acc = 100-error\n",
    "                out[appliance][test_home]=pred_df_appliance\n",
    "            except:\n",
    "                pass\n",
    "    return pd.DataFrame(out[appliance]).T"
   ]
  },
  {
   "cell_type": "code",
   "execution_count": 11,
   "metadata": {
    "collapsed": false
   },
   "outputs": [],
   "source": [
    "for appliance in knn_results.keys():\n",
    "    \n",
    "    pred_df = get_fhmm(appliance)\n",
    "    pred_df.columns = [appliance+\"_\"+str(x) for x in pred_df.columns]\n",
    "    rmse_fraction = compute_rmse_fraction(appliance, pred_df)\n",
    "    \n",
    "\n",
    "    #rms = np.sqrt(mean_squared_error(gt_df, pred_df))\n",
    "    result['FHMM'][appliance]=rmse_fraction"
   ]
  },
  {
   "cell_type": "code",
   "execution_count": 16,
   "metadata": {
    "collapsed": false
   },
   "outputs": [
    {
     "name": "stdout",
     "output_type": "stream",
     "text": [
      "             dw_1        dw_2        dw_3        dw_4        dw_5        dw_6  \\\n",
      "count  172.000000  172.000000  172.000000  172.000000  172.000000  172.000000   \n",
      "mean    15.966040   16.086284   15.580529   14.861408   14.777384   13.711349   \n",
      "std      3.978736    3.855541    3.258583    3.259070    3.168031    3.516272   \n",
      "min      7.958924    6.951908    7.837711    7.875402    8.262268    6.304880   \n",
      "25%     13.393285   13.836726   13.344178   12.922074   12.459659   11.247675   \n",
      "50%     15.678826   15.627400   15.380421   14.696483   14.459801   13.479161   \n",
      "75%     18.147080   18.396278   17.538216   16.318403   16.865908   15.771734   \n",
      "max     30.964608   30.054686   25.413095   26.992424   23.249597   25.493696   \n",
      "\n",
      "             dw_7        dw_8        dw_9       dw_10       dw_11       dw_12  \n",
      "count  172.000000  172.000000  172.000000  172.000000  172.000000  172.000000  \n",
      "mean    13.030885   12.790405   13.533130   14.708571   15.840556   16.166775  \n",
      "std      3.817893    3.800274    3.472060    3.013244    3.279691    4.073596  \n",
      "min      6.043591    5.793636    7.188428    8.588042    8.708292    0.699278  \n",
      "25%     10.296715   10.011987   11.166793   12.678793   13.802839   13.922190  \n",
      "50%     12.285463   12.008351   12.739539   14.569395   15.655644   16.057444  \n",
      "75%     15.112583   14.997688   15.350818   16.699428   18.001808   18.700888  \n",
      "max     26.821370   24.861219   23.718049   24.185959   26.900486   28.467650  \n",
      "             dw_1        dw_2        dw_3        dw_4        dw_5        dw_6  \\\n",
      "count  172.000000  172.000000  172.000000  172.000000  172.000000  172.000000   \n",
      "mean     1.760929    1.829810    1.766948    1.503635    1.211588    0.869326   \n",
      "std      1.447151    1.776075    1.523597    1.158458    0.886175    0.716686   \n",
      "min      0.000000    0.000000    0.000000    0.000000    0.000000    0.000000   \n",
      "25%      0.704320    0.820804    0.799898    0.674422    0.582955    0.344316   \n",
      "50%      1.518536    1.487434    1.490951    1.284271    1.068145    0.759396   \n",
      "75%      2.490106    2.579970    2.431867    2.039581    1.724295    1.223020   \n",
      "max      8.493114   17.639950   13.401597    6.007944    6.102179    5.707037   \n",
      "\n",
      "             dw_7        dw_8        dw_9       dw_10       dw_11       dw_12  \n",
      "count  172.000000  172.000000  172.000000  172.000000  172.000000  172.000000  \n",
      "mean     0.676558    0.631920    0.809527    1.128735    1.724539    1.737304  \n",
      "std      0.687958    0.634850    0.800810    0.870495    1.362199    1.466531  \n",
      "min      0.000000    0.000000    0.000000    0.000000    0.000000    0.000000  \n",
      "25%      0.299107    0.268490    0.348949    0.564234    0.701121    0.744570  \n",
      "50%      0.555226    0.473885    0.645112    0.967508    1.450133    1.410871  \n",
      "75%      0.884743    0.849060    1.065839    1.585629    2.408970    2.273523  \n",
      "max      6.800093    5.973466    7.783289    6.281043    7.461516   10.427555  \n"
     ]
    },
    {
     "data": {
      "text/plain": [
       "13.977017942863627"
      ]
     },
     "execution_count": 16,
     "metadata": {},
     "output_type": "execute_result"
    }
   ],
   "source": [
    "compute_rmse_fraction(appliance, pred_df)"
   ]
  },
  {
   "cell_type": "code",
   "execution_count": 88,
   "metadata": {
    "collapsed": true
   },
   "outputs": [],
   "source": [
    "map_appliance = {'fridge':'Fridge','dw':'Dish\\nwasher','mw':'Microwave','hvac':'HVAC','oven':'Oven','wm':'Washing\\nmachine'}"
   ]
  },
  {
   "cell_type": "code",
   "execution_count": 89,
   "metadata": {
    "collapsed": false
   },
   "outputs": [],
   "source": [
    "#results_df[results_df>100]=100\n",
    "#results_df=results_df.fillna(100)\n",
    "results_df.index = [map_appliance[appliance] for appliance in results_df.index]\n",
    "#results_df.plot(kind='bar', colors=tableau20blind[::2])"
   ]
  },
  {
   "cell_type": "code",
   "execution_count": 90,
   "metadata": {
    "collapsed": false
   },
   "outputs": [],
   "source": [
    "results_df = results_df.ix[['HVAC','Fridge','Oven','Dish\\nwasher','Washing\\nmachine','Microwave']]"
   ]
  },
  {
   "cell_type": "code",
   "execution_count": 20,
   "metadata": {
    "collapsed": false
   },
   "outputs": [],
   "source": [
    "results_df = results_df[['KNN','MF']]"
   ]
  },
  {
   "cell_type": "code",
   "execution_count": 93,
   "metadata": {
    "collapsed": false
   },
   "outputs": [
    {
     "data": {
      "image/png": "[encoded data removed]",
      "text/plain": [
       "<matplotlib.figure.Figure at 0x119915650>"
      ]
     },
     "metadata": {},
     "output_type": "display_data"
    }
   ],
   "source": [
    "import matplotlib.pyplot as plt\n",
    "results_df.plot(kind='bar',rot=0, colors=tableau20blind[::2])\n",
    "lgd = plt.legend(loc='right', bbox_to_anchor=(1.8, 0.5))\n",
    "plt.ylabel(\"Energy error\\n(Lower is better)\");\n",
    "plt.title(\"Results over 105 homes having all features\")\n",
    "plt.savefig(\"../results/subset.pdf\",bbox_extra_artists=(lgd,), bbox_inches='tight')\n",
    "plt.savefig(\"../results/subset.png\",bbox_extra_artists=(lgd,), bbox_inches='tight')"
   ]
  },
  {
   "cell_type": "markdown",
   "metadata": {},
   "source": [
    "Comparing MF with and without homes containing those features"
   ]
  },
  {
   "cell_type": "code",
   "execution_count": 23,
   "metadata": {
    "collapsed": false
   },
   "outputs": [
    {
     "data": {
      "text/plain": [
       "{'dw': ('occ', 1, 47.696584280069516),\n",
       " 'fridge': ('occ_area', 2, 24.91311995551921),\n",
       " 'hvac': ('rooms', 8, 21.29756141099046),\n",
       " 'mw': ('occ', 2, 41.60195238757644),\n",
       " 'oven': ('area_rooms', 8, 48.164684764512515),\n",
       " 'wm': ('occ_rooms', 3, 43.7072363087808)}"
      ]
     },
     "execution_count": 23,
     "metadata": {},
     "output_type": "execute_result"
    }
   ],
   "source": [
    "best_combination"
   ]
  },
  {
   "cell_type": "code",
   "execution_count": 31,
   "metadata": {
    "collapsed": false
   },
   "outputs": [
    {
     "data": {
      "text/html": [
       "<div>\n",
       "<table border=\"1\" class=\"dataframe\">\n",
       "  <thead>\n",
       "    <tr style=\"text-align: right;\">\n",
       "      <th></th>\n",
       "      <th>KNN</th>\n",
       "      <th>MF</th>\n",
       "    </tr>\n",
       "  </thead>\n",
       "  <tbody>\n",
       "    <tr>\n",
       "      <th>dw</th>\n",
       "      <td>55.305178</td>\n",
       "      <td>47.696584</td>\n",
       "    </tr>\n",
       "    <tr>\n",
       "      <th>fridge</th>\n",
       "      <td>30.453563</td>\n",
       "      <td>24.913120</td>\n",
       "    </tr>\n",
       "    <tr>\n",
       "      <th>hvac</th>\n",
       "      <td>27.268441</td>\n",
       "      <td>21.297561</td>\n",
       "    </tr>\n",
       "    <tr>\n",
       "      <th>mw</th>\n",
       "      <td>49.199756</td>\n",
       "      <td>41.601952</td>\n",
       "    </tr>\n",
       "    <tr>\n",
       "      <th>oven</th>\n",
       "      <td>51.708601</td>\n",
       "      <td>48.164685</td>\n",
       "    </tr>\n",
       "    <tr>\n",
       "      <th>wm</th>\n",
       "      <td>43.735111</td>\n",
       "      <td>43.707236</td>\n",
       "    </tr>\n",
       "  </tbody>\n",
       "</table>\n",
       "</div>"
      ],
      "text/plain": [
       "              KNN         MF\n",
       "dw      55.305178  47.696584\n",
       "fridge  30.453563  24.913120\n",
       "hvac    27.268441  21.297561\n",
       "mw      49.199756  41.601952\n",
       "oven    51.708601  48.164685\n",
       "wm      43.735111  43.707236"
      ]
     },
     "execution_count": 31,
     "metadata": {},
     "output_type": "execute_result"
    }
   ],
   "source": [
    "pd.DataFrame(results)"
   ]
  },
  {
   "cell_type": "code",
   "execution_count": 100,
   "metadata": {
    "collapsed": false
   },
   "outputs": [
    {
     "name": "stdout",
     "output_type": "stream",
     "text": [
      "fridge 57.3978457853\n",
      "hvac 55.0774075892\n",
      "dw 51.1713352881\n",
      "mw 57.3493816955\n",
      "wm 53.9492074301\n",
      "oven 55.2763277251\n"
     ]
    }
   ],
   "source": [
    "for appliance in ['fridge','hvac','dw','mw','wm','oven']:\n",
    "    mf_best = mf_pred[appliance][best_combination[appliance][0]][best_combination[appliance][1]]\n",
    "    knn_best = knn_results[appliance]\n",
    "    mf_best.columns = knn_best.columns\n",
    "    common_index = np.intersect1d(mf_best.index, knn_best.index)\n",
    "    mf_best = mf_best.ix[common_index]\n",
    "    knn_best = knn_best.ix[common_index]\n",
    "    knn_best_copy = knn_best.copy()\n",
    "    mf_best_copy = mf_best.copy()\n",
    "    max_two = (mf_best_copy.where(mf_best_copy > knn_best_copy, knn_best_copy).fillna(mf_best_copy))\n",
    "    print appliance,100*((-mf_best+knn_best)/max_two).unstack().std()"
   ]
  },
  {
   "cell_type": "code",
   "execution_count": null,
   "metadata": {
    "collapsed": true
   },
   "outputs": [],
   "source": [
    "Calculating win/loss"
   ]
  },
  {
   "cell_type": "code",
   "execution_count": 97,
   "metadata": {
    "collapsed": false
   },
   "outputs": [
    {
     "name": "stdout",
     "output_type": "stream",
     "text": [
      "fridge\n",
      "hvac\n",
      "dw\n",
      "mw\n",
      "wm\n",
      "oven\n"
     ]
    }
   ],
   "source": [
    "o = {}\n",
    "for appliance in ['fridge','hvac','dw','mw','wm','oven']:\n",
    "    print appliance\n",
    "    mf_best_pred = mf_pred[appliance][best_combination[appliance][0]][best_combination[appliance][1]]\n",
    "    knn_best_pred = knn_results[appliance]\n",
    "    mf_best_pred.columns = knn_best_pred.columns\n",
    "    common_index = np.intersect1d(mf_best_pred.index, knn_best_pred.index)\n",
    "    region = \"Austin\"\n",
    "    df = out_overall[region]\n",
    "    pred_df = mf_pred[appliance][appliance_feature][latent_factors]\n",
    "    gt_df = df[pred_df.columns].ix[pred_df.index]\n",
    "    mf_best_pred = mf_best_pred.ix[common_index]\n",
    "    knn_best_pred = knn_best_pred.ix[common_index]\n",
    "    error_mf = (gt_df-mf_best_pred).abs()\n",
    "    error_knn = (gt_df-knn_best_pred).abs()\n",
    "    win = (error_knn>error_mf).sum().sum()\n",
    "    loss = (error_knn<error_mf).sum().sum()\n",
    "   \n",
    "    o[appliance]={'win':win, \"loss\":loss, \"win/loss\":win*1./loss,\"win/(win_loss)\":win*1./(win+loss)}"
   ]
  },
  {
   "cell_type": "code",
   "execution_count": 98,
   "metadata": {
    "collapsed": false
   },
   "outputs": [
    {
     "data": {
      "text/html": [
       "<div>\n",
       "<table border=\"1\" class=\"dataframe\">\n",
       "  <thead>\n",
       "    <tr style=\"text-align: right;\">\n",
       "      <th></th>\n",
       "      <th>loss</th>\n",
       "      <th>win</th>\n",
       "      <th>win/(win_loss)</th>\n",
       "      <th>win/loss</th>\n",
       "    </tr>\n",
       "  </thead>\n",
       "  <tbody>\n",
       "    <tr>\n",
       "      <th>dw</th>\n",
       "      <td>288</td>\n",
       "      <td>408</td>\n",
       "      <td>0.586207</td>\n",
       "      <td>1.416667</td>\n",
       "    </tr>\n",
       "    <tr>\n",
       "      <th>fridge</th>\n",
       "      <td>423</td>\n",
       "      <td>393</td>\n",
       "      <td>0.481618</td>\n",
       "      <td>0.929078</td>\n",
       "    </tr>\n",
       "    <tr>\n",
       "      <th>hvac</th>\n",
       "      <td>277</td>\n",
       "      <td>293</td>\n",
       "      <td>0.514035</td>\n",
       "      <td>1.057762</td>\n",
       "    </tr>\n",
       "    <tr>\n",
       "      <th>mw</th>\n",
       "      <td>249</td>\n",
       "      <td>315</td>\n",
       "      <td>0.558511</td>\n",
       "      <td>1.265060</td>\n",
       "    </tr>\n",
       "    <tr>\n",
       "      <th>oven</th>\n",
       "      <td>179</td>\n",
       "      <td>181</td>\n",
       "      <td>0.502778</td>\n",
       "      <td>1.011173</td>\n",
       "    </tr>\n",
       "    <tr>\n",
       "      <th>wm</th>\n",
       "      <td>358</td>\n",
       "      <td>338</td>\n",
       "      <td>0.485632</td>\n",
       "      <td>0.944134</td>\n",
       "    </tr>\n",
       "  </tbody>\n",
       "</table>\n",
       "</div>"
      ],
      "text/plain": [
       "        loss  win  win/(win_loss)  win/loss\n",
       "dw       288  408        0.586207  1.416667\n",
       "fridge   423  393        0.481618  0.929078\n",
       "hvac     277  293        0.514035  1.057762\n",
       "mw       249  315        0.558511  1.265060\n",
       "oven     179  181        0.502778  1.011173\n",
       "wm       358  338        0.485632  0.944134"
      ]
     },
     "execution_count": 98,
     "metadata": {},
     "output_type": "execute_result"
    }
   ],
   "source": [
    "pd.DataFrame(o).T"
   ]
  },
  {
   "cell_type": "code",
   "execution_count": 92,
   "metadata": {
    "collapsed": false
   },
   "outputs": [
    {
     "data": {
      "text/plain": [
       "(Index([u'hvac_5', u'hvac_6', u'hvac_7', u'hvac_8', u'hvac_9', u'hvac_10'], dtype='object'),\n",
       " Index([u'hvac_5', u'hvac_6', u'hvac_7', u'hvac_8', u'hvac_9', u'hvac_10'], dtype='object'))"
      ]
     },
     "execution_count": 92,
     "metadata": {},
     "output_type": "execute_result"
    }
   ],
   "source": [
    "knn_best_pred.columns, mf_best_pred.columns"
   ]
  },
  {
   "cell_type": "code",
   "execution_count": 118,
   "metadata": {
    "collapsed": false
   },
   "outputs": [
    {
     "data": {
      "text/plain": [
       "51.70860070119945"
      ]
     },
     "execution_count": 118,
     "metadata": {},
     "output_type": "execute_result"
    }
   ],
   "source": [
    "knn_best.median().mean()"
   ]
  },
  {
   "cell_type": "code",
   "execution_count": 119,
   "metadata": {
    "collapsed": false
   },
   "outputs": [
    {
     "data": {
      "text/plain": [
       "'oven'"
      ]
     },
     "execution_count": 119,
     "metadata": {},
     "output_type": "execute_result"
    }
   ],
   "source": [
    "appliance"
   ]
  },
  {
   "cell_type": "code",
   "execution_count": null,
   "metadata": {
    "collapsed": true
   },
   "outputs": [],
   "source": []
  }
 ],
 "metadata": {
  "kernelspec": {
   "display_name": "Python 2",
   "language": "python",
   "name": "python2"
  },
  "language_info": {
   "codemirror_mode": {
    "name": "ipython",
    "version": 2
   },
   "file_extension": ".py",
   "mimetype": "text/x-python",
   "name": "python",
   "nbconvert_exporter": "python",
   "pygments_lexer": "ipython2",
   "version": "2.7.11"
  }
 },
 "nbformat": 4,
 "nbformat_minor": 0
}
