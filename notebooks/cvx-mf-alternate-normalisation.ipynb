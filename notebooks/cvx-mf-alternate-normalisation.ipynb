{
 "cells": [
  {
   "cell_type": "code",
   "execution_count": 1,
   "metadata": {
    "collapsed": true
   },
   "outputs": [],
   "source": [
    "import cvxpy as cvx\n",
    "import numpy as np\n",
    "import pandas as pd"
   ]
  },
  {
   "cell_type": "code",
   "execution_count": 3,
   "metadata": {
    "collapsed": false
   },
   "outputs": [
    {
     "ename": "IOError",
     "evalue": "[Errno 2] No such file or directory: '../data/input/all_regions.pkl'",
     "output_type": "error",
     "traceback": [
      "\u001b[0;31m---------------------------------------------------------------------------\u001b[0m",
      "\u001b[0;31mIOError\u001b[0m                                   Traceback (most recent call last)",
      "\u001b[0;32m<ipython-input-3-241f6977773c>\u001b[0m in \u001b[0;36m<module>\u001b[0;34m()\u001b[0m\n\u001b[1;32m     11\u001b[0m \u001b[0;34m\u001b[0m\u001b[0m\n\u001b[1;32m     12\u001b[0m \u001b[0;32mfrom\u001b[0m \u001b[0mcreate_df_larger\u001b[0m \u001b[0;32mimport\u001b[0m \u001b[0mread_df_larger\u001b[0m\u001b[0;34m\u001b[0m\u001b[0m\n\u001b[0;32m---> 13\u001b[0;31m \u001b[0mdf\u001b[0m\u001b[0;34m,\u001b[0m \u001b[0mdfc\u001b[0m\u001b[0;34m,\u001b[0m \u001b[0mall_homes\u001b[0m\u001b[0;34m,\u001b[0m \u001b[0mappliance_min\u001b[0m\u001b[0;34m,\u001b[0m \u001b[0mnational_average\u001b[0m \u001b[0;34m=\u001b[0m \u001b[0mread_df_larger\u001b[0m\u001b[0;34m(\u001b[0m\u001b[0;34m)\u001b[0m\u001b[0;34m\u001b[0m\u001b[0m\n\u001b[0m\u001b[1;32m     14\u001b[0m \u001b[0;34m\u001b[0m\u001b[0m\n\u001b[1;32m     15\u001b[0m df = df.rename(columns={'house_num_rooms':'num_rooms',\n",
      "\u001b[0;32m/Users/nipunbatra/git/monthly-disaggregation/code/create_df_larger.pyc\u001b[0m in \u001b[0;36mread_df_larger\u001b[0;34m()\u001b[0m\n\u001b[1;32m     26\u001b[0m \u001b[0;34m\u001b[0m\u001b[0m\n\u001b[1;32m     27\u001b[0m \u001b[0;32mdef\u001b[0m \u001b[0mread_df_larger\u001b[0m\u001b[0;34m(\u001b[0m\u001b[0;34m)\u001b[0m\u001b[0;34m:\u001b[0m\u001b[0;34m\u001b[0m\u001b[0m\n\u001b[0;32m---> 28\u001b[0;31m     \u001b[0mout_overall\u001b[0m \u001b[0;34m=\u001b[0m \u001b[0mpickle\u001b[0m\u001b[0;34m.\u001b[0m\u001b[0mload\u001b[0m\u001b[0;34m(\u001b[0m\u001b[0mopen\u001b[0m\u001b[0;34m(\u001b[0m\u001b[0;34m'../data/input/all_regions.pkl'\u001b[0m\u001b[0;34m,\u001b[0m\u001b[0;34m'r'\u001b[0m\u001b[0;34m)\u001b[0m\u001b[0;34m)\u001b[0m\u001b[0;34m\u001b[0m\u001b[0m\n\u001b[0m\u001b[1;32m     29\u001b[0m \u001b[0;34m\u001b[0m\u001b[0m\n\u001b[1;32m     30\u001b[0m \u001b[0;34m\u001b[0m\u001b[0m\n",
      "\u001b[0;31mIOError\u001b[0m: [Errno 2] No such file or directory: '../data/input/all_regions.pkl'"
     ]
    }
   ],
   "source": [
    "import  os\n",
    "\n",
    "import numpy as np\n",
    "import pandas as pd\n",
    "\n",
    "import sys\n",
    "sys.path.append(\"../code\")\n",
    "sys.path.append(\"../../code\")\n",
    "\n",
    "\n",
    "\n",
    "from create_df_larger import read_df_larger\n",
    "df, dfc, all_homes, appliance_min, national_average = read_df_larger()\n",
    "\n",
    "df = df.rename(columns={'house_num_rooms':'num_rooms',\n",
    "                        'num_occupants':'total_occupants',\n",
    "                        'difference_ratio_min_max':'ratio_difference_min_max'})\n",
    "K_min, K_max = 1,6\n",
    "F_min, F_max=1,8\n",
    "\n",
    "from all_functions import *\n",
    "from features_larger import *"
   ]
  },
  {
   "cell_type": "code",
   "execution_count": 3,
   "metadata": {
    "collapsed": false
   },
   "outputs": [],
   "source": [
    "appliance=\"fridge\"\n",
    "if appliance==\"hvac\":\n",
    "    start, end=5, 11\n",
    "else:\n",
    "    start, end = 1, 13\n",
    "\n",
    "appliance_cols = ['%s_%d' %(appliance, month) for month in range(start, end)]\n",
    "aggregate_cols = ['aggregate_%d' %month for month in range(start, end)]\n",
    "\n",
    "all_cols = deepcopy(appliance_cols)\n",
    "all_cols.extend(aggregate_cols)\n",
    "X_matrix = dfc[all_cols].dropna()\n",
    "    "
   ]
  },
  {
   "cell_type": "code",
   "execution_count": 4,
   "metadata": {
    "collapsed": false
   },
   "outputs": [],
   "source": [
    "columns_max = {}\n",
    "columns_min = {}\n",
    "col_max = X_matrix.max()\n",
    "columns_max[appliance]=col_max\n",
    "col_min = X_matrix.min()\n",
    "columns_min[appliance]=col_min\n",
    "X_normalised = X_matrix.copy()\n",
    "#for col in X_matrix.columns:\n",
    "#    X_normalised[col] = (X_matrix[col]-col_min[col])/(col_max[col]-col_min[col])\n",
    "for col in X_matrix.columns:\n",
    "    X_normalised[col] = (X_matrix[col]-col_min.min())/(col_max.max()-col_min.min())\n",
    "\n"
   ]
  },
  {
   "cell_type": "code",
   "execution_count": 5,
   "metadata": {
    "collapsed": false
   },
   "outputs": [
    {
     "data": {
      "text/html": [
       "<div>\n",
       "<table border=\"1\" class=\"dataframe\">\n",
       "  <thead>\n",
       "    <tr style=\"text-align: right;\">\n",
       "      <th></th>\n",
       "      <th>fridge_1</th>\n",
       "      <th>fridge_2</th>\n",
       "      <th>fridge_3</th>\n",
       "      <th>fridge_4</th>\n",
       "      <th>fridge_5</th>\n",
       "      <th>fridge_6</th>\n",
       "      <th>fridge_7</th>\n",
       "      <th>fridge_8</th>\n",
       "      <th>fridge_9</th>\n",
       "      <th>fridge_10</th>\n",
       "      <th>...</th>\n",
       "      <th>aggregate_3</th>\n",
       "      <th>aggregate_4</th>\n",
       "      <th>aggregate_5</th>\n",
       "      <th>aggregate_6</th>\n",
       "      <th>aggregate_7</th>\n",
       "      <th>aggregate_8</th>\n",
       "      <th>aggregate_9</th>\n",
       "      <th>aggregate_10</th>\n",
       "      <th>aggregate_11</th>\n",
       "      <th>aggregate_12</th>\n",
       "    </tr>\n",
       "  </thead>\n",
       "  <tbody>\n",
       "    <tr>\n",
       "      <th>26</th>\n",
       "      <td>0.011892</td>\n",
       "      <td>0.010169</td>\n",
       "      <td>0.009393</td>\n",
       "      <td>0.011075</td>\n",
       "      <td>0.011097</td>\n",
       "      <td>0.010596</td>\n",
       "      <td>0.011426</td>\n",
       "      <td>0.011647</td>\n",
       "      <td>0.011280</td>\n",
       "      <td>0.011248</td>\n",
       "      <td>...</td>\n",
       "      <td>0.129283</td>\n",
       "      <td>0.169975</td>\n",
       "      <td>0.209232</td>\n",
       "      <td>0.301593</td>\n",
       "      <td>0.372234</td>\n",
       "      <td>0.412063</td>\n",
       "      <td>0.297982</td>\n",
       "      <td>0.261366</td>\n",
       "      <td>0.157718</td>\n",
       "      <td>0.141851</td>\n",
       "    </tr>\n",
       "    <tr>\n",
       "      <th>59</th>\n",
       "      <td>0.001310</td>\n",
       "      <td>0.001184</td>\n",
       "      <td>0.001357</td>\n",
       "      <td>0.001374</td>\n",
       "      <td>0.001484</td>\n",
       "      <td>0.001456</td>\n",
       "      <td>0.001419</td>\n",
       "      <td>0.001389</td>\n",
       "      <td>0.001380</td>\n",
       "      <td>0.001485</td>\n",
       "      <td>...</td>\n",
       "      <td>0.335451</td>\n",
       "      <td>0.225524</td>\n",
       "      <td>0.241788</td>\n",
       "      <td>0.227818</td>\n",
       "      <td>0.308186</td>\n",
       "      <td>0.395496</td>\n",
       "      <td>0.225051</td>\n",
       "      <td>0.202733</td>\n",
       "      <td>0.231885</td>\n",
       "      <td>0.384154</td>\n",
       "    </tr>\n",
       "    <tr>\n",
       "      <th>94</th>\n",
       "      <td>0.010777</td>\n",
       "      <td>0.009655</td>\n",
       "      <td>0.011314</td>\n",
       "      <td>0.011261</td>\n",
       "      <td>0.012279</td>\n",
       "      <td>0.012617</td>\n",
       "      <td>0.013445</td>\n",
       "      <td>0.014008</td>\n",
       "      <td>0.012994</td>\n",
       "      <td>0.012962</td>\n",
       "      <td>...</td>\n",
       "      <td>0.065187</td>\n",
       "      <td>0.054358</td>\n",
       "      <td>0.067508</td>\n",
       "      <td>0.079929</td>\n",
       "      <td>0.112200</td>\n",
       "      <td>0.127052</td>\n",
       "      <td>0.099792</td>\n",
       "      <td>0.075254</td>\n",
       "      <td>0.079390</td>\n",
       "      <td>0.076652</td>\n",
       "    </tr>\n",
       "    <tr>\n",
       "      <th>101</th>\n",
       "      <td>0.005224</td>\n",
       "      <td>0.004952</td>\n",
       "      <td>0.006781</td>\n",
       "      <td>0.007719</td>\n",
       "      <td>0.007568</td>\n",
       "      <td>0.007545</td>\n",
       "      <td>0.007824</td>\n",
       "      <td>0.007467</td>\n",
       "      <td>0.007018</td>\n",
       "      <td>0.006510</td>\n",
       "      <td>...</td>\n",
       "      <td>0.062116</td>\n",
       "      <td>0.099390</td>\n",
       "      <td>0.113541</td>\n",
       "      <td>0.151897</td>\n",
       "      <td>0.192761</td>\n",
       "      <td>0.177197</td>\n",
       "      <td>0.156125</td>\n",
       "      <td>0.108503</td>\n",
       "      <td>0.075210</td>\n",
       "      <td>0.073646</td>\n",
       "    </tr>\n",
       "    <tr>\n",
       "      <th>222</th>\n",
       "      <td>0.023299</td>\n",
       "      <td>0.011997</td>\n",
       "      <td>0.007384</td>\n",
       "      <td>0.063883</td>\n",
       "      <td>0.089492</td>\n",
       "      <td>0.079982</td>\n",
       "      <td>0.084908</td>\n",
       "      <td>0.084324</td>\n",
       "      <td>0.079003</td>\n",
       "      <td>0.085569</td>\n",
       "      <td>...</td>\n",
       "      <td>0.482942</td>\n",
       "      <td>0.479676</td>\n",
       "      <td>0.546716</td>\n",
       "      <td>0.641886</td>\n",
       "      <td>0.759966</td>\n",
       "      <td>1.000000</td>\n",
       "      <td>0.551328</td>\n",
       "      <td>0.534909</td>\n",
       "      <td>0.410997</td>\n",
       "      <td>0.388497</td>\n",
       "    </tr>\n",
       "  </tbody>\n",
       "</table>\n",
       "<p>5 rows × 24 columns</p>\n",
       "</div>"
      ],
      "text/plain": [
       "     fridge_1  fridge_2  fridge_3  fridge_4  fridge_5  fridge_6  fridge_7  \\\n",
       "26   0.011892  0.010169  0.009393  0.011075  0.011097  0.010596  0.011426   \n",
       "59   0.001310  0.001184  0.001357  0.001374  0.001484  0.001456  0.001419   \n",
       "94   0.010777  0.009655  0.011314  0.011261  0.012279  0.012617  0.013445   \n",
       "101  0.005224  0.004952  0.006781  0.007719  0.007568  0.007545  0.007824   \n",
       "222  0.023299  0.011997  0.007384  0.063883  0.089492  0.079982  0.084908   \n",
       "\n",
       "     fridge_8  fridge_9  fridge_10      ...       aggregate_3  aggregate_4  \\\n",
       "26   0.011647  0.011280   0.011248      ...          0.129283     0.169975   \n",
       "59   0.001389  0.001380   0.001485      ...          0.335451     0.225524   \n",
       "94   0.014008  0.012994   0.012962      ...          0.065187     0.054358   \n",
       "101  0.007467  0.007018   0.006510      ...          0.062116     0.099390   \n",
       "222  0.084324  0.079003   0.085569      ...          0.482942     0.479676   \n",
       "\n",
       "     aggregate_5  aggregate_6  aggregate_7  aggregate_8  aggregate_9  \\\n",
       "26      0.209232     0.301593     0.372234     0.412063     0.297982   \n",
       "59      0.241788     0.227818     0.308186     0.395496     0.225051   \n",
       "94      0.067508     0.079929     0.112200     0.127052     0.099792   \n",
       "101     0.113541     0.151897     0.192761     0.177197     0.156125   \n",
       "222     0.546716     0.641886     0.759966     1.000000     0.551328   \n",
       "\n",
       "     aggregate_10  aggregate_11  aggregate_12  \n",
       "26       0.261366      0.157718      0.141851  \n",
       "59       0.202733      0.231885      0.384154  \n",
       "94       0.075254      0.079390      0.076652  \n",
       "101      0.108503      0.075210      0.073646  \n",
       "222      0.534909      0.410997      0.388497  \n",
       "\n",
       "[5 rows x 24 columns]"
      ]
     },
     "execution_count": 5,
     "metadata": {},
     "output_type": "execute_result"
    }
   ],
   "source": [
    "pd.DataFrame(X_normalised).head()"
   ]
  },
  {
   "cell_type": "code",
   "execution_count": 6,
   "metadata": {
    "collapsed": true
   },
   "outputs": [],
   "source": [
    "df = pd.DataFrame(X_normalised)"
   ]
  },
  {
   "cell_type": "code",
   "execution_count": 7,
   "metadata": {
    "collapsed": false
   },
   "outputs": [
    {
     "data": {
      "text/html": [
       "<div>\n",
       "<table border=\"1\" class=\"dataframe\">\n",
       "  <thead>\n",
       "    <tr style=\"text-align: right;\">\n",
       "      <th></th>\n",
       "      <th>fridge_1</th>\n",
       "      <th>fridge_2</th>\n",
       "      <th>fridge_3</th>\n",
       "      <th>fridge_4</th>\n",
       "      <th>fridge_5</th>\n",
       "      <th>fridge_6</th>\n",
       "      <th>fridge_7</th>\n",
       "      <th>fridge_8</th>\n",
       "      <th>fridge_9</th>\n",
       "      <th>fridge_10</th>\n",
       "      <th>...</th>\n",
       "      <th>aggregate_3</th>\n",
       "      <th>aggregate_4</th>\n",
       "      <th>aggregate_5</th>\n",
       "      <th>aggregate_6</th>\n",
       "      <th>aggregate_7</th>\n",
       "      <th>aggregate_8</th>\n",
       "      <th>aggregate_9</th>\n",
       "      <th>aggregate_10</th>\n",
       "      <th>aggregate_11</th>\n",
       "      <th>aggregate_12</th>\n",
       "    </tr>\n",
       "  </thead>\n",
       "  <tbody>\n",
       "    <tr>\n",
       "      <th>26</th>\n",
       "      <td>0.011892</td>\n",
       "      <td>0.010169</td>\n",
       "      <td>0.009393</td>\n",
       "      <td>0.011075</td>\n",
       "      <td>0.011097</td>\n",
       "      <td>0.010596</td>\n",
       "      <td>0.011426</td>\n",
       "      <td>0.011647</td>\n",
       "      <td>0.011280</td>\n",
       "      <td>0.011248</td>\n",
       "      <td>...</td>\n",
       "      <td>0.129283</td>\n",
       "      <td>0.169975</td>\n",
       "      <td>0.209232</td>\n",
       "      <td>0.301593</td>\n",
       "      <td>0.372234</td>\n",
       "      <td>0.412063</td>\n",
       "      <td>0.297982</td>\n",
       "      <td>0.261366</td>\n",
       "      <td>0.157718</td>\n",
       "      <td>0.141851</td>\n",
       "    </tr>\n",
       "    <tr>\n",
       "      <th>59</th>\n",
       "      <td>0.001310</td>\n",
       "      <td>0.001184</td>\n",
       "      <td>0.001357</td>\n",
       "      <td>0.001374</td>\n",
       "      <td>0.001484</td>\n",
       "      <td>0.001456</td>\n",
       "      <td>0.001419</td>\n",
       "      <td>0.001389</td>\n",
       "      <td>0.001380</td>\n",
       "      <td>0.001485</td>\n",
       "      <td>...</td>\n",
       "      <td>0.335451</td>\n",
       "      <td>0.225524</td>\n",
       "      <td>0.241788</td>\n",
       "      <td>0.227818</td>\n",
       "      <td>0.308186</td>\n",
       "      <td>0.395496</td>\n",
       "      <td>0.225051</td>\n",
       "      <td>0.202733</td>\n",
       "      <td>0.231885</td>\n",
       "      <td>0.384154</td>\n",
       "    </tr>\n",
       "    <tr>\n",
       "      <th>94</th>\n",
       "      <td>0.010777</td>\n",
       "      <td>0.009655</td>\n",
       "      <td>0.011314</td>\n",
       "      <td>0.011261</td>\n",
       "      <td>0.012279</td>\n",
       "      <td>0.012617</td>\n",
       "      <td>0.013445</td>\n",
       "      <td>0.014008</td>\n",
       "      <td>0.012994</td>\n",
       "      <td>0.012962</td>\n",
       "      <td>...</td>\n",
       "      <td>0.065187</td>\n",
       "      <td>0.054358</td>\n",
       "      <td>0.067508</td>\n",
       "      <td>0.079929</td>\n",
       "      <td>0.112200</td>\n",
       "      <td>0.127052</td>\n",
       "      <td>0.099792</td>\n",
       "      <td>0.075254</td>\n",
       "      <td>0.079390</td>\n",
       "      <td>0.076652</td>\n",
       "    </tr>\n",
       "    <tr>\n",
       "      <th>101</th>\n",
       "      <td>0.005224</td>\n",
       "      <td>0.004952</td>\n",
       "      <td>0.006781</td>\n",
       "      <td>0.007719</td>\n",
       "      <td>0.007568</td>\n",
       "      <td>0.007545</td>\n",
       "      <td>0.007824</td>\n",
       "      <td>0.007467</td>\n",
       "      <td>0.007018</td>\n",
       "      <td>0.006510</td>\n",
       "      <td>...</td>\n",
       "      <td>0.062116</td>\n",
       "      <td>0.099390</td>\n",
       "      <td>0.113541</td>\n",
       "      <td>0.151897</td>\n",
       "      <td>0.192761</td>\n",
       "      <td>0.177197</td>\n",
       "      <td>0.156125</td>\n",
       "      <td>0.108503</td>\n",
       "      <td>0.075210</td>\n",
       "      <td>0.073646</td>\n",
       "    </tr>\n",
       "    <tr>\n",
       "      <th>222</th>\n",
       "      <td>0.023299</td>\n",
       "      <td>0.011997</td>\n",
       "      <td>0.007384</td>\n",
       "      <td>0.063883</td>\n",
       "      <td>0.089492</td>\n",
       "      <td>0.079982</td>\n",
       "      <td>0.084908</td>\n",
       "      <td>0.084324</td>\n",
       "      <td>0.079003</td>\n",
       "      <td>0.085569</td>\n",
       "      <td>...</td>\n",
       "      <td>0.482942</td>\n",
       "      <td>0.479676</td>\n",
       "      <td>0.546716</td>\n",
       "      <td>0.641886</td>\n",
       "      <td>0.759966</td>\n",
       "      <td>1.000000</td>\n",
       "      <td>0.551328</td>\n",
       "      <td>0.534909</td>\n",
       "      <td>0.410997</td>\n",
       "      <td>0.388497</td>\n",
       "    </tr>\n",
       "  </tbody>\n",
       "</table>\n",
       "<p>5 rows × 24 columns</p>\n",
       "</div>"
      ],
      "text/plain": [
       "     fridge_1  fridge_2  fridge_3  fridge_4  fridge_5  fridge_6  fridge_7  \\\n",
       "26   0.011892  0.010169  0.009393  0.011075  0.011097  0.010596  0.011426   \n",
       "59   0.001310  0.001184  0.001357  0.001374  0.001484  0.001456  0.001419   \n",
       "94   0.010777  0.009655  0.011314  0.011261  0.012279  0.012617  0.013445   \n",
       "101  0.005224  0.004952  0.006781  0.007719  0.007568  0.007545  0.007824   \n",
       "222  0.023299  0.011997  0.007384  0.063883  0.089492  0.079982  0.084908   \n",
       "\n",
       "     fridge_8  fridge_9  fridge_10      ...       aggregate_3  aggregate_4  \\\n",
       "26   0.011647  0.011280   0.011248      ...          0.129283     0.169975   \n",
       "59   0.001389  0.001380   0.001485      ...          0.335451     0.225524   \n",
       "94   0.014008  0.012994   0.012962      ...          0.065187     0.054358   \n",
       "101  0.007467  0.007018   0.006510      ...          0.062116     0.099390   \n",
       "222  0.084324  0.079003   0.085569      ...          0.482942     0.479676   \n",
       "\n",
       "     aggregate_5  aggregate_6  aggregate_7  aggregate_8  aggregate_9  \\\n",
       "26      0.209232     0.301593     0.372234     0.412063     0.297982   \n",
       "59      0.241788     0.227818     0.308186     0.395496     0.225051   \n",
       "94      0.067508     0.079929     0.112200     0.127052     0.099792   \n",
       "101     0.113541     0.151897     0.192761     0.177197     0.156125   \n",
       "222     0.546716     0.641886     0.759966     1.000000     0.551328   \n",
       "\n",
       "     aggregate_10  aggregate_11  aggregate_12  \n",
       "26       0.261366      0.157718      0.141851  \n",
       "59       0.202733      0.231885      0.384154  \n",
       "94       0.075254      0.079390      0.076652  \n",
       "101      0.108503      0.075210      0.073646  \n",
       "222      0.534909      0.410997      0.388497  \n",
       "\n",
       "[5 rows x 24 columns]"
      ]
     },
     "execution_count": 7,
     "metadata": {},
     "output_type": "execute_result"
    }
   ],
   "source": [
    "df.head()"
   ]
  },
  {
   "cell_type": "code",
   "execution_count": 8,
   "metadata": {
    "collapsed": false
   },
   "outputs": [],
   "source": [
    "def transform_2(pred_df,appliance,  col_max, col_min):\n",
    "    pred_df_copy = pred_df.copy()\n",
    "    if appliance==\"hvac\":\n",
    "        start, stop=5, 11\n",
    "    else:\n",
    "        start, stop=1, 13\n",
    "    \n",
    "    for month in range(start, stop):\n",
    "        pred_df_copy['%s_%d' %(appliance,month)] = (col_max.max()-col_min.min())*pred_df['%s_%d'%(appliance,month)] +col_min.min()\n",
    "    return pred_df_copy\n",
    "\n",
    "def transform(pred_df,appliance,  col_max, col_min):\n",
    "    pred_df_copy = pred_df.copy()\n",
    "    if appliance==\"hvac\":\n",
    "        start, stop=5, 11\n",
    "    else:\n",
    "        start, stop=1, 13\n",
    "    \n",
    "    for month in range(start, stop):\n",
    "        pred_df_copy['%s_%d' %(appliance,month)] = (col_max['%s_%d' %(appliance, month)]-col_min['%s_%d' %(appliance,month)])*pred_df['%s_%d'%(appliance,month)] +col_min['%s_%d' %(appliance,month)]\n",
    "    return pred_df_copy\n",
    "\n"
   ]
  },
  {
   "cell_type": "code",
   "execution_count": 9,
   "metadata": {
    "collapsed": false
   },
   "outputs": [],
   "source": [
    "def nmf(A, k, MAX_ITERS=30):\n",
    "    np.random.seed(0)\n",
    "\n",
    "    # Generate random data matrix A.\n",
    "    m = len(A)\n",
    "    n = len(A.columns)\n",
    "    \n",
    "    \n",
    "    # Initialize Y randomly.\n",
    "    Y_init = np.random.rand(m, k)\n",
    "\n",
    "    # Ensure same initial random Y, rather than generate new one\n",
    "    # when executing this cell.\n",
    "    Y = Y_init \n",
    "\n",
    "    # Perform alternating minimization.\n",
    "    \n",
    "    residual = np.zeros(MAX_ITERS)\n",
    "    for iter_num in range(1, 1+MAX_ITERS):\n",
    "        # At the beginning of an iteration, X and Y are NumPy\n",
    "        # array types, NOT CVXPY variables.\n",
    "\n",
    "        # For odd iterations, treat Y constant, optimize over X.\n",
    "        if iter_num % 2 == 1:\n",
    "            X = cvx.Variable(k, n)\n",
    "            constraint = [X >= 0]\n",
    "        # For even iterations, treat X constant, optimize over Y.\n",
    "        else:\n",
    "            Y = cvx.Variable(m, k)\n",
    "            constraint = [Y >= 0]\n",
    "        Temp = Y*X\n",
    "\n",
    "        # Solve the problem.\n",
    "        obj = cvx.Minimize(cvx.norm(A.values[mask] - (Y*X)[mask], 'fro'))\n",
    "        prob = cvx.Problem(obj, constraint)\n",
    "        prob.solve(solver=cvx.SCS)\n",
    "\n",
    "        if prob.status != cvx.OPTIMAL:\n",
    "            pass\n",
    "            #return X.value, Y.value, residual\n",
    "            #raise Exception(\"Solver did not converge!\")\n",
    "\n",
    "        #print 'Iteration {}, residual norm {}'.format(iter_num, prob.value)\n",
    "        residual[iter_num-1] = prob.value\n",
    "\n",
    "        # Convert variable to NumPy array constant for next iteration.\n",
    "        if iter_num % 2 == 1:\n",
    "            X = X.value\n",
    "        else:\n",
    "            Y = Y.value\n",
    "    return X, Y, residual"
   ]
  },
  {
   "cell_type": "code",
   "execution_count": 56,
   "metadata": {
    "collapsed": false
   },
   "outputs": [
    {
     "name": "stdout",
     "output_type": "stream",
     "text": [
      "3\n"
     ]
    }
   ],
   "source": [
    "out = {}\n",
    "for lat in range(3,4):\n",
    "    out[lat]={}\n",
    "    print lat\n",
    "    for home in X_normalised.index[:]:\n",
    "        \n",
    "        X_home = X_normalised.copy()\n",
    "        for month in range(start, end):\n",
    "            X_home.loc[home, '%s_%d' %(appliance, month)] = np.NAN\n",
    "        mask = X_home.notnull().values\n",
    "        # Ensure repeatably random problem data.\n",
    "        A = X_home.copy()\n",
    "        X, Y, res = nmf(A, lat, 10)\n",
    "        \n",
    "        pred_df = pd.DataFrame(Y*X)\n",
    "        pred_df.columns = X_normalised.columns\n",
    "        pred_df.index = X_normalised.index\n",
    "        #out[lat][home] = pred_df.ix[home][appliance_cols]\n",
    "        out[lat][home] = transform_2(pred_df.ix[home], appliance, col_max, col_min)[appliance_cols]\n"
   ]
  },
  {
   "cell_type": "code",
   "execution_count": 78,
   "metadata": {
    "collapsed": false
   },
   "outputs": [],
   "source": [
    "vari = {}\n",
    "for home in X_normalised.index:\n",
    "    vari[home] = (dfc.ix[home][aggregate_cols].max()-dfc.ix[home][aggregate_cols].min())\n",
    "    \n",
    "varia = {}\n",
    "for home in X_normalised.index:\n",
    "    varia[home] = dfc.ix[home][aggregate_cols].std()\n",
    "\n",
    "max_agg = {}\n",
    "for home in X_normalised.index:\n",
    "    max_agg[home] = dfc.ix[home][aggregate_cols].max()"
   ]
  },
  {
   "cell_type": "code",
   "execution_count": 81,
   "metadata": {
    "collapsed": false
   },
   "outputs": [
    {
     "data": {
      "text/plain": [
       "array([[ 1.        ,  0.44124449],\n",
       "       [ 0.44124449,  1.        ]])"
      ]
     },
     "execution_count": 81,
     "metadata": {},
     "output_type": "execute_result"
    }
   ],
   "source": [
    "np.corrcoef(pd.DataFrame(Y)[2],pd.Series(varia))"
   ]
  },
  {
   "cell_type": "code",
   "execution_count": 70,
   "metadata": {
    "collapsed": false
   },
   "outputs": [
    {
     "data": {
      "text/plain": [
       "array([[ 1.        ,  0.95214449],\n",
       "       [ 0.95214449,  1.        ]])"
      ]
     },
     "execution_count": 70,
     "metadata": {},
     "output_type": "execute_result"
    }
   ],
   "source": [
    "np.corrcoef(pd.Series(max_agg),pd.Series(vari))"
   ]
  },
  {
   "cell_type": "code",
   "execution_count": 84,
   "metadata": {
    "collapsed": false
   },
   "outputs": [
    {
     "data": {
      "text/plain": [
       "<matplotlib.text.Text at 0x11e7d3310>"
      ]
     },
     "execution_count": 84,
     "metadata": {},
     "output_type": "execute_result"
    },
    {
     "data": {
      "image/png": "[encoded data removed]",
      "text/plain": [
       "<matplotlib.figure.Figure at 0x11e56f610>"
      ]
     },
     "metadata": {},
     "output_type": "display_data"
    }
   ],
   "source": [
    "plt.scatter(pd.DataFrame(Y)[1], pd.Series(varia))\n",
    "plt.ylabel(\"Variance of aggregate monthly energy\\n (across 12 months)\")\n",
    "plt.xlabel(\"Latent factor for home\")"
   ]
  },
  {
   "cell_type": "code",
   "execution_count": 55,
   "metadata": {
    "collapsed": false
   },
   "outputs": [
    {
     "data": {
      "text/plain": [
       "<matplotlib.collections.PathCollection at 0x11d167290>"
      ]
     },
     "execution_count": 55,
     "metadata": {},
     "output_type": "execute_result"
    },
    {
     "data": {
      "image/png": "[encoded data removed]",
      "text/plain": [
       "<matplotlib.figure.Figure at 0x11cf153d0>"
      ]
     },
     "metadata": {},
     "output_type": "display_data"
    }
   ],
   "source": [
    "plt.scatter(pd.DataFrame(Y)[0], X_matrix['aggregate_12'])"
   ]
  },
  {
   "cell_type": "code",
   "execution_count": 14,
   "metadata": {
    "collapsed": false
   },
   "outputs": [
    {
     "data": {
      "text/plain": [
       "<matplotlib.legend.Legend at 0x11aeb9b90>"
      ]
     },
     "execution_count": 14,
     "metadata": {},
     "output_type": "execute_result"
    },
    {
     "data": {
      "image/png": "[encoded data removed]",
      "text/plain": [
       "<matplotlib.figure.Figure at 0x11a932110>"
      ]
     },
     "metadata": {},
     "output_type": "display_data"
    }
   ],
   "source": [
    "import matplotlib.pyplot as plt\n",
    "%matplotlib inline\n",
    "#plt.figure(figsize=(8,6))\n",
    "pd.DataFrame(A)[aggregate_cols].mean().plot(label=\"Normalised energy across homes\")\n",
    "e = pd.DataFrame(X)\n",
    "e.columns=X_matrix.columns\n",
    "e[aggregate_cols].ix[0].plot(label=\"Latent factor for homes (base load?)\")\n",
    "e[aggregate_cols].ix[2].plot(label=\"Latent factor for homes (seasonal load?)\")\n",
    "\n",
    "plt.gca().set_xticklabels(range(0, 12,2))\n",
    "plt.xlabel(\"Month\")\n",
    "plt.legend(loc=9)\n"
   ]
  },
  {
   "cell_type": "code",
   "execution_count": 243,
   "metadata": {
    "collapsed": true
   },
   "outputs": [],
   "source": [
    "%matplotlib inline"
   ]
  },
  {
   "cell_type": "code",
   "execution_count": 281,
   "metadata": {
    "collapsed": false
   },
   "outputs": [
    {
     "data": {
      "text/html": [
       "<div>\n",
       "<table border=\"1\" class=\"dataframe\">\n",
       "  <thead>\n",
       "    <tr style=\"text-align: right;\">\n",
       "      <th></th>\n",
       "      <th>0</th>\n",
       "      <th>1</th>\n",
       "    </tr>\n",
       "  </thead>\n",
       "  <tbody>\n",
       "    <tr>\n",
       "      <th>0</th>\n",
       "      <td>1.000000</td>\n",
       "      <td>0.232327</td>\n",
       "    </tr>\n",
       "    <tr>\n",
       "      <th>1</th>\n",
       "      <td>0.232327</td>\n",
       "      <td>1.000000</td>\n",
       "    </tr>\n",
       "  </tbody>\n",
       "</table>\n",
       "</div>"
      ],
      "text/plain": [
       "          0         1\n",
       "0  1.000000  0.232327\n",
       "1  0.232327  1.000000"
      ]
     },
     "execution_count": 281,
     "metadata": {},
     "output_type": "execute_result"
    }
   ],
   "source": [
    "pd.DataFrame([pd.DataFrame(Y)[1].values, pd.DataFrame(A)['mw_7'].values]).T.corr()"
   ]
  },
  {
   "cell_type": "code",
   "execution_count": 152,
   "metadata": {
    "collapsed": false
   },
   "outputs": [
    {
     "ename": "AttributeError",
     "evalue": "'matrix' object has no attribute 'index'",
     "output_type": "error",
     "traceback": [
      "\u001b[0;31m---------------------------------------------------------------------------\u001b[0m",
      "\u001b[0;31mAttributeError\u001b[0m                            Traceback (most recent call last)",
      "\u001b[0;32m<ipython-input-152-44407cc49b6e>\u001b[0m in \u001b[0;36m<module>\u001b[0;34m()\u001b[0m\n\u001b[0;32m----> 1\u001b[0;31m \u001b[0mX\u001b[0m\u001b[0;34m.\u001b[0m\u001b[0mindex\u001b[0m\u001b[0;34m\u001b[0m\u001b[0m\n\u001b[0m",
      "\u001b[0;31mAttributeError\u001b[0m: 'matrix' object has no attribute 'index'"
     ]
    }
   ],
   "source": []
  },
  {
   "cell_type": "code",
   "execution_count": 163,
   "metadata": {
    "collapsed": false
   },
   "outputs": [
    {
     "data": {
      "text/plain": [
       "count    48.000000\n",
       "mean      0.661776\n",
       "std       0.425941\n",
       "min      -0.003314\n",
       "25%       0.396732\n",
       "50%       0.589402\n",
       "75%       0.904444\n",
       "max       2.112594\n",
       "Name: 0, dtype: float64"
      ]
     },
     "execution_count": 163,
     "metadata": {},
     "output_type": "execute_result"
    }
   ],
   "source": [
    "pd.DataFrame(Y)[0].describe()"
   ]
  },
  {
   "cell_type": "code",
   "execution_count": 207,
   "metadata": {
    "collapsed": false
   },
   "outputs": [
    {
     "data": {
      "text/html": [
       "<div>\n",
       "<table border=\"1\" class=\"dataframe\">\n",
       "  <thead>\n",
       "    <tr style=\"text-align: right;\">\n",
       "      <th></th>\n",
       "      <th>0</th>\n",
       "    </tr>\n",
       "  </thead>\n",
       "  <tbody>\n",
       "    <tr>\n",
       "      <th>0</th>\n",
       "      <td>1</td>\n",
       "    </tr>\n",
       "  </tbody>\n",
       "</table>\n",
       "</div>"
      ],
      "text/plain": [
       "   0\n",
       "0  1"
      ]
     },
     "execution_count": 207,
     "metadata": {},
     "output_type": "execute_result"
    }
   ],
   "source": [
    "pd.DataFrame(Y).corr()"
   ]
  },
  {
   "cell_type": "code",
   "execution_count": 266,
   "metadata": {
    "collapsed": true
   },
   "outputs": [],
   "source": [
    "corrs = [pd.DataFrame(Y)[i].corr(pd.Series(dfc.ix[X_matrix.index].num_occupants.values)) for i in range(4)]"
   ]
  },
  {
   "cell_type": "code",
   "execution_count": 267,
   "metadata": {
    "collapsed": false
   },
   "outputs": [
    {
     "data": {
      "text/plain": [
       "<matplotlib.text.Text at 0x125ef71d0>"
      ]
     },
     "execution_count": 267,
     "metadata": {},
     "output_type": "execute_result"
    },
    {
     "data": {
      "image/png": "[encoded data removed]",
      "text/plain": [
       "<matplotlib.figure.Figure at 0x12547d590>"
      ]
     },
     "metadata": {},
     "output_type": "display_data"
    }
   ],
   "source": [
    "pd.Series(corrs).plot(kind='bar',rot=0)\n",
    "plt.xlabel(\"Latent factor #\")\n",
    "plt.ylabel(\"Correlation with area\")\n",
    "plt.title(\"Appliance=%s\" %appliance)"
   ]
  },
  {
   "cell_type": "code",
   "execution_count": 231,
   "metadata": {
    "collapsed": false
   },
   "outputs": [
    {
     "ename": "KeyError",
     "evalue": "4",
     "output_type": "error",
     "traceback": [
      "\u001b[0;31m---------------------------------------------------------------------------\u001b[0m",
      "\u001b[0;31mKeyError\u001b[0m                                  Traceback (most recent call last)",
      "\u001b[0;32m<ipython-input-231-5cbdef76ce24>\u001b[0m in \u001b[0;36m<module>\u001b[0;34m()\u001b[0m\n\u001b[0;32m----> 1\u001b[0;31m \u001b[0mpd\u001b[0m\u001b[0;34m.\u001b[0m\u001b[0mDataFrame\u001b[0m\u001b[0;34m(\u001b[0m\u001b[0mY\u001b[0m\u001b[0;34m)\u001b[0m\u001b[0;34m[\u001b[0m\u001b[0;36m4\u001b[0m\u001b[0;34m]\u001b[0m\u001b[0;34m.\u001b[0m\u001b[0mcorr\u001b[0m\u001b[0;34m(\u001b[0m\u001b[0mpd\u001b[0m\u001b[0;34m.\u001b[0m\u001b[0mSeries\u001b[0m\u001b[0;34m(\u001b[0m\u001b[0mdfc\u001b[0m\u001b[0;34m.\u001b[0m\u001b[0mix\u001b[0m\u001b[0;34m[\u001b[0m\u001b[0mX_matrix\u001b[0m\u001b[0;34m.\u001b[0m\u001b[0mindex\u001b[0m\u001b[0;34m]\u001b[0m\u001b[0;34m.\u001b[0m\u001b[0marea\u001b[0m\u001b[0;34m.\u001b[0m\u001b[0mvalues\u001b[0m\u001b[0;34m)\u001b[0m\u001b[0;34m)\u001b[0m\u001b[0;34m\u001b[0m\u001b[0m\n\u001b[0m",
      "\u001b[0;32m/Users/nipunbatra/anaconda/lib/python2.7/site-packages/pandas/core/frame.pyc\u001b[0m in \u001b[0;36m__getitem__\u001b[0;34m(self, key)\u001b[0m\n\u001b[1;32m   1967\u001b[0m             \u001b[0;32mreturn\u001b[0m \u001b[0mself\u001b[0m\u001b[0;34m.\u001b[0m\u001b[0m_getitem_multilevel\u001b[0m\u001b[0;34m(\u001b[0m\u001b[0mkey\u001b[0m\u001b[0;34m)\u001b[0m\u001b[0;34m\u001b[0m\u001b[0m\n\u001b[1;32m   1968\u001b[0m         \u001b[0;32melse\u001b[0m\u001b[0;34m:\u001b[0m\u001b[0;34m\u001b[0m\u001b[0m\n\u001b[0;32m-> 1969\u001b[0;31m             \u001b[0;32mreturn\u001b[0m \u001b[0mself\u001b[0m\u001b[0;34m.\u001b[0m\u001b[0m_getitem_column\u001b[0m\u001b[0;34m(\u001b[0m\u001b[0mkey\u001b[0m\u001b[0;34m)\u001b[0m\u001b[0;34m\u001b[0m\u001b[0m\n\u001b[0m\u001b[1;32m   1970\u001b[0m \u001b[0;34m\u001b[0m\u001b[0m\n\u001b[1;32m   1971\u001b[0m     \u001b[0;32mdef\u001b[0m \u001b[0m_getitem_column\u001b[0m\u001b[0;34m(\u001b[0m\u001b[0mself\u001b[0m\u001b[0;34m,\u001b[0m \u001b[0mkey\u001b[0m\u001b[0;34m)\u001b[0m\u001b[0;34m:\u001b[0m\u001b[0;34m\u001b[0m\u001b[0m\n",
      "\u001b[0;32m/Users/nipunbatra/anaconda/lib/python2.7/site-packages/pandas/core/frame.pyc\u001b[0m in \u001b[0;36m_getitem_column\u001b[0;34m(self, key)\u001b[0m\n\u001b[1;32m   1974\u001b[0m         \u001b[0;31m# get column\u001b[0m\u001b[0;34m\u001b[0m\u001b[0;34m\u001b[0m\u001b[0m\n\u001b[1;32m   1975\u001b[0m         \u001b[0;32mif\u001b[0m \u001b[0mself\u001b[0m\u001b[0;34m.\u001b[0m\u001b[0mcolumns\u001b[0m\u001b[0;34m.\u001b[0m\u001b[0mis_unique\u001b[0m\u001b[0;34m:\u001b[0m\u001b[0;34m\u001b[0m\u001b[0m\n\u001b[0;32m-> 1976\u001b[0;31m             \u001b[0;32mreturn\u001b[0m \u001b[0mself\u001b[0m\u001b[0;34m.\u001b[0m\u001b[0m_get_item_cache\u001b[0m\u001b[0;34m(\u001b[0m\u001b[0mkey\u001b[0m\u001b[0;34m)\u001b[0m\u001b[0;34m\u001b[0m\u001b[0m\n\u001b[0m\u001b[1;32m   1977\u001b[0m \u001b[0;34m\u001b[0m\u001b[0m\n\u001b[1;32m   1978\u001b[0m         \u001b[0;31m# duplicate columns & possible reduce dimensionality\u001b[0m\u001b[0;34m\u001b[0m\u001b[0;34m\u001b[0m\u001b[0m\n",
      "\u001b[0;32m/Users/nipunbatra/anaconda/lib/python2.7/site-packages/pandas/core/generic.pyc\u001b[0m in \u001b[0;36m_get_item_cache\u001b[0;34m(self, item)\u001b[0m\n\u001b[1;32m   1089\u001b[0m         \u001b[0mres\u001b[0m \u001b[0;34m=\u001b[0m \u001b[0mcache\u001b[0m\u001b[0;34m.\u001b[0m\u001b[0mget\u001b[0m\u001b[0;34m(\u001b[0m\u001b[0mitem\u001b[0m\u001b[0;34m)\u001b[0m\u001b[0;34m\u001b[0m\u001b[0m\n\u001b[1;32m   1090\u001b[0m         \u001b[0;32mif\u001b[0m \u001b[0mres\u001b[0m \u001b[0;32mis\u001b[0m \u001b[0mNone\u001b[0m\u001b[0;34m:\u001b[0m\u001b[0;34m\u001b[0m\u001b[0m\n\u001b[0;32m-> 1091\u001b[0;31m             \u001b[0mvalues\u001b[0m \u001b[0;34m=\u001b[0m \u001b[0mself\u001b[0m\u001b[0;34m.\u001b[0m\u001b[0m_data\u001b[0m\u001b[0;34m.\u001b[0m\u001b[0mget\u001b[0m\u001b[0;34m(\u001b[0m\u001b[0mitem\u001b[0m\u001b[0;34m)\u001b[0m\u001b[0;34m\u001b[0m\u001b[0m\n\u001b[0m\u001b[1;32m   1092\u001b[0m             \u001b[0mres\u001b[0m \u001b[0;34m=\u001b[0m \u001b[0mself\u001b[0m\u001b[0;34m.\u001b[0m\u001b[0m_box_item_values\u001b[0m\u001b[0;34m(\u001b[0m\u001b[0mitem\u001b[0m\u001b[0;34m,\u001b[0m \u001b[0mvalues\u001b[0m\u001b[0;34m)\u001b[0m\u001b[0;34m\u001b[0m\u001b[0m\n\u001b[1;32m   1093\u001b[0m             \u001b[0mcache\u001b[0m\u001b[0;34m[\u001b[0m\u001b[0mitem\u001b[0m\u001b[0;34m]\u001b[0m \u001b[0;34m=\u001b[0m \u001b[0mres\u001b[0m\u001b[0;34m\u001b[0m\u001b[0m\n",
      "\u001b[0;32m/Users/nipunbatra/anaconda/lib/python2.7/site-packages/pandas/core/internals.pyc\u001b[0m in \u001b[0;36mget\u001b[0;34m(self, item, fastpath)\u001b[0m\n\u001b[1;32m   3209\u001b[0m \u001b[0;34m\u001b[0m\u001b[0m\n\u001b[1;32m   3210\u001b[0m             \u001b[0;32mif\u001b[0m \u001b[0;32mnot\u001b[0m \u001b[0misnull\u001b[0m\u001b[0;34m(\u001b[0m\u001b[0mitem\u001b[0m\u001b[0;34m)\u001b[0m\u001b[0;34m:\u001b[0m\u001b[0;34m\u001b[0m\u001b[0m\n\u001b[0;32m-> 3211\u001b[0;31m                 \u001b[0mloc\u001b[0m \u001b[0;34m=\u001b[0m \u001b[0mself\u001b[0m\u001b[0;34m.\u001b[0m\u001b[0mitems\u001b[0m\u001b[0;34m.\u001b[0m\u001b[0mget_loc\u001b[0m\u001b[0;34m(\u001b[0m\u001b[0mitem\u001b[0m\u001b[0;34m)\u001b[0m\u001b[0;34m\u001b[0m\u001b[0m\n\u001b[0m\u001b[1;32m   3212\u001b[0m             \u001b[0;32melse\u001b[0m\u001b[0;34m:\u001b[0m\u001b[0;34m\u001b[0m\u001b[0m\n\u001b[1;32m   3213\u001b[0m                 \u001b[0mindexer\u001b[0m \u001b[0;34m=\u001b[0m \u001b[0mnp\u001b[0m\u001b[0;34m.\u001b[0m\u001b[0marange\u001b[0m\u001b[0;34m(\u001b[0m\u001b[0mlen\u001b[0m\u001b[0;34m(\u001b[0m\u001b[0mself\u001b[0m\u001b[0;34m.\u001b[0m\u001b[0mitems\u001b[0m\u001b[0;34m)\u001b[0m\u001b[0;34m)\u001b[0m\u001b[0;34m[\u001b[0m\u001b[0misnull\u001b[0m\u001b[0;34m(\u001b[0m\u001b[0mself\u001b[0m\u001b[0;34m.\u001b[0m\u001b[0mitems\u001b[0m\u001b[0;34m)\u001b[0m\u001b[0;34m]\u001b[0m\u001b[0;34m\u001b[0m\u001b[0m\n",
      "\u001b[0;32m/Users/nipunbatra/anaconda/lib/python2.7/site-packages/pandas/core/index.pyc\u001b[0m in \u001b[0;36mget_loc\u001b[0;34m(self, key, method, tolerance)\u001b[0m\n\u001b[1;32m   1757\u001b[0m                                  'backfill or nearest lookups')\n\u001b[1;32m   1758\u001b[0m             \u001b[0mkey\u001b[0m \u001b[0;34m=\u001b[0m \u001b[0m_values_from_object\u001b[0m\u001b[0;34m(\u001b[0m\u001b[0mkey\u001b[0m\u001b[0;34m)\u001b[0m\u001b[0;34m\u001b[0m\u001b[0m\n\u001b[0;32m-> 1759\u001b[0;31m             \u001b[0;32mreturn\u001b[0m \u001b[0mself\u001b[0m\u001b[0;34m.\u001b[0m\u001b[0m_engine\u001b[0m\u001b[0;34m.\u001b[0m\u001b[0mget_loc\u001b[0m\u001b[0;34m(\u001b[0m\u001b[0mkey\u001b[0m\u001b[0;34m)\u001b[0m\u001b[0;34m\u001b[0m\u001b[0m\n\u001b[0m\u001b[1;32m   1760\u001b[0m \u001b[0;34m\u001b[0m\u001b[0m\n\u001b[1;32m   1761\u001b[0m         indexer = self.get_indexer([key], method=method,\n",
      "\u001b[0;32mpandas/index.pyx\u001b[0m in \u001b[0;36mpandas.index.IndexEngine.get_loc (pandas/index.c:3979)\u001b[0;34m()\u001b[0m\n",
      "\u001b[0;32mpandas/index.pyx\u001b[0m in \u001b[0;36mpandas.index.IndexEngine.get_loc (pandas/index.c:3843)\u001b[0;34m()\u001b[0m\n",
      "\u001b[0;32mpandas/hashtable.pyx\u001b[0m in \u001b[0;36mpandas.hashtable.Int64HashTable.get_item (pandas/hashtable.c:6525)\u001b[0;34m()\u001b[0m\n",
      "\u001b[0;32mpandas/hashtable.pyx\u001b[0m in \u001b[0;36mpandas.hashtable.Int64HashTable.get_item (pandas/hashtable.c:6463)\u001b[0;34m()\u001b[0m\n",
      "\u001b[0;31mKeyError\u001b[0m: 4"
     ]
    }
   ],
   "source": [
    "pd.DataFrame(Y)[4].corr(pd.Series(dfc.ix[X_matrix.index].area.values))"
   ]
  },
  {
   "cell_type": "code",
   "execution_count": null,
   "metadata": {
    "collapsed": true
   },
   "outputs": [],
   "source": []
  },
  {
   "cell_type": "code",
   "execution_count": null,
   "metadata": {
    "collapsed": true
   },
   "outputs": [],
   "source": []
  },
  {
   "cell_type": "code",
   "execution_count": 87,
   "metadata": {
    "collapsed": false
   },
   "outputs": [
    {
     "data": {
      "text/plain": [
       "<matplotlib.text.Text at 0x11f4da3d0>"
      ]
     },
     "execution_count": 87,
     "metadata": {},
     "output_type": "execute_result"
    },
    {
     "data": {
      "image/png": "[encoded data removed]",
      "text/plain": [
       "<matplotlib.figure.Figure at 0x11f1164d0>"
      ]
     },
     "metadata": {},
     "output_type": "display_data"
    }
   ],
   "source": [
    "co = pd.DataFrame(Y)[0].corr(pd.Series(dfc.ix[X_matrix.index].area.values))\n",
    "plt.scatter(pd.DataFrame(Y)[0], dfc.ix[X_matrix.index].area)\n",
    "plt.xlabel(\"Latent factor for homes (Y)\")\n",
    "plt.ylabel(\"#occupants\")\n",
    "plt.title(\"Appliance=%s, Correlation=%0.2f\" %(appliance, co))"
   ]
  },
  {
   "cell_type": "code",
   "execution_count": 89,
   "metadata": {
    "collapsed": false
   },
   "outputs": [
    {
     "data": {
      "text/plain": [
       "<matplotlib.collections.PathCollection at 0x11f786050>"
      ]
     },
     "execution_count": 89,
     "metadata": {},
     "output_type": "execute_result"
    },
    {
     "data": {
      "image/png": "[encoded data removed]",
      "text/plain": [
       "<matplotlib.figure.Figure at 0x11e5d45d0>"
      ]
     },
     "metadata": {},
     "output_type": "display_data"
    }
   ],
   "source": [
    "plt.scatter(pd.DataFrame(Y)[1], dfc.ix[X_matrix.index].house_num_rooms)"
   ]
  },
  {
   "cell_type": "code",
   "execution_count": 91,
   "metadata": {
    "collapsed": false
   },
   "outputs": [
    {
     "data": {
      "text/plain": [
       "<matplotlib.collections.PathCollection at 0x11fb06110>"
      ]
     },
     "execution_count": 91,
     "metadata": {},
     "output_type": "execute_result"
    },
    {
     "data": {
      "image/png": "[encoded data removed]",
      "text/plain": [
       "<matplotlib.figure.Figure at 0x11f6bcad0>"
      ]
     },
     "metadata": {},
     "output_type": "display_data"
    }
   ],
   "source": [
    "plt.scatter(pd.Series(max_agg), dfc.ix[X_matrix.index].area)"
   ]
  },
  {
   "cell_type": "code",
   "execution_count": 141,
   "metadata": {
    "collapsed": false
   },
   "outputs": [
    {
     "data": {
      "text/plain": [
       "<matplotlib.text.Text at 0x11fb13cd0>"
      ]
     },
     "execution_count": 141,
     "metadata": {},
     "output_type": "execute_result"
    },
    {
     "data": {
      "image/png": "[encoded data removed]",
      "text/plain": [
       "<matplotlib.figure.Figure at 0x11cacc0d0>"
      ]
     },
     "metadata": {},
     "output_type": "display_data"
    }
   ],
   "source": [
    "import matplotlib.pyplot as plt\n",
    "plt.scatter(pd.DataFrame(Y)[1], pd.DataFrame(A)['mw_1'])\n",
    "plt.xlabel(\"Latent factor for home\")\n",
    "plt.ylabel(\"WM energy consumption\")\n",
    "#plt.ylim((0,0.004))"
   ]
  },
  {
   "cell_type": "code",
   "execution_count": 142,
   "metadata": {
    "collapsed": false
   },
   "outputs": [],
   "source": [
    "X_m = pd.DataFrame(X)\n",
    "X_m.columns = A.columns"
   ]
  },
  {
   "cell_type": "code",
   "execution_count": 143,
   "metadata": {
    "collapsed": false
   },
   "outputs": [
    {
     "ename": "ValueError",
     "evalue": "x and y must be the same size",
     "output_type": "error",
     "traceback": [
      "\u001b[0;31m---------------------------------------------------------------------------\u001b[0m",
      "\u001b[0;31mValueError\u001b[0m                                Traceback (most recent call last)",
      "\u001b[0;32m<ipython-input-143-b2823625d6ae>\u001b[0m in \u001b[0;36m<module>\u001b[0;34m()\u001b[0m\n\u001b[0;32m----> 1\u001b[0;31m \u001b[0mplt\u001b[0m\u001b[0;34m.\u001b[0m\u001b[0mscatter\u001b[0m\u001b[0;34m(\u001b[0m\u001b[0mX_m\u001b[0m\u001b[0;34m.\u001b[0m\u001b[0mvalues\u001b[0m\u001b[0;34m.\u001b[0m\u001b[0mflatten\u001b[0m\u001b[0;34m(\u001b[0m\u001b[0;34m)\u001b[0m\u001b[0;34m[\u001b[0m\u001b[0;36m12\u001b[0m\u001b[0;34m:\u001b[0m\u001b[0;34m]\u001b[0m\u001b[0;34m,\u001b[0m\u001b[0mX_m\u001b[0m\u001b[0;34m.\u001b[0m\u001b[0mvalues\u001b[0m\u001b[0;34m.\u001b[0m\u001b[0mflatten\u001b[0m\u001b[0;34m(\u001b[0m\u001b[0;34m)\u001b[0m\u001b[0;34m[\u001b[0m\u001b[0;34m:\u001b[0m\u001b[0;36m12\u001b[0m\u001b[0;34m]\u001b[0m\u001b[0;34m)\u001b[0m\u001b[0;34m\u001b[0m\u001b[0m\n\u001b[0m",
      "\u001b[0;32m/Users/nipunbatra/anaconda/lib/python2.7/site-packages/matplotlib/pyplot.pyc\u001b[0m in \u001b[0;36mscatter\u001b[0;34m(x, y, s, c, marker, cmap, norm, vmin, vmax, alpha, linewidths, verts, edgecolors, hold, data, **kwargs)\u001b[0m\n\u001b[1;32m   3249\u001b[0m                          \u001b[0mvmin\u001b[0m\u001b[0;34m=\u001b[0m\u001b[0mvmin\u001b[0m\u001b[0;34m,\u001b[0m \u001b[0mvmax\u001b[0m\u001b[0;34m=\u001b[0m\u001b[0mvmax\u001b[0m\u001b[0;34m,\u001b[0m \u001b[0malpha\u001b[0m\u001b[0;34m=\u001b[0m\u001b[0malpha\u001b[0m\u001b[0;34m,\u001b[0m\u001b[0;34m\u001b[0m\u001b[0m\n\u001b[1;32m   3250\u001b[0m                          \u001b[0mlinewidths\u001b[0m\u001b[0;34m=\u001b[0m\u001b[0mlinewidths\u001b[0m\u001b[0;34m,\u001b[0m \u001b[0mverts\u001b[0m\u001b[0;34m=\u001b[0m\u001b[0mverts\u001b[0m\u001b[0;34m,\u001b[0m\u001b[0;34m\u001b[0m\u001b[0m\n\u001b[0;32m-> 3251\u001b[0;31m                          edgecolors=edgecolors, data=data, **kwargs)\n\u001b[0m\u001b[1;32m   3252\u001b[0m     \u001b[0;32mfinally\u001b[0m\u001b[0;34m:\u001b[0m\u001b[0;34m\u001b[0m\u001b[0m\n\u001b[1;32m   3253\u001b[0m         \u001b[0max\u001b[0m\u001b[0;34m.\u001b[0m\u001b[0mhold\u001b[0m\u001b[0;34m(\u001b[0m\u001b[0mwashold\u001b[0m\u001b[0;34m)\u001b[0m\u001b[0;34m\u001b[0m\u001b[0m\n",
      "\u001b[0;32m/Users/nipunbatra/anaconda/lib/python2.7/site-packages/matplotlib/__init__.pyc\u001b[0m in \u001b[0;36minner\u001b[0;34m(ax, *args, **kwargs)\u001b[0m\n\u001b[1;32m   1810\u001b[0m                     warnings.warn(msg % (label_namer, func.__name__),\n\u001b[1;32m   1811\u001b[0m                                   RuntimeWarning, stacklevel=2)\n\u001b[0;32m-> 1812\u001b[0;31m             \u001b[0;32mreturn\u001b[0m \u001b[0mfunc\u001b[0m\u001b[0;34m(\u001b[0m\u001b[0max\u001b[0m\u001b[0;34m,\u001b[0m \u001b[0;34m*\u001b[0m\u001b[0margs\u001b[0m\u001b[0;34m,\u001b[0m \u001b[0;34m**\u001b[0m\u001b[0mkwargs\u001b[0m\u001b[0;34m)\u001b[0m\u001b[0;34m\u001b[0m\u001b[0m\n\u001b[0m\u001b[1;32m   1813\u001b[0m         \u001b[0mpre_doc\u001b[0m \u001b[0;34m=\u001b[0m \u001b[0minner\u001b[0m\u001b[0;34m.\u001b[0m\u001b[0m__doc__\u001b[0m\u001b[0;34m\u001b[0m\u001b[0m\n\u001b[1;32m   1814\u001b[0m         \u001b[0;32mif\u001b[0m \u001b[0mpre_doc\u001b[0m \u001b[0;32mis\u001b[0m \u001b[0mNone\u001b[0m\u001b[0;34m:\u001b[0m\u001b[0;34m\u001b[0m\u001b[0m\n",
      "\u001b[0;32m/Users/nipunbatra/anaconda/lib/python2.7/site-packages/matplotlib/axes/_axes.pyc\u001b[0m in \u001b[0;36mscatter\u001b[0;34m(self, x, y, s, c, marker, cmap, norm, vmin, vmax, alpha, linewidths, verts, edgecolors, **kwargs)\u001b[0m\n\u001b[1;32m   3838\u001b[0m         \u001b[0my\u001b[0m \u001b[0;34m=\u001b[0m \u001b[0mnp\u001b[0m\u001b[0;34m.\u001b[0m\u001b[0mma\u001b[0m\u001b[0;34m.\u001b[0m\u001b[0mravel\u001b[0m\u001b[0;34m(\u001b[0m\u001b[0my\u001b[0m\u001b[0;34m)\u001b[0m\u001b[0;34m\u001b[0m\u001b[0m\n\u001b[1;32m   3839\u001b[0m         \u001b[0;32mif\u001b[0m \u001b[0mx\u001b[0m\u001b[0;34m.\u001b[0m\u001b[0msize\u001b[0m \u001b[0;34m!=\u001b[0m \u001b[0my\u001b[0m\u001b[0;34m.\u001b[0m\u001b[0msize\u001b[0m\u001b[0;34m:\u001b[0m\u001b[0;34m\u001b[0m\u001b[0m\n\u001b[0;32m-> 3840\u001b[0;31m             \u001b[0;32mraise\u001b[0m \u001b[0mValueError\u001b[0m\u001b[0;34m(\u001b[0m\u001b[0;34m\"x and y must be the same size\"\u001b[0m\u001b[0;34m)\u001b[0m\u001b[0;34m\u001b[0m\u001b[0m\n\u001b[0m\u001b[1;32m   3841\u001b[0m \u001b[0;34m\u001b[0m\u001b[0m\n\u001b[1;32m   3842\u001b[0m         \u001b[0ms\u001b[0m \u001b[0;34m=\u001b[0m \u001b[0mnp\u001b[0m\u001b[0;34m.\u001b[0m\u001b[0mma\u001b[0m\u001b[0;34m.\u001b[0m\u001b[0mravel\u001b[0m\u001b[0;34m(\u001b[0m\u001b[0ms\u001b[0m\u001b[0;34m)\u001b[0m  \u001b[0;31m# This doesn't have to match x, y in size.\u001b[0m\u001b[0;34m\u001b[0m\u001b[0m\n",
      "\u001b[0;31mValueError\u001b[0m: x and y must be the same size"
     ]
    },
    {
     "data": {
      "image/png": "[encoded data removed]",
      "text/plain": [
       "<matplotlib.figure.Figure at 0x11ec3ca50>"
      ]
     },
     "metadata": {},
     "output_type": "display_data"
    }
   ],
   "source": [
    "plt.scatter(X_m.values.flatten()[12:],X_m.values.flatten()[:12])"
   ]
  },
  {
   "cell_type": "code",
   "execution_count": 33,
   "metadata": {
    "collapsed": true
   },
   "outputs": [],
   "source": [
    "dds = [438, 579, 724, 747, 617, 376]"
   ]
  },
  {
   "cell_type": "code",
   "execution_count": 34,
   "metadata": {
    "collapsed": false
   },
   "outputs": [
    {
     "data": {
      "text/plain": [
       "array([ 0.01613053,  0.02824233,  0.04378981,  0.05503166,  0.04203281,\n",
       "        0.02324189])"
      ]
     },
     "execution_count": 34,
     "metadata": {},
     "output_type": "execute_result"
    }
   ],
   "source": [
    "X_m.values.flatten()[:6]"
   ]
  },
  {
   "cell_type": "code",
   "execution_count": 145,
   "metadata": {
    "collapsed": false
   },
   "outputs": [
    {
     "data": {
      "text/plain": [
       "'mw'"
      ]
     },
     "execution_count": 145,
     "metadata": {},
     "output_type": "execute_result"
    }
   ],
   "source": []
  },
  {
   "cell_type": "code",
   "execution_count": 144,
   "metadata": {
    "collapsed": false
   },
   "outputs": [
    {
     "data": {
      "text/plain": [
       "<matplotlib.collections.PathCollection at 0x11fdb13d0>"
      ]
     },
     "execution_count": 144,
     "metadata": {},
     "output_type": "execute_result"
    },
    {
     "data": {
      "image/png": "[encoded data removed]",
      "text/plain": [
       "<matplotlib.figure.Figure at 0x11f846090>"
      ]
     },
     "metadata": {},
     "output_type": "display_data"
    }
   ],
   "source": [
    "plt.scatter(X_m.ix[0].values[:12],X_m.ix[0].values[12:])"
   ]
  },
  {
   "cell_type": "code",
   "execution_count": 41,
   "metadata": {
    "collapsed": false
   },
   "outputs": [
    {
     "data": {
      "text/plain": [
       "<matplotlib.text.Text at 0x11ca3fc90>"
      ]
     },
     "execution_count": 41,
     "metadata": {},
     "output_type": "execute_result"
    },
    {
     "data": {
      "image/png": "[encoded data removed]",
      "text/plain": [
       "<matplotlib.figure.Figure at 0x11cd1a890>"
      ]
     },
     "metadata": {},
     "output_type": "display_data"
    }
   ],
   "source": [
    "plt.scatter(X_m.ix[1].values.flatten()[:6], dds)\n",
    "plt.xlabel(\"Latent factor for month\")\n",
    "plt.ylabel(\"Degree days per month\")"
   ]
  },
  {
   "cell_type": "code",
   "execution_count": 183,
   "metadata": {
    "collapsed": false
   },
   "outputs": [
    {
     "data": {
      "text/plain": [
       "0    0.019238\n",
       "dtype: float64"
      ]
     },
     "execution_count": 183,
     "metadata": {},
     "output_type": "execute_result"
    }
   ],
   "source": [
    "pd.DataFrame(Y).corrwith(pd.DataFrame(A)['hvac_10'])"
   ]
  },
  {
   "cell_type": "code",
   "execution_count": 167,
   "metadata": {
    "collapsed": false
   },
   "outputs": [],
   "source": [
    "error_lat = {}\n",
    "gt = X_matrix[appliance_cols]\n",
    "for lat in range(1,10):\n",
    "    \n",
    "    pr = pd.DataFrame(out[lat]).T\n",
    "    \n",
    "    error = (pr-gt).abs()\n",
    "    error_lat[lat] = error.div(gt).mul(100).median().mean()"
   ]
  },
  {
   "cell_type": "code",
   "execution_count": 168,
   "metadata": {
    "collapsed": false
   },
   "outputs": [
    {
     "data": {
      "text/plain": [
       "{1: 26.801509765613513,\n",
       " 2: 32.16594754531535,\n",
       " 3: 32.75057009957243,\n",
       " 4: 33.608574403734316,\n",
       " 5: 35.51499390605262,\n",
       " 6: 34.5542641062825,\n",
       " 7: 29.260989092833853,\n",
       " 8: 36.03229595821327,\n",
       " 9: 23.69216706014821}"
      ]
     },
     "execution_count": 168,
     "metadata": {},
     "output_type": "execute_result"
    }
   ],
   "source": [
    "error_lat"
   ]
  },
  {
   "cell_type": "code",
   "execution_count": 53,
   "metadata": {
    "collapsed": false
   },
   "outputs": [
    {
     "data": {
      "text/html": [
       "<div>\n",
       "<table border=\"1\" class=\"dataframe\">\n",
       "  <thead>\n",
       "    <tr style=\"text-align: right;\">\n",
       "      <th></th>\n",
       "      <th>hvac_5</th>\n",
       "      <th>hvac_6</th>\n",
       "      <th>hvac_7</th>\n",
       "      <th>hvac_8</th>\n",
       "      <th>hvac_9</th>\n",
       "      <th>hvac_10</th>\n",
       "    </tr>\n",
       "  </thead>\n",
       "  <tbody>\n",
       "    <tr>\n",
       "      <th>26</th>\n",
       "      <td>245.072444</td>\n",
       "      <td>468.099853</td>\n",
       "      <td>719.521842</td>\n",
       "      <td>780.840442</td>\n",
       "      <td>558.748129</td>\n",
       "      <td>282.693567</td>\n",
       "    </tr>\n",
       "    <tr>\n",
       "      <th>59</th>\n",
       "      <td>213.142529</td>\n",
       "      <td>407.232402</td>\n",
       "      <td>623.663812</td>\n",
       "      <td>675.819377</td>\n",
       "      <td>485.543535</td>\n",
       "      <td>247.101512</td>\n",
       "    </tr>\n",
       "    <tr>\n",
       "      <th>94</th>\n",
       "      <td>75.897705</td>\n",
       "      <td>143.707019</td>\n",
       "      <td>219.694360</td>\n",
       "      <td>238.534062</td>\n",
       "      <td>171.053473</td>\n",
       "      <td>87.703643</td>\n",
       "    </tr>\n",
       "    <tr>\n",
       "      <th>101</th>\n",
       "      <td>119.326641</td>\n",
       "      <td>227.375958</td>\n",
       "      <td>348.506622</td>\n",
       "      <td>378.596035</td>\n",
       "      <td>271.048929</td>\n",
       "      <td>138.213791</td>\n",
       "    </tr>\n",
       "    <tr>\n",
       "      <th>222</th>\n",
       "      <td>534.515723</td>\n",
       "      <td>1026.999975</td>\n",
       "      <td>1595.523641</td>\n",
       "      <td>1735.603353</td>\n",
       "      <td>1235.946874</td>\n",
       "      <td>618.391287</td>\n",
       "    </tr>\n",
       "  </tbody>\n",
       "</table>\n",
       "</div>"
      ],
      "text/plain": [
       "         hvac_5       hvac_6       hvac_7       hvac_8       hvac_9  \\\n",
       "26   245.072444   468.099853   719.521842   780.840442   558.748129   \n",
       "59   213.142529   407.232402   623.663812   675.819377   485.543535   \n",
       "94    75.897705   143.707019   219.694360   238.534062   171.053473   \n",
       "101  119.326641   227.375958   348.506622   378.596035   271.048929   \n",
       "222  534.515723  1026.999975  1595.523641  1735.603353  1235.946874   \n",
       "\n",
       "        hvac_10  \n",
       "26   282.693567  \n",
       "59   247.101512  \n",
       "94    87.703643  \n",
       "101  138.213791  \n",
       "222  618.391287  "
      ]
     },
     "execution_count": 53,
     "metadata": {},
     "output_type": "execute_result"
    }
   ],
   "source": [
    "pd.DataFrame(out[1]).T.head()"
   ]
  },
  {
   "cell_type": "code",
   "execution_count": 54,
   "metadata": {
    "collapsed": false
   },
   "outputs": [
    {
     "data": {
      "text/html": [
       "<div>\n",
       "<table border=\"1\" class=\"dataframe\">\n",
       "  <thead>\n",
       "    <tr style=\"text-align: right;\">\n",
       "      <th></th>\n",
       "      <th>hvac_5</th>\n",
       "      <th>hvac_6</th>\n",
       "      <th>hvac_7</th>\n",
       "      <th>hvac_8</th>\n",
       "      <th>hvac_9</th>\n",
       "      <th>hvac_10</th>\n",
       "    </tr>\n",
       "  </thead>\n",
       "  <tbody>\n",
       "    <tr>\n",
       "      <th>26</th>\n",
       "      <td>0.052413</td>\n",
       "      <td>0.118235</td>\n",
       "      <td>0.165761</td>\n",
       "      <td>0.196560</td>\n",
       "      <td>0.132704</td>\n",
       "      <td>0.085778</td>\n",
       "    </tr>\n",
       "    <tr>\n",
       "      <th>59</th>\n",
       "      <td>0.016425</td>\n",
       "      <td>0.042707</td>\n",
       "      <td>0.099490</td>\n",
       "      <td>0.152449</td>\n",
       "      <td>0.052838</td>\n",
       "      <td>0.017179</td>\n",
       "    </tr>\n",
       "    <tr>\n",
       "      <th>94</th>\n",
       "      <td>0.003807</td>\n",
       "      <td>0.014025</td>\n",
       "      <td>0.027019</td>\n",
       "      <td>0.033336</td>\n",
       "      <td>0.019781</td>\n",
       "      <td>0.006768</td>\n",
       "    </tr>\n",
       "    <tr>\n",
       "      <th>101</th>\n",
       "      <td>0.041399</td>\n",
       "      <td>0.070641</td>\n",
       "      <td>0.100529</td>\n",
       "      <td>0.105438</td>\n",
       "      <td>0.076021</td>\n",
       "      <td>0.041531</td>\n",
       "    </tr>\n",
       "    <tr>\n",
       "      <th>222</th>\n",
       "      <td>0.104076</td>\n",
       "      <td>0.195260</td>\n",
       "      <td>0.234882</td>\n",
       "      <td>0.248390</td>\n",
       "      <td>0.193202</td>\n",
       "      <td>0.127090</td>\n",
       "    </tr>\n",
       "  </tbody>\n",
       "</table>\n",
       "</div>"
      ],
      "text/plain": [
       "       hvac_5    hvac_6    hvac_7    hvac_8    hvac_9   hvac_10\n",
       "26   0.052413  0.118235  0.165761  0.196560  0.132704  0.085778\n",
       "59   0.016425  0.042707  0.099490  0.152449  0.052838  0.017179\n",
       "94   0.003807  0.014025  0.027019  0.033336  0.019781  0.006768\n",
       "101  0.041399  0.070641  0.100529  0.105438  0.076021  0.041531\n",
       "222  0.104076  0.195260  0.234882  0.248390  0.193202  0.127090"
      ]
     },
     "execution_count": 54,
     "metadata": {},
     "output_type": "execute_result"
    }
   ],
   "source": [
    "A.head()[appliance_cols]"
   ]
  },
  {
   "cell_type": "code",
   "execution_count": 15,
   "metadata": {
    "collapsed": false
   },
   "outputs": [
    {
     "data": {
      "text/plain": [
       "1    32.570682\n",
       "dtype: float64"
      ]
     },
     "execution_count": 15,
     "metadata": {},
     "output_type": "execute_result"
    }
   ],
   "source": [
    "pd.Series(error_lat)"
   ]
  },
  {
   "cell_type": "code",
   "execution_count": 380,
   "metadata": {
    "collapsed": false
   },
   "outputs": [
    {
     "data": {
      "text/html": [
       "<div>\n",
       "<table border=\"1\" class=\"dataframe\">\n",
       "  <thead>\n",
       "    <tr style=\"text-align: right;\">\n",
       "      <th></th>\n",
       "      <th>0</th>\n",
       "    </tr>\n",
       "  </thead>\n",
       "  <tbody>\n",
       "    <tr>\n",
       "      <th>count</th>\n",
       "      <td>95.000000</td>\n",
       "    </tr>\n",
       "    <tr>\n",
       "      <th>mean</th>\n",
       "      <td>0.660303</td>\n",
       "    </tr>\n",
       "    <tr>\n",
       "      <th>std</th>\n",
       "      <td>0.342348</td>\n",
       "    </tr>\n",
       "    <tr>\n",
       "      <th>min</th>\n",
       "      <td>0.117898</td>\n",
       "    </tr>\n",
       "    <tr>\n",
       "      <th>25%</th>\n",
       "      <td>0.423632</td>\n",
       "    </tr>\n",
       "    <tr>\n",
       "      <th>50%</th>\n",
       "      <td>0.614642</td>\n",
       "    </tr>\n",
       "    <tr>\n",
       "      <th>75%</th>\n",
       "      <td>0.827686</td>\n",
       "    </tr>\n",
       "    <tr>\n",
       "      <th>max</th>\n",
       "      <td>1.971936</td>\n",
       "    </tr>\n",
       "  </tbody>\n",
       "</table>\n",
       "</div>"
      ],
      "text/plain": [
       "               0\n",
       "count  95.000000\n",
       "mean    0.660303\n",
       "std     0.342348\n",
       "min     0.117898\n",
       "25%     0.423632\n",
       "50%     0.614642\n",
       "75%     0.827686\n",
       "max     1.971936"
      ]
     },
     "execution_count": 380,
     "metadata": {},
     "output_type": "execute_result"
    }
   ],
   "source": [
    "pd.DataFrame(Y).describe()"
   ]
  },
  {
   "cell_type": "code",
   "execution_count": 381,
   "metadata": {
    "collapsed": false
   },
   "outputs": [
    {
     "data": {
      "text/plain": [
       "<matplotlib.axes._subplots.AxesSubplot at 0x122dab850>"
      ]
     },
     "execution_count": 381,
     "metadata": {},
     "output_type": "execute_result"
    },
    {
     "data": {
      "image/png": "[encoded data removed]",
      "text/plain": [
       "<matplotlib.figure.Figure at 0x1249bbc10>"
      ]
     },
     "metadata": {},
     "output_type": "display_data"
    }
   ],
   "source": [
    "pd.DataFrame(Y).plot(legend=False)"
   ]
  },
  {
   "cell_type": "code",
   "execution_count": null,
   "metadata": {
    "collapsed": true
   },
   "outputs": [],
   "source": []
  },
  {
   "cell_type": "code",
   "execution_count": 382,
   "metadata": {
    "collapsed": false
   },
   "outputs": [
    {
     "data": {
      "text/plain": [
       "<matplotlib.axes._subplots.AxesSubplot at 0x1249a4710>"
      ]
     },
     "execution_count": 382,
     "metadata": {},
     "output_type": "execute_result"
    },
    {
     "data": {
      "image/png": "[encoded data removed]",
      "text/plain": [
       "<matplotlib.figure.Figure at 0x123df8a10>"
      ]
     },
     "metadata": {},
     "output_type": "display_data"
    }
   ],
   "source": [
    "pd.DataFrame(X)[[0,1,2,3,4,5]].T.plot(legend=False)"
   ]
  },
  {
   "cell_type": "code",
   "execution_count": 363,
   "metadata": {
    "collapsed": false
   },
   "outputs": [
    {
     "data": {
      "text/html": [
       "<div>\n",
       "<table border=\"1\" class=\"dataframe\">\n",
       "  <thead>\n",
       "    <tr style=\"text-align: right;\">\n",
       "      <th></th>\n",
       "      <th>0</th>\n",
       "      <th>1</th>\n",
       "      <th>2</th>\n",
       "      <th>3</th>\n",
       "      <th>4</th>\n",
       "      <th>5</th>\n",
       "      <th>6</th>\n",
       "      <th>7</th>\n",
       "      <th>8</th>\n",
       "      <th>9</th>\n",
       "      <th>10</th>\n",
       "      <th>11</th>\n",
       "    </tr>\n",
       "  </thead>\n",
       "  <tbody>\n",
       "    <tr>\n",
       "      <th>0</th>\n",
       "      <td>0.301025</td>\n",
       "      <td>0.370936</td>\n",
       "      <td>0.365748</td>\n",
       "      <td>0.456318</td>\n",
       "      <td>0.422244</td>\n",
       "      <td>0.349034</td>\n",
       "      <td>0.321586</td>\n",
       "      <td>0.447455</td>\n",
       "      <td>0.481452</td>\n",
       "      <td>0.346902</td>\n",
       "      <td>0.369798</td>\n",
       "      <td>0.324113</td>\n",
       "    </tr>\n",
       "    <tr>\n",
       "      <th>1</th>\n",
       "      <td>0.191067</td>\n",
       "      <td>0.235441</td>\n",
       "      <td>0.232148</td>\n",
       "      <td>0.289636</td>\n",
       "      <td>0.268008</td>\n",
       "      <td>0.221539</td>\n",
       "      <td>0.204118</td>\n",
       "      <td>0.284010</td>\n",
       "      <td>0.305589</td>\n",
       "      <td>0.220187</td>\n",
       "      <td>0.234719</td>\n",
       "      <td>0.205722</td>\n",
       "    </tr>\n",
       "    <tr>\n",
       "      <th>2</th>\n",
       "      <td>0.042508</td>\n",
       "      <td>0.052380</td>\n",
       "      <td>0.051648</td>\n",
       "      <td>0.064437</td>\n",
       "      <td>0.059626</td>\n",
       "      <td>0.049288</td>\n",
       "      <td>0.045412</td>\n",
       "      <td>0.063186</td>\n",
       "      <td>0.067987</td>\n",
       "      <td>0.048987</td>\n",
       "      <td>0.052220</td>\n",
       "      <td>0.045769</td>\n",
       "    </tr>\n",
       "    <tr>\n",
       "      <th>3</th>\n",
       "      <td>0.145898</td>\n",
       "      <td>0.179781</td>\n",
       "      <td>0.177267</td>\n",
       "      <td>0.221164</td>\n",
       "      <td>0.204649</td>\n",
       "      <td>0.169166</td>\n",
       "      <td>0.155863</td>\n",
       "      <td>0.216868</td>\n",
       "      <td>0.233345</td>\n",
       "      <td>0.168133</td>\n",
       "      <td>0.179230</td>\n",
       "      <td>0.157088</td>\n",
       "    </tr>\n",
       "    <tr>\n",
       "      <th>4</th>\n",
       "      <td>0.576494</td>\n",
       "      <td>0.710382</td>\n",
       "      <td>0.700446</td>\n",
       "      <td>0.873898</td>\n",
       "      <td>0.808642</td>\n",
       "      <td>0.668436</td>\n",
       "      <td>0.615872</td>\n",
       "      <td>0.856924</td>\n",
       "      <td>0.922033</td>\n",
       "      <td>0.664354</td>\n",
       "      <td>0.708202</td>\n",
       "      <td>0.620711</td>\n",
       "    </tr>\n",
       "    <tr>\n",
       "      <th>5</th>\n",
       "      <td>0.277854</td>\n",
       "      <td>0.342384</td>\n",
       "      <td>0.337596</td>\n",
       "      <td>0.421195</td>\n",
       "      <td>0.389743</td>\n",
       "      <td>0.322168</td>\n",
       "      <td>0.296833</td>\n",
       "      <td>0.413013</td>\n",
       "      <td>0.444394</td>\n",
       "      <td>0.320200</td>\n",
       "      <td>0.341333</td>\n",
       "      <td>0.299166</td>\n",
       "    </tr>\n",
       "    <tr>\n",
       "      <th>6</th>\n",
       "      <td>0.372349</td>\n",
       "      <td>0.458825</td>\n",
       "      <td>0.452408</td>\n",
       "      <td>0.564438</td>\n",
       "      <td>0.522290</td>\n",
       "      <td>0.431733</td>\n",
       "      <td>0.397783</td>\n",
       "      <td>0.553474</td>\n",
       "      <td>0.595527</td>\n",
       "      <td>0.429097</td>\n",
       "      <td>0.457417</td>\n",
       "      <td>0.400908</td>\n",
       "    </tr>\n",
       "    <tr>\n",
       "      <th>7</th>\n",
       "      <td>0.099863</td>\n",
       "      <td>0.123055</td>\n",
       "      <td>0.121334</td>\n",
       "      <td>0.151380</td>\n",
       "      <td>0.140076</td>\n",
       "      <td>0.115789</td>\n",
       "      <td>0.106684</td>\n",
       "      <td>0.148440</td>\n",
       "      <td>0.159718</td>\n",
       "      <td>0.115082</td>\n",
       "      <td>0.122678</td>\n",
       "      <td>0.107522</td>\n",
       "    </tr>\n",
       "    <tr>\n",
       "      <th>8</th>\n",
       "      <td>0.336755</td>\n",
       "      <td>0.414965</td>\n",
       "      <td>0.409161</td>\n",
       "      <td>0.510482</td>\n",
       "      <td>0.472362</td>\n",
       "      <td>0.390463</td>\n",
       "      <td>0.359758</td>\n",
       "      <td>0.500566</td>\n",
       "      <td>0.538599</td>\n",
       "      <td>0.388078</td>\n",
       "      <td>0.413691</td>\n",
       "      <td>0.362584</td>\n",
       "    </tr>\n",
       "    <tr>\n",
       "      <th>9</th>\n",
       "      <td>0.141821</td>\n",
       "      <td>0.174758</td>\n",
       "      <td>0.172314</td>\n",
       "      <td>0.214984</td>\n",
       "      <td>0.198931</td>\n",
       "      <td>0.164439</td>\n",
       "      <td>0.151508</td>\n",
       "      <td>0.210808</td>\n",
       "      <td>0.226825</td>\n",
       "      <td>0.163435</td>\n",
       "      <td>0.174222</td>\n",
       "      <td>0.152699</td>\n",
       "    </tr>\n",
       "    <tr>\n",
       "      <th>10</th>\n",
       "      <td>0.187937</td>\n",
       "      <td>0.231584</td>\n",
       "      <td>0.228345</td>\n",
       "      <td>0.284890</td>\n",
       "      <td>0.263617</td>\n",
       "      <td>0.217910</td>\n",
       "      <td>0.200774</td>\n",
       "      <td>0.279356</td>\n",
       "      <td>0.300582</td>\n",
       "      <td>0.216579</td>\n",
       "      <td>0.230873</td>\n",
       "      <td>0.202351</td>\n",
       "    </tr>\n",
       "    <tr>\n",
       "      <th>11</th>\n",
       "      <td>0.128308</td>\n",
       "      <td>0.158107</td>\n",
       "      <td>0.155896</td>\n",
       "      <td>0.194501</td>\n",
       "      <td>0.179977</td>\n",
       "      <td>0.148772</td>\n",
       "      <td>0.137073</td>\n",
       "      <td>0.190723</td>\n",
       "      <td>0.205214</td>\n",
       "      <td>0.147863</td>\n",
       "      <td>0.157622</td>\n",
       "      <td>0.138150</td>\n",
       "    </tr>\n",
       "    <tr>\n",
       "      <th>12</th>\n",
       "      <td>0.434653</td>\n",
       "      <td>0.535599</td>\n",
       "      <td>0.528108</td>\n",
       "      <td>0.658884</td>\n",
       "      <td>0.609683</td>\n",
       "      <td>0.503974</td>\n",
       "      <td>0.464343</td>\n",
       "      <td>0.646085</td>\n",
       "      <td>0.695175</td>\n",
       "      <td>0.500896</td>\n",
       "      <td>0.533955</td>\n",
       "      <td>0.467991</td>\n",
       "    </tr>\n",
       "    <tr>\n",
       "      <th>13</th>\n",
       "      <td>0.133009</td>\n",
       "      <td>0.163899</td>\n",
       "      <td>0.161607</td>\n",
       "      <td>0.201626</td>\n",
       "      <td>0.186570</td>\n",
       "      <td>0.154222</td>\n",
       "      <td>0.142094</td>\n",
       "      <td>0.197709</td>\n",
       "      <td>0.212731</td>\n",
       "      <td>0.153280</td>\n",
       "      <td>0.163396</td>\n",
       "      <td>0.143211</td>\n",
       "    </tr>\n",
       "    <tr>\n",
       "      <th>14</th>\n",
       "      <td>0.146398</td>\n",
       "      <td>0.180399</td>\n",
       "      <td>0.177876</td>\n",
       "      <td>0.221923</td>\n",
       "      <td>0.205351</td>\n",
       "      <td>0.169747</td>\n",
       "      <td>0.156398</td>\n",
       "      <td>0.217612</td>\n",
       "      <td>0.234146</td>\n",
       "      <td>0.168710</td>\n",
       "      <td>0.179845</td>\n",
       "      <td>0.157627</td>\n",
       "    </tr>\n",
       "    <tr>\n",
       "      <th>15</th>\n",
       "      <td>0.178335</td>\n",
       "      <td>0.219753</td>\n",
       "      <td>0.216679</td>\n",
       "      <td>0.270336</td>\n",
       "      <td>0.250149</td>\n",
       "      <td>0.206777</td>\n",
       "      <td>0.190517</td>\n",
       "      <td>0.265085</td>\n",
       "      <td>0.285226</td>\n",
       "      <td>0.205514</td>\n",
       "      <td>0.219078</td>\n",
       "      <td>0.192014</td>\n",
       "    </tr>\n",
       "    <tr>\n",
       "      <th>16</th>\n",
       "      <td>0.213726</td>\n",
       "      <td>0.263362</td>\n",
       "      <td>0.259679</td>\n",
       "      <td>0.323983</td>\n",
       "      <td>0.299791</td>\n",
       "      <td>0.247812</td>\n",
       "      <td>0.228324</td>\n",
       "      <td>0.317690</td>\n",
       "      <td>0.341828</td>\n",
       "      <td>0.246298</td>\n",
       "      <td>0.262554</td>\n",
       "      <td>0.230119</td>\n",
       "    </tr>\n",
       "    <tr>\n",
       "      <th>17</th>\n",
       "      <td>0.052788</td>\n",
       "      <td>0.065048</td>\n",
       "      <td>0.064138</td>\n",
       "      <td>0.080020</td>\n",
       "      <td>0.074045</td>\n",
       "      <td>0.061207</td>\n",
       "      <td>0.056394</td>\n",
       "      <td>0.078466</td>\n",
       "      <td>0.084428</td>\n",
       "      <td>0.060833</td>\n",
       "      <td>0.064848</td>\n",
       "      <td>0.056837</td>\n",
       "    </tr>\n",
       "    <tr>\n",
       "      <th>18</th>\n",
       "      <td>0.232142</td>\n",
       "      <td>0.286056</td>\n",
       "      <td>0.282055</td>\n",
       "      <td>0.351901</td>\n",
       "      <td>0.325623</td>\n",
       "      <td>0.269165</td>\n",
       "      <td>0.247999</td>\n",
       "      <td>0.345065</td>\n",
       "      <td>0.371283</td>\n",
       "      <td>0.267522</td>\n",
       "      <td>0.285178</td>\n",
       "      <td>0.249948</td>\n",
       "    </tr>\n",
       "    <tr>\n",
       "      <th>19</th>\n",
       "      <td>0.479437</td>\n",
       "      <td>0.590784</td>\n",
       "      <td>0.582521</td>\n",
       "      <td>0.726771</td>\n",
       "      <td>0.672501</td>\n",
       "      <td>0.555900</td>\n",
       "      <td>0.512186</td>\n",
       "      <td>0.712654</td>\n",
       "      <td>0.766802</td>\n",
       "      <td>0.552505</td>\n",
       "      <td>0.588971</td>\n",
       "      <td>0.516210</td>\n",
       "    </tr>\n",
       "    <tr>\n",
       "      <th>20</th>\n",
       "      <td>0.230261</td>\n",
       "      <td>0.283738</td>\n",
       "      <td>0.279769</td>\n",
       "      <td>0.349049</td>\n",
       "      <td>0.322984</td>\n",
       "      <td>0.266984</td>\n",
       "      <td>0.245989</td>\n",
       "      <td>0.342269</td>\n",
       "      <td>0.368274</td>\n",
       "      <td>0.265354</td>\n",
       "      <td>0.282867</td>\n",
       "      <td>0.247922</td>\n",
       "    </tr>\n",
       "    <tr>\n",
       "      <th>21</th>\n",
       "      <td>0.387604</td>\n",
       "      <td>0.477623</td>\n",
       "      <td>0.470943</td>\n",
       "      <td>0.587563</td>\n",
       "      <td>0.543688</td>\n",
       "      <td>0.449421</td>\n",
       "      <td>0.414080</td>\n",
       "      <td>0.576150</td>\n",
       "      <td>0.619926</td>\n",
       "      <td>0.446677</td>\n",
       "      <td>0.476157</td>\n",
       "      <td>0.417333</td>\n",
       "    </tr>\n",
       "    <tr>\n",
       "      <th>22</th>\n",
       "      <td>0.265118</td>\n",
       "      <td>0.326690</td>\n",
       "      <td>0.322120</td>\n",
       "      <td>0.401887</td>\n",
       "      <td>0.371877</td>\n",
       "      <td>0.307400</td>\n",
       "      <td>0.283227</td>\n",
       "      <td>0.394081</td>\n",
       "      <td>0.424023</td>\n",
       "      <td>0.305523</td>\n",
       "      <td>0.325687</td>\n",
       "      <td>0.285452</td>\n",
       "    </tr>\n",
       "    <tr>\n",
       "      <th>23</th>\n",
       "      <td>0.177147</td>\n",
       "      <td>0.218288</td>\n",
       "      <td>0.215235</td>\n",
       "      <td>0.268534</td>\n",
       "      <td>0.248482</td>\n",
       "      <td>0.205399</td>\n",
       "      <td>0.189247</td>\n",
       "      <td>0.263318</td>\n",
       "      <td>0.283325</td>\n",
       "      <td>0.204145</td>\n",
       "      <td>0.217618</td>\n",
       "      <td>0.190734</td>\n",
       "    </tr>\n",
       "    <tr>\n",
       "      <th>24</th>\n",
       "      <td>0.337383</td>\n",
       "      <td>0.415738</td>\n",
       "      <td>0.409924</td>\n",
       "      <td>0.511433</td>\n",
       "      <td>0.473243</td>\n",
       "      <td>0.391190</td>\n",
       "      <td>0.360428</td>\n",
       "      <td>0.501499</td>\n",
       "      <td>0.539603</td>\n",
       "      <td>0.388801</td>\n",
       "      <td>0.414462</td>\n",
       "      <td>0.363260</td>\n",
       "    </tr>\n",
       "    <tr>\n",
       "      <th>25</th>\n",
       "      <td>0.233854</td>\n",
       "      <td>0.288166</td>\n",
       "      <td>0.284135</td>\n",
       "      <td>0.354496</td>\n",
       "      <td>0.328025</td>\n",
       "      <td>0.271151</td>\n",
       "      <td>0.249828</td>\n",
       "      <td>0.347610</td>\n",
       "      <td>0.374022</td>\n",
       "      <td>0.269495</td>\n",
       "      <td>0.287281</td>\n",
       "      <td>0.251791</td>\n",
       "    </tr>\n",
       "    <tr>\n",
       "      <th>26</th>\n",
       "      <td>0.408952</td>\n",
       "      <td>0.503929</td>\n",
       "      <td>0.496881</td>\n",
       "      <td>0.619924</td>\n",
       "      <td>0.573632</td>\n",
       "      <td>0.474174</td>\n",
       "      <td>0.436886</td>\n",
       "      <td>0.607882</td>\n",
       "      <td>0.654069</td>\n",
       "      <td>0.471278</td>\n",
       "      <td>0.502382</td>\n",
       "      <td>0.440319</td>\n",
       "    </tr>\n",
       "    <tr>\n",
       "      <th>27</th>\n",
       "      <td>0.373262</td>\n",
       "      <td>0.459950</td>\n",
       "      <td>0.453517</td>\n",
       "      <td>0.565822</td>\n",
       "      <td>0.523570</td>\n",
       "      <td>0.432792</td>\n",
       "      <td>0.398758</td>\n",
       "      <td>0.554831</td>\n",
       "      <td>0.596988</td>\n",
       "      <td>0.430149</td>\n",
       "      <td>0.458539</td>\n",
       "      <td>0.401891</td>\n",
       "    </tr>\n",
       "    <tr>\n",
       "      <th>28</th>\n",
       "      <td>0.111997</td>\n",
       "      <td>0.138007</td>\n",
       "      <td>0.136077</td>\n",
       "      <td>0.169774</td>\n",
       "      <td>0.157096</td>\n",
       "      <td>0.129858</td>\n",
       "      <td>0.119647</td>\n",
       "      <td>0.166476</td>\n",
       "      <td>0.179125</td>\n",
       "      <td>0.129065</td>\n",
       "      <td>0.137584</td>\n",
       "      <td>0.120587</td>\n",
       "    </tr>\n",
       "    <tr>\n",
       "      <th>29</th>\n",
       "      <td>0.242720</td>\n",
       "      <td>0.299090</td>\n",
       "      <td>0.294907</td>\n",
       "      <td>0.367935</td>\n",
       "      <td>0.340460</td>\n",
       "      <td>0.281430</td>\n",
       "      <td>0.259299</td>\n",
       "      <td>0.360788</td>\n",
       "      <td>0.388201</td>\n",
       "      <td>0.279711</td>\n",
       "      <td>0.298172</td>\n",
       "      <td>0.261336</td>\n",
       "    </tr>\n",
       "    <tr>\n",
       "      <th>...</th>\n",
       "      <td>...</td>\n",
       "      <td>...</td>\n",
       "      <td>...</td>\n",
       "      <td>...</td>\n",
       "      <td>...</td>\n",
       "      <td>...</td>\n",
       "      <td>...</td>\n",
       "      <td>...</td>\n",
       "      <td>...</td>\n",
       "      <td>...</td>\n",
       "      <td>...</td>\n",
       "      <td>...</td>\n",
       "    </tr>\n",
       "    <tr>\n",
       "      <th>65</th>\n",
       "      <td>0.243854</td>\n",
       "      <td>0.300487</td>\n",
       "      <td>0.296285</td>\n",
       "      <td>0.369654</td>\n",
       "      <td>0.342051</td>\n",
       "      <td>0.282745</td>\n",
       "      <td>0.260510</td>\n",
       "      <td>0.362474</td>\n",
       "      <td>0.390014</td>\n",
       "      <td>0.281018</td>\n",
       "      <td>0.299565</td>\n",
       "      <td>0.262557</td>\n",
       "    </tr>\n",
       "    <tr>\n",
       "      <th>66</th>\n",
       "      <td>0.299428</td>\n",
       "      <td>0.368969</td>\n",
       "      <td>0.363808</td>\n",
       "      <td>0.453898</td>\n",
       "      <td>0.420004</td>\n",
       "      <td>0.347183</td>\n",
       "      <td>0.319881</td>\n",
       "      <td>0.445082</td>\n",
       "      <td>0.478899</td>\n",
       "      <td>0.345062</td>\n",
       "      <td>0.367836</td>\n",
       "      <td>0.322394</td>\n",
       "    </tr>\n",
       "    <tr>\n",
       "      <th>67</th>\n",
       "      <td>0.341297</td>\n",
       "      <td>0.420561</td>\n",
       "      <td>0.414679</td>\n",
       "      <td>0.517367</td>\n",
       "      <td>0.478733</td>\n",
       "      <td>0.395729</td>\n",
       "      <td>0.364610</td>\n",
       "      <td>0.507317</td>\n",
       "      <td>0.545863</td>\n",
       "      <td>0.393312</td>\n",
       "      <td>0.419271</td>\n",
       "      <td>0.367475</td>\n",
       "    </tr>\n",
       "    <tr>\n",
       "      <th>68</th>\n",
       "      <td>0.111865</td>\n",
       "      <td>0.137844</td>\n",
       "      <td>0.135917</td>\n",
       "      <td>0.169574</td>\n",
       "      <td>0.156911</td>\n",
       "      <td>0.129705</td>\n",
       "      <td>0.119506</td>\n",
       "      <td>0.166280</td>\n",
       "      <td>0.178914</td>\n",
       "      <td>0.128913</td>\n",
       "      <td>0.137421</td>\n",
       "      <td>0.120445</td>\n",
       "    </tr>\n",
       "    <tr>\n",
       "      <th>69</th>\n",
       "      <td>0.194762</td>\n",
       "      <td>0.239994</td>\n",
       "      <td>0.236637</td>\n",
       "      <td>0.295236</td>\n",
       "      <td>0.273190</td>\n",
       "      <td>0.225823</td>\n",
       "      <td>0.208065</td>\n",
       "      <td>0.289501</td>\n",
       "      <td>0.311498</td>\n",
       "      <td>0.224444</td>\n",
       "      <td>0.239257</td>\n",
       "      <td>0.209700</td>\n",
       "    </tr>\n",
       "    <tr>\n",
       "      <th>70</th>\n",
       "      <td>0.262573</td>\n",
       "      <td>0.323554</td>\n",
       "      <td>0.319028</td>\n",
       "      <td>0.398030</td>\n",
       "      <td>0.368308</td>\n",
       "      <td>0.304449</td>\n",
       "      <td>0.280508</td>\n",
       "      <td>0.390298</td>\n",
       "      <td>0.419953</td>\n",
       "      <td>0.302590</td>\n",
       "      <td>0.322561</td>\n",
       "      <td>0.282712</td>\n",
       "    </tr>\n",
       "    <tr>\n",
       "      <th>71</th>\n",
       "      <td>0.110907</td>\n",
       "      <td>0.136665</td>\n",
       "      <td>0.134754</td>\n",
       "      <td>0.168123</td>\n",
       "      <td>0.155568</td>\n",
       "      <td>0.128595</td>\n",
       "      <td>0.118483</td>\n",
       "      <td>0.164857</td>\n",
       "      <td>0.177383</td>\n",
       "      <td>0.127810</td>\n",
       "      <td>0.136246</td>\n",
       "      <td>0.119414</td>\n",
       "    </tr>\n",
       "    <tr>\n",
       "      <th>72</th>\n",
       "      <td>0.339669</td>\n",
       "      <td>0.418554</td>\n",
       "      <td>0.412701</td>\n",
       "      <td>0.514898</td>\n",
       "      <td>0.476449</td>\n",
       "      <td>0.393840</td>\n",
       "      <td>0.362870</td>\n",
       "      <td>0.504896</td>\n",
       "      <td>0.543258</td>\n",
       "      <td>0.391435</td>\n",
       "      <td>0.417270</td>\n",
       "      <td>0.365721</td>\n",
       "    </tr>\n",
       "    <tr>\n",
       "      <th>73</th>\n",
       "      <td>0.146232</td>\n",
       "      <td>0.180193</td>\n",
       "      <td>0.177673</td>\n",
       "      <td>0.221670</td>\n",
       "      <td>0.205118</td>\n",
       "      <td>0.169554</td>\n",
       "      <td>0.156220</td>\n",
       "      <td>0.217365</td>\n",
       "      <td>0.233880</td>\n",
       "      <td>0.168518</td>\n",
       "      <td>0.179640</td>\n",
       "      <td>0.157448</td>\n",
       "    </tr>\n",
       "    <tr>\n",
       "      <th>74</th>\n",
       "      <td>0.339282</td>\n",
       "      <td>0.418079</td>\n",
       "      <td>0.412231</td>\n",
       "      <td>0.514312</td>\n",
       "      <td>0.475907</td>\n",
       "      <td>0.393393</td>\n",
       "      <td>0.362457</td>\n",
       "      <td>0.504322</td>\n",
       "      <td>0.542641</td>\n",
       "      <td>0.390990</td>\n",
       "      <td>0.416796</td>\n",
       "      <td>0.365305</td>\n",
       "    </tr>\n",
       "    <tr>\n",
       "      <th>75</th>\n",
       "      <td>0.237208</td>\n",
       "      <td>0.292298</td>\n",
       "      <td>0.288210</td>\n",
       "      <td>0.359580</td>\n",
       "      <td>0.332729</td>\n",
       "      <td>0.275039</td>\n",
       "      <td>0.253411</td>\n",
       "      <td>0.352595</td>\n",
       "      <td>0.379386</td>\n",
       "      <td>0.273360</td>\n",
       "      <td>0.291401</td>\n",
       "      <td>0.255402</td>\n",
       "    </tr>\n",
       "    <tr>\n",
       "      <th>76</th>\n",
       "      <td>0.054897</td>\n",
       "      <td>0.067647</td>\n",
       "      <td>0.066701</td>\n",
       "      <td>0.083218</td>\n",
       "      <td>0.077004</td>\n",
       "      <td>0.063653</td>\n",
       "      <td>0.058647</td>\n",
       "      <td>0.081602</td>\n",
       "      <td>0.087802</td>\n",
       "      <td>0.063264</td>\n",
       "      <td>0.067439</td>\n",
       "      <td>0.059108</td>\n",
       "    </tr>\n",
       "    <tr>\n",
       "      <th>77</th>\n",
       "      <td>0.227789</td>\n",
       "      <td>0.280692</td>\n",
       "      <td>0.276766</td>\n",
       "      <td>0.345301</td>\n",
       "      <td>0.319517</td>\n",
       "      <td>0.264118</td>\n",
       "      <td>0.243348</td>\n",
       "      <td>0.338594</td>\n",
       "      <td>0.364321</td>\n",
       "      <td>0.262505</td>\n",
       "      <td>0.279830</td>\n",
       "      <td>0.245260</td>\n",
       "    </tr>\n",
       "    <tr>\n",
       "      <th>78</th>\n",
       "      <td>0.220278</td>\n",
       "      <td>0.271436</td>\n",
       "      <td>0.267640</td>\n",
       "      <td>0.333915</td>\n",
       "      <td>0.308981</td>\n",
       "      <td>0.255409</td>\n",
       "      <td>0.235324</td>\n",
       "      <td>0.327429</td>\n",
       "      <td>0.352308</td>\n",
       "      <td>0.253849</td>\n",
       "      <td>0.270603</td>\n",
       "      <td>0.237173</td>\n",
       "    </tr>\n",
       "    <tr>\n",
       "      <th>79</th>\n",
       "      <td>0.122426</td>\n",
       "      <td>0.150859</td>\n",
       "      <td>0.148749</td>\n",
       "      <td>0.185584</td>\n",
       "      <td>0.171726</td>\n",
       "      <td>0.141951</td>\n",
       "      <td>0.130788</td>\n",
       "      <td>0.181979</td>\n",
       "      <td>0.195806</td>\n",
       "      <td>0.141084</td>\n",
       "      <td>0.150396</td>\n",
       "      <td>0.131816</td>\n",
       "    </tr>\n",
       "    <tr>\n",
       "      <th>80</th>\n",
       "      <td>0.225239</td>\n",
       "      <td>0.277550</td>\n",
       "      <td>0.273668</td>\n",
       "      <td>0.341436</td>\n",
       "      <td>0.315940</td>\n",
       "      <td>0.261161</td>\n",
       "      <td>0.240624</td>\n",
       "      <td>0.334804</td>\n",
       "      <td>0.360243</td>\n",
       "      <td>0.259567</td>\n",
       "      <td>0.276698</td>\n",
       "      <td>0.242515</td>\n",
       "    </tr>\n",
       "    <tr>\n",
       "      <th>81</th>\n",
       "      <td>0.157551</td>\n",
       "      <td>0.194142</td>\n",
       "      <td>0.191426</td>\n",
       "      <td>0.238829</td>\n",
       "      <td>0.220995</td>\n",
       "      <td>0.182678</td>\n",
       "      <td>0.168313</td>\n",
       "      <td>0.234190</td>\n",
       "      <td>0.251984</td>\n",
       "      <td>0.181563</td>\n",
       "      <td>0.193546</td>\n",
       "      <td>0.169635</td>\n",
       "    </tr>\n",
       "    <tr>\n",
       "      <th>82</th>\n",
       "      <td>0.155822</td>\n",
       "      <td>0.192011</td>\n",
       "      <td>0.189326</td>\n",
       "      <td>0.236209</td>\n",
       "      <td>0.218570</td>\n",
       "      <td>0.180674</td>\n",
       "      <td>0.166466</td>\n",
       "      <td>0.231620</td>\n",
       "      <td>0.249219</td>\n",
       "      <td>0.179570</td>\n",
       "      <td>0.191422</td>\n",
       "      <td>0.167774</td>\n",
       "    </tr>\n",
       "    <tr>\n",
       "      <th>83</th>\n",
       "      <td>0.257327</td>\n",
       "      <td>0.317089</td>\n",
       "      <td>0.312654</td>\n",
       "      <td>0.390077</td>\n",
       "      <td>0.360949</td>\n",
       "      <td>0.298366</td>\n",
       "      <td>0.274904</td>\n",
       "      <td>0.382500</td>\n",
       "      <td>0.411563</td>\n",
       "      <td>0.296544</td>\n",
       "      <td>0.316116</td>\n",
       "      <td>0.277064</td>\n",
       "    </tr>\n",
       "    <tr>\n",
       "      <th>84</th>\n",
       "      <td>0.189401</td>\n",
       "      <td>0.233388</td>\n",
       "      <td>0.230124</td>\n",
       "      <td>0.287110</td>\n",
       "      <td>0.265670</td>\n",
       "      <td>0.219608</td>\n",
       "      <td>0.202338</td>\n",
       "      <td>0.281533</td>\n",
       "      <td>0.302924</td>\n",
       "      <td>0.218266</td>\n",
       "      <td>0.232672</td>\n",
       "      <td>0.203928</td>\n",
       "    </tr>\n",
       "    <tr>\n",
       "      <th>85</th>\n",
       "      <td>0.426909</td>\n",
       "      <td>0.526056</td>\n",
       "      <td>0.518698</td>\n",
       "      <td>0.647144</td>\n",
       "      <td>0.598820</td>\n",
       "      <td>0.494994</td>\n",
       "      <td>0.456069</td>\n",
       "      <td>0.634574</td>\n",
       "      <td>0.682788</td>\n",
       "      <td>0.491971</td>\n",
       "      <td>0.524441</td>\n",
       "      <td>0.459652</td>\n",
       "    </tr>\n",
       "    <tr>\n",
       "      <th>86</th>\n",
       "      <td>0.166049</td>\n",
       "      <td>0.204613</td>\n",
       "      <td>0.201751</td>\n",
       "      <td>0.251711</td>\n",
       "      <td>0.232915</td>\n",
       "      <td>0.192531</td>\n",
       "      <td>0.177391</td>\n",
       "      <td>0.246821</td>\n",
       "      <td>0.265575</td>\n",
       "      <td>0.191355</td>\n",
       "      <td>0.203985</td>\n",
       "      <td>0.178785</td>\n",
       "    </tr>\n",
       "    <tr>\n",
       "      <th>87</th>\n",
       "      <td>0.495837</td>\n",
       "      <td>0.610992</td>\n",
       "      <td>0.602447</td>\n",
       "      <td>0.751631</td>\n",
       "      <td>0.695504</td>\n",
       "      <td>0.574915</td>\n",
       "      <td>0.529705</td>\n",
       "      <td>0.737031</td>\n",
       "      <td>0.793031</td>\n",
       "      <td>0.571404</td>\n",
       "      <td>0.609117</td>\n",
       "      <td>0.533868</td>\n",
       "    </tr>\n",
       "    <tr>\n",
       "      <th>88</th>\n",
       "      <td>0.277324</td>\n",
       "      <td>0.341731</td>\n",
       "      <td>0.336952</td>\n",
       "      <td>0.420391</td>\n",
       "      <td>0.388999</td>\n",
       "      <td>0.321553</td>\n",
       "      <td>0.296267</td>\n",
       "      <td>0.412226</td>\n",
       "      <td>0.443547</td>\n",
       "      <td>0.319590</td>\n",
       "      <td>0.340682</td>\n",
       "      <td>0.298595</td>\n",
       "    </tr>\n",
       "    <tr>\n",
       "      <th>89</th>\n",
       "      <td>0.081497</td>\n",
       "      <td>0.100424</td>\n",
       "      <td>0.099019</td>\n",
       "      <td>0.123539</td>\n",
       "      <td>0.114314</td>\n",
       "      <td>0.094494</td>\n",
       "      <td>0.087063</td>\n",
       "      <td>0.121140</td>\n",
       "      <td>0.130344</td>\n",
       "      <td>0.093917</td>\n",
       "      <td>0.100116</td>\n",
       "      <td>0.087747</td>\n",
       "    </tr>\n",
       "    <tr>\n",
       "      <th>90</th>\n",
       "      <td>0.294432</td>\n",
       "      <td>0.362813</td>\n",
       "      <td>0.357738</td>\n",
       "      <td>0.446325</td>\n",
       "      <td>0.412997</td>\n",
       "      <td>0.341390</td>\n",
       "      <td>0.314544</td>\n",
       "      <td>0.437656</td>\n",
       "      <td>0.470909</td>\n",
       "      <td>0.339305</td>\n",
       "      <td>0.361699</td>\n",
       "      <td>0.317015</td>\n",
       "    </tr>\n",
       "    <tr>\n",
       "      <th>91</th>\n",
       "      <td>0.081543</td>\n",
       "      <td>0.100481</td>\n",
       "      <td>0.099075</td>\n",
       "      <td>0.123610</td>\n",
       "      <td>0.114379</td>\n",
       "      <td>0.094548</td>\n",
       "      <td>0.087113</td>\n",
       "      <td>0.121209</td>\n",
       "      <td>0.130418</td>\n",
       "      <td>0.093970</td>\n",
       "      <td>0.100172</td>\n",
       "      <td>0.087797</td>\n",
       "    </tr>\n",
       "    <tr>\n",
       "      <th>92</th>\n",
       "      <td>0.167414</td>\n",
       "      <td>0.206295</td>\n",
       "      <td>0.203410</td>\n",
       "      <td>0.253780</td>\n",
       "      <td>0.234829</td>\n",
       "      <td>0.194114</td>\n",
       "      <td>0.178849</td>\n",
       "      <td>0.248851</td>\n",
       "      <td>0.267758</td>\n",
       "      <td>0.192928</td>\n",
       "      <td>0.205662</td>\n",
       "      <td>0.180255</td>\n",
       "    </tr>\n",
       "    <tr>\n",
       "      <th>93</th>\n",
       "      <td>0.175844</td>\n",
       "      <td>0.216683</td>\n",
       "      <td>0.213652</td>\n",
       "      <td>0.266559</td>\n",
       "      <td>0.246654</td>\n",
       "      <td>0.203888</td>\n",
       "      <td>0.187855</td>\n",
       "      <td>0.261381</td>\n",
       "      <td>0.281241</td>\n",
       "      <td>0.202643</td>\n",
       "      <td>0.216018</td>\n",
       "      <td>0.189331</td>\n",
       "    </tr>\n",
       "    <tr>\n",
       "      <th>94</th>\n",
       "      <td>0.152028</td>\n",
       "      <td>0.187335</td>\n",
       "      <td>0.184715</td>\n",
       "      <td>0.230456</td>\n",
       "      <td>0.213248</td>\n",
       "      <td>0.176274</td>\n",
       "      <td>0.162412</td>\n",
       "      <td>0.225980</td>\n",
       "      <td>0.243150</td>\n",
       "      <td>0.175197</td>\n",
       "      <td>0.186760</td>\n",
       "      <td>0.163688</td>\n",
       "    </tr>\n",
       "  </tbody>\n",
       "</table>\n",
       "<p>95 rows × 12 columns</p>\n",
       "</div>"
      ],
      "text/plain": [
       "          0         1         2         3         4         5         6   \\\n",
       "0   0.301025  0.370936  0.365748  0.456318  0.422244  0.349034  0.321586   \n",
       "1   0.191067  0.235441  0.232148  0.289636  0.268008  0.221539  0.204118   \n",
       "2   0.042508  0.052380  0.051648  0.064437  0.059626  0.049288  0.045412   \n",
       "3   0.145898  0.179781  0.177267  0.221164  0.204649  0.169166  0.155863   \n",
       "4   0.576494  0.710382  0.700446  0.873898  0.808642  0.668436  0.615872   \n",
       "5   0.277854  0.342384  0.337596  0.421195  0.389743  0.322168  0.296833   \n",
       "6   0.372349  0.458825  0.452408  0.564438  0.522290  0.431733  0.397783   \n",
       "7   0.099863  0.123055  0.121334  0.151380  0.140076  0.115789  0.106684   \n",
       "8   0.336755  0.414965  0.409161  0.510482  0.472362  0.390463  0.359758   \n",
       "9   0.141821  0.174758  0.172314  0.214984  0.198931  0.164439  0.151508   \n",
       "10  0.187937  0.231584  0.228345  0.284890  0.263617  0.217910  0.200774   \n",
       "11  0.128308  0.158107  0.155896  0.194501  0.179977  0.148772  0.137073   \n",
       "12  0.434653  0.535599  0.528108  0.658884  0.609683  0.503974  0.464343   \n",
       "13  0.133009  0.163899  0.161607  0.201626  0.186570  0.154222  0.142094   \n",
       "14  0.146398  0.180399  0.177876  0.221923  0.205351  0.169747  0.156398   \n",
       "15  0.178335  0.219753  0.216679  0.270336  0.250149  0.206777  0.190517   \n",
       "16  0.213726  0.263362  0.259679  0.323983  0.299791  0.247812  0.228324   \n",
       "17  0.052788  0.065048  0.064138  0.080020  0.074045  0.061207  0.056394   \n",
       "18  0.232142  0.286056  0.282055  0.351901  0.325623  0.269165  0.247999   \n",
       "19  0.479437  0.590784  0.582521  0.726771  0.672501  0.555900  0.512186   \n",
       "20  0.230261  0.283738  0.279769  0.349049  0.322984  0.266984  0.245989   \n",
       "21  0.387604  0.477623  0.470943  0.587563  0.543688  0.449421  0.414080   \n",
       "22  0.265118  0.326690  0.322120  0.401887  0.371877  0.307400  0.283227   \n",
       "23  0.177147  0.218288  0.215235  0.268534  0.248482  0.205399  0.189247   \n",
       "24  0.337383  0.415738  0.409924  0.511433  0.473243  0.391190  0.360428   \n",
       "25  0.233854  0.288166  0.284135  0.354496  0.328025  0.271151  0.249828   \n",
       "26  0.408952  0.503929  0.496881  0.619924  0.573632  0.474174  0.436886   \n",
       "27  0.373262  0.459950  0.453517  0.565822  0.523570  0.432792  0.398758   \n",
       "28  0.111997  0.138007  0.136077  0.169774  0.157096  0.129858  0.119647   \n",
       "29  0.242720  0.299090  0.294907  0.367935  0.340460  0.281430  0.259299   \n",
       "..       ...       ...       ...       ...       ...       ...       ...   \n",
       "65  0.243854  0.300487  0.296285  0.369654  0.342051  0.282745  0.260510   \n",
       "66  0.299428  0.368969  0.363808  0.453898  0.420004  0.347183  0.319881   \n",
       "67  0.341297  0.420561  0.414679  0.517367  0.478733  0.395729  0.364610   \n",
       "68  0.111865  0.137844  0.135917  0.169574  0.156911  0.129705  0.119506   \n",
       "69  0.194762  0.239994  0.236637  0.295236  0.273190  0.225823  0.208065   \n",
       "70  0.262573  0.323554  0.319028  0.398030  0.368308  0.304449  0.280508   \n",
       "71  0.110907  0.136665  0.134754  0.168123  0.155568  0.128595  0.118483   \n",
       "72  0.339669  0.418554  0.412701  0.514898  0.476449  0.393840  0.362870   \n",
       "73  0.146232  0.180193  0.177673  0.221670  0.205118  0.169554  0.156220   \n",
       "74  0.339282  0.418079  0.412231  0.514312  0.475907  0.393393  0.362457   \n",
       "75  0.237208  0.292298  0.288210  0.359580  0.332729  0.275039  0.253411   \n",
       "76  0.054897  0.067647  0.066701  0.083218  0.077004  0.063653  0.058647   \n",
       "77  0.227789  0.280692  0.276766  0.345301  0.319517  0.264118  0.243348   \n",
       "78  0.220278  0.271436  0.267640  0.333915  0.308981  0.255409  0.235324   \n",
       "79  0.122426  0.150859  0.148749  0.185584  0.171726  0.141951  0.130788   \n",
       "80  0.225239  0.277550  0.273668  0.341436  0.315940  0.261161  0.240624   \n",
       "81  0.157551  0.194142  0.191426  0.238829  0.220995  0.182678  0.168313   \n",
       "82  0.155822  0.192011  0.189326  0.236209  0.218570  0.180674  0.166466   \n",
       "83  0.257327  0.317089  0.312654  0.390077  0.360949  0.298366  0.274904   \n",
       "84  0.189401  0.233388  0.230124  0.287110  0.265670  0.219608  0.202338   \n",
       "85  0.426909  0.526056  0.518698  0.647144  0.598820  0.494994  0.456069   \n",
       "86  0.166049  0.204613  0.201751  0.251711  0.232915  0.192531  0.177391   \n",
       "87  0.495837  0.610992  0.602447  0.751631  0.695504  0.574915  0.529705   \n",
       "88  0.277324  0.341731  0.336952  0.420391  0.388999  0.321553  0.296267   \n",
       "89  0.081497  0.100424  0.099019  0.123539  0.114314  0.094494  0.087063   \n",
       "90  0.294432  0.362813  0.357738  0.446325  0.412997  0.341390  0.314544   \n",
       "91  0.081543  0.100481  0.099075  0.123610  0.114379  0.094548  0.087113   \n",
       "92  0.167414  0.206295  0.203410  0.253780  0.234829  0.194114  0.178849   \n",
       "93  0.175844  0.216683  0.213652  0.266559  0.246654  0.203888  0.187855   \n",
       "94  0.152028  0.187335  0.184715  0.230456  0.213248  0.176274  0.162412   \n",
       "\n",
       "          7         8         9         10        11  \n",
       "0   0.447455  0.481452  0.346902  0.369798  0.324113  \n",
       "1   0.284010  0.305589  0.220187  0.234719  0.205722  \n",
       "2   0.063186  0.067987  0.048987  0.052220  0.045769  \n",
       "3   0.216868  0.233345  0.168133  0.179230  0.157088  \n",
       "4   0.856924  0.922033  0.664354  0.708202  0.620711  \n",
       "5   0.413013  0.444394  0.320200  0.341333  0.299166  \n",
       "6   0.553474  0.595527  0.429097  0.457417  0.400908  \n",
       "7   0.148440  0.159718  0.115082  0.122678  0.107522  \n",
       "8   0.500566  0.538599  0.388078  0.413691  0.362584  \n",
       "9   0.210808  0.226825  0.163435  0.174222  0.152699  \n",
       "10  0.279356  0.300582  0.216579  0.230873  0.202351  \n",
       "11  0.190723  0.205214  0.147863  0.157622  0.138150  \n",
       "12  0.646085  0.695175  0.500896  0.533955  0.467991  \n",
       "13  0.197709  0.212731  0.153280  0.163396  0.143211  \n",
       "14  0.217612  0.234146  0.168710  0.179845  0.157627  \n",
       "15  0.265085  0.285226  0.205514  0.219078  0.192014  \n",
       "16  0.317690  0.341828  0.246298  0.262554  0.230119  \n",
       "17  0.078466  0.084428  0.060833  0.064848  0.056837  \n",
       "18  0.345065  0.371283  0.267522  0.285178  0.249948  \n",
       "19  0.712654  0.766802  0.552505  0.588971  0.516210  \n",
       "20  0.342269  0.368274  0.265354  0.282867  0.247922  \n",
       "21  0.576150  0.619926  0.446677  0.476157  0.417333  \n",
       "22  0.394081  0.424023  0.305523  0.325687  0.285452  \n",
       "23  0.263318  0.283325  0.204145  0.217618  0.190734  \n",
       "24  0.501499  0.539603  0.388801  0.414462  0.363260  \n",
       "25  0.347610  0.374022  0.269495  0.287281  0.251791  \n",
       "26  0.607882  0.654069  0.471278  0.502382  0.440319  \n",
       "27  0.554831  0.596988  0.430149  0.458539  0.401891  \n",
       "28  0.166476  0.179125  0.129065  0.137584  0.120587  \n",
       "29  0.360788  0.388201  0.279711  0.298172  0.261336  \n",
       "..       ...       ...       ...       ...       ...  \n",
       "65  0.362474  0.390014  0.281018  0.299565  0.262557  \n",
       "66  0.445082  0.478899  0.345062  0.367836  0.322394  \n",
       "67  0.507317  0.545863  0.393312  0.419271  0.367475  \n",
       "68  0.166280  0.178914  0.128913  0.137421  0.120445  \n",
       "69  0.289501  0.311498  0.224444  0.239257  0.209700  \n",
       "70  0.390298  0.419953  0.302590  0.322561  0.282712  \n",
       "71  0.164857  0.177383  0.127810  0.136246  0.119414  \n",
       "72  0.504896  0.543258  0.391435  0.417270  0.365721  \n",
       "73  0.217365  0.233880  0.168518  0.179640  0.157448  \n",
       "74  0.504322  0.542641  0.390990  0.416796  0.365305  \n",
       "75  0.352595  0.379386  0.273360  0.291401  0.255402  \n",
       "76  0.081602  0.087802  0.063264  0.067439  0.059108  \n",
       "77  0.338594  0.364321  0.262505  0.279830  0.245260  \n",
       "78  0.327429  0.352308  0.253849  0.270603  0.237173  \n",
       "79  0.181979  0.195806  0.141084  0.150396  0.131816  \n",
       "80  0.334804  0.360243  0.259567  0.276698  0.242515  \n",
       "81  0.234190  0.251984  0.181563  0.193546  0.169635  \n",
       "82  0.231620  0.249219  0.179570  0.191422  0.167774  \n",
       "83  0.382500  0.411563  0.296544  0.316116  0.277064  \n",
       "84  0.281533  0.302924  0.218266  0.232672  0.203928  \n",
       "85  0.634574  0.682788  0.491971  0.524441  0.459652  \n",
       "86  0.246821  0.265575  0.191355  0.203985  0.178785  \n",
       "87  0.737031  0.793031  0.571404  0.609117  0.533868  \n",
       "88  0.412226  0.443547  0.319590  0.340682  0.298595  \n",
       "89  0.121140  0.130344  0.093917  0.100116  0.087747  \n",
       "90  0.437656  0.470909  0.339305  0.361699  0.317015  \n",
       "91  0.121209  0.130418  0.093970  0.100172  0.087797  \n",
       "92  0.248851  0.267758  0.192928  0.205662  0.180255  \n",
       "93  0.261381  0.281241  0.202643  0.216018  0.189331  \n",
       "94  0.225980  0.243150  0.175197  0.186760  0.163688  \n",
       "\n",
       "[95 rows x 12 columns]"
      ]
     },
     "execution_count": 363,
     "metadata": {},
     "output_type": "execute_result"
    }
   ],
   "source": [
    "pd.DataFrame(Y*X)"
   ]
  },
  {
   "cell_type": "code",
   "execution_count": 348,
   "metadata": {
    "collapsed": false
   },
   "outputs": [
    {
     "data": {
      "text/plain": [
       "[<matplotlib.lines.Line2D at 0x123b51850>]"
      ]
     },
     "execution_count": 348,
     "metadata": {},
     "output_type": "execute_result"
    },
    {
     "data": {
      "image/png": "[encoded data removed]",
      "text/plain": [
       "<matplotlib.figure.Figure at 0x1239bf3d0>"
      ]
     },
     "metadata": {},
     "output_type": "display_data"
    }
   ],
   "source": [
    "plt.plot(pd.DataFrame(Y*X)[0]-pd.DataFrame(X_normalised['hvac_5'].values)[0].values)"
   ]
  },
  {
   "cell_type": "code",
   "execution_count": 349,
   "metadata": {
    "collapsed": false
   },
   "outputs": [
    {
     "data": {
      "text/plain": [
       "0.061689182092503847"
      ]
     },
     "execution_count": 349,
     "metadata": {},
     "output_type": "execute_result"
    }
   ],
   "source": [
    "from sklearn.metrics import mean_squared_error\n",
    "np.sqrt(mean_squared_error(Y*X, X_normalised.values))\n",
    "#pd.DataFrame(Y*X)-pd.DataFrame(X_normalised.values)."
   ]
  },
  {
   "cell_type": "code",
   "execution_count": 289,
   "metadata": {
    "collapsed": false
   },
   "outputs": [
    {
     "data": {
      "text/plain": [
       "dw        68.495285\n",
       "fridge    41.210222\n",
       "hvac      23.297621\n",
       "mw        60.897398\n",
       "oven      63.322534\n",
       "wm        47.359437\n",
       "dtype: float64"
      ]
     },
     "execution_count": 289,
     "metadata": {},
     "output_type": "execute_result"
    }
   ],
   "source": [
    "pd.DataFrame(results).min()"
   ]
  },
  {
   "cell_type": "code",
   "execution_count": 38,
   "metadata": {
    "collapsed": false
   },
   "outputs": [
    {
     "data": {
      "text/html": [
       "<div>\n",
       "<table border=\"1\" class=\"dataframe\">\n",
       "  <thead>\n",
       "    <tr style=\"text-align: right;\">\n",
       "      <th></th>\n",
       "      <th>0</th>\n",
       "      <th>1</th>\n",
       "      <th>2</th>\n",
       "    </tr>\n",
       "  </thead>\n",
       "  <tbody>\n",
       "    <tr>\n",
       "      <th>count</th>\n",
       "      <td>95.000000</td>\n",
       "      <td>95.000000</td>\n",
       "      <td>95.000000</td>\n",
       "    </tr>\n",
       "    <tr>\n",
       "      <th>mean</th>\n",
       "      <td>2298.792724</td>\n",
       "      <td>2590.036973</td>\n",
       "      <td>2493.324328</td>\n",
       "    </tr>\n",
       "    <tr>\n",
       "      <th>std</th>\n",
       "      <td>1366.027314</td>\n",
       "      <td>1337.211355</td>\n",
       "      <td>1312.536172</td>\n",
       "    </tr>\n",
       "    <tr>\n",
       "      <th>min</th>\n",
       "      <td>74.457818</td>\n",
       "      <td>1.682887</td>\n",
       "      <td>90.212011</td>\n",
       "    </tr>\n",
       "    <tr>\n",
       "      <th>25%</th>\n",
       "      <td>1070.234162</td>\n",
       "      <td>1441.592814</td>\n",
       "      <td>1509.352575</td>\n",
       "    </tr>\n",
       "    <tr>\n",
       "      <th>50%</th>\n",
       "      <td>2262.878502</td>\n",
       "      <td>2754.591065</td>\n",
       "      <td>2543.472756</td>\n",
       "    </tr>\n",
       "    <tr>\n",
       "      <th>75%</th>\n",
       "      <td>3528.501643</td>\n",
       "      <td>3792.788742</td>\n",
       "      <td>3639.383733</td>\n",
       "    </tr>\n",
       "    <tr>\n",
       "      <th>max</th>\n",
       "      <td>4573.696706</td>\n",
       "      <td>4574.483307</td>\n",
       "      <td>4572.175328</td>\n",
       "    </tr>\n",
       "  </tbody>\n",
       "</table>\n",
       "</div>"
      ],
      "text/plain": [
       "                 0            1            2\n",
       "count    95.000000    95.000000    95.000000\n",
       "mean   2298.792724  2590.036973  2493.324328\n",
       "std    1366.027314  1337.211355  1312.536172\n",
       "min      74.457818     1.682887    90.212011\n",
       "25%    1070.234162  1441.592814  1509.352575\n",
       "50%    2262.878502  2754.591065  2543.472756\n",
       "75%    3528.501643  3792.788742  3639.383733\n",
       "max    4573.696706  4574.483307  4572.175328"
      ]
     },
     "execution_count": 38,
     "metadata": {},
     "output_type": "execute_result"
    }
   ],
   "source": [
    "m = len(A)\n",
    "n = len(A.columns)\n",
    "k=3\n",
    "Y_init = A.max().max()*np.random.rand(m, k)\n",
    "pd.DataFrame(Y_init).describe()"
   ]
  },
  {
   "cell_type": "code",
   "execution_count": 39,
   "metadata": {
    "collapsed": false
   },
   "outputs": [
    {
     "data": {
      "text/html": [
       "<div>\n",
       "<table border=\"1\" class=\"dataframe\">\n",
       "  <thead>\n",
       "    <tr style=\"text-align: right;\">\n",
       "      <th></th>\n",
       "      <th>hvac_5</th>\n",
       "      <th>hvac_6</th>\n",
       "      <th>hvac_7</th>\n",
       "      <th>hvac_8</th>\n",
       "      <th>hvac_9</th>\n",
       "      <th>hvac_10</th>\n",
       "      <th>aggregate_5</th>\n",
       "      <th>aggregate_6</th>\n",
       "      <th>aggregate_7</th>\n",
       "      <th>aggregate_8</th>\n",
       "      <th>aggregate_9</th>\n",
       "      <th>aggregate_10</th>\n",
       "    </tr>\n",
       "  </thead>\n",
       "  <tbody>\n",
       "    <tr>\n",
       "      <th>count</th>\n",
       "      <td>94.000000</td>\n",
       "      <td>94.000000</td>\n",
       "      <td>94.000000</td>\n",
       "      <td>94.000000</td>\n",
       "      <td>94.000000</td>\n",
       "      <td>94.000000</td>\n",
       "      <td>95.000000</td>\n",
       "      <td>95.000000</td>\n",
       "      <td>95.000000</td>\n",
       "      <td>95.000000</td>\n",
       "      <td>95.000000</td>\n",
       "      <td>95.000000</td>\n",
       "    </tr>\n",
       "    <tr>\n",
       "      <th>mean</th>\n",
       "      <td>204.697577</td>\n",
       "      <td>410.772775</td>\n",
       "      <td>634.932650</td>\n",
       "      <td>703.427444</td>\n",
       "      <td>496.814433</td>\n",
       "      <td>243.957545</td>\n",
       "      <td>894.636166</td>\n",
       "      <td>1117.168094</td>\n",
       "      <td>1435.362421</td>\n",
       "      <td>1570.281882</td>\n",
       "      <td>1260.032510</td>\n",
       "      <td>935.727852</td>\n",
       "    </tr>\n",
       "    <tr>\n",
       "      <th>std</th>\n",
       "      <td>152.308577</td>\n",
       "      <td>249.724508</td>\n",
       "      <td>348.390233</td>\n",
       "      <td>343.614402</td>\n",
       "      <td>252.160506</td>\n",
       "      <td>152.017218</td>\n",
       "      <td>526.052474</td>\n",
       "      <td>563.679895</td>\n",
       "      <td>699.529397</td>\n",
       "      <td>762.214791</td>\n",
       "      <td>607.968624</td>\n",
       "      <td>515.139351</td>\n",
       "    </tr>\n",
       "    <tr>\n",
       "      <th>min</th>\n",
       "      <td>3.054133</td>\n",
       "      <td>2.404883</td>\n",
       "      <td>9.934549</td>\n",
       "      <td>21.709467</td>\n",
       "      <td>40.952965</td>\n",
       "      <td>8.885633</td>\n",
       "      <td>182.287521</td>\n",
       "      <td>41.541668</td>\n",
       "      <td>174.545334</td>\n",
       "      <td>485.617706</td>\n",
       "      <td>386.186584</td>\n",
       "      <td>178.216537</td>\n",
       "    </tr>\n",
       "    <tr>\n",
       "      <th>25%</th>\n",
       "      <td>84.733067</td>\n",
       "      <td>239.801712</td>\n",
       "      <td>409.715370</td>\n",
       "      <td>469.171234</td>\n",
       "      <td>319.873489</td>\n",
       "      <td>144.406563</td>\n",
       "      <td>538.820801</td>\n",
       "      <td>741.668213</td>\n",
       "      <td>927.531219</td>\n",
       "      <td>1050.480408</td>\n",
       "      <td>845.363953</td>\n",
       "      <td>612.034912</td>\n",
       "    </tr>\n",
       "    <tr>\n",
       "      <th>50%</th>\n",
       "      <td>177.884102</td>\n",
       "      <td>338.474533</td>\n",
       "      <td>572.622009</td>\n",
       "      <td>643.759674</td>\n",
       "      <td>460.979889</td>\n",
       "      <td>214.063858</td>\n",
       "      <td>781.487122</td>\n",
       "      <td>979.500122</td>\n",
       "      <td>1289.663940</td>\n",
       "      <td>1425.989990</td>\n",
       "      <td>1142.088135</td>\n",
       "      <td>801.091187</td>\n",
       "    </tr>\n",
       "    <tr>\n",
       "      <th>75%</th>\n",
       "      <td>289.427666</td>\n",
       "      <td>542.997314</td>\n",
       "      <td>804.441116</td>\n",
       "      <td>892.596329</td>\n",
       "      <td>617.534866</td>\n",
       "      <td>346.822327</td>\n",
       "      <td>1093.304993</td>\n",
       "      <td>1403.773315</td>\n",
       "      <td>1764.296936</td>\n",
       "      <td>1903.711792</td>\n",
       "      <td>1561.776794</td>\n",
       "      <td>1104.915527</td>\n",
       "    </tr>\n",
       "    <tr>\n",
       "      <th>max</th>\n",
       "      <td>894.190308</td>\n",
       "      <td>1385.010742</td>\n",
       "      <td>2130.617920</td>\n",
       "      <td>1834.047852</td>\n",
       "      <td>1386.018921</td>\n",
       "      <td>876.380493</td>\n",
       "      <td>3120.817871</td>\n",
       "      <td>3010.485352</td>\n",
       "      <td>3481.583496</td>\n",
       "      <td>4581.233398</td>\n",
       "      <td>3462.281494</td>\n",
       "      <td>3176.753418</td>\n",
       "    </tr>\n",
       "  </tbody>\n",
       "</table>\n",
       "</div>"
      ],
      "text/plain": [
       "           hvac_5       hvac_6       hvac_7       hvac_8       hvac_9  \\\n",
       "count   94.000000    94.000000    94.000000    94.000000    94.000000   \n",
       "mean   204.697577   410.772775   634.932650   703.427444   496.814433   \n",
       "std    152.308577   249.724508   348.390233   343.614402   252.160506   \n",
       "min      3.054133     2.404883     9.934549    21.709467    40.952965   \n",
       "25%     84.733067   239.801712   409.715370   469.171234   319.873489   \n",
       "50%    177.884102   338.474533   572.622009   643.759674   460.979889   \n",
       "75%    289.427666   542.997314   804.441116   892.596329   617.534866   \n",
       "max    894.190308  1385.010742  2130.617920  1834.047852  1386.018921   \n",
       "\n",
       "          hvac_10  aggregate_5  aggregate_6  aggregate_7  aggregate_8  \\\n",
       "count   94.000000    95.000000    95.000000    95.000000    95.000000   \n",
       "mean   243.957545   894.636166  1117.168094  1435.362421  1570.281882   \n",
       "std    152.017218   526.052474   563.679895   699.529397   762.214791   \n",
       "min      8.885633   182.287521    41.541668   174.545334   485.617706   \n",
       "25%    144.406563   538.820801   741.668213   927.531219  1050.480408   \n",
       "50%    214.063858   781.487122   979.500122  1289.663940  1425.989990   \n",
       "75%    346.822327  1093.304993  1403.773315  1764.296936  1903.711792   \n",
       "max    876.380493  3120.817871  3010.485352  3481.583496  4581.233398   \n",
       "\n",
       "       aggregate_9  aggregate_10  \n",
       "count    95.000000     95.000000  \n",
       "mean   1260.032510    935.727852  \n",
       "std     607.968624    515.139351  \n",
       "min     386.186584    178.216537  \n",
       "25%     845.363953    612.034912  \n",
       "50%    1142.088135    801.091187  \n",
       "75%    1561.776794   1104.915527  \n",
       "max    3462.281494   3176.753418  "
      ]
     },
     "execution_count": 39,
     "metadata": {},
     "output_type": "execute_result"
    }
   ],
   "source": [
    "A.describe()"
   ]
  },
  {
   "cell_type": "code",
   "execution_count": 54,
   "metadata": {
    "collapsed": false
   },
   "outputs": [
    {
     "data": {
      "text/plain": [
       "'optimal'"
      ]
     },
     "execution_count": 54,
     "metadata": {},
     "output_type": "execute_result"
    }
   ],
   "source": [
    "prob.status"
   ]
  },
  {
   "cell_type": "code",
   "execution_count": 55,
   "metadata": {
    "collapsed": false
   },
   "outputs": [
    {
     "data": {
      "image/png": "[encoded data removed]",
      "text/plain": [
       "<matplotlib.figure.Figure at 0x119023c50>"
      ]
     },
     "metadata": {},
     "output_type": "display_data"
    },
    {
     "name": "stdout",
     "output_type": "stream",
     "text": [
      "Original matrix:\n",
      "        hvac_5    hvac_6    hvac_7    hvac_8    hvac_9   hvac_10  aggregate_5  \\\n",
      "26         NaN       NaN       NaN       NaN       NaN       NaN     0.264163   \n",
      "59    0.083667  0.141433  0.211260  0.374507  0.151210  0.083204     0.314919   \n",
      "94    0.018833  0.046446  0.054788  0.073571  0.038679  0.028250     0.043213   \n",
      "101   0.211989  0.233945  0.213504  0.255734  0.230129  0.211738     0.114979   \n",
      "222   0.534035  0.646650  0.503590  0.616900  0.629034  0.663339     0.790309   \n",
      "364   0.262441  0.385219  0.342594  0.457073  0.447491  0.426416     0.245914   \n",
      "545   0.389795  0.561114  0.497692  0.606508  0.555478  0.422386     0.306238   \n",
      "624   0.078196  0.136574  0.140541  0.202991  0.147672  0.015232     0.098029   \n",
      "661   0.245238  0.467515  0.439553  0.578096  0.531963  0.450393     0.266728   \n",
      "871   0.090979  0.165842  0.185541  0.272096  0.207023  0.152141     0.132008   \n",
      "946   0.240927  0.321466  0.280712  0.364962  0.305803  0.276486     0.123545   \n",
      "1169  0.020248  0.127003  0.149972  0.233702  0.178913  0.134137     0.070773   \n",
      "1283  0.572043  0.378876  0.608742  0.819876  0.934504  0.510819     0.326314   \n",
      "1310  0.257873  0.215592  0.155067  0.190282  0.208393  0.305314     0.120886   \n",
      "1334  0.046084  0.160185  0.212569  0.296099  0.289316  0.233638     0.084529   \n",
      "1415  0.197319  0.254382  0.220302  0.331535  0.288481  0.267414     0.148367   \n",
      "1463  0.040658  0.349886  0.366425  0.509810  0.412880  0.155231     0.065746   \n",
      "1500  0.094843  0.111589  0.022485  0.107882  0.098477  0.087447     0.069610   \n",
      "1642  0.175598  0.170121  0.291993  0.296486  0.332984  0.274678     0.262452   \n",
      "1697  0.593912  0.589546  0.521979  0.674317  0.669988  0.667983     0.529163   \n",
      "1700  0.128459  0.176542  0.169414  0.215692  0.253328  0.159192     0.302523   \n",
      "1790  0.233702  0.423079  0.446517  0.507357  0.440564  0.310795     0.421835   \n",
      "1800  0.285667  0.452811  0.377387  0.230390  0.410066  0.458969     0.213602   \n",
      "1953  0.086953  0.231495  0.294377  0.411857  0.307426  0.197269     0.066840   \n",
      "2129  0.375517  0.447841  0.415199  0.511974  0.470954  0.398028     0.363481   \n",
      "2156  0.359815  0.295166  0.280545  0.330379  0.383247  0.391592     0.307522   \n",
      "2233  0.545957  0.579321  0.615186  0.753994  0.663149  0.533992     0.343538   \n",
      "2242  0.324235  0.383106  0.382257  0.364164  0.398856  0.429605     0.486088   \n",
      "2365  0.021626  0.102599  0.076425  0.118553  0.114828  0.047847     0.159917   \n",
      "2378  0.428213  0.000000  0.263525  0.660409  0.430523  0.051815     0.407608   \n",
      "...        ...       ...       ...       ...       ...       ...          ...   \n",
      "6139  0.118453  0.244656  0.301981  0.392984  0.323881  0.200185     0.278008   \n",
      "6498  0.076202  0.217826  0.186081  0.243952  0.176497  0.080943     0.478367   \n",
      "6692  0.396308  0.505988  0.475855  0.578473  0.546052  0.401328     0.312528   \n",
      "6836  0.045622  0.140804  0.141072  0.169198  0.140117  0.115150     0.076577   \n",
      "6910  0.180709  0.219596  0.239040  0.300958  0.246338  0.196811     0.230417   \n",
      "7016  0.013542  0.003102  0.000000  0.000000  0.000000  0.023978     0.553151   \n",
      "7390  0.064954  0.173169  0.176549  0.217817  0.154965  0.116463     0.069039   \n",
      "7429  0.436321  0.544474  0.457485  0.597935  0.526493  0.491426     0.265819   \n",
      "7510  0.009566  0.023263  0.049726  0.082285  0.041877  0.000000     0.305359   \n",
      "7641  0.373713  0.476550  0.428024  0.501517  0.491671  0.404982     0.365437   \n",
      "7731  0.225774  0.361324  0.325870  0.455709  0.409439  0.336676     0.142046   \n",
      "7769  0.059981  0.104904  0.102002  0.133833  0.097616  0.045937     0.026070   \n",
      "7793  0.159878  0.245742  0.228014  0.299642  0.238214  0.187787     0.263086   \n",
      "7800  0.242323  0.331926  0.311883  0.423053  0.330461  0.343614     0.167055   \n",
      "7866  0.185521  0.226899  0.188048  0.263258  0.177828  0.163277     0.118543   \n",
      "8236  0.199708  0.300688  0.272043  0.403561  0.370847  0.316240     0.188411   \n",
      "8243  0.067992  0.217199  0.191815  0.312226  0.222407  0.203155     0.111199   \n",
      "8317  0.172035  0.220096  0.204707  0.256749  0.232320  0.229948     0.143242   \n",
      "9052  0.189056  0.269484  0.400027  0.544218  0.491610  0.363750     0.135462   \n",
      "9134  0.093692  0.200500  0.231806  0.312099  0.268831  0.178808     0.162163   \n",
      "9484  0.568348  0.448149  0.551623  0.721005  0.676426  0.542733     0.525413   \n",
      "9609  0.117508  0.206237  0.238633  0.347733  0.233225  0.161856     0.121775   \n",
      "9647  0.377577  0.298944  0.276376  0.381785  0.384137  0.368209     1.000000   \n",
      "9729  0.306245  0.560696  0.226274  0.458460  0.412396  0.395298     0.252849   \n",
      "9912  0.078958  0.095393  0.096514  0.137328  0.149801  0.163715     0.065631   \n",
      "9922  0.126133  0.220109  0.270342  0.410312  0.346492  0.252707     0.210120   \n",
      "9932  0.039314  0.127777  0.175550  0.100293  0.136188  0.038777     0.076250   \n",
      "9933  0.221638  0.223950  0.220813  0.282442  0.202153  0.174667     0.166210   \n",
      "9971  0.183358  0.319774  0.335846  0.434003  0.383700  0.001631     0.077466   \n",
      "9982  0.143904  0.230671  0.291574  0.294091  0.264141  0.187730     0.132651   \n",
      "\n",
      "      aggregate_6  aggregate_7  aggregate_8  aggregate_9  aggregate_10  \n",
      "26       0.451381     0.462876     0.342351     0.318240      0.339887  \n",
      "59       0.337543     0.374149     0.323820     0.209625      0.250306  \n",
      "94       0.109343     0.102650     0.023547     0.023076      0.055540  \n",
      "101      0.220393     0.214252     0.079637     0.106973      0.106339  \n",
      "222      0.976471     1.000000     1.000000     0.695549      0.757812  \n",
      "364      0.441337     0.395841     0.248856     0.275310      0.256052  \n",
      "545      0.551074     0.576684     0.414428     0.410604      0.315398  \n",
      "624      0.210571     0.180674     0.088194     0.076730      0.089123  \n",
      "661      0.493854     0.490906     0.368298     0.385970      0.340996  \n",
      "871      0.237228     0.229447     0.147799     0.148474      0.142589  \n",
      "946      0.258824     0.247945     0.142535     0.130467      0.137382  \n",
      "1169     0.244351     0.230547     0.156714     0.163431      0.180769  \n",
      "1283     0.360368     0.620634     0.483697     0.607840      0.347817  \n",
      "1310     0.189730     0.146556     0.048989     0.078821      0.138775  \n",
      "1334     0.200846     0.221218     0.123463     0.146976      0.151753  \n",
      "1415     0.261174     0.224819     0.155077     0.161658      0.185718  \n",
      "1463     0.299150     0.337196     0.245469     0.217377      0.108349  \n",
      "1500     0.138303     0.000000     0.000000     0.024267      0.053308  \n",
      "1642     0.351292     0.469912     0.267400     0.319841      0.277571  \n",
      "1697     0.668077     0.688301     0.531300     0.623415      0.580770  \n",
      "1700     0.512757     0.435641     0.498735     0.353644      0.262197  \n",
      "1790     0.679439     0.780542     0.539133     0.588292      0.431051  \n",
      "1800     0.467606     0.414230     0.134424     0.284350      0.300563  \n",
      "1953     0.243554     0.288967     0.188105     0.158250      0.125528  \n",
      "2129     0.518382     0.516489     0.354440     0.391815      0.350633  \n",
      "2156     0.298602     0.308049     0.171818     0.245734      0.223524  \n",
      "2233     0.478594     0.585107     0.408224     0.391352      0.291228  \n",
      "2242     0.689968     0.721414     0.499810     0.566147      0.410247  \n",
      "2365     0.262832     0.177596     0.182121     0.248525      0.173782  \n",
      "2378     0.174132     0.341568     0.477158     0.387582      0.051408  \n",
      "...           ...          ...          ...          ...           ...  \n",
      "6139     0.399501     0.445064     0.317884     0.343866      0.275978  \n",
      "6498     0.702644     0.704102     0.534871     0.583006      0.506783  \n",
      "6692     0.454916     0.487245     0.323645     0.389086      0.289931  \n",
      "6836     0.231661     0.211578     0.117225     0.118053      0.149268  \n",
      "6910     0.307347     0.359334     0.229409     0.242680      0.174469  \n",
      "7016     0.488929     0.658788     0.714978     0.900258      0.721040  \n",
      "7390     0.208700     0.195208     0.091698     0.077095      0.085233  \n",
      "7429     0.456750     0.438407     0.321895     0.326158      0.291024  \n",
      "7510     0.419936     0.363390     0.267583     0.329616      0.302703  \n",
      "7641     0.523947     0.518014     0.313510     0.378370      0.366901  \n",
      "7731     0.321644     0.323055     0.229605     0.235964      0.189870  \n",
      "7769     0.110387     0.086963     0.005197     0.001341      0.024274  \n",
      "7793     0.404188     0.403620     0.304141     0.367545      0.342598  \n",
      "7800     0.302936     0.310169     0.211287     0.162768      0.181822  \n",
      "7866     0.186302     0.145671     0.074715     0.038746      0.080651  \n",
      "8236     0.329378     0.297209     0.238488     0.248535      0.230899  \n",
      "8243     0.267454     0.243695     0.169684     0.136866      0.199211  \n",
      "8317     0.241801     0.232677     0.121288     0.137328      0.160988  \n",
      "9052     0.225814     0.395066     0.298317     0.307111      0.226268  \n",
      "9134     0.294498     0.294040     0.212108     0.303130      0.294566  \n",
      "9484     0.437206     0.643460     0.457206     0.492139      0.459968  \n",
      "9609     0.240246     0.280799     0.195267     0.161979      0.163218  \n",
      "9647     0.911494     0.946515     0.698748     1.000000      1.000000  \n",
      "9729     0.521295     0.225937     0.284902     0.297172      0.285073  \n",
      "9912     0.131362     0.112014     0.035487     0.061325      0.099684  \n",
      "9922     0.297783     0.656228     0.549342     0.576069      0.520165  \n",
      "9932     0.158422     0.194356     0.005245     0.062453      0.076385  \n",
      "9933     0.263300     0.258165     0.161936     0.157895      0.207726  \n",
      "9971     0.234405     0.270168     0.165000     0.157749      0.000000  \n",
      "9982     0.240191     0.298131     0.134802     0.164150      0.160963  \n",
      "\n",
      "[95 rows x 12 columns]\n",
      "Left factor Y:\n",
      "[[  1.26316302e+00   1.82612618e-01   1.15404330e+00   2.65924437e-01\n",
      "    1.67267532e+00]\n",
      " [  1.78110885e+00   2.30485773e-01   1.84098465e-01   8.29096242e-02\n",
      "    1.44146150e+00]\n",
      " [  2.78108063e-01   1.25487783e-01   6.88696759e-02   9.55551481e-06\n",
      "    1.51658624e-01]\n",
      " [  2.38592140e-06   2.98153114e-01   5.81398946e-01   2.41890949e-01\n",
      "    3.60894226e-01]\n",
      " [  4.57077824e+00   6.38968769e-01   1.59939592e+00   8.62289586e-01\n",
      "    9.17765969e-01]\n",
      " [  7.76505742e-01   1.85292956e-01   1.30448835e+00   2.64523363e-01\n",
      "    1.20388178e+00]\n",
      " [  1.04422332e+00   5.72689806e-01   1.19403718e+00   4.54645132e-01\n",
      "    1.73303992e+00]\n",
      " [  4.23748851e-01   2.56966282e-01   1.51094777e-01   1.12216175e-05\n",
      "    7.34482727e-01]\n",
      " [  1.25685047e+00   1.47575865e-01   1.43504420e+00   2.08667412e-01\n",
      "    2.10960863e+00]\n",
      " [  6.68107874e-01   9.59378786e-02   5.08244678e-01   2.19576114e-02\n",
      "    1.05772868e+00]\n",
      " [ -1.74391455e-06   2.76858862e-01   8.29318855e-01   2.20035409e-01\n",
      "    8.62540644e-01]\n",
      " [  9.06922536e-01   3.57201398e-05   4.48809120e-01   7.97457209e-06\n",
      "    1.08649387e+00]\n",
      " [ -3.00205861e-05   5.87062428e-02   1.17437908e+00   1.76013327e+00\n",
      "    3.10017048e+00]\n",
      " [  6.26234349e-05   6.92228605e-02   8.73823792e-01   2.86601338e-01\n",
      "   -4.91837269e-05]\n",
      " [  3.72691070e-01   1.50759076e-05   6.80400517e-01   3.44758725e-02\n",
      "    1.32825581e+00]\n",
      " [  3.05371765e-01   8.60382837e-02   8.67893552e-01   2.43401030e-01\n",
      "    8.20171688e-01]\n",
      " [  2.61404407e-01   1.93819379e-01   5.90155762e-01   3.15155739e-05\n",
      "    2.79114706e+00]\n",
      " [  8.26706984e-03   1.57333728e-05   4.76811280e-01   5.57498759e-06\n",
      "    5.31385905e-06]\n",
      " [  1.42228461e+00   2.20893771e-01   5.41205154e-01   4.48538392e-01\n",
      "    9.63524528e-01]\n",
      " [  1.77212299e+00   3.90288426e-01   1.75799199e+00   1.23908596e+00\n",
      "    8.36007531e-01]\n",
      " [  2.75666458e+00   1.85824364e-01   4.59111764e-01   1.44495895e-05\n",
      "    1.04482809e+00]\n",
      " [  3.19169902e+00   5.62273124e-01   7.58398569e-01   1.54305746e-01\n",
      "    1.95375137e+00]\n",
      " [  8.81147159e-01   4.45053793e-01   1.34910918e+00   1.52106921e-01\n",
      "    7.39051099e-06]\n",
      " [  3.02132916e-01   1.04447801e-01   6.16886907e-01   1.02935894e-05\n",
      "    2.03994444e+00]\n",
      " [  1.23614148e+00   4.66613329e-01   1.09202074e+00   5.85231750e-01\n",
      "    1.01274145e+00]\n",
      " [  1.11106133e-01   2.73065555e-01   9.28931380e-01   8.76929072e-01\n",
      "    3.75709541e-06]\n",
      " [ -7.27224931e-06   6.48965823e-01   1.23392451e+00   1.07173061e+00\n",
      "    1.81740396e+00]\n",
      " [  3.00056799e+00   5.91552280e-01   8.96223210e-01   4.74837168e-01\n",
      "    4.98959765e-01]\n",
      " [  1.50841527e+00   3.55801743e-03   2.86463613e-01   1.55770598e-05\n",
      "    5.00085793e-01]\n",
      " [  8.08189238e-02  -3.92137677e-04  -2.54785987e-04   1.51244230e+00\n",
      "    2.45585364e+00]\n",
      " [  4.89411905e-01   3.14476061e-01   5.90080117e-01   1.60549465e-01\n",
      "    8.53722735e-01]\n",
      " [  1.51003779e+00   2.57331911e-01   3.86479282e-01   6.71764184e-06\n",
      "    6.93498854e-01]\n",
      " [  1.01427758e+00   3.56786560e-01   9.60667773e-01   4.40156448e-01\n",
      "    1.36161063e+00]\n",
      " [ -1.16846158e-05   1.12612528e-01   1.06781923e-01  -1.50592350e-05\n",
      "    6.48594924e-01]\n",
      " [  1.41511728e-01   8.43452579e-02   4.14386189e-01   9.79153594e-06\n",
      "    5.70690920e-01]\n",
      " [  8.61720158e-01   3.59695605e-01   5.57910829e-01   2.27770593e-01\n",
      "    3.80241225e-01]\n",
      " [  9.23499876e-01   1.05270354e-01   7.38442915e-01   5.33589103e-02\n",
      "    1.10184388e+00]\n",
      " [  1.34972958e+00   5.21585740e-02   1.71579425e+00   7.74658623e-01\n",
      "    1.53785463e+00]\n",
      " [  1.20374407e-01   3.58065038e-05   7.95382329e-01   1.77212827e-01\n",
      "    1.25573923e+00]\n",
      " [  4.70441715e-01   3.70005509e-01   4.15224962e-01   7.05674069e-02\n",
      "    1.23831156e-01]\n",
      " [  9.54098746e-02   4.18859046e-01   7.64957728e-01   2.62448327e-01\n",
      "    1.18438512e+00]\n",
      " [  7.87920150e-01   2.47430541e-01   1.25008305e+00   5.11530063e-01\n",
      "    2.49523158e+00]\n",
      " [  7.21278298e-01   1.27610299e-01   1.20433267e+00   2.55074453e-01\n",
      "    1.28101227e+00]\n",
      " [  9.00532821e-01   3.42973148e-01   3.85275955e-01   2.71535741e-02\n",
      "    2.92196215e-01]\n",
      " [  5.22322205e-01   5.50659947e-02   8.93760082e-01   3.67164713e-01\n",
      "    7.47556999e-01]\n",
      " [  1.32964525e+00   3.09428737e-01   2.07263184e-01   1.55789526e-01\n",
      "    9.43911054e-01]\n",
      " [  7.09895998e-01   6.30872586e-01   8.82319564e-01   4.33779488e-01\n",
      "    7.82616759e-01]\n",
      " [ -7.61855924e-07   4.88510937e-01   7.13782543e-01   4.74340133e-01\n",
      "    6.09530730e-01]\n",
      " [  8.82171165e-02   2.30704758e-05   5.93018586e-01   2.96817392e-02\n",
      "    8.62306683e-01]\n",
      " [  3.77522139e-01   3.46795751e-01   2.05730789e-01   7.57057133e-06\n",
      "    1.91385048e-01]\n",
      " [  1.05359894e-01   4.15795937e-01   8.51532945e-01   3.09223638e-01\n",
      "    1.17096106e+00]\n",
      " [  2.08836657e-01   3.08687509e-05   2.50254023e-01   2.26456235e+00\n",
      "    5.47794145e-01]\n",
      " [  9.44850748e-01   3.33146625e-01   1.31199461e+00   6.48730988e-01\n",
      "    2.63638081e+00]\n",
      " [  1.05681086e+00   1.89476894e-01   1.44621414e+00   8.24803440e-02\n",
      "    1.30384967e+00]\n",
      " [  2.22759373e+00   1.22672622e-01   5.65359006e-01   1.51301460e-05\n",
      "    1.12531745e+00]\n",
      " [  5.40159197e+00   3.19590005e-01   5.60038358e-01   2.41910161e-01\n",
      "    1.19254505e+00]\n",
      " [  1.20105334e+00   3.65475575e-01   1.04427440e+00   7.14766754e-01\n",
      "    2.74998580e+00]\n",
      " [  6.85986042e-01   2.21434507e+00   8.22224109e-01   8.86037559e-01\n",
      "    1.67521995e-01]\n",
      " [  5.19024044e-01  -6.18398108e-06   6.15966864e-01   2.00930255e-01\n",
      "    8.87795355e-02]\n",
      " [  1.45322014e+00   1.15515877e+00   2.44758772e+00   2.11749465e+00\n",
      "    7.23761168e-02]\n",
      " [  2.85455157e-01   4.37322501e-01   8.58726370e-01   6.24489462e-01\n",
      "    8.68462335e-01]\n",
      " [  1.60926648e-01   4.20644358e-01   1.26771710e+00   8.37890305e-01\n",
      "    9.00655686e-01]\n",
      " [  6.24751331e-06   3.31336382e-01   6.28469990e-01   2.04361258e-01\n",
      "    6.20860369e-01]\n",
      " [  5.00050582e-01   1.17886424e-01   9.53242471e-01   1.45548153e-01\n",
      "    1.71677206e+00]\n",
      " [ -3.97521891e-07   3.16084469e-01   5.24840445e-01   1.27171395e-01\n",
      "    9.49745334e-01]\n",
      " [  1.76834476e+00   1.94694735e-01   5.91913979e-01   1.09526576e-01\n",
      "    1.70025831e+00]\n",
      " [  4.61219838e+00   4.19738503e-01   2.02696742e-01   3.19519263e-05\n",
      "    8.11294493e-01]\n",
      " [  5.24499457e-01   4.95976140e-01   1.11140926e+00   6.81272590e-01\n",
      "    1.43047881e+00]\n",
      " [  7.33708875e-01   1.34246356e-01   3.65103843e-01   1.75608250e-05\n",
      "    5.82486928e-01]\n",
      " [  9.58812366e-01   3.27781113e-01   4.15063855e-01   3.05460905e-01\n",
      "    8.08431314e-01]\n",
      " [  6.32220051e+00  -4.49220048e-03  -2.75883636e-03   2.15487481e-01\n",
      "   -6.71070665e-04]\n",
      " [  2.70318035e-01   2.28721347e-01   3.38862897e-01   1.45609796e-05\n",
      "    7.47923308e-01]\n",
      " [  2.16624790e-01   4.31493720e-01   1.39627362e+00   6.48169639e-01\n",
      "    1.21676561e+00]\n",
      " [  2.92571584e+00   1.56594931e-01   7.28010768e-03   2.24366586e-05\n",
      "    1.63304481e-01]\n",
      " [  1.16764301e+00   4.96518740e-01   1.17232722e+00   5.44860436e-01\n",
      "    8.94145002e-01]\n",
      " [  2.93040308e-01   1.46471070e-01   1.05884832e+00   2.33647846e-01\n",
      "    1.57899186e+00]\n",
      " [ -3.32092371e-06   1.62149309e-01   1.78848005e-01  -1.40224680e-05\n",
      "    3.49940124e-01]\n",
      " [  2.06096754e+00   1.86622268e-01   6.22297921e-01   1.26636466e-01\n",
      "    9.02821112e-01]\n",
      " [  1.49455694e-01   2.54118229e-01   9.30459181e-01   3.10981121e-01\n",
      "    1.07373564e+00]\n",
      " [  6.21107609e-06   2.64455730e-01   5.27726076e-01   9.95531865e-02\n",
      "    4.22936081e-01]\n",
      " [  6.96388084e-01   3.48170721e-02   1.04201424e+00   2.36296760e-01\n",
      "    1.32063250e+00]\n",
      " [  7.21257537e-01   2.55844297e-02   7.10421606e-01   1.75150253e-05\n",
      "    1.16719719e+00]\n",
      " [  3.44558703e-01   1.90184095e-01   6.62926271e-01   2.11680207e-01\n",
      "    4.87604403e-01]\n",
      " [  1.73112952e-01   4.91153625e-05   8.60006981e-01   5.82851344e-01\n",
      "    2.44814294e+00]\n",
      " [  1.36645407e+00   3.18684404e-05   6.79963134e-01   6.56644324e-02\n",
      "    1.31727785e+00]\n",
      " [  5.43636161e-01   4.46867425e-01   1.09206191e+00   1.69589942e+00\n",
      "    1.29222288e+00]\n",
      " [  5.99490973e-01   1.61797909e-01   4.84228105e-01   7.80300257e-02\n",
      "    1.42416033e+00]\n",
      " [  6.51497664e+00   1.81586923e-01   1.01403931e+00   9.77898774e-01\n",
      "    1.75974570e-05]\n",
      " [  1.01635076e+00   8.22301730e-02   1.74656410e+00   1.56137145e-05\n",
      "    7.51398885e-01]\n",
      " [  1.36658299e-01   1.56431828e-05   5.02802215e-01   9.65399270e-02\n",
      "    2.63307067e-01]\n",
      " [  2.76765560e+00   3.84240631e-05   4.04190655e-01   5.47251029e-01\n",
      "    2.14337379e+00]\n",
      " [  2.45061111e-01   3.51367036e-01   8.14447122e-02   8.46545824e-06\n",
      "    2.99730223e-01]\n",
      " [  5.16101206e-01   3.11531365e-01   4.86091095e-01   3.04925063e-01\n",
      "    4.28882856e-01]\n",
      " [  2.26969048e-06   4.65673443e-01   2.06492413e-01   2.41265796e-05\n",
      "    2.20984261e+00]\n",
      " [  3.60978507e-01   3.15185062e-01   4.73000219e-01   1.84689733e-01\n",
      "    9.77911277e-01]]\n",
      "Right factor X:\n",
      "[[ -1.28499234e-03  -7.70564791e-04  -1.12626668e-03  -3.32479685e-04\n",
      "   -1.68023082e-04   3.48960602e-03   9.19950368e-02   9.81737847e-02\n",
      "    1.06553522e-01   9.98926155e-02   1.14639003e-01   1.04679199e-01]\n",
      " [  2.00039032e-01   3.40702789e-01   3.33205326e-01   1.85932553e-01\n",
      "    1.30429503e-01   8.73565846e-02   1.20194868e-01   2.83441136e-01\n",
      "    3.06045576e-01   9.53299393e-02   5.83442953e-02   2.69641269e-02]\n",
      " [  1.43034074e-01   2.41435782e-01   1.17212662e-01   1.67333268e-01\n",
      "    2.06610009e-01   2.63978519e-01   7.63891896e-02   2.04353581e-01\n",
      "    7.52729199e-02   3.27594565e-02   6.25736169e-02   1.19359255e-01]\n",
      " [  1.97512580e-01   9.29639588e-06   9.77243333e-02   1.47261528e-01\n",
      "    1.64790600e-01   1.33495876e-01   1.78685875e-01   3.99888910e-06\n",
      "    1.56162361e-01   1.51377226e-01   1.86903195e-01   1.35539321e-01]\n",
      " [ -1.46846724e-04   2.81348149e-02   8.28373123e-02   1.42709114e-01\n",
      "    8.94919148e-02  -1.14495240e-05  -2.04202712e-04   3.01511012e-02\n",
      "    7.74672591e-02   6.78554283e-02   4.23135892e-02   7.38000378e-06]]\n",
      "Residual A - Y * X:\n",
      "        hvac_5    hvac_6    hvac_7    hvac_8    hvac_9   hvac_10  aggregate_5  \\\n",
      "26         NaN       NaN       NaN       NaN       NaN       NaN    -0.009322   \n",
      "59   -0.002646 -0.020725 -0.012621  0.083520 -0.059251 -0.002795     0.094779   \n",
      "94   -0.015742 -0.016988 -0.007349  0.017163 -0.005444 -0.001862    -0.002686   \n",
      "101   0.021464 -0.018163 -0.007524  0.015886 -0.001040 -0.000071    -0.008419   \n",
      "222   0.013143  0.020493 -0.051931 -0.025973 -0.008220  0.054263     0.016951   \n",
      "364  -0.012283 -0.026136  0.003249 -0.006164  0.002605  0.027864     0.005538   \n",
      "545   0.016245  0.029755 -0.019902 -0.013701  0.004243 -0.007160    -0.030756   \n",
      "624   0.005832 -0.007793 -0.023158  0.025252  0.017277 -0.048573     0.016766   \n",
      "661  -0.028833  0.012378  0.028444 -0.020845 -0.006748  0.026462    -0.013111   \n",
      "871  -0.004232 -0.018798  0.004989  0.015253 -0.008663  0.004343     0.016482   \n",
      "946   0.023590  0.002642 -0.001698  0.019217 -0.015103  0.004014    -0.012224   \n",
      "1169 -0.042631 -0.011238  0.008372  0.003843 -0.010901  0.012505    -0.046727   \n",
      "1283  0.045130 -0.011901  0.022711 -0.089174  0.116715 -0.039255    -0.084328   \n",
      "1310  0.062432 -0.018966  0.001575 -0.011007 -0.028402  0.030336    -0.005402   \n",
      "1334 -0.057375 -0.041177  0.019834 -0.012264  0.024249  0.048138    -0.007623   \n",
      "1415  0.008408 -0.007314 -0.001477  0.017522 -0.015514 -0.002756     0.000311   \n",
      "1463 -0.081786  0.063040  0.001750 -0.023220  0.015922 -0.018373    -0.026116   \n",
      "1500  0.026649 -0.003529 -0.033400  0.028094 -0.000039 -0.038452     0.032423   \n",
      "1642 -0.032623 -0.061821  0.032907 -0.038230  0.032451  0.047684    -0.016235   \n",
      "1697  0.022051  0.009965 -0.002472  0.006393 -0.022844 -0.001770    -0.036302   \n",
      "1700  0.029311 -0.024887 -0.029765 -0.043875  0.041191  0.012153    -0.008272   \n",
      "1790 -0.013340 -0.004104 -0.003058 -0.024573  0.010798  0.029761    -0.024474   \n",
      "1800 -0.025241 -0.023866  0.057087 -0.100219  0.048360  0.040575    -0.051189   \n",
      "1953 -0.021491 -0.010190  0.018623 -0.001808 -0.016161  0.024267    -0.020218   \n",
      "2129  0.012127 -0.002335 -0.007970  0.012185 -0.002394 -0.013431     0.005893   \n",
      "2156 -0.000739 -0.022068 -0.004897 -0.004935  0.011214  0.005066     0.036825   \n",
      "2233  0.028232  0.009161 -0.000968  0.009668 -0.015691  0.008520    -0.019854   \n",
      "2242 -0.012147 -0.046548 -0.004256 -0.035926  0.014134  0.067491    -0.014258   \n",
      "2365 -0.018051  0.019316  0.001934 -0.000911  0.010675 -0.033344    -0.001061   \n",
      "2378  0.130066 -0.068852 -0.087463  0.087355 -0.038375 -0.150243     0.130489   \n",
      "...        ...       ...       ...       ...       ...       ...          ...   \n",
      "6139 -0.024268 -0.011061  0.018171 -0.000446  0.006280  0.006152     0.027488   \n",
      "6498 -0.030715  0.006610 -0.039550  0.017741  0.008037 -0.025321    -0.011707   \n",
      "6692  0.004449  0.028825 -0.004161 -0.004014  0.011538 -0.028148    -0.001679   \n",
      "6836 -0.032430 -0.008906  0.006119  0.000258 -0.004834  0.004487    -0.034830   \n",
      "6910 -0.003210 -0.014300 -0.014568  0.010525 -0.004695  0.014495     0.016690   \n",
      "7016 -0.019602  0.010187 -0.012062 -0.028238 -0.033232 -0.025730    -0.066214   \n",
      "7390 -0.028814 -0.007405 -0.001034  0.011940 -0.011769  0.006094    -0.009055   \n",
      "7429  0.022726  0.026280 -0.013844  0.015041 -0.033937 -0.002124    -0.028203   \n",
      "7510 -0.019021 -0.034187 -0.013541  0.029615  0.005822 -0.025812     0.016859   \n",
      "7641  0.000722  0.000081 -0.000830  0.005578  0.015086 -0.024662     0.011611   \n",
      "7731 -0.000517  0.011576 -0.000348 -0.008352 -0.008194  0.012172    -0.024829   \n",
      "7769  0.002017 -0.003366 -0.001977  0.023819  0.008200 -0.015434    -0.007007   \n",
      "7793  0.011305  0.008101  0.008048  0.014008 -0.016018 -0.016876    -0.018924   \n",
      "7800 -0.002671 -0.009396 -0.001019  0.021130 -0.042238  0.033769    -0.003664   \n",
      "7866  0.037536 -0.002514 -0.006690  0.050764 -0.019953 -0.012418     0.028741   \n",
      "8236 -0.001883  0.000625  0.006599 -0.000308 -0.005993  0.004170    -0.001390   \n",
      "8243 -0.037645  0.004678  0.004142  0.022260 -0.032046  0.010878    -0.012262   \n",
      "8317 -0.002125 -0.018210  0.002943  0.009815 -0.007914  0.008881     0.000320   \n",
      "9052 -0.048503 -0.006919  0.039646 -0.034845 -0.001190  0.058338    -0.049813   \n",
      "9134 -0.014593  0.000313  0.038097  0.001109 -0.000137 -0.014209    -0.026954   \n",
      "9484 -0.011318 -0.003717  0.002559  0.021207 -0.002510 -0.012862     0.035498   \n",
      "9609  0.001449 -0.005405  0.003040  0.022090 -0.028134  0.007404    -0.003464   \n",
      "9647  0.011435 -0.002738  0.008784  0.036496 -0.009113 -0.068619     0.126630   \n",
      "9729  0.041391  0.090640 -0.066945  0.044016 -0.026263 -0.076481     0.016198   \n",
      "9912 -0.011817 -0.033310  0.006482  0.001442  0.006465  0.017623    -0.002548   \n",
      "9922 -0.035906  0.064334 -0.004961 -0.042878 -0.018554  0.063317    -0.172719   \n",
      "9932 -0.042265 -0.019842  0.024372 -0.021360  0.046748 -0.014270     0.005312   \n",
      "9933  0.030291 -0.011221 -0.004711  0.037241 -0.027454 -0.023367    -0.010243   \n",
      "9971  0.060990  0.049090 -0.026582 -0.002502  0.082532 -0.093536     0.006167   \n",
      "9982 -0.022671 -0.018149  0.032462 -0.010296  0.007415  0.009430    -0.007375   \n",
      "\n",
      "      aggregate_6  aggregate_7  aggregate_8  aggregate_9  aggregate_10  \n",
      "26      -0.010655     0.014420     0.007201    -0.029914      0.028935  \n",
      "59       0.016273    -0.024645     0.007535    -0.096017      0.024424  \n",
      "94       0.027825     0.017678    -0.028746    -0.026856      0.014822  \n",
      "101      0.006191     0.013508    -0.028938    -0.007284     -0.003884  \n",
      "222     -0.007887    -0.008731     0.237298    -0.165799     -0.045666  \n",
      "364      0.009709     0.023631    -0.010842    -0.006526     -0.021793  \n",
      "545     -0.010026    -0.004982     0.029988     0.024461     -0.013507  \n",
      "624      0.043113    -0.011395    -0.033422    -0.027376      0.019795  \n",
      "661     -0.028229     0.007787     0.006932     0.015214      0.005867  \n",
      "871      0.008691     0.005271    -0.019832    -0.014377      0.006417  \n",
      "946     -0.015131    -0.000392    -0.002862    -0.015202      0.001100  \n",
      "1169     0.030830     0.015948    -0.022313    -0.014598      0.032254  \n",
      "1283     0.010262    -0.000757    -0.037176     0.070779     -0.032526  \n",
      "1310    -0.008465     0.014836    -0.029624    -0.033468     -0.006243  \n",
      "1334    -0.014837     0.022006    -0.031406    -0.000971      0.026845  \n",
      "1415     0.004721    -0.000927    -0.004560    -0.012873      0.014844  \n",
      "1463     0.013794    -0.010626    -0.007853     0.021064      0.005294  \n",
      "1500     0.040049    -0.036778    -0.016449    -0.006519     -0.004470  \n",
      "1642     0.009400     0.065335    -0.046742    -0.014565     -0.002668  \n",
      "1697    -0.000986    -0.010562     0.015184     0.020522      0.006958  \n",
      "1700     0.064130    -0.030463     0.119711    -0.046160     -0.086187  \n",
      "1790    -0.007163     0.035839    -0.014072     0.030627     -0.029665  \n",
      "1800    -0.020742     0.058829    -0.063245     0.044521      0.014680  \n",
      "1953    -0.003282     0.020342    -0.010664    -0.007400      0.017437  \n",
      "2129     0.011072    -0.010076    -0.006608     0.002315     -0.001019  \n",
      "2156     0.020462     0.005773    -0.028490    -0.004962     -0.025205  \n",
      "2233    -0.012307    -0.014540     0.020380    -0.000932     -0.018825  \n",
      "2242     0.029528     0.040384     0.008586     0.021709     -0.091136  \n",
      "2365     0.040118    -0.044525    -0.012218     0.036306     -0.018411  \n",
      "2378     0.092308    -0.093339     0.073538    -0.008241     -0.162025  \n",
      "...           ...          ...          ...          ...           ...  \n",
      "6139    -0.001513     0.003682    -0.028663     0.000332      0.000111  \n",
      "6498     0.064993     0.006086    -0.027563    -0.017239     -0.011540  \n",
      "6692    -0.007410    -0.021297    -0.012634     0.042615     -0.003354  \n",
      "6836     0.029406     0.019704    -0.020353    -0.021387      0.025259  \n",
      "6910     0.011114     0.015282    -0.012310    -0.003633     -0.025687  \n",
      "7016    -0.129889    -0.046881     0.051382     0.135675      0.030481  \n",
      "7390     0.025534     0.012957    -0.018963    -0.020092      0.010315  \n",
      "7429    -0.008842    -0.017313     0.032698     0.016148      0.002194  \n",
      "7510     0.081910    -0.009482    -0.050926    -0.022291     -0.008655  \n",
      "7641     0.002050    -0.000958    -0.032019     0.002516      0.017501  \n",
      "7731    -0.012630     0.008494     0.009170     0.017087     -0.002819  \n",
      "7769     0.017328    -0.003230    -0.039862    -0.034115     -0.001446  \n",
      "7793    -0.005432    -0.009655    -0.020342     0.019579      0.030377  \n",
      "7800    -0.006283     0.014691     0.021717    -0.030971      0.006108  \n",
      "7866    -0.009251    -0.023299    -0.011553    -0.046209     -0.002966  \n",
      "8236    -0.001616    -0.005291     0.006087     0.001423      0.000652  \n",
      "8243     0.009025     0.015115    -0.007280    -0.041156      0.038214  \n",
      "8317     0.003894     0.017028    -0.018108    -0.014946      0.011971  \n",
      "9052    -0.040757     0.031200    -0.001504     0.020923      0.026478  \n",
      "9134    -0.018331    -0.015053    -0.045993     0.035919      0.061456  \n",
      "9484    -0.004961     0.001629    -0.019879    -0.036237      0.030793  \n",
      "9609    -0.006362     0.008443    -0.004354    -0.021331      0.027717  \n",
      "9647     0.013198    -0.032294    -0.150613    -0.003690      0.059542  \n",
      "9729     0.018636    -0.097205     0.067332     0.034775     -0.032011  \n",
      "9912     0.007252     0.024127    -0.027118    -0.014990      0.012277  \n",
      "9922    -0.121164     0.079387     0.031348     0.040517      0.108014  \n",
      "9932     0.009091     0.031359    -0.075738    -0.003922      0.031533  \n",
      "9933     0.012065    -0.009601    -0.010501    -0.025002      0.045949  \n",
      "9971    -0.006412    -0.059087    -0.036111     0.024147     -0.037223  \n",
      "9982    -0.010729     0.023005    -0.041113    -0.001117      0.033181  \n",
      "\n",
      "[95 rows x 12 columns]\n",
      "Residual after 30 iterations: 1.12640625307\n"
     ]
    }
   ],
   "source": [
    "import matplotlib.pyplot as plt\n",
    "\n",
    "# Show plot inline in ipython.\n",
    "%matplotlib inline\n",
    "\n",
    "# Set plot properties.\n",
    "plt.rc('text', usetex=True)\n",
    "plt.rc('font', family='serif')\n",
    "font = {'family' : 'normal',\n",
    "        'weight' : 'normal',\n",
    "        'size'   : 16}\n",
    "plt.rc('font', **font)\n",
    "\n",
    "# Create the plot.\n",
    "plt.plot(residual)\n",
    "plt.xlabel('Iteration Number')\n",
    "plt.ylabel('Residual Norm')\n",
    "plt.show()\n",
    "\n",
    "#\n",
    "# Print results.\n",
    "#\n",
    "print 'Original matrix:'\n",
    "print A\n",
    "print 'Left factor Y:'\n",
    "print Y\n",
    "print 'Right factor X:'\n",
    "print X\n",
    "print 'Residual A - Y * X:'\n",
    "print A - Y * X\n",
    "print 'Residual after {} iterations: {}'.format(iter_num, prob.value)"
   ]
  },
  {
   "cell_type": "code",
   "execution_count": 58,
   "metadata": {
    "collapsed": false
   },
   "outputs": [],
   "source": [
    "pred_df = pd.DataFrame(Y*X)\n",
    "pred_df.columns = X_normalised.columns\n",
    "pred_df.index = X_normalised.index"
   ]
  },
  {
   "cell_type": "code",
   "execution_count": 60,
   "metadata": {
    "collapsed": false
   },
   "outputs": [
    {
     "data": {
      "text/plain": [
       "hvac_5          0.252252\n",
       "hvac_6          0.386934\n",
       "hvac_7          0.359241\n",
       "hvac_8          0.504510\n",
       "hvac_9          0.455555\n",
       "hvac_10         0.360484\n",
       "aggregate_5     0.273486\n",
       "aggregate_6     0.462036\n",
       "aggregate_7     0.448455\n",
       "aggregate_8     0.335150\n",
       "aggregate_9     0.348154\n",
       "aggregate_10    0.310952\n",
       "Name: 26, dtype: float64"
      ]
     },
     "execution_count": 60,
     "metadata": {},
     "output_type": "execute_result"
    }
   ],
   "source": [
    "pred_df.ix[26]"
   ]
  },
  {
   "cell_type": "code",
   "execution_count": 61,
   "metadata": {
    "collapsed": false
   },
   "outputs": [
    {
     "data": {
      "text/plain": [
       "hvac_5          0.268580\n",
       "hvac_6          0.391562\n",
       "hvac_7          0.354348\n",
       "hvac_8          0.485952\n",
       "hvac_9          0.423089\n",
       "hvac_10         0.445286\n",
       "aggregate_5     0.264163\n",
       "aggregate_6     0.451381\n",
       "aggregate_7     0.462876\n",
       "aggregate_8     0.342351\n",
       "aggregate_9     0.318240\n",
       "aggregate_10    0.339887\n",
       "Name: 26, dtype: float64"
      ]
     },
     "execution_count": 61,
     "metadata": {},
     "output_type": "execute_result"
    }
   ],
   "source": [
    "X_normalised.ix[26]"
   ]
  },
  {
   "cell_type": "code",
   "execution_count": 72,
   "metadata": {
    "collapsed": false
   },
   "outputs": [
    {
     "data": {
      "text/plain": [
       "hvac_5           242.395737\n",
       "hvac_6           543.781433\n",
       "hvac_7           761.394043\n",
       "hvac_8           902.418823\n",
       "hvac_9           610.035828\n",
       "hvac_10          395.169098\n",
       "aggregate_5      958.539734\n",
       "aggregate_6     1381.666504\n",
       "aggregate_7     1705.293091\n",
       "aggregate_8     1887.754883\n",
       "aggregate_9     1365.123535\n",
       "aggregate_10    1197.380859\n",
       "Name: 26, dtype: float64"
      ]
     },
     "execution_count": 72,
     "metadata": {},
     "output_type": "execute_result"
    }
   ],
   "source": [
    "X_matrix.ix[26]"
   ]
  },
  {
   "cell_type": "code",
   "execution_count": null,
   "metadata": {
    "collapsed": true
   },
   "outputs": [],
   "source": []
  }
 ],
 "metadata": {
  "kernelspec": {
   "display_name": "Python 2",
   "language": "python",
   "name": "python2"
  },
  "language_info": {
   "codemirror_mode": {
    "name": "ipython",
    "version": 2
   },
   "file_extension": ".py",
   "mimetype": "text/x-python",
   "name": "python",
   "nbconvert_exporter": "python",
   "pygments_lexer": "ipython2",
   "version": "2.7.11"
  }
 },
 "nbformat": 4,
 "nbformat_minor": 0
}
