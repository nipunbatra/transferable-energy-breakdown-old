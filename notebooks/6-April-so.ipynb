{
 "cells": [
  {
   "cell_type": "markdown",
   "metadata": {},
   "source": [
    "### Date: 6 April 2017"
   ]
  },
  {
   "cell_type": "markdown",
   "metadata": {},
   "source": [
    "Aim: The aim of this notebook is to compare two cost functions"
   ]
  },
  {
   "cell_type": "code",
   "execution_count": 1,
   "metadata": {
    "collapsed": true
   },
   "outputs": [],
   "source": [
    "import sys"
   ]
  },
  {
   "cell_type": "code",
   "execution_count": 2,
   "metadata": {},
   "outputs": [],
   "source": [
    "sys.path.append(\"../code/\")"
   ]
  },
  {
   "cell_type": "code",
   "execution_count": 3,
   "metadata": {
    "collapsed": true
   },
   "outputs": [],
   "source": [
    "%matplotlib inline\n",
    "import matplotlib.pyplot as plt"
   ]
  },
  {
   "cell_type": "code",
   "execution_count": 4,
   "metadata": {},
   "outputs": [],
   "source": [
    "import sys, traceback\n",
    "from docopt import docopt\n",
    "import pandas as pd\n",
    "import time\n",
    "import numpy as np\n",
    "import os\n",
    "np.random.seed(0)\n",
    "\n",
    "from common_functions import create_region_df, features_dict, create_feature_combinations, create_df_main\n",
    "from matrix_factorisation import nmf_features, prepare_df_factorisation,prepare_known_features, create_matrix_factorised, create_prediction"
   ]
  },
  {
   "cell_type": "code",
   "execution_count": 5,
   "metadata": {
    "collapsed": true
   },
   "outputs": [],
   "source": [
    "from nnmf_tensorflow import factorize as tf_factorize\n",
    "from nnmf_autograd import factorize as a_factorize"
   ]
  },
  {
   "cell_type": "code",
   "execution_count": 6,
   "metadata": {
    "collapsed": true
   },
   "outputs": [],
   "source": [
    "from common_functions import *"
   ]
  },
  {
   "cell_type": "code",
   "execution_count": 7,
   "metadata": {},
   "outputs": [],
   "source": [
    "year=2014\n",
    "seed = 0\n",
    "test_home=26\n",
    "test_home_list = [test_home]\n",
    "train_regions = [\"Austin\",\"Boulder\",\"SanDiego\"]\n",
    "train_fraction_dict = {region:0 for region in train_regions}\n",
    "train_fraction_dict['Austin']=1.0\n",
    "test_region = 'Austin'\n",
    "feature_list = ['energy','home']\n",
    "appliance=\"fridge\"\n",
    "feature_comb = ['None']\n",
    "lat = 2"
   ]
  },
  {
   "cell_type": "code",
   "execution_count": 8,
   "metadata": {
    "collapsed": true
   },
   "outputs": [],
   "source": [
    "preds = {}\n",
    "errors = {}"
   ]
  },
  {
   "cell_type": "code",
   "execution_count": 9,
   "metadata": {
    "collapsed": true
   },
   "outputs": [],
   "source": [
    "df, dfc, X_matrix, X_normalised, col_max, col_min, \\\n",
    "    appliance_cols, aggregate_cols, static_features, max_f = prepare_df_factorisation(appliance, year, train_regions,\n",
    "                                                                                      train_fraction_dict,\n",
    "                                                                                test_region, test_home_list,\n",
    "                                                                                     feature_list, seed, 3000, 0, True)"
   ]
  },
  {
   "cell_type": "code",
   "execution_count": 19,
   "metadata": {},
   "outputs": [
    {
     "data": {
      "text/plain": [
       "<matplotlib.axes._subplots.AxesSubplot at 0x117a343d0>"
      ]
     },
     "execution_count": 19,
     "metadata": {},
     "output_type": "execute_result"
    },
    {
     "data": {
      "image/png": "[encoded data removed]",
      "text/plain": [
       "<matplotlib.figure.Figure at 0x1177d93d0>"
      ]
     },
     "metadata": {},
     "output_type": "display_data"
    }
   ],
   "source": [
    "X_matrix.stack().hist(bins=30)"
   ]
  },
  {
   "cell_type": "code",
   "execution_count": 20,
   "metadata": {},
   "outputs": [
    {
     "data": {
      "text/plain": [
       "<matplotlib.axes._subplots.AxesSubplot at 0x117dd7fd0>"
      ]
     },
     "execution_count": 20,
     "metadata": {},
     "output_type": "execute_result"
    },
    {
     "data": {
      "image/png": "[encoded data removed]",
      "text/plain": [
       "<matplotlib.figure.Figure at 0x117e1c150>"
      ]
     },
     "metadata": {},
     "output_type": "display_data"
    }
   ],
   "source": [
    "X_normalised.stack().hist(bins=30)"
   ]
  },
  {
   "cell_type": "code",
   "execution_count": 18,
   "metadata": {},
   "outputs": [
    {
     "name": "stdout",
     "output_type": "stream",
     "text": [
      "********************\n",
      "hvac absolute 2 121\n",
      "hvac absolute 2 135\n",
      "hvac absolute 2 222\n",
      "hvac absolute 2 364\n",
      "hvac absolute 2 370\n",
      "hvac absolute 2 410\n",
      "hvac absolute 2 545\n",
      "hvac absolute 2 661\n",
      "hvac absolute 2 871\n",
      "hvac absolute 2 936\n",
      "hvac absolute 2 946\n",
      "hvac absolute 2 1283\n",
      "hvac absolute 2 1310\n",
      "hvac absolute 2 1463\n",
      "hvac absolute 2 1642\n",
      "hvac absolute 2 1697\n",
      "hvac absolute 2 1700\n",
      "hvac absolute 2 1790\n",
      "hvac absolute 2 1953\n",
      "hvac absolute 2 2156\n",
      "hvac absolute 2 2242\n",
      "hvac absolute 2 2470\n",
      "hvac absolute 2 2557\n",
      "hvac absolute 2 2814\n",
      "hvac absolute 2 3009\n",
      "hvac absolute 2 3036\n",
      "hvac absolute 2 3367\n",
      "hvac absolute 2 3443\n",
      "hvac absolute 2 3456\n",
      "hvac absolute 2 3482\n",
      "hvac absolute 2 3652\n",
      "hvac absolute 2 3723\n",
      "hvac absolute 2 3736\n",
      "hvac absolute 2 3778\n",
      "hvac absolute 2 3829\n",
      "hvac absolute 2 3893\n",
      "hvac absolute 2 3967\n",
      "hvac absolute 2 4297\n",
      "hvac absolute 2 4298\n",
      "hvac absolute 2 4342\n",
      "hvac absolute 2 4505\n",
      "hvac absolute 2 4767\n",
      "hvac absolute 2 4874\n",
      "hvac absolute 2 4922\n",
      "hvac absolute 2 4946\n",
      "hvac absolute 2 4957\n",
      "hvac absolute 2 4998\n",
      "hvac absolute 2 5109\n",
      "hvac absolute 2 5209\n",
      "hvac absolute 2 5218\n",
      "hvac absolute 2 5673\n",
      "hvac absolute 2 5677\n",
      "hvac absolute 2 5746\n",
      "hvac absolute 2 5785\n",
      "hvac absolute 2 5814\n",
      "hvac absolute 2 6072\n",
      "hvac absolute 2 6139\n",
      "hvac absolute 2 6418\n",
      "hvac absolute 2 6636\n",
      "hvac absolute 2 6692\n",
      "hvac absolute 2 6836\n",
      "hvac absolute 2 6910\n",
      "hvac absolute 2 7024\n",
      "hvac absolute 2 7319\n",
      "hvac absolute 2 7390\n",
      "hvac absolute 2 7429\n",
      "hvac absolute 2 7641\n",
      "hvac absolute 2 7731\n",
      "hvac absolute 2 7769\n",
      "hvac absolute 2 7793\n",
      "hvac absolute 2 7800\n",
      "hvac absolute 2 7866\n",
      "hvac absolute 2 7982\n",
      "hvac absolute 2 8142\n",
      "hvac absolute 2 8236\n",
      "hvac absolute 2 9052\n",
      "hvac absolute 2 9134\n",
      "hvac absolute 2 9195\n",
      "hvac absolute 2 9215\n",
      "hvac absolute 2 9233\n",
      "hvac absolute 2 9609\n",
      "hvac absolute 2 9654\n",
      "hvac absolute 2 9729\n",
      "hvac absolute 2 9922\n",
      "hvac absolute 2 9931\n",
      "hvac absolute 2 9933\n",
      "hvac absolute 2 9971\n",
      "hvac absolute 2 9982\n",
      "hvac absolute 2 26\n",
      "21.4805018598\n",
      "********************\n",
      "hvac absolute 3 121\n",
      "hvac absolute 3 135\n",
      "hvac absolute 3 222\n",
      "hvac absolute 3 364\n",
      "hvac absolute 3 370\n",
      "hvac absolute 3 410\n",
      "hvac absolute 3 545\n",
      "hvac absolute 3 661\n",
      "hvac absolute 3 871\n",
      "hvac absolute 3 936\n",
      "hvac absolute 3 946\n",
      "hvac absolute 3 1283\n",
      "hvac absolute 3 1310\n",
      "hvac absolute 3 1463\n",
      "hvac absolute 3 1642\n",
      "hvac absolute 3 1697\n",
      "hvac absolute 3 1700\n",
      "hvac absolute 3 1790\n",
      "hvac absolute 3 1953\n",
      "hvac absolute 3 2156\n",
      "hvac absolute 3 2242\n",
      "hvac absolute 3 2470\n",
      "hvac absolute 3 2557\n",
      "hvac absolute 3 2814\n",
      "hvac absolute 3 3009\n",
      "hvac absolute 3 3036\n",
      "hvac absolute 3 3367\n",
      "hvac absolute 3 3443\n",
      "hvac absolute 3 3456\n",
      "hvac absolute 3 3482\n",
      "hvac absolute 3 3652\n",
      "hvac absolute 3 3723\n",
      "hvac absolute 3 3736\n",
      "hvac absolute 3 3778\n",
      "hvac absolute 3 3829\n",
      "hvac absolute 3 3893\n",
      "hvac absolute 3 3967\n",
      "hvac absolute 3 4297\n",
      "hvac absolute 3 4298\n",
      "hvac absolute 3 4342\n",
      "hvac absolute 3 4505\n",
      "hvac absolute 3 4767\n",
      "hvac absolute 3 4874\n",
      "hvac absolute 3 4922\n",
      "hvac absolute 3 4946\n",
      "hvac absolute 3 4957\n",
      "hvac absolute 3 4998\n",
      "hvac absolute 3 5109\n",
      "hvac absolute 3 5209\n",
      "hvac absolute 3 5218\n",
      "hvac absolute 3 5673\n",
      "hvac absolute 3 5677\n",
      "hvac absolute 3 5746\n",
      "hvac absolute 3 5785\n",
      "hvac absolute 3 5814\n",
      "hvac absolute 3 6072\n",
      "hvac absolute 3 6139\n",
      "hvac absolute 3 6418\n",
      "hvac absolute 3 6636\n",
      "hvac absolute 3 6692\n",
      "hvac absolute 3 6836\n",
      "hvac absolute 3 6910\n",
      "hvac absolute 3 7024\n",
      "hvac absolute 3 7319\n",
      "hvac absolute 3 7390\n",
      "hvac absolute 3 7429\n",
      "hvac absolute 3 7641\n",
      "hvac absolute 3 7731\n",
      "hvac absolute 3 7769\n",
      "hvac absolute 3 7793\n",
      "hvac absolute 3 7800\n",
      "hvac absolute 3 7866\n",
      "hvac absolute 3 7982\n",
      "hvac absolute 3 8142\n",
      "hvac absolute 3 8236\n",
      "hvac absolute 3 9052\n",
      "hvac absolute 3 9134\n",
      "hvac absolute 3 9195\n",
      "hvac absolute 3 9215\n",
      "hvac absolute 3 9233\n",
      "hvac absolute 3 9609\n",
      "hvac absolute 3 9654\n",
      "hvac absolute 3 9729\n",
      "hvac absolute 3 9922\n",
      "hvac absolute 3 9931\n",
      "hvac absolute 3 9933\n",
      "hvac absolute 3 9971\n",
      "hvac absolute 3 9982\n",
      "hvac absolute 3 26\n",
      "20.651638802\n",
      "********************\n",
      "hvac absolute 4 121\n",
      "hvac absolute 4 135\n",
      "hvac absolute 4 222\n",
      "hvac absolute 4 364\n",
      "hvac absolute 4 370\n",
      "hvac absolute 4 410\n",
      "hvac absolute 4 545\n",
      "hvac absolute 4 661\n",
      "hvac absolute 4 871\n",
      "hvac absolute 4 936\n",
      "hvac absolute 4 946\n",
      "hvac absolute 4 1283\n",
      "hvac absolute 4 1310\n",
      "hvac absolute 4 1463\n",
      "hvac absolute 4 1642\n",
      "hvac absolute 4 1697\n",
      "hvac absolute 4 1700\n",
      "hvac absolute 4 1790\n",
      "hvac absolute 4 1953\n",
      "hvac absolute 4 2156\n",
      "hvac absolute 4 2242\n",
      "hvac absolute 4 2470\n",
      "hvac absolute 4 2557\n",
      "hvac absolute 4 2814\n",
      "hvac absolute 4 3009\n",
      "hvac absolute 4 3036\n",
      "hvac absolute 4 3367\n",
      "hvac absolute 4 3443\n",
      "hvac absolute 4 3456\n",
      "hvac absolute 4 3482\n",
      "hvac absolute 4 3652\n",
      "hvac absolute 4 3723\n",
      "hvac absolute 4 3736\n",
      "hvac absolute 4 3778\n",
      "hvac absolute 4 3829\n",
      "hvac absolute 4 3893\n",
      "hvac absolute 4 3967\n",
      "hvac absolute 4 4297\n",
      "hvac absolute 4 4298\n",
      "hvac absolute 4 4342\n",
      "hvac absolute 4 4505\n",
      "hvac absolute 4 4767\n",
      "hvac absolute 4 4874\n",
      "hvac absolute 4 4922\n",
      "hvac absolute 4 4946\n",
      "hvac absolute 4 4957\n",
      "hvac absolute 4 4998\n",
      "hvac absolute 4 5109\n",
      "hvac absolute 4 5209\n",
      "hvac absolute 4 5218\n",
      "hvac absolute 4 5673\n",
      "hvac absolute 4 5677\n",
      "hvac absolute 4 5746\n",
      "hvac absolute 4 5785\n",
      "hvac absolute 4 5814\n",
      "hvac absolute 4 6072\n",
      "hvac absolute 4 6139\n",
      "hvac absolute 4 6418\n",
      "hvac absolute 4 6636\n",
      "hvac absolute 4 6692\n",
      "hvac absolute 4 6836\n",
      "hvac absolute 4 6910\n",
      "hvac absolute 4 7024\n",
      "hvac absolute 4 7319\n",
      "hvac absolute 4 7390\n",
      "hvac absolute 4 7429\n",
      "hvac absolute 4 7641\n",
      "hvac absolute 4 7731\n",
      "hvac absolute 4 7769\n",
      "hvac absolute 4 7793\n",
      "hvac absolute 4 7800\n",
      "hvac absolute 4 7866\n",
      "hvac absolute 4 7982\n",
      "hvac absolute 4 8142\n",
      "hvac absolute 4 8236\n",
      "hvac absolute 4 9052\n",
      "hvac absolute 4 9134\n",
      "hvac absolute 4 9195\n",
      "hvac absolute 4 9215\n",
      "hvac absolute 4 9233\n",
      "hvac absolute 4 9609\n",
      "hvac absolute 4 9654\n",
      "hvac absolute 4 9729\n",
      "hvac absolute 4 9922\n",
      "hvac absolute 4 9931\n",
      "hvac absolute 4 9933\n",
      "hvac absolute 4 9971\n",
      "hvac absolute 4 9982\n",
      "hvac absolute 4 26\n",
      "22.9270888513\n",
      "********************\n",
      "hvac relative 2 121\n",
      "hvac relative 2 135\n",
      "hvac relative 2 222\n",
      "hvac relative 2 364\n",
      "hvac relative 2 370\n",
      "hvac relative 2 410\n",
      "hvac relative 2 545\n",
      "hvac relative 2 661\n",
      "hvac relative 2 871\n",
      "hvac relative 2 936\n",
      "hvac relative 2 946\n",
      "hvac relative 2 1283\n",
      "hvac relative 2 1310\n",
      "hvac relative 2 1463\n",
      "hvac relative 2 1642\n",
      "hvac relative 2 1697\n",
      "hvac relative 2 1700\n",
      "hvac relative 2 1790\n",
      "hvac relative 2 1953\n",
      "hvac relative 2 2156\n",
      "hvac relative 2 2242\n",
      "hvac relative 2 2470\n",
      "hvac relative 2 2557\n",
      "hvac relative 2 2814\n",
      "hvac relative 2 3009\n",
      "hvac relative 2 3036\n",
      "hvac relative 2 3367\n",
      "hvac relative 2 3443\n",
      "hvac relative 2 3456\n",
      "hvac relative 2 3482\n",
      "hvac relative 2 3652\n",
      "hvac relative 2 3723\n",
      "hvac relative 2 3736\n",
      "hvac relative 2 3778\n",
      "hvac relative 2 3829\n",
      "hvac relative 2 3893\n",
      "hvac relative 2 3967\n",
      "hvac relative 2 4297\n",
      "hvac relative 2 4298\n",
      "hvac relative 2 4342\n",
      "hvac relative 2 4505\n",
      "hvac relative 2 4767\n",
      "hvac relative 2 4874\n",
      "hvac relative 2 4922\n",
      "hvac relative 2 4946\n",
      "hvac relative 2 4957\n",
      "hvac relative 2 4998\n",
      "hvac relative 2 5109\n",
      "hvac relative 2 5209\n",
      "hvac relative 2 5218\n",
      "hvac relative 2 5673\n",
      "hvac relative 2 5677\n",
      "hvac relative 2 5746\n",
      "hvac relative 2 5785\n",
      "hvac relative 2 5814\n",
      "hvac relative 2 6072\n",
      "hvac relative 2 6139\n",
      "hvac relative 2 6418\n",
      "hvac relative 2 6636\n",
      "hvac relative 2 6692\n",
      "hvac relative 2 6836\n",
      "hvac relative 2 6910\n",
      "hvac relative 2 7024\n",
      "hvac relative 2 7319\n",
      "hvac relative 2 7390\n",
      "hvac relative 2 7429\n",
      "hvac relative 2 7641\n",
      "hvac relative 2 7731\n",
      "hvac relative 2 7769\n",
      "hvac relative 2 7793\n",
      "hvac relative 2 7800\n",
      "hvac relative 2 7866\n",
      "hvac relative 2 7982\n",
      "hvac relative 2 8142\n",
      "hvac relative 2 8236\n",
      "hvac relative 2 9052\n",
      "hvac relative 2 9134\n",
      "hvac relative 2 9195\n",
      "hvac relative 2 9215\n",
      "hvac relative 2 9233\n",
      "hvac relative 2 9609\n",
      "hvac relative 2 9654\n",
      "hvac relative 2 9729\n",
      "hvac relative 2 9922\n",
      "hvac relative 2 9931\n",
      "hvac relative 2 9933\n",
      "hvac relative 2 9971\n",
      "hvac relative 2 9982\n",
      "hvac relative 2 26\n",
      "14.0321734178\n",
      "********************\n",
      "hvac relative 3 121\n",
      "hvac relative 3 135\n",
      "hvac relative 3 222\n",
      "hvac relative 3 364\n",
      "hvac relative 3 370\n",
      "hvac relative 3 410\n",
      "hvac relative 3 545\n",
      "hvac relative 3 661\n",
      "hvac relative 3 871\n",
      "hvac relative 3 936\n",
      "hvac relative 3 946\n",
      "hvac relative 3 1283\n",
      "hvac relative 3 1310\n",
      "hvac relative 3 1463\n",
      "hvac relative 3 1642\n",
      "hvac relative 3 1697\n",
      "hvac relative 3 1700\n",
      "hvac relative 3 1790\n",
      "hvac relative 3 1953\n",
      "hvac relative 3 2156\n",
      "hvac relative 3 2242\n",
      "hvac relative 3 2470\n",
      "hvac relative 3 2557\n",
      "hvac relative 3 2814\n",
      "hvac relative 3 3009\n",
      "hvac relative 3 3036\n",
      "hvac relative 3 3367\n",
      "hvac relative 3 3443\n",
      "hvac relative 3 3456\n",
      "hvac relative 3 3482\n",
      "hvac relative 3 3652\n",
      "hvac relative 3 3723\n",
      "hvac relative 3 3736\n",
      "hvac relative 3 3778\n",
      "hvac relative 3 3829\n",
      "hvac relative 3 3893\n",
      "hvac relative 3 3967\n",
      "hvac relative 3 4297\n",
      "hvac relative 3 4298\n",
      "hvac relative 3 4342\n",
      "hvac relative 3 4505\n",
      "hvac relative 3 4767\n",
      "hvac relative 3 4874\n",
      "hvac relative 3 4922\n",
      "hvac relative 3 4946\n",
      "hvac relative 3 4957\n",
      "hvac relative 3 4998\n",
      "hvac relative 3 5109\n",
      "hvac relative 3 5209\n",
      "hvac relative 3 5218\n",
      "hvac relative 3 5673\n",
      "hvac relative 3 5677\n",
      "hvac relative 3 5746\n",
      "hvac relative 3 5785\n",
      "hvac relative 3 5814\n",
      "hvac relative 3 6072\n",
      "hvac relative 3 6139\n",
      "hvac relative 3 6418\n",
      "hvac relative 3 6636\n",
      "hvac relative 3 6692\n",
      "hvac relative 3 6836\n",
      "hvac relative 3 6910\n",
      "hvac relative 3 7024\n",
      "hvac relative 3 7319\n",
      "hvac relative 3 7390\n",
      "hvac relative 3 7429\n",
      "hvac relative 3 7641\n",
      "hvac relative 3 7731\n",
      "hvac relative 3 7769\n",
      "hvac relative 3 7793\n",
      "hvac relative 3 7800\n",
      "hvac relative 3 7866\n",
      "hvac relative 3 7982\n",
      "hvac relative 3 8142\n",
      "hvac relative 3 8236\n",
      "hvac relative 3 9052\n",
      "hvac relative 3 9134\n",
      "hvac relative 3 9195\n",
      "hvac relative 3 9215\n",
      "hvac relative 3 9233\n",
      "hvac relative 3 9609\n",
      "hvac relative 3 9654\n",
      "hvac relative 3 9729\n",
      "hvac relative 3 9922\n",
      "hvac relative 3 9931\n",
      "hvac relative 3 9933\n",
      "hvac relative 3 9971\n",
      "hvac relative 3 9982\n",
      "hvac relative 3 26\n",
      "14.4942508886\n",
      "********************\n",
      "hvac relative 4 121\n",
      "hvac relative 4 135\n",
      "hvac relative 4 222\n",
      "hvac relative 4 364\n",
      "hvac relative 4 370\n",
      "hvac relative 4 410\n",
      "hvac relative 4 545\n",
      "hvac relative 4 661\n",
      "hvac relative 4 871\n",
      "hvac relative 4 936\n",
      "hvac relative 4 946\n",
      "hvac relative 4 1283\n",
      "hvac relative 4 1310\n",
      "hvac relative 4 1463\n",
      "hvac relative 4 1642\n",
      "hvac relative 4 1697\n",
      "hvac relative 4 1700\n",
      "hvac relative 4 1790\n",
      "hvac relative 4 1953\n",
      "hvac relative 4 2156\n",
      "hvac relative 4 2242\n",
      "hvac relative 4 2470\n",
      "hvac relative 4 2557\n",
      "hvac relative 4 2814\n",
      "hvac relative 4 3009\n",
      "hvac relative 4 3036\n",
      "hvac relative 4 3367\n",
      "hvac relative 4 3443\n",
      "hvac relative 4 3456\n",
      "hvac relative 4 3482\n",
      "hvac relative 4 3652\n",
      "hvac relative 4 3723\n",
      "hvac relative 4 3736\n",
      "hvac relative 4 3778\n",
      "hvac relative 4 3829\n",
      "hvac relative 4 3893\n",
      "hvac relative 4 3967\n",
      "hvac relative 4 4297\n",
      "hvac relative 4 4298\n",
      "hvac relative 4 4342\n",
      "hvac relative 4 4505\n",
      "hvac relative 4 4767\n",
      "hvac relative 4 4874\n",
      "hvac relative 4 4922\n",
      "hvac relative 4 4946\n",
      "hvac relative 4 4957\n",
      "hvac relative 4 4998\n",
      "hvac relative 4 5109\n",
      "hvac relative 4 5209\n",
      "hvac relative 4 5218\n",
      "hvac relative 4 5673\n",
      "hvac relative 4 5677\n",
      "hvac relative 4 5746\n",
      "hvac relative 4 5785\n",
      "hvac relative 4 5814\n",
      "hvac relative 4 6072\n",
      "hvac relative 4 6139\n",
      "hvac relative 4 6418\n",
      "hvac relative 4 6636\n",
      "hvac relative 4 6692\n",
      "hvac relative 4 6836\n",
      "hvac relative 4 6910\n",
      "hvac relative 4 7024\n",
      "hvac relative 4 7319\n",
      "hvac relative 4 7390\n",
      "hvac relative 4 7429\n",
      "hvac relative 4 7641\n",
      "hvac relative 4 7731\n",
      "hvac relative 4 7769\n",
      "hvac relative 4 7793\n",
      "hvac relative 4 7800\n",
      "hvac relative 4 7866\n",
      "hvac relative 4 7982\n",
      "hvac relative 4 8142\n",
      "hvac relative 4 8236\n",
      "hvac relative 4 9052\n",
      "hvac relative 4 9134\n",
      "hvac relative 4 9195\n",
      "hvac relative 4 9215\n",
      "hvac relative 4 9233\n",
      "hvac relative 4 9609\n",
      "hvac relative 4 9654\n",
      "hvac relative 4 9729\n",
      "hvac relative 4 9922\n",
      "hvac relative 4 9931\n",
      "hvac relative 4 9933\n",
      "hvac relative 4 9971\n",
      "hvac relative 4 9982\n",
      "hvac relative 4 26\n",
      "14.749445855\n"
     ]
    }
   ],
   "source": [
    "\n",
    "for appliance in ['hvac']:\n",
    "    df, dfc, X_matrix, X_normalised, col_max, col_min, \\\n",
    "    appliance_cols, aggregate_cols, static_features, max_f = prepare_df_factorisation(appliance, year, train_regions,\n",
    "                                                                                      train_fraction_dict,\n",
    "                                                                                test_region, test_home_list,\n",
    "                                                                                     feature_list, seed, 3000, 0, True)\n",
    "    \n",
    "    homes = X_matrix.index\n",
    "    \n",
    "    if appliance not in preds:\n",
    "        preds[appliance] = {}\n",
    "        errors[appliance] = {}\n",
    "\n",
    "    for cost in ['absolute','relative']:\n",
    "        if cost not in preds[appliance]:\n",
    "            preds[appliance][cost] = {}\n",
    "            errors[appliance][cost] = {}\n",
    "        for lat in range(2, 5):\n",
    "            if lat in preds[appliance][cost]:\n",
    "                continue\n",
    "            print \"*\"*20\n",
    "            o = {}\n",
    "            for home in homes[:]:\n",
    "                print appliance, cost, lat, home\n",
    "                A = (X_normalised).copy()\n",
    "                A.ix[home][appliance_cols] = np.NAN\n",
    "                W, H = a_factorize(A, lat, lr=0.01, cost_function=cost)\n",
    "                pred_df = pd.DataFrame(np.dot(W, H))*3000\n",
    "                pred_df.index = A.index\n",
    "                pred_df.columns = A.columns\n",
    "                o[home]=pred_df.ix[home][appliance_cols]\n",
    "            preds[appliance][cost][lat] = pd.DataFrame(o).T\n",
    "            \n",
    "            agg = dfc[aggregate_cols].ix[preds[appliance][cost][lat].index]\n",
    "            agg.columns = preds[appliance][cost][lat].columns\n",
    "\n",
    "            gt_appliance = dfc[appliance_cols].ix[preds[appliance][cost][lat].index]\n",
    "\n",
    "            gt_fraction = 100*(gt_appliance/agg)\n",
    "            pred_fraction = 100*(preds[appliance][cost][lat]/agg)\n",
    "            gt_fraction_dropna = gt_fraction.unstack().dropna()\n",
    "            pred_fraction_dropna = pred_fraction.unstack().dropna()\n",
    "            pred_fraction_dropna = pred_fraction_dropna.ix[gt_fraction_dropna.index]\n",
    "\n",
    "            rms = np.sqrt(mean_squared_error(gt_fraction_dropna, pred_fraction_dropna))\n",
    "            errors[appliance][cost][lat] = rms\n",
    "            print(rms)\n",
    "                \n",
    "                \n",
    "              "
   ]
  },
  {
   "cell_type": "code",
   "execution_count": 19,
   "metadata": {},
   "outputs": [
    {
     "data": {
      "text/plain": [
       "{'fridge': {'absolute': {2: 8.2932623258198053,\n",
       "   3: 9.4748930897798953,\n",
       "   4: 15.300730816011981},\n",
       "  'relative': {2: 5.9631028450626005,\n",
       "   3: 6.2810569838989299,\n",
       "   4: 5.3580848433525041}},\n",
       " 'hvac': {'absolute': {2: 21.480501859795169,\n",
       "   3: 20.651638802027804,\n",
       "   4: 22.927088851325493},\n",
       "  'relative': {2: 14.032173417843934,\n",
       "   3: 14.494250888579527,\n",
       "   4: 14.749445854964215}}}"
      ]
     },
     "execution_count": 19,
     "metadata": {},
     "output_type": "execute_result"
    }
   ],
   "source": [
    "errors"
   ]
  },
  {
   "cell_type": "code",
   "execution_count": 20,
   "metadata": {},
   "outputs": [
    {
     "data": {
      "text/html": [
       "<div>\n",
       "<table border=\"1\" class=\"dataframe\">\n",
       "  <thead>\n",
       "    <tr style=\"text-align: right;\">\n",
       "      <th></th>\n",
       "      <th>absolute</th>\n",
       "      <th>relative</th>\n",
       "    </tr>\n",
       "  </thead>\n",
       "  <tbody>\n",
       "    <tr>\n",
       "      <th>2</th>\n",
       "      <td>21.480502</td>\n",
       "      <td>14.032173</td>\n",
       "    </tr>\n",
       "    <tr>\n",
       "      <th>3</th>\n",
       "      <td>20.651639</td>\n",
       "      <td>14.494251</td>\n",
       "    </tr>\n",
       "    <tr>\n",
       "      <th>4</th>\n",
       "      <td>22.927089</td>\n",
       "      <td>14.749446</td>\n",
       "    </tr>\n",
       "  </tbody>\n",
       "</table>\n",
       "</div>"
      ],
      "text/plain": [
       "    absolute   relative\n",
       "2  21.480502  14.032173\n",
       "3  20.651639  14.494251\n",
       "4  22.927089  14.749446"
      ]
     },
     "execution_count": 20,
     "metadata": {},
     "output_type": "execute_result"
    }
   ],
   "source": [
    "pd.DataFrame(errors['hvac'])"
   ]
  },
  {
   "cell_type": "code",
   "execution_count": 21,
   "metadata": {},
   "outputs": [],
   "source": [
    "rank=2\n",
    "shape = A.shape\n",
    "H = np.abs(np.random.randn(rank, shape[1]))\n",
    "W = np.abs(np.random.randn(shape[0], rank))"
   ]
  },
  {
   "cell_type": "code",
   "execution_count": 22,
   "metadata": {},
   "outputs": [],
   "source": [
    "def cost_abs(W, H):\n",
    "    pred = np.dot(W, H)\n",
    "    mask = ~np.isnan(A)\n",
    "    return np.sqrt(((pred - A)[mask].flatten() ** 2).mean(axis=None))\n",
    "\n",
    "def cost_rel(W, H):\n",
    "    pred = np.dot(W, H)\n",
    "    mask = ~np.isnan(A)\n",
    "    abs_error = (pred - A)[mask].flatten()\n",
    "    rel_error = np.divide(abs_error, A[mask].flatten() + 1e-8)\n",
    "    return np.sqrt((rel_error ** 2).mean(axis=None))"
   ]
  },
  {
   "cell_type": "code",
   "execution_count": 23,
   "metadata": {},
   "outputs": [
    {
     "data": {
      "text/plain": [
       "1.2883284435617217"
      ]
     },
     "execution_count": 23,
     "metadata": {},
     "output_type": "execute_result"
    }
   ],
   "source": [
    "cost_abs(W, H)"
   ]
  },
  {
   "cell_type": "code",
   "execution_count": 24,
   "metadata": {},
   "outputs": [
    {
     "data": {
      "text/plain": [
       "18.513662053088581"
      ]
     },
     "execution_count": 24,
     "metadata": {},
     "output_type": "execute_result"
    }
   ],
   "source": [
    "cost_rel(W, H)"
   ]
  },
  {
   "cell_type": "code",
   "execution_count": 25,
   "metadata": {},
   "outputs": [],
   "source": [
    "pred = np.dot(W, H)\n",
    "mask = ~np.isnan(A)"
   ]
  },
  {
   "cell_type": "code",
   "execution_count": 27,
   "metadata": {},
   "outputs": [],
   "source": [
    "abs_error = (pred - A)[mask].flatten()"
   ]
  },
  {
   "cell_type": "code",
   "execution_count": 30,
   "metadata": {},
   "outputs": [
    {
     "data": {
      "text/plain": [
       "1.6597901784901685"
      ]
     },
     "execution_count": 30,
     "metadata": {},
     "output_type": "execute_result"
    }
   ],
   "source": [
    "np.power(abs_error, 2).mean()"
   ]
  },
  {
   "cell_type": "code",
   "execution_count": 31,
   "metadata": {
    "collapsed": true
   },
   "outputs": [],
   "source": [
    "relative_error = np.divide(abs_error, A[mask].flatten() + 1e-8)"
   ]
  },
  {
   "cell_type": "code",
   "execution_count": 32,
   "metadata": {},
   "outputs": [
    {
     "data": {
      "text/plain": [
       "array([ 0.9205153 ,  6.10773933, -0.29401241, ..., -0.56907172,\n",
       "       -0.72489415, -0.54105395])"
      ]
     },
     "execution_count": 32,
     "metadata": {},
     "output_type": "execute_result"
    }
   ],
   "source": [
    "relative_error"
   ]
  },
  {
   "cell_type": "code",
   "execution_count": null,
   "metadata": {
    "collapsed": true
   },
   "outputs": [],
   "source": [
    "def f(year, seed, test_home, train_regions, train_fraction_dict,test_region\n",
    "              , feature_list, appliance, feature_comb, lat, idx_item=None, data_item=None, cost='absolute', use_all=True):\n",
    "    df, dfc, X_matrix, X_normalised, col_max, col_min, \\\n",
    "    appliance_cols, aggregate_cols, static_features, max_f = prepare_df_factorisation(appliance, year, train_regions,\n",
    "                                                                                      train_fraction_dict,\n",
    "                                                                                     test_region, test_home,\n",
    "                                                                                     feature_list, seed, 3000, 0, use_all)\n",
    "\n",
    "    idx_user, data_user = prepare_known_features(feature_comb, static_features, X_normalised)\n",
    "\n",
    "    A = create_matrix_factorised(appliance, test_home, X_normalised)\n",
    "    X, Y, res = nmf_features(A=A, k=lat, constant=0.01, regularisation=False,\n",
    "                        idx_user=idx_user, data_user=data_user,\n",
    "                         idx_item=idx_item, data_item=data_item, MAX_ITERS=15, cost=cost)\n",
    "    return X, Y, res, df"
   ]
  },
  {
   "cell_type": "code",
   "execution_count": null,
   "metadata": {
    "collapsed": true
   },
   "outputs": [],
   "source": [
    "def f_tf(year, seed, test_home, train_regions, train_fraction_dict,test_region\n",
    "              , feature_list, appliance, feature_comb, lat, idx_item=None, data_item=None, cost='absolute', use_all=True):\n",
    "    df, dfc, X_matrix, X_normalised, col_max, col_min, \\\n",
    "    appliance_cols, aggregate_cols, static_features, max_f = prepare_df_factorisation(appliance, year, train_regions,\n",
    "                                                                                      train_fraction_dict,\n",
    "                                                                                     test_region, test_home,\n",
    "                                                                                     feature_list, seed, 3000, 0, use_all)\n",
    "\n",
    "    idx_user, data_user = prepare_known_features(feature_comb, static_features, X_normalised)\n",
    "\n",
    "    A = create_matrix_factorised(appliance, test_home, X_normalised)\n",
    "    A = A.astype('float32')\n",
    "    X, Y = factorize(A, rank=lat, cost_function=cost) \n",
    "    \n",
    "    return X, Y, None, df"
   ]
  },
  {
   "cell_type": "code",
   "execution_count": null,
   "metadata": {
    "collapsed": true
   },
   "outputs": [],
   "source": [
    "preds = {}\n",
    "errors ={}"
   ]
  },
  {
   "cell_type": "code",
   "execution_count": null,
   "metadata": {},
   "outputs": [],
   "source": [
    "import time"
   ]
  },
  {
   "cell_type": "code",
   "execution_count": null,
   "metadata": {
    "collapsed": true
   },
   "outputs": [],
   "source": []
  },
  {
   "cell_type": "code",
   "execution_count": null,
   "metadata": {},
   "outputs": [],
   "source": [
    "pred_df*3000"
   ]
  },
  {
   "cell_type": "code",
   "execution_count": null,
   "metadata": {},
   "outputs": [],
   "source": [
    "pred_df"
   ]
  },
  {
   "cell_type": "code",
   "execution_count": null,
   "metadata": {},
   "outputs": [],
   "source": [
    "            \n",
    "            \n",
    "            "
   ]
  },
  {
   "cell_type": "code",
   "execution_count": null,
   "metadata": {},
   "outputs": [],
   "source": [
    "X"
   ]
  },
  {
   "cell_type": "code",
   "execution_count": null,
   "metadata": {},
   "outputs": [],
   "source": [
    "Y"
   ]
  },
  {
   "cell_type": "code",
   "execution_count": null,
   "metadata": {},
   "outputs": [],
   "source": [
    "pd.DataFrame(np.dot(Y, X))            "
   ]
  },
  {
   "cell_type": "code",
   "execution_count": null,
   "metadata": {},
   "outputs": [],
   "source": [
    "pd.DataFrame(errors['fridge'])            "
   ]
  },
  {
   "cell_type": "code",
   "execution_count": null,
   "metadata": {
    "collapsed": true
   },
   "outputs": [],
   "source": [
    "from nnmf_tensorflow import factorize"
   ]
  },
  {
   "cell_type": "code",
   "execution_count": null,
   "metadata": {
    "collapsed": true
   },
   "outputs": [],
   "source": [
    "appliance=\"hvac\"\n",
    "df, dfc, X_matrix, X_normalised, col_max, col_min, \\\n",
    "    appliance_cols, aggregate_cols, static_features, max_f = prepare_df_factorisation(appliance, year, train_regions,\n",
    "                                                                                      train_fraction_dict,\n",
    "                                                                                test_region, test_home_list,\n",
    "                                                                                     feature_list, seed, 3000, 0, True)"
   ]
  },
  {
   "cell_type": "code",
   "execution_count": null,
   "metadata": {},
   "outputs": [],
   "source": [
    "appliance"
   ]
  },
  {
   "cell_type": "code",
   "execution_count": null,
   "metadata": {},
   "outputs": [],
   "source": [
    "X_normalised = X_normalised.astype('float32')\n",
    "W, H = factorize(X_normalised, 2)"
   ]
  }
 ],
 "metadata": {
  "kernelspec": {
   "display_name": "Python 2",
   "language": "python",
   "name": "python2"
  },
  "language_info": {
   "codemirror_mode": {
    "name": "ipython",
    "version": 2
   },
   "file_extension": ".py",
   "mimetype": "text/x-python",
   "name": "python",
   "nbconvert_exporter": "python",
   "pygments_lexer": "ipython2",
   "version": "2.7.11"
  }
 },
 "nbformat": 4,
 "nbformat_minor": 1
}
