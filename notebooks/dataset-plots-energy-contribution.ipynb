{
 "cells": [
  {
   "cell_type": "code",
   "execution_count": 1,
   "metadata": {
    "collapsed": true
   },
   "outputs": [],
   "source": [
    "import pickle\n",
    "import pandas as pd"
   ]
  },
  {
   "cell_type": "code",
   "execution_count": 2,
   "metadata": {
    "collapsed": false
   },
   "outputs": [],
   "source": [
    "test_region = \"Austin\"\n",
    "train_region = \"SanDiego\"\n",
    "out_overall = pickle.load(open('../../data/input/all_regions.pkl','r'))\n",
    "\n",
    "train_df = out_overall[train_region]\n",
    "test_df = out_overall[test_region]"
   ]
  },
  {
   "cell_type": "code",
   "execution_count": 3,
   "metadata": {
    "collapsed": false
   },
   "outputs": [],
   "source": [
    "from missingno import missingno\n",
    "import numpy as np"
   ]
  },
  {
   "cell_type": "code",
   "execution_count": 4,
   "metadata": {
    "collapsed": true
   },
   "outputs": [],
   "source": [
    "%matplotlib inline"
   ]
  },
  {
   "cell_type": "code",
   "execution_count": 26,
   "metadata": {
    "collapsed": false
   },
   "outputs": [],
   "source": [
    "out = {}\n",
    "for appliance in ['hvac','wm','fridge','dw','oven','mw']:\n",
    "    if appliance==\"hvac\":\n",
    "        s, e = 5, 11\n",
    "    else:\n",
    "        s, e = 1, 13\n",
    "    out[appliance] = []\n",
    "    for m in range(s, e):\n",
    "        out[appliance].append(((test_df['%s_%d' %(appliance, m)]/test_df['aggregate_%d' %m])*100).mean())\n",
    "    out[appliance] = np.mean(np.array(out[appliance]))"
   ]
  },
  {
   "cell_type": "code",
   "execution_count": 29,
   "metadata": {
    "collapsed": false
   },
   "outputs": [
    {
     "data": {
      "text/plain": [
       "51.990357119142736"
      ]
     },
     "execution_count": 29,
     "metadata": {},
     "output_type": "execute_result"
    }
   ],
   "source": [
    "pd.Series(out).sum()"
   ]
  },
  {
   "cell_type": "code",
   "execution_count": 5,
   "metadata": {
    "collapsed": false
   },
   "outputs": [],
   "source": [
    "start_month, end_month=1,13\n",
    "agg_features = np.hstack([['aggregate_'+str(month) for month in range(start_month, end_month)],\n",
    "                         ])\n",
    "md_features = ['area','house_num_rooms','num_occupants']\n",
    "features = {'md_agg':np.hstack([\n",
    "            agg_features,\n",
    "            md_features\n",
    "            ]).tolist()}"
   ]
  },
  {
   "cell_type": "code",
   "execution_count": 6,
   "metadata": {
    "collapsed": false
   },
   "outputs": [],
   "source": [
    "df = test_df[features['md_agg']]"
   ]
  },
  {
   "cell_type": "code",
   "execution_count": 7,
   "metadata": {
    "collapsed": true
   },
   "outputs": [],
   "source": [
    "import calendar\n",
    "df = df.rename(columns={'aggregate_%d' %month: calendar.month_name[month][:3] for month in range(1, 13)})"
   ]
  },
  {
   "cell_type": "code",
   "execution_count": 8,
   "metadata": {
    "collapsed": true
   },
   "outputs": [],
   "source": [
    "df = df.rename(columns={'area':'Area','house_num_rooms':'\\# rooms','num_occupants':'\\# occupants'})"
   ]
  },
  {
   "cell_type": "code",
   "execution_count": 9,
   "metadata": {
    "collapsed": false
   },
   "outputs": [
    {
     "data": {
      "text/plain": [
       "<matplotlib.axes._subplots.AxesSubplot at 0x11211ea50>"
      ]
     },
     "execution_count": 9,
     "metadata": {},
     "output_type": "execute_result"
    },
    {
     "data": {
      "image/png": "[encoded data removed]",
      "text/plain": [
       "<matplotlib.figure.Figure at 0x11121c3d0>"
      ]
     },
     "metadata": {},
     "output_type": "display_data"
    }
   ],
   "source": [
    "df.count().plot(kind=\"bar\",rot=30)"
   ]
  },
  {
   "cell_type": "code",
   "execution_count": 11,
   "metadata": {
    "collapsed": false
   },
   "outputs": [
    {
     "data": {
      "text/html": [
       "<div>\n",
       "<table border=\"1\" class=\"dataframe\">\n",
       "  <thead>\n",
       "    <tr style=\"text-align: right;\">\n",
       "      <th></th>\n",
       "      <th>Jan</th>\n",
       "      <th>Feb</th>\n",
       "      <th>Mar</th>\n",
       "      <th>Apr</th>\n",
       "      <th>May</th>\n",
       "      <th>Jun</th>\n",
       "      <th>Jul</th>\n",
       "      <th>Aug</th>\n",
       "      <th>Sep</th>\n",
       "      <th>Oct</th>\n",
       "      <th>Nov</th>\n",
       "      <th>Dec</th>\n",
       "      <th>Area</th>\n",
       "      <th>\\# rooms</th>\n",
       "      <th>\\# occupants</th>\n",
       "    </tr>\n",
       "  </thead>\n",
       "  <tbody>\n",
       "    <tr>\n",
       "      <th>22</th>\n",
       "      <td>373.392090</td>\n",
       "      <td>323.465149</td>\n",
       "      <td>281.185669</td>\n",
       "      <td>285.306671</td>\n",
       "      <td>313.001862</td>\n",
       "      <td>279.407867</td>\n",
       "      <td>NaN</td>\n",
       "      <td>NaN</td>\n",
       "      <td>NaN</td>\n",
       "      <td>NaN</td>\n",
       "      <td>NaN</td>\n",
       "      <td>NaN</td>\n",
       "      <td>NaN</td>\n",
       "      <td>NaN</td>\n",
       "      <td>NaN</td>\n",
       "    </tr>\n",
       "    <tr>\n",
       "      <th>26</th>\n",
       "      <td>768.899231</td>\n",
       "      <td>547.292542</td>\n",
       "      <td>592.275940</td>\n",
       "      <td>778.696533</td>\n",
       "      <td>958.539734</td>\n",
       "      <td>1381.666504</td>\n",
       "      <td>1705.293091</td>\n",
       "      <td>1887.754883</td>\n",
       "      <td>1365.123535</td>\n",
       "      <td>1197.380859</td>\n",
       "      <td>722.544678</td>\n",
       "      <td>649.852600</td>\n",
       "      <td>2047.000</td>\n",
       "      <td>6</td>\n",
       "      <td>4</td>\n",
       "    </tr>\n",
       "    <tr>\n",
       "      <th>48</th>\n",
       "      <td>NaN</td>\n",
       "      <td>NaN</td>\n",
       "      <td>NaN</td>\n",
       "      <td>NaN</td>\n",
       "      <td>NaN</td>\n",
       "      <td>NaN</td>\n",
       "      <td>NaN</td>\n",
       "      <td>NaN</td>\n",
       "      <td>NaN</td>\n",
       "      <td>NaN</td>\n",
       "      <td>NaN</td>\n",
       "      <td>NaN</td>\n",
       "      <td>NaN</td>\n",
       "      <td>NaN</td>\n",
       "      <td>NaN</td>\n",
       "    </tr>\n",
       "    <tr>\n",
       "      <th>59</th>\n",
       "      <td>2266.938721</td>\n",
       "      <td>1706.022339</td>\n",
       "      <td>1536.781616</td>\n",
       "      <td>1033.177856</td>\n",
       "      <td>1107.687134</td>\n",
       "      <td>1043.688110</td>\n",
       "      <td>1411.869995</td>\n",
       "      <td>1811.859375</td>\n",
       "      <td>1031.011719</td>\n",
       "      <td>928.767883</td>\n",
       "      <td>1062.318848</td>\n",
       "      <td>1759.900757</td>\n",
       "      <td>3600.000</td>\n",
       "      <td>11</td>\n",
       "      <td>7</td>\n",
       "    </tr>\n",
       "    <tr>\n",
       "      <th>68</th>\n",
       "      <td>279.699219</td>\n",
       "      <td>210.435669</td>\n",
       "      <td>227.262970</td>\n",
       "      <td>276.891968</td>\n",
       "      <td>258.479858</td>\n",
       "      <td>252.508026</td>\n",
       "      <td>229.573395</td>\n",
       "      <td>139.014160</td>\n",
       "      <td>NaN</td>\n",
       "      <td>NaN</td>\n",
       "      <td>NaN</td>\n",
       "      <td>NaN</td>\n",
       "      <td>NaN</td>\n",
       "      <td>NaN</td>\n",
       "      <td>NaN</td>\n",
       "    </tr>\n",
       "    <tr>\n",
       "      <th>77</th>\n",
       "      <td>1623.113037</td>\n",
       "      <td>1356.649292</td>\n",
       "      <td>1182.850952</td>\n",
       "      <td>885.992615</td>\n",
       "      <td>967.304932</td>\n",
       "      <td>1251.090332</td>\n",
       "      <td>1491.632690</td>\n",
       "      <td>1527.044067</td>\n",
       "      <td>1210.123047</td>\n",
       "      <td>939.119202</td>\n",
       "      <td>775.606873</td>\n",
       "      <td>1062.109985</td>\n",
       "      <td>NaN</td>\n",
       "      <td>NaN</td>\n",
       "      <td>NaN</td>\n",
       "    </tr>\n",
       "    <tr>\n",
       "      <th>86</th>\n",
       "      <td>630.025818</td>\n",
       "      <td>600.084106</td>\n",
       "      <td>955.503052</td>\n",
       "      <td>1491.663330</td>\n",
       "      <td>1222.311401</td>\n",
       "      <td>1355.155518</td>\n",
       "      <td>1727.751343</td>\n",
       "      <td>1902.923218</td>\n",
       "      <td>1515.274292</td>\n",
       "      <td>1171.160767</td>\n",
       "      <td>842.394348</td>\n",
       "      <td>853.155457</td>\n",
       "      <td>NaN</td>\n",
       "      <td>NaN</td>\n",
       "      <td>NaN</td>\n",
       "    </tr>\n",
       "    <tr>\n",
       "      <th>93</th>\n",
       "      <td>491.354584</td>\n",
       "      <td>400.818970</td>\n",
       "      <td>427.889282</td>\n",
       "      <td>534.796875</td>\n",
       "      <td>724.386536</td>\n",
       "      <td>1056.544678</td>\n",
       "      <td>1431.321289</td>\n",
       "      <td>1572.469360</td>\n",
       "      <td>1195.785889</td>\n",
       "      <td>763.229248</td>\n",
       "      <td>465.847748</td>\n",
       "      <td>703.208740</td>\n",
       "      <td>NaN</td>\n",
       "      <td>NaN</td>\n",
       "      <td>NaN</td>\n",
       "    </tr>\n",
       "    <tr>\n",
       "      <th>94</th>\n",
       "      <td>281.617340</td>\n",
       "      <td>223.216583</td>\n",
       "      <td>298.639008</td>\n",
       "      <td>249.025970</td>\n",
       "      <td>309.270050</td>\n",
       "      <td>366.174896</td>\n",
       "      <td>514.013794</td>\n",
       "      <td>582.055176</td>\n",
       "      <td>457.169586</td>\n",
       "      <td>344.756165</td>\n",
       "      <td>363.702362</td>\n",
       "      <td>351.160828</td>\n",
       "      <td>1713.000</td>\n",
       "      <td>3</td>\n",
       "      <td>2</td>\n",
       "    </tr>\n",
       "    <tr>\n",
       "      <th>101</th>\n",
       "      <td>289.954346</td>\n",
       "      <td>268.114197</td>\n",
       "      <td>284.569550</td>\n",
       "      <td>455.330444</td>\n",
       "      <td>520.155823</td>\n",
       "      <td>695.875916</td>\n",
       "      <td>883.083862</td>\n",
       "      <td>811.780334</td>\n",
       "      <td>715.246216</td>\n",
       "      <td>497.079376</td>\n",
       "      <td>344.554688</td>\n",
       "      <td>337.391510</td>\n",
       "      <td>1300.000</td>\n",
       "      <td>5</td>\n",
       "      <td>3</td>\n",
       "    </tr>\n",
       "    <tr>\n",
       "      <th>114</th>\n",
       "      <td>719.128662</td>\n",
       "      <td>655.224487</td>\n",
       "      <td>591.470154</td>\n",
       "      <td>673.825195</td>\n",
       "      <td>828.850098</td>\n",
       "      <td>1121.934082</td>\n",
       "      <td>1513.109009</td>\n",
       "      <td>1594.036377</td>\n",
       "      <td>1190.306396</td>\n",
       "      <td>851.052368</td>\n",
       "      <td>549.767822</td>\n",
       "      <td>832.612793</td>\n",
       "      <td>NaN</td>\n",
       "      <td>NaN</td>\n",
       "      <td>NaN</td>\n",
       "    </tr>\n",
       "    <tr>\n",
       "      <th>115</th>\n",
       "      <td>433.359406</td>\n",
       "      <td>285.229950</td>\n",
       "      <td>247.307983</td>\n",
       "      <td>231.362686</td>\n",
       "      <td>292.727600</td>\n",
       "      <td>391.906128</td>\n",
       "      <td>521.651733</td>\n",
       "      <td>506.354767</td>\n",
       "      <td>407.003418</td>\n",
       "      <td>186.148453</td>\n",
       "      <td>193.225739</td>\n",
       "      <td>301.800751</td>\n",
       "      <td>NaN</td>\n",
       "      <td>NaN</td>\n",
       "      <td>NaN</td>\n",
       "    </tr>\n",
       "    <tr>\n",
       "      <th>121</th>\n",
       "      <td>895.815979</td>\n",
       "      <td>705.471069</td>\n",
       "      <td>807.412476</td>\n",
       "      <td>1111.456177</td>\n",
       "      <td>1179.794922</td>\n",
       "      <td>1082.836426</td>\n",
       "      <td>1578.799561</td>\n",
       "      <td>1512.840942</td>\n",
       "      <td>1481.676147</td>\n",
       "      <td>227.802246</td>\n",
       "      <td>NaN</td>\n",
       "      <td>NaN</td>\n",
       "      <td>1900.000</td>\n",
       "      <td>10</td>\n",
       "      <td>3</td>\n",
       "    </tr>\n",
       "    <tr>\n",
       "      <th>130</th>\n",
       "      <td>1075.693604</td>\n",
       "      <td>937.452881</td>\n",
       "      <td>838.806580</td>\n",
       "      <td>552.615967</td>\n",
       "      <td>604.662048</td>\n",
       "      <td>604.778137</td>\n",
       "      <td>582.192810</td>\n",
       "      <td>614.474304</td>\n",
       "      <td>618.580444</td>\n",
       "      <td>521.769409</td>\n",
       "      <td>51.706871</td>\n",
       "      <td>NaN</td>\n",
       "      <td>NaN</td>\n",
       "      <td>NaN</td>\n",
       "      <td>NaN</td>\n",
       "    </tr>\n",
       "    <tr>\n",
       "      <th>135</th>\n",
       "      <td>365.911316</td>\n",
       "      <td>302.206909</td>\n",
       "      <td>282.391449</td>\n",
       "      <td>297.049316</td>\n",
       "      <td>367.814301</td>\n",
       "      <td>245.599823</td>\n",
       "      <td>NaN</td>\n",
       "      <td>NaN</td>\n",
       "      <td>NaN</td>\n",
       "      <td>NaN</td>\n",
       "      <td>NaN</td>\n",
       "      <td>NaN</td>\n",
       "      <td>816.000</td>\n",
       "      <td>2</td>\n",
       "      <td>4</td>\n",
       "    </tr>\n",
       "    <tr>\n",
       "      <th>160</th>\n",
       "      <td>490.418976</td>\n",
       "      <td>461.070068</td>\n",
       "      <td>190.816208</td>\n",
       "      <td>200.453186</td>\n",
       "      <td>342.494781</td>\n",
       "      <td>525.204346</td>\n",
       "      <td>693.158203</td>\n",
       "      <td>722.576904</td>\n",
       "      <td>659.861511</td>\n",
       "      <td>390.439392</td>\n",
       "      <td>227.739227</td>\n",
       "      <td>288.564667</td>\n",
       "      <td>NaN</td>\n",
       "      <td>NaN</td>\n",
       "      <td>NaN</td>\n",
       "    </tr>\n",
       "    <tr>\n",
       "      <th>171</th>\n",
       "      <td>462.761810</td>\n",
       "      <td>401.175568</td>\n",
       "      <td>408.609802</td>\n",
       "      <td>374.996704</td>\n",
       "      <td>477.057678</td>\n",
       "      <td>871.529419</td>\n",
       "      <td>910.399170</td>\n",
       "      <td>1289.468506</td>\n",
       "      <td>986.450928</td>\n",
       "      <td>527.140564</td>\n",
       "      <td>357.846680</td>\n",
       "      <td>461.231018</td>\n",
       "      <td>NaN</td>\n",
       "      <td>NaN</td>\n",
       "      <td>NaN</td>\n",
       "    </tr>\n",
       "    <tr>\n",
       "      <th>187</th>\n",
       "      <td>772.882324</td>\n",
       "      <td>591.637573</td>\n",
       "      <td>810.558350</td>\n",
       "      <td>682.716309</td>\n",
       "      <td>1004.496582</td>\n",
       "      <td>1698.134033</td>\n",
       "      <td>1890.141968</td>\n",
       "      <td>2360.698730</td>\n",
       "      <td>1857.893066</td>\n",
       "      <td>1409.940186</td>\n",
       "      <td>729.312378</td>\n",
       "      <td>755.031128</td>\n",
       "      <td>NaN</td>\n",
       "      <td>NaN</td>\n",
       "      <td>NaN</td>\n",
       "    </tr>\n",
       "    <tr>\n",
       "      <th>222</th>\n",
       "      <td>2150.850586</td>\n",
       "      <td>1746.420410</td>\n",
       "      <td>2212.468750</td>\n",
       "      <td>2197.506348</td>\n",
       "      <td>2504.634766</td>\n",
       "      <td>2940.629395</td>\n",
       "      <td>3481.583496</td>\n",
       "      <td>4581.233398</td>\n",
       "      <td>2525.761230</td>\n",
       "      <td>2450.544922</td>\n",
       "      <td>1882.875244</td>\n",
       "      <td>1779.793457</td>\n",
       "      <td>2200.000</td>\n",
       "      <td>4</td>\n",
       "      <td>5</td>\n",
       "    </tr>\n",
       "    <tr>\n",
       "      <th>243</th>\n",
       "      <td>312.901794</td>\n",
       "      <td>312.564850</td>\n",
       "      <td>2.833167</td>\n",
       "      <td>NaN</td>\n",
       "      <td>NaN</td>\n",
       "      <td>NaN</td>\n",
       "      <td>NaN</td>\n",
       "      <td>NaN</td>\n",
       "      <td>NaN</td>\n",
       "      <td>NaN</td>\n",
       "      <td>NaN</td>\n",
       "      <td>NaN</td>\n",
       "      <td>NaN</td>\n",
       "      <td>NaN</td>\n",
       "      <td>NaN</td>\n",
       "    </tr>\n",
       "    <tr>\n",
       "      <th>252</th>\n",
       "      <td>1311.030151</td>\n",
       "      <td>1114.184814</td>\n",
       "      <td>1181.426025</td>\n",
       "      <td>1511.045654</td>\n",
       "      <td>1743.296631</td>\n",
       "      <td>2259.904785</td>\n",
       "      <td>2628.325195</td>\n",
       "      <td>2822.784912</td>\n",
       "      <td>2247.722900</td>\n",
       "      <td>1686.475830</td>\n",
       "      <td>1220.345215</td>\n",
       "      <td>1769.030884</td>\n",
       "      <td>2700.000</td>\n",
       "      <td>4</td>\n",
       "      <td>4</td>\n",
       "    </tr>\n",
       "    <tr>\n",
       "      <th>267</th>\n",
       "      <td>777.540161</td>\n",
       "      <td>613.318604</td>\n",
       "      <td>557.776001</td>\n",
       "      <td>321.325562</td>\n",
       "      <td>299.313507</td>\n",
       "      <td>324.447052</td>\n",
       "      <td>452.409607</td>\n",
       "      <td>401.828918</td>\n",
       "      <td>331.203186</td>\n",
       "      <td>218.929565</td>\n",
       "      <td>NaN</td>\n",
       "      <td>NaN</td>\n",
       "      <td>NaN</td>\n",
       "      <td>NaN</td>\n",
       "      <td>NaN</td>\n",
       "    </tr>\n",
       "    <tr>\n",
       "      <th>297</th>\n",
       "      <td>781.663635</td>\n",
       "      <td>777.965698</td>\n",
       "      <td>650.973816</td>\n",
       "      <td>445.415131</td>\n",
       "      <td>542.986389</td>\n",
       "      <td>530.966858</td>\n",
       "      <td>391.308350</td>\n",
       "      <td>NaN</td>\n",
       "      <td>NaN</td>\n",
       "      <td>NaN</td>\n",
       "      <td>NaN</td>\n",
       "      <td>NaN</td>\n",
       "      <td>NaN</td>\n",
       "      <td>NaN</td>\n",
       "      <td>NaN</td>\n",
       "    </tr>\n",
       "    <tr>\n",
       "      <th>347</th>\n",
       "      <td>338.062531</td>\n",
       "      <td>281.607056</td>\n",
       "      <td>252.984039</td>\n",
       "      <td>231.016052</td>\n",
       "      <td>255.570984</td>\n",
       "      <td>NaN</td>\n",
       "      <td>NaN</td>\n",
       "      <td>NaN</td>\n",
       "      <td>NaN</td>\n",
       "      <td>NaN</td>\n",
       "      <td>NaN</td>\n",
       "      <td>NaN</td>\n",
       "      <td>NaN</td>\n",
       "      <td>NaN</td>\n",
       "      <td>NaN</td>\n",
       "    </tr>\n",
       "    <tr>\n",
       "      <th>364</th>\n",
       "      <td>684.746887</td>\n",
       "      <td>612.175659</td>\n",
       "      <td>596.638245</td>\n",
       "      <td>630.532043</td>\n",
       "      <td>904.911865</td>\n",
       "      <td>1351.847168</td>\n",
       "      <td>1483.607178</td>\n",
       "      <td>1504.836792</td>\n",
       "      <td>1233.065186</td>\n",
       "      <td>945.998047</td>\n",
       "      <td>426.742920</td>\n",
       "      <td>160.745590</td>\n",
       "      <td>2200.000</td>\n",
       "      <td>10</td>\n",
       "      <td>2</td>\n",
       "    </tr>\n",
       "    <tr>\n",
       "      <th>370</th>\n",
       "      <td>805.843750</td>\n",
       "      <td>734.164673</td>\n",
       "      <td>941.603882</td>\n",
       "      <td>928.400452</td>\n",
       "      <td>1033.538086</td>\n",
       "      <td>NaN</td>\n",
       "      <td>1505.231323</td>\n",
       "      <td>1753.126343</td>\n",
       "      <td>1257.908203</td>\n",
       "      <td>1142.924072</td>\n",
       "      <td>879.740601</td>\n",
       "      <td>958.250488</td>\n",
       "      <td>2682.000</td>\n",
       "      <td>8</td>\n",
       "      <td>2</td>\n",
       "    </tr>\n",
       "    <tr>\n",
       "      <th>379</th>\n",
       "      <td>NaN</td>\n",
       "      <td>NaN</td>\n",
       "      <td>NaN</td>\n",
       "      <td>NaN</td>\n",
       "      <td>NaN</td>\n",
       "      <td>NaN</td>\n",
       "      <td>NaN</td>\n",
       "      <td>NaN</td>\n",
       "      <td>175.486526</td>\n",
       "      <td>921.392456</td>\n",
       "      <td>821.224304</td>\n",
       "      <td>1066.633057</td>\n",
       "      <td>NaN</td>\n",
       "      <td>NaN</td>\n",
       "      <td>NaN</td>\n",
       "    </tr>\n",
       "    <tr>\n",
       "      <th>410</th>\n",
       "      <td>674.889709</td>\n",
       "      <td>454.175323</td>\n",
       "      <td>643.192932</td>\n",
       "      <td>424.032471</td>\n",
       "      <td>440.520142</td>\n",
       "      <td>801.643066</td>\n",
       "      <td>1184.608521</td>\n",
       "      <td>1114.871338</td>\n",
       "      <td>896.921448</td>\n",
       "      <td>576.361145</td>\n",
       "      <td>NaN</td>\n",
       "      <td>NaN</td>\n",
       "      <td>1299.000</td>\n",
       "      <td>8</td>\n",
       "      <td>2</td>\n",
       "    </tr>\n",
       "    <tr>\n",
       "      <th>434</th>\n",
       "      <td>733.505615</td>\n",
       "      <td>642.932800</td>\n",
       "      <td>677.324341</td>\n",
       "      <td>928.049622</td>\n",
       "      <td>1167.306396</td>\n",
       "      <td>1629.431641</td>\n",
       "      <td>2127.826904</td>\n",
       "      <td>2408.688721</td>\n",
       "      <td>1963.247559</td>\n",
       "      <td>1390.892700</td>\n",
       "      <td>780.034973</td>\n",
       "      <td>835.262817</td>\n",
       "      <td>NaN</td>\n",
       "      <td>NaN</td>\n",
       "      <td>NaN</td>\n",
       "    </tr>\n",
       "    <tr>\n",
       "      <th>436</th>\n",
       "      <td>567.141357</td>\n",
       "      <td>510.172089</td>\n",
       "      <td>613.824646</td>\n",
       "      <td>390.190979</td>\n",
       "      <td>361.505219</td>\n",
       "      <td>376.128571</td>\n",
       "      <td>383.360352</td>\n",
       "      <td>422.692902</td>\n",
       "      <td>408.967834</td>\n",
       "      <td>228.403580</td>\n",
       "      <td>NaN</td>\n",
       "      <td>NaN</td>\n",
       "      <td>NaN</td>\n",
       "      <td>NaN</td>\n",
       "      <td>NaN</td>\n",
       "    </tr>\n",
       "    <tr>\n",
       "      <th>...</th>\n",
       "      <td>...</td>\n",
       "      <td>...</td>\n",
       "      <td>...</td>\n",
       "      <td>...</td>\n",
       "      <td>...</td>\n",
       "      <td>...</td>\n",
       "      <td>...</td>\n",
       "      <td>...</td>\n",
       "      <td>...</td>\n",
       "      <td>...</td>\n",
       "      <td>...</td>\n",
       "      <td>...</td>\n",
       "      <td>...</td>\n",
       "      <td>...</td>\n",
       "      <td>...</td>\n",
       "    </tr>\n",
       "    <tr>\n",
       "      <th>9737</th>\n",
       "      <td>1039.030884</td>\n",
       "      <td>907.498962</td>\n",
       "      <td>1023.281799</td>\n",
       "      <td>1381.142578</td>\n",
       "      <td>1619.456909</td>\n",
       "      <td>2419.685547</td>\n",
       "      <td>2931.249512</td>\n",
       "      <td>3424.078613</td>\n",
       "      <td>2666.078857</td>\n",
       "      <td>1854.200806</td>\n",
       "      <td>1001.192383</td>\n",
       "      <td>1117.437622</td>\n",
       "      <td>NaN</td>\n",
       "      <td>NaN</td>\n",
       "      <td>NaN</td>\n",
       "    </tr>\n",
       "    <tr>\n",
       "      <th>9745</th>\n",
       "      <td>5047.780762</td>\n",
       "      <td>4430.498535</td>\n",
       "      <td>4914.707520</td>\n",
       "      <td>5898.281738</td>\n",
       "      <td>8309.189453</td>\n",
       "      <td>8483.021484</td>\n",
       "      <td>11361.291016</td>\n",
       "      <td>10286.301758</td>\n",
       "      <td>9161.138672</td>\n",
       "      <td>6739.219727</td>\n",
       "      <td>2228.977051</td>\n",
       "      <td>NaN</td>\n",
       "      <td>NaN</td>\n",
       "      <td>NaN</td>\n",
       "      <td>NaN</td>\n",
       "    </tr>\n",
       "    <tr>\n",
       "      <th>9766</th>\n",
       "      <td>542.490662</td>\n",
       "      <td>472.218018</td>\n",
       "      <td>539.007385</td>\n",
       "      <td>724.932556</td>\n",
       "      <td>858.908936</td>\n",
       "      <td>1222.533447</td>\n",
       "      <td>1575.739380</td>\n",
       "      <td>1468.991455</td>\n",
       "      <td>1263.345093</td>\n",
       "      <td>860.393616</td>\n",
       "      <td>683.289917</td>\n",
       "      <td>710.838074</td>\n",
       "      <td>NaN</td>\n",
       "      <td>NaN</td>\n",
       "      <td>NaN</td>\n",
       "    </tr>\n",
       "    <tr>\n",
       "      <th>9771</th>\n",
       "      <td>1728.480957</td>\n",
       "      <td>1406.237671</td>\n",
       "      <td>1319.241089</td>\n",
       "      <td>1371.239624</td>\n",
       "      <td>1488.376587</td>\n",
       "      <td>2187.083984</td>\n",
       "      <td>2658.951660</td>\n",
       "      <td>2820.871582</td>\n",
       "      <td>2157.232422</td>\n",
       "      <td>1572.343140</td>\n",
       "      <td>1274.156616</td>\n",
       "      <td>1611.699463</td>\n",
       "      <td>NaN</td>\n",
       "      <td>NaN</td>\n",
       "      <td>NaN</td>\n",
       "    </tr>\n",
       "    <tr>\n",
       "      <th>9773</th>\n",
       "      <td>213.219086</td>\n",
       "      <td>NaN</td>\n",
       "      <td>NaN</td>\n",
       "      <td>NaN</td>\n",
       "      <td>NaN</td>\n",
       "      <td>NaN</td>\n",
       "      <td>NaN</td>\n",
       "      <td>NaN</td>\n",
       "      <td>NaN</td>\n",
       "      <td>NaN</td>\n",
       "      <td>NaN</td>\n",
       "      <td>NaN</td>\n",
       "      <td>2350.000</td>\n",
       "      <td>4</td>\n",
       "      <td>2</td>\n",
       "    </tr>\n",
       "    <tr>\n",
       "      <th>9803</th>\n",
       "      <td>337.061707</td>\n",
       "      <td>135.944275</td>\n",
       "      <td>201.787903</td>\n",
       "      <td>258.606995</td>\n",
       "      <td>256.813599</td>\n",
       "      <td>53.060947</td>\n",
       "      <td>NaN</td>\n",
       "      <td>NaN</td>\n",
       "      <td>NaN</td>\n",
       "      <td>NaN</td>\n",
       "      <td>NaN</td>\n",
       "      <td>NaN</td>\n",
       "      <td>NaN</td>\n",
       "      <td>NaN</td>\n",
       "      <td>NaN</td>\n",
       "    </tr>\n",
       "    <tr>\n",
       "      <th>9830</th>\n",
       "      <td>NaN</td>\n",
       "      <td>NaN</td>\n",
       "      <td>NaN</td>\n",
       "      <td>NaN</td>\n",
       "      <td>NaN</td>\n",
       "      <td>NaN</td>\n",
       "      <td>NaN</td>\n",
       "      <td>NaN</td>\n",
       "      <td>NaN</td>\n",
       "      <td>NaN</td>\n",
       "      <td>NaN</td>\n",
       "      <td>NaN</td>\n",
       "      <td>NaN</td>\n",
       "      <td>NaN</td>\n",
       "      <td>NaN</td>\n",
       "    </tr>\n",
       "    <tr>\n",
       "      <th>9846</th>\n",
       "      <td>NaN</td>\n",
       "      <td>NaN</td>\n",
       "      <td>NaN</td>\n",
       "      <td>NaN</td>\n",
       "      <td>NaN</td>\n",
       "      <td>NaN</td>\n",
       "      <td>NaN</td>\n",
       "      <td>NaN</td>\n",
       "      <td>NaN</td>\n",
       "      <td>NaN</td>\n",
       "      <td>NaN</td>\n",
       "      <td>NaN</td>\n",
       "      <td>NaN</td>\n",
       "      <td>NaN</td>\n",
       "      <td>NaN</td>\n",
       "    </tr>\n",
       "    <tr>\n",
       "      <th>9875</th>\n",
       "      <td>762.678040</td>\n",
       "      <td>698.375000</td>\n",
       "      <td>739.609924</td>\n",
       "      <td>783.971375</td>\n",
       "      <td>944.236328</td>\n",
       "      <td>1363.852539</td>\n",
       "      <td>1690.458984</td>\n",
       "      <td>1319.914429</td>\n",
       "      <td>920.881287</td>\n",
       "      <td>456.982361</td>\n",
       "      <td>334.114471</td>\n",
       "      <td>394.354889</td>\n",
       "      <td>NaN</td>\n",
       "      <td>NaN</td>\n",
       "      <td>NaN</td>\n",
       "    </tr>\n",
       "    <tr>\n",
       "      <th>9912</th>\n",
       "      <td>651.133667</td>\n",
       "      <td>543.414856</td>\n",
       "      <td>366.158508</td>\n",
       "      <td>350.944214</td>\n",
       "      <td>375.145050</td>\n",
       "      <td>431.547729</td>\n",
       "      <td>544.980347</td>\n",
       "      <td>630.959106</td>\n",
       "      <td>574.827759</td>\n",
       "      <td>477.122253</td>\n",
       "      <td>371.727600</td>\n",
       "      <td>315.690918</td>\n",
       "      <td>0.713</td>\n",
       "      <td>2</td>\n",
       "      <td>1</td>\n",
       "    </tr>\n",
       "    <tr>\n",
       "      <th>9915</th>\n",
       "      <td>495.921326</td>\n",
       "      <td>329.525085</td>\n",
       "      <td>345.693390</td>\n",
       "      <td>357.060974</td>\n",
       "      <td>583.085938</td>\n",
       "      <td>952.275818</td>\n",
       "      <td>1335.460449</td>\n",
       "      <td>1256.194580</td>\n",
       "      <td>898.252808</td>\n",
       "      <td>566.506775</td>\n",
       "      <td>340.401428</td>\n",
       "      <td>395.125793</td>\n",
       "      <td>NaN</td>\n",
       "      <td>NaN</td>\n",
       "      <td>NaN</td>\n",
       "    </tr>\n",
       "    <tr>\n",
       "      <th>9919</th>\n",
       "      <td>1160.616699</td>\n",
       "      <td>756.767700</td>\n",
       "      <td>946.351624</td>\n",
       "      <td>1023.567444</td>\n",
       "      <td>NaN</td>\n",
       "      <td>NaN</td>\n",
       "      <td>NaN</td>\n",
       "      <td>NaN</td>\n",
       "      <td>NaN</td>\n",
       "      <td>NaN</td>\n",
       "      <td>NaN</td>\n",
       "      <td>NaN</td>\n",
       "      <td>NaN</td>\n",
       "      <td>NaN</td>\n",
       "      <td>NaN</td>\n",
       "    </tr>\n",
       "    <tr>\n",
       "      <th>9921</th>\n",
       "      <td>216.559906</td>\n",
       "      <td>186.747162</td>\n",
       "      <td>204.450439</td>\n",
       "      <td>383.865601</td>\n",
       "      <td>556.865845</td>\n",
       "      <td>927.876160</td>\n",
       "      <td>1326.905273</td>\n",
       "      <td>1459.986816</td>\n",
       "      <td>969.470215</td>\n",
       "      <td>609.606079</td>\n",
       "      <td>219.383316</td>\n",
       "      <td>206.670883</td>\n",
       "      <td>NaN</td>\n",
       "      <td>NaN</td>\n",
       "      <td>NaN</td>\n",
       "    </tr>\n",
       "    <tr>\n",
       "      <th>9922</th>\n",
       "      <td>1762.189575</td>\n",
       "      <td>1453.168579</td>\n",
       "      <td>1662.948486</td>\n",
       "      <td>1694.095459</td>\n",
       "      <td>799.732239</td>\n",
       "      <td>925.642456</td>\n",
       "      <td>2344.715332</td>\n",
       "      <td>2735.513184</td>\n",
       "      <td>2158.228027</td>\n",
       "      <td>1737.949097</td>\n",
       "      <td>1638.078979</td>\n",
       "      <td>1734.609253</td>\n",
       "      <td>2300.000</td>\n",
       "      <td>5</td>\n",
       "      <td>2</td>\n",
       "    </tr>\n",
       "    <tr>\n",
       "      <th>9923</th>\n",
       "      <td>NaN</td>\n",
       "      <td>NaN</td>\n",
       "      <td>NaN</td>\n",
       "      <td>NaN</td>\n",
       "      <td>NaN</td>\n",
       "      <td>NaN</td>\n",
       "      <td>NaN</td>\n",
       "      <td>NaN</td>\n",
       "      <td>NaN</td>\n",
       "      <td>NaN</td>\n",
       "      <td>NaN</td>\n",
       "      <td>NaN</td>\n",
       "      <td>NaN</td>\n",
       "      <td>NaN</td>\n",
       "      <td>NaN</td>\n",
       "    </tr>\n",
       "    <tr>\n",
       "      <th>9926</th>\n",
       "      <td>643.817017</td>\n",
       "      <td>448.363617</td>\n",
       "      <td>487.265198</td>\n",
       "      <td>595.796753</td>\n",
       "      <td>723.723877</td>\n",
       "      <td>843.128235</td>\n",
       "      <td>1066.168579</td>\n",
       "      <td>1299.351929</td>\n",
       "      <td>1004.010132</td>\n",
       "      <td>696.866272</td>\n",
       "      <td>620.106628</td>\n",
       "      <td>677.066345</td>\n",
       "      <td>NaN</td>\n",
       "      <td>NaN</td>\n",
       "      <td>NaN</td>\n",
       "    </tr>\n",
       "    <tr>\n",
       "      <th>9929</th>\n",
       "      <td>259.896240</td>\n",
       "      <td>226.242950</td>\n",
       "      <td>205.515610</td>\n",
       "      <td>254.718506</td>\n",
       "      <td>266.180542</td>\n",
       "      <td>471.340759</td>\n",
       "      <td>248.389099</td>\n",
       "      <td>NaN</td>\n",
       "      <td>NaN</td>\n",
       "      <td>NaN</td>\n",
       "      <td>NaN</td>\n",
       "      <td>NaN</td>\n",
       "      <td>NaN</td>\n",
       "      <td>NaN</td>\n",
       "      <td>NaN</td>\n",
       "    </tr>\n",
       "    <tr>\n",
       "      <th>9931</th>\n",
       "      <td>235.904938</td>\n",
       "      <td>241.134064</td>\n",
       "      <td>194.156586</td>\n",
       "      <td>317.407227</td>\n",
       "      <td>380.916351</td>\n",
       "      <td>270.820984</td>\n",
       "      <td>NaN</td>\n",
       "      <td>NaN</td>\n",
       "      <td>NaN</td>\n",
       "      <td>NaN</td>\n",
       "      <td>NaN</td>\n",
       "      <td>NaN</td>\n",
       "      <td>816.000</td>\n",
       "      <td>2</td>\n",
       "      <td>3</td>\n",
       "    </tr>\n",
       "    <tr>\n",
       "      <th>9932</th>\n",
       "      <td>430.200531</td>\n",
       "      <td>424.707031</td>\n",
       "      <td>379.121399</td>\n",
       "      <td>338.464966</td>\n",
       "      <td>406.351776</td>\n",
       "      <td>511.886841</td>\n",
       "      <td>817.289307</td>\n",
       "      <td>507.100830</td>\n",
       "      <td>578.296631</td>\n",
       "      <td>407.259369</td>\n",
       "      <td>379.781097</td>\n",
       "      <td>379.402649</td>\n",
       "      <td>2350.000</td>\n",
       "      <td>8</td>\n",
       "      <td>2</td>\n",
       "    </tr>\n",
       "    <tr>\n",
       "      <th>9933</th>\n",
       "      <td>1493.002930</td>\n",
       "      <td>487.447754</td>\n",
       "      <td>485.618195</td>\n",
       "      <td>639.586609</td>\n",
       "      <td>670.701721</td>\n",
       "      <td>823.264465</td>\n",
       "      <td>1028.308472</td>\n",
       "      <td>1148.846802</td>\n",
       "      <td>871.885559</td>\n",
       "      <td>801.091187</td>\n",
       "      <td>633.371704</td>\n",
       "      <td>724.268555</td>\n",
       "      <td>1474.000</td>\n",
       "      <td>8</td>\n",
       "      <td>4</td>\n",
       "    </tr>\n",
       "    <tr>\n",
       "      <th>9934</th>\n",
       "      <td>NaN</td>\n",
       "      <td>NaN</td>\n",
       "      <td>NaN</td>\n",
       "      <td>NaN</td>\n",
       "      <td>NaN</td>\n",
       "      <td>NaN</td>\n",
       "      <td>NaN</td>\n",
       "      <td>NaN</td>\n",
       "      <td>NaN</td>\n",
       "      <td>NaN</td>\n",
       "      <td>NaN</td>\n",
       "      <td>NaN</td>\n",
       "      <td>2500.000</td>\n",
       "      <td>8</td>\n",
       "      <td>2</td>\n",
       "    </tr>\n",
       "    <tr>\n",
       "      <th>9935</th>\n",
       "      <td>6381.365723</td>\n",
       "      <td>4727.604004</td>\n",
       "      <td>3685.934082</td>\n",
       "      <td>3080.747070</td>\n",
       "      <td>3537.090576</td>\n",
       "      <td>3966.655273</td>\n",
       "      <td>5043.582031</td>\n",
       "      <td>4388.393555</td>\n",
       "      <td>4274.599121</td>\n",
       "      <td>3234.736084</td>\n",
       "      <td>3962.072998</td>\n",
       "      <td>5222.176758</td>\n",
       "      <td>NaN</td>\n",
       "      <td>NaN</td>\n",
       "      <td>NaN</td>\n",
       "    </tr>\n",
       "    <tr>\n",
       "      <th>9936</th>\n",
       "      <td>NaN</td>\n",
       "      <td>NaN</td>\n",
       "      <td>NaN</td>\n",
       "      <td>NaN</td>\n",
       "      <td>NaN</td>\n",
       "      <td>NaN</td>\n",
       "      <td>NaN</td>\n",
       "      <td>NaN</td>\n",
       "      <td>NaN</td>\n",
       "      <td>NaN</td>\n",
       "      <td>NaN</td>\n",
       "      <td>NaN</td>\n",
       "      <td>NaN</td>\n",
       "      <td>NaN</td>\n",
       "      <td>NaN</td>\n",
       "    </tr>\n",
       "    <tr>\n",
       "      <th>9937</th>\n",
       "      <td>553.003357</td>\n",
       "      <td>522.249878</td>\n",
       "      <td>430.101166</td>\n",
       "      <td>375.661804</td>\n",
       "      <td>575.888184</td>\n",
       "      <td>990.280212</td>\n",
       "      <td>1438.265869</td>\n",
       "      <td>1052.150513</td>\n",
       "      <td>773.653748</td>\n",
       "      <td>551.266357</td>\n",
       "      <td>440.589813</td>\n",
       "      <td>734.997437</td>\n",
       "      <td>NaN</td>\n",
       "      <td>NaN</td>\n",
       "      <td>NaN</td>\n",
       "    </tr>\n",
       "    <tr>\n",
       "      <th>9938</th>\n",
       "      <td>2245.673584</td>\n",
       "      <td>1593.615356</td>\n",
       "      <td>1648.155151</td>\n",
       "      <td>949.802490</td>\n",
       "      <td>1288.654663</td>\n",
       "      <td>1565.344727</td>\n",
       "      <td>1846.404053</td>\n",
       "      <td>1961.977417</td>\n",
       "      <td>1427.235962</td>\n",
       "      <td>1135.299194</td>\n",
       "      <td>1111.502930</td>\n",
       "      <td>1408.907471</td>\n",
       "      <td>NaN</td>\n",
       "      <td>NaN</td>\n",
       "      <td>NaN</td>\n",
       "    </tr>\n",
       "    <tr>\n",
       "      <th>9939</th>\n",
       "      <td>774.068420</td>\n",
       "      <td>609.555054</td>\n",
       "      <td>752.183899</td>\n",
       "      <td>734.876709</td>\n",
       "      <td>833.649048</td>\n",
       "      <td>1172.414795</td>\n",
       "      <td>1461.135742</td>\n",
       "      <td>725.334229</td>\n",
       "      <td>NaN</td>\n",
       "      <td>NaN</td>\n",
       "      <td>NaN</td>\n",
       "      <td>814.567993</td>\n",
       "      <td>NaN</td>\n",
       "      <td>NaN</td>\n",
       "      <td>NaN</td>\n",
       "    </tr>\n",
       "    <tr>\n",
       "      <th>9942</th>\n",
       "      <td>656.363892</td>\n",
       "      <td>558.011841</td>\n",
       "      <td>690.846130</td>\n",
       "      <td>701.867554</td>\n",
       "      <td>811.242310</td>\n",
       "      <td>1051.918457</td>\n",
       "      <td>1243.787842</td>\n",
       "      <td>1285.826294</td>\n",
       "      <td>968.036438</td>\n",
       "      <td>725.348633</td>\n",
       "      <td>563.261169</td>\n",
       "      <td>611.467346</td>\n",
       "      <td>NaN</td>\n",
       "      <td>NaN</td>\n",
       "      <td>NaN</td>\n",
       "    </tr>\n",
       "    <tr>\n",
       "      <th>9971</th>\n",
       "      <td>902.673462</td>\n",
       "      <td>698.786560</td>\n",
       "      <td>510.169220</td>\n",
       "      <td>328.979401</td>\n",
       "      <td>409.923065</td>\n",
       "      <td>737.478149</td>\n",
       "      <td>1068.001343</td>\n",
       "      <td>1161.395386</td>\n",
       "      <td>871.436646</td>\n",
       "      <td>178.216537</td>\n",
       "      <td>276.966858</td>\n",
       "      <td>371.256470</td>\n",
       "      <td>3100.000</td>\n",
       "      <td>4</td>\n",
       "      <td>2</td>\n",
       "    </tr>\n",
       "    <tr>\n",
       "      <th>9981</th>\n",
       "      <td>448.116852</td>\n",
       "      <td>365.197906</td>\n",
       "      <td>364.862976</td>\n",
       "      <td>336.384186</td>\n",
       "      <td>382.511993</td>\n",
       "      <td>277.306824</td>\n",
       "      <td>NaN</td>\n",
       "      <td>NaN</td>\n",
       "      <td>NaN</td>\n",
       "      <td>NaN</td>\n",
       "      <td>NaN</td>\n",
       "      <td>NaN</td>\n",
       "      <td>NaN</td>\n",
       "      <td>NaN</td>\n",
       "      <td>NaN</td>\n",
       "    </tr>\n",
       "    <tr>\n",
       "      <th>9982</th>\n",
       "      <td>406.728180</td>\n",
       "      <td>317.832733</td>\n",
       "      <td>329.520996</td>\n",
       "      <td>439.161530</td>\n",
       "      <td>572.085815</td>\n",
       "      <td>754.655701</td>\n",
       "      <td>1160.476929</td>\n",
       "      <td>1037.715576</td>\n",
       "      <td>891.127014</td>\n",
       "      <td>660.871033</td>\n",
       "      <td>468.034668</td>\n",
       "      <td>406.881348</td>\n",
       "      <td>1400.000</td>\n",
       "      <td>4</td>\n",
       "      <td>4</td>\n",
       "    </tr>\n",
       "  </tbody>\n",
       "</table>\n",
       "<p>586 rows × 15 columns</p>\n",
       "</div>"
      ],
      "text/plain": [
       "              Jan          Feb          Mar          Apr          May  \\\n",
       "22     373.392090   323.465149   281.185669   285.306671   313.001862   \n",
       "26     768.899231   547.292542   592.275940   778.696533   958.539734   \n",
       "48            NaN          NaN          NaN          NaN          NaN   \n",
       "59    2266.938721  1706.022339  1536.781616  1033.177856  1107.687134   \n",
       "68     279.699219   210.435669   227.262970   276.891968   258.479858   \n",
       "77    1623.113037  1356.649292  1182.850952   885.992615   967.304932   \n",
       "86     630.025818   600.084106   955.503052  1491.663330  1222.311401   \n",
       "93     491.354584   400.818970   427.889282   534.796875   724.386536   \n",
       "94     281.617340   223.216583   298.639008   249.025970   309.270050   \n",
       "101    289.954346   268.114197   284.569550   455.330444   520.155823   \n",
       "114    719.128662   655.224487   591.470154   673.825195   828.850098   \n",
       "115    433.359406   285.229950   247.307983   231.362686   292.727600   \n",
       "121    895.815979   705.471069   807.412476  1111.456177  1179.794922   \n",
       "130   1075.693604   937.452881   838.806580   552.615967   604.662048   \n",
       "135    365.911316   302.206909   282.391449   297.049316   367.814301   \n",
       "160    490.418976   461.070068   190.816208   200.453186   342.494781   \n",
       "171    462.761810   401.175568   408.609802   374.996704   477.057678   \n",
       "187    772.882324   591.637573   810.558350   682.716309  1004.496582   \n",
       "222   2150.850586  1746.420410  2212.468750  2197.506348  2504.634766   \n",
       "243    312.901794   312.564850     2.833167          NaN          NaN   \n",
       "252   1311.030151  1114.184814  1181.426025  1511.045654  1743.296631   \n",
       "267    777.540161   613.318604   557.776001   321.325562   299.313507   \n",
       "297    781.663635   777.965698   650.973816   445.415131   542.986389   \n",
       "347    338.062531   281.607056   252.984039   231.016052   255.570984   \n",
       "364    684.746887   612.175659   596.638245   630.532043   904.911865   \n",
       "370    805.843750   734.164673   941.603882   928.400452  1033.538086   \n",
       "379           NaN          NaN          NaN          NaN          NaN   \n",
       "410    674.889709   454.175323   643.192932   424.032471   440.520142   \n",
       "434    733.505615   642.932800   677.324341   928.049622  1167.306396   \n",
       "436    567.141357   510.172089   613.824646   390.190979   361.505219   \n",
       "...           ...          ...          ...          ...          ...   \n",
       "9737  1039.030884   907.498962  1023.281799  1381.142578  1619.456909   \n",
       "9745  5047.780762  4430.498535  4914.707520  5898.281738  8309.189453   \n",
       "9766   542.490662   472.218018   539.007385   724.932556   858.908936   \n",
       "9771  1728.480957  1406.237671  1319.241089  1371.239624  1488.376587   \n",
       "9773   213.219086          NaN          NaN          NaN          NaN   \n",
       "9803   337.061707   135.944275   201.787903   258.606995   256.813599   \n",
       "9830          NaN          NaN          NaN          NaN          NaN   \n",
       "9846          NaN          NaN          NaN          NaN          NaN   \n",
       "9875   762.678040   698.375000   739.609924   783.971375   944.236328   \n",
       "9912   651.133667   543.414856   366.158508   350.944214   375.145050   \n",
       "9915   495.921326   329.525085   345.693390   357.060974   583.085938   \n",
       "9919  1160.616699   756.767700   946.351624  1023.567444          NaN   \n",
       "9921   216.559906   186.747162   204.450439   383.865601   556.865845   \n",
       "9922  1762.189575  1453.168579  1662.948486  1694.095459   799.732239   \n",
       "9923          NaN          NaN          NaN          NaN          NaN   \n",
       "9926   643.817017   448.363617   487.265198   595.796753   723.723877   \n",
       "9929   259.896240   226.242950   205.515610   254.718506   266.180542   \n",
       "9931   235.904938   241.134064   194.156586   317.407227   380.916351   \n",
       "9932   430.200531   424.707031   379.121399   338.464966   406.351776   \n",
       "9933  1493.002930   487.447754   485.618195   639.586609   670.701721   \n",
       "9934          NaN          NaN          NaN          NaN          NaN   \n",
       "9935  6381.365723  4727.604004  3685.934082  3080.747070  3537.090576   \n",
       "9936          NaN          NaN          NaN          NaN          NaN   \n",
       "9937   553.003357   522.249878   430.101166   375.661804   575.888184   \n",
       "9938  2245.673584  1593.615356  1648.155151   949.802490  1288.654663   \n",
       "9939   774.068420   609.555054   752.183899   734.876709   833.649048   \n",
       "9942   656.363892   558.011841   690.846130   701.867554   811.242310   \n",
       "9971   902.673462   698.786560   510.169220   328.979401   409.923065   \n",
       "9981   448.116852   365.197906   364.862976   336.384186   382.511993   \n",
       "9982   406.728180   317.832733   329.520996   439.161530   572.085815   \n",
       "\n",
       "              Jun           Jul           Aug          Sep          Oct  \\\n",
       "22     279.407867           NaN           NaN          NaN          NaN   \n",
       "26    1381.666504   1705.293091   1887.754883  1365.123535  1197.380859   \n",
       "48            NaN           NaN           NaN          NaN          NaN   \n",
       "59    1043.688110   1411.869995   1811.859375  1031.011719   928.767883   \n",
       "68     252.508026    229.573395    139.014160          NaN          NaN   \n",
       "77    1251.090332   1491.632690   1527.044067  1210.123047   939.119202   \n",
       "86    1355.155518   1727.751343   1902.923218  1515.274292  1171.160767   \n",
       "93    1056.544678   1431.321289   1572.469360  1195.785889   763.229248   \n",
       "94     366.174896    514.013794    582.055176   457.169586   344.756165   \n",
       "101    695.875916    883.083862    811.780334   715.246216   497.079376   \n",
       "114   1121.934082   1513.109009   1594.036377  1190.306396   851.052368   \n",
       "115    391.906128    521.651733    506.354767   407.003418   186.148453   \n",
       "121   1082.836426   1578.799561   1512.840942  1481.676147   227.802246   \n",
       "130    604.778137    582.192810    614.474304   618.580444   521.769409   \n",
       "135    245.599823           NaN           NaN          NaN          NaN   \n",
       "160    525.204346    693.158203    722.576904   659.861511   390.439392   \n",
       "171    871.529419    910.399170   1289.468506   986.450928   527.140564   \n",
       "187   1698.134033   1890.141968   2360.698730  1857.893066  1409.940186   \n",
       "222   2940.629395   3481.583496   4581.233398  2525.761230  2450.544922   \n",
       "243           NaN           NaN           NaN          NaN          NaN   \n",
       "252   2259.904785   2628.325195   2822.784912  2247.722900  1686.475830   \n",
       "267    324.447052    452.409607    401.828918   331.203186   218.929565   \n",
       "297    530.966858    391.308350           NaN          NaN          NaN   \n",
       "347           NaN           NaN           NaN          NaN          NaN   \n",
       "364   1351.847168   1483.607178   1504.836792  1233.065186   945.998047   \n",
       "370           NaN   1505.231323   1753.126343  1257.908203  1142.924072   \n",
       "379           NaN           NaN           NaN   175.486526   921.392456   \n",
       "410    801.643066   1184.608521   1114.871338   896.921448   576.361145   \n",
       "434   1629.431641   2127.826904   2408.688721  1963.247559  1390.892700   \n",
       "436    376.128571    383.360352    422.692902   408.967834   228.403580   \n",
       "...           ...           ...           ...          ...          ...   \n",
       "9737  2419.685547   2931.249512   3424.078613  2666.078857  1854.200806   \n",
       "9745  8483.021484  11361.291016  10286.301758  9161.138672  6739.219727   \n",
       "9766  1222.533447   1575.739380   1468.991455  1263.345093   860.393616   \n",
       "9771  2187.083984   2658.951660   2820.871582  2157.232422  1572.343140   \n",
       "9773          NaN           NaN           NaN          NaN          NaN   \n",
       "9803    53.060947           NaN           NaN          NaN          NaN   \n",
       "9830          NaN           NaN           NaN          NaN          NaN   \n",
       "9846          NaN           NaN           NaN          NaN          NaN   \n",
       "9875  1363.852539   1690.458984   1319.914429   920.881287   456.982361   \n",
       "9912   431.547729    544.980347    630.959106   574.827759   477.122253   \n",
       "9915   952.275818   1335.460449   1256.194580   898.252808   566.506775   \n",
       "9919          NaN           NaN           NaN          NaN          NaN   \n",
       "9921   927.876160   1326.905273   1459.986816   969.470215   609.606079   \n",
       "9922   925.642456   2344.715332   2735.513184  2158.228027  1737.949097   \n",
       "9923          NaN           NaN           NaN          NaN          NaN   \n",
       "9926   843.128235   1066.168579   1299.351929  1004.010132   696.866272   \n",
       "9929   471.340759    248.389099           NaN          NaN          NaN   \n",
       "9931   270.820984           NaN           NaN          NaN          NaN   \n",
       "9932   511.886841    817.289307    507.100830   578.296631   407.259369   \n",
       "9933   823.264465   1028.308472   1148.846802   871.885559   801.091187   \n",
       "9934          NaN           NaN           NaN          NaN          NaN   \n",
       "9935  3966.655273   5043.582031   4388.393555  4274.599121  3234.736084   \n",
       "9936          NaN           NaN           NaN          NaN          NaN   \n",
       "9937   990.280212   1438.265869   1052.150513   773.653748   551.266357   \n",
       "9938  1565.344727   1846.404053   1961.977417  1427.235962  1135.299194   \n",
       "9939  1172.414795   1461.135742    725.334229          NaN          NaN   \n",
       "9942  1051.918457   1243.787842   1285.826294   968.036438   725.348633   \n",
       "9971   737.478149   1068.001343   1161.395386   871.436646   178.216537   \n",
       "9981   277.306824           NaN           NaN          NaN          NaN   \n",
       "9982   754.655701   1160.476929   1037.715576   891.127014   660.871033   \n",
       "\n",
       "              Nov          Dec      Area  \\# rooms  \\# occupants  \n",
       "22            NaN          NaN       NaN       NaN           NaN  \n",
       "26     722.544678   649.852600  2047.000         6             4  \n",
       "48            NaN          NaN       NaN       NaN           NaN  \n",
       "59    1062.318848  1759.900757  3600.000        11             7  \n",
       "68            NaN          NaN       NaN       NaN           NaN  \n",
       "77     775.606873  1062.109985       NaN       NaN           NaN  \n",
       "86     842.394348   853.155457       NaN       NaN           NaN  \n",
       "93     465.847748   703.208740       NaN       NaN           NaN  \n",
       "94     363.702362   351.160828  1713.000         3             2  \n",
       "101    344.554688   337.391510  1300.000         5             3  \n",
       "114    549.767822   832.612793       NaN       NaN           NaN  \n",
       "115    193.225739   301.800751       NaN       NaN           NaN  \n",
       "121           NaN          NaN  1900.000        10             3  \n",
       "130     51.706871          NaN       NaN       NaN           NaN  \n",
       "135           NaN          NaN   816.000         2             4  \n",
       "160    227.739227   288.564667       NaN       NaN           NaN  \n",
       "171    357.846680   461.231018       NaN       NaN           NaN  \n",
       "187    729.312378   755.031128       NaN       NaN           NaN  \n",
       "222   1882.875244  1779.793457  2200.000         4             5  \n",
       "243           NaN          NaN       NaN       NaN           NaN  \n",
       "252   1220.345215  1769.030884  2700.000         4             4  \n",
       "267           NaN          NaN       NaN       NaN           NaN  \n",
       "297           NaN          NaN       NaN       NaN           NaN  \n",
       "347           NaN          NaN       NaN       NaN           NaN  \n",
       "364    426.742920   160.745590  2200.000        10             2  \n",
       "370    879.740601   958.250488  2682.000         8             2  \n",
       "379    821.224304  1066.633057       NaN       NaN           NaN  \n",
       "410           NaN          NaN  1299.000         8             2  \n",
       "434    780.034973   835.262817       NaN       NaN           NaN  \n",
       "436           NaN          NaN       NaN       NaN           NaN  \n",
       "...           ...          ...       ...       ...           ...  \n",
       "9737  1001.192383  1117.437622       NaN       NaN           NaN  \n",
       "9745  2228.977051          NaN       NaN       NaN           NaN  \n",
       "9766   683.289917   710.838074       NaN       NaN           NaN  \n",
       "9771  1274.156616  1611.699463       NaN       NaN           NaN  \n",
       "9773          NaN          NaN  2350.000         4             2  \n",
       "9803          NaN          NaN       NaN       NaN           NaN  \n",
       "9830          NaN          NaN       NaN       NaN           NaN  \n",
       "9846          NaN          NaN       NaN       NaN           NaN  \n",
       "9875   334.114471   394.354889       NaN       NaN           NaN  \n",
       "9912   371.727600   315.690918     0.713         2             1  \n",
       "9915   340.401428   395.125793       NaN       NaN           NaN  \n",
       "9919          NaN          NaN       NaN       NaN           NaN  \n",
       "9921   219.383316   206.670883       NaN       NaN           NaN  \n",
       "9922  1638.078979  1734.609253  2300.000         5             2  \n",
       "9923          NaN          NaN       NaN       NaN           NaN  \n",
       "9926   620.106628   677.066345       NaN       NaN           NaN  \n",
       "9929          NaN          NaN       NaN       NaN           NaN  \n",
       "9931          NaN          NaN   816.000         2             3  \n",
       "9932   379.781097   379.402649  2350.000         8             2  \n",
       "9933   633.371704   724.268555  1474.000         8             4  \n",
       "9934          NaN          NaN  2500.000         8             2  \n",
       "9935  3962.072998  5222.176758       NaN       NaN           NaN  \n",
       "9936          NaN          NaN       NaN       NaN           NaN  \n",
       "9937   440.589813   734.997437       NaN       NaN           NaN  \n",
       "9938  1111.502930  1408.907471       NaN       NaN           NaN  \n",
       "9939          NaN   814.567993       NaN       NaN           NaN  \n",
       "9942   563.261169   611.467346       NaN       NaN           NaN  \n",
       "9971   276.966858   371.256470  3100.000         4             2  \n",
       "9981          NaN          NaN       NaN       NaN           NaN  \n",
       "9982   468.034668   406.881348  1400.000         4             4  \n",
       "\n",
       "[586 rows x 15 columns]"
      ]
     },
     "execution_count": 11,
     "metadata": {},
     "output_type": "execute_result"
    }
   ],
   "source": [
    "df"
   ]
  },
  {
   "cell_type": "code",
   "execution_count": 10,
   "metadata": {
    "collapsed": false
   },
   "outputs": [
    {
     "name": "stderr",
     "output_type": "stream",
     "text": [
      "/Users/nipunbatra/anaconda/lib/python2.7/site-packages/matplotlib/__init__.py:872: UserWarning: text.fontsize is deprecated and replaced with font.size; please use the latter.\n",
      "  warnings.warn(self.msg_depr % (key, alt_key))\n"
     ]
    },
    {
     "data": {
      "image/png": "[encoded data removed]",
      "text/plain": [
       "<matplotlib.figure.Figure at 0x11121c410>"
      ]
     },
     "metadata": {},
     "output_type": "display_data"
    },
    {
     "data": {
      "text/plain": [
       "<matplotlib.figure.Figure at 0x114cb11d0>"
      ]
     },
     "metadata": {},
     "output_type": "display_data"
    }
   ],
   "source": [
    "a = missingno(df, figsize=(4.5,3.2), fontsize=8, filename='../results/spark.pdf')"
   ]
  },
  {
   "cell_type": "code",
   "execution_count": 13,
   "metadata": {
    "collapsed": false
   },
   "outputs": [],
   "source": [
    "import matplotlib.pyplot as plt\n",
    "a.savefig('../results/spark.png')"
   ]
  },
  {
   "cell_type": "code",
   "execution_count": 13,
   "metadata": {
    "collapsed": true
   },
   "outputs": [],
   "source": [
    "cols = df.columns"
   ]
  },
  {
   "cell_type": "code",
   "execution_count": 14,
   "metadata": {
    "collapsed": false
   },
   "outputs": [],
   "source": [
    "num = {col:len(df[col].dropna()) for col in cols}\n"
   ]
  },
  {
   "cell_type": "code",
   "execution_count": 15,
   "metadata": {
    "collapsed": true
   },
   "outputs": [],
   "source": [
    "import sys\n"
   ]
  },
  {
   "cell_type": "code",
   "execution_count": 18,
   "metadata": {
    "collapsed": false
   },
   "outputs": [],
   "source": [
    "sys.path.append('../../code/')"
   ]
  },
  {
   "cell_type": "code",
   "execution_count": 19,
   "metadata": {
    "collapsed": false
   },
   "outputs": [],
   "source": [
    "from common_functions import latexify, format_axes, tableau20blind\n",
    "import matplotlib.pyplot as plt"
   ]
  },
  {
   "cell_type": "code",
   "execution_count": 20,
   "metadata": {
    "collapsed": false
   },
   "outputs": [
    {
     "name": "stderr",
     "output_type": "stream",
     "text": [
      "/Users/nipunbatra/anaconda/lib/python2.7/site-packages/matplotlib/__init__.py:872: UserWarning: axes.color_cycle is deprecated and replaced with axes.prop_cycle; please use the latter.\n",
      "  warnings.warn(self.msg_depr % (key, alt_key))\n",
      "/Users/nipunbatra/anaconda/lib/python2.7/site-packages/matplotlib/__init__.py:872: UserWarning: text.fontsize is deprecated and replaced with font.size; please use the latter.\n",
      "  warnings.warn(self.msg_depr % (key, alt_key))\n"
     ]
    }
   ],
   "source": [
    "latexify()"
   ]
  },
  {
   "cell_type": "code",
   "execution_count": 24,
   "metadata": {
    "collapsed": false
   },
   "outputs": [
    {
     "data": {
      "image/png": "[encoded data removed]",
      "text/plain": [
       "<matplotlib.figure.Figure at 0x11923a710>"
      ]
     },
     "metadata": {},
     "output_type": "display_data"
    }
   ],
   "source": [
    "latexify(fig_height=1.4)\n",
    "ax = pd.Series(df.count()).plot(kind=\"bar\", color=tableau20blind[0],rot=45)\n",
    "format_axes(ax)\n",
    "plt.xlabel(\"Feature\")\n",
    "plt.ylabel(\"\\# homes\")\n",
    "plt.locator_params(axis='y',nbins=4)\n",
    "plt.tight_layout()\n",
    "plt.savefig(\"../results/features.png\",bbox_inches=\"tight\")\n",
    "plt.savefig(\"../results/features.pdf\",bbox_inches=\"tight\")"
   ]
  },
  {
   "cell_type": "code",
   "execution_count": 18,
   "metadata": {
    "collapsed": false
   },
   "outputs": [],
   "source": [
    "ndf = pd.concat([test_df[features['md_agg']], train_df[features['md_agg']]])"
   ]
  },
  {
   "cell_type": "code",
   "execution_count": 20,
   "metadata": {
    "collapsed": false
   },
   "outputs": [],
   "source": [
    "cols = [x for x in ndf.columns if 'wm' in x]"
   ]
  },
  {
   "cell_type": "code",
   "execution_count": 23,
   "metadata": {
    "collapsed": false
   },
   "outputs": [
    {
     "ename": "KeyError",
     "evalue": "'wm_1'",
     "output_type": "error",
     "traceback": [
      "\u001b[0;31m---------------------------------------------------------------------------\u001b[0m",
      "\u001b[0;31mKeyError\u001b[0m                                  Traceback (most recent call last)",
      "\u001b[0;32m<ipython-input-23-e03e1ecda27f>\u001b[0m in \u001b[0;36m<module>\u001b[0;34m()\u001b[0m\n\u001b[0;32m----> 1\u001b[0;31m \u001b[0mndf\u001b[0m\u001b[0;34m[\u001b[0m\u001b[0;34m'wm_1'\u001b[0m\u001b[0;34m]\u001b[0m\u001b[0;34m\u001b[0m\u001b[0m\n\u001b[0m",
      "\u001b[0;32m/Users/nipunbatra/anaconda/lib/python2.7/site-packages/pandas/core/frame.pyc\u001b[0m in \u001b[0;36m__getitem__\u001b[0;34m(self, key)\u001b[0m\n\u001b[1;32m   1967\u001b[0m             \u001b[0;32mreturn\u001b[0m \u001b[0mself\u001b[0m\u001b[0;34m.\u001b[0m\u001b[0m_getitem_multilevel\u001b[0m\u001b[0;34m(\u001b[0m\u001b[0mkey\u001b[0m\u001b[0;34m)\u001b[0m\u001b[0;34m\u001b[0m\u001b[0m\n\u001b[1;32m   1968\u001b[0m         \u001b[0;32melse\u001b[0m\u001b[0;34m:\u001b[0m\u001b[0;34m\u001b[0m\u001b[0m\n\u001b[0;32m-> 1969\u001b[0;31m             \u001b[0;32mreturn\u001b[0m \u001b[0mself\u001b[0m\u001b[0;34m.\u001b[0m\u001b[0m_getitem_column\u001b[0m\u001b[0;34m(\u001b[0m\u001b[0mkey\u001b[0m\u001b[0;34m)\u001b[0m\u001b[0;34m\u001b[0m\u001b[0m\n\u001b[0m\u001b[1;32m   1970\u001b[0m \u001b[0;34m\u001b[0m\u001b[0m\n\u001b[1;32m   1971\u001b[0m     \u001b[0;32mdef\u001b[0m \u001b[0m_getitem_column\u001b[0m\u001b[0;34m(\u001b[0m\u001b[0mself\u001b[0m\u001b[0;34m,\u001b[0m \u001b[0mkey\u001b[0m\u001b[0;34m)\u001b[0m\u001b[0;34m:\u001b[0m\u001b[0;34m\u001b[0m\u001b[0m\n",
      "\u001b[0;32m/Users/nipunbatra/anaconda/lib/python2.7/site-packages/pandas/core/frame.pyc\u001b[0m in \u001b[0;36m_getitem_column\u001b[0;34m(self, key)\u001b[0m\n\u001b[1;32m   1974\u001b[0m         \u001b[0;31m# get column\u001b[0m\u001b[0;34m\u001b[0m\u001b[0;34m\u001b[0m\u001b[0m\n\u001b[1;32m   1975\u001b[0m         \u001b[0;32mif\u001b[0m \u001b[0mself\u001b[0m\u001b[0;34m.\u001b[0m\u001b[0mcolumns\u001b[0m\u001b[0;34m.\u001b[0m\u001b[0mis_unique\u001b[0m\u001b[0;34m:\u001b[0m\u001b[0;34m\u001b[0m\u001b[0m\n\u001b[0;32m-> 1976\u001b[0;31m             \u001b[0;32mreturn\u001b[0m \u001b[0mself\u001b[0m\u001b[0;34m.\u001b[0m\u001b[0m_get_item_cache\u001b[0m\u001b[0;34m(\u001b[0m\u001b[0mkey\u001b[0m\u001b[0;34m)\u001b[0m\u001b[0;34m\u001b[0m\u001b[0m\n\u001b[0m\u001b[1;32m   1977\u001b[0m \u001b[0;34m\u001b[0m\u001b[0m\n\u001b[1;32m   1978\u001b[0m         \u001b[0;31m# duplicate columns & possible reduce dimensionality\u001b[0m\u001b[0;34m\u001b[0m\u001b[0;34m\u001b[0m\u001b[0m\n",
      "\u001b[0;32m/Users/nipunbatra/anaconda/lib/python2.7/site-packages/pandas/core/generic.pyc\u001b[0m in \u001b[0;36m_get_item_cache\u001b[0;34m(self, item)\u001b[0m\n\u001b[1;32m   1089\u001b[0m         \u001b[0mres\u001b[0m \u001b[0;34m=\u001b[0m \u001b[0mcache\u001b[0m\u001b[0;34m.\u001b[0m\u001b[0mget\u001b[0m\u001b[0;34m(\u001b[0m\u001b[0mitem\u001b[0m\u001b[0;34m)\u001b[0m\u001b[0;34m\u001b[0m\u001b[0m\n\u001b[1;32m   1090\u001b[0m         \u001b[0;32mif\u001b[0m \u001b[0mres\u001b[0m \u001b[0;32mis\u001b[0m \u001b[0mNone\u001b[0m\u001b[0;34m:\u001b[0m\u001b[0;34m\u001b[0m\u001b[0m\n\u001b[0;32m-> 1091\u001b[0;31m             \u001b[0mvalues\u001b[0m \u001b[0;34m=\u001b[0m \u001b[0mself\u001b[0m\u001b[0;34m.\u001b[0m\u001b[0m_data\u001b[0m\u001b[0;34m.\u001b[0m\u001b[0mget\u001b[0m\u001b[0;34m(\u001b[0m\u001b[0mitem\u001b[0m\u001b[0;34m)\u001b[0m\u001b[0;34m\u001b[0m\u001b[0m\n\u001b[0m\u001b[1;32m   1092\u001b[0m             \u001b[0mres\u001b[0m \u001b[0;34m=\u001b[0m \u001b[0mself\u001b[0m\u001b[0;34m.\u001b[0m\u001b[0m_box_item_values\u001b[0m\u001b[0;34m(\u001b[0m\u001b[0mitem\u001b[0m\u001b[0;34m,\u001b[0m \u001b[0mvalues\u001b[0m\u001b[0;34m)\u001b[0m\u001b[0;34m\u001b[0m\u001b[0m\n\u001b[1;32m   1093\u001b[0m             \u001b[0mcache\u001b[0m\u001b[0;34m[\u001b[0m\u001b[0mitem\u001b[0m\u001b[0;34m]\u001b[0m \u001b[0;34m=\u001b[0m \u001b[0mres\u001b[0m\u001b[0;34m\u001b[0m\u001b[0m\n",
      "\u001b[0;32m/Users/nipunbatra/anaconda/lib/python2.7/site-packages/pandas/core/internals.pyc\u001b[0m in \u001b[0;36mget\u001b[0;34m(self, item, fastpath)\u001b[0m\n\u001b[1;32m   3209\u001b[0m \u001b[0;34m\u001b[0m\u001b[0m\n\u001b[1;32m   3210\u001b[0m             \u001b[0;32mif\u001b[0m \u001b[0;32mnot\u001b[0m \u001b[0misnull\u001b[0m\u001b[0;34m(\u001b[0m\u001b[0mitem\u001b[0m\u001b[0;34m)\u001b[0m\u001b[0;34m:\u001b[0m\u001b[0;34m\u001b[0m\u001b[0m\n\u001b[0;32m-> 3211\u001b[0;31m                 \u001b[0mloc\u001b[0m \u001b[0;34m=\u001b[0m \u001b[0mself\u001b[0m\u001b[0;34m.\u001b[0m\u001b[0mitems\u001b[0m\u001b[0;34m.\u001b[0m\u001b[0mget_loc\u001b[0m\u001b[0;34m(\u001b[0m\u001b[0mitem\u001b[0m\u001b[0;34m)\u001b[0m\u001b[0;34m\u001b[0m\u001b[0m\n\u001b[0m\u001b[1;32m   3212\u001b[0m             \u001b[0;32melse\u001b[0m\u001b[0;34m:\u001b[0m\u001b[0;34m\u001b[0m\u001b[0m\n\u001b[1;32m   3213\u001b[0m                 \u001b[0mindexer\u001b[0m \u001b[0;34m=\u001b[0m \u001b[0mnp\u001b[0m\u001b[0;34m.\u001b[0m\u001b[0marange\u001b[0m\u001b[0;34m(\u001b[0m\u001b[0mlen\u001b[0m\u001b[0;34m(\u001b[0m\u001b[0mself\u001b[0m\u001b[0;34m.\u001b[0m\u001b[0mitems\u001b[0m\u001b[0;34m)\u001b[0m\u001b[0;34m)\u001b[0m\u001b[0;34m[\u001b[0m\u001b[0misnull\u001b[0m\u001b[0;34m(\u001b[0m\u001b[0mself\u001b[0m\u001b[0;34m.\u001b[0m\u001b[0mitems\u001b[0m\u001b[0;34m)\u001b[0m\u001b[0;34m]\u001b[0m\u001b[0;34m\u001b[0m\u001b[0m\n",
      "\u001b[0;32m/Users/nipunbatra/anaconda/lib/python2.7/site-packages/pandas/core/index.pyc\u001b[0m in \u001b[0;36mget_loc\u001b[0;34m(self, key, method, tolerance)\u001b[0m\n\u001b[1;32m   1757\u001b[0m                                  'backfill or nearest lookups')\n\u001b[1;32m   1758\u001b[0m             \u001b[0mkey\u001b[0m \u001b[0;34m=\u001b[0m \u001b[0m_values_from_object\u001b[0m\u001b[0;34m(\u001b[0m\u001b[0mkey\u001b[0m\u001b[0;34m)\u001b[0m\u001b[0;34m\u001b[0m\u001b[0m\n\u001b[0;32m-> 1759\u001b[0;31m             \u001b[0;32mreturn\u001b[0m \u001b[0mself\u001b[0m\u001b[0;34m.\u001b[0m\u001b[0m_engine\u001b[0m\u001b[0;34m.\u001b[0m\u001b[0mget_loc\u001b[0m\u001b[0;34m(\u001b[0m\u001b[0mkey\u001b[0m\u001b[0;34m)\u001b[0m\u001b[0;34m\u001b[0m\u001b[0m\n\u001b[0m\u001b[1;32m   1760\u001b[0m \u001b[0;34m\u001b[0m\u001b[0m\n\u001b[1;32m   1761\u001b[0m         indexer = self.get_indexer([key], method=method,\n",
      "\u001b[0;32mpandas/index.pyx\u001b[0m in \u001b[0;36mpandas.index.IndexEngine.get_loc (pandas/index.c:3979)\u001b[0;34m()\u001b[0m\n",
      "\u001b[0;32mpandas/index.pyx\u001b[0m in \u001b[0;36mpandas.index.IndexEngine.get_loc (pandas/index.c:3843)\u001b[0;34m()\u001b[0m\n",
      "\u001b[0;32mpandas/hashtable.pyx\u001b[0m in \u001b[0;36mpandas.hashtable.PyObjectHashTable.get_item (pandas/hashtable.c:12265)\u001b[0;34m()\u001b[0m\n",
      "\u001b[0;32mpandas/hashtable.pyx\u001b[0m in \u001b[0;36mpandas.hashtable.PyObjectHashTable.get_item (pandas/hashtable.c:12216)\u001b[0;34m()\u001b[0m\n",
      "\u001b[0;31mKeyError\u001b[0m: 'wm_1'"
     ]
    }
   ],
   "source": [
    "ndf['wm_1']"
   ]
  },
  {
   "cell_type": "code",
   "execution_count": 80,
   "metadata": {
    "collapsed": false
   },
   "outputs": [],
   "source": [
    "b = pd.Series(dd[train_region]['Cooling'])"
   ]
  },
  {
   "cell_type": "code",
   "execution_count": 81,
   "metadata": {
    "collapsed": false
   },
   "outputs": [],
   "source": [
    "from sklearn.linear_model import LinearRegression"
   ]
  },
  {
   "cell_type": "code",
   "execution_count": 82,
   "metadata": {
    "collapsed": true
   },
   "outputs": [],
   "source": [
    "clf = LinearRegression()"
   ]
  },
  {
   "cell_type": "code",
   "execution_count": 83,
   "metadata": {
    "collapsed": false
   },
   "outputs": [
    {
     "data": {
      "text/plain": [
       "LinearRegression(copy_X=True, fit_intercept=True, n_jobs=1, normalize=False)"
      ]
     },
     "execution_count": 83,
     "metadata": {},
     "output_type": "execute_result"
    }
   ],
   "source": [
    "clf.fit(a.values.reshape(12,1), b.values.reshape(12,))"
   ]
  },
  {
   "cell_type": "code",
   "execution_count": 84,
   "metadata": {
    "collapsed": false
   },
   "outputs": [
    {
     "data": {
      "text/plain": [
       "array([-0.46208592])"
      ]
     },
     "execution_count": 84,
     "metadata": {},
     "output_type": "execute_result"
    }
   ],
   "source": [
    "clf.coef_"
   ]
  },
  {
   "cell_type": "code",
   "execution_count": 85,
   "metadata": {
    "collapsed": false
   },
   "outputs": [
    {
     "data": {
      "text/plain": [
       "270.49793582944153"
      ]
     },
     "execution_count": 85,
     "metadata": {},
     "output_type": "execute_result"
    }
   ],
   "source": [
    "clf.intercept_"
   ]
  },
  {
   "cell_type": "code",
   "execution_count": 86,
   "metadata": {
    "collapsed": true
   },
   "outputs": [],
   "source": [
    "%matplotlib inline\n",
    "import matplotlib.pyplot as plt"
   ]
  },
  {
   "cell_type": "code",
   "execution_count": 87,
   "metadata": {
    "collapsed": false
   },
   "outputs": [
    {
     "data": {
      "text/plain": [
       "<matplotlib.collections.PathCollection at 0x117563210>"
      ]
     },
     "execution_count": 87,
     "metadata": {},
     "output_type": "execute_result"
    },
    {
     "data": {
      "image/png": "[encoded data removed]",
      "text/plain": [
       "<matplotlib.figure.Figure at 0x1173a4350>"
      ]
     },
     "metadata": {},
     "output_type": "display_data"
    }
   ],
   "source": [
    "plt.scatter(a,b)"
   ]
  },
  {
   "cell_type": "code",
   "execution_count": 88,
   "metadata": {
    "collapsed": true
   },
   "outputs": [],
   "source": [
    "baseline = a.min()"
   ]
  },
  {
   "cell_type": "code",
   "execution_count": 89,
   "metadata": {
    "collapsed": false
   },
   "outputs": [
    {
     "data": {
      "text/plain": [
       "44.138683319091797"
      ]
     },
     "execution_count": 89,
     "metadata": {},
     "output_type": "execute_result"
    }
   ],
   "source": [
    "baseline"
   ]
  },
  {
   "cell_type": "code",
   "execution_count": 90,
   "metadata": {
    "collapsed": false
   },
   "outputs": [
    {
     "data": {
      "text/plain": [
       "23.884716033935547"
      ]
     },
     "execution_count": 90,
     "metadata": {},
     "output_type": "execute_result"
    }
   ],
   "source": [
    "difference = a.max()-baseline\n",
    "difference"
   ]
  },
  {
   "cell_type": "code",
   "execution_count": 91,
   "metadata": {
    "collapsed": true
   },
   "outputs": [],
   "source": [
    "factor = difference/(b.max()-b.min())"
   ]
  },
  {
   "cell_type": "code",
   "execution_count": 92,
   "metadata": {
    "collapsed": false
   },
   "outputs": [
    {
     "data": {
      "text/plain": [
       "0.048546170800682006"
      ]
     },
     "execution_count": 92,
     "metadata": {},
     "output_type": "execute_result"
    }
   ],
   "source": [
    "factor"
   ]
  },
  {
   "cell_type": "code",
   "execution_count": 93,
   "metadata": {
    "collapsed": false
   },
   "outputs": [
    {
     "data": {
      "text/plain": [
       "0    -20.632123\n",
       "1      4.466248\n",
       "2      5.053311\n",
       "3      4.203697\n",
       "4     -0.787885\n",
       "5      8.801791\n",
       "6     10.193200\n",
       "7     13.103335\n",
       "8     21.872794\n",
       "9     13.124307\n",
       "10     4.909166\n",
       "11    -3.187955\n",
       "dtype: float64"
      ]
     },
     "execution_count": 93,
     "metadata": {},
     "output_type": "execute_result"
    }
   ],
   "source": [
    "(baseline + factor*b) - a"
   ]
  },
  {
   "cell_type": "code",
   "execution_count": 94,
   "metadata": {
    "collapsed": false
   },
   "outputs": [],
   "source": [
    "import numpy as np\n",
    "A = np.ones((12,2))\n",
    "A[:,0] = b.values"
   ]
  },
  {
   "cell_type": "code",
   "execution_count": 95,
   "metadata": {
    "collapsed": false
   },
   "outputs": [
    {
     "data": {
      "text/plain": [
       "array([[  67.,    1.],\n",
       "       [  92.,    1.],\n",
       "       [ 219.,    1.],\n",
       "       [ 183.,    1.],\n",
       "       [ 135.,    1.],\n",
       "       [ 272.,    1.],\n",
       "       [ 392.,    1.],\n",
       "       [ 478.,    1.],\n",
       "       [ 524.,    1.],\n",
       "       [ 451.,    1.],\n",
       "       [ 118.,    1.],\n",
       "       [  32.,    1.]])"
      ]
     },
     "execution_count": 95,
     "metadata": {},
     "output_type": "execute_result"
    }
   ],
   "source": [
    "A"
   ]
  },
  {
   "cell_type": "code",
   "execution_count": 96,
   "metadata": {
    "collapsed": false
   },
   "outputs": [
    {
     "data": {
      "text/plain": [
       "array([ 68.02339935,  44.13868332,  49.7169838 ,  48.81893539,\n",
       "        51.4803009 ,  48.5414505 ,  52.97558212,  54.24041748,\n",
       "        47.70408249,  52.90869904,  44.95796585,  48.88011551])"
      ]
     },
     "execution_count": 96,
     "metadata": {},
     "output_type": "execute_result"
    }
   ],
   "source": [
    "a.values"
   ]
  },
  {
   "cell_type": "code",
   "execution_count": 97,
   "metadata": {
    "collapsed": true
   },
   "outputs": [],
   "source": [
    "from scipy.optimize import nnls"
   ]
  },
  {
   "cell_type": "code",
   "execution_count": 58,
   "metadata": {
    "collapsed": false
   },
   "outputs": [
    {
     "data": {
      "text/plain": [
       "array([  0.02877937,  27.95756087])"
      ]
     },
     "execution_count": 58,
     "metadata": {},
     "output_type": "execute_result"
    }
   ],
   "source": [
    "nnls(A, a.values)[0]"
   ]
  },
  {
   "cell_type": "code",
   "execution_count": 98,
   "metadata": {
    "collapsed": false
   },
   "outputs": [
    {
     "data": {
      "text/plain": [
       "array([  0.        ,  51.03221798])"
      ]
     },
     "execution_count": 98,
     "metadata": {},
     "output_type": "execute_result"
    }
   ],
   "source": [
    "nnls(A, a.values)[0]"
   ]
  },
  {
   "cell_type": "code",
   "execution_count": 77,
   "metadata": {
    "collapsed": false
   },
   "outputs": [
    {
     "data": {
      "text/plain": [
       "0    NaN\n",
       "1    NaN\n",
       "2    NaN\n",
       "3    NaN\n",
       "4    NaN\n",
       "5    NaN\n",
       "6    NaN\n",
       "7    NaN\n",
       "8    NaN\n",
       "9    NaN\n",
       "10   NaN\n",
       "11   NaN\n",
       "Name: 527, dtype: float64"
      ]
     },
     "execution_count": 77,
     "metadata": {},
     "output_type": "execute_result"
    }
   ],
   "source": [
    "a"
   ]
  },
  {
   "cell_type": "code",
   "execution_count": 177,
   "metadata": {
    "collapsed": false
   },
   "outputs": [],
   "source": [
    "out = {}\n",
    "for home in train_df.index:\n",
    "    \n",
    "    a = train_df.ix[home][['fridge_%d' %month for month in range(1,13)]]\n",
    "    a = a.dropna()\n",
    "    \n",
    "    if len(a)<1:\n",
    "        continue\n",
    "    else:\n",
    "        a.index = [int(x[-1]) for x in a.index.str.split(\"_\")]\n",
    "        b = pd.Series(dd[train_region]['Cooling'])\n",
    "        b.index = range(1,13)\n",
    "        b = b.ix[a.index]\n",
    "        import numpy as np\n",
    "        A = np.ones((len(b),2))\n",
    "        A[:,0] = b.values\n",
    "        dd_factor = nnls(A, a.values)[0]\n",
    "        out[home] = {'baseline':dd_factor[1],'cdd':dd_factor[0]}\n",
    "        \n"
   ]
  },
  {
   "cell_type": "code",
   "execution_count": 178,
   "metadata": {
    "collapsed": false
   },
   "outputs": [
    {
     "data": {
      "text/plain": [
       "{203: {'baseline': 27.957560874390339, 'cdd': 0.028779374489510089},\n",
       " 1450: {'baseline': 51.032217979431145, 'cdd': 0.0},\n",
       " 1524: {'baseline': 48.400031922442494, 'cdd': 0.029877297836492726},\n",
       " 1731: {'baseline': 33.777273122717972, 'cdd': 0.034800893729134412},\n",
       " 3687: {'baseline': 70.417844189537917, 'cdd': 0.0},\n",
       " 3864: {'baseline': 24.379166591529614, 'cdd': 0.045061656246849303},\n",
       " 3938: {'baseline': 32.321743348807757, 'cdd': 0.029384676043138918},\n",
       " 4495: {'baseline': 17.976511873027135, 'cdd': 0.029817507481758276},\n",
       " 4934: {'baseline': 35.507634601084867, 'cdd': 0.034759510697650285},\n",
       " 5938: {'baseline': 27.869158302132295, 'cdd': 0.021374314472701859},\n",
       " 6377: {'baseline': 0.0, 'cdd': 0.62677138598997206},\n",
       " 6547: {'baseline': 41.427546620368972, 'cdd': 0.0},\n",
       " 7062: {'baseline': 26.251816925905697, 'cdd': 0.067048340844727605},\n",
       " 7114: {'baseline': 45.773849871435374, 'cdd': 0.014881450476219143},\n",
       " 8061: {'baseline': 44.467105876765082, 'cdd': 0.052145276521206402},\n",
       " 8342: {'baseline': 40.931293153135321, 'cdd': 0.035310534809039056},\n",
       " 8574: {'baseline': 0.0, 'cdd': 0.34767560816522852},\n",
       " 8733: {'baseline': 45.779155969619765, 'cdd': 0.0},\n",
       " 9213: {'baseline': 33.450222015380874, 'cdd': 0.0},\n",
       " 9585: {'baseline': 0.0, 'cdd': 0.33573210417334715},\n",
       " 9612: {'baseline': 46.323755224545813, 'cdd': 0.0},\n",
       " 9775: {'baseline': 43.950748028776886, 'cdd': 0.011386785471709548},\n",
       " 9836: {'baseline': 35.724963460649761, 'cdd': 0.0}}"
      ]
     },
     "execution_count": 178,
     "metadata": {},
     "output_type": "execute_result"
    }
   ],
   "source": [
    "out"
   ]
  },
  {
   "cell_type": "code",
   "execution_count": 179,
   "metadata": {
    "collapsed": false
   },
   "outputs": [],
   "source": [
    "import pickle\n",
    "pickle.dump(out, open('../data/input/SanDiego_fridge_dd_coef.pkl','w'))"
   ]
  },
  {
   "cell_type": "code",
   "execution_count": 131,
   "metadata": {
    "collapsed": false
   },
   "outputs": [
    {
     "data": {
      "text/plain": [
       "count    21.000000\n",
       "mean      0.090894\n",
       "std       0.078357\n",
       "min       0.000000\n",
       "25%       0.035885\n",
       "50%       0.064931\n",
       "75%       0.132155\n",
       "max       0.282409\n",
       "dtype: float64"
      ]
     },
     "execution_count": 131,
     "metadata": {},
     "output_type": "execute_result"
    }
   ],
   "source": [
    "(train_df['hvac_3']/train_df['aggregate_3']).dropna().describe()"
   ]
  },
  {
   "cell_type": "code",
   "execution_count": 136,
   "metadata": {
    "collapsed": false
   },
   "outputs": [],
   "source": [
    "te = pd.Series([(test_df['hvac_%d' %month]/test_df['aggregate_%d' %month]).dropna().mean() for month in range(1,13)])"
   ]
  },
  {
   "cell_type": "code",
   "execution_count": 137,
   "metadata": {
    "collapsed": false
   },
   "outputs": [],
   "source": [
    "tr = pd.Series([(train_df['hvac_%d' %month]/train_df['aggregate_%d' %month]).dropna().mean() for month in range(1,13)])"
   ]
  },
  {
   "cell_type": "code",
   "execution_count": 138,
   "metadata": {
    "collapsed": false
   },
   "outputs": [
    {
     "data": {
      "text/plain": [
       "0     12.880313\n",
       "1      2.611318\n",
       "2      0.883466\n",
       "3      4.047109\n",
       "4      7.522609\n",
       "5      3.131906\n",
       "6      1.938266\n",
       "7      1.438584\n",
       "8      1.156132\n",
       "9      1.300389\n",
       "10     7.364232\n",
       "11    21.962514\n",
       "dtype: float64"
      ]
     },
     "execution_count": 138,
     "metadata": {},
     "output_type": "execute_result"
    }
   ],
   "source": [
    "te/tr"
   ]
  },
  {
   "cell_type": "code",
   "execution_count": 150,
   "metadata": {
    "collapsed": false
   },
   "outputs": [],
   "source": [
    "dd_tr = pd.Series(dd[train_region]['Cooling'])\n",
    "dd_te = pd.Series(dd[test_region]['Cooling'])"
   ]
  },
  {
   "cell_type": "code",
   "execution_count": 142,
   "metadata": {
    "collapsed": false
   },
   "outputs": [
    {
     "data": {
      "text/plain": [
       "0     0.228438\n",
       "1     0.283133\n",
       "2     0.907258\n",
       "3     0.626712\n",
       "4     0.312785\n",
       "5     0.469775\n",
       "6     0.541436\n",
       "7     0.639893\n",
       "8     0.849271\n",
       "9     1.199468\n",
       "10    0.585253\n",
       "11    0.487500\n",
       "dtype: float64"
      ]
     },
     "execution_count": 142,
     "metadata": {},
     "output_type": "execute_result"
    }
   ],
   "source": [
    "dd_tr/dd_te"
   ]
  },
  {
   "cell_type": "code",
   "execution_count": 147,
   "metadata": {
    "collapsed": false
   },
   "outputs": [],
   "source": [
    "te_re = pd.Series([(test_df['hvac_%d' %month]).dropna().mean() for month in range(1,13)])"
   ]
  },
  {
   "cell_type": "code",
   "execution_count": 144,
   "metadata": {
    "collapsed": true
   },
   "outputs": [],
   "source": [
    "tr_re = pd.Series([(train_df['hvac_%d' %month]).dropna().mean() for month in range(1,13)])"
   ]
  },
  {
   "cell_type": "code",
   "execution_count": 145,
   "metadata": {
    "collapsed": false
   },
   "outputs": [
    {
     "data": {
      "text/plain": [
       "0       1.872984\n",
       "1       9.612234\n",
       "2      41.898885\n",
       "3      16.089301\n",
       "4      11.544653\n",
       "5      54.993461\n",
       "6     139.051996\n",
       "7     200.787931\n",
       "8     218.475030\n",
       "9     100.481623\n",
       "10      4.081113\n",
       "11      0.206767\n",
       "dtype: float64"
      ]
     },
     "execution_count": 145,
     "metadata": {},
     "output_type": "execute_result"
    }
   ],
   "source": [
    "tr_re"
   ]
  },
  {
   "cell_type": "code",
   "execution_count": 148,
   "metadata": {
    "collapsed": false
   },
   "outputs": [
    {
     "data": {
      "text/plain": [
       "0      52.150156\n",
       "1      40.880130\n",
       "2      48.165750\n",
       "3     117.801139\n",
       "4     204.009346\n",
       "5     397.867762\n",
       "6     621.342580\n",
       "7     687.226764\n",
       "8     482.024772\n",
       "9     241.425677\n",
       "10     45.617709\n",
       "11     34.335550\n",
       "dtype: float64"
      ]
     },
     "execution_count": 148,
     "metadata": {},
     "output_type": "execute_result"
    }
   ],
   "source": [
    "te_re"
   ]
  },
  {
   "cell_type": "code",
   "execution_count": 151,
   "metadata": {
    "collapsed": false
   },
   "outputs": [
    {
     "data": {
      "text/plain": [
       "0      67\n",
       "1      92\n",
       "2     219\n",
       "3     183\n",
       "4     135\n",
       "5     272\n",
       "6     392\n",
       "7     478\n",
       "8     524\n",
       "9     451\n",
       "10    118\n",
       "11     32\n",
       "dtype: int64"
      ]
     },
     "execution_count": 151,
     "metadata": {},
     "output_type": "execute_result"
    }
   ],
   "source": [
    "dd_tr"
   ]
  },
  {
   "cell_type": "code",
   "execution_count": 153,
   "metadata": {
    "collapsed": false
   },
   "outputs": [
    {
     "data": {
      "text/plain": [
       "0       0\n",
       "1      16\n",
       "2      97\n",
       "3     292\n",
       "4     438\n",
       "5     579\n",
       "6     724\n",
       "7     747\n",
       "8     617\n",
       "9     376\n",
       "10    122\n",
       "11     46\n",
       "dtype: int64"
      ]
     },
     "execution_count": 153,
     "metadata": {},
     "output_type": "execute_result"
    }
   ],
   "source": [
    "dd_te"
   ]
  },
  {
   "cell_type": "code",
   "execution_count": 154,
   "metadata": {
    "collapsed": false
   },
   "outputs": [
    {
     "data": {
      "text/plain": [
       "0     0.056387\n",
       "1     0.052821\n",
       "2     0.080302\n",
       "3     0.171690\n",
       "4     0.249276\n",
       "5     0.407293\n",
       "6     0.455714\n",
       "7     0.475609\n",
       "8     0.416599\n",
       "9     0.286289\n",
       "10    0.073315\n",
       "11    0.036751\n",
       "dtype: float64"
      ]
     },
     "execution_count": 154,
     "metadata": {},
     "output_type": "execute_result"
    }
   ],
   "source": [
    "te"
   ]
  },
  {
   "cell_type": "code",
   "execution_count": 159,
   "metadata": {
    "collapsed": false
   },
   "outputs": [
    {
     "data": {
      "text/plain": [
       "count    15.000000\n",
       "mean      4.081113\n",
       "std       8.103378\n",
       "min       0.000000\n",
       "25%       0.007233\n",
       "50%       0.041517\n",
       "75%       2.828808\n",
       "max      28.109400\n",
       "Name: hvac_11, dtype: float64"
      ]
     },
     "execution_count": 159,
     "metadata": {},
     "output_type": "execute_result"
    }
   ],
   "source": [
    "train_df['hvac_11'].dropna().describe()"
   ]
  },
  {
   "cell_type": "code",
   "execution_count": 160,
   "metadata": {
    "collapsed": false
   },
   "outputs": [
    {
     "data": {
      "text/plain": [
       "count    321.000000\n",
       "mean      45.617709\n",
       "std       52.136986\n",
       "min        0.000000\n",
       "25%       11.195600\n",
       "50%       29.063833\n",
       "75%       63.795082\n",
       "max      443.325623\n",
       "Name: hvac_11, dtype: float64"
      ]
     },
     "execution_count": 160,
     "metadata": {},
     "output_type": "execute_result"
    }
   ],
   "source": [
    "test_df['hvac_11'].dropna().describe()"
   ]
  },
  {
   "cell_type": "code",
   "execution_count": 161,
   "metadata": {
    "collapsed": true
   },
   "outputs": [],
   "source": [
    "store = pd.HDFStore('/Users/nipunbatra/wiki-all.h5')"
   ]
  },
  {
   "cell_type": "code",
   "execution_count": 172,
   "metadata": {
    "collapsed": false
   },
   "outputs": [],
   "source": [
    "d = store['203']['2015']"
   ]
  },
  {
   "cell_type": "code",
   "execution_count": 173,
   "metadata": {
    "collapsed": false
   },
   "outputs": [
    {
     "data": {
      "text/plain": [
       "2015-01-31 00:00:00-06:00     10.746192\n",
       "2015-02-28 00:00:00-06:00      8.304787\n",
       "2015-03-31 00:00:00-05:00     23.541351\n",
       "2015-04-30 00:00:00-05:00     17.433727\n",
       "2015-05-31 00:00:00-05:00     16.861671\n",
       "2015-06-30 00:00:00-05:00     40.123264\n",
       "2015-07-31 00:00:00-05:00     70.487862\n",
       "2015-08-31 00:00:00-05:00     80.439026\n",
       "2015-09-30 00:00:00-05:00    133.242264\n",
       "2015-10-31 00:00:00-05:00     38.258335\n",
       "2015-11-30 00:00:00-06:00     11.904202\n",
       "2015-12-31 00:00:00-06:00     24.224037\n",
       "Freq: M, Name: furnace1, dtype: float32"
      ]
     },
     "execution_count": 173,
     "metadata": {},
     "output_type": "execute_result"
    }
   ],
   "source": [
    "d['furnace1'].resample(\"1M\",how=\"mean\")"
   ]
  },
  {
   "cell_type": "code",
   "execution_count": 174,
   "metadata": {
    "collapsed": false
   },
   "outputs": [
    {
     "data": {
      "text/plain": [
       "2015-01-31 00:00:00-06:00      0.002688\n",
       "2015-02-28 00:00:00-06:00      0.004018\n",
       "2015-03-31 00:00:00-05:00     39.156132\n",
       "2015-04-30 00:00:00-05:00     27.293310\n",
       "2015-05-31 00:00:00-05:00     21.319757\n",
       "2015-06-30 00:00:00-05:00     94.795349\n",
       "2015-07-31 00:00:00-05:00    196.064606\n",
       "2015-08-31 00:00:00-05:00    232.893326\n",
       "2015-09-30 00:00:00-05:00    282.432892\n",
       "2015-10-31 00:00:00-05:00     96.910751\n",
       "2015-11-30 00:00:00-06:00      0.862140\n",
       "2015-12-31 00:00:00-06:00      3.816555\n",
       "Freq: M, Name: air1, dtype: float32"
      ]
     },
     "execution_count": 174,
     "metadata": {},
     "output_type": "execute_result"
    }
   ],
   "source": [
    "d['air1'].resample(\"1M\",how=\"mean\")"
   ]
  },
  {
   "cell_type": "code",
   "execution_count": 175,
   "metadata": {
    "collapsed": false
   },
   "outputs": [
    {
     "data": {
      "text/plain": [
       "{203: array([ 0.29190353,  0.        ]),\n",
       " 1450: array([ 0.9143589,  0.       ]),\n",
       " 1524: array([ 0.51203736,  0.        ]),\n",
       " 1731: array([ 0.45050533,  0.        ]),\n",
       " 2354: array([  7.71144214e-06,   0.00000000e+00]),\n",
       " 2606: array([ 0.56204333,  0.        ]),\n",
       " 3687: array([ 0.27879851,  0.        ]),\n",
       " 3864: array([ 0.32137313,  0.        ]),\n",
       " 3938: array([ 0.09568063,  0.        ]),\n",
       " 4495: array([ 0.01884794,  0.        ]),\n",
       " 4934: array([ 0.20995434,  0.        ]),\n",
       " 5938: array([ 0.19611778,  0.        ]),\n",
       " 6377: array([  3.80596994e-05,   0.00000000e+00]),\n",
       " 6547: array([ 0.16778239,  0.        ]),\n",
       " 7062: array([  1.73105309e-03,   1.79224783e+01]),\n",
       " 7114: array([ 0.42238318,  0.        ]),\n",
       " 8061: array([ 0.66379038,  0.        ]),\n",
       " 8342: array([ 0.01812899,  0.        ]),\n",
       " 8574: array([ 0.00041144,  0.        ]),\n",
       " 8733: array([ 0.47415678,  0.        ]),\n",
       " 9213: array([ 0.06268899,  0.        ]),\n",
       " 9585: array([ 0.02245,  0.     ]),\n",
       " 9612: array([  0.1361051 ,  13.46830365]),\n",
       " 9775: array([ 0.28508282,  0.        ]),\n",
       " 9836: array([ 0.03229456,  0.        ])}"
      ]
     },
     "execution_count": 175,
     "metadata": {},
     "output_type": "execute_result"
    }
   ],
   "source": [
    "out"
   ]
  },
  {
   "cell_type": "code",
   "execution_count": 176,
   "metadata": {
    "collapsed": false
   },
   "outputs": [
    {
     "data": {
      "text/plain": [
       "{203: 0.028779374489510089,\n",
       " 1450: 0.0,\n",
       " 1524: 0.029877297836492726,\n",
       " 1731: 0.034800893729134412,\n",
       " 3687: 0.0,\n",
       " 3864: 0.045061656246849303,\n",
       " 3938: 0.029384676043138918,\n",
       " 4495: 0.029817507481758276,\n",
       " 4934: 0.034759510697650285,\n",
       " 5938: 0.021374314472701859,\n",
       " 6377: 0.62677138598997206,\n",
       " 6547: 0.0,\n",
       " 7062: 0.067048340844727605,\n",
       " 7114: 0.014881450476219143,\n",
       " 8061: 0.052145276521206402,\n",
       " 8342: 0.035310534809039056,\n",
       " 8574: 0.34767560816522852,\n",
       " 8733: 0.0,\n",
       " 9213: 0.0,\n",
       " 9585: 0.33573210417334715,\n",
       " 9612: 0.0,\n",
       " 9775: 0.011386785471709548,\n",
       " 9836: 0.0}"
      ]
     },
     "execution_count": 176,
     "metadata": {},
     "output_type": "execute_result"
    }
   ],
   "source": [
    "pickle.load(open('../data/input/SanDiego_fridge_dd_coef.pkl','r'))"
   ]
  },
  {
   "cell_type": "code",
   "execution_count": 180,
   "metadata": {
    "collapsed": false
   },
   "outputs": [
    {
     "data": {
      "text/plain": [
       "{203: {'baseline': 27.957560874390339, 'cdd': 0.028779374489510089},\n",
       " 1450: {'baseline': 51.032217979431145, 'cdd': 0.0},\n",
       " 1524: {'baseline': 48.400031922442494, 'cdd': 0.029877297836492726},\n",
       " 1731: {'baseline': 33.777273122717972, 'cdd': 0.034800893729134412},\n",
       " 3687: {'baseline': 70.417844189537917, 'cdd': 0.0},\n",
       " 3864: {'baseline': 24.379166591529614, 'cdd': 0.045061656246849303},\n",
       " 3938: {'baseline': 32.321743348807757, 'cdd': 0.029384676043138918},\n",
       " 4495: {'baseline': 17.976511873027135, 'cdd': 0.029817507481758276},\n",
       " 4934: {'baseline': 35.507634601084867, 'cdd': 0.034759510697650285},\n",
       " 5938: {'baseline': 27.869158302132295, 'cdd': 0.021374314472701859},\n",
       " 6377: {'baseline': 0.0, 'cdd': 0.62677138598997206},\n",
       " 6547: {'baseline': 41.427546620368972, 'cdd': 0.0},\n",
       " 7062: {'baseline': 26.251816925905697, 'cdd': 0.067048340844727605},\n",
       " 7114: {'baseline': 45.773849871435374, 'cdd': 0.014881450476219143},\n",
       " 8061: {'baseline': 44.467105876765082, 'cdd': 0.052145276521206402},\n",
       " 8342: {'baseline': 40.931293153135321, 'cdd': 0.035310534809039056},\n",
       " 8574: {'baseline': 0.0, 'cdd': 0.34767560816522852},\n",
       " 8733: {'baseline': 45.779155969619765, 'cdd': 0.0},\n",
       " 9213: {'baseline': 33.450222015380874, 'cdd': 0.0},\n",
       " 9585: {'baseline': 0.0, 'cdd': 0.33573210417334715},\n",
       " 9612: {'baseline': 46.323755224545813, 'cdd': 0.0},\n",
       " 9775: {'baseline': 43.950748028776886, 'cdd': 0.011386785471709548},\n",
       " 9836: {'baseline': 35.724963460649761, 'cdd': 0.0}}"
      ]
     },
     "execution_count": 180,
     "metadata": {},
     "output_type": "execute_result"
    }
   ],
   "source": [
    "out"
   ]
  },
  {
   "cell_type": "code",
   "execution_count": 207,
   "metadata": {
    "collapsed": false
   },
   "outputs": [
    {
     "data": {
      "text/plain": [
       "count    15.000000\n",
       "mean      0.206767\n",
       "std       0.728940\n",
       "min       0.000000\n",
       "25%       0.000000\n",
       "50%       0.005883\n",
       "75%       0.026517\n",
       "max       2.839517\n",
       "Name: hvac_12, dtype: float64"
      ]
     },
     "execution_count": 207,
     "metadata": {},
     "output_type": "execute_result"
    }
   ],
   "source": [
    "train_df['hvac_12'].dropna().describe()"
   ]
  },
  {
   "cell_type": "code",
   "execution_count": 208,
   "metadata": {
    "collapsed": false
   },
   "outputs": [
    {
     "data": {
      "text/plain": [
       "count    313.000000\n",
       "mean      34.335550\n",
       "std       73.584854\n",
       "min        0.000000\n",
       "25%        0.419400\n",
       "50%        8.474133\n",
       "75%       29.565916\n",
       "max      506.951752\n",
       "Name: hvac_12, dtype: float64"
      ]
     },
     "execution_count": 208,
     "metadata": {},
     "output_type": "execute_result"
    }
   ],
   "source": [
    "test_df['hvac_12'].dropna().describe()"
   ]
  },
  {
   "cell_type": "code",
   "execution_count": 221,
   "metadata": {
    "collapsed": false
   },
   "outputs": [
    {
     "data": {
      "text/plain": [
       "3938    1.802800\n",
       "9775    3.436233\n",
       "Name: wm_12, dtype: float64"
      ]
     },
     "execution_count": 221,
     "metadata": {},
     "output_type": "execute_result"
    }
   ],
   "source": [
    "train_df['wm_12'].dropna()"
   ]
  },
  {
   "cell_type": "code",
   "execution_count": 223,
   "metadata": {
    "collapsed": false
   },
   "outputs": [
    {
     "data": {
      "text/plain": [
       "count    180.000000\n",
       "mean       4.775413\n",
       "std        8.976150\n",
       "min        0.000000\n",
       "25%        1.967563\n",
       "50%        3.283075\n",
       "75%        4.614083\n",
       "max      100.955681\n",
       "Name: wm_12, dtype: float64"
      ]
     },
     "execution_count": 223,
     "metadata": {},
     "output_type": "execute_result"
    }
   ],
   "source": [
    "test_df['wm_12'].dropna().describe()"
   ]
  },
  {
   "cell_type": "code",
   "execution_count": null,
   "metadata": {
    "collapsed": true
   },
   "outputs": [],
   "source": []
  }
 ],
 "metadata": {
  "kernelspec": {
   "display_name": "Python 2",
   "language": "python",
   "name": "python2"
  },
  "language_info": {
   "codemirror_mode": {
    "name": "ipython",
    "version": 2
   },
   "file_extension": ".py",
   "mimetype": "text/x-python",
   "name": "python",
   "nbconvert_exporter": "python",
   "pygments_lexer": "ipython2",
   "version": "2.7.11"
  }
 },
 "nbformat": 4,
 "nbformat_minor": 0
}
