{
 "cells": [
  {
   "cell_type": "markdown",
   "metadata": {},
   "source": [
    "# Tensor decomposition using Autograd"
   ]
  },
  {
   "cell_type": "code",
   "execution_count": 8,
   "metadata": {
    "collapsed": true
   },
   "outputs": [],
   "source": [
    "import autograd.numpy as np\n",
    "import tensorly\n",
    "from tensorly.decomposition import parafac"
   ]
  },
  {
   "cell_type": "code",
   "execution_count": 9,
   "metadata": {
    "collapsed": true
   },
   "outputs": [],
   "source": [
    "t = np.arange(24).reshape(2, 3, 4).astype('float32')"
   ]
  },
  {
   "cell_type": "code",
   "execution_count": 10,
   "metadata": {
    "collapsed": false
   },
   "outputs": [
    {
     "data": {
      "text/plain": [
       "array([[[  0.,   1.,   2.,   3.],\n",
       "        [  4.,   5.,   6.,   7.],\n",
       "        [  8.,   9.,  10.,  11.]],\n",
       "\n",
       "       [[ 12.,  13.,  14.,  15.],\n",
       "        [ 16.,  17.,  18.,  19.],\n",
       "        [ 20.,  21.,  22.,  23.]]], dtype=float32)"
      ]
     },
     "execution_count": 10,
     "metadata": {},
     "output_type": "execute_result"
    }
   ],
   "source": [
    "t"
   ]
  },
  {
   "cell_type": "code",
   "execution_count": 11,
   "metadata": {
    "collapsed": false
   },
   "outputs": [],
   "source": [
    "A, B, C = parafac(t, rank=2)"
   ]
  },
  {
   "cell_type": "code",
   "execution_count": 12,
   "metadata": {
    "collapsed": false
   },
   "outputs": [
    {
     "data": {
      "text/plain": [
       "array([[ 35.86886727,   4.33025058],\n",
       "       [ 61.91392143,   1.1737134 ]])"
      ]
     },
     "execution_count": 12,
     "metadata": {},
     "output_type": "execute_result"
    }
   ],
   "source": [
    "A"
   ]
  },
  {
   "cell_type": "code",
   "execution_count": 13,
   "metadata": {
    "collapsed": false
   },
   "outputs": [
    {
     "data": {
      "text/plain": [
       "array([[ 0.48010198, -1.33704111],\n",
       "       [ 0.58706644, -0.98212501],\n",
       "       [ 0.6940309 , -0.62720892]])"
      ]
     },
     "execution_count": 13,
     "metadata": {},
     "output_type": "execute_result"
    }
   ],
   "source": [
    "B"
   ]
  },
  {
   "cell_type": "code",
   "execution_count": 14,
   "metadata": {
    "collapsed": false
   },
   "outputs": [
    {
     "data": {
      "text/plain": [
       "array([[ 0.48671098,  1.46524661],\n",
       "       [ 0.51060759,  1.35143039],\n",
       "       [ 0.53450419,  1.23761417],\n",
       "       [ 0.5584008 ,  1.12379794]])"
      ]
     },
     "execution_count": 14,
     "metadata": {},
     "output_type": "execute_result"
    }
   ],
   "source": [
    "C"
   ]
  },
  {
   "cell_type": "code",
   "execution_count": 15,
   "metadata": {
    "collapsed": true
   },
   "outputs": [],
   "source": [
    "def khatri(A, B, C):\n",
    "    return np.einsum('il,jl,kl->ijk',A,B,C)"
   ]
  },
  {
   "cell_type": "code",
   "execution_count": 16,
   "metadata": {
    "collapsed": false
   },
   "outputs": [
    {
     "data": {
      "text/plain": [
       "array([[[ -0.10186127,   0.96861972,   2.03910072,   3.10958171],\n",
       "        [  4.01740161,   5.00464518,   5.99188875,   6.97913232],\n",
       "        [  8.13666448,   9.04067063,   9.94467678,  10.84868293]],\n",
       "\n",
       "       [[ 12.16806623,  13.05700484,  13.94594346,  14.83488207],\n",
       "        [ 16.00173049,  17.0015141 ,  18.0012977 ,  19.0010813 ],\n",
       "        [ 19.83539476,  20.94602335,  22.05665194,  23.16728053]]])"
      ]
     },
     "execution_count": 16,
     "metadata": {},
     "output_type": "execute_result"
    }
   ],
   "source": [
    "khatri(A, B, C)"
   ]
  },
  {
   "cell_type": "code",
   "execution_count": 17,
   "metadata": {
    "collapsed": true
   },
   "outputs": [],
   "source": [
    "from autograd import multigrad"
   ]
  },
  {
   "cell_type": "code",
   "execution_count": 18,
   "metadata": {
    "collapsed": false
   },
   "outputs": [],
   "source": [
    "def cost(A, B, C):\n",
    "    pred = khatri(A, B, C)\n",
    "    gt = t\n",
    "    mask = ~np.isnan(t)\n",
    "    error = (pred-gt)[mask].flatten()\n",
    "    return np.sqrt((error**2).mean())"
   ]
  },
  {
   "cell_type": "code",
   "execution_count": 19,
   "metadata": {
    "collapsed": true
   },
   "outputs": [],
   "source": [
    "mg = multigrad(cost, argnums=[0, 1, 2])"
   ]
  },
  {
   "cell_type": "code",
   "execution_count": 25,
   "metadata": {
    "collapsed": false
   },
   "outputs": [
    {
     "name": "stdout",
     "output_type": "stream",
     "text": [
      "13.3896087303\n",
      "13.1403995288\n",
      "12.6784145997\n",
      "11.3836338072\n",
      "6.17119881855\n",
      "1.59367647945\n",
      "1.57712522522\n",
      "1.56148801277\n",
      "1.54164416832\n",
      "1.51193851273\n",
      "1.46214715129\n",
      "1.37100312768\n",
      "1.19169887199\n",
      "0.845201820036\n",
      "0.500801838486\n",
      "0.432763033457\n",
      "0.405959724161\n",
      "0.381344857275\n",
      "0.358236500737\n",
      "0.337202582543\n",
      "0.318398281673\n",
      "0.301684474737\n",
      "0.286785494852\n",
      "0.273390956387\n",
      "0.261207363766\n",
      "0.249978499386\n",
      "0.239489810964\n",
      "0.229565918191\n",
      "0.220065957556\n",
      "0.210878955224\n",
      "0.201920118594\n",
      "0.193128309099\n",
      "0.18446465096\n",
      "0.175912044612\n",
      "0.167614292608\n",
      "0.193258651365\n",
      "0.194960439551\n",
      "0.196512645059\n",
      "0.19793277622\n",
      "0.199234721931\n",
      "0.200430564816\n",
      "0.201531169287\n",
      "0.20254637573\n",
      "0.203485060521\n",
      "0.204355160172\n",
      "0.205163699619\n",
      "0.205916838771\n",
      "0.206619938584\n",
      "0.207277641767\n",
      "0.207893961044\n",
      "0.208472368124\n",
      "0.209015877975\n",
      "0.209527124858\n",
      "0.210008428301\n",
      "0.210461848605\n",
      "0.210889232381\n",
      "0.211292249209\n",
      "0.211672420708\n",
      "0.212031143384\n",
      "0.212369706492\n"
     ]
    }
   ],
   "source": [
    "rank = 2\n",
    "lr = 0.01\n",
    "\n",
    "m, n, o = t.shape\n",
    "a = np.random.randn(m, rank)\n",
    "b = np.random.randn(n, rank)\n",
    "c = np.random.randn(o, rank)\n",
    "\n",
    "for i in range(6000):\n",
    "    del_a, del_b, del_c = mg(a, b, c)\n",
    "    a-=lr*del_a\n",
    "    b-=lr*del_b\n",
    "    c-=lr*del_c\n",
    "    if i%100==0:\n",
    "        print(cost(a, b, c))\n",
    "    "
   ]
  },
  {
   "cell_type": "code",
   "execution_count": 26,
   "metadata": {
    "collapsed": false
   },
   "outputs": [
    {
     "data": {
      "text/plain": [
       "array([[[ -0.,   1.,   2.,   3.],\n",
       "        [  4.,   5.,   6.,   7.],\n",
       "        [  8.,   9.,  10.,  11.]],\n",
       "\n",
       "       [[ 12.,  13.,  14.,  15.],\n",
       "        [ 16.,  17.,  18.,  19.],\n",
       "        [ 20.,  21.,  22.,  23.]]])"
      ]
     },
     "execution_count": 26,
     "metadata": {},
     "output_type": "execute_result"
    }
   ],
   "source": [
    "np.round(khatri(a, b, c))"
   ]
  },
  {
   "cell_type": "markdown",
   "metadata": {},
   "source": [
    "### Decomposing with missing entries"
   ]
  },
  {
   "cell_type": "code",
   "execution_count": 28,
   "metadata": {
    "collapsed": false
   },
   "outputs": [
    {
     "data": {
      "text/plain": [
       "array([[[ nan,   1.,   2.,   3.],\n",
       "        [  4.,   5.,   6.,   7.],\n",
       "        [  8.,   9.,  10.,  11.]],\n",
       "\n",
       "       [[ 12.,  13.,  14.,  15.],\n",
       "        [ 16.,  17.,  nan,  19.],\n",
       "        [ 20.,  21.,  22.,  23.]]], dtype=float32)"
      ]
     },
     "execution_count": 28,
     "metadata": {},
     "output_type": "execute_result"
    }
   ],
   "source": [
    "t[0, 0, 0] = np.NAN\n",
    "t[1, 1, 2] = np.NAN\n",
    "t"
   ]
  },
  {
   "cell_type": "code",
   "execution_count": 29,
   "metadata": {
    "collapsed": false
   },
   "outputs": [
    {
     "name": "stdout",
     "output_type": "stream",
     "text": [
      "13.3274290767\n",
      "12.9615767378\n",
      "12.231506557\n",
      "10.1565095586\n",
      "3.53174838987\n",
      "0.767466918209\n",
      "0.453413573575\n",
      "0.439333159898\n",
      "0.429231706735\n",
      "0.417799776519\n",
      "0.405029785513\n",
      "0.391291035855\n",
      "0.377112481341\n",
      "0.363057905783\n",
      "0.349606472752\n",
      "0.337081420301\n",
      "0.325641873772\n",
      "0.31531668423\n",
      "0.306050716626\n",
      "0.297744840329\n",
      "0.290283565845\n",
      "0.283551390652\n",
      "0.277441118095\n",
      "0.271857223272\n",
      "0.266716469829\n",
      "0.261947158412\n",
      "0.257487799033\n",
      "0.253285629231\n",
      "0.249295184027\n",
      "0.245477004759\n",
      "0.241796511742\n",
      "0.238223035429\n",
      "0.234728987458\n",
      "0.231289148475\n",
      "0.2278800493\n",
      "0.224479423418\n",
      "0.221065710751\n",
      "0.217617594509\n",
      "0.214113554359\n",
      "0.210531420269\n",
      "0.206847911951\n",
      "0.203038149334\n",
      "0.199075120024\n",
      "0.194929091091\n",
      "0.190567657628\n",
      "0.210202329142\n",
      "0.211834653577\n",
      "0.21338624314\n",
      "0.214863837549\n",
      "0.216272751307\n",
      "0.217617803003\n",
      "0.218903682835\n",
      "0.220135110565\n",
      "0.22131689393\n",
      "0.22245392217\n",
      "0.223551101138\n",
      "0.224613224724\n",
      "0.225644773567\n",
      "0.226649634947\n",
      "0.227630748398\n"
     ]
    }
   ],
   "source": [
    "rank = 2\n",
    "lr = 0.01\n",
    "\n",
    "m, n, o = t.shape\n",
    "a = np.random.randn(m, rank)\n",
    "b = np.random.randn(n, rank)\n",
    "c = np.random.randn(o, rank)\n",
    "\n",
    "for i in range(6000):\n",
    "    del_a, del_b, del_c = mg(a, b, c)\n",
    "    a-=lr*del_a\n",
    "    b-=lr*del_b\n",
    "    c-=lr*del_c\n",
    "    if i%100==0:\n",
    "        print(cost(a, b, c))"
   ]
  },
  {
   "cell_type": "code",
   "execution_count": 31,
   "metadata": {
    "collapsed": false
   },
   "outputs": [
    {
     "data": {
      "text/plain": [
       "array([[[  0.,   1.,   2.,   3.],\n",
       "        [  4.,   5.,   6.,   7.],\n",
       "        [  8.,   9.,  10.,  11.]],\n",
       "\n",
       "       [[ 12.,  13.,  14.,  15.],\n",
       "        [ 16.,  17.,  18.,  19.],\n",
       "        [ 20.,  21.,  22.,  23.]]])"
      ]
     },
     "execution_count": 31,
     "metadata": {},
     "output_type": "execute_result"
    }
   ],
   "source": [
    "np.round(khatri(a, b, c))"
   ]
  },
  {
   "cell_type": "code",
   "execution_count": 32,
   "metadata": {
    "collapsed": false
   },
   "outputs": [
    {
     "data": {
      "text/plain": [
       "array([[-2.44052782,  2.14861234],\n",
       "       [-0.30563334,  3.45964636]])"
      ]
     },
     "execution_count": 32,
     "metadata": {},
     "output_type": "execute_result"
    }
   ],
   "source": [
    "a"
   ]
  },
  {
   "cell_type": "code",
   "execution_count": 33,
   "metadata": {
    "collapsed": false
   },
   "outputs": [
    {
     "data": {
      "text/plain": [
       "array([[-2.34061748, -1.97795096],\n",
       "       [-1.81765871, -2.4921937 ],\n",
       "       [-1.30148193, -3.01197557]])"
      ]
     },
     "execution_count": 33,
     "metadata": {},
     "output_type": "execute_result"
    }
   ],
   "source": [
    "b"
   ]
  },
  {
   "cell_type": "code",
   "execution_count": 34,
   "metadata": {
    "collapsed": false
   },
   "outputs": [
    {
     "data": {
      "text/plain": [
       "array([[-1.4562426 , -1.9755641 ],\n",
       "       [-1.35248743, -2.0831725 ],\n",
       "       [-1.25381021, -2.18718612],\n",
       "       [-1.15631012, -2.29792478]])"
      ]
     },
     "execution_count": 34,
     "metadata": {},
     "output_type": "execute_result"
    }
   ],
   "source": [
    "c"
   ]
  },
  {
   "cell_type": "code",
   "execution_count": null,
   "metadata": {
    "collapsed": true
   },
   "outputs": [],
   "source": []
  }
 ],
 "metadata": {
  "kernelspec": {
   "display_name": "Python 2",
   "language": "python",
   "name": "python2"
  },
  "language_info": {
   "codemirror_mode": {
    "name": "ipython",
    "version": 2
   },
   "file_extension": ".py",
   "mimetype": "text/x-python",
   "name": "python",
   "nbconvert_exporter": "python",
   "pygments_lexer": "ipython2",
   "version": "2.7.11"
  }
 },
 "nbformat": 4,
 "nbformat_minor": 0
}
