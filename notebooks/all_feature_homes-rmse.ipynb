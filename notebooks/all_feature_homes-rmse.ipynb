{
 "cells": [
  {
   "cell_type": "code",
   "execution_count": 5,
   "metadata": {
    "collapsed": true
   },
   "outputs": [],
   "source": [
    "import pickle\n",
    "import pandas as pd\n",
    "import sys\n",
    "import numpy as np"
   ]
  },
  {
   "cell_type": "code",
   "execution_count": 6,
   "metadata": {
    "collapsed": false
   },
   "outputs": [
    {
     "name": "stdout",
     "output_type": "stream",
     "text": [
      "all_feature_homes-rmse.ipynb all_feature_homes.ipynb      all_homes.ipynb\r\n"
     ]
    }
   ],
   "source": [
    "!ls"
   ]
  },
  {
   "cell_type": "code",
   "execution_count": 7,
   "metadata": {
    "collapsed": false
   },
   "outputs": [],
   "source": [
    "sys.path.append(\"../../code/\")\n",
    "sys.path.append(\"../code/\")\n",
    "\n",
    "\n",
    "from common_functions import tableau20blind, format_axes, latexify\n",
    "from regional_average_contribution import contribution"
   ]
  },
  {
   "cell_type": "code",
   "execution_count": 8,
   "metadata": {
    "collapsed": true
   },
   "outputs": [],
   "source": [
    "out_overall = pickle.load(open('../../data/input/all_regions.pkl', 'r'))\n"
   ]
  },
  {
   "cell_type": "code",
   "execution_count": 9,
   "metadata": {
    "collapsed": true
   },
   "outputs": [],
   "source": [
    "mf_pred = pickle.load(open('../data/mf_pred_subset_homes.pkl','r'))\n"
   ]
  },
  {
   "cell_type": "code",
   "execution_count": 14,
   "metadata": {
    "collapsed": true
   },
   "outputs": [],
   "source": [
    "from sklearn.metrics import mean_squared_error"
   ]
  },
  {
   "cell_type": "code",
   "execution_count": 45,
   "metadata": {
    "collapsed": false
   },
   "outputs": [
    {
     "data": {
      "text/plain": [
       "38.408004579241052"
      ]
     },
     "execution_count": 45,
     "metadata": {},
     "output_type": "execute_result"
    }
   ],
   "source": [
    "appliance=\"fridge\"\n",
    "feature=\"occ\"\n",
    "k=4\n",
    "region = \"Austin\"\n",
    "df = out_overall[region]\n",
    "pred_df = mf_pred[appliance][feature][k]\n",
    "gt_df = df[pred_df.columns].ix[pred_df.index]\n",
    "rms = np.sqrt(mean_squared_error(gt_df, pred_df))\n",
    "rms"
   ]
  },
  {
   "cell_type": "code",
   "execution_count": 111,
   "metadata": {
    "collapsed": true
   },
   "outputs": [],
   "source": [
    "result = {'MF-105 homes, feature':{},'KNN':{},'MF-105 homes':{}}"
   ]
  },
  {
   "cell_type": "code",
   "execution_count": 112,
   "metadata": {
    "collapsed": false
   },
   "outputs": [
    {
     "name": "stdout",
     "output_type": "stream",
     "text": [
      "hvac\n",
      "wm\n",
      "fridge\n",
      "mw\n",
      "oven\n",
      "dw\n",
      "{'hvac': ('rooms', 1, 226.84001784365859), 'wm': ('rooms', 1, 5.7135756977635106), 'fridge': ('rooms', 5, 38.217563412364591), 'mw': ('rooms', 3, 6.0198103895195247), 'oven': ('rooms', 5, 10.412947373735774), 'dw': ('rooms', 2, 9.3353511843913175)}\n"
     ]
    }
   ],
   "source": [
    "best_combination = {}\n",
    "for appliance, appliance_struct in mf_pred.iteritems():\n",
    "    print appliance\n",
    "    best_appliance=1000\n",
    "    for appliance_feature_struct in appliance_struct['None']:\n",
    "        for latent_factors, appliance_df in appliance_struct[appliance_feature].iteritems():\n",
    "            try:\n",
    "                region = \"Austin\"\n",
    "                df = out_overall[region]\n",
    "                pred_df = mf_pred[appliance][appliance_feature][latent_factors]\n",
    "                gt_df = df[pred_df.columns].ix[pred_df.index]\n",
    "\n",
    "                rms = np.sqrt(mean_squared_error(gt_df, pred_df))\n",
    "\n",
    "                if rms<best_appliance:\n",
    "\n",
    "                    best_appliance=rms\n",
    "                    best_combination[appliance]=(appliance_feature, latent_factors, rms)\n",
    "            except:\n",
    "                pass\n",
    "    result['MF-105 homes'][appliance]=best_appliance\n",
    "            \n",
    "print best_combination"
   ]
  },
  {
   "cell_type": "code",
   "execution_count": 113,
   "metadata": {
    "collapsed": false
   },
   "outputs": [
    {
     "name": "stdout",
     "output_type": "stream",
     "text": [
      "hvac\n",
      "wm\n",
      "fridge\n",
      "mw\n",
      "oven\n",
      "dw\n",
      "{'hvac': ('area_rooms', 4, 226.03042680238124), 'wm': ('None', 1, 5.7119902861414875), 'fridge': ('area', 5, 38.189255143190742), 'mw': ('area', 3, 5.9449317804769137), 'oven': ('area_rooms', 8, 9.8887071354026119), 'dw': ('occ_area', 2, 8.4975349501345878)}\n"
     ]
    }
   ],
   "source": [
    "best_combination = {}\n",
    "for appliance, appliance_struct in mf_pred.iteritems():\n",
    "    print appliance\n",
    "    best_appliance=1000\n",
    "    for appliance_feature, appliance_feature_struct in appliance_struct.iteritems():\n",
    "        for latent_factors, appliance_df in appliance_struct[appliance_feature].iteritems():\n",
    "            try:\n",
    "                region = \"Austin\"\n",
    "                df = out_overall[region]\n",
    "                pred_df = mf_pred[appliance][appliance_feature][latent_factors]\n",
    "                gt_df = df[pred_df.columns].ix[pred_df.index]\n",
    "\n",
    "                rms = np.sqrt(mean_squared_error(gt_df, pred_df))\n",
    "\n",
    "                if rms<best_appliance:\n",
    "\n",
    "                    best_appliance=rms\n",
    "                    best_combination[appliance]=(appliance_feature, latent_factors, rms)\n",
    "            except:\n",
    "                pass\n",
    "    result['MF-105 homes, feature'][appliance]=best_appliance\n",
    "            \n",
    "print best_combination"
   ]
  },
  {
   "cell_type": "code",
   "execution_count": 106,
   "metadata": {
    "collapsed": false
   },
   "outputs": [
    {
     "data": {
      "text/html": [
       "<div>\n",
       "<table border=\"1\" class=\"dataframe\">\n",
       "  <thead>\n",
       "    <tr style=\"text-align: right;\">\n",
       "      <th></th>\n",
       "      <th>dw_1</th>\n",
       "      <th>dw_2</th>\n",
       "      <th>dw_3</th>\n",
       "      <th>dw_4</th>\n",
       "      <th>dw_5</th>\n",
       "      <th>dw_6</th>\n",
       "      <th>dw_7</th>\n",
       "      <th>dw_8</th>\n",
       "      <th>dw_9</th>\n",
       "      <th>dw_10</th>\n",
       "      <th>dw_11</th>\n",
       "      <th>dw_12</th>\n",
       "    </tr>\n",
       "  </thead>\n",
       "  <tbody>\n",
       "    <tr>\n",
       "      <th>count</th>\n",
       "      <td>59.000000</td>\n",
       "      <td>59.000000</td>\n",
       "      <td>59.000000</td>\n",
       "      <td>59.000000</td>\n",
       "      <td>59.000000</td>\n",
       "      <td>59.000000</td>\n",
       "      <td>59.000000</td>\n",
       "      <td>59.000000</td>\n",
       "      <td>59.000000</td>\n",
       "      <td>59.000000</td>\n",
       "      <td>59.000000</td>\n",
       "      <td>59.000000</td>\n",
       "    </tr>\n",
       "    <tr>\n",
       "      <th>mean</th>\n",
       "      <td>-0.627905</td>\n",
       "      <td>0.106824</td>\n",
       "      <td>-0.225615</td>\n",
       "      <td>-0.027909</td>\n",
       "      <td>0.314270</td>\n",
       "      <td>0.992700</td>\n",
       "      <td>0.614534</td>\n",
       "      <td>-0.301653</td>\n",
       "      <td>-0.113831</td>\n",
       "      <td>0.351927</td>\n",
       "      <td>0.055831</td>\n",
       "      <td>0.189040</td>\n",
       "    </tr>\n",
       "    <tr>\n",
       "      <th>std</th>\n",
       "      <td>11.782825</td>\n",
       "      <td>8.992783</td>\n",
       "      <td>10.493215</td>\n",
       "      <td>10.966151</td>\n",
       "      <td>9.545043</td>\n",
       "      <td>10.172639</td>\n",
       "      <td>9.912495</td>\n",
       "      <td>10.612070</td>\n",
       "      <td>10.856258</td>\n",
       "      <td>9.557116</td>\n",
       "      <td>9.177544</td>\n",
       "      <td>10.958449</td>\n",
       "    </tr>\n",
       "    <tr>\n",
       "      <th>min</th>\n",
       "      <td>-32.481836</td>\n",
       "      <td>-22.491453</td>\n",
       "      <td>-26.282004</td>\n",
       "      <td>-35.894438</td>\n",
       "      <td>-21.177443</td>\n",
       "      <td>-19.433764</td>\n",
       "      <td>-24.147291</td>\n",
       "      <td>-31.030829</td>\n",
       "      <td>-31.386717</td>\n",
       "      <td>-23.099750</td>\n",
       "      <td>-23.280154</td>\n",
       "      <td>-24.068298</td>\n",
       "    </tr>\n",
       "    <tr>\n",
       "      <th>25%</th>\n",
       "      <td>-5.544347</td>\n",
       "      <td>-3.793471</td>\n",
       "      <td>-5.821686</td>\n",
       "      <td>-4.720020</td>\n",
       "      <td>-4.320200</td>\n",
       "      <td>-4.462809</td>\n",
       "      <td>-3.521858</td>\n",
       "      <td>-4.181575</td>\n",
       "      <td>-3.350320</td>\n",
       "      <td>-3.739437</td>\n",
       "      <td>-3.535579</td>\n",
       "      <td>-3.835977</td>\n",
       "    </tr>\n",
       "    <tr>\n",
       "      <th>50%</th>\n",
       "      <td>0.081203</td>\n",
       "      <td>0.393300</td>\n",
       "      <td>-0.367597</td>\n",
       "      <td>0.531170</td>\n",
       "      <td>0.278666</td>\n",
       "      <td>0.260451</td>\n",
       "      <td>1.122758</td>\n",
       "      <td>0.747265</td>\n",
       "      <td>0.721893</td>\n",
       "      <td>0.546889</td>\n",
       "      <td>1.114003</td>\n",
       "      <td>0.935016</td>\n",
       "    </tr>\n",
       "    <tr>\n",
       "      <th>75%</th>\n",
       "      <td>5.125544</td>\n",
       "      <td>5.113537</td>\n",
       "      <td>5.340905</td>\n",
       "      <td>4.769791</td>\n",
       "      <td>5.458203</td>\n",
       "      <td>6.105311</td>\n",
       "      <td>5.647691</td>\n",
       "      <td>4.073125</td>\n",
       "      <td>4.886963</td>\n",
       "      <td>3.684534</td>\n",
       "      <td>3.954853</td>\n",
       "      <td>5.517145</td>\n",
       "    </tr>\n",
       "    <tr>\n",
       "      <th>max</th>\n",
       "      <td>31.664072</td>\n",
       "      <td>26.290534</td>\n",
       "      <td>32.260957</td>\n",
       "      <td>30.291662</td>\n",
       "      <td>28.666861</td>\n",
       "      <td>39.667889</td>\n",
       "      <td>31.792330</td>\n",
       "      <td>31.537598</td>\n",
       "      <td>26.569549</td>\n",
       "      <td>31.846065</td>\n",
       "      <td>22.944019</td>\n",
       "      <td>38.958611</td>\n",
       "    </tr>\n",
       "  </tbody>\n",
       "</table>\n",
       "</div>"
      ],
      "text/plain": [
       "0           dw_1       dw_2       dw_3       dw_4       dw_5       dw_6  \\\n",
       "count  59.000000  59.000000  59.000000  59.000000  59.000000  59.000000   \n",
       "mean   -0.627905   0.106824  -0.225615  -0.027909   0.314270   0.992700   \n",
       "std    11.782825   8.992783  10.493215  10.966151   9.545043  10.172639   \n",
       "min   -32.481836 -22.491453 -26.282004 -35.894438 -21.177443 -19.433764   \n",
       "25%    -5.544347  -3.793471  -5.821686  -4.720020  -4.320200  -4.462809   \n",
       "50%     0.081203   0.393300  -0.367597   0.531170   0.278666   0.260451   \n",
       "75%     5.125544   5.113537   5.340905   4.769791   5.458203   6.105311   \n",
       "max    31.664072  26.290534  32.260957  30.291662  28.666861  39.667889   \n",
       "\n",
       "0           dw_7       dw_8       dw_9      dw_10      dw_11      dw_12  \n",
       "count  59.000000  59.000000  59.000000  59.000000  59.000000  59.000000  \n",
       "mean    0.614534  -0.301653  -0.113831   0.351927   0.055831   0.189040  \n",
       "std     9.912495  10.612070  10.856258   9.557116   9.177544  10.958449  \n",
       "min   -24.147291 -31.030829 -31.386717 -23.099750 -23.280154 -24.068298  \n",
       "25%    -3.521858  -4.181575  -3.350320  -3.739437  -3.535579  -3.835977  \n",
       "50%     1.122758   0.747265   0.721893   0.546889   1.114003   0.935016  \n",
       "75%     5.647691   4.073125   4.886963   3.684534   3.954853   5.517145  \n",
       "max    31.792330  31.537598  26.569549  31.846065  22.944019  38.958611  "
      ]
     },
     "execution_count": 106,
     "metadata": {},
     "output_type": "execute_result"
    }
   ],
   "source": [
    "(pred_df-gt_df).describe()"
   ]
  },
  {
   "cell_type": "code",
   "execution_count": 107,
   "metadata": {
    "collapsed": false
   },
   "outputs": [
    {
     "data": {
      "text/html": [
       "<div>\n",
       "<table border=\"1\" class=\"dataframe\">\n",
       "  <thead>\n",
       "    <tr style=\"text-align: right;\">\n",
       "      <th></th>\n",
       "      <th>hvac_5</th>\n",
       "      <th>hvac_6</th>\n",
       "      <th>hvac_7</th>\n",
       "      <th>hvac_8</th>\n",
       "      <th>hvac_9</th>\n",
       "      <th>hvac_10</th>\n",
       "    </tr>\n",
       "  </thead>\n",
       "  <tbody>\n",
       "    <tr>\n",
       "      <th>26</th>\n",
       "      <td>333.177627</td>\n",
       "      <td>652.431313</td>\n",
       "      <td>955.681352</td>\n",
       "      <td>1040.261046</td>\n",
       "      <td>726.902850</td>\n",
       "      <td>365.290914</td>\n",
       "    </tr>\n",
       "    <tr>\n",
       "      <th>59</th>\n",
       "      <td>215.776261</td>\n",
       "      <td>423.739045</td>\n",
       "      <td>619.437380</td>\n",
       "      <td>672.793409</td>\n",
       "      <td>473.910375</td>\n",
       "      <td>237.425860</td>\n",
       "    </tr>\n",
       "    <tr>\n",
       "      <th>94</th>\n",
       "      <td>88.175027</td>\n",
       "      <td>172.938788</td>\n",
       "      <td>253.130200</td>\n",
       "      <td>275.390248</td>\n",
       "      <td>193.012145</td>\n",
       "      <td>96.911105</td>\n",
       "    </tr>\n",
       "    <tr>\n",
       "      <th>101</th>\n",
       "      <td>117.975378</td>\n",
       "      <td>231.832961</td>\n",
       "      <td>339.054945</td>\n",
       "      <td>368.429261</td>\n",
       "      <td>259.417455</td>\n",
       "      <td>129.848179</td>\n",
       "    </tr>\n",
       "    <tr>\n",
       "      <th>222</th>\n",
       "      <td>770.062248</td>\n",
       "      <td>1508.142416</td>\n",
       "      <td>2211.678719</td>\n",
       "      <td>2409.729449</td>\n",
       "      <td>1680.489580</td>\n",
       "      <td>844.732799</td>\n",
       "    </tr>\n",
       "  </tbody>\n",
       "</table>\n",
       "</div>"
      ],
      "text/plain": [
       "0        hvac_5       hvac_6       hvac_7       hvac_8       hvac_9  \\\n",
       "26   333.177627   652.431313   955.681352  1040.261046   726.902850   \n",
       "59   215.776261   423.739045   619.437380   672.793409   473.910375   \n",
       "94    88.175027   172.938788   253.130200   275.390248   193.012145   \n",
       "101  117.975378   231.832961   339.054945   368.429261   259.417455   \n",
       "222  770.062248  1508.142416  2211.678719  2409.729449  1680.489580   \n",
       "\n",
       "0       hvac_10  \n",
       "26   365.290914  \n",
       "59   237.425860  \n",
       "94    96.911105  \n",
       "101  129.848179  \n",
       "222  844.732799  "
      ]
     },
     "execution_count": 107,
     "metadata": {},
     "output_type": "execute_result"
    }
   ],
   "source": [
    "mf_pred['hvac']['None'][2].head()"
   ]
  },
  {
   "cell_type": "code",
   "execution_count": 82,
   "metadata": {
    "collapsed": true
   },
   "outputs": [],
   "source": [
    "# Initialising results\n",
    "results = {'KNN':{},'MF-105 homes':{},'MF-105 homes, additional features':{}\n",
    "          ,\"MF-516 homes, additional features\":{},\"MF-516 homes\":{}}\n",
    "\n",
    "# Initialising results\n",
    "results = {'KNN':{},'MF-105 homes':{},'MF-105 homes, additional features':{}\n",
    "          }"
   ]
  },
  {
   "cell_type": "code",
   "execution_count": 114,
   "metadata": {
    "collapsed": false
   },
   "outputs": [],
   "source": [
    "# Loading KNN results\n",
    "knn_results = pickle.load(open('../data/knn_pred_all_homes.pkl','r'))\n",
    "for appliance, appliance_df in knn_results.iteritems():\n",
    "    \n",
    "    pred_df = appliance_df\n",
    "    pred_df.columns = [appliance+\"_\"+str(x) for x in pred_df.columns]\n",
    "    region = \"Austin\"\n",
    "    df = out_overall[region]\n",
    "    #pred_df = mf_pred[appliance][appliance_feature][latent_factors]\n",
    "    gt_df = df[pred_df.columns].ix[pred_df.index]\n",
    "\n",
    "    rms = np.sqrt(mean_squared_error(gt_df, pred_df))\n",
    "    result['KNN'][appliance]=rms"
   ]
  },
  {
   "cell_type": "code",
   "execution_count": 115,
   "metadata": {
    "collapsed": false
   },
   "outputs": [
    {
     "data": {
      "text/html": [
       "<div>\n",
       "<table border=\"1\" class=\"dataframe\">\n",
       "  <thead>\n",
       "    <tr style=\"text-align: right;\">\n",
       "      <th></th>\n",
       "      <th>KNN</th>\n",
       "      <th>MF-105 homes</th>\n",
       "      <th>MF-105 homes, feature</th>\n",
       "    </tr>\n",
       "  </thead>\n",
       "  <tbody>\n",
       "    <tr>\n",
       "      <th>dw</th>\n",
       "      <td>9.739296</td>\n",
       "      <td>9.335351</td>\n",
       "      <td>8.497535</td>\n",
       "    </tr>\n",
       "    <tr>\n",
       "      <th>fridge</th>\n",
       "      <td>44.874118</td>\n",
       "      <td>38.217563</td>\n",
       "      <td>38.189255</td>\n",
       "    </tr>\n",
       "    <tr>\n",
       "      <th>hvac</th>\n",
       "      <td>215.952897</td>\n",
       "      <td>226.840018</td>\n",
       "      <td>226.030427</td>\n",
       "    </tr>\n",
       "    <tr>\n",
       "      <th>mw</th>\n",
       "      <td>6.884251</td>\n",
       "      <td>6.019810</td>\n",
       "      <td>5.944932</td>\n",
       "    </tr>\n",
       "    <tr>\n",
       "      <th>oven</th>\n",
       "      <td>11.116406</td>\n",
       "      <td>10.412947</td>\n",
       "      <td>9.888707</td>\n",
       "    </tr>\n",
       "    <tr>\n",
       "      <th>wm</th>\n",
       "      <td>5.877304</td>\n",
       "      <td>5.713576</td>\n",
       "      <td>5.711990</td>\n",
       "    </tr>\n",
       "  </tbody>\n",
       "</table>\n",
       "</div>"
      ],
      "text/plain": [
       "               KNN  MF-105 homes  MF-105 homes, feature\n",
       "dw        9.739296      9.335351               8.497535\n",
       "fridge   44.874118     38.217563              38.189255\n",
       "hvac    215.952897    226.840018             226.030427\n",
       "mw        6.884251      6.019810               5.944932\n",
       "oven     11.116406     10.412947               9.888707\n",
       "wm        5.877304      5.713576               5.711990"
      ]
     },
     "execution_count": 115,
     "metadata": {},
     "output_type": "execute_result"
    }
   ],
   "source": [
    "\n",
    "pd.DataFrame(result)"
   ]
  },
  {
   "cell_type": "code",
   "execution_count": 85,
   "metadata": {
    "collapsed": false
   },
   "outputs": [
    {
     "name": "stdout",
     "output_type": "stream",
     "text": [
      "{'hvac': ('None', 8, 21.46749926033644), 'wm': ('None', 2, 44.05241484909982), 'fridge': ('None', 3, 28.47212892859601), 'mw': ('None', 2, 43.359407921872695), 'oven': ('None', 1, 52.20834411012954), 'dw': ('None', 9, 52.777753183644315)}\n"
     ]
    }
   ],
   "source": [
    "# Loading MF results and finding the best\n",
    "mf_results = pickle.load(open('../data/mf_subset_homes.pkl','r'))\n",
    "best_combination = {}\n",
    "for appliance, appliance_struct in mf_results.iteritems():\n",
    "    best_appliance=1000\n",
    "    appliance_feature='None'\n",
    "    for latent_factors, appliance_df in appliance_struct[appliace_feature].iteritems():\n",
    "        \n",
    "        pred = appliance_df.median().mean()\n",
    "        if pred<best_appliance:\n",
    "            best_appliance=pred\n",
    "            best_combination[appliance]=(appliance_feature, latent_factors, pred)\n",
    "            results['MF-105 homes'][appliance] = pred\n",
    "print best_combination"
   ]
  },
  {
   "cell_type": "code",
   "execution_count": 94,
   "metadata": {
    "collapsed": false
   },
   "outputs": [],
   "source": [
    "# Loading MF results and finding the best\n",
    "mf_results = pickle.load(open('../data/mf_subset_homes.pkl','r'))\n",
    "best_combination = {}\n",
    "for appliance, appliance_struct in mf_results.iteritems():\n",
    "    best_appliance=1000\n",
    "    for appliance_feature, appliance_feature_struct in appliance_struct.iteritems():\n",
    "        for latent_factors, appliance_df in appliance_feature_struct.iteritems():\n",
    "            pred = appliance_df.median().mean()\n",
    "            if pred<best_appliance:\n",
    "                best_appliance=pred\n",
    "                best_combination[appliance]=(appliance_feature, latent_factors, pred)\n",
    "                results['MF-105 homes, additional features'][appliance] = pred"
   ]
  },
  {
   "cell_type": "code",
   "execution_count": 95,
   "metadata": {
    "collapsed": false
   },
   "outputs": [
    {
     "data": {
      "text/plain": [
       "{'dw': ('occ', 2, 46.37772338804214),\n",
       " 'fridge': ('occ_area', 2, 24.91311995551921),\n",
       " 'hvac': ('rooms', 8, 21.29756141099046),\n",
       " 'mw': ('occ', 5, 41.22580648634024),\n",
       " 'oven': ('area_rooms', 8, 48.164684764512515),\n",
       " 'wm': ('occ_rooms', 3, 43.7072363087808)}"
      ]
     },
     "execution_count": 95,
     "metadata": {},
     "output_type": "execute_result"
    }
   ],
   "source": [
    "best_combination"
   ]
  },
  {
   "cell_type": "code",
   "execution_count": 54,
   "metadata": {
    "collapsed": false
   },
   "outputs": [
    {
     "name": "stdout",
     "output_type": "stream",
     "text": [
      "{'hvac': ('None', 8, 21.46749926033644), 'wm': ('None', 2, 44.05241484909982), 'fridge': ('None', 3, 28.47212892859601), 'mw': ('None', 2, 43.359407921872695), 'oven': ('None', 1, 52.20834411012954), 'dw': ('None', 9, 52.777753183644315)}\n"
     ]
    }
   ],
   "source": [
    "# Loading MF results and finding the best\n",
    "mf_results = pickle.load(open('../data/mf_all_homes.pkl','r'))\n",
    "mf_subset_results = pickle.load(open('../data/mf_subset_homes.pkl','r'))\n",
    "best_combination = {}\n",
    "for appliance, appliance_struct in mf_results.iteritems():\n",
    "    best_appliance=1000\n",
    "    appliance_feature='None'        \n",
    "    for latent_factors, appliance_df in appliance_struct[appliance_feature].iteritems():\n",
    "\n",
    "        pred = appliance_df.ix[mf_subset_results[appliance][appliance_feature][latent_factors].index].median().mean()\n",
    "        if pred<best_appliance:\n",
    "            best_appliance=pred\n",
    "            best_combination[appliance]=(appliance_feature, latent_factors, pred)\n",
    "            results['MF-516 homes'][appliance] = pred\n",
    "print best_combination"
   ]
  },
  {
   "cell_type": "code",
   "execution_count": 65,
   "metadata": {
    "collapsed": false
   },
   "outputs": [
    {
     "data": {
      "text/plain": [
       "('dw', 50.4382645923347)"
      ]
     },
     "execution_count": 65,
     "metadata": {},
     "output_type": "execute_result"
    }
   ],
   "source": [
    "appliance,appliance_df.median().mean()"
   ]
  },
  {
   "cell_type": "code",
   "execution_count": 76,
   "metadata": {
    "collapsed": false
   },
   "outputs": [
    {
     "data": {
      "text/html": [
       "<div>\n",
       "<table border=\"1\" class=\"dataframe\">\n",
       "  <thead>\n",
       "    <tr style=\"text-align: right;\">\n",
       "      <th></th>\n",
       "      <th>dw_1</th>\n",
       "      <th>dw_2</th>\n",
       "      <th>dw_3</th>\n",
       "      <th>dw_4</th>\n",
       "      <th>dw_5</th>\n",
       "      <th>dw_6</th>\n",
       "      <th>dw_7</th>\n",
       "      <th>dw_8</th>\n",
       "      <th>dw_9</th>\n",
       "      <th>dw_10</th>\n",
       "      <th>dw_11</th>\n",
       "      <th>dw_12</th>\n",
       "    </tr>\n",
       "  </thead>\n",
       "  <tbody>\n",
       "    <tr>\n",
       "      <th>26</th>\n",
       "      <td>34.855730</td>\n",
       "      <td>15.678797</td>\n",
       "      <td>32.211937</td>\n",
       "      <td>12.414853</td>\n",
       "      <td>7.081288</td>\n",
       "      <td>4.487206e+00</td>\n",
       "      <td>41.639537</td>\n",
       "      <td>34.499743</td>\n",
       "      <td>23.885481</td>\n",
       "      <td>24.447988</td>\n",
       "      <td>20.859448</td>\n",
       "      <td>12.524931</td>\n",
       "    </tr>\n",
       "    <tr>\n",
       "      <th>94</th>\n",
       "      <td>69.538060</td>\n",
       "      <td>37.909134</td>\n",
       "      <td>15.603427</td>\n",
       "      <td>57.894529</td>\n",
       "      <td>9.337666</td>\n",
       "      <td>3.851588e+00</td>\n",
       "      <td>0.216471</td>\n",
       "      <td>25.804832</td>\n",
       "      <td>41.669234</td>\n",
       "      <td>13.493729</td>\n",
       "      <td>107.075068</td>\n",
       "      <td>11.431772</td>\n",
       "    </tr>\n",
       "    <tr>\n",
       "      <th>101</th>\n",
       "      <td>2.427404</td>\n",
       "      <td>3.593241</td>\n",
       "      <td>34.530698</td>\n",
       "      <td>57.570727</td>\n",
       "      <td>287.247342</td>\n",
       "      <td>inf</td>\n",
       "      <td>193612.131846</td>\n",
       "      <td>14.789327</td>\n",
       "      <td>83439.134871</td>\n",
       "      <td>939.253790</td>\n",
       "      <td>29100.317226</td>\n",
       "      <td>16308.978198</td>\n",
       "    </tr>\n",
       "    <tr>\n",
       "      <th>222</th>\n",
       "      <td>290.869484</td>\n",
       "      <td>102.405023</td>\n",
       "      <td>119.893203</td>\n",
       "      <td>2243.262119</td>\n",
       "      <td>531704.275173</td>\n",
       "      <td>3.576656e+05</td>\n",
       "      <td>11093392.557923</td>\n",
       "      <td>193543.866055</td>\n",
       "      <td>301766.157879</td>\n",
       "      <td>725858.700485</td>\n",
       "      <td>140.186500</td>\n",
       "      <td>128.305188</td>\n",
       "    </tr>\n",
       "    <tr>\n",
       "      <th>545</th>\n",
       "      <td>16.639845</td>\n",
       "      <td>20.144247</td>\n",
       "      <td>21.551902</td>\n",
       "      <td>22.272346</td>\n",
       "      <td>4.260483</td>\n",
       "      <td>2.458241e+01</td>\n",
       "      <td>11.635052</td>\n",
       "      <td>30.932435</td>\n",
       "      <td>22.175190</td>\n",
       "      <td>18.541411</td>\n",
       "      <td>14.927862</td>\n",
       "      <td>8.404200</td>\n",
       "    </tr>\n",
       "  </tbody>\n",
       "</table>\n",
       "</div>"
      ],
      "text/plain": [
       "0          dw_1        dw_2        dw_3         dw_4           dw_5  \\\n",
       "26    34.855730   15.678797   32.211937    12.414853       7.081288   \n",
       "94    69.538060   37.909134   15.603427    57.894529       9.337666   \n",
       "101    2.427404    3.593241   34.530698    57.570727     287.247342   \n",
       "222  290.869484  102.405023  119.893203  2243.262119  531704.275173   \n",
       "545   16.639845   20.144247   21.551902    22.272346       4.260483   \n",
       "\n",
       "0            dw_6             dw_7           dw_8           dw_9  \\\n",
       "26   4.487206e+00        41.639537      34.499743      23.885481   \n",
       "94   3.851588e+00         0.216471      25.804832      41.669234   \n",
       "101           inf    193612.131846      14.789327   83439.134871   \n",
       "222  3.576656e+05  11093392.557923  193543.866055  301766.157879   \n",
       "545  2.458241e+01        11.635052      30.932435      22.175190   \n",
       "\n",
       "0            dw_10         dw_11         dw_12  \n",
       "26       24.447988     20.859448     12.524931  \n",
       "94       13.493729    107.075068     11.431772  \n",
       "101     939.253790  29100.317226  16308.978198  \n",
       "222  725858.700485    140.186500    128.305188  \n",
       "545      18.541411     14.927862      8.404200  "
      ]
     },
     "execution_count": 76,
     "metadata": {},
     "output_type": "execute_result"
    }
   ],
   "source": [
    "mf_results[appliance]['None'][2].ix[mf_subset_results[appliance]['None'][2].index].head()"
   ]
  },
  {
   "cell_type": "code",
   "execution_count": 77,
   "metadata": {
    "collapsed": false
   },
   "outputs": [
    {
     "data": {
      "text/html": [
       "<div>\n",
       "<table border=\"1\" class=\"dataframe\">\n",
       "  <thead>\n",
       "    <tr style=\"text-align: right;\">\n",
       "      <th></th>\n",
       "      <th>dw_1</th>\n",
       "      <th>dw_2</th>\n",
       "      <th>dw_3</th>\n",
       "      <th>dw_4</th>\n",
       "      <th>dw_5</th>\n",
       "      <th>dw_6</th>\n",
       "      <th>dw_7</th>\n",
       "      <th>dw_8</th>\n",
       "      <th>dw_9</th>\n",
       "      <th>dw_10</th>\n",
       "      <th>dw_11</th>\n",
       "      <th>dw_12</th>\n",
       "    </tr>\n",
       "  </thead>\n",
       "  <tbody>\n",
       "    <tr>\n",
       "      <th>26</th>\n",
       "      <td>34.855730</td>\n",
       "      <td>15.678797</td>\n",
       "      <td>32.211937</td>\n",
       "      <td>12.414853</td>\n",
       "      <td>7.081288</td>\n",
       "      <td>4.487206e+00</td>\n",
       "      <td>41.639537</td>\n",
       "      <td>34.499743</td>\n",
       "      <td>23.885481</td>\n",
       "      <td>24.447988</td>\n",
       "      <td>20.859448</td>\n",
       "      <td>12.524931</td>\n",
       "    </tr>\n",
       "    <tr>\n",
       "      <th>94</th>\n",
       "      <td>69.538060</td>\n",
       "      <td>37.909134</td>\n",
       "      <td>15.603427</td>\n",
       "      <td>57.894529</td>\n",
       "      <td>9.337666</td>\n",
       "      <td>3.851588e+00</td>\n",
       "      <td>0.216471</td>\n",
       "      <td>25.804832</td>\n",
       "      <td>41.669234</td>\n",
       "      <td>13.493729</td>\n",
       "      <td>107.075068</td>\n",
       "      <td>11.431772</td>\n",
       "    </tr>\n",
       "    <tr>\n",
       "      <th>101</th>\n",
       "      <td>2.427404</td>\n",
       "      <td>3.593241</td>\n",
       "      <td>34.530698</td>\n",
       "      <td>57.570727</td>\n",
       "      <td>287.247342</td>\n",
       "      <td>inf</td>\n",
       "      <td>193612.131846</td>\n",
       "      <td>14.789327</td>\n",
       "      <td>83439.134871</td>\n",
       "      <td>939.253790</td>\n",
       "      <td>29100.317226</td>\n",
       "      <td>16308.978198</td>\n",
       "    </tr>\n",
       "    <tr>\n",
       "      <th>222</th>\n",
       "      <td>290.869484</td>\n",
       "      <td>102.405023</td>\n",
       "      <td>119.893203</td>\n",
       "      <td>2243.262119</td>\n",
       "      <td>531704.275173</td>\n",
       "      <td>3.576656e+05</td>\n",
       "      <td>11093392.557923</td>\n",
       "      <td>193543.866055</td>\n",
       "      <td>301766.157879</td>\n",
       "      <td>725858.700485</td>\n",
       "      <td>140.186500</td>\n",
       "      <td>128.305188</td>\n",
       "    </tr>\n",
       "    <tr>\n",
       "      <th>545</th>\n",
       "      <td>16.639845</td>\n",
       "      <td>20.144247</td>\n",
       "      <td>21.551902</td>\n",
       "      <td>22.272346</td>\n",
       "      <td>4.260483</td>\n",
       "      <td>2.458241e+01</td>\n",
       "      <td>11.635052</td>\n",
       "      <td>30.932435</td>\n",
       "      <td>22.175190</td>\n",
       "      <td>18.541411</td>\n",
       "      <td>14.927862</td>\n",
       "      <td>8.404200</td>\n",
       "    </tr>\n",
       "  </tbody>\n",
       "</table>\n",
       "</div>"
      ],
      "text/plain": [
       "0          dw_1        dw_2        dw_3         dw_4           dw_5  \\\n",
       "26    34.855730   15.678797   32.211937    12.414853       7.081288   \n",
       "94    69.538060   37.909134   15.603427    57.894529       9.337666   \n",
       "101    2.427404    3.593241   34.530698    57.570727     287.247342   \n",
       "222  290.869484  102.405023  119.893203  2243.262119  531704.275173   \n",
       "545   16.639845   20.144247   21.551902    22.272346       4.260483   \n",
       "\n",
       "0            dw_6             dw_7           dw_8           dw_9  \\\n",
       "26   4.487206e+00        41.639537      34.499743      23.885481   \n",
       "94   3.851588e+00         0.216471      25.804832      41.669234   \n",
       "101           inf    193612.131846      14.789327   83439.134871   \n",
       "222  3.576656e+05  11093392.557923  193543.866055  301766.157879   \n",
       "545  2.458241e+01        11.635052      30.932435      22.175190   \n",
       "\n",
       "0            dw_10         dw_11         dw_12  \n",
       "26       24.447988     20.859448     12.524931  \n",
       "94       13.493729    107.075068     11.431772  \n",
       "101     939.253790  29100.317226  16308.978198  \n",
       "222  725858.700485    140.186500    128.305188  \n",
       "545      18.541411     14.927862      8.404200  "
      ]
     },
     "execution_count": 77,
     "metadata": {},
     "output_type": "execute_result"
    }
   ],
   "source": [
    "mf_subset_results[appliance]['None'][2].head()"
   ]
  },
  {
   "cell_type": "code",
   "execution_count": 63,
   "metadata": {
    "collapsed": false
   },
   "outputs": [
    {
     "data": {
      "text/plain": [
       "52.777753183644315"
      ]
     },
     "execution_count": 63,
     "metadata": {},
     "output_type": "execute_result"
    }
   ],
   "source": [
    "appliance_df.ix[mf_subset_results[appliance][appliance_feature][latent_factors].index].median().mean()"
   ]
  },
  {
   "cell_type": "code",
   "execution_count": 49,
   "metadata": {
    "collapsed": true
   },
   "outputs": [],
   "source": [
    "# Loading MF results and finding the best\n",
    "mf_results = pickle.load(open('../data/mf_all_homes.pkl','r'))\n",
    "mf_subset_results = pickle.load(open('../data/mf_subset_homes.pkl','r'))\n",
    "best_combination = {}\n",
    "for appliance, appliance_struct in mf_results.iteritems():\n",
    "    best_appliance=1000\n",
    "    for appliance_feature, appliance_feature_struct in appliance_struct.iteritems():\n",
    "        for latent_factors, appliance_df in appliance_feature_struct.iteritems():\n",
    "            \n",
    "            pred = appliance_df.ix[mf_subset_results[appliance][appliance_feature][latent_factors].index].median().mean()\n",
    "            if pred<best_appliance:\n",
    "                best_appliance=pred\n",
    "                best_combination[appliance]=(appliance_feature, latent_factors, pred)\n",
    "                results['MF-516 homes, additional features'][appliance] = pred"
   ]
  },
  {
   "cell_type": "code",
   "execution_count": 86,
   "metadata": {
    "collapsed": false
   },
   "outputs": [],
   "source": [
    "%matplotlib inline\n",
    "results_df = pd.DataFrame(results)"
   ]
  },
  {
   "cell_type": "code",
   "execution_count": 87,
   "metadata": {
    "collapsed": false
   },
   "outputs": [
    {
     "data": {
      "text/html": [
       "<div>\n",
       "<table border=\"1\" class=\"dataframe\">\n",
       "  <thead>\n",
       "    <tr style=\"text-align: right;\">\n",
       "      <th></th>\n",
       "      <th>KNN</th>\n",
       "      <th>MF-105 homes</th>\n",
       "      <th>MF-105 homes, additional features</th>\n",
       "    </tr>\n",
       "  </thead>\n",
       "  <tbody>\n",
       "    <tr>\n",
       "      <th>dw</th>\n",
       "      <td>55.305178</td>\n",
       "      <td>52.777753</td>\n",
       "      <td>46.377723</td>\n",
       "    </tr>\n",
       "    <tr>\n",
       "      <th>fridge</th>\n",
       "      <td>30.453563</td>\n",
       "      <td>28.472129</td>\n",
       "      <td>24.913120</td>\n",
       "    </tr>\n",
       "    <tr>\n",
       "      <th>hvac</th>\n",
       "      <td>27.268441</td>\n",
       "      <td>21.467499</td>\n",
       "      <td>21.297561</td>\n",
       "    </tr>\n",
       "    <tr>\n",
       "      <th>mw</th>\n",
       "      <td>49.199756</td>\n",
       "      <td>43.359408</td>\n",
       "      <td>41.225806</td>\n",
       "    </tr>\n",
       "    <tr>\n",
       "      <th>oven</th>\n",
       "      <td>51.708601</td>\n",
       "      <td>52.208344</td>\n",
       "      <td>48.164685</td>\n",
       "    </tr>\n",
       "    <tr>\n",
       "      <th>wm</th>\n",
       "      <td>43.735111</td>\n",
       "      <td>44.052415</td>\n",
       "      <td>43.707236</td>\n",
       "    </tr>\n",
       "  </tbody>\n",
       "</table>\n",
       "</div>"
      ],
      "text/plain": [
       "              KNN  MF-105 homes  MF-105 homes, additional features\n",
       "dw      55.305178     52.777753                          46.377723\n",
       "fridge  30.453563     28.472129                          24.913120\n",
       "hvac    27.268441     21.467499                          21.297561\n",
       "mw      49.199756     43.359408                          41.225806\n",
       "oven    51.708601     52.208344                          48.164685\n",
       "wm      43.735111     44.052415                          43.707236"
      ]
     },
     "execution_count": 87,
     "metadata": {},
     "output_type": "execute_result"
    }
   ],
   "source": [
    "results_df"
   ]
  },
  {
   "cell_type": "code",
   "execution_count": 88,
   "metadata": {
    "collapsed": true
   },
   "outputs": [],
   "source": [
    "map_appliance = {'fridge':'Fridge','dw':'Dish\\nwasher','mw':'Microwave','hvac':'HVAC','oven':'Oven','wm':'Washing\\nmachine'}"
   ]
  },
  {
   "cell_type": "code",
   "execution_count": 89,
   "metadata": {
    "collapsed": false
   },
   "outputs": [],
   "source": [
    "#results_df[results_df>100]=100\n",
    "#results_df=results_df.fillna(100)\n",
    "results_df.index = [map_appliance[appliance] for appliance in results_df.index]\n",
    "#results_df.plot(kind='bar', colors=tableau20blind[::2])"
   ]
  },
  {
   "cell_type": "code",
   "execution_count": 90,
   "metadata": {
    "collapsed": false
   },
   "outputs": [],
   "source": [
    "results_df = results_df.ix[['HVAC','Fridge','Oven','Dish\\nwasher','Washing\\nmachine','Microwave']]"
   ]
  },
  {
   "cell_type": "code",
   "execution_count": 20,
   "metadata": {
    "collapsed": false
   },
   "outputs": [],
   "source": [
    "results_df = results_df[['KNN','MF']]"
   ]
  },
  {
   "cell_type": "code",
   "execution_count": 93,
   "metadata": {
    "collapsed": false
   },
   "outputs": [
    {
     "data": {
      "image/png": "[encoded data removed]",
      "text/plain": [
       "<matplotlib.figure.Figure at 0x119915650>"
      ]
     },
     "metadata": {},
     "output_type": "display_data"
    }
   ],
   "source": [
    "import matplotlib.pyplot as plt\n",
    "results_df.plot(kind='bar',rot=0, colors=tableau20blind[::2])\n",
    "lgd = plt.legend(loc='right', bbox_to_anchor=(1.8, 0.5))\n",
    "plt.ylabel(\"Energy error\\n(Lower is better)\");\n",
    "plt.title(\"Results over 105 homes having all features\")\n",
    "plt.savefig(\"../results/subset.pdf\",bbox_extra_artists=(lgd,), bbox_inches='tight')\n",
    "plt.savefig(\"../results/subset.png\",bbox_extra_artists=(lgd,), bbox_inches='tight')"
   ]
  },
  {
   "cell_type": "markdown",
   "metadata": {},
   "source": [
    "Comparing MF with and without homes containing those features"
   ]
  },
  {
   "cell_type": "code",
   "execution_count": 23,
   "metadata": {
    "collapsed": false
   },
   "outputs": [
    {
     "data": {
      "text/plain": [
       "{'dw': ('occ', 1, 47.696584280069516),\n",
       " 'fridge': ('occ_area', 2, 24.91311995551921),\n",
       " 'hvac': ('rooms', 8, 21.29756141099046),\n",
       " 'mw': ('occ', 2, 41.60195238757644),\n",
       " 'oven': ('area_rooms', 8, 48.164684764512515),\n",
       " 'wm': ('occ_rooms', 3, 43.7072363087808)}"
      ]
     },
     "execution_count": 23,
     "metadata": {},
     "output_type": "execute_result"
    }
   ],
   "source": [
    "best_combination"
   ]
  },
  {
   "cell_type": "code",
   "execution_count": 31,
   "metadata": {
    "collapsed": false
   },
   "outputs": [
    {
     "data": {
      "text/html": [
       "<div>\n",
       "<table border=\"1\" class=\"dataframe\">\n",
       "  <thead>\n",
       "    <tr style=\"text-align: right;\">\n",
       "      <th></th>\n",
       "      <th>KNN</th>\n",
       "      <th>MF</th>\n",
       "    </tr>\n",
       "  </thead>\n",
       "  <tbody>\n",
       "    <tr>\n",
       "      <th>dw</th>\n",
       "      <td>55.305178</td>\n",
       "      <td>47.696584</td>\n",
       "    </tr>\n",
       "    <tr>\n",
       "      <th>fridge</th>\n",
       "      <td>30.453563</td>\n",
       "      <td>24.913120</td>\n",
       "    </tr>\n",
       "    <tr>\n",
       "      <th>hvac</th>\n",
       "      <td>27.268441</td>\n",
       "      <td>21.297561</td>\n",
       "    </tr>\n",
       "    <tr>\n",
       "      <th>mw</th>\n",
       "      <td>49.199756</td>\n",
       "      <td>41.601952</td>\n",
       "    </tr>\n",
       "    <tr>\n",
       "      <th>oven</th>\n",
       "      <td>51.708601</td>\n",
       "      <td>48.164685</td>\n",
       "    </tr>\n",
       "    <tr>\n",
       "      <th>wm</th>\n",
       "      <td>43.735111</td>\n",
       "      <td>43.707236</td>\n",
       "    </tr>\n",
       "  </tbody>\n",
       "</table>\n",
       "</div>"
      ],
      "text/plain": [
       "              KNN         MF\n",
       "dw      55.305178  47.696584\n",
       "fridge  30.453563  24.913120\n",
       "hvac    27.268441  21.297561\n",
       "mw      49.199756  41.601952\n",
       "oven    51.708601  48.164685\n",
       "wm      43.735111  43.707236"
      ]
     },
     "execution_count": 31,
     "metadata": {},
     "output_type": "execute_result"
    }
   ],
   "source": [
    "pd.DataFrame(results)"
   ]
  },
  {
   "cell_type": "code",
   "execution_count": 100,
   "metadata": {
    "collapsed": false
   },
   "outputs": [
    {
     "name": "stdout",
     "output_type": "stream",
     "text": [
      "fridge 57.3978457853\n",
      "hvac 55.0774075892\n",
      "dw 51.1713352881\n",
      "mw 57.3493816955\n",
      "wm 53.9492074301\n",
      "oven 55.2763277251\n"
     ]
    }
   ],
   "source": [
    "for appliance in ['fridge','hvac','dw','mw','wm','oven']:\n",
    "    mf_best = mf_pred[appliance][best_combination[appliance][0]][best_combination[appliance][1]]\n",
    "    knn_best = knn_results[appliance]\n",
    "    mf_best.columns = knn_best.columns\n",
    "    common_index = np.intersect1d(mf_best.index, knn_best.index)\n",
    "    mf_best = mf_best.ix[common_index]\n",
    "    knn_best = knn_best.ix[common_index]\n",
    "    knn_best_copy = knn_best.copy()\n",
    "    mf_best_copy = mf_best.copy()\n",
    "    max_two = (mf_best_copy.where(mf_best_copy > knn_best_copy, knn_best_copy).fillna(mf_best_copy))\n",
    "    print appliance,100*((-mf_best+knn_best)/max_two).unstack().std()"
   ]
  },
  {
   "cell_type": "code",
   "execution_count": null,
   "metadata": {
    "collapsed": true
   },
   "outputs": [],
   "source": [
    "Calculating win/loss"
   ]
  },
  {
   "cell_type": "code",
   "execution_count": 97,
   "metadata": {
    "collapsed": false
   },
   "outputs": [
    {
     "name": "stdout",
     "output_type": "stream",
     "text": [
      "fridge\n",
      "hvac\n",
      "dw\n",
      "mw\n",
      "wm\n",
      "oven\n"
     ]
    }
   ],
   "source": [
    "o = {}\n",
    "for appliance in ['fridge','hvac','dw','mw','wm','oven']:\n",
    "    print appliance\n",
    "    mf_best_pred = mf_pred[appliance][best_combination[appliance][0]][best_combination[appliance][1]]\n",
    "    knn_best_pred = knn_results[appliance]\n",
    "    mf_best_pred.columns = knn_best_pred.columns\n",
    "    common_index = np.intersect1d(mf_best_pred.index, knn_best_pred.index)\n",
    "    region = \"Austin\"\n",
    "    df = out_overall[region]\n",
    "    pred_df = mf_pred[appliance][appliance_feature][latent_factors]\n",
    "    gt_df = df[pred_df.columns].ix[pred_df.index]\n",
    "    mf_best_pred = mf_best_pred.ix[common_index]\n",
    "    knn_best_pred = knn_best_pred.ix[common_index]\n",
    "    error_mf = (gt_df-mf_best_pred).abs()\n",
    "    error_knn = (gt_df-knn_best_pred).abs()\n",
    "    win = (error_knn>error_mf).sum().sum()\n",
    "    loss = (error_knn<error_mf).sum().sum()\n",
    "   \n",
    "    o[appliance]={'win':win, \"loss\":loss, \"win/loss\":win*1./loss,\"win/(win_loss)\":win*1./(win+loss)} "
   ]
  },
  {
   "cell_type": "code",
   "execution_count": 98,
   "metadata": {
    "collapsed": false
   },
   "outputs": [
    {
     "data": {
      "text/html": [
       "<div>\n",
       "<table border=\"1\" class=\"dataframe\">\n",
       "  <thead>\n",
       "    <tr style=\"text-align: right;\">\n",
       "      <th></th>\n",
       "      <th>loss</th>\n",
       "      <th>win</th>\n",
       "      <th>win/(win_loss)</th>\n",
       "      <th>win/loss</th>\n",
       "    </tr>\n",
       "  </thead>\n",
       "  <tbody>\n",
       "    <tr>\n",
       "      <th>dw</th>\n",
       "      <td>288</td>\n",
       "      <td>408</td>\n",
       "      <td>0.586207</td>\n",
       "      <td>1.416667</td>\n",
       "    </tr>\n",
       "    <tr>\n",
       "      <th>fridge</th>\n",
       "      <td>423</td>\n",
       "      <td>393</td>\n",
       "      <td>0.481618</td>\n",
       "      <td>0.929078</td>\n",
       "    </tr>\n",
       "    <tr>\n",
       "      <th>hvac</th>\n",
       "      <td>277</td>\n",
       "      <td>293</td>\n",
       "      <td>0.514035</td>\n",
       "      <td>1.057762</td>\n",
       "    </tr>\n",
       "    <tr>\n",
       "      <th>mw</th>\n",
       "      <td>249</td>\n",
       "      <td>315</td>\n",
       "      <td>0.558511</td>\n",
       "      <td>1.265060</td>\n",
       "    </tr>\n",
       "    <tr>\n",
       "      <th>oven</th>\n",
       "      <td>179</td>\n",
       "      <td>181</td>\n",
       "      <td>0.502778</td>\n",
       "      <td>1.011173</td>\n",
       "    </tr>\n",
       "    <tr>\n",
       "      <th>wm</th>\n",
       "      <td>358</td>\n",
       "      <td>338</td>\n",
       "      <td>0.485632</td>\n",
       "      <td>0.944134</td>\n",
       "    </tr>\n",
       "  </tbody>\n",
       "</table>\n",
       "</div>"
      ],
      "text/plain": [
       "        loss  win  win/(win_loss)  win/loss\n",
       "dw       288  408        0.586207  1.416667\n",
       "fridge   423  393        0.481618  0.929078\n",
       "hvac     277  293        0.514035  1.057762\n",
       "mw       249  315        0.558511  1.265060\n",
       "oven     179  181        0.502778  1.011173\n",
       "wm       358  338        0.485632  0.944134"
      ]
     },
     "execution_count": 98,
     "metadata": {},
     "output_type": "execute_result"
    }
   ],
   "source": [
    "pd.DataFrame(o).T"
   ]
  },
  {
   "cell_type": "code",
   "execution_count": 92,
   "metadata": {
    "collapsed": false
   },
   "outputs": [
    {
     "data": {
      "text/plain": [
       "(Index([u'hvac_5', u'hvac_6', u'hvac_7', u'hvac_8', u'hvac_9', u'hvac_10'], dtype='object'),\n",
       " Index([u'hvac_5', u'hvac_6', u'hvac_7', u'hvac_8', u'hvac_9', u'hvac_10'], dtype='object'))"
      ]
     },
     "execution_count": 92,
     "metadata": {},
     "output_type": "execute_result"
    }
   ],
   "source": [
    "knn_best_pred.columns, mf_best_pred.columns"
   ]
  },
  {
   "cell_type": "code",
   "execution_count": 118,
   "metadata": {
    "collapsed": false
   },
   "outputs": [
    {
     "data": {
      "text/plain": [
       "51.70860070119945"
      ]
     },
     "execution_count": 118,
     "metadata": {},
     "output_type": "execute_result"
    }
   ],
   "source": [
    "knn_best.median().mean()"
   ]
  },
  {
   "cell_type": "code",
   "execution_count": 119,
   "metadata": {
    "collapsed": false
   },
   "outputs": [
    {
     "data": {
      "text/plain": [
       "'oven'"
      ]
     },
     "execution_count": 119,
     "metadata": {},
     "output_type": "execute_result"
    }
   ],
   "source": [
    "appliance"
   ]
  },
  {
   "cell_type": "code",
   "execution_count": null,
   "metadata": {
    "collapsed": true
   },
   "outputs": [],
   "source": []
  }
 ],
 "metadata": {
  "kernelspec": {
   "display_name": "Python 2",
   "language": "python",
   "name": "python2"
  },
  "language_info": {
   "codemirror_mode": {
    "name": "ipython",
    "version": 2
   },
   "file_extension": ".py",
   "mimetype": "text/x-python",
   "name": "python",
   "nbconvert_exporter": "python",
   "pygments_lexer": "ipython2",
   "version": "2.7.11"
  }
 },
 "nbformat": 4,
 "nbformat_minor": 0
}
