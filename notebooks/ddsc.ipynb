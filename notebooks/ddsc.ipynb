{
 "cells": [
  {
   "cell_type": "code",
   "execution_count": 1,
   "metadata": {
    "collapsed": true
   },
   "outputs": [],
   "source": [
    "\n",
    "import warnings\n",
    "import os\n",
    "warnings.filterwarnings('ignore')"
   ]
  },
  {
   "cell_type": "code",
   "execution_count": 2,
   "metadata": {
    "collapsed": true
   },
   "outputs": [],
   "source": [
    "import pandas as pd\n",
    "st = pd.HDFStore(os.path.expanduser(\"/Users/nipunbatra/wiki-15min.h5\"))\n"
   ]
  },
  {
   "cell_type": "code",
   "execution_count": 3,
   "metadata": {
    "collapsed": false
   },
   "outputs": [],
   "source": [
    "import  os\n",
    "\n",
    "import numpy as np\n",
    "import pandas as pd\n",
    "import pickle\n",
    "import sys\n",
    "from subprocess import Popen\n",
    "sys.path.append(\"../../code\")\n",
    "from features import feature_map\n",
    "import subprocess\n",
    "\n",
    "def _save_results(appliance, lat, feature_comb, test_home, pred_df):\n",
    "    pred_df.to_csv(os.path.expanduser(\"~/collab_subset/%s_%d_%s_%d.csv\" %(appliance, lat, '_'.join(feature_comb), test_home)))\n",
    "\n",
    "out_overall = pickle.load(open('../../data/input/all_regions.pkl', 'r'))\n",
    "\n",
    "region = \"Austin\"\n",
    "\n",
    "df = out_overall[region]\n",
    "\n",
    "df_copy = df.copy()\n",
    "#drop_rows_having_no_data\n",
    "o = {}\n",
    "for h in df.index:\n",
    "    o[h]=len(df.ix[h][feature_map['Monthly+Static']].dropna())\n",
    "num_features_ser = pd.Series(o)\n",
    "drop_rows = num_features_ser[num_features_ser==0].index\n",
    "\n",
    "df = df.drop(drop_rows)\n",
    "dfc = df.copy()\n",
    "\n",
    "\n",
    "df = df.rename(columns={'house_num_rooms':'num_rooms',\n",
    "                        'num_occupants':'total_occupants',\n",
    "                        'difference_ratio_min_max':'ratio_difference_min_max'})\n",
    "\n"
   ]
  },
  {
   "cell_type": "code",
   "execution_count": 4,
   "metadata": {
    "collapsed": true
   },
   "outputs": [],
   "source": [
    "df = df[(df.full_agg_available==1)&(df.md_available==1)]\n"
   ]
  },
  {
   "cell_type": "code",
   "execution_count": 5,
   "metadata": {
    "collapsed": false
   },
   "outputs": [],
   "source": [
    "appliance_cols = []\n",
    "for appliance in ['wm','mw','oven','fridge','hvac','dw']:\n",
    "    if appliance==\"hvac\":\n",
    "        start, stop = 5,11\n",
    "    else:\n",
    "        start, stop = 1,13\n",
    "    appliance_cols.append([appliance+\"_\"+str(m) for m in range(start, stop)])"
   ]
  },
  {
   "cell_type": "code",
   "execution_count": 6,
   "metadata": {
    "collapsed": false
   },
   "outputs": [],
   "source": [
    "all_cols = reduce(lambda x, y: x+y, appliance_cols)\n"
   ]
  },
  {
   "cell_type": "code",
   "execution_count": 7,
   "metadata": {
    "collapsed": false
   },
   "outputs": [],
   "source": [
    "all_homes = df[all_cols].dropna().index"
   ]
  },
  {
   "cell_type": "code",
   "execution_count": 146,
   "metadata": {
    "collapsed": false
   },
   "outputs": [
    {
     "name": "stdout",
     "output_type": "stream",
     "text": [
      "fridge\n",
      "hvac\n",
      "wm\n",
      "mw\n",
      "oven\n",
      "dw\n",
      "aggregate\n"
     ]
    }
   ],
   "source": [
    "out_df = {}\n",
    "mat_appliance={}\n",
    "for appliance_name in ['fridge','hvac','wm','mw','oven','dw','aggregate']:\n",
    "    print appliance_name\n",
    "    out_df[appliance_name] = []\n",
    "    for home in all_homes[:]:\n",
    "        df_st = st['/%d' %home]['2014']\n",
    "        cols = df_st.columns\n",
    "        try:\n",
    "            if appliance_name==\"fridge\":\n",
    "                df = df_st['refrigerator1']['2014-5-1':'2014-10-31'].resample(\"15T\").astype('float64').head(96*200)\n",
    "            elif appliance_name==\"hvac\":\n",
    "                df = df_st['air1']['2014-5-1':'2014-10-31'].resample(\"15T\").astype('float64').head(96*200)\n",
    "                if 'air2' in cols:\n",
    "                    df+= df_st['air2']['2014-5-1':'2014-10-31'].resample(\"15T\").astype('float64').head(96*200)\n",
    "            elif appliance_name==\"wm\":\n",
    "                df = df_st['clotheswasher1']['2014-5-1':'2014-10-31'].resample(\"15T\").astype('float64').head(96*200).astype('float64')\n",
    "            elif appliance_name==\"dw\":\n",
    "                df = df_st['dishwasher1']['2014-5-1':'2014-10-31'].resample(\"15T\").astype('float64').head(96*200).astype('float64')\n",
    "            elif appliance_name==\"mw\":\n",
    "                df = df_st['microwave1']['2014-5-1':'2014-10-31'].resample(\"15T\").astype('float64').head(96*200).astype('float64')\n",
    "            elif appliance_name==\"oven\":\n",
    "                df = df_st['oven1']['2014-5-1':'2014-10-31'].resample(\"15T\").astype('float64').head(96*200).astype('float64')\n",
    "            elif appliance_name==\"aggregate\":\n",
    "                df = df_st['use']['2014-5-1':'2014-10-31'].resample(\"15T\").astype('float64').head(96*200).astype('float64')\n",
    "\n",
    "            \n",
    "            df = df.groupby(level=0).last()\n",
    "            df = pd.DataFrame(df)\n",
    "            df.columns=['power']\n",
    "            df[\"day\"] = df.index.dayofyear\n",
    "            df[\"minute\"] = df.index.hour*60 + df.index.minute\n",
    "            df = df.pivot(index=\"day\", values=\"power\",columns=\"minute\")\n",
    "            out_df[appliance_name].append(df)\n",
    "        except Exception, e:\n",
    "            print e\n",
    "    mat_appliance[appliance_name] = pd.concat(out_df[appliance_name]).dropna().T.values"
   ]
  },
  {
   "cell_type": "code",
   "execution_count": 8,
   "metadata": {
    "collapsed": false
   },
   "outputs": [],
   "source": [
    "import scipy.io as sio\n"
   ]
  },
  {
   "cell_type": "code",
   "execution_count": 148,
   "metadata": {
    "collapsed": false
   },
   "outputs": [],
   "source": [
    "sio.savemat(\"/Users/nipunbatra/Desktop/train.mat\",mat_appliance)"
   ]
  },
  {
   "cell_type": "code",
   "execution_count": 149,
   "metadata": {
    "collapsed": false
   },
   "outputs": [
    {
     "name": "stdout",
     "output_type": "stream",
     "text": [
      "-rw-r--r--  1 nipunbatra  staff    15M Sep 13 15:52 /Users/nipunbatra/Desktop/train.mat\r\n"
     ]
    }
   ],
   "source": [
    "!ls -lah /Users/nipunbatra/Desktop/train.mat"
   ]
  },
  {
   "cell_type": "markdown",
   "metadata": {},
   "source": [
    "# Creating testing data"
   ]
  },
  {
   "cell_type": "code",
   "execution_count": 9,
   "metadata": {
    "collapsed": false
   },
   "outputs": [],
   "source": [
    "all_homes = df.index"
   ]
  },
  {
   "cell_type": "code",
   "execution_count": 10,
   "metadata": {
    "collapsed": false
   },
   "outputs": [
    {
     "data": {
      "text/plain": [
       "Int64Index([  26,   59,   94,  101,  222,  252,  364,  545,  624,  661,\n",
       "            ...\n",
       "            9484, 9609, 9647, 9729, 9912, 9922, 9932, 9933, 9971, 9982],\n",
       "           dtype='int64', length=105)"
      ]
     },
     "execution_count": 10,
     "metadata": {},
     "output_type": "execute_result"
    }
   ],
   "source": [
    "all_homes"
   ]
  },
  {
   "cell_type": "code",
   "execution_count": 174,
   "metadata": {
    "collapsed": false
   },
   "outputs": [
    {
     "name": "stdout",
     "output_type": "stream",
     "text": [
      "26\n",
      "59\n",
      "94\n",
      "101\n",
      "222\n",
      "252\n",
      "364\n",
      "545\n",
      "624\n",
      "661\n",
      "871\n",
      "946\n",
      "1169\n",
      "1283\n",
      "1310\n",
      "1334\n",
      "1415\n",
      "1463\n",
      "1500\n",
      "1642\n",
      "1697\n",
      "1700\n",
      "1790\n",
      "1800\n",
      "1953\n",
      "2129\n",
      "2156\n",
      "2233\n",
      "2242\n",
      "2365\n",
      "2378\n",
      "2470\n",
      "2557\n",
      "2814\n",
      "2859\n",
      "2925\n",
      "2953\n",
      "2986\n",
      "3009\n",
      "3036\n",
      "3367\n",
      "3456\n",
      "3482\n",
      "3577\n",
      "3649\n",
      "3723\n",
      "3778\n",
      "3829\n",
      "3893\n",
      "3967\n",
      "4031\n",
      "4213\n",
      "4297\n",
      "4298\n",
      "4342\n",
      "4505\n",
      "4767\n",
      "4874\n",
      "4946\n",
      "4957\n",
      "4998\n",
      "5026\n",
      "5218\n",
      "5357\n",
      "5371\n",
      "5439\n",
      "5673\n",
      "5677\n",
      "5785\n",
      "5814\n",
      "5817\n",
      "6121\n",
      "6139\n",
      "6266\n",
      "6498\n",
      "6692\n",
      "6836\n",
      "6910\n",
      "7016\n",
      "7390\n",
      "7429\n",
      "7510\n",
      "7641\n",
      "7731\n",
      "7741\n",
      "7769\n",
      "7793\n",
      "7800\n",
      "7866\n",
      "8236\n",
      "8243\n",
      "8317\n",
      "8626\n",
      "9052\n",
      "9134\n",
      "9484\n",
      "9609\n",
      "9647\n",
      "9729\n",
      "9912\n",
      "9922\n",
      "9932\n",
      "9933\n",
      "9971\n",
      "9982\n"
     ]
    }
   ],
   "source": [
    "out_df = {}\n",
    "mat_appliance={}\n",
    "for home in all_homes[:]:\n",
    "    print home\n",
    "    df_st = st['/%d' %home]['2015']\n",
    "        \n",
    "    df = df_st['use'].resample(\"15T\").astype('float64').astype('float64')\n",
    "\n",
    "\n",
    "    df = df.groupby(level=0).last()\n",
    "    df = pd.DataFrame(df)\n",
    "    df.columns=['power']\n",
    "    df[\"day\"] = df.index.dayofyear\n",
    "    df[\"minute\"] = df.index.hour*60 + df.index.minute\n",
    "    df = df.drop_duplicates()\n",
    "    df = df.pivot(index=\"day\", values=\"power\",columns=\"minute\")\n",
    "    mat_appliance[\"home_\"+str(home)] = df.T.values\n",
    "       "
   ]
  },
  {
   "cell_type": "code",
   "execution_count": 177,
   "metadata": {
    "collapsed": false
   },
   "outputs": [],
   "source": [
    "sio.savemat(\"/Users/nipunbatra/Desktop/test.mat\",mat_appliance)"
   ]
  },
  {
   "cell_type": "code",
   "execution_count": 178,
   "metadata": {
    "collapsed": false
   },
   "outputs": [
    {
     "name": "stdout",
     "output_type": "stream",
     "text": [
      "-rw-r--r--  1 nipunbatra  staff    28M Sep 13 16:19 /Users/nipunbatra/Desktop/test.mat\r\n"
     ]
    }
   ],
   "source": [
    "!ls -lah /Users/nipunbatra/Desktop/test.mat"
   ]
  },
  {
   "cell_type": "markdown",
   "metadata": {},
   "source": [
    "Now the results from DDSC"
   ]
  },
  {
   "cell_type": "code",
   "execution_count": 179,
   "metadata": {
    "collapsed": true
   },
   "outputs": [],
   "source": [
    "ddsc_mat = sio.loadmat(\"/Users/nipunbatra/Downloads/result.mat\")"
   ]
  },
  {
   "cell_type": "code",
   "execution_count": 193,
   "metadata": {
    "collapsed": true
   },
   "outputs": [],
   "source": [
    "appliance_order = ['dw','fridge','hvac','mw','oven','wm']\n",
    "starts = range(0, 2190, 365)\n",
    "ends = range(364, 2190, 365)"
   ]
  },
  {
   "cell_type": "code",
   "execution_count": 194,
   "metadata": {
    "collapsed": false
   },
   "outputs": [
    {
     "data": {
      "text/plain": [
       "([0, 365, 730, 1095, 1460, 1825], [364, 729, 1094, 1459, 1824, 2189])"
      ]
     },
     "execution_count": 194,
     "metadata": {},
     "output_type": "execute_result"
    }
   ],
   "source": [
    "starts, ends"
   ]
  },
  {
   "cell_type": "code",
   "execution_count": 182,
   "metadata": {
    "collapsed": false
   },
   "outputs": [
    {
     "data": {
      "text/plain": [
       "Int64Index([  26,   59,   94,  101,  222,  252,  364,  545,  624,  661,\n",
       "            ...\n",
       "            9484, 9609, 9647, 9729, 9912, 9922, 9932, 9933, 9971, 9982],\n",
       "           dtype='int64', length=105)"
      ]
     },
     "execution_count": 182,
     "metadata": {},
     "output_type": "execute_result"
    }
   ],
   "source": [
    "all_homes"
   ]
  },
  {
   "cell_type": "code",
   "execution_count": 234,
   "metadata": {
    "collapsed": false
   },
   "outputs": [
    {
     "name": "stdout",
     "output_type": "stream",
     "text": [
      "'[2070 2071 2072 2073 2074 2075 2076 2077 2078 2079 2080 2081 2082 2083 2084\\n 2085 2086 2087 2088 2089 2090 2091 2092 2093 2094 2095 2096 2097 2098 2099\\n 2100 2101 2102 2103 2104 2105 2106 2107 2108 2109 2110 2111 2112 2113 2114\\n 2115 2116 2117 2118 2119 2120 2121 2122 2123 2124 2125 2126 2127 2128 2129\\n 2130 2131 2132 2133 2134 2135 2136 2137 2138 2139 2140 2141 2142 2143 2144\\n 2145 2146 2147 2148 2149 2150 2151 2152 2153 2154 2155 2156 2157 2158 2159\\n 2160 2161 2162 2163 2164 2165 2166 2167 2168 2169 2170 2171 2172 2173 2174\\n 2175 2176 2177 2178 2179 2180 2181 2182 2183 2184 2185 2186 2187 2188] not in index'\n",
      "'[2082 2083 2084 2085 2086 2087 2088 2089 2090 2091 2092 2093 2094 2095 2096\\n 2097 2098 2099 2100 2101 2102 2103 2104 2105 2106 2107 2108 2109 2110 2111\\n 2112 2113 2114 2115 2116 2117 2118 2119 2120 2121 2122 2123 2124 2125 2126\\n 2127 2128 2129 2130 2131 2132 2133 2134 2135 2136 2137 2138 2139 2140 2141\\n 2142 2143 2144 2145 2146 2147 2148 2149 2150 2151 2152 2153 2154 2155 2156\\n 2157 2158 2159 2160 2161 2162 2163 2164 2165 2166 2167 2168 2169 2170 2171\\n 2172 2173 2174 2175 2176 2177 2178 2179 2180 2181 2182 2183 2184 2185 2186\\n 2187 2188] not in index'\n"
     ]
    }
   ],
   "source": [
    "out = {}\n",
    "for i, appliance in enumerate(appliance_order):\n",
    "    \n",
    "    out[appliance] ={}\n",
    "    for home in all_homes[:]:\n",
    "        try:\n",
    "            df = pd.DataFrame(ddsc_mat['pri%d' %home])\n",
    "\n",
    "\n",
    "            temp= df[range(starts[i], ends[i])].unstack()\n",
    "            temp.index = pd.DatetimeIndex(freq='15T', start='2015-1-1', periods=len(temp))\n",
    "            out[appliance][home] = temp.resample(\"1M\",how=\"sum\").mul(0.000017).mul(15).T.values\n",
    "        except Exception, e:\n",
    "            print e\n"
   ]
  },
  {
   "cell_type": "code",
   "execution_count": 245,
   "metadata": {
    "collapsed": false
   },
   "outputs": [],
   "source": [
    "output_ddsc = {}\n",
    "for appliance in appliance_order:\n",
    "    if appliance==\"hvac\":\n",
    "        s, e = 4, 10\n",
    "    else:\n",
    "        s, e = 0, 12\n",
    "    output_ddsc[appliance] = pd.DataFrame(out[appliance]).T[range(s, e)]"
   ]
  },
  {
   "cell_type": "code",
   "execution_count": 247,
   "metadata": {
    "collapsed": false
   },
   "outputs": [],
   "source": [
    "pickle.dump(output_ddsc, open('../data/ddsc.pkl','w'))"
   ]
  },
  {
   "cell_type": "code",
   "execution_count": 12,
   "metadata": {
    "collapsed": false
   },
   "outputs": [
    {
     "name": "stdout",
     "output_type": "stream",
     "text": [
      "22 0\n",
      "68 1\n",
      "77 2\n",
      "86 3\n",
      "93 4\n",
      "114 5\n",
      "115 6\n",
      "121 7\n",
      "130 8\n",
      "135 9\n",
      "160 10\n",
      "171 11\n",
      "187 12\n",
      "243 13\n",
      "267 14\n",
      "297 15\n",
      "347 16\n",
      "370 17\n",
      "379 18\n",
      "410 19\n",
      "434 20\n",
      "436 21\n",
      "457 22\n",
      "470 23\n",
      "483 24\n",
      "484 25\n",
      "491 26\n",
      "499 27\n",
      "503 28\n",
      "507 29\n",
      "508 30\n",
      "573 31\n",
      "575 32\n",
      "580 33\n",
      "585 34\n",
      "645 35\n",
      "668 36\n",
      "739 37\n",
      "744 38\n",
      "772 39\n",
      "781 40\n",
      "861 41\n",
      "878 42\n",
      "890 43\n",
      "898 44\n",
      "936 45\n",
      "954 46\n",
      "974 47\n",
      "980 48\n",
      "994 49\n",
      "1037 50\n",
      "1069 51\n",
      "1086 52\n",
      "1103 53\n",
      "1105 54\n",
      "1153 55\n",
      "1185 56\n",
      "1192 57\n",
      "1202 58\n",
      "1314 59\n",
      "1331 60\n",
      "1403 61\n",
      "1479 62\n",
      "1507 63\n",
      "1508 64\n",
      "1551 65\n",
      "1577 66\n",
      "1586 67\n",
      "1589 68\n",
      "1597 69\n",
      "1617 70\n",
      "1632 71\n",
      "1681 72\n",
      "1714 73\n",
      "1718 74\n",
      "1791 75\n",
      "1792 76\n",
      "1796 77\n",
      "1801 78\n",
      "1832 79\n",
      "1854 80\n",
      "1889 81\n",
      "1947 82\n",
      "1994 83\n",
      "2004 84\n",
      "2018 85\n",
      "2034 86\n",
      "2072 87\n",
      "2075 88\n",
      "2094 89\n",
      "2158 90\n",
      "2171 91\n",
      "2199 92\n",
      "2207 93\n",
      "2335 94\n",
      "2337 95\n",
      "2361 96\n",
      "2366 97\n",
      "2401 98\n",
      "2449 99\n",
      "2458 100\n",
      "2461 101\n",
      "2465 102\n",
      "2472 103\n",
      "2510 104\n",
      "2520 105\n",
      "2532 106\n",
      "2575 107\n",
      "2638 108\n",
      "2641 109\n",
      "2667 110\n",
      "2742 111\n",
      "2751 112\n",
      "2755 113\n",
      "2769 114\n",
      "2787 115\n",
      "2818 116\n",
      "2829 117\n",
      "2845 118\n",
      "2864 119\n",
      "2907 120\n",
      "2945 121\n",
      "2965 122\n",
      "2974 123\n",
      "2980 124\n",
      "2992 125\n",
      "3039 126\n",
      "3044 127\n",
      "3126 128\n",
      "3134 129\n",
      "3192 130\n",
      "3224 131\n",
      "3268 132\n",
      "3273 133\n",
      "3299 134\n",
      "3310 135\n",
      "3392 136\n",
      "3401 137\n",
      "3411 138\n",
      "3413 139\n",
      "3425 140\n",
      "3443 141\n",
      "3500 142\n",
      "3506 143\n",
      "3510 144\n",
      "3519 145\n",
      "3527 146\n",
      "3531 147\n",
      "3538 148\n",
      "3544 149\n",
      "3631 150\n",
      "3635 151\n",
      "3652 152\n",
      "3676 153\n",
      "3678 154\n",
      "3719 155\n",
      "3721 156\n",
      "3736 157\n",
      "3831 158\n",
      "3849 159\n",
      "3873 160\n",
      "3886 161\n",
      "3916 162\n",
      "3918 163\n",
      "3935 164\n",
      "4000 165\n",
      "4022 166\n",
      "4042 167\n",
      "4053 168\n",
      "4135 169\n",
      "4154 170\n",
      "4193 171\n",
      "4220 172\n",
      "4224 173\n",
      "4296 174\n",
      "4302 175\n",
      "4336 176\n",
      "4352 177\n",
      "4357 178\n",
      "4373 179\n",
      "4375 180\n",
      "4416 181\n",
      "4438 182\n",
      "4447 183\n",
      "4473 184\n",
      "4514 185\n",
      "4526 186\n",
      "4575 187\n",
      "4590 188\n",
      "4633 189\n",
      "4641 190\n",
      "4660 191\n",
      "4674 192\n",
      "4732 193\n",
      "4776 194\n",
      "4800 195\n",
      "4856 196\n",
      "4864 197\n",
      "4910 198\n",
      "4922 199\n",
      "5035 200\n",
      "5060 201\n",
      "5087 202\n",
      "5109 203\n",
      "5129 204\n",
      "5209 205\n",
      "5246 206\n",
      "5252 207\n",
      "5275 208\n",
      "5279 209\n",
      "5317 210\n",
      "5356 211\n",
      "5395 212\n",
      "5403 213\n",
      "5450 214\n",
      "5456 215\n",
      "5539 216\n",
      "5545 217\n",
      "5552 218\n",
      "5568 219\n",
      "5615 220\n",
      "5658 221\n",
      "5718 222\n",
      "5738 223\n",
      "5746 224\n",
      "5749 225\n",
      "5778 226\n",
      "5784 227\n",
      "5786 228\n",
      "5796 229\n",
      "5809 230\n",
      "5810 231\n",
      "5874 232\n",
      "5889 233\n",
      "5892 234\n",
      "5921 235\n",
      "5944 236\n",
      "5949 237\n",
      "5959 238\n",
      "5972 239\n",
      "6012 240\n",
      "6061 241\n",
      "6063 242\n",
      "6072 243\n",
      "6078 244\n",
      "6101 245\n",
      "6108 246\n",
      "6125 247\n",
      "6165 248\n",
      "6248 249\n",
      "6286 250\n",
      "6324 251\n",
      "6334 252\n",
      "6348 253\n",
      "6412 254\n",
      "6418 255\n",
      "6423 256\n",
      "6460 257\n",
      "6500 258\n",
      "6536 259\n",
      "6578 260\n",
      "6614 261\n",
      "6636 262\n",
      "6643 263\n",
      "6673 264\n",
      "6688 265\n",
      "6691 266\n",
      "6730 267\n",
      "6799 268\n",
      "6871 269\n",
      "6911 270\n",
      "6941 271\n",
      "6990 272\n",
      "7017 273\n",
      "7024 274\n",
      "7030 275\n",
      "7036 276\n",
      "7057 277\n",
      "7108 278\n",
      "7117 279\n",
      "7122 280\n",
      "7276 281\n",
      "7287 282\n",
      "7319 283\n",
      "7361 284\n",
      "7436 285\n",
      "7468 286\n",
      "7491 287\n",
      "7504 288\n",
      "7512 289\n",
      "7527 290\n",
      "7531 291\n",
      "7536 292\n",
      "7549 293\n",
      "7560 294\n",
      "7585 295\n",
      "7597 296\n",
      "7627 297\n",
      "7638 298\n",
      "7680 299\n",
      "7693 300\n",
      "7703 301\n",
      "7719 302\n",
      "7739 303\n",
      "7764 304\n",
      "7767 305\n",
      "7787 306\n",
      "7788 307\n",
      "7850 308\n",
      "7863 309\n",
      "7875 310\n",
      "7893 311\n",
      "7900 312\n",
      "7901 313\n",
      "7940 314\n",
      "7951 315\n",
      "7965 316\n",
      "7973 317\n",
      "7982 318\n",
      "7984 319\n",
      "7989 320\n",
      "8029 321\n",
      "8031 322\n",
      "8034 323\n",
      "8046 324\n",
      "8059 325\n",
      "8071 326\n",
      "8079 327\n",
      "8084 328\n",
      "8086 329\n",
      "8092 330\n",
      "8122 331\n",
      "8142 332\n",
      "8155 333\n",
      "8156 334\n",
      "8163 335\n",
      "8183 336\n",
      "8188 337\n",
      "8197 338\n",
      "8282 339\n",
      "8292 340\n",
      "8386 341\n",
      "8419 342\n",
      "8467 343\n",
      "8565 344\n",
      "8589 345\n",
      "8600 346\n",
      "8645 347\n",
      "8669 348\n",
      "8741 349\n",
      "8767 350\n",
      "8807 351\n",
      "8829 352\n",
      "8848 353\n",
      "8857 354\n",
      "8890 355\n",
      "8942 356\n",
      "8956 357\n",
      "8967 358\n",
      "8995 359\n",
      "9001 360\n",
      "9019 361\n",
      "9121 362\n",
      "9141 363\n",
      "9160 364\n",
      "9182 365\n",
      "9195 366\n",
      "9201 367\n",
      "9215 368\n",
      "9233 369\n",
      "9235 370\n",
      "9248 371\n",
      "9251 372\n",
      "9278 373\n",
      "9295 374\n",
      "9333 375\n",
      "9340 376\n",
      "9343 377\n",
      "9356 378\n",
      "9434 379\n",
      "9498 380\n",
      "9499 381\n",
      "9578 382\n",
      "9613 383\n",
      "9624 384\n",
      "9631 385\n",
      "9643 386\n",
      "9654 387\n",
      "9670 388\n",
      "9674 389\n",
      "9701 390\n",
      "9737 391\n",
      "9745 392\n",
      "9766 393\n",
      "9771 394\n",
      "9773 395\n",
      "9803 396\n",
      "9875 397\n",
      "9915 398\n",
      "9919 399\n",
      "9921 400\n",
      "9926 401\n",
      "9929 402\n",
      "9931 403\n",
      "9934 404\n",
      "9935 405\n",
      "9937 406\n",
      "9938 407\n",
      "9939 408\n",
      "9942 409\n",
      "9981 410\n"
     ]
    }
   ],
   "source": [
    "out_df = {}\n",
    "mat_appliance={}\n",
    "non_all_feature_homes = [x for x in dfc.index if x not in all_homes]\n",
    "for ind, home in enumerate(non_all_feature_homes[:]):\n",
    "    try:\n",
    "        print home, ind\n",
    "        df_st = st['/%d' %home]['2015']\n",
    "\n",
    "        df = df_st['use'].resample(\"15T\").astype('float64').astype('float64')\n",
    "\n",
    "\n",
    "        df = df.groupby(level=0).last()\n",
    "        df = pd.DataFrame(df)\n",
    "        df.columns=['power']\n",
    "        df[\"day\"] = df.index.dayofyear\n",
    "        df[\"minute\"] = df.index.hour*60 + df.index.minute\n",
    "        df = df.drop_duplicates()\n",
    "        df = df.pivot(index=\"day\", values=\"power\",columns=\"minute\")\n",
    "        mat_appliance[\"home_\"+str(home)] = df.T.values\n",
    "    except:\n",
    "        pass\n",
    "       "
   ]
  },
  {
   "cell_type": "code",
   "execution_count": 15,
   "metadata": {
    "collapsed": false
   },
   "outputs": [],
   "source": [
    "sio.savemat(\"/Users/nipunbatra/Desktop/test_larger.mat\",mat_appliance)"
   ]
  },
  {
   "cell_type": "code",
   "execution_count": 18,
   "metadata": {
    "collapsed": false
   },
   "outputs": [
    {
     "name": "stdout",
     "output_type": "stream",
     "text": [
      "-rw-r--r--@ 1 nipunbatra  staff    28M Sep 13 16:19 /Users/nipunbatra/Dropbox/Public/test.mat\r\n"
     ]
    }
   ],
   "source": [
    "!ls -lah /Users/nipunbatra/Dropbox/Public/test.mat"
   ]
  },
  {
   "cell_type": "code",
   "execution_count": null,
   "metadata": {
    "collapsed": true
   },
   "outputs": [],
   "source": []
  }
 ],
 "metadata": {
  "kernelspec": {
   "display_name": "Python 2",
   "language": "python",
   "name": "python2"
  },
  "language_info": {
   "codemirror_mode": {
    "name": "ipython",
    "version": 2
   },
   "file_extension": ".py",
   "mimetype": "text/x-python",
   "name": "python",
   "nbconvert_exporter": "python",
   "pygments_lexer": "ipython2",
   "version": "2.7.11"
  }
 },
 "nbformat": 4,
 "nbformat_minor": 0
}
