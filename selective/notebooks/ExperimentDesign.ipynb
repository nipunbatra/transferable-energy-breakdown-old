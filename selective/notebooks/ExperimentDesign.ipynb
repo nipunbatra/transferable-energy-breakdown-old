{
 "cells": [
  {
   "cell_type": "code",
   "execution_count": 1,
   "metadata": {
    "collapsed": true
   },
   "outputs": [],
   "source": [
    "from sklearn.model_selection import train_test_split, KFold\n",
    "import sys\n",
    "from tensor_custom_core import *\n",
    "sys.path.insert(0, '../../aaai18/code/')\n",
    "from common import *\n",
    "from create_matrix import *\n",
    "import random"
   ]
  },
  {
   "cell_type": "code",
   "execution_count": 2,
   "metadata": {
    "collapsed": true
   },
   "outputs": [],
   "source": [
    "# initialization\n",
    "appliance_index = {appliance: APPLIANCES_ORDER.index(appliance) for appliance in APPLIANCES_ORDER}\n",
    "APPLIANCES = ['fridge', 'hvac', 'wm', 'mw', 'oven', 'dw']\n",
    "region = \"Austin\"\n",
    "year = 2014\n",
    "case = 2\n",
    "num_home = 3\n",
    "num_season = 3\n",
    "source = 'Austin'\n",
    "target = 'SanDiego'\n",
    "constant_use = 'True'\n",
    "start = 1\n",
    "stop = 13\n",
    "train_percentage = 50\n",
    "validation_percentage = 10\n",
    "test_percentage = 40\n"
   ]
  },
  {
   "cell_type": "code",
   "execution_count": 3,
   "metadata": {},
   "outputs": [
    {
     "name": "stderr",
     "output_type": "stream",
     "text": [
      "/home/yj9xs/anaconda2/lib/python2.7/site-packages/sklearn/model_selection/_split.py:2010: FutureWarning: From version 0.21, test_size will always complement train_size unless both are specified.\n",
      "  FutureWarning)\n"
     ]
    }
   ],
   "source": [
    "source_df, source_dfc, source_tensor, source_static = create_region_df_dfc_static(source, year, start, stop)\n",
    "target_df, target_dfc, target_tensor, target_static = create_region_df_dfc_static(target, year, start, stop)\n",
    "\n",
    "num_samples = len(source_df)\n",
    "index_list = np.arange(num_samples)\n",
    "train_loc, validate_test_loc = train_test_split(index_list, train_size=train_percentage/100.0, random_state=0)\n",
    "validate_loc, test_loc = train_test_split(validate_test_loc, train_size=2*validation_percentage/100.0, random_state=0)\n",
    "\n",
    "train_df = source_df.loc[train_loc]\n",
    "validate_df = source_df.loc[validate_loc]\n",
    "test_df = source_df.loc[test_loc]"
   ]
  },
  {
   "cell_type": "code",
   "execution_count": 4,
   "metadata": {},
   "outputs": [],
   "source": [
    "validate_test_df = source_df.loc[np.r_[validate_loc, test_loc]]\n",
    "validate_test_agg_tensor = get_tensor_appliance(validate_test_df, 'aggregate')"
   ]
  }
 ],
 "metadata": {
  "kernelspec": {
   "display_name": "Python 2",
   "language": "python",
   "name": "python2"
  },
  "language_info": {
   "codemirror_mode": {
    "name": "ipython",
    "version": 2
   },
   "file_extension": ".py",
   "mimetype": "text/x-python",
   "name": "python",
   "nbconvert_exporter": "python",
   "pygments_lexer": "ipython2",
   "version": "2.7.13"
  }
 },
 "nbformat": 4,
 "nbformat_minor": 2
}
