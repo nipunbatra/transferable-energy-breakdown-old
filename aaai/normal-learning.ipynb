{
 "cells": [
  {
   "cell_type": "code",
   "execution_count": 1,
   "metadata": {
    "collapsed": true
   },
   "outputs": [],
   "source": [
    "import matplotlib.pyplot as plt\n",
    "%matplotlib inline\n",
    "from sklearn.model_selection import KFold"
   ]
  },
  {
   "cell_type": "code",
   "execution_count": 2,
   "metadata": {
    "collapsed": true
   },
   "outputs": [],
   "source": [
    "from create_matrix import *\n",
    "\n",
    "from tensor_custom_core import *\n",
    "from create_matrix import *\n",
    "from tensor_custom_core import *\n",
    "from degree_days import dds\n",
    "appliance_index = {appliance: APPLIANCES_ORDER.index(appliance) for appliance in APPLIANCES_ORDER}\n",
    "\n",
    "APPLIANCES = ['fridge', 'hvac', 'wm', 'mw', 'oven', 'dw']\n",
    "region = \"SanDiego\"\n",
    "year = 2014\n",
    "\n",
    "import os\n",
    "\n",
    "\n",
    "def un_normalize(x, maximum, minimum):\n",
    "    return (maximum - minimum) * x + minimum"
   ]
  },
  {
   "cell_type": "code",
   "execution_count": 3,
   "metadata": {
    "collapsed": true
   },
   "outputs": [],
   "source": [
    "n_splits = 2\n",
    "import sys\n",
    "case=2\n",
    "a=2\n",
    "cost='abs'"
   ]
  },
  {
   "cell_type": "code",
   "execution_count": 4,
   "metadata": {
    "collapsed": true
   },
   "outputs": [],
   "source": [
    "def get_tensor(df, dfc):\n",
    "    start, stop = 1, 13\n",
    "    energy_cols = np.array(\n",
    "        [['%s_%d' % (appliance, month) for month in range(start, stop)] for appliance in APPLIANCES_ORDER]).flatten()\n",
    "\n",
    "    static_cols = ['area', 'total_occupants', 'num_rooms']\n",
    "    static_df = df[static_cols]\n",
    "    static_df = static_df.div(static_df.max())\n",
    "    weather_values = np.array(dds[2014][region][start - 1:stop - 1]).reshape(-1, 1)\n",
    "\n",
    "    dfc = df.copy()\n",
    "\n",
    "    df = dfc[energy_cols]\n",
    "    col_max = df.max().max()\n",
    "    col_min = df.min().min()\n",
    "    # df = (1.0 * (df - col_min)) / (col_max - col_min)\n",
    "    tensor = df.values.reshape((len(df), 7, stop - start))\n",
    "    M, N, O = tensor.shape\n",
    "    return tensor"
   ]
  },
  {
   "cell_type": "code",
   "execution_count": 5,
   "metadata": {
    "collapsed": true
   },
   "outputs": [],
   "source": [
    "df, dfc = create_matrix_single_region(\"SanDiego\", year)\n",
    "tensor = get_tensor(df, dfc)"
   ]
  },
  {
   "cell_type": "code",
   "execution_count": 25,
   "metadata": {},
   "outputs": [
    {
     "name": "stdout",
     "output_type": "stream",
     "text": [
      "2\n",
      "3\n",
      "4\n",
      "5\n",
      "6\n",
      "7\n",
      "8\n",
      "9\n",
      "10\n",
      "11\n",
      "12\n",
      "13\n",
      "14\n",
      "15\n",
      "16\n",
      "17\n",
      "18\n",
      "19\n",
      "20\n",
      "21\n",
      "22\n",
      "23\n",
      "24\n",
      "25\n",
      "26\n",
      "27\n",
      "28\n",
      "29\n",
      "30\n",
      "31\n",
      "32\n",
      "33\n",
      "34\n",
      "35\n",
      "36\n",
      "37\n",
      "38\n"
     ]
    }
   ],
   "source": [
    "from common import compute_rmse\n",
    "pred = {}\n",
    "sd = {}\n",
    "out = {}\n",
    "for n_splits in range(2, len(df)):\n",
    "    print n_splits\n",
    "    pred[n_splits] = {}\n",
    "    sd[n_splits] = {}\n",
    "    out[n_splits] = {}\n",
    "    kf = KFold(n_splits=n_splits)\n",
    "    for test, train in kf.split(df):\n",
    "        assert(len(test)+1>=len(train))\n",
    "        \n",
    "        train_ix = df.index[train]\n",
    "        \n",
    "        test_ix = df.index[test]\n",
    "\n",
    "        tensor_copy = tensor.copy()\n",
    "        tensor_copy[test, 1:, :] = np.NaN\n",
    "        H, A, T = learn_HAT(case, tensor_copy, a, a, num_iter=2000, lr=0.1, dis=False, cost_function=cost)\n",
    "        HAT = multiply_case(H, A, T, case)\n",
    "        for appliance in APPLIANCES_ORDER:\n",
    "            if appliance not in pred[n_splits]:\n",
    "                pred[n_splits][appliance] = []\n",
    "\n",
    "            pred[n_splits][appliance].append(pd.DataFrame(HAT[test, appliance_index[appliance], :], index=test_ix))\n",
    "    for appliance in APPLIANCES_ORDER:\n",
    "        temp = pd.concat(pred[n_splits][appliance])\n",
    "        assert(len(temp)==len(df)*(n_splits-1))\n",
    "        pred[n_splits][appliance] = temp.groupby(temp.index).mean().ix[df.index]\n",
    "        sd[n_splits][appliance] = temp.groupby(temp.index).mean().ix[df.index]\n",
    "    \n",
    "   \n",
    "    for appliance in APPLIANCES_ORDER[1:]:\n",
    "        \n",
    "        if appliance==\"hvac\":\n",
    "            out[n_splits][appliance] = compute_rmse(appliance, pred[n_splits][appliance][range(4, 10)],'SanDiego')[2]\n",
    "        else:   \n",
    "            out[n_splits][appliance] = compute_rmse(appliance, pred[n_splits][appliance],'SanDiego')[2]\n"
   ]
  },
  {
   "cell_type": "code",
   "execution_count": 26,
   "metadata": {
    "collapsed": true
   },
   "outputs": [],
   "source": [
    "from plot_functions import *"
   ]
  },
  {
   "cell_type": "code",
   "execution_count": 27,
   "metadata": {},
   "outputs": [
    {
     "data": {
      "text/plain": [
       "Float64Index([         50.0, 33.3333333333,          25.0,          20.0,\n",
       "              16.6666666667, 14.2857142857,          12.5, 11.1111111111,\n",
       "                       10.0, 9.09090909091, 8.33333333333, 7.69230769231,\n",
       "              7.14285714286],\n",
       "             dtype='float64')"
      ]
     },
     "execution_count": 27,
     "metadata": {},
     "output_type": "execute_result"
    }
   ],
   "source": [
    "c.columns[::-1]"
   ]
  },
  {
   "cell_type": "code",
   "execution_count": 39,
   "metadata": {},
   "outputs": [
    {
     "data": {
      "text/plain": [
       "<matplotlib.axes._subplots.AxesSubplot at 0x113bb0750>"
      ]
     },
     "execution_count": 39,
     "metadata": {},
     "output_type": "execute_result"
    },
    {
     "data": {
      "image/png": "[encoded data removed]",
      "text/plain": [
       "<matplotlib.figure.Figure at 0x113c20ed0>"
      ]
     },
     "metadata": {},
     "output_type": "display_data"
    }
   ],
   "source": [
    "pd.DataFrame(out).ix['hvac'][:].plot()"
   ]
  },
  {
   "cell_type": "code",
   "execution_count": 28,
   "metadata": {},
   "outputs": [],
   "source": [
    "c = pd.DataFrame(out)\n",
    "c.columns = [100.0/x for x in c.columns]\n",
    "c = c[c.columns[::-1]]"
   ]
  },
  {
   "cell_type": "code",
   "execution_count": 48,
   "metadata": {},
   "outputs": [
    {
     "name": "stdout",
     "output_type": "stream",
     "text": [
      "0 hvac\n",
      "1 fridge\n",
      "2 mw\n",
      "3 dw\n",
      "4 wm\n",
      "5 oven\n"
     ]
    },
    {
     "data": {
      "image/png": "[encoded data removed]",
      "text/plain": [
       "<matplotlib.figure.Figure at 0x1128cd1d0>"
      ]
     },
     "metadata": {},
     "output_type": "display_data"
    }
   ],
   "source": [
    "fig, ax = plt.subplots(nrows=6, figsize=(6, 10), sharex=True)\n",
    "for i, appliance in enumerate(APPLIANCES_ORDER[1:]):\n",
    "    print i, appliance\n",
    "    c.T[appliance].plot(ax=ax[i], color='k', marker='.',  logx=False)\n",
    "    format_axes(ax[i])\n",
    "    ax[i].set_ylabel(appliance)\n",
    "    ax[i].locator_params(tight=True, nbins=4, axis='y')\n",
    "ax[-1].set_xlabel(\"% training\");\n",
    "ax[-1].locator_params(tight=True, nbins=10, axis='x')"
   ]
  },
  {
   "cell_type": "code",
   "execution_count": 135,
   "metadata": {},
   "outputs": [
    {
     "data": {
      "text/plain": [
       "<matplotlib.axes._subplots.AxesSubplot at 0x110d01550>"
      ]
     },
     "execution_count": 135,
     "metadata": {},
     "output_type": "execute_result"
    },
    {
     "data": {
      "image/png": "[encoded data removed]",
      "text/plain": [
       "<matplotlib.figure.Figure at 0x110c723d0>"
      ]
     },
     "metadata": {},
     "output_type": "display_data"
    }
   ],
   "source": [
    "pd.DataFrame(out).ix['hvac'].plot(kind='bar',rot=0)\n"
   ]
  },
  {
   "cell_type": "code",
   "execution_count": 164,
   "metadata": {
    "collapsed": true
   },
   "outputs": [],
   "source": [
    "from common import compute_rmse_fraction, compute_rmse"
   ]
  },
  {
   "cell_type": "code",
   "execution_count": 35,
   "metadata": {},
   "outputs": [
    {
     "data": {
      "text/plain": [
       "hvac_9  9370    274.205720\n",
       "        527     271.623605\n",
       "        4095    269.434995\n",
       "hvac_8  9370    259.533940\n",
       "hvac_5  9370    254.124171\n",
       "hvac_7  9370    252.170256\n",
       "hvac_8  527     221.765679\n",
       "hvac_9  2606    201.378624\n",
       "hvac_6  9370    200.634527\n",
       "hvac_9  3864    193.560698\n",
       "dtype: float64"
      ]
     },
     "execution_count": 35,
     "metadata": {},
     "output_type": "execute_result"
    }
   ],
   "source": [
    "appliance='hvac'\n",
    "gtf, pf, rms, f = compute_rmse(appliance, pred[n_splits][appliance][range(4, 10)],'SanDiego')\n",
    "f[f>np.percentile(f, 90)].sort_values()[::-1].head(10)"
   ]
  },
  {
   "cell_type": "code",
   "execution_count": 36,
   "metadata": {
    "collapsed": true
   },
   "outputs": [],
   "source": [
    "def analysis(appliance, home, month):\n",
    "    analysis_ser = pd.Series([gtf.ix['%s_%d' %(appliance, month),home],\n",
    "                             pf.ix['%s_%d' %(appliance, month),home],\n",
    "                             df.loc[home,'%s_%d' %(\"aggregate\",month)]])\n",
    "    analysis_ser.index = ['Appliance GT % of agg','Appliance Pred % of agg', 'GT (aggregate) [kWh]']\n",
    "    return analysis_ser"
   ]
  },
  {
   "cell_type": "code",
   "execution_count": 42,
   "metadata": {},
   "outputs": [
    {
     "data": {
      "text/plain": [
       "Appliance GT % of agg       577.740662\n",
       "Appliance Pred % of agg     355.974983\n",
       "GT (aggregate) [kWh]       1157.161133\n",
       "dtype: float64"
      ]
     },
     "execution_count": 42,
     "metadata": {},
     "output_type": "execute_result"
    }
   ],
   "source": [
    "analysis('hvac', 527, 8)"
   ]
  },
  {
   "cell_type": "code",
   "execution_count": 38,
   "metadata": {
    "collapsed": true
   },
   "outputs": [],
   "source": [
    "from plot_functions import *\n",
    "def plot_appliances_aggregate(home, appliances=['hvac']):\n",
    "    temp = {} \n",
    "    temp['aggregate'] = df.ix[home][['aggregate_%d' %month for month in range(1, 13)]].values\n",
    "    for appliance in appliances:\n",
    "        temp[appliance] = df.ix[home][['%s_%d' %(appliance, month) for month in range(1, 13)]].values\n",
    "    temp_df = pd.DataFrame(temp, index=range(1, 13))\n",
    "    temp_df.plot(color=tableau20blind[::2])\n",
    "    format_axes(plt.gca())\n",
    "    plt.xlabel(\"Month of year\")\n",
    "    plt.ylabel(\"Energy (kWh)\")"
   ]
  },
  {
   "cell_type": "code",
   "execution_count": 41,
   "metadata": {},
   "outputs": [
    {
     "data": {
      "image/png": "[encoded data removed]",
      "text/plain": [
       "<matplotlib.figure.Figure at 0x110980210>"
      ]
     },
     "metadata": {},
     "output_type": "display_data"
    }
   ],
   "source": [
    "plot_appliances_aggregate(527)"
   ]
  },
  {
   "cell_type": "code",
   "execution_count": 41,
   "metadata": {},
   "outputs": [
    {
     "data": {
      "text/plain": [
       "<matplotlib.axes._subplots.AxesSubplot at 0x10f5ea810>"
      ]
     },
     "execution_count": 41,
     "metadata": {},
     "output_type": "execute_result"
    },
    {
     "data": {
      "image/png": "[encoded data removed]",
      "text/plain": [
       "<matplotlib.figure.Figure at 0x10f33db90>"
      ]
     },
     "metadata": {},
     "output_type": "display_data"
    }
   ],
   "source": [
    "pd.DataFrame(T).plot()"
   ]
  },
  {
   "cell_type": "code",
   "execution_count": 25,
   "metadata": {},
   "outputs": [
    {
     "data": {
      "text/plain": [
       "dw         2.075424\n",
       "fridge     6.500384\n",
       "hvac      12.359623\n",
       "mw         2.591136\n",
       "oven       4.402889\n",
       "wm         0.805351\n",
       "dtype: float64"
      ]
     },
     "execution_count": 25,
     "metadata": {},
     "output_type": "execute_result"
    }
   ],
   "source": [
    "pd.Series(out)"
   ]
  },
  {
   "cell_type": "code",
   "execution_count": 26,
   "metadata": {},
   "outputs": [
    {
     "data": {
      "text/html": [
       "<div>\n",
       "<table border=\"1\" class=\"dataframe\">\n",
       "  <thead>\n",
       "    <tr style=\"text-align: right;\">\n",
       "      <th></th>\n",
       "      <th>0</th>\n",
       "      <th>1</th>\n",
       "      <th>2</th>\n",
       "      <th>3</th>\n",
       "      <th>4</th>\n",
       "      <th>5</th>\n",
       "      <th>6</th>\n",
       "      <th>7</th>\n",
       "      <th>8</th>\n",
       "      <th>9</th>\n",
       "      <th>10</th>\n",
       "      <th>11</th>\n",
       "    </tr>\n",
       "  </thead>\n",
       "  <tbody>\n",
       "    <tr>\n",
       "      <th>count</th>\n",
       "      <td>39.000000</td>\n",
       "      <td>39.000000</td>\n",
       "      <td>39.000000</td>\n",
       "      <td>39.000000</td>\n",
       "      <td>39.000000</td>\n",
       "      <td>39.000000</td>\n",
       "      <td>39.000000</td>\n",
       "      <td>39.000000</td>\n",
       "      <td>39.000000</td>\n",
       "      <td>39.000000</td>\n",
       "      <td>39.000000</td>\n",
       "      <td>39.000000</td>\n",
       "    </tr>\n",
       "    <tr>\n",
       "      <th>mean</th>\n",
       "      <td>2.019141</td>\n",
       "      <td>1.800407</td>\n",
       "      <td>17.930834</td>\n",
       "      <td>32.841665</td>\n",
       "      <td>107.586378</td>\n",
       "      <td>87.663020</td>\n",
       "      <td>182.581516</td>\n",
       "      <td>209.742593</td>\n",
       "      <td>222.891978</td>\n",
       "      <td>86.183734</td>\n",
       "      <td>10.734851</td>\n",
       "      <td>8.919451</td>\n",
       "    </tr>\n",
       "    <tr>\n",
       "      <th>std</th>\n",
       "      <td>1.121065</td>\n",
       "      <td>0.999637</td>\n",
       "      <td>12.113276</td>\n",
       "      <td>23.186966</td>\n",
       "      <td>78.513445</td>\n",
       "      <td>63.803845</td>\n",
       "      <td>134.098560</td>\n",
       "      <td>154.207951</td>\n",
       "      <td>163.837490</td>\n",
       "      <td>62.475208</td>\n",
       "      <td>6.734655</td>\n",
       "      <td>5.240128</td>\n",
       "    </tr>\n",
       "    <tr>\n",
       "      <th>min</th>\n",
       "      <td>0.062482</td>\n",
       "      <td>0.055709</td>\n",
       "      <td>3.166105</td>\n",
       "      <td>4.562446</td>\n",
       "      <td>11.904767</td>\n",
       "      <td>9.901167</td>\n",
       "      <td>19.199608</td>\n",
       "      <td>21.862864</td>\n",
       "      <td>23.278437</td>\n",
       "      <td>9.998936</td>\n",
       "      <td>2.556355</td>\n",
       "      <td>2.570146</td>\n",
       "    </tr>\n",
       "    <tr>\n",
       "      <th>25%</th>\n",
       "      <td>1.260505</td>\n",
       "      <td>1.123937</td>\n",
       "      <td>8.344732</td>\n",
       "      <td>14.805471</td>\n",
       "      <td>47.420278</td>\n",
       "      <td>38.712415</td>\n",
       "      <td>80.114130</td>\n",
       "      <td>91.962465</td>\n",
       "      <td>97.745665</td>\n",
       "      <td>38.156645</td>\n",
       "      <td>5.260004</td>\n",
       "      <td>4.742898</td>\n",
       "    </tr>\n",
       "    <tr>\n",
       "      <th>50%</th>\n",
       "      <td>1.746536</td>\n",
       "      <td>1.557314</td>\n",
       "      <td>14.156520</td>\n",
       "      <td>25.260501</td>\n",
       "      <td>78.291192</td>\n",
       "      <td>64.083829</td>\n",
       "      <td>131.380249</td>\n",
       "      <td>150.686120</td>\n",
       "      <td>160.159342</td>\n",
       "      <td>63.344459</td>\n",
       "      <td>8.535422</td>\n",
       "      <td>7.379092</td>\n",
       "    </tr>\n",
       "    <tr>\n",
       "      <th>75%</th>\n",
       "      <td>2.888973</td>\n",
       "      <td>2.576136</td>\n",
       "      <td>27.351551</td>\n",
       "      <td>50.922795</td>\n",
       "      <td>168.695750</td>\n",
       "      <td>137.290758</td>\n",
       "      <td>286.965045</td>\n",
       "      <td>329.730940</td>\n",
       "      <td>350.398747</td>\n",
       "      <td>134.907401</td>\n",
       "      <td>15.690095</td>\n",
       "      <td>12.680111</td>\n",
       "    </tr>\n",
       "    <tr>\n",
       "      <th>max</th>\n",
       "      <td>4.997533</td>\n",
       "      <td>4.456103</td>\n",
       "      <td>45.831418</td>\n",
       "      <td>87.898899</td>\n",
       "      <td>297.650769</td>\n",
       "      <td>241.926640</td>\n",
       "      <td>508.311773</td>\n",
       "      <td>584.479200</td>\n",
       "      <td>621.026903</td>\n",
       "      <td>236.981742</td>\n",
       "      <td>25.419999</td>\n",
       "      <td>20.328867</td>\n",
       "    </tr>\n",
       "  </tbody>\n",
       "</table>\n",
       "</div>"
      ],
      "text/plain": [
       "              0          1          2          3           4           5   \\\n",
       "count  39.000000  39.000000  39.000000  39.000000   39.000000   39.000000   \n",
       "mean    2.019141   1.800407  17.930834  32.841665  107.586378   87.663020   \n",
       "std     1.121065   0.999637  12.113276  23.186966   78.513445   63.803845   \n",
       "min     0.062482   0.055709   3.166105   4.562446   11.904767    9.901167   \n",
       "25%     1.260505   1.123937   8.344732  14.805471   47.420278   38.712415   \n",
       "50%     1.746536   1.557314  14.156520  25.260501   78.291192   64.083829   \n",
       "75%     2.888973   2.576136  27.351551  50.922795  168.695750  137.290758   \n",
       "max     4.997533   4.456103  45.831418  87.898899  297.650769  241.926640   \n",
       "\n",
       "               6           7           8           9          10         11  \n",
       "count   39.000000   39.000000   39.000000   39.000000  39.000000  39.000000  \n",
       "mean   182.581516  209.742593  222.891978   86.183734  10.734851   8.919451  \n",
       "std    134.098560  154.207951  163.837490   62.475208   6.734655   5.240128  \n",
       "min     19.199608   21.862864   23.278437    9.998936   2.556355   2.570146  \n",
       "25%     80.114130   91.962465   97.745665   38.156645   5.260004   4.742898  \n",
       "50%    131.380249  150.686120  160.159342   63.344459   8.535422   7.379092  \n",
       "75%    286.965045  329.730940  350.398747  134.907401  15.690095  12.680111  \n",
       "max    508.311773  584.479200  621.026903  236.981742  25.419999  20.328867  "
      ]
     },
     "execution_count": 26,
     "metadata": {},
     "output_type": "execute_result"
    }
   ],
   "source": [
    "pred['hvac'].describe()"
   ]
  },
  {
   "cell_type": "code",
   "execution_count": null,
   "metadata": {
    "collapsed": true
   },
   "outputs": [],
   "source": []
  }
 ],
 "metadata": {
  "kernelspec": {
   "display_name": "Python 2",
   "language": "python",
   "name": "python2"
  },
  "language_info": {
   "codemirror_mode": {
    "name": "ipython",
    "version": 2
   },
   "file_extension": ".py",
   "mimetype": "text/x-python",
   "name": "python",
   "nbconvert_exporter": "python",
   "pygments_lexer": "ipython2",
   "version": "2.7.11"
  }
 },
 "nbformat": 4,
 "nbformat_minor": 2
}
