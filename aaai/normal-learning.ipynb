{
 "cells": [
  {
   "cell_type": "code",
   "execution_count": 1,
   "metadata": {
    "collapsed": true
   },
   "outputs": [],
   "source": [
    "import matplotlib.pyplot as plt\n",
    "%matplotlib inline\n",
    "from sklearn.model_selection import KFold"
   ]
  },
  {
   "cell_type": "code",
   "execution_count": 2,
   "metadata": {
    "collapsed": true
   },
   "outputs": [],
   "source": [
    "from create_matrix import *\n",
    "\n",
    "from tensor_custom_core import *\n",
    "from create_matrix import *\n",
    "from tensor_custom_core import *\n",
    "from degree_days import dds\n",
    "appliance_index = {appliance: APPLIANCES_ORDER.index(appliance) for appliance in APPLIANCES_ORDER}\n",
    "\n",
    "APPLIANCES = ['fridge', 'hvac', 'wm', 'mw', 'oven', 'dw']\n",
    "region = \"SanDiego\"\n",
    "year = 2014\n",
    "\n",
    "import os\n",
    "\n",
    "\n",
    "def un_normalize(x, maximum, minimum):\n",
    "    return (maximum - minimum) * x + minimum"
   ]
  },
  {
   "cell_type": "code",
   "execution_count": 3,
   "metadata": {
    "collapsed": true
   },
   "outputs": [],
   "source": [
    "n_splits = 2\n",
    "import sys\n",
    "case=2\n",
    "a=2\n",
    "cost='abs'"
   ]
  },
  {
   "cell_type": "code",
   "execution_count": 3,
   "metadata": {
    "collapsed": true
   },
   "outputs": [],
   "source": [
    "def get_tensor(df, dfc):\n",
    "    start, stop = 1, 13\n",
    "    energy_cols = np.array(\n",
    "        [['%s_%d' % (appliance, month) for month in range(start, stop)] for appliance in APPLIANCES_ORDER]).flatten()\n",
    "\n",
    "    static_cols = ['area', 'total_occupants', 'num_rooms']\n",
    "    static_df = df[static_cols]\n",
    "    static_df = static_df.div(static_df.max())\n",
    "    weather_values = np.array(dds[2014][region][start - 1:stop - 1]).reshape(-1, 1)\n",
    "\n",
    "    dfc = df.copy()\n",
    "\n",
    "    df = dfc[energy_cols]\n",
    "    col_max = df.max().max()\n",
    "    col_min = df.min().min()\n",
    "    # df = (1.0 * (df - col_min)) / (col_max - col_min)\n",
    "    tensor = df.values.reshape((len(df), 7, stop - start))\n",
    "    M, N, O = tensor.shape\n",
    "    return tensor"
   ]
  },
  {
   "cell_type": "code",
   "execution_count": 4,
   "metadata": {
    "collapsed": true
   },
   "outputs": [],
   "source": [
    "df, dfc = create_matrix_single_region(\"SanDiego\", year)\n",
    "tensor = get_tensor(df, dfc)"
   ]
  },
  {
   "cell_type": "code",
   "execution_count": 5,
   "metadata": {
    "collapsed": true
   },
   "outputs": [],
   "source": [
    "from sklearn.model_selection import train_test_split, KFold"
   ]
  },
  {
   "cell_type": "code",
   "execution_count": 30,
   "metadata": {},
   "outputs": [],
   "source": [
    "n_splits = 10\n"
   ]
  },
  {
   "cell_type": "code",
   "execution_count": 31,
   "metadata": {},
   "outputs": [
    {
     "data": {
      "text/plain": [
       "array([ 4,  5,  6,  7,  8,  9, 10, 11, 12, 13, 14, 15, 16, 17, 18, 19, 20,\n",
       "       21, 22, 23, 24, 25, 26, 27, 28, 29, 30, 31, 32, 33, 34, 35, 36, 37,\n",
       "       38])"
      ]
     },
     "execution_count": 31,
     "metadata": {},
     "output_type": "execute_result"
    }
   ],
   "source": [
    "num_train = int(train_ratio*len(train_max)+0.5)\n",
    "train= train_max[:num_train]\n",
    "train"
   ]
  },
  {
   "cell_type": "code",
   "execution_count": 32,
   "metadata": {},
   "outputs": [
    {
     "data": {
      "text/plain": [
       "array([0, 1, 2, 3])"
      ]
     },
     "execution_count": 32,
     "metadata": {},
     "output_type": "execute_result"
    }
   ],
   "source": [
    "test"
   ]
  },
  {
   "cell_type": "code",
   "execution_count": 35,
   "metadata": {
    "collapsed": true
   },
   "outputs": [],
   "source": [
    "train_ix = df.index[train]\n",
    "test_ix = df.index[test]\n",
    "\n",
    "tensor_copy = tensor.copy()\n",
    "tensor_copy[test, 1:, :] = np.NaN"
   ]
  },
  {
   "cell_type": "code",
   "execution_count": 41,
   "metadata": {},
   "outputs": [
    {
     "data": {
      "text/plain": [
       "array([ nan,  nan,  nan,  nan,  nan,  nan,  nan,  nan,  nan,  nan,  nan,\n",
       "        nan])"
      ]
     },
     "execution_count": 41,
     "metadata": {},
     "output_type": "execute_result"
    }
   ],
   "source": [
    "tensor_copy[3, 6, :]"
   ]
  },
  {
   "cell_type": "code",
   "execution_count": 22,
   "metadata": {},
   "outputs": [
    {
     "data": {
      "text/plain": [
       "[array([14, 10,  9,  8,  4, 30, 16, 28, 12, 20, 23, 15, 35, 38, 27, 31, 21,\n",
       "        26, 22, 11, 36, 29,  6, 17,  5, 37]),\n",
       " array([ 7, 13, 32, 34, 18, 19, 33, 24, 25])]"
      ]
     },
     "execution_count": 22,
     "metadata": {},
     "output_type": "execute_result"
    }
   ],
   "source": [
    "train_test_split(train_max)"
   ]
  },
  {
   "cell_type": "code",
   "execution_count": 33,
   "metadata": {
    "collapsed": true
   },
   "outputs": [],
   "source": [
    "from common import compute_rmse\n"
   ]
  },
  {
   "cell_type": "code",
   "execution_count": 34,
   "metadata": {},
   "outputs": [
    {
     "data": {
      "text/plain": [
       "array([ 0.1,  0.2,  0.3,  0.4,  0.5,  0.6,  0.7,  0.8,  0.9])"
      ]
     },
     "execution_count": 34,
     "metadata": {},
     "output_type": "execute_result"
    }
   ],
   "source": [
    "np.arange(0.1, 1.0, 0.1)"
   ]
  },
  {
   "cell_type": "code",
   "execution_count": 236,
   "metadata": {},
   "outputs": [
    {
     "name": "stdout",
     "output_type": "stream",
     "text": [
      "10 \n",
      "\n",
      "Int64Index([1524, 1731, 2031], dtype='int64') Int64Index([54, 203, 527, 1450], dtype='int64')\n",
      "Int64Index([54, 203, 527], dtype='int64') Int64Index([1524, 1731, 2031, 2354], dtype='int64')\n",
      "Int64Index([54, 203, 527], dtype='int64') Int64Index([2606, 3687, 3864, 3938], dtype='int64')\n",
      "Int64Index([54, 203, 527], dtype='int64') Int64Index([4083, 4095, 4329, 4495], dtype='int64')\n",
      "Int64Index([54, 203, 527], dtype='int64') Int64Index([4761, 4934, 5909, 5938], dtype='int64')\n",
      "Int64Index([54, 203, 527], dtype='int64') Int64Index([6268, 6377, 6429, 6497], dtype='int64')\n",
      "Int64Index([54, 203, 527], dtype='int64') Int64Index([6547, 7062, 7114, 7409], dtype='int64')\n",
      "Int64Index([54, 203, 527], dtype='int64') Int64Index([7639, 8061, 8342, 8574], dtype='int64')\n",
      "Int64Index([54, 203, 527], dtype='int64') Int64Index([8733, 9213, 9370, 9585], dtype='int64')\n",
      "Int64Index([54, 203, 527], dtype='int64') Int64Index([9612, 9775, 9836], dtype='int64')\n",
      "20 \n",
      "\n",
      "Int64Index([1524, 1731, 2031, 2354, 2606, 3687, 3864], dtype='int64') Int64Index([54, 203, 527, 1450], dtype='int64')\n",
      "Int64Index([54, 203, 527, 1450, 2606, 3687, 3864], dtype='int64') Int64Index([1524, 1731, 2031, 2354], dtype='int64')\n",
      "Int64Index([54, 203, 527, 1450, 1524, 1731, 2031], dtype='int64') Int64Index([2606, 3687, 3864, 3938], dtype='int64')\n",
      "Int64Index([54, 203, 527, 1450, 1524, 1731, 2031], dtype='int64') Int64Index([4083, 4095, 4329, 4495], dtype='int64')\n",
      "Int64Index([54, 203, 527, 1450, 1524, 1731, 2031], dtype='int64') Int64Index([4761, 4934, 5909, 5938], dtype='int64')\n",
      "Int64Index([54, 203, 527, 1450, 1524, 1731, 2031], dtype='int64') Int64Index([6268, 6377, 6429, 6497], dtype='int64')\n",
      "Int64Index([54, 203, 527, 1450, 1524, 1731, 2031], dtype='int64') Int64Index([6547, 7062, 7114, 7409], dtype='int64')\n",
      "Int64Index([54, 203, 527, 1450, 1524, 1731, 2031], dtype='int64') Int64Index([7639, 8061, 8342, 8574], dtype='int64')\n",
      "Int64Index([54, 203, 527, 1450, 1524, 1731, 2031], dtype='int64') Int64Index([8733, 9213, 9370, 9585], dtype='int64')\n",
      "Int64Index([54, 203, 527, 1450, 1524, 1731, 2031], dtype='int64') Int64Index([9612, 9775, 9836], dtype='int64')\n",
      "30 \n",
      "\n",
      "Int64Index([1524, 1731, 2031, 2354, 2606, 3687, 3864, 3938, 4083, 4095], dtype='int64') Int64Index([54, 203, 527, 1450], dtype='int64')\n",
      "Int64Index([54, 203, 527, 1450, 2606, 3687, 3864, 3938, 4083, 4095], dtype='int64') Int64Index([1524, 1731, 2031, 2354], dtype='int64')\n",
      "Int64Index([54, 203, 527, 1450, 1524, 1731, 2031, 2354, 4083, 4095], dtype='int64') Int64Index([2606, 3687, 3864, 3938], dtype='int64')\n",
      "Int64Index([54, 203, 527, 1450, 1524, 1731, 2031, 2354, 2606, 3687], dtype='int64') Int64Index([4083, 4095, 4329, 4495], dtype='int64')\n",
      "Int64Index([54, 203, 527, 1450, 1524, 1731, 2031, 2354, 2606, 3687], dtype='int64') Int64Index([4761, 4934, 5909, 5938], dtype='int64')\n",
      "Int64Index([54, 203, 527, 1450, 1524, 1731, 2031, 2354, 2606, 3687], dtype='int64') Int64Index([6268, 6377, 6429, 6497], dtype='int64')\n",
      "Int64Index([54, 203, 527, 1450, 1524, 1731, 2031, 2354, 2606, 3687], dtype='int64') Int64Index([6547, 7062, 7114, 7409], dtype='int64')\n",
      "Int64Index([54, 203, 527, 1450, 1524, 1731, 2031, 2354, 2606, 3687], dtype='int64') Int64Index([7639, 8061, 8342, 8574], dtype='int64')\n",
      "Int64Index([54, 203, 527, 1450, 1524, 1731, 2031, 2354, 2606, 3687], dtype='int64') Int64Index([8733, 9213, 9370, 9585], dtype='int64')\n",
      "Int64Index([54, 203, 527, 1450, 1524, 1731, 2031, 2354, 2606, 3687], dtype='int64') Int64Index([9612, 9775, 9836], dtype='int64')\n",
      "40 \n",
      "\n",
      "Int64Index([1524, 1731, 2031, 2354, 2606, 3687, 3864, 3938, 4083, 4095, 4329,\n",
      "            4495, 4761, 4934],\n",
      "           dtype='int64') Int64Index([54, 203, 527, 1450], dtype='int64')\n",
      "Int64Index([54, 203, 527, 1450, 2606, 3687, 3864, 3938, 4083, 4095, 4329, 4495,\n",
      "            4761, 4934],\n",
      "           dtype='int64') Int64Index([1524, 1731, 2031, 2354], dtype='int64')\n",
      "Int64Index([54, 203, 527, 1450, 1524, 1731, 2031, 2354, 4083, 4095, 4329, 4495,\n",
      "            4761, 4934],\n",
      "           dtype='int64') Int64Index([2606, 3687, 3864, 3938], dtype='int64')\n",
      "Int64Index([54, 203, 527, 1450, 1524, 1731, 2031, 2354, 2606, 3687, 3864, 3938,\n",
      "            4761, 4934],\n",
      "           dtype='int64') Int64Index([4083, 4095, 4329, 4495], dtype='int64')\n",
      "Int64Index([54, 203, 527, 1450, 1524, 1731, 2031, 2354, 2606, 3687, 3864, 3938,\n",
      "            4083, 4095],\n",
      "           dtype='int64') Int64Index([4761, 4934, 5909, 5938], dtype='int64')\n",
      "Int64Index([54, 203, 527, 1450, 1524, 1731, 2031, 2354, 2606, 3687, 3864, 3938,\n",
      "            4083, 4095],\n",
      "           dtype='int64') Int64Index([6268, 6377, 6429, 6497], dtype='int64')\n",
      "Int64Index([54, 203, 527, 1450, 1524, 1731, 2031, 2354, 2606, 3687, 3864, 3938,\n",
      "            4083, 4095],\n",
      "           dtype='int64') Int64Index([6547, 7062, 7114, 7409], dtype='int64')\n",
      "Int64Index([54, 203, 527, 1450, 1524, 1731, 2031, 2354, 2606, 3687, 3864, 3938,\n",
      "            4083, 4095],\n",
      "           dtype='int64') Int64Index([7639, 8061, 8342, 8574], dtype='int64')\n",
      "Int64Index([54, 203, 527, 1450, 1524, 1731, 2031, 2354, 2606, 3687, 3864, 3938,\n",
      "            4083, 4095],\n",
      "           dtype='int64') Int64Index([8733, 9213, 9370, 9585], dtype='int64')\n",
      "Int64Index([54, 203, 527, 1450, 1524, 1731, 2031, 2354, 2606, 3687, 3864, 3938,\n",
      "            4083, 4095],\n",
      "           dtype='int64') Int64Index([9612, 9775, 9836], dtype='int64')\n",
      "50 \n",
      "\n",
      "Int64Index([1524, 1731, 2031, 2354, 2606, 3687, 3864, 3938, 4083, 4095, 4329,\n",
      "            4495, 4761, 4934, 5909, 5938, 6268],\n",
      "           dtype='int64') Int64Index([54, 203, 527, 1450], dtype='int64')\n",
      "Int64Index([  54,  203,  527, 1450, 2606, 3687, 3864, 3938, 4083, 4095, 4329,\n",
      "            4495, 4761, 4934, 5909, 5938, 6268],\n",
      "           dtype='int64') Int64Index([1524, 1731, 2031, 2354], dtype='int64')\n",
      "Int64Index([  54,  203,  527, 1450, 1524, 1731, 2031, 2354, 4083, 4095, 4329,\n",
      "            4495, 4761, 4934, 5909, 5938, 6268],\n",
      "           dtype='int64') Int64Index([2606, 3687, 3864, 3938], dtype='int64')\n",
      "Int64Index([  54,  203,  527, 1450, 1524, 1731, 2031, 2354, 2606, 3687, 3864,\n",
      "            3938, 4761, 4934, 5909, 5938, 6268],\n",
      "           dtype='int64') Int64Index([4083, 4095, 4329, 4495], dtype='int64')\n",
      "Int64Index([  54,  203,  527, 1450, 1524, 1731, 2031, 2354, 2606, 3687, 3864,\n",
      "            3938, 4083, 4095, 4329, 4495, 6268],\n",
      "           dtype='int64') Int64Index([4761, 4934, 5909, 5938], dtype='int64')\n",
      "Int64Index([  54,  203,  527, 1450, 1524, 1731, 2031, 2354, 2606, 3687, 3864,\n",
      "            3938, 4083, 4095, 4329, 4495, 4761],\n",
      "           dtype='int64') Int64Index([6268, 6377, 6429, 6497], dtype='int64')\n",
      "Int64Index([  54,  203,  527, 1450, 1524, 1731, 2031, 2354, 2606, 3687, 3864,\n",
      "            3938, 4083, 4095, 4329, 4495, 4761],\n",
      "           dtype='int64') Int64Index([6547, 7062, 7114, 7409], dtype='int64')\n",
      "Int64Index([  54,  203,  527, 1450, 1524, 1731, 2031, 2354, 2606, 3687, 3864,\n",
      "            3938, 4083, 4095, 4329, 4495, 4761],\n",
      "           dtype='int64') Int64Index([7639, 8061, 8342, 8574], dtype='int64')\n",
      "Int64Index([  54,  203,  527, 1450, 1524, 1731, 2031, 2354, 2606, 3687, 3864,\n",
      "            3938, 4083, 4095, 4329, 4495, 4761],\n",
      "           dtype='int64') Int64Index([8733, 9213, 9370, 9585], dtype='int64')\n",
      "Int64Index([  54,  203,  527, 1450, 1524, 1731, 2031, 2354, 2606, 3687, 3864,\n",
      "            3938, 4083, 4095, 4329, 4495, 4761, 4934],\n",
      "           dtype='int64') Int64Index([9612, 9775, 9836], dtype='int64')\n",
      "60 \n",
      "\n",
      "Int64Index([1524, 1731, 2031, 2354, 2606, 3687, 3864, 3938, 4083, 4095, 4329,\n",
      "            4495, 4761, 4934, 5909, 5938, 6268, 6377, 6429, 6497, 6547],\n",
      "           dtype='int64') Int64Index([54, 203, 527, 1450], dtype='int64')\n",
      "Int64Index([  54,  203,  527, 1450, 2606, 3687, 3864, 3938, 4083, 4095, 4329,\n",
      "            4495, 4761, 4934, 5909, 5938, 6268, 6377, 6429, 6497, 6547],\n",
      "           dtype='int64') Int64Index([1524, 1731, 2031, 2354], dtype='int64')\n",
      "Int64Index([  54,  203,  527, 1450, 1524, 1731, 2031, 2354, 4083, 4095, 4329,\n",
      "            4495, 4761, 4934, 5909, 5938, 6268, 6377, 6429, 6497, 6547],\n",
      "           dtype='int64') Int64Index([2606, 3687, 3864, 3938], dtype='int64')\n",
      "Int64Index([  54,  203,  527, 1450, 1524, 1731, 2031, 2354, 2606, 3687, 3864,\n",
      "            3938, 4761, 4934, 5909, 5938, 6268, 6377, 6429, 6497, 6547],\n",
      "           dtype='int64') Int64Index([4083, 4095, 4329, 4495], dtype='int64')\n"
     ]
    },
    {
     "name": "stdout",
     "output_type": "stream",
     "text": [
      "Int64Index([  54,  203,  527, 1450, 1524, 1731, 2031, 2354, 2606, 3687, 3864,\n",
      "            3938, 4083, 4095, 4329, 4495, 6268, 6377, 6429, 6497, 6547],\n",
      "           dtype='int64') Int64Index([4761, 4934, 5909, 5938], dtype='int64')\n",
      "Int64Index([  54,  203,  527, 1450, 1524, 1731, 2031, 2354, 2606, 3687, 3864,\n",
      "            3938, 4083, 4095, 4329, 4495, 4761, 4934, 5909, 5938, 6547],\n",
      "           dtype='int64') Int64Index([6268, 6377, 6429, 6497], dtype='int64')\n",
      "Int64Index([  54,  203,  527, 1450, 1524, 1731, 2031, 2354, 2606, 3687, 3864,\n",
      "            3938, 4083, 4095, 4329, 4495, 4761, 4934, 5909, 5938, 6268],\n",
      "           dtype='int64') Int64Index([6547, 7062, 7114, 7409], dtype='int64')\n",
      "Int64Index([  54,  203,  527, 1450, 1524, 1731, 2031, 2354, 2606, 3687, 3864,\n",
      "            3938, 4083, 4095, 4329, 4495, 4761, 4934, 5909, 5938, 6268],\n",
      "           dtype='int64') Int64Index([7639, 8061, 8342, 8574], dtype='int64')\n",
      "Int64Index([  54,  203,  527, 1450, 1524, 1731, 2031, 2354, 2606, 3687, 3864,\n",
      "            3938, 4083, 4095, 4329, 4495, 4761, 4934, 5909, 5938, 6268],\n",
      "           dtype='int64') Int64Index([8733, 9213, 9370, 9585], dtype='int64')\n",
      "Int64Index([  54,  203,  527, 1450, 1524, 1731, 2031, 2354, 2606, 3687, 3864,\n",
      "            3938, 4083, 4095, 4329, 4495, 4761, 4934, 5909, 5938, 6268],\n",
      "           dtype='int64') Int64Index([9612, 9775, 9836], dtype='int64')\n",
      "70 \n",
      "\n",
      "Int64Index([1524, 1731, 2031, 2354, 2606, 3687, 3864, 3938, 4083, 4095, 4329,\n",
      "            4495, 4761, 4934, 5909, 5938, 6268, 6377, 6429, 6497, 6547, 7062,\n",
      "            7114, 7409],\n",
      "           dtype='int64') Int64Index([54, 203, 527, 1450], dtype='int64')\n",
      "Int64Index([  54,  203,  527, 1450, 2606, 3687, 3864, 3938, 4083, 4095, 4329,\n",
      "            4495, 4761, 4934, 5909, 5938, 6268, 6377, 6429, 6497, 6547, 7062,\n",
      "            7114, 7409],\n",
      "           dtype='int64') Int64Index([1524, 1731, 2031, 2354], dtype='int64')\n",
      "Int64Index([  54,  203,  527, 1450, 1524, 1731, 2031, 2354, 4083, 4095, 4329,\n",
      "            4495, 4761, 4934, 5909, 5938, 6268, 6377, 6429, 6497, 6547, 7062,\n",
      "            7114, 7409],\n",
      "           dtype='int64') Int64Index([2606, 3687, 3864, 3938], dtype='int64')\n",
      "Int64Index([  54,  203,  527, 1450, 1524, 1731, 2031, 2354, 2606, 3687, 3864,\n",
      "            3938, 4761, 4934, 5909, 5938, 6268, 6377, 6429, 6497, 6547, 7062,\n",
      "            7114, 7409],\n",
      "           dtype='int64') Int64Index([4083, 4095, 4329, 4495], dtype='int64')\n",
      "Int64Index([  54,  203,  527, 1450, 1524, 1731, 2031, 2354, 2606, 3687, 3864,\n",
      "            3938, 4083, 4095, 4329, 4495, 6268, 6377, 6429, 6497, 6547, 7062,\n",
      "            7114, 7409],\n",
      "           dtype='int64') Int64Index([4761, 4934, 5909, 5938], dtype='int64')\n",
      "Int64Index([  54,  203,  527, 1450, 1524, 1731, 2031, 2354, 2606, 3687, 3864,\n",
      "            3938, 4083, 4095, 4329, 4495, 4761, 4934, 5909, 5938, 6547, 7062,\n",
      "            7114, 7409],\n",
      "           dtype='int64') Int64Index([6268, 6377, 6429, 6497], dtype='int64')\n",
      "Int64Index([  54,  203,  527, 1450, 1524, 1731, 2031, 2354, 2606, 3687, 3864,\n",
      "            3938, 4083, 4095, 4329, 4495, 4761, 4934, 5909, 5938, 6268, 6377,\n",
      "            6429, 6497],\n",
      "           dtype='int64') Int64Index([6547, 7062, 7114, 7409], dtype='int64')\n",
      "Int64Index([  54,  203,  527, 1450, 1524, 1731, 2031, 2354, 2606, 3687, 3864,\n",
      "            3938, 4083, 4095, 4329, 4495, 4761, 4934, 5909, 5938, 6268, 6377,\n",
      "            6429, 6497],\n",
      "           dtype='int64') Int64Index([7639, 8061, 8342, 8574], dtype='int64')\n",
      "Int64Index([  54,  203,  527, 1450, 1524, 1731, 2031, 2354, 2606, 3687, 3864,\n",
      "            3938, 4083, 4095, 4329, 4495, 4761, 4934, 5909, 5938, 6268, 6377,\n",
      "            6429, 6497],\n",
      "           dtype='int64') Int64Index([8733, 9213, 9370, 9585], dtype='int64')\n",
      "Int64Index([  54,  203,  527, 1450, 1524, 1731, 2031, 2354, 2606, 3687, 3864,\n",
      "            3938, 4083, 4095, 4329, 4495, 4761, 4934, 5909, 5938, 6268, 6377,\n",
      "            6429, 6497, 6547],\n",
      "           dtype='int64') Int64Index([9612, 9775, 9836], dtype='int64')\n",
      "80 \n",
      "\n",
      "Int64Index([1524, 1731, 2031, 2354, 2606, 3687, 3864, 3938, 4083, 4095, 4329,\n",
      "            4495, 4761, 4934, 5909, 5938, 6268, 6377, 6429, 6497, 6547, 7062,\n",
      "            7114, 7409, 7639, 8061, 8342, 8574],\n",
      "           dtype='int64') Int64Index([54, 203, 527, 1450], dtype='int64')\n",
      "Int64Index([  54,  203,  527, 1450, 2606, 3687, 3864, 3938, 4083, 4095, 4329,\n",
      "            4495, 4761, 4934, 5909, 5938, 6268, 6377, 6429, 6497, 6547, 7062,\n",
      "            7114, 7409, 7639, 8061, 8342, 8574],\n",
      "           dtype='int64') Int64Index([1524, 1731, 2031, 2354], dtype='int64')\n",
      "Int64Index([  54,  203,  527, 1450, 1524, 1731, 2031, 2354, 4083, 4095, 4329,\n",
      "            4495, 4761, 4934, 5909, 5938, 6268, 6377, 6429, 6497, 6547, 7062,\n",
      "            7114, 7409, 7639, 8061, 8342, 8574],\n",
      "           dtype='int64') Int64Index([2606, 3687, 3864, 3938], dtype='int64')\n",
      "Int64Index([  54,  203,  527, 1450, 1524, 1731, 2031, 2354, 2606, 3687, 3864,\n",
      "            3938, 4761, 4934, 5909, 5938, 6268, 6377, 6429, 6497, 6547, 7062,\n",
      "            7114, 7409, 7639, 8061, 8342, 8574],\n",
      "           dtype='int64') Int64Index([4083, 4095, 4329, 4495], dtype='int64')\n",
      "Int64Index([  54,  203,  527, 1450, 1524, 1731, 2031, 2354, 2606, 3687, 3864,\n",
      "            3938, 4083, 4095, 4329, 4495, 6268, 6377, 6429, 6497, 6547, 7062,\n",
      "            7114, 7409, 7639, 8061, 8342, 8574],\n",
      "           dtype='int64') Int64Index([4761, 4934, 5909, 5938], dtype='int64')\n",
      "Int64Index([  54,  203,  527, 1450, 1524, 1731, 2031, 2354, 2606, 3687, 3864,\n",
      "            3938, 4083, 4095, 4329, 4495, 4761, 4934, 5909, 5938, 6547, 7062,\n",
      "            7114, 7409, 7639, 8061, 8342, 8574],\n",
      "           dtype='int64') Int64Index([6268, 6377, 6429, 6497], dtype='int64')\n",
      "Int64Index([  54,  203,  527, 1450, 1524, 1731, 2031, 2354, 2606, 3687, 3864,\n",
      "            3938, 4083, 4095, 4329, 4495, 4761, 4934, 5909, 5938, 6268, 6377,\n",
      "            6429, 6497, 7639, 8061, 8342, 8574],\n",
      "           dtype='int64') Int64Index([6547, 7062, 7114, 7409], dtype='int64')\n",
      "Int64Index([  54,  203,  527, 1450, 1524, 1731, 2031, 2354, 2606, 3687, 3864,\n",
      "            3938, 4083, 4095, 4329, 4495, 4761, 4934, 5909, 5938, 6268, 6377,\n",
      "            6429, 6497, 6547, 7062, 7114, 7409],\n",
      "           dtype='int64') Int64Index([7639, 8061, 8342, 8574], dtype='int64')\n",
      "Int64Index([  54,  203,  527, 1450, 1524, 1731, 2031, 2354, 2606, 3687, 3864,\n",
      "            3938, 4083, 4095, 4329, 4495, 4761, 4934, 5909, 5938, 6268, 6377,\n",
      "            6429, 6497, 6547, 7062, 7114, 7409],\n",
      "           dtype='int64') Int64Index([8733, 9213, 9370, 9585], dtype='int64')\n",
      "Int64Index([  54,  203,  527, 1450, 1524, 1731, 2031, 2354, 2606, 3687, 3864,\n",
      "            3938, 4083, 4095, 4329, 4495, 4761, 4934, 5909, 5938, 6268, 6377,\n",
      "            6429, 6497, 6547, 7062, 7114, 7409],\n",
      "           dtype='int64') Int64Index([9612, 9775, 9836], dtype='int64')\n",
      "90 \n",
      "\n",
      "Int64Index([1524, 1731, 2031, 2354, 2606, 3687, 3864, 3938, 4083, 4095, 4329,\n",
      "            4495, 4761, 4934, 5909, 5938, 6268, 6377, 6429, 6497, 6547, 7062,\n",
      "            7114, 7409, 7639, 8061, 8342, 8574, 8733, 9213, 9370],\n",
      "           dtype='int64') Int64Index([54, 203, 527, 1450], dtype='int64')\n",
      "Int64Index([  54,  203,  527, 1450, 2606, 3687, 3864, 3938, 4083, 4095, 4329,\n",
      "            4495, 4761, 4934, 5909, 5938, 6268, 6377, 6429, 6497, 6547, 7062,\n",
      "            7114, 7409, 7639, 8061, 8342, 8574, 8733, 9213, 9370],\n",
      "           dtype='int64') Int64Index([1524, 1731, 2031, 2354], dtype='int64')\n",
      "Int64Index([  54,  203,  527, 1450, 1524, 1731, 2031, 2354, 4083, 4095, 4329,\n",
      "            4495, 4761, 4934, 5909, 5938, 6268, 6377, 6429, 6497, 6547, 7062,\n",
      "            7114, 7409, 7639, 8061, 8342, 8574, 8733, 9213, 9370],\n",
      "           dtype='int64') Int64Index([2606, 3687, 3864, 3938], dtype='int64')\n",
      "Int64Index([  54,  203,  527, 1450, 1524, 1731, 2031, 2354, 2606, 3687, 3864,\n",
      "            3938, 4761, 4934, 5909, 5938, 6268, 6377, 6429, 6497, 6547, 7062,\n",
      "            7114, 7409, 7639, 8061, 8342, 8574, 8733, 9213, 9370],\n",
      "           dtype='int64') Int64Index([4083, 4095, 4329, 4495], dtype='int64')\n",
      "Int64Index([  54,  203,  527, 1450, 1524, 1731, 2031, 2354, 2606, 3687, 3864,\n",
      "            3938, 4083, 4095, 4329, 4495, 6268, 6377, 6429, 6497, 6547, 7062,\n",
      "            7114, 7409, 7639, 8061, 8342, 8574, 8733, 9213, 9370],\n",
      "           dtype='int64') Int64Index([4761, 4934, 5909, 5938], dtype='int64')\n"
     ]
    },
    {
     "name": "stdout",
     "output_type": "stream",
     "text": [
      "Int64Index([  54,  203,  527, 1450, 1524, 1731, 2031, 2354, 2606, 3687, 3864,\n",
      "            3938, 4083, 4095, 4329, 4495, 4761, 4934, 5909, 5938, 6547, 7062,\n",
      "            7114, 7409, 7639, 8061, 8342, 8574, 8733, 9213, 9370],\n",
      "           dtype='int64') Int64Index([6268, 6377, 6429, 6497], dtype='int64')\n",
      "Int64Index([  54,  203,  527, 1450, 1524, 1731, 2031, 2354, 2606, 3687, 3864,\n",
      "            3938, 4083, 4095, 4329, 4495, 4761, 4934, 5909, 5938, 6268, 6377,\n",
      "            6429, 6497, 7639, 8061, 8342, 8574, 8733, 9213, 9370],\n",
      "           dtype='int64') Int64Index([6547, 7062, 7114, 7409], dtype='int64')\n",
      "Int64Index([  54,  203,  527, 1450, 1524, 1731, 2031, 2354, 2606, 3687, 3864,\n",
      "            3938, 4083, 4095, 4329, 4495, 4761, 4934, 5909, 5938, 6268, 6377,\n",
      "            6429, 6497, 6547, 7062, 7114, 7409, 8733, 9213, 9370],\n",
      "           dtype='int64') Int64Index([7639, 8061, 8342, 8574], dtype='int64')\n",
      "Int64Index([  54,  203,  527, 1450, 1524, 1731, 2031, 2354, 2606, 3687, 3864,\n",
      "            3938, 4083, 4095, 4329, 4495, 4761, 4934, 5909, 5938, 6268, 6377,\n",
      "            6429, 6497, 6547, 7062, 7114, 7409, 7639, 8061, 8342],\n",
      "           dtype='int64') Int64Index([8733, 9213, 9370, 9585], dtype='int64')\n",
      "Int64Index([  54,  203,  527, 1450, 1524, 1731, 2031, 2354, 2606, 3687, 3864,\n",
      "            3938, 4083, 4095, 4329, 4495, 4761, 4934, 5909, 5938, 6268, 6377,\n",
      "            6429, 6497, 6547, 7062, 7114, 7409, 7639, 8061, 8342, 8574],\n",
      "           dtype='int64') Int64Index([9612, 9775, 9836], dtype='int64')\n",
      "100 \n",
      "\n",
      "Int64Index([1524, 1731, 2031, 2354, 2606, 3687, 3864, 3938, 4083, 4095, 4329,\n",
      "            4495, 4761, 4934, 5909, 5938, 6268, 6377, 6429, 6497, 6547, 7062,\n",
      "            7114, 7409, 7639, 8061, 8342, 8574, 8733, 9213, 9370, 9585, 9612,\n",
      "            9775, 9836],\n",
      "           dtype='int64') Int64Index([54, 203, 527, 1450], dtype='int64')\n",
      "Int64Index([  54,  203,  527, 1450, 2606, 3687, 3864, 3938, 4083, 4095, 4329,\n",
      "            4495, 4761, 4934, 5909, 5938, 6268, 6377, 6429, 6497, 6547, 7062,\n",
      "            7114, 7409, 7639, 8061, 8342, 8574, 8733, 9213, 9370, 9585, 9612,\n",
      "            9775, 9836],\n",
      "           dtype='int64') Int64Index([1524, 1731, 2031, 2354], dtype='int64')\n",
      "Int64Index([  54,  203,  527, 1450, 1524, 1731, 2031, 2354, 4083, 4095, 4329,\n",
      "            4495, 4761, 4934, 5909, 5938, 6268, 6377, 6429, 6497, 6547, 7062,\n",
      "            7114, 7409, 7639, 8061, 8342, 8574, 8733, 9213, 9370, 9585, 9612,\n",
      "            9775, 9836],\n",
      "           dtype='int64') Int64Index([2606, 3687, 3864, 3938], dtype='int64')\n",
      "Int64Index([  54,  203,  527, 1450, 1524, 1731, 2031, 2354, 2606, 3687, 3864,\n",
      "            3938, 4761, 4934, 5909, 5938, 6268, 6377, 6429, 6497, 6547, 7062,\n",
      "            7114, 7409, 7639, 8061, 8342, 8574, 8733, 9213, 9370, 9585, 9612,\n",
      "            9775, 9836],\n",
      "           dtype='int64') Int64Index([4083, 4095, 4329, 4495], dtype='int64')\n",
      "Int64Index([  54,  203,  527, 1450, 1524, 1731, 2031, 2354, 2606, 3687, 3864,\n",
      "            3938, 4083, 4095, 4329, 4495, 6268, 6377, 6429, 6497, 6547, 7062,\n",
      "            7114, 7409, 7639, 8061, 8342, 8574, 8733, 9213, 9370, 9585, 9612,\n",
      "            9775, 9836],\n",
      "           dtype='int64') Int64Index([4761, 4934, 5909, 5938], dtype='int64')\n",
      "Int64Index([  54,  203,  527, 1450, 1524, 1731, 2031, 2354, 2606, 3687, 3864,\n",
      "            3938, 4083, 4095, 4329, 4495, 4761, 4934, 5909, 5938, 6547, 7062,\n",
      "            7114, 7409, 7639, 8061, 8342, 8574, 8733, 9213, 9370, 9585, 9612,\n",
      "            9775, 9836],\n",
      "           dtype='int64') Int64Index([6268, 6377, 6429, 6497], dtype='int64')\n",
      "Int64Index([  54,  203,  527, 1450, 1524, 1731, 2031, 2354, 2606, 3687, 3864,\n",
      "            3938, 4083, 4095, 4329, 4495, 4761, 4934, 5909, 5938, 6268, 6377,\n",
      "            6429, 6497, 7639, 8061, 8342, 8574, 8733, 9213, 9370, 9585, 9612,\n",
      "            9775, 9836],\n",
      "           dtype='int64') Int64Index([6547, 7062, 7114, 7409], dtype='int64')\n",
      "Int64Index([  54,  203,  527, 1450, 1524, 1731, 2031, 2354, 2606, 3687, 3864,\n",
      "            3938, 4083, 4095, 4329, 4495, 4761, 4934, 5909, 5938, 6268, 6377,\n",
      "            6429, 6497, 6547, 7062, 7114, 7409, 8733, 9213, 9370, 9585, 9612,\n",
      "            9775, 9836],\n",
      "           dtype='int64') Int64Index([7639, 8061, 8342, 8574], dtype='int64')\n",
      "Int64Index([  54,  203,  527, 1450, 1524, 1731, 2031, 2354, 2606, 3687, 3864,\n",
      "            3938, 4083, 4095, 4329, 4495, 4761, 4934, 5909, 5938, 6268, 6377,\n",
      "            6429, 6497, 6547, 7062, 7114, 7409, 7639, 8061, 8342, 8574, 9612,\n",
      "            9775, 9836],\n",
      "           dtype='int64') Int64Index([8733, 9213, 9370, 9585], dtype='int64')\n",
      "Int64Index([  54,  203,  527, 1450, 1524, 1731, 2031, 2354, 2606, 3687, 3864,\n",
      "            3938, 4083, 4095, 4329, 4495, 4761, 4934, 5909, 5938, 6268, 6377,\n",
      "            6429, 6497, 6547, 7062, 7114, 7409, 7639, 8061, 8342, 8574, 8733,\n",
      "            9213, 9370, 9585],\n",
      "           dtype='int64') Int64Index([9612, 9775, 9836], dtype='int64')\n"
     ]
    }
   ],
   "source": [
    "pred = {}\n",
    "sd = {}\n",
    "out = {}\n",
    "n_splits = 10\n",
    "case = 2\n",
    "a = 2\n",
    "cost = 'abs'\n",
    "for appliance in APPLIANCES_ORDER:\n",
    "    pred[appliance] = {f:[] for f in range(10, 110, 10)}\n",
    "\n",
    "kf = KFold(n_splits=n_splits)\n",
    "for train_percentage in range(10, 110, 10):\n",
    "    print train_percentage, \"\\n\"\n",
    "    for train_max, test in kf.split(df):\n",
    "        \n",
    "        num_train = int((train_percentage*len(train_max)/100)+0.5)\n",
    "        train = train_max[:num_train]\n",
    "        \n",
    "        train_ix = df.index[train]\n",
    "        test_ix = df.index[test]\n",
    "        num_test = len(test_ix)\n",
    "        train_test_ix = np.concatenate([test_ix, train_ix])\n",
    "        df_t, dfc_t = df.ix[train_test_ix], dfc.ix[train_test_ix]\n",
    "        tensor = get_tensor(df_t, dfc_t)\n",
    "        tensor_copy = tensor.copy()\n",
    "        # First n\n",
    "        tensor_copy[:num_test, 1:, :] = np.NaN\n",
    "        H, A, T = learn_HAT(case, tensor_copy, a, a, num_iter=2000, lr=0.1, dis=False, cost_function=cost)\n",
    "        HAT = multiply_case(H, A, T, case)\n",
    "        print train_ix, test_ix\n",
    "        for appliance in APPLIANCES_ORDER:\n",
    "            pred[appliance][train_percentage].append(pd.DataFrame(HAT[:num_test, appliance_index[appliance], :], index=test_ix))\n",
    "        "
   ]
  },
  {
   "cell_type": "code",
   "execution_count": 77,
   "metadata": {},
   "outputs": [
    {
     "data": {
      "text/plain": [
       "(array([  54,  203,  527, 1450, 1524, 1731, 2031, 2354, 2606, 3687, 3864,\n",
       "        3938, 4083, 4095, 9612, 9775, 9836]),\n",
       " Int64Index([9612, 9775, 9836], dtype='int64'))"
      ]
     },
     "execution_count": 77,
     "metadata": {},
     "output_type": "execute_result"
    }
   ],
   "source": [
    "np.concatenate([train_ix, test_ix]),test_ix"
   ]
  },
  {
   "cell_type": "code",
   "execution_count": 96,
   "metadata": {},
   "outputs": [
    {
     "data": {
      "text/plain": [
       "54       49.207119\n",
       "1450    164.875168\n",
       "1731    127.731735\n",
       "2354    185.937088\n",
       "2606    151.501984\n",
       "3687    100.780998\n",
       "3864     86.859367\n",
       "3938     16.774599\n",
       "4329    119.323715\n",
       "4495      0.009917\n",
       "4934      7.361383\n",
       "5938      0.011700\n",
       "6377     18.414984\n",
       "6429     25.335335\n",
       "6497    174.453110\n",
       "6547     21.914534\n",
       "7062     20.665335\n",
       "7114     90.961266\n",
       "7639     78.562294\n",
       "8061    200.453964\n",
       "8342     42.101170\n",
       "8574     61.124233\n",
       "8733    125.087700\n",
       "9213     28.434235\n",
       "9370    424.757935\n",
       "9612    228.396637\n",
       "9775     34.910049\n",
       "Name: hvac_5, dtype: float64"
      ]
     },
     "execution_count": 96,
     "metadata": {},
     "output_type": "execute_result"
    }
   ],
   "source": [
    "df['hvac_5'].dropna()"
   ]
  },
  {
   "cell_type": "code",
   "execution_count": 276,
   "metadata": {
    "collapsed": true
   },
   "outputs": [],
   "source": [
    "from common import compute_rmse_fraction"
   ]
  },
  {
   "cell_type": "code",
   "execution_count": 286,
   "metadata": {},
   "outputs": [
    {
     "data": {
      "text/plain": [
       "181"
      ]
     },
     "execution_count": 286,
     "metadata": {},
     "output_type": "execute_result"
    }
   ],
   "source": [
    "len(compute_rmse_fraction('hvac',s[range(4, 10)],'SanDiego')[0])"
   ]
  },
  {
   "cell_type": "code",
   "execution_count": 287,
   "metadata": {},
   "outputs": [
    {
     "data": {
      "text/plain": [
       "181"
      ]
     },
     "execution_count": 287,
     "metadata": {},
     "output_type": "execute_result"
    }
   ],
   "source": [
    "len(compute_rmse('hvac',s[range(4, 10)],'SanDiego')[0])"
   ]
  },
  {
   "cell_type": "code",
   "execution_count": 278,
   "metadata": {},
   "outputs": [],
   "source": [
    "out = {}\n",
    "for appliance in APPLIANCES_ORDER[1:]:\n",
    "    out[appliance] = {}\n",
    "    for f in range(10, 110, 10):\n",
    "        s = pd.concat(pred[appliance][f]).ix[df.index]\n",
    "        if appliance==\"hvac\":\n",
    "                out[appliance][f] = compute_rmse_fraction(appliance,s[range(4, 10)],'SanDiego')[2]\n",
    "        else:   \n",
    "            out[appliance][f] = compute_rmse_fraction(appliance, s,'SanDiego')[2]\n",
    "\n",
    "    "
   ]
  },
  {
   "cell_type": "code",
   "execution_count": 283,
   "metadata": {},
   "outputs": [
    {
     "data": {
      "image/png": "[encoded data removed]",
      "text/plain": [
       "<matplotlib.figure.Figure at 0x11e767050>"
      ]
     },
     "metadata": {},
     "output_type": "display_data"
    }
   ],
   "source": [
    "import seaborn\n",
    "ax = pd.DataFrame(out).plot(subplots=True, figsize=(6, 10),marker='o',xlim=(0, 110))\n",
    "ax[-1].set_xlabel(\"% training\");\n",
    "ax[-1].locator_params(tight=False, nbins=20, axis='x')\n",
    "for a in ax:\n",
    "    a.locator_params(tight=False, nbins=6, axis='y')\n",
    "    yl_start, yl_end  = a.get_ylim()\n",
    "    a.set_ylim((yl_start-1, yl_end+1))\n",
    "    a.set_ylabel(\"RMSE fraction\")\n",
    "plt.savefig(\"../results/sd_error_vs_train_fraction.png\", bbox_inches=\"tight\", dpi=300)"
   ]
  },
  {
   "cell_type": "markdown",
   "metadata": {},
   "source": [
    "### Investigating HVAC \n",
    "\n",
    "\n"
   ]
  },
  {
   "cell_type": "code",
   "execution_count": 250,
   "metadata": {},
   "outputs": [
    {
     "name": "stdout",
     "output_type": "stream",
     "text": [
      "170.939194997\n",
      "613.710255941\n"
     ]
    }
   ],
   "source": [
    "print df.ix[[7062,7114, 7409]][['hvac_%d' %month for month in range(1, 13)]]['hvac_9'].mean()\n",
    "print df.ix[[7062,7114, 7409]]['aggregate_9'].mean()"
   ]
  },
  {
   "cell_type": "code",
   "execution_count": 253,
   "metadata": {},
   "outputs": [
    {
     "name": "stdout",
     "output_type": "stream",
     "text": [
      "226.478356754\n",
      "583.466249354\n"
     ]
    }
   ],
   "source": [
    "print df.ix[[  54,  203,  527, 1450, 2606, 3687, 3864, 3938, 4083, 4095, 4329,\n",
    "            4495, 4761, 4934, 5909, 5938, 6268, 6377, 6429, 6497, 6547, 7062,\n",
    "            7114, 7409]][['hvac_%d' %month for month in range(1, 13)]]['hvac_9'].mean()\n",
    "print df.ix[[  54,  203,  527, 1450, 2606, 3687, 3864, 3938, 4083, 4095, 4329,\n",
    "            4495, 4761, 4934, 5909, 5938, 6268, 6377, 6429, 6497, 6547, 7062,\n",
    "            7114, 7409]]['aggregate_9'].mean()"
   ]
  },
  {
   "cell_type": "code",
   "execution_count": 254,
   "metadata": {},
   "outputs": [
    {
     "name": "stdout",
     "output_type": "stream",
     "text": [
      "238.379605702\n",
      "576.985390799\n"
     ]
    }
   ],
   "source": [
    "print df.ix[[  54,  203,  527, 1450, 2606, 3687, 3864, 3938, 4083, 4095, 4329,\n",
    "            4495, 4761, 4934, 5909, 5938, 6268, 6377, 6429, 6497, 6547]][['hvac_%d' %month for month in range(1, 13)]]['hvac_9'].mean()\n",
    "print df.ix[[  54,  203,  527, 1450, 2606, 3687, 3864, 3938, 4083, 4095, 4329,\n",
    "            4495, 4761, 4934, 5909, 5938, 6268, 6377, 6429, 6497, 6547]]['aggregate_9'].mean()"
   ]
  },
  {
   "cell_type": "code",
   "execution_count": 257,
   "metadata": {},
   "outputs": [
    {
     "data": {
      "text/plain": [
       "(0.41306985612757846, 0.2768729641693811, 0.3876500857632933)"
      ]
     },
     "execution_count": 257,
     "metadata": {},
     "output_type": "execute_result"
    }
   ],
   "source": [
    "238.3/576.9, 170./614, 226./583."
   ]
  },
  {
   "cell_type": "code",
   "execution_count": 261,
   "metadata": {},
   "outputs": [
    {
     "data": {
      "text/plain": [
       "(1056.2111500140263, 765.95885461938815)"
      ]
     },
     "execution_count": 261,
     "metadata": {},
     "output_type": "execute_result"
    }
   ],
   "source": [
    "o_hvac[70]['pred']['hvac_9', 1524], o_hvac[60]['pred']['hvac_9', 1524]"
   ]
  },
  {
   "cell_type": "code",
   "execution_count": 273,
   "metadata": {},
   "outputs": [
    {
     "data": {
      "text/plain": [
       "hvac_1            NaN\n",
       "hvac_2            NaN\n",
       "hvac_3            NaN\n",
       "hvac_4            NaN\n",
       "hvac_5            NaN\n",
       "hvac_6            NaN\n",
       "hvac_7            NaN\n",
       "hvac_8     546.411072\n",
       "hvac_9     545.248230\n",
       "hvac_10    174.709518\n",
       "hvac_11      0.029933\n",
       "hvac_12      0.048017\n",
       "Name: 1524, dtype: float64"
      ]
     },
     "execution_count": 273,
     "metadata": {},
     "output_type": "execute_result"
    }
   ],
   "source": [
    "df.ix[1524][['hvac_%d' %month for month in range(1, 13)]]"
   ]
  },
  {
   "cell_type": "code",
   "execution_count": 275,
   "metadata": {},
   "outputs": [
    {
     "data": {
      "text/plain": [
       "hvac_1       0.022060\n",
       "hvac_2       0.019332\n",
       "hvac_3       0.012495\n",
       "hvac_4       9.331636\n",
       "hvac_5      95.775835\n",
       "hvac_6      48.930568\n",
       "hvac_7     162.271624\n",
       "hvac_8     206.722128\n",
       "hvac_9     253.694275\n",
       "hvac_10     80.929578\n",
       "hvac_11      0.362117\n",
       "hvac_12      0.009587\n",
       "dtype: float64"
      ]
     },
     "execution_count": 275,
     "metadata": {},
     "output_type": "execute_result"
    }
   ],
   "source": [
    "df[['hvac_%d' %month for month in range(1, 13)]].mean()"
   ]
  },
  {
   "cell_type": "code",
   "execution_count": 270,
   "metadata": {},
   "outputs": [
    {
     "data": {
      "text/plain": [
       "hvac_9   1524   -290.252295\n",
       "hvac_8   1524   -281.819718\n",
       "hvac_10  1524   -147.646066\n",
       "hvac_9   4095    -99.291740\n",
       "hvac_7   4095    -85.881662\n",
       "hvac_8   4095    -84.839592\n",
       "hvac_7   6497    -61.248620\n",
       "hvac_9   1450    -59.373165\n",
       "hvac_8   1731    -59.162399\n",
       "hvac_9   1731    -53.489866\n",
       "hvac_8   1450    -45.785454\n",
       "hvac_9   527     -45.084668\n",
       "hvac_7   3687    -44.647574\n",
       "hvac_9   5938    -37.789735\n",
       "hvac_10  1731    -36.526464\n",
       "hvac_8   3687    -35.989307\n",
       "         527     -31.895240\n",
       "hvac_9   6377    -30.920029\n",
       "hvac_5   6497    -29.057456\n",
       "hvac_6   4095    -26.803153\n",
       "dtype: float64"
      ]
     },
     "execution_count": 270,
     "metadata": {},
     "output_type": "execute_result"
    }
   ],
   "source": [
    "d_60 = o_hvac[60]['de']\n",
    "d_70 = o_hvac[70]['de']\n",
    "(d_60-d_70).sort_values().head(20)"
   ]
  },
  {
   "cell_type": "code",
   "execution_count": 240,
   "metadata": {
    "collapsed": true
   },
   "outputs": [],
   "source": [
    "o_hvac = {}\n",
    "appliance='hvac'\n",
    "for f in range(10, 110, 10):\n",
    "    o_hvac[f] = {}\n",
    "    s = pd.concat(pred[appliance][f]).ix[df.index]\n",
    "  \n",
    "    o_hvac[f]['gt'], o_hvac[f]['pred'], o_hvac[f]['rmse'], o_hvac[f]['de'] = compute_rmse(appliance,s[range(4, 10)],'SanDiego')\n",
    "   \n",
    "    "
   ]
  },
  {
   "cell_type": "code",
   "execution_count": 241,
   "metadata": {},
   "outputs": [
    {
     "data": {
      "text/plain": [
       "hvac_9   1524    510.962920\n",
       "hvac_8   1524    416.137639\n",
       "hvac_5   9370    298.773457\n",
       "hvac_10  1524    281.370370\n",
       "hvac_7   9370    269.899178\n",
       "hvac_8   9370    262.509864\n",
       "hvac_9   9370    254.666259\n",
       "         7062    250.265040\n",
       "hvac_8   7062    218.810476\n",
       "hvac_9   4095    204.807630\n",
       "dtype: float64"
      ]
     },
     "execution_count": 241,
     "metadata": {},
     "output_type": "execute_result"
    }
   ],
   "source": [
    "g = o_hvac[70]['de'].dropna()\n",
    "g.sort_values()[::-1].head(10)"
   ]
  },
  {
   "cell_type": "code",
   "execution_count": 242,
   "metadata": {},
   "outputs": [
    {
     "data": {
      "text/plain": [
       "hvac_5   9370    293.654326\n",
       "hvac_7   9370    265.636227\n",
       "hvac_9   7062    251.441520\n",
       "hvac_8   9370    251.257036\n",
       "hvac_9   9370    241.848914\n",
       "         1524    220.710625\n",
       "hvac_8   7062    219.330219\n",
       "hvac_7   7062    197.587906\n",
       "hvac_10  2606    156.581188\n",
       "         8733    148.167044\n",
       "dtype: float64"
      ]
     },
     "execution_count": 242,
     "metadata": {},
     "output_type": "execute_result"
    }
   ],
   "source": [
    "g = o_hvac[60]['de'].dropna()\n",
    "g.sort_values()[::-1].head(10)"
   ]
  },
  {
   "cell_type": "code",
   "execution_count": 208,
   "metadata": {},
   "outputs": [],
   "source": [
    "q = o_hvac[10]['de'].sort_values()[::-1].head(20).index\n"
   ]
  },
  {
   "cell_type": "code",
   "execution_count": 212,
   "metadata": {},
   "outputs": [],
   "source": [
    "w = list(set(q.get_level_values(1)))"
   ]
  },
  {
   "cell_type": "code",
   "execution_count": 216,
   "metadata": {},
   "outputs": [
    {
     "data": {
      "text/html": [
       "<div>\n",
       "<table border=\"1\" class=\"dataframe\">\n",
       "  <thead>\n",
       "    <tr style=\"text-align: right;\">\n",
       "      <th></th>\n",
       "      <th>hvac_1</th>\n",
       "      <th>hvac_2</th>\n",
       "      <th>hvac_3</th>\n",
       "      <th>hvac_4</th>\n",
       "      <th>hvac_5</th>\n",
       "      <th>hvac_6</th>\n",
       "      <th>hvac_7</th>\n",
       "      <th>hvac_8</th>\n",
       "      <th>hvac_9</th>\n",
       "      <th>hvac_10</th>\n",
       "      <th>hvac_11</th>\n",
       "      <th>hvac_12</th>\n",
       "    </tr>\n",
       "  </thead>\n",
       "  <tbody>\n",
       "    <tr>\n",
       "      <th>1731</th>\n",
       "      <td>NaN</td>\n",
       "      <td>0.000000</td>\n",
       "      <td>NaN</td>\n",
       "      <td>22.865316</td>\n",
       "      <td>127.731735</td>\n",
       "      <td>36.700634</td>\n",
       "      <td>289.619293</td>\n",
       "      <td>305.011932</td>\n",
       "      <td>390.342133</td>\n",
       "      <td>85.829231</td>\n",
       "      <td>NaN</td>\n",
       "      <td>0.000000</td>\n",
       "    </tr>\n",
       "    <tr>\n",
       "      <th>1450</th>\n",
       "      <td>0.025967</td>\n",
       "      <td>0.087300</td>\n",
       "      <td>0.029583</td>\n",
       "      <td>2.051800</td>\n",
       "      <td>164.875168</td>\n",
       "      <td>122.322098</td>\n",
       "      <td>296.445068</td>\n",
       "      <td>454.090759</td>\n",
       "      <td>469.634796</td>\n",
       "      <td>232.218460</td>\n",
       "      <td>NaN</td>\n",
       "      <td>NaN</td>\n",
       "    </tr>\n",
       "    <tr>\n",
       "      <th>9775</th>\n",
       "      <td>0.009300</td>\n",
       "      <td>0.005667</td>\n",
       "      <td>0.009600</td>\n",
       "      <td>0.010250</td>\n",
       "      <td>34.910049</td>\n",
       "      <td>0.003683</td>\n",
       "      <td>0.002467</td>\n",
       "      <td>95.954834</td>\n",
       "      <td>203.961411</td>\n",
       "      <td>0.002000</td>\n",
       "      <td>0.002783</td>\n",
       "      <td>0.003100</td>\n",
       "    </tr>\n",
       "    <tr>\n",
       "      <th>1524</th>\n",
       "      <td>NaN</td>\n",
       "      <td>NaN</td>\n",
       "      <td>NaN</td>\n",
       "      <td>NaN</td>\n",
       "      <td>NaN</td>\n",
       "      <td>NaN</td>\n",
       "      <td>NaN</td>\n",
       "      <td>546.411072</td>\n",
       "      <td>545.248230</td>\n",
       "      <td>174.709518</td>\n",
       "      <td>0.029933</td>\n",
       "      <td>0.048017</td>\n",
       "    </tr>\n",
       "    <tr>\n",
       "      <th>7062</th>\n",
       "      <td>NaN</td>\n",
       "      <td>NaN</td>\n",
       "      <td>NaN</td>\n",
       "      <td>31.656116</td>\n",
       "      <td>20.665335</td>\n",
       "      <td>25.018316</td>\n",
       "      <td>16.174034</td>\n",
       "      <td>29.232233</td>\n",
       "      <td>21.188099</td>\n",
       "      <td>27.328350</td>\n",
       "      <td>NaN</td>\n",
       "      <td>NaN</td>\n",
       "    </tr>\n",
       "    <tr>\n",
       "      <th>8733</th>\n",
       "      <td>NaN</td>\n",
       "      <td>NaN</td>\n",
       "      <td>NaN</td>\n",
       "      <td>23.568417</td>\n",
       "      <td>125.087700</td>\n",
       "      <td>17.050917</td>\n",
       "      <td>234.299011</td>\n",
       "      <td>282.283966</td>\n",
       "      <td>325.911987</td>\n",
       "      <td>248.764633</td>\n",
       "      <td>NaN</td>\n",
       "      <td>NaN</td>\n",
       "    </tr>\n",
       "    <tr>\n",
       "      <th>8574</th>\n",
       "      <td>0.056750</td>\n",
       "      <td>0.055483</td>\n",
       "      <td>0.065600</td>\n",
       "      <td>0.059417</td>\n",
       "      <td>61.124233</td>\n",
       "      <td>0.050100</td>\n",
       "      <td>55.605553</td>\n",
       "      <td>105.723518</td>\n",
       "      <td>172.534805</td>\n",
       "      <td>43.805183</td>\n",
       "      <td>0.041517</td>\n",
       "      <td>0.033950</td>\n",
       "    </tr>\n",
       "    <tr>\n",
       "      <th>4095</th>\n",
       "      <td>NaN</td>\n",
       "      <td>NaN</td>\n",
       "      <td>NaN</td>\n",
       "      <td>NaN</td>\n",
       "      <td>NaN</td>\n",
       "      <td>183.728516</td>\n",
       "      <td>324.804688</td>\n",
       "      <td>371.791626</td>\n",
       "      <td>498.784088</td>\n",
       "      <td>NaN</td>\n",
       "      <td>NaN</td>\n",
       "      <td>NaN</td>\n",
       "    </tr>\n",
       "  </tbody>\n",
       "</table>\n",
       "</div>"
      ],
      "text/plain": [
       "        hvac_1    hvac_2    hvac_3     hvac_4      hvac_5      hvac_6  \\\n",
       "1731       NaN  0.000000       NaN  22.865316  127.731735   36.700634   \n",
       "1450  0.025967  0.087300  0.029583   2.051800  164.875168  122.322098   \n",
       "9775  0.009300  0.005667  0.009600   0.010250   34.910049    0.003683   \n",
       "1524       NaN       NaN       NaN        NaN         NaN         NaN   \n",
       "7062       NaN       NaN       NaN  31.656116   20.665335   25.018316   \n",
       "8733       NaN       NaN       NaN  23.568417  125.087700   17.050917   \n",
       "8574  0.056750  0.055483  0.065600   0.059417   61.124233    0.050100   \n",
       "4095       NaN       NaN       NaN        NaN         NaN  183.728516   \n",
       "\n",
       "          hvac_7      hvac_8      hvac_9     hvac_10   hvac_11   hvac_12  \n",
       "1731  289.619293  305.011932  390.342133   85.829231       NaN  0.000000  \n",
       "1450  296.445068  454.090759  469.634796  232.218460       NaN       NaN  \n",
       "9775    0.002467   95.954834  203.961411    0.002000  0.002783  0.003100  \n",
       "1524         NaN  546.411072  545.248230  174.709518  0.029933  0.048017  \n",
       "7062   16.174034   29.232233   21.188099   27.328350       NaN       NaN  \n",
       "8733  234.299011  282.283966  325.911987  248.764633       NaN       NaN  \n",
       "8574   55.605553  105.723518  172.534805   43.805183  0.041517  0.033950  \n",
       "4095  324.804688  371.791626  498.784088         NaN       NaN       NaN  "
      ]
     },
     "execution_count": 216,
     "metadata": {},
     "output_type": "execute_result"
    }
   ],
   "source": [
    "df.ix[w][['hvac_%d' %month for month in range(1, 13)]]"
   ]
  },
  {
   "cell_type": "code",
   "execution_count": 223,
   "metadata": {},
   "outputs": [
    {
     "data": {
      "text/plain": [
       "(962.54871095842998, 546.41107177734375)"
      ]
     },
     "execution_count": 223,
     "metadata": {},
     "output_type": "execute_result"
    }
   ],
   "source": [
    "o_hvac[70]['pred']['hvac_8',1524],o_hvac[70]['gt']['hvac_8',1524]"
   ]
  },
  {
   "cell_type": "code",
   "execution_count": 105,
   "metadata": {},
   "outputs": [
    {
     "data": {
      "text/html": [
       "<div>\n",
       "<table border=\"1\" class=\"dataframe\">\n",
       "  <thead>\n",
       "    <tr style=\"text-align: right;\">\n",
       "      <th></th>\n",
       "      <th>hvac_1</th>\n",
       "      <th>hvac_2</th>\n",
       "      <th>hvac_3</th>\n",
       "      <th>hvac_4</th>\n",
       "      <th>hvac_5</th>\n",
       "      <th>hvac_6</th>\n",
       "      <th>hvac_7</th>\n",
       "      <th>hvac_8</th>\n",
       "      <th>hvac_9</th>\n",
       "      <th>hvac_10</th>\n",
       "      <th>hvac_11</th>\n",
       "      <th>hvac_12</th>\n",
       "    </tr>\n",
       "  </thead>\n",
       "  <tbody>\n",
       "    <tr>\n",
       "      <th>count</th>\n",
       "      <td>10.000000</td>\n",
       "      <td>12.000000</td>\n",
       "      <td>16.000000</td>\n",
       "      <td>22.000000</td>\n",
       "      <td>27.000000</td>\n",
       "      <td>31.000000</td>\n",
       "      <td>33.000000</td>\n",
       "      <td>33.000000</td>\n",
       "      <td>30.000000</td>\n",
       "      <td>27.000000</td>\n",
       "      <td>16.000000</td>\n",
       "      <td>18.000000</td>\n",
       "    </tr>\n",
       "    <tr>\n",
       "      <th>mean</th>\n",
       "      <td>0.022060</td>\n",
       "      <td>0.019332</td>\n",
       "      <td>0.012495</td>\n",
       "      <td>9.331636</td>\n",
       "      <td>95.775835</td>\n",
       "      <td>48.930568</td>\n",
       "      <td>162.271624</td>\n",
       "      <td>206.722128</td>\n",
       "      <td>253.694275</td>\n",
       "      <td>80.929578</td>\n",
       "      <td>0.362117</td>\n",
       "      <td>0.009587</td>\n",
       "    </tr>\n",
       "    <tr>\n",
       "      <th>std</th>\n",
       "      <td>0.022445</td>\n",
       "      <td>0.027874</td>\n",
       "      <td>0.017968</td>\n",
       "      <td>13.668174</td>\n",
       "      <td>94.210673</td>\n",
       "      <td>61.478349</td>\n",
       "      <td>139.246034</td>\n",
       "      <td>169.534333</td>\n",
       "      <td>172.845906</td>\n",
       "      <td>77.042968</td>\n",
       "      <td>0.828227</td>\n",
       "      <td>0.014504</td>\n",
       "    </tr>\n",
       "    <tr>\n",
       "      <th>min</th>\n",
       "      <td>0.000050</td>\n",
       "      <td>0.000000</td>\n",
       "      <td>0.000000</td>\n",
       "      <td>0.000667</td>\n",
       "      <td>0.009917</td>\n",
       "      <td>0.000000</td>\n",
       "      <td>0.002467</td>\n",
       "      <td>0.020883</td>\n",
       "      <td>7.287033</td>\n",
       "      <td>0.001650</td>\n",
       "      <td>0.000000</td>\n",
       "      <td>0.000000</td>\n",
       "    </tr>\n",
       "    <tr>\n",
       "      <th>25%</th>\n",
       "      <td>0.005200</td>\n",
       "      <td>0.000113</td>\n",
       "      <td>0.000100</td>\n",
       "      <td>0.029854</td>\n",
       "      <td>23.624934</td>\n",
       "      <td>0.014633</td>\n",
       "      <td>49.461948</td>\n",
       "      <td>68.257019</td>\n",
       "      <td>121.768452</td>\n",
       "      <td>29.595809</td>\n",
       "      <td>0.000000</td>\n",
       "      <td>0.000000</td>\n",
       "    </tr>\n",
       "    <tr>\n",
       "      <th>50%</th>\n",
       "      <td>0.014917</td>\n",
       "      <td>0.007625</td>\n",
       "      <td>0.003342</td>\n",
       "      <td>1.547417</td>\n",
       "      <td>78.562294</td>\n",
       "      <td>17.050917</td>\n",
       "      <td>125.890953</td>\n",
       "      <td>170.590775</td>\n",
       "      <td>223.139313</td>\n",
       "      <td>53.759014</td>\n",
       "      <td>0.006550</td>\n",
       "      <td>0.001942</td>\n",
       "    </tr>\n",
       "    <tr>\n",
       "      <th>75%</th>\n",
       "      <td>0.033254</td>\n",
       "      <td>0.021750</td>\n",
       "      <td>0.020025</td>\n",
       "      <td>13.215179</td>\n",
       "      <td>139.616859</td>\n",
       "      <td>99.446224</td>\n",
       "      <td>289.619293</td>\n",
       "      <td>325.527496</td>\n",
       "      <td>363.180908</td>\n",
       "      <td>111.318703</td>\n",
       "      <td>0.032829</td>\n",
       "      <td>0.015396</td>\n",
       "    </tr>\n",
       "    <tr>\n",
       "      <th>max</th>\n",
       "      <td>0.060433</td>\n",
       "      <td>0.087300</td>\n",
       "      <td>0.065600</td>\n",
       "      <td>41.394333</td>\n",
       "      <td>424.757935</td>\n",
       "      <td>200.878555</td>\n",
       "      <td>519.166382</td>\n",
       "      <td>577.740662</td>\n",
       "      <td>625.017151</td>\n",
       "      <td>253.608154</td>\n",
       "      <td>2.561283</td>\n",
       "      <td>0.048017</td>\n",
       "    </tr>\n",
       "  </tbody>\n",
       "</table>\n",
       "</div>"
      ],
      "text/plain": [
       "          hvac_1     hvac_2     hvac_3     hvac_4      hvac_5      hvac_6  \\\n",
       "count  10.000000  12.000000  16.000000  22.000000   27.000000   31.000000   \n",
       "mean    0.022060   0.019332   0.012495   9.331636   95.775835   48.930568   \n",
       "std     0.022445   0.027874   0.017968  13.668174   94.210673   61.478349   \n",
       "min     0.000050   0.000000   0.000000   0.000667    0.009917    0.000000   \n",
       "25%     0.005200   0.000113   0.000100   0.029854   23.624934    0.014633   \n",
       "50%     0.014917   0.007625   0.003342   1.547417   78.562294   17.050917   \n",
       "75%     0.033254   0.021750   0.020025  13.215179  139.616859   99.446224   \n",
       "max     0.060433   0.087300   0.065600  41.394333  424.757935  200.878555   \n",
       "\n",
       "           hvac_7      hvac_8      hvac_9     hvac_10    hvac_11    hvac_12  \n",
       "count   33.000000   33.000000   30.000000   27.000000  16.000000  18.000000  \n",
       "mean   162.271624  206.722128  253.694275   80.929578   0.362117   0.009587  \n",
       "std    139.246034  169.534333  172.845906   77.042968   0.828227   0.014504  \n",
       "min      0.002467    0.020883    7.287033    0.001650   0.000000   0.000000  \n",
       "25%     49.461948   68.257019  121.768452   29.595809   0.000000   0.000000  \n",
       "50%    125.890953  170.590775  223.139313   53.759014   0.006550   0.001942  \n",
       "75%    289.619293  325.527496  363.180908  111.318703   0.032829   0.015396  \n",
       "max    519.166382  577.740662  625.017151  253.608154   2.561283   0.048017  "
      ]
     },
     "execution_count": 105,
     "metadata": {},
     "output_type": "execute_result"
    }
   ],
   "source": [
    "df[['hvac_%d' %month for month in range(1, 13)]].describe()"
   ]
  },
  {
   "cell_type": "code",
   "execution_count": 111,
   "metadata": {},
   "outputs": [
    {
     "data": {
      "text/plain": [
       "hvac_1            NaN\n",
       "hvac_2            NaN\n",
       "hvac_3            NaN\n",
       "hvac_4            NaN\n",
       "hvac_5     424.757935\n",
       "hvac_6            NaN\n",
       "hvac_7     519.166382\n",
       "hvac_8     543.011292\n",
       "hvac_9     561.690918\n",
       "hvac_10           NaN\n",
       "hvac_11           NaN\n",
       "hvac_12           NaN\n",
       "Name: 9370, dtype: float64"
      ]
     },
     "execution_count": 111,
     "metadata": {},
     "output_type": "execute_result"
    }
   ],
   "source": [
    "df.ix[9370][['hvac_%d' %month for month in range(1, 13)]]"
   ]
  },
  {
   "cell_type": "code",
   "execution_count": 112,
   "metadata": {},
   "outputs": [
    {
     "data": {
      "text/plain": [
       "aggregate_1             NaN\n",
       "aggregate_2             NaN\n",
       "aggregate_3             NaN\n",
       "aggregate_4      874.489319\n",
       "aggregate_5      968.830872\n",
       "aggregate_6      874.875244\n",
       "aggregate_7     1031.642944\n",
       "aggregate_8     1135.630005\n",
       "aggregate_9     1228.715088\n",
       "aggregate_10            NaN\n",
       "aggregate_11            NaN\n",
       "aggregate_12            NaN\n",
       "Name: 9370, dtype: float64"
      ]
     },
     "execution_count": 112,
     "metadata": {},
     "output_type": "execute_result"
    }
   ],
   "source": [
    "df.ix[9370][['aggregate_%d' %month for month in range(1, 13)]]"
   ]
  },
  {
   "cell_type": "code",
   "execution_count": 145,
   "metadata": {},
   "outputs": [
    {
     "data": {
      "text/plain": [
       "4495    0.009917\n",
       "4934    7.361383\n",
       "5938    0.011700\n",
       "Name: hvac_5, dtype: float64"
      ]
     },
     "execution_count": 145,
     "metadata": {},
     "output_type": "execute_result"
    }
   ],
   "source": [
    "a = df['hvac_5']\n",
    "a[a<10]\n"
   ]
  },
  {
   "cell_type": "code",
   "execution_count": 136,
   "metadata": {
    "collapsed": true
   },
   "outputs": [],
   "source": [
    "st = pd.HDFStore('/Users/nipunbatra/all.h5', mode='r')"
   ]
  },
  {
   "cell_type": "code",
   "execution_count": 222,
   "metadata": {},
   "outputs": [
    {
     "data": {
      "text/plain": [
       "<matplotlib.axes._subplots.AxesSubplot at 0x11f715c90>"
      ]
     },
     "execution_count": 222,
     "metadata": {},
     "output_type": "execute_result"
    },
    {
     "data": {
      "image/png": "[encoded data removed]",
      "text/plain": [
       "<matplotlib.figure.Figure at 0x11f1b4a50>"
      ]
     },
     "metadata": {},
     "output_type": "display_data"
    }
   ],
   "source": [
    "st['/1524']['2014'][['use','air1']].resample('1M').mean().plot()"
   ]
  },
  {
   "cell_type": "code",
   "execution_count": 144,
   "metadata": {},
   "outputs": [
    {
     "data": {
      "text/plain": [
       "<matplotlib.axes._subplots.AxesSubplot at 0x1135a2ad0>"
      ]
     },
     "execution_count": 144,
     "metadata": {},
     "output_type": "execute_result"
    },
    {
     "data": {
      "image/png": "[encoded data removed]",
      "text/plain": [
       "<matplotlib.figure.Figure at 0x1135a2590>"
      ]
     },
     "metadata": {},
     "output_type": "display_data"
    }
   ],
   "source": [
    "st['/5938']['2014'][['use','air1']].plot()"
   ]
  },
  {
   "cell_type": "code",
   "execution_count": 142,
   "metadata": {},
   "outputs": [
    {
     "data": {
      "text/plain": [
       "<matplotlib.axes._subplots.AxesSubplot at 0x113b144d0>"
      ]
     },
     "execution_count": 142,
     "metadata": {},
     "output_type": "execute_result"
    },
    {
     "data": {
      "image/png": "[encoded data removed]",
      "text/plain": [
       "<matplotlib.figure.Figure at 0x114d39e50>"
      ]
     },
     "metadata": {},
     "output_type": "display_data"
    }
   ],
   "source": [
    "st['/8061']['2014'][['use','air1']].plot()"
   ]
  },
  {
   "cell_type": "code",
   "execution_count": 15,
   "metadata": {
    "scrolled": true
   },
   "outputs": [
    {
     "name": "stdout",
     "output_type": "stream",
     "text": [
      "2 50\n"
     ]
    },
    {
     "ename": "NameError",
     "evalue": "name 'case' is not defined",
     "output_type": "error",
     "traceback": [
      "\u001b[0;31m---------------------------------------------------------------------------\u001b[0m",
      "\u001b[0;31mNameError\u001b[0m                                 Traceback (most recent call last)",
      "\u001b[0;32m<ipython-input-15-bc02e00e61d9>\u001b[0m in \u001b[0;36m<module>\u001b[0;34m()\u001b[0m\n\u001b[1;32m     20\u001b[0m         \u001b[0mtensor_copy\u001b[0m \u001b[0;34m=\u001b[0m \u001b[0mtensor\u001b[0m\u001b[0;34m.\u001b[0m\u001b[0mcopy\u001b[0m\u001b[0;34m(\u001b[0m\u001b[0;34m)\u001b[0m\u001b[0;34m\u001b[0m\u001b[0m\n\u001b[1;32m     21\u001b[0m         \u001b[0mtensor_copy\u001b[0m\u001b[0;34m[\u001b[0m\u001b[0mtest\u001b[0m\u001b[0;34m,\u001b[0m \u001b[0;36m1\u001b[0m\u001b[0;34m:\u001b[0m\u001b[0;34m,\u001b[0m \u001b[0;34m:\u001b[0m\u001b[0;34m]\u001b[0m \u001b[0;34m=\u001b[0m \u001b[0mnp\u001b[0m\u001b[0;34m.\u001b[0m\u001b[0mNaN\u001b[0m\u001b[0;34m\u001b[0m\u001b[0m\n\u001b[0;32m---> 22\u001b[0;31m         \u001b[0mH\u001b[0m\u001b[0;34m,\u001b[0m \u001b[0mA\u001b[0m\u001b[0;34m,\u001b[0m \u001b[0mT\u001b[0m \u001b[0;34m=\u001b[0m \u001b[0mlearn_HAT\u001b[0m\u001b[0;34m(\u001b[0m\u001b[0mcase\u001b[0m\u001b[0;34m,\u001b[0m \u001b[0mtensor_copy\u001b[0m\u001b[0;34m,\u001b[0m \u001b[0ma\u001b[0m\u001b[0;34m,\u001b[0m \u001b[0ma\u001b[0m\u001b[0;34m,\u001b[0m \u001b[0mnum_iter\u001b[0m\u001b[0;34m=\u001b[0m\u001b[0;36m2000\u001b[0m\u001b[0;34m,\u001b[0m \u001b[0mlr\u001b[0m\u001b[0;34m=\u001b[0m\u001b[0;36m0.1\u001b[0m\u001b[0;34m,\u001b[0m \u001b[0mdis\u001b[0m\u001b[0;34m=\u001b[0m\u001b[0mFalse\u001b[0m\u001b[0;34m,\u001b[0m \u001b[0mcost_function\u001b[0m\u001b[0;34m=\u001b[0m\u001b[0mcost\u001b[0m\u001b[0;34m)\u001b[0m\u001b[0;34m\u001b[0m\u001b[0m\n\u001b[0m\u001b[1;32m     23\u001b[0m         \u001b[0mHAT\u001b[0m \u001b[0;34m=\u001b[0m \u001b[0mmultiply_case\u001b[0m\u001b[0;34m(\u001b[0m\u001b[0mH\u001b[0m\u001b[0;34m,\u001b[0m \u001b[0mA\u001b[0m\u001b[0;34m,\u001b[0m \u001b[0mT\u001b[0m\u001b[0;34m,\u001b[0m \u001b[0mcase\u001b[0m\u001b[0;34m)\u001b[0m\u001b[0;34m\u001b[0m\u001b[0m\n\u001b[1;32m     24\u001b[0m         \u001b[0;32mfor\u001b[0m \u001b[0mappliance\u001b[0m \u001b[0;32min\u001b[0m \u001b[0mAPPLIANCES_ORDER\u001b[0m\u001b[0;34m:\u001b[0m\u001b[0;34m\u001b[0m\u001b[0m\n",
      "\u001b[0;31mNameError\u001b[0m: name 'case' is not defined"
     ]
    }
   ],
   "source": [
    "for appliance in APPLIANCES_ORDER:\n",
    "    temp = pd.concat(pred[percentage][appliance])\n",
    "   \n",
    "\n",
    "for appliance in APPLIANCES_ORDER[1:]:\n",
    "\n",
    "    if appliance==\"hvac\":\n",
    "        out[percentage][appliance] = compute_rmse(appliance, pred[percentage][appliance][range(4, 10)],'SanDiego')[2]\n",
    "    else:   \n",
    "        out[percentage][appliance] = compute_rmse(appliance, pred[percentage][appliance],'SanDiego')[2]\n",
    "\n",
    "    if n_splits == 2:\n",
    "        continue\n",
    "    \n",
    "    percentage = 100 - percentage\n",
    "    print percentage\n",
    "    pred[percentage] = {}\n",
    "    sd[percentage] = {}\n",
    "    out[percentage] = {}\n",
    "    print out\n",
    "\n",
    "    for train, test in kf.split(df):\n",
    "        train_ix = df.index[train]\n",
    "        test_ix = df.index[test]\n",
    "        tensor_copy = tensor.copy()\n",
    "        tensor_copy[test, 1:, :] = np.NaN\n",
    "        H, A, T = learn_HAT(case, tensor_copy, a, a, num_iter=2000, lr=0.1, dis=False, cost_function=cost)\n",
    "        HAT = multiply_case(H, A, T, case)\n",
    "        for appliance in APPLIANCES_ORDER:\n",
    "            if appliance not in pred[percentage]:\n",
    "                pred[percentage][appliance] = []\n",
    "\n",
    "            pred[percentage][appliance].append(pd.DataFrame(HAT[test, appliance_index[appliance], :], index=test_ix))\n",
    "    \n",
    "    for appliance in APPLIANCES_ORDER:\n",
    "        temp = pd.concat(pred[percentage][appliance])\n",
    "#         assert(len(temp)==len(df)*(n_splits-1))\n",
    "        pred[percentage][appliance] = temp.groupby(temp.index).mean().ix[df.index]\n",
    "        sd[percentage][appliance] = temp.groupby(temp.index).mean().ix[df.index]\n",
    "    \n",
    "   \n",
    "    for appliance in APPLIANCES_ORDER[1:]:\n",
    "        \n",
    "        if appliance==\"hvac\":\n",
    "            out[percentage][appliance] = compute_rmse(appliance, pred[percentage][appliance][range(4, 10)],'SanDiego')[2]\n",
    "        else:   \n",
    "            out[percentage][appliance] = compute_rmse(appliance, pred[percentage][appliance],'SanDiego')[2]"
   ]
  },
  {
   "cell_type": "code",
   "execution_count": 7,
   "metadata": {
    "collapsed": true
   },
   "outputs": [],
   "source": [
    "from plot_functions import *"
   ]
  },
  {
   "cell_type": "code",
   "execution_count": 27,
   "metadata": {},
   "outputs": [
    {
     "data": {
      "text/plain": [
       "Float64Index([         50.0, 33.3333333333,          25.0,          20.0,\n",
       "              16.6666666667, 14.2857142857,          12.5, 11.1111111111,\n",
       "                       10.0, 9.09090909091, 8.33333333333, 7.69230769231,\n",
       "              7.14285714286],\n",
       "             dtype='float64')"
      ]
     },
     "execution_count": 27,
     "metadata": {},
     "output_type": "execute_result"
    }
   ],
   "source": [
    "c.columns[::-1]"
   ]
  },
  {
   "cell_type": "code",
   "execution_count": 58,
   "metadata": {},
   "outputs": [
    {
     "data": {
      "text/plain": [
       "<matplotlib.axes.AxesSubplot at 0x10bdd4b90>"
      ]
     },
     "execution_count": 58,
     "metadata": {},
     "output_type": "execute_result"
    },
    {
     "data": {
      "image/png": "[encoded data removed]",
      "text/plain": [
       "<matplotlib.figure.Figure at 0x10bfca150>"
      ]
     },
     "metadata": {},
     "output_type": "display_data"
    }
   ],
   "source": [
    "pd.DataFrame(out).ix['hvac'][:].plot()"
   ]
  },
  {
   "cell_type": "code",
   "execution_count": 62,
   "metadata": {
    "collapsed": true
   },
   "outputs": [],
   "source": [
    "c = pd.DataFrame(out)\n",
    "# c.columns = [100.0/x for x in c.columns]\n",
    "# c = c[c.columns[::-1]]"
   ]
  },
  {
   "cell_type": "code",
   "execution_count": 65,
   "metadata": {},
   "outputs": [
    {
     "data": {
      "text/plain": [
       "<matplotlib.text.Text at 0x10ba2afd0>"
      ]
     },
     "execution_count": 65,
     "metadata": {},
     "output_type": "execute_result"
    },
    {
     "data": {
      "image/png": "[encoded data removed]",
      "text/plain": [
       "<matplotlib.figure.Figure at 0x10c0de1d0>"
      ]
     },
     "metadata": {},
     "output_type": "display_data"
    }
   ],
   "source": [
    "ax = c.T.plot(marker='.')\n",
    "ax.set_xlabel(\"% training\")\n",
    "ax.set_ylabel(\"RMSE\")\n",
    "ax.set_title(\"Without outliers\")"
   ]
  },
  {
   "cell_type": "code",
   "execution_count": 64,
   "metadata": {},
   "outputs": [
    {
     "name": "stdout",
     "output_type": "stream",
     "text": [
      "0 hvac\n",
      "1 fridge\n",
      "2 mw\n",
      "3 dw\n",
      "4 wm\n",
      "5 oven\n"
     ]
    },
    {
     "data": {
      "image/png": "[encoded data removed]",
      "text/plain": [
       "<matplotlib.figure.Figure at 0x10d85a550>"
      ]
     },
     "metadata": {},
     "output_type": "display_data"
    }
   ],
   "source": [
    "fig, ax = plt.subplots(nrows=6, figsize=(6, 10), sharex=True)\n",
    "for i, appliance in enumerate(APPLIANCES_ORDER[1:]):\n",
    "    print i, appliance\n",
    "    c.T[appliance].plot(ax=ax[i], color='k', marker='.',  logx=False)\n",
    "    format_axes(ax[i])\n",
    "    ax[i].set_ylabel(appliance)\n",
    "    ax[i].locator_params(tight=True, nbins=4, axis='y')\n",
    "ax[-1].set_xlabel(\"% training\");\n",
    "ax[-1].locator_params(tight=True, nbins=10, axis='x')"
   ]
  },
  {
   "cell_type": "code",
   "execution_count": 31,
   "metadata": {},
   "outputs": [
    {
     "data": {
      "text/plain": [
       "<matplotlib.axes.AxesSubplot at 0x10b43e410>"
      ]
     },
     "execution_count": 31,
     "metadata": {},
     "output_type": "execute_result"
    },
    {
     "data": {
      "image/png": "[encoded data removed]",
      "text/plain": [
       "<matplotlib.figure.Figure at 0x10d3e0f50>"
      ]
     },
     "metadata": {},
     "output_type": "display_data"
    }
   ],
   "source": [
    "pd.DataFrame(out).ix['hvac'].plot(kind='bar',rot=0)\n"
   ]
  },
  {
   "cell_type": "code",
   "execution_count": 32,
   "metadata": {
    "collapsed": true
   },
   "outputs": [],
   "source": [
    "from common import compute_rmse_fraction, compute_rmse"
   ]
  },
  {
   "cell_type": "code",
   "execution_count": 33,
   "metadata": {},
   "outputs": [
    {
     "data": {
      "text/plain": [
       "hvac_9  527     343.676079\n",
       "hvac_8  1524    325.023546\n",
       "hvac_9  1524    315.281314\n",
       "hvac_8  527     307.109401\n",
       "hvac_9  9370    270.597042\n",
       "hvac_8  9370    263.785679\n",
       "hvac_7  9370    256.619547\n",
       "hvac_9  2606    247.074447\n",
       "hvac_5  9370    239.251467\n",
       "hvac_9  4095    232.697338\n",
       "dtype: float64"
      ]
     },
     "execution_count": 33,
     "metadata": {},
     "output_type": "execute_result"
    }
   ],
   "source": [
    "appliance='hvac'\n",
    "gtf, pf, rms, f = compute_rmse(appliance, pred[n_splits][appliance][range(4, 10)],'SanDiego')\n",
    "f[f>np.percentile(f, 90)].sort_values()[::-1].head(10)"
   ]
  },
  {
   "cell_type": "code",
   "execution_count": 34,
   "metadata": {
    "collapsed": true
   },
   "outputs": [],
   "source": [
    "def analysis(appliance, home, month):\n",
    "    analysis_ser = pd.Series([gtf.ix['%s_%d' %(appliance, month),home],\n",
    "                             pf.ix['%s_%d' %(appliance, month),home],\n",
    "                             df.loc[home,'%s_%d' %(\"aggregate\",month)]])\n",
    "    analysis_ser.index = ['Appliance GT % of agg','Appliance Pred % of agg', 'GT (aggregate) [kWh]']\n",
    "    return analysis_ser"
   ]
  },
  {
   "cell_type": "code",
   "execution_count": 35,
   "metadata": {},
   "outputs": [
    {
     "data": {
      "text/plain": [
       "Appliance GT % of agg       577.740662\n",
       "Appliance Pred % of agg     270.631260\n",
       "GT (aggregate) [kWh]       1157.161133\n",
       "dtype: float64"
      ]
     },
     "execution_count": 35,
     "metadata": {},
     "output_type": "execute_result"
    }
   ],
   "source": [
    "analysis('hvac', 527, 8)"
   ]
  },
  {
   "cell_type": "code",
   "execution_count": 36,
   "metadata": {
    "collapsed": true
   },
   "outputs": [],
   "source": [
    "from plot_functions import *\n",
    "def plot_appliances_aggregate(home, appliances=['hvac']):\n",
    "    temp = {} \n",
    "    temp['aggregate'] = df.ix[home][['aggregate_%d' %month for month in range(1, 13)]].values\n",
    "    for appliance in appliances:\n",
    "        temp[appliance] = df.ix[home][['%s_%d' %(appliance, month) for month in range(1, 13)]].values\n",
    "    temp_df = pd.DataFrame(temp, index=range(1, 13))\n",
    "    temp_df.plot(color=tableau20blind[::2])\n",
    "    format_axes(plt.gca())\n",
    "    plt.xlabel(\"Month of year\")\n",
    "    plt.ylabel(\"Energy (kWh)\")"
   ]
  },
  {
   "cell_type": "code",
   "execution_count": 37,
   "metadata": {},
   "outputs": [
    {
     "data": {
      "image/png": "[encoded data removed]",
      "text/plain": [
       "<matplotlib.figure.Figure at 0x10bcf3490>"
      ]
     },
     "metadata": {},
     "output_type": "display_data"
    }
   ],
   "source": [
    "plot_appliances_aggregate(527)"
   ]
  },
  {
   "cell_type": "code",
   "execution_count": 38,
   "metadata": {},
   "outputs": [
    {
     "data": {
      "text/plain": [
       "<matplotlib.axes.AxesSubplot at 0x10cdef950>"
      ]
     },
     "execution_count": 38,
     "metadata": {},
     "output_type": "execute_result"
    },
    {
     "data": {
      "image/png": "[encoded data removed]",
      "text/plain": [
       "<matplotlib.figure.Figure at 0x10cbc6310>"
      ]
     },
     "metadata": {},
     "output_type": "display_data"
    }
   ],
   "source": [
    "pd.DataFrame(T).plot()"
   ]
  },
  {
   "cell_type": "code",
   "execution_count": 39,
   "metadata": {},
   "outputs": [
    {
     "data": {
      "text/plain": [
       "2     {u'hvac': 93.1361714301, u'wm': 3.71508807142,...\n",
       "3     {u'hvac': 95.5125426166, u'wm': 2.92966579448,...\n",
       "4     {u'hvac': 108.13981787, u'wm': 3.03958880383, ...\n",
       "5     {u'hvac': 101.307209186, u'wm': 2.97143922342,...\n",
       "6     {u'hvac': 94.449082902, u'wm': 2.89436931456, ...\n",
       "7     {u'hvac': 90.5011179737, u'wm': 2.66408894617,...\n",
       "8     {u'hvac': 92.056948, u'wm': 4.03260281686, u'f...\n",
       "9     {u'hvac': 84.6216941206, u'wm': 5.36455143841,...\n",
       "10    {u'hvac': 85.891927041, u'wm': 3.85769501997, ...\n",
       "11    {u'hvac': 82.6136713464, u'wm': 4.70534850681,...\n",
       "12    {u'hvac': 86.8208639193, u'wm': 5.35925088581,...\n",
       "13    {u'hvac': 84.9162079474, u'wm': 6.34317019694,...\n",
       "14    {u'hvac': 84.5594334456, u'wm': 5.98048654547,...\n",
       "15    {u'hvac': 85.0504154033, u'wm': 6.66033268895,...\n",
       "16    {u'hvac': 86.6409422115, u'wm': 7.15776199163,...\n",
       "17    {u'hvac': 88.3894004223, u'wm': 7.46966745083,...\n",
       "18    {u'hvac': 91.2092049495, u'wm': 7.72867852123,...\n",
       "19    {u'hvac': 89.3004651898, u'wm': 7.56415007069,...\n",
       "20    {u'hvac': 94.3511323884, u'wm': 7.35900553394,...\n",
       "21    {u'hvac': 95.6453220791, u'wm': 7.69401727721,...\n",
       "22    {u'hvac': 93.9806543809, u'wm': 8.11604070471,...\n",
       "23    {u'hvac': 94.5290841991, u'wm': 7.83584478834,...\n",
       "24    {u'hvac': 96.888587329, u'wm': 8.08532189308, ...\n",
       "25    {u'hvac': 97.0898604388, u'wm': 8.29615477788,...\n",
       "26    {u'hvac': 96.6822765175, u'wm': 8.60987376322,...\n",
       "27    {u'hvac': 98.016364957, u'wm': 8.94816483342, ...\n",
       "28    {u'hvac': 98.3323367775, u'wm': 9.20665760648,...\n",
       "29    {u'hvac': 100.61572633, u'wm': 9.21168759305, ...\n",
       "30    {u'hvac': 102.865603871, u'wm': 9.34498577716,...\n",
       "31    {u'hvac': 104.097660845, u'wm': 9.5904702468, ...\n",
       "32    {u'hvac': 105.787289337, u'wm': 9.73189447188,...\n",
       "33    {u'hvac': 106.726375013, u'wm': 9.938885268, u...\n",
       "34    {u'hvac': 106.981166764, u'wm': 10.0716597361,...\n",
       "35    {u'hvac': 106.00969527, u'wm': 10.1147147102, ...\n",
       "36    {u'hvac': 106.953924143, u'wm': 9.84280779162,...\n",
       "37    {u'hvac': 104.577466995, u'wm': 9.87357375377,...\n",
       "38    {u'hvac': 102.774536306, u'wm': 9.97743728899,...\n",
       "dtype: object"
      ]
     },
     "execution_count": 39,
     "metadata": {},
     "output_type": "execute_result"
    }
   ],
   "source": [
    "pd.Series(out)"
   ]
  },
  {
   "cell_type": "code",
   "execution_count": 40,
   "metadata": {},
   "outputs": [
    {
     "ename": "KeyError",
     "evalue": "'hvac'",
     "output_type": "error",
     "traceback": [
      "\u001b[0;31m---------------------------------------------------------------------------\u001b[0m",
      "\u001b[0;31mKeyError\u001b[0m                                  Traceback (most recent call last)",
      "\u001b[0;32m<ipython-input-40-23e6840b31c4>\u001b[0m in \u001b[0;36m<module>\u001b[0;34m()\u001b[0m\n\u001b[0;32m----> 1\u001b[0;31m \u001b[0mpred\u001b[0m\u001b[0;34m[\u001b[0m\u001b[0;34m'hvac'\u001b[0m\u001b[0;34m]\u001b[0m\u001b[0;34m.\u001b[0m\u001b[0mdescribe\u001b[0m\u001b[0;34m(\u001b[0m\u001b[0;34m)\u001b[0m\u001b[0;34m\u001b[0m\u001b[0m\n\u001b[0m",
      "\u001b[0;31mKeyError\u001b[0m: 'hvac'"
     ]
    }
   ],
   "source": [
    "pred['hvac'].describe()"
   ]
  },
  {
   "cell_type": "code",
   "execution_count": null,
   "metadata": {
    "collapsed": true
   },
   "outputs": [],
   "source": []
  }
 ],
 "metadata": {
  "kernelspec": {
   "display_name": "Python 2",
   "language": "python",
   "name": "python2"
  },
  "language_info": {
   "codemirror_mode": {
    "name": "ipython",
    "version": 2
   },
   "file_extension": ".py",
   "mimetype": "text/x-python",
   "name": "python",
   "nbconvert_exporter": "python",
   "pygments_lexer": "ipython2",
   "version": "2.7.11"
  }
 },
 "nbformat": 4,
 "nbformat_minor": 2
}
