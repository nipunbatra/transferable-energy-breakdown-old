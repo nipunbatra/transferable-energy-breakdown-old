{
 "cells": [
  {
   "cell_type": "code",
   "execution_count": 2,
   "metadata": {
    "collapsed": true
   },
   "outputs": [],
   "source": [
    "import numpy as np\n",
    "import pandas as pd"
   ]
  },
  {
   "cell_type": "code",
   "execution_count": 3,
   "metadata": {
    "collapsed": true
   },
   "outputs": [],
   "source": [
    "from __future__ import print_function\n",
    "import matplotlib.pyplot as plt\n",
    "%matplotlib inline\n",
    "from plot_functions import *\n",
    "from sklearn.model_selection import KFold"
   ]
  },
  {
   "cell_type": "code",
   "execution_count": 4,
   "metadata": {
    "collapsed": true
   },
   "outputs": [],
   "source": [
    "from create_matrix import *\n",
    "\n",
    "from tensor_custom_core import *\n",
    "from create_matrix import *\n",
    "from tensor_custom_core import *\n",
    "from degree_days import dds\n",
    "appliance_index = {appliance: APPLIANCES_ORDER.index(appliance) for appliance in APPLIANCES_ORDER}\n",
    "\n",
    "APPLIANCES = ['fridge', 'hvac', 'wm', 'mw', 'oven', 'dw']\n",
    "region = \"SanDiego\"\n",
    "year = 2014\n",
    "\n",
    "import os\n",
    "\n",
    "\n",
    "def un_normalize(x, maximum, minimum):\n",
    "    return (maximum - minimum) * x + minimum"
   ]
  },
  {
   "cell_type": "code",
   "execution_count": 5,
   "metadata": {
    "collapsed": true
   },
   "outputs": [],
   "source": [
    "n_splits = 10\n",
    "import sys\n",
    "case=2\n",
    "a=2\n",
    "cost='abs'"
   ]
  },
  {
   "cell_type": "code",
   "execution_count": 6,
   "metadata": {
    "collapsed": true
   },
   "outputs": [],
   "source": [
    "def get_tensor(df, dfc):\n",
    "    start, stop = 1, 13\n",
    "    energy_cols = np.array(\n",
    "        [['%s_%d' % (appliance, month) for month in range(start, stop)] for appliance in APPLIANCES_ORDER]).flatten()\n",
    "\n",
    "    static_cols = ['area', 'total_occupants', 'num_rooms']\n",
    "    static_df = df[static_cols]\n",
    "    static_df = static_df.div(static_df.max())\n",
    "    weather_values = np.array(dds[2014][region][start - 1:stop - 1]).reshape(-1, 1)\n",
    "\n",
    "    dfc = df.copy()\n",
    "\n",
    "    df = dfc[energy_cols]\n",
    "    col_max = df.max().max()\n",
    "    col_min = df.min().min()\n",
    "    # df = (1.0 * (df - col_min)) / (col_max - col_min)\n",
    "    tensor = df.values.reshape((len(df), 7, stop - start))\n",
    "    M, N, O = tensor.shape\n",
    "    return tensor"
   ]
  },
  {
   "cell_type": "code",
   "execution_count": 7,
   "metadata": {
    "collapsed": true
   },
   "outputs": [],
   "source": [
    "df, dfc = create_matrix_single_region(\"SanDiego\", year)\n",
    "tensor = get_tensor(df, dfc)\n",
    "au_df, au_dfc = create_matrix_single_region(\"Austin\", year)\n",
    "au_tensor = get_tensor(au_df, au_dfc)"
   ]
  },
  {
   "cell_type": "code",
   "execution_count": 8,
   "metadata": {
    "collapsed": true
   },
   "outputs": [],
   "source": [
    "from sklearn.model_selection import train_test_split, KFold"
   ]
  },
  {
   "cell_type": "code",
   "execution_count": 9,
   "metadata": {
    "collapsed": true
   },
   "outputs": [],
   "source": [
    "n_splits = 10\n"
   ]
  },
  {
   "cell_type": "code",
   "execution_count": 10,
   "metadata": {
    "collapsed": true
   },
   "outputs": [],
   "source": [
    "from common import compute_rmse"
   ]
  },
  {
   "cell_type": "code",
   "execution_count": 11,
   "metadata": {
    "collapsed": false,
    "scrolled": true
   },
   "outputs": [
    {
     "name": "stdout",
     "output_type": "stream",
     "text": [
      "1 0 0.1\n",
      "1 0 1\n",
      "1 0 10\n",
      "1 1 0.1\n",
      "1 1 1\n",
      "1 1 10\n",
      "1 2 0.1\n",
      "1 2 1\n",
      "1 2 10\n",
      "1 3 0.1\n",
      "1 3 1\n",
      "1 3 10\n",
      "1 4 0.1\n",
      "1 4 1\n",
      "1 4 10\n",
      "5 0 0.1\n",
      "5 0 1\n",
      "5 0 10\n",
      "5 1 0.1\n",
      "5 1 1\n",
      "5 1 10\n",
      "5 2 0.1\n",
      "5 2 1\n",
      "5 2 10\n",
      "5 3 0.1\n",
      "5 3 1\n",
      "5 3 10\n",
      "5 4 0.1\n",
      "5 4 1\n",
      "5 4 10\n",
      "10 0 0.1\n",
      "10 0 1\n",
      "10 0 10\n",
      "10 1 0.1\n",
      "10 1 1\n",
      "10 1 10\n",
      "10 2 0.1\n",
      "10 2 1\n",
      "10 2 10\n",
      "10 3 0.1\n",
      "10 3 1\n",
      "10 3 10\n",
      "10 4 0.1\n",
      "10 4 1\n",
      "10 4 10\n",
      "20 0 0.1\n",
      "20 0 1\n",
      "20 0 10\n",
      "20 1 0.1\n",
      "20 1 1\n",
      "20 1 10\n",
      "20 2 0.1\n",
      "20 2 1\n",
      "20 2 10\n",
      "20 3 0.1\n",
      "20 3 1\n",
      "20 3 10\n",
      "20 4 0.1\n",
      "20 4 1\n",
      "20 4 10\n"
     ]
    }
   ],
   "source": [
    "out = {}\n",
    "for scale in [1, 5, 10, 20]:\n",
    "    out[scale] = {}\n",
    "    for random_seed in range(5):\n",
    "        \n",
    "        out[scale][random_seed] = {}\n",
    "        for c in [0.1, 1, 10]:\n",
    "            out[scale][random_seed][c] = {}\n",
    "            print (scale, random_seed, c)\n",
    "            tensor_copy = tensor.copy()\n",
    "            ################# PLEASE SEE THE LINE BELOW- CHANGED FROM learn_HAT to learn_HAT_random_normal #######\n",
    "            H, A, T, Hs, As, Ts, HATs, costs = learn_HAT_random_normal(case, tensor_copy, a, 2, num_iter=12000, lr=0.1, dis=False, cost_function=cost, T_known=c*np.ones(12).reshape(-1, 1), random_seed=random_seed, scale_random=scale)\n",
    "            out[scale][random_seed][c] = {'Hs':Hs, 'As':As, 'Ts':Ts, 'HATs':HATs, 'costs':costs}"
   ]
  },
  {
   "cell_type": "code",
   "execution_count": null,
   "metadata": {
    "collapsed": true
   },
   "outputs": [],
   "source": [
    "out[]"
   ]
  },
  {
   "cell_type": "code",
   "execution_count": 12,
   "metadata": {
    "collapsed": true
   },
   "outputs": [],
   "source": [
    "from plot_functions import *"
   ]
  },
  {
   "cell_type": "code",
   "execution_count": 35,
   "metadata": {
    "collapsed": false
   },
   "outputs": [
    {
     "data": {
      "image/png": "[encoded data removed]",
      "text/plain": [
       "<matplotlib.figure.Figure at 0x7fbab5689710>"
      ]
     },
     "metadata": {},
     "output_type": "display_data"
    }
   ],
   "source": [
    "fig, axes = plt.subplots(nrows=1, ncols=4, figsize=(20,5))\n",
    "ax = axes.flatten()\n",
    "random_seed=0\n",
    "c=10\n",
    "step=400\n",
    "scale=20\n",
    "count=0\n",
    "# fig, ax  =plt.subplots()\n",
    "for scale in [1, 5, 10, 20]:\n",
    "    for c in [0.1, 1, 10]:\n",
    "        tdf = pd.DataFrame({c:out[scale][random_seed][c]['costs'][::step]}, index=range(len(out[scale][0][c]['costs']))[::step])\n",
    "        tdf.plot(logy=True, ax=ax[count])\n",
    "        \n",
    "    ax[count].set_ylim([0, 18000])\n",
    "    ax[count].legend(title='constant constrain c')\n",
    "\n",
    "    ax[count].set_xlabel(\"Iterations\")\n",
    "    ax[count].set_ylabel(\"Cost\")\n",
    "    ax[count].set_title(\"Initialization STDEV \" + str(scale))\n",
    "\n",
    "#         plt.xlim((-10, 12300))\n",
    "#         plt.ylim((0, 18000))\n",
    "#         plt.legend(title='Initialisation STDEV')\n",
    "#         format_axes(ax[count])\n",
    "#         plt.xlabel(\"Iterations\")\n",
    "#         plt.ylabel(\"Cost\")\n",
    "    count+=1"
   ]
  },
  {
   "cell_type": "code",
   "execution_count": 14,
   "metadata": {
    "collapsed": false
   },
   "outputs": [
    {
     "data": {
      "image/png": "[encoded data removed]",
      "text/plain": [
       "<matplotlib.figure.Figure at 0x7fbab5ae2a50>"
      ]
     },
     "metadata": {},
     "output_type": "display_data"
    }
   ],
   "source": [
    "random_seed=0\n",
    "c=10\n",
    "step=400\n",
    "fig, ax  =plt.subplots()\n",
    "for scale in [1, 5, 10, 20]:\n",
    "#     for c in [0.1, 1, 10]:\n",
    "    tdf = pd.DataFrame({scale:out[scale][random_seed][c]['costs'][::step]}, index=range(len(out[scale][0][c]['costs']))[::step])\n",
    "    tdf.plot(logy=True, ax=ax)\n",
    "    plt.xlim((-10, 12300))\n",
    "    plt.legend(title='Initialisation STDEV')\n",
    "    format_axes(ax)\n",
    "    plt.xlabel(\"Iterations\")\n",
    "    plt.ylabel(\"Cost\")"
   ]
  },
  {
   "cell_type": "code",
   "execution_count": 79,
   "metadata": {
    "collapsed": false
   },
   "outputs": [
    {
     "data": {
      "text/plain": [
       "<matplotlib.axes._subplots.AxesSubplot at 0x11ad1dc50>"
      ]
     },
     "execution_count": 79,
     "metadata": {},
     "output_type": "execute_result"
    },
    {
     "data": {
      "image/png": "[encoded data removed]",
      "text/plain": [
       "<matplotlib.figure.Figure at 0x11ad4c710>"
      ]
     },
     "metadata": {},
     "output_type": "display_data"
    }
   ],
   "source": [
    "random_seed=0\n",
    "step=400\n",
    "fig, ax  =plt.subplots()\n",
    "c = {}\n",
    "for scale in [1, 5, 10, 20]:\n",
    "\n",
    "    c[scale] = out[scale][0]['costs'][12000]\n",
    "pd.Series(c).plot(kind='bar')"
   ]
  }
 ],
 "metadata": {
  "kernelspec": {
   "display_name": "Python 2",
   "language": "python",
   "name": "python2"
  },
  "language_info": {
   "codemirror_mode": {
    "name": "ipython",
    "version": 2
   },
   "file_extension": ".py",
   "mimetype": "text/x-python",
   "name": "python",
   "nbconvert_exporter": "python",
   "pygments_lexer": "ipython2",
   "version": "2.7.13"
  }
 },
 "nbformat": 4,
 "nbformat_minor": 2
}
