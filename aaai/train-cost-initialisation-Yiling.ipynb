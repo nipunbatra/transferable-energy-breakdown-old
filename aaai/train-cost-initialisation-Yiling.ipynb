{
 "cells": [
  {
   "cell_type": "code",
   "execution_count": 2,
   "metadata": {
    "collapsed": true
   },
   "outputs": [],
   "source": [
    "import numpy as np\n",
    "import pandas as pd"
   ]
  },
  {
   "cell_type": "code",
   "execution_count": 3,
   "metadata": {
    "collapsed": true
   },
   "outputs": [],
   "source": [
    "from __future__ import print_function\n",
    "import matplotlib.pyplot as plt\n",
    "%matplotlib inline\n",
    "from plot_functions import *\n",
    "from sklearn.model_selection import KFold"
   ]
  },
  {
   "cell_type": "code",
   "execution_count": 4,
   "metadata": {
    "collapsed": true
   },
   "outputs": [],
   "source": [
    "from create_matrix import *\n",
    "\n",
    "from tensor_custom_core import *\n",
    "from create_matrix import *\n",
    "from tensor_custom_core import *\n",
    "from degree_days import dds\n",
    "appliance_index = {appliance: APPLIANCES_ORDER.index(appliance) for appliance in APPLIANCES_ORDER}\n",
    "\n",
    "APPLIANCES = ['fridge', 'hvac', 'wm', 'mw', 'oven', 'dw']\n",
    "region = \"SanDiego\"\n",
    "year = 2014\n",
    "\n",
    "import os\n",
    "\n",
    "\n",
    "def un_normalize(x, maximum, minimum):\n",
    "    return (maximum - minimum) * x + minimum"
   ]
  },
  {
   "cell_type": "code",
   "execution_count": 5,
   "metadata": {
    "collapsed": true
   },
   "outputs": [],
   "source": [
    "n_splits = 10\n",
    "import sys\n",
    "case=2\n",
    "a=2\n",
    "cost='abs'"
   ]
  },
  {
   "cell_type": "code",
   "execution_count": 6,
   "metadata": {
    "collapsed": true
   },
   "outputs": [],
   "source": [
    "def get_tensor(df, dfc):\n",
    "    start, stop = 1, 13\n",
    "    energy_cols = np.array(\n",
    "        [['%s_%d' % (appliance, month) for month in range(start, stop)] for appliance in APPLIANCES_ORDER]).flatten()\n",
    "\n",
    "    static_cols = ['area', 'total_occupants', 'num_rooms']\n",
    "    static_df = df[static_cols]\n",
    "    static_df = static_df.div(static_df.max())\n",
    "    weather_values = np.array(dds[2014][region][start - 1:stop - 1]).reshape(-1, 1)\n",
    "\n",
    "    dfc = df.copy()\n",
    "\n",
    "    df = dfc[energy_cols]\n",
    "    col_max = df.max().max()\n",
    "    col_min = df.min().min()\n",
    "    # df = (1.0 * (df - col_min)) / (col_max - col_min)\n",
    "    tensor = df.values.reshape((len(df), 7, stop - start))\n",
    "    M, N, O = tensor.shape\n",
    "    return tensor"
   ]
  },
  {
   "cell_type": "code",
   "execution_count": 7,
   "metadata": {
    "collapsed": true
   },
   "outputs": [],
   "source": [
    "df, dfc = create_matrix_single_region(\"SanDiego\", year)\n",
    "tensor = get_tensor(df, dfc)\n",
    "au_df, au_dfc = create_matrix_single_region(\"Austin\", year)\n",
    "au_tensor = get_tensor(au_df, au_dfc)"
   ]
  },
  {
   "cell_type": "code",
   "execution_count": 8,
   "metadata": {
    "collapsed": true
   },
   "outputs": [],
   "source": [
    "from sklearn.model_selection import train_test_split, KFold"
   ]
  },
  {
   "cell_type": "code",
   "execution_count": 9,
   "metadata": {
    "collapsed": true
   },
   "outputs": [],
   "source": [
    "n_splits = 10\n"
   ]
  },
  {
   "cell_type": "code",
   "execution_count": 10,
   "metadata": {
    "collapsed": true
   },
   "outputs": [],
   "source": [
    "from common import compute_rmse"
   ]
  },
  {
   "cell_type": "code",
   "execution_count": 11,
   "metadata": {
    "collapsed": false
   },
   "outputs": [],
   "source": [
    "def learn_HAT_random_normal_check(case, E_np_masked, a, b, num_iter=2000, lr=0.1, dis=False, cost_function='abs', H_known=None,\n",
    "          A_known=None, T_known=None, random_seed=0, random_mul_constant=1,\n",
    "              random_add_constant=0):\n",
    "    np.random.seed(random_seed)\n",
    "    if cost_function == 'abs':\n",
    "        cost = cost_abs\n",
    "    else:\n",
    "        cost = cost_rel\n",
    "    mg = multigrad(cost, argnums=[0, 1, 2])\n",
    "\n",
    "    params = {}\n",
    "    params['M'], params['N'], params['O'] = E_np_masked.shape\n",
    "    params['a'] = a\n",
    "    params['b'] = b\n",
    "    H_dim_chars = list(cases[case]['HA'].split(\",\")[0].strip())\n",
    "    H_dim = tuple(params[x] for x in H_dim_chars)\n",
    "    A_dim_chars = list(cases[case]['HA'].split(\",\")[1].split(\"-\")[0].strip())\n",
    "    A_dim = tuple(params[x] for x in A_dim_chars)\n",
    "    T_dim_chars = list(cases[case]['HAT'].split(\",\")[1].split(\"-\")[0].strip())\n",
    "    T_dim = tuple(params[x] for x in T_dim_chars)\n",
    "    H = np.random.rand(*H_dim)*random_mul_constant+random_add_constant\n",
    "\n",
    "    A = np.random.rand(*A_dim)*random_mul_constant+random_add_constant\n",
    "    T = np.random.rand(*T_dim)*random_mul_constant+random_add_constant\n",
    "#     print (T)\n",
    "\n",
    "    Hs =[H.copy()]\n",
    "    As= [A.copy()]\n",
    "    Ts = [T.copy()]\n",
    "    costs = [cost_abs(H, A, T, E_np_masked, 2)]\n",
    "    HATs =[multiply_case(H, A, T, 2)]\n",
    "    # GD procedure\n",
    "    for i in range(num_iter):\n",
    "        del_h, del_a, del_t = mg(H, A, T, E_np_masked, case)\n",
    "        H -= lr * del_h\n",
    "        A -= lr * del_a\n",
    "        T -= lr * del_t\n",
    "#         print (\"del_t: \", del_t)\n",
    "        # Projection to known values\n",
    "        if H_known is not None:\n",
    "            H = set_known(H, H_known)\n",
    "        if A_known is not None:\n",
    "            A = set_known(A, A_known)\n",
    "        if T_known is not None:\n",
    "            T = set_known(T, T_known)\n",
    "        # Projection to non-negative space\n",
    "        H[H < 0] = 0\n",
    "        A[A < 0] = 0\n",
    "        T[T < 0] = 0\n",
    "#         print (T)\n",
    "        As.append(A.copy())\n",
    "        Ts.append(T.copy())\n",
    "        Hs.append(H.copy())\n",
    "#         print (Ts)\n",
    "        costs.append(cost_abs(H, A, T, E_np_masked, 2))\n",
    "        HATs.append(multiply_case(H, A, T, 2))\n",
    "        if i % 500 == 0:\n",
    "            if dis:\n",
    "                print(cost(H, A, T, E_np_masked, case))\n",
    "    return H, A, T, Hs, As, Ts, HATs, costs\n",
    "\n",
    "\n"
   ]
  },
  {
   "cell_type": "code",
   "execution_count": null,
   "metadata": {
    "collapsed": false
   },
   "outputs": [],
   "source": [
    "H, A, T, Hs, As, Ts, HATs, costs = learn_HAT_random_normal_check(case, au_tensor, a, 3, num_iter=10000, lr=0.1, dis=False, cost_function=cost, T_known=np.ones(12).reshape(-1, 1))\n"
   ]
  },
  {
   "cell_type": "code",
   "execution_count": null,
   "metadata": {
    "collapsed": false
   },
   "outputs": [
    {
     "name": "stdout",
     "output_type": "stream",
     "text": [
      "1 0 1\n"
     ]
    }
   ],
   "source": [
    "out = {}\n",
    "for scale in [1]:\n",
    "    out[scale] = {}\n",
    "    for random_seed in range(1):\n",
    "        \n",
    "        out[scale][random_seed] = {}\n",
    "        for c in [1]:\n",
    "            out[scale][random_seed][c] = {}\n",
    "            print (scale, random_seed, c)\n",
    "            tensor_copy = tensor.copy()\n",
    "            ################# PLEASE SEE THE LINE BELOW- CHANGED FROM learn_HAT to learn_HAT_random_normal #######\n",
    "            H, A, T, Hs, As, Ts, HATs, costs = learn_HAT_random_normal_check(case, au_tensor, a, 3, num_iter=300000, lr=0.1, dis=False, cost_function=cost,T_known=np.ones(12).reshape(-1, 1))\n",
    "            out[scale][random_seed][c] = {'Hs':Hs, 'As':As, 'Ts':Ts, 'HATs':HATs, 'costs':costs}"
   ]
  },
  {
   "cell_type": "code",
   "execution_count": null,
   "metadata": {
    "collapsed": true
   },
   "outputs": [],
   "source": [
    "from plot_functions import *"
   ]
  },
  {
   "cell_type": "code",
   "execution_count": null,
   "metadata": {
    "collapsed": false
   },
   "outputs": [],
   "source": [
    "fig, axes = plt.subplots(nrows=1, ncols=4, figsize=(20,5))\n",
    "ax = axes.flatten()\n",
    "random_seed=0\n",
    "c=1\n",
    "scale=20\n",
    "count=0\n",
    "step = 400\n",
    "# fig, ax  =plt.subplots()\n",
    "for scale in [1]:\n",
    "    for c in [1]:\n",
    "        tdf = pd.DataFrame({c:out[scale][random_seed][c]['costs'][::step]}, index=range(len(out[scale][0][c]['costs']))[::step])\n",
    "        tdf.plot(logy=True, ax=ax[count])\n",
    "        \n",
    "    ax[count].set_ylim([0, 18000])\n",
    "    ax[count].legend(title='constant constrain c')\n",
    "\n",
    "    ax[count].set_xlabel(\"Iterations\")\n",
    "    ax[count].set_ylabel(\"Cost\")\n",
    "    ax[count].set_title(\"Initialization STDEV \" + str(scale))\n",
    "\n",
    "#         plt.xlim((-10, 12300))\n",
    "#         plt.ylim((0, 18000))\n",
    "#         plt.legend(title='Initialisation STDEV')\n",
    "#         format_axes(ax[count])\n",
    "#         plt.xlabel(\"Iterations\")\n",
    "#         plt.ylabel(\"Cost\")\n",
    "    count+=1"
   ]
  },
  {
   "cell_type": "code",
   "execution_count": null,
   "metadata": {
    "collapsed": false,
    "scrolled": true
   },
   "outputs": [],
   "source": [
    "fig, ax  =plt.subplots()\n",
    "tdf = pd.DataFrame({c:out[scale][random_seed][c]['Ts'][1][1][::step]}, index=range(len(out[scale][0][c]['costs']))[::step])\n",
    "# tdf.plot(logy=True, ax=ax)\n",
    "# range(len(out[scale][0][c]['costs']))[::step]"
   ]
  },
  {
   "cell_type": "code",
   "execution_count": null,
   "metadata": {
    "collapsed": false
   },
   "outputs": [],
   "source": [
    "out[scale][random_seed][1]['Ts'][15000]"
   ]
  },
  {
   "cell_type": "code",
   "execution_count": null,
   "metadata": {
    "collapsed": false
   },
   "outputs": [],
   "source": [
    "Tfactors = {}\n",
    "for scale in [1]:\n",
    "    Tfactors[scale] = {}\n",
    "    for random_seed in range(1):\n",
    "        Tfactors[scale][random_seed] = {}\n",
    "        for c in [1]:\n",
    "            Tfactors[scale][random_seed][c] = {}\n",
    "            for j in range(12):\n",
    "                Tfactors[scale][random_seed][c][j] = []\n",
    "                \n",
    "for scale in [1]:\n",
    "    for random_seed in range(1):\n",
    "        for c in [1]:\n",
    "            for i in range(0, 500200, 400):\n",
    "                for j in range(0, 12):\n",
    "                    Tfactors[scale][random_seed][c][j].append(out[scale][random_seed][c]['Ts'][i][j][2])\n",
    "    "
   ]
  },
  {
   "cell_type": "code",
   "execution_count": null,
   "metadata": {
    "collapsed": false
   },
   "outputs": [],
   "source": [
    "out[scale][random_seed][c]['Ts'][1]"
   ]
  },
  {
   "cell_type": "code",
   "execution_count": null,
   "metadata": {
    "collapsed": false,
    "scrolled": false
   },
   "outputs": [],
   "source": [
    "fig, axes = plt.subplots(nrows=1, ncols=1, figsize=(5,5))\n",
    "# ax = axes.flatten()\n",
    "count = 0\n",
    "for scale in [1]:\n",
    "    for c in [1]:\n",
    "        tdf = pd.DataFrame(Tfactors[scale][0][c], index=range(len(out[scale][0][c]['costs']))[::step])\n",
    "        tdf.plot(ax = axes, legend=False)\n",
    "        \n",
    "#         ax[count].set_ylim([0, 18000])\n",
    "#         ax[count].legend(title='constant constrain c')\n",
    "\n",
    "        axes.set_xlabel(\"Iterations\")\n",
    "#         ax[count].set_ylabel(\"STDEV \" + str(scale))\n",
    "        axes.set_title(\"S3\")\n",
    "        count += 1\n",
    "\n",
    "# plt.savefig(\"./analysis/0711/S3\", bbox_inches=\"tight\", dpi=300, format=\"pdf\")"
   ]
  },
  {
   "cell_type": "code",
   "execution_count": null,
   "metadata": {
    "collapsed": false
   },
   "outputs": [],
   "source": [
    "Afactors = {}\n",
    "for scale in [1]:\n",
    "    Afactors[scale] = {}\n",
    "    for random_seed in range(1):\n",
    "        Afactors[scale][random_seed] = {}\n",
    "        for c in [1]:\n",
    "            Afactors[scale][random_seed][c] = {}\n",
    "            for j in range(7):\n",
    "                Afactors[scale][random_seed][c][j] = {}\n",
    "                for i in range(6):\n",
    "                    Afactors[scale][random_seed][c][j][i] = []\n",
    "                \n",
    "for scale in [1]:\n",
    "    for random_seed in range(1):\n",
    "        for c in [1]:\n",
    "            for i in range(0, 500200, 400):\n",
    "                for j in range(0, 7):\n",
    "                    for m in range(2):\n",
    "                        for n in range(3):\n",
    "                            Afactors[scale][random_seed][c][j][m*3+n].append(out[scale][random_seed][c]['As'][i][j][m][n])\n",
    "    "
   ]
  },
  {
   "cell_type": "code",
   "execution_count": null,
   "metadata": {
    "collapsed": false
   },
   "outputs": [],
   "source": [
    "fig, axes = plt.subplots(nrows=7, ncols=3, figsize=(20,30))\n",
    "ax = axes.flatten()\n",
    "count = 0\n",
    "# for scale in [1, 5, 10, 20]:\n",
    "scale=1\n",
    "for j in range(7):\n",
    "    for c in [1]:\n",
    "        adf = pd.DataFrame(Afactors[scale][0][c][j], index=range(len(out[scale][0][c]['costs']))[::step])\n",
    "        adf.plot(ax = ax[count])\n",
    "        \n",
    "        ax[count].legend([\"(0, 0)\", \"(0, 1)\", \"(0, 2)\", \"(1, 0)\", \"(1, 1)\", \"(1, 2)\"], loc=\"center left\")\n",
    "\n",
    "        ax[count].set_ylim([0, 40])\n",
    "#         ax[count].legend(loc='center left', bbox_to_anchor=(1.0, 0.5))\n",
    "        ax[count].set_xlabel(\"Iterations\")\n",
    "        ax[count].set_ylabel(APPLIANCES_ORDER[j])\n",
    "        ax[count].set_title(\"c = \" + str(c))\n",
    "        count += 1\n",
    "\n",
    "# adf = pd.DataFrame(Afactors[scale][0][c][j], index=range(len(out[scale][0][c]['costs']))[::step])\n",
    "# adf.plot()"
   ]
  },
  {
   "cell_type": "code",
   "execution_count": 55,
   "metadata": {
    "collapsed": false
   },
   "outputs": [
    {
     "data": {
      "text/plain": [
       "array([ 0.1       ,  4.46977744])"
      ]
     },
     "execution_count": 55,
     "metadata": {},
     "output_type": "execute_result"
    }
   ],
   "source": [
    "out[scale][random_seed][c]['Ts'][1600][0]"
   ]
  },
  {
   "cell_type": "code",
   "execution_count": 32,
   "metadata": {
    "collapsed": false
   },
   "outputs": [
    {
     "data": {
      "text/plain": [
       "[215.82978397393029,\n",
       " 40.554750190414822,\n",
       " 40.497669982807096,\n",
       " 40.489147576883035,\n",
       " 40.486054449630998,\n",
       " 40.484306672590492,\n",
       " 40.482554249932797,\n",
       " 40.480796073016613,\n",
       " 40.479031021110671,\n",
       " 40.477257955091048,\n",
       " 40.4754757157977,\n",
       " 40.473683122435652,\n",
       " 40.471878970855428,\n",
       " 40.470062031700621,\n",
       " 40.468231048416435,\n",
       " 40.466384735113387,\n",
       " 40.464521774279788,\n",
       " 40.462640814336311,\n",
       " 40.460740467025929,\n",
       " 40.45881930463166,\n",
       " 40.45687585701463,\n",
       " 40.45490860846423,\n",
       " 40.452915994352011,\n",
       " 40.450896397580266,\n",
       " 40.448848144815976,\n",
       " 40.446769502500501,\n",
       " 40.444658672624705,\n",
       " 40.442513788259184,\n",
       " 40.440332908828516,\n",
       " 40.43811599658013,\n",
       " 40.435878115093132]"
      ]
     },
     "execution_count": 32,
     "metadata": {},
     "output_type": "execute_result"
    }
   ],
   "source": [
    "out[scale][random_seed][c]['Ts'][2000][0][1]\n",
    "out[scale][random_seed][c]['costs'][::step]"
   ]
  },
  {
   "cell_type": "code",
   "execution_count": 18,
   "metadata": {
    "collapsed": false
   },
   "outputs": [
    {
     "data": {
      "image/png": "[encoded data removed]",
      "text/plain": [
       "<matplotlib.figure.Figure at 0x10bf46910>"
      ]
     },
     "metadata": {},
     "output_type": "display_data"
    }
   ],
   "source": [
    "random_seed=0\n",
    "c=10\n",
    "step=400\n",
    "fig, ax  =plt.subplots()\n",
    "for scale in [1, 5, 10, 20]:\n",
    "#     for c in [0.1, 1, 10]:\n",
    "    tdf = pd.DataFrame({scale:out[scale][random_seed][c]['Ts'][0][0][::step]}, index=range(len(out[scale][0][c]['costs']))[::step])\n",
    "    tdf.plot(logy=True, ax=ax)\n",
    "    plt.xlim((-10, 12300))\n",
    "    plt.legend(title='Initialisation STDEV')\n",
    "    format_axes(ax)\n",
    "    plt.xlabel(\"Iterations\")\n",
    "    plt.ylabel(\"Cost\")"
   ]
  },
  {
   "cell_type": "code",
   "execution_count": 79,
   "metadata": {
    "collapsed": false
   },
   "outputs": [
    {
     "data": {
      "text/plain": [
       "<matplotlib.axes._subplots.AxesSubplot at 0x11ad1dc50>"
      ]
     },
     "execution_count": 79,
     "metadata": {},
     "output_type": "execute_result"
    },
    {
     "data": {
      "image/png": "[encoded data removed]",
      "text/plain": [
       "<matplotlib.figure.Figure at 0x11ad4c710>"
      ]
     },
     "metadata": {},
     "output_type": "display_data"
    }
   ],
   "source": [
    "random_seed=0\n",
    "step=400\n",
    "fig, ax  =plt.subplots()\n",
    "c = {}\n",
    "for scale in [1, 5, 10, 20]:\n",
    "\n",
    "    c[scale] = out[scale][0]['costs'][12000]\n",
    "pd.Series(c).plot(kind='bar')"
   ]
  }
 ],
 "metadata": {
  "kernelspec": {
   "display_name": "Python 2",
   "language": "python",
   "name": "python2"
  },
  "language_info": {
   "codemirror_mode": {
    "name": "ipython",
    "version": 2
   },
   "file_extension": ".py",
   "mimetype": "text/x-python",
   "name": "python",
   "nbconvert_exporter": "python",
   "pygments_lexer": "ipython2",
   "version": "2.7.10"
  }
 },
 "nbformat": 4,
 "nbformat_minor": 2
}
