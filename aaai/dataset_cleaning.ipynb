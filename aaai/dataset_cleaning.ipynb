{
 "cells": [
  {
   "cell_type": "markdown",
   "metadata": {},
   "source": [
    "Aim: The aim of this notebook is to do dataset cleaning, i.e. remove homes whose data is faulty. There can be many definitions of faulty. In this notebook, we will be looking at primarily the following two anomalies:\n",
    "    \n",
    "1. Aggregate < = Appliance\n",
    "2. Aggregate < Threshold (50 units)"
   ]
  },
  {
   "cell_type": "code",
   "execution_count": 1,
   "metadata": {
    "collapsed": true
   },
   "outputs": [],
   "source": [
    "from create_matrix import *\n",
    "df, dfc = create_matrix_single_region('Austin', 2014)"
   ]
  },
  {
   "cell_type": "code",
   "execution_count": 2,
   "metadata": {
    "collapsed": true
   },
   "outputs": [],
   "source": [
    "%matplotlib inline\n",
    "from plot_functions import *\n"
   ]
  },
  {
   "cell_type": "markdown",
   "metadata": {},
   "source": [
    "## 1. Homes have appliance energy > aggregate energy"
   ]
  },
  {
   "cell_type": "code",
   "execution_count": 3,
   "metadata": {
    "collapsed": true
   },
   "outputs": [],
   "source": [
    "to_remove_agg_lt_appliance = []\n",
    "for appliance in ['hvac','wm','dw','mw','fridge','oven']:\n",
    "    for month in range(1, 13):\n",
    "        a=df.query('aggregate_%d<1.25*%s_%d' %(month, appliance, month))\n",
    "        if len(a):\n",
    "            for x in a.index.values:\n",
    "                if x not in to_remove_agg_lt_appliance:\n",
    "                    to_remove_agg_lt_appliance.append(x)\n",
    "            "
   ]
  },
  {
   "cell_type": "code",
   "execution_count": 4,
   "metadata": {},
   "outputs": [
    {
     "data": {
      "text/plain": [
       "10"
      ]
     },
     "execution_count": 4,
     "metadata": {},
     "output_type": "execute_result"
    }
   ],
   "source": [
    "len(to_remove_agg_lt_appliance)"
   ]
  },
  {
   "cell_type": "code",
   "execution_count": 5,
   "metadata": {},
   "outputs": [
    {
     "data": {
      "text/plain": [
       "[1714, 5109, 8967, 5786, 9737, 3916, 4864, 4352, 8059, 2965]"
      ]
     },
     "execution_count": 5,
     "metadata": {},
     "output_type": "execute_result"
    }
   ],
   "source": [
    "to_remove_agg_lt_appliance"
   ]
  },
  {
   "cell_type": "markdown",
   "metadata": {},
   "source": [
    "These 10 homes have some appliance > = aggregate; which can never be true in the real world. Such homes should not be a part of the training data! The impact of including such homes in training would be thatthe learnt latenf factors will correspond to a high appliance/aggregate energy. While true for these faulty homes, such a high appliance/aggregate ratio will lead to overprediction of appliance prediction for other homes."
   ]
  },
  {
   "cell_type": "markdown",
   "metadata": {},
   "source": [
    "### Hypothesis: Removing homes where appliance energy > = aggregate energy:\n",
    "1. lead to better accuracy\n",
    "2. lead to lowering of mean appliance predicted energy\n",
    "\n",
    "\n",
    "### Setup\n",
    "#### Before\n",
    "Use all homes (including these faulty homes as well) for training; evaluation is done on all homes - these homes\n",
    "\n",
    "#### After\n",
    "Use all homes - these faulty homes for training; evaluation is done on all homes - these homes"
   ]
  },
  {
   "cell_type": "markdown",
   "metadata": {},
   "source": [
    "## 2. Homes have aggregate energy < threshold (100 units)"
   ]
  },
  {
   "cell_type": "code",
   "execution_count": 6,
   "metadata": {
    "collapsed": true
   },
   "outputs": [],
   "source": [
    "less_threshold_remove = []\n",
    "threshold = 100\n",
    "for month in range( 1, 13):\n",
    "    a = df.query('aggregate_%d<%d' %(month, threshold))\n",
    "    if len(a):\n",
    "        for x in a.index.values:\n",
    "            if x not in less_threshold_remove:\n",
    "                less_threshold_remove.append(x)"
   ]
  },
  {
   "cell_type": "code",
   "execution_count": 7,
   "metadata": {},
   "outputs": [
    {
     "data": {
      "text/plain": [
       "61"
      ]
     },
     "execution_count": 7,
     "metadata": {},
     "output_type": "execute_result"
    }
   ],
   "source": [
    "len(less_threshold_remove)"
   ]
  },
  {
   "cell_type": "markdown",
   "metadata": {},
   "source": [
    "There are 61 homes where aggregate energy can be less than 100 units in some months. For reference, here is the plot showing the average monthly energy."
   ]
  },
  {
   "cell_type": "code",
   "execution_count": 8,
   "metadata": {},
   "outputs": [
    {
     "data": {
      "image/png": "[encoded data removed]",
      "text/plain": [
       "<matplotlib.figure.Figure at 0x10eb0a210>"
      ]
     },
     "metadata": {},
     "output_type": "display_data"
    }
   ],
   "source": [
    "mean_energy = df[['aggregate_%d' %month for month in range(1, 13)]].mean().reset_index()\n",
    "mean_energy.index = ['Jan','Feb','Mar','Apr','May','Jun','Jul','Aug','Sept','Oct','Nov','Dec']\n",
    "mean_energy.plot(legend=False, color=tableau20blind[2:3])\n",
    "format_axes(plt.gca())\n",
    "plt.ylabel(\"Monthly units consumption\");"
   ]
  },
  {
   "cell_type": "code",
   "execution_count": 9,
   "metadata": {},
   "outputs": [
    {
     "data": {
      "text/plain": [
       "803.39186740222976"
      ]
     },
     "execution_count": 9,
     "metadata": {},
     "output_type": "execute_result"
    }
   ],
   "source": [
    "mean_energy.mean().values[0]"
   ]
  },
  {
   "cell_type": "markdown",
   "metadata": {},
   "source": [
    "The mean enery consumption across homes and months is 800 units. 100 units seems too small!"
   ]
  },
  {
   "cell_type": "code",
   "execution_count": 10,
   "metadata": {},
   "outputs": [
    {
     "data": {
      "text/plain": [
       "[1069, 2465, 3268, 4000, 4321]"
      ]
     },
     "execution_count": 10,
     "metadata": {},
     "output_type": "execute_result"
    }
   ],
   "source": [
    "less_threshold_remove[:5]"
   ]
  },
  {
   "cell_type": "code",
   "execution_count": 11,
   "metadata": {},
   "outputs": [
    {
     "data": {
      "image/png": "[encoded data removed]",
      "text/plain": [
       "<matplotlib.figure.Figure at 0x10eb13cd0>"
      ]
     },
     "metadata": {},
     "output_type": "display_data"
    }
   ],
   "source": [
    "df.ix[less_threshold_remove[:10]][['aggregate_%d' %month for month in range(1, 13)]].T.reset_index().plot(legend=False, color='k',alpha=0.8, logy=False)\n",
    "plt.axhline(100, color='r', linewidth=3)\n",
    "#plt.ylim((0, 400))\n",
    "mean_energy.plot(legend=False, color=tableau20blind[2:3],alpha=1,linewidth=3, ax=plt.gca())\n",
    "format_axes(plt.gca())\n",
    "plt.ylabel(\"Aggregate energy\");\n"
   ]
  },
  {
   "cell_type": "markdown",
   "metadata": {},
   "source": [
    "The above plot shows the black lines for the homes where aggregate energy consumption can go below 100 units. **Are these outliers? Should they be removed?**"
   ]
  },
  {
   "cell_type": "markdown",
   "metadata": {},
   "source": [
    "## Energy breakdown performance of these \"outlier\" homes"
   ]
  },
  {
   "cell_type": "markdown",
   "metadata": {},
   "source": [
    "I will now investigate if these \"outlier\" homes show bad prediction performance or not on our TF-all-appliances model case 2. All of this analysis is based on results I'd shown in the previous meeting. *I have not yet done any modification to train set, or any other parameter in the experimental setup*."
   ]
  },
  {
   "cell_type": "code",
   "execution_count": 12,
   "metadata": {
    "collapsed": true
   },
   "outputs": [],
   "source": [
    "import pickle\n",
    "tensor_all_p = pickle.load(open(\"predictions/o_tf_all_appliances.pkl\",'r'))['tf_all_appliances']\n",
    "from common import *"
   ]
  },
  {
   "cell_type": "code",
   "execution_count": 13,
   "metadata": {
    "collapsed": true
   },
   "outputs": [],
   "source": [
    "dataset = 'False'\n",
    "tf_custom_all= {}\n",
    "cost='abs'\n",
    "sanity_num_points ={}\n",
    "sensitivity ={}\n",
    "best_alpha={}\n",
    "best_beta = {}\n",
    "best_pred = {}\n",
    "best_e = {}\n",
    "\n",
    "for appliance in tensor_all_p.keys()[:]:\n",
    "    best_alpha[appliance]={}\n",
    "    best_beta[appliance] = {}\n",
    "    best_pred[appliance] = {}\n",
    "    sensitivity[appliance] = {}\n",
    "    tf_custom_all[appliance]= {}\n",
    "    sanity_num_points[appliance]={}\n",
    "    for case in [str(x) for x in range(2, 3)]:\n",
    "        sensitivity[appliance][case] = {}\n",
    "        \n",
    "        sanity_num_points[appliance][case]={}\n",
    "        best_error = 1e6\n",
    "        for a in [str(x) for x in range(1, 11)]:\n",
    "            try:\n",
    "                pred = tensor_all_p[appliance][case][a][cost]\n",
    "                \n",
    "                if len(pred)<500:\n",
    "                    continue\n",
    "                if appliance=='hvac':\n",
    "                    pred = pred[range(4, 10)]\n",
    "                alpha, beta, error, e = compute_rmse_fraction(appliance,pred)\n",
    "                assert(len(alpha)==len(beta))\n",
    "                sanity_num_points[appliance][case][a]=len(alpha)\n",
    "                sensitivity[appliance][case][a] = error\n",
    "                if error < best_error:\n",
    "                    best_error = error\n",
    "                    tf_custom_all[appliance][case] = best_error\n",
    "                    best_alpha[appliance]=alpha\n",
    "                    best_beta[appliance]=beta\n",
    "                    best_pred[appliance] = pred\n",
    "                    best_e[appliance] = e\n",
    "                    \n",
    "            except Exception, e:\n",
    "                pass"
   ]
  },
  {
   "cell_type": "markdown",
   "metadata": {},
   "source": [
    "### Overall results"
   ]
  },
  {
   "cell_type": "code",
   "execution_count": 14,
   "metadata": {},
   "outputs": [
    {
     "data": {
      "text/plain": [
       "aggregate    34.085106\n",
       "dw            1.544899\n",
       "fridge        6.545914\n",
       "hvac         20.201471\n",
       "mw            2.145021\n",
       "oven          2.158957\n",
       "wm            2.065386\n",
       "Name: 2, dtype: float64"
      ]
     },
     "execution_count": 14,
     "metadata": {},
     "output_type": "execute_result"
    }
   ],
   "source": [
    "pd.DataFrame(tf_custom_all).ix['2']"
   ]
  },
  {
   "cell_type": "markdown",
   "metadata": {},
   "source": [
    "More the energy contribution, more is the error? Should we do something about this? Will revisit this with an alternative metric."
   ]
  },
  {
   "cell_type": "markdown",
   "metadata": {},
   "source": [
    "For each appliance we will be looking at the worst 10% of the entries (home, month) where worst is decided by higher error."
   ]
  },
  {
   "cell_type": "markdown",
   "metadata": {},
   "source": [
    "#### HVAC"
   ]
  },
  {
   "cell_type": "code",
   "execution_count": 15,
   "metadata": {
    "collapsed": true
   },
   "outputs": [],
   "source": [
    "f = best_e['hvac']\n",
    "w = f[f>np.percentile(f, 90)].index.droplevel().values"
   ]
  },
  {
   "cell_type": "code",
   "execution_count": 16,
   "metadata": {
    "collapsed": true
   },
   "outputs": [],
   "source": [
    "o_lt = []\n",
    "o_agg = []\n",
    "for x in w:\n",
    "    if x in less_threshold_remove:\n",
    "        o_lt.append(x)\n",
    "    if x in to_remove_agg_lt_appliance:\n",
    "        o_agg.append(x)"
   ]
  },
  {
   "cell_type": "code",
   "execution_count": 17,
   "metadata": {},
   "outputs": [
    {
     "data": {
      "text/plain": [
       "(14, 2)"
      ]
     },
     "execution_count": 17,
     "metadata": {},
     "output_type": "execute_result"
    }
   ],
   "source": [
    "len(set(o_lt)), len(set(o_agg))"
   ]
  },
  {
   "cell_type": "markdown",
   "metadata": {},
   "source": [
    "14 out of 61 homes, and 2 out of the 10 homes from the above mentioned categories of anomalous homes find a place in the worst 10% of homes for HVAC. Where are the remaining worst bits coming from? The table below shows the sorted errors."
   ]
  },
  {
   "cell_type": "code",
   "execution_count": 18,
   "metadata": {},
   "outputs": [
    {
     "data": {
      "text/plain": [
       "hvac_7   1589    279.381867\n",
       "hvac_9   4590    230.450384\n",
       "hvac_5   7117    213.750759\n",
       "         7641    175.473859\n",
       "hvac_6   2378    105.129679\n",
       "hvac_8   5109    100.493877\n",
       "hvac_5   9578     92.817485\n",
       "hvac_8   4927     91.220640\n",
       "hvac_6   8600     84.008100\n",
       "         4297     80.033007\n",
       "hvac_9   668      78.500284\n",
       "hvac_5   8386     74.117800\n",
       "         2361     74.062438\n",
       "hvac_10  1185     73.381323\n",
       "hvac_7   8086     62.699437\n",
       "hvac_8   7017     61.976739\n",
       "hvac_6   9931     57.469826\n",
       "         9919     57.120013\n",
       "hvac_8   7638     54.696920\n",
       "         1479     54.182755\n",
       "dtype: float64"
      ]
     },
     "execution_count": 18,
     "metadata": {},
     "output_type": "execute_result"
    }
   ],
   "source": [
    "f[f>np.percentile(f, 90)].sort_values()[::-1].head(20)"
   ]
  },
  {
   "cell_type": "markdown",
   "metadata": {},
   "source": [
    "The home 1589 features in none of the above two categories of anomalies. Yet, it shows a staggering 280% error for the 7th month. Let's find out why."
   ]
  },
  {
   "cell_type": "code",
   "execution_count": 19,
   "metadata": {
    "collapsed": true
   },
   "outputs": [],
   "source": [
    "def analysis(appliance, home, month):\n",
    "    analysis_ser = pd.Series([best_alpha[appliance].ix['%s_%d' %(appliance, month),home],\n",
    "                             best_beta[appliance].ix['%s_%d' %(appliance, month),home],\n",
    "                             df.loc[home,'%s_%d' %(\"aggregate\",month)]])\n",
    "    analysis_ser.index = ['Appliance GT % of agg','Appliance Pred % of agg', 'GT (aggregate) [kWh]']\n",
    "    return analysis_ser"
   ]
  },
  {
   "cell_type": "code",
   "execution_count": 20,
   "metadata": {},
   "outputs": [
    {
     "data": {
      "text/plain": [
       "Appliance GT % of agg       63.226504\n",
       "Appliance Pred % of agg    342.608371\n",
       "GT (aggregate) [kWh]       117.563416\n",
       "dtype: float64"
      ]
     },
     "execution_count": 20,
     "metadata": {},
     "output_type": "execute_result"
    }
   ],
   "source": [
    "appliance = 'hvac'\n",
    "month = 7\n",
    "home = 1589\n",
    "\n",
    "analysis(appliance, home, month)"
   ]
  },
  {
   "cell_type": "markdown",
   "metadata": {},
   "source": [
    "Oops! The predicted HVAC energy is more than 100%! Can we fix this via constraints? Let us look at some other home now."
   ]
  },
  {
   "cell_type": "code",
   "execution_count": 21,
   "metadata": {},
   "outputs": [
    {
     "data": {
      "text/plain": [
       "Appliance GT % of agg       50.837031\n",
       "Appliance Pred % of agg    281.287415\n",
       "GT (aggregate) [kWh]       180.139160\n",
       "dtype: float64"
      ]
     },
     "execution_count": 21,
     "metadata": {},
     "output_type": "execute_result"
    }
   ],
   "source": [
    "analysis('hvac', 4590, 9)"
   ]
  },
  {
   "cell_type": "markdown",
   "metadata": {},
   "source": [
    "Again, we are predicting more than the aggregate energy! "
   ]
  },
  {
   "cell_type": "code",
   "execution_count": 22,
   "metadata": {},
   "outputs": [
    {
     "data": {
      "text/plain": [
       "Appliance GT % of agg       20.287013\n",
       "Appliance Pred % of agg    234.037772\n",
       "GT (aggregate) [kWh]       106.853912\n",
       "dtype: float64"
      ]
     },
     "execution_count": 22,
     "metadata": {},
     "output_type": "execute_result"
    }
   ],
   "source": [
    "analysis('hvac', 7117, 5)"
   ]
  },
  {
   "cell_type": "markdown",
   "metadata": {},
   "source": [
    "**Even for the above home, our predicted seems to be more than the aggregate. Another thing to notice is that the high errors all correspond to homes having low aggregate energy.**"
   ]
  },
  {
   "cell_type": "markdown",
   "metadata": {},
   "source": [
    "### Fixes needed\n",
    "\n",
    "1. Constraint predicted appliance energy < = known aggregate energy\n",
    "2. Improve performance when low aggregate energy "
   ]
  },
  {
   "cell_type": "markdown",
   "metadata": {},
   "source": [
    "#### Fridge"
   ]
  },
  {
   "cell_type": "code",
   "execution_count": 23,
   "metadata": {
    "collapsed": true
   },
   "outputs": [],
   "source": [
    "f = best_e['fridge']\n",
    "w = f[f>np.percentile(f, 90)].index.droplevel().values"
   ]
  },
  {
   "cell_type": "code",
   "execution_count": 24,
   "metadata": {
    "collapsed": true
   },
   "outputs": [],
   "source": [
    "o_lt = []\n",
    "o_agg = []\n",
    "for x in w:\n",
    "    if x in less_threshold_remove:\n",
    "        o_lt.append(x)\n",
    "    if x in to_remove_agg_lt_appliance:\n",
    "        o_agg.append(x)"
   ]
  },
  {
   "cell_type": "code",
   "execution_count": 25,
   "metadata": {},
   "outputs": [
    {
     "data": {
      "text/plain": [
       "(16, 0)"
      ]
     },
     "execution_count": 25,
     "metadata": {},
     "output_type": "execute_result"
    }
   ],
   "source": [
    "len(set(o_lt)), len(set(o_agg))"
   ]
  },
  {
   "cell_type": "markdown",
   "metadata": {},
   "source": [
    "16 out of 61 homes, and 0 out of the 10 homes from the above mentioned categories of anomalous homes find a place in the worst 10% of homes for Fridge. Where are the remaining worst bits coming from? The table below shows the sorted errors."
   ]
  },
  {
   "cell_type": "code",
   "execution_count": 26,
   "metadata": {},
   "outputs": [
    {
     "data": {
      "text/plain": [
       "fridge_5   7117    73.026539\n",
       "           7641    67.104710\n",
       "fridge_7   470     61.242292\n",
       "fridge_10  7638    33.775511\n",
       "fridge_5   9139    31.110519\n",
       "fridge_11  7638    30.166741\n",
       "fridge_4   9019    29.137702\n",
       "fridge_3   5371    29.038644\n",
       "fridge_11  5371    28.171152\n",
       "fridge_4   9139    27.700027\n",
       "fridge_9   7638    27.583213\n",
       "fridge_1   5371    27.566073\n",
       "fridge_3   9019    26.873177\n",
       "fridge_7   3631    26.847185\n",
       "fridge_5   9019    25.545827\n",
       "fridge_2   5371    25.408739\n",
       "fridge_5   3631    25.393964\n",
       "           8386    25.293588\n",
       "fridge_4   1403    24.967550\n",
       "           347     24.558901\n",
       "dtype: float64"
      ]
     },
     "execution_count": 26,
     "metadata": {},
     "output_type": "execute_result"
    }
   ],
   "source": [
    "f[f>np.percentile(f, 90)].sort_values()[::-1].head(20)"
   ]
  },
  {
   "cell_type": "code",
   "execution_count": 27,
   "metadata": {},
   "outputs": [
    {
     "data": {
      "text/plain": [
       "Appliance GT % of agg        4.684028\n",
       "Appliance Pred % of agg     77.710567\n",
       "GT (aggregate) [kWh]       106.853912\n",
       "dtype: float64"
      ]
     },
     "execution_count": 27,
     "metadata": {},
     "output_type": "execute_result"
    }
   ],
   "source": [
    "analysis('fridge', 7117, 5)"
   ]
  },
  {
   "cell_type": "markdown",
   "metadata": {},
   "source": [
    "Ok, so, fridge energy consumed in this month for the home # 7117 is pretty high. It should be noted that this home for the same month had a high error for HVAC as well. Ofcourse, the predicted energy for this month seems to be very high. For further analysis, I will plot the 12 month aggregate and appliance energy for this home."
   ]
  },
  {
   "cell_type": "code",
   "execution_count": 28,
   "metadata": {
    "collapsed": true
   },
   "outputs": [],
   "source": [
    "def plot_appliances_aggregate(home, appliances=['hvac']):\n",
    "    temp = {} \n",
    "    temp['aggregate'] = df.ix[home][['aggregate_%d' %month for month in range(1, 13)]].values\n",
    "    for appliance in appliances:\n",
    "        temp[appliance] = df.ix[home][['%s_%d' %(appliance, month) for month in range(1, 13)]].values\n",
    "    temp_df = pd.DataFrame(temp, index=range(1, 13))\n",
    "    temp_df.plot(color=tableau20blind[::2])\n",
    "    format_axes(plt.gca())\n",
    "    plt.xlabel(\"Month of year\")\n",
    "    plt.ylabel(\"Energy (kWh)\")"
   ]
  },
  {
   "cell_type": "code",
   "execution_count": 29,
   "metadata": {},
   "outputs": [
    {
     "data": {
      "image/png": "[encoded data removed]",
      "text/plain": [
       "<matplotlib.figure.Figure at 0x10f3627d0>"
      ]
     },
     "metadata": {},
     "output_type": "display_data"
    }
   ],
   "source": [
    "plot_appliances_aggregate(7117, ['fridge','hvac'])"
   ]
  },
  {
   "cell_type": "markdown",
   "metadata": {},
   "source": [
    "Ok, now it makes sense. It seems that there is some data set issue and month 5 may have partial data only and thus may be causing all the trouble."
   ]
  },
  {
   "cell_type": "markdown",
   "metadata": {},
   "source": [
    "### Fixes needed\n",
    "1. It is likely that homes having low energy may be due to data collection issues. \n",
    "\n",
    "Do we choose a higher threshold, such as 300 units to not include such homes in our analysis? Is there some other way to \"fix\" such data set issues?"
   ]
  },
  {
   "cell_type": "markdown",
   "metadata": {},
   "source": [
    "Let us look at some other home now showing low accuracy for fridge. "
   ]
  },
  {
   "cell_type": "code",
   "execution_count": 30,
   "metadata": {},
   "outputs": [
    {
     "data": {
      "text/plain": [
       "Appliance GT % of agg       24.397197\n",
       "Appliance Pred % of agg      4.745743\n",
       "GT (aggregate) [kWh]       439.094147\n",
       "dtype: float64"
      ]
     },
     "execution_count": 30,
     "metadata": {},
     "output_type": "execute_result"
    }
   ],
   "source": [
    "analysis('fridge', 470, 8)"
   ]
  },
  {
   "cell_type": "markdown",
   "metadata": {},
   "source": [
    "24% of energy consumed by fridge. That is insanely high! Let's look in more details."
   ]
  },
  {
   "cell_type": "code",
   "execution_count": 31,
   "metadata": {},
   "outputs": [
    {
     "data": {
      "image/png": "[encoded data removed]",
      "text/plain": [
       "<matplotlib.figure.Figure at 0x10ee7de50>"
      ]
     },
     "metadata": {},
     "output_type": "display_data"
    }
   ],
   "source": [
    "plot_appliances_aggregate(470, ['fridge','hvac'])"
   ]
  },
  {
   "cell_type": "markdown",
   "metadata": {},
   "source": [
    "Ok, this home does not have HVAC data. However, it does feel like the fridge label is wrongly assigned. The fridge data looks more like HVAC data. This explains why the GT fraction is so high and our prediction so low as generally homes have a much lower proportion of energy consumed by fridges."
   ]
  },
  {
   "cell_type": "markdown",
   "metadata": {},
   "source": [
    "### Fixes needed\n",
    "1. It is likely that some homes have wrong appliance labels.\n",
    "\n",
    "How do we fix this!"
   ]
  },
  {
   "cell_type": "code",
   "execution_count": 32,
   "metadata": {},
   "outputs": [
    {
     "data": {
      "text/plain": [
       "Appliance GT % of agg       34.658184\n",
       "Appliance Pred % of agg      0.882674\n",
       "GT (aggregate) [kWh]       172.930344\n",
       "dtype: float64"
      ]
     },
     "execution_count": 32,
     "metadata": {},
     "output_type": "execute_result"
    }
   ],
   "source": [
    "analysis('fridge', 7638, 10)"
   ]
  },
  {
   "cell_type": "code",
   "execution_count": 33,
   "metadata": {},
   "outputs": [
    {
     "data": {
      "image/png": "[encoded data removed]",
      "text/plain": [
       "<matplotlib.figure.Figure at 0x10f4dfad0>"
      ]
     },
     "metadata": {},
     "output_type": "display_data"
    }
   ],
   "source": [
    "plot_appliances_aggregate(7638, ['fridge','hvac'])"
   ]
  },
  {
   "cell_type": "markdown",
   "metadata": {},
   "source": [
    "This home only has 4 months worth data and that too mostly close to zero. This home was also flagged in our Aggregate < 100 units."
   ]
  },
  {
   "cell_type": "markdown",
   "metadata": {},
   "source": [
    "#### WM"
   ]
  },
  {
   "cell_type": "code",
   "execution_count": 34,
   "metadata": {
    "collapsed": true
   },
   "outputs": [],
   "source": [
    "f = best_e['wm']\n",
    "w = f[f>np.percentile(f, 90)].index.droplevel().values"
   ]
  },
  {
   "cell_type": "code",
   "execution_count": 35,
   "metadata": {
    "collapsed": true
   },
   "outputs": [],
   "source": [
    "o_lt = []\n",
    "o_agg = []\n",
    "for x in w:\n",
    "    if x in less_threshold_remove:\n",
    "        o_lt.append(x)\n",
    "    if x in to_remove_agg_lt_appliance:\n",
    "        o_agg.append(x)"
   ]
  },
  {
   "cell_type": "code",
   "execution_count": 36,
   "metadata": {},
   "outputs": [
    {
     "data": {
      "text/plain": [
       "(6, 1)"
      ]
     },
     "execution_count": 36,
     "metadata": {},
     "output_type": "execute_result"
    }
   ],
   "source": [
    "len(set(o_lt)), len(set(o_agg))"
   ]
  },
  {
   "cell_type": "markdown",
   "metadata": {},
   "source": [
    "6 out of 61 homes, and 1 out of the 10 homes from the above mentioned categories of anomalous homes find a place in the worst 10% of homes for WM. Where are the remaining worst bits coming from? The table below shows the sorted errors."
   ]
  },
  {
   "cell_type": "code",
   "execution_count": 37,
   "metadata": {},
   "outputs": [
    {
     "data": {
      "text/plain": [
       "wm_3   9215    56.365192\n",
       "wm_2   9215    54.896668\n",
       "wm_4   9215    39.896042\n",
       "wm_1   7951    23.078530\n",
       "wm_2   7951    20.389158\n",
       "wm_3   7951    16.588971\n",
       "wm_11  7951    12.585268\n",
       "wm_12  7951    11.714458\n",
       "wm_4   645      5.616138\n",
       "wm_12  645      5.330565\n",
       "wm_4   9982     4.760445\n",
       "wm_9   645      4.656930\n",
       "wm_3   645      4.604906\n",
       "wm_11  645      4.404151\n",
       "wm_5   645      4.323611\n",
       "wm_12  3886     4.147500\n",
       "wm_5   7641     4.032369\n",
       "wm_10  645      4.017243\n",
       "wm_7   645      3.787556\n",
       "wm_1   7587     3.516882\n",
       "dtype: float64"
      ]
     },
     "execution_count": 37,
     "metadata": {},
     "output_type": "execute_result"
    }
   ],
   "source": [
    "f[f>np.percentile(f, 90)].sort_values()[::-1].head(20)"
   ]
  },
  {
   "cell_type": "markdown",
   "metadata": {},
   "source": [
    "A few offending homes seem to have poor prediction across many months. Given that WM error hovers around 2%, these numbers are staggering high."
   ]
  },
  {
   "cell_type": "code",
   "execution_count": 38,
   "metadata": {},
   "outputs": [
    {
     "data": {
      "text/plain": [
       "Appliance GT % of agg       57.104960\n",
       "Appliance Pred % of agg      0.739768\n",
       "GT (aggregate) [kWh]       424.831787\n",
       "dtype: float64"
      ]
     },
     "execution_count": 38,
     "metadata": {},
     "output_type": "execute_result"
    }
   ],
   "source": [
    "analysis('wm', 9215, 3)"
   ]
  },
  {
   "cell_type": "markdown",
   "metadata": {},
   "source": [
    "Washing machine consuming 57% of household energy! That's crazy high."
   ]
  },
  {
   "cell_type": "code",
   "execution_count": 39,
   "metadata": {},
   "outputs": [
    {
     "data": {
      "image/png": "[encoded data removed]",
      "text/plain": [
       "<matplotlib.figure.Figure at 0x10eb3a610>"
      ]
     },
     "metadata": {},
     "output_type": "display_data"
    }
   ],
   "source": [
    "plot_appliances_aggregate(9215, ['fridge','hvac','wm'])"
   ]
  },
  {
   "cell_type": "markdown",
   "metadata": {},
   "source": [
    "For most months, the HVAC consumption seems to be fairly standard. What happened in months 1-4! Clearly some dataset issue? Or, did the home become a laundry?"
   ]
  },
  {
   "cell_type": "code",
   "execution_count": 40,
   "metadata": {},
   "outputs": [
    {
     "data": {
      "text/plain": [
       "Appliance GT % of agg        23.657484\n",
       "Appliance Pred % of agg       0.578955\n",
       "GT (aggregate) [kWh]       1200.703003\n",
       "dtype: float64"
      ]
     },
     "execution_count": 40,
     "metadata": {},
     "output_type": "execute_result"
    }
   ],
   "source": [
    "analysis('wm', 7951, 1)"
   ]
  },
  {
   "cell_type": "code",
   "execution_count": 41,
   "metadata": {},
   "outputs": [
    {
     "data": {
      "image/png": "[encoded data removed]",
      "text/plain": [
       "<matplotlib.figure.Figure at 0x10f15af50>"
      ]
     },
     "metadata": {},
     "output_type": "display_data"
    }
   ],
   "source": [
    "plot_appliances_aggregate(7951, ['fridge','hvac','wm'])"
   ]
  },
  {
   "cell_type": "markdown",
   "metadata": {},
   "source": [
    "Ok, somewhat again a similar trend. But, seriously a quarter of the energy in winters going into WM?"
   ]
  }
 ],
 "metadata": {
  "celltoolbar": "Tags",
  "kernelspec": {
   "display_name": "Python 2",
   "language": "python",
   "name": "python2"
  },
  "language_info": {
   "codemirror_mode": {
    "name": "ipython",
    "version": 2
   },
   "file_extension": ".py",
   "mimetype": "text/x-python",
   "name": "python",
   "nbconvert_exporter": "python",
   "pygments_lexer": "ipython2",
   "version": "2.7.11"
  }
 },
 "nbformat": 4,
 "nbformat_minor": 2
}
