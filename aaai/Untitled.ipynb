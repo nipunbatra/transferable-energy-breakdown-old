{
 "cells": [
  {
   "cell_type": "code",
   "execution_count": 1,
   "metadata": {
    "collapsed": true
   },
   "outputs": [],
   "source": [
    "import matplotlib.pyplot as plt\n",
    "%matplotlib inline\n",
    "from sklearn.model_selection import KFold"
   ]
  },
  {
   "cell_type": "code",
   "execution_count": 2,
   "metadata": {
    "collapsed": true
   },
   "outputs": [],
   "source": [
    "from create_matrix import *\n",
    "\n",
    "from tensor_custom_core import *\n",
    "from create_matrix import *\n",
    "from tensor_custom_core import *\n",
    "from degree_days import dds\n",
    "appliance_index = {appliance: APPLIANCES_ORDER.index(appliance) for appliance in APPLIANCES_ORDER}\n",
    "\n",
    "APPLIANCES = ['fridge', 'hvac', 'wm', 'mw', 'oven', 'dw']\n",
    "region = \"SanDiego\"\n",
    "year = 2014\n",
    "\n",
    "import os\n",
    "from degree_days import dds\n",
    "\n",
    "\n",
    "\n",
    "def un_normalize(x, maximum, minimum):\n",
    "    return (maximum - minimum) * x + minimum"
   ]
  },
  {
   "cell_type": "code",
   "execution_count": 3,
   "metadata": {
    "collapsed": true
   },
   "outputs": [],
   "source": [
    "def get_tensor(df, dfc):\n",
    "    start, stop = 1, 13\n",
    "    energy_cols = np.array(\n",
    "        [['%s_%d' % (appliance, month) for month in range(start, stop)] for appliance in APPLIANCES_ORDER]).flatten()\n",
    "\n",
    "    static_cols = ['area', 'total_occupants', 'num_rooms']\n",
    "    static_df = df[static_cols]\n",
    "    static_df = static_df.div(static_df.max())\n",
    "    weather_values = np.array(dds[2014][region][start - 1:stop - 1]).reshape(-1, 1)\n",
    "\n",
    "    dfc = df.copy()\n",
    "\n",
    "    df = dfc[energy_cols]\n",
    "    col_max = df.max().max()\n",
    "    col_min = df.min().min()\n",
    "    # df = (1.0 * (df - col_min)) / (col_max - col_min)\n",
    "    tensor = df.values.reshape((len(df), 7, stop - start))\n",
    "    M, N, O = tensor.shape\n",
    "    return tensor"
   ]
  },
  {
   "cell_type": "code",
   "execution_count": 4,
   "metadata": {
    "collapsed": true
   },
   "outputs": [],
   "source": [
    "sd_df, sd_dfc = create_matrix_single_region(\"SanDiego\", year)\n",
    "sd_tensor = get_tensor(sd_df, sd_dfc)\n",
    "au_df, au_dfc = create_matrix_single_region('Austin', year)\n",
    "au_tensor = get_tensor(au_df, au_dfc)\n",
    "sd_tensor_copy = sd_tensor.copy()\n",
    "au_tensor_copy = au_tensor.copy()"
   ]
  },
  {
   "cell_type": "code",
   "execution_count": 125,
   "metadata": {
    "collapsed": false
   },
   "outputs": [
    {
     "data": {
      "text/plain": [
       "oven_1                80.420317\n",
       "oven_2                68.087418\n",
       "oven_3               149.331448\n",
       "oven_4               164.836065\n",
       "oven_5               130.959264\n",
       "oven_6               126.376584\n",
       "oven_7               139.008530\n",
       "oven_8               180.984369\n",
       "oven_9               166.228336\n",
       "oven_10              121.764713\n",
       "oven_11              184.324100\n",
       "oven_12              217.845264\n",
       "aggregate_1         4545.529831\n",
       "aggregate_2         4022.067444\n",
       "aggregate_3         7318.223763\n",
       "aggregate_4         8381.213081\n",
       "aggregate_5        11474.293266\n",
       "aggregate_6        12230.870567\n",
       "aggregate_7        16703.328674\n",
       "aggregate_8        18809.148376\n",
       "aggregate_9        19197.846695\n",
       "aggregate_10       10816.803650\n",
       "aggregate_11        7820.477615\n",
       "aggregate_12        8538.634384\n",
       "dw_1                  81.713447\n",
       "dw_2                  76.330301\n",
       "dw_3                  91.474200\n",
       "dw_4                 157.724983\n",
       "dw_5                  80.844767\n",
       "dw_6                 201.225234\n",
       "dw_7                 166.704750\n",
       "dw_8                 212.660848\n",
       "dw_9                 209.741012\n",
       "dw_10                159.229616\n",
       "dw_11                180.919252\n",
       "dw_12                146.039298\n",
       "dr_1                   0.000000\n",
       "dr_2                   0.000000\n",
       "dr_3                   0.000000\n",
       "dr_4                   0.000000\n",
       "dr_5                   0.000000\n",
       "dr_6                   0.000000\n",
       "dr_7                   0.000000\n",
       "dr_8                   0.000000\n",
       "dr_9                   0.000000\n",
       "dr_10                  0.000000\n",
       "dr_11                  0.000000\n",
       "dr_12                  0.000000\n",
       "num_rooms             32.000000\n",
       "area               35953.000000\n",
       "num_bedrooms          19.000000\n",
       "num_floors            26.000000\n",
       "area_first          9987.000000\n",
       "area_second            0.000000\n",
       "area_third             0.000000\n",
       "total_occupants       16.000000\n",
       "dtype: float64"
      ]
     },
     "execution_count": 125,
     "metadata": {},
     "output_type": "execute_result"
    }
   ],
   "source": [
    "sd_sum = pd.Series(sd_df.sum(axis = 0))\n",
    "sd_sum[72:]"
   ]
  },
  {
   "cell_type": "code",
   "execution_count": null,
   "metadata": {
    "collapsed": true
   },
   "outputs": [],
   "source": [
    "pd.DataFrame(sd_sum[:72].reshape(12, 6), columns = np.arange(6))"
   ]
  },
  {
   "cell_type": "code",
   "execution_count": null,
   "metadata": {
    "collapsed": true
   },
   "outputs": [],
   "source": [
    "for appliance in APPLIANCES_ORDER:\n",
    "    "
   ]
  },
  {
   "cell_type": "code",
   "execution_count": 6,
   "metadata": {
    "collapsed": true
   },
   "outputs": [],
   "source": [
    "a=3\n",
    "case=2\n",
    "cost='abs'\n",
    "H_au, A_au, T_au = learn_HAT(case, au_tensor_copy, a, a, num_iter=8000, lr=0.1, dis=False, cost_function=cost, T_known = np.ones(12).reshape(-1, 1))"
   ]
  },
  {
   "cell_type": "code",
   "execution_count": 55,
   "metadata": {
    "collapsed": false
   },
   "outputs": [],
   "source": [
    "T_au = [int(x*10) for x in dds[2014]['Austin']]\n",
    "T_sd = [int(x*10) for x in dds[2014]['SanDiego']]"
   ]
  },
  {
   "cell_type": "code",
   "execution_count": 56,
   "metadata": {
    "collapsed": false
   },
   "outputs": [],
   "source": [
    "T_sd = np.c_[T_sd, np.ones(12).reshape(-1, 1)]\n",
    "T_au = np.c_[T_au, np.ones(12).reshape(-1, 1)]"
   ]
  },
  {
   "cell_type": "code",
   "execution_count": 73,
   "metadata": {
    "collapsed": true
   },
   "outputs": [],
   "source": [
    "case = 2\n",
    "a = 3\n",
    "b = 5\n",
    "iter_adapt = 4000\n",
    "n_splits = 10"
   ]
  },
  {
   "cell_type": "code",
   "execution_count": 58,
   "metadata": {
    "collapsed": true
   },
   "outputs": [],
   "source": [
    "H_au_weather, A_au_weather, T_au_weather = learn_HAT(case, au_tensor_copy, a, b, num_iter=8000, lr=0.1, dis=False, cost_function=cost, T_known = T_au)"
   ]
  },
  {
   "cell_type": "code",
   "execution_count": 74,
   "metadata": {
    "collapsed": true
   },
   "outputs": [],
   "source": [
    "H_au, A_au, T_au = learn_HAT(case, au_tensor_copy, a, b, num_iter=8000, lr=0.1, dis=False, cost_function=cost, T_known = np.ones(12).reshape(-1,1))"
   ]
  },
  {
   "cell_type": "code",
   "execution_count": 75,
   "metadata": {
    "collapsed": false
   },
   "outputs": [
    {
     "data": {
      "text/plain": [
       "array([[  0.        ,   1.        ,   0.        ,  14.14950766],\n",
       "       [  0.        ,   1.        ,   0.        ,  12.06482742],\n",
       "       [  0.        ,   1.        ,   1.09305461,  10.78689815],\n",
       "       [  3.        ,   1.        ,   0.        ,   8.22630776],\n",
       "       [  5.        ,   1.        ,   0.        ,   8.18001359],\n",
       "       [  8.        ,   1.        ,   6.07473088,   4.24141262],\n",
       "       [  9.        ,   1.        ,  10.8544103 ,   1.61763898],\n",
       "       [ 10.        ,   1.        ,  14.34953269,   0.        ],\n",
       "       [  7.        ,   1.        ,   7.68547018,   3.71282546],\n",
       "       [  4.        ,   1.        ,   5.15743876,   6.05877841],\n",
       "       [  0.        ,   1.        ,   0.83722228,  11.12188385],\n",
       "       [  0.        ,   1.        ,   0.791619  ,  12.63012853]])"
      ]
     },
     "execution_count": 75,
     "metadata": {},
     "output_type": "execute_result"
    }
   ],
   "source": [
    "T_au_weather"
   ]
  },
  {
   "cell_type": "code",
   "execution_count": 76,
   "metadata": {
    "collapsed": false
   },
   "outputs": [
    {
     "data": {
      "text/plain": [
       "array([[  1.00000000e+00,   0.00000000e+00,   3.48324353e+00,\n",
       "          1.59926769e+01,   0.00000000e+00],\n",
       "       [  1.00000000e+00,   3.65571797e-02,   3.49390205e+00,\n",
       "          1.27594181e+01,   1.80310532e-01],\n",
       "       [  1.00000000e+00,   1.35730709e-02,   6.27252438e+00,\n",
       "          8.31022885e+00,   6.05292542e-01],\n",
       "       [  1.00000000e+00,   3.79198792e-01,   7.92128326e+00,\n",
       "          2.61780128e+00,   4.78797872e+00],\n",
       "       [  1.00000000e+00,   2.34614886e+00,   8.41151455e+00,\n",
       "          1.20674520e+00,   7.73334430e+00],\n",
       "       [  1.00000000e+00,   1.18501736e+01,   6.05154831e+00,\n",
       "          1.19264846e+00,   9.63604861e+00],\n",
       "       [  1.00000000e+00,   1.42136186e+01,   5.18390792e+00,\n",
       "          0.00000000e+00,   1.35637279e+01],\n",
       "       [  1.00000000e+00,   1.82294007e+01,   3.02396934e+00,\n",
       "          1.53159637e+00,   1.48948513e+01],\n",
       "       [  1.00000000e+00,   9.29720481e+00,   5.41229313e+00,\n",
       "          1.16438060e+00,   1.17633467e+01],\n",
       "       [  1.00000000e+00,   4.23591360e+00,   7.40366788e+00,\n",
       "          1.57730080e+00,   7.90236698e+00],\n",
       "       [  1.00000000e+00,   3.06927295e-02,   6.77284642e+00,\n",
       "          8.28539411e+00,   1.48687616e-01],\n",
       "       [  1.00000000e+00,   2.59004835e-02,   8.06546174e+00,\n",
       "          8.91457986e+00,   9.14542995e-03]])"
      ]
     },
     "execution_count": 76,
     "metadata": {},
     "output_type": "execute_result"
    }
   ],
   "source": [
    "T_au"
   ]
  },
  {
   "cell_type": "code",
   "execution_count": 77,
   "metadata": {
    "collapsed": true
   },
   "outputs": [],
   "source": [
    "from sklearn.model_selection import train_test_split, KFold\n",
    "from common import compute_rmse\n",
    "from common import compute_rmse_fraction\n"
   ]
  },
  {
   "cell_type": "code",
   "execution_count": 78,
   "metadata": {
    "collapsed": false,
    "scrolled": true
   },
   "outputs": [
    {
     "name": "stdout",
     "output_type": "stream",
     "text": [
      "('random_seed:', 0)\n",
      "('train_percentage:', 10)\n",
      "('rd:', 0)\n",
      "('rd:', 1)\n",
      "('rd:', 2)\n",
      "('rd:', 3)\n",
      "('rd:', 4)\n",
      "('rd:', 5)\n",
      "('rd:', 6)\n",
      "('rd:', 7)\n",
      "('rd:', 8)\n",
      "('rd:', 9)\n",
      "('train_percentage:', 20)\n",
      "('rd:', 0)\n",
      "('rd:', 1)\n",
      "('rd:', 2)\n",
      "('rd:', 3)\n",
      "('rd:', 4)\n",
      "('rd:', 5)\n",
      "('rd:', 6)\n",
      "('rd:', 7)\n",
      "('rd:', 8)\n",
      "('rd:', 9)\n",
      "('train_percentage:', 30)\n",
      "('rd:', 0)\n",
      "('rd:', 1)\n",
      "('rd:', 2)\n",
      "('rd:', 3)\n",
      "('rd:', 4)\n",
      "('rd:', 5)\n",
      "('rd:', 6)\n",
      "('rd:', 7)\n",
      "('rd:', 8)\n",
      "('rd:', 9)\n",
      "('train_percentage:', 40)\n",
      "('rd:', 0)\n",
      "('rd:', 1)\n",
      "('rd:', 2)\n",
      "('rd:', 3)\n",
      "('rd:', 4)\n",
      "('rd:', 5)\n",
      "('rd:', 6)\n",
      "('rd:', 7)\n",
      "('rd:', 8)\n",
      "('rd:', 9)\n",
      "('train_percentage:', 50)\n",
      "('rd:', 0)\n",
      "('rd:', 1)\n",
      "('rd:', 2)\n",
      "('rd:', 3)\n",
      "('rd:', 4)\n",
      "('rd:', 5)\n",
      "('rd:', 6)\n",
      "('rd:', 7)\n",
      "('rd:', 8)\n",
      "('rd:', 9)\n",
      "('train_percentage:', 60)\n",
      "('rd:', 0)\n",
      "('rd:', 1)\n",
      "('rd:', 2)\n",
      "('rd:', 3)\n",
      "('rd:', 4)\n",
      "('rd:', 5)\n",
      "('rd:', 6)\n",
      "('rd:', 7)\n",
      "('rd:', 8)\n",
      "('rd:', 9)\n",
      "('train_percentage:', 70)\n",
      "('rd:', 0)\n",
      "('rd:', 1)\n",
      "('rd:', 2)\n",
      "('rd:', 3)\n",
      "('rd:', 4)\n",
      "('rd:', 5)\n",
      "('rd:', 6)\n",
      "('rd:', 7)\n",
      "('rd:', 8)\n",
      "('rd:', 9)\n",
      "('train_percentage:', 80)\n",
      "('rd:', 0)\n",
      "('rd:', 1)\n",
      "('rd:', 2)\n",
      "('rd:', 3)\n",
      "('rd:', 4)\n",
      "('rd:', 5)\n",
      "('rd:', 6)\n",
      "('rd:', 7)\n",
      "('rd:', 8)\n",
      "('rd:', 9)\n",
      "('train_percentage:', 90)\n",
      "('rd:', 0)\n",
      "('rd:', 1)\n",
      "('rd:', 2)\n",
      "('rd:', 3)\n",
      "('rd:', 4)\n",
      "('rd:', 5)\n",
      "('rd:', 6)\n",
      "('rd:', 7)\n",
      "('rd:', 8)\n",
      "('rd:', 9)\n",
      "('train_percentage:', 100)\n",
      "('rd:', 0)\n",
      "('rd:', 1)\n",
      "('rd:', 2)\n",
      "('rd:', 3)\n",
      "('rd:', 4)\n",
      "('rd:', 5)\n",
      "('rd:', 6)\n",
      "('rd:', 7)\n",
      "('rd:', 8)\n",
      "('rd:', 9)\n",
      "('random_seed:', 1)\n",
      "('train_percentage:', 10)\n",
      "('rd:', 0)\n",
      "('rd:', 1)\n",
      "('rd:', 2)\n",
      "('rd:', 3)\n",
      "('rd:', 4)\n",
      "('rd:', 5)\n",
      "('rd:', 6)\n",
      "('rd:', 7)\n",
      "('rd:', 8)\n",
      "('rd:', 9)\n",
      "('train_percentage:', 20)\n",
      "('rd:', 0)\n",
      "('rd:', 1)\n",
      "('rd:', 2)\n",
      "('rd:', 3)\n",
      "('rd:', 4)\n",
      "('rd:', 5)\n",
      "('rd:', 6)\n",
      "('rd:', 7)\n",
      "('rd:', 8)\n",
      "('rd:', 9)\n",
      "('train_percentage:', 30)\n",
      "('rd:', 0)\n",
      "('rd:', 1)\n",
      "('rd:', 2)\n",
      "('rd:', 3)\n",
      "('rd:', 4)\n",
      "('rd:', 5)\n",
      "('rd:', 6)\n",
      "('rd:', 7)\n",
      "('rd:', 8)\n",
      "('rd:', 9)\n",
      "('train_percentage:', 40)\n",
      "('rd:', 0)\n",
      "('rd:', 1)\n",
      "('rd:', 2)\n",
      "('rd:', 3)\n",
      "('rd:', 4)\n",
      "('rd:', 5)\n",
      "('rd:', 6)\n",
      "('rd:', 7)\n",
      "('rd:', 8)\n",
      "('rd:', 9)\n",
      "('train_percentage:', 50)\n",
      "('rd:', 0)\n",
      "('rd:', 1)\n",
      "('rd:', 2)\n",
      "('rd:', 3)\n",
      "('rd:', 4)\n",
      "('rd:', 5)\n",
      "('rd:', 6)\n",
      "('rd:', 7)\n",
      "('rd:', 8)\n",
      "('rd:', 9)\n",
      "('train_percentage:', 60)\n",
      "('rd:', 0)\n",
      "('rd:', 1)\n",
      "('rd:', 2)\n",
      "('rd:', 3)\n",
      "('rd:', 4)\n",
      "('rd:', 5)\n",
      "('rd:', 6)\n",
      "('rd:', 7)\n",
      "('rd:', 8)\n",
      "('rd:', 9)\n",
      "('train_percentage:', 70)\n",
      "('rd:', 0)\n",
      "('rd:', 1)\n",
      "('rd:', 2)\n",
      "('rd:', 3)\n",
      "('rd:', 4)\n",
      "('rd:', 5)\n",
      "('rd:', 6)\n",
      "('rd:', 7)\n",
      "('rd:', 8)\n",
      "('rd:', 9)\n",
      "('train_percentage:', 80)\n",
      "('rd:', 0)\n",
      "('rd:', 1)\n",
      "('rd:', 2)\n",
      "('rd:', 3)\n",
      "('rd:', 4)\n",
      "('rd:', 5)\n",
      "('rd:', 6)\n",
      "('rd:', 7)\n",
      "('rd:', 8)\n",
      "('rd:', 9)\n",
      "('train_percentage:', 90)\n",
      "('rd:', 0)\n",
      "('rd:', 1)\n",
      "('rd:', 2)\n",
      "('rd:', 3)\n",
      "('rd:', 4)\n",
      "('rd:', 5)\n",
      "('rd:', 6)\n",
      "('rd:', 7)\n",
      "('rd:', 8)\n",
      "('rd:', 9)\n",
      "('train_percentage:', 100)\n",
      "('rd:', 0)\n",
      "('rd:', 1)\n",
      "('rd:', 2)\n",
      "('rd:', 3)\n",
      "('rd:', 4)\n",
      "('rd:', 5)\n",
      "('rd:', 6)\n",
      "('rd:', 7)\n",
      "('rd:', 8)\n",
      "('rd:', 9)\n",
      "('random_seed:', 2)\n",
      "('train_percentage:', 10)\n",
      "('rd:', 0)\n",
      "('rd:', 1)\n",
      "('rd:', 2)\n",
      "('rd:', 3)\n",
      "('rd:', 4)\n",
      "('rd:', 5)\n",
      "('rd:', 6)\n",
      "('rd:', 7)\n",
      "('rd:', 8)\n",
      "('rd:', 9)\n",
      "('train_percentage:', 20)\n",
      "('rd:', 0)\n",
      "('rd:', 1)\n",
      "('rd:', 2)\n",
      "('rd:', 3)\n",
      "('rd:', 4)\n",
      "('rd:', 5)\n",
      "('rd:', 6)\n",
      "('rd:', 7)\n",
      "('rd:', 8)\n",
      "('rd:', 9)\n",
      "('train_percentage:', 30)\n",
      "('rd:', 0)\n",
      "('rd:', 1)\n",
      "('rd:', 2)\n",
      "('rd:', 3)\n",
      "('rd:', 4)\n",
      "('rd:', 5)\n",
      "('rd:', 6)\n",
      "('rd:', 7)\n",
      "('rd:', 8)\n",
      "('rd:', 9)\n",
      "('train_percentage:', 40)\n",
      "('rd:', 0)\n",
      "('rd:', 1)\n",
      "('rd:', 2)\n",
      "('rd:', 3)\n",
      "('rd:', 4)\n",
      "('rd:', 5)\n",
      "('rd:', 6)\n",
      "('rd:', 7)\n",
      "('rd:', 8)\n",
      "('rd:', 9)\n",
      "('train_percentage:', 50)\n",
      "('rd:', 0)\n",
      "('rd:', 1)\n",
      "('rd:', 2)\n",
      "('rd:', 3)\n",
      "('rd:', 4)\n",
      "('rd:', 5)\n",
      "('rd:', 6)\n",
      "('rd:', 7)\n",
      "('rd:', 8)\n",
      "('rd:', 9)\n",
      "('train_percentage:', 60)\n",
      "('rd:', 0)\n",
      "('rd:', 1)\n",
      "('rd:', 2)\n",
      "('rd:', 3)\n",
      "('rd:', 4)\n",
      "('rd:', 5)\n",
      "('rd:', 6)\n",
      "('rd:', 7)\n",
      "('rd:', 8)\n",
      "('rd:', 9)\n",
      "('train_percentage:', 70)\n",
      "('rd:', 0)\n",
      "('rd:', 1)\n",
      "('rd:', 2)\n",
      "('rd:', 3)\n",
      "('rd:', 4)\n",
      "('rd:', 5)\n",
      "('rd:', 6)\n",
      "('rd:', 7)\n",
      "('rd:', 8)\n",
      "('rd:', 9)\n",
      "('train_percentage:', 80)\n",
      "('rd:', 0)\n",
      "('rd:', 1)\n",
      "('rd:', 2)\n",
      "('rd:', 3)\n",
      "('rd:', 4)\n",
      "('rd:', 5)\n",
      "('rd:', 6)\n",
      "('rd:', 7)\n",
      "('rd:', 8)\n",
      "('rd:', 9)\n",
      "('train_percentage:', 90)\n",
      "('rd:', 0)\n",
      "('rd:', 1)\n",
      "('rd:', 2)\n",
      "('rd:', 3)\n",
      "('rd:', 4)\n",
      "('rd:', 5)\n",
      "('rd:', 6)\n",
      "('rd:', 7)\n",
      "('rd:', 8)\n",
      "('rd:', 9)\n",
      "('train_percentage:', 100)\n",
      "('rd:', 0)\n",
      "('rd:', 1)\n",
      "('rd:', 2)\n",
      "('rd:', 3)\n",
      "('rd:', 4)\n",
      "('rd:', 5)\n",
      "('rd:', 6)\n",
      "('rd:', 7)\n",
      "('rd:', 8)\n",
      "('rd:', 9)\n"
     ]
    }
   ],
   "source": [
    "pred = {}\n",
    "for random_seed in range(5):\n",
    "    pred[random_seed] = {}\n",
    "    for appliance in APPLIANCES_ORDER:\n",
    "        pred[random_seed][appliance] = {f:[] for f in range(10, 110, 10)}\n",
    "\n",
    "kf = KFold(n_splits=n_splits)\n",
    "\n",
    "for random_seed in range(3):\n",
    "    print (\"random_seed:\", random_seed)\n",
    "    for train_percentage in range(10, 110, 10):\n",
    "        print (\"train_percentage:\", train_percentage)\n",
    "        rd = 0\n",
    "        for train_max, test in kf.split(sd_df):\n",
    "            print (\"rd:\", rd)\n",
    "            rd += 1\n",
    "\n",
    "            num_train = int((train_percentage*len(train_max)/100)+0.5)\n",
    "            if train_percentage==100:\n",
    "                train = train_max\n",
    "            else:\n",
    "                train, _ = train_test_split(train_max, train_size = train_percentage/100.0, random_state=random_seed)\n",
    "            train_ix = sd_df.index[train]\n",
    "            test_ix = sd_df.index[test]\n",
    "\n",
    "            num_test = len(test_ix)\n",
    "            train_test_ix = np.concatenate([test_ix, train_ix])\n",
    "            df_t, dfc_t = sd_df.ix[train_test_ix], sd_dfc.ix[train_test_ix]\n",
    "            tensor = get_tensor(df_t, dfc_t)\n",
    "            tensor_copy = tensor.copy()\n",
    "            # First n\n",
    "            tensor_copy[:num_test, 1:, :] = np.NaN\n",
    "\n",
    "            H, A, T = learn_HAT(case, tensor_copy, a, b, num_iter=iter_adapt, lr=0.1, dis=False, cost_function=cost, A_known=A_au, T_known=T_sd)\n",
    "\n",
    "            HAT = multiply_case(H, A, T, case)\n",
    "            for appliance in APPLIANCES_ORDER:\n",
    "                pred[random_seed][appliance][train_percentage].append(pd.DataFrame(HAT[:num_test, appliance_index[appliance], :], index=test_ix))"
   ]
  },
  {
   "cell_type": "code",
   "execution_count": 79,
   "metadata": {
    "collapsed": false
   },
   "outputs": [
    {
     "name": "stderr",
     "output_type": "stream",
     "text": [
      "/home/yj9xs/anaconda2/lib/python2.7/site-packages/ipykernel/__main__.py:7: DeprecationWarning: \n",
      ".ix is deprecated. Please use\n",
      ".loc for label based indexing or\n",
      ".iloc for positional indexing\n",
      "\n",
      "See the documentation here:\n",
      "http://pandas.pydata.org/pandas-docs/stable/indexing.html#deprecate_ix\n"
     ]
    }
   ],
   "source": [
    "out = {}\n",
    "for random_seed in range(3):\n",
    "    out[random_seed] = {}   \n",
    "    for appliance in APPLIANCES_ORDER[1:]:\n",
    "        out[random_seed][appliance] = {}\n",
    "        for f in range(10,110,10):\n",
    "            s = pd.concat(pred[random_seed][appliance][f]).ix[sd_df.index]\n",
    "            if appliance==\"hvac\":\n",
    "                out[random_seed][appliance][f] = compute_rmse_fraction(appliance,s[range(4, 10)],'SanDiego')[2]\n",
    "            else:   \n",
    "                out[random_seed][appliance][f] = compute_rmse_fraction(appliance, s,'SanDiego')[2]"
   ]
  },
  {
   "cell_type": "code",
   "execution_count": 80,
   "metadata": {
    "collapsed": true
   },
   "outputs": [],
   "source": [
    "mean_out = pd.Panel(out).mean(axis=0)"
   ]
  },
  {
   "cell_type": "code",
   "execution_count": 81,
   "metadata": {
    "collapsed": false
   },
   "outputs": [
    {
     "data": {
      "image/png": "[encoded data removed]",
      "text/plain": [
       "<matplotlib.figure.Figure at 0x7fcf475ac950>"
      ]
     },
     "metadata": {},
     "output_type": "display_data"
    }
   ],
   "source": [
    "fig, axes = plt.subplots(nrows=3, ncols=2, figsize=(50, 80))\n",
    "ax = axes.flatten()\n",
    "count = 0\n",
    "\n",
    "for appliance in APPLIANCES_ORDER[1:]:\n",
    "#     print appliance\n",
    "    df = mean_out[appliance]\n",
    "    pd.DataFrame(df).plot(ax=ax[count],figsize=(25, 10), marker='o', xlim=(0, 110), color=['b', 'g','r', 'y', 'k', 'c'])\n",
    "    ax[count].legend(loc='best', bbox_to_anchor=(1.0, 0.5))\n",
    "\n",
    "\n",
    "#     major_ticks = np.arange(0, 101, 20)   \n",
    "\n",
    "    ax[count].set_xlabel(\"% training\");\n",
    "    ax[count].locator_params(tight=False, nbins=20, axis='x')\n",
    "    ax[count].set_ylabel('RMSE fraction')\n",
    "    ax[count].set_title(appliance, loc=\"left\")\n",
    "    count += 1\n",
    "# plt.savefig(\"./analysis/0711/prediction_normal_transfer\", bbox_inches=\"tight\", dpi=300)"
   ]
  },
  {
   "cell_type": "code",
   "execution_count": null,
   "metadata": {
    "collapsed": true
   },
   "outputs": [],
   "source": []
  }
 ],
 "metadata": {
  "kernelspec": {
   "display_name": "Python 2",
   "language": "python",
   "name": "python2"
  },
  "language_info": {
   "codemirror_mode": {
    "name": "ipython",
    "version": 2
   },
   "file_extension": ".py",
   "mimetype": "text/x-python",
   "name": "python",
   "nbconvert_exporter": "python",
   "pygments_lexer": "ipython2",
   "version": "2.7.13"
  }
 },
 "nbformat": 4,
 "nbformat_minor": 2
}
