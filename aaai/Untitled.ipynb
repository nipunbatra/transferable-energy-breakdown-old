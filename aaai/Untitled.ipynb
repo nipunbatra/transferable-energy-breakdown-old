{
 "cells": [
  {
   "cell_type": "code",
   "execution_count": 1,
   "metadata": {
    "collapsed": true
   },
   "outputs": [],
   "source": [
    "import matplotlib.pyplot as plt\n",
    "%matplotlib inline\n",
    "from sklearn.model_selection import KFold\n",
    "import numpy as np\n",
    "import pandas as pd"
   ]
  },
  {
   "cell_type": "code",
   "execution_count": 2,
   "metadata": {
    "collapsed": true
   },
   "outputs": [],
   "source": [
    "from create_matrix import *\n",
    "\n",
    "from tensor_custom_core import *\n",
    "from create_matrix import *\n",
    "from tensor_custom_core import *\n",
    "from degree_days import dds\n",
    "appliance_index = {appliance: APPLIANCES_ORDER.index(appliance) for appliance in APPLIANCES_ORDER}\n",
    "\n",
    "APPLIANCES = ['fridge', 'hvac', 'wm', 'mw', 'oven', 'dw']\n",
    "region = \"SanDiego\"\n",
    "year = 2014\n",
    "\n",
    "import os\n",
    "from degree_days import dds\n",
    "\n",
    "\n",
    "\n",
    "def un_normalize(x, maximum, minimum):\n",
    "    return (maximum - minimum) * x + minimum"
   ]
  },
  {
   "cell_type": "code",
   "execution_count": 3,
   "metadata": {
    "collapsed": true
   },
   "outputs": [],
   "source": [
    "def get_tensor(df, dfc):\n",
    "    start, stop = 1, 13\n",
    "    energy_cols = np.array(\n",
    "        [['%s_%d' % (appliance, month) for month in range(start, stop)] for appliance in APPLIANCES_ORDER]).flatten()\n",
    "\n",
    "    static_cols = ['area', 'total_occupants', 'num_rooms']\n",
    "    static_df = df[static_cols]\n",
    "    static_df = static_df.div(static_df.max())\n",
    "    weather_values = np.array(dds[2014][region][start - 1:stop - 1]).reshape(-1, 1)\n",
    "\n",
    "    dfc = df.copy()\n",
    "\n",
    "    df = dfc[energy_cols]\n",
    "    col_max = df.max().max()\n",
    "    col_min = df.min().min()\n",
    "    # df = (1.0 * (df - col_min)) / (col_max - col_min)\n",
    "    tensor = df.values.reshape((len(df), 7, stop - start))\n",
    "    M, N, O = tensor.shape\n",
    "    return tensor"
   ]
  },
  {
   "cell_type": "code",
   "execution_count": 4,
   "metadata": {
    "collapsed": true
   },
   "outputs": [],
   "source": [
    "au_df, au_dfc = create_matrix_single_region(\"Austin\", year)\n",
    "au_tensor = get_tensor(au_df, au_dfc)\n",
    "static_au = au_df[['area','total_occupants','num_rooms']].copy()\n",
    "static_au['area'] = static_au['area'].div(4000)\n",
    "static_au['total_occupants'] = static_au['total_occupants'].div(8)\n",
    "static_au['num_rooms'] = static_au['num_rooms'].div(8)\n",
    "static_au = static_au.values"
   ]
  },
  {
   "cell_type": "code",
   "execution_count": 5,
   "metadata": {},
   "outputs": [],
   "source": [
    "sd_df, sd_dfc = create_matrix_single_region(\"SanDiego\", year)\n",
    "sd_tensor = get_tensor(sd_df, sd_dfc)\n",
    "static_sd = sd_df[['area','total_occupants','num_rooms']].copy()\n",
    "static_sd['area'] = static_sd['area'].div(4000)\n",
    "static_sd['total_occupants'] = static_sd['total_occupants'].div(8)\n",
    "static_sd['num_rooms'] = static_sd['num_rooms'].div(8)\n",
    "static_sd = static_sd.values"
   ]
  },
  {
   "cell_type": "code",
   "execution_count": 6,
   "metadata": {
    "collapsed": true
   },
   "outputs": [],
   "source": [
    "from sklearn.model_selection import train_test_split, KFold\n",
    "from common import compute_rmse\n",
    "from common import compute_rmse_fraction\n"
   ]
  },
  {
   "cell_type": "code",
   "execution_count": 56,
   "metadata": {},
   "outputs": [
    {
     "data": {
      "text/plain": [
       "array([[ 0.204  ,      nan,      nan],\n",
       "       [ 0.51175,  0.5    ,  0.75   ],\n",
       "       [ 0.1515 ,      nan,      nan],\n",
       "       ..., \n",
       "       [ 0.775  ,  0.25   ,  0.5    ],\n",
       "       [ 0.204  ,      nan,      nan],\n",
       "       [ 0.35   ,  0.5    ,  0.5    ]])"
      ]
     },
     "execution_count": 56,
     "metadata": {},
     "output_type": "execute_result"
    }
   ],
   "source": [
    "static_au"
   ]
  },
  {
   "cell_type": "code",
   "execution_count": 9,
   "metadata": {},
   "outputs": [],
   "source": [
    "cost = 'abs'\n",
    "case = 2\n",
    "a = 5\n",
    "b = 3\n",
    "H_au, A_au, T_au = learn_HAT(case, au_tensor, a, b, num_iter=3000, lr=0.1, dis=False, cost_function=cost, H_known = static_au, T_known=np.ones(12).reshape(-1, 1))\n",
    "    "
   ]
  },
  {
   "cell_type": "code",
   "execution_count": 55,
   "metadata": {},
   "outputs": [
    {
     "data": {
      "text/plain": [
       "array([[[  3.93400497e+00,   3.83978410e+00,   1.00504156e+01],\n",
       "        [  4.45793169e+00,   0.00000000e+00,   1.59177172e+01],\n",
       "        [  5.58696188e+00,   1.63885813e+01,   8.06183382e+00],\n",
       "        [  7.12144329e+00,   8.92663472e+00,   2.55575303e+01],\n",
       "        [  4.80224570e+00,   2.25064311e+01,   1.71928685e+00]],\n",
       "\n",
       "       [[  0.00000000e+00,   5.56948230e+00,   0.00000000e+00],\n",
       "        [  6.31545904e-02,   3.93635825e+00,   5.22871945e-02],\n",
       "        [  0.00000000e+00,   1.10415218e+00,   0.00000000e+00],\n",
       "        [  0.00000000e+00,   0.00000000e+00,   0.00000000e+00],\n",
       "        [  0.00000000e+00,   1.88933768e+01,   0.00000000e+00]],\n",
       "\n",
       "       [[  8.53148279e-01,   1.21691162e+00,   2.05052105e+00],\n",
       "        [  1.25944208e+00,   8.66245226e-01,   1.72377123e+00],\n",
       "        [  1.16533519e+00,   4.08314016e-01,   6.19245159e-01],\n",
       "        [  0.00000000e+00,   0.00000000e+00,   0.00000000e+00],\n",
       "        [  1.25330446e+00,   5.99805097e-01,   9.01007056e-01]],\n",
       "\n",
       "       [[  5.44911230e-01,   7.88047080e-02,   3.00713957e-01],\n",
       "        [  1.10700615e-01,   1.21395135e-01,   4.64062556e-01],\n",
       "        [  4.80982242e-01,   0.00000000e+00,   0.00000000e+00],\n",
       "        [  4.01986921e-01,   0.00000000e+00,   0.00000000e+00],\n",
       "        [  6.98779334e-01,   0.00000000e+00,   4.80661601e-03]],\n",
       "\n",
       "       [[  1.75828168e-01,   1.32147223e-01,   6.16971878e-01],\n",
       "        [  1.60497978e-01,   2.84345310e-02,   1.63673205e-01],\n",
       "        [  1.98868209e-01,   2.58415109e-02,   7.29771602e-02],\n",
       "        [  9.63623612e-01,   2.35072696e-02,   8.57243687e-02],\n",
       "        [  1.22609674e-01,   6.80835128e-02,   1.30770633e-01]],\n",
       "\n",
       "       [[  2.35161857e-02,   5.25384764e-03,   1.73805968e-01],\n",
       "        [  5.85339015e-01,   2.56245567e-02,   7.30966888e-02],\n",
       "        [  6.70785522e-01,   0.00000000e+00,   0.00000000e+00],\n",
       "        [  7.25986457e-01,   0.00000000e+00,   0.00000000e+00],\n",
       "        [  3.16792278e-01,   2.21725554e-02,   2.13879432e-03]],\n",
       "\n",
       "       [[  1.90239473e-01,   1.04231726e-01,   4.57963263e-01],\n",
       "        [  9.36376973e-01,   0.00000000e+00,   4.12101499e-01],\n",
       "        [  6.20910628e-01,   6.64863703e-02,   1.30784117e-01],\n",
       "        [  5.94062882e-01,   0.00000000e+00,   6.45535114e-02],\n",
       "        [  5.39433131e-01,   4.58852426e-02,   2.59037246e-01]]])"
      ]
     },
     "execution_count": 55,
     "metadata": {},
     "output_type": "execute_result"
    }
   ],
   "source": [
    "A_au"
   ]
  },
  {
   "cell_type": "code",
   "execution_count": 54,
   "metadata": {
    "scrolled": true
   },
   "outputs": [
    {
     "name": "stdout",
     "output_type": "stream",
     "text": [
      "(0, 10, 0)\n",
      "186.647480045\n",
      "(0, 10, 1)\n",
      "184.352040467\n",
      "(0, 10, 2)\n",
      "454.678321907\n",
      "(0, 10, 3)\n",
      "170.657228304\n",
      "(0, 10, 4)\n",
      "276.450212389\n",
      "(0, 10, 5)\n",
      "191.278651579\n",
      "(0, 10, 6)\n",
      "159.506246999\n",
      "(0, 10, 7)\n",
      "443.413884796\n",
      "(0, 10, 8)\n",
      "371.670091247\n",
      "(0, 10, 9)\n",
      "377.761149326\n",
      "(0, 50, 0)\n",
      "250.971830358\n",
      "(0, 50, 1)\n",
      "194.795707301\n",
      "(0, 50, 2)\n",
      "340.014553132\n",
      "(0, 50, 3)\n",
      "37.3472870838\n",
      "(0, 50, 4)\n",
      "33.5069211061\n",
      "(0, 50, 5)\n",
      "184.646094346\n",
      "(0, 50, 6)\n",
      "211.078119644\n",
      "(0, 50, 7)\n",
      "568.516598346\n",
      "(0, 50, 8)\n"
     ]
    },
    {
     "ename": "KeyboardInterrupt",
     "evalue": "",
     "output_type": "error",
     "traceback": [
      "\u001b[0;31m---------------------------------------------------------------------------\u001b[0m",
      "\u001b[0;31mKeyboardInterrupt\u001b[0m                         Traceback (most recent call last)",
      "\u001b[0;32m<ipython-input-54-9e25959b56e9>\u001b[0m in \u001b[0;36m<module>\u001b[0;34m()\u001b[0m\n\u001b[1;32m     66\u001b[0m             \u001b[0mtensor_copy\u001b[0m \u001b[0;34m=\u001b[0m \u001b[0mtensor\u001b[0m\u001b[0;34m.\u001b[0m\u001b[0mcopy\u001b[0m\u001b[0;34m(\u001b[0m\u001b[0;34m)\u001b[0m\u001b[0;34m\u001b[0m\u001b[0m\n\u001b[1;32m     67\u001b[0m             \u001b[0mtensor_copy\u001b[0m\u001b[0;34m[\u001b[0m\u001b[0;34m:\u001b[0m\u001b[0mnum_test\u001b[0m\u001b[0;34m,\u001b[0m \u001b[0;36m1\u001b[0m\u001b[0;34m:\u001b[0m\u001b[0;34m,\u001b[0m \u001b[0;34m:\u001b[0m\u001b[0;34m]\u001b[0m \u001b[0;34m=\u001b[0m \u001b[0mnp\u001b[0m\u001b[0;34m.\u001b[0m\u001b[0mNaN\u001b[0m\u001b[0;34m\u001b[0m\u001b[0m\n\u001b[0;32m---> 68\u001b[0;31m             \u001b[0mH\u001b[0m\u001b[0;34m,\u001b[0m \u001b[0mA\u001b[0m\u001b[0;34m,\u001b[0m \u001b[0mT\u001b[0m \u001b[0;34m=\u001b[0m \u001b[0mlearn_HAT\u001b[0m\u001b[0;34m(\u001b[0m\u001b[0mcase\u001b[0m\u001b[0;34m,\u001b[0m \u001b[0mtensor_copy\u001b[0m\u001b[0;34m,\u001b[0m \u001b[0ma\u001b[0m\u001b[0;34m,\u001b[0m \u001b[0mb\u001b[0m\u001b[0;34m,\u001b[0m \u001b[0mnum_iter\u001b[0m\u001b[0;34m=\u001b[0m\u001b[0;36m3000\u001b[0m\u001b[0;34m,\u001b[0m \u001b[0mlr\u001b[0m\u001b[0;34m=\u001b[0m\u001b[0;36m0.1\u001b[0m\u001b[0;34m,\u001b[0m \u001b[0mdis\u001b[0m\u001b[0;34m=\u001b[0m\u001b[0mFalse\u001b[0m\u001b[0;34m,\u001b[0m \u001b[0mcost_function\u001b[0m\u001b[0;34m=\u001b[0m\u001b[0mcost\u001b[0m\u001b[0;34m,\u001b[0m \u001b[0mA_known\u001b[0m \u001b[0;34m=\u001b[0m \u001b[0mA_au\u001b[0m\u001b[0;34m,\u001b[0m \u001b[0mT_known\u001b[0m\u001b[0;34m=\u001b[0m\u001b[0mnp\u001b[0m\u001b[0;34m.\u001b[0m\u001b[0mones\u001b[0m\u001b[0;34m(\u001b[0m\u001b[0;36m12\u001b[0m\u001b[0;34m)\u001b[0m\u001b[0;34m.\u001b[0m\u001b[0mreshape\u001b[0m\u001b[0;34m(\u001b[0m\u001b[0;34m-\u001b[0m\u001b[0;36m1\u001b[0m\u001b[0;34m,\u001b[0m \u001b[0;36m1\u001b[0m\u001b[0;34m)\u001b[0m\u001b[0;34m)\u001b[0m\u001b[0;34m\u001b[0m\u001b[0m\n\u001b[0m\u001b[1;32m     69\u001b[0m             \u001b[0mHAT\u001b[0m \u001b[0;34m=\u001b[0m \u001b[0mmultiply_case\u001b[0m\u001b[0;34m(\u001b[0m\u001b[0mH\u001b[0m\u001b[0;34m,\u001b[0m \u001b[0mA\u001b[0m\u001b[0;34m,\u001b[0m \u001b[0mT\u001b[0m\u001b[0;34m,\u001b[0m \u001b[0mcase\u001b[0m\u001b[0;34m)\u001b[0m\u001b[0;34m\u001b[0m\u001b[0m\n\u001b[1;32m     70\u001b[0m             \u001b[0;32mprint\u001b[0m \u001b[0;34m(\u001b[0m\u001b[0mHAT\u001b[0m\u001b[0;34m[\u001b[0m\u001b[0;36m0\u001b[0m\u001b[0;34m]\u001b[0m\u001b[0;34m[\u001b[0m\u001b[0;36m0\u001b[0m\u001b[0;34m]\u001b[0m\u001b[0;34m[\u001b[0m\u001b[0;36m0\u001b[0m\u001b[0;34m]\u001b[0m\u001b[0;34m)\u001b[0m\u001b[0;34m\u001b[0m\u001b[0m\n",
      "\u001b[0;32m/Users/xox/git/scalable-nilm/aaai/tensor_custom_core.pyc\u001b[0m in \u001b[0;36mlearn_HAT\u001b[0;34m(case, E_np_masked, a, b, num_iter, lr, dis, cost_function, H_known, A_known, T_known, random_seed, decay_mul, batchsize, aggregate_constraint)\u001b[0m\n\u001b[1;32m    259\u001b[0m                         \u001b[0mH\u001b[0m\u001b[0;34m[\u001b[0m\u001b[0mindices_select\u001b[0m\u001b[0;34m]\u001b[0m \u001b[0;34m-=\u001b[0m \u001b[0mlrs\u001b[0m\u001b[0;34m[\u001b[0m\u001b[0mi\u001b[0m\u001b[0;34m]\u001b[0m \u001b[0;34m*\u001b[0m \u001b[0mdel_h\u001b[0m\u001b[0;34m\u001b[0m\u001b[0m\n\u001b[1;32m    260\u001b[0m                 \u001b[0;32melse\u001b[0m\u001b[0;34m:\u001b[0m\u001b[0;34m\u001b[0m\u001b[0m\n\u001b[0;32m--> 261\u001b[0;31m                         \u001b[0mdel_h\u001b[0m\u001b[0;34m,\u001b[0m \u001b[0mdel_a\u001b[0m\u001b[0;34m,\u001b[0m \u001b[0mdel_t\u001b[0m \u001b[0;34m=\u001b[0m \u001b[0mmg\u001b[0m\u001b[0;34m(\u001b[0m\u001b[0mH\u001b[0m\u001b[0;34m,\u001b[0m \u001b[0mA\u001b[0m\u001b[0;34m,\u001b[0m \u001b[0mT\u001b[0m\u001b[0;34m,\u001b[0m \u001b[0mE_np_masked\u001b[0m\u001b[0;34m,\u001b[0m \u001b[0mcase\u001b[0m\u001b[0;34m)\u001b[0m\u001b[0;34m\u001b[0m\u001b[0m\n\u001b[0m\u001b[1;32m    262\u001b[0m                         \u001b[0mH\u001b[0m \u001b[0;34m-=\u001b[0m \u001b[0mlrs\u001b[0m\u001b[0;34m[\u001b[0m\u001b[0mi\u001b[0m\u001b[0;34m]\u001b[0m \u001b[0;34m*\u001b[0m \u001b[0mdel_h\u001b[0m\u001b[0;34m\u001b[0m\u001b[0m\n\u001b[1;32m    263\u001b[0m                 \u001b[0mA\u001b[0m \u001b[0;34m-=\u001b[0m \u001b[0mlrs\u001b[0m\u001b[0;34m[\u001b[0m\u001b[0mi\u001b[0m\u001b[0;34m]\u001b[0m \u001b[0;34m*\u001b[0m \u001b[0mdel_a\u001b[0m\u001b[0;34m\u001b[0m\u001b[0m\n",
      "\u001b[0;32m/Users/xox/Library/Python/2.7/lib/python/site-packages/autograd/convenience_wrappers.pyc\u001b[0m in \u001b[0;36mgradfun_rearranged\u001b[0;34m(*args, **kwargs)\u001b[0m\n\u001b[1;32m     80\u001b[0m     \u001b[0;32mdef\u001b[0m \u001b[0mgradfun_rearranged\u001b[0m\u001b[0;34m(\u001b[0m\u001b[0;34m*\u001b[0m\u001b[0margs\u001b[0m\u001b[0;34m,\u001b[0m \u001b[0;34m**\u001b[0m\u001b[0mkwargs\u001b[0m\u001b[0;34m)\u001b[0m\u001b[0;34m:\u001b[0m\u001b[0;34m\u001b[0m\u001b[0m\n\u001b[1;32m     81\u001b[0m         \u001b[0mmulti_arg\u001b[0m \u001b[0;34m=\u001b[0m \u001b[0mtuple\u001b[0m\u001b[0;34m(\u001b[0m\u001b[0;34m[\u001b[0m\u001b[0margs\u001b[0m\u001b[0;34m[\u001b[0m\u001b[0mi\u001b[0m\u001b[0;34m]\u001b[0m \u001b[0;32mfor\u001b[0m \u001b[0mi\u001b[0m \u001b[0;32min\u001b[0m \u001b[0margnums\u001b[0m\u001b[0;34m]\u001b[0m\u001b[0;34m)\u001b[0m\u001b[0;34m\u001b[0m\u001b[0m\n\u001b[0;32m---> 82\u001b[0;31m         \u001b[0;32mreturn\u001b[0m \u001b[0mgradfun\u001b[0m\u001b[0;34m(\u001b[0m\u001b[0mmulti_arg\u001b[0m\u001b[0;34m,\u001b[0m \u001b[0;34m*\u001b[0m\u001b[0margs\u001b[0m\u001b[0;34m,\u001b[0m \u001b[0;34m**\u001b[0m\u001b[0mkwargs\u001b[0m\u001b[0;34m)\u001b[0m\u001b[0;34m\u001b[0m\u001b[0m\n\u001b[0m\u001b[1;32m     83\u001b[0m     \u001b[0;32mreturn\u001b[0m \u001b[0mgradfun_rearranged\u001b[0m\u001b[0;34m\u001b[0m\u001b[0m\n\u001b[1;32m     84\u001b[0m \u001b[0;34m\u001b[0m\u001b[0m\n",
      "\u001b[0;32m/Users/xox/Library/Python/2.7/lib/python/site-packages/autograd/errors.pyc\u001b[0m in \u001b[0;36mwrapped\u001b[0;34m(*args, **kwargs)\u001b[0m\n\u001b[1;32m     46\u001b[0m   \u001b[0;34m@\u001b[0m\u001b[0mwraps\u001b[0m\u001b[0;34m(\u001b[0m\u001b[0mfun\u001b[0m\u001b[0;34m)\u001b[0m\u001b[0;34m\u001b[0m\u001b[0m\n\u001b[1;32m     47\u001b[0m   \u001b[0;32mdef\u001b[0m \u001b[0mwrapped\u001b[0m\u001b[0;34m(\u001b[0m\u001b[0;34m*\u001b[0m\u001b[0margs\u001b[0m\u001b[0;34m,\u001b[0m \u001b[0;34m**\u001b[0m\u001b[0mkwargs\u001b[0m\u001b[0;34m)\u001b[0m\u001b[0;34m:\u001b[0m\u001b[0;34m\u001b[0m\u001b[0m\n\u001b[0;32m---> 48\u001b[0;31m     \u001b[0;32mtry\u001b[0m\u001b[0;34m:\u001b[0m \u001b[0;32mreturn\u001b[0m \u001b[0mfun\u001b[0m\u001b[0;34m(\u001b[0m\u001b[0;34m*\u001b[0m\u001b[0margs\u001b[0m\u001b[0;34m,\u001b[0m \u001b[0;34m**\u001b[0m\u001b[0mkwargs\u001b[0m\u001b[0;34m)\u001b[0m\u001b[0;34m\u001b[0m\u001b[0m\n\u001b[0m\u001b[1;32m     49\u001b[0m     \u001b[0;32mexcept\u001b[0m \u001b[0mException\u001b[0m \u001b[0;32mas\u001b[0m \u001b[0me\u001b[0m\u001b[0;34m:\u001b[0m \u001b[0madd_extra_error_message\u001b[0m\u001b[0;34m(\u001b[0m\u001b[0me\u001b[0m\u001b[0;34m)\u001b[0m\u001b[0;34m\u001b[0m\u001b[0m\n\u001b[1;32m     50\u001b[0m   \u001b[0;32mreturn\u001b[0m \u001b[0mwrapped\u001b[0m\u001b[0;34m\u001b[0m\u001b[0m\n",
      "\u001b[0;32m/Users/xox/Library/Python/2.7/lib/python/site-packages/autograd/convenience_wrappers.pyc\u001b[0m in \u001b[0;36mgradfun\u001b[0;34m(*args, **kwargs)\u001b[0m\n\u001b[1;32m     26\u001b[0m         \u001b[0margs\u001b[0m\u001b[0;34m[\u001b[0m\u001b[0margnum\u001b[0m\u001b[0;34m]\u001b[0m \u001b[0;34m=\u001b[0m \u001b[0msafe_type\u001b[0m\u001b[0;34m(\u001b[0m\u001b[0margs\u001b[0m\u001b[0;34m[\u001b[0m\u001b[0margnum\u001b[0m\u001b[0;34m]\u001b[0m\u001b[0;34m)\u001b[0m\u001b[0;34m\u001b[0m\u001b[0m\n\u001b[1;32m     27\u001b[0m         \u001b[0mvjp\u001b[0m\u001b[0;34m,\u001b[0m \u001b[0mans\u001b[0m \u001b[0;34m=\u001b[0m \u001b[0mmake_vjp\u001b[0m\u001b[0;34m(\u001b[0m\u001b[0mscalar_fun\u001b[0m\u001b[0;34m,\u001b[0m \u001b[0margnum\u001b[0m\u001b[0;34m)\u001b[0m\u001b[0;34m(\u001b[0m\u001b[0;34m*\u001b[0m\u001b[0margs\u001b[0m\u001b[0;34m,\u001b[0m \u001b[0;34m**\u001b[0m\u001b[0mkwargs\u001b[0m\u001b[0;34m)\u001b[0m\u001b[0;34m\u001b[0m\u001b[0m\n\u001b[0;32m---> 28\u001b[0;31m         \u001b[0;32mreturn\u001b[0m \u001b[0mvjp\u001b[0m\u001b[0;34m(\u001b[0m\u001b[0mcast_to_same_dtype\u001b[0m\u001b[0;34m(\u001b[0m\u001b[0;36m1.0\u001b[0m\u001b[0;34m,\u001b[0m \u001b[0mans\u001b[0m\u001b[0;34m)\u001b[0m\u001b[0;34m)\u001b[0m\u001b[0;34m\u001b[0m\u001b[0m\n\u001b[0m\u001b[1;32m     29\u001b[0m \u001b[0;34m\u001b[0m\u001b[0m\n\u001b[1;32m     30\u001b[0m     \u001b[0;32mreturn\u001b[0m \u001b[0mgradfun\u001b[0m\u001b[0;34m\u001b[0m\u001b[0m\n",
      "\u001b[0;32m/Users/xox/Library/Python/2.7/lib/python/site-packages/autograd/core.pyc\u001b[0m in \u001b[0;36m<lambda>\u001b[0;34m(g)\u001b[0m\n\u001b[1;32m     16\u001b[0m             \u001b[0mwarnings\u001b[0m\u001b[0;34m.\u001b[0m\u001b[0mwarn\u001b[0m\u001b[0;34m(\u001b[0m\u001b[0;34m\"Output seems independent of input.\"\u001b[0m\u001b[0;34m)\u001b[0m\u001b[0;34m\u001b[0m\u001b[0m\n\u001b[1;32m     17\u001b[0m             \u001b[0;32mreturn\u001b[0m \u001b[0;32mlambda\u001b[0m \u001b[0mg\u001b[0m \u001b[0;34m:\u001b[0m \u001b[0mstart_node\u001b[0m\u001b[0;34m.\u001b[0m\u001b[0mvspace\u001b[0m\u001b[0;34m.\u001b[0m\u001b[0mzeros\u001b[0m\u001b[0;34m(\u001b[0m\u001b[0;34m)\u001b[0m\u001b[0;34m,\u001b[0m \u001b[0mend_node\u001b[0m\u001b[0;34m\u001b[0m\u001b[0m\n\u001b[0;32m---> 18\u001b[0;31m         \u001b[0;32mreturn\u001b[0m \u001b[0;32mlambda\u001b[0m \u001b[0mg\u001b[0m \u001b[0;34m:\u001b[0m \u001b[0mbackward_pass\u001b[0m\u001b[0;34m(\u001b[0m\u001b[0mg\u001b[0m\u001b[0;34m,\u001b[0m \u001b[0mend_node\u001b[0m\u001b[0;34m,\u001b[0m \u001b[0mstart_node\u001b[0m\u001b[0;34m)\u001b[0m\u001b[0;34m,\u001b[0m \u001b[0mend_node\u001b[0m\u001b[0;34m\u001b[0m\u001b[0m\n\u001b[0m\u001b[1;32m     19\u001b[0m     \u001b[0;32mreturn\u001b[0m \u001b[0mvjp\u001b[0m\u001b[0;34m\u001b[0m\u001b[0m\n\u001b[1;32m     20\u001b[0m \u001b[0;34m\u001b[0m\u001b[0m\n",
      "\u001b[0;32m/Users/xox/Library/Python/2.7/lib/python/site-packages/autograd/core.pyc\u001b[0m in \u001b[0;36mbackward_pass\u001b[0;34m(g, end_node, start_node)\u001b[0m\n\u001b[1;32m     38\u001b[0m         \u001b[0;32mfor\u001b[0m \u001b[0margnum\u001b[0m\u001b[0;34m,\u001b[0m \u001b[0mparent\u001b[0m \u001b[0;32min\u001b[0m \u001b[0mparents\u001b[0m\u001b[0;34m:\u001b[0m\u001b[0;34m\u001b[0m\u001b[0m\n\u001b[1;32m     39\u001b[0m             outgrad = function.vjp(argnum, cur_outgrad, node,\n\u001b[0;32m---> 40\u001b[0;31m                                    parent.vspace, node.vspace, args, kwargs)\n\u001b[0m\u001b[1;32m     41\u001b[0m             \u001b[0moutgrads\u001b[0m\u001b[0;34m[\u001b[0m\u001b[0mparent\u001b[0m\u001b[0;34m]\u001b[0m\u001b[0;34m.\u001b[0m\u001b[0mappend\u001b[0m\u001b[0;34m(\u001b[0m\u001b[0moutgrad\u001b[0m\u001b[0;34m)\u001b[0m\u001b[0;34m\u001b[0m\u001b[0m\n\u001b[1;32m     42\u001b[0m             \u001b[0massert_vspace_match\u001b[0m\u001b[0;34m(\u001b[0m\u001b[0moutgrad\u001b[0m\u001b[0;34m,\u001b[0m \u001b[0mparent\u001b[0m\u001b[0;34m.\u001b[0m\u001b[0mvspace\u001b[0m\u001b[0;34m,\u001b[0m \u001b[0mfunction\u001b[0m\u001b[0;34m)\u001b[0m\u001b[0;34m\u001b[0m\u001b[0m\n",
      "\u001b[0;32m/Users/xox/Library/Python/2.7/lib/python/site-packages/autograd/numpy/numpy_grads.pyc\u001b[0m in \u001b[0;36mgrad_einsum\u001b[0;34m(argnum, g, ans, vs, gvs, operands, kwargs)\u001b[0m\n\u001b[1;32m    386\u001b[0m \u001b[0;32mdef\u001b[0m \u001b[0mgrad_einsum\u001b[0m\u001b[0;34m(\u001b[0m\u001b[0margnum\u001b[0m\u001b[0;34m,\u001b[0m \u001b[0mg\u001b[0m\u001b[0;34m,\u001b[0m \u001b[0mans\u001b[0m\u001b[0;34m,\u001b[0m \u001b[0mvs\u001b[0m\u001b[0;34m,\u001b[0m \u001b[0mgvs\u001b[0m\u001b[0;34m,\u001b[0m \u001b[0moperands\u001b[0m\u001b[0;34m,\u001b[0m \u001b[0mkwargs\u001b[0m\u001b[0;34m)\u001b[0m\u001b[0;34m:\u001b[0m\u001b[0;34m\u001b[0m\u001b[0m\n\u001b[1;32m    387\u001b[0m     \u001b[0;32mif\u001b[0m \u001b[0misinstance\u001b[0m\u001b[0;34m(\u001b[0m\u001b[0moperands\u001b[0m\u001b[0;34m[\u001b[0m\u001b[0;36m0\u001b[0m\u001b[0;34m]\u001b[0m\u001b[0;34m,\u001b[0m \u001b[0mstring_types\u001b[0m\u001b[0;34m)\u001b[0m\u001b[0;34m:\u001b[0m  \u001b[0;31m# using \"ijk\" convention.\u001b[0m\u001b[0;34m\u001b[0m\u001b[0m\n\u001b[0;32m--> 388\u001b[0;31m         \u001b[0min_subs\u001b[0m\u001b[0;34m,\u001b[0m \u001b[0mout_subs\u001b[0m\u001b[0;34m,\u001b[0m \u001b[0m_\u001b[0m \u001b[0;34m=\u001b[0m \u001b[0m_parse_einsum_input\u001b[0m\u001b[0;34m(\u001b[0m\u001b[0mtuple\u001b[0m\u001b[0;34m(\u001b[0m\u001b[0mmap\u001b[0m\u001b[0;34m(\u001b[0m\u001b[0mgetval\u001b[0m\u001b[0;34m,\u001b[0m \u001b[0moperands\u001b[0m\u001b[0;34m)\u001b[0m\u001b[0;34m)\u001b[0m\u001b[0;34m)\u001b[0m\u001b[0;34m\u001b[0m\u001b[0m\n\u001b[0m\u001b[1;32m    389\u001b[0m         \u001b[0moperands\u001b[0m \u001b[0;34m=\u001b[0m \u001b[0moperands\u001b[0m\u001b[0;34m[\u001b[0m\u001b[0;36m1\u001b[0m\u001b[0;34m:\u001b[0m\u001b[0;34m]\u001b[0m\u001b[0;34m\u001b[0m\u001b[0m\n\u001b[1;32m    390\u001b[0m \u001b[0;34m\u001b[0m\u001b[0m\n",
      "\u001b[0;32m/Library/Python/2.7/site-packages/numpy/core/einsumfunc.pyc\u001b[0m in \u001b[0;36m_parse_einsum_input\u001b[0;34m(operands)\u001b[0m\n\u001b[1;32m    412\u001b[0m \u001b[0;34m\u001b[0m\u001b[0m\n\u001b[1;32m    413\u001b[0m     \u001b[0;31m# Make sure output subscripts are in the input\u001b[0m\u001b[0;34m\u001b[0m\u001b[0;34m\u001b[0m\u001b[0m\n\u001b[0;32m--> 414\u001b[0;31m     \u001b[0;32mfor\u001b[0m \u001b[0mchar\u001b[0m \u001b[0;32min\u001b[0m \u001b[0moutput_subscript\u001b[0m\u001b[0;34m:\u001b[0m\u001b[0;34m\u001b[0m\u001b[0m\n\u001b[0m\u001b[1;32m    415\u001b[0m         \u001b[0;32mif\u001b[0m \u001b[0mchar\u001b[0m \u001b[0;32mnot\u001b[0m \u001b[0;32min\u001b[0m \u001b[0minput_subscripts\u001b[0m\u001b[0;34m:\u001b[0m\u001b[0;34m\u001b[0m\u001b[0m\n\u001b[1;32m    416\u001b[0m             raise ValueError(\"Output character %s did not appear in the input\"\n",
      "\u001b[0;31mKeyboardInterrupt\u001b[0m: "
     ]
    }
   ],
   "source": [
    "pred = {}\n",
    "a = 5\n",
    "b = 3\n",
    "n_splits = 10\n",
    "kf = KFold(n_splits = n_splits)\n",
    "\n",
    "for method in ['normal','transfer']:\n",
    "    pred[method] = {}\n",
    "    for static_fac in ['static', 'None']:\n",
    "        pred[method][static_fac] = {}\n",
    "        for random_seed in range(5):\n",
    "            pred[method][static_fac][random_seed] = {}\n",
    "            for appliance in APPLIANCES_ORDER:\n",
    "                pred[method][static_fac][random_seed][appliance] = {f:[] for f in range(10, 110, 40)}\n",
    "for random_seed in range(5):\n",
    "    np.random.seed(random_seed)\n",
    "    for train_percentage in range(10, 110, 40):\n",
    "        rd = 0\n",
    "        for train_max, test in kf.split(sd_df):\n",
    "            print (random_seed, train_percentage, rd)\n",
    "            rd += 1\n",
    "\n",
    "            num_train = int((train_percentage*len(train_max)/100)+0.5)\n",
    "            if train_percentage==100:\n",
    "                train = train_max\n",
    "            else:\n",
    "                train, _ = train_test_split(train_max, train_size = train_percentage/100.0)\n",
    "            train_ix = sd_df.index[train]\n",
    "            test_ix = sd_df.index[test]\n",
    "\n",
    "            num_test = len(test_ix)\n",
    "            train_test_ix = np.concatenate([test_ix, train_ix])\n",
    "            df_t, dfc_t = sd_df.ix[train_test_ix], sd_dfc.ix[train_test_ix]\n",
    "            tensor = get_tensor(df_t, dfc_t)\n",
    "\n",
    "\n",
    "            # First n\n",
    "            ################################################################\n",
    "            # Normal learning in SanDiego\n",
    "            ################################################################\n",
    "#             tensor_copy = tensor.copy()\n",
    "#             tensor_copy[:num_test, 1:, :] = np.NaN\n",
    "#             H, A, T = learn_HAT(case, tensor_copy, a, b, num_iter=3000, lr=0.1, dis=False, cost_function=cost, H_known = static_sd[np.concatenate([test, train])], T_known = np.ones(12).reshape(-1, 1))\n",
    "#             HAT = multiply_case(H, A, T, case)\n",
    "#             for appliance in APPLIANCES_ORDER:\n",
    "#                 pred['normal']['static'][random_seed][appliance][train_percentage].append(pd.DataFrame(HAT[:num_test, appliance_index[appliance], :], index=test_ix))\n",
    "\n",
    "\n",
    "#             tensor_copy = tensor.copy()\n",
    "#             tensor_copy[:num_test, 1:, :] = np.NaN\n",
    "#             H, A, T = learn_HAT(case, tensor_copy, a, b, num_iter=3000, lr=0.1, dis=False, cost_function=cost, T_known = np.ones(12).reshape(-1, 1))\n",
    "#             HAT = multiply_case(H, A, T, case)\n",
    "#             for appliance in APPLIANCES_ORDER:\n",
    "#                 pred['normal']['None'][random_seed][appliance][train_percentage].append(pd.DataFrame(HAT[:num_test, appliance_index[appliance], :], index=test_ix))\n",
    "\n",
    "\n",
    "#             tensor_copy = tensor.copy()\n",
    "#             tensor_copy[:num_test, 1:, :] = np.NaN\n",
    "#             H, A, T = learn_HAT(case, tensor_copy, a, b, num_iter=3000, lr=0.1, dis=False, cost_function=cost, H_known = static_sd[np.concatenate([test, train])], A_known = A_au, T_known=np.ones(12).reshape(-1, 1))\n",
    "#             HAT = multiply_case(H, A, T, case)\n",
    "#             print HAT[0][0][0]\n",
    "#             for appliance in APPLIANCES_ORDER:\n",
    "#                 pred['transfer']['static'][random_seed][appliance][train_percentage].append(pd.DataFrame(HAT[:num_test, appliance_index[appliance], :], index=test_ix))\n",
    "\n",
    "           \n",
    "            tensor_copy = tensor.copy()\n",
    "            tensor_copy[:num_test, 1:, :] = np.NaN\n",
    "            H, A, T = learn_HAT(case, tensor_copy, a, b, num_iter=3000, lr=0.1, dis=False, cost_function=cost, A_known = A_au, T_known=np.ones(12).reshape(-1, 1))\n",
    "            HAT = multiply_case(H, A, T, case)\n",
    "            print (HAT[0][0][0])\n",
    "            for appliance in APPLIANCES_ORDER:\n",
    "                pred['transfer']['None'][random_seed][appliance][train_percentage].append(pd.DataFrame(HAT[:num_test, appliance_index[appliance], :], index=test_ix))\n"
   ]
  },
  {
   "cell_type": "code",
   "execution_count": 50,
   "metadata": {},
   "outputs": [
    {
     "name": "stderr",
     "output_type": "stream",
     "text": [
      "/Users/xox/Library/Python/2.7/lib/python/site-packages/ipykernel_launcher.py:12: DeprecationWarning: \n",
      ".ix is deprecated. Please use\n",
      ".loc for label based indexing or\n",
      ".iloc for positional indexing\n",
      "\n",
      "See the documentation here:\n",
      "http://pandas.pydata.org/pandas-docs/stable/indexing.html#ix-indexer-is-deprecated\n",
      "  if sys.path[0] == '':\n"
     ]
    }
   ],
   "source": [
    "out = {}\n",
    "\n",
    "for method in ['transfer']:\n",
    "    out[method] = {}\n",
    "    for static_fac  in ['None']:\n",
    "        out[method][static_fac] = {}\n",
    "        for random_seed in range(5):\n",
    "            out[method][static_fac][random_seed] = {}   \n",
    "            for appliance in APPLIANCES_ORDER[1:]:\n",
    "                out[method][static_fac][random_seed][appliance] = {}\n",
    "                for f in range(10,110,40):\n",
    "                    s = pd.concat(pred[method][static_fac][random_seed][appliance][f]).ix[sd_df.index]\n",
    "                    if appliance==\"hvac\":\n",
    "                        out[method][static_fac][random_seed][appliance][f] = compute_rmse_fraction(appliance,s[range(4, 10)],'SanDiego')[2]\n",
    "                    else:   \n",
    "                        out[method][static_fac][random_seed][appliance][f] = compute_rmse_fraction(appliance, s,'SanDiego')[2]"
   ]
  },
  {
   "cell_type": "code",
   "execution_count": 51,
   "metadata": {},
   "outputs": [
    {
     "data": {
      "text/plain": [
       "{'dw': {10: 2.1974601588053604, 50: 1.8538342513319075, 90: 1.879073346478346},\n",
       " 'fridge': {10: 7.8778885840015214,\n",
       "  50: 9.1607097866569642,\n",
       "  90: 9.422448843550395},\n",
       " 'hvac': {10: 34.078369918431413,\n",
       "  50: 20.831243322475551,\n",
       "  90: 15.891318893503932},\n",
       " 'mw': {10: 1.7432152463721919,\n",
       "  50: 1.9495546541563431,\n",
       "  90: 2.0329543461398196},\n",
       " 'oven': {10: 2.4321658275940452,\n",
       "  50: 2.0846368912265199,\n",
       "  90: 2.0501985198492103},\n",
       " 'wm': {10: 0.77116843464291218,\n",
       "  50: 0.6289225580037523,\n",
       "  90: 0.65555745169754387}}"
      ]
     },
     "execution_count": 51,
     "metadata": {},
     "output_type": "execute_result"
    }
   ],
   "source": [
    "out['transfer']['None'][0]"
   ]
  },
  {
   "cell_type": "code",
   "execution_count": 52,
   "metadata": {},
   "outputs": [],
   "source": [
    "mean_out = {}\n",
    "for method in ['transfer']:\n",
    "    mean_out[method] = {}\n",
    "    for static_fac  in ['None']:\n",
    "        mean_out[method][static_fac] = pd.Panel(out[method][static_fac]).mean(axis=0)"
   ]
  },
  {
   "cell_type": "code",
   "execution_count": 53,
   "metadata": {},
   "outputs": [
    {
     "data": {
      "text/plain": [
       "{'transfer': {'None':           dw    fridge       hvac        mw      oven        wm\n",
       "  10  2.219052  7.918347  34.551856  1.745054  2.469732  0.771326\n",
       "  50  1.853834  9.160710  20.831243  1.949555  2.084637  0.628923\n",
       "  90  1.879073  9.422449  15.891319  2.032954  2.050199  0.655557}}"
      ]
     },
     "execution_count": 53,
     "metadata": {},
     "output_type": "execute_result"
    }
   ],
   "source": [
    "mean_out"
   ]
  },
  {
   "cell_type": "code",
   "execution_count": 14,
   "metadata": {},
   "outputs": [
    {
     "data": {
      "text/plain": [
       "<matplotlib.legend.Legend at 0x114e7f390>"
      ]
     },
     "execution_count": 14,
     "metadata": {},
     "output_type": "execute_result"
    },
    {
     "data": {
      "image/png": "[encoded data removed]",
      "text/plain": [
       "<matplotlib.figure.Figure at 0x114246150>"
      ]
     },
     "metadata": {},
     "output_type": "display_data"
    }
   ],
   "source": [
    "fig, axes = plt.subplots(nrows=1, ncols=6, figsize=(50, 80))\n",
    "ax = axes.flatten()\n",
    "count = 0\n",
    "\n",
    "for appliance in APPLIANCES_ORDER[1:]:\n",
    "#     print appliance\n",
    "    df1 = mean_out['normal']['static'][appliance]\n",
    "    df2 = mean_out['normal']['None'][appliance]\n",
    "    df3 = mean_out['transfer']['static'][appliance]\n",
    "    df4 = mean_out['transfer']['None'][appliance]\n",
    "    df = pd.concat([df1, df2, df3, df4], axis = 1)\n",
    "    pd.DataFrame(df).plot(ax=ax[count],figsize=(18, 3), marker='o', xlim=(0, 110), color=['b', 'g','r', 'y', 'k', 'c'])\n",
    "    ax[count].legend(loc='best', bbox_to_anchor=(1.0, 0.5))\n",
    "\n",
    "\n",
    "#     major_ticks = np.arange(0, 101, 20)   \n",
    "\n",
    "    ax[count].set_xlabel(\"% training\");\n",
    "    ax[count].locator_params(tight=False, nbins=20, axis='x')\n",
    "    ax[count].set_title(appliance, loc=\"left\")\n",
    "    ax[count].legend().set_visible(False)\n",
    "    count += 1\n",
    "ax[0].set_ylabel('RMSE fraction')\n",
    "\n",
    "ax[count-1].legend([\"normal, with\", 'normal, without', 'transfer, with', 'transfer, without'], loc='center left' , bbox_to_anchor=(1, 1))\n",
    "# plt.savefig(\"./analysis/0720/with_without_static_.pdf\", bbox_inches=\"tight\", dpi=300, format='pdf')"
   ]
  },
  {
   "cell_type": "markdown",
   "metadata": {},
   "source": [
    "### Read from files"
   ]
  },
  {
   "cell_type": "code",
   "execution_count": 15,
   "metadata": {
    "collapsed": true
   },
   "outputs": [],
   "source": [
    "import pickle\n",
    "\n",
    "def load_obj(name):\n",
    "    with open(os.path.expanduser('~/git/' + name + '.pkl'), 'rb') as f:\n",
    "        return pickle.load(f)"
   ]
  },
  {
   "cell_type": "code",
   "execution_count": 35,
   "metadata": {},
   "outputs": [],
   "source": [
    "pred = {}\n",
    "for method in ['normal', 'transfer']:\n",
    "    pred[method] = {}\n",
    "    for algo in ['adagrad', 'gd']:\n",
    "        pred[method][algo] = {}\n",
    "        for static_fac in ['static', 'None']:\n",
    "            pred[method][algo][static_fac] = {}\n",
    "            for random_seed in range(10):\n",
    "                pred[method][algo][static_fac][random_seed] = load_obj(\"pred_static/pred_{}_{}_{}_{}\".format(method, algo, static_fac, random_seed))"
   ]
  },
  {
   "cell_type": "code",
   "execution_count": 38,
   "metadata": {
    "collapsed": true
   },
   "outputs": [
    {
     "name": "stdout",
     "output_type": "stream",
     "text": [
      "('normal', 'adagrad', 'static', 0, 'hvac')\n",
      "('normal', 'adagrad', 'static', 0, 'fridge')\n"
     ]
    },
    {
     "name": "stderr",
     "output_type": "stream",
     "text": [
      "/Users/xox/Library/Python/2.7/lib/python/site-packages/ipykernel_launcher.py:15: DeprecationWarning: \n",
      ".ix is deprecated. Please use\n",
      ".loc for label based indexing or\n",
      ".iloc for positional indexing\n",
      "\n",
      "See the documentation here:\n",
      "http://pandas.pydata.org/pandas-docs/stable/indexing.html#ix-indexer-is-deprecated\n",
      "  from ipykernel import kernelapp as app\n"
     ]
    },
    {
     "name": "stdout",
     "output_type": "stream",
     "text": [
      "('normal', 'adagrad', 'static', 0, 'mw')\n",
      "('normal', 'adagrad', 'static', 0, 'dw')\n",
      "('normal', 'adagrad', 'static', 0, 'wm')\n",
      "('normal', 'adagrad', 'static', 0, 'oven')\n",
      "('normal', 'adagrad', 'static', 1, 'hvac')\n",
      "('normal', 'adagrad', 'static', 1, 'fridge')\n",
      "('normal', 'adagrad', 'static', 1, 'mw')\n",
      "('normal', 'adagrad', 'static', 1, 'dw')\n",
      "('normal', 'adagrad', 'static', 1, 'wm')\n",
      "('normal', 'adagrad', 'static', 1, 'oven')\n",
      "('normal', 'adagrad', 'static', 2, 'hvac')\n",
      "('normal', 'adagrad', 'static', 2, 'fridge')\n",
      "('normal', 'adagrad', 'static', 2, 'mw')\n",
      "('normal', 'adagrad', 'static', 2, 'dw')\n",
      "('normal', 'adagrad', 'static', 2, 'wm')\n",
      "('normal', 'adagrad', 'static', 2, 'oven')\n",
      "('normal', 'adagrad', 'static', 3, 'hvac')\n",
      "('normal', 'adagrad', 'static', 3, 'fridge')\n",
      "('normal', 'adagrad', 'static', 3, 'mw')\n",
      "('normal', 'adagrad', 'static', 3, 'dw')\n",
      "('normal', 'adagrad', 'static', 3, 'wm')\n",
      "('normal', 'adagrad', 'static', 3, 'oven')\n",
      "('normal', 'adagrad', 'static', 4, 'hvac')\n",
      "('normal', 'adagrad', 'static', 4, 'fridge')\n",
      "('normal', 'adagrad', 'static', 4, 'mw')\n",
      "('normal', 'adagrad', 'static', 4, 'dw')\n",
      "('normal', 'adagrad', 'static', 4, 'wm')\n",
      "('normal', 'adagrad', 'static', 4, 'oven')\n",
      "('normal', 'adagrad', 'None', 0, 'hvac')\n",
      "('normal', 'adagrad', 'None', 0, 'fridge')\n",
      "('normal', 'adagrad', 'None', 0, 'mw')\n",
      "('normal', 'adagrad', 'None', 0, 'dw')\n",
      "('normal', 'adagrad', 'None', 0, 'wm')\n",
      "('normal', 'adagrad', 'None', 0, 'oven')\n",
      "('normal', 'adagrad', 'None', 1, 'hvac')\n",
      "('normal', 'adagrad', 'None', 1, 'fridge')\n",
      "('normal', 'adagrad', 'None', 1, 'mw')\n",
      "('normal', 'adagrad', 'None', 1, 'dw')\n",
      "('normal', 'adagrad', 'None', 1, 'wm')\n",
      "('normal', 'adagrad', 'None', 1, 'oven')\n",
      "('normal', 'adagrad', 'None', 2, 'hvac')\n",
      "('normal', 'adagrad', 'None', 2, 'fridge')\n",
      "('normal', 'adagrad', 'None', 2, 'mw')\n",
      "('normal', 'adagrad', 'None', 2, 'dw')\n",
      "('normal', 'adagrad', 'None', 2, 'wm')\n",
      "('normal', 'adagrad', 'None', 2, 'oven')\n",
      "('normal', 'adagrad', 'None', 3, 'hvac')\n",
      "('normal', 'adagrad', 'None', 3, 'fridge')\n",
      "('normal', 'adagrad', 'None', 3, 'mw')\n",
      "('normal', 'adagrad', 'None', 3, 'dw')\n",
      "('normal', 'adagrad', 'None', 3, 'wm')\n",
      "('normal', 'adagrad', 'None', 3, 'oven')\n",
      "('normal', 'adagrad', 'None', 4, 'hvac')\n",
      "('normal', 'adagrad', 'None', 4, 'fridge')\n",
      "('normal', 'adagrad', 'None', 4, 'mw')\n",
      "('normal', 'adagrad', 'None', 4, 'dw')\n",
      "('normal', 'adagrad', 'None', 4, 'wm')\n",
      "('normal', 'adagrad', 'None', 4, 'oven')\n",
      "('normal', 'gd', 'static', 0, 'hvac')\n",
      "('normal', 'gd', 'static', 0, 'fridge')\n",
      "('normal', 'gd', 'static', 0, 'mw')\n",
      "('normal', 'gd', 'static', 0, 'dw')\n",
      "('normal', 'gd', 'static', 0, 'wm')\n",
      "('normal', 'gd', 'static', 0, 'oven')\n",
      "('normal', 'gd', 'static', 1, 'hvac')\n",
      "('normal', 'gd', 'static', 1, 'fridge')\n",
      "('normal', 'gd', 'static', 1, 'mw')\n",
      "('normal', 'gd', 'static', 1, 'dw')\n",
      "('normal', 'gd', 'static', 1, 'wm')\n",
      "('normal', 'gd', 'static', 1, 'oven')\n",
      "('normal', 'gd', 'static', 2, 'hvac')\n",
      "('normal', 'gd', 'static', 2, 'fridge')\n",
      "('normal', 'gd', 'static', 2, 'mw')\n",
      "('normal', 'gd', 'static', 2, 'dw')\n",
      "('normal', 'gd', 'static', 2, 'wm')\n",
      "('normal', 'gd', 'static', 2, 'oven')\n",
      "('normal', 'gd', 'static', 3, 'hvac')\n",
      "('normal', 'gd', 'static', 3, 'fridge')\n",
      "('normal', 'gd', 'static', 3, 'mw')\n",
      "('normal', 'gd', 'static', 3, 'dw')\n",
      "('normal', 'gd', 'static', 3, 'wm')\n",
      "('normal', 'gd', 'static', 3, 'oven')\n",
      "('normal', 'gd', 'static', 4, 'hvac')\n",
      "('normal', 'gd', 'static', 4, 'fridge')\n",
      "('normal', 'gd', 'static', 4, 'mw')\n",
      "('normal', 'gd', 'static', 4, 'dw')\n",
      "('normal', 'gd', 'static', 4, 'wm')\n",
      "('normal', 'gd', 'static', 4, 'oven')\n",
      "('normal', 'gd', 'None', 0, 'hvac')\n",
      "('normal', 'gd', 'None', 0, 'fridge')\n",
      "('normal', 'gd', 'None', 0, 'mw')\n",
      "('normal', 'gd', 'None', 0, 'dw')\n",
      "('normal', 'gd', 'None', 0, 'wm')\n",
      "('normal', 'gd', 'None', 0, 'oven')\n",
      "('normal', 'gd', 'None', 1, 'hvac')\n",
      "('normal', 'gd', 'None', 1, 'fridge')\n",
      "('normal', 'gd', 'None', 1, 'mw')\n",
      "('normal', 'gd', 'None', 1, 'dw')\n",
      "('normal', 'gd', 'None', 1, 'wm')\n",
      "('normal', 'gd', 'None', 1, 'oven')\n",
      "('normal', 'gd', 'None', 2, 'hvac')\n",
      "('normal', 'gd', 'None', 2, 'fridge')\n",
      "('normal', 'gd', 'None', 2, 'mw')\n",
      "('normal', 'gd', 'None', 2, 'dw')\n",
      "('normal', 'gd', 'None', 2, 'wm')\n",
      "('normal', 'gd', 'None', 2, 'oven')\n",
      "('normal', 'gd', 'None', 3, 'hvac')\n",
      "('normal', 'gd', 'None', 3, 'fridge')\n",
      "('normal', 'gd', 'None', 3, 'mw')\n",
      "('normal', 'gd', 'None', 3, 'dw')\n",
      "('normal', 'gd', 'None', 3, 'wm')\n",
      "('normal', 'gd', 'None', 3, 'oven')\n",
      "('normal', 'gd', 'None', 4, 'hvac')\n",
      "('normal', 'gd', 'None', 4, 'fridge')\n",
      "('normal', 'gd', 'None', 4, 'mw')\n",
      "('normal', 'gd', 'None', 4, 'dw')\n",
      "('normal', 'gd', 'None', 4, 'wm')\n",
      "('normal', 'gd', 'None', 4, 'oven')\n",
      "('transfer', 'adagrad', 'static', 0, 'hvac')\n",
      "('transfer', 'adagrad', 'static', 0, 'fridge')\n",
      "('transfer', 'adagrad', 'static', 0, 'mw')\n",
      "('transfer', 'adagrad', 'static', 0, 'dw')\n",
      "('transfer', 'adagrad', 'static', 0, 'wm')\n",
      "('transfer', 'adagrad', 'static', 0, 'oven')\n",
      "('transfer', 'adagrad', 'static', 1, 'hvac')\n",
      "('transfer', 'adagrad', 'static', 1, 'fridge')\n",
      "('transfer', 'adagrad', 'static', 1, 'mw')\n",
      "('transfer', 'adagrad', 'static', 1, 'dw')\n",
      "('transfer', 'adagrad', 'static', 1, 'wm')\n",
      "('transfer', 'adagrad', 'static', 1, 'oven')\n",
      "('transfer', 'adagrad', 'static', 2, 'hvac')\n",
      "('transfer', 'adagrad', 'static', 2, 'fridge')\n",
      "('transfer', 'adagrad', 'static', 2, 'mw')\n",
      "('transfer', 'adagrad', 'static', 2, 'dw')\n",
      "('transfer', 'adagrad', 'static', 2, 'wm')\n",
      "('transfer', 'adagrad', 'static', 2, 'oven')\n",
      "('transfer', 'adagrad', 'static', 3, 'hvac')\n",
      "('transfer', 'adagrad', 'static', 3, 'fridge')\n",
      "('transfer', 'adagrad', 'static', 3, 'mw')\n",
      "('transfer', 'adagrad', 'static', 3, 'dw')\n",
      "('transfer', 'adagrad', 'static', 3, 'wm')\n",
      "('transfer', 'adagrad', 'static', 3, 'oven')\n",
      "('transfer', 'adagrad', 'static', 4, 'hvac')\n",
      "('transfer', 'adagrad', 'static', 4, 'fridge')\n",
      "('transfer', 'adagrad', 'static', 4, 'mw')\n",
      "('transfer', 'adagrad', 'static', 4, 'dw')\n",
      "('transfer', 'adagrad', 'static', 4, 'wm')\n",
      "('transfer', 'adagrad', 'static', 4, 'oven')\n",
      "('transfer', 'adagrad', 'None', 0, 'hvac')\n",
      "('transfer', 'adagrad', 'None', 0, 'fridge')\n",
      "('transfer', 'adagrad', 'None', 0, 'mw')\n",
      "('transfer', 'adagrad', 'None', 0, 'dw')\n",
      "('transfer', 'adagrad', 'None', 0, 'wm')\n",
      "('transfer', 'adagrad', 'None', 0, 'oven')\n",
      "('transfer', 'adagrad', 'None', 1, 'hvac')\n",
      "('transfer', 'adagrad', 'None', 1, 'fridge')\n",
      "('transfer', 'adagrad', 'None', 1, 'mw')\n",
      "('transfer', 'adagrad', 'None', 1, 'dw')\n",
      "('transfer', 'adagrad', 'None', 1, 'wm')\n",
      "('transfer', 'adagrad', 'None', 1, 'oven')\n",
      "('transfer', 'adagrad', 'None', 2, 'hvac')\n",
      "('transfer', 'adagrad', 'None', 2, 'fridge')\n",
      "('transfer', 'adagrad', 'None', 2, 'mw')\n",
      "('transfer', 'adagrad', 'None', 2, 'dw')\n",
      "('transfer', 'adagrad', 'None', 2, 'wm')\n",
      "('transfer', 'adagrad', 'None', 2, 'oven')\n",
      "('transfer', 'adagrad', 'None', 3, 'hvac')\n",
      "('transfer', 'adagrad', 'None', 3, 'fridge')\n",
      "('transfer', 'adagrad', 'None', 3, 'mw')\n",
      "('transfer', 'adagrad', 'None', 3, 'dw')\n",
      "('transfer', 'adagrad', 'None', 3, 'wm')\n",
      "('transfer', 'adagrad', 'None', 3, 'oven')\n",
      "('transfer', 'adagrad', 'None', 4, 'hvac')\n",
      "('transfer', 'adagrad', 'None', 4, 'fridge')\n",
      "('transfer', 'adagrad', 'None', 4, 'mw')\n",
      "('transfer', 'adagrad', 'None', 4, 'dw')\n",
      "('transfer', 'adagrad', 'None', 4, 'wm')\n",
      "('transfer', 'adagrad', 'None', 4, 'oven')\n",
      "('transfer', 'gd', 'static', 0, 'hvac')\n",
      "('transfer', 'gd', 'static', 0, 'fridge')\n",
      "('transfer', 'gd', 'static', 0, 'mw')\n",
      "('transfer', 'gd', 'static', 0, 'dw')\n",
      "('transfer', 'gd', 'static', 0, 'wm')\n",
      "('transfer', 'gd', 'static', 0, 'oven')\n",
      "('transfer', 'gd', 'static', 1, 'hvac')\n",
      "('transfer', 'gd', 'static', 1, 'fridge')\n",
      "('transfer', 'gd', 'static', 1, 'mw')\n",
      "('transfer', 'gd', 'static', 1, 'dw')\n",
      "('transfer', 'gd', 'static', 1, 'wm')\n",
      "('transfer', 'gd', 'static', 1, 'oven')\n",
      "('transfer', 'gd', 'static', 2, 'hvac')\n",
      "('transfer', 'gd', 'static', 2, 'fridge')\n",
      "('transfer', 'gd', 'static', 2, 'mw')\n",
      "('transfer', 'gd', 'static', 2, 'dw')\n",
      "('transfer', 'gd', 'static', 2, 'wm')\n",
      "('transfer', 'gd', 'static', 2, 'oven')\n",
      "('transfer', 'gd', 'static', 3, 'hvac')\n",
      "('transfer', 'gd', 'static', 3, 'fridge')\n",
      "('transfer', 'gd', 'static', 3, 'mw')\n",
      "('transfer', 'gd', 'static', 3, 'dw')\n",
      "('transfer', 'gd', 'static', 3, 'wm')\n",
      "('transfer', 'gd', 'static', 3, 'oven')\n",
      "('transfer', 'gd', 'static', 4, 'hvac')\n",
      "('transfer', 'gd', 'static', 4, 'fridge')\n"
     ]
    },
    {
     "name": "stdout",
     "output_type": "stream",
     "text": [
      "('transfer', 'gd', 'static', 4, 'mw')\n",
      "('transfer', 'gd', 'static', 4, 'dw')\n",
      "('transfer', 'gd', 'static', 4, 'wm')\n",
      "('transfer', 'gd', 'static', 4, 'oven')\n",
      "('transfer', 'gd', 'None', 0, 'hvac')\n",
      "('transfer', 'gd', 'None', 0, 'fridge')\n",
      "('transfer', 'gd', 'None', 0, 'mw')\n",
      "('transfer', 'gd', 'None', 0, 'dw')\n",
      "('transfer', 'gd', 'None', 0, 'wm')\n",
      "('transfer', 'gd', 'None', 0, 'oven')\n",
      "('transfer', 'gd', 'None', 1, 'hvac')\n",
      "('transfer', 'gd', 'None', 1, 'fridge')\n",
      "('transfer', 'gd', 'None', 1, 'mw')\n",
      "('transfer', 'gd', 'None', 1, 'dw')\n",
      "('transfer', 'gd', 'None', 1, 'wm')\n",
      "('transfer', 'gd', 'None', 1, 'oven')\n",
      "('transfer', 'gd', 'None', 2, 'hvac')\n",
      "('transfer', 'gd', 'None', 2, 'fridge')\n",
      "('transfer', 'gd', 'None', 2, 'mw')\n",
      "('transfer', 'gd', 'None', 2, 'dw')\n",
      "('transfer', 'gd', 'None', 2, 'wm')\n",
      "('transfer', 'gd', 'None', 2, 'oven')\n",
      "('transfer', 'gd', 'None', 3, 'hvac')\n",
      "('transfer', 'gd', 'None', 3, 'fridge')\n",
      "('transfer', 'gd', 'None', 3, 'mw')\n",
      "('transfer', 'gd', 'None', 3, 'dw')\n",
      "('transfer', 'gd', 'None', 3, 'wm')\n",
      "('transfer', 'gd', 'None', 3, 'oven')\n",
      "('transfer', 'gd', 'None', 4, 'hvac')\n",
      "('transfer', 'gd', 'None', 4, 'fridge')\n",
      "('transfer', 'gd', 'None', 4, 'mw')\n",
      "('transfer', 'gd', 'None', 4, 'dw')\n",
      "('transfer', 'gd', 'None', 4, 'wm')\n",
      "('transfer', 'gd', 'None', 4, 'oven')\n"
     ]
    }
   ],
   "source": [
    "out = {}\n",
    "\n",
    "for method in ['normal', 'transfer']:\n",
    "    out[method] = {}\n",
    "    for algo in ['adagrad', 'gd']:\n",
    "        out[method][algo] = {}\n",
    "        for static_fac  in ['static', 'None']:\n",
    "            out[method][algo][static_fac] = {}\n",
    "            for random_seed in range(5):\n",
    "                out[method][algo][static_fac][random_seed] = {}   \n",
    "                for appliance in APPLIANCES_ORDER[1:]:\n",
    "                    print (method, algo, static_fac, random_seed, appliance)\n",
    "                    out[method][algo][static_fac][random_seed][appliance] = {}\n",
    "                    for f in range(10,110,40):\n",
    "                        s = pd.concat(pred[method][algo][static_fac][random_seed][appliance][f]).ix[sd_df.index]\n",
    "                        if appliance==\"hvac\":\n",
    "                            out[method][algo][static_fac][random_seed][appliance][f] = compute_rmse_fraction(appliance,s[range(4, 10)],'SanDiego')[2]\n",
    "                        else:   \n",
    "                            out[method][algo][static_fac][random_seed][appliance][f] = compute_rmse_fraction(appliance, s,'SanDiego')[2]\n"
   ]
  },
  {
   "cell_type": "code",
   "execution_count": 39,
   "metadata": {
    "collapsed": true
   },
   "outputs": [],
   "source": [
    "mean_out = {}\n",
    "for method in ['normal', 'transfer']:\n",
    "    mean_out[method] = {}\n",
    "    for algo in ['adagrad', 'gd']:\n",
    "        mean_out[method][algo] = {}\n",
    "        for static_fac  in ['static', 'None']:\n",
    "            mean_out[method][algo][static_fac] = pd.Panel(out[method][algo][static_fac]).mean(axis=0)"
   ]
  },
  {
   "cell_type": "code",
   "execution_count": 40,
   "metadata": {},
   "outputs": [
    {
     "data": {
      "text/plain": [
       "<matplotlib.legend.Legend at 0x11c220750>"
      ]
     },
     "execution_count": 40,
     "metadata": {},
     "output_type": "execute_result"
    },
    {
     "data": {
      "image/png": "[encoded data removed]",
      "text/plain": [
       "<matplotlib.figure.Figure at 0x11a807750>"
      ]
     },
     "metadata": {},
     "output_type": "display_data"
    }
   ],
   "source": [
    "fig, axes = plt.subplots(nrows=1, ncols=6, figsize=(50, 80))\n",
    "ax = axes.flatten()\n",
    "count = 0\n",
    "\n",
    "for appliance in APPLIANCES_ORDER[1:]:\n",
    "#     print appliance\n",
    "    df1 = mean_out['normal']['gd']['static'][appliance]\n",
    "    df2 = mean_out['normal']['gd']['None'][appliance]\n",
    "    df3 = mean_out['transfer']['gd']['static'][appliance]\n",
    "    df4 = mean_out['transfer']['gd']['None'][appliance]\n",
    "    df = pd.concat([df1, df2, df3, df4], axis = 1)\n",
    "    pd.DataFrame(df).plot(ax=ax[count],figsize=(18, 3), marker='o', xlim=(0, 110), color=['b', 'g','r', 'y', 'k', 'c'])\n",
    "    ax[count].legend(loc='best', bbox_to_anchor=(1.0, 0.5))\n",
    "\n",
    "\n",
    "#     major_ticks = np.arange(0, 101, 20)   \n",
    "\n",
    "    ax[count].set_xlabel(\"% training\");\n",
    "    ax[count].locator_params(tight=False, nbins=20, axis='x')\n",
    "    ax[count].set_title(appliance, loc=\"left\")\n",
    "    ax[count].legend().set_visible(False)\n",
    "    count += 1\n",
    "ax[0].set_ylabel('RMSE fraction')\n",
    "\n",
    "ax[count-1].legend([\"normal, with\", 'normal, without', 'transfer, with', 'transfer, without'], loc='center left' , bbox_to_anchor=(1, 1))\n",
    "# plt.savefig(\"./analysis/0720/with_without_static_.pdf\", bbox_inches=\"tight\", dpi=300, format='pdf')"
   ]
  },
  {
   "cell_type": "code",
   "execution_count": 28,
   "metadata": {
    "collapsed": true
   },
   "outputs": [],
   "source": [
    "pred1 = load_obj('pred_static/pred_transfer_gd_static_0')\n",
    "pred2 = load_obj(\"pred_transfer_gd_static_0\")"
   ]
  },
  {
   "cell_type": "code",
   "execution_count": 33,
   "metadata": {},
   "outputs": [
    {
     "name": "stderr",
     "output_type": "stream",
     "text": [
      "/Users/xox/Library/Python/2.7/lib/python/site-packages/ipykernel_launcher.py:5: DeprecationWarning: \n",
      ".ix is deprecated. Please use\n",
      ".loc for label based indexing or\n",
      ".iloc for positional indexing\n",
      "\n",
      "See the documentation here:\n",
      "http://pandas.pydata.org/pandas-docs/stable/indexing.html#ix-indexer-is-deprecated\n",
      "  \"\"\"\n"
     ]
    }
   ],
   "source": [
    "out2 = {}\n",
    "for appliance in APPLIANCES_ORDER[1:]:\n",
    "    out2[appliance] = {}\n",
    "    for f in range(10,110,10):\n",
    "        s = pd.concat(pred2[appliance][f]).ix[sd_df.index]\n",
    "        if appliance==\"hvac\":\n",
    "            out2[appliance][f] = compute_rmse_fraction(appliance,s[range(4, 10)],'SanDiego')[2]\n",
    "        else:   \n",
    "            out2[appliance][f] = compute_rmse_fraction(appliance, s,'SanDiego')[2]"
   ]
  },
  {
   "cell_type": "code",
   "execution_count": 34,
   "metadata": {},
   "outputs": [
    {
     "data": {
      "text/plain": [
       "{'dw': {10: 1.8544442656702855,\n",
       "  20: 1.8736709283651076,\n",
       "  30: 1.8546221860431766,\n",
       "  40: 1.8383568004212771,\n",
       "  50: 1.8353416141540322,\n",
       "  60: 1.8470403251980754,\n",
       "  70: 1.8402849176260874,\n",
       "  80: 1.8409686879526799,\n",
       "  90: 1.8373816487460439,\n",
       "  100: 1.8393187619254481},\n",
       " 'fridge': {10: 10.430766341768784,\n",
       "  20: 9.6004701491604756,\n",
       "  30: 9.7582145208514888,\n",
       "  40: 10.139025317419442,\n",
       "  50: 10.695458476266895,\n",
       "  60: 9.8500978127713772,\n",
       "  70: 10.260667666028388,\n",
       "  80: 9.8443523545197547,\n",
       "  90: 10.038001249308135,\n",
       "  100: 10.030962626494548},\n",
       " 'hvac': {10: 22.984168264347279,\n",
       "  20: 17.444807443779769,\n",
       "  30: 15.976320938420685,\n",
       "  40: 14.483908759140064,\n",
       "  50: 18.529075699343245,\n",
       "  60: 15.821089449575398,\n",
       "  70: 16.385174438152827,\n",
       "  80: 15.72839094704754,\n",
       "  90: 16.629389675207022,\n",
       "  100: 15.703348143485815},\n",
       " 'mw': {10: 2.0185218915161376,\n",
       "  20: 1.9380158173614532,\n",
       "  30: 1.9588636594830784,\n",
       "  40: 2.0494381111622491,\n",
       "  50: 2.1082804592581543,\n",
       "  60: 2.0669171608191639,\n",
       "  70: 2.1134395301378479,\n",
       "  80: 2.0963451766291827,\n",
       "  90: 2.1124034571423445,\n",
       "  100: 2.1168727756906223},\n",
       " 'oven': {10: 2.3480125406433388,\n",
       "  20: 2.0353185926353046,\n",
       "  30: 2.0103827727594239,\n",
       "  40: 2.1046651513472021,\n",
       "  50: 2.2076602319066194,\n",
       "  60: 2.0795595181418887,\n",
       "  70: 2.1219281727061667,\n",
       "  80: 2.0691781523851014,\n",
       "  90: 2.1065631968261602,\n",
       "  100: 2.1090116443266638},\n",
       " 'wm': {10: 0.6982428329281346,\n",
       "  20: 0.62506939122448968,\n",
       "  30: 0.61183655758186528,\n",
       "  40: 0.62054710771857624,\n",
       "  50: 0.65332839690037903,\n",
       "  60: 0.66810062590661301,\n",
       "  70: 0.68395711788585278,\n",
       "  80: 0.69540453721669693,\n",
       "  90: 0.69388390884195361,\n",
       "  100: 0.69703983301761308}}"
      ]
     },
     "execution_count": 34,
     "metadata": {},
     "output_type": "execute_result"
    }
   ],
   "source": [
    "out2"
   ]
  }
 ],
 "metadata": {
  "kernelspec": {
   "display_name": "Python 2",
   "language": "python",
   "name": "python2"
  },
  "language_info": {
   "codemirror_mode": {
    "name": "ipython",
    "version": 2
   },
   "file_extension": ".py",
   "mimetype": "text/x-python",
   "name": "python",
   "nbconvert_exporter": "python",
   "pygments_lexer": "ipython2",
   "version": "2.7.10"
  }
 },
 "nbformat": 4,
 "nbformat_minor": 2
}
