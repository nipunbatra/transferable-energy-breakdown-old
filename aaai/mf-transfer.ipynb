{
 "cells": [
  {
   "cell_type": "markdown",
   "metadata": {},
   "source": [
    "Training done on all homes from Austin, where we learn the home and the appliance factors. We reuse the same appliance factors in SD. We use the aggregate appliance factors to learn the home factors for SD, which we then use to predict the appliance energy."
   ]
  },
  {
   "cell_type": "code",
   "execution_count": 1,
   "metadata": {
    "collapsed": true
   },
   "outputs": [],
   "source": [
    "%matplotlib inline\n",
    "from common import APPLIANCES_ORDER, compute_rmse_fraction"
   ]
  },
  {
   "cell_type": "code",
   "execution_count": 2,
   "metadata": {
    "collapsed": true
   },
   "outputs": [],
   "source": [
    "from mf_core import *\n",
    "\n",
    "import numpy as np\n",
    "import pandas as pd\n",
    "import sys\n",
    "import os\n",
    "from create_matrix import *\n",
    "from sklearn.model_selection import LeaveOneOut\n",
    "from sklearn.neighbors import KNeighborsRegressor\n",
    "import pickle\n",
    "\n",
    "\n",
    "from degree_days import dds\n",
    "appliance_index = {appliance: APPLIANCES_ORDER.index(appliance) for appliance in APPLIANCES_ORDER}\n",
    "\n",
    "APPLIANCES = ['fridge', 'hvac', 'wm', 'mw', 'oven', 'dw']"
   ]
  },
  {
   "cell_type": "code",
   "execution_count": 3,
   "metadata": {},
   "outputs": [
    {
     "name": "stdout",
     "output_type": "stream",
     "text": [
      "hvac\n",
      "'7'\n",
      "'8'\n",
      "'9'\n",
      "fridge\n",
      "'7'\n",
      "'8'\n",
      "'9'\n",
      "mw\n",
      "'7'\n",
      "'8'\n",
      "'9'\n",
      "dw\n",
      "'7'\n",
      "'8'\n",
      "'9'\n",
      "wm\n",
      "'7'\n",
      "'8'\n",
      "'9'\n",
      "oven\n",
      "'7'\n",
      "'8'\n",
      "'9'\n"
     ]
    }
   ],
   "source": [
    "# Computing the best number of latent factors\n",
    "import pickle\n",
    "mf_all_p = pickle.load(open(\"predictions/o_mf_all_appliances.pkl\",'r'))['mf_all_appliances']\n",
    "\n",
    "mf_all_results = {}\n",
    "feature='energy'\n",
    "\n",
    "dataset = 'False'\n",
    "cost = 'absolute'\n",
    "for appliance in APPLIANCES_ORDER[1:]:\n",
    "    print(appliance)\n",
    "    mf_all_results[appliance] = {}\n",
    "    \n",
    "    for lat in [str(x) for x in range(1, 10)]:\n",
    "        try:\n",
    "            pred = mf_all_p[appliance][feature][cost][dataset][lat]\n",
    "            if appliance==\"hvac\":\n",
    "                pred = pred[['hvac_%d' %month for month in range(5, 11)]]\n",
    "            alpha, beta, error, e  = compute_rmse_fraction(appliance, pred)\n",
    "            mf_all_results[appliance][lat] = error\n",
    "            \n",
    "        except Exception, e:\n",
    "            print(e)"
   ]
  },
  {
   "cell_type": "code",
   "execution_count": 4,
   "metadata": {},
   "outputs": [],
   "source": [
    "num_lat = int(pd.DataFrame(mf_all_results).mean(axis=1).argmin())"
   ]
  },
  {
   "cell_type": "code",
   "execution_count": 5,
   "metadata": {},
   "outputs": [],
   "source": [
    "import sys\n",
    "\n",
    "features, cost, all_features, latent_factors = \"energy\", \"absolute\", False, num_lat\n",
    "region = 'Austin'\n",
    "year = 2014\n",
    "df, dfc = create_matrix_single_region('Austin', 2014)\n",
    "start, stop = 1, 13\n",
    "energy_cols = np.array(\n",
    "    [['%s_%d' % (appliance, month) for month in range(start, stop)] for appliance in APPLIANCES_ORDER]).flatten()\n",
    "\n",
    "static_cols = ['area', 'total_occupants', 'num_rooms']\n",
    "static_df = df[static_cols]\n",
    "static_df = static_df.div(static_df.max())\n",
    "weather_values = np.array(dds[2014][region][start - 1:stop - 1]).reshape(-1, 1)\n",
    "\n",
    "dfc = df.copy()\n",
    "\n",
    "df = dfc[energy_cols]\n",
    "col_max = df.max().max()\n",
    "col_min = df.min().min()\n",
    "\n",
    "X_matrix, X_normalised, matrix_max, matrix_min = preprocess_all_appliances(df, dfc)\n",
    "static_features = get_static_features(dfc, X_normalised)\n",
    "feature_comb = ['None']\n",
    "idx_user, data_user = prepare_known_features(feature_comb, static_features, X_normalised)\n",
    "\n",
    "test_ix = 0\n",
    "\n",
    "test_home = df.index.values[test_ix]\n",
    "A = create_matrix_factorised_all_appliances([test_home], X_normalised)\n",
    "X, Y, res = nmf_features(A=A, k=latent_factors, constant=0.01, regularisation=False,\n",
    "                         idx_user=idx_user, data_user=data_user,\n",
    "                         idx_item=None, data_item=None, MAX_ITERS=15, cost=cost)"
   ]
  },
  {
   "cell_type": "code",
   "execution_count": 6,
   "metadata": {},
   "outputs": [],
   "source": [
    "pred = pd.DataFrame(Y*X)\n",
    "pred.index = df.index\n",
    "pred.columns = X_normalised.columns"
   ]
  },
  {
   "cell_type": "code",
   "execution_count": 7,
   "metadata": {},
   "outputs": [],
   "source": [
    "austin_appliance_factors = np.array(X)\n",
    "austin_aggregate_factors = austin_appliance_factors[:, :12]"
   ]
  },
  {
   "cell_type": "code",
   "execution_count": 8,
   "metadata": {},
   "outputs": [],
   "source": [
    "sd_df, sd_dfc = create_matrix_single_region('SanDiego', 2014)\n",
    "start, stop = 1, 13\n",
    "energy_cols = np.array(\n",
    "    [['%s_%d' % (appliance, month) for month in range(start, stop)] for appliance in APPLIANCES_ORDER]).flatten()\n",
    "\n",
    "static_cols = ['area', 'total_occupants', 'num_rooms']\n",
    "static_df = sd_df[static_cols]\n",
    "static_df = static_df.div(static_df.max())\n",
    "weather_values = np.array(dds[2014][region][start - 1:stop - 1]).reshape(-1, 1)\n",
    "\n",
    "sd_dfc = sd_df.copy()\n",
    "\n",
    "sd_df = sd_dfc[energy_cols]"
   ]
  },
  {
   "cell_type": "code",
   "execution_count": 9,
   "metadata": {},
   "outputs": [],
   "source": [
    "agg_sd_energy = sd_df.values[:,:12]\n",
    "from scipy.optimize import nnls"
   ]
  },
  {
   "cell_type": "code",
   "execution_count": 10,
   "metadata": {},
   "outputs": [],
   "source": [
    "m, n  = agg_sd_energy.shape\n",
    "k, _ = austin_aggregate_factors.shape\n",
    "sd_homes_factors = np.zeros((m ,k))\n",
    "for j in range(m):\n",
    "    mask_rows = pd.Series(agg_sd_energy[j,:]).notnull()\n",
    "    sd_homes_factors[j,:] = nnls(austin_aggregate_factors.transpose()[mask_rows], agg_sd_energy[j,:][mask_rows])[0]"
   ]
  },
  {
   "cell_type": "code",
   "execution_count": 12,
   "metadata": {
    "collapsed": true
   },
   "outputs": [],
   "source": [
    "pred_df_sd = pd.DataFrame(np.dot(sd_homes_factors, austin_appliance_factors))"
   ]
  },
  {
   "cell_type": "code",
   "execution_count": 13,
   "metadata": {},
   "outputs": [],
   "source": [
    "pred_df_sd.columns = sd_df.columns\n",
    "pred_df_sd.index = sd_df.index"
   ]
  },
  {
   "cell_type": "code",
   "execution_count": 14,
   "metadata": {},
   "outputs": [],
   "source": [
    "from common import compute_rmse_fraction"
   ]
  },
  {
   "cell_type": "code",
   "execution_count": 15,
   "metadata": {},
   "outputs": [],
   "source": [
    "mf_res = {}\n",
    "for appliance in APPLIANCES_ORDER[1:]:\n",
    "    if appliance==\"hvac\":\n",
    "        start, stop = 5, 11\n",
    "    else:\n",
    "        start, stop = 1, 13\n",
    "    mf_res[appliance] = compute_rmse_fraction(appliance, pred_df_sd[['%s_%d' %(appliance, month) for month in range(start, stop)]], 'SanDiego')[2]"
   ]
  },
  {
   "cell_type": "code",
   "execution_count": 16,
   "metadata": {},
   "outputs": [
    {
     "data": {
      "text/plain": [
       "dw        97.077255\n",
       "fridge    10.572350\n",
       "hvac      26.184838\n",
       "mw        62.521991\n",
       "oven       4.527526\n",
       "wm        36.853539\n",
       "dtype: float64"
      ]
     },
     "execution_count": 16,
     "metadata": {},
     "output_type": "execute_result"
    }
   ],
   "source": [
    "pd.Series(mf_res)"
   ]
  },
  {
   "cell_type": "code",
   "execution_count": null,
   "metadata": {
    "collapsed": true
   },
   "outputs": [],
   "source": [
    ""
   ]
  }
 ],
 "metadata": {
  "kernelspec": {
   "display_name": "Python 2",
   "language": "python",
   "name": "python2"
  },
  "language_info": {
   "codemirror_mode": {
    "name": "ipython",
    "version": 2.0
   },
   "file_extension": ".py",
   "mimetype": "text/x-python",
   "name": "python",
   "nbconvert_exporter": "python",
   "pygments_lexer": "ipython2",
   "version": "2.7.11"
  }
 },
 "nbformat": 4,
 "nbformat_minor": 0
}