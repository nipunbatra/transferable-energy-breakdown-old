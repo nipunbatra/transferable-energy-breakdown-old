{
 "cells": [
  {
   "cell_type": "code",
   "execution_count": 1,
   "metadata": {
    "collapsed": true
   },
   "outputs": [],
   "source": [
    "import matplotlib.pyplot as plt\n",
    "%matplotlib inline\n",
    "from sklearn.model_selection import KFold"
   ]
  },
  {
   "cell_type": "code",
   "execution_count": 2,
   "metadata": {
    "collapsed": true
   },
   "outputs": [],
   "source": [
    "from create_matrix import *\n",
    "\n",
    "from tensor_custom_core import *\n",
    "from create_matrix import *\n",
    "from tensor_custom_core import *\n",
    "from degree_days import dds\n",
    "appliance_index = {appliance: APPLIANCES_ORDER.index(appliance) for appliance in APPLIANCES_ORDER}\n",
    "\n",
    "APPLIANCES = ['fridge', 'hvac', 'wm', 'mw', 'oven', 'dw']\n",
    "region = \"SanDiego\"\n",
    "year = 2014\n",
    "\n",
    "import os\n",
    "from degree_days import dds\n",
    "\n",
    "\n",
    "\n",
    "def un_normalize(x, maximum, minimum):\n",
    "    return (maximum - minimum) * x + minimum"
   ]
  },
  {
   "cell_type": "code",
   "execution_count": 3,
   "metadata": {
    "collapsed": true
   },
   "outputs": [],
   "source": [
    "def get_tensor(df, dfc):\n",
    "    start, stop = 1, 13\n",
    "    energy_cols = np.array(\n",
    "        [['%s_%d' % (appliance, month) for month in range(start, stop)] for appliance in APPLIANCES_ORDER]).flatten()\n",
    "\n",
    "    static_cols = ['area', 'total_occupants', 'num_rooms']\n",
    "    static_df = df[static_cols]\n",
    "    static_df = static_df.div(static_df.max())\n",
    "    weather_values = np.array(dds[2014][region][start - 1:stop - 1]).reshape(-1, 1)\n",
    "\n",
    "    dfc = df.copy()\n",
    "\n",
    "    df = dfc[energy_cols]\n",
    "    col_max = df.max().max()\n",
    "    col_min = df.min().min()\n",
    "    # df = (1.0 * (df - col_min)) / (col_max - col_min)\n",
    "    tensor = df.values.reshape((len(df), 7, stop - start))\n",
    "    M, N, O = tensor.shape\n",
    "    return tensor"
   ]
  },
  {
   "cell_type": "code",
   "execution_count": 4,
   "metadata": {
    "collapsed": true
   },
   "outputs": [],
   "source": [
    "sd_df, sd_dfc = create_matrix_single_region(\"SanDiego\", year)\n",
    "sd_tensor = get_tensor(sd_df, sd_dfc)\n",
    "au_df, au_dfc = create_matrix_single_region('Austin', year)\n",
    "au_tensor = get_tensor(au_df, au_dfc)\n",
    "sd_tensor_copy = sd_tensor.copy()\n",
    "au_tensor_copy = au_tensor.copy()"
   ]
  },
  {
   "cell_type": "code",
   "execution_count": 28,
   "metadata": {
    "collapsed": false
   },
   "outputs": [],
   "source": [
    "a=2\n",
    "case=2\n",
    "cost='abs'\n",
    "H_au, A_au, T_au = learn_HAT(case, au_tensor_copy, a, a, num_iter=2000, lr=0.1, dis=False, cost_function=cost)\n"
   ]
  },
  {
   "cell_type": "code",
   "execution_count": 29,
   "metadata": {
    "collapsed": true
   },
   "outputs": [],
   "source": [
    "H_sd, A_sd, T_sd = learn_HAT(case, sd_tensor_copy, a, a, num_iter=2000, lr=0.1, dis=False, cost_function=cost)"
   ]
  },
  {
   "cell_type": "code",
   "execution_count": 7,
   "metadata": {
    "collapsed": false
   },
   "outputs": [
    {
     "data": {
      "text/plain": [
       "array([[ 2.7373918 ,  5.483737  ,  0.        ],\n",
       "       [ 2.51474511,  4.73472896,  0.        ],\n",
       "       [ 3.42995343,  4.35415882,  0.        ],\n",
       "       [ 4.47318013,  3.00934251,  0.56585557],\n",
       "       [ 3.30831757,  2.5911144 ,  4.70036959],\n",
       "       [ 5.80414166,  0.2621231 ,  2.99336574],\n",
       "       [ 2.42841363,  2.36701749,  8.02668915],\n",
       "       [ 3.21304334,  1.15030641,  9.06045135],\n",
       "       [ 1.99887471,  3.15250419,  9.88394306],\n",
       "       [ 4.01488298,  3.21894855,  3.64208518],\n",
       "       [ 4.08702319,  4.0930259 ,  0.10978917],\n",
       "       [ 5.31206824,  3.98835299,  0.0492658 ]])"
      ]
     },
     "execution_count": 7,
     "metadata": {},
     "output_type": "execute_result"
    }
   ],
   "source": [
    "T_sd"
   ]
  },
  {
   "cell_type": "code",
   "execution_count": 8,
   "metadata": {
    "collapsed": false
   },
   "outputs": [
    {
     "data": {
      "text/plain": [
       "<matplotlib.axes.AxesSubplot at 0x10b979150>"
      ]
     },
     "execution_count": 8,
     "metadata": {},
     "output_type": "execute_result"
    },
    {
     "data": {
      "image/png": "[encoded data removed]",
      "text/plain": [
       "<matplotlib.figure.Figure at 0x109f971d0>"
      ]
     },
     "metadata": {},
     "output_type": "display_data"
    }
   ],
   "source": [
    "pd.DataFrame(T_au).plot(kind='bar')"
   ]
  },
  {
   "cell_type": "code",
   "execution_count": 9,
   "metadata": {
    "collapsed": false
   },
   "outputs": [
    {
     "name": "stdout",
     "output_type": "stream",
     "text": [
      "aggregate\n",
      "hvac\n",
      "fridge\n",
      "mw\n",
      "dw\n",
      "wm\n",
      "oven\n"
     ]
    }
   ],
   "source": [
    "for appliance in APPLIANCES_ORDER:\n",
    "    print appliance"
   ]
  },
  {
   "cell_type": "code",
   "execution_count": 10,
   "metadata": {
    "collapsed": false
   },
   "outputs": [
    {
     "data": {
      "text/plain": [
       "<matplotlib.axes.AxesSubplot at 0x10b101f10>"
      ]
     },
     "execution_count": 10,
     "metadata": {},
     "output_type": "execute_result"
    },
    {
     "data": {
      "image/png": "[encoded data removed]",
      "text/plain": [
       "<matplotlib.figure.Figure at 0x108756350>"
      ]
     },
     "metadata": {},
     "output_type": "display_data"
    }
   ],
   "source": [
    "pd.DataFrame(dds[2014]['Austin']).plot()"
   ]
  },
  {
   "cell_type": "code",
   "execution_count": 30,
   "metadata": {
    "collapsed": false
   },
   "outputs": [
    {
     "data": {
      "text/plain": [
       "<matplotlib.axes.AxesSubplot at 0x10c620050>"
      ]
     },
     "execution_count": 30,
     "metadata": {},
     "output_type": "execute_result"
    },
    {
     "data": {
      "image/png": "[encoded data removed]",
      "text/plain": [
       "<matplotlib.figure.Figure at 0x10c509a90>"
      ]
     },
     "metadata": {},
     "output_type": "display_data"
    }
   ],
   "source": [
    "pd.DataFrame(T_sd).plot()"
   ]
  },
  {
   "cell_type": "code",
   "execution_count": 12,
   "metadata": {
    "collapsed": false
   },
   "outputs": [
    {
     "data": {
      "text/plain": [
       "<matplotlib.axes.AxesSubplot at 0x10beed210>"
      ]
     },
     "execution_count": 12,
     "metadata": {},
     "output_type": "execute_result"
    },
    {
     "data": {
      "image/png": "[encoded data removed]",
      "text/plain": [
       "<matplotlib.figure.Figure at 0x10bfb59d0>"
      ]
     },
     "metadata": {},
     "output_type": "display_data"
    }
   ],
   "source": [
    "pd.DataFrame(dds[2014]['SanDiego']).plot()"
   ]
  },
  {
   "cell_type": "code",
   "execution_count": 13,
   "metadata": {
    "collapsed": true
   },
   "outputs": [],
   "source": [
    "AT_au = np.einsum('Nab, Ob -> NaO', A_au, T_au)"
   ]
  },
  {
   "cell_type": "code",
   "execution_count": 14,
   "metadata": {
    "collapsed": true
   },
   "outputs": [],
   "source": [
    "AT_sd = np.einsum('Nab, Ob -> NaO', A_sd, T_sd)"
   ]
  },
  {
   "cell_type": "code",
   "execution_count": 15,
   "metadata": {
    "collapsed": true
   },
   "outputs": [],
   "source": [
    "X_au = np.einsum('Ma, NaO -> MNO', H_au, AT_au)"
   ]
  },
  {
   "cell_type": "code",
   "execution_count": 16,
   "metadata": {
    "collapsed": false
   },
   "outputs": [
    {
     "data": {
      "text/html": [
       "<div>\n",
       "<table border=\"1\" class=\"dataframe\">\n",
       "  <thead>\n",
       "    <tr style=\"text-align: right;\">\n",
       "      <th></th>\n",
       "      <th>0</th>\n",
       "      <th>1</th>\n",
       "    </tr>\n",
       "  </thead>\n",
       "  <tbody>\n",
       "    <tr>\n",
       "      <th>0</th>\n",
       "      <td>11.542276</td>\n",
       "      <td>24.783078</td>\n",
       "    </tr>\n",
       "    <tr>\n",
       "      <th>1</th>\n",
       "      <td>10.011608</td>\n",
       "      <td>21.496494</td>\n",
       "    </tr>\n",
       "    <tr>\n",
       "      <th>2</th>\n",
       "      <td>9.769674</td>\n",
       "      <td>20.661057</td>\n",
       "    </tr>\n",
       "    <tr>\n",
       "      <th>3</th>\n",
       "      <td>9.050449</td>\n",
       "      <td>20.027073</td>\n",
       "    </tr>\n",
       "    <tr>\n",
       "      <th>4</th>\n",
       "      <td>10.114814</td>\n",
       "      <td>22.717940</td>\n",
       "    </tr>\n",
       "    <tr>\n",
       "      <th>5</th>\n",
       "      <td>11.021232</td>\n",
       "      <td>26.462689</td>\n",
       "    </tr>\n",
       "    <tr>\n",
       "      <th>6</th>\n",
       "      <td>12.059975</td>\n",
       "      <td>29.007112</td>\n",
       "    </tr>\n",
       "    <tr>\n",
       "      <th>7</th>\n",
       "      <td>12.470767</td>\n",
       "      <td>30.982628</td>\n",
       "    </tr>\n",
       "    <tr>\n",
       "      <th>8</th>\n",
       "      <td>11.261441</td>\n",
       "      <td>26.408591</td>\n",
       "    </tr>\n",
       "    <tr>\n",
       "      <th>9</th>\n",
       "      <td>10.256038</td>\n",
       "      <td>23.126149</td>\n",
       "    </tr>\n",
       "    <tr>\n",
       "      <th>10</th>\n",
       "      <td>9.735867</td>\n",
       "      <td>20.636731</td>\n",
       "    </tr>\n",
       "    <tr>\n",
       "      <th>11</th>\n",
       "      <td>10.948860</td>\n",
       "      <td>23.312689</td>\n",
       "    </tr>\n",
       "  </tbody>\n",
       "</table>\n",
       "</div>"
      ],
      "text/plain": [
       "            0          1\n",
       "0   11.542276  24.783078\n",
       "1   10.011608  21.496494\n",
       "2    9.769674  20.661057\n",
       "3    9.050449  20.027073\n",
       "4   10.114814  22.717940\n",
       "5   11.021232  26.462689\n",
       "6   12.059975  29.007112\n",
       "7   12.470767  30.982628\n",
       "8   11.261441  26.408591\n",
       "9   10.256038  23.126149\n",
       "10   9.735867  20.636731\n",
       "11  10.948860  23.312689"
      ]
     },
     "execution_count": 16,
     "metadata": {},
     "output_type": "execute_result"
    }
   ],
   "source": [
    "pd.DataFrame(AT_au[2].T)"
   ]
  },
  {
   "cell_type": "code",
   "execution_count": 17,
   "metadata": {
    "collapsed": false
   },
   "outputs": [
    {
     "data": {
      "text/plain": [
       "<matplotlib.axes.AxesSubplot at 0x109f97550>"
      ]
     },
     "execution_count": 17,
     "metadata": {},
     "output_type": "execute_result"
    },
    {
     "data": {
      "image/png": "[encoded data removed]",
      "text/plain": [
       "<matplotlib.figure.Figure at 0x10c01b9d0>"
      ]
     },
     "metadata": {},
     "output_type": "display_data"
    }
   ],
   "source": [
    "pd.DataFrame(X_au[0].T).plot()"
   ]
  },
  {
   "cell_type": "code",
   "execution_count": 27,
   "metadata": {
    "collapsed": false
   },
   "outputs": [
    {
     "data": {
      "text/plain": [
       "<matplotlib.axes.AxesSubplot at 0x10c43b310>"
      ]
     },
     "execution_count": 27,
     "metadata": {},
     "output_type": "execute_result"
    },
    {
     "data": {
      "image/png": "[encoded data removed]",
      "text/plain": [
       "<matplotlib.figure.Figure at 0x10c4b16d0>"
      ]
     },
     "metadata": {},
     "output_type": "display_data"
    }
   ],
   "source": [
    "pd.DataFrame(T_sd).plot()"
   ]
  },
  {
   "cell_type": "code",
   "execution_count": 18,
   "metadata": {
    "collapsed": false
   },
   "outputs": [
    {
     "data": {
      "text/plain": [
       "<matplotlib.axes.AxesSubplot at 0x10c1344d0>"
      ]
     },
     "execution_count": 18,
     "metadata": {},
     "output_type": "execute_result"
    },
    {
     "data": {
      "image/png": "[encoded data removed]",
      "text/plain": [
       "<matplotlib.figure.Figure at 0x10c13d150>"
      ]
     },
     "metadata": {},
     "output_type": "display_data"
    }
   ],
   "source": [
    "idx=1\n",
    "pd.DataFrame(AT_au[idx].T, columns={APPLIANCES_ORDER[idx]+\"0\", APPLIANCES_ORDER[idx]+\"1\"}).plot()"
   ]
  },
  {
   "cell_type": "code",
   "execution_count": 19,
   "metadata": {
    "collapsed": false
   },
   "outputs": [
    {
     "data": {
      "text/plain": [
       "<matplotlib.axes.AxesSubplot at 0x10c381210>"
      ]
     },
     "execution_count": 19,
     "metadata": {},
     "output_type": "execute_result"
    },
    {
     "data": {
      "image/png": "[encoded data removed]",
      "text/plain": [
       "<matplotlib.figure.Figure at 0x10c3875d0>"
      ]
     },
     "metadata": {},
     "output_type": "display_data"
    }
   ],
   "source": [
    "pd.DataFrame(AT_sd[idx].T, columns={APPLIANCES_ORDER[idx]+\"0\", APPLIANCES_ORDER[idx]+\"1\"}).plot()"
   ]
  },
  {
   "cell_type": "code",
   "execution_count": 20,
   "metadata": {
    "collapsed": false
   },
   "outputs": [
    {
     "data": {
      "text/plain": [
       "array([[ 2.7373918 ,  5.483737  ,  0.        ],\n",
       "       [ 2.51474511,  4.73472896,  0.        ],\n",
       "       [ 3.42995343,  4.35415882,  0.        ],\n",
       "       [ 4.47318013,  3.00934251,  0.56585557],\n",
       "       [ 3.30831757,  2.5911144 ,  4.70036959],\n",
       "       [ 5.80414166,  0.2621231 ,  2.99336574],\n",
       "       [ 2.42841363,  2.36701749,  8.02668915],\n",
       "       [ 3.21304334,  1.15030641,  9.06045135],\n",
       "       [ 1.99887471,  3.15250419,  9.88394306],\n",
       "       [ 4.01488298,  3.21894855,  3.64208518],\n",
       "       [ 4.08702319,  4.0930259 ,  0.10978917],\n",
       "       [ 5.31206824,  3.98835299,  0.0492658 ]])"
      ]
     },
     "execution_count": 20,
     "metadata": {},
     "output_type": "execute_result"
    }
   ],
   "source": [
    "T_sd"
   ]
  },
  {
   "cell_type": "code",
   "execution_count": 21,
   "metadata": {
    "collapsed": false
   },
   "outputs": [
    {
     "data": {
      "text/plain": [
       "array([[  0.00000000e+00,   0.00000000e+00,   1.37688344e-01,\n",
       "          3.29572485e+00,   6.17024429e+00,   1.37013140e+01,\n",
       "          1.69167204e+01,   2.04723643e+01,   1.25375630e+01,\n",
       "          7.32469548e+00,   9.71493501e-02,   7.42666870e-02],\n",
       "       [  0.00000000e+00,   0.00000000e+00,   1.01501939e+01,\n",
       "          6.88319806e+01,   1.31276250e+02,   2.79163619e+02,\n",
       "          3.51991263e+02,   4.16597694e+02,   2.62542834e+02,\n",
       "          1.57590326e+02,   8.11726461e+00,   6.02565542e+00]])"
      ]
     },
     "execution_count": 21,
     "metadata": {},
     "output_type": "execute_result"
    }
   ],
   "source": [
    "AT_au[1]"
   ]
  },
  {
   "cell_type": "code",
   "execution_count": 22,
   "metadata": {
    "collapsed": false
   },
   "outputs": [
    {
     "data": {
      "text/plain": [
       "array([[  0.56577203,   0.48849484,   0.44923038,   0.95638868,\n",
       "          5.6326589 ,   3.44387842,   9.40642918,  10.46090538,\n",
       "         11.60746789,   4.48943532,   0.54760953,   0.4677246 ],\n",
       "       [  0.        ,   0.        ,   0.        ,   5.01798474,\n",
       "         41.6826907 ,  26.54504842,  71.18036037,  80.34772239,\n",
       "         87.65041413,  32.29786664,   0.97360598,   0.4368872 ]])"
      ]
     },
     "execution_count": 22,
     "metadata": {},
     "output_type": "execute_result"
    }
   ],
   "source": [
    "AT_sd[1]"
   ]
  },
  {
   "cell_type": "code",
   "execution_count": 23,
   "metadata": {
    "collapsed": false
   },
   "outputs": [
    {
     "data": {
      "text/plain": [
       "array([[ 3.61302673,  1.2755546 ,  2.17965721,  0.84956317],\n",
       "       [ 3.13388859,  1.10639813,  1.92050258,  0.75819279],\n",
       "       [ 3.06805711,  1.06732469,  2.05098963,  0.87949472],\n",
       "       [ 2.65520378,  0.92757129,  1.95355988,  1.00902722],\n",
       "       [ 2.83902404,  0.97878631,  1.54357886,  1.21373136],\n",
       "       [ 2.69403036,  0.92506259,  1.55053482,  1.27397211],\n",
       "       [ 2.85921332,  0.96176193,  1.25870221,  1.39602018],\n",
       "       [ 2.77296341,  0.94117196,  1.12996181,  1.54093797],\n",
       "       [ 2.85031632,  0.96741919,  1.36144601,  1.57480817],\n",
       "       [ 2.82619162,  0.96614208,  1.8933605 ,  1.26622731],\n",
       "       [ 3.05683601,  1.06599885,  2.14794067,  0.97876929],\n",
       "       [ 3.43392441,  1.20261651,  2.43196892,  1.16465914]])"
      ]
     },
     "execution_count": 23,
     "metadata": {},
     "output_type": "execute_result"
    }
   ],
   "source": [
    "np.r_[AT_au[3], AT_sd[3]].T"
   ]
  },
  {
   "cell_type": "code",
   "execution_count": 24,
   "metadata": {
    "collapsed": false
   },
   "outputs": [],
   "source": [
    "idx=3\n",
    "df = pd.DataFrame(np.r_[AT_au[idx], AT_sd[idx]].T, columns={'a', 'b', 'c', 'd'})"
   ]
  },
  {
   "cell_type": "code",
   "execution_count": 25,
   "metadata": {
    "collapsed": false
   },
   "outputs": [
    {
     "data": {
      "text/html": [
       "<div>\n",
       "<table border=\"1\" class=\"dataframe\">\n",
       "  <thead>\n",
       "    <tr style=\"text-align: right;\">\n",
       "      <th></th>\n",
       "      <th>a</th>\n",
       "      <th>c</th>\n",
       "      <th>b</th>\n",
       "      <th>d</th>\n",
       "    </tr>\n",
       "  </thead>\n",
       "  <tbody>\n",
       "    <tr>\n",
       "      <th>0</th>\n",
       "      <td>3.613027</td>\n",
       "      <td>1.275555</td>\n",
       "      <td>2.179657</td>\n",
       "      <td>0.849563</td>\n",
       "    </tr>\n",
       "    <tr>\n",
       "      <th>1</th>\n",
       "      <td>3.133889</td>\n",
       "      <td>1.106398</td>\n",
       "      <td>1.920503</td>\n",
       "      <td>0.758193</td>\n",
       "    </tr>\n",
       "    <tr>\n",
       "      <th>2</th>\n",
       "      <td>3.068057</td>\n",
       "      <td>1.067325</td>\n",
       "      <td>2.050990</td>\n",
       "      <td>0.879495</td>\n",
       "    </tr>\n",
       "    <tr>\n",
       "      <th>3</th>\n",
       "      <td>2.655204</td>\n",
       "      <td>0.927571</td>\n",
       "      <td>1.953560</td>\n",
       "      <td>1.009027</td>\n",
       "    </tr>\n",
       "    <tr>\n",
       "      <th>4</th>\n",
       "      <td>2.839024</td>\n",
       "      <td>0.978786</td>\n",
       "      <td>1.543579</td>\n",
       "      <td>1.213731</td>\n",
       "    </tr>\n",
       "    <tr>\n",
       "      <th>5</th>\n",
       "      <td>2.694030</td>\n",
       "      <td>0.925063</td>\n",
       "      <td>1.550535</td>\n",
       "      <td>1.273972</td>\n",
       "    </tr>\n",
       "    <tr>\n",
       "      <th>6</th>\n",
       "      <td>2.859213</td>\n",
       "      <td>0.961762</td>\n",
       "      <td>1.258702</td>\n",
       "      <td>1.396020</td>\n",
       "    </tr>\n",
       "    <tr>\n",
       "      <th>7</th>\n",
       "      <td>2.772963</td>\n",
       "      <td>0.941172</td>\n",
       "      <td>1.129962</td>\n",
       "      <td>1.540938</td>\n",
       "    </tr>\n",
       "    <tr>\n",
       "      <th>8</th>\n",
       "      <td>2.850316</td>\n",
       "      <td>0.967419</td>\n",
       "      <td>1.361446</td>\n",
       "      <td>1.574808</td>\n",
       "    </tr>\n",
       "    <tr>\n",
       "      <th>9</th>\n",
       "      <td>2.826192</td>\n",
       "      <td>0.966142</td>\n",
       "      <td>1.893361</td>\n",
       "      <td>1.266227</td>\n",
       "    </tr>\n",
       "    <tr>\n",
       "      <th>10</th>\n",
       "      <td>3.056836</td>\n",
       "      <td>1.065999</td>\n",
       "      <td>2.147941</td>\n",
       "      <td>0.978769</td>\n",
       "    </tr>\n",
       "    <tr>\n",
       "      <th>11</th>\n",
       "      <td>3.433924</td>\n",
       "      <td>1.202617</td>\n",
       "      <td>2.431969</td>\n",
       "      <td>1.164659</td>\n",
       "    </tr>\n",
       "  </tbody>\n",
       "</table>\n",
       "</div>"
      ],
      "text/plain": [
       "           a         c         b         d\n",
       "0   3.613027  1.275555  2.179657  0.849563\n",
       "1   3.133889  1.106398  1.920503  0.758193\n",
       "2   3.068057  1.067325  2.050990  0.879495\n",
       "3   2.655204  0.927571  1.953560  1.009027\n",
       "4   2.839024  0.978786  1.543579  1.213731\n",
       "5   2.694030  0.925063  1.550535  1.273972\n",
       "6   2.859213  0.961762  1.258702  1.396020\n",
       "7   2.772963  0.941172  1.129962  1.540938\n",
       "8   2.850316  0.967419  1.361446  1.574808\n",
       "9   2.826192  0.966142  1.893361  1.266227\n",
       "10  3.056836  1.065999  2.147941  0.978769\n",
       "11  3.433924  1.202617  2.431969  1.164659"
      ]
     },
     "execution_count": 25,
     "metadata": {},
     "output_type": "execute_result"
    }
   ],
   "source": [
    "df.rename(columns={'a':'abc'})\n",
    "df"
   ]
  },
  {
   "cell_type": "code",
   "execution_count": 26,
   "metadata": {
    "collapsed": false
   },
   "outputs": [
    {
     "data": {
      "text/plain": [
       "'mw_au_0'"
      ]
     },
     "execution_count": 26,
     "metadata": {},
     "output_type": "execute_result"
    }
   ],
   "source": [
    "APPLIANCES_ORDER[idx]+\"_au_0\""
   ]
  },
  {
   "cell_type": "code",
   "execution_count": null,
   "metadata": {
    "collapsed": true
   },
   "outputs": [],
   "source": []
  }
 ],
 "metadata": {
  "kernelspec": {
   "display_name": "Python 2",
   "language": "python",
   "name": "python2"
  },
  "language_info": {
   "codemirror_mode": {
    "name": "ipython",
    "version": 2
   },
   "file_extension": ".py",
   "mimetype": "text/x-python",
   "name": "python",
   "nbconvert_exporter": "python",
   "pygments_lexer": "ipython2",
   "version": "2.7.10"
  }
 },
 "nbformat": 4,
 "nbformat_minor": 2
}
