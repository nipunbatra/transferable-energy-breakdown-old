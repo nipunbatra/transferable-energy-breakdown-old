{
 "cells": [
  {
   "cell_type": "code",
   "execution_count": 8,
   "metadata": {
    "collapsed": true
   },
   "outputs": [],
   "source": [
    "import matplotlib.pyplot as plt\n",
    "%matplotlib inline\n",
    "from plot_functions import *\n",
    "from sklearn.model_selection import KFold"
   ]
  },
  {
   "cell_type": "code",
   "execution_count": 9,
   "metadata": {
    "collapsed": true
   },
   "outputs": [],
   "source": [
    "from create_matrix import *\n",
    "\n",
    "from tensor_custom_core import *\n",
    "from create_matrix import *\n",
    "from tensor_custom_core import *\n",
    "from degree_days import dds\n",
    "appliance_index = {appliance: APPLIANCES_ORDER.index(appliance) for appliance in APPLIANCES_ORDER}\n",
    "\n",
    "APPLIANCES = ['fridge', 'hvac', 'wm', 'mw', 'oven', 'dw']\n",
    "region = \"SanDiego\"\n",
    "year = 2014\n",
    "\n",
    "import os\n",
    "\n",
    "\n",
    "def un_normalize(x, maximum, minimum):\n",
    "    return (maximum - minimum) * x + minimum"
   ]
  },
  {
   "cell_type": "code",
   "execution_count": 10,
   "metadata": {
    "collapsed": true
   },
   "outputs": [],
   "source": [
    "n_splits = 10\n",
    "import sys\n",
    "case=2\n",
    "a=2\n",
    "cost='abs'"
   ]
  },
  {
   "cell_type": "code",
   "execution_count": 11,
   "metadata": {
    "collapsed": true
   },
   "outputs": [],
   "source": [
    "def get_tensor_appliance(df, dfc, appliance):\n",
    "    start, stop = 1, 13\n",
    "    energy_cols = np.array(\n",
    "        [['%s_%d' % (appliance, month) for month in range(start, stop)] ]).flatten()\n",
    "    static_cols = ['area', 'total_occupants', 'num_rooms']\n",
    "    static_df = df[static_cols]\n",
    "    static_df = static_df.div(static_df.max())\n",
    "    weather_values = np.array(dds[2014][region][start - 1:stop - 1]).reshape(-1, 1)\n",
    "\n",
    "    dfc = df.copy()\n",
    "\n",
    "    df = dfc[energy_cols]\n",
    "    col_max = df.max().max()\n",
    "    col_min = df.min().min()\n",
    "    # df = (1.0 * (df - col_min)) / (col_max - col_min)\n",
    "    tensor = df.values.reshape((len(df), 1, stop - start))\n",
    "    M, N, O = tensor.shape\n",
    "    return tensor"
   ]
  },
  {
   "cell_type": "code",
   "execution_count": 12,
   "metadata": {
    "collapsed": true
   },
   "outputs": [],
   "source": [
    "def get_tensor(df, dfc):\n",
    "    start, stop = 1, 13\n",
    "    energy_cols = np.array(\n",
    "        [['%s_%d' % (appliance, month) for month in range(start, stop)] for appliance in APPLIANCES_ORDER[2:]]).flatten()\n",
    "    print(energy_cols)\n",
    "    static_cols = ['area', 'total_occupants', 'num_rooms']\n",
    "    static_df = df[static_cols]\n",
    "    static_df = static_df.div(static_df.max())\n",
    "    weather_values = np.array(dds[2014][region][start - 1:stop - 1]).reshape(-1, 1)\n",
    "\n",
    "    dfc = df.copy()\n",
    "\n",
    "    df = dfc[energy_cols]\n",
    "    col_max = df.max().max()\n",
    "    col_min = df.min().min()\n",
    "    # df = (1.0 * (df - col_min)) / (col_max - col_min)\n",
    "    tensor = df.values.reshape((len(df), 5, stop - start))\n",
    "    M, N, O = tensor.shape\n",
    "    return tensor"
   ]
  },
  {
   "cell_type": "code",
   "execution_count": 16,
   "metadata": {
    "collapsed": true
   },
   "outputs": [],
   "source": [
    "df, dfc = create_matrix_single_region(\"SanDiego\", year)\n",
    "from sklearn.model_selection import train_test_split, KFold"
   ]
  },
  {
   "cell_type": "code",
   "execution_count": 20,
   "metadata": {},
   "outputs": [
    {
     "name": "stdout",
     "output_type": "stream",
     "text": [
      "('adagrad', 2, 0, 10)\n",
      "('adagrad', 2, 0, 50)\n",
      "('adagrad', 2, 0, 90)\n",
      "('adagrad', 2, 1, 10)\n",
      "('adagrad', 2, 1, 50)\n",
      "('adagrad', 2, 1, 90)\n",
      "('adagrad', 2, 2, 10)\n",
      "('adagrad', 2, 2, 50)\n",
      "('adagrad', 2, 2, 90)\n",
      "('adagrad', 2, 3, 10)\n",
      "('adagrad', 2, 3, 50)\n",
      "('adagrad', 2, 3, 90)\n"
     ]
    }
   ],
   "source": [
    "pred = {}\n",
    "sd = {}\n",
    "out = {}\n",
    "n_splits = 10\n",
    "NUM_RANDOM = 4\n",
    "TRAIN_SPLITS = range(10, 110, 40)\n",
    "case = 2\n",
    "\n",
    "cost = 'abs'\n",
    "for algo in ['adagrad']:\n",
    "    np.random.seed(0)\n",
    "    pred[algo] = {}\n",
    "    for a in range(2, 3):\n",
    "       \n",
    "        pred[algo][a] = {}\n",
    "        for random_seed in range(NUM_RANDOM):\n",
    "            pred[algo][a][random_seed] = {}\n",
    "            for appliance in APPLIANCES_ORDER:\n",
    "                pred[algo][a][random_seed][appliance] = {f:[] for f in TRAIN_SPLITS}\n",
    "\n",
    "        kf = KFold(n_splits=n_splits)\n",
    "        for random_seed in range(NUM_RANDOM):\n",
    "\n",
    "            for train_percentage in TRAIN_SPLITS:\n",
    "                print(algo, a, random_seed,train_percentage)\n",
    "                for train_max, test in kf.split(df):\n",
    "\n",
    "                    num_train = int((train_percentage*len(train_max)/100)+0.5)\n",
    "                    if train_percentage==100:\n",
    "                        train = train_max\n",
    "                    else:\n",
    "                        train, _ = train_test_split(train_max, train_size = train_percentage/100.0, random_state=random_seed)\n",
    "                    train_ix = df.index[train]\n",
    "                    test_ix = df.index[test]\n",
    "\n",
    "                    num_test = len(test_ix)\n",
    "                    train_test_ix = np.concatenate([test_ix, train_ix])\n",
    "                    df_t, dfc_t = df.ix[train_test_ix], dfc.ix[train_test_ix]\n",
    "                    agg_tensor = get_tensor_appliance(df_t, dfc_t, \"aggregate\")\n",
    "                    agg_tensor_copy = agg_tensor.copy()\n",
    "                    H, A_agg, T = learn_HAT_adagrad(case, agg_tensor, a, a, num_iter=1000, lr=1, dis=False, cost_function=cost)\n",
    "                    A_appliances = {}\n",
    "                    for appliance in APPLIANCES_ORDER[1:]:\n",
    "                        tensor = get_tensor_appliance(df_t, dfc_t, appliance)\n",
    "                        tensor_copy = tensor.copy()\n",
    "                        tensor_copy[:num_test, :, :] = np.NaN\n",
    "                        H, A_appliances[appliance], T = learn_HAT_adagrad(case, tensor, a, a, num_iter=1000, lr=1, dis=False,\n",
    "                                              cost_function=cost, H_known=H, T_known=T)\n",
    "    \n",
    "                        HAT = multiply_case(H, A_appliances[appliance], T, case)\n",
    "                        pred[algo][a][random_seed][appliance][train_percentage].append(pd.DataFrame(HAT[:num_test, 0, :], index=test_ix))\n"
   ]
  },
  {
   "cell_type": "code",
   "execution_count": 37,
   "metadata": {},
   "outputs": [
    {
     "data": {
      "text/plain": [
       "array([[[ 2.0197186 ,  0.        ],\n",
       "        [ 0.12432689,  0.        ]]])"
      ]
     },
     "execution_count": 37,
     "metadata": {},
     "output_type": "execute_result"
    }
   ],
   "source": [
    "A_appliances['fridge']"
   ]
  },
  {
   "cell_type": "code",
   "execution_count": 40,
   "metadata": {},
   "outputs": [
    {
     "data": {
      "text/plain": [
       "<matplotlib.axes._subplots.AxesSubplot at 0x10f0c5950>"
      ]
     },
     "execution_count": 40,
     "metadata": {},
     "output_type": "execute_result"
    },
    {
     "data": {
      "image/png": "[encoded data removed]",
      "text/plain": [
       "<matplotlib.figure.Figure at 0x10f126490>"
      ]
     },
     "metadata": {},
     "output_type": "display_data"
    }
   ],
   "source": [
    "pd.DataFrame(T).plot()"
   ]
  },
  {
   "cell_type": "code",
   "execution_count": 25,
   "metadata": {},
   "outputs": [
    {
     "name": "stderr",
     "output_type": "stream",
     "text": [
      "/Users/nipunbatra/anaconda2/lib/python2.7/site-packages/ipykernel_launcher.py:13: DeprecationWarning: \n",
      ".ix is deprecated. Please use\n",
      ".loc for label based indexing or\n",
      ".iloc for positional indexing\n",
      "\n",
      "See the documentation here:\n",
      "http://pandas.pydata.org/pandas-docs/stable/indexing.html#deprecate_ix\n",
      "  del sys.path[0]\n"
     ]
    }
   ],
   "source": [
    "from common import compute_rmse_fraction\n",
    "out = {}\n",
    "for algo in ['adagrad']:\n",
    "    out[algo] = {}\n",
    "    for a in range(2, 3):\n",
    "        out[algo][a] = {}\n",
    "        for random_seed in range(NUM_RANDOM):\n",
    "            out[algo][a][random_seed] = {}\n",
    "\n",
    "            for appliance in APPLIANCES_ORDER[1:]:\n",
    "                out[algo][a][random_seed][appliance] = {}\n",
    "                for f in TRAIN_SPLITS:\n",
    "                    s = pd.concat(pred[algo][a][random_seed][appliance][f]).ix[df.index]\n",
    "                    if appliance==\"hvac\":\n",
    "                            out[algo][a][random_seed][appliance][f] = compute_rmse_fraction(appliance,s[range(4, 10)],'SanDiego')[2]\n",
    "                    else:   \n",
    "                        out[algo][a][random_seed][appliance][f] = compute_rmse_fraction(appliance, s,'SanDiego')[2]\n",
    "\n",
    "    "
   ]
  },
  {
   "cell_type": "code",
   "execution_count": 32,
   "metadata": {},
   "outputs": [
    {
     "data": {
      "text/html": [
       "<div>\n",
       "<style>\n",
       "    .dataframe thead tr:only-child th {\n",
       "        text-align: right;\n",
       "    }\n",
       "\n",
       "    .dataframe thead th {\n",
       "        text-align: left;\n",
       "    }\n",
       "\n",
       "    .dataframe tbody tr th {\n",
       "        vertical-align: top;\n",
       "    }\n",
       "</style>\n",
       "<table border=\"1\" class=\"dataframe\">\n",
       "  <thead>\n",
       "    <tr style=\"text-align: right;\">\n",
       "      <th></th>\n",
       "      <th>dw</th>\n",
       "      <th>fridge</th>\n",
       "      <th>hvac</th>\n",
       "      <th>mw</th>\n",
       "      <th>oven</th>\n",
       "      <th>wm</th>\n",
       "    </tr>\n",
       "  </thead>\n",
       "  <tbody>\n",
       "    <tr>\n",
       "      <th>10</th>\n",
       "      <td>1.810467</td>\n",
       "      <td>6.334669</td>\n",
       "      <td>16.248818</td>\n",
       "      <td>1.737886</td>\n",
       "      <td>2.083915</td>\n",
       "      <td>0.556813</td>\n",
       "    </tr>\n",
       "    <tr>\n",
       "      <th>50</th>\n",
       "      <td>1.825415</td>\n",
       "      <td>7.305924</td>\n",
       "      <td>17.177552</td>\n",
       "      <td>1.801521</td>\n",
       "      <td>2.109104</td>\n",
       "      <td>0.599455</td>\n",
       "    </tr>\n",
       "    <tr>\n",
       "      <th>90</th>\n",
       "      <td>1.851658</td>\n",
       "      <td>7.821781</td>\n",
       "      <td>19.284749</td>\n",
       "      <td>1.859911</td>\n",
       "      <td>2.186930</td>\n",
       "      <td>0.707624</td>\n",
       "    </tr>\n",
       "  </tbody>\n",
       "</table>\n",
       "</div>"
      ],
      "text/plain": [
       "          dw    fridge       hvac        mw      oven        wm\n",
       "10  1.810467  6.334669  16.248818  1.737886  2.083915  0.556813\n",
       "50  1.825415  7.305924  17.177552  1.801521  2.109104  0.599455\n",
       "90  1.851658  7.821781  19.284749  1.859911  2.186930  0.707624"
      ]
     },
     "execution_count": 32,
     "metadata": {},
     "output_type": "execute_result"
    }
   ],
   "source": [
    "pd.Panel(out['adagrad'][2]).mean(axis=0)"
   ]
  },
  {
   "cell_type": "code",
   "execution_count": null,
   "metadata": {
    "collapsed": true
   },
   "outputs": [],
   "source": []
  }
 ],
 "metadata": {
  "kernelspec": {
   "display_name": "Python 2",
   "language": "python",
   "name": "python2"
  },
  "language_info": {
   "codemirror_mode": {
    "name": "ipython",
    "version": 2
   },
   "file_extension": ".py",
   "mimetype": "text/x-python",
   "name": "python",
   "nbconvert_exporter": "python",
   "pygments_lexer": "ipython2",
   "version": "2.7.13"
  }
 },
 "nbformat": 4,
 "nbformat_minor": 2
}
