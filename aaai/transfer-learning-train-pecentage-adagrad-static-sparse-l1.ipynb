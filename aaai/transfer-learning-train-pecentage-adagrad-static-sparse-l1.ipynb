{
 "cells": [
  {
   "cell_type": "code",
   "execution_count": 1,
   "metadata": {
    "collapsed": true
   },
   "outputs": [],
   "source": [
    "import matplotlib.pyplot as plt\n",
    "%matplotlib inline\n",
    "from plot_functions import *\n",
    "from sklearn.model_selection import KFold"
   ]
  },
  {
   "cell_type": "code",
   "execution_count": 2,
   "metadata": {
    "collapsed": true
   },
   "outputs": [],
   "source": [
    "from create_matrix import *\n",
    "\n",
    "from tensor_custom_core import *\n",
    "from create_matrix import *\n",
    "from tensor_custom_core import *\n",
    "from degree_days import dds\n",
    "appliance_index = {appliance: APPLIANCES_ORDER.index(appliance) for appliance in APPLIANCES_ORDER}\n",
    "\n",
    "APPLIANCES = ['fridge', 'hvac', 'wm', 'mw', 'oven', 'dw']\n",
    "region = \"SanDiego\"\n",
    "year = 2014\n",
    "\n",
    "import os\n",
    "\n",
    "\n",
    "def un_normalize(x, maximum, minimum):\n",
    "    return (maximum - minimum) * x + minimum"
   ]
  },
  {
   "cell_type": "code",
   "execution_count": 3,
   "metadata": {
    "collapsed": true
   },
   "outputs": [],
   "source": [
    "n_splits = 10\n",
    "import sys\n",
    "case=2\n",
    "a=2\n",
    "cost='abs'"
   ]
  },
  {
   "cell_type": "code",
   "execution_count": 4,
   "metadata": {
    "collapsed": true
   },
   "outputs": [],
   "source": [
    "def get_tensor(df, dfc):\n",
    "    start, stop = 1, 13\n",
    "    energy_cols = np.array(\n",
    "        [['%s_%d' % (appliance, month) for month in range(start, stop)] for appliance in APPLIANCES_ORDER]).flatten()\n",
    "\n",
    "    static_cols = ['area', 'total_occupants', 'num_rooms']\n",
    "    static_df = df[static_cols]\n",
    "    static_df = static_df.div(static_df.max())\n",
    "    weather_values = np.array(dds[2014][region][start - 1:stop - 1]).reshape(-1, 1)\n",
    "\n",
    "    dfc = df.copy()\n",
    "\n",
    "    df = dfc[energy_cols]\n",
    "    col_max = df.max().max()\n",
    "    col_min = df.min().min()\n",
    "    # df = (1.0 * (df - col_min)) / (col_max - col_min)\n",
    "    tensor = df.values.reshape((len(df), 7, stop - start))\n",
    "    M, N, O = tensor.shape\n",
    "    return tensor"
   ]
  },
  {
   "cell_type": "code",
   "execution_count": 5,
   "metadata": {},
   "outputs": [
    {
     "ename": "NameError",
     "evalue": "name 'au_df' is not defined",
     "output_type": "error",
     "traceback": [
      "\u001b[0;31m---------------------------------------------------------------------------\u001b[0m",
      "\u001b[0;31mNameError\u001b[0m                                 Traceback (most recent call last)",
      "\u001b[0;32m<ipython-input-5-89b48454f068>\u001b[0m in \u001b[0;36m<module>\u001b[0;34m()\u001b[0m\n\u001b[0;32m----> 1\u001b[0;31m \u001b[0mau_df\u001b[0m\u001b[0;34m[\u001b[0m\u001b[0;34m[\u001b[0m\u001b[0;34m'area'\u001b[0m\u001b[0;34m,\u001b[0m\u001b[0;34m'total_occupants'\u001b[0m\u001b[0;34m,\u001b[0m\u001b[0;34m'num_rooms'\u001b[0m\u001b[0;34m]\u001b[0m\u001b[0;34m]\u001b[0m\u001b[0;34m.\u001b[0m\u001b[0mmax\u001b[0m\u001b[0;34m(\u001b[0m\u001b[0;34m)\u001b[0m\u001b[0;34m\u001b[0m\u001b[0m\n\u001b[0m",
      "\u001b[0;31mNameError\u001b[0m: name 'au_df' is not defined"
     ]
    }
   ],
   "source": [
    "au_df[['area','total_occupants','num_rooms']].max()"
   ]
  },
  {
   "cell_type": "code",
   "execution_count": null,
   "metadata": {},
   "outputs": [],
   "source": [
    "df[['area','total_occupants','num_rooms']].max()"
   ]
  },
  {
   "cell_type": "code",
   "execution_count": 7,
   "metadata": {
    "collapsed": true
   },
   "outputs": [],
   "source": [
    "au_df, au_dfc = create_matrix_single_region(\"Austin\", year)\n",
    "au_tensor = get_tensor(au_df, au_dfc)\n",
    "static_au = au_df[['area','total_occupants','num_rooms']].copy()\n",
    "static_au['area'] = static_au['area'].div(4000)\n",
    "static_au['total_occupants'] = static_au['total_occupants'].div(8)\n",
    "static_au['num_rooms'] = static_au['num_rooms'].div(8)\n",
    "static_au = static_au.values\n"
   ]
  },
  {
   "cell_type": "code",
   "execution_count": 8,
   "metadata": {
    "collapsed": true
   },
   "outputs": [],
   "source": [
    "df, dfc = create_matrix_single_region(\"SanDiego\", year)\n",
    "tensor = get_tensor(df, dfc)\n",
    "static_sd = df[['area','total_occupants','num_rooms']].copy()\n",
    "static_sd['area'] = static_sd['area'].div(4000)\n",
    "static_sd['total_occupants'] = static_sd['total_occupants'].div(8)\n",
    "static_sd['num_rooms'] = static_sd['num_rooms'].div(8)\n",
    "static_sd = static_sd.values\n"
   ]
  },
  {
   "cell_type": "code",
   "execution_count": 9,
   "metadata": {
    "collapsed": true
   },
   "outputs": [],
   "source": [
    "from sklearn.model_selection import train_test_split, KFold"
   ]
  },
  {
   "cell_type": "code",
   "execution_count": 10,
   "metadata": {
    "collapsed": true
   },
   "outputs": [],
   "source": [
    "n_splits = 10\n"
   ]
  },
  {
   "cell_type": "code",
   "execution_count": 11,
   "metadata": {
    "collapsed": true
   },
   "outputs": [],
   "source": [
    "from common import compute_rmse"
   ]
  },
  {
   "cell_type": "code",
   "execution_count": 12,
   "metadata": {},
   "outputs": [
    {
     "name": "stdout",
     "output_type": "stream",
     "text": [
      "(0.01, 'static', 2, 0, 10)\n"
     ]
    },
    {
     "name": "stderr",
     "output_type": "stream",
     "text": [
      "/Users/nipunbatra/anaconda2/lib/python2.7/site-packages/ipykernel_launcher.py:54: DeprecationWarning: \n",
      ".ix is deprecated. Please use\n",
      ".loc for label based indexing or\n",
      ".iloc for positional indexing\n",
      "\n",
      "See the documentation here:\n",
      "http://pandas.pydata.org/pandas-docs/stable/indexing.html#deprecate_ix\n"
     ]
    },
    {
     "name": "stdout",
     "output_type": "stream",
     "text": [
      "(0.01, 'static', 2, 0, 50)\n",
      "(0.01, 'static', 2, 0, 90)\n",
      "(0.01, 'static', 2, 1, 10)\n",
      "(0.01, 'static', 2, 1, 50)\n",
      "(0.01, 'static', 2, 1, 90)\n",
      "(0.01, 'static', 2, 2, 10)\n",
      "(0.01, 'static', 2, 2, 50)\n",
      "(0.01, 'static', 2, 2, 90)\n",
      "(0.1, 'static', 2, 0, 10)\n",
      "(0.1, 'static', 2, 0, 50)\n",
      "(0.1, 'static', 2, 0, 90)\n",
      "(0.1, 'static', 2, 1, 10)\n",
      "(0.1, 'static', 2, 1, 50)\n",
      "(0.1, 'static', 2, 1, 90)\n",
      "(0.1, 'static', 2, 2, 10)\n",
      "(0.1, 'static', 2, 2, 50)\n",
      "(0.1, 'static', 2, 2, 90)\n",
      "(0, 'static', 2, 0, 10)\n",
      "(0, 'static', 2, 0, 50)\n",
      "(0, 'static', 2, 0, 90)\n",
      "(0, 'static', 2, 1, 10)\n",
      "(0, 'static', 2, 1, 50)\n",
      "(0, 'static', 2, 1, 90)\n",
      "(0, 'static', 2, 2, 10)\n",
      "(0, 'static', 2, 2, 50)\n",
      "(0, 'static', 2, 2, 90)\n",
      "(1, 'static', 2, 0, 10)\n",
      "(1, 'static', 2, 0, 50)\n",
      "(1, 'static', 2, 0, 90)\n",
      "(1, 'static', 2, 1, 10)\n",
      "(1, 'static', 2, 1, 50)\n",
      "(1, 'static', 2, 1, 90)\n",
      "(1, 'static', 2, 2, 10)\n",
      "(1, 'static', 2, 2, 50)\n",
      "(1, 'static', 2, 2, 90)\n",
      "(0.01, None, 2, 0, 10)\n",
      "(0.01, None, 2, 0, 50)\n",
      "(0.01, None, 2, 0, 90)\n",
      "(0.01, None, 2, 1, 10)\n",
      "(0.01, None, 2, 1, 50)\n",
      "(0.01, None, 2, 1, 90)\n",
      "(0.01, None, 2, 2, 10)\n",
      "(0.01, None, 2, 2, 50)\n",
      "(0.01, None, 2, 2, 90)\n",
      "(0.1, None, 2, 0, 10)\n",
      "(0.1, None, 2, 0, 50)\n",
      "(0.1, None, 2, 0, 90)\n",
      "(0.1, None, 2, 1, 10)\n",
      "(0.1, None, 2, 1, 50)\n",
      "(0.1, None, 2, 1, 90)\n",
      "(0.1, None, 2, 2, 10)\n",
      "(0.1, None, 2, 2, 50)\n",
      "(0.1, None, 2, 2, 90)\n",
      "(0, None, 2, 0, 10)\n",
      "(0, None, 2, 0, 50)\n",
      "(0, None, 2, 0, 90)\n",
      "(0, None, 2, 1, 10)\n",
      "(0, None, 2, 1, 50)\n",
      "(0, None, 2, 1, 90)\n",
      "(0, None, 2, 2, 10)\n",
      "(0, None, 2, 2, 50)\n",
      "(0, None, 2, 2, 90)\n",
      "(1, None, 2, 0, 10)\n",
      "(1, None, 2, 0, 50)\n",
      "(1, None, 2, 0, 90)\n",
      "(1, None, 2, 1, 10)\n",
      "(1, None, 2, 1, 50)\n",
      "(1, None, 2, 1, 90)\n",
      "(1, None, 2, 2, 10)\n",
      "(1, None, 2, 2, 50)\n",
      "(1, None, 2, 2, 90)\n"
     ]
    }
   ],
   "source": [
    "pred = {}\n",
    "sd = {}\n",
    "out = {}\n",
    "n_splits = 10\n",
    "NUM_RANDOM = 3\n",
    "TRAIN_SPLITS = range(10, 110, 40)\n",
    "case = 2\n",
    "num_home = 5\n",
    "n_iter=1200\n",
    "\n",
    "cost = 'l1'\n",
    "algo = 'adagrad'\n",
    "for static_fac in ['static',None]:\n",
    "    if static_fac is None:\n",
    "        H_known_Au = None\n",
    "        H_known_Sd = None\n",
    "    else:\n",
    "        H_known_Au = static_au\n",
    "        H_known_Sd = static_sd\n",
    "    np.random.seed(0)\n",
    "    pred[static_fac] = {}\n",
    "    #for lam in [1e-2, 100]:\n",
    "    for lam in [1e-2, 1e-1, 0, 1]:\n",
    "        pred[static_fac][lam] = {}\n",
    "        for a in range(2, 3):\n",
    "            if static_fac is not None:\n",
    "                H_au, A_au, T_au, Hs, As, Ts, HATs, costs = learn_HAT_adagrad(case, au_tensor, num_home, a, num_iter=n_iter, lr=1, dis=False, cost_function=cost, H_known=H_known_Au, penalty_coeff=lam)\n",
    "            else:\n",
    "                H_au, A_au, T_au, Hs, As, Ts, HATs, costs = learn_HAT_adagrad(case, au_tensor, num_home, a, num_iter=n_iter, lr=1, dis=False, cost_function=cost, penalty_coeff=lam)\n",
    "\n",
    "            pred[static_fac][lam][a] = {}\n",
    "            for random_seed in range(NUM_RANDOM):\n",
    "                pred[static_fac][lam][a][random_seed] = {}\n",
    "                for appliance in APPLIANCES_ORDER:\n",
    "                    pred[static_fac][lam][a][random_seed][appliance] = {f:[] for f in TRAIN_SPLITS}\n",
    "\n",
    "            kf = KFold(n_splits=n_splits)\n",
    "            for random_seed in range(NUM_RANDOM):\n",
    "\n",
    "                for train_percentage in TRAIN_SPLITS:\n",
    "                    print(lam, static_fac, a, random_seed,train_percentage)\n",
    "                    for train_max, test in kf.split(df):\n",
    "\n",
    "                        num_train = int((train_percentage*len(train_max)/100)+0.5)\n",
    "                        if train_percentage==100:\n",
    "                            train = train_max\n",
    "                        else:\n",
    "                            train, _ = train_test_split(train_max, train_size = train_percentage/100.0, random_state=random_seed)\n",
    "                        train_ix = df.index[train]\n",
    "                        test_ix = df.index[test]\n",
    "\n",
    "                        num_test = len(test_ix)\n",
    "                        train_test_ix = np.concatenate([test_ix, train_ix])\n",
    "                        df_t, dfc_t = df.ix[train_test_ix], dfc.ix[train_test_ix]\n",
    "                        tensor = get_tensor(df_t, dfc_t)\n",
    "                        tensor_copy = tensor.copy()\n",
    "                        # First n\n",
    "                        tensor_copy[:num_test, 1:, :] = np.NaN\n",
    "                        if static_fac is not None:\n",
    "                            H, A, T, Hs, As, Ts, HATs, costs = learn_HAT_adagrad(case, tensor_copy, num_home, a, num_iter=n_iter, lr=1, dis=False, cost_function=cost, A_known=A_au, H_known=H_known_Sd[np.concatenate([test, train])],penalty_coeff=lam)\n",
    "                        else:\n",
    "                            H, A, T, Hs, As, Ts, HATs, costs = learn_HAT_adagrad(case, tensor_copy, num_home, a, num_iter=n_iter, lr=1, dis=False, cost_function=cost, A_known=A_au, penalty_coeff=lam)\n",
    "\n",
    "                        assert(np.allclose(A, A_au))\n",
    "                        HAT = multiply_case(H, A, T, case)\n",
    "                        for appliance in APPLIANCES_ORDER:\n",
    "                            pred[static_fac][lam][a][random_seed][appliance][train_percentage].append(pd.DataFrame(HAT[:num_test, appliance_index[appliance], :], index=test_ix))\n"
   ]
  },
  {
   "cell_type": "code",
   "execution_count": 13,
   "metadata": {
    "collapsed": true
   },
   "outputs": [],
   "source": [
    "from common import compute_rmse_fraction"
   ]
  },
  {
   "cell_type": "code",
   "execution_count": 14,
   "metadata": {},
   "outputs": [
    {
     "name": "stderr",
     "output_type": "stream",
     "text": [
      "/Users/nipunbatra/anaconda2/lib/python2.7/site-packages/ipykernel_launcher.py:15: DeprecationWarning: \n",
      ".ix is deprecated. Please use\n",
      ".loc for label based indexing or\n",
      ".iloc for positional indexing\n",
      "\n",
      "See the documentation here:\n",
      "http://pandas.pydata.org/pandas-docs/stable/indexing.html#deprecate_ix\n",
      "  from ipykernel import kernelapp as app\n"
     ]
    }
   ],
   "source": [
    "out = {}\n",
    "algo = 'adagrad'\n",
    "for static_fac in ['static',None]:\n",
    "    out[static_fac] = {}\n",
    "    for lam in [1e-2, 1e-1, 0, 1]:\n",
    "        out[static_fac][lam] = {}\n",
    "        for a in range(2, 3):\n",
    "            out[static_fac][lam][a] = {}\n",
    "            for random_seed in range(NUM_RANDOM):\n",
    "                out[static_fac][lam][a][random_seed] = {}\n",
    "\n",
    "                for appliance in APPLIANCES_ORDER[1:]:\n",
    "                    out[static_fac][lam][a][random_seed][appliance] = {}\n",
    "                    for f in TRAIN_SPLITS:\n",
    "                        s = pd.concat(pred[static_fac][lam][a][random_seed][appliance][f]).ix[df.index]\n",
    "                        if appliance==\"hvac\":\n",
    "                            out[static_fac][lam][a][random_seed][appliance][f] = compute_rmse_fraction(appliance,s[range(4, 10)],'SanDiego')[2]\n",
    "                        else:   \n",
    "                            out[static_fac][lam][a][random_seed][appliance][f] = compute_rmse_fraction(appliance, s,'SanDiego')[2]\n",
    "\n",
    "    "
   ]
  },
  {
   "cell_type": "code",
   "execution_count": 111,
   "metadata": {},
   "outputs": [
    {
     "data": {
      "text/plain": [
       "[0, 1, 0.001, 0.1, 0.01]"
      ]
     },
     "execution_count": 111,
     "metadata": {},
     "output_type": "execute_result"
    }
   ],
   "source": [
    "out[None].keys()"
   ]
  },
  {
   "cell_type": "code",
   "execution_count": 112,
   "metadata": {},
   "outputs": [
    {
     "data": {
      "text/html": [
       "<div>\n",
       "<style>\n",
       "    .dataframe thead tr:only-child th {\n",
       "        text-align: right;\n",
       "    }\n",
       "\n",
       "    .dataframe thead th {\n",
       "        text-align: left;\n",
       "    }\n",
       "\n",
       "    .dataframe tbody tr th {\n",
       "        vertical-align: top;\n",
       "    }\n",
       "</style>\n",
       "<table border=\"1\" class=\"dataframe\">\n",
       "  <thead>\n",
       "    <tr style=\"text-align: right;\">\n",
       "      <th></th>\n",
       "      <th>dw</th>\n",
       "      <th>fridge</th>\n",
       "      <th>hvac</th>\n",
       "      <th>mw</th>\n",
       "      <th>oven</th>\n",
       "      <th>wm</th>\n",
       "    </tr>\n",
       "  </thead>\n",
       "  <tbody>\n",
       "    <tr>\n",
       "      <th>10</th>\n",
       "      <td>1.860455</td>\n",
       "      <td>10.935846</td>\n",
       "      <td>18.856767</td>\n",
       "      <td>2.251195</td>\n",
       "      <td>2.352933</td>\n",
       "      <td>0.931564</td>\n",
       "    </tr>\n",
       "    <tr>\n",
       "      <th>50</th>\n",
       "      <td>1.854274</td>\n",
       "      <td>10.784018</td>\n",
       "      <td>15.459790</td>\n",
       "      <td>2.216260</td>\n",
       "      <td>2.279772</td>\n",
       "      <td>0.929652</td>\n",
       "    </tr>\n",
       "    <tr>\n",
       "      <th>90</th>\n",
       "      <td>1.852848</td>\n",
       "      <td>10.579758</td>\n",
       "      <td>15.530935</td>\n",
       "      <td>2.219273</td>\n",
       "      <td>2.244295</td>\n",
       "      <td>0.925171</td>\n",
       "    </tr>\n",
       "  </tbody>\n",
       "</table>\n",
       "</div>"
      ],
      "text/plain": [
       "          dw     fridge       hvac        mw      oven        wm\n",
       "10  1.860455  10.935846  18.856767  2.251195  2.352933  0.931564\n",
       "50  1.854274  10.784018  15.459790  2.216260  2.279772  0.929652\n",
       "90  1.852848  10.579758  15.530935  2.219273  2.244295  0.925171"
      ]
     },
     "execution_count": 112,
     "metadata": {},
     "output_type": "execute_result"
    }
   ],
   "source": [
    "pd.DataFrame(out[None][0][2][0])"
   ]
  },
  {
   "cell_type": "code",
   "execution_count": 17,
   "metadata": {
    "collapsed": true
   },
   "outputs": [],
   "source": [
    "import pickle\n",
    "pickle.dump(out, open('predictions/transfer-sparse-static-normalised-l1.pkl','w'))"
   ]
  },
  {
   "cell_type": "code",
   "execution_count": 18,
   "metadata": {},
   "outputs": [
    {
     "name": "stdout",
     "output_type": "stream",
     "text": [
      "6.03704008212\n",
      "5.45683972299\n",
      "5.36810957007\n",
      "9.12229780012\n"
     ]
    },
    {
     "data": {
      "image/png": "[encoded data removed]",
      "text/plain": [
       "<matplotlib.figure.Figure at 0x1196b17d0>"
      ]
     },
     "metadata": {},
     "output_type": "display_data"
    }
   ],
   "source": [
    "static_res = {}\n",
    "fig, ax = plt.subplots(ncols=6, figsize=(18, 3))\n",
    "\n",
    "for lam in [0, 1e-2, 1e-1, 1]:\n",
    "    static_res[lam] = pd.Panel(out['static'][lam][2]).mean(axis=0)\n",
    "    for i, appliance in enumerate(APPLIANCES_ORDER[1:]):\n",
    "        static_res[lam][appliance].plot(ax=ax[i], marker='o', title=appliance)\n",
    "        ax[i].set_xlim((0, 100))\n",
    "plt.legend([0, 1e-2, 1e-1, 1], bbox_to_anchor=(1, 1), title='Lambda')\n",
    "fig.text(0.5, 0, \"% Training data from SD\", fontsize=14)\n",
    "ax[0].set_ylabel(\"Error\", fontsize=14)\n",
    "plt.suptitle(\"Transfer learning- With static factors\", fontsize=17,y=1.04)\n",
    "\n",
    "print static_res[0.1].mean().mean()\n",
    "print static_res[0.01].mean().mean()\n",
    "#print static_res[0.001].mean().mean()\n",
    "print static_res[0.0].mean().mean()\n",
    "print static_res[1].mean().mean()"
   ]
  },
  {
   "cell_type": "code",
   "execution_count": 19,
   "metadata": {},
   "outputs": [
    {
     "name": "stdout",
     "output_type": "stream",
     "text": [
      "6.02432717247\n",
      "5.82439946766\n",
      "5.74000250781\n",
      "9.12229778808\n"
     ]
    },
    {
     "data": {
      "image/png": "[encoded data removed]",
      "text/plain": [
       "<matplotlib.figure.Figure at 0x115cf3e50>"
      ]
     },
     "metadata": {},
     "output_type": "display_data"
    }
   ],
   "source": [
    "static_res = {}\n",
    "fig, ax = plt.subplots(ncols=6, figsize=(18, 3))\n",
    "\n",
    "for lam in [0, 1e-2, 1e-1, 1]:\n",
    "    static_res[lam] = pd.Panel(out[None][lam][2]).mean(axis=0)\n",
    "    for i, appliance in enumerate(APPLIANCES_ORDER[1:]):\n",
    "        static_res[lam][appliance].plot(ax=ax[i], marker='o', title=appliance)\n",
    "        ax[i].set_xlim((0, 100))\n",
    "plt.legend([0, 1e-2, 1e-1, 1], bbox_to_anchor=(1, 1), title='Lambda')\n",
    "fig.text(0.5, 0, \"% Training data from SD\", fontsize=14)\n",
    "ax[0].set_ylabel(\"Error\", fontsize=14)\n",
    "plt.suptitle(\"Transfer learning- Without static factors\", fontsize=17,y=1.04)\n",
    "\n",
    "print static_res[0.1].mean().mean()\n",
    "print static_res[0.01].mean().mean()\n",
    "print static_res[0.0].mean().mean()\n",
    "print static_res[1].mean().mean()"
   ]
  },
  {
   "cell_type": "code",
   "execution_count": null,
   "metadata": {
    "collapsed": true
   },
   "outputs": [],
   "source": []
  }
 ],
 "metadata": {
  "kernelspec": {
   "display_name": "Python 2",
   "language": "python",
   "name": "python2"
  },
  "language_info": {
   "codemirror_mode": {
    "name": "ipython",
    "version": 2
   },
   "file_extension": ".py",
   "mimetype": "text/x-python",
   "name": "python",
   "nbconvert_exporter": "python",
   "pygments_lexer": "ipython2",
   "version": "2.7.13"
  }
 },
 "nbformat": 4,
 "nbformat_minor": 2
}
