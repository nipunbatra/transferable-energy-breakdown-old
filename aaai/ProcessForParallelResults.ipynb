{
 "cells": [
  {
   "cell_type": "code",
   "execution_count": 1,
   "metadata": {
    "collapsed": true
   },
   "outputs": [],
   "source": [
    "import matplotlib.pyplot as plt\n",
    "%matplotlib inline\n",
    "from sklearn.model_selection import KFold\n",
    "# import numpy as np\n",
    "import pandas as pd"
   ]
  },
  {
   "cell_type": "code",
   "execution_count": 2,
   "metadata": {
    "collapsed": true
   },
   "outputs": [],
   "source": [
    "from create_matrix import *\n",
    "\n",
    "from tensor_custom_core import *\n",
    "from create_matrix import *\n",
    "from tensor_custom_core import *\n",
    "from degree_days import dds\n",
    "appliance_index = {appliance: APPLIANCES_ORDER.index(appliance) for appliance in APPLIANCES_ORDER}\n",
    "\n",
    "APPLIANCES = ['fridge', 'hvac', 'wm', 'mw', 'oven', 'dw']\n",
    "region = \"SanDiego\"\n",
    "year = 2014\n",
    "\n",
    "import os\n",
    "from degree_days import dds\n",
    "import autograd.numpy as np\n",
    "\n",
    "\n",
    "\n",
    "\n",
    "def un_normalize(x, maximum, minimum):\n",
    "    return (maximum - minimum) * x + minimum"
   ]
  },
  {
   "cell_type": "code",
   "execution_count": 3,
   "metadata": {
    "collapsed": true
   },
   "outputs": [],
   "source": [
    "def get_tensor(df):\n",
    "    start, stop = 1, 13\n",
    "    energy_cols = np.array(\n",
    "        [['%s_%d' % (appliance, month) for month in range(start, stop)] for appliance in APPLIANCES_ORDER]).flatten()\n",
    "\n",
    "    dfc = df.copy()\n",
    "\n",
    "    df = dfc[energy_cols]\n",
    "\n",
    "    tensor = df.values.reshape((len(df), 7, stop - start))\n",
    "    return tensor\n",
    "\n",
    "\n",
    "def create_region_df_dfc_static(region, year):\n",
    "    df, dfc = create_matrix_single_region(region, year)\n",
    "    tensor = get_tensor(df)\n",
    "    static_region = df[['area', 'total_occupants', 'num_rooms']].copy()\n",
    "    static_region['area'] = static_region['area'].div(4000)\n",
    "    static_region['total_occupants'] = static_region['total_occupants'].div(8)\n",
    "    static_region['num_rooms'] = static_region['num_rooms'].div(8)\n",
    "    static_region =static_region.values\n",
    "    return df, dfc, tensor, static_region\n",
    "\n"
   ]
  },
  {
   "cell_type": "code",
   "execution_count": 4,
   "metadata": {
    "collapsed": true
   },
   "outputs": [],
   "source": [
    "au_df, au_dfc, au_tensor, au_static = create_region_df_dfc_static('Austin', year)\n",
    "sd_df, sd_dfc, sd_tensor, sd_static = create_region_df_dfc_static('SanDiego', year)"
   ]
  },
  {
   "cell_type": "code",
   "execution_count": 5,
   "metadata": {
    "collapsed": true
   },
   "outputs": [],
   "source": [
    "import pickle\n",
    "\n",
    "def load_obj(name):\n",
    "    with open(os.path.expanduser('~/git/' + name + '.pkl'), 'rb') as f:\n",
    "        try:\n",
    "            return pickle.load(f)\n",
    "        except EOFError:\n",
    "            return None"
   ]
  },
  {
   "cell_type": "code",
   "execution_count": 6,
   "metadata": {
    "collapsed": true
   },
   "outputs": [
    {
     "data": {
      "text/plain": [
       "{'Learning Params': {0: {'Iterations': 900,\n",
       "   'Lambda': 0,\n",
       "   'Least Train Error': 11.74557023366184,\n",
       "   'Num home factors': 4,\n",
       "   'Num season factors': 2}},\n",
       " 'Predictions': {'aggregate': [              0           1           2           3           4            5   \\\n",
       "   54    227.370500  228.290730  222.337936  245.054879  351.716943   364.880028   \n",
       "   203    90.375374   92.579328   78.322375  132.729495  388.185339   419.710952   \n",
       "   527   599.301642  602.116373  583.908429  653.393246  979.642872  1019.905092   \n",
       "   1450  434.440339  437.718391  416.513310  497.435747  877.388033   924.277658   \n",
       "   \n",
       "                  6            7            8           9           10  \\\n",
       "   54     396.615875   425.529592   424.310910  335.706981  272.214280   \n",
       "   203    495.718365   564.966772   562.048027  349.841449  197.776312   \n",
       "   527   1116.976233  1205.415262  1201.687652  930.672844  736.466309   \n",
       "   1450  1037.327295  1140.323922  1135.982726  820.357243  594.183139   \n",
       "   \n",
       "                 11  \n",
       "   54    323.882160  \n",
       "   203   321.520983  \n",
       "   527   894.504004  \n",
       "   1450  778.234793  ],\n",
       "  'dw': [            0         1         2         3         4         5         6   \\\n",
       "   54    3.236480  3.236480  3.236480  3.236480  3.236480  3.236480  3.236480   \n",
       "   203   3.072794  3.072794  3.072794  3.072794  3.072795  3.072795  3.072795   \n",
       "   527   8.665200  8.665200  8.665200  8.665200  8.665201  8.665201  8.665201   \n",
       "   1450  6.946928  6.946928  6.946928  6.946929  6.946929  6.946929  6.946929   \n",
       "   \n",
       "               7         8         9         10        11  \n",
       "   54    3.236480  3.236480  3.236480  3.236480  3.236480  \n",
       "   203   3.072795  3.072795  3.072795  3.072794  3.072795  \n",
       "   527   8.665201  8.665201  8.665201  8.665200  8.665200  \n",
       "   1450  6.946930  6.946930  6.946929  6.946929  6.946929  ],\n",
       "  'fridge': [             0          1          2          3          4          5   \\\n",
       "   54    16.159789  16.175914  16.071603  16.469675  18.338731  18.569389   \n",
       "   203   23.755269  23.783313  23.601903  24.294195  27.544686  27.945827   \n",
       "   527   45.010943  45.056755  44.760405  45.891328  51.201312  51.856613   \n",
       "   1450  41.337659  41.382452  41.092692  42.198469  47.390386  48.031117   \n",
       "   \n",
       "                6          7          8          9          10         11  \n",
       "   54    19.125502  19.632161  19.610806  18.058186  16.945593  17.850978  \n",
       "   203   28.912967  29.794103  29.756964  27.056788  25.121869  26.696431  \n",
       "   527   53.436526  54.875945  54.815275  50.404284  47.243411  49.815606  \n",
       "   1450  49.575901  50.983315  50.923994  46.611080  43.520489  46.035492  ],\n",
       "  'hvac': [             0          1             2          3           4           5   \\\n",
       "   54     6.992561   7.745448  2.875169e+00  21.461037  108.726614  119.495992   \n",
       "   203    4.142472   4.899944  3.343726e-07  18.699075  106.496187  117.331163   \n",
       "   527   17.780843  19.765061  6.929542e+00  55.912211  285.898817  314.281291   \n",
       "   1450  12.077653  13.642449  3.520087e+00  42.148857  223.521166  245.904186   \n",
       "   \n",
       "                 6           7           8           9           10          11  \n",
       "   54    145.460678  169.116438  168.119373   95.628062   43.681503   85.953584  \n",
       "   203   143.454000  167.253847  166.250709   93.317852   41.054887   83.584447  \n",
       "   527   382.710679  445.054940  442.427197  251.377856  114.473786  225.880973  \n",
       "   1450  299.869051  349.035056  346.962762  196.297205   88.331755  176.189823  ],\n",
       "  'mw': [            0         1         2         3         4         5         6   \\\n",
       "   54    2.148970  2.148970  2.148970  2.148970  2.148970  2.148970  2.148970   \n",
       "   203   0.679401  0.679401  0.679401  0.679401  0.679402  0.679402  0.679402   \n",
       "   527   5.448830  5.448830  5.448830  5.448830  5.448831  5.448831  5.448832   \n",
       "   1450  3.426810  3.426810  3.426810  3.426810  3.426811  3.426811  3.426811   \n",
       "   \n",
       "               7         8         9         10        11  \n",
       "   54    2.148970  2.148970  2.148970  2.148970  2.148970  \n",
       "   203   0.679402  0.679402  0.679402  0.679401  0.679402  \n",
       "   527   5.448832  5.448832  5.448831  5.448831  5.448831  \n",
       "   1450  3.426812  3.426812  3.426811  3.426811  3.426811  ],\n",
       "  'oven': [             0          1          2          3          4          5   \\\n",
       "   54     4.170689   4.170689   4.170689   4.170689   4.170689   4.170689   \n",
       "   203    3.692823   3.692823   3.692823   3.692823   3.692824   3.692824   \n",
       "   527   11.079367  11.079367  11.079367  11.079367  11.079368  11.079368   \n",
       "   1450   8.650698   8.650698   8.650698   8.650698   8.650699   8.650699   \n",
       "   \n",
       "                6          7          8          9          10         11  \n",
       "   54     4.170690   4.170690   4.170690   4.170689   4.170689   4.170689  \n",
       "   203    3.692824   3.692824   3.692824   3.692823   3.692823   3.692823  \n",
       "   527   11.079368  11.079369  11.079369  11.079368  11.079367  11.079368  \n",
       "   1450   8.650699   8.650699   8.650699   8.650699   8.650698   8.650699  ],\n",
       "  'wm': [            0         1         2         3         4         5         6   \\\n",
       "   54    1.190803  1.190869  1.190447  1.192058  1.199623  1.200557  1.202808   \n",
       "   203   1.094399  1.094619  1.093199  1.098617  1.124057  1.127197  1.134766   \n",
       "   527   3.168647  3.168855  3.167511  3.172638  3.196712  3.199682  3.206845   \n",
       "   1450  2.486879  2.487148  2.485411  2.492039  2.523162  2.527002  2.536262   \n",
       "   \n",
       "               7         8         9         10        11  \n",
       "   54    1.204859  1.204773  1.198488  1.193984  1.197649  \n",
       "   203   1.141663  1.141372  1.120239  1.105095  1.117418  \n",
       "   527   3.213371  3.213096  3.193098  3.178768  3.190429  \n",
       "   1450  2.544699  2.544343  2.518490  2.499964  2.515040  ]}}"
      ]
     },
     "execution_count": 6,
     "metadata": {},
     "output_type": "execute_result"
    }
   ],
   "source": [
    "load_obj('pred_graph/AtoS/transfer/0-10.0-0')"
   ]
  },
  {
   "cell_type": "code",
   "execution_count": 7,
   "metadata": {},
   "outputs": [
    {
     "ename": "IOError",
     "evalue": "[Errno 2] No such file or directory: '/Users/xox/git/pred_graph/AtoS/transfer/3-10.0-9.pkl'",
     "output_type": "error",
     "traceback": [
      "\u001b[0;31m---------------------------------------------------------------------------\u001b[0m",
      "\u001b[0;31mIOError\u001b[0m                                   Traceback (most recent call last)",
      "\u001b[0;32m<ipython-input-7-11e0bf6a40c6>\u001b[0m in \u001b[0;36m<module>\u001b[0;34m()\u001b[0m\n\u001b[1;32m      3\u001b[0m     \u001b[0;32mfor\u001b[0m \u001b[0mpercentage\u001b[0m \u001b[0;32min\u001b[0m \u001b[0mrange\u001b[0m\u001b[0;34m(\u001b[0m\u001b[0;36m10\u001b[0m\u001b[0;34m,\u001b[0m \u001b[0;36m110\u001b[0m\u001b[0;34m,\u001b[0m \u001b[0;36m20\u001b[0m\u001b[0;34m)\u001b[0m\u001b[0;34m:\u001b[0m\u001b[0;34m\u001b[0m\u001b[0m\n\u001b[1;32m      4\u001b[0m         \u001b[0;32mfor\u001b[0m \u001b[0mparts\u001b[0m \u001b[0;32min\u001b[0m \u001b[0mrange\u001b[0m\u001b[0;34m(\u001b[0m\u001b[0;36m10\u001b[0m\u001b[0;34m)\u001b[0m\u001b[0;34m:\u001b[0m\u001b[0;34m\u001b[0m\u001b[0m\n\u001b[0;32m----> 5\u001b[0;31m             \u001b[0mp\u001b[0m \u001b[0;34m=\u001b[0m \u001b[0mload_obj\u001b[0m\u001b[0;34m(\u001b[0m\u001b[0;34m'pred_graph/AtoS/transfer/{}-{}-{}'\u001b[0m\u001b[0;34m.\u001b[0m\u001b[0mformat\u001b[0m\u001b[0;34m(\u001b[0m\u001b[0mrandom_seed\u001b[0m\u001b[0;34m,\u001b[0m \u001b[0mfloat\u001b[0m\u001b[0;34m(\u001b[0m\u001b[0mpercentage\u001b[0m\u001b[0;34m)\u001b[0m\u001b[0;34m,\u001b[0m \u001b[0mparts\u001b[0m\u001b[0;34m)\u001b[0m\u001b[0;34m)\u001b[0m\u001b[0;34m\u001b[0m\u001b[0m\n\u001b[0m",
      "\u001b[0;32m<ipython-input-5-843d467032c0>\u001b[0m in \u001b[0;36mload_obj\u001b[0;34m(name)\u001b[0m\n\u001b[1;32m      2\u001b[0m \u001b[0;34m\u001b[0m\u001b[0m\n\u001b[1;32m      3\u001b[0m \u001b[0;32mdef\u001b[0m \u001b[0mload_obj\u001b[0m\u001b[0;34m(\u001b[0m\u001b[0mname\u001b[0m\u001b[0;34m)\u001b[0m\u001b[0;34m:\u001b[0m\u001b[0;34m\u001b[0m\u001b[0m\n\u001b[0;32m----> 4\u001b[0;31m     \u001b[0;32mwith\u001b[0m \u001b[0mopen\u001b[0m\u001b[0;34m(\u001b[0m\u001b[0mos\u001b[0m\u001b[0;34m.\u001b[0m\u001b[0mpath\u001b[0m\u001b[0;34m.\u001b[0m\u001b[0mexpanduser\u001b[0m\u001b[0;34m(\u001b[0m\u001b[0;34m'~/git/'\u001b[0m \u001b[0;34m+\u001b[0m \u001b[0mname\u001b[0m \u001b[0;34m+\u001b[0m \u001b[0;34m'.pkl'\u001b[0m\u001b[0;34m)\u001b[0m\u001b[0;34m,\u001b[0m \u001b[0;34m'rb'\u001b[0m\u001b[0;34m)\u001b[0m \u001b[0;32mas\u001b[0m \u001b[0mf\u001b[0m\u001b[0;34m:\u001b[0m\u001b[0;34m\u001b[0m\u001b[0m\n\u001b[0m\u001b[1;32m      5\u001b[0m         \u001b[0;32mtry\u001b[0m\u001b[0;34m:\u001b[0m\u001b[0;34m\u001b[0m\u001b[0m\n\u001b[1;32m      6\u001b[0m             \u001b[0;32mreturn\u001b[0m \u001b[0mpickle\u001b[0m\u001b[0;34m.\u001b[0m\u001b[0mload\u001b[0m\u001b[0;34m(\u001b[0m\u001b[0mf\u001b[0m\u001b[0;34m)\u001b[0m\u001b[0;34m\u001b[0m\u001b[0m\n",
      "\u001b[0;31mIOError\u001b[0m: [Errno 2] No such file or directory: '/Users/xox/git/pred_graph/AtoS/transfer/3-10.0-9.pkl'"
     ]
    }
   ],
   "source": [
    "pred = {}\n",
    "for random_seed in range(5):\n",
    "    for percentage in range(10, 110, 20):\n",
    "        for parts in range(10):\n",
    "            p = load_obj('pred_graph/AtoS/transfer/{}-{}-{}'.format(random_seed, float(percentage), parts))"
   ]
  }
 ],
 "metadata": {
  "kernelspec": {
   "display_name": "Python 2",
   "language": "python",
   "name": "python2"
  },
  "language_info": {
   "codemirror_mode": {
    "name": "ipython",
    "version": 2
   },
   "file_extension": ".py",
   "mimetype": "text/x-python",
   "name": "python",
   "nbconvert_exporter": "python",
   "pygments_lexer": "ipython2",
   "version": "2.7.10"
  }
 },
 "nbformat": 4,
 "nbformat_minor": 2
}
