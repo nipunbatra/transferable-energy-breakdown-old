{
 "cells": [
  {
   "cell_type": "code",
   "execution_count": 72,
   "metadata": {
    "collapsed": true
   },
   "outputs": [],
   "source": [
    "import autograd.numpy as np"
   ]
  },
  {
   "cell_type": "code",
   "execution_count": 73,
   "metadata": {},
   "outputs": [],
   "source": [
    "def learn_HAT_adagrad_static(case, E_np_masked, K, a, b, num_iter=2000, lr=0.1, dis=False, cost_function='abs', H_known=None,\n",
    "                      A_known=None, T_known=None, random_seed=0, eps=1e-8, beta=1, c=3):\n",
    "\n",
    "\n",
    "    def cost_static_fact(H, A, T, F, K, E_np_masked,  case, beta=1):\n",
    "    \n",
    "        HAT = multiply_case(H, A, T, case)\n",
    "        mask = ~np.isnan(E_np_masked)\n",
    "        error_1 = (HAT - E_np_masked)[mask].flatten()\n",
    "        \n",
    "        mask = ~np.isnan(K)\n",
    "        error_2 = (K-np.dot(H, F))[mask].flatten()\n",
    "        \n",
    "        \n",
    "        \n",
    "        return np.sqrt((error_1 ** 2).mean()) + beta * np.sqrt((error_2 ** 2).mean())\n",
    "\n",
    "    \n",
    "    cost = cost_static_fact\n",
    "\n",
    "\n",
    "    mg = multigrad(cost, argnums=[0, 1, 2, 3])\n",
    "\n",
    "    params = {}\n",
    "    params['M'], params['N'], params['O'] = E_np_masked.shape\n",
    "    params['a'] = a\n",
    "    params['b'] = b\n",
    "    H_dim_chars = list(cases[case]['HA'].split(\",\")[0].strip())\n",
    "    H_dim = tuple(params[x] for x in H_dim_chars)\n",
    "    A_dim_chars = list(cases[case]['HA'].split(\",\")[1].split(\"-\")[0].strip())\n",
    "    A_dim = tuple(params[x] for x in A_dim_chars)\n",
    "    T_dim_chars = list(cases[case]['HAT'].split(\",\")[1].split(\"-\")[0].strip())\n",
    "    T_dim = tuple(params[x] for x in T_dim_chars)\n",
    "    H = np.random.rand(*H_dim)\n",
    "\n",
    "    A = np.random.rand(*A_dim)\n",
    "    T = np.random.rand(*T_dim)\n",
    "    # F is h X c\n",
    "    F = np.random.rand(a, c )\n",
    "    \n",
    "    sum_square_gradients_H = np.zeros_like(H)\n",
    "    sum_square_gradients_A = np.zeros_like(A)\n",
    "    sum_square_gradients_T = np.zeros_like(T)\n",
    "    sum_square_gradients_F = np.zeros_like(F)\n",
    "\n",
    "    Hs = [H.copy()]\n",
    "    As = [A.copy()]\n",
    "    Ts = [T.copy()]\n",
    "    Fs = [F.copy()]\n",
    "    costs = []\n",
    "   \n",
    "    HATs = [multiply_case(H, A, T, 2)]\n",
    "\n",
    "    # GD procedure\n",
    "    for i in range(num_iter):\n",
    "        del_h, del_a, del_t, del_f = mg(H, A, T, F, K, E_np_masked,  case, beta)\n",
    "        sum_square_gradients_H += eps + np.square(del_h)\n",
    "        sum_square_gradients_A += eps + np.square(del_a)\n",
    "        sum_square_gradients_T += eps + np.square(del_t)\n",
    "        sum_square_gradients_F += eps + np.square(del_f)\n",
    "\n",
    "        lr_h = np.divide(lr, np.sqrt(sum_square_gradients_H))\n",
    "        lr_a = np.divide(lr, np.sqrt(sum_square_gradients_A))\n",
    "        lr_t = np.divide(lr, np.sqrt(sum_square_gradients_T))\n",
    "        lr_f = np.divide(lr, np.sqrt(sum_square_gradients_F))\n",
    "\n",
    "        H -= lr_h * del_h\n",
    "        A -= lr_a * del_a\n",
    "        T -= lr_t * del_t\n",
    "        F -= lr_f * del_f\n",
    "       \n",
    "        # Projection to non-negative space\n",
    "        H[H < 0] = 1e-8\n",
    "        A[A < 0] = 1e-8\n",
    "        T[T < 0] = 1e-8\n",
    "        F[F < 0] = 1e-8\n",
    "\n",
    "        As.append(A.copy())\n",
    "        Ts.append(T.copy())\n",
    "        Hs.append(H.copy())\n",
    "        Fs.append(H.copy())\n",
    "        costs.append(cost(H, A, T, F, K, E_np_masked,  case, beta))\n",
    "        HATs.append(multiply_case(H, A, T, 2))\n",
    "        if i % 500 == 0:\n",
    "            if dis:\n",
    "                print(costs[-1])\n",
    "    return H, A, T, F, Hs, As, Ts, HATs, costs\n"
   ]
  },
  {
   "cell_type": "code",
   "execution_count": 3,
   "metadata": {
    "collapsed": true
   },
   "outputs": [],
   "source": [
    "from create_matrix import *\n",
    "\n",
    "from tensor_custom_core import *\n",
    "from create_matrix import *\n",
    "from tensor_custom_core import *\n",
    "from degree_days import dds\n",
    "appliance_index = {appliance: APPLIANCES_ORDER.index(appliance) for appliance in APPLIANCES_ORDER}\n",
    "\n",
    "APPLIANCES = ['fridge', 'hvac', 'wm', 'mw', 'oven', 'dw']\n",
    "region = \"SanDiego\"\n",
    "year = 2014\n",
    "\n",
    "import os\n",
    "\n",
    "\n",
    "def un_normalize(x, maximum, minimum):\n",
    "    return (maximum - minimum) * x + minimum"
   ]
  },
  {
   "cell_type": "code",
   "execution_count": 4,
   "metadata": {
    "collapsed": true
   },
   "outputs": [],
   "source": [
    "n_splits = 10\n",
    "import sys\n",
    "case=2\n",
    "a=2\n",
    "cost='abs'"
   ]
  },
  {
   "cell_type": "code",
   "execution_count": 5,
   "metadata": {
    "collapsed": true
   },
   "outputs": [],
   "source": [
    "def get_tensor(df, dfc):\n",
    "    start, stop = 1, 13\n",
    "    energy_cols = np.array(\n",
    "        [['%s_%d' % (appliance, month) for month in range(start, stop)] for appliance in APPLIANCES_ORDER]).flatten()\n",
    "\n",
    "    static_cols = ['area', 'total_occupants', 'num_rooms']\n",
    "    static_df = df[static_cols]\n",
    "    static_df = static_df.div(static_df.max())\n",
    "    weather_values = np.array(dds[2014][region][start - 1:stop - 1]).reshape(-1, 1)\n",
    "\n",
    "    dfc = df.copy()\n",
    "\n",
    "    df = dfc[energy_cols]\n",
    "    col_max = df.max().max()\n",
    "    col_min = df.min().min()\n",
    "    # df = (1.0 * (df - col_min)) / (col_max - col_min)\n",
    "    tensor = df.values.reshape((len(df), 7, stop - start))\n",
    "    M, N, O = tensor.shape\n",
    "    return tensor"
   ]
  },
  {
   "cell_type": "code",
   "execution_count": 64,
   "metadata": {
    "collapsed": true
   },
   "outputs": [],
   "source": [
    "df, dfc = create_matrix_single_region(\"SanDiego\", year)\n",
    "tensor = get_tensor(df, dfc)\n",
    "au_df, au_dfc = create_matrix_single_region(\"Austin\", year)\n",
    "au_tensor = get_tensor(au_df, au_dfc)\n",
    "\n",
    "static_sd = df[['area','total_occupants','num_rooms']].copy()\n",
    "static_sd['area'] = static_sd['area'].div(4000)\n",
    "static_sd['total_occupants'] = static_sd['total_occupants'].div(8)\n",
    "static_sd['num_rooms'] = static_sd['num_rooms'].div(8)\n",
    "static_sd = static_sd.values\n",
    "\n",
    "static_au = au_df[['area','total_occupants','num_rooms']].copy()\n",
    "static_au['area'] = static_au['area'].div(4000)\n",
    "static_au['total_occupants'] = static_au['total_occupants'].div(8)\n",
    "static_au['num_rooms'] = static_au['num_rooms'].div(8)\n",
    "static_au = static_au.values"
   ]
  },
  {
   "cell_type": "code",
   "execution_count": 74,
   "metadata": {},
   "outputs": [
    {
     "name": "stdout",
     "output_type": "stream",
     "text": [
      "0\n",
      "********************************************************************************\n",
      "215.588833844\n",
      "42.1531116306\n",
      "498.951535163\n",
      "130.659881474\n",
      "0.01\n",
      "********************************************************************************\n",
      "215.824618681\n",
      "41.6501053351\n",
      "498.953260089\n",
      "125.313914917\n",
      "1\n",
      "********************************************************************************\n",
      "216.39167127\n",
      "39.6681619238\n",
      "499.349666146\n",
      "127.920826617\n",
      "10\n",
      "********************************************************************************\n",
      "222.158042522\n",
      "40.9184775682\n",
      "503.466158875\n",
      "128.206482778\n",
      "100\n",
      "********************************************************************************\n",
      "253.951159903\n",
      "52.6724565766\n",
      "542.551901961\n",
      "178.951382107\n"
     ]
    }
   ],
   "source": [
    "a = 4\n",
    "b = 2\n",
    "K = static_sd\n",
    "\n",
    "A_sd_s = []\n",
    "A_au_s = []\n",
    "for beta in [0, 1e-2, 1, 10, 100]:\n",
    "    print(beta)\n",
    "    print(\"*\"*80)\n",
    "    H_sd, A_sd, T_sd, F_sd, Hs, As, Ts, HATs, costs = learn_HAT_adagrad_static(case, tensor, static_sd, a, b, 1000, 0.1, True, beta=beta)\n",
    "\n",
    "    H_au, A_au, T_au, F_au, Hs, As, Ts, HATs, costs = learn_HAT_adagrad_static(case, au_tensor, static_au, a, b, 1000, 0.1, True, beta=beta)\n",
    "    A_sd_s.append(A_sd_s)\n",
    "    A_au_s.append(A_au_s)"
   ]
  },
  {
   "cell_type": "code",
   "execution_count": 69,
   "metadata": {
    "collapsed": true
   },
   "outputs": [],
   "source": [
    "import matplotlib.pyplot as plt\n",
    "from plot_functions import *"
   ]
  },
  {
   "cell_type": "code",
   "execution_count": 87,
   "metadata": {},
   "outputs": [
    {
     "data": {
      "image/png": "[encoded data removed]",
      "text/plain": [
       "<matplotlib.figure.Figure at 0x13a006590>"
      ]
     },
     "metadata": {},
     "output_type": "display_data"
    }
   ],
   "source": [
    "fig, ax  = plt.subplots(nrows=5, ncols=2, figsize=(10, 10), sharey=True)\n",
    "for row, beta in enumerate([0, 1e-2, 1, 10, 100]):\n",
    "\n",
    "    e = pd.DataFrame(np.einsum('ahs -> ah', A_sd), index=APPLIANCES_ORDER)\n",
    "    e.div(e.sum()).T.plot(kind='bar', ax=ax[row, 0], rot=0, legend=False)\n",
    "\n",
    "    e = pd.DataFrame(np.einsum('ahs -> ah', A_au), index=APPLIANCES_ORDER)\n",
    "    e.div(e.sum()).T.plot(kind='bar', ax=ax[row, 1], rot=0, legend=False)\n",
    "    #plt.legend(bbox_to_anchor=(1.34,1))\n",
    "    format_axes(ax[row, 0])\n",
    "    format_axes(ax[row, 1])\n",
    "    ax[row, 0].set_ylabel(\"Beta = {}\".format(beta))\n",
    "    \n",
    "fig.text( 0.5, 0 ,\"Home factor\", fontsize=(13))\n",
    "ax[0, 0].set_title(\"SD\")\n",
    "ax[0, 1].set_title(\"Austin\")\n",
    "\n",
    "plt.legend(bbox_to_anchor=(1.3,3))\n",
    "plt.suptitle(\"Home basis\", fontsize=(15))\n",
    "plt.tight_layout()"
   ]
  },
  {
   "cell_type": "code",
   "execution_count": 55,
   "metadata": {
    "collapsed": true
   },
   "outputs": [],
   "source": [
    "%matplotlib inline"
   ]
  },
  {
   "cell_type": "code",
   "execution_count": 56,
   "metadata": {},
   "outputs": [
    {
     "data": {
      "text/plain": [
       "0    0.854817\n",
       "1    0.558333\n",
       "2    0.693018\n",
       "3    1.363405\n",
       "dtype: float64"
      ]
     },
     "execution_count": 56,
     "metadata": {},
     "output_type": "execute_result"
    }
   ],
   "source": [
    "pd.DataFrame(H).mean()"
   ]
  },
  {
   "cell_type": "code",
   "execution_count": 60,
   "metadata": {},
   "outputs": [
    {
     "data": {
      "text/html": [
       "<div>\n",
       "<style>\n",
       "    .dataframe thead tr:only-child th {\n",
       "        text-align: right;\n",
       "    }\n",
       "\n",
       "    .dataframe thead th {\n",
       "        text-align: left;\n",
       "    }\n",
       "\n",
       "    .dataframe tbody tr th {\n",
       "        vertical-align: top;\n",
       "    }\n",
       "</style>\n",
       "<table border=\"1\" class=\"dataframe\">\n",
       "  <thead>\n",
       "    <tr style=\"text-align: right;\">\n",
       "      <th></th>\n",
       "      <th>0</th>\n",
       "      <th>1</th>\n",
       "      <th>2</th>\n",
       "    </tr>\n",
       "  </thead>\n",
       "  <tbody>\n",
       "    <tr>\n",
       "      <th>0</th>\n",
       "      <td>1.050996</td>\n",
       "      <td>0.279704</td>\n",
       "      <td>0.636058</td>\n",
       "    </tr>\n",
       "    <tr>\n",
       "      <th>1</th>\n",
       "      <td>0.386450</td>\n",
       "      <td>0.107866</td>\n",
       "      <td>0.908022</td>\n",
       "    </tr>\n",
       "    <tr>\n",
       "      <th>2</th>\n",
       "      <td>2.627626</td>\n",
       "      <td>1.672551</td>\n",
       "      <td>2.617946</td>\n",
       "    </tr>\n",
       "    <tr>\n",
       "      <th>3</th>\n",
       "      <td>0.389979</td>\n",
       "      <td>0.430752</td>\n",
       "      <td>1.852649</td>\n",
       "    </tr>\n",
       "    <tr>\n",
       "      <th>4</th>\n",
       "      <td>0.509308</td>\n",
       "      <td>0.440100</td>\n",
       "      <td>1.418286</td>\n",
       "    </tr>\n",
       "    <tr>\n",
       "      <th>5</th>\n",
       "      <td>0.387935</td>\n",
       "      <td>0.248847</td>\n",
       "      <td>0.499262</td>\n",
       "    </tr>\n",
       "    <tr>\n",
       "      <th>6</th>\n",
       "      <td>1.125175</td>\n",
       "      <td>0.269533</td>\n",
       "      <td>0.349545</td>\n",
       "    </tr>\n",
       "    <tr>\n",
       "      <th>7</th>\n",
       "      <td>0.541802</td>\n",
       "      <td>0.179595</td>\n",
       "      <td>1.444732</td>\n",
       "    </tr>\n",
       "    <tr>\n",
       "      <th>8</th>\n",
       "      <td>0.346416</td>\n",
       "      <td>0.248469</td>\n",
       "      <td>0.498499</td>\n",
       "    </tr>\n",
       "    <tr>\n",
       "      <th>9</th>\n",
       "      <td>1.973251</td>\n",
       "      <td>0.685454</td>\n",
       "      <td>1.108058</td>\n",
       "    </tr>\n",
       "  </tbody>\n",
       "</table>\n",
       "</div>"
      ],
      "text/plain": [
       "          0         1         2\n",
       "0  1.050996  0.279704  0.636058\n",
       "1  0.386450  0.107866  0.908022\n",
       "2  2.627626  1.672551  2.617946\n",
       "3  0.389979  0.430752  1.852649\n",
       "4  0.509308  0.440100  1.418286\n",
       "5  0.387935  0.248847  0.499262\n",
       "6  1.125175  0.269533  0.349545\n",
       "7  0.541802  0.179595  1.444732\n",
       "8  0.346416  0.248469  0.498499\n",
       "9  1.973251  0.685454  1.108058"
      ]
     },
     "execution_count": 60,
     "metadata": {},
     "output_type": "execute_result"
    }
   ],
   "source": [
    "pd.DataFrame(np.dot(H, F)).head(10)"
   ]
  },
  {
   "cell_type": "code",
   "execution_count": 63,
   "metadata": {},
   "outputs": [
    {
     "data": {
      "text/html": [
       "<div>\n",
       "<style>\n",
       "    .dataframe thead tr:only-child th {\n",
       "        text-align: right;\n",
       "    }\n",
       "\n",
       "    .dataframe thead th {\n",
       "        text-align: left;\n",
       "    }\n",
       "\n",
       "    .dataframe tbody tr th {\n",
       "        vertical-align: top;\n",
       "    }\n",
       "</style>\n",
       "<table border=\"1\" class=\"dataframe\">\n",
       "  <thead>\n",
       "    <tr style=\"text-align: right;\">\n",
       "      <th></th>\n",
       "      <th>0</th>\n",
       "      <th>1</th>\n",
       "      <th>2</th>\n",
       "    </tr>\n",
       "  </thead>\n",
       "  <tbody>\n",
       "    <tr>\n",
       "      <th>0</th>\n",
       "      <td>NaN</td>\n",
       "      <td>NaN</td>\n",
       "      <td>NaN</td>\n",
       "    </tr>\n",
       "    <tr>\n",
       "      <th>1</th>\n",
       "      <td>0.38875</td>\n",
       "      <td>NaN</td>\n",
       "      <td>NaN</td>\n",
       "    </tr>\n",
       "    <tr>\n",
       "      <th>2</th>\n",
       "      <td>NaN</td>\n",
       "      <td>NaN</td>\n",
       "      <td>NaN</td>\n",
       "    </tr>\n",
       "    <tr>\n",
       "      <th>3</th>\n",
       "      <td>0.39375</td>\n",
       "      <td>NaN</td>\n",
       "      <td>NaN</td>\n",
       "    </tr>\n",
       "    <tr>\n",
       "      <th>4</th>\n",
       "      <td>0.51250</td>\n",
       "      <td>NaN</td>\n",
       "      <td>NaN</td>\n",
       "    </tr>\n",
       "    <tr>\n",
       "      <th>5</th>\n",
       "      <td>0.38875</td>\n",
       "      <td>0.25</td>\n",
       "      <td>0.5</td>\n",
       "    </tr>\n",
       "    <tr>\n",
       "      <th>6</th>\n",
       "      <td>NaN</td>\n",
       "      <td>NaN</td>\n",
       "      <td>NaN</td>\n",
       "    </tr>\n",
       "    <tr>\n",
       "      <th>7</th>\n",
       "      <td>0.54500</td>\n",
       "      <td>NaN</td>\n",
       "      <td>NaN</td>\n",
       "    </tr>\n",
       "    <tr>\n",
       "      <th>8</th>\n",
       "      <td>0.34750</td>\n",
       "      <td>0.25</td>\n",
       "      <td>0.5</td>\n",
       "    </tr>\n",
       "    <tr>\n",
       "      <th>9</th>\n",
       "      <td>NaN</td>\n",
       "      <td>NaN</td>\n",
       "      <td>NaN</td>\n",
       "    </tr>\n",
       "  </tbody>\n",
       "</table>\n",
       "</div>"
      ],
      "text/plain": [
       "         0     1    2\n",
       "0      NaN   NaN  NaN\n",
       "1  0.38875   NaN  NaN\n",
       "2      NaN   NaN  NaN\n",
       "3  0.39375   NaN  NaN\n",
       "4  0.51250   NaN  NaN\n",
       "5  0.38875  0.25  0.5\n",
       "6      NaN   NaN  NaN\n",
       "7  0.54500   NaN  NaN\n",
       "8  0.34750  0.25  0.5\n",
       "9      NaN   NaN  NaN"
      ]
     },
     "execution_count": 63,
     "metadata": {},
     "output_type": "execute_result"
    }
   ],
   "source": [
    "pd.DataFrame(K).head(10)"
   ]
  },
  {
   "cell_type": "code",
   "execution_count": null,
   "metadata": {
    "collapsed": true
   },
   "outputs": [],
   "source": []
  }
 ],
 "metadata": {
  "kernelspec": {
   "display_name": "Python 2",
   "language": "python",
   "name": "python2"
  },
  "language_info": {
   "codemirror_mode": {
    "name": "ipython",
    "version": 2
   },
   "file_extension": ".py",
   "mimetype": "text/x-python",
   "name": "python",
   "nbconvert_exporter": "python",
   "pygments_lexer": "ipython2",
   "version": "2.7.13"
  }
 },
 "nbformat": 4,
 "nbformat_minor": 2
}
