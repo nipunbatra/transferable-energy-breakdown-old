{
 "cells": [
  {
   "cell_type": "code",
   "execution_count": 1,
   "metadata": {
    "collapsed": true
   },
   "outputs": [],
   "source": [
    "import matplotlib.pyplot as plt\n",
    "%matplotlib inline\n",
    "from sklearn.model_selection import KFold\n",
    "from create_matrix import *\n",
    "import os\n",
    "import sys\n",
    "from tensor_custom_core import *\n",
    "from create_matrix import *\n",
    "from tensor_custom_core import *\n",
    "from degree_days import dds\n",
    "from sklearn.model_selection import train_test_split, KFold\n",
    "from common import compute_rmse_fraction\n",
    "from common import compute_rmse\n",
    "\n",
    "appliance_index = {appliance: APPLIANCES_ORDER.index(appliance) for appliance in APPLIANCES_ORDER}\n",
    "APPLIANCES = ['aggregate', 'fridge', 'hvac', 'wm', 'mw', 'oven', 'dw']\n",
    "year = 2014\n",
    "n_splits = 10\n",
    "case=2\n",
    "a=2\n",
    "cost='abs'"
   ]
  },
  {
   "cell_type": "code",
   "execution_count": 2,
   "metadata": {
    "collapsed": true
   },
   "outputs": [],
   "source": [
    "def un_normalize(x, maximum, minimum):\n",
    "    return (maximum - minimum) * x + minimum\n",
    "\n",
    "def get_tensor(df, dfc):\n",
    "    start, stop = 1, 13\n",
    "    energy_cols = np.array(\n",
    "        [['%s_%d' % (appliance, month) for month in range(start, stop)] for appliance in APPLIANCES_ORDER]).flatten()\n",
    "\n",
    "    static_cols = ['area', 'total_occupants', 'num_rooms']\n",
    "    static_df = df[static_cols]\n",
    "    static_df = static_df.div(static_df.max())\n",
    "    weather_values = np.array(dds[2014][region][start - 1:stop - 1]).reshape(-1, 1)\n",
    "\n",
    "    dfc = df.copy()\n",
    "\n",
    "    df = dfc[energy_cols]\n",
    "    col_max = df.max().max()\n",
    "    col_min = df.min().min()\n",
    "    # df = (1.0 * (df - col_min)) / (col_max - col_min)\n",
    "    tensor = df.values.reshape((len(df), 7, stop - start))\n",
    "    M, N, O = tensor.shape\n",
    "    return tensor"
   ]
  },
  {
   "cell_type": "code",
   "execution_count": 3,
   "metadata": {
    "collapsed": true
   },
   "outputs": [],
   "source": [
    "region = 'Austin'\n",
    "au_df, au_dfc = create_matrix_single_region(\"Austin\", year)\n",
    "au_tensor = get_tensor(au_df, au_dfc)\n",
    "static_au = au_df[['area','total_occupants','num_rooms']].copy()\n",
    "static_au['area'] = static_au['area'].div(4000)\n",
    "static_au['total_occupants'] = static_au['total_occupants'].div(8)\n",
    "static_au['num_rooms'] = static_au['num_rooms'].div(8)\n",
    "static_au = static_au.values\n",
    "region = 'SanDiego'\n",
    "sd_df, sd_dfc = create_matrix_single_region(\"SanDiego\", year)\n",
    "sd_tensor = get_tensor(sd_df, sd_dfc)\n",
    "static_sd = sd_df[['area','total_occupants','num_rooms']].copy()\n",
    "static_sd['area'] = static_sd['area'].div(4000)\n",
    "static_sd['total_occupants'] = static_sd['total_occupants'].div(8)\n",
    "static_sd['num_rooms'] = static_sd['num_rooms'].div(8)\n",
    "static_sd = static_sd.values"
   ]
  },
  {
   "cell_type": "code",
   "execution_count": 4,
   "metadata": {
    "collapsed": true
   },
   "outputs": [],
   "source": [
    "case = 2\n",
    "a = 2\n",
    "b = 3\n",
    "cost = 'l21'"
   ]
  },
  {
   "cell_type": "code",
   "execution_count": 5,
   "metadata": {
    "collapsed": true
   },
   "outputs": [],
   "source": [
    "H_au = {}\n",
    "A_au = {}\n",
    "T_au = {}"
   ]
  },
  {
   "cell_type": "code",
   "execution_count": 6,
   "metadata": {},
   "outputs": [
    {
     "name": "stdout",
     "output_type": "stream",
     "text": [
      "533\n",
      "(533, 1, 12)\n"
     ]
    }
   ],
   "source": [
    "# Learn H factors from aggregate Readings From Austin\n",
    "num_homes = au_tensor.shape[0]\n",
    "print num_homes\n",
    "agg_au_tensor = au_tensor[:, 0, :].copy().reshape(num_homes, 1, 12)\n",
    "print agg_au_tensor.shape\n",
    "H, A, T, H_aus, A_aus, T_aus, HAT_aus, costs_aus = learn_HAT_adagrad(case, agg_au_tensor, a, b, num_iter=5000, lr=0.1, dis=False, cost_function=cost, T_known=np.ones(12).reshape(-1, 1))"
   ]
  },
  {
   "cell_type": "code",
   "execution_count": 7,
   "metadata": {
    "collapsed": true
   },
   "outputs": [],
   "source": [
    "H_au['aggregate'] = H.copy()\n",
    "A_au['aggregate'] = A.copy()\n",
    "T_au['aggregate'] = T.copy()"
   ]
  },
  {
   "cell_type": "code",
   "execution_count": 8,
   "metadata": {},
   "outputs": [
    {
     "name": "stdout",
     "output_type": "stream",
     "text": [
      "hvac 1\n",
      "fridge 2\n",
      "mw 3\n",
      "dw 4\n",
      "wm 5\n",
      "oven 6\n"
     ]
    }
   ],
   "source": [
    "for appliance in APPLIANCES_ORDER[1:]:\n",
    "    index = APPLIANCES_ORDER.index(appliance)\n",
    "    tensor_copy = au_tensor[:, index, :].copy().reshape(num_homes, 1, 12)\n",
    "    print appliance, index\n",
    "    H_au[appliance], A_au[appliance], T_au[appliance], H_aus, A_aus, T_aus, HAT_aus, costs_aus = learn_HAT_adagrad(case, tensor_copy, a, b+index, num_iter=5000, lr=0.1, dis=False, cost_function=cost, H_known = H_au['aggregate'], T_known = T_au[APPLIANCES_ORDER[index-1]])"
   ]
  },
  {
   "cell_type": "code",
   "execution_count": 9,
   "metadata": {
    "scrolled": false
   },
   "outputs": [
    {
     "data": {
      "text/plain": [
       "array([[ 5.74485934,  8.42619918,  8.28302307],\n",
       "       [ 5.97335446,  7.47154668,  8.3841105 ]])"
      ]
     },
     "execution_count": 9,
     "metadata": {},
     "output_type": "execute_result"
    }
   ],
   "source": [
    "A_au['aggregate'][0]"
   ]
  },
  {
   "cell_type": "code",
   "execution_count": 10,
   "metadata": {
    "collapsed": true
   },
   "outputs": [],
   "source": [
    "A_au_all = np.zeros((7, 2, 9))"
   ]
  },
  {
   "cell_type": "code",
   "execution_count": 11,
   "metadata": {
    "collapsed": true
   },
   "outputs": [],
   "source": [
    "for appliance in APPLIANCES_ORDER:\n",
    "    index = APPLIANCES_ORDER.index(appliance)\n",
    "    A_au_all[index] = set_known(A_au_all[index], A_au[appliance][0])"
   ]
  },
  {
   "cell_type": "code",
   "execution_count": 12,
   "metadata": {
    "collapsed": true
   },
   "outputs": [],
   "source": [
    "HAT = multiply_case(H_au['aggregate'], A_au_all, T_au['oven'], case)"
   ]
  },
  {
   "cell_type": "code",
   "execution_count": 13,
   "metadata": {
    "collapsed": true
   },
   "outputs": [],
   "source": [
    "pred = {}\n",
    "for appliance in APPLIANCES_ORDER:\n",
    "    pred[appliance] = []\n",
    "for appliance in APPLIANCES_ORDER[1:]:\n",
    "    pred[appliance].append(pd.DataFrame(HAT[:, appliance_index[appliance], :], index=au_df.index))"
   ]
  },
  {
   "cell_type": "code",
   "execution_count": 14,
   "metadata": {},
   "outputs": [
    {
     "name": "stderr",
     "output_type": "stream",
     "text": [
      "/Users/xox/Library/Python/2.7/lib/python/site-packages/ipykernel_launcher.py:3: DeprecationWarning: \n",
      ".ix is deprecated. Please use\n",
      ".loc for label based indexing or\n",
      ".iloc for positional indexing\n",
      "\n",
      "See the documentation here:\n",
      "http://pandas.pydata.org/pandas-docs/stable/indexing.html#ix-indexer-is-deprecated\n",
      "  This is separate from the ipykernel package so we can avoid doing imports until\n"
     ]
    }
   ],
   "source": [
    "out = {}\n",
    "for appliance in APPLIANCES_ORDER[1:]:\n",
    "    s = pd.concat(pred[appliance]).ix[au_df.index]\n",
    "    if appliance==\"hvac\":\n",
    "        out[appliance] = compute_rmse_fraction(appliance,s[range(4, 10)],'Austin')[2]\n",
    "    else:   \n",
    "        out[appliance] = compute_rmse_fraction(appliance, s,'Austin')[2]"
   ]
  },
  {
   "cell_type": "code",
   "execution_count": 15,
   "metadata": {},
   "outputs": [
    {
     "data": {
      "text/plain": [
       "{'dw': 1.2714141217691173,\n",
       " 'fridge': 5.6823594762035876,\n",
       " 'hvac': 15.385817147679948,\n",
       " 'mw': 1.6645171915251238,\n",
       " 'oven': 1.4854099590411602,\n",
       " 'wm': 0.6365485633473662}"
      ]
     },
     "execution_count": 15,
     "metadata": {},
     "output_type": "execute_result"
    }
   ],
   "source": [
    "out"
   ]
  },
  {
   "cell_type": "code",
   "execution_count": null,
   "metadata": {
    "collapsed": true
   },
   "outputs": [],
   "source": [
    "## Normal learning in SanDiego"
   ]
  },
  {
   "cell_type": "code",
   "execution_count": 37,
   "metadata": {},
   "outputs": [
    {
     "name": "stdout",
     "output_type": "stream",
     "text": [
      "39\n",
      "(39, 1, 12)\n"
     ]
    }
   ],
   "source": [
    "# Learn H factors from aggregate Readings From SanDiego\n",
    "b = 3\n",
    "num_homes = sd_tensor.shape[0]\n",
    "print num_homes\n",
    "agg_sd_tensor = sd_tensor[:, 0, :].copy().reshape(num_homes, 1, 12)\n",
    "print agg_sd_tensor.shape\n",
    "H, A, T, H_sds, A_sds, T_sds, HAT_sds, costs_sds = learn_HAT_adagrad(case, agg_sd_tensor, a, b, num_iter=5000, lr=0.1, dis=False, cost_function=cost, T_known=np.ones(12).reshape(-1, 1))"
   ]
  },
  {
   "cell_type": "code",
   "execution_count": 38,
   "metadata": {
    "collapsed": true
   },
   "outputs": [],
   "source": [
    "H_sd = {}\n",
    "A_sd = {}\n",
    "T_sd = {}"
   ]
  },
  {
   "cell_type": "code",
   "execution_count": 39,
   "metadata": {
    "collapsed": true
   },
   "outputs": [],
   "source": [
    "H_sd['aggregate'] = H.copy()\n",
    "A_sd['aggregate'] = A.copy()\n",
    "T_sd['aggregate'] = T.copy()"
   ]
  },
  {
   "cell_type": "code",
   "execution_count": 40,
   "metadata": {},
   "outputs": [
    {
     "name": "stdout",
     "output_type": "stream",
     "text": [
      "hvac 1\n",
      "fridge 2\n",
      "mw 3\n",
      "dw 4\n",
      "wm 5\n",
      "oven 6\n"
     ]
    }
   ],
   "source": [
    "for appliance in APPLIANCES_ORDER[1:]:\n",
    "    index = APPLIANCES_ORDER.index(appliance)\n",
    "    tensor_copy = sd_tensor[:, index, :].copy().reshape(num_homes, 1, 12)\n",
    "    print appliance, index\n",
    "    H_sd[appliance], A_sd[appliance], T_sd[appliance], H_sds, A_sds, T_sds, HAT_sds, costs_sds = learn_HAT_adagrad(case, tensor_copy, a, b+index, num_iter=5000, lr=0.1, dis=False, cost_function=cost, H_known = H_sd['aggregate'], T_known = T_sd[APPLIANCES_ORDER[index-1]])"
   ]
  },
  {
   "cell_type": "code",
   "execution_count": 42,
   "metadata": {
    "collapsed": true
   },
   "outputs": [],
   "source": [
    "A_sd_all = np.zeros((7, 2, 9))"
   ]
  },
  {
   "cell_type": "code",
   "execution_count": 43,
   "metadata": {
    "collapsed": true
   },
   "outputs": [],
   "source": [
    "for appliance in APPLIANCES_ORDER:\n",
    "    index = APPLIANCES_ORDER.index(appliance)\n",
    "    A_sd_all[index] = set_known(A_sd_all[index], A_sd[appliance][0])"
   ]
  },
  {
   "cell_type": "code",
   "execution_count": 44,
   "metadata": {
    "collapsed": true
   },
   "outputs": [],
   "source": [
    "HAT = multiply_case(H_sd['aggregate'], A_sd_all, T_sd['oven'], case)"
   ]
  },
  {
   "cell_type": "code",
   "execution_count": 45,
   "metadata": {
    "collapsed": true
   },
   "outputs": [],
   "source": [
    "pred_normal = {}\n",
    "for appliance in APPLIANCES_ORDER:\n",
    "    pred_normal[appliance] = []\n",
    "for appliance in APPLIANCES_ORDER[1:]:\n",
    "    pred_normal[appliance].append(pd.DataFrame(HAT[:, appliance_index[appliance], :], index=sd_df.index))"
   ]
  },
  {
   "cell_type": "code",
   "execution_count": 46,
   "metadata": {},
   "outputs": [
    {
     "name": "stderr",
     "output_type": "stream",
     "text": [
      "/Users/xox/Library/Python/2.7/lib/python/site-packages/ipykernel_launcher.py:3: DeprecationWarning: \n",
      ".ix is deprecated. Please use\n",
      ".loc for label based indexing or\n",
      ".iloc for positional indexing\n",
      "\n",
      "See the documentation here:\n",
      "http://pandas.pydata.org/pandas-docs/stable/indexing.html#ix-indexer-is-deprecated\n",
      "  This is separate from the ipykernel package so we can avoid doing imports until\n"
     ]
    }
   ],
   "source": [
    "out_normal = {}\n",
    "for appliance in APPLIANCES_ORDER[1:]:\n",
    "    s = pd.concat(pred_normal[appliance]).ix[sd_df.index]\n",
    "    if appliance==\"hvac\":\n",
    "        out_normal[appliance] = compute_rmse_fraction(appliance,s[range(4, 10)],'SanDiego')[2]\n",
    "    else:   \n",
    "        out_normal[appliance] = compute_rmse_fraction(appliance, s,'SanDiego')[2]"
   ]
  },
  {
   "cell_type": "code",
   "execution_count": 47,
   "metadata": {},
   "outputs": [
    {
     "data": {
      "text/plain": [
       "{'dw': 1.8078596296885856,\n",
       " 'fridge': 7.4099184803791154,\n",
       " 'hvac': 17.961116437586284,\n",
       " 'mw': 1.7713507842741396,\n",
       " 'oven': 1.9746325383510228,\n",
       " 'wm': 0.61962300074774213}"
      ]
     },
     "execution_count": 47,
     "metadata": {},
     "output_type": "execute_result"
    }
   ],
   "source": [
    "out_normal"
   ]
  },
  {
   "cell_type": "code",
   "execution_count": 50,
   "metadata": {},
   "outputs": [
    {
     "data": {
      "text/html": [
       "<div>\n",
       "<style>\n",
       "    .dataframe thead tr:only-child th {\n",
       "        text-align: right;\n",
       "    }\n",
       "\n",
       "    .dataframe thead th {\n",
       "        text-align: left;\n",
       "    }\n",
       "\n",
       "    .dataframe tbody tr th {\n",
       "        vertical-align: top;\n",
       "    }\n",
       "</style>\n",
       "<table border=\"1\" class=\"dataframe\">\n",
       "  <thead>\n",
       "    <tr style=\"text-align: right;\">\n",
       "      <th></th>\n",
       "      <th>dw_transfer</th>\n",
       "      <th>fridge_transfer</th>\n",
       "      <th>hvac_transfer</th>\n",
       "      <th>mw_transfer</th>\n",
       "      <th>oven_transfer</th>\n",
       "      <th>wm_transfer</th>\n",
       "    </tr>\n",
       "  </thead>\n",
       "  <tbody>\n",
       "    <tr>\n",
       "      <th>10</th>\n",
       "      <td>1.997348</td>\n",
       "      <td>8.564206</td>\n",
       "      <td>18.391994</td>\n",
       "      <td>1.897728</td>\n",
       "      <td>2.294356</td>\n",
       "      <td>0.675991</td>\n",
       "    </tr>\n",
       "    <tr>\n",
       "      <th>50</th>\n",
       "      <td>1.919436</td>\n",
       "      <td>6.637971</td>\n",
       "      <td>17.700735</td>\n",
       "      <td>1.788339</td>\n",
       "      <td>2.179913</td>\n",
       "      <td>0.716924</td>\n",
       "    </tr>\n",
       "    <tr>\n",
       "      <th>90</th>\n",
       "      <td>1.877080</td>\n",
       "      <td>6.494367</td>\n",
       "      <td>18.220131</td>\n",
       "      <td>1.823614</td>\n",
       "      <td>2.187788</td>\n",
       "      <td>0.729293</td>\n",
       "    </tr>\n",
       "  </tbody>\n",
       "</table>\n",
       "</div>"
      ],
      "text/plain": [
       "    dw_transfer  fridge_transfer  hvac_transfer  mw_transfer  oven_transfer  \\\n",
       "10     1.997348         8.564206      18.391994     1.897728       2.294356   \n",
       "50     1.919436         6.637971      17.700735     1.788339       2.179913   \n",
       "90     1.877080         6.494367      18.220131     1.823614       2.187788   \n",
       "\n",
       "    wm_transfer  \n",
       "10     0.675991  \n",
       "50     0.716924  \n",
       "90     0.729293  "
      ]
     },
     "execution_count": 50,
     "metadata": {},
     "output_type": "execute_result"
    }
   ],
   "source": [
    "mean_out_transfer"
   ]
  },
  {
   "cell_type": "code",
   "execution_count": 25,
   "metadata": {},
   "outputs": [
    {
     "name": "stdout",
     "output_type": "stream",
     "text": [
      "random seed:  0\n",
      "training percentage:  10\n",
      "round:  0\n",
      "test_ix:  Int64Index([54, 203, 527, 1450], dtype='int64')\n",
      "round:  1\n",
      "test_ix:  Int64Index([1524, 1731, 2031, 2354], dtype='int64')\n",
      "round:  2\n",
      "test_ix:  Int64Index([2606, 3687, 3864, 3938], dtype='int64')\n",
      "round:  3\n",
      "test_ix:  Int64Index([4083, 4095, 4329, 4495], dtype='int64')\n",
      "round:  4\n",
      "test_ix:  Int64Index([4761, 4934, 5909, 5938], dtype='int64')\n",
      "round:  5\n",
      "test_ix:  Int64Index([6268, 6377, 6429, 6497], dtype='int64')\n",
      "round:  6\n",
      "test_ix:  Int64Index([6547, 7062, 7114, 7409], dtype='int64')\n",
      "round:  7\n",
      "test_ix:  Int64Index([7639, 8061, 8342, 8574], dtype='int64')\n",
      "round:  8\n",
      "test_ix:  Int64Index([8733, 9213, 9370, 9585], dtype='int64')\n",
      "round:  9\n",
      "test_ix:  Int64Index([9612, 9775, 9836], dtype='int64')\n",
      "training percentage:  50\n",
      "round:  0\n",
      "test_ix:  Int64Index([54, 203, 527, 1450], dtype='int64')\n",
      "round:  1\n",
      "test_ix:  Int64Index([1524, 1731, 2031, 2354], dtype='int64')\n",
      "round:  2\n",
      "test_ix:  Int64Index([2606, 3687, 3864, 3938], dtype='int64')\n",
      "round:  3\n",
      "test_ix:  Int64Index([4083, 4095, 4329, 4495], dtype='int64')\n",
      "round:  4\n",
      "test_ix:  Int64Index([4761, 4934, 5909, 5938], dtype='int64')\n",
      "round:  5\n",
      "test_ix:  Int64Index([6268, 6377, 6429, 6497], dtype='int64')\n",
      "round:  6\n",
      "test_ix:  Int64Index([6547, 7062, 7114, 7409], dtype='int64')\n",
      "round:  7\n",
      "test_ix:  Int64Index([7639, 8061, 8342, 8574], dtype='int64')\n",
      "round:  8\n",
      "test_ix:  Int64Index([8733, 9213, 9370, 9585], dtype='int64')\n",
      "round:  9\n",
      "test_ix:  Int64Index([9612, 9775, 9836], dtype='int64')\n",
      "training percentage:  90\n",
      "round:  0\n",
      "test_ix:  Int64Index([54, 203, 527, 1450], dtype='int64')\n",
      "round:  1\n",
      "test_ix:  Int64Index([1524, 1731, 2031, 2354], dtype='int64')\n",
      "round:  2\n",
      "test_ix:  Int64Index([2606, 3687, 3864, 3938], dtype='int64')\n",
      "round:  3\n",
      "test_ix:  Int64Index([4083, 4095, 4329, 4495], dtype='int64')\n",
      "round:  4\n",
      "test_ix:  Int64Index([4761, 4934, 5909, 5938], dtype='int64')\n",
      "round:  5\n",
      "test_ix:  Int64Index([6268, 6377, 6429, 6497], dtype='int64')\n",
      "round:  6\n",
      "test_ix:  Int64Index([6547, 7062, 7114, 7409], dtype='int64')\n",
      "round:  7\n",
      "test_ix:  Int64Index([7639, 8061, 8342, 8574], dtype='int64')\n",
      "round:  8\n",
      "test_ix:  Int64Index([8733, 9213, 9370, 9585], dtype='int64')\n",
      "round:  9\n",
      "test_ix:  Int64Index([9612, 9775, 9836], dtype='int64')\n",
      "random seed:  1\n",
      "training percentage:  10\n",
      "round:  0\n",
      "test_ix:  Int64Index([54, 203, 527, 1450], dtype='int64')\n",
      "round:  1\n",
      "test_ix:  Int64Index([1524, 1731, 2031, 2354], dtype='int64')\n",
      "round:  2\n",
      "test_ix:  Int64Index([2606, 3687, 3864, 3938], dtype='int64')\n",
      "round:  3\n",
      "test_ix:  Int64Index([4083, 4095, 4329, 4495], dtype='int64')\n",
      "round:  4\n",
      "test_ix:  Int64Index([4761, 4934, 5909, 5938], dtype='int64')\n",
      "round:  5\n",
      "test_ix:  Int64Index([6268, 6377, 6429, 6497], dtype='int64')\n",
      "round:  6\n",
      "test_ix:  Int64Index([6547, 7062, 7114, 7409], dtype='int64')\n",
      "round:  7\n",
      "test_ix:  Int64Index([7639, 8061, 8342, 8574], dtype='int64')\n",
      "round:  8\n",
      "test_ix:  Int64Index([8733, 9213, 9370, 9585], dtype='int64')\n",
      "round:  9\n",
      "test_ix:  Int64Index([9612, 9775, 9836], dtype='int64')\n",
      "training percentage:  50\n",
      "round:  0\n",
      "test_ix:  Int64Index([54, 203, 527, 1450], dtype='int64')\n",
      "round:  1\n",
      "test_ix:  Int64Index([1524, 1731, 2031, 2354], dtype='int64')\n",
      "round:  2\n",
      "test_ix:  Int64Index([2606, 3687, 3864, 3938], dtype='int64')\n",
      "round:  3\n",
      "test_ix:  Int64Index([4083, 4095, 4329, 4495], dtype='int64')\n",
      "round:  4\n",
      "test_ix:  Int64Index([4761, 4934, 5909, 5938], dtype='int64')\n",
      "round:  5\n",
      "test_ix:  Int64Index([6268, 6377, 6429, 6497], dtype='int64')\n",
      "round:  6\n",
      "test_ix:  Int64Index([6547, 7062, 7114, 7409], dtype='int64')\n",
      "round:  7\n",
      "test_ix:  Int64Index([7639, 8061, 8342, 8574], dtype='int64')\n",
      "round:  8\n",
      "test_ix:  Int64Index([8733, 9213, 9370, 9585], dtype='int64')\n",
      "round:  9\n",
      "test_ix:  Int64Index([9612, 9775, 9836], dtype='int64')\n",
      "training percentage:  90\n",
      "round:  0\n",
      "test_ix:  Int64Index([54, 203, 527, 1450], dtype='int64')\n",
      "round:  1\n",
      "test_ix:  Int64Index([1524, 1731, 2031, 2354], dtype='int64')\n",
      "round:  2\n",
      "test_ix:  Int64Index([2606, 3687, 3864, 3938], dtype='int64')\n",
      "round:  3\n",
      "test_ix:  Int64Index([4083, 4095, 4329, 4495], dtype='int64')\n",
      "round:  4\n",
      "test_ix:  Int64Index([4761, 4934, 5909, 5938], dtype='int64')\n",
      "round:  5\n",
      "test_ix:  Int64Index([6268, 6377, 6429, 6497], dtype='int64')\n",
      "round:  6\n",
      "test_ix:  Int64Index([6547, 7062, 7114, 7409], dtype='int64')\n",
      "round:  7\n",
      "test_ix:  Int64Index([7639, 8061, 8342, 8574], dtype='int64')\n",
      "round:  8\n",
      "test_ix:  Int64Index([8733, 9213, 9370, 9585], dtype='int64')\n",
      "round:  9\n",
      "test_ix:  Int64Index([9612, 9775, 9836], dtype='int64')\n"
     ]
    }
   ],
   "source": [
    "n_splits = 10\n",
    "case = 2\n",
    "a = 2\n",
    "b = 9\n",
    "cost = 'l21'\n",
    "\n",
    "pred_transfer = {}\n",
    "pred_normal = {}\n",
    "\n",
    "for random_seed in range(2):\n",
    "    pred_transfer[random_seed] = {}\n",
    "    pred_normal[random_seed] = {}\n",
    "  \n",
    "    for appliance in APPLIANCES_ORDER:\n",
    "        pred_transfer[random_seed][appliance] = {f:[] for f in range(10, 110, 40)}\n",
    "        pred_normal[random_seed][appliance] = {f:[] for f in range(10, 110, 40)}\n",
    "\n",
    "kf = KFold(n_splits=n_splits)\n",
    "for random_seed in range(2):\n",
    "    print \"random seed: \", random_seed\n",
    "    for train_percentage in range(10, 110, 40):\n",
    "        print \"training percentage: \", train_percentage\n",
    "        rd = 0\n",
    "        for train_max, test in kf.split(sd_df):\n",
    "            print \"round: \", rd\n",
    "           \n",
    "            \n",
    "            num_train = int((train_percentage*len(train_max)/100)+0.5)\n",
    "            num_test = len(test)\n",
    "            \n",
    "            # get the random training data from train_max based on then random seed\n",
    "            if train_percentage==100:\n",
    "                train = train_max\n",
    "            else:\n",
    "                train, _ = train_test_split(train_max, train_size = train_percentage/100.0, random_state=random_seed)\n",
    "            \n",
    "            # get the index of training and testing data\n",
    "            train_ix = sd_df.index[train]\n",
    "            test_ix = sd_df.index[test]\n",
    "            print \"test_ix: \", test_ix\n",
    "            \n",
    "            # create the tensor\n",
    "            train_test_ix = np.concatenate([test_ix, train_ix])\n",
    "            df_t, dfc_t = sd_df.ix[train_test_ix], sd_dfc.ix[train_test_ix]\n",
    "            tensor = get_tensor(df_t, dfc_t)\n",
    "            \n",
    "            ############################################################################################\n",
    "            # Normal learning with constant: with constant, no A_known, with learn_HAT_constant\n",
    "            ############################################################################################\n",
    "            \n",
    "            ############################################################################################\n",
    "            # transfer learning: constant constraint, with A_known = A_a_const, with learn_HAT_constant\n",
    "            ############################################################################################\n",
    "            tensor_copy = tensor.copy()\n",
    "            tensor_copy[:num_test, 1:, :] = np.NaN\n",
    "            H, A, T, Hs, As, Ts, HATs, costs = learn_HAT_adagrad(case, tensor_copy, a, b, num_iter=2000, lr=0.1, dis=False, cost_function=cost, A_known = A_au_all, T_known = np.ones(12).reshape(-1,1))\n",
    "            \n",
    "            # get the prediction\n",
    "            HAT = multiply_case(H, A, T, case)\n",
    "            for appliance in APPLIANCES_ORDER:\n",
    "                pred_transfer[random_seed][appliance][train_percentage].append(pd.DataFrame(HAT[:num_test, appliance_index[appliance], :], index=test_ix))\n",
    "            \n",
    "            \n",
    "            rd += 1"
   ]
  },
  {
   "cell_type": "code",
   "execution_count": 18,
   "metadata": {},
   "outputs": [
    {
     "name": "stderr",
     "output_type": "stream",
     "text": [
      "/Users/xox/Library/Python/2.7/lib/python/site-packages/ipykernel_launcher.py:8: DeprecationWarning: \n",
      ".ix is deprecated. Please use\n",
      ".loc for label based indexing or\n",
      ".iloc for positional indexing\n",
      "\n",
      "See the documentation here:\n",
      "http://pandas.pydata.org/pandas-docs/stable/indexing.html#ix-indexer-is-deprecated\n",
      "  \n"
     ]
    }
   ],
   "source": [
    "out_normal = {}\n",
    "for random_seed in range(2):\n",
    "    out_normal[random_seed] = {}\n",
    "       \n",
    "    for appliance in APPLIANCES_ORDER[1:]:\n",
    "        out_normal[random_seed][appliance] = {}\n",
    "        for f in range(10,110,40):\n",
    "            s = pd.concat(pred_normal[random_seed][appliance][f]).ix[sd_df.index]\n",
    "            if appliance==\"hvac\":\n",
    "                out_normal[random_seed][appliance][f] = compute_rmse_fraction(appliance,s[range(4, 10)],'SanDiego')[2]\n",
    "            else:   \n",
    "                out_normal[random_seed][appliance][f] = compute_rmse_fraction(appliance, s,'SanDiego')[2]"
   ]
  },
  {
   "cell_type": "code",
   "execution_count": 19,
   "metadata": {},
   "outputs": [
    {
     "name": "stderr",
     "output_type": "stream",
     "text": [
      "/Users/xox/Library/Python/2.7/lib/python/site-packages/ipykernel_launcher.py:8: DeprecationWarning: \n",
      ".ix is deprecated. Please use\n",
      ".loc for label based indexing or\n",
      ".iloc for positional indexing\n",
      "\n",
      "See the documentation here:\n",
      "http://pandas.pydata.org/pandas-docs/stable/indexing.html#ix-indexer-is-deprecated\n",
      "  \n"
     ]
    }
   ],
   "source": [
    "out_transfer = {}\n",
    "for random_seed in range(2):\n",
    "    out_transfer[random_seed] = {}\n",
    "       \n",
    "    for appliance in APPLIANCES_ORDER[1:]:\n",
    "        out_transfer[random_seed][appliance] = {}\n",
    "        for f in range(10,110,40):\n",
    "            s = pd.concat(pred_transfer[random_seed][appliance][f]).ix[sd_df.index]\n",
    "            if appliance==\"hvac\":\n",
    "                out_transfer[random_seed][appliance][f] = compute_rmse_fraction(appliance,s[range(4, 10)],'SanDiego')[2]\n",
    "            else:   \n",
    "                out_transfer[random_seed][appliance][f] = compute_rmse_fraction(appliance, s,'SanDiego')[2]"
   ]
  },
  {
   "cell_type": "code",
   "execution_count": 20,
   "metadata": {
    "collapsed": true
   },
   "outputs": [],
   "source": [
    "mean_out_transfer = pd.Panel(out_transfer).mean(axis=0)\n",
    "mean_out_normal = pd.Panel(out_normal).mean(axis=0)\n",
    "\n",
    "\n",
    "# df_out_normal = pd.DataFrame(out_normal)]\n",
    "mean_out_transfer = mean_out_transfer.rename(columns={'dw':'dw_transfer', 'fridge':'fridge_transfer', 'hvac':'hvac_transfer',\n",
    "                                             'mw':'mw_transfer', 'oven':\"oven_transfer\", 'wm':'wm_transfer'})\n",
    "mean_out_normal = mean_out_normal.rename(columns={'dw':'dw_normal', 'fridge':'fridge_normal', 'hvac':'hvac_normal',\n",
    "                                             'mw':'mw_normal', 'oven':\"oven_normal\", 'wm':'wm_normal'})"
   ]
  },
  {
   "cell_type": "code",
   "execution_count": 26,
   "metadata": {},
   "outputs": [
    {
     "data": {
      "image/png": "[encoded data removed]",
      "text/plain": [
       "<matplotlib.figure.Figure at 0x10aa75e50>"
      ]
     },
     "metadata": {},
     "output_type": "display_data"
    }
   ],
   "source": [
    "fig, axes = plt.subplots(nrows=3, ncols=2, figsize=(10, 30))\n",
    "ax = axes.flatten()\n",
    "count = 0\n",
    "\n",
    "for appliance in APPLIANCES_ORDER[1:]:\n",
    "#     print appliance\n",
    "    df1 = mean_out_transfer[appliance+\"_transfer\"]\n",
    "    df2 = mean_out_normal[appliance + \"_normal\"]\n",
    "    df = pd.concat([ df1, df2], axis=1)\n",
    "    pd.DataFrame(df).plot(ax=ax[count],figsize=(25, 10), marker='o', xlim=(0, 110), color=['b', 'g','r', 'y', 'k', 'c'])\n",
    "#     ax[count].legend(loc='', bbox_to_anchor=(1.0, 0.5))\n",
    "\n",
    "\n",
    "#     major_ticks = np.arange(0, 101, 20)   \n",
    "\n",
    "    ax[count].set_xlabel(\"% training\");\n",
    "    ax[count].locator_params(tight=False, nbins=20, axis='x')\n",
    "    ax[count].set_ylabel('RMSE fraction')\n",
    "    ax[count].set_title(appliance, loc=\"left\")\n",
    "    count += 1\n",
    "# plt.savefig(\"./analysis/0711/prediction_normal_transfer\", bbox_inches=\"tight\", dpi=300)"
   ]
  },
  {
   "cell_type": "code",
   "execution_count": null,
   "metadata": {
    "collapsed": true
   },
   "outputs": [],
   "source": []
  }
 ],
 "metadata": {
  "kernelspec": {
   "display_name": "Python 2",
   "language": "python",
   "name": "python2"
  },
  "language_info": {
   "codemirror_mode": {
    "name": "ipython",
    "version": 2
   },
   "file_extension": ".py",
   "mimetype": "text/x-python",
   "name": "python",
   "nbconvert_exporter": "python",
   "pygments_lexer": "ipython2",
   "version": "2.7.10"
  }
 },
 "nbformat": 4,
 "nbformat_minor": 2
}
