{
 "cells": [
  {
   "cell_type": "code",
   "execution_count": 1,
   "metadata": {
    "collapsed": true
   },
   "outputs": [],
   "source": [
    "import matplotlib.pyplot as plt\n",
    "%matplotlib inline\n",
    "from plot_functions import *\n",
    "from sklearn.model_selection import KFold\n",
    "import pickle"
   ]
  },
  {
   "cell_type": "code",
   "execution_count": 2,
   "metadata": {
    "collapsed": true
   },
   "outputs": [],
   "source": [
    "from create_matrix import *\n",
    "\n",
    "from tensor_custom_core import *\n",
    "from create_matrix import *\n",
    "from tensor_custom_core import *\n",
    "from degree_days import dds\n",
    "appliance_index = {appliance: APPLIANCES_ORDER.index(appliance) for appliance in APPLIANCES_ORDER}\n",
    "\n",
    "APPLIANCES = ['fridge', 'hvac', 'wm', 'mw', 'oven', 'dw']\n",
    "region = \"SanDiego\"\n",
    "year = 2014\n",
    "\n",
    "import os\n",
    "\n",
    "\n",
    "def un_normalize(x, maximum, minimum):\n",
    "    return (maximum - minimum) * x + minimum"
   ]
  },
  {
   "cell_type": "code",
   "execution_count": 3,
   "metadata": {
    "collapsed": true
   },
   "outputs": [],
   "source": [
    "n_splits = 10\n",
    "import sys\n",
    "case=2\n",
    "a=2\n",
    "cost='abs'"
   ]
  },
  {
   "cell_type": "code",
   "execution_count": 4,
   "metadata": {
    "collapsed": true
   },
   "outputs": [],
   "source": [
    "def get_tensor(df, dfc):\n",
    "    start, stop = 1, 13\n",
    "    energy_cols = np.array(\n",
    "        [['%s_%d' % (appliance, month) for month in range(start, stop)] for appliance in APPLIANCES_ORDER]).flatten()\n",
    "\n",
    "    static_cols = ['area', 'total_occupants', 'num_rooms']\n",
    "    static_df = df[static_cols]\n",
    "    static_df = static_df.div(static_df.max())\n",
    "    weather_values = np.array(dds[2014][region][start - 1:stop - 1]).reshape(-1, 1)\n",
    "\n",
    "    dfc = df.copy()\n",
    "\n",
    "    df = dfc[energy_cols]\n",
    "    col_max = df.max().max()\n",
    "    col_min = df.min().min()\n",
    "    # df = (1.0 * (df - col_min)) / (col_max - col_min)\n",
    "    tensor = df.values.reshape((len(df), 7, stop - start))\n",
    "    M, N, O = tensor.shape\n",
    "    return tensor"
   ]
  },
  {
   "cell_type": "code",
   "execution_count": 5,
   "metadata": {
    "collapsed": true
   },
   "outputs": [],
   "source": [
    "df, dfc = create_matrix_single_region(\"SanDiego\", year)\n",
    "tensor = get_tensor(df, dfc)\n",
    "au_df, au_dfc = create_matrix_single_region(\"Austin\", year)\n",
    "au_tensor = get_tensor(au_df, au_dfc)"
   ]
  },
  {
   "cell_type": "code",
   "execution_count": 6,
   "metadata": {
    "collapsed": true
   },
   "outputs": [],
   "source": [
    "from sklearn.model_selection import train_test_split, KFold"
   ]
  },
  {
   "cell_type": "code",
   "execution_count": null,
   "metadata": {
    "collapsed": true
   },
   "outputs": [],
   "source": [
    "eps = 1e-8\n",
    "def learn_HAT_sgd(case, E_np_masked, a, b, num_iter=2000, lr=0.1, dis=False, cost_function='abs', H_known=None,\n",
    "              A_known=None, T_known=None, random_seed=0, eps=1e-8):\n",
    "    np.random.seed(random_seed)\n",
    "    if cost_function == 'abs':\n",
    "        cost = cost_abs\n",
    "    else:\n",
    "        cost = cost_rel\n",
    "    mg = multigrad(cost, argnums=[0, 1, 2])\n",
    "\n",
    "    params = {}\n",
    "    params['M'], params['N'], params['O'] = E_np_masked.shape\n",
    "    params['a'] = a\n",
    "    params['b'] = b\n",
    "    H_dim_chars = list(cases[case]['HA'].split(\",\")[0].strip())\n",
    "    H_dim = tuple(params[x] for x in H_dim_chars)\n",
    "    A_dim_chars = list(cases[case]['HA'].split(\",\")[1].split(\"-\")[0].strip())\n",
    "    A_dim = tuple(params[x] for x in A_dim_chars)\n",
    "    T_dim_chars = list(cases[case]['HAT'].split(\",\")[1].split(\"-\")[0].strip())\n",
    "    T_dim = tuple(params[x] for x in T_dim_chars)\n",
    "    H = np.random.rand(*H_dim)\n",
    "\n",
    "    A = np.random.rand(*A_dim)\n",
    "    T = np.random.rand(*T_dim)\n",
    "    \n",
    "   \n",
    "\n",
    "    # GD procedure\n",
    "    for i in range(num_iter):\n",
    "        del_h, del_a, del_t = mg(H, A, T, E_np_masked, case)\n",
    "        sum_square_gradients_H+= eps+np.square(del_h)\n",
    "        sum_square_gradients_A+= eps+np.square(del_a)\n",
    "        sum_square_gradients_T+= eps+np.square(del_t)\n",
    "        \n",
    "        lr_h = np.divide(lr, np.sqrt(sum_square_gradients_H))\n",
    "        lr_a = np.divide(lr, np.sqrt(sum_square_gradients_A))\n",
    "        lr_t = np.divide(lr, np.sqrt(sum_square_gradients_T))\n",
    "        \n",
    "        H -= lr_h * del_h\n",
    "        A -= lr_a * del_a\n",
    "        T -= lr_t * del_t\n",
    "        # Projection to known values\n",
    "        if H_known is not None:\n",
    "            H = set_known(H, H_known)\n",
    "        if A_known is not None:\n",
    "            A = set_known(A, A_known)\n",
    "        if T_known is not None:\n",
    "            T = set_known(T, T_known)\n",
    "        # Projection to non-negative space\n",
    "        H[H < 0] = 0\n",
    "        A[A < 0] = 0\n",
    "        T[T < 0] = 0\n",
    "        if i % 500 == 0:\n",
    "            if dis:\n",
    "                print(cost(H, A, T, E_np_masked, case))\n",
    "    return H, A, T"
   ]
  },
  {
   "cell_type": "code",
   "execution_count": 38,
   "metadata": {
    "collapsed": true
   },
   "outputs": [],
   "source": [
    "eps = 1e-8\n",
    "def learn_HAT_adagrad(case, E_np_masked, a, b, num_iter=2000, lr=0.1, dis=False, cost_function='abs', H_known=None,\n",
    "              A_known=None, T_known=None, random_seed=0, eps=1e-8):\n",
    "    np.random.seed(random_seed)\n",
    "    if cost_function == 'abs':\n",
    "        cost = cost_abs\n",
    "    else:\n",
    "        cost = cost_rel\n",
    "    mg = multigrad(cost, argnums=[0, 1, 2])\n",
    "\n",
    "    params = {}\n",
    "    params['M'], params['N'], params['O'] = E_np_masked.shape\n",
    "    params['a'] = a\n",
    "    params['b'] = b\n",
    "    H_dim_chars = list(cases[case]['HA'].split(\",\")[0].strip())\n",
    "    H_dim = tuple(params[x] for x in H_dim_chars)\n",
    "    A_dim_chars = list(cases[case]['HA'].split(\",\")[1].split(\"-\")[0].strip())\n",
    "    A_dim = tuple(params[x] for x in A_dim_chars)\n",
    "    T_dim_chars = list(cases[case]['HAT'].split(\",\")[1].split(\"-\")[0].strip())\n",
    "    T_dim = tuple(params[x] for x in T_dim_chars)\n",
    "    H = np.random.rand(*H_dim)\n",
    "\n",
    "    A = np.random.rand(*A_dim)\n",
    "    T = np.random.rand(*T_dim)\n",
    "    \n",
    "    sum_square_gradients_H = np.zeros_like(H)\n",
    "    sum_square_gradients_A = np.zeros_like(A)\n",
    "    sum_square_gradients_T = np.zeros_like(T)\n",
    "\n",
    "    # GD procedure\n",
    "    for i in range(num_iter):\n",
    "        del_h, del_a, del_t = mg(H, A, T, E_np_masked, case)\n",
    "        sum_square_gradients_H+= eps+np.square(del_h)\n",
    "        sum_square_gradients_A+= eps+np.square(del_a)\n",
    "        sum_square_gradients_T+= eps+np.square(del_t)\n",
    "        \n",
    "        lr_h = np.divide(lr, np.sqrt(sum_square_gradients_H))\n",
    "        lr_a = np.divide(lr, np.sqrt(sum_square_gradients_A))\n",
    "        lr_t = np.divide(lr, np.sqrt(sum_square_gradients_T))\n",
    "        \n",
    "        H -= lr_h * del_h\n",
    "        A -= lr_a * del_a\n",
    "        T -= lr_t * del_t\n",
    "        # Projection to known values\n",
    "        if H_known is not None:\n",
    "            H = set_known(H, H_known)\n",
    "        if A_known is not None:\n",
    "            A = set_known(A, A_known)\n",
    "        if T_known is not None:\n",
    "            T = set_known(T, T_known)\n",
    "        # Projection to non-negative space\n",
    "        H[H < 0] = 0\n",
    "        A[A < 0] = 0\n",
    "        T[T < 0] = 0\n",
    "        if i % 500 == 0:\n",
    "            if dis:\n",
    "                print(cost(H, A, T, E_np_masked, case))\n",
    "    return H, A, T"
   ]
  },
  {
   "cell_type": "code",
   "execution_count": 39,
   "metadata": {},
   "outputs": [
    {
     "name": "stdout",
     "output_type": "stream",
     "text": [
      "493.480876782\n",
      "67.0766118142\n",
      "67.0027281218\n",
      "66.9975590542\n"
     ]
    }
   ],
   "source": [
    "H_au_ada, A_au_ada, T_au_ada = learn_HAT_adagrad(case, au_tensor, a, a, num_iter=2000, lr=1, dis=True, cost_function=cost)"
   ]
  },
  {
   "cell_type": "code",
   "execution_count": 30,
   "metadata": {},
   "outputs": [
    {
     "name": "stdout",
     "output_type": "stream",
     "text": [
      "499.330182087\n",
      "112.077018067\n",
      "70.6621710465\n",
      "67.1495106266\n",
      "67.044926746\n",
      "67.0160376065\n",
      "67.0038023482\n",
      "67.0012030543\n"
     ]
    }
   ],
   "source": [
    "H_au, A_au, T_au = learn_HAT(case, au_tensor, a, a, num_iter=4000, lr=0.1, dis=True, cost_function=cost)"
   ]
  },
  {
   "cell_type": "code",
   "execution_count": 35,
   "metadata": {},
   "outputs": [
    {
     "data": {
      "text/plain": [
       "<matplotlib.axes._subplots.AxesSubplot at 0x11c819290>"
      ]
     },
     "execution_count": 35,
     "metadata": {},
     "output_type": "execute_result"
    },
    {
     "data": {
      "image/png": "[encoded data removed]",
      "text/plain": [
       "<matplotlib.figure.Figure at 0x11c390110>"
      ]
     },
     "metadata": {},
     "output_type": "display_data"
    }
   ],
   "source": [
    "ax = pd.DataFrame(T_au_ada).plot()\n",
    "pd.DataFrame(T_au).plot(ax=ax)"
   ]
  },
  {
   "cell_type": "code",
   "execution_count": null,
   "metadata": {
    "collapsed": true
   },
   "outputs": [],
   "source": []
  }
 ],
 "metadata": {
  "kernelspec": {
   "display_name": "Python 2",
   "language": "python",
   "name": "python2"
  },
  "language_info": {
   "codemirror_mode": {
    "name": "ipython",
    "version": 2
   },
   "file_extension": ".py",
   "mimetype": "text/x-python",
   "name": "python",
   "nbconvert_exporter": "python",
   "pygments_lexer": "ipython2",
   "version": "2.7.13"
  }
 },
 "nbformat": 4,
 "nbformat_minor": 2
}
