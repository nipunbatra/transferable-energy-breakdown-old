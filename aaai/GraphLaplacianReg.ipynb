{
 "cells": [
  {
   "cell_type": "code",
   "execution_count": 2,
   "metadata": {
    "collapsed": true
   },
   "outputs": [],
   "source": [
    "from sklearn.cluster import DBSCAN\n",
    "import numpy as np"
   ]
  },
  {
   "cell_type": "code",
   "execution_count": 3,
   "metadata": {
    "collapsed": true
   },
   "outputs": [],
   "source": [
    "import matplotlib.pyplot as plt\n",
    "%matplotlib inline\n",
    "from sklearn.model_selection import KFold\n",
    "# import numpy as np\n",
    "import pandas as pd"
   ]
  },
  {
   "cell_type": "code",
   "execution_count": 4,
   "metadata": {
    "collapsed": true
   },
   "outputs": [],
   "source": [
    "from create_matrix import *\n",
    "\n",
    "from tensor_custom_core import *\n",
    "from create_matrix import *\n",
    "from tensor_custom_core import *\n",
    "from degree_days import dds\n",
    "appliance_index = {appliance: APPLIANCES_ORDER.index(appliance) for appliance in APPLIANCES_ORDER}\n",
    "\n",
    "APPLIANCES = ['fridge', 'hvac', 'wm', 'mw', 'oven', 'dw']\n",
    "region = \"SanDiego\"\n",
    "year = 2014\n",
    "\n",
    "import os\n",
    "from degree_days import dds\n",
    "import autograd.numpy as np\n",
    "\n",
    "\n",
    "\n",
    "\n",
    "def un_normalize(x, maximum, minimum):\n",
    "    return (maximum - minimum) * x + minimum"
   ]
  },
  {
   "cell_type": "code",
   "execution_count": 5,
   "metadata": {
    "collapsed": true
   },
   "outputs": [],
   "source": [
    "def get_tensor(df, dfc):\n",
    "    start, stop = 1, 13\n",
    "    energy_cols = np.array(\n",
    "        [['%s_%d' % (appliance, month) for month in range(start, stop)] for appliance in APPLIANCES_ORDER]).flatten()\n",
    "\n",
    "    static_cols = ['area', 'total_occupants', 'num_rooms']\n",
    "    static_df = df[static_cols]\n",
    "    static_df = static_df.div(static_df.max())\n",
    "    weather_values = np.array(dds[2014][region][start - 1:stop - 1]).reshape(-1, 1)\n",
    "\n",
    "    dfc = df.copy()\n",
    "\n",
    "    df = dfc[energy_cols]\n",
    "    col_max = df.max().max()\n",
    "    col_min = df.min().min()\n",
    "    # df = (1.0 * (df - col_min)) / (col_max - col_min)\n",
    "    tensor = df.values.reshape((len(df), 7, stop - start))\n",
    "    M, N, O = tensor.shape\n",
    "    return tensor"
   ]
  },
  {
   "cell_type": "code",
   "execution_count": 6,
   "metadata": {
    "collapsed": true
   },
   "outputs": [],
   "source": [
    "au_df, au_dfc = create_matrix_single_region(\"Austin\", year)\n",
    "au_tensor = get_tensor(au_df, au_dfc)\n",
    "static_au = au_df[['area','total_occupants','num_rooms']].copy()\n",
    "static_au['area'] = static_au['area'].div(4000)\n",
    "static_au['total_occupants'] = static_au['total_occupants'].div(8)\n",
    "static_au['num_rooms'] = static_au['num_rooms'].div(8)\n",
    "static_au = static_au.values"
   ]
  },
  {
   "cell_type": "code",
   "execution_count": 7,
   "metadata": {
    "collapsed": true
   },
   "outputs": [],
   "source": [
    "sd_df, sd_dfc = create_matrix_single_region(\"SanDiego\", year)\n",
    "sd_tensor = get_tensor(sd_df, sd_dfc)\n",
    "static_sd = sd_df[['area','total_occupants','num_rooms']].copy()\n",
    "static_sd['area'] = static_sd['area'].div(4000)\n",
    "static_sd['total_occupants'] = static_sd['total_occupants'].div(8)\n",
    "static_sd['num_rooms'] = static_sd['num_rooms'].div(8)\n",
    "static_sd = static_sd.values"
   ]
  },
  {
   "cell_type": "code",
   "execution_count": 16,
   "metadata": {
    "collapsed": true
   },
   "outputs": [],
   "source": [
    "sd_agg = sd_df.loc[:, 'aggregate_1':'aggregate_12']\n",
    "au_agg = au_df.loc[:, 'aggregate_1':'aggregate_12']"
   ]
  },
  {
   "cell_type": "code",
   "execution_count": 19,
   "metadata": {
    "collapsed": true
   },
   "outputs": [],
   "source": [
    "sd_agg = np.nan_to_num(sd_agg)\n",
    "au_agg = np.nan_to_num(au_agg)"
   ]
  },
  {
   "cell_type": "code",
   "execution_count": 35,
   "metadata": {
    "collapsed": true
   },
   "outputs": [],
   "source": [
    "def distance(x, y):\n",
    "    return np.linalg.norm(x - y)"
   ]
  },
  {
   "cell_type": "code",
   "execution_count": 96,
   "metadata": {
    "collapsed": true
   },
   "outputs": [],
   "source": [
    "db = DBSCAN(eps=500, min_samples=1, metric=distance).fit(sd_agg)\n",
    "sd_labels = db.labels_\n",
    "db = DBSCAN(eps=500, min_samples=1, metric=distance).fit(au_agg)\n",
    "au_labels = db.labels_\n"
   ]
  },
  {
   "cell_type": "code",
   "execution_count": 97,
   "metadata": {},
   "outputs": [
    {
     "name": "stdout",
     "output_type": "stream",
     "text": [
      "136 10\n"
     ]
    }
   ],
   "source": [
    "print len(set(au_labels)), len(set(sd_labels))"
   ]
  },
  {
   "cell_type": "code",
   "execution_count": 98,
   "metadata": {
    "collapsed": true
   },
   "outputs": [],
   "source": [
    "len(au_agg)\n",
    "n_sample_sd = len(sd_agg)\n",
    "n_sample_au = len(au_agg)"
   ]
  },
  {
   "cell_type": "code",
   "execution_count": 99,
   "metadata": {
    "collapsed": true
   },
   "outputs": [],
   "source": [
    "W_sd = np.zeros((n_sample_sd, n_sample_sd))\n",
    "W_au = np.zeros((n_sample_au, n_sample_au))"
   ]
  },
  {
   "cell_type": "code",
   "execution_count": 101,
   "metadata": {
    "collapsed": true
   },
   "outputs": [],
   "source": [
    "for i in range(n_sample_sd):\n",
    "    label = sd_labels[i]\n",
    "    neighbours = [j for j,x in enumerate(sd_labels) if x == label]\n",
    "    for k in neighbours:\n",
    "        W_sd[i][k] = 1\n",
    "        \n",
    "for i in range(n_sample_au):\n",
    "    label = au_labels[i]\n",
    "    neighbours = [j for j,x in enumerate(au_labels) if x == label]\n",
    "    for k in neighbours:\n",
    "        W_au[i][k] = 1\n",
    "        "
   ]
  },
  {
   "cell_type": "code",
   "execution_count": 109,
   "metadata": {
    "collapsed": true
   },
   "outputs": [],
   "source": [
    "D_sd = np.zeros((n_sample_sd, n_sample_sd))\n",
    "D_au = np.zeros((n_sample_au, n_sample_au))\n",
    "for i in range(n_sample_sd):\n",
    "    D_sd[i][i] = sum(W_sd[i])\n",
    "for i in range(n_sample_au):\n",
    "    D_au[i][i] = sum(W_au[i])"
   ]
  },
  {
   "cell_type": "code",
   "execution_count": 110,
   "metadata": {
    "collapsed": true
   },
   "outputs": [],
   "source": [
    "L_sd = D_sd - W_sd\n",
    "L_au = D_au - W_au"
   ]
  },
  {
   "cell_type": "code",
   "execution_count": null,
   "metadata": {
    "collapsed": true
   },
   "outputs": [],
   "source": [
    "def cost_graph_laplacian(H, A, T, F, L, E_np_masked, K, case):\n",
    "    HAT = multiply_case(H, A, T, case)\n",
    "    mask = ~np.isnan(E_np_masked)\n",
    "    error_1 = (HAT - E_np_masked)[mask].flatten()\n",
    "    \n",
    "    HF = np.einsum('na, ab->nb', H, F)\n",
    "    mask_static = ~np.isnan(k)\n",
    "    error_2 = (HF - k)[mask_static].flatten()\n",
    "    \n",
    "    FL = np.einsum('ab, ')\n",
    "    \n",
    "    return np.sqrt((error_1**2).mean()) + np.sqrt((error_2**2).mean()) + error_3"
   ]
  }
 ],
 "metadata": {
  "kernelspec": {
   "display_name": "Python 2",
   "language": "python",
   "name": "python2"
  },
  "language_info": {
   "codemirror_mode": {
    "name": "ipython",
    "version": 2
   },
   "file_extension": ".py",
   "mimetype": "text/x-python",
   "name": "python",
   "nbconvert_exporter": "python",
   "pygments_lexer": "ipython2",
   "version": "2.7.10"
  }
 },
 "nbformat": 4,
 "nbformat_minor": 2
}
