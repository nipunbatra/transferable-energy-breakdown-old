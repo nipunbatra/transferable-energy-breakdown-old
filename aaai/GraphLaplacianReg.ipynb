{
 "cells": [
  {
   "cell_type": "code",
   "execution_count": 227,
   "metadata": {
    "collapsed": true
   },
   "outputs": [],
   "source": [
    "from sklearn.cluster import DBSCAN\n",
    "import numpy as np\n"
   ]
  },
  {
   "cell_type": "code",
   "execution_count": 113,
   "metadata": {
    "collapsed": true
   },
   "outputs": [],
   "source": [
    "import matplotlib.pyplot as plt\n",
    "%matplotlib inline\n",
    "from sklearn.model_selection import KFold\n",
    "# import numpy as np\n",
    "import pandas as pd"
   ]
  },
  {
   "cell_type": "code",
   "execution_count": 237,
   "metadata": {
    "collapsed": true
   },
   "outputs": [],
   "source": [
    "from create_matrix import *\n",
    "from tensor_custom_core import *\n",
    "from create_matrix import *\n",
    "from tensor_custom_core import *\n",
    "from degree_days import dds\n",
    "appliance_index = {appliance: APPLIANCES_ORDER.index(appliance) for appliance in APPLIANCES_ORDER}\n",
    "\n",
    "APPLIANCES = ['fridge', 'hvac', 'wm', 'mw', 'oven', 'dw']\n",
    "region = \"SanDiego\"\n",
    "year = 2014\n",
    "\n",
    "import os\n",
    "from degree_days import dds\n",
    "import autograd.numpy as np\n",
    "\n",
    "\n",
    "\n",
    "\n",
    "def un_normalize(x, maximum, minimum):\n",
    "    return (maximum - minimum) * x + minimum"
   ]
  },
  {
   "cell_type": "code",
   "execution_count": 150,
   "metadata": {
    "collapsed": true
   },
   "outputs": [],
   "source": [
    "def get_tensor(df):\n",
    "    start, stop = 1, 13\n",
    "    energy_cols = np.array(\n",
    "        [['%s_%d' % (appliance, month) for month in range(start, stop)] for appliance in APPLIANCES_ORDER]).flatten()\n",
    "\n",
    "    dfc = df.copy()\n",
    "\n",
    "    df = dfc[energy_cols]\n",
    "\n",
    "    tensor = df.values.reshape((len(df), 7, stop - start))\n",
    "    return tensor\n",
    "\n",
    "\n",
    "def create_region_df_dfc_static(region, year):\n",
    "    df, dfc = create_matrix_single_region(region, year)\n",
    "    tensor = get_tensor(df)\n",
    "    static_region = df[['area', 'total_occupants', 'num_rooms']].copy()\n",
    "    static_region['area'] = static_region['area'].div(4000)\n",
    "    static_region['total_occupants'] = static_region['total_occupants'].div(8)\n",
    "    static_region['num_rooms'] = static_region['num_rooms'].div(8)\n",
    "    static_region =static_region.values\n",
    "    return df, dfc, tensor, static_region\n"
   ]
  },
  {
   "cell_type": "code",
   "execution_count": 151,
   "metadata": {
    "collapsed": true
   },
   "outputs": [],
   "source": [
    "au_df, au_dfc, au_tensor, au_static = create_region_df_dfc_static('Austin', year)\n",
    "sd_df, sd_dfc, sd_tensor, sd_static = create_region_df_dfc_static('SanDiego', year)"
   ]
  },
  {
   "cell_type": "code",
   "execution_count": 16,
   "metadata": {
    "collapsed": true
   },
   "outputs": [],
   "source": [
    "sd_agg = sd_df.loc[:, 'aggregate_1':'aggregate_12']\n",
    "au_agg = au_df.loc[:, 'aggregate_1':'aggregate_12']"
   ]
  },
  {
   "cell_type": "code",
   "execution_count": 19,
   "metadata": {
    "collapsed": true
   },
   "outputs": [],
   "source": [
    "sd_agg = np.nan_to_num(sd_agg)\n",
    "au_agg = np.nan_to_num(au_agg)"
   ]
  },
  {
   "cell_type": "code",
   "execution_count": 35,
   "metadata": {
    "collapsed": true
   },
   "outputs": [],
   "source": [
    "def distance(x, y):\n",
    "    return np.linalg.norm(x - y)"
   ]
  },
  {
   "cell_type": "code",
   "execution_count": 226,
   "metadata": {
    "collapsed": true
   },
   "outputs": [],
   "source": [
    "def get_L_DBSCAN(X):\n",
    "    db = DBSCAN(eps=500, min_samples=1, metric=distance).fit(X)\n",
    "    labels = db.labels_\n",
    "    n_sample, n_feature = X.shape\n",
    "    W = np.zeros((n_sample, n_sample))\n",
    "    for i in range(n_sample):\n",
    "        label = labels[i]\n",
    "        neighbours = [j for j,x in enumerate(labels) if x == label]\n",
    "        for k in neighbours:\n",
    "            W[i][k] = 1\n",
    "    K = np.dot(W, np.ones((n_sample, n_sample)))        \n",
    "    D = np.diag(np.diag(K))\n",
    "    return D-W"
   ]
  },
  {
   "cell_type": "code",
   "execution_count": 218,
   "metadata": {
    "collapsed": true
   },
   "outputs": [],
   "source": [
    "from sklearn.neighbors import NearestNeighbors\n",
    "def get_L_NN(X):\n",
    "    nbrs = NearestNeighbors(n_neighbors=5, algorithm='ball_tree').fit(X)\n",
    "    distances, indices = nbrs.kneighbors(X)\n",
    "    n_sample, n_feature = X.shape\n",
    "    W = np.zeros((n_sample, n_sample))\n",
    "    for i in range(n_sample):\n",
    "        for j in indices[i]:\n",
    "            W[i][j] = 1\n",
    "            W[j][i] = 1\n",
    "    K = np.dot(W, np.ones((n_sample, n_sample)))\n",
    "    D = np.diag(np.diag(K))\n",
    "    return D - W"
   ]
  },
  {
   "cell_type": "code",
   "execution_count": 133,
   "metadata": {
    "collapsed": true
   },
   "outputs": [],
   "source": [
    "def cost_graph_laplacian(H, A, T, F, L, E_np_masked, K, lam1, lam2, case):\n",
    "    HAT = multiply_case(H, A, T, case)\n",
    "    mask = ~np.isnan(E_np_masked)\n",
    "    error_1 = (HAT - E_np_masked)[mask].flatten()\n",
    "    \n",
    "    HF = np.einsum('na, ab->nb', H, F)\n",
    "    mask_static = ~np.isnan(k)\n",
    "    error_2 = (HF - K)[mask_static].flatten()\n",
    "    \n",
    "    HTL = np.dot(H.T, L)\n",
    "    HTLH = np.dot(HTL, H)\n",
    "    error_3 = np.trace(HTLH)\n",
    "    \n",
    "    return np.sqrt((error_1**2).mean()) + lam1 * np.sqrt((error_2**2).mean()) + lam2 * error_3"
   ]
  },
  {
   "cell_type": "code",
   "execution_count": 136,
   "metadata": {
    "collapsed": true
   },
   "outputs": [],
   "source": [
    "mg = multigrad(cost_graph_laplacian, argnums=[0, 1, 2, 3])\n",
    "\n",
    "H = np.random.rand(n_sample_sd, 3)\n",
    "A = np.random.rand(7, 3, 3)\n",
    "T = np.random.rand(12, 3)\n",
    "F = np.random.rand(3, 12)\n",
    "del_h, del_a, del_t, del_f = mg(H, A, T, F, L_sd, sd_tensor, sd_agg, 1, 1, 2)"
   ]
  },
  {
   "cell_type": "code",
   "execution_count": 138,
   "metadata": {
    "collapsed": true
   },
   "outputs": [],
   "source": [
    "def learn_HAT_adagrad_graph(case, E_np_masked, L, K, a, b, num_iter=2000, lr=0.1, dis=False, lam1 = 1, lam2 = 1, H_known=None,\n",
    "                      A_known=None, T_known=None, random_seed=0, eps=1e-8, penalty_coeff=0.0):\n",
    "\n",
    "    cost = cost_graph_laplacian\n",
    "    mg = multigrad(cost, argnums=[0, 1, 2, 3])\n",
    "\n",
    "    params = {}\n",
    "    params['M'], params['N'], params['O'] = E_np_masked.shape\n",
    "    params['a'] = a\n",
    "    params['b'] = b\n",
    "    H_dim_chars = list(cases[case]['HA'].split(\",\")[0].strip())\n",
    "    H_dim = tuple(params[x] for x in H_dim_chars)\n",
    "    A_dim_chars = list(cases[case]['HA'].split(\",\")[1].split(\"-\")[0].strip())\n",
    "    A_dim = tuple(params[x] for x in A_dim_chars)\n",
    "    T_dim_chars = list(cases[case]['HAT'].split(\",\")[1].split(\"-\")[0].strip())\n",
    "    T_dim = tuple(params[x] for x in T_dim_chars)\n",
    "    \n",
    "    H = np.random.rand(*H_dim)\n",
    "    A = np.random.rand(*A_dim)\n",
    "    T = np.random.rand(*T_dim)\n",
    "    F = np.random.rand(a, 12)\n",
    "\n",
    "    sum_square_gradients_H = np.zeros_like(H)\n",
    "    sum_square_gradients_A = np.zeros_like(A)\n",
    "    sum_square_gradients_T = np.zeros_like(T)\n",
    "    sum_square_gradients_F = np.zeros_like(F)\n",
    "\n",
    "    Hs = [H.copy()]\n",
    "    As = [A.copy()]\n",
    "    Ts = [T.copy()]\n",
    "    Fs = [F.copy()]\n",
    "    \n",
    "    costs = [cost(H, A, T, F, L, E_np_masked, K, lam1, lam2, case)]\n",
    "    \n",
    "#     if 'penalty' not in cost_function:\n",
    "#         costs = [cost(H, A, T, H_1, F, E_np_masked, static, case)]\n",
    "#     else:\n",
    "#         costs = [cost(H, A, T, E_np_masked, 2, penalty_coeff)]\n",
    "    HATs = [multiply_case(H, A, T, case)]\n",
    "\n",
    "    # GD procedure\n",
    "    for i in range(num_iter):\n",
    "        del_h, del_a, del_t, del_f = mg(H, A, T, F, L, E_np_masked, K, lam1, lam2, case)\n",
    "        sum_square_gradients_H += eps + np.square(del_h)\n",
    "        sum_square_gradients_A += eps + np.square(del_a)\n",
    "        sum_square_gradients_T += eps + np.square(del_t)\n",
    "        sum_square_gradients_F += eps + np.square(del_f)\n",
    "\n",
    "        lr_h = np.divide(lr, np.sqrt(sum_square_gradients_H))\n",
    "        lr_a = np.divide(lr, np.sqrt(sum_square_gradients_A))\n",
    "        lr_t = np.divide(lr, np.sqrt(sum_square_gradients_T))\n",
    "        lr_f = np.divide(lr, np.sqrt(sum_square_gradients_F))\n",
    "\n",
    "        H -= lr_h * del_h\n",
    "        A -= lr_a * del_a\n",
    "        T -= lr_t * del_t\n",
    "        F -= lr_f * del_f\n",
    "        # Projection to known values\n",
    "        if H_known is not None:\n",
    "            H = set_known(H, H_known)\n",
    "        if A_known is not None:\n",
    "            A = set_known(A, A_known)\n",
    "        if T_known is not None:\n",
    "            T = set_known(T, T_known)\n",
    "        # Projection to non-negative space\n",
    "        H[H < 0] = 1e-8\n",
    "        A[A < 0] = 1e-8\n",
    "        T[T < 0] = 1e-8\n",
    "        F[F < 0] = 1e-8\n",
    "\n",
    "        As.append(A.copy())\n",
    "        Ts.append(T.copy())\n",
    "        Hs.append(H.copy())\n",
    "        Fs.append(F.copy())\n",
    "        \n",
    "        costs.append(cost(H, A, T, F, L, E_np_masked, K, lam1, lam2, case))\n",
    "        \n",
    "#         if 'penalty' not in cost_function:\n",
    "#             costs.append(cost(H, A, T, H_1, F, E_np_masked, static, case))\n",
    "#         else:\n",
    "#             costs.append(cost(H, A, T, F, E_np_masked, static, case))\n",
    "        HATs.append(multiply_case(H, A, T, case))\n",
    "        if i % 500 == 0:\n",
    "            if dis:\n",
    "                print(cost(H, A, T, F, L, E_np_masked, K, lam1, lam2, case))\n",
    "    return H, A, T, F, Hs, As, Ts, Fs, HATs, costs"
   ]
  },
  {
   "cell_type": "code",
   "execution_count": 198,
   "metadata": {
    "collapsed": true
   },
   "outputs": [],
   "source": [
    "def cost_graph_laplacian_2(H, A, T, H_f, F, L, E_np_masked, K, lam1, lam2, case):\n",
    "    HAT = multiply_case(H, A, T, case)\n",
    "    mask = ~np.isnan(E_np_masked)\n",
    "    error_1 = (HAT - E_np_masked)[mask].flatten()\n",
    "    \n",
    "    HF = np.einsum('na, ab->nb', H_f, F)\n",
    "    mask_static = ~np.isnan(k)\n",
    "    error_2 = (HF - K)[mask_static].flatten()\n",
    "    \n",
    "    HTL = np.dot(H_f.T, L)\n",
    "    HTLH = np.dot(HTL, H_f)\n",
    "    error_3 = np.trace(HTLH)\n",
    "    \n",
    "    return np.sqrt((error_1**2).mean()) + lam1 * np.sqrt((error_2**2).mean()) + lam2 * error_3"
   ]
  },
  {
   "cell_type": "code",
   "execution_count": 202,
   "metadata": {
    "collapsed": true
   },
   "outputs": [],
   "source": [
    "def learn_HAT_adagrad_graph_2(case, E_np_masked, L, K, a, b, c, num_iter=2000, lr=0.1, dis=False, lam1 = 1, lam2 = 1, H_known=None,\n",
    "                      A_known=None, T_known=None, random_seed=0, eps=1e-8, penalty_coeff=0.0):\n",
    "\n",
    "    cost = cost_graph_laplacian_2\n",
    "    mg = multigrad(cost, argnums=[0, 1, 2, 3, 4])\n",
    "\n",
    "    params = {}\n",
    "    params['M'], params['N'], params['O'] = E_np_masked.shape\n",
    "    params['a'] = a\n",
    "    params['b'] = b\n",
    "    H_dim_chars = list(cases[case]['HA'].split(\",\")[0].strip())\n",
    "    H_dim = tuple(params[x] for x in H_dim_chars)\n",
    "    A_dim_chars = list(cases[case]['HA'].split(\",\")[1].split(\"-\")[0].strip())\n",
    "    A_dim = tuple(params[x] for x in A_dim_chars)\n",
    "    T_dim_chars = list(cases[case]['HAT'].split(\",\")[1].split(\"-\")[0].strip())\n",
    "    T_dim = tuple(params[x] for x in T_dim_chars)\n",
    "    \n",
    "    H = np.random.rand(*H_dim)\n",
    "    A = np.random.rand(*A_dim)\n",
    "    T = np.random.rand(*T_dim)\n",
    "    H_f = np.random.rand(params['M'], c)\n",
    "    F = np.random.rand(c, 12)\n",
    "\n",
    "    sum_square_gradients_H = np.zeros_like(H)\n",
    "    sum_square_gradients_A = np.zeros_like(A)\n",
    "    sum_square_gradients_T = np.zeros_like(T)\n",
    "    sum_square_gradients_H_f = np.zeros_like(H_f)\n",
    "    sum_square_gradients_F = np.zeros_like(F)\n",
    "\n",
    "    Hs = [H.copy()]\n",
    "    As = [A.copy()]\n",
    "    Ts = [T.copy()]\n",
    "    H_fs = [H_f.copy()]\n",
    "    Fs = [F.copy()]\n",
    "    \n",
    "    costs = [cost(H, A, T, H_f, F, L, E_np_masked, K, lam1, lam2, case)]\n",
    "    \n",
    "#     if 'penalty' not in cost_function:\n",
    "#         costs = [cost(H, A, T, H_1, F, E_np_masked, static, case)]\n",
    "#     else:\n",
    "#         costs = [cost(H, A, T, E_np_masked, 2, penalty_coeff)]\n",
    "    HATs = [multiply_case(H, A, T, case)]\n",
    "\n",
    "    # GD procedure\n",
    "    for i in range(num_iter):\n",
    "        del_h, del_a, del_t, del_h_f, del_f = mg(H, A, T, H_f, F, L, E_np_masked, K, lam1, lam2, case)\n",
    "        sum_square_gradients_H += eps + np.square(del_h)\n",
    "        sum_square_gradients_A += eps + np.square(del_a)\n",
    "        sum_square_gradients_T += eps + np.square(del_t)\n",
    "        sum_square_gradients_H_f += eps + np.square(del_h_f)\n",
    "        sum_square_gradients_F += eps + np.square(del_f)\n",
    "\n",
    "        lr_h = np.divide(lr, np.sqrt(sum_square_gradients_H))\n",
    "        lr_a = np.divide(lr, np.sqrt(sum_square_gradients_A))\n",
    "        lr_t = np.divide(lr, np.sqrt(sum_square_gradients_T))\n",
    "        lr_h_f = np.divide(lr, np.sqrt(sum_square_gradients_H_f))\n",
    "        lr_f = np.divide(lr, np.sqrt(sum_square_gradients_F))\n",
    "\n",
    "        H -= lr_h * del_h\n",
    "        A -= lr_a * del_a\n",
    "        T -= lr_t * del_t\n",
    "        H_f -= lr_h_f * del_h_f\n",
    "        F -= lr_f * del_f\n",
    "        # Projection to known values\n",
    "        if H_known is not None:\n",
    "            H = set_known(H, H_known)\n",
    "        if A_known is not None:\n",
    "            A = set_known(A, A_known)\n",
    "        if T_known is not None:\n",
    "            T = set_known(T, T_known)\n",
    "        H = set_known(H, H_f)\n",
    "        # Projection to non-negative space\n",
    "        H[H < 0] = 1e-8\n",
    "        A[A < 0] = 1e-8\n",
    "        T[T < 0] = 1e-8\n",
    "        H_f[H_f < 0] = 1e-8\n",
    "        F[F < 0] = 1e-8\n",
    "\n",
    "        As.append(A.copy())\n",
    "        Ts.append(T.copy())\n",
    "        Hs.append(H.copy())\n",
    "        H_fs.append(H_f.copy())\n",
    "        Fs.append(F.copy())\n",
    "        \n",
    "        costs.append(cost(H, A, T, H_f, F, L, E_np_masked, K, lam1, lam2, case))\n",
    "        \n",
    "#         if 'penalty' not in cost_function:\n",
    "#             costs.append(cost(H, A, T, H_1, F, E_np_masked, static, case))\n",
    "#         else:\n",
    "#             costs.append(cost(H, A, T, F, E_np_masked, static, case))\n",
    "        HATs.append(multiply_case(H, A, T, case))\n",
    "        if i % 500 == 0:\n",
    "            if dis:\n",
    "                print(cost(H, A, T, H_f, F, L, E_np_masked, K, lam1, lam2, case))\n",
    "    return H, A, T, H_f, F, Hs, As, Ts, H_fs, Fs, HATs, costs"
   ]
  },
  {
   "cell_type": "code",
   "execution_count": 206,
   "metadata": {
    "collapsed": true
   },
   "outputs": [],
   "source": [
    "def cost_graph_laplacian_3(H, A, T, L, E_np_masked, lam, case):\n",
    "    HAT = multiply_case(H, A, T, case)\n",
    "    mask = ~np.isnan(E_np_masked)\n",
    "    error_1 = (HAT - E_np_masked)[mask].flatten()\n",
    "    \n",
    "    HTL = np.dot(H.T, L)\n",
    "    HTLH = np.dot(HTL, H)\n",
    "    error_2 = np.trace(HTLH)\n",
    "    \n",
    "    return np.sqrt((error_1**2).mean()) + lam * error_2"
   ]
  },
  {
   "cell_type": "code",
   "execution_count": 250,
   "metadata": {
    "collapsed": true
   },
   "outputs": [],
   "source": [
    "def learn_HAT_adagrad_graph_3(case, E_np_masked, L, a, b, num_iter=2000, lr=0.1, dis=False, lam = 1, H_known=None,\n",
    "                      A_known=None, T_known=None, random_seed=0, eps=1e-8, penalty_coeff=0.0):\n",
    "\n",
    "    cost = cost_graph_laplacian_3\n",
    "    mg = multigrad(cost, argnums=[0, 1, 2])\n",
    "\n",
    "    params = {}\n",
    "    params['M'], params['N'], params['O'] = E_np_masked.shape\n",
    "    params['a'] = a\n",
    "    params['b'] = b\n",
    "    H_dim_chars = list(cases[case]['HA'].split(\",\")[0].strip())\n",
    "    H_dim = tuple(params[x] for x in H_dim_chars)\n",
    "    A_dim_chars = list(cases[case]['HA'].split(\",\")[1].split(\"-\")[0].strip())\n",
    "    A_dim = tuple(params[x] for x in A_dim_chars)\n",
    "    T_dim_chars = list(cases[case]['HAT'].split(\",\")[1].split(\"-\")[0].strip())\n",
    "    T_dim = tuple(params[x] for x in T_dim_chars)\n",
    "    \n",
    "    H = np.random.rand(*H_dim)\n",
    "    A = np.random.rand(*A_dim)\n",
    "    T = np.random.rand(*T_dim)\n",
    "\n",
    "    sum_square_gradients_H = np.zeros_like(H)\n",
    "    sum_square_gradients_A = np.zeros_like(A)\n",
    "    sum_square_gradients_T = np.zeros_like(T)\n",
    "\n",
    "    Hs = [H.copy()]\n",
    "    As = [A.copy()]\n",
    "    Ts = [T.copy()]\n",
    "    \n",
    "    costs = [cost(H, A, T, L, E_np_masked, lam, case)]\n",
    "    \n",
    "#     if 'penalty' not in cost_function:\n",
    "#         costs = [cost(H, A, T, H_1, F, E_np_masked, static, case)]\n",
    "#     else:\n",
    "#         costs = [cost(H, A, T, E_np_masked, 2, penalty_coeff)]\n",
    "    HATs = [multiply_case(H, A, T, case)]\n",
    "\n",
    "    # GD procedure\n",
    "    for i in range(num_iter):\n",
    "        del_h, del_a, del_t = mg(H, A, T, L, E_np_masked, lam, case)\n",
    "        sum_square_gradients_H += eps + np.square(del_h)\n",
    "        sum_square_gradients_A += eps + np.square(del_a)\n",
    "        sum_square_gradients_T += eps + np.square(del_t)\n",
    "\n",
    "        lr_h = np.divide(lr, np.sqrt(sum_square_gradients_H))\n",
    "        lr_a = np.divide(lr, np.sqrt(sum_square_gradients_A))\n",
    "        lr_t = np.divide(lr, np.sqrt(sum_square_gradients_T))\n",
    "\n",
    "        H -= lr_h * del_h\n",
    "        A -= lr_a * del_a\n",
    "        T -= lr_t * del_t\n",
    "        # Projection to known values\n",
    "        if H_known is not None:\n",
    "            H = set_known(H, H_known)\n",
    "        if A_known is not None:\n",
    "            A = set_known(A, A_known)\n",
    "        if T_known is not None:\n",
    "            T = set_known(T, T_known)\n",
    "        # Projection to non-negative space\n",
    "        H[H < 0] = 1e-8\n",
    "        A[A < 0] = 1e-8\n",
    "        T[T < 0] = 1e-8\n",
    "\n",
    "        As.append(A.copy())\n",
    "        Ts.append(T.copy())\n",
    "        Hs.append(H.copy())\n",
    "        \n",
    "        costs.append(cost(H, A, T, L, E_np_masked, lam, case))\n",
    "        \n",
    "#         if 'penalty' not in cost_function:\n",
    "#             costs.append(cost(H, A, T, H_1, F, E_np_masked, static, case))\n",
    "#         else:\n",
    "#             costs.append(cost(H, A, T, F, E_np_masked, static, case))\n",
    "        HATs.append(multiply_case(H, A, T, case))\n",
    "        if i % 500 == 0:\n",
    "            if dis:\n",
    "                print(cost(H, A, T, L, E_np_masked, lam, case))\n",
    "    return H, A, T, Hs, As, Ts, HATs, costs"
   ]
  },
  {
   "cell_type": "code",
   "execution_count": 219,
   "metadata": {},
   "outputs": [
    {
     "name": "stdout",
     "output_type": "stream",
     "text": [
      "1733.34341802\n",
      "1002.7556091\n",
      "956.086922846\n",
      "942.479788446\n",
      "1166.87000311\n",
      "271.119788994\n",
      "180.348376079\n",
      "170.271761619\n"
     ]
    }
   ],
   "source": [
    "a = 5\n",
    "b = 3\n",
    "c = 3\n",
    "L_au = get_L_NN(au_agg)\n",
    "H_au_2, A_au_2, T_au_2, F_au, Hs, As, Ts, Fs, HATs, costs = learn_HAT_adagrad_graph_2(case, au_tensor, L_au, au_agg, a, b, c, num_iter=2000, lr=0.1, dis=True, random_seed=0, eps=1e-8, penalty_coeff=0.0)\n",
    "\n",
    "H_au_3, A_au_3, T_au_3, Hs, As, Ts, HATs, costs = learn_HAT_adagrad_graph_3(case, au_tensor, L_au, a, b, num_iter=2000, lr=0.1, dis=True, random_seed=0, eps=1e-8, penalty_coeff=0.0)\n",
    "\n"
   ]
  },
  {
   "cell_type": "code",
   "execution_count": 220,
   "metadata": {
    "collapsed": true
   },
   "outputs": [],
   "source": [
    "HAT_2 = multiply_case(H_au_2, A_au_2, T_au_2, case)\n",
    "HAT_3 = multiply_case(H_au_3, A_au_3, T_au_3, case)"
   ]
  },
  {
   "cell_type": "code",
   "execution_count": 221,
   "metadata": {
    "collapsed": true
   },
   "outputs": [],
   "source": [
    "pred_2 = {}\n",
    "\n",
    "for appliance_name, appliance_id in appliance_index.iteritems():\n",
    "    pred_2[appliance_name] = []\n",
    "    pred_2[appliance_name].append(pd.DataFrame(HAT_2[:,appliance_id,:], index=au_df.index))"
   ]
  },
  {
   "cell_type": "code",
   "execution_count": 222,
   "metadata": {
    "collapsed": true
   },
   "outputs": [],
   "source": [
    "pred_3 = {}\n",
    "\n",
    "for appliance_name, appliance_id in appliance_index.iteritems():\n",
    "    pred_3[appliance_name] = []\n",
    "    pred_3[appliance_name].append(pd.DataFrame(HAT_3[:,appliance_id,:], index=au_df.index))"
   ]
  },
  {
   "cell_type": "code",
   "execution_count": 223,
   "metadata": {},
   "outputs": [
    {
     "name": "stderr",
     "output_type": "stream",
     "text": [
      "/Users/xox/Library/Python/2.7/lib/python/site-packages/ipykernel_launcher.py:10: DeprecationWarning: \n",
      ".ix is deprecated. Please use\n",
      ".loc for label based indexing or\n",
      ".iloc for positional indexing\n",
      "\n",
      "See the documentation here:\n",
      "http://pandas.pydata.org/pandas-docs/stable/indexing.html#ix-indexer-is-deprecated\n",
      "  # Remove the CWD from sys.path while we load stuff.\n",
      "/Users/xox/Library/Python/2.7/lib/python/site-packages/ipykernel_launcher.py:11: DeprecationWarning: \n",
      ".ix is deprecated. Please use\n",
      ".loc for label based indexing or\n",
      ".iloc for positional indexing\n",
      "\n",
      "See the documentation here:\n",
      "http://pandas.pydata.org/pandas-docs/stable/indexing.html#ix-indexer-is-deprecated\n",
      "  # This is added back by InteractiveShellApp.init_path()\n"
     ]
    }
   ],
   "source": [
    "from sklearn.model_selection import train_test_split, KFold\n",
    "from common import compute_rmse\n",
    "from common import compute_rmse_fraction\n",
    "out_2 = {}\n",
    "out_3 = {}\n",
    "\n",
    "for appliance in APPLIANCES_ORDER[1:]:\n",
    "    out_2[appliance] = {}\n",
    "    out_3[appliance] = {}\n",
    "    s_2 = pd.concat(pred_2[appliance]).ix[au_df.index]\n",
    "    s_3 = pd.concat(pred_3[appliance]).ix[au_df.index]\n",
    "    if appliance==\"hvac\":\n",
    "        out_2[appliance] = compute_rmse_fraction(appliance,s_2[range(4, 10)],'Austin')[2]\n",
    "        out_3[appliance] = compute_rmse_fraction(appliance,s_3[range(4, 10)],'Austin')[2]\n",
    "    else:   \n",
    "        out_2[appliance] = compute_rmse_fraction(appliance, s_2,'Austin')[2]\n",
    "        out_3[appliance] = compute_rmse_fraction(appliance, s_3,'Austin')[2]"
   ]
  },
  {
   "cell_type": "code",
   "execution_count": 225,
   "metadata": {},
   "outputs": [
    {
     "data": {
      "text/plain": [
       "{'dw': 1.3107564439819674,\n",
       " 'fridge': 4.3697154486826975,\n",
       " 'hvac': 18.631982426244011,\n",
       " 'mw': 1.5619083169414467,\n",
       " 'oven': 1.4720133009223535,\n",
       " 'wm': 0.60252214620656741}"
      ]
     },
     "execution_count": 225,
     "metadata": {},
     "output_type": "execute_result"
    }
   ],
   "source": [
    "out_3"
   ]
  },
  {
   "cell_type": "code",
   "execution_count": 217,
   "metadata": {},
   "outputs": [
    {
     "data": {
      "text/plain": [
       "{'dw': 1.4025844525773852,\n",
       " 'fridge': 4.2662321721176459,\n",
       " 'hvac': 24.223365053157096,\n",
       " 'mw': 1.4841294768556004,\n",
       " 'oven': 1.5871422614779043,\n",
       " 'wm': 0.58995752075905894}"
      ]
     },
     "execution_count": 217,
     "metadata": {},
     "output_type": "execute_result"
    }
   ],
   "source": [
    "out_3"
   ]
  },
  {
   "cell_type": "code",
   "execution_count": 249,
   "metadata": {},
   "outputs": [
    {
     "name": "stdout",
     "output_type": "stream",
     "text": [
      "29103.2501488\n",
      "433.721481286\n",
      "373.179224669\n",
      "333.483950339\n",
      "311.054709825\n",
      "297.473001416\n",
      "288.426347706\n"
     ]
    },
    {
     "ename": "KeyboardInterrupt",
     "evalue": "",
     "output_type": "error",
     "traceback": [
      "\u001b[0;31m---------------------------------------------------------------------------\u001b[0m",
      "\u001b[0;31mKeyboardInterrupt\u001b[0m                         Traceback (most recent call last)",
      "\u001b[0;32m<ipython-input-249-36c830a5801c>\u001b[0m in \u001b[0;36m<module>\u001b[0;34m()\u001b[0m\n\u001b[1;32m      9\u001b[0m \u001b[0mL_au\u001b[0m \u001b[0;34m=\u001b[0m \u001b[0mget_L\u001b[0m\u001b[0;34m(\u001b[0m\u001b[0mau_agg\u001b[0m\u001b[0;34m)\u001b[0m\u001b[0;34m\u001b[0m\u001b[0m\n\u001b[1;32m     10\u001b[0m \u001b[0mL_sd\u001b[0m \u001b[0;34m=\u001b[0m \u001b[0mget_L\u001b[0m\u001b[0;34m(\u001b[0m\u001b[0msd_agg\u001b[0m\u001b[0;34m)\u001b[0m\u001b[0;34m\u001b[0m\u001b[0m\n\u001b[0;32m---> 11\u001b[0;31m \u001b[0mH_au\u001b[0m\u001b[0;34m,\u001b[0m \u001b[0mA_au\u001b[0m\u001b[0;34m,\u001b[0m \u001b[0mT_au\u001b[0m\u001b[0;34m,\u001b[0m \u001b[0mHs\u001b[0m\u001b[0;34m,\u001b[0m \u001b[0mAs\u001b[0m\u001b[0;34m,\u001b[0m \u001b[0mTs\u001b[0m\u001b[0;34m,\u001b[0m \u001b[0mHATs\u001b[0m\u001b[0;34m,\u001b[0m \u001b[0mcosts\u001b[0m \u001b[0;34m=\u001b[0m \u001b[0mlearn_HAT_adagrad_graph_3\u001b[0m\u001b[0;34m(\u001b[0m\u001b[0mcase\u001b[0m\u001b[0;34m,\u001b[0m \u001b[0mau_tensor\u001b[0m\u001b[0;34m,\u001b[0m \u001b[0mL_au\u001b[0m\u001b[0;34m,\u001b[0m \u001b[0ma\u001b[0m\u001b[0;34m,\u001b[0m \u001b[0mb\u001b[0m\u001b[0;34m,\u001b[0m \u001b[0mnum_iter\u001b[0m\u001b[0;34m=\u001b[0m\u001b[0;36m2000\u001b[0m\u001b[0;34m,\u001b[0m \u001b[0mlr\u001b[0m\u001b[0;34m=\u001b[0m\u001b[0;36m0.1\u001b[0m\u001b[0;34m,\u001b[0m \u001b[0mdis\u001b[0m\u001b[0;34m=\u001b[0m\u001b[0mTrue\u001b[0m\u001b[0;34m,\u001b[0m \u001b[0mT_known\u001b[0m \u001b[0;34m=\u001b[0m \u001b[0mnp\u001b[0m\u001b[0;34m.\u001b[0m\u001b[0mones\u001b[0m\u001b[0;34m(\u001b[0m\u001b[0;36m12\u001b[0m\u001b[0;34m)\u001b[0m\u001b[0;34m.\u001b[0m\u001b[0mreshape\u001b[0m\u001b[0;34m(\u001b[0m\u001b[0;34m-\u001b[0m\u001b[0;36m1\u001b[0m\u001b[0;34m,\u001b[0m \u001b[0;36m1\u001b[0m\u001b[0;34m)\u001b[0m\u001b[0;34m)\u001b[0m\u001b[0;34m\u001b[0m\u001b[0m\n\u001b[0m\u001b[1;32m     12\u001b[0m \u001b[0;34m\u001b[0m\u001b[0m\n\u001b[1;32m     13\u001b[0m \u001b[0mpred_normal\u001b[0m \u001b[0;34m=\u001b[0m \u001b[0;34m{\u001b[0m\u001b[0;34m}\u001b[0m\u001b[0;34m\u001b[0m\u001b[0m\n",
      "\u001b[0;32m<ipython-input-242-9bb96181441f>\u001b[0m in \u001b[0;36mlearn_HAT_adagrad_graph_3\u001b[0;34m(case, E_np_masked, L, a, b, num_iter, lr, dis, lam, H_known, A_known, T_known, random_seed, eps, penalty_coeff)\u001b[0m\n\u001b[1;32m     38\u001b[0m     \u001b[0;31m# GD procedure\u001b[0m\u001b[0;34m\u001b[0m\u001b[0;34m\u001b[0m\u001b[0m\n\u001b[1;32m     39\u001b[0m     \u001b[0;32mfor\u001b[0m \u001b[0mi\u001b[0m \u001b[0;32min\u001b[0m \u001b[0mrange\u001b[0m\u001b[0;34m(\u001b[0m\u001b[0mnum_iter\u001b[0m\u001b[0;34m)\u001b[0m\u001b[0;34m:\u001b[0m\u001b[0;34m\u001b[0m\u001b[0m\n\u001b[0;32m---> 40\u001b[0;31m         \u001b[0mdel_h\u001b[0m\u001b[0;34m,\u001b[0m \u001b[0mdel_a\u001b[0m\u001b[0;34m,\u001b[0m \u001b[0mdel_t\u001b[0m \u001b[0;34m=\u001b[0m \u001b[0mmg\u001b[0m\u001b[0;34m(\u001b[0m\u001b[0mH\u001b[0m\u001b[0;34m,\u001b[0m \u001b[0mA\u001b[0m\u001b[0;34m,\u001b[0m \u001b[0mT\u001b[0m\u001b[0;34m,\u001b[0m \u001b[0mL\u001b[0m\u001b[0;34m,\u001b[0m \u001b[0mE_np_masked\u001b[0m\u001b[0;34m,\u001b[0m \u001b[0mlam\u001b[0m\u001b[0;34m,\u001b[0m \u001b[0mcase\u001b[0m\u001b[0;34m)\u001b[0m\u001b[0;34m\u001b[0m\u001b[0m\n\u001b[0m\u001b[1;32m     41\u001b[0m         \u001b[0msum_square_gradients_H\u001b[0m \u001b[0;34m+=\u001b[0m \u001b[0meps\u001b[0m \u001b[0;34m+\u001b[0m \u001b[0mnp\u001b[0m\u001b[0;34m.\u001b[0m\u001b[0msquare\u001b[0m\u001b[0;34m(\u001b[0m\u001b[0mdel_h\u001b[0m\u001b[0;34m)\u001b[0m\u001b[0;34m\u001b[0m\u001b[0m\n\u001b[1;32m     42\u001b[0m         \u001b[0msum_square_gradients_A\u001b[0m \u001b[0;34m+=\u001b[0m \u001b[0meps\u001b[0m \u001b[0;34m+\u001b[0m \u001b[0mnp\u001b[0m\u001b[0;34m.\u001b[0m\u001b[0msquare\u001b[0m\u001b[0;34m(\u001b[0m\u001b[0mdel_a\u001b[0m\u001b[0;34m)\u001b[0m\u001b[0;34m\u001b[0m\u001b[0m\n",
      "\u001b[0;32m/Users/xox/Library/Python/2.7/lib/python/site-packages/autograd/convenience_wrappers.pyc\u001b[0m in \u001b[0;36mgradfun_rearranged\u001b[0;34m(*args, **kwargs)\u001b[0m\n\u001b[1;32m     80\u001b[0m     \u001b[0;32mdef\u001b[0m \u001b[0mgradfun_rearranged\u001b[0m\u001b[0;34m(\u001b[0m\u001b[0;34m*\u001b[0m\u001b[0margs\u001b[0m\u001b[0;34m,\u001b[0m \u001b[0;34m**\u001b[0m\u001b[0mkwargs\u001b[0m\u001b[0;34m)\u001b[0m\u001b[0;34m:\u001b[0m\u001b[0;34m\u001b[0m\u001b[0m\n\u001b[1;32m     81\u001b[0m         \u001b[0mmulti_arg\u001b[0m \u001b[0;34m=\u001b[0m \u001b[0mtuple\u001b[0m\u001b[0;34m(\u001b[0m\u001b[0;34m[\u001b[0m\u001b[0margs\u001b[0m\u001b[0;34m[\u001b[0m\u001b[0mi\u001b[0m\u001b[0;34m]\u001b[0m \u001b[0;32mfor\u001b[0m \u001b[0mi\u001b[0m \u001b[0;32min\u001b[0m \u001b[0margnums\u001b[0m\u001b[0;34m]\u001b[0m\u001b[0;34m)\u001b[0m\u001b[0;34m\u001b[0m\u001b[0m\n\u001b[0;32m---> 82\u001b[0;31m         \u001b[0;32mreturn\u001b[0m \u001b[0mgradfun\u001b[0m\u001b[0;34m(\u001b[0m\u001b[0mmulti_arg\u001b[0m\u001b[0;34m,\u001b[0m \u001b[0;34m*\u001b[0m\u001b[0margs\u001b[0m\u001b[0;34m,\u001b[0m \u001b[0;34m**\u001b[0m\u001b[0mkwargs\u001b[0m\u001b[0;34m)\u001b[0m\u001b[0;34m\u001b[0m\u001b[0m\n\u001b[0m\u001b[1;32m     83\u001b[0m     \u001b[0;32mreturn\u001b[0m \u001b[0mgradfun_rearranged\u001b[0m\u001b[0;34m\u001b[0m\u001b[0m\n\u001b[1;32m     84\u001b[0m \u001b[0;34m\u001b[0m\u001b[0m\n",
      "\u001b[0;32m/Users/xox/Library/Python/2.7/lib/python/site-packages/autograd/errors.pyc\u001b[0m in \u001b[0;36mwrapped\u001b[0;34m(*args, **kwargs)\u001b[0m\n\u001b[1;32m     46\u001b[0m   \u001b[0;34m@\u001b[0m\u001b[0mwraps\u001b[0m\u001b[0;34m(\u001b[0m\u001b[0mfun\u001b[0m\u001b[0;34m)\u001b[0m\u001b[0;34m\u001b[0m\u001b[0m\n\u001b[1;32m     47\u001b[0m   \u001b[0;32mdef\u001b[0m \u001b[0mwrapped\u001b[0m\u001b[0;34m(\u001b[0m\u001b[0;34m*\u001b[0m\u001b[0margs\u001b[0m\u001b[0;34m,\u001b[0m \u001b[0;34m**\u001b[0m\u001b[0mkwargs\u001b[0m\u001b[0;34m)\u001b[0m\u001b[0;34m:\u001b[0m\u001b[0;34m\u001b[0m\u001b[0m\n\u001b[0;32m---> 48\u001b[0;31m     \u001b[0;32mtry\u001b[0m\u001b[0;34m:\u001b[0m \u001b[0;32mreturn\u001b[0m \u001b[0mfun\u001b[0m\u001b[0;34m(\u001b[0m\u001b[0;34m*\u001b[0m\u001b[0margs\u001b[0m\u001b[0;34m,\u001b[0m \u001b[0;34m**\u001b[0m\u001b[0mkwargs\u001b[0m\u001b[0;34m)\u001b[0m\u001b[0;34m\u001b[0m\u001b[0m\n\u001b[0m\u001b[1;32m     49\u001b[0m     \u001b[0;32mexcept\u001b[0m \u001b[0mException\u001b[0m \u001b[0;32mas\u001b[0m \u001b[0me\u001b[0m\u001b[0;34m:\u001b[0m \u001b[0madd_extra_error_message\u001b[0m\u001b[0;34m(\u001b[0m\u001b[0me\u001b[0m\u001b[0;34m)\u001b[0m\u001b[0;34m\u001b[0m\u001b[0m\n\u001b[1;32m     50\u001b[0m   \u001b[0;32mreturn\u001b[0m \u001b[0mwrapped\u001b[0m\u001b[0;34m\u001b[0m\u001b[0m\n",
      "\u001b[0;32m/Users/xox/Library/Python/2.7/lib/python/site-packages/autograd/convenience_wrappers.pyc\u001b[0m in \u001b[0;36mgradfun\u001b[0;34m(*args, **kwargs)\u001b[0m\n\u001b[1;32m     26\u001b[0m         \u001b[0margs\u001b[0m\u001b[0;34m[\u001b[0m\u001b[0margnum\u001b[0m\u001b[0;34m]\u001b[0m \u001b[0;34m=\u001b[0m \u001b[0msafe_type\u001b[0m\u001b[0;34m(\u001b[0m\u001b[0margs\u001b[0m\u001b[0;34m[\u001b[0m\u001b[0margnum\u001b[0m\u001b[0;34m]\u001b[0m\u001b[0;34m)\u001b[0m\u001b[0;34m\u001b[0m\u001b[0m\n\u001b[1;32m     27\u001b[0m         \u001b[0mvjp\u001b[0m\u001b[0;34m,\u001b[0m \u001b[0mans\u001b[0m \u001b[0;34m=\u001b[0m \u001b[0mmake_vjp\u001b[0m\u001b[0;34m(\u001b[0m\u001b[0mscalar_fun\u001b[0m\u001b[0;34m,\u001b[0m \u001b[0margnum\u001b[0m\u001b[0;34m)\u001b[0m\u001b[0;34m(\u001b[0m\u001b[0;34m*\u001b[0m\u001b[0margs\u001b[0m\u001b[0;34m,\u001b[0m \u001b[0;34m**\u001b[0m\u001b[0mkwargs\u001b[0m\u001b[0;34m)\u001b[0m\u001b[0;34m\u001b[0m\u001b[0m\n\u001b[0;32m---> 28\u001b[0;31m         \u001b[0;32mreturn\u001b[0m \u001b[0mvjp\u001b[0m\u001b[0;34m(\u001b[0m\u001b[0mcast_to_same_dtype\u001b[0m\u001b[0;34m(\u001b[0m\u001b[0;36m1.0\u001b[0m\u001b[0;34m,\u001b[0m \u001b[0mans\u001b[0m\u001b[0;34m)\u001b[0m\u001b[0;34m)\u001b[0m\u001b[0;34m\u001b[0m\u001b[0m\n\u001b[0m\u001b[1;32m     29\u001b[0m \u001b[0;34m\u001b[0m\u001b[0m\n\u001b[1;32m     30\u001b[0m     \u001b[0;32mreturn\u001b[0m \u001b[0mgradfun\u001b[0m\u001b[0;34m\u001b[0m\u001b[0m\n",
      "\u001b[0;32m/Users/xox/Library/Python/2.7/lib/python/site-packages/autograd/core.pyc\u001b[0m in \u001b[0;36m<lambda>\u001b[0;34m(g)\u001b[0m\n\u001b[1;32m     16\u001b[0m             \u001b[0mwarnings\u001b[0m\u001b[0;34m.\u001b[0m\u001b[0mwarn\u001b[0m\u001b[0;34m(\u001b[0m\u001b[0;34m\"Output seems independent of input.\"\u001b[0m\u001b[0;34m)\u001b[0m\u001b[0;34m\u001b[0m\u001b[0m\n\u001b[1;32m     17\u001b[0m             \u001b[0;32mreturn\u001b[0m \u001b[0;32mlambda\u001b[0m \u001b[0mg\u001b[0m \u001b[0;34m:\u001b[0m \u001b[0mstart_node\u001b[0m\u001b[0;34m.\u001b[0m\u001b[0mvspace\u001b[0m\u001b[0;34m.\u001b[0m\u001b[0mzeros\u001b[0m\u001b[0;34m(\u001b[0m\u001b[0;34m)\u001b[0m\u001b[0;34m,\u001b[0m \u001b[0mend_node\u001b[0m\u001b[0;34m\u001b[0m\u001b[0m\n\u001b[0;32m---> 18\u001b[0;31m         \u001b[0;32mreturn\u001b[0m \u001b[0;32mlambda\u001b[0m \u001b[0mg\u001b[0m \u001b[0;34m:\u001b[0m \u001b[0mbackward_pass\u001b[0m\u001b[0;34m(\u001b[0m\u001b[0mg\u001b[0m\u001b[0;34m,\u001b[0m \u001b[0mend_node\u001b[0m\u001b[0;34m,\u001b[0m \u001b[0mstart_node\u001b[0m\u001b[0;34m)\u001b[0m\u001b[0;34m,\u001b[0m \u001b[0mend_node\u001b[0m\u001b[0;34m\u001b[0m\u001b[0m\n\u001b[0m\u001b[1;32m     19\u001b[0m     \u001b[0;32mreturn\u001b[0m \u001b[0mvjp\u001b[0m\u001b[0;34m\u001b[0m\u001b[0m\n\u001b[1;32m     20\u001b[0m \u001b[0;34m\u001b[0m\u001b[0m\n",
      "\u001b[0;32m/Users/xox/Library/Python/2.7/lib/python/site-packages/autograd/core.pyc\u001b[0m in \u001b[0;36mbackward_pass\u001b[0;34m(g, end_node, start_node)\u001b[0m\n\u001b[1;32m     38\u001b[0m         \u001b[0;32mfor\u001b[0m \u001b[0margnum\u001b[0m\u001b[0;34m,\u001b[0m \u001b[0mparent\u001b[0m \u001b[0;32min\u001b[0m \u001b[0mparents\u001b[0m\u001b[0;34m:\u001b[0m\u001b[0;34m\u001b[0m\u001b[0m\n\u001b[1;32m     39\u001b[0m             outgrad = function.vjp(argnum, cur_outgrad, node,\n\u001b[0;32m---> 40\u001b[0;31m                                    parent.vspace, node.vspace, args, kwargs)\n\u001b[0m\u001b[1;32m     41\u001b[0m             \u001b[0moutgrads\u001b[0m\u001b[0;34m[\u001b[0m\u001b[0mparent\u001b[0m\u001b[0;34m]\u001b[0m\u001b[0;34m.\u001b[0m\u001b[0mappend\u001b[0m\u001b[0;34m(\u001b[0m\u001b[0moutgrad\u001b[0m\u001b[0;34m)\u001b[0m\u001b[0;34m\u001b[0m\u001b[0m\n\u001b[1;32m     42\u001b[0m             \u001b[0massert_vspace_match\u001b[0m\u001b[0;34m(\u001b[0m\u001b[0moutgrad\u001b[0m\u001b[0;34m,\u001b[0m \u001b[0mparent\u001b[0m\u001b[0;34m.\u001b[0m\u001b[0mvspace\u001b[0m\u001b[0;34m,\u001b[0m \u001b[0mfunction\u001b[0m\u001b[0;34m)\u001b[0m\u001b[0;34m\u001b[0m\u001b[0m\n",
      "\u001b[0;32m/Users/xox/Library/Python/2.7/lib/python/site-packages/autograd/core.pyc\u001b[0m in \u001b[0;36mvjp\u001b[0;34m(self, argnum, outgrad, ans, vs, gvs, args, kwargs)\u001b[0m\n\u001b[1;32m     75\u001b[0m     \u001b[0;32mdef\u001b[0m \u001b[0mvjp\u001b[0m\u001b[0;34m(\u001b[0m\u001b[0mself\u001b[0m\u001b[0;34m,\u001b[0m \u001b[0margnum\u001b[0m\u001b[0;34m,\u001b[0m \u001b[0moutgrad\u001b[0m\u001b[0;34m,\u001b[0m \u001b[0mans\u001b[0m\u001b[0;34m,\u001b[0m \u001b[0mvs\u001b[0m\u001b[0;34m,\u001b[0m \u001b[0mgvs\u001b[0m\u001b[0;34m,\u001b[0m \u001b[0margs\u001b[0m\u001b[0;34m,\u001b[0m \u001b[0mkwargs\u001b[0m\u001b[0;34m)\u001b[0m\u001b[0;34m:\u001b[0m\u001b[0;34m\u001b[0m\u001b[0m\n\u001b[1;32m     76\u001b[0m         \u001b[0;32mtry\u001b[0m\u001b[0;34m:\u001b[0m\u001b[0;34m\u001b[0m\u001b[0m\n\u001b[0;32m---> 77\u001b[0;31m             \u001b[0;32mreturn\u001b[0m \u001b[0mself\u001b[0m\u001b[0;34m.\u001b[0m\u001b[0mvjps\u001b[0m\u001b[0;34m[\u001b[0m\u001b[0margnum\u001b[0m\u001b[0;34m]\u001b[0m\u001b[0;34m(\u001b[0m\u001b[0moutgrad\u001b[0m\u001b[0;34m,\u001b[0m \u001b[0mans\u001b[0m\u001b[0;34m,\u001b[0m \u001b[0mvs\u001b[0m\u001b[0;34m,\u001b[0m \u001b[0mgvs\u001b[0m\u001b[0;34m,\u001b[0m \u001b[0;34m*\u001b[0m\u001b[0margs\u001b[0m\u001b[0;34m,\u001b[0m \u001b[0;34m**\u001b[0m\u001b[0mkwargs\u001b[0m\u001b[0;34m)\u001b[0m\u001b[0;34m\u001b[0m\u001b[0m\n\u001b[0m\u001b[1;32m     78\u001b[0m         \u001b[0;32mexcept\u001b[0m \u001b[0mKeyError\u001b[0m\u001b[0;34m:\u001b[0m\u001b[0;34m\u001b[0m\u001b[0m\n\u001b[1;32m     79\u001b[0m             \u001b[0;32mif\u001b[0m \u001b[0mself\u001b[0m\u001b[0;34m.\u001b[0m\u001b[0mvjps\u001b[0m \u001b[0;34m==\u001b[0m \u001b[0;34m{\u001b[0m\u001b[0;34m}\u001b[0m\u001b[0;34m:\u001b[0m\u001b[0;34m\u001b[0m\u001b[0m\n",
      "\u001b[0;32m/Users/xox/Library/Python/2.7/lib/python/site-packages/autograd/numpy/numpy_grads.pyc\u001b[0m in \u001b[0;36m<lambda>\u001b[0;34m(g, ans, vs, gvs, x)\u001b[0m\n\u001b[1;32m     84\u001b[0m \u001b[0manp\u001b[0m\u001b[0;34m.\u001b[0m\u001b[0mradians\u001b[0m\u001b[0;34m.\u001b[0m\u001b[0mdefvjp\u001b[0m\u001b[0;34m(\u001b[0m\u001b[0;32mlambda\u001b[0m \u001b[0mg\u001b[0m\u001b[0;34m,\u001b[0m \u001b[0mans\u001b[0m\u001b[0;34m,\u001b[0m \u001b[0mvs\u001b[0m\u001b[0;34m,\u001b[0m \u001b[0mgvs\u001b[0m\u001b[0;34m,\u001b[0m \u001b[0mx\u001b[0m \u001b[0;34m:\u001b[0m \u001b[0mg\u001b[0m \u001b[0;34m*\u001b[0m \u001b[0manp\u001b[0m\u001b[0;34m.\u001b[0m\u001b[0mpi\u001b[0m \u001b[0;34m/\u001b[0m \u001b[0;36m180.0\u001b[0m\u001b[0;34m)\u001b[0m\u001b[0;34m\u001b[0m\u001b[0m\n\u001b[1;32m     85\u001b[0m \u001b[0manp\u001b[0m\u001b[0;34m.\u001b[0m\u001b[0msquare\u001b[0m\u001b[0;34m.\u001b[0m\u001b[0mdefvjp\u001b[0m\u001b[0;34m(\u001b[0m \u001b[0;32mlambda\u001b[0m \u001b[0mg\u001b[0m\u001b[0;34m,\u001b[0m \u001b[0mans\u001b[0m\u001b[0;34m,\u001b[0m \u001b[0mvs\u001b[0m\u001b[0;34m,\u001b[0m \u001b[0mgvs\u001b[0m\u001b[0;34m,\u001b[0m \u001b[0mx\u001b[0m \u001b[0;34m:\u001b[0m \u001b[0mg\u001b[0m \u001b[0;34m*\u001b[0m \u001b[0;36m2\u001b[0m \u001b[0;34m*\u001b[0m \u001b[0mx\u001b[0m\u001b[0;34m)\u001b[0m\u001b[0;34m\u001b[0m\u001b[0m\n\u001b[0;32m---> 86\u001b[0;31m \u001b[0manp\u001b[0m\u001b[0;34m.\u001b[0m\u001b[0msqrt\u001b[0m\u001b[0;34m.\u001b[0m\u001b[0mdefvjp\u001b[0m\u001b[0;34m(\u001b[0m   \u001b[0;32mlambda\u001b[0m \u001b[0mg\u001b[0m\u001b[0;34m,\u001b[0m \u001b[0mans\u001b[0m\u001b[0;34m,\u001b[0m \u001b[0mvs\u001b[0m\u001b[0;34m,\u001b[0m \u001b[0mgvs\u001b[0m\u001b[0;34m,\u001b[0m \u001b[0mx\u001b[0m \u001b[0;34m:\u001b[0m \u001b[0mg\u001b[0m \u001b[0;34m*\u001b[0m \u001b[0;36m0.5\u001b[0m \u001b[0;34m*\u001b[0m \u001b[0mx\u001b[0m\u001b[0;34m**\u001b[0m\u001b[0;34m-\u001b[0m\u001b[0;36m0.5\u001b[0m\u001b[0;34m)\u001b[0m\u001b[0;34m\u001b[0m\u001b[0m\n\u001b[0m\u001b[1;32m     87\u001b[0m \u001b[0manp\u001b[0m\u001b[0;34m.\u001b[0m\u001b[0msinc\u001b[0m\u001b[0;34m.\u001b[0m\u001b[0mdefvjp\u001b[0m\u001b[0;34m(\u001b[0m   \u001b[0;32mlambda\u001b[0m \u001b[0mg\u001b[0m\u001b[0;34m,\u001b[0m \u001b[0mans\u001b[0m\u001b[0;34m,\u001b[0m \u001b[0mvs\u001b[0m\u001b[0;34m,\u001b[0m \u001b[0mgvs\u001b[0m\u001b[0;34m,\u001b[0m \u001b[0mx\u001b[0m \u001b[0;34m:\u001b[0m \u001b[0mg\u001b[0m \u001b[0;34m*\u001b[0m \u001b[0;34m(\u001b[0m\u001b[0manp\u001b[0m\u001b[0;34m.\u001b[0m\u001b[0mcos\u001b[0m\u001b[0;34m(\u001b[0m\u001b[0manp\u001b[0m\u001b[0;34m.\u001b[0m\u001b[0mpi\u001b[0m\u001b[0;34m*\u001b[0m\u001b[0mx\u001b[0m\u001b[0;34m)\u001b[0m\u001b[0;34m*\u001b[0m\u001b[0manp\u001b[0m\u001b[0;34m.\u001b[0m\u001b[0mpi\u001b[0m\u001b[0;34m*\u001b[0m\u001b[0mx\u001b[0m \u001b[0;34m-\u001b[0m \u001b[0manp\u001b[0m\u001b[0;34m.\u001b[0m\u001b[0msin\u001b[0m\u001b[0;34m(\u001b[0m\u001b[0manp\u001b[0m\u001b[0;34m.\u001b[0m\u001b[0mpi\u001b[0m\u001b[0;34m*\u001b[0m\u001b[0mx\u001b[0m\u001b[0;34m)\u001b[0m\u001b[0;34m)\u001b[0m\u001b[0;34m/\u001b[0m\u001b[0;34m(\u001b[0m\u001b[0manp\u001b[0m\u001b[0;34m.\u001b[0m\u001b[0mpi\u001b[0m\u001b[0;34m*\u001b[0m\u001b[0mx\u001b[0m\u001b[0;34m**\u001b[0m\u001b[0;36m2\u001b[0m\u001b[0;34m)\u001b[0m\u001b[0;34m)\u001b[0m\u001b[0;34m\u001b[0m\u001b[0m\n\u001b[1;32m     88\u001b[0m \u001b[0manp\u001b[0m\u001b[0;34m.\u001b[0m\u001b[0mreshape\u001b[0m\u001b[0;34m.\u001b[0m\u001b[0mdefvjp\u001b[0m\u001b[0;34m(\u001b[0m\u001b[0;32mlambda\u001b[0m \u001b[0mg\u001b[0m\u001b[0;34m,\u001b[0m \u001b[0mans\u001b[0m\u001b[0;34m,\u001b[0m \u001b[0mvs\u001b[0m\u001b[0;34m,\u001b[0m \u001b[0mgvs\u001b[0m\u001b[0;34m,\u001b[0m \u001b[0mx\u001b[0m\u001b[0;34m,\u001b[0m \u001b[0mshape\u001b[0m\u001b[0;34m,\u001b[0m \u001b[0morder\u001b[0m\u001b[0;34m=\u001b[0m\u001b[0mNone\u001b[0m \u001b[0;34m:\u001b[0m \u001b[0manp\u001b[0m\u001b[0;34m.\u001b[0m\u001b[0mreshape\u001b[0m\u001b[0;34m(\u001b[0m\u001b[0mg\u001b[0m\u001b[0;34m,\u001b[0m \u001b[0mvs\u001b[0m\u001b[0;34m.\u001b[0m\u001b[0mshape\u001b[0m\u001b[0;34m,\u001b[0m \u001b[0morder\u001b[0m\u001b[0;34m=\u001b[0m\u001b[0morder\u001b[0m\u001b[0;34m)\u001b[0m\u001b[0;34m)\u001b[0m\u001b[0;34m\u001b[0m\u001b[0m\n",
      "\u001b[0;32m/Users/xox/Library/Python/2.7/lib/python/site-packages/autograd/numpy/numpy_extra.pyc\u001b[0m in \u001b[0;36m__pow__\u001b[0;34m(self, other)\u001b[0m\n\u001b[1;32m     44\u001b[0m     \u001b[0;32mdef\u001b[0m \u001b[0m__sub__\u001b[0m\u001b[0;34m(\u001b[0m\u001b[0mself\u001b[0m\u001b[0;34m,\u001b[0m \u001b[0mother\u001b[0m\u001b[0;34m)\u001b[0m\u001b[0;34m:\u001b[0m \u001b[0;32mreturn\u001b[0m \u001b[0manp\u001b[0m\u001b[0;34m.\u001b[0m\u001b[0msubtract\u001b[0m\u001b[0;34m(\u001b[0m\u001b[0mself\u001b[0m\u001b[0;34m,\u001b[0m \u001b[0mother\u001b[0m\u001b[0;34m)\u001b[0m\u001b[0;34m\u001b[0m\u001b[0m\n\u001b[1;32m     45\u001b[0m     \u001b[0;32mdef\u001b[0m \u001b[0m__mul__\u001b[0m\u001b[0;34m(\u001b[0m\u001b[0mself\u001b[0m\u001b[0;34m,\u001b[0m \u001b[0mother\u001b[0m\u001b[0;34m)\u001b[0m\u001b[0;34m:\u001b[0m \u001b[0;32mreturn\u001b[0m \u001b[0manp\u001b[0m\u001b[0;34m.\u001b[0m\u001b[0mmultiply\u001b[0m\u001b[0;34m(\u001b[0m\u001b[0mself\u001b[0m\u001b[0;34m,\u001b[0m \u001b[0mother\u001b[0m\u001b[0;34m)\u001b[0m\u001b[0;34m\u001b[0m\u001b[0m\n\u001b[0;32m---> 46\u001b[0;31m     \u001b[0;32mdef\u001b[0m \u001b[0m__pow__\u001b[0m\u001b[0;34m(\u001b[0m\u001b[0mself\u001b[0m\u001b[0;34m,\u001b[0m \u001b[0mother\u001b[0m\u001b[0;34m)\u001b[0m\u001b[0;34m:\u001b[0m \u001b[0;32mreturn\u001b[0m \u001b[0manp\u001b[0m\u001b[0;34m.\u001b[0m\u001b[0mpower\u001b[0m   \u001b[0;34m(\u001b[0m\u001b[0mself\u001b[0m\u001b[0;34m,\u001b[0m \u001b[0mother\u001b[0m\u001b[0;34m)\u001b[0m\u001b[0;34m\u001b[0m\u001b[0m\n\u001b[0m\u001b[1;32m     47\u001b[0m     \u001b[0;32mdef\u001b[0m \u001b[0m__div__\u001b[0m\u001b[0;34m(\u001b[0m\u001b[0mself\u001b[0m\u001b[0;34m,\u001b[0m \u001b[0mother\u001b[0m\u001b[0;34m)\u001b[0m\u001b[0;34m:\u001b[0m \u001b[0;32mreturn\u001b[0m \u001b[0manp\u001b[0m\u001b[0;34m.\u001b[0m\u001b[0mdivide\u001b[0m\u001b[0;34m(\u001b[0m  \u001b[0mself\u001b[0m\u001b[0;34m,\u001b[0m \u001b[0mother\u001b[0m\u001b[0;34m)\u001b[0m\u001b[0;34m\u001b[0m\u001b[0m\n\u001b[1;32m     48\u001b[0m     \u001b[0;32mdef\u001b[0m \u001b[0m__mod__\u001b[0m\u001b[0;34m(\u001b[0m\u001b[0mself\u001b[0m\u001b[0;34m,\u001b[0m \u001b[0mother\u001b[0m\u001b[0;34m)\u001b[0m\u001b[0;34m:\u001b[0m \u001b[0;32mreturn\u001b[0m \u001b[0manp\u001b[0m\u001b[0;34m.\u001b[0m\u001b[0mmod\u001b[0m\u001b[0;34m(\u001b[0m     \u001b[0mself\u001b[0m\u001b[0;34m,\u001b[0m \u001b[0mother\u001b[0m\u001b[0;34m)\u001b[0m\u001b[0;34m\u001b[0m\u001b[0m\n",
      "\u001b[0;32m/Users/xox/Library/Python/2.7/lib/python/site-packages/autograd/core.pyc\u001b[0m in \u001b[0;36m__call__\u001b[0;34m(self, *args, **kwargs)\u001b[0m\n\u001b[1;32m     67\u001b[0m                 \u001b[0mprogenitors\u001b[0m\u001b[0;34m.\u001b[0m\u001b[0mupdate\u001b[0m\u001b[0;34m(\u001b[0m\u001b[0marg\u001b[0m\u001b[0;34m.\u001b[0m\u001b[0mprogenitors\u001b[0m \u001b[0;34m&\u001b[0m \u001b[0mactive_progenitors\u001b[0m\u001b[0;34m)\u001b[0m\u001b[0;34m\u001b[0m\u001b[0m\n\u001b[1;32m     68\u001b[0m \u001b[0;34m\u001b[0m\u001b[0m\n\u001b[0;32m---> 69\u001b[0;31m         \u001b[0mresult_value\u001b[0m \u001b[0;34m=\u001b[0m \u001b[0mself\u001b[0m\u001b[0;34m.\u001b[0m\u001b[0mfun\u001b[0m\u001b[0;34m(\u001b[0m\u001b[0;34m*\u001b[0m\u001b[0margvals\u001b[0m\u001b[0;34m,\u001b[0m \u001b[0;34m**\u001b[0m\u001b[0mkwargs\u001b[0m\u001b[0;34m)\u001b[0m\u001b[0;34m\u001b[0m\u001b[0m\n\u001b[0m\u001b[1;32m     70\u001b[0m         \u001b[0;32mif\u001b[0m \u001b[0mprogenitors\u001b[0m\u001b[0;34m:\u001b[0m\u001b[0;34m\u001b[0m\u001b[0m\n\u001b[1;32m     71\u001b[0m             \u001b[0;32mreturn\u001b[0m \u001b[0mnew_node\u001b[0m\u001b[0;34m(\u001b[0m\u001b[0mresult_value\u001b[0m\u001b[0;34m,\u001b[0m \u001b[0;34m(\u001b[0m\u001b[0mself\u001b[0m\u001b[0;34m,\u001b[0m \u001b[0margs\u001b[0m\u001b[0;34m,\u001b[0m \u001b[0mkwargs\u001b[0m\u001b[0;34m,\u001b[0m \u001b[0mparents\u001b[0m\u001b[0;34m)\u001b[0m\u001b[0;34m,\u001b[0m \u001b[0mprogenitors\u001b[0m\u001b[0;34m)\u001b[0m\u001b[0;34m\u001b[0m\u001b[0m\n",
      "\u001b[0;31mKeyboardInterrupt\u001b[0m: "
     ]
    }
   ],
   "source": [
    "n_splits = 10\n",
    "case = 2\n",
    "a = 5\n",
    "b = 3\n",
    "c = 3\n",
    "iters = 2000\n",
    "\n",
    "# H_au, A_au, T_au, F_au = learn_HAT_graph(2, au_tensor, static_au, sim_au, a, b, num_iter=iters, dis=True, T_known = np.ones(12).reshape(-1, 1))\n",
    "L_au = get_L(au_agg)\n",
    "L_sd = get_L(sd_agg)\n",
    "H_au, A_au, T_au, Hs, As, Ts, HATs, costs = learn_HAT_adagrad_graph_3(case, au_tensor, L_au, a, b, num_iter=2000, lr=0.1, dis=True, T_known = np.ones(12).reshape(-1, 1))\n",
    "\n",
    "pred_normal = {}\n",
    "pred_transfer = {}\n",
    "for random_seed in range(5):\n",
    "    pred_normal[random_seed] = {}\n",
    "    pred_transfer[random_seed] = {}\n",
    "    \n",
    "    for appliance in APPLIANCES_ORDER:\n",
    "        pred_normal[random_seed][appliance] = {f:[] for f in range(10, 110, 20)}\n",
    "        pred_transfer[random_seed][appliance] = {f:[] for f in range(10, 110, 20)}\n",
    "\n",
    "kf = KFold(n_splits=n_splits)\n",
    "for random_seed in range(5):\n",
    "    print \"random seed: \", random_seed\n",
    "    np.random.seed(random_seed)\n",
    "    for train_percentage in range(10, 110, 20):\n",
    "        print \"training percentage: \", train_percentage\n",
    "        rd = 0\n",
    "        \n",
    "        for train_max, test in kf.split(sd_df):\n",
    "            print \"round: \", rd\n",
    "           \n",
    "            \n",
    "            num_train = int((train_percentage*len(train_max)/100)+0.5)\n",
    "            num_test = len(test)\n",
    "            \n",
    "            # get the random training data from train_max based on then random seed\n",
    "            if train_percentage==100:\n",
    "                train = train_max\n",
    "            else:\n",
    "                train, _ = train_test_split(train_max, train_size = train_percentage/100.0)\n",
    "            \n",
    "            # get the index of training and testing data\n",
    "            train_ix = sd_df.index[train]\n",
    "            test_ix = sd_df.index[test]\n",
    "            print \"test_ix: \", test_ix\n",
    "            \n",
    "            # create the tensor\n",
    "            print test, train\n",
    "            train_test_ix = np.concatenate([test_ix, train_ix])\n",
    "            df_t, dfc_t = sd_df.ix[train_test_ix], sd_dfc.ix[train_test_ix]\n",
    "            tensor = get_tensor(df_t)\n",
    "            \n",
    "            ############################################################################################\n",
    "            # Normal learning: no constant constraint, no A_known, with learn_HAT\n",
    "            ############################################################################################\n",
    "            tensor_copy = tensor.copy()\n",
    "            tensor_copy[:num_test, 1:, :] = np.NaN\n",
    "            agg = sd_agg[np.concatenate([test, train])]\n",
    "            L = L_sd[np.ix_(np.concatenate([test, train]), np.concatenate([test, train]))]\n",
    "            \n",
    "#             H, A, T, F = learn_HAT_graph(2, tensor_copy, static_sd[np.concatenate([test, train])], sim_sd, a, b, num_iter=iters,dis=True, T_known = np.ones(12).reshape(-1, 1))\n",
    "            H, A, T, Hs, As, Ts, HATs, costs = learn_HAT_adagrad_graph_3(case, tensor_copy, L, a, b, num_iter=400, lr=1, dis=True, T_known = np.ones(12).reshape(-1, 1))\n",
    "\n",
    "\n",
    "            # get the prediction\n",
    "            HAT = multiply_case(H, A, T, case)\n",
    "            for appliance in APPLIANCES_ORDER:\n",
    "                pred_normal[random_seed][appliance][train_percentage].append(pd.DataFrame(HAT[:num_test, appliance_index[appliance], :], index=test_ix))\n",
    "                       \n",
    "            \n",
    "            ############################################################################################\n",
    "            # transfer learning: constant constraint, with A_known = A_a_const, with learn_HAT_constant\n",
    "            ############################################################################################\n",
    "            tensor_copy = tensor.copy()\n",
    "            tensor_copy[:num_test, 1:, :] = np.NaN\n",
    "            agg = sd_agg[np.concatenate([test, train])]\n",
    "            L = L_sd[np.ix_(np.concatenate([test, train]), np.concatenate([test, train]))]\n",
    "            \n",
    "#             H, A, T, F = learn_HAT_graph(2, tensor_copy, static_sd[np.concatenate([test, train])], sim_sd, a, b, num_iter=iters,dis=True, T_known = np.ones(12).reshape(-1, 1))\n",
    "#             H, A, T, F, Hs, As, Ts, Fs, HATs, costs = learn_HAT_adagrad_graph(case, tensor_copy, L, agg, a, b, num_iter=20000, lr=0.1, dis=True,A_known = A_au)\n",
    "            H, A, T, Hs, As, Ts, HATs, costs = learn_HAT_adagrad_graph_3(case, tensor_copy, L, a, b, num_iter=400, lr=1, dis=True, A_known = A_au, T_known = np.ones(12).reshape(-1, 1))\n",
    "\n",
    "      \n",
    "            # get the prediction\n",
    "            HAT = multiply_case(H, A, T, case)\n",
    "            for appliance in APPLIANCES_ORDER:\n",
    "                pred_transfer[random_seed][appliance][train_percentage].append(pd.DataFrame(HAT[:num_test, appliance_index[appliance], :], index=test_ix))\n",
    "            \n",
    "            \n",
    "            rd += 1"
   ]
  },
  {
   "cell_type": "code",
   "execution_count": 245,
   "metadata": {},
   "outputs": [
    {
     "name": "stderr",
     "output_type": "stream",
     "text": [
      "/Users/xox/Library/Python/2.7/lib/python/site-packages/ipykernel_launcher.py:11: DeprecationWarning: \n",
      ".ix is deprecated. Please use\n",
      ".loc for label based indexing or\n",
      ".iloc for positional indexing\n",
      "\n",
      "See the documentation here:\n",
      "http://pandas.pydata.org/pandas-docs/stable/indexing.html#ix-indexer-is-deprecated\n",
      "  # This is added back by InteractiveShellApp.init_path()\n",
      "/Users/xox/Library/Python/2.7/lib/python/site-packages/ipykernel_launcher.py:21: DeprecationWarning: \n",
      ".ix is deprecated. Please use\n",
      ".loc for label based indexing or\n",
      ".iloc for positional indexing\n",
      "\n",
      "See the documentation here:\n",
      "http://pandas.pydata.org/pandas-docs/stable/indexing.html#ix-indexer-is-deprecated\n"
     ]
    }
   ],
   "source": [
    "out = {}\n",
    "\n",
    "out_normal = {}\n",
    "out_transfer = {}\n",
    "\n",
    "for random_seed in range(1):\n",
    "    out_normal[random_seed] = {}   \n",
    "    for appliance in APPLIANCES_ORDER[1:]:\n",
    "        out_normal[random_seed][appliance] = {}\n",
    "        for f in range(10,20,10):\n",
    "            s = pd.concat(pred_normal[random_seed][appliance][f]).ix[sd_df.index]\n",
    "            if appliance==\"hvac\":\n",
    "                out_normal[random_seed][appliance][f] = compute_rmse_fraction(appliance,s[range(4, 10)],'SanDiego')[2]\n",
    "            else:   \n",
    "                out_normal[random_seed][appliance][f] = compute_rmse_fraction(appliance, s,'SanDiego')[2]\n",
    "for random_seed in range(1):\n",
    "    out_transfer[random_seed] = {}   \n",
    "    for appliance in APPLIANCES_ORDER[1:]:\n",
    "        out_transfer[random_seed][appliance] = {}\n",
    "        for f in range(10,20,10):\n",
    "            s = pd.concat(pred_transfer[random_seed][appliance][f]).ix[sd_df.index]\n",
    "            if appliance==\"hvac\":\n",
    "                out_transfer[random_seed][appliance][f] = compute_rmse_fraction(appliance,s[range(4, 10)],'SanDiego')[2]\n",
    "            else:   \n",
    "                out_transfer[random_seed][appliance][f] = compute_rmse_fraction(appliance, s,'SanDiego')[2]"
   ]
  },
  {
   "cell_type": "code",
   "execution_count": 240,
   "metadata": {},
   "outputs": [
    {
     "data": {
      "text/plain": [
       "{0: {'dw': {10: 2.061196915389675},\n",
       "  'fridge': {10: 9.3263892758198637},\n",
       "  'hvac': {10: 18.662220490470744},\n",
       "  'mw': {10: 2.0718812057239089},\n",
       "  'oven': {10: 2.3184478226695067},\n",
       "  'wm': {10: 1.9405900037051071}}}"
      ]
     },
     "execution_count": 240,
     "metadata": {},
     "output_type": "execute_result"
    }
   ],
   "source": [
    "out_normal"
   ]
  },
  {
   "cell_type": "code",
   "execution_count": 246,
   "metadata": {},
   "outputs": [
    {
     "data": {
      "text/plain": [
       "{0: {'dw': {10: 2.2235990862943895},\n",
       "  'fridge': {10: 8.8646357857077742},\n",
       "  'hvac': {10: 18.059644812715565},\n",
       "  'mw': {10: 2.0520399680549035},\n",
       "  'oven': {10: 2.3660763492473116},\n",
       "  'wm': {10: 1.6165099772954101}}}"
      ]
     },
     "execution_count": 246,
     "metadata": {},
     "output_type": "execute_result"
    }
   ],
   "source": [
    "out_normal"
   ]
  },
  {
   "cell_type": "code",
   "execution_count": 241,
   "metadata": {},
   "outputs": [
    {
     "data": {
      "text/plain": [
       "{0: {'dw': {10: 1.9360601283297472},\n",
       "  'fridge': {10: 11.25068823882877},\n",
       "  'hvac': {10: 18.948528522903132},\n",
       "  'mw': {10: 2.4256681454352989},\n",
       "  'oven': {10: 2.454790158875316},\n",
       "  'wm': {10: 1.009755443665278}}}"
      ]
     },
     "execution_count": 241,
     "metadata": {},
     "output_type": "execute_result"
    }
   ],
   "source": [
    "out_transfer"
   ]
  },
  {
   "cell_type": "code",
   "execution_count": 248,
   "metadata": {},
   "outputs": [
    {
     "data": {
      "text/plain": [
       "{0: {'dw': {10: 1.9589710852201232},\n",
       "  'fridge': {10: 10.326995075865719},\n",
       "  'hvac': {10: 22.178975755827633},\n",
       "  'mw': {10: 2.3200847091950223},\n",
       "  'oven': {10: 2.44326718010596},\n",
       "  'wm': {10: 0.95822395577664388}}}"
      ]
     },
     "execution_count": 248,
     "metadata": {},
     "output_type": "execute_result"
    }
   ],
   "source": [
    "out_transfer"
   ]
  },
  {
   "cell_type": "markdown",
   "metadata": {},
   "source": [
    "### Read from files"
   ]
  },
  {
   "cell_type": "code",
   "execution_count": 228,
   "metadata": {
    "collapsed": true
   },
   "outputs": [],
   "source": [
    "import pickle\n",
    "\n",
    "def load_obj(name):\n",
    "    with open(os.path.expanduser('~/git/' + name + '.pkl'), 'rb') as f:\n",
    "        try:\n",
    "            return pickle.load(f)\n",
    "        except EOFError:\n",
    "            return None"
   ]
  },
  {
   "cell_type": "code",
   "execution_count": 230,
   "metadata": {
    "collapsed": true
   },
   "outputs": [
    {
     "name": "stdout",
     "output_type": "stream",
     "text": [
      "pred_graph/normal/0-10.0\n",
      "pred_graph/normal/0-30.0\n",
      "pred_graph/normal/0-50.0\n",
      "pred_graph/normal/0-70.0\n",
      "pred_graph/normal/0-90.0\n",
      "pred_graph/normal/1-10.0\n",
      "pred_graph/normal/1-30.0\n",
      "pred_graph/normal/1-50.0\n",
      "pred_graph/normal/1-70.0\n",
      "pred_graph/normal/1-90.0\n",
      "pred_graph/normal/2-10.0\n",
      "pred_graph/normal/2-30.0\n",
      "pred_graph/normal/2-50.0\n",
      "pred_graph/normal/2-70.0\n",
      "pred_graph/normal/2-90.0\n",
      "pred_graph/normal/3-10.0\n",
      "pred_graph/normal/3-30.0\n",
      "pred_graph/normal/3-50.0\n",
      "pred_graph/normal/3-70.0\n",
      "pred_graph/normal/3-90.0\n",
      "pred_graph/normal/4-10.0\n",
      "pred_graph/normal/4-30.0\n",
      "pred_graph/normal/4-50.0\n",
      "pred_graph/normal/4-70.0\n",
      "pred_graph/normal/4-90.0\n",
      "pred_graph/transfer/0-10.0\n",
      "pred_graph/transfer/0-30.0\n",
      "pred_graph/transfer/0-50.0\n",
      "pred_graph/transfer/0-70.0\n",
      "pred_graph/transfer/0-90.0\n",
      "pred_graph/transfer/1-10.0\n",
      "pred_graph/transfer/1-30.0\n",
      "pred_graph/transfer/1-50.0\n",
      "pred_graph/transfer/1-70.0\n",
      "pred_graph/transfer/1-90.0\n",
      "pred_graph/transfer/2-10.0\n",
      "pred_graph/transfer/2-30.0\n",
      "pred_graph/transfer/2-50.0\n",
      "pred_graph/transfer/2-70.0\n",
      "pred_graph/transfer/2-90.0\n",
      "pred_graph/transfer/3-10.0\n",
      "pred_graph/transfer/3-30.0\n",
      "pred_graph/transfer/3-50.0\n",
      "pred_graph/transfer/3-70.0\n",
      "pred_graph/transfer/3-90.0\n",
      "pred_graph/transfer/4-10.0\n",
      "pred_graph/transfer/4-30.0\n",
      "pred_graph/transfer/4-50.0\n",
      "pred_graph/transfer/4-70.0\n",
      "pred_graph/transfer/4-90.0\n"
     ]
    }
   ],
   "source": [
    "result = {}\n",
    "pred= {}\n",
    "param = {}\n",
    "for method in ['normal', 'transfer']:\n",
    "    pred[method] = {}\n",
    "    param[method] = {}\n",
    "    for random_seed in range(5):\n",
    "        pred[method][random_seed] = {}\n",
    "        param[method][random_seed] = {}\n",
    "        for train_percentage in range(10, 110, 20):\n",
    "            name = \"pred_graph/{}/{}-{}\".format(method, random_seed, float(train_percentage))\n",
    "            print name\n",
    "            r = load_obj(name)\n",
    "            pred[method][random_seed][train_percentage] = r['Predictions']\n",
    "            param[method][random_seed][train_percentage] = r['Learning Params']"
   ]
  },
  {
   "cell_type": "code",
   "execution_count": 231,
   "metadata": {
    "collapsed": true
   },
   "outputs": [],
   "source": [
    "out= {}\n",
    "for method in ['normal', 'transfer']:\n",
    "    out[method] = {}\n",
    "    for random_seed in range(5):\n",
    "        out[method][random_seed] = {}\n",
    "        for appliance in APPLIANCES_ORDER[1:]:\n",
    "            out[method][random_seed][appliance] = {}\n",
    "            for f in range(10,110,20):\n",
    "#                     s = pd.concat(pred[method][feature_fac][random_seed][appliance][f]).ix[sd_df.index]\n",
    "                s = pred[method][random_seed][f][appliance]\n",
    "                if appliance==\"hvac\":\n",
    "                    out[method][random_seed][appliance][f] = compute_rmse_fraction(appliance,s[range(4, 10)],'SanDiego')[2]\n",
    "                else:   \n",
    "                    out[method][random_seed][appliance][f] = compute_rmse_fraction(appliance, s,'SanDiego')[2]\n",
    "            "
   ]
  },
  {
   "cell_type": "code",
   "execution_count": 232,
   "metadata": {
    "collapsed": true
   },
   "outputs": [],
   "source": [
    "mean_out = {}\n",
    "for method in ['normal', 'transfer']:\n",
    "    mean_out[method] = pd.Panel(out[method]).mean(axis=0)"
   ]
  },
  {
   "cell_type": "code",
   "execution_count": 235,
   "metadata": {},
   "outputs": [
    {
     "data": {
      "text/plain": [
       "<matplotlib.legend.Legend at 0x10f120fd0>"
      ]
     },
     "execution_count": 235,
     "metadata": {},
     "output_type": "execute_result"
    },
    {
     "data": {
      "image/png": "[encoded data removed]",
      "text/plain": [
       "<matplotlib.figure.Figure at 0x10dc68fd0>"
      ]
     },
     "metadata": {},
     "output_type": "display_data"
    }
   ],
   "source": [
    "fig, axes = plt.subplots(nrows=1, ncols=6, figsize=(50, 80))\n",
    "ax = axes.flatten()\n",
    "count = 0\n",
    "algo = 'gd'\n",
    "\n",
    "for appliance in APPLIANCES_ORDER[1:]:\n",
    "#     print appliance\n",
    "#     df1 = mean_out['normal']['feature'][appliance]\n",
    "#     df2 = mean_out['normal']['None'][appliance]\n",
    "#     df3 = mean_out['transfer']['feature'][appliance]\n",
    "#     df4 = mean_out['transfer']['None'][appliance]\n",
    "#     df = pd.concat([df1, df2, df3, df4], axis = 1)\n",
    "    df1 = mean_out['normal'][appliance]\n",
    "    df2 = mean_out['transfer'][appliance]\n",
    "    df = pd.concat([df1, df2], axis = 1)\n",
    "    pd.DataFrame(df).plot(ax=ax[count],figsize=(18, 3), marker='o', xlim=(0, 110), color=['b', 'g','r', 'y', 'k', 'c'])\n",
    "    ax[count].legend(loc='best', bbox_to_anchor=(1.0, 0.5))\n",
    "\n",
    "\n",
    "#     major_ticks = np.arange(0, 101, 20)   \n",
    "\n",
    "    ax[count].set_xlabel(\"% training\");\n",
    "    ax[count].locator_params(tight=False, nbins=20, axis='x')\n",
    "    ax[count].set_title(appliance, loc=\"left\")\n",
    "    ax[count].legend().set_visible(False)\n",
    "    count += 1\n",
    "ax[0].set_ylabel('RMSE fraction')\n",
    "# plt.suptitle(algo, fontsize=17,y=1.04)\n",
    "\n",
    "# ax[count-1].legend([\"normal\", 'transfer'], loc='center left' , bbox_to_anchor=(1, 1))\n",
    "\n",
    "ax[count-1].legend([\"normal\",'transfer'], loc='center left' , bbox_to_anchor=(1, 1))\n",
    "# plt.savefig(\"./analysis/08/featurefactorization_all.pdf\", bbox_inches=\"tight\", dpi=300, format='pdf')"
   ]
  }
 ],
 "metadata": {
  "kernelspec": {
   "display_name": "Python 2",
   "language": "python",
   "name": "python2"
  },
  "language_info": {
   "codemirror_mode": {
    "name": "ipython",
    "version": 2
   },
   "file_extension": ".py",
   "mimetype": "text/x-python",
   "name": "python",
   "nbconvert_exporter": "python",
   "pygments_lexer": "ipython2",
   "version": "2.7.10"
  }
 },
 "nbformat": 4,
 "nbformat_minor": 2
}
