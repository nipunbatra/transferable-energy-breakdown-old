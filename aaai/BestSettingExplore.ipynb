{
 "cells": [
  {
   "cell_type": "code",
   "execution_count": 1,
   "metadata": {
    "collapsed": true
   },
   "outputs": [],
   "source": [
    "import numpy as np\n",
    "import pandas as pd"
   ]
  },
  {
   "cell_type": "code",
   "execution_count": 2,
   "metadata": {
    "collapsed": true
   },
   "outputs": [],
   "source": [
    "from __future__ import print_function\n",
    "import matplotlib.pyplot as plt\n",
    "%matplotlib inline\n",
    "from plot_functions import *\n",
    "from sklearn.model_selection import KFold"
   ]
  },
  {
   "cell_type": "code",
   "execution_count": 3,
   "metadata": {
    "collapsed": true
   },
   "outputs": [],
   "source": [
    "from create_matrix import *\n",
    "import os\n",
    "from tensor_custom_core import *\n",
    "from create_matrix import *\n",
    "from tensor_custom_core import *\n",
    "from degree_days import dds\n",
    "import sys\n",
    "\n",
    "\n",
    "appliance_index = {appliance: APPLIANCES_ORDER.index(appliance) for appliance in APPLIANCES_ORDER}\n",
    "APPLIANCES = ['fridge', 'hvac', 'wm', 'mw', 'oven', 'dw']\n",
    "region = \"SanDiego\"\n",
    "year = 2014\n",
    "\n",
    "\n",
    "\n",
    "\n",
    "def un_normalize(x, maximum, minimum):\n",
    "    return (maximum - minimum) * x + minimum"
   ]
  },
  {
   "cell_type": "code",
   "execution_count": 4,
   "metadata": {
    "collapsed": true
   },
   "outputs": [],
   "source": [
    "def get_tensor(df, dfc):\n",
    "    start, stop = 1, 13\n",
    "    energy_cols = np.array(\n",
    "        [['%s_%d' % (appliance, month) for month in range(start, stop)] for appliance in APPLIANCES_ORDER]).flatten()\n",
    "\n",
    "    static_cols = ['area', 'total_occupants', 'num_rooms']\n",
    "    static_df = df[static_cols]\n",
    "    static_df = static_df.div(static_df.max())\n",
    "    weather_values = np.array(dds[2014][region][start - 1:stop - 1]).reshape(-1, 1)\n",
    "\n",
    "    dfc = df.copy()\n",
    "\n",
    "    df = dfc[energy_cols]\n",
    "    col_max = df.max().max()\n",
    "    col_min = df.min().min()\n",
    "    # df = (1.0 * (df - col_min)) / (col_max - col_min)\n",
    "    tensor = df.values.reshape((len(df), 7, stop - start))\n",
    "    M, N, O = tensor.shape\n",
    "    return tensor"
   ]
  },
  {
   "cell_type": "code",
   "execution_count": 5,
   "metadata": {},
   "outputs": [],
   "source": [
    "au_df, au_dfc = create_matrix_single_region(\"Austin\", year)\n",
    "au_tensor = get_tensor(au_df, au_dfc)\n",
    "static_au = au_df[['area','total_occupants','num_rooms']].copy()\n",
    "static_au['area'] = static_au['area'].div(4000)\n",
    "static_au['total_occupants'] = static_au['total_occupants'].div(8)\n",
    "static_au['num_rooms'] = static_au['num_rooms'].div(8)\n",
    "static_au = static_au.values"
   ]
  },
  {
   "cell_type": "code",
   "execution_count": 6,
   "metadata": {
    "collapsed": true
   },
   "outputs": [],
   "source": [
    "sd_df, sd_dfc = create_matrix_single_region(\"SanDiego\", year)\n",
    "sd_tensor = get_tensor(sd_df, sd_dfc)\n",
    "static_sd = sd_df[['area','total_occupants','num_rooms']].copy()\n",
    "static_sd['area'] = static_sd['area'].div(4000)\n",
    "static_sd['total_occupants'] = static_sd['total_occupants'].div(8)\n",
    "static_sd['num_rooms'] = static_sd['num_rooms'].div(8)\n",
    "static_sd = static_sd.values"
   ]
  },
  {
   "cell_type": "code",
   "execution_count": 7,
   "metadata": {
    "collapsed": true
   },
   "outputs": [],
   "source": [
    "import pickle\n",
    "\n",
    "def load_obj(name):\n",
    "    with open(os.path.expanduser('~/git/' + name + '.pkl'), 'rb') as f:\n",
    "        return pickle.load(f)"
   ]
  },
  {
   "cell_type": "code",
   "execution_count": 12,
   "metadata": {},
   "outputs": [],
   "source": [
    "pred = {}\n",
    "for method in ['normal', 'transfer']:\n",
    "    pred[method] = {}\n",
    "    for train_iter in range(500, 2100, 500):\n",
    "        pred[method][train_iter] = {}\n",
    "        for algo in ['adagrad', 'gd']:\n",
    "            pred[method][train_iter][algo] = {}\n",
    "            for static_fac in ['static', 'None']:\n",
    "                pred[method][train_iter][algo][static_fac] = {}\n",
    "                for lam in [0.01, 0.1, 0, 1]:\n",
    "                    lam = float(lam)\n",
    "                    pred[method][train_iter][algo][static_fac][lam] = {}\n",
    "                    for random_seed in range(10):\n",
    "                        pred[method][train_iter][algo][static_fac][lam][random_seed] = load_obj(\"pred_explore/pred_\" + method\n",
    "                                                                                               + \"_\" + str(train_iter)\n",
    "                                                                                               + \"_\" + algo\n",
    "                                                                                               + \"_\" + static_fac\n",
    "                                                                                               + \"_\" + str(lam)\n",
    "                                                                                                +\"_\" + str(random_seed))"
   ]
  },
  {
   "cell_type": "code",
   "execution_count": 10,
   "metadata": {},
   "outputs": [],
   "source": [
    "out_transfer = load_obj(\"out_explore/out_transfer_500_adagrad_static_0.01\")\n",
    "out_normal = load_obj(\"out_explore/out_normal_500_adagrad_static_0.01\")"
   ]
  },
  {
   "cell_type": "code",
   "execution_count": null,
   "metadata": {
    "collapsed": true
   },
   "outputs": [],
   "source": [
    "from common import compute_rmse_fraction\n",
    "out = {}\n",
    "for method in ['normal', 'transfer']:\n",
    "    out[method] = {}\n",
    "    for train_iter in range(500, 2100, 500):\n",
    "        out[method][train_iter] = {}\n",
    "        for algo in ['adagrad', 'gd']:\n",
    "            out[method][train_iter][algo] = {}\n",
    "            for static_fac in ['static', 'None']:\n",
    "                out[method][train_iter][algo][static_fac] = {}\n",
    "                for lam in [0.01, 0.1, 0, 1]:\n",
    "                    lam = float(lam)\n",
    "                    out[method][train_iter][algo][static_fac][lam] = {}\n",
    "                    for random_seed in range(10):\n",
    "                        out[method][train_iter][algo][static_fac][lam][random_seed] = {}\n",
    "                        "
   ]
  },
  {
   "cell_type": "code",
   "execution_count": null,
   "metadata": {},
   "outputs": [
    {
     "name": "stdout",
     "output_type": "stream",
     "text": [
      "normal 500 adagrad static 0.01 0 hvac\n"
     ]
    },
    {
     "name": "stderr",
     "output_type": "stream",
     "text": [
      "/Users/xox/Library/Python/2.7/lib/python/site-packages/ipykernel_launcher.py:20: DeprecationWarning: \n",
      ".ix is deprecated. Please use\n",
      ".loc for label based indexing or\n",
      ".iloc for positional indexing\n",
      "\n",
      "See the documentation here:\n",
      "http://pandas.pydata.org/pandas-docs/stable/indexing.html#ix-indexer-is-deprecated\n"
     ]
    },
    {
     "name": "stdout",
     "output_type": "stream",
     "text": [
      "normal 500 adagrad static 0.01 0 fridge\n",
      "normal 500 adagrad static 0.01 0 mw\n",
      "normal 500 adagrad static 0.01 0 dw\n",
      "normal 500 adagrad static 0.01 0 wm\n",
      "normal 500 adagrad static 0.01 0 oven\n",
      "normal 500 adagrad static 0.01 1 hvac\n",
      "normal 500 adagrad static 0.01 1 fridge\n",
      "normal 500 adagrad static 0.01 1 mw\n",
      "normal 500 adagrad static 0.01 1 dw\n",
      "normal 500 adagrad static 0.01 1 wm\n",
      "normal 500 adagrad static 0.01 1 oven\n",
      "normal 500 adagrad static 0.01 2 hvac\n",
      "normal 500 adagrad static 0.01 2 fridge\n",
      "normal 500 adagrad static 0.01 2 mw\n",
      "normal 500 adagrad static 0.01 2 dw\n",
      "normal 500 adagrad static 0.01 2 wm\n",
      "normal 500 adagrad static 0.01 2 oven\n",
      "normal 500 adagrad static 0.01 3 hvac\n",
      "normal 500 adagrad static 0.01 3 fridge\n",
      "normal 500 adagrad static 0.01 3 mw\n",
      "normal 500 adagrad static 0.01 3 dw\n",
      "normal 500 adagrad static 0.01 3 wm\n",
      "normal 500 adagrad static 0.01 3 oven\n",
      "normal 500 adagrad static 0.01 4 hvac\n",
      "normal 500 adagrad static 0.01 4 fridge\n",
      "normal 500 adagrad static 0.01 4 mw\n",
      "normal 500 adagrad static 0.01 4 dw\n",
      "normal 500 adagrad static 0.01 4 wm\n",
      "normal 500 adagrad static 0.01 4 oven\n",
      "normal 500 adagrad static 0.01 5 hvac\n",
      "normal 500 adagrad static 0.01 5 fridge\n",
      "normal 500 adagrad static 0.01 5 mw\n",
      "normal 500 adagrad static 0.01 5 dw\n",
      "normal 500 adagrad static 0.01 5 wm\n",
      "normal 500 adagrad static 0.01 5 oven\n",
      "normal 500 adagrad static 0.01 6 hvac\n",
      "normal 500 adagrad static 0.01 6 fridge\n",
      "normal 500 adagrad static 0.01 6 mw\n",
      "normal 500 adagrad static 0.01 6 dw\n",
      "normal 500 adagrad static 0.01 6 wm\n",
      "normal 500 adagrad static 0.01 6 oven\n",
      "normal 500 adagrad static 0.01 7 hvac\n",
      "normal 500 adagrad static 0.01 7 fridge\n",
      "normal 500 adagrad static 0.01 7 mw\n",
      "normal 500 adagrad static 0.01 7 dw\n",
      "normal 500 adagrad static 0.01 7 wm\n",
      "normal 500 adagrad static 0.01 7 oven\n",
      "normal 500 adagrad static 0.01 8 hvac\n",
      "normal 500 adagrad static 0.01 8 fridge\n",
      "normal 500 adagrad static 0.01 8 mw\n",
      "normal 500 adagrad static 0.01 8 dw\n",
      "normal 500 adagrad static 0.01 8 wm\n",
      "normal 500 adagrad static 0.01 8 oven\n",
      "normal 500 adagrad static 0.01 9 hvac\n",
      "normal 500 adagrad static 0.01 9 fridge\n",
      "normal 500 adagrad static 0.01 9 mw\n",
      "normal 500 adagrad static 0.01 9 dw\n",
      "normal 500 adagrad static "
     ]
    },
    {
     "name": "stderr",
     "output_type": "stream",
     "text": [
      "/Library/Python/2.7/site-packages/pandas/core/indexing.py:179: SettingWithCopyWarning: \n",
      "A value is trying to be set on a copy of a slice from a DataFrame\n",
      "\n",
      "See the caveats in the documentation: http://pandas.pydata.org/pandas-docs/stable/indexing.html#indexing-view-versus-copy\n",
      "  self._setitem_with_indexer(indexer, value)\n",
      "common.py:46: SettingWithCopyWarning: \n",
      "A value is trying to be set on a copy of a slice from a DataFrame\n",
      "\n",
      "See the caveats in the documentation: http://pandas.pydata.org/pandas-docs/stable/indexing.html#indexing-view-versus-copy\n",
      "  aggregate_df.loc[r_i, c_i] = np.NaN\n"
     ]
    },
    {
     "name": "stdout",
     "output_type": "stream",
     "text": [
      "0.01 9 wm\n",
      "normal 500 adagrad static 0.01 9 oven\n",
      "normal 500 adagrad static 0.1 0 hvac\n",
      "normal 500 adagrad static 0.1 0 fridge\n",
      "normal 500 adagrad static 0.1 0 mw\n"
     ]
    }
   ],
   "source": [
    "from common import compute_rmse_fraction\n",
    "out = {}\n",
    "for method in ['normal', 'transfer']:\n",
    "    out[method] = {}\n",
    "    for train_iter in range(500, 2100, 500):\n",
    "        out[method][train_iter] = {}\n",
    "        for algo in ['adagrad', 'gd']:\n",
    "            out[method][train_iter][algo] = {}\n",
    "            for static_fac in ['static', 'None']:\n",
    "                out[method][train_iter][algo][static_fac] = {}\n",
    "                for lam in [0.01, 0.1, 0, 1]:\n",
    "                    lam = float(lam)\n",
    "                    out[method][train_iter][algo][static_fac][lam] = {}\n",
    "                    for random_seed in range(10):\n",
    "                        out[method][train_iter][algo][static_fac][lam][random_seed] = {}\n",
    "                        for appliance in APPLIANCES_ORDER[1:]:\n",
    "                            print (method, train_iter, algo, static_fac, lam, random_seed, appliance)\n",
    "                            out[method][train_iter][algo][static_fac][lam][random_seed][appliance] = {}\n",
    "                            for f in range(10,110,10):\n",
    "                                s = pd.concat(pred[method][train_iter][algo][static_fac][lam][random_seed][appliance][f]).ix[sd_df.index]\n",
    "                                if appliance==\"hvac\":\n",
    "                                    out[method][train_iter][algo][static_fac][lam][random_seed][appliance][f] = compute_rmse_fraction(appliance,s[range(4, 10)],'SanDiego')[2]\n",
    "                                else:   \n",
    "                                    out[method][train_iter][algo][static_fac][lam][random_seed][appliance][f] = compute_rmse_fraction(appliance, s,'SanDiego')[2]"
   ]
  },
  {
   "cell_type": "code",
   "execution_count": 6,
   "metadata": {
    "collapsed": true
   },
   "outputs": [],
   "source": [
    "pred_normal = load_obj(\"pred_normal_200_adagrad_static_0.0_0\")\n",
    "pred_transfer = load_obj(\"pred_transfer_200_adagrad_static_0.0_0\")"
   ]
  }
 ],
 "metadata": {
  "kernelspec": {
   "display_name": "Python 2",
   "language": "python",
   "name": "python2"
  },
  "language_info": {
   "codemirror_mode": {
    "name": "ipython",
    "version": 2
   },
   "file_extension": ".py",
   "mimetype": "text/x-python",
   "name": "python",
   "nbconvert_exporter": "python",
   "pygments_lexer": "ipython2",
   "version": "2.7.10"
  }
 },
 "nbformat": 4,
 "nbformat_minor": 2
}
