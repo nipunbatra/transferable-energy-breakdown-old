{
 "cells": [
  {
   "cell_type": "markdown",
   "metadata": {},
   "source": [
    "# Imports"
   ]
  },
  {
   "cell_type": "code",
   "execution_count": 1,
   "metadata": {
    "collapsed": true
   },
   "outputs": [],
   "source": [
    "import matplotlib.pyplot as plt\n",
    "%matplotlib inline\n",
    "from sklearn.model_selection import KFold\n",
    "from create_matrix import *\n",
    "import os\n",
    "import sys\n",
    "from tensor_custom_core import *\n",
    "from create_matrix import *\n",
    "from tensor_custom_core import *\n",
    "from degree_days import dds\n",
    "from sklearn.model_selection import train_test_split, KFold\n",
    "from common import compute_rmse_fraction\n",
    "from common import compute_rmse\n",
    "\n",
    "appliance_index = {appliance: APPLIANCES_ORDER.index(appliance) for appliance in APPLIANCES_ORDER}\n",
    "APPLIANCES = ['fridge', 'hvac', 'wm', 'mw', 'oven', 'dw']\n",
    "year = 2014\n",
    "n_splits = 10\n",
    "case=2\n",
    "a=2\n",
    "cost='abs'"
   ]
  },
  {
   "cell_type": "code",
   "execution_count": 2,
   "metadata": {
    "collapsed": true
   },
   "outputs": [],
   "source": [
    "def un_normalize(x, maximum, minimum):\n",
    "    return (maximum - minimum) * x + minimum\n",
    "\n",
    "def get_tensor(df, dfc):\n",
    "    start, stop = 1, 13\n",
    "    energy_cols = np.array(\n",
    "        [['%s_%d' % (appliance, month) for month in range(start, stop)] for appliance in APPLIANCES_ORDER]).flatten()\n",
    "\n",
    "    static_cols = ['area', 'total_occupants', 'num_rooms']\n",
    "    static_df = df[static_cols]\n",
    "    static_df = static_df.div(static_df.max())\n",
    "    weather_values = np.array(dds[2014][region][start - 1:stop - 1]).reshape(-1, 1)\n",
    "\n",
    "    dfc = df.copy()\n",
    "\n",
    "    df = dfc[energy_cols]\n",
    "    col_max = df.max().max()\n",
    "    col_min = df.min().min()\n",
    "    # df = (1.0 * (df - col_min)) / (col_max - col_min)\n",
    "    tensor = df.values.reshape((len(df), 7, stop - start))\n",
    "    M, N, O = tensor.shape\n",
    "    return tensor"
   ]
  },
  {
   "cell_type": "code",
   "execution_count": 3,
   "metadata": {},
   "outputs": [],
   "source": [
    "region = \"SanDiego\"\n",
    "sd_df, sd_dfc = create_matrix_single_region(\"SanDiego\", year)\n",
    "sd_tensor = get_tensor(sd_df, sd_dfc)\n",
    "region = \"Austin\"\n",
    "au_df, au_dfc = create_matrix_single_region(\"Austin\", year)\n",
    "au_tensor = get_tensor(au_df, au_dfc)"
   ]
  },
  {
   "cell_type": "markdown",
   "metadata": {},
   "source": [
    "## Learn H, A, T from Austin"
   ]
  },
  {
   "cell_type": "code",
   "execution_count": 4,
   "metadata": {
    "collapsed": true
   },
   "outputs": [],
   "source": [
    "H_a, A_a, T_a = learn_HAT(case, au_tensor, a, a, num_iter=2000, lr=0.1, dis=False, cost_function=cost) "
   ]
  },
  {
   "cell_type": "markdown",
   "metadata": {},
   "source": [
    "### Transfer learning with A_au"
   ]
  },
  {
   "cell_type": "code",
   "execution_count": 96,
   "metadata": {
    "scrolled": true
   },
   "outputs": [
    {
     "name": "stdout",
     "output_type": "stream",
     "text": [
      "random seed:  0\n",
      "adapt percentage:  10\n",
      "adapt percentage:  20\n",
      "adapt percentage:  30\n",
      "adapt percentage:  40\n",
      "adapt percentage:  50\n",
      "adapt percentage:  60\n",
      "adapt percentage:  70\n",
      "adapt percentage:  80\n",
      "adapt percentage:  90\n",
      "adapt percentage:  100\n",
      "random seed:  1\n",
      "adapt percentage:  10\n",
      "adapt percentage:  20\n",
      "adapt percentage:  30\n",
      "adapt percentage:  40\n",
      "adapt percentage:  50\n",
      "adapt percentage:  60\n",
      "adapt percentage:  70\n",
      "adapt percentage:  80\n",
      "adapt percentage:  90\n",
      "adapt percentage:  100\n",
      "random seed:  2\n",
      "adapt percentage:  10\n",
      "adapt percentage:  20\n",
      "adapt percentage:  30\n",
      "adapt percentage:  40\n",
      "adapt percentage:  50\n",
      "adapt percentage:  60\n",
      "adapt percentage:  70\n",
      "adapt percentage:  80\n",
      "adapt percentage:  90\n",
      "adapt percentage:  100\n",
      "random seed:  3\n",
      "adapt percentage:  10\n",
      "adapt percentage:  20\n",
      "adapt percentage:  30\n",
      "adapt percentage:  40\n",
      "adapt percentage:  50\n",
      "adapt percentage:  60\n",
      "adapt percentage:  70\n",
      "adapt percentage:  80\n",
      "adapt percentage:  90\n",
      "adapt percentage:  100\n",
      "random seed:  4\n",
      "adapt percentage:  10\n",
      "adapt percentage:  20\n",
      "adapt percentage:  30\n",
      "adapt percentage:  40\n",
      "adapt percentage:  50\n",
      "adapt percentage:  60\n",
      "adapt percentage:  70\n",
      "adapt percentage:  80\n",
      "adapt percentage:  90\n",
      "adapt percentage:  100\n",
      "random seed:  5\n",
      "adapt percentage:  10\n",
      "adapt percentage:  20\n",
      "adapt percentage:  30\n",
      "adapt percentage:  40\n",
      "adapt percentage:  50\n",
      "adapt percentage:  60\n",
      "adapt percentage:  70\n",
      "adapt percentage:  80\n",
      "adapt percentage:  90\n",
      "adapt percentage:  100\n",
      "random seed:  6\n",
      "adapt percentage:  10\n",
      "adapt percentage:  20\n",
      "adapt percentage:  30\n",
      "adapt percentage:  40\n",
      "adapt percentage:  50\n",
      "adapt percentage:  60\n",
      "adapt percentage:  70\n",
      "adapt percentage:  80\n",
      "adapt percentage:  90\n",
      "adapt percentage:  100\n",
      "random seed:  7\n",
      "adapt percentage:  10\n",
      "adapt percentage:  20\n",
      "adapt percentage:  30\n",
      "adapt percentage:  40\n",
      "adapt percentage:  50\n",
      "adapt percentage:  60\n",
      "adapt percentage:  70\n",
      "adapt percentage:  80\n",
      "adapt percentage:  90\n",
      "adapt percentage:  100\n",
      "random seed:  8\n",
      "adapt percentage:  10\n",
      "adapt percentage:  20\n",
      "adapt percentage:  30\n",
      "adapt percentage:  40\n",
      "adapt percentage:  50\n",
      "adapt percentage:  60\n",
      "adapt percentage:  70\n",
      "adapt percentage:  80\n",
      "adapt percentage:  90\n",
      "adapt percentage:  100\n",
      "random seed:  9\n",
      "adapt percentage:  10\n",
      "adapt percentage:  20\n",
      "adapt percentage:  30\n",
      "adapt percentage:  40\n",
      "adapt percentage:  50\n",
      "adapt percentage:  60\n",
      "adapt percentage:  70\n",
      "adapt percentage:  80\n",
      "adapt percentage:  90\n",
      "adapt percentage:  100\n"
     ]
    }
   ],
   "source": [
    "from scipy.optimize import nnls\n",
    "\n",
    "pred_transfer = {}\n",
    "T_adapt = {}\n",
    "data_adapt = {}\n",
    "\n",
    "n_splits = 10\n",
    "case = 2\n",
    "a = 2\n",
    "cost = 'abs'\n",
    "\n",
    "\n",
    "for random_seed in range(10):\n",
    "    pred_transfer[random_seed] = {}\n",
    "    T_adapt[random_seed] = {}\n",
    "    data_adapt[random_seed] = {}\n",
    "    \n",
    "for random_seed in range(10):\n",
    "    print \"random seed: \", random_seed\n",
    "    for adapt_percentage in range(10, 110, 10):\n",
    "        print \"adapt percentage: \", adapt_percentage\n",
    "        T_adapt[random_seed][adapt_percentage] = {}\n",
    "        data_adapt[random_seed][adapt_percentage] = {}\n",
    "        adapt_max, test = range(35), range(35, 39)\n",
    "\n",
    "\n",
    "        num_adapt = int((adapt_percentage*len(adapt_max)/100)+0.5)\n",
    "        num_test = len(test)\n",
    "\n",
    "        # get the random training data from train_max based on then random seed\n",
    "        if adapt_percentage == 100:\n",
    "            adapt = adapt_max\n",
    "        else:\n",
    "            adapt, _ = train_test_split(adapt_max, train_size = adapt_percentage/100.0, random_state=random_seed)\n",
    "\n",
    "        # get the index of training and testing data\n",
    "        adapt_ix = sd_df.index[adapt]\n",
    "        test_ix = sd_df.index[test]\n",
    "\n",
    "        # create the tensor\n",
    "        adapt_df = sd_df.ix[adapt_ix]\n",
    "        test_df = sd_df.ix[test_ix]\n",
    "        adapt_dfc = sd_dfc.ix[adapt_ix]\n",
    "        test_dfc = sd_dfc.ix[test_ix]\n",
    "        adapt_sd_tensor = get_tensor(adapt_df, adapt_dfc)\n",
    "\n",
    "        # use the adpat data with A_au from Austion to learn T_sd_adapt\n",
    "        H_sd_adapt, A_sd_adapt, T_sd_adapt = learn_HAT(case, adapt_sd_tensor, a, a, num_iter=2000, lr=0.1, dis=False, cost_function=cost, A_known=A_a)\n",
    "\n",
    "        T_adapt[random_seed][adapt_percentage] = T_sd_adapt\n",
    "        data_adapt[random_seed][adapt_percentage] = adapt_dfc\n"
   ]
  },
  {
   "cell_type": "code",
   "execution_count": 97,
   "metadata": {},
   "outputs": [
    {
     "data": {
      "text/plain": [
       "array([[ 2.55560181,  0.        ],\n",
       "       [ 2.3786082 ,  0.        ],\n",
       "       [ 2.42427556,  0.        ],\n",
       "       [ 2.59842753,  0.00636965],\n",
       "       [ 2.28775585,  1.6538728 ],\n",
       "       [ 2.93493525,  1.03851785],\n",
       "       [ 1.59396297,  3.43130352],\n",
       "       [ 1.4980316 ,  4.02923695],\n",
       "       [ 1.3971084 ,  4.03833645],\n",
       "       [ 2.6589035 ,  1.47354344],\n",
       "       [ 2.7870765 ,  0.        ],\n",
       "       [ 3.66314713,  0.        ]])"
      ]
     },
     "execution_count": 97,
     "metadata": {},
     "output_type": "execute_result"
    }
   ],
   "source": [
    "T_adapt[0][20]"
   ]
  },
  {
   "cell_type": "code",
   "execution_count": 95,
   "metadata": {},
   "outputs": [
    {
     "data": {
      "text/plain": [
       "array([[ 2.55560181,  0.        ],\n",
       "       [ 2.3786082 ,  0.        ],\n",
       "       [ 2.42427556,  0.        ],\n",
       "       [ 2.59842753,  0.00636965],\n",
       "       [ 2.28775585,  1.6538728 ],\n",
       "       [ 2.93493525,  1.03851785],\n",
       "       [ 1.59396297,  3.43130352],\n",
       "       [ 1.4980316 ,  4.02923695],\n",
       "       [ 1.3971084 ,  4.03833645],\n",
       "       [ 2.6589035 ,  1.47354344],\n",
       "       [ 2.7870765 ,  0.        ],\n",
       "       [ 3.66314713,  0.        ]])"
      ]
     },
     "execution_count": 95,
     "metadata": {},
     "output_type": "execute_result"
    }
   ],
   "source": [
    "T_adapt[0][20][0]"
   ]
  },
  {
   "cell_type": "code",
   "execution_count": 36,
   "metadata": {},
   "outputs": [
    {
     "data": {
      "text/plain": [
       "1     409.812378\n",
       "2     359.609955\n",
       "3     348.912496\n",
       "4     333.515180\n",
       "5     429.855896\n",
       "6     366.686626\n",
       "7     530.478208\n",
       "8     581.806200\n",
       "9     594.883702\n",
       "10    446.776513\n",
       "11    340.709305\n",
       "12    396.420473\n",
       "dtype: float64"
      ]
     },
     "execution_count": 36,
     "metadata": {},
     "output_type": "execute_result"
    }
   ],
   "source": [
    "d.mean(axis=1)"
   ]
  },
  {
   "cell_type": "code",
   "execution_count": 39,
   "metadata": {},
   "outputs": [
    {
     "name": "stdout",
     "output_type": "stream",
     "text": [
      "\n",
      "[MoviePy] Building file matplotlib.gif with imageio\n"
     ]
    },
    {
     "name": "stderr",
     "output_type": "stream",
     "text": [
      " 98%|█████████▊| 60/61 [00:05<00:00, 10.06it/s]\n"
     ]
    },
    {
     "data": {
      "image/png": "[encoded data removed]",
      "text/plain": [
       "<matplotlib.figure.Figure at 0x114e5fa90>"
      ]
     },
     "metadata": {},
     "output_type": "display_data"
    }
   ],
   "source": [
    "from moviepy.editor import VideoClip\n",
    "from moviepy.video.io.bindings import mplfig_to_npimage\n",
    "\n",
    "x = np.linspace(-2, 2, 200)\n",
    "\n",
    "duration = 2\n",
    "\n",
    "fig, ax = plt.subplots()\n",
    "def make_frame(t):\n",
    "    ax.clear()\n",
    "    ax.plot(x, np.sinc(x**2) + np.sin(x + 2*np.pi/duration * t), lw=3)\n",
    "    ax.set_ylim(-1.5, 2.5)\n",
    "    return mplfig_to_npimage(fig)\n",
    "\n",
    "animation = VideoClip(make_frame, duration=duration)\n",
    "animation.write_gif('matplotlib.gif', fps=30)"
   ]
  },
  {
   "cell_type": "code",
   "execution_count": 59,
   "metadata": {},
   "outputs": [
    {
     "data": {
      "image/png": "[encoded data removed]",
      "text/plain": [
       "<matplotlib.figure.Figure at 0x1141b12d0>"
      ]
     },
     "metadata": {},
     "output_type": "display_data"
    }
   ],
   "source": [
    "test_set_num = 3\n",
    "train_percentage = 20\n",
    "fig, ax = plt.subplots(nrows=2, ncols = 2, sharex=True, sharey=True)\n",
    "duration = 10\n",
    "\n",
    "#animation = VideoClip(make_frame, duration=duration)\n",
    "#animation.write_gif('matplotlib.gif', fps=1) "
   ]
  },
  {
   "cell_type": "code",
   "execution_count": 60,
   "metadata": {},
   "outputs": [
    {
     "name": "stdout",
     "output_type": "stream",
     "text": [
      "[<matplotlib.axes._subplots.AxesSubplot object at 0x1130bdd90>\n",
      " <matplotlib.axes._subplots.AxesSubplot object at 0x1127f76d0>]\n",
      "[<matplotlib.axes._subplots.AxesSubplot object at 0x1103c8c10>\n",
      " <matplotlib.axes._subplots.AxesSubplot object at 0x114e58e90>]\n"
     ]
    }
   ],
   "source": [
    "for a in ax:\n",
    "    print a"
   ]
  },
  {
   "cell_type": "code",
   "execution_count": 151,
   "metadata": {},
   "outputs": [
    {
     "data": {
      "image/png": "[encoded data removed]",
      "text/plain": [
       "<matplotlib.figure.Figure at 0x1595603d0>"
      ]
     },
     "metadata": {},
     "output_type": "display_data"
    }
   ],
   "source": [
    "from matplotlib.animation import FuncAnimation\n",
    "\n",
    "fig, ax = plt.subplots(figsize=(8, 3), nrows=2, sharex=True,  ncols=4)\n",
    "fig.subplots_adjust(top=0.8, right=0.8, bottom=0.2)\n",
    "#fig.subplots_adjust(bottom=0.85)  \n",
    "\n",
    "import matplotlib.lines as mlines\n",
    "green_line = mlines.Line2D([], [], color='green', markersize=15, label='Lat #0')\n",
    "\n",
    "blue_line = mlines.Line2D([], [], color='blue', markersize=15, label='Lat #1')\n",
    "lgd = ax[0, 3].legend(bbox_to_anchor=(2,0), loc=\"center right\",handles=[green_line, blue_line],ncol=1)\n",
    "\n",
    "from plot_functions import *\n",
    "def make_frame(random_seed):\n",
    "    for a in ax:\n",
    "        for b in a:\n",
    "            b.clear()\n",
    "    st = plt.suptitle(\"Random seed = %d\\n\" %random_seed, fontsize=14)\n",
    "    st.set_y(0.95)\n",
    "    for i, train_percentage in enumerate([10, 20, 50, 100]):\n",
    "        \n",
    "        t = pd.DataFrame(T_adapt[random_seed][train_percentage])\n",
    "        t.index = range(1, 13)\n",
    "        t.plot(ax=ax[0, i], legend=False)\n",
    "        \n",
    "        d = data_adapt[random_seed][train_percentage][['aggregate_%d' %month for month in range(1, 13)]].T\n",
    "        d.index = range(1, 13)\n",
    "        d.plot(color='k', alpha=0.4, legend=False, ax=ax[1, i], linewidth=0.6)\n",
    "        d.mean(axis=1).plot(color='k', linewidth=2, ax=ax[1, i])\n",
    "        ax[1, i].set_xlabel(\"Months\")\n",
    "        ax[0, i].set_title(\"Train per.= %d\" %train_percentage)\n",
    "        ax[0, i].set_ylim((0, 6))\n",
    "        ax[1, i].set_ylim((0, 1200))\n",
    "        if i>0:\n",
    "            ax[1, i].yaxis.set_ticklabels([])\n",
    "            ax[0, i].yaxis.set_ticklabels([])\n",
    "    \n",
    "    \n",
    "    ax[0, 0].set_ylabel(\"Latent factor\")\n",
    "    ax[1, 0].set_ylabel(\"Agg. energy\")\n",
    "    for a in ax:\n",
    "        for b in a:\n",
    "            format_axes(b)\n",
    "    \n",
    "    green_line = mlines.Line2D([], [], color='green', markersize=15, label='Season\\nLat #0')\n",
    "    blue_line = mlines.Line2D([], [], color='blue', markersize=15, label='Season\\nLat #1')\n",
    "    light_black_line = mlines.Line2D([], [], color='black',alpha=.4, linewidth=0.6, markersize=15, label='Train\\n Homes')\n",
    "    dark_black_line = mlines.Line2D([], [], color='black',alpha=1, linewidth=2, markersize=15, label='Train\\n Homes\\nMean')\n",
    "    lgd = ax[0, 3].legend(bbox_to_anchor=(2.25,0), loc=\"center right\",handles=[green_line, blue_line, light_black_line, dark_black_line],ncol=1)\n",
    "    \n",
    "    #fig.tight_layout()\n",
    "    return mplfig_to_npimage(fig)\n",
    "\n",
    "\n",
    "\n",
    "anim = FuncAnimation(fig, make_frame, frames=range(10), interval=500)\n",
    "anim.save('season.gif', dpi=80, writer='imagemagick')\n",
    "\n",
    "\n",
    "#plt.close()"
   ]
  },
  {
   "cell_type": "code",
   "execution_count": 59,
   "metadata": {},
   "outputs": [
    {
     "data": {
      "text/plain": [
       "array([[ 2.3256582 ,  0.15612203],\n",
       "       [ 2.24171955,  0.16532875],\n",
       "       [ 2.21774683,  0.18804444],\n",
       "       [ 2.4790195 ,  0.28534673],\n",
       "       [ 2.3906688 ,  1.73778479],\n",
       "       [ 2.59325903,  1.64470658],\n",
       "       [ 1.54807911,  3.03709477],\n",
       "       [ 1.71880663,  3.92907553],\n",
       "       [ 1.89304722,  3.74757453],\n",
       "       [ 1.99034373,  2.17798406],\n",
       "       [ 2.43554863,  0.4722404 ],\n",
       "       [ 2.39295005,  1.43008103]])"
      ]
     },
     "execution_count": 59,
     "metadata": {},
     "output_type": "execute_result"
    }
   ],
   "source": [
    "T = T_adapt[0][10][0]\n",
    "for i in range(1, 10):\n",
    "    T = T + T_adapt[0][10][i]\n",
    "T = T/10\n",
    "T"
   ]
  },
  {
   "cell_type": "code",
   "execution_count": 61,
   "metadata": {},
   "outputs": [],
   "source": [
    "# T = []*10\n",
    "T = []\n",
    "for per in range(10, 110, 10):\n",
    "    T_temp = 0\n",
    "    for random_seed in range(10):\n",
    "        for rd in range(10):\n",
    "            T_temp += T_adapt[random_seed][per][rd]\n",
    "    T_temp = T_temp/100\n",
    "    T.append(T_temp)"
   ]
  },
  {
   "cell_type": "code",
   "execution_count": 62,
   "metadata": {
    "scrolled": true
   },
   "outputs": [
    {
     "data": {
      "text/plain": [
       "[array([[ 1.61771461,  0.52649496],\n",
       "        [ 1.68673765,  0.27279607],\n",
       "        [ 1.96674336,  0.29577973],\n",
       "        [ 2.08610375,  0.30296573],\n",
       "        [ 2.0437184 ,  1.46274934],\n",
       "        [ 2.38453801,  1.18419735],\n",
       "        [ 1.60532218,  3.04960861],\n",
       "        [ 1.53446995,  3.60641611],\n",
       "        [ 1.3068633 ,  3.92283305],\n",
       "        [ 2.07104692,  1.48303168],\n",
       "        [ 1.85194297,  0.60632761],\n",
       "        [ 2.44046892,  0.53728986]]), array([[ 2.85344875,  0.10620636],\n",
       "        [ 2.54407143,  0.03961271],\n",
       "        [ 2.71020277,  0.0848024 ],\n",
       "        [ 2.77601243,  0.19943672],\n",
       "        [ 2.3410592 ,  1.7107016 ],\n",
       "        [ 2.53840508,  1.22228727],\n",
       "        [ 1.74841137,  3.35164787],\n",
       "        [ 1.67950636,  3.85348219],\n",
       "        [ 1.57720409,  4.33561934],\n",
       "        [ 2.3281962 ,  1.86229134],\n",
       "        [ 2.63498756,  0.36906069],\n",
       "        [ 3.25735553,  0.32021053]]), array([[ 3.2573924 ,  0.08817564],\n",
       "        [ 2.87505526,  0.0475715 ],\n",
       "        [ 3.08949488,  0.07600497],\n",
       "        [ 3.13108191,  0.26711566],\n",
       "        [ 2.63857873,  1.95873934],\n",
       "        [ 2.82846508,  1.42160984],\n",
       "        [ 2.09621393,  3.66084213],\n",
       "        [ 2.02182473,  4.11749479],\n",
       "        [ 2.13503467,  4.45291115],\n",
       "        [ 2.86588258,  1.79124958],\n",
       "        [ 3.22818915,  0.18123813],\n",
       "        [ 3.79829161,  0.20004711]]), array([[ 3.7855355 ,  0.0448171 ],\n",
       "        [ 3.31037942,  0.0206569 ],\n",
       "        [ 3.58504771,  0.06075712],\n",
       "        [ 3.70869617,  0.27372187],\n",
       "        [ 3.05344177,  2.01054429],\n",
       "        [ 3.28894008,  1.39402917],\n",
       "        [ 2.58713168,  3.54530636],\n",
       "        [ 2.52459489,  3.9936713 ],\n",
       "        [ 2.78407244,  4.2901433 ],\n",
       "        [ 3.48869351,  1.6731874 ],\n",
       "        [ 3.77856379,  0.11654717],\n",
       "        [ 4.40373055,  0.1412263 ]]), array([[ 4.12773949,  0.04840584],\n",
       "        [ 3.62788523,  0.01510972],\n",
       "        [ 3.94645176,  0.05065649],\n",
       "        [ 4.06114994,  0.31980832],\n",
       "        [ 3.37521558,  2.04243857],\n",
       "        [ 3.68204528,  1.36630165],\n",
       "        [ 2.99187513,  3.45484189],\n",
       "        [ 2.89960656,  3.9136603 ],\n",
       "        [ 3.20686721,  4.19638321],\n",
       "        [ 3.88641811,  1.60292759],\n",
       "        [ 4.14440602,  0.09776207],\n",
       "        [ 4.84208216,  0.0929976 ]]), array([[  4.39685772e+00,   3.08043362e-02],\n",
       "        [  3.90791256e+00,   2.71500233e-03],\n",
       "        [  4.27229248e+00,   2.51011513e-02],\n",
       "        [  4.39773161e+00,   2.95582224e-01],\n",
       "        [  3.77783138e+00,   2.03549697e+00],\n",
       "        [  4.14380174e+00,   1.36157911e+00],\n",
       "        [  3.39723268e+00,   3.43145297e+00],\n",
       "        [  3.26325630e+00,   3.99269891e+00],\n",
       "        [  3.53814964e+00,   4.31261619e+00],\n",
       "        [  4.28276428e+00,   1.66306156e+00],\n",
       "        [  4.56984926e+00,   7.56261995e-02],\n",
       "        [  5.33471757e+00,   7.40463757e-02]]), array([[  4.63729254e+00,   2.74908577e-02],\n",
       "        [  4.10768347e+00,   4.10282405e-04],\n",
       "        [  4.51760522e+00,   1.74871658e-02],\n",
       "        [  4.65773998e+00,   3.12465121e-01],\n",
       "        [  3.91523247e+00,   2.14079254e+00],\n",
       "        [  4.33369518e+00,   1.37941863e+00],\n",
       "        [  3.49879331e+00,   3.55234524e+00],\n",
       "        [  3.36722448e+00,   4.11355994e+00],\n",
       "        [  3.70565215e+00,   4.40312769e+00],\n",
       "        [  4.51871084e+00,   1.68461453e+00],\n",
       "        [  4.82243250e+00,   5.08410426e-02],\n",
       "        [  5.57521153e+00,   5.90575486e-02]]), array([[ 4.9457277 ,  0.00841535],\n",
       "        [ 4.32125582,  0.        ],\n",
       "        [ 4.77334566,  0.01095196],\n",
       "        [ 4.83556429,  0.32605829],\n",
       "        [ 4.08597134,  2.22079597],\n",
       "        [ 4.42130902,  1.47167405],\n",
       "        [ 3.64385348,  3.71426497],\n",
       "        [ 3.5151139 ,  4.27657991],\n",
       "        [ 3.88308192,  4.56634515],\n",
       "        [ 4.71119446,  1.68814321],\n",
       "        [ 5.03351693,  0.02141719],\n",
       "        [ 5.81503259,  0.0279928 ]]), array([[  5.05185063e+00,   2.60731453e-03],\n",
       "        [  4.40629494e+00,   0.00000000e+00],\n",
       "        [  4.86900742e+00,   2.29071431e-03],\n",
       "        [  4.91355191e+00,   3.14042288e-01],\n",
       "        [  4.18683702e+00,   2.23939509e+00],\n",
       "        [  4.50943215e+00,   1.48401556e+00],\n",
       "        [  3.72819105e+00,   3.77710657e+00],\n",
       "        [  3.60427183e+00,   4.36193651e+00],\n",
       "        [  3.95108047e+00,   4.67012496e+00],\n",
       "        [  4.87193263e+00,   1.73732017e+00],\n",
       "        [  5.19909043e+00,   1.29984156e-02],\n",
       "        [  5.93255506e+00,   2.73102888e-02]]), array([[  5.09707005e+00,   0.00000000e+00],\n",
       "        [  4.47299269e+00,   0.00000000e+00],\n",
       "        [  4.93650981e+00,   0.00000000e+00],\n",
       "        [  4.96827600e+00,   3.07655114e-01],\n",
       "        [  4.25715187e+00,   2.31139932e+00],\n",
       "        [  4.61391489e+00,   1.53093488e+00],\n",
       "        [  3.75183770e+00,   3.94395596e+00],\n",
       "        [  3.60727469e+00,   4.59038121e+00],\n",
       "        [  3.92418678e+00,   4.91153132e+00],\n",
       "        [  4.94290660e+00,   1.82562465e+00],\n",
       "        [  5.28034134e+00,   2.85656808e-03],\n",
       "        [  6.06642408e+00,   1.72335277e-02]])]"
      ]
     },
     "execution_count": 62,
     "metadata": {},
     "output_type": "execute_result"
    }
   ],
   "source": [
    "T"
   ]
  },
  {
   "cell_type": "code",
   "execution_count": 63,
   "metadata": {},
   "outputs": [],
   "source": [
    "k = T[0].reshape(1, 24)\n",
    "for i in range(1, 10):\n",
    "    k = np.r_[k, T[i].reshape(1,24)]\n",
    "df_T = pd.DataFrame(k)"
   ]
  },
  {
   "cell_type": "code",
   "execution_count": 64,
   "metadata": {},
   "outputs": [
    {
     "data": {
      "text/html": [
       "<div>\n",
       "<table border=\"1\" class=\"dataframe\">\n",
       "  <thead>\n",
       "    <tr style=\"text-align: right;\">\n",
       "      <th></th>\n",
       "      <th>0</th>\n",
       "      <th>1</th>\n",
       "      <th>2</th>\n",
       "      <th>3</th>\n",
       "      <th>4</th>\n",
       "      <th>5</th>\n",
       "      <th>6</th>\n",
       "      <th>7</th>\n",
       "      <th>8</th>\n",
       "      <th>9</th>\n",
       "      <th>...</th>\n",
       "      <th>14</th>\n",
       "      <th>15</th>\n",
       "      <th>16</th>\n",
       "      <th>17</th>\n",
       "      <th>18</th>\n",
       "      <th>19</th>\n",
       "      <th>20</th>\n",
       "      <th>21</th>\n",
       "      <th>22</th>\n",
       "      <th>23</th>\n",
       "    </tr>\n",
       "  </thead>\n",
       "  <tbody>\n",
       "    <tr>\n",
       "      <th>0</th>\n",
       "      <td>1.617715</td>\n",
       "      <td>0.526495</td>\n",
       "      <td>1.686738</td>\n",
       "      <td>0.272796</td>\n",
       "      <td>1.966743</td>\n",
       "      <td>0.295780</td>\n",
       "      <td>2.086104</td>\n",
       "      <td>0.302966</td>\n",
       "      <td>2.043718</td>\n",
       "      <td>1.462749</td>\n",
       "      <td>...</td>\n",
       "      <td>1.534470</td>\n",
       "      <td>3.606416</td>\n",
       "      <td>1.306863</td>\n",
       "      <td>3.922833</td>\n",
       "      <td>2.071047</td>\n",
       "      <td>1.483032</td>\n",
       "      <td>1.851943</td>\n",
       "      <td>0.606328</td>\n",
       "      <td>2.440469</td>\n",
       "      <td>0.537290</td>\n",
       "    </tr>\n",
       "    <tr>\n",
       "      <th>1</th>\n",
       "      <td>2.853449</td>\n",
       "      <td>0.106206</td>\n",
       "      <td>2.544071</td>\n",
       "      <td>0.039613</td>\n",
       "      <td>2.710203</td>\n",
       "      <td>0.084802</td>\n",
       "      <td>2.776012</td>\n",
       "      <td>0.199437</td>\n",
       "      <td>2.341059</td>\n",
       "      <td>1.710702</td>\n",
       "      <td>...</td>\n",
       "      <td>1.679506</td>\n",
       "      <td>3.853482</td>\n",
       "      <td>1.577204</td>\n",
       "      <td>4.335619</td>\n",
       "      <td>2.328196</td>\n",
       "      <td>1.862291</td>\n",
       "      <td>2.634988</td>\n",
       "      <td>0.369061</td>\n",
       "      <td>3.257356</td>\n",
       "      <td>0.320211</td>\n",
       "    </tr>\n",
       "    <tr>\n",
       "      <th>2</th>\n",
       "      <td>3.257392</td>\n",
       "      <td>0.088176</td>\n",
       "      <td>2.875055</td>\n",
       "      <td>0.047571</td>\n",
       "      <td>3.089495</td>\n",
       "      <td>0.076005</td>\n",
       "      <td>3.131082</td>\n",
       "      <td>0.267116</td>\n",
       "      <td>2.638579</td>\n",
       "      <td>1.958739</td>\n",
       "      <td>...</td>\n",
       "      <td>2.021825</td>\n",
       "      <td>4.117495</td>\n",
       "      <td>2.135035</td>\n",
       "      <td>4.452911</td>\n",
       "      <td>2.865883</td>\n",
       "      <td>1.791250</td>\n",
       "      <td>3.228189</td>\n",
       "      <td>0.181238</td>\n",
       "      <td>3.798292</td>\n",
       "      <td>0.200047</td>\n",
       "    </tr>\n",
       "    <tr>\n",
       "      <th>3</th>\n",
       "      <td>3.785535</td>\n",
       "      <td>0.044817</td>\n",
       "      <td>3.310379</td>\n",
       "      <td>0.020657</td>\n",
       "      <td>3.585048</td>\n",
       "      <td>0.060757</td>\n",
       "      <td>3.708696</td>\n",
       "      <td>0.273722</td>\n",
       "      <td>3.053442</td>\n",
       "      <td>2.010544</td>\n",
       "      <td>...</td>\n",
       "      <td>2.524595</td>\n",
       "      <td>3.993671</td>\n",
       "      <td>2.784072</td>\n",
       "      <td>4.290143</td>\n",
       "      <td>3.488694</td>\n",
       "      <td>1.673187</td>\n",
       "      <td>3.778564</td>\n",
       "      <td>0.116547</td>\n",
       "      <td>4.403731</td>\n",
       "      <td>0.141226</td>\n",
       "    </tr>\n",
       "    <tr>\n",
       "      <th>4</th>\n",
       "      <td>4.127739</td>\n",
       "      <td>0.048406</td>\n",
       "      <td>3.627885</td>\n",
       "      <td>0.015110</td>\n",
       "      <td>3.946452</td>\n",
       "      <td>0.050656</td>\n",
       "      <td>4.061150</td>\n",
       "      <td>0.319808</td>\n",
       "      <td>3.375216</td>\n",
       "      <td>2.042439</td>\n",
       "      <td>...</td>\n",
       "      <td>2.899607</td>\n",
       "      <td>3.913660</td>\n",
       "      <td>3.206867</td>\n",
       "      <td>4.196383</td>\n",
       "      <td>3.886418</td>\n",
       "      <td>1.602928</td>\n",
       "      <td>4.144406</td>\n",
       "      <td>0.097762</td>\n",
       "      <td>4.842082</td>\n",
       "      <td>0.092998</td>\n",
       "    </tr>\n",
       "    <tr>\n",
       "      <th>5</th>\n",
       "      <td>4.396858</td>\n",
       "      <td>0.030804</td>\n",
       "      <td>3.907913</td>\n",
       "      <td>0.002715</td>\n",
       "      <td>4.272292</td>\n",
       "      <td>0.025101</td>\n",
       "      <td>4.397732</td>\n",
       "      <td>0.295582</td>\n",
       "      <td>3.777831</td>\n",
       "      <td>2.035497</td>\n",
       "      <td>...</td>\n",
       "      <td>3.263256</td>\n",
       "      <td>3.992699</td>\n",
       "      <td>3.538150</td>\n",
       "      <td>4.312616</td>\n",
       "      <td>4.282764</td>\n",
       "      <td>1.663062</td>\n",
       "      <td>4.569849</td>\n",
       "      <td>0.075626</td>\n",
       "      <td>5.334718</td>\n",
       "      <td>0.074046</td>\n",
       "    </tr>\n",
       "    <tr>\n",
       "      <th>6</th>\n",
       "      <td>4.637293</td>\n",
       "      <td>0.027491</td>\n",
       "      <td>4.107683</td>\n",
       "      <td>0.000410</td>\n",
       "      <td>4.517605</td>\n",
       "      <td>0.017487</td>\n",
       "      <td>4.657740</td>\n",
       "      <td>0.312465</td>\n",
       "      <td>3.915232</td>\n",
       "      <td>2.140793</td>\n",
       "      <td>...</td>\n",
       "      <td>3.367224</td>\n",
       "      <td>4.113560</td>\n",
       "      <td>3.705652</td>\n",
       "      <td>4.403128</td>\n",
       "      <td>4.518711</td>\n",
       "      <td>1.684615</td>\n",
       "      <td>4.822433</td>\n",
       "      <td>0.050841</td>\n",
       "      <td>5.575212</td>\n",
       "      <td>0.059058</td>\n",
       "    </tr>\n",
       "    <tr>\n",
       "      <th>7</th>\n",
       "      <td>4.945728</td>\n",
       "      <td>0.008415</td>\n",
       "      <td>4.321256</td>\n",
       "      <td>0.000000</td>\n",
       "      <td>4.773346</td>\n",
       "      <td>0.010952</td>\n",
       "      <td>4.835564</td>\n",
       "      <td>0.326058</td>\n",
       "      <td>4.085971</td>\n",
       "      <td>2.220796</td>\n",
       "      <td>...</td>\n",
       "      <td>3.515114</td>\n",
       "      <td>4.276580</td>\n",
       "      <td>3.883082</td>\n",
       "      <td>4.566345</td>\n",
       "      <td>4.711194</td>\n",
       "      <td>1.688143</td>\n",
       "      <td>5.033517</td>\n",
       "      <td>0.021417</td>\n",
       "      <td>5.815033</td>\n",
       "      <td>0.027993</td>\n",
       "    </tr>\n",
       "    <tr>\n",
       "      <th>8</th>\n",
       "      <td>5.051851</td>\n",
       "      <td>0.002607</td>\n",
       "      <td>4.406295</td>\n",
       "      <td>0.000000</td>\n",
       "      <td>4.869007</td>\n",
       "      <td>0.002291</td>\n",
       "      <td>4.913552</td>\n",
       "      <td>0.314042</td>\n",
       "      <td>4.186837</td>\n",
       "      <td>2.239395</td>\n",
       "      <td>...</td>\n",
       "      <td>3.604272</td>\n",
       "      <td>4.361937</td>\n",
       "      <td>3.951080</td>\n",
       "      <td>4.670125</td>\n",
       "      <td>4.871933</td>\n",
       "      <td>1.737320</td>\n",
       "      <td>5.199090</td>\n",
       "      <td>0.012998</td>\n",
       "      <td>5.932555</td>\n",
       "      <td>0.027310</td>\n",
       "    </tr>\n",
       "    <tr>\n",
       "      <th>9</th>\n",
       "      <td>5.097070</td>\n",
       "      <td>0.000000</td>\n",
       "      <td>4.472993</td>\n",
       "      <td>0.000000</td>\n",
       "      <td>4.936510</td>\n",
       "      <td>0.000000</td>\n",
       "      <td>4.968276</td>\n",
       "      <td>0.307655</td>\n",
       "      <td>4.257152</td>\n",
       "      <td>2.311399</td>\n",
       "      <td>...</td>\n",
       "      <td>3.607275</td>\n",
       "      <td>4.590381</td>\n",
       "      <td>3.924187</td>\n",
       "      <td>4.911531</td>\n",
       "      <td>4.942907</td>\n",
       "      <td>1.825625</td>\n",
       "      <td>5.280341</td>\n",
       "      <td>0.002857</td>\n",
       "      <td>6.066424</td>\n",
       "      <td>0.017234</td>\n",
       "    </tr>\n",
       "  </tbody>\n",
       "</table>\n",
       "<p>10 rows × 24 columns</p>\n",
       "</div>"
      ],
      "text/plain": [
       "         0         1         2         3         4         5         6   \\\n",
       "0  1.617715  0.526495  1.686738  0.272796  1.966743  0.295780  2.086104   \n",
       "1  2.853449  0.106206  2.544071  0.039613  2.710203  0.084802  2.776012   \n",
       "2  3.257392  0.088176  2.875055  0.047571  3.089495  0.076005  3.131082   \n",
       "3  3.785535  0.044817  3.310379  0.020657  3.585048  0.060757  3.708696   \n",
       "4  4.127739  0.048406  3.627885  0.015110  3.946452  0.050656  4.061150   \n",
       "5  4.396858  0.030804  3.907913  0.002715  4.272292  0.025101  4.397732   \n",
       "6  4.637293  0.027491  4.107683  0.000410  4.517605  0.017487  4.657740   \n",
       "7  4.945728  0.008415  4.321256  0.000000  4.773346  0.010952  4.835564   \n",
       "8  5.051851  0.002607  4.406295  0.000000  4.869007  0.002291  4.913552   \n",
       "9  5.097070  0.000000  4.472993  0.000000  4.936510  0.000000  4.968276   \n",
       "\n",
       "         7         8         9     ...           14        15        16  \\\n",
       "0  0.302966  2.043718  1.462749    ...     1.534470  3.606416  1.306863   \n",
       "1  0.199437  2.341059  1.710702    ...     1.679506  3.853482  1.577204   \n",
       "2  0.267116  2.638579  1.958739    ...     2.021825  4.117495  2.135035   \n",
       "3  0.273722  3.053442  2.010544    ...     2.524595  3.993671  2.784072   \n",
       "4  0.319808  3.375216  2.042439    ...     2.899607  3.913660  3.206867   \n",
       "5  0.295582  3.777831  2.035497    ...     3.263256  3.992699  3.538150   \n",
       "6  0.312465  3.915232  2.140793    ...     3.367224  4.113560  3.705652   \n",
       "7  0.326058  4.085971  2.220796    ...     3.515114  4.276580  3.883082   \n",
       "8  0.314042  4.186837  2.239395    ...     3.604272  4.361937  3.951080   \n",
       "9  0.307655  4.257152  2.311399    ...     3.607275  4.590381  3.924187   \n",
       "\n",
       "         17        18        19        20        21        22        23  \n",
       "0  3.922833  2.071047  1.483032  1.851943  0.606328  2.440469  0.537290  \n",
       "1  4.335619  2.328196  1.862291  2.634988  0.369061  3.257356  0.320211  \n",
       "2  4.452911  2.865883  1.791250  3.228189  0.181238  3.798292  0.200047  \n",
       "3  4.290143  3.488694  1.673187  3.778564  0.116547  4.403731  0.141226  \n",
       "4  4.196383  3.886418  1.602928  4.144406  0.097762  4.842082  0.092998  \n",
       "5  4.312616  4.282764  1.663062  4.569849  0.075626  5.334718  0.074046  \n",
       "6  4.403128  4.518711  1.684615  4.822433  0.050841  5.575212  0.059058  \n",
       "7  4.566345  4.711194  1.688143  5.033517  0.021417  5.815033  0.027993  \n",
       "8  4.670125  4.871933  1.737320  5.199090  0.012998  5.932555  0.027310  \n",
       "9  4.911531  4.942907  1.825625  5.280341  0.002857  6.066424  0.017234  \n",
       "\n",
       "[10 rows x 24 columns]"
      ]
     },
     "execution_count": 64,
     "metadata": {},
     "output_type": "execute_result"
    }
   ],
   "source": [
    "df_T"
   ]
  },
  {
   "cell_type": "code",
   "execution_count": 143,
   "metadata": {},
   "outputs": [],
   "source": [
    "index=1\n",
    "y_1 = df_T.loc[index:10].iloc[:, [0,2,4,6,8,10,12,14,16,18,20,22]]\n",
    "y_2 = df_T.loc[index:10].iloc[:, [1,3,5,7,9,11,13,15,17,19,21,23]]"
   ]
  },
  {
   "cell_type": "code",
   "execution_count": 144,
   "metadata": {
    "collapsed": true
   },
   "outputs": [],
   "source": [
    "y_mean_1 = y_1.mean().values\n",
    "y_mean_2 = y_2.mean().values\n",
    "y_std_1 = y_1.std().values\n",
    "y_std_2 = y_2.std().values"
   ]
  },
  {
   "cell_type": "code",
   "execution_count": 145,
   "metadata": {},
   "outputs": [],
   "source": [
    "x_idx = [1,2,3,4,5,6,7,8,9,10,11,12]"
   ]
  },
  {
   "cell_type": "code",
   "execution_count": 147,
   "metadata": {
    "scrolled": false
   },
   "outputs": [
    {
     "data": {
      "text/plain": [
       "<matplotlib.text.Text at 0x10f08f050>"
      ]
     },
     "execution_count": 147,
     "metadata": {},
     "output_type": "execute_result"
    },
    {
     "data": {
      "image/png": "[encoded data removed]",
      "text/plain": [
       "<matplotlib.figure.Figure at 0x10e9f2990>"
      ]
     },
     "metadata": {},
     "output_type": "display_data"
    }
   ],
   "source": [
    "plt.figure(figsize=(15, 5))\n",
    "plt.errorbar(x_idx, y_mean_1, yerr = y_std_1,  linestyle='--', fmt='^', ecolor='r', capthick=2)\n",
    "plt.errorbar(x_idx, y_mean_2, yerr = y_std_2,  linestyle='--', fmt='^', ecolor='r', capthick=2)\n",
    "plt.xticks(x_idx)\n",
    "plt.title(\"mean and std for Seasonal factors learnt from 20% to 100%\")"
   ]
  },
  {
   "cell_type": "code",
   "execution_count": 69,
   "metadata": {},
   "outputs": [
    {
     "data": {
      "text/plain": [
       "<matplotlib.text.Text at 0x10cced2d0>"
      ]
     },
     "execution_count": 69,
     "metadata": {},
     "output_type": "execute_result"
    },
    {
     "data": {
      "image/png": "[encoded data removed]",
      "text/plain": [
       "<matplotlib.figure.Figure at 0x10c2aa7d0>"
      ]
     },
     "metadata": {},
     "output_type": "display_data"
    }
   ],
   "source": [
    "df_T.loc[[1, 4, 9]].T.rename(columns={1: \"20%\", 4:\"50%\", 9:\"100%\"}).plot(kind='bar', color=['r', 'y', 'b'], figsize=(10, 5))\n",
    "# plt.legend([index, 9], ['20%', '100%'])\n",
    "plt.title(\"mean for S learnt by 20%, 50%, 100% of adapt data\")\n",
    "\n"
   ]
  },
  {
   "cell_type": "code",
   "execution_count": null,
   "metadata": {
    "collapsed": true
   },
   "outputs": [],
   "source": []
  }
 ],
 "metadata": {
  "kernelspec": {
   "display_name": "Python 2",
   "language": "python",
   "name": "python2"
  },
  "language_info": {
   "codemirror_mode": {
    "name": "ipython",
    "version": 2
   },
   "file_extension": ".py",
   "mimetype": "text/x-python",
   "name": "python",
   "nbconvert_exporter": "python",
   "pygments_lexer": "ipython2",
   "version": "2.7.11"
  }
 },
 "nbformat": 4,
 "nbformat_minor": 2
}
