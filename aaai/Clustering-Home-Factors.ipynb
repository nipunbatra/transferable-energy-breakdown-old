{
 "cells": [
  {
   "cell_type": "code",
   "execution_count": 15,
   "metadata": {
    "collapsed": true
   },
   "outputs": [],
   "source": [
    "import matplotlib.pyplot as plt\n",
    "%matplotlib inline\n",
    "from plot_functions import *\n",
    "from sklearn.model_selection import KFold\n",
    "from sklearn.metrics import accuracy_score"
   ]
  },
  {
   "cell_type": "code",
   "execution_count": 16,
   "metadata": {
    "collapsed": true
   },
   "outputs": [],
   "source": [
    "from create_matrix import *\n",
    "\n",
    "from tensor_custom_core import *\n",
    "from create_matrix import *\n",
    "from tensor_custom_core import *\n",
    "from degree_days import dds\n",
    "appliance_index = {appliance: APPLIANCES_ORDER.index(appliance) for appliance in APPLIANCES_ORDER}\n",
    "\n",
    "APPLIANCES = ['fridge', 'hvac', 'wm', 'mw', 'oven', 'dw']\n",
    "region = \"SanDiego\"\n",
    "year = 2014\n",
    "\n",
    "import os\n",
    "\n",
    "\n",
    "def un_normalize(x, maximum, minimum):\n",
    "    return (maximum - minimum) * x + minimum"
   ]
  },
  {
   "cell_type": "code",
   "execution_count": 17,
   "metadata": {
    "collapsed": true
   },
   "outputs": [],
   "source": [
    "n_splits = 10\n",
    "import sys\n",
    "case=2\n",
    "a=2\n",
    "cost='abs'"
   ]
  },
  {
   "cell_type": "code",
   "execution_count": 18,
   "metadata": {
    "collapsed": true
   },
   "outputs": [],
   "source": [
    "def get_tensor(df, dfc):\n",
    "    start, stop = 1, 13\n",
    "    energy_cols = np.array(\n",
    "        [['%s_%d' % (appliance, month) for month in range(start, stop)] for appliance in APPLIANCES_ORDER]).flatten()\n",
    "\n",
    "    static_cols = ['area', 'total_occupants', 'num_rooms']\n",
    "    static_df = df[static_cols]\n",
    "    static_df = static_df.div(static_df.max())\n",
    "    weather_values = np.array(dds[2014][region][start - 1:stop - 1]).reshape(-1, 1)\n",
    "\n",
    "    dfc = df.copy()\n",
    "\n",
    "    df = dfc[energy_cols]\n",
    "    col_max = df.max().max()\n",
    "    col_min = df.min().min()\n",
    "    # df = (1.0 * (df - col_min)) / (col_max - col_min)\n",
    "    tensor = df.values.reshape((len(df), 7, stop - start))\n",
    "    M, N, O = tensor.shape\n",
    "    return tensor"
   ]
  },
  {
   "cell_type": "code",
   "execution_count": 19,
   "metadata": {
    "collapsed": true
   },
   "outputs": [],
   "source": [
    "df, dfc = create_matrix_single_region(\"SanDiego\", year)\n",
    "tensor = get_tensor(df, dfc)"
   ]
  },
  {
   "cell_type": "code",
   "execution_count": 20,
   "metadata": {
    "collapsed": true
   },
   "outputs": [],
   "source": [
    "from sklearn.model_selection import train_test_split, KFold"
   ]
  },
  {
   "cell_type": "code",
   "execution_count": 21,
   "metadata": {
    "collapsed": true
   },
   "outputs": [],
   "source": [
    "tensor = get_tensor(df, dfc)\n",
    "H, A, T = learn_HAT(case, tensor, a, a, num_iter=2000, lr=0.1, dis=False, cost_function=cost)\n"
   ]
  },
  {
   "cell_type": "code",
   "execution_count": 22,
   "metadata": {
    "collapsed": true
   },
   "outputs": [],
   "source": [
    "home_fac = pd.DataFrame(H, index=df.index, columns=['HF_0', 'HF_1'])"
   ]
  },
  {
   "cell_type": "code",
   "execution_count": 23,
   "metadata": {
    "collapsed": true
   },
   "outputs": [],
   "source": [
    "import numpy as np\n",
    "from sklearn.cluster import KMeans\n",
    "\n",
    "def kmeans_missing(X, n_clusters, max_iter=10):\n",
    "    \"\"\"Perform K-Means clustering on data with missing values.\n",
    "\n",
    "    Args:\n",
    "      X: An [n_samples, n_features] array of data to cluster.\n",
    "      n_clusters: Number of clusters to form.\n",
    "      max_iter: Maximum number of EM iterations to perform.\n",
    "\n",
    "    Returns:\n",
    "      labels: An [n_samples] vector of integer labels.\n",
    "      centroids: An [n_clusters, n_features] array of cluster centroids.\n",
    "      X_hat: Copy of X with the missing values filled in.\n",
    "    \"\"\"\n",
    "\n",
    "    # Initialize missing values to their column means\n",
    "    missing = ~np.isfinite(X)\n",
    "    mu = np.nanmean(X, 0, keepdims=1)\n",
    "    X_hat = np.where(missing, mu, X)\n",
    "\n",
    "    for i in xrange(max_iter):\n",
    "        if i > 0:\n",
    "            # initialize KMeans with the previous set of centroids. this is much\n",
    "            # faster and makes it easier to check convergence (since labels\n",
    "            # won't be permuted on every iteration), but might be more prone to\n",
    "            # getting stuck in local minima.\n",
    "            cls = KMeans(n_clusters, init=prev_centroids, random_state=0)\n",
    "        else:\n",
    "            # do multiple random initializations in parallel\n",
    "            cls = KMeans(n_clusters, n_jobs=-1, random_state=0)\n",
    "\n",
    "        # perform clustering on the filled-in data\n",
    "        labels = cls.fit_predict(X_hat)\n",
    "        centroids = cls.cluster_centers_\n",
    "\n",
    "        # fill in the missing values based on their cluster centroids\n",
    "        X_hat[missing] = centroids[labels][missing]\n",
    "\n",
    "        # when the labels have stopped changing then we have converged\n",
    "        if i > 0 and np.all(labels == prev_labels):\n",
    "            break\n",
    "\n",
    "        prev_labels = labels\n",
    "        prev_centroids = cls.cluster_centers_\n",
    "\n",
    "    return labels, centroids, X_hat"
   ]
  },
  {
   "cell_type": "code",
   "execution_count": 24,
   "metadata": {},
   "outputs": [
    {
     "name": "stderr",
     "output_type": "stream",
     "text": [
      "/Users/nipunbatra/anaconda2/lib/python2.7/site-packages/sklearn/cluster/k_means_.py:889: RuntimeWarning: Explicit initial center position passed: performing only one init in k-means instead of n_init=10\n",
      "  return_n_iter=True)\n"
     ]
    },
    {
     "name": "stdout",
     "output_type": "stream",
     "text": [
      "('aggregate', 0.97435897435897434)\n",
      "('hvac', 1.0)\n",
      "('fridge', 0.76923076923076927)\n",
      "('mw', 0.71794871794871795)\n",
      "('dw', 0.76923076923076927)\n",
      "('wm', 0.66666666666666663)\n",
      "('oven', 0.69230769230769229)\n"
     ]
    }
   ],
   "source": [
    "num_clusters = 2\n",
    "labels_hf, centroids_2, X_hat = kmeans_missing(home_fac[['HF_0', 'HF_1']], n_clusters=num_clusters)\n",
    "home_fac['labels_hf'] = labels_hf\n",
    "\n",
    "\n",
    "\n",
    "for appliance in APPLIANCES_ORDER:\n",
    "\n",
    "    appliance_df = df[['%s_%d' %(appliance, month) for month in range(1, 13)]]\n",
    "    labels, centroids, X_hat = kmeans_missing(df[['%s_%d' %(appliance, month) for month in range(1, 13)]], n_clusters=num_clusters)\n",
    "\n",
    "\n",
    "    accuracy_reg = accuracy_score(labels, labels_hf)\n",
    "    accuracy_inv = accuracy_score(1-labels, labels_hf)\n",
    "    print(appliance, max(accuracy_reg, accuracy_inv))\n",
    "    if accuracy_inv>accuracy_reg:\n",
    "        labels=1-labels\n",
    "    home_fac['labels_%s' %appliance] = labels"
   ]
  },
  {
   "cell_type": "code",
   "execution_count": 25,
   "metadata": {
    "collapsed": true
   },
   "outputs": [],
   "source": [
    "def annotate_df(row):  \n",
    "    ax.annotate(row.name, row.values,\n",
    "                xytext=(10,-5), \n",
    "                textcoords='offset points',\n",
    "                size=18, \n",
    "                color='darkslategrey')"
   ]
  },
  {
   "cell_type": "code",
   "execution_count": 26,
   "metadata": {},
   "outputs": [
    {
     "data": {
      "image/png": "[encoded data removed]",
      "text/plain": [
       "<matplotlib.figure.Figure at 0x114c31710>"
      ]
     },
     "metadata": {},
     "output_type": "display_data"
    }
   ],
   "source": [
    "fig, ax = plt.subplots(nrows=1, ncols=7, sharex=True, sharey=True, figsize=(20, 3))\n",
    "for i, appliance in enumerate(APPLIANCES_ORDER):\n",
    "    \n",
    "    appliance_mis_df = home_fac.query('labels_hf!=labels_%s' %appliance)\n",
    "    if len(appliance_mis_df):\n",
    "        appliance_mis_df.plot('HF_0', 'HF_1', kind='scatter', s=0,  ax=ax[i],\n",
    "                             color=tableau20blind[1],  )\n",
    "        for k, v in appliance_mis_df.iterrows():\n",
    "            \n",
    "            ax[i].annotate(k, xy = (v['HF_0'], v['HF_1']),\n",
    "                        xytext=(0, 0), textcoords='offset points',\n",
    "                        family='sans-serif', fontsize=10, color='black')\n",
    "    format_axes(ax[i])  \n",
    "    ax[i].set_title(appliance)\n",
    "    \n",
    "\n",
    "\n",
    "    "
   ]
  },
  {
   "cell_type": "code",
   "execution_count": 32,
   "metadata": {},
   "outputs": [
    {
     "data": {
      "text/plain": [
       "hvac_1                     NaN\n",
       "hvac_2                     NaN\n",
       "hvac_3                     NaN\n",
       "hvac_4                     NaN\n",
       "hvac_5                     NaN\n",
       "hvac_6                     NaN\n",
       "hvac_7                     NaN\n",
       "hvac_8              546.411072\n",
       "hvac_9              545.248230\n",
       "hvac_10             174.709518\n",
       "hvac_11               0.029933\n",
       "hvac_12               0.048017\n",
       "wm_1                       NaN\n",
       "wm_2                       NaN\n",
       "wm_3                       NaN\n",
       "wm_4                       NaN\n",
       "wm_5                       NaN\n",
       "wm_6                       NaN\n",
       "wm_7                       NaN\n",
       "wm_8                       NaN\n",
       "wm_9                       NaN\n",
       "wm_10                      NaN\n",
       "wm_11                      NaN\n",
       "wm_12                      NaN\n",
       "fridge_1                   NaN\n",
       "fridge_2                   NaN\n",
       "fridge_3                   NaN\n",
       "fridge_4                   NaN\n",
       "fridge_5                   NaN\n",
       "fridge_6                   NaN\n",
       "                      ...     \n",
       "dw_3                       NaN\n",
       "dw_4                       NaN\n",
       "dw_5                       NaN\n",
       "dw_6                       NaN\n",
       "dw_7                       NaN\n",
       "dw_8                 10.478983\n",
       "dw_9                 11.789283\n",
       "dw_10                19.635384\n",
       "dw_11                 9.168883\n",
       "dw_12                13.423750\n",
       "dr_1                       NaN\n",
       "dr_2                       NaN\n",
       "dr_3                       NaN\n",
       "dr_4                       NaN\n",
       "dr_5                       NaN\n",
       "dr_6                       NaN\n",
       "dr_7                       NaN\n",
       "dr_8                       NaN\n",
       "dr_9                       NaN\n",
       "dr_10                      NaN\n",
       "dr_11                      NaN\n",
       "dr_12                      NaN\n",
       "num_rooms                  NaN\n",
       "area               2050.000000\n",
       "num_bedrooms               NaN\n",
       "num_floors                 NaN\n",
       "area_first         2050.000000\n",
       "area_second                NaN\n",
       "area_third                 NaN\n",
       "total_occupants            NaN\n",
       "Name: 1524, Length: 128, dtype: float64"
      ]
     },
     "execution_count": 32,
     "metadata": {},
     "output_type": "execute_result"
    }
   ],
   "source": [
    "df.loc[1524]"
   ]
  },
  {
   "cell_type": "code",
   "execution_count": 71,
   "metadata": {},
   "outputs": [
    {
     "data": {
      "text/plain": [
       "hvac_8          577.740662\n",
       "hvac_9          625.017151\n",
       "fridge_8         39.670918\n",
       "fridge_9         40.790684\n",
       "mw_8              8.081316\n",
       "mw_9              7.044367\n",
       "oven_8           13.178651\n",
       "oven_9           25.374334\n",
       "aggregate_8    1157.161133\n",
       "aggregate_9    1250.086792\n",
       "dw_8             15.871384\n",
       "dw_9             13.731000\n",
       "Name: 527, dtype: float64"
      ]
     },
     "execution_count": 71,
     "metadata": {},
     "output_type": "execute_result"
    }
   ],
   "source": [
    "df.ix[527].dropna()"
   ]
  },
  {
   "cell_type": "code",
   "execution_count": 28,
   "metadata": {},
   "outputs": [
    {
     "name": "stdout",
     "output_type": "stream",
     "text": [
      "7.19237561822\n",
      "206.72212798\n",
      "569.974193226\n"
     ]
    }
   ],
   "source": [
    "print df['mw_8'].mean()\n",
    "print df['hvac_8'].mean()\n",
    "print df['aggregate_8'].mean()"
   ]
  },
  {
   "cell_type": "code",
   "execution_count": 68,
   "metadata": {},
   "outputs": [
    {
     "data": {
      "text/html": [
       "<div class=\"vega-embed\" id=\"494e9927-370a-486c-9a87-26c26aad704b\"></div>\n",
       "\n",
       "<style>\n",
       ".vega-embed svg, .vega-embed canvas {\n",
       "  border: 1px dotted gray;\n",
       "}\n",
       "\n",
       ".vega-embed .vega-actions a {\n",
       "  margin-right: 6px;\n",
       "}\n",
       "</style>\n"
      ]
     },
     "metadata": {
      "jupyter-vega": "#494e9927-370a-486c-9a87-26c26aad704b"
     },
     "output_type": "display_data"
    },
    {
     "data": {
      "application/javascript": [
       "var spec = {\"data\": {\"values\": [{\"labels_hvac\": 0, \"labels_oven\": 0, \"labels_aggregate\": 0, \"labels_hf\": 0, \"labels_mw\": 0, \"home\": 54, \"labels_wm\": 1, \"HF_1\": 1.6670677835779075, \"HF_0\": 2.1283252992477295, \"labels_dw\": 1, \"labels_fridge\": 0}, {\"labels_hvac\": 0, \"labels_oven\": 0, \"labels_aggregate\": 0, \"labels_hf\": 0, \"labels_mw\": 0, \"home\": 203, \"labels_wm\": 0, \"HF_1\": 2.656045938155103, \"HF_0\": 1.5918435325357863, \"labels_dw\": 0, \"labels_fridge\": 0}, {\"labels_hvac\": 1, \"labels_oven\": 0, \"labels_aggregate\": 1, \"labels_hf\": 1, \"labels_mw\": 0, \"home\": 527, \"labels_wm\": 0, \"HF_1\": 6.886190108815228, \"HF_0\": 1.4819660048857868, \"labels_dw\": 1, \"labels_fridge\": 0}, {\"labels_hvac\": 1, \"labels_oven\": 1, \"labels_aggregate\": 1, \"labels_hf\": 1, \"labels_mw\": 1, \"home\": 1450, \"labels_wm\": 0, \"HF_1\": 4.613192203600106, \"HF_0\": 4.475917379659522, \"labels_dw\": 1, \"labels_fridge\": 1}, {\"labels_hvac\": 1, \"labels_oven\": 0, \"labels_aggregate\": 1, \"labels_hf\": 1, \"labels_mw\": 1, \"home\": 1524, \"labels_wm\": 0, \"HF_1\": 6.92919833206079, \"HF_0\": 0.3314389012799528, \"labels_dw\": 1, \"labels_fridge\": 1}, {\"labels_hvac\": 1, \"labels_oven\": 0, \"labels_aggregate\": 1, \"labels_hf\": 1, \"labels_mw\": 0, \"home\": 1731, \"labels_wm\": 0, \"HF_1\": 3.995053059780469, \"HF_0\": 2.724152228423465, \"labels_dw\": 0, \"labels_fridge\": 0}, {\"labels_hvac\": 0, \"labels_oven\": 0, \"labels_aggregate\": 0, \"labels_hf\": 0, \"labels_mw\": 0, \"home\": 2031, \"labels_wm\": 0, \"HF_1\": 1.3126212556746533, \"HF_0\": 2.0085424700737513, \"labels_dw\": 1, \"labels_fridge\": 0}, {\"labels_hvac\": 1, \"labels_oven\": 0, \"labels_aggregate\": 1, \"labels_hf\": 1, \"labels_mw\": 1, \"home\": 2354, \"labels_wm\": 1, \"HF_1\": 3.527284747507825, \"HF_0\": 3.287455437068488, \"labels_dw\": 1, \"labels_fridge\": 0}, {\"labels_hvac\": 1, \"labels_oven\": 0, \"labels_aggregate\": 1, \"labels_hf\": 1, \"labels_mw\": 0, \"home\": 2606, \"labels_wm\": 0, \"HF_1\": 3.720143884535139, \"HF_0\": 2.2286085277788836, \"labels_dw\": 0, \"labels_fridge\": 0}, {\"labels_hvac\": 1, \"labels_oven\": 0, \"labels_aggregate\": 1, \"labels_hf\": 1, \"labels_mw\": 0, \"home\": 3687, \"labels_wm\": 0, \"HF_1\": 3.053100401181482, \"HF_0\": 3.662508518189609, \"labels_dw\": 0, \"labels_fridge\": 0}, {\"labels_hvac\": 0, \"labels_oven\": 0, \"labels_aggregate\": 0, \"labels_hf\": 0, \"labels_mw\": 0, \"home\": 3864, \"labels_wm\": 0, \"HF_1\": 2.5221947643425855, \"HF_0\": 0.7731516389632112, \"labels_dw\": 0, \"labels_fridge\": 0}, {\"labels_hvac\": 0, \"labels_oven\": 0, \"labels_aggregate\": 0, \"labels_hf\": 0, \"labels_mw\": 0, \"home\": 3938, \"labels_wm\": 0, \"HF_1\": 0.39456875720949747, \"HF_0\": 1.677539193149495, \"labels_dw\": 1, \"labels_fridge\": 0}, {\"labels_hvac\": 0, \"labels_oven\": 0, \"labels_aggregate\": 0, \"labels_hf\": 0, \"labels_mw\": 0, \"home\": 4083, \"labels_wm\": 0, \"HF_1\": 0.5767251982702108, \"HF_0\": 1.300748938824327, \"labels_dw\": 0, \"labels_fridge\": 0}, {\"labels_hvac\": 1, \"labels_oven\": 0, \"labels_aggregate\": 1, \"labels_hf\": 1, \"labels_mw\": 0, \"home\": 4095, \"labels_wm\": 0, \"HF_1\": 4.363028935375098, \"HF_0\": 4.337932823636113, \"labels_dw\": 1, \"labels_fridge\": 1}, {\"labels_hvac\": 0, \"labels_oven\": 0, \"labels_aggregate\": 0, \"labels_hf\": 0, \"labels_mw\": 0, \"home\": 4329, \"labels_wm\": 0, \"HF_1\": 2.8447587439430633, \"HF_0\": 1.7341283016515103, \"labels_dw\": 0, \"labels_fridge\": 0}, {\"labels_hvac\": 0, \"labels_oven\": 0, \"labels_aggregate\": 0, \"labels_hf\": 0, \"labels_mw\": 0, \"home\": 4495, \"labels_wm\": 0, \"HF_1\": 0.12688568988772347, \"HF_0\": 1.8110078926240454, \"labels_dw\": 0, \"labels_fridge\": 0}, {\"labels_hvac\": 0, \"labels_oven\": 0, \"labels_aggregate\": 0, \"labels_hf\": 0, \"labels_mw\": 0, \"home\": 4761, \"labels_wm\": 0, \"HF_1\": 0.7191436088927694, \"HF_0\": 1.936951100123407, \"labels_dw\": 0, \"labels_fridge\": 0}, {\"labels_hvac\": 0, \"labels_oven\": 0, \"labels_aggregate\": 0, \"labels_hf\": 0, \"labels_mw\": 0, \"home\": 4934, \"labels_wm\": 0, \"HF_1\": 0.9558525922723897, \"HF_0\": 1.1340415674795985, \"labels_dw\": 0, \"labels_fridge\": 0}, {\"labels_hvac\": 0, \"labels_oven\": 0, \"labels_aggregate\": 0, \"labels_hf\": 0, \"labels_mw\": 0, \"home\": 5909, \"labels_wm\": 0, \"HF_1\": 0.9097032897389259, \"HF_0\": 1.1268573342772925, \"labels_dw\": 0, \"labels_fridge\": 0}, {\"labels_hvac\": 0, \"labels_oven\": 0, \"labels_aggregate\": 0, \"labels_hf\": 0, \"labels_mw\": 1, \"home\": 5938, \"labels_wm\": 0, \"HF_1\": 0.0, \"HF_0\": 2.124474354574812, \"labels_dw\": 0, \"labels_fridge\": 0}, {\"labels_hvac\": 0, \"labels_oven\": 0, \"labels_aggregate\": 0, \"labels_hf\": 0, \"labels_mw\": 0, \"home\": 6268, \"labels_wm\": 0, \"HF_1\": 1.43813618649544, \"HF_0\": 1.5357737316009399, \"labels_dw\": 0, \"labels_fridge\": 0}, {\"labels_hvac\": 0, \"labels_oven\": 0, \"labels_aggregate\": 0, \"labels_hf\": 0, \"labels_mw\": 1, \"home\": 6377, \"labels_wm\": 0, \"HF_1\": 0.8228854401063374, \"HF_0\": 2.244295042120286, \"labels_dw\": 0, \"labels_fridge\": 0}, {\"labels_hvac\": 0, \"labels_oven\": 0, \"labels_aggregate\": 0, \"labels_hf\": 0, \"labels_mw\": 0, \"home\": 6429, \"labels_wm\": 0, \"HF_1\": 0.5934665318906049, \"HF_0\": 0.7801692656025658, \"labels_dw\": 0, \"labels_fridge\": 0}, {\"labels_hvac\": 1, \"labels_oven\": 0, \"labels_aggregate\": 1, \"labels_hf\": 1, \"labels_mw\": 1, \"home\": 6497, \"labels_wm\": 0, \"HF_1\": 4.146149189734724, \"HF_0\": 4.719674134751583, \"labels_dw\": 0, \"labels_fridge\": 1}, {\"labels_hvac\": 0, \"labels_oven\": 0, \"labels_aggregate\": 0, \"labels_hf\": 0, \"labels_mw\": 0, \"home\": 6547, \"labels_wm\": 0, \"HF_1\": 0.5165815029627869, \"HF_0\": 2.174590438807646, \"labels_dw\": 0, \"labels_fridge\": 1}, {\"labels_hvac\": 0, \"labels_oven\": 0, \"labels_aggregate\": 1, \"labels_hf\": 0, \"labels_mw\": 0, \"home\": 7062, \"labels_wm\": 0, \"HF_1\": 1.3355072816991491, \"HF_0\": 4.082883760867669, \"labels_dw\": 1, \"labels_fridge\": 1}, {\"labels_hvac\": 0, \"labels_oven\": 0, \"labels_aggregate\": 0, \"labels_hf\": 0, \"labels_mw\": 1, \"home\": 7114, \"labels_wm\": 0, \"HF_1\": 2.6777822636283246, \"HF_0\": 1.2971280392618523, \"labels_dw\": 0, \"labels_fridge\": 0}, {\"labels_hvac\": 0, \"labels_oven\": 0, \"labels_aggregate\": 0, \"labels_hf\": 0, \"labels_mw\": 0, \"home\": 7409, \"labels_wm\": 0, \"HF_1\": 1.6118658323654047, \"HF_0\": 1.7715809579757267, \"labels_dw\": 0, \"labels_fridge\": 0}, {\"labels_hvac\": 0, \"labels_oven\": 0, \"labels_aggregate\": 0, \"labels_hf\": 0, \"labels_mw\": 0, \"home\": 7639, \"labels_wm\": 0, \"HF_1\": 0.7750826228849097, \"HF_0\": 3.7065356047698295, \"labels_dw\": 0, \"labels_fridge\": 1}, {\"labels_hvac\": 1, \"labels_oven\": 0, \"labels_aggregate\": 1, \"labels_hf\": 1, \"labels_mw\": 0, \"home\": 8061, \"labels_wm\": 0, \"HF_1\": 3.9855632369276104, \"HF_0\": 1.766389933082828, \"labels_dw\": 1, \"labels_fridge\": 1}, {\"labels_hvac\": 0, \"labels_oven\": 0, \"labels_aggregate\": 0, \"labels_hf\": 0, \"labels_mw\": 0, \"home\": 8342, \"labels_wm\": 0, \"HF_1\": 0.0, \"HF_0\": 1.9540560934206284, \"labels_dw\": 0, \"labels_fridge\": 1}, {\"labels_hvac\": 0, \"labels_oven\": 0, \"labels_aggregate\": 0, \"labels_hf\": 0, \"labels_mw\": 0, \"home\": 8574, \"labels_wm\": 0, \"HF_1\": 0.6416579545153616, \"HF_0\": 4.264333934143439, \"labels_dw\": 0, \"labels_fridge\": 0}, {\"labels_hvac\": 1, \"labels_oven\": 0, \"labels_aggregate\": 1, \"labels_hf\": 1, \"labels_mw\": 1, \"home\": 8733, \"labels_wm\": 0, \"HF_1\": 2.8569078958856293, \"HF_0\": 4.51406807313331, \"labels_dw\": 1, \"labels_fridge\": 1}, {\"labels_hvac\": 0, \"labels_oven\": 0, \"labels_aggregate\": 0, \"labels_hf\": 0, \"labels_mw\": 0, \"home\": 9213, \"labels_wm\": 0, \"HF_1\": 1.2667840169725633, \"HF_0\": 1.5196193515222602, \"labels_dw\": 0, \"labels_fridge\": 0}, {\"labels_hvac\": 1, \"labels_oven\": 0, \"labels_aggregate\": 1, \"labels_hf\": 1, \"labels_mw\": 0, \"home\": 9370, \"labels_wm\": 0, \"HF_1\": 4.958756911863592, \"HF_0\": 5.275952068193253, \"labels_dw\": 1, \"labels_fridge\": 1}, {\"labels_hvac\": 0, \"labels_oven\": 0, \"labels_aggregate\": 0, \"labels_hf\": 0, \"labels_mw\": 1, \"home\": 9585, \"labels_wm\": 0, \"HF_1\": 1.7978247009362665, \"HF_0\": 2.332840521427781, \"labels_dw\": 0, \"labels_fridge\": 0}, {\"labels_hvac\": 1, \"labels_oven\": 0, \"labels_aggregate\": 1, \"labels_hf\": 1, \"labels_mw\": 1, \"home\": 9612, \"labels_wm\": 0, \"HF_1\": 3.754247016900024, \"HF_0\": 2.079450740607049, \"labels_dw\": 0, \"labels_fridge\": 1}, {\"labels_hvac\": 0, \"labels_oven\": 0, \"labels_aggregate\": 0, \"labels_hf\": 0, \"labels_mw\": 0, \"home\": 9775, \"labels_wm\": 0, \"HF_1\": 0.680452040045638, \"HF_0\": 4.20872790723427, \"labels_dw\": 0, \"labels_fridge\": 0}, {\"labels_hvac\": 0, \"labels_oven\": 0, \"labels_aggregate\": 0, \"labels_hf\": 0, \"labels_mw\": 0, \"home\": 9836, \"labels_wm\": 0, \"HF_1\": 0.7148324640614561, \"HF_0\": 2.4612524129614033, \"labels_dw\": 0, \"labels_fridge\": 0}]}, \"encoding\": {\"y\": {\"field\": \"HF_1\", \"type\": \"quantitative\"}, \"color\": {\"field\": \"labels_hf\", \"type\": \"nominal\"}, \"text\": {\"field\": \"home\", \"type\": \"nominal\"}, \"x\": {\"field\": \"HF_0\", \"type\": \"quantitative\"}}, \"config\": {\"cell\": {\"width\": 500, \"height\": 350}}, \"mark\": \"text\"};\n",
       "var selector = \"#494e9927-370a-486c-9a87-26c26aad704b\";\n",
       "var type = \"vega-lite\";\n",
       "\n",
       "var output_area = this;\n",
       "require(['nbextensions/jupyter-vega/index'], function(vega) {\n",
       "  vega.render(selector, spec, type, output_area);\n",
       "}, function (err) {\n",
       "  if (err.requireType !== 'scripterror') {\n",
       "    throw(err);\n",
       "  }\n",
       "});\n"
      ]
     },
     "metadata": {
      "jupyter-vega": "#494e9927-370a-486c-9a87-26c26aad704b"
     },
     "output_type": "display_data"
    },
    {
     "data": {
      "image/png": "[encoded data removed]"
     },
     "metadata": {
      "jupyter-vega": "#494e9927-370a-486c-9a87-26c26aad704b"
     },
     "output_type": "display_data"
    }
   ],
   "source": [
    "\n",
    "home_fac['home'] = home_fac.index\n",
    "from altair import Chart\n",
    "c = Chart(home_fac)\n",
    "c.mark_text().encode(\n",
    "    x='HF_0',\n",
    "    y='HF_1',\n",
    "    color='labels_hf:N',\n",
    "    text='home:N',\n",
    "   \n",
    ")"
   ]
  },
  {
   "cell_type": "code",
   "execution_count": 31,
   "metadata": {},
   "outputs": [
    {
     "data": {
      "text/html": [
       "<div>\n",
       "<table border=\"1\" class=\"dataframe\">\n",
       "  <thead>\n",
       "    <tr style=\"text-align: right;\">\n",
       "      <th>labels-hf</th>\n",
       "      <th>0</th>\n",
       "      <th>1</th>\n",
       "    </tr>\n",
       "    <tr>\n",
       "      <th>labels-aggregate</th>\n",
       "      <th></th>\n",
       "      <th></th>\n",
       "    </tr>\n",
       "  </thead>\n",
       "  <tbody>\n",
       "    <tr>\n",
       "      <th>0</th>\n",
       "      <td>15</td>\n",
       "      <td>10</td>\n",
       "    </tr>\n",
       "    <tr>\n",
       "      <th>1</th>\n",
       "      <td>6</td>\n",
       "      <td>8</td>\n",
       "    </tr>\n",
       "  </tbody>\n",
       "</table>\n",
       "</div>"
      ],
      "text/plain": [
       "labels-hf          0   1\n",
       "labels-aggregate        \n",
       "0                 15  10\n",
       "1                  6   8"
      ]
     },
     "execution_count": 31,
     "metadata": {},
     "output_type": "execute_result"
    }
   ],
   "source": [
    "pd.crosstab(home_fac['labels-aggregate'], home_fac['labels-hf'])"
   ]
  },
  {
   "cell_type": "code",
   "execution_count": 131,
   "metadata": {},
   "outputs": [
    {
     "data": {
      "text/html": [
       "<div class=\"vega-embed\" id=\"c83721bb-4866-43d3-bb47-b36a7489bf50\"></div>\n",
       "\n",
       "<style>\n",
       ".vega-embed svg, .vega-embed canvas {\n",
       "  border: 1px dotted gray;\n",
       "}\n",
       "\n",
       ".vega-embed .vega-actions a {\n",
       "  margin-right: 6px;\n",
       "}\n",
       "</style>\n"
      ]
     },
     "metadata": {
      "jupyter-vega": "#c83721bb-4866-43d3-bb47-b36a7489bf50"
     },
     "output_type": "display_data"
    },
    {
     "data": {
      "application/javascript": [
       "var spec = {\"data\": {\"values\": [{\"0\": 2.1283252992477295, \"1\": 1.6670677835779075, \"labels\": 1, \"home\": 54}, {\"0\": 1.5918435325357863, \"1\": 2.656045938155103, \"labels\": 1, \"home\": 203}, {\"0\": 1.4819660048857868, \"1\": 6.886190108815228, \"labels\": 1, \"home\": 527}, {\"0\": 4.475917379659522, \"1\": 4.613192203600106, \"labels\": 1, \"home\": 1450}, {\"0\": 0.3314389012799528, \"1\": 6.92919833206079, \"labels\": 1, \"home\": 1524}, {\"0\": 2.724152228423465, \"1\": 3.995053059780469, \"labels\": 1, \"home\": 1731}, {\"0\": 2.0085424700737513, \"1\": 1.3126212556746533, \"labels\": 1, \"home\": 2031}, {\"0\": 3.287455437068488, \"1\": 3.527284747507825, \"labels\": 1, \"home\": 2354}, {\"0\": 2.2286085277788836, \"1\": 3.720143884535139, \"labels\": 1, \"home\": 2606}, {\"0\": 3.662508518189609, \"1\": 3.053100401181482, \"labels\": 1, \"home\": 3687}, {\"0\": 0.7731516389632112, \"1\": 2.5221947643425855, \"labels\": 1, \"home\": 3864}, {\"0\": 1.677539193149495, \"1\": 0.39456875720949747, \"labels\": 1, \"home\": 3938}, {\"0\": 1.300748938824327, \"1\": 0.5767251982702108, \"labels\": 1, \"home\": 4083}, {\"0\": 4.337932823636113, \"1\": 4.363028935375098, \"labels\": 1, \"home\": 4095}, {\"0\": 1.7341283016515103, \"1\": 2.8447587439430633, \"labels\": 1, \"home\": 4329}, {\"0\": 1.8110078926240454, \"1\": 0.12688568988772347, \"labels\": 1, \"home\": 4495}, {\"0\": 1.936951100123407, \"1\": 0.7191436088927694, \"labels\": 1, \"home\": 4761}, {\"0\": 1.1340415674795985, \"1\": 0.9558525922723897, \"labels\": 1, \"home\": 4934}, {\"0\": 1.1268573342772925, \"1\": 0.9097032897389259, \"labels\": 0, \"home\": 5909}, {\"0\": 2.124474354574812, \"1\": 0.0, \"labels\": 0, \"home\": 5938}, {\"0\": 1.5357737316009399, \"1\": 1.43813618649544, \"labels\": 0, \"home\": 6268}, {\"0\": 2.244295042120286, \"1\": 0.8228854401063374, \"labels\": 0, \"home\": 6377}, {\"0\": 0.7801692656025658, \"1\": 0.5934665318906049, \"labels\": 0, \"home\": 6429}, {\"0\": 4.719674134751583, \"1\": 4.146149189734724, \"labels\": 0, \"home\": 6497}, {\"0\": 2.174590438807646, \"1\": 0.5165815029627869, \"labels\": 0, \"home\": 6547}, {\"0\": 4.082883760867669, \"1\": 1.3355072816991491, \"labels\": 0, \"home\": 7062}, {\"0\": 1.2971280392618523, \"1\": 2.6777822636283246, \"labels\": 0, \"home\": 7114}, {\"0\": 1.7715809579757267, \"1\": 1.6118658323654047, \"labels\": 0, \"home\": 7409}, {\"0\": 3.7065356047698295, \"1\": 0.7750826228849097, \"labels\": 0, \"home\": 7639}, {\"0\": 1.766389933082828, \"1\": 3.9855632369276104, \"labels\": 0, \"home\": 8061}, {\"0\": 1.9540560934206284, \"1\": 0.0, \"labels\": 0, \"home\": 8342}, {\"0\": 4.264333934143439, \"1\": 0.6416579545153616, \"labels\": 0, \"home\": 8574}, {\"0\": 4.51406807313331, \"1\": 2.8569078958856293, \"labels\": 0, \"home\": 8733}, {\"0\": 1.5196193515222602, \"1\": 1.2667840169725633, \"labels\": 0, \"home\": 9213}, {\"0\": 5.275952068193253, \"1\": 4.958756911863592, \"labels\": 0, \"home\": 9370}, {\"0\": 2.332840521427781, \"1\": 1.7978247009362665, \"labels\": 0, \"home\": 9585}, {\"0\": 2.079450740607049, \"1\": 3.754247016900024, \"labels\": 0, \"home\": 9612}, {\"0\": 4.20872790723427, \"1\": 0.680452040045638, \"labels\": 0, \"home\": 9775}, {\"0\": 2.4612524129614033, \"1\": 0.7148324640614561, \"labels\": 0, \"home\": 9836}]}, \"encoding\": {\"y\": {\"field\": \"1\"}, \"color\": {\"field\": \"labels\", \"type\": \"nominal\"}, \"text\": {\"field\": \"home\", \"type\": \"nominal\"}, \"x\": {\"field\": \"0\"}}, \"config\": {\"cell\": {\"width\": 500, \"height\": 350}}, \"mark\": \"circle\"};\n",
       "var selector = \"#c83721bb-4866-43d3-bb47-b36a7489bf50\";\n",
       "var type = \"vega-lite\";\n",
       "\n",
       "var output_area = this;\n",
       "require(['nbextensions/jupyter-vega/index'], function(vega) {\n",
       "  vega.render(selector, spec, type, output_area);\n",
       "}, function (err) {\n",
       "  if (err.requireType !== 'scripterror') {\n",
       "    throw(err);\n",
       "  }\n",
       "});\n"
      ]
     },
     "metadata": {
      "jupyter-vega": "#c83721bb-4866-43d3-bb47-b36a7489bf50"
     },
     "output_type": "display_data"
    },
    {
     "data": {
      "image/png": "[encoded data removed]"
     },
     "metadata": {
      "jupyter-vega": "#c83721bb-4866-43d3-bb47-b36a7489bf50"
     },
     "output_type": "display_data"
    }
   ],
   "source": [
    "labels_2, centroids_2, X_hat = kmeans_missing(home_fac, n_clusters=2)\n",
    "home_fac['labels'] = labels_2\n",
    "home_fac['home'] = home_fac.index\n",
    "from altair import Chart\n",
    "c = Chart(home_fac)\n",
    "c.mark_circle().encode(\n",
    "    x='0',\n",
    "    y='1',\n",
    "    color='labels:N',\n",
    "    text='home:N',\n",
    "   \n",
    ")"
   ]
  },
  {
   "cell_type": "code",
   "execution_count": null,
   "metadata": {
    "collapsed": true
   },
   "outputs": [],
   "source": []
  }
 ],
 "metadata": {
  "kernelspec": {
   "display_name": "Python 2",
   "language": "python",
   "name": "python2"
  },
  "language_info": {
   "codemirror_mode": {
    "name": "ipython",
    "version": 2
   },
   "file_extension": ".py",
   "mimetype": "text/x-python",
   "name": "python",
   "nbconvert_exporter": "python",
   "pygments_lexer": "ipython2",
   "version": "2.7.13"
  }
 },
 "nbformat": 4,
 "nbformat_minor": 2
}
