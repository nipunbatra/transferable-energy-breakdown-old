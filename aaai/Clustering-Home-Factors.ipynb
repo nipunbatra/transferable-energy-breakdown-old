{
 "cells": [
  {
   "cell_type": "code",
   "execution_count": 1,
   "metadata": {
    "collapsed": true
   },
   "outputs": [],
   "source": [
    "import matplotlib.pyplot as plt\n",
    "%matplotlib inline\n",
    "from plot_functions import *\n",
    "from sklearn.model_selection import KFold\n",
    "from sklearn.metrics import accuracy_score"
   ]
  },
  {
   "cell_type": "code",
   "execution_count": 2,
   "metadata": {
    "collapsed": true
   },
   "outputs": [],
   "source": [
    "from create_matrix import *\n",
    "\n",
    "from tensor_custom_core import *\n",
    "from create_matrix import *\n",
    "from tensor_custom_core import *\n",
    "from degree_days import dds\n",
    "appliance_index = {appliance: APPLIANCES_ORDER.index(appliance) for appliance in APPLIANCES_ORDER}\n",
    "\n",
    "APPLIANCES = ['fridge', 'hvac', 'wm', 'mw', 'oven', 'dw']\n",
    "region = \"SanDiego\"\n",
    "year = 2014\n",
    "\n",
    "import os\n",
    "\n",
    "\n",
    "def un_normalize(x, maximum, minimum):\n",
    "    return (maximum - minimum) * x + minimum"
   ]
  },
  {
   "cell_type": "code",
   "execution_count": 3,
   "metadata": {
    "collapsed": true
   },
   "outputs": [],
   "source": [
    "n_splits = 10\n",
    "import sys\n",
    "case=2\n",
    "a=2\n",
    "cost='abs'"
   ]
  },
  {
   "cell_type": "code",
   "execution_count": 4,
   "metadata": {
    "collapsed": true
   },
   "outputs": [],
   "source": [
    "def get_tensor(df, dfc):\n",
    "    start, stop = 1, 13\n",
    "    energy_cols = np.array(\n",
    "        [['%s_%d' % (appliance, month) for month in range(start, stop)] for appliance in APPLIANCES_ORDER]).flatten()\n",
    "\n",
    "    static_cols = ['area', 'total_occupants', 'num_rooms']\n",
    "    static_df = df[static_cols]\n",
    "    static_df = static_df.div(static_df.max())\n",
    "    weather_values = np.array(dds[2014][region][start - 1:stop - 1]).reshape(-1, 1)\n",
    "\n",
    "    dfc = df.copy()\n",
    "\n",
    "    df = dfc[energy_cols]\n",
    "    col_max = df.max().max()\n",
    "    col_min = df.min().min()\n",
    "    # df = (1.0 * (df - col_min)) / (col_max - col_min)\n",
    "    tensor = df.values.reshape((len(df), 7, stop - start))\n",
    "    M, N, O = tensor.shape\n",
    "    return tensor"
   ]
  },
  {
   "cell_type": "code",
   "execution_count": 5,
   "metadata": {
    "collapsed": true
   },
   "outputs": [],
   "source": [
    "df, dfc = create_matrix_single_region(\"SanDiego\", year)\n",
    "tensor = get_tensor(df, dfc)"
   ]
  },
  {
   "cell_type": "code",
   "execution_count": 6,
   "metadata": {
    "collapsed": true
   },
   "outputs": [],
   "source": [
    "from sklearn.model_selection import train_test_split, KFold"
   ]
  },
  {
   "cell_type": "code",
   "execution_count": 7,
   "metadata": {},
   "outputs": [],
   "source": [
    "tensor = get_tensor(df, dfc)\n",
    "H, A, T = learn_HAT(case, tensor, a, a, num_iter=2000, lr=0.1, dis=False, cost_function=cost)\n"
   ]
  },
  {
   "cell_type": "code",
   "execution_count": 25,
   "metadata": {
    "collapsed": true
   },
   "outputs": [],
   "source": [
    "home_fac = pd.DataFrame(H, index=df.index, columns=['HF_0', 'HF_1'])"
   ]
  },
  {
   "cell_type": "code",
   "execution_count": 9,
   "metadata": {},
   "outputs": [],
   "source": [
    "import numpy as np\n",
    "from sklearn.cluster import KMeans\n",
    "\n",
    "def kmeans_missing(X, n_clusters, max_iter=10):\n",
    "    \"\"\"Perform K-Means clustering on data with missing values.\n",
    "\n",
    "    Args:\n",
    "      X: An [n_samples, n_features] array of data to cluster.\n",
    "      n_clusters: Number of clusters to form.\n",
    "      max_iter: Maximum number of EM iterations to perform.\n",
    "\n",
    "    Returns:\n",
    "      labels: An [n_samples] vector of integer labels.\n",
    "      centroids: An [n_clusters, n_features] array of cluster centroids.\n",
    "      X_hat: Copy of X with the missing values filled in.\n",
    "    \"\"\"\n",
    "\n",
    "    # Initialize missing values to their column means\n",
    "    missing = ~np.isfinite(X)\n",
    "    mu = np.nanmean(X, 0, keepdims=1)\n",
    "    X_hat = np.where(missing, mu, X)\n",
    "\n",
    "    for i in xrange(max_iter):\n",
    "        if i > 0:\n",
    "            # initialize KMeans with the previous set of centroids. this is much\n",
    "            # faster and makes it easier to check convergence (since labels\n",
    "            # won't be permuted on every iteration), but might be more prone to\n",
    "            # getting stuck in local minima.\n",
    "            cls = KMeans(n_clusters, init=prev_centroids, random_state=0)\n",
    "        else:\n",
    "            # do multiple random initializations in parallel\n",
    "            cls = KMeans(n_clusters, n_jobs=-1, random_state=0)\n",
    "\n",
    "        # perform clustering on the filled-in data\n",
    "        labels = cls.fit_predict(X_hat)\n",
    "        centroids = cls.cluster_centers_\n",
    "\n",
    "        # fill in the missing values based on their cluster centroids\n",
    "        X_hat[missing] = centroids[labels][missing]\n",
    "\n",
    "        # when the labels have stopped changing then we have converged\n",
    "        if i > 0 and np.all(labels == prev_labels):\n",
    "            break\n",
    "\n",
    "        prev_labels = labels\n",
    "        prev_centroids = cls.cluster_centers_\n",
    "\n",
    "    return labels, centroids, X_hat"
   ]
  },
  {
   "cell_type": "code",
   "execution_count": 26,
   "metadata": {},
   "outputs": [
    {
     "name": "stdout",
     "output_type": "stream",
     "text": [
      "('aggregate', 0.97435897435897434)\n",
      "('hvac', 1.0)\n",
      "('fridge', 0.76923076923076927)\n",
      "('mw', 0.71794871794871795)\n",
      "('dw', 0.76923076923076927)\n",
      "('wm', 0.66666666666666663)\n",
      "('oven', 0.69230769230769229)\n"
     ]
    }
   ],
   "source": [
    "num_clusters = 2\n",
    "labels_hf, centroids_2, X_hat = kmeans_missing(home_fac[['HF_0', 'HF_1']], n_clusters=num_clusters)\n",
    "home_fac['labels_hf'] = labels_hf\n",
    "\n",
    "\n",
    "\n",
    "for appliance in APPLIANCES_ORDER:\n",
    "\n",
    "    appliance_df = df[['%s_%d' %(appliance, month) for month in range(1, 13)]]\n",
    "    labels, centroids, X_hat = kmeans_missing(df[['%s_%d' %(appliance, month) for month in range(1, 13)]], n_clusters=num_clusters)\n",
    "\n",
    "\n",
    "    accuracy_reg = accuracy_score(labels, labels_hf)\n",
    "    accuracy_inv = accuracy_score(1-labels, labels_hf)\n",
    "    print(appliance, max(accuracy_reg, accuracy_inv))\n",
    "    if accuracy_inv>accuracy_reg:\n",
    "        labels=1-labels\n",
    "    home_fac['labels_%s' %appliance] = labels"
   ]
  },
  {
   "cell_type": "code",
   "execution_count": 49,
   "metadata": {
    "collapsed": true
   },
   "outputs": [],
   "source": [
    "def annotate_df(row):  \n",
    "    ax.annotate(row.name, row.values,\n",
    "                xytext=(10,-5), \n",
    "                textcoords='offset points',\n",
    "                size=18, \n",
    "                color='darkslategrey')"
   ]
  },
  {
   "cell_type": "code",
   "execution_count": 67,
   "metadata": {},
   "outputs": [
    {
     "data": {
      "image/png": "[encoded data removed]",
      "text/plain": [
       "<matplotlib.figure.Figure at 0x1105140d0>"
      ]
     },
     "metadata": {},
     "output_type": "display_data"
    }
   ],
   "source": [
    "fig, ax = plt.subplots(nrows=1, ncols=7, sharex=True, sharey=True, figsize=(20, 3))\n",
    "for i, appliance in enumerate(APPLIANCES_ORDER):\n",
    "    \n",
    "    appliance_mis_df = home_fac.query('labels_hf!=labels_%s' %appliance)\n",
    "    if len(appliance_mis_df):\n",
    "        appliance_mis_df.plot('HF_0', 'HF_1', kind='scatter', s=0,  ax=ax[i],\n",
    "                             color=tableau20blind[1],  )\n",
    "        for k, v in appliance_mis_df.iterrows():\n",
    "            \n",
    "            ax[i].annotate(k, xy = (v['HF_0'], v['HF_1']),\n",
    "                        xytext=(0, 0), textcoords='offset points',\n",
    "                        family='sans-serif', fontsize=10, color='black')\n",
    "    format_axes(ax[i])  \n",
    "    ax[i].set_title(appliance)\n",
    "    \n",
    "\n",
    "\n",
    "    "
   ]
  },
  {
   "cell_type": "code",
   "execution_count": 71,
   "metadata": {},
   "outputs": [
    {
     "data": {
      "text/plain": [
       "hvac_8          577.740662\n",
       "hvac_9          625.017151\n",
       "fridge_8         39.670918\n",
       "fridge_9         40.790684\n",
       "mw_8              8.081316\n",
       "mw_9              7.044367\n",
       "oven_8           13.178651\n",
       "oven_9           25.374334\n",
       "aggregate_8    1157.161133\n",
       "aggregate_9    1250.086792\n",
       "dw_8             15.871384\n",
       "dw_9             13.731000\n",
       "Name: 527, dtype: float64"
      ]
     },
     "execution_count": 71,
     "metadata": {},
     "output_type": "execute_result"
    }
   ],
   "source": [
    "df.ix[527].dropna()"
   ]
  },
  {
   "cell_type": "code",
   "execution_count": 75,
   "metadata": {},
   "outputs": [
    {
     "data": {
      "text/plain": [
       "7.192375618219375"
      ]
     },
     "execution_count": 75,
     "metadata": {},
     "output_type": "execute_result"
    }
   ],
   "source": [
    "df['mw_8'].mean()"
   ]
  },
  {
   "cell_type": "code",
   "execution_count": 68,
   "metadata": {},
   "outputs": [
    {
     "data": {
      "text/html": [
       "<div class=\"vega-embed\" id=\"494e9927-370a-486c-9a87-26c26aad704b\"></div>\n",
       "\n",
       "<style>\n",
       ".vega-embed svg, .vega-embed canvas {\n",
       "  border: 1px dotted gray;\n",
       "}\n",
       "\n",
       ".vega-embed .vega-actions a {\n",
       "  margin-right: 6px;\n",
       "}\n",
       "</style>\n"
      ]
     },
     "metadata": {
      "jupyter-vega": "#494e9927-370a-486c-9a87-26c26aad704b"
     },
     "output_type": "display_data"
    },
    {
     "data": {
      "application/javascript": [
       "var spec = {\"data\": {\"values\": [{\"labels_hvac\": 0, \"labels_oven\": 0, \"labels_aggregate\": 0, \"labels_hf\": 0, \"labels_mw\": 0, \"home\": 54, \"labels_wm\": 1, \"HF_1\": 1.6670677835779075, \"HF_0\": 2.1283252992477295, \"labels_dw\": 1, \"labels_fridge\": 0}, {\"labels_hvac\": 0, \"labels_oven\": 0, \"labels_aggregate\": 0, \"labels_hf\": 0, \"labels_mw\": 0, \"home\": 203, \"labels_wm\": 0, \"HF_1\": 2.656045938155103, \"HF_0\": 1.5918435325357863, \"labels_dw\": 0, \"labels_fridge\": 0}, {\"labels_hvac\": 1, \"labels_oven\": 0, \"labels_aggregate\": 1, \"labels_hf\": 1, \"labels_mw\": 0, \"home\": 527, \"labels_wm\": 0, \"HF_1\": 6.886190108815228, \"HF_0\": 1.4819660048857868, \"labels_dw\": 1, \"labels_fridge\": 0}, {\"labels_hvac\": 1, \"labels_oven\": 1, \"labels_aggregate\": 1, \"labels_hf\": 1, \"labels_mw\": 1, \"home\": 1450, \"labels_wm\": 0, \"HF_1\": 4.613192203600106, \"HF_0\": 4.475917379659522, \"labels_dw\": 1, \"labels_fridge\": 1}, {\"labels_hvac\": 1, \"labels_oven\": 0, \"labels_aggregate\": 1, \"labels_hf\": 1, \"labels_mw\": 1, \"home\": 1524, \"labels_wm\": 0, \"HF_1\": 6.92919833206079, \"HF_0\": 0.3314389012799528, \"labels_dw\": 1, \"labels_fridge\": 1}, {\"labels_hvac\": 1, \"labels_oven\": 0, \"labels_aggregate\": 1, \"labels_hf\": 1, \"labels_mw\": 0, \"home\": 1731, \"labels_wm\": 0, \"HF_1\": 3.995053059780469, \"HF_0\": 2.724152228423465, \"labels_dw\": 0, \"labels_fridge\": 0}, {\"labels_hvac\": 0, \"labels_oven\": 0, \"labels_aggregate\": 0, \"labels_hf\": 0, \"labels_mw\": 0, \"home\": 2031, \"labels_wm\": 0, \"HF_1\": 1.3126212556746533, \"HF_0\": 2.0085424700737513, \"labels_dw\": 1, \"labels_fridge\": 0}, {\"labels_hvac\": 1, \"labels_oven\": 0, \"labels_aggregate\": 1, \"labels_hf\": 1, \"labels_mw\": 1, \"home\": 2354, \"labels_wm\": 1, \"HF_1\": 3.527284747507825, \"HF_0\": 3.287455437068488, \"labels_dw\": 1, \"labels_fridge\": 0}, {\"labels_hvac\": 1, \"labels_oven\": 0, \"labels_aggregate\": 1, \"labels_hf\": 1, \"labels_mw\": 0, \"home\": 2606, \"labels_wm\": 0, \"HF_1\": 3.720143884535139, \"HF_0\": 2.2286085277788836, \"labels_dw\": 0, \"labels_fridge\": 0}, {\"labels_hvac\": 1, \"labels_oven\": 0, \"labels_aggregate\": 1, \"labels_hf\": 1, \"labels_mw\": 0, \"home\": 3687, \"labels_wm\": 0, \"HF_1\": 3.053100401181482, \"HF_0\": 3.662508518189609, \"labels_dw\": 0, \"labels_fridge\": 0}, {\"labels_hvac\": 0, \"labels_oven\": 0, \"labels_aggregate\": 0, \"labels_hf\": 0, \"labels_mw\": 0, \"home\": 3864, \"labels_wm\": 0, \"HF_1\": 2.5221947643425855, \"HF_0\": 0.7731516389632112, \"labels_dw\": 0, \"labels_fridge\": 0}, {\"labels_hvac\": 0, \"labels_oven\": 0, \"labels_aggregate\": 0, \"labels_hf\": 0, \"labels_mw\": 0, \"home\": 3938, \"labels_wm\": 0, \"HF_1\": 0.39456875720949747, \"HF_0\": 1.677539193149495, \"labels_dw\": 1, \"labels_fridge\": 0}, {\"labels_hvac\": 0, \"labels_oven\": 0, \"labels_aggregate\": 0, \"labels_hf\": 0, \"labels_mw\": 0, \"home\": 4083, \"labels_wm\": 0, \"HF_1\": 0.5767251982702108, \"HF_0\": 1.300748938824327, \"labels_dw\": 0, \"labels_fridge\": 0}, {\"labels_hvac\": 1, \"labels_oven\": 0, \"labels_aggregate\": 1, \"labels_hf\": 1, \"labels_mw\": 0, \"home\": 4095, \"labels_wm\": 0, \"HF_1\": 4.363028935375098, \"HF_0\": 4.337932823636113, \"labels_dw\": 1, \"labels_fridge\": 1}, {\"labels_hvac\": 0, \"labels_oven\": 0, \"labels_aggregate\": 0, \"labels_hf\": 0, \"labels_mw\": 0, \"home\": 4329, \"labels_wm\": 0, \"HF_1\": 2.8447587439430633, \"HF_0\": 1.7341283016515103, \"labels_dw\": 0, \"labels_fridge\": 0}, {\"labels_hvac\": 0, \"labels_oven\": 0, \"labels_aggregate\": 0, \"labels_hf\": 0, \"labels_mw\": 0, \"home\": 4495, \"labels_wm\": 0, \"HF_1\": 0.12688568988772347, \"HF_0\": 1.8110078926240454, \"labels_dw\": 0, \"labels_fridge\": 0}, {\"labels_hvac\": 0, \"labels_oven\": 0, \"labels_aggregate\": 0, \"labels_hf\": 0, \"labels_mw\": 0, \"home\": 4761, \"labels_wm\": 0, \"HF_1\": 0.7191436088927694, \"HF_0\": 1.936951100123407, \"labels_dw\": 0, \"labels_fridge\": 0}, {\"labels_hvac\": 0, \"labels_oven\": 0, \"labels_aggregate\": 0, \"labels_hf\": 0, \"labels_mw\": 0, \"home\": 4934, \"labels_wm\": 0, \"HF_1\": 0.9558525922723897, \"HF_0\": 1.1340415674795985, \"labels_dw\": 0, \"labels_fridge\": 0}, {\"labels_hvac\": 0, \"labels_oven\": 0, \"labels_aggregate\": 0, \"labels_hf\": 0, \"labels_mw\": 0, \"home\": 5909, \"labels_wm\": 0, \"HF_1\": 0.9097032897389259, \"HF_0\": 1.1268573342772925, \"labels_dw\": 0, \"labels_fridge\": 0}, {\"labels_hvac\": 0, \"labels_oven\": 0, \"labels_aggregate\": 0, \"labels_hf\": 0, \"labels_mw\": 1, \"home\": 5938, \"labels_wm\": 0, \"HF_1\": 0.0, \"HF_0\": 2.124474354574812, \"labels_dw\": 0, \"labels_fridge\": 0}, {\"labels_hvac\": 0, \"labels_oven\": 0, \"labels_aggregate\": 0, \"labels_hf\": 0, \"labels_mw\": 0, \"home\": 6268, \"labels_wm\": 0, \"HF_1\": 1.43813618649544, \"HF_0\": 1.5357737316009399, \"labels_dw\": 0, \"labels_fridge\": 0}, {\"labels_hvac\": 0, \"labels_oven\": 0, \"labels_aggregate\": 0, \"labels_hf\": 0, \"labels_mw\": 1, \"home\": 6377, \"labels_wm\": 0, \"HF_1\": 0.8228854401063374, \"HF_0\": 2.244295042120286, \"labels_dw\": 0, \"labels_fridge\": 0}, {\"labels_hvac\": 0, \"labels_oven\": 0, \"labels_aggregate\": 0, \"labels_hf\": 0, \"labels_mw\": 0, \"home\": 6429, \"labels_wm\": 0, \"HF_1\": 0.5934665318906049, \"HF_0\": 0.7801692656025658, \"labels_dw\": 0, \"labels_fridge\": 0}, {\"labels_hvac\": 1, \"labels_oven\": 0, \"labels_aggregate\": 1, \"labels_hf\": 1, \"labels_mw\": 1, \"home\": 6497, \"labels_wm\": 0, \"HF_1\": 4.146149189734724, \"HF_0\": 4.719674134751583, \"labels_dw\": 0, \"labels_fridge\": 1}, {\"labels_hvac\": 0, \"labels_oven\": 0, \"labels_aggregate\": 0, \"labels_hf\": 0, \"labels_mw\": 0, \"home\": 6547, \"labels_wm\": 0, \"HF_1\": 0.5165815029627869, \"HF_0\": 2.174590438807646, \"labels_dw\": 0, \"labels_fridge\": 1}, {\"labels_hvac\": 0, \"labels_oven\": 0, \"labels_aggregate\": 1, \"labels_hf\": 0, \"labels_mw\": 0, \"home\": 7062, \"labels_wm\": 0, \"HF_1\": 1.3355072816991491, \"HF_0\": 4.082883760867669, \"labels_dw\": 1, \"labels_fridge\": 1}, {\"labels_hvac\": 0, \"labels_oven\": 0, \"labels_aggregate\": 0, \"labels_hf\": 0, \"labels_mw\": 1, \"home\": 7114, \"labels_wm\": 0, \"HF_1\": 2.6777822636283246, \"HF_0\": 1.2971280392618523, \"labels_dw\": 0, \"labels_fridge\": 0}, {\"labels_hvac\": 0, \"labels_oven\": 0, \"labels_aggregate\": 0, \"labels_hf\": 0, \"labels_mw\": 0, \"home\": 7409, \"labels_wm\": 0, \"HF_1\": 1.6118658323654047, \"HF_0\": 1.7715809579757267, \"labels_dw\": 0, \"labels_fridge\": 0}, {\"labels_hvac\": 0, \"labels_oven\": 0, \"labels_aggregate\": 0, \"labels_hf\": 0, \"labels_mw\": 0, \"home\": 7639, \"labels_wm\": 0, \"HF_1\": 0.7750826228849097, \"HF_0\": 3.7065356047698295, \"labels_dw\": 0, \"labels_fridge\": 1}, {\"labels_hvac\": 1, \"labels_oven\": 0, \"labels_aggregate\": 1, \"labels_hf\": 1, \"labels_mw\": 0, \"home\": 8061, \"labels_wm\": 0, \"HF_1\": 3.9855632369276104, \"HF_0\": 1.766389933082828, \"labels_dw\": 1, \"labels_fridge\": 1}, {\"labels_hvac\": 0, \"labels_oven\": 0, \"labels_aggregate\": 0, \"labels_hf\": 0, \"labels_mw\": 0, \"home\": 8342, \"labels_wm\": 0, \"HF_1\": 0.0, \"HF_0\": 1.9540560934206284, \"labels_dw\": 0, \"labels_fridge\": 1}, {\"labels_hvac\": 0, \"labels_oven\": 0, \"labels_aggregate\": 0, \"labels_hf\": 0, \"labels_mw\": 0, \"home\": 8574, \"labels_wm\": 0, \"HF_1\": 0.6416579545153616, \"HF_0\": 4.264333934143439, \"labels_dw\": 0, \"labels_fridge\": 0}, {\"labels_hvac\": 1, \"labels_oven\": 0, \"labels_aggregate\": 1, \"labels_hf\": 1, \"labels_mw\": 1, \"home\": 8733, \"labels_wm\": 0, \"HF_1\": 2.8569078958856293, \"HF_0\": 4.51406807313331, \"labels_dw\": 1, \"labels_fridge\": 1}, {\"labels_hvac\": 0, \"labels_oven\": 0, \"labels_aggregate\": 0, \"labels_hf\": 0, \"labels_mw\": 0, \"home\": 9213, \"labels_wm\": 0, \"HF_1\": 1.2667840169725633, \"HF_0\": 1.5196193515222602, \"labels_dw\": 0, \"labels_fridge\": 0}, {\"labels_hvac\": 1, \"labels_oven\": 0, \"labels_aggregate\": 1, \"labels_hf\": 1, \"labels_mw\": 0, \"home\": 9370, \"labels_wm\": 0, \"HF_1\": 4.958756911863592, \"HF_0\": 5.275952068193253, \"labels_dw\": 1, \"labels_fridge\": 1}, {\"labels_hvac\": 0, \"labels_oven\": 0, \"labels_aggregate\": 0, \"labels_hf\": 0, \"labels_mw\": 1, \"home\": 9585, \"labels_wm\": 0, \"HF_1\": 1.7978247009362665, \"HF_0\": 2.332840521427781, \"labels_dw\": 0, \"labels_fridge\": 0}, {\"labels_hvac\": 1, \"labels_oven\": 0, \"labels_aggregate\": 1, \"labels_hf\": 1, \"labels_mw\": 1, \"home\": 9612, \"labels_wm\": 0, \"HF_1\": 3.754247016900024, \"HF_0\": 2.079450740607049, \"labels_dw\": 0, \"labels_fridge\": 1}, {\"labels_hvac\": 0, \"labels_oven\": 0, \"labels_aggregate\": 0, \"labels_hf\": 0, \"labels_mw\": 0, \"home\": 9775, \"labels_wm\": 0, \"HF_1\": 0.680452040045638, \"HF_0\": 4.20872790723427, \"labels_dw\": 0, \"labels_fridge\": 0}, {\"labels_hvac\": 0, \"labels_oven\": 0, \"labels_aggregate\": 0, \"labels_hf\": 0, \"labels_mw\": 0, \"home\": 9836, \"labels_wm\": 0, \"HF_1\": 0.7148324640614561, \"HF_0\": 2.4612524129614033, \"labels_dw\": 0, \"labels_fridge\": 0}]}, \"encoding\": {\"y\": {\"field\": \"HF_1\", \"type\": \"quantitative\"}, \"color\": {\"field\": \"labels_hf\", \"type\": \"nominal\"}, \"text\": {\"field\": \"home\", \"type\": \"nominal\"}, \"x\": {\"field\": \"HF_0\", \"type\": \"quantitative\"}}, \"config\": {\"cell\": {\"width\": 500, \"height\": 350}}, \"mark\": \"text\"};\n",
       "var selector = \"#494e9927-370a-486c-9a87-26c26aad704b\";\n",
       "var type = \"vega-lite\";\n",
       "\n",
       "var output_area = this;\n",
       "require(['nbextensions/jupyter-vega/index'], function(vega) {\n",
       "  vega.render(selector, spec, type, output_area);\n",
       "}, function (err) {\n",
       "  if (err.requireType !== 'scripterror') {\n",
       "    throw(err);\n",
       "  }\n",
       "});\n"
      ]
     },
     "metadata": {
      "jupyter-vega": "#494e9927-370a-486c-9a87-26c26aad704b"
     },
     "output_type": "display_data"
    },
    {
     "data": {
      "image/png": "[encoded data removed]"
     },
     "metadata": {
      "jupyter-vega": "#494e9927-370a-486c-9a87-26c26aad704b"
     },
     "output_type": "display_data"
    }
   ],
   "source": [
    "\n",
    "home_fac['home'] = home_fac.index\n",
    "from altair import Chart\n",
    "c = Chart(home_fac)\n",
    "c.mark_text().encode(\n",
    "    x='HF_0',\n",
    "    y='HF_1',\n",
    "    color='labels_hf:N',\n",
    "    text='home:N',\n",
    "   \n",
    ")"
   ]
  },
  {
   "cell_type": "code",
   "execution_count": 31,
   "metadata": {},
   "outputs": [
    {
     "data": {
      "text/html": [
       "<div>\n",
       "<table border=\"1\" class=\"dataframe\">\n",
       "  <thead>\n",
       "    <tr style=\"text-align: right;\">\n",
       "      <th>labels-hf</th>\n",
       "      <th>0</th>\n",
       "      <th>1</th>\n",
       "    </tr>\n",
       "    <tr>\n",
       "      <th>labels-aggregate</th>\n",
       "      <th></th>\n",
       "      <th></th>\n",
       "    </tr>\n",
       "  </thead>\n",
       "  <tbody>\n",
       "    <tr>\n",
       "      <th>0</th>\n",
       "      <td>15</td>\n",
       "      <td>10</td>\n",
       "    </tr>\n",
       "    <tr>\n",
       "      <th>1</th>\n",
       "      <td>6</td>\n",
       "      <td>8</td>\n",
       "    </tr>\n",
       "  </tbody>\n",
       "</table>\n",
       "</div>"
      ],
      "text/plain": [
       "labels-hf          0   1\n",
       "labels-aggregate        \n",
       "0                 15  10\n",
       "1                  6   8"
      ]
     },
     "execution_count": 31,
     "metadata": {},
     "output_type": "execute_result"
    }
   ],
   "source": [
    "pd.crosstab(home_fac['labels-aggregate'], home_fac['labels-hf'])"
   ]
  },
  {
   "cell_type": "code",
   "execution_count": 131,
   "metadata": {},
   "outputs": [
    {
     "data": {
      "text/html": [
       "<div class=\"vega-embed\" id=\"c83721bb-4866-43d3-bb47-b36a7489bf50\"></div>\n",
       "\n",
       "<style>\n",
       ".vega-embed svg, .vega-embed canvas {\n",
       "  border: 1px dotted gray;\n",
       "}\n",
       "\n",
       ".vega-embed .vega-actions a {\n",
       "  margin-right: 6px;\n",
       "}\n",
       "</style>\n"
      ]
     },
     "metadata": {
      "jupyter-vega": "#c83721bb-4866-43d3-bb47-b36a7489bf50"
     },
     "output_type": "display_data"
    },
    {
     "data": {
      "application/javascript": [
       "var spec = {\"data\": {\"values\": [{\"0\": 2.1283252992477295, \"1\": 1.6670677835779075, \"labels\": 1, \"home\": 54}, {\"0\": 1.5918435325357863, \"1\": 2.656045938155103, \"labels\": 1, \"home\": 203}, {\"0\": 1.4819660048857868, \"1\": 6.886190108815228, \"labels\": 1, \"home\": 527}, {\"0\": 4.475917379659522, \"1\": 4.613192203600106, \"labels\": 1, \"home\": 1450}, {\"0\": 0.3314389012799528, \"1\": 6.92919833206079, \"labels\": 1, \"home\": 1524}, {\"0\": 2.724152228423465, \"1\": 3.995053059780469, \"labels\": 1, \"home\": 1731}, {\"0\": 2.0085424700737513, \"1\": 1.3126212556746533, \"labels\": 1, \"home\": 2031}, {\"0\": 3.287455437068488, \"1\": 3.527284747507825, \"labels\": 1, \"home\": 2354}, {\"0\": 2.2286085277788836, \"1\": 3.720143884535139, \"labels\": 1, \"home\": 2606}, {\"0\": 3.662508518189609, \"1\": 3.053100401181482, \"labels\": 1, \"home\": 3687}, {\"0\": 0.7731516389632112, \"1\": 2.5221947643425855, \"labels\": 1, \"home\": 3864}, {\"0\": 1.677539193149495, \"1\": 0.39456875720949747, \"labels\": 1, \"home\": 3938}, {\"0\": 1.300748938824327, \"1\": 0.5767251982702108, \"labels\": 1, \"home\": 4083}, {\"0\": 4.337932823636113, \"1\": 4.363028935375098, \"labels\": 1, \"home\": 4095}, {\"0\": 1.7341283016515103, \"1\": 2.8447587439430633, \"labels\": 1, \"home\": 4329}, {\"0\": 1.8110078926240454, \"1\": 0.12688568988772347, \"labels\": 1, \"home\": 4495}, {\"0\": 1.936951100123407, \"1\": 0.7191436088927694, \"labels\": 1, \"home\": 4761}, {\"0\": 1.1340415674795985, \"1\": 0.9558525922723897, \"labels\": 1, \"home\": 4934}, {\"0\": 1.1268573342772925, \"1\": 0.9097032897389259, \"labels\": 0, \"home\": 5909}, {\"0\": 2.124474354574812, \"1\": 0.0, \"labels\": 0, \"home\": 5938}, {\"0\": 1.5357737316009399, \"1\": 1.43813618649544, \"labels\": 0, \"home\": 6268}, {\"0\": 2.244295042120286, \"1\": 0.8228854401063374, \"labels\": 0, \"home\": 6377}, {\"0\": 0.7801692656025658, \"1\": 0.5934665318906049, \"labels\": 0, \"home\": 6429}, {\"0\": 4.719674134751583, \"1\": 4.146149189734724, \"labels\": 0, \"home\": 6497}, {\"0\": 2.174590438807646, \"1\": 0.5165815029627869, \"labels\": 0, \"home\": 6547}, {\"0\": 4.082883760867669, \"1\": 1.3355072816991491, \"labels\": 0, \"home\": 7062}, {\"0\": 1.2971280392618523, \"1\": 2.6777822636283246, \"labels\": 0, \"home\": 7114}, {\"0\": 1.7715809579757267, \"1\": 1.6118658323654047, \"labels\": 0, \"home\": 7409}, {\"0\": 3.7065356047698295, \"1\": 0.7750826228849097, \"labels\": 0, \"home\": 7639}, {\"0\": 1.766389933082828, \"1\": 3.9855632369276104, \"labels\": 0, \"home\": 8061}, {\"0\": 1.9540560934206284, \"1\": 0.0, \"labels\": 0, \"home\": 8342}, {\"0\": 4.264333934143439, \"1\": 0.6416579545153616, \"labels\": 0, \"home\": 8574}, {\"0\": 4.51406807313331, \"1\": 2.8569078958856293, \"labels\": 0, \"home\": 8733}, {\"0\": 1.5196193515222602, \"1\": 1.2667840169725633, \"labels\": 0, \"home\": 9213}, {\"0\": 5.275952068193253, \"1\": 4.958756911863592, \"labels\": 0, \"home\": 9370}, {\"0\": 2.332840521427781, \"1\": 1.7978247009362665, \"labels\": 0, \"home\": 9585}, {\"0\": 2.079450740607049, \"1\": 3.754247016900024, \"labels\": 0, \"home\": 9612}, {\"0\": 4.20872790723427, \"1\": 0.680452040045638, \"labels\": 0, \"home\": 9775}, {\"0\": 2.4612524129614033, \"1\": 0.7148324640614561, \"labels\": 0, \"home\": 9836}]}, \"encoding\": {\"y\": {\"field\": \"1\"}, \"color\": {\"field\": \"labels\", \"type\": \"nominal\"}, \"text\": {\"field\": \"home\", \"type\": \"nominal\"}, \"x\": {\"field\": \"0\"}}, \"config\": {\"cell\": {\"width\": 500, \"height\": 350}}, \"mark\": \"circle\"};\n",
       "var selector = \"#c83721bb-4866-43d3-bb47-b36a7489bf50\";\n",
       "var type = \"vega-lite\";\n",
       "\n",
       "var output_area = this;\n",
       "require(['nbextensions/jupyter-vega/index'], function(vega) {\n",
       "  vega.render(selector, spec, type, output_area);\n",
       "}, function (err) {\n",
       "  if (err.requireType !== 'scripterror') {\n",
       "    throw(err);\n",
       "  }\n",
       "});\n"
      ]
     },
     "metadata": {
      "jupyter-vega": "#c83721bb-4866-43d3-bb47-b36a7489bf50"
     },
     "output_type": "display_data"
    },
    {
     "data": {
      "image/png": "[encoded data removed]"
     },
     "metadata": {
      "jupyter-vega": "#c83721bb-4866-43d3-bb47-b36a7489bf50"
     },
     "output_type": "display_data"
    }
   ],
   "source": [
    "labels_2, centroids_2, X_hat = kmeans_missing(home_fac, n_clusters=2)\n",
    "home_fac['labels'] = labels_2\n",
    "home_fac['home'] = home_fac.index\n",
    "from altair import Chart\n",
    "c = Chart(home_fac)\n",
    "c.mark_circle().encode(\n",
    "    x='0',\n",
    "    y='1',\n",
    "    color='labels:N',\n",
    "    text='home:N',\n",
    "   \n",
    ")"
   ]
  },
  {
   "cell_type": "code",
   "execution_count": 79,
   "metadata": {},
   "outputs": [
    {
     "data": {
      "text/plain": [
       "<matplotlib.axes._subplots.AxesSubplot at 0x1138a9690>"
      ]
     },
     "execution_count": 79,
     "metadata": {},
     "output_type": "execute_result"
    },
    {
     "data": {
      "image/png": "[encoded data removed]",
      "text/plain": [
       "<matplotlib.figure.Figure at 0x113804050>"
      ]
     },
     "metadata": {},
     "output_type": "display_data"
    }
   ],
   "source": [
    "appliance='mw'\n",
    "d = pd.concat([home_fac, df[['%s_%d' %(appliance, month) for month in range(1, 13)]]], axis=1)\n",
    "\n",
    "import seaborn as sns\n",
    "sns.heatmap(d.corr())"
   ]
  },
  {
   "cell_type": "code",
   "execution_count": 86,
   "metadata": {},
   "outputs": [
    {
     "ename": "ValueError",
     "evalue": "cannot copy sequence with size 2 to array axis with dimension 150",
     "output_type": "error",
     "traceback": [
      "\u001b[0;31m---------------------------------------------------------------------------\u001b[0m",
      "\u001b[0;31mValueError\u001b[0m                                Traceback (most recent call last)",
      "\u001b[0;32m<ipython-input-86-975b726bb675>\u001b[0m in \u001b[0;36m<module>\u001b[0;34m()\u001b[0m\n\u001b[1;32m      1\u001b[0m \u001b[0miris\u001b[0m \u001b[0;34m=\u001b[0m \u001b[0msns\u001b[0m\u001b[0;34m.\u001b[0m\u001b[0mload_dataset\u001b[0m\u001b[0;34m(\u001b[0m\u001b[0;34m\"iris\"\u001b[0m\u001b[0;34m)\u001b[0m\u001b[0;34m\u001b[0m\u001b[0m\n\u001b[1;32m      2\u001b[0m \u001b[0miris\u001b[0m\u001b[0;34m[\u001b[0m\u001b[0;34m'alp'\u001b[0m\u001b[0;34m]\u001b[0m \u001b[0;34m=\u001b[0m \u001b[0mnp\u001b[0m\u001b[0;34m.\u001b[0m\u001b[0mrandom\u001b[0m\u001b[0;34m.\u001b[0m\u001b[0mrandint\u001b[0m\u001b[0;34m(\u001b[0m\u001b[0;36m0\u001b[0m\u001b[0;34m,\u001b[0m \u001b[0;36m2\u001b[0m\u001b[0;34m,\u001b[0m \u001b[0mlen\u001b[0m\u001b[0;34m(\u001b[0m\u001b[0miris\u001b[0m\u001b[0;34m)\u001b[0m\u001b[0;34m)\u001b[0m\u001b[0;34m\u001b[0m\u001b[0m\n\u001b[0;32m----> 3\u001b[0;31m \u001b[0mg\u001b[0m \u001b[0;34m=\u001b[0m \u001b[0msns\u001b[0m\u001b[0;34m.\u001b[0m\u001b[0mPairGrid\u001b[0m\u001b[0;34m(\u001b[0m\u001b[0miris\u001b[0m\u001b[0;34m,\u001b[0m \u001b[0mhue\u001b[0m\u001b[0;34m=\u001b[0m\u001b[0;34m[\u001b[0m\u001b[0;34m\"species\"\u001b[0m\u001b[0;34m,\u001b[0m \u001b[0;34m\"alp\"\u001b[0m\u001b[0;34m]\u001b[0m\u001b[0;34m)\u001b[0m\u001b[0;34m\u001b[0m\u001b[0m\n\u001b[0m\u001b[1;32m      4\u001b[0m \u001b[0mg\u001b[0m\u001b[0;34m.\u001b[0m\u001b[0mmap_diag\u001b[0m\u001b[0;34m(\u001b[0m\u001b[0mplt\u001b[0m\u001b[0;34m.\u001b[0m\u001b[0mhist\u001b[0m\u001b[0;34m)\u001b[0m\u001b[0;34m\u001b[0m\u001b[0m\n\u001b[1;32m      5\u001b[0m \u001b[0mg\u001b[0m\u001b[0;34m.\u001b[0m\u001b[0mmap_offdiag\u001b[0m\u001b[0;34m(\u001b[0m\u001b[0mplt\u001b[0m\u001b[0;34m.\u001b[0m\u001b[0mscatter\u001b[0m\u001b[0;34m)\u001b[0m\u001b[0;34m\u001b[0m\u001b[0m\n",
      "\u001b[0;32m/Users/nipunbatra/anaconda/lib/python2.7/site-packages/seaborn/axisgrid.pyc\u001b[0m in \u001b[0;36m__init__\u001b[0;34m(self, data, hue, hue_order, palette, hue_kws, vars, x_vars, y_vars, diag_sharey, size, aspect, despine, dropna)\u001b[0m\n\u001b[1;32m   1221\u001b[0m                                       index=data.index)\n\u001b[1;32m   1222\u001b[0m         \u001b[0;32melse\u001b[0m\u001b[0;34m:\u001b[0m\u001b[0;34m\u001b[0m\u001b[0m\n\u001b[0;32m-> 1223\u001b[0;31m             \u001b[0mhue_names\u001b[0m \u001b[0;34m=\u001b[0m \u001b[0mutils\u001b[0m\u001b[0;34m.\u001b[0m\u001b[0mcategorical_order\u001b[0m\u001b[0;34m(\u001b[0m\u001b[0mdata\u001b[0m\u001b[0;34m[\u001b[0m\u001b[0mhue\u001b[0m\u001b[0;34m]\u001b[0m\u001b[0;34m,\u001b[0m \u001b[0mhue_order\u001b[0m\u001b[0;34m)\u001b[0m\u001b[0;34m\u001b[0m\u001b[0m\n\u001b[0m\u001b[1;32m   1224\u001b[0m             \u001b[0;32mif\u001b[0m \u001b[0mdropna\u001b[0m\u001b[0;34m:\u001b[0m\u001b[0;34m\u001b[0m\u001b[0m\n\u001b[1;32m   1225\u001b[0m                 \u001b[0;31m# Filter NA from the list of unique hue names\u001b[0m\u001b[0;34m\u001b[0m\u001b[0;34m\u001b[0m\u001b[0m\n",
      "\u001b[0;32m/Users/nipunbatra/anaconda/lib/python2.7/site-packages/seaborn/utils.pyc\u001b[0m in \u001b[0;36mcategorical_order\u001b[0;34m(values, order)\u001b[0m\n\u001b[1;32m    521\u001b[0m                     \u001b[0morder\u001b[0m \u001b[0;34m=\u001b[0m \u001b[0mvalues\u001b[0m\u001b[0;34m.\u001b[0m\u001b[0munique\u001b[0m\u001b[0;34m(\u001b[0m\u001b[0;34m)\u001b[0m\u001b[0;34m\u001b[0m\u001b[0m\n\u001b[1;32m    522\u001b[0m                 \u001b[0;32mexcept\u001b[0m \u001b[0mAttributeError\u001b[0m\u001b[0;34m:\u001b[0m\u001b[0;34m\u001b[0m\u001b[0m\n\u001b[0;32m--> 523\u001b[0;31m                     \u001b[0morder\u001b[0m \u001b[0;34m=\u001b[0m \u001b[0mpd\u001b[0m\u001b[0;34m.\u001b[0m\u001b[0munique\u001b[0m\u001b[0;34m(\u001b[0m\u001b[0mvalues\u001b[0m\u001b[0;34m)\u001b[0m\u001b[0;34m\u001b[0m\u001b[0m\n\u001b[0m\u001b[1;32m    524\u001b[0m                 \u001b[0;32mtry\u001b[0m\u001b[0;34m:\u001b[0m\u001b[0;34m\u001b[0m\u001b[0m\n\u001b[1;32m    525\u001b[0m                     \u001b[0mnp\u001b[0m\u001b[0;34m.\u001b[0m\u001b[0masarray\u001b[0m\u001b[0;34m(\u001b[0m\u001b[0mvalues\u001b[0m\u001b[0;34m)\u001b[0m\u001b[0;34m.\u001b[0m\u001b[0mastype\u001b[0m\u001b[0;34m(\u001b[0m\u001b[0mnp\u001b[0m\u001b[0;34m.\u001b[0m\u001b[0mfloat\u001b[0m\u001b[0;34m)\u001b[0m\u001b[0;34m\u001b[0m\u001b[0m\n",
      "\u001b[0;32m/Users/nipunbatra/anaconda/lib/python2.7/site-packages/pandas/core/algorithms.pyc\u001b[0m in \u001b[0;36munique\u001b[0;34m(values)\u001b[0m\n\u001b[1;32m    100\u001b[0m     \u001b[0muniques\u001b[0m\u001b[0;34m\u001b[0m\u001b[0m\n\u001b[1;32m    101\u001b[0m     \"\"\"\n\u001b[0;32m--> 102\u001b[0;31m     \u001b[0mvalues\u001b[0m \u001b[0;34m=\u001b[0m \u001b[0mcom\u001b[0m\u001b[0;34m.\u001b[0m\u001b[0m_asarray_tuplesafe\u001b[0m\u001b[0;34m(\u001b[0m\u001b[0mvalues\u001b[0m\u001b[0;34m)\u001b[0m\u001b[0;34m\u001b[0m\u001b[0m\n\u001b[0m\u001b[1;32m    103\u001b[0m \u001b[0;34m\u001b[0m\u001b[0m\n\u001b[1;32m    104\u001b[0m     \u001b[0mf\u001b[0m \u001b[0;34m=\u001b[0m \u001b[0;32mlambda\u001b[0m \u001b[0mhtype\u001b[0m\u001b[0;34m,\u001b[0m \u001b[0mcaster\u001b[0m\u001b[0;34m:\u001b[0m \u001b[0m_unique_generic\u001b[0m\u001b[0;34m(\u001b[0m\u001b[0mvalues\u001b[0m\u001b[0;34m,\u001b[0m \u001b[0mhtype\u001b[0m\u001b[0;34m,\u001b[0m \u001b[0mcaster\u001b[0m\u001b[0;34m)\u001b[0m\u001b[0;34m\u001b[0m\u001b[0m\n",
      "\u001b[0;32m/Users/nipunbatra/anaconda/lib/python2.7/site-packages/pandas/core/common.pyc\u001b[0m in \u001b[0;36m_asarray_tuplesafe\u001b[0;34m(values, dtype)\u001b[0m\n\u001b[1;32m    390\u001b[0m             \u001b[0;32mexcept\u001b[0m \u001b[0mValueError\u001b[0m\u001b[0;34m:\u001b[0m\u001b[0;34m\u001b[0m\u001b[0m\n\u001b[1;32m    391\u001b[0m                 \u001b[0;31m# we have a list-of-list\u001b[0m\u001b[0;34m\u001b[0m\u001b[0;34m\u001b[0m\u001b[0m\n\u001b[0;32m--> 392\u001b[0;31m                 \u001b[0mresult\u001b[0m\u001b[0;34m[\u001b[0m\u001b[0;34m:\u001b[0m\u001b[0;34m]\u001b[0m \u001b[0;34m=\u001b[0m \u001b[0;34m[\u001b[0m\u001b[0mtuple\u001b[0m\u001b[0;34m(\u001b[0m\u001b[0mx\u001b[0m\u001b[0;34m)\u001b[0m \u001b[0;32mfor\u001b[0m \u001b[0mx\u001b[0m \u001b[0;32min\u001b[0m \u001b[0mvalues\u001b[0m\u001b[0;34m]\u001b[0m\u001b[0;34m\u001b[0m\u001b[0m\n\u001b[0m\u001b[1;32m    393\u001b[0m \u001b[0;34m\u001b[0m\u001b[0m\n\u001b[1;32m    394\u001b[0m     \u001b[0;32mreturn\u001b[0m \u001b[0mresult\u001b[0m\u001b[0;34m\u001b[0m\u001b[0m\n",
      "\u001b[0;31mValueError\u001b[0m: cannot copy sequence with size 2 to array axis with dimension 150"
     ]
    },
    {
     "data": {
      "image/png": "[encoded data removed]",
      "text/plain": [
       "<matplotlib.figure.Figure at 0x119279e50>"
      ]
     },
     "metadata": {},
     "output_type": "display_data"
    }
   ],
   "source": [
    "iris = sns.load_dataset(\"iris\")\n",
    "iris['alp'] = np.random.randint(0, 2, len(iris))\n",
    "g = sns.PairGrid(iris, hue=[\"species\", \"alp\"])\n",
    "g.map_diag(plt.hist)\n",
    "g.map_offdiag(plt.scatter)\n",
    "g.add_legend();"
   ]
  },
  {
   "cell_type": "code",
   "execution_count": 85,
   "metadata": {},
   "outputs": [
    {
     "data": {
      "text/html": [
       "<div>\n",
       "<table border=\"1\" class=\"dataframe\">\n",
       "  <thead>\n",
       "    <tr style=\"text-align: right;\">\n",
       "      <th></th>\n",
       "      <th>sepal_length</th>\n",
       "      <th>sepal_width</th>\n",
       "      <th>petal_length</th>\n",
       "      <th>petal_width</th>\n",
       "      <th>species</th>\n",
       "      <th>alp</th>\n",
       "    </tr>\n",
       "  </thead>\n",
       "  <tbody>\n",
       "    <tr>\n",
       "      <th>0</th>\n",
       "      <td>5.1</td>\n",
       "      <td>3.5</td>\n",
       "      <td>1.4</td>\n",
       "      <td>0.2</td>\n",
       "      <td>setosa</td>\n",
       "      <td>0</td>\n",
       "    </tr>\n",
       "    <tr>\n",
       "      <th>1</th>\n",
       "      <td>4.9</td>\n",
       "      <td>3.0</td>\n",
       "      <td>1.4</td>\n",
       "      <td>0.2</td>\n",
       "      <td>setosa</td>\n",
       "      <td>1</td>\n",
       "    </tr>\n",
       "    <tr>\n",
       "      <th>2</th>\n",
       "      <td>4.7</td>\n",
       "      <td>3.2</td>\n",
       "      <td>1.3</td>\n",
       "      <td>0.2</td>\n",
       "      <td>setosa</td>\n",
       "      <td>1</td>\n",
       "    </tr>\n",
       "    <tr>\n",
       "      <th>3</th>\n",
       "      <td>4.6</td>\n",
       "      <td>3.1</td>\n",
       "      <td>1.5</td>\n",
       "      <td>0.2</td>\n",
       "      <td>setosa</td>\n",
       "      <td>1</td>\n",
       "    </tr>\n",
       "    <tr>\n",
       "      <th>4</th>\n",
       "      <td>5.0</td>\n",
       "      <td>3.6</td>\n",
       "      <td>1.4</td>\n",
       "      <td>0.2</td>\n",
       "      <td>setosa</td>\n",
       "      <td>0</td>\n",
       "    </tr>\n",
       "    <tr>\n",
       "      <th>5</th>\n",
       "      <td>5.4</td>\n",
       "      <td>3.9</td>\n",
       "      <td>1.7</td>\n",
       "      <td>0.4</td>\n",
       "      <td>setosa</td>\n",
       "      <td>0</td>\n",
       "    </tr>\n",
       "    <tr>\n",
       "      <th>6</th>\n",
       "      <td>4.6</td>\n",
       "      <td>3.4</td>\n",
       "      <td>1.4</td>\n",
       "      <td>0.3</td>\n",
       "      <td>setosa</td>\n",
       "      <td>1</td>\n",
       "    </tr>\n",
       "    <tr>\n",
       "      <th>7</th>\n",
       "      <td>5.0</td>\n",
       "      <td>3.4</td>\n",
       "      <td>1.5</td>\n",
       "      <td>0.2</td>\n",
       "      <td>setosa</td>\n",
       "      <td>1</td>\n",
       "    </tr>\n",
       "    <tr>\n",
       "      <th>8</th>\n",
       "      <td>4.4</td>\n",
       "      <td>2.9</td>\n",
       "      <td>1.4</td>\n",
       "      <td>0.2</td>\n",
       "      <td>setosa</td>\n",
       "      <td>1</td>\n",
       "    </tr>\n",
       "    <tr>\n",
       "      <th>9</th>\n",
       "      <td>4.9</td>\n",
       "      <td>3.1</td>\n",
       "      <td>1.5</td>\n",
       "      <td>0.1</td>\n",
       "      <td>setosa</td>\n",
       "      <td>1</td>\n",
       "    </tr>\n",
       "    <tr>\n",
       "      <th>10</th>\n",
       "      <td>5.4</td>\n",
       "      <td>3.7</td>\n",
       "      <td>1.5</td>\n",
       "      <td>0.2</td>\n",
       "      <td>setosa</td>\n",
       "      <td>0</td>\n",
       "    </tr>\n",
       "    <tr>\n",
       "      <th>11</th>\n",
       "      <td>4.8</td>\n",
       "      <td>3.4</td>\n",
       "      <td>1.6</td>\n",
       "      <td>0.2</td>\n",
       "      <td>setosa</td>\n",
       "      <td>1</td>\n",
       "    </tr>\n",
       "    <tr>\n",
       "      <th>12</th>\n",
       "      <td>4.8</td>\n",
       "      <td>3.0</td>\n",
       "      <td>1.4</td>\n",
       "      <td>0.1</td>\n",
       "      <td>setosa</td>\n",
       "      <td>0</td>\n",
       "    </tr>\n",
       "    <tr>\n",
       "      <th>13</th>\n",
       "      <td>4.3</td>\n",
       "      <td>3.0</td>\n",
       "      <td>1.1</td>\n",
       "      <td>0.1</td>\n",
       "      <td>setosa</td>\n",
       "      <td>1</td>\n",
       "    </tr>\n",
       "    <tr>\n",
       "      <th>14</th>\n",
       "      <td>5.8</td>\n",
       "      <td>4.0</td>\n",
       "      <td>1.2</td>\n",
       "      <td>0.2</td>\n",
       "      <td>setosa</td>\n",
       "      <td>0</td>\n",
       "    </tr>\n",
       "    <tr>\n",
       "      <th>15</th>\n",
       "      <td>5.7</td>\n",
       "      <td>4.4</td>\n",
       "      <td>1.5</td>\n",
       "      <td>0.4</td>\n",
       "      <td>setosa</td>\n",
       "      <td>0</td>\n",
       "    </tr>\n",
       "    <tr>\n",
       "      <th>16</th>\n",
       "      <td>5.4</td>\n",
       "      <td>3.9</td>\n",
       "      <td>1.3</td>\n",
       "      <td>0.4</td>\n",
       "      <td>setosa</td>\n",
       "      <td>0</td>\n",
       "    </tr>\n",
       "    <tr>\n",
       "      <th>17</th>\n",
       "      <td>5.1</td>\n",
       "      <td>3.5</td>\n",
       "      <td>1.4</td>\n",
       "      <td>0.3</td>\n",
       "      <td>setosa</td>\n",
       "      <td>0</td>\n",
       "    </tr>\n",
       "    <tr>\n",
       "      <th>18</th>\n",
       "      <td>5.7</td>\n",
       "      <td>3.8</td>\n",
       "      <td>1.7</td>\n",
       "      <td>0.3</td>\n",
       "      <td>setosa</td>\n",
       "      <td>1</td>\n",
       "    </tr>\n",
       "    <tr>\n",
       "      <th>19</th>\n",
       "      <td>5.1</td>\n",
       "      <td>3.8</td>\n",
       "      <td>1.5</td>\n",
       "      <td>0.3</td>\n",
       "      <td>setosa</td>\n",
       "      <td>1</td>\n",
       "    </tr>\n",
       "    <tr>\n",
       "      <th>20</th>\n",
       "      <td>5.4</td>\n",
       "      <td>3.4</td>\n",
       "      <td>1.7</td>\n",
       "      <td>0.2</td>\n",
       "      <td>setosa</td>\n",
       "      <td>1</td>\n",
       "    </tr>\n",
       "    <tr>\n",
       "      <th>21</th>\n",
       "      <td>5.1</td>\n",
       "      <td>3.7</td>\n",
       "      <td>1.5</td>\n",
       "      <td>0.4</td>\n",
       "      <td>setosa</td>\n",
       "      <td>1</td>\n",
       "    </tr>\n",
       "    <tr>\n",
       "      <th>22</th>\n",
       "      <td>4.6</td>\n",
       "      <td>3.6</td>\n",
       "      <td>1.0</td>\n",
       "      <td>0.2</td>\n",
       "      <td>setosa</td>\n",
       "      <td>1</td>\n",
       "    </tr>\n",
       "    <tr>\n",
       "      <th>23</th>\n",
       "      <td>5.1</td>\n",
       "      <td>3.3</td>\n",
       "      <td>1.7</td>\n",
       "      <td>0.5</td>\n",
       "      <td>setosa</td>\n",
       "      <td>0</td>\n",
       "    </tr>\n",
       "    <tr>\n",
       "      <th>24</th>\n",
       "      <td>4.8</td>\n",
       "      <td>3.4</td>\n",
       "      <td>1.9</td>\n",
       "      <td>0.2</td>\n",
       "      <td>setosa</td>\n",
       "      <td>1</td>\n",
       "    </tr>\n",
       "    <tr>\n",
       "      <th>25</th>\n",
       "      <td>5.0</td>\n",
       "      <td>3.0</td>\n",
       "      <td>1.6</td>\n",
       "      <td>0.2</td>\n",
       "      <td>setosa</td>\n",
       "      <td>0</td>\n",
       "    </tr>\n",
       "    <tr>\n",
       "      <th>26</th>\n",
       "      <td>5.0</td>\n",
       "      <td>3.4</td>\n",
       "      <td>1.6</td>\n",
       "      <td>0.4</td>\n",
       "      <td>setosa</td>\n",
       "      <td>1</td>\n",
       "    </tr>\n",
       "    <tr>\n",
       "      <th>27</th>\n",
       "      <td>5.2</td>\n",
       "      <td>3.5</td>\n",
       "      <td>1.5</td>\n",
       "      <td>0.2</td>\n",
       "      <td>setosa</td>\n",
       "      <td>0</td>\n",
       "    </tr>\n",
       "    <tr>\n",
       "      <th>28</th>\n",
       "      <td>5.2</td>\n",
       "      <td>3.4</td>\n",
       "      <td>1.4</td>\n",
       "      <td>0.2</td>\n",
       "      <td>setosa</td>\n",
       "      <td>1</td>\n",
       "    </tr>\n",
       "    <tr>\n",
       "      <th>29</th>\n",
       "      <td>4.7</td>\n",
       "      <td>3.2</td>\n",
       "      <td>1.6</td>\n",
       "      <td>0.2</td>\n",
       "      <td>setosa</td>\n",
       "      <td>0</td>\n",
       "    </tr>\n",
       "    <tr>\n",
       "      <th>...</th>\n",
       "      <td>...</td>\n",
       "      <td>...</td>\n",
       "      <td>...</td>\n",
       "      <td>...</td>\n",
       "      <td>...</td>\n",
       "      <td>...</td>\n",
       "    </tr>\n",
       "    <tr>\n",
       "      <th>120</th>\n",
       "      <td>6.9</td>\n",
       "      <td>3.2</td>\n",
       "      <td>5.7</td>\n",
       "      <td>2.3</td>\n",
       "      <td>virginica</td>\n",
       "      <td>0</td>\n",
       "    </tr>\n",
       "    <tr>\n",
       "      <th>121</th>\n",
       "      <td>5.6</td>\n",
       "      <td>2.8</td>\n",
       "      <td>4.9</td>\n",
       "      <td>2.0</td>\n",
       "      <td>virginica</td>\n",
       "      <td>1</td>\n",
       "    </tr>\n",
       "    <tr>\n",
       "      <th>122</th>\n",
       "      <td>7.7</td>\n",
       "      <td>2.8</td>\n",
       "      <td>6.7</td>\n",
       "      <td>2.0</td>\n",
       "      <td>virginica</td>\n",
       "      <td>0</td>\n",
       "    </tr>\n",
       "    <tr>\n",
       "      <th>123</th>\n",
       "      <td>6.3</td>\n",
       "      <td>2.7</td>\n",
       "      <td>4.9</td>\n",
       "      <td>1.8</td>\n",
       "      <td>virginica</td>\n",
       "      <td>0</td>\n",
       "    </tr>\n",
       "    <tr>\n",
       "      <th>124</th>\n",
       "      <td>6.7</td>\n",
       "      <td>3.3</td>\n",
       "      <td>5.7</td>\n",
       "      <td>2.1</td>\n",
       "      <td>virginica</td>\n",
       "      <td>0</td>\n",
       "    </tr>\n",
       "    <tr>\n",
       "      <th>125</th>\n",
       "      <td>7.2</td>\n",
       "      <td>3.2</td>\n",
       "      <td>6.0</td>\n",
       "      <td>1.8</td>\n",
       "      <td>virginica</td>\n",
       "      <td>0</td>\n",
       "    </tr>\n",
       "    <tr>\n",
       "      <th>126</th>\n",
       "      <td>6.2</td>\n",
       "      <td>2.8</td>\n",
       "      <td>4.8</td>\n",
       "      <td>1.8</td>\n",
       "      <td>virginica</td>\n",
       "      <td>0</td>\n",
       "    </tr>\n",
       "    <tr>\n",
       "      <th>127</th>\n",
       "      <td>6.1</td>\n",
       "      <td>3.0</td>\n",
       "      <td>4.9</td>\n",
       "      <td>1.8</td>\n",
       "      <td>virginica</td>\n",
       "      <td>1</td>\n",
       "    </tr>\n",
       "    <tr>\n",
       "      <th>128</th>\n",
       "      <td>6.4</td>\n",
       "      <td>2.8</td>\n",
       "      <td>5.6</td>\n",
       "      <td>2.1</td>\n",
       "      <td>virginica</td>\n",
       "      <td>0</td>\n",
       "    </tr>\n",
       "    <tr>\n",
       "      <th>129</th>\n",
       "      <td>7.2</td>\n",
       "      <td>3.0</td>\n",
       "      <td>5.8</td>\n",
       "      <td>1.6</td>\n",
       "      <td>virginica</td>\n",
       "      <td>1</td>\n",
       "    </tr>\n",
       "    <tr>\n",
       "      <th>130</th>\n",
       "      <td>7.4</td>\n",
       "      <td>2.8</td>\n",
       "      <td>6.1</td>\n",
       "      <td>1.9</td>\n",
       "      <td>virginica</td>\n",
       "      <td>0</td>\n",
       "    </tr>\n",
       "    <tr>\n",
       "      <th>131</th>\n",
       "      <td>7.9</td>\n",
       "      <td>3.8</td>\n",
       "      <td>6.4</td>\n",
       "      <td>2.0</td>\n",
       "      <td>virginica</td>\n",
       "      <td>0</td>\n",
       "    </tr>\n",
       "    <tr>\n",
       "      <th>132</th>\n",
       "      <td>6.4</td>\n",
       "      <td>2.8</td>\n",
       "      <td>5.6</td>\n",
       "      <td>2.2</td>\n",
       "      <td>virginica</td>\n",
       "      <td>1</td>\n",
       "    </tr>\n",
       "    <tr>\n",
       "      <th>133</th>\n",
       "      <td>6.3</td>\n",
       "      <td>2.8</td>\n",
       "      <td>5.1</td>\n",
       "      <td>1.5</td>\n",
       "      <td>virginica</td>\n",
       "      <td>1</td>\n",
       "    </tr>\n",
       "    <tr>\n",
       "      <th>134</th>\n",
       "      <td>6.1</td>\n",
       "      <td>2.6</td>\n",
       "      <td>5.6</td>\n",
       "      <td>1.4</td>\n",
       "      <td>virginica</td>\n",
       "      <td>1</td>\n",
       "    </tr>\n",
       "    <tr>\n",
       "      <th>135</th>\n",
       "      <td>7.7</td>\n",
       "      <td>3.0</td>\n",
       "      <td>6.1</td>\n",
       "      <td>2.3</td>\n",
       "      <td>virginica</td>\n",
       "      <td>1</td>\n",
       "    </tr>\n",
       "    <tr>\n",
       "      <th>136</th>\n",
       "      <td>6.3</td>\n",
       "      <td>3.4</td>\n",
       "      <td>5.6</td>\n",
       "      <td>2.4</td>\n",
       "      <td>virginica</td>\n",
       "      <td>0</td>\n",
       "    </tr>\n",
       "    <tr>\n",
       "      <th>137</th>\n",
       "      <td>6.4</td>\n",
       "      <td>3.1</td>\n",
       "      <td>5.5</td>\n",
       "      <td>1.8</td>\n",
       "      <td>virginica</td>\n",
       "      <td>0</td>\n",
       "    </tr>\n",
       "    <tr>\n",
       "      <th>138</th>\n",
       "      <td>6.0</td>\n",
       "      <td>3.0</td>\n",
       "      <td>4.8</td>\n",
       "      <td>1.8</td>\n",
       "      <td>virginica</td>\n",
       "      <td>1</td>\n",
       "    </tr>\n",
       "    <tr>\n",
       "      <th>139</th>\n",
       "      <td>6.9</td>\n",
       "      <td>3.1</td>\n",
       "      <td>5.4</td>\n",
       "      <td>2.1</td>\n",
       "      <td>virginica</td>\n",
       "      <td>0</td>\n",
       "    </tr>\n",
       "    <tr>\n",
       "      <th>140</th>\n",
       "      <td>6.7</td>\n",
       "      <td>3.1</td>\n",
       "      <td>5.6</td>\n",
       "      <td>2.4</td>\n",
       "      <td>virginica</td>\n",
       "      <td>1</td>\n",
       "    </tr>\n",
       "    <tr>\n",
       "      <th>141</th>\n",
       "      <td>6.9</td>\n",
       "      <td>3.1</td>\n",
       "      <td>5.1</td>\n",
       "      <td>2.3</td>\n",
       "      <td>virginica</td>\n",
       "      <td>1</td>\n",
       "    </tr>\n",
       "    <tr>\n",
       "      <th>142</th>\n",
       "      <td>5.8</td>\n",
       "      <td>2.7</td>\n",
       "      <td>5.1</td>\n",
       "      <td>1.9</td>\n",
       "      <td>virginica</td>\n",
       "      <td>1</td>\n",
       "    </tr>\n",
       "    <tr>\n",
       "      <th>143</th>\n",
       "      <td>6.8</td>\n",
       "      <td>3.2</td>\n",
       "      <td>5.9</td>\n",
       "      <td>2.3</td>\n",
       "      <td>virginica</td>\n",
       "      <td>1</td>\n",
       "    </tr>\n",
       "    <tr>\n",
       "      <th>144</th>\n",
       "      <td>6.7</td>\n",
       "      <td>3.3</td>\n",
       "      <td>5.7</td>\n",
       "      <td>2.5</td>\n",
       "      <td>virginica</td>\n",
       "      <td>0</td>\n",
       "    </tr>\n",
       "    <tr>\n",
       "      <th>145</th>\n",
       "      <td>6.7</td>\n",
       "      <td>3.0</td>\n",
       "      <td>5.2</td>\n",
       "      <td>2.3</td>\n",
       "      <td>virginica</td>\n",
       "      <td>0</td>\n",
       "    </tr>\n",
       "    <tr>\n",
       "      <th>146</th>\n",
       "      <td>6.3</td>\n",
       "      <td>2.5</td>\n",
       "      <td>5.0</td>\n",
       "      <td>1.9</td>\n",
       "      <td>virginica</td>\n",
       "      <td>1</td>\n",
       "    </tr>\n",
       "    <tr>\n",
       "      <th>147</th>\n",
       "      <td>6.5</td>\n",
       "      <td>3.0</td>\n",
       "      <td>5.2</td>\n",
       "      <td>2.0</td>\n",
       "      <td>virginica</td>\n",
       "      <td>0</td>\n",
       "    </tr>\n",
       "    <tr>\n",
       "      <th>148</th>\n",
       "      <td>6.2</td>\n",
       "      <td>3.4</td>\n",
       "      <td>5.4</td>\n",
       "      <td>2.3</td>\n",
       "      <td>virginica</td>\n",
       "      <td>0</td>\n",
       "    </tr>\n",
       "    <tr>\n",
       "      <th>149</th>\n",
       "      <td>5.9</td>\n",
       "      <td>3.0</td>\n",
       "      <td>5.1</td>\n",
       "      <td>1.8</td>\n",
       "      <td>virginica</td>\n",
       "      <td>1</td>\n",
       "    </tr>\n",
       "  </tbody>\n",
       "</table>\n",
       "<p>150 rows × 6 columns</p>\n",
       "</div>"
      ],
      "text/plain": [
       "     sepal_length  sepal_width  petal_length  petal_width    species  alp\n",
       "0             5.1          3.5           1.4          0.2     setosa    0\n",
       "1             4.9          3.0           1.4          0.2     setosa    1\n",
       "2             4.7          3.2           1.3          0.2     setosa    1\n",
       "3             4.6          3.1           1.5          0.2     setosa    1\n",
       "4             5.0          3.6           1.4          0.2     setosa    0\n",
       "5             5.4          3.9           1.7          0.4     setosa    0\n",
       "6             4.6          3.4           1.4          0.3     setosa    1\n",
       "7             5.0          3.4           1.5          0.2     setosa    1\n",
       "8             4.4          2.9           1.4          0.2     setosa    1\n",
       "9             4.9          3.1           1.5          0.1     setosa    1\n",
       "10            5.4          3.7           1.5          0.2     setosa    0\n",
       "11            4.8          3.4           1.6          0.2     setosa    1\n",
       "12            4.8          3.0           1.4          0.1     setosa    0\n",
       "13            4.3          3.0           1.1          0.1     setosa    1\n",
       "14            5.8          4.0           1.2          0.2     setosa    0\n",
       "15            5.7          4.4           1.5          0.4     setosa    0\n",
       "16            5.4          3.9           1.3          0.4     setosa    0\n",
       "17            5.1          3.5           1.4          0.3     setosa    0\n",
       "18            5.7          3.8           1.7          0.3     setosa    1\n",
       "19            5.1          3.8           1.5          0.3     setosa    1\n",
       "20            5.4          3.4           1.7          0.2     setosa    1\n",
       "21            5.1          3.7           1.5          0.4     setosa    1\n",
       "22            4.6          3.6           1.0          0.2     setosa    1\n",
       "23            5.1          3.3           1.7          0.5     setosa    0\n",
       "24            4.8          3.4           1.9          0.2     setosa    1\n",
       "25            5.0          3.0           1.6          0.2     setosa    0\n",
       "26            5.0          3.4           1.6          0.4     setosa    1\n",
       "27            5.2          3.5           1.5          0.2     setosa    0\n",
       "28            5.2          3.4           1.4          0.2     setosa    1\n",
       "29            4.7          3.2           1.6          0.2     setosa    0\n",
       "..            ...          ...           ...          ...        ...  ...\n",
       "120           6.9          3.2           5.7          2.3  virginica    0\n",
       "121           5.6          2.8           4.9          2.0  virginica    1\n",
       "122           7.7          2.8           6.7          2.0  virginica    0\n",
       "123           6.3          2.7           4.9          1.8  virginica    0\n",
       "124           6.7          3.3           5.7          2.1  virginica    0\n",
       "125           7.2          3.2           6.0          1.8  virginica    0\n",
       "126           6.2          2.8           4.8          1.8  virginica    0\n",
       "127           6.1          3.0           4.9          1.8  virginica    1\n",
       "128           6.4          2.8           5.6          2.1  virginica    0\n",
       "129           7.2          3.0           5.8          1.6  virginica    1\n",
       "130           7.4          2.8           6.1          1.9  virginica    0\n",
       "131           7.9          3.8           6.4          2.0  virginica    0\n",
       "132           6.4          2.8           5.6          2.2  virginica    1\n",
       "133           6.3          2.8           5.1          1.5  virginica    1\n",
       "134           6.1          2.6           5.6          1.4  virginica    1\n",
       "135           7.7          3.0           6.1          2.3  virginica    1\n",
       "136           6.3          3.4           5.6          2.4  virginica    0\n",
       "137           6.4          3.1           5.5          1.8  virginica    0\n",
       "138           6.0          3.0           4.8          1.8  virginica    1\n",
       "139           6.9          3.1           5.4          2.1  virginica    0\n",
       "140           6.7          3.1           5.6          2.4  virginica    1\n",
       "141           6.9          3.1           5.1          2.3  virginica    1\n",
       "142           5.8          2.7           5.1          1.9  virginica    1\n",
       "143           6.8          3.2           5.9          2.3  virginica    1\n",
       "144           6.7          3.3           5.7          2.5  virginica    0\n",
       "145           6.7          3.0           5.2          2.3  virginica    0\n",
       "146           6.3          2.5           5.0          1.9  virginica    1\n",
       "147           6.5          3.0           5.2          2.0  virginica    0\n",
       "148           6.2          3.4           5.4          2.3  virginica    0\n",
       "149           5.9          3.0           5.1          1.8  virginica    1\n",
       "\n",
       "[150 rows x 6 columns]"
      ]
     },
     "execution_count": 85,
     "metadata": {},
     "output_type": "execute_result"
    }
   ],
   "source": [
    "iris"
   ]
  },
  {
   "cell_type": "code",
   "execution_count": 126,
   "metadata": {},
   "outputs": [
    {
     "data": {
      "text/html": [
       "<div class=\"vega-embed\" id=\"8197ef17-830e-4563-9afa-718b8c7b2f35\"></div>\n",
       "\n",
       "<style>\n",
       ".vega-embed svg, .vega-embed canvas {\n",
       "  border: 1px dotted gray;\n",
       "}\n",
       "\n",
       ".vega-embed .vega-actions a {\n",
       "  margin-right: 6px;\n",
       "}\n",
       "</style>\n"
      ]
     },
     "metadata": {
      "jupyter-vega": "#8197ef17-830e-4563-9afa-718b8c7b2f35"
     },
     "output_type": "display_data"
    },
    {
     "data": {
      "application/javascript": [
       "var spec = {\"data\": {\"url\": \"http://vega.github.io/vega-lite/data/cars.json\"}, \"encoding\": {\"y\": {\"field\": \"Cylinders\", \"type\": \"ordinal\"}, \"x\": {\"field\": \"Horsepower\", \"type\": \"quantitative\"}}, \"config\": {\"cell\": {\"width\": 500, \"height\": 350}}, \"description\": \"Shows the relationship between horsepower and the numbver of cylinders using tick marks.\", \"mark\": \"tick\"};\n",
       "var selector = \"#8197ef17-830e-4563-9afa-718b8c7b2f35\";\n",
       "var type = \"vega-lite\";\n",
       "\n",
       "var output_area = this;\n",
       "require(['nbextensions/jupyter-vega/index'], function(vega) {\n",
       "  vega.render(selector, spec, type, output_area);\n",
       "}, function (err) {\n",
       "  if (err.requireType !== 'scripterror') {\n",
       "    throw(err);\n",
       "  }\n",
       "});\n"
      ]
     },
     "metadata": {
      "jupyter-vega": "#8197ef17-830e-4563-9afa-718b8c7b2f35"
     },
     "output_type": "display_data"
    }
   ],
   "source": [
    "from altair import *\n",
    "\n",
    "c = Chart('http://vega.github.io/vega-lite/data/cars.json',\n",
    "    description='Shows the relationship between horsepower and the numbver of cylinders using tick marks.',\n",
    ").mark_tick().encode(\n",
    "    x='Horsepower:Q',\n",
    "    y='Cylinders:O',\n",
    ")\n",
    "c"
   ]
  },
  {
   "cell_type": "code",
   "execution_count": 128,
   "metadata": {},
   "outputs": [
    {
     "data": {
      "text/plain": [
       "'{\"data\": {\"url\": \"http://vega.github.io/vega-lite/data/cars.json\"}, \"description\": \"Shows the relationship between horsepower and the numbver of cylinders using tick marks.\", \"encoding\": {\"x\": {\"field\": \"Horsepower\", \"type\": \"quantitative\"}, \"y\": {\"field\": \"Cylinders\", \"type\": \"ordinal\"}}, \"mark\": \"tick\"}'"
      ]
     },
     "execution_count": 128,
     "metadata": {},
     "output_type": "execute_result"
    }
   ],
   "source": [
    "c.to_json()\n"
   ]
  },
  {
   "cell_type": "code",
   "execution_count": 135,
   "metadata": {},
   "outputs": [
    {
     "data": {
      "text/html": [
       "<div class=\"vega-embed\" id=\"57f90f5b-c2bd-4411-910b-5908771d3233\"></div>\n",
       "\n",
       "<style>\n",
       ".vega-embed svg, .vega-embed canvas {\n",
       "  border: 1px dotted gray;\n",
       "}\n",
       "\n",
       ".vega-embed .vega-actions a {\n",
       "  margin-right: 6px;\n",
       "}\n",
       "</style>\n"
      ]
     },
     "metadata": {
      "jupyter-vega": "#57f90f5b-c2bd-4411-910b-5908771d3233"
     },
     "output_type": "display_data"
    },
    {
     "data": {
      "application/javascript": [
       "var spec = {\"data\": {\"url\": \"http://vega.github.io/vega-lite/data/stocks.csv\", \"format\": {\"type\": \"csv\"}}, \"encoding\": {\"y\": {\"field\": \"price\", \"type\": \"quantitative\"}, \"color\": {\"field\": \"symbol\", \"type\": \"nominal\"}, \"x\": {\"field\": \"date\", \"type\": \"temporal\"}}, \"config\": {\"cell\": {\"width\": 500, \"height\": 350}}, \"description\": \"Stock prices of 5 Tech Companies Over Time.\", \"mark\": \"line\"};\n",
       "var selector = \"#57f90f5b-c2bd-4411-910b-5908771d3233\";\n",
       "var type = \"vega-lite\";\n",
       "\n",
       "var output_area = this;\n",
       "require(['nbextensions/jupyter-vega/index'], function(vega) {\n",
       "  vega.render(selector, spec, type, output_area);\n",
       "}, function (err) {\n",
       "  if (err.requireType !== 'scripterror') {\n",
       "    throw(err);\n",
       "  }\n",
       "});\n"
      ]
     },
     "metadata": {
      "jupyter-vega": "#57f90f5b-c2bd-4411-910b-5908771d3233"
     },
     "output_type": "display_data"
    }
   ],
   "source": [
    "from altair import *\n",
    "\n",
    "Chart(Data(\n",
    "    format=DataFormat(\n",
    "        type='csv',\n",
    "    ),\n",
    "    url='http://vega.github.io/vega-lite/data/stocks.csv',\n",
    "),\n",
    "    description='Stock prices of 5 Tech Companies Over Time.',\n",
    ").mark_line().encode(\n",
    "    color='symbol:N',\n",
    "    x='date:T',\n",
    "    y='price:Q',\n",
    ")"
   ]
  },
  {
   "cell_type": "code",
   "execution_count": null,
   "metadata": {
    "collapsed": true
   },
   "outputs": [],
   "source": []
  }
 ],
 "metadata": {
  "kernelspec": {
   "display_name": "Python 2",
   "language": "python",
   "name": "python2"
  },
  "language_info": {
   "codemirror_mode": {
    "name": "ipython",
    "version": 2
   },
   "file_extension": ".py",
   "mimetype": "text/x-python",
   "name": "python",
   "nbconvert_exporter": "python",
   "pygments_lexer": "ipython2",
   "version": "2.7.11"
  }
 },
 "nbformat": 4,
 "nbformat_minor": 2
}
