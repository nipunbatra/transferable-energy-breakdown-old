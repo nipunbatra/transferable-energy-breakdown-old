{
 "cells": [
  {
   "cell_type": "code",
   "execution_count": 1,
   "metadata": {
    "collapsed": true
   },
   "outputs": [],
   "source": [
    "import matplotlib.pyplot as plt\n",
    "%matplotlib inline\n",
    "from plot_functions import *\n",
    "from sklearn.model_selection import KFold"
   ]
  },
  {
   "cell_type": "code",
   "execution_count": 2,
   "metadata": {
    "collapsed": true
   },
   "outputs": [],
   "source": [
    "from create_matrix import *\n",
    "\n",
    "from tensor_custom_core import *\n",
    "from create_matrix import *\n",
    "from tensor_custom_core import *\n",
    "from degree_days import dds\n",
    "appliance_index = {appliance: APPLIANCES_ORDER.index(appliance) for appliance in APPLIANCES_ORDER}\n",
    "\n",
    "APPLIANCES = ['fridge', 'hvac', 'wm', 'mw', 'oven', 'dw']\n",
    "region = \"SanDiego\"\n",
    "year = 2014\n",
    "\n",
    "import os\n",
    "\n",
    "\n",
    "def un_normalize(x, maximum, minimum):\n",
    "    return (maximum - minimum) * x + minimum"
   ]
  },
  {
   "cell_type": "code",
   "execution_count": 3,
   "metadata": {
    "collapsed": true
   },
   "outputs": [],
   "source": [
    "n_splits = 10\n",
    "import sys\n",
    "case=2\n",
    "a=2\n",
    "cost='abs'"
   ]
  },
  {
   "cell_type": "code",
   "execution_count": 4,
   "metadata": {
    "collapsed": true
   },
   "outputs": [],
   "source": [
    "def get_tensor(df, dfc):\n",
    "    start, stop = 1, 13\n",
    "    energy_cols = np.array(\n",
    "        [['%s_%d' % (appliance, month) for month in range(start, stop)] for appliance in APPLIANCES_ORDER]).flatten()\n",
    "\n",
    "    static_cols = ['area', 'total_occupants', 'num_rooms']\n",
    "    static_df = df[static_cols]\n",
    "    static_df = static_df.div(static_df.max())\n",
    "    weather_values = np.array(dds[2014][region][start - 1:stop - 1]).reshape(-1, 1)\n",
    "\n",
    "    dfc = df.copy()\n",
    "\n",
    "    df = dfc[energy_cols]\n",
    "    col_max = df.max().max()\n",
    "    col_min = df.min().min()\n",
    "    # df = (1.0 * (df - col_min)) / (col_max - col_min)\n",
    "    tensor = df.values.reshape((len(df), 7, stop - start))\n",
    "    M, N, O = tensor.shape\n",
    "    return tensor"
   ]
  },
  {
   "cell_type": "code",
   "execution_count": 5,
   "metadata": {
    "collapsed": true
   },
   "outputs": [],
   "source": [
    "au_df, au_dfc = create_matrix_single_region(\"Austin\", year)\n",
    "au_tensor = get_tensor(au_df, au_dfc)"
   ]
  },
  {
   "cell_type": "code",
   "execution_count": 6,
   "metadata": {
    "collapsed": true
   },
   "outputs": [],
   "source": [
    "# Learn A from Austin\n",
    "H_au, A_au, T_au = learn_HAT(case, au_tensor, a, a, num_iter=2000, lr=0.1, dis=False, cost_function=cost)"
   ]
  },
  {
   "cell_type": "code",
   "execution_count": 20,
   "metadata": {},
   "outputs": [
    {
     "data": {
      "text/html": [
       "<div>\n",
       "<table border=\"1\" class=\"dataframe\">\n",
       "  <thead>\n",
       "    <tr style=\"text-align: right;\">\n",
       "      <th></th>\n",
       "      <th>0</th>\n",
       "      <th>1</th>\n",
       "    </tr>\n",
       "  </thead>\n",
       "  <tbody>\n",
       "    <tr>\n",
       "      <th>0</th>\n",
       "      <td>0.503826</td>\n",
       "      <td>0.110311</td>\n",
       "    </tr>\n",
       "    <tr>\n",
       "      <th>1</th>\n",
       "      <td>0.302086</td>\n",
       "      <td>0.023089</td>\n",
       "    </tr>\n",
       "  </tbody>\n",
       "</table>\n",
       "</div>"
      ],
      "text/plain": [
       "          0         1\n",
       "0  0.503826  0.110311\n",
       "1  0.302086  0.023089"
      ]
     },
     "execution_count": 20,
     "metadata": {},
     "output_type": "execute_result"
    }
   ],
   "source": [
    "pd.DataFrame(A_au[6, :, :])"
   ]
  },
  {
   "cell_type": "code",
   "execution_count": 21,
   "metadata": {
    "collapsed": true
   },
   "outputs": [],
   "source": [
    "df, dfc = create_matrix_single_region(\"SanDiego\", year)\n",
    "tensor = get_tensor(df, dfc)"
   ]
  },
  {
   "cell_type": "code",
   "execution_count": 22,
   "metadata": {
    "collapsed": true
   },
   "outputs": [],
   "source": [
    "from sklearn.model_selection import train_test_split, KFold"
   ]
  },
  {
   "cell_type": "code",
   "execution_count": 23,
   "metadata": {
    "collapsed": true
   },
   "outputs": [],
   "source": [
    "n_splits = 10\n"
   ]
  },
  {
   "cell_type": "code",
   "execution_count": 24,
   "metadata": {
    "collapsed": true
   },
   "outputs": [],
   "source": [
    "from common import compute_rmse"
   ]
  },
  {
   "cell_type": "code",
   "execution_count": 25,
   "metadata": {},
   "outputs": [
    {
     "data": {
      "text/plain": [
       "array([ 0.1,  0.2,  0.3,  0.4,  0.5,  0.6,  0.7,  0.8,  0.9])"
      ]
     },
     "execution_count": 25,
     "metadata": {},
     "output_type": "execute_result"
    }
   ],
   "source": [
    "np.arange(0.1, 1.0, 0.1)"
   ]
  },
  {
   "cell_type": "code",
   "execution_count": 27,
   "metadata": {
    "scrolled": true
   },
   "outputs": [
    {
     "name": "stdout",
     "output_type": "stream",
     "text": [
      "(0, '\\n')\n",
      "10\n",
      "20\n",
      "30\n",
      "40\n",
      "50\n",
      "60\n",
      "70\n",
      "80\n",
      "90\n",
      "100\n",
      "(1, '\\n')\n",
      "10\n",
      "20\n",
      "30\n",
      "40\n",
      "50\n",
      "60\n",
      "70\n",
      "80\n",
      "90\n",
      "100\n",
      "(2, '\\n')\n",
      "10\n",
      "20\n",
      "30\n",
      "40\n",
      "50\n",
      "60\n",
      "70\n",
      "80\n",
      "90\n",
      "100\n",
      "(3, '\\n')\n",
      "10\n",
      "20\n",
      "30\n",
      "40\n",
      "50\n",
      "60\n",
      "70\n",
      "80\n",
      "90\n",
      "100\n",
      "(4, '\\n')\n",
      "10\n",
      "20\n",
      "30\n",
      "40\n",
      "50\n",
      "60\n",
      "70\n",
      "80\n",
      "90\n",
      "100\n",
      "(5, '\\n')\n",
      "10\n",
      "20\n",
      "30\n",
      "40\n",
      "50\n",
      "60\n",
      "70\n",
      "80\n",
      "90\n",
      "100\n",
      "(6, '\\n')\n",
      "10\n",
      "20\n",
      "30\n",
      "40\n",
      "50\n",
      "60\n",
      "70\n",
      "80\n",
      "90\n",
      "100\n",
      "(7, '\\n')\n",
      "10\n",
      "20\n",
      "30\n",
      "40\n",
      "50\n",
      "60\n",
      "70\n",
      "80\n",
      "90\n",
      "100\n",
      "(8, '\\n')\n",
      "10\n",
      "20\n",
      "30\n",
      "40\n",
      "50\n",
      "60\n",
      "70\n",
      "80\n",
      "90\n",
      "100\n",
      "(9, '\\n')\n",
      "10\n",
      "20\n",
      "30\n",
      "40\n",
      "50\n",
      "60\n",
      "70\n",
      "80\n",
      "90\n",
      "100\n"
     ]
    }
   ],
   "source": [
    "pred = {}\n",
    "sd = {}\n",
    "out = {}\n",
    "n_splits = 10\n",
    "case = 2\n",
    "a = 2\n",
    "cost = 'abs'\n",
    "for random_seed in range(10):\n",
    "    pred[random_seed] = {}\n",
    "    for appliance in APPLIANCES_ORDER:\n",
    "        pred[random_seed][appliance] = {f:[] for f in range(10, 110, 10)}\n",
    "\n",
    "kf = KFold(n_splits=n_splits)\n",
    "for random_seed in range(10):\n",
    "    print(random_seed,\"\\n\")\n",
    "    for train_percentage in range(10, 110, 10):\n",
    "        print train_percentage\n",
    "        for train_max, test in kf.split(df):\n",
    "\n",
    "            num_train = int((train_percentage*len(train_max)/100)+0.5)\n",
    "            if train_percentage==100:\n",
    "                train = train_max\n",
    "            else:\n",
    "                train, _ = train_test_split(train_max, train_size = train_percentage/100.0, random_state=random_seed)\n",
    "            train_ix = df.index[train]\n",
    "            test_ix = df.index[test]\n",
    "           \n",
    "            num_test = len(test_ix)\n",
    "            train_test_ix = np.concatenate([test_ix, train_ix])\n",
    "            df_t, dfc_t = df.ix[train_test_ix], dfc.ix[train_test_ix]\n",
    "            tensor = get_tensor(df_t, dfc_t)\n",
    "            tensor_copy = tensor.copy()\n",
    "            # First n\n",
    "            tensor_copy[:num_test, 1:, :] = np.NaN\n",
    "            H, A, T = learn_HAT(case, tensor_copy, a, a, num_iter=2000, lr=0.1, dis=False, cost_function=cost, A_known=A_au)\n",
    "            assert(np.allclose(A, A_au))\n",
    "            HAT = multiply_case(H, A, T, case)\n",
    "            for appliance in APPLIANCES_ORDER:\n",
    "                pred[random_seed][appliance][train_percentage].append(pd.DataFrame(HAT[:num_test, appliance_index[appliance], :], index=test_ix))\n"
   ]
  },
  {
   "cell_type": "code",
   "execution_count": 28,
   "metadata": {
    "collapsed": true
   },
   "outputs": [],
   "source": [
    "from common import compute_rmse_fraction"
   ]
  },
  {
   "cell_type": "code",
   "execution_count": 30,
   "metadata": {
    "collapsed": true
   },
   "outputs": [],
   "source": [
    "out = {}\n",
    "for random_seed in range(10):\n",
    "    out[random_seed] = {}\n",
    "       \n",
    "    for appliance in APPLIANCES_ORDER[1:]:\n",
    "        out[random_seed][appliance] = {}\n",
    "        for f in range(10, 110, 10):\n",
    "            s = pd.concat(pred[random_seed][appliance][f]).ix[df.index]\n",
    "            if appliance==\"hvac\":\n",
    "                    out[random_seed][appliance][f] = compute_rmse_fraction(appliance,s[range(4, 10)],'SanDiego')[2]\n",
    "            else:   \n",
    "                out[random_seed][appliance][f] = compute_rmse_fraction(appliance, s,'SanDiego')[2]\n",
    "\n",
    "    "
   ]
  },
  {
   "cell_type": "code",
   "execution_count": 31,
   "metadata": {},
   "outputs": [
    {
     "data": {
      "text/html": [
       "<div>\n",
       "<table border=\"1\" class=\"dataframe\">\n",
       "  <thead>\n",
       "    <tr style=\"text-align: right;\">\n",
       "      <th></th>\n",
       "      <th>dw</th>\n",
       "      <th>fridge</th>\n",
       "      <th>hvac</th>\n",
       "      <th>mw</th>\n",
       "      <th>oven</th>\n",
       "      <th>wm</th>\n",
       "    </tr>\n",
       "  </thead>\n",
       "  <tbody>\n",
       "    <tr>\n",
       "      <th>10</th>\n",
       "      <td>1.957949</td>\n",
       "      <td>11.675579</td>\n",
       "      <td>20.032584</td>\n",
       "      <td>2.372723</td>\n",
       "      <td>2.446823</td>\n",
       "      <td>0.997089</td>\n",
       "    </tr>\n",
       "    <tr>\n",
       "      <th>20</th>\n",
       "      <td>1.900259</td>\n",
       "      <td>11.293426</td>\n",
       "      <td>17.674085</td>\n",
       "      <td>2.327941</td>\n",
       "      <td>2.329474</td>\n",
       "      <td>0.959304</td>\n",
       "    </tr>\n",
       "    <tr>\n",
       "      <th>30</th>\n",
       "      <td>1.880416</td>\n",
       "      <td>11.083748</td>\n",
       "      <td>17.711442</td>\n",
       "      <td>2.301545</td>\n",
       "      <td>2.270807</td>\n",
       "      <td>0.939887</td>\n",
       "    </tr>\n",
       "    <tr>\n",
       "      <th>40</th>\n",
       "      <td>1.853396</td>\n",
       "      <td>10.723234</td>\n",
       "      <td>17.822501</td>\n",
       "      <td>2.285436</td>\n",
       "      <td>2.157948</td>\n",
       "      <td>0.926237</td>\n",
       "    </tr>\n",
       "    <tr>\n",
       "      <th>50</th>\n",
       "      <td>1.845346</td>\n",
       "      <td>10.482095</td>\n",
       "      <td>17.406797</td>\n",
       "      <td>2.279233</td>\n",
       "      <td>2.102834</td>\n",
       "      <td>0.915706</td>\n",
       "    </tr>\n",
       "    <tr>\n",
       "      <th>60</th>\n",
       "      <td>1.837418</td>\n",
       "      <td>10.290232</td>\n",
       "      <td>16.898504</td>\n",
       "      <td>2.270316</td>\n",
       "      <td>2.064302</td>\n",
       "      <td>0.908209</td>\n",
       "    </tr>\n",
       "    <tr>\n",
       "      <th>70</th>\n",
       "      <td>1.833359</td>\n",
       "      <td>10.217696</td>\n",
       "      <td>16.898869</td>\n",
       "      <td>2.268465</td>\n",
       "      <td>2.052633</td>\n",
       "      <td>0.904615</td>\n",
       "    </tr>\n",
       "    <tr>\n",
       "      <th>80</th>\n",
       "      <td>1.829885</td>\n",
       "      <td>10.232384</td>\n",
       "      <td>16.851187</td>\n",
       "      <td>2.266425</td>\n",
       "      <td>2.052458</td>\n",
       "      <td>0.903039</td>\n",
       "    </tr>\n",
       "    <tr>\n",
       "      <th>90</th>\n",
       "      <td>1.829449</td>\n",
       "      <td>10.206405</td>\n",
       "      <td>16.640315</td>\n",
       "      <td>2.265416</td>\n",
       "      <td>2.052341</td>\n",
       "      <td>0.901883</td>\n",
       "    </tr>\n",
       "    <tr>\n",
       "      <th>100</th>\n",
       "      <td>1.828544</td>\n",
       "      <td>10.264974</td>\n",
       "      <td>16.469496</td>\n",
       "      <td>2.266615</td>\n",
       "      <td>2.056533</td>\n",
       "      <td>0.904428</td>\n",
       "    </tr>\n",
       "  </tbody>\n",
       "</table>\n",
       "</div>"
      ],
      "text/plain": [
       "           dw     fridge       hvac        mw      oven        wm\n",
       "10   1.957949  11.675579  20.032584  2.372723  2.446823  0.997089\n",
       "20   1.900259  11.293426  17.674085  2.327941  2.329474  0.959304\n",
       "30   1.880416  11.083748  17.711442  2.301545  2.270807  0.939887\n",
       "40   1.853396  10.723234  17.822501  2.285436  2.157948  0.926237\n",
       "50   1.845346  10.482095  17.406797  2.279233  2.102834  0.915706\n",
       "60   1.837418  10.290232  16.898504  2.270316  2.064302  0.908209\n",
       "70   1.833359  10.217696  16.898869  2.268465  2.052633  0.904615\n",
       "80   1.829885  10.232384  16.851187  2.266425  2.052458  0.903039\n",
       "90   1.829449  10.206405  16.640315  2.265416  2.052341  0.901883\n",
       "100  1.828544  10.264974  16.469496  2.266615  2.056533  0.904428"
      ]
     },
     "execution_count": 31,
     "metadata": {},
     "output_type": "execute_result"
    }
   ],
   "source": [
    "means_df = pd.Panel(out).mean(axis=0)\n",
    "means_df"
   ]
  },
  {
   "cell_type": "code",
   "execution_count": 32,
   "metadata": {},
   "outputs": [
    {
     "data": {
      "text/html": [
       "<div>\n",
       "<table border=\"1\" class=\"dataframe\">\n",
       "  <thead>\n",
       "    <tr style=\"text-align: right;\">\n",
       "      <th></th>\n",
       "      <th>dw</th>\n",
       "      <th>fridge</th>\n",
       "      <th>hvac</th>\n",
       "      <th>mw</th>\n",
       "      <th>oven</th>\n",
       "      <th>wm</th>\n",
       "    </tr>\n",
       "  </thead>\n",
       "  <tbody>\n",
       "    <tr>\n",
       "      <th>10</th>\n",
       "      <td>0.043624</td>\n",
       "      <td>6.314656e-01</td>\n",
       "      <td>1.940169</td>\n",
       "      <td>5.736740e-02</td>\n",
       "      <td>1.044141e-01</td>\n",
       "      <td>3.174685e-02</td>\n",
       "    </tr>\n",
       "    <tr>\n",
       "      <th>20</th>\n",
       "      <td>0.031739</td>\n",
       "      <td>5.218951e-01</td>\n",
       "      <td>0.993728</td>\n",
       "      <td>2.965193e-02</td>\n",
       "      <td>1.202501e-01</td>\n",
       "      <td>2.256467e-02</td>\n",
       "    </tr>\n",
       "    <tr>\n",
       "      <th>30</th>\n",
       "      <td>0.024790</td>\n",
       "      <td>4.248436e-01</td>\n",
       "      <td>1.133412</td>\n",
       "      <td>2.432408e-02</td>\n",
       "      <td>8.798880e-02</td>\n",
       "      <td>2.053761e-02</td>\n",
       "    </tr>\n",
       "    <tr>\n",
       "      <th>40</th>\n",
       "      <td>0.009054</td>\n",
       "      <td>4.274628e-01</td>\n",
       "      <td>1.652766</td>\n",
       "      <td>1.177746e-02</td>\n",
       "      <td>7.030122e-02</td>\n",
       "      <td>1.298954e-02</td>\n",
       "    </tr>\n",
       "    <tr>\n",
       "      <th>50</th>\n",
       "      <td>0.010197</td>\n",
       "      <td>3.890715e-01</td>\n",
       "      <td>1.612082</td>\n",
       "      <td>9.319932e-03</td>\n",
       "      <td>4.777442e-02</td>\n",
       "      <td>1.516008e-02</td>\n",
       "    </tr>\n",
       "    <tr>\n",
       "      <th>60</th>\n",
       "      <td>0.005227</td>\n",
       "      <td>3.098195e-01</td>\n",
       "      <td>1.159084</td>\n",
       "      <td>6.661593e-03</td>\n",
       "      <td>2.988887e-02</td>\n",
       "      <td>1.065689e-02</td>\n",
       "    </tr>\n",
       "    <tr>\n",
       "      <th>70</th>\n",
       "      <td>0.005835</td>\n",
       "      <td>3.093508e-01</td>\n",
       "      <td>0.798764</td>\n",
       "      <td>5.144554e-03</td>\n",
       "      <td>2.943298e-02</td>\n",
       "      <td>1.184936e-02</td>\n",
       "    </tr>\n",
       "    <tr>\n",
       "      <th>80</th>\n",
       "      <td>0.005040</td>\n",
       "      <td>2.440449e-01</td>\n",
       "      <td>0.514539</td>\n",
       "      <td>4.583825e-03</td>\n",
       "      <td>1.984908e-02</td>\n",
       "      <td>8.723644e-03</td>\n",
       "    </tr>\n",
       "    <tr>\n",
       "      <th>90</th>\n",
       "      <td>0.003044</td>\n",
       "      <td>2.059085e-01</td>\n",
       "      <td>0.198715</td>\n",
       "      <td>4.253313e-03</td>\n",
       "      <td>1.520586e-02</td>\n",
       "      <td>7.436784e-03</td>\n",
       "    </tr>\n",
       "    <tr>\n",
       "      <th>100</th>\n",
       "      <td>0.000000</td>\n",
       "      <td>1.872445e-15</td>\n",
       "      <td>0.000000</td>\n",
       "      <td>4.681111e-16</td>\n",
       "      <td>4.681111e-16</td>\n",
       "      <td>1.170278e-16</td>\n",
       "    </tr>\n",
       "  </tbody>\n",
       "</table>\n",
       "</div>"
      ],
      "text/plain": [
       "           dw        fridge      hvac            mw          oven  \\\n",
       "10   0.043624  6.314656e-01  1.940169  5.736740e-02  1.044141e-01   \n",
       "20   0.031739  5.218951e-01  0.993728  2.965193e-02  1.202501e-01   \n",
       "30   0.024790  4.248436e-01  1.133412  2.432408e-02  8.798880e-02   \n",
       "40   0.009054  4.274628e-01  1.652766  1.177746e-02  7.030122e-02   \n",
       "50   0.010197  3.890715e-01  1.612082  9.319932e-03  4.777442e-02   \n",
       "60   0.005227  3.098195e-01  1.159084  6.661593e-03  2.988887e-02   \n",
       "70   0.005835  3.093508e-01  0.798764  5.144554e-03  2.943298e-02   \n",
       "80   0.005040  2.440449e-01  0.514539  4.583825e-03  1.984908e-02   \n",
       "90   0.003044  2.059085e-01  0.198715  4.253313e-03  1.520586e-02   \n",
       "100  0.000000  1.872445e-15  0.000000  4.681111e-16  4.681111e-16   \n",
       "\n",
       "               wm  \n",
       "10   3.174685e-02  \n",
       "20   2.256467e-02  \n",
       "30   2.053761e-02  \n",
       "40   1.298954e-02  \n",
       "50   1.516008e-02  \n",
       "60   1.065689e-02  \n",
       "70   1.184936e-02  \n",
       "80   8.723644e-03  \n",
       "90   7.436784e-03  \n",
       "100  1.170278e-16  "
      ]
     },
     "execution_count": 32,
     "metadata": {},
     "output_type": "execute_result"
    }
   ],
   "source": [
    "std_df = pd.Panel(out).std(axis=0)\n",
    "std_df"
   ]
  },
  {
   "cell_type": "code",
   "execution_count": 35,
   "metadata": {},
   "outputs": [
    {
     "data": {
      "image/png": "[encoded data removed]",
      "text/plain": [
       "<matplotlib.figure.Figure at 0x1121cd510>"
      ]
     },
     "metadata": {},
     "output_type": "display_data"
    }
   ],
   "source": [
    "ax = means_df.plot(subplots=True, yerr=std_df, figsize=(6, 12), xlim=(0, 110), colors=tableau20blind[::2])\n",
    "for a in ax:\n",
    "    format_axes(a)"
   ]
  },
  {
   "cell_type": "code",
   "execution_count": 37,
   "metadata": {},
   "outputs": [
    {
     "name": "stdout",
     "output_type": "stream",
     "text": [
      "['/normal_mean', '/normal_sd', '/transfer_mean', '/transfer_sd']\n"
     ]
    }
   ],
   "source": [
    "st = pd.HDFStore('transfer.h5', mode='a')\n",
    "st['/transfer_mean'] = means_df\n",
    "st['/transfer_sd'] = std_df\n",
    "print st.keys()\n",
    "st.close()"
   ]
  },
  {
   "cell_type": "code",
   "execution_count": 79,
   "metadata": {
    "collapsed": true
   },
   "outputs": [],
   "source": []
  },
  {
   "cell_type": "code",
   "execution_count": 85,
   "metadata": {},
   "outputs": [
    {
     "data": {
      "text/plain": [
       "<matplotlib.axes._subplots.AxesSubplot at 0x11c89e950>"
      ]
     },
     "execution_count": 85,
     "metadata": {},
     "output_type": "execute_result"
    },
    {
     "data": {
      "image/png": "[encoded data removed]",
      "text/plain": [
       "<matplotlib.figure.Figure at 0x11c962710>"
      ]
     },
     "metadata": {},
     "output_type": "display_data"
    }
   ],
   "source": [
    "#prediction_appliance.boxplot()\n",
    "gt_appliance = df[['%s_%d' %(appliance, month) for month in range(1, 13)]]\n",
    "gt_appliance.columns = prediction_appliance.columns\n",
    "gt_appliance.boxplot()"
   ]
  },
  {
   "cell_type": "code",
   "execution_count": 113,
   "metadata": {},
   "outputs": [
    {
     "data": {
      "text/plain": [
       "<matplotlib.text.Text at 0x11d960910>"
      ]
     },
     "execution_count": 113,
     "metadata": {},
     "output_type": "execute_result"
    },
    {
     "data": {
      "image/png": "[encoded data removed]",
      "text/plain": [
       "<matplotlib.figure.Figure at 0x11d79af50>"
      ]
     },
     "metadata": {},
     "output_type": "display_data"
    }
   ],
   "source": [
    "gt_appliance.mean().plot(label='GT', color=tableau20blind[::2][0])\n",
    "for f in range(10, 110, 10):\n",
    "  \n",
    "    random_seed=2\n",
    "    appliance='fridge'\n",
    "    prediction_appliance = pd.concat(pred[random_seed][appliance][f]).ix[df.index]\n",
    "    prediction_appliance.mean().plot(label='Pred '+str(f))\n",
    "plt.legend(loc=0, mode=\"expand\", ncol=2)\n",
    "format_axes(plt.gca())\n",
    "plt.xlabel(\"Month\")\n",
    "plt.ylabel(\"Energy\")"
   ]
  },
  {
   "cell_type": "code",
   "execution_count": 114,
   "metadata": {
    "collapsed": true
   },
   "outputs": [],
   "source": [
    "import pickle\n",
    "pickle.dump(pred, open(\"predictions/transfer_pred.pkl\", 'w'))"
   ]
  },
  {
   "cell_type": "code",
   "execution_count": 116,
   "metadata": {},
   "outputs": [],
   "source": []
  },
  {
   "cell_type": "code",
   "execution_count": 117,
   "metadata": {},
   "outputs": [
    {
     "name": "stdout",
     "output_type": "stream",
     "text": [
      "-rw-r--r--  1 nipunbatra  staff    10M Jun 26 16:59 predictions/transfer_pred.pkl\r\n"
     ]
    }
   ],
   "source": [
    "!ls -lah predictions/transfer_pred.pkl"
   ]
  },
  {
   "cell_type": "code",
   "execution_count": null,
   "metadata": {
    "collapsed": true
   },
   "outputs": [],
   "source": []
  }
 ],
 "metadata": {
  "kernelspec": {
   "display_name": "Python 2",
   "language": "python",
   "name": "python2"
  },
  "language_info": {
   "codemirror_mode": {
    "name": "ipython",
    "version": 2
   },
   "file_extension": ".py",
   "mimetype": "text/x-python",
   "name": "python",
   "nbconvert_exporter": "python",
   "pygments_lexer": "ipython2",
   "version": "2.7.11"
  }
 },
 "nbformat": 4,
 "nbformat_minor": 2
}
