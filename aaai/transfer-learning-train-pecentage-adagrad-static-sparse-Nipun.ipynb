{
 "cells": [
  {
   "cell_type": "code",
   "execution_count": 1,
   "metadata": {
    "collapsed": true
   },
   "outputs": [],
   "source": [
    "import matplotlib.pyplot as plt\n",
    "%matplotlib inline\n",
    "from plot_functions import *\n",
    "from sklearn.model_selection import KFold"
   ]
  },
  {
   "cell_type": "code",
   "execution_count": 2,
   "metadata": {
    "collapsed": true
   },
   "outputs": [],
   "source": [
    "from create_matrix import *\n",
    "\n",
    "from tensor_custom_core import *\n",
    "from create_matrix import *\n",
    "from tensor_custom_core import *\n",
    "from degree_days import dds\n",
    "appliance_index = {appliance: APPLIANCES_ORDER.index(appliance) for appliance in APPLIANCES_ORDER}\n",
    "\n",
    "APPLIANCES = ['fridge', 'hvac', 'wm', 'mw', 'oven', 'dw']\n",
    "region = \"SanDiego\"\n",
    "year = 2014\n",
    "\n",
    "import os\n",
    "\n",
    "\n",
    "def un_normalize(x, maximum, minimum):\n",
    "    return (maximum - minimum) * x + minimum"
   ]
  },
  {
   "cell_type": "code",
   "execution_count": 3,
   "metadata": {
    "collapsed": true
   },
   "outputs": [],
   "source": [
    "n_splits = 10\n",
    "import sys\n",
    "case=2\n",
    "a=2\n",
    "cost='abs'"
   ]
  },
  {
   "cell_type": "code",
   "execution_count": 4,
   "metadata": {
    "collapsed": true
   },
   "outputs": [],
   "source": [
    "def get_tensor(df, dfc):\n",
    "    start, stop = 1, 13\n",
    "    energy_cols = np.array(\n",
    "        [['%s_%d' % (appliance, month) for month in range(start, stop)] for appliance in APPLIANCES_ORDER]).flatten()\n",
    "\n",
    "    static_cols = ['area', 'total_occupants', 'num_rooms']\n",
    "    static_df = df[static_cols]\n",
    "    static_df = static_df.div(static_df.max())\n",
    "    weather_values = np.array(dds[2014][region][start - 1:stop - 1]).reshape(-1, 1)\n",
    "\n",
    "    dfc = df.copy()\n",
    "\n",
    "    df = dfc[energy_cols]\n",
    "    col_max = df.max().max()\n",
    "    col_min = df.min().min()\n",
    "    # df = (1.0 * (df - col_min)) / (col_max - col_min)\n",
    "    tensor = df.values.reshape((len(df), 7, stop - start))\n",
    "    M, N, O = tensor.shape\n",
    "    return tensor"
   ]
  },
  {
   "cell_type": "code",
   "execution_count": 5,
   "metadata": {
    "collapsed": true
   },
   "outputs": [],
   "source": [
    "au_df, au_dfc = create_matrix_single_region(\"Austin\", year)\n",
    "au_tensor = get_tensor(au_df, au_dfc)\n",
    "static_au = au_df[['area','total_occupants','num_rooms']]\n",
    "static_au = static_au.div(static_au.max()).values"
   ]
  },
  {
   "cell_type": "code",
   "execution_count": 6,
   "metadata": {
    "collapsed": true
   },
   "outputs": [],
   "source": [
    "df, dfc = create_matrix_single_region(\"SanDiego\", year)\n",
    "tensor = get_tensor(df, dfc)\n",
    "static_sd = df[['area','total_occupants','num_rooms']]\n",
    "static_sd = static_sd.div(static_sd.max()).values"
   ]
  },
  {
   "cell_type": "code",
   "execution_count": 7,
   "metadata": {
    "collapsed": true
   },
   "outputs": [],
   "source": [
    "from sklearn.model_selection import train_test_split, KFold"
   ]
  },
  {
   "cell_type": "code",
   "execution_count": 8,
   "metadata": {
    "collapsed": true
   },
   "outputs": [],
   "source": [
    "n_splits = 10\n"
   ]
  },
  {
   "cell_type": "code",
   "execution_count": 9,
   "metadata": {
    "collapsed": true
   },
   "outputs": [],
   "source": [
    "from common import compute_rmse"
   ]
  },
  {
   "cell_type": "code",
   "execution_count": 10,
   "metadata": {},
   "outputs": [
    {
     "data": {
      "text/plain": [
       "array([ 0.1,  0.2,  0.3,  0.4,  0.5,  0.6,  0.7,  0.8,  0.9])"
      ]
     },
     "execution_count": 10,
     "metadata": {},
     "output_type": "execute_result"
    }
   ],
   "source": [
    "np.arange(0.1, 1.0, 0.1)"
   ]
  },
  {
   "cell_type": "code",
   "execution_count": 11,
   "metadata": {
    "collapsed": true
   },
   "outputs": [],
   "source": [
    "COST_FUNCTIONS = ['penalty-sum-squares','penalty-sum-abs','penalty-count-nonzero']"
   ]
  },
  {
   "cell_type": "code",
   "execution_count": 72,
   "metadata": {},
   "outputs": [
    {
     "name": "stdout",
     "output_type": "stream",
     "text": [
      "('penalty-sum-squares', 0.01, 65)\n",
      "('penalty-sum-squares', 0.1, 65)\n",
      "('penalty-sum-squares', 0, 60)\n",
      "('penalty-sum-squares', 1, 70)\n",
      "('penalty-sum-squares', 10, 66)\n",
      "('penalty-sum-abs', 0.01, 61)\n",
      "('penalty-sum-abs', 0.1, 59)\n",
      "('penalty-sum-abs', 0, 60)\n",
      "('penalty-sum-abs', 1, 68)\n",
      "('penalty-sum-abs', 10, 68)\n",
      "('penalty-count-nonzero', 0.01, 60)\n",
      "('penalty-count-nonzero', 0.1, 60)\n",
      "('penalty-count-nonzero', 0, 60)\n",
      "('penalty-count-nonzero', 1, 60)\n",
      "('penalty-count-nonzero', 10, 60)\n"
     ]
    }
   ],
   "source": [
    "out_A ={}\n",
    "out_cost = {}\n",
    "for cost_function in COST_FUNCTIONS:\n",
    "    out_A[cost_function] = {}\n",
    "    out_cost[cost_function] = {}\n",
    "    for penalty_coeff in [1e-2, 1e-1, 0, 1, 10]:\n",
    "        \n",
    "        num_home=5\n",
    "        H_known_Au = static_au\n",
    "        H, A, T, Hs, As, Ts, HATs, costs = learn_HAT_adagrad(case, au_tensor, num_home, a, num_iter=1000, lr=1, dis=False, cost_function=cost_function, H_known=H_known_Au, penalty_coeff=penalty_coeff)\n",
    "        HAT = multiply_case(H, A, T, case)\n",
    "        mask = ~np.isnan(au_tensor)\n",
    "        error = (HAT - au_tensor)[mask].flatten()\n",
    "        \n",
    "        \n",
    "        print(cost_function, penalty_coeff, np.count_nonzero(A))\n",
    "        out_A[cost_function][penalty_coeff] = A\n",
    "        out_cost[cost_function][penalty_coeff] = np.sqrt((error ** 2).mean())"
   ]
  },
  {
   "cell_type": "code",
   "execution_count": 41,
   "metadata": {},
   "outputs": [],
   "source": [
    "out_zero = {}\n",
    "\n",
    "for cost_function in COST_FUNCTIONS:\n",
    "    out_zero[cost_function] = {}\n",
    "    for penalty_coeff in [1e-2, 1e-1, 0, 1, 10]:\n",
    "        \n",
    "        out_zero[cost_function][penalty_coeff] = np.count_nonzero(out[cost_function][penalty_coeff])"
   ]
  },
  {
   "cell_type": "code",
   "execution_count": 53,
   "metadata": {},
   "outputs": [
    {
     "data": {
      "text/plain": [
       "60"
      ]
     },
     "execution_count": 53,
     "metadata": {},
     "output_type": "execute_result"
    }
   ],
   "source": [
    "t = out[cost_function][penalty_coeff]\n",
    "np.sum(t>1e-3)"
   ]
  },
  {
   "cell_type": "code",
   "execution_count": 85,
   "metadata": {},
   "outputs": [
    {
     "data": {
      "text/plain": [
       "<matplotlib.text.Text at 0x119462c90>"
      ]
     },
     "execution_count": 85,
     "metadata": {},
     "output_type": "execute_result"
    },
    {
     "data": {
      "image/png": "[encoded data removed]",
      "text/plain": [
       "<matplotlib.figure.Figure at 0x119597150>"
      ]
     },
     "metadata": {},
     "output_type": "display_data"
    }
   ],
   "source": [
    "cost_df  = pd.DataFrame(out_cost)\n",
    "cost_df.columns = ['L0','L1','L2']\n",
    "cost_df.plot(kind='bar', rot=0)\n",
    "plt.ylabel(\"Reconstruction error on train set\")\n",
    "plt.xlabel(\"Lambda\")"
   ]
  },
  {
   "cell_type": "code",
   "execution_count": 65,
   "metadata": {
    "collapsed": true
   },
   "outputs": [],
   "source": [
    "out_lt = {}\n",
    "\n",
    "for cost_function in COST_FUNCTIONS:\n",
    "    out_lt[cost_function] = {}\n",
    "    for penalty_coeff in [1e-2, 1e-1, 0, 1, 10]:\n",
    "        t = out[cost_function][penalty_coeff]\n",
    "        out_lt[cost_function][penalty_coeff] = np.sum(t>1e-2)"
   ]
  },
  {
   "cell_type": "code",
   "execution_count": 66,
   "metadata": {},
   "outputs": [],
   "source": [
    "pd.DataFrame(out_zero).columns = ['L0','L1','L2']"
   ]
  },
  {
   "cell_type": "code",
   "execution_count": 67,
   "metadata": {},
   "outputs": [
    {
     "data": {
      "text/plain": [
       "<matplotlib.legend.Legend at 0x114028e10>"
      ]
     },
     "execution_count": 67,
     "metadata": {},
     "output_type": "execute_result"
    },
    {
     "data": {
      "image/png": "[encoded data removed]",
      "text/plain": [
       "<matplotlib.figure.Figure at 0x118908e90>"
      ]
     },
     "metadata": {},
     "output_type": "display_data"
    }
   ],
   "source": [
    "out\n",
    "out_zero_df = pd.DataFrame(out_zero)\n",
    "out_zero_df.columns = ['L0','L1','L2']\n",
    "out_zero_df.plot(kind='bar', rot=0, stacked=False )\n",
    "plt.ylabel(\"Count(A!=0)\")\n",
    "plt.xlabel(\"Lambda\")\n",
    "ax = plt.gca()\n",
    "autolabel(ax.patches, plt.gca())\n",
    "plt.legend(bbox_to_anchor=(1, 1))"
   ]
  },
  {
   "cell_type": "code",
   "execution_count": 69,
   "metadata": {},
   "outputs": [
    {
     "data": {
      "text/plain": [
       "<matplotlib.legend.Legend at 0x118a2b2d0>"
      ]
     },
     "execution_count": 69,
     "metadata": {},
     "output_type": "execute_result"
    },
    {
     "data": {
      "image/png": "[encoded data removed]",
      "text/plain": [
       "<matplotlib.figure.Figure at 0x11f02d150>"
      ]
     },
     "metadata": {},
     "output_type": "display_data"
    }
   ],
   "source": [
    "out_lt_df = pd.DataFrame(out_lt)\n",
    "out_lt_df.columns = ['L0','L1','L2']\n",
    "out_lt_df.plot(kind='bar', rot=0, stacked=False )\n",
    "\n",
    "plt.ylabel(\"Count(A[A>1e-2])\")\n",
    "plt.xlabel(\"\")\n",
    "ax = plt.gca()\n",
    "autolabel(ax.patches, plt.gca())\n",
    "plt.legend(bbox_to_anchor=(1, 1))"
   ]
  },
  {
   "cell_type": "code",
   "execution_count": 17,
   "metadata": {},
   "outputs": [
    {
     "name": "stdout",
     "output_type": "stream",
     "text": [
      "70\n",
      "65\n",
      "57\n"
     ]
    }
   ],
   "source": [
    "print np.count_nonzero(A)\n",
    "print np.count_nonzero(A1)\n",
    "print np.count_nonzero(A2)"
   ]
  },
  {
   "cell_type": "code",
   "execution_count": 57,
   "metadata": {},
   "outputs": [
    {
     "data": {
      "text/plain": [
       "<matplotlib.text.Text at 0x113a5b710>"
      ]
     },
     "execution_count": 57,
     "metadata": {},
     "output_type": "execute_result"
    },
    {
     "data": {
      "image/png": "[encoded data removed]",
      "text/plain": [
       "<matplotlib.figure.Figure at 0x113a3ab50>"
      ]
     },
     "metadata": {},
     "output_type": "display_data"
    }
   ],
   "source": [
    "fig, ax = plt.subplots(ncols=7, figsize=(16, 3))\n",
    "for i, appliance in enumerate(APPLIANCES_ORDER):\n",
    "    pd.DataFrame(np.array(As)[:, i,:,:].reshape(1500+1, num_home*a)).plot(ax=ax[i], title=appliance, legend=False)\n",
    "plt.legend(bbox_to_anchor=(1., 1.1), title='Appliance factor\\n (5 X 2)')\n",
    "fig.tight_layout()\n",
    "plt.suptitle('Normal learning on Austin, Adagrad algo, LR=1', y=1.05, fontsize=15)\n",
    "fig.text(0.5, 0, '# Iterations', fontsize=15)\n",
    "ax[0].set_ylabel(\"Error\")"
   ]
  },
  {
   "cell_type": "code",
   "execution_count": 58,
   "metadata": {},
   "outputs": [
    {
     "data": {
      "text/plain": [
       "63"
      ]
     },
     "execution_count": 58,
     "metadata": {},
     "output_type": "execute_result"
    }
   ],
   "source": [
    "np.count_nonzero(A)"
   ]
  },
  {
   "cell_type": "code",
   "execution_count": 61,
   "metadata": {},
   "outputs": [
    {
     "data": {
      "text/plain": [
       "<matplotlib.text.Text at 0x114390650>"
      ]
     },
     "execution_count": 61,
     "metadata": {},
     "output_type": "execute_result"
    },
    {
     "data": {
      "image/png": "[encoded data removed]",
      "text/plain": [
       "<matplotlib.figure.Figure at 0x1142fb310>"
      ]
     },
     "metadata": {},
     "output_type": "display_data"
    }
   ],
   "source": [
    "pd.Series((A2.reshape(7, 10)<1e-3).sum(axis=1), index=APPLIANCES_ORDER).plot(kind='bar', rot=0)\n",
    "plt.ylabel(\"# Zeros in Appliance Factors \\n(out of 10)\")"
   ]
  },
  {
   "cell_type": "code",
   "execution_count": 48,
   "metadata": {},
   "outputs": [
    {
     "data": {
      "text/plain": [
       "0    529\n",
       "1    249\n",
       "2    151\n",
       "dtype: int64"
      ]
     },
     "execution_count": 48,
     "metadata": {},
     "output_type": "execute_result"
    }
   ],
   "source": [
    "pd.DataFrame(static_au).notnull().sum()"
   ]
  },
  {
   "cell_type": "code",
   "execution_count": 51,
   "metadata": {},
   "outputs": [
    {
     "ename": "NameError",
     "evalue": "name 'T2' is not defined",
     "output_type": "error",
     "traceback": [
      "\u001b[0;31m---------------------------------------------------------------------------\u001b[0m",
      "\u001b[0;31mNameError\u001b[0m                                 Traceback (most recent call last)",
      "\u001b[0;32m<ipython-input-51-6f09957d7afa>\u001b[0m in \u001b[0;36m<module>\u001b[0;34m()\u001b[0m\n\u001b[0;32m----> 1\u001b[0;31m \u001b[0mpd\u001b[0m\u001b[0;34m.\u001b[0m\u001b[0mDataFrame\u001b[0m\u001b[0;34m(\u001b[0m\u001b[0mT2\u001b[0m\u001b[0;34m)\u001b[0m\u001b[0;34m.\u001b[0m\u001b[0mplot\u001b[0m\u001b[0;34m(\u001b[0m\u001b[0;34m)\u001b[0m\u001b[0;34m\u001b[0m\u001b[0m\n\u001b[0m",
      "\u001b[0;31mNameError\u001b[0m: name 'T2' is not defined"
     ]
    }
   ],
   "source": [
    "pd.DataFrame(T2).plot()"
   ]
  },
  {
   "cell_type": "code",
   "execution_count": 62,
   "metadata": {},
   "outputs": [
    {
     "data": {
      "text/plain": [
       "<matplotlib.text.Text at 0x114484fd0>"
      ]
     },
     "execution_count": 62,
     "metadata": {},
     "output_type": "execute_result"
    },
    {
     "data": {
      "image/png": "[encoded data removed]",
      "text/plain": [
       "<matplotlib.figure.Figure at 0x1144b35d0>"
      ]
     },
     "metadata": {},
     "output_type": "display_data"
    }
   ],
   "source": [
    "pd.Series(costs).plot()\n",
    "plt.xlim((-50, n_iter))\n",
    "plt.xlabel(\"# Iterations\")\n",
    "plt.ylabel(\"Cost\")"
   ]
  },
  {
   "cell_type": "code",
   "execution_count": 19,
   "metadata": {},
   "outputs": [
    {
     "name": "stdout",
     "output_type": "stream",
     "text": [
      "901.031398359\n",
      "62.5145262918\n",
      "58.8038722897\n",
      "58.5633392445\n",
      "58.453768045\n",
      "58.4056923894\n",
      "58.5451629256\n"
     ]
    }
   ],
   "source": [
    "H_au, A_au, T_au = learn_HAT_adagrad(case, au_tensor, num_home, a, num_iter=3200, lr=5, dis=True, cost_function=cost, H_known=H_known_Au)\n"
   ]
  },
  {
   "cell_type": "code",
   "execution_count": 20,
   "metadata": {},
   "outputs": [
    {
     "name": "stdout",
     "output_type": "stream",
     "text": [
      "487.495956598\n",
      "59.4167585332\n",
      "58.6890430482\n",
      "58.5895343872\n",
      "58.5245989962\n",
      "58.4700436351\n",
      "58.4248908815\n"
     ]
    }
   ],
   "source": [
    "H_au, A_au, T_au = learn_HAT_adagrad(case, au_tensor, num_home, a, num_iter=3200, lr=1, dis=True, cost_function=cost, H_known=H_known_Au)\n"
   ]
  },
  {
   "cell_type": "code",
   "execution_count": 63,
   "metadata": {},
   "outputs": [
    {
     "name": "stdout",
     "output_type": "stream",
     "text": [
      "(0.01, 'static', 2, 0, 10)\n"
     ]
    },
    {
     "name": "stderr",
     "output_type": "stream",
     "text": [
      "/Users/nipunbatra/anaconda2/lib/python2.7/site-packages/ipykernel_launcher.py:54: DeprecationWarning: \n",
      ".ix is deprecated. Please use\n",
      ".loc for label based indexing or\n",
      ".iloc for positional indexing\n",
      "\n",
      "See the documentation here:\n",
      "http://pandas.pydata.org/pandas-docs/stable/indexing.html#deprecate_ix\n"
     ]
    },
    {
     "name": "stdout",
     "output_type": "stream",
     "text": [
      "(0.01, 'static', 2, 0, 50)\n",
      "(0.01, 'static', 2, 0, 90)\n",
      "(0.01, 'static', 2, 1, 10)\n",
      "(0.01, 'static', 2, 1, 50)\n",
      "(0.01, 'static', 2, 1, 90)\n",
      "(0.01, 'static', 2, 2, 10)\n",
      "(0.01, 'static', 2, 2, 50)\n",
      "(0.01, 'static', 2, 2, 90)\n",
      "(0.1, 'static', 2, 0, 10)\n",
      "(0.1, 'static', 2, 0, 50)\n",
      "(0.1, 'static', 2, 0, 90)\n",
      "(0.1, 'static', 2, 1, 10)\n",
      "(0.1, 'static', 2, 1, 50)\n",
      "(0.1, 'static', 2, 1, 90)\n",
      "(0.1, 'static', 2, 2, 10)\n",
      "(0.1, 'static', 2, 2, 50)\n",
      "(0.1, 'static', 2, 2, 90)\n",
      "(1, 'static', 2, 0, 10)\n",
      "(1, 'static', 2, 0, 50)\n",
      "(1, 'static', 2, 0, 90)\n",
      "(1, 'static', 2, 1, 10)\n",
      "(1, 'static', 2, 1, 50)\n",
      "(1, 'static', 2, 1, 90)\n",
      "(1, 'static', 2, 2, 10)\n",
      "(1, 'static', 2, 2, 50)\n",
      "(1, 'static', 2, 2, 90)\n",
      "(10, 'static', 2, 0, 10)\n",
      "(10, 'static', 2, 0, 50)\n",
      "(10, 'static', 2, 0, 90)\n",
      "(10, 'static', 2, 1, 10)\n",
      "(10, 'static', 2, 1, 50)\n",
      "(10, 'static', 2, 1, 90)\n",
      "(10, 'static', 2, 2, 10)\n",
      "(10, 'static', 2, 2, 50)\n",
      "(10, 'static', 2, 2, 90)\n",
      "(100, 'static', 2, 0, 10)\n",
      "(100, 'static', 2, 0, 50)\n",
      "(100, 'static', 2, 0, 90)\n",
      "(100, 'static', 2, 1, 10)\n",
      "(100, 'static', 2, 1, 50)\n",
      "(100, 'static', 2, 1, 90)\n",
      "(100, 'static', 2, 2, 10)\n",
      "(100, 'static', 2, 2, 50)\n",
      "(100, 'static', 2, 2, 90)\n",
      "(0.01, None, 2, 0, 10)\n",
      "(0.01, None, 2, 0, 50)\n",
      "(0.01, None, 2, 0, 90)\n",
      "(0.01, None, 2, 1, 10)\n",
      "(0.01, None, 2, 1, 50)\n",
      "(0.01, None, 2, 1, 90)\n",
      "(0.01, None, 2, 2, 10)\n",
      "(0.01, None, 2, 2, 50)\n",
      "(0.01, None, 2, 2, 90)\n",
      "(0.1, None, 2, 0, 10)\n",
      "(0.1, None, 2, 0, 50)\n",
      "(0.1, None, 2, 0, 90)\n",
      "(0.1, None, 2, 1, 10)\n",
      "(0.1, None, 2, 1, 50)\n",
      "(0.1, None, 2, 1, 90)\n",
      "(0.1, None, 2, 2, 10)\n",
      "(0.1, None, 2, 2, 50)\n",
      "(0.1, None, 2, 2, 90)\n",
      "(1, None, 2, 0, 10)\n",
      "(1, None, 2, 0, 50)\n",
      "(1, None, 2, 0, 90)\n",
      "(1, None, 2, 1, 10)\n",
      "(1, None, 2, 1, 50)\n",
      "(1, None, 2, 1, 90)\n",
      "(1, None, 2, 2, 10)\n",
      "(1, None, 2, 2, 50)\n",
      "(1, None, 2, 2, 90)\n",
      "(10, None, 2, 0, 10)\n",
      "(10, None, 2, 0, 50)\n",
      "(10, None, 2, 0, 90)\n",
      "(10, None, 2, 1, 10)\n",
      "(10, None, 2, 1, 50)\n",
      "(10, None, 2, 1, 90)\n",
      "(10, None, 2, 2, 10)\n",
      "(10, None, 2, 2, 50)\n",
      "(10, None, 2, 2, 90)\n",
      "(100, None, 2, 0, 10)\n",
      "(100, None, 2, 0, 50)\n",
      "(100, None, 2, 0, 90)\n",
      "(100, None, 2, 1, 10)\n",
      "(100, None, 2, 1, 50)\n",
      "(100, None, 2, 1, 90)\n",
      "(100, None, 2, 2, 10)\n",
      "(100, None, 2, 2, 50)\n",
      "(100, None, 2, 2, 90)\n"
     ]
    }
   ],
   "source": [
    "pred = {}\n",
    "sd = {}\n",
    "out = {}\n",
    "n_splits = 10\n",
    "NUM_RANDOM = 3\n",
    "TRAIN_SPLITS = range(10, 110, 40)\n",
    "case = 2\n",
    "num_home = 5\n",
    "n_iter=1200\n",
    "\n",
    "cost = 'abs-penalty'\n",
    "algo = 'adagrad'\n",
    "for static_fac in ['static',None]:\n",
    "    if static_fac is None:\n",
    "        H_known_Au = None\n",
    "        H_known_Sd = None\n",
    "    else:\n",
    "        H_known_Au = static_au\n",
    "        H_known_Sd = static_sd\n",
    "    np.random.seed(0)\n",
    "    pred[static_fac] = {}\n",
    "    #for lam in [1e-2, 100]:\n",
    "    for lam in [1e-2, 1e-1, 1, 10, 100]:\n",
    "        pred[static_fac][lam] = {}\n",
    "        for a in range(2, 3):\n",
    "            if static_fac is not None:\n",
    "                H_au, A_au, T_au, Hs, As, Ts, HATs, costs = learn_HAT_adagrad(case, au_tensor, num_home, a, num_iter=n_iter, lr=1, dis=False, cost_function=cost, H_known=H_known_Au, penalty_coeff=lam)\n",
    "            else:\n",
    "                H_au, A_au, T_au, Hs, As, Ts, HATs, costs = learn_HAT_adagrad(case, au_tensor, num_home, a, num_iter=n_iter, lr=1, dis=False, cost_function=cost, penalty_coeff=lam)\n",
    "\n",
    "            pred[static_fac][lam][a] = {}\n",
    "            for random_seed in range(NUM_RANDOM):\n",
    "                pred[static_fac][lam][a][random_seed] = {}\n",
    "                for appliance in APPLIANCES_ORDER:\n",
    "                    pred[static_fac][lam][a][random_seed][appliance] = {f:[] for f in TRAIN_SPLITS}\n",
    "\n",
    "            kf = KFold(n_splits=n_splits)\n",
    "            for random_seed in range(NUM_RANDOM):\n",
    "\n",
    "                for train_percentage in TRAIN_SPLITS:\n",
    "                    print(lam, static_fac, a, random_seed,train_percentage)\n",
    "                    for train_max, test in kf.split(df):\n",
    "\n",
    "                        num_train = int((train_percentage*len(train_max)/100)+0.5)\n",
    "                        if train_percentage==100:\n",
    "                            train = train_max\n",
    "                        else:\n",
    "                            train, _ = train_test_split(train_max, train_size = train_percentage/100.0, random_state=random_seed)\n",
    "                        train_ix = df.index[train]\n",
    "                        test_ix = df.index[test]\n",
    "\n",
    "                        num_test = len(test_ix)\n",
    "                        train_test_ix = np.concatenate([test_ix, train_ix])\n",
    "                        df_t, dfc_t = df.ix[train_test_ix], dfc.ix[train_test_ix]\n",
    "                        tensor = get_tensor(df_t, dfc_t)\n",
    "                        tensor_copy = tensor.copy()\n",
    "                        # First n\n",
    "                        tensor_copy[:num_test, 1:, :] = np.NaN\n",
    "                        if static_fac is not None:\n",
    "                            H, A, T, Hs, As, Ts, HATs, costs = learn_HAT_adagrad(case, tensor_copy, num_home, a, num_iter=n_iter, lr=1, dis=False, cost_function=cost, A_known=A_au, H_known=H_known_Sd[np.concatenate([test, train])],penalty_coeff=lam)\n",
    "                        else:\n",
    "                            H, A, T, Hs, As, Ts, HATs, costs = learn_HAT_adagrad(case, tensor_copy, num_home, a, num_iter=n_iter, lr=1, dis=False, cost_function=cost, A_known=A_au, penalty_coeff=lam)\n",
    "\n",
    "                        assert(np.allclose(A, A_au))\n",
    "                        HAT = multiply_case(H, A, T, case)\n",
    "                        for appliance in APPLIANCES_ORDER:\n",
    "                            pred[static_fac][lam][a][random_seed][appliance][train_percentage].append(pd.DataFrame(HAT[:num_test, appliance_index[appliance], :], index=test_ix))\n"
   ]
  },
  {
   "cell_type": "code",
   "execution_count": 64,
   "metadata": {
    "collapsed": true
   },
   "outputs": [],
   "source": [
    "from common import compute_rmse_fraction"
   ]
  },
  {
   "cell_type": "code",
   "execution_count": 65,
   "metadata": {},
   "outputs": [
    {
     "name": "stderr",
     "output_type": "stream",
     "text": [
      "/Users/nipunbatra/anaconda2/lib/python2.7/site-packages/ipykernel_launcher.py:15: DeprecationWarning: \n",
      ".ix is deprecated. Please use\n",
      ".loc for label based indexing or\n",
      ".iloc for positional indexing\n",
      "\n",
      "See the documentation here:\n",
      "http://pandas.pydata.org/pandas-docs/stable/indexing.html#deprecate_ix\n",
      "  from ipykernel import kernelapp as app\n"
     ]
    }
   ],
   "source": [
    "out = {}\n",
    "algo = 'adagrad'\n",
    "for static_fac in ['static',None]:\n",
    "    out[static_fac] = {}\n",
    "    for lam in [1e-2, 1e-1, 1, 10, 100]:\n",
    "        out[static_fac][lam] = {}\n",
    "        for a in range(2, 3):\n",
    "            out[static_fac][lam][a] = {}\n",
    "            for random_seed in range(NUM_RANDOM):\n",
    "                out[static_fac][lam][a][random_seed] = {}\n",
    "\n",
    "                for appliance in APPLIANCES_ORDER[1:]:\n",
    "                    out[static_fac][lam][a][random_seed][appliance] = {}\n",
    "                    for f in TRAIN_SPLITS:\n",
    "                        s = pd.concat(pred[static_fac][lam][a][random_seed][appliance][f]).ix[df.index]\n",
    "                        if appliance==\"hvac\":\n",
    "                            out[static_fac][lam][a][random_seed][appliance][f] = compute_rmse_fraction(appliance,s[range(4, 10)],'SanDiego')[2]\n",
    "                        else:   \n",
    "                            out[static_fac][lam][a][random_seed][appliance][f] = compute_rmse_fraction(appliance, s,'SanDiego')[2]\n",
    "\n",
    "    "
   ]
  },
  {
   "cell_type": "code",
   "execution_count": 37,
   "metadata": {},
   "outputs": [
    {
     "data": {
      "text/html": [
       "<div>\n",
       "<style>\n",
       "    .dataframe thead tr:only-child th {\n",
       "        text-align: right;\n",
       "    }\n",
       "\n",
       "    .dataframe thead th {\n",
       "        text-align: left;\n",
       "    }\n",
       "\n",
       "    .dataframe tbody tr th {\n",
       "        vertical-align: top;\n",
       "    }\n",
       "</style>\n",
       "<table border=\"1\" class=\"dataframe\">\n",
       "  <thead>\n",
       "    <tr style=\"text-align: right;\">\n",
       "      <th></th>\n",
       "      <th>dw</th>\n",
       "      <th>fridge</th>\n",
       "      <th>hvac</th>\n",
       "      <th>mw</th>\n",
       "      <th>oven</th>\n",
       "      <th>wm</th>\n",
       "    </tr>\n",
       "  </thead>\n",
       "  <tbody>\n",
       "    <tr>\n",
       "      <th>10</th>\n",
       "      <td>1.904125</td>\n",
       "      <td>10.874062</td>\n",
       "      <td>18.637151</td>\n",
       "      <td>2.289705</td>\n",
       "      <td>2.436806</td>\n",
       "      <td>0.938437</td>\n",
       "    </tr>\n",
       "    <tr>\n",
       "      <th>50</th>\n",
       "      <td>1.846901</td>\n",
       "      <td>10.572175</td>\n",
       "      <td>15.425051</td>\n",
       "      <td>2.216119</td>\n",
       "      <td>2.247626</td>\n",
       "      <td>0.920995</td>\n",
       "    </tr>\n",
       "    <tr>\n",
       "      <th>90</th>\n",
       "      <td>1.850043</td>\n",
       "      <td>10.580138</td>\n",
       "      <td>15.195719</td>\n",
       "      <td>2.217537</td>\n",
       "      <td>2.244608</td>\n",
       "      <td>0.922847</td>\n",
       "    </tr>\n",
       "  </tbody>\n",
       "</table>\n",
       "</div>"
      ],
      "text/plain": [
       "          dw     fridge       hvac        mw      oven        wm\n",
       "10  1.904125  10.874062  18.637151  2.289705  2.436806  0.938437\n",
       "50  1.846901  10.572175  15.425051  2.216119  2.247626  0.920995\n",
       "90  1.850043  10.580138  15.195719  2.217537  2.244608  0.922847"
      ]
     },
     "execution_count": 37,
     "metadata": {},
     "output_type": "execute_result"
    }
   ],
   "source": [
    "static_results = pd.Panel(out[None][100.][a]).mean(axis=0)\n",
    "static_results\n"
   ]
  },
  {
   "cell_type": "code",
   "execution_count": 88,
   "metadata": {},
   "outputs": [
    {
     "data": {
      "text/html": [
       "<div>\n",
       "<style>\n",
       "    .dataframe thead tr:only-child th {\n",
       "        text-align: right;\n",
       "    }\n",
       "\n",
       "    .dataframe thead th {\n",
       "        text-align: left;\n",
       "    }\n",
       "\n",
       "    .dataframe tbody tr th {\n",
       "        vertical-align: top;\n",
       "    }\n",
       "</style>\n",
       "<table border=\"1\" class=\"dataframe\">\n",
       "  <thead>\n",
       "    <tr style=\"text-align: right;\">\n",
       "      <th></th>\n",
       "      <th>dw</th>\n",
       "      <th>fridge</th>\n",
       "      <th>hvac</th>\n",
       "      <th>mw</th>\n",
       "      <th>oven</th>\n",
       "      <th>wm</th>\n",
       "    </tr>\n",
       "  </thead>\n",
       "  <tbody>\n",
       "    <tr>\n",
       "      <th>10</th>\n",
       "      <td>1.883526</td>\n",
       "      <td>8.246971</td>\n",
       "      <td>18.159158</td>\n",
       "      <td>2.116249</td>\n",
       "      <td>2.667654</td>\n",
       "      <td>0.988818</td>\n",
       "    </tr>\n",
       "    <tr>\n",
       "      <th>50</th>\n",
       "      <td>1.852423</td>\n",
       "      <td>8.278948</td>\n",
       "      <td>15.471025</td>\n",
       "      <td>2.135365</td>\n",
       "      <td>2.632115</td>\n",
       "      <td>0.983607</td>\n",
       "    </tr>\n",
       "    <tr>\n",
       "      <th>90</th>\n",
       "      <td>1.852998</td>\n",
       "      <td>7.951155</td>\n",
       "      <td>15.847556</td>\n",
       "      <td>2.089141</td>\n",
       "      <td>2.626920</td>\n",
       "      <td>0.950855</td>\n",
       "    </tr>\n",
       "  </tbody>\n",
       "</table>\n",
       "</div>"
      ],
      "text/plain": [
       "          dw    fridge       hvac        mw      oven        wm\n",
       "10  1.883526  8.246971  18.159158  2.116249  2.667654  0.988818\n",
       "50  1.852423  8.278948  15.471025  2.135365  2.632115  0.983607\n",
       "90  1.852998  7.951155  15.847556  2.089141  2.626920  0.950855"
      ]
     },
     "execution_count": 88,
     "metadata": {},
     "output_type": "execute_result"
    }
   ],
   "source": [
    "static_results = pd.Panel(out['static'][a]).mean(axis=0)\n",
    "static_results\n",
    "static_results_err=  pd.Panel(out['static'][a]).std(axis=0)\n",
    "static_results"
   ]
  },
  {
   "cell_type": "code",
   "execution_count": 25,
   "metadata": {},
   "outputs": [
    {
     "data": {
      "text/html": [
       "<div>\n",
       "<style>\n",
       "    .dataframe thead tr:only-child th {\n",
       "        text-align: right;\n",
       "    }\n",
       "\n",
       "    .dataframe thead th {\n",
       "        text-align: left;\n",
       "    }\n",
       "\n",
       "    .dataframe tbody tr th {\n",
       "        vertical-align: top;\n",
       "    }\n",
       "</style>\n",
       "<table border=\"1\" class=\"dataframe\">\n",
       "  <thead>\n",
       "    <tr style=\"text-align: right;\">\n",
       "      <th></th>\n",
       "      <th>dw</th>\n",
       "      <th>fridge</th>\n",
       "      <th>hvac</th>\n",
       "      <th>mw</th>\n",
       "      <th>oven</th>\n",
       "      <th>wm</th>\n",
       "    </tr>\n",
       "  </thead>\n",
       "  <tbody>\n",
       "    <tr>\n",
       "      <th>10</th>\n",
       "      <td>1.920821</td>\n",
       "      <td>10.101961</td>\n",
       "      <td>23.240652</td>\n",
       "      <td>2.208036</td>\n",
       "      <td>2.390261</td>\n",
       "      <td>0.921315</td>\n",
       "    </tr>\n",
       "    <tr>\n",
       "      <th>50</th>\n",
       "      <td>1.821831</td>\n",
       "      <td>9.916001</td>\n",
       "      <td>17.703636</td>\n",
       "      <td>2.122164</td>\n",
       "      <td>2.226822</td>\n",
       "      <td>0.885549</td>\n",
       "    </tr>\n",
       "    <tr>\n",
       "      <th>90</th>\n",
       "      <td>1.832772</td>\n",
       "      <td>9.918317</td>\n",
       "      <td>15.123520</td>\n",
       "      <td>2.124034</td>\n",
       "      <td>2.216329</td>\n",
       "      <td>0.891409</td>\n",
       "    </tr>\n",
       "  </tbody>\n",
       "</table>\n",
       "</div>"
      ],
      "text/plain": [
       "          dw     fridge       hvac        mw      oven        wm\n",
       "10  1.920821  10.101961  23.240652  2.208036  2.390261  0.921315\n",
       "50  1.821831   9.916001  17.703636  2.122164  2.226822  0.885549\n",
       "90  1.832772   9.918317  15.123520  2.124034  2.216329  0.891409"
      ]
     },
     "execution_count": 25,
     "metadata": {},
     "output_type": "execute_result"
    }
   ],
   "source": [
    "none_results = pd.Panel(out[None][a]).mean(axis=0)\n",
    "none_results\n",
    "none_results_err=  pd.Panel(out[None][a]).std(axis=0)\n",
    "none_results"
   ]
  },
  {
   "cell_type": "code",
   "execution_count": 87,
   "metadata": {},
   "outputs": [
    {
     "data": {
      "text/html": [
       "<div>\n",
       "<style>\n",
       "    .dataframe thead tr:only-child th {\n",
       "        text-align: right;\n",
       "    }\n",
       "\n",
       "    .dataframe thead th {\n",
       "        text-align: left;\n",
       "    }\n",
       "\n",
       "    .dataframe tbody tr th {\n",
       "        vertical-align: top;\n",
       "    }\n",
       "</style>\n",
       "<table border=\"1\" class=\"dataframe\">\n",
       "  <thead>\n",
       "    <tr style=\"text-align: right;\">\n",
       "      <th></th>\n",
       "      <th>dw</th>\n",
       "      <th>fridge</th>\n",
       "      <th>hvac</th>\n",
       "      <th>mw</th>\n",
       "      <th>oven</th>\n",
       "      <th>wm</th>\n",
       "    </tr>\n",
       "  </thead>\n",
       "  <tbody>\n",
       "    <tr>\n",
       "      <th>10</th>\n",
       "      <td>1.904125</td>\n",
       "      <td>10.874062</td>\n",
       "      <td>18.637151</td>\n",
       "      <td>2.289705</td>\n",
       "      <td>2.436806</td>\n",
       "      <td>0.938437</td>\n",
       "    </tr>\n",
       "    <tr>\n",
       "      <th>50</th>\n",
       "      <td>1.846901</td>\n",
       "      <td>10.572175</td>\n",
       "      <td>15.425051</td>\n",
       "      <td>2.216119</td>\n",
       "      <td>2.247626</td>\n",
       "      <td>0.920995</td>\n",
       "    </tr>\n",
       "    <tr>\n",
       "      <th>90</th>\n",
       "      <td>1.850043</td>\n",
       "      <td>10.580138</td>\n",
       "      <td>15.195719</td>\n",
       "      <td>2.217537</td>\n",
       "      <td>2.244608</td>\n",
       "      <td>0.922847</td>\n",
       "    </tr>\n",
       "  </tbody>\n",
       "</table>\n",
       "</div>"
      ],
      "text/plain": [
       "          dw     fridge       hvac        mw      oven        wm\n",
       "10  1.904125  10.874062  18.637151  2.289705  2.436806  0.938437\n",
       "50  1.846901  10.572175  15.425051  2.216119  2.247626  0.920995\n",
       "90  1.850043  10.580138  15.195719  2.217537  2.244608  0.922847"
      ]
     },
     "execution_count": 87,
     "metadata": {},
     "output_type": "execute_result"
    }
   ],
   "source": [
    "none_results = pd.Panel(out[None][a]).mean(axis=0)\n",
    "none_results\n",
    "none_results_err=  pd.Panel(out[None][a]).std(axis=0)\n",
    "none_results"
   ]
  },
  {
   "cell_type": "code",
   "execution_count": 76,
   "metadata": {},
   "outputs": [
    {
     "data": {
      "text/html": [
       "<div>\n",
       "<style>\n",
       "    .dataframe thead tr:only-child th {\n",
       "        text-align: right;\n",
       "    }\n",
       "\n",
       "    .dataframe thead th {\n",
       "        text-align: left;\n",
       "    }\n",
       "\n",
       "    .dataframe tbody tr th {\n",
       "        vertical-align: top;\n",
       "    }\n",
       "</style>\n",
       "<table border=\"1\" class=\"dataframe\">\n",
       "  <thead>\n",
       "    <tr style=\"text-align: right;\">\n",
       "      <th></th>\n",
       "      <th>dw</th>\n",
       "      <th>fridge</th>\n",
       "      <th>hvac</th>\n",
       "      <th>mw</th>\n",
       "      <th>oven</th>\n",
       "      <th>wm</th>\n",
       "    </tr>\n",
       "  </thead>\n",
       "  <tbody>\n",
       "    <tr>\n",
       "      <th>10</th>\n",
       "      <td>1.904125</td>\n",
       "      <td>10.874062</td>\n",
       "      <td>18.637151</td>\n",
       "      <td>2.289705</td>\n",
       "      <td>2.436806</td>\n",
       "      <td>0.938437</td>\n",
       "    </tr>\n",
       "    <tr>\n",
       "      <th>50</th>\n",
       "      <td>1.846901</td>\n",
       "      <td>10.572175</td>\n",
       "      <td>15.425051</td>\n",
       "      <td>2.216119</td>\n",
       "      <td>2.247626</td>\n",
       "      <td>0.920995</td>\n",
       "    </tr>\n",
       "    <tr>\n",
       "      <th>90</th>\n",
       "      <td>1.850043</td>\n",
       "      <td>10.580138</td>\n",
       "      <td>15.195719</td>\n",
       "      <td>2.217537</td>\n",
       "      <td>2.244608</td>\n",
       "      <td>0.922847</td>\n",
       "    </tr>\n",
       "  </tbody>\n",
       "</table>\n",
       "</div>"
      ],
      "text/plain": [
       "          dw     fridge       hvac        mw      oven        wm\n",
       "10  1.904125  10.874062  18.637151  2.289705  2.436806  0.938437\n",
       "50  1.846901  10.572175  15.425051  2.216119  2.247626  0.920995\n",
       "90  1.850043  10.580138  15.195719  2.217537  2.244608  0.922847"
      ]
     },
     "execution_count": 76,
     "metadata": {},
     "output_type": "execute_result"
    }
   ],
   "source": [
    "none_results"
   ]
  },
  {
   "cell_type": "code",
   "execution_count": 86,
   "metadata": {},
   "outputs": [
    {
     "data": {
      "text/plain": [
       "<matplotlib.text.Text at 0x11f8ad0d0>"
      ]
     },
     "execution_count": 86,
     "metadata": {},
     "output_type": "execute_result"
    },
    {
     "data": {
      "image/png": "[encoded data removed]",
      "text/plain": [
       "<matplotlib.figure.Figure at 0x11f8ad150>"
      ]
     },
     "metadata": {},
     "output_type": "display_data"
    }
   ],
   "source": [
    "fig, ax = plt.subplots(ncols=6, figsize=(16, 3))\n",
    "for i, appliance in enumerate(APPLIANCES_ORDER[1:]):\n",
    "        \n",
    "    none_results[appliance].plot(ax=ax[i], marker='o', label=\"Without static\", title=appliance, yerr=none_results_err[appliance])\n",
    "    ax[i].set_xlim(0, 100)\n",
    "for i, appliance in enumerate(APPLIANCES_ORDER[1:]):\n",
    "        \n",
    "    static_results[appliance].plot(ax=ax[i], marker='o', label=\"With static\", title=appliance, yerr=static_results_err[appliance])\n",
    "    ax[i].set_xlim(0, 100)\n",
    "    format_axes(ax[i])\n",
    "plt.legend(bbox_to_anchor=(1.04,1), loc=\"upper left\")\n",
    "ax[0].set_ylabel(\"Error\")\n",
    "fig.text(0.5, -0.03, \"Percentage Training data\")\n",
    "plt.suptitle(\"Transfer learning\", fontsize=15, y=1.2)"
   ]
  },
  {
   "cell_type": "code",
   "execution_count": 89,
   "metadata": {
    "collapsed": true
   },
   "outputs": [],
   "source": [
    "results = {'None':none_results, 'Static':static_results}\n",
    "import pickle\n",
    "pickle.dump(results, open(\"predictions/transfer_ada_static.pkl\", 'w'))"
   ]
  },
  {
   "cell_type": "code",
   "execution_count": null,
   "metadata": {
    "collapsed": true
   },
   "outputs": [],
   "source": []
  }
 ],
 "metadata": {
  "kernelspec": {
   "display_name": "Python 2",
   "language": "python",
   "name": "python2"
  },
  "language_info": {
   "codemirror_mode": {
    "name": "ipython",
    "version": 2
   },
   "file_extension": ".py",
   "mimetype": "text/x-python",
   "name": "python",
   "nbconvert_exporter": "python",
   "pygments_lexer": "ipython2",
   "version": "2.7.13"
  }
 },
 "nbformat": 4,
 "nbformat_minor": 2
}
