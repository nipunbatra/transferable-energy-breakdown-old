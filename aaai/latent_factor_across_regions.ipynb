{
 "cells": [
  {
   "cell_type": "markdown",
   "metadata": {},
   "source": [
    "The aim of this notebook is to understand the various learnt latent factors."
   ]
  },
  {
   "cell_type": "code",
   "execution_count": 2,
   "metadata": {
    "collapsed": true
   },
   "outputs": [],
   "source": [
    "import numpy as np\n",
    "import pandas as pd\n",
    "import sys\n",
    "from common import compute_rmse_fraction\n"
   ]
  },
  {
   "cell_type": "code",
   "execution_count": 14,
   "metadata": {
    "collapsed": true
   },
   "outputs": [],
   "source": [
    "from mf_core import *\n",
    "\n",
    "import numpy as np\n",
    "import pandas as pd\n",
    "import sys\n",
    "from create_matrix import *\n",
    "from sklearn.model_selection import LeaveOneOut\n",
    "\n",
    "import pickle\n",
    "from tensor_custom_core import *\n",
    "from degree_days import dds"
   ]
  },
  {
   "cell_type": "code",
   "execution_count": 74,
   "metadata": {},
   "outputs": [],
   "source": [
    "def learn_lf(region, year, a, b):\n",
    "    APPLIANCES = ['fridge', 'hvac', 'wm', 'mw', 'oven', 'dw']\n",
    "\n",
    "\n",
    "    def un_normalize(x, maximum, minimum):\n",
    "        return (maximum-minimum)*x + minimum\n",
    "\n",
    "\n",
    "\n",
    "\n",
    "\n",
    "    pred = {}\n",
    "    lat = {}\n",
    "    for appliance in APPLIANCES[:]:\n",
    "        lat[appliance] = {}\n",
    "        pred[appliance] = {}\n",
    "        if appliance == \"hvac\":\n",
    "            start, stop = 5, 11\n",
    "        else:\n",
    "            start, stop = 1, 13\n",
    "        months = stop - start\n",
    "        pred[appliance] = {}\n",
    "        appliance_df = create_matrix_region_appliance_year(region, year, appliance, all=False)\n",
    "        aggregate_cols = [x for x in appliance_df.columns if \"aggregate\" in x]\n",
    "        appliance_cols = [x for x in appliance_df.columns if appliance in x]\n",
    "        energy_cols = np.concatenate([aggregate_cols, appliance_cols])\n",
    "\n",
    "        df = appliance_df.copy()\n",
    "        dfc = df.copy()\n",
    "        static_cols = ['area', 'total_occupants', 'num_rooms']\n",
    "        static_df = df[static_cols]\n",
    "        static_df = static_df.div(static_df.max())\n",
    "        weather_values = np.array(dds[2014]['Austin'][start-1:stop-1]).reshape(-1,1)\n",
    "\n",
    "        df = df[energy_cols]\n",
    "        col_max = df.max().max()\n",
    "        col_min = df.min().min()\n",
    "        df = (1.0*(df-col_min))/(col_max-col_min)\n",
    "        print df.describe()\n",
    "        tensor = df.values.reshape((len(df), 2, months))\n",
    "    \n",
    "        M, N, O = tensor.shape\n",
    "        print M, N, O\n",
    "        mask = np.ones(M).astype('bool')\n",
    "\n",
    "        case=2\n",
    "        pred[appliance][case] = {}\n",
    "        for a in range(1, 6):\n",
    "            lat[appliance][a] = {}\n",
    "            print \"*\"*20\n",
    "            print a, case, appliance\n",
    "            print \"*\"*20\n",
    "\n",
    "            b = a\n",
    "            pred[appliance][case][a] = {}\n",
    "            for i, home in enumerate(df.index[:1]):\n",
    "\n",
    "\n",
    "                tensor_copy = tensor.copy()\n",
    "                tensor_copy[i, 1, :]=np.NaN\n",
    "                H, A, T = learn_HAT(case, tensor_copy, a, a, num_iter=2000, lr=0.1, dis=False, cost_function='abs',\n",
    "                                    H_known=static_df.values[:,:a])\n",
    "                lat[appliance][a]['T'] = T\n",
    "                lat[appliance][a]['A'] = A\n",
    "                lat[appliance][a]['H'] = H\n",
    "    return lat\n"
   ]
  },
  {
   "cell_type": "code",
   "execution_count": 75,
   "metadata": {
    "collapsed": true
   },
   "outputs": [],
   "source": [
    "%matplotlib inline"
   ]
  },
  {
   "cell_type": "code",
   "execution_count": 76,
   "metadata": {},
   "outputs": [
    {
     "name": "stdout",
     "output_type": "stream",
     "text": [
      "       aggregate_1  aggregate_2  aggregate_3  aggregate_4  aggregate_5  \\\n",
      "count    20.000000    25.000000    27.000000    28.000000    35.000000   \n",
      "mean      0.194262     0.166073     0.242901     0.242264     0.307896   \n",
      "std       0.120995     0.108485     0.139808     0.142373     0.176196   \n",
      "min       0.000779     0.002375     0.075035     0.065836     0.077360   \n",
      "25%       0.121365     0.124581     0.139429     0.132520     0.173521   \n",
      "50%       0.156221     0.143205     0.185854     0.211941     0.253810   \n",
      "75%       0.317446     0.236359     0.321888     0.338436     0.407706   \n",
      "max       0.371785     0.350720     0.707648     0.699491     0.774972   \n",
      "\n",
      "       aggregate_6  aggregate_7  aggregate_8  aggregate_9  aggregate_10  \\\n",
      "count    35.000000    37.000000    36.000000    33.000000     30.000000   \n",
      "mean      0.289319     0.400148     0.442438     0.488348      0.326873   \n",
      "std       0.181512     0.231807     0.252178     0.269567      0.156596   \n",
      "min       0.086280     0.022727     0.124072     0.118246      0.099384   \n",
      "25%       0.145722     0.192027     0.227620     0.298228      0.201987   \n",
      "50%       0.255639     0.361050     0.387930     0.410098      0.307126   \n",
      "75%       0.372174     0.565307     0.641512     0.663696      0.438684   \n",
      "max       0.806782     0.825227     0.941378     1.000000      0.724727   \n",
      "\n",
      "         ...       fridge_3   fridge_4   fridge_5   fridge_6   fridge_7  \\\n",
      "count    ...      25.000000  26.000000  33.000000  33.000000  35.000000   \n",
      "mean     ...       0.035317   0.033986   0.036063   0.037397   0.039471   \n",
      "std      ...       0.017463   0.016650   0.016620   0.015663   0.016429   \n",
      "min      ...       0.020285   0.014833   0.016408   0.022700   0.003973   \n",
      "25%      ...       0.024840   0.025717   0.026987   0.029052   0.030300   \n",
      "50%      ...       0.028454   0.028324   0.029979   0.032195   0.037067   \n",
      "75%      ...       0.038637   0.037511   0.042901   0.043819   0.043755   \n",
      "max      ...       0.102441   0.099650   0.108041   0.106590   0.111975   \n",
      "\n",
      "        fridge_8   fridge_9  fridge_10  fridge_11  fridge_12  \n",
      "count  34.000000  31.000000  28.000000  24.000000  24.000000  \n",
      "mean    0.040531   0.038578   0.037570   0.034584   0.037977  \n",
      "std     0.015479   0.015190   0.016606   0.011343   0.024138  \n",
      "min     0.022230   0.022811   0.011207   0.022720   0.015710  \n",
      "25%     0.031550   0.029374   0.029981   0.028013   0.025958  \n",
      "50%     0.037178   0.034019   0.034937   0.032159   0.032080  \n",
      "75%     0.044946   0.042357   0.041238   0.036768   0.039013  \n",
      "max     0.111029   0.104239   0.106046   0.077272   0.125293  \n",
      "\n",
      "[8 rows x 24 columns]\n",
      "42 2 12\n",
      "********************\n",
      "1 2 fridge\n",
      "********************\n",
      "********************\n",
      "2 2 fridge\n",
      "********************\n",
      "********************\n",
      "3 2 fridge\n",
      "********************\n",
      "********************\n",
      "4 2 fridge\n",
      "********************\n",
      "********************\n",
      "5 2 fridge\n",
      "********************\n",
      "       aggregate_5  aggregate_6  aggregate_7  aggregate_8  aggregate_9  \\\n",
      "count    35.000000    35.000000    37.000000    36.000000    33.000000   \n",
      "mean      0.308016     0.289442     0.400252     0.442535     0.488437   \n",
      "std       0.176165     0.181480     0.231766     0.252134     0.269520   \n",
      "min       0.077520     0.086438     0.022896     0.124224     0.118398   \n",
      "25%       0.173664     0.145870     0.192167     0.227754     0.298350   \n",
      "50%       0.253939     0.255768     0.361160     0.388036     0.410200   \n",
      "75%       0.407809     0.372283     0.565383     0.641574     0.663754   \n",
      "max       0.775011     0.806815     0.825257     0.941388     1.000000   \n",
      "\n",
      "       aggregate_10     hvac_5     hvac_6     hvac_7     hvac_8     hvac_9  \\\n",
      "count     30.000000  35.000000  35.000000  37.000000  36.000000  33.000000   \n",
      "mean       0.326990   0.068890   0.049600   0.133202   0.158961   0.191932   \n",
      "std        0.156569   0.068736   0.066862   0.117866   0.132523   0.136698   \n",
      "min        0.099540   0.000008   0.000000   0.000002   0.000017   0.005829   \n",
      "25%        0.202126   0.018899   0.000027   0.032765   0.054572   0.095577   \n",
      "50%        0.307246   0.048896   0.020013   0.100706   0.131594   0.163158   \n",
      "75%        0.438781   0.097758   0.091913   0.231941   0.248095   0.260711   \n",
      "max        0.724775   0.339783   0.286373   0.415304   0.462160   0.499979   \n",
      "\n",
      "         hvac_10  \n",
      "count  30.000000  \n",
      "mean    0.073141  \n",
      "std     0.067210  \n",
      "min     0.000001  \n",
      "25%     0.025574  \n",
      "50%     0.052162  \n",
      "75%     0.118149  \n",
      "max     0.229142  \n",
      "42 2 6\n",
      "********************\n",
      "1 2 hvac\n",
      "********************\n",
      "********************\n",
      "2 2 hvac\n",
      "********************\n",
      "********************\n",
      "3 2 hvac\n",
      "********************\n",
      "********************\n",
      "4 2 hvac\n",
      "********************\n",
      "********************\n",
      "5 2 hvac\n",
      "********************\n",
      "       aggregate_1  aggregate_2  aggregate_3  aggregate_4  aggregate_5  \\\n",
      "count    20.000000    25.000000    27.000000    28.000000    35.000000   \n",
      "mean      0.194382     0.166198     0.243014     0.242377     0.307999   \n",
      "std       0.120977     0.108469     0.139787     0.142352     0.176169   \n",
      "min       0.000928     0.002524     0.075173     0.065976     0.077498   \n",
      "25%       0.121496     0.124712     0.139557     0.132650     0.173645   \n",
      "50%       0.156348     0.143333     0.185976     0.212058     0.253922   \n",
      "75%       0.317548     0.236473     0.321990     0.338535     0.407795   \n",
      "max       0.371879     0.350818     0.707691     0.699536     0.775006   \n",
      "\n",
      "       aggregate_6  aggregate_7  aggregate_8  aggregate_9  aggregate_10  \\\n",
      "count    35.000000    37.000000    36.000000    33.000000     30.000000   \n",
      "mean      0.289425     0.400237     0.442521     0.488424      0.326974   \n",
      "std       0.181485     0.231772     0.252140     0.269527      0.156573   \n",
      "min       0.086417     0.022873     0.124203     0.118377      0.099518   \n",
      "25%       0.145850     0.192148     0.227735     0.298333      0.202107   \n",
      "50%       0.255750     0.361145     0.388022     0.410186      0.307230   \n",
      "75%       0.372268     0.565372     0.641565     0.663746      0.438767   \n",
      "max       0.806811     0.825253     0.941386     1.000000      0.724769   \n",
      "\n",
      "         ...          wm_3       wm_4       wm_5       wm_6       wm_7  \\\n",
      "count    ...     10.000000  11.000000  15.000000  15.000000  14.000000   \n",
      "mean     ...      0.003858   0.003652   0.003173   0.002839   0.002845   \n",
      "std      ...      0.003056   0.003257   0.002796   0.002155   0.002125   \n",
      "min      ...      0.001257   0.000282   0.000946   0.001097   0.000122   \n",
      "25%      ...      0.002277   0.002121   0.001788   0.001408   0.001490   \n",
      "50%      ...      0.002676   0.002574   0.002476   0.002237   0.002472   \n",
      "75%      ...      0.003893   0.003331   0.002845   0.002989   0.003021   \n",
      "max      ...      0.010887   0.011915   0.010970   0.008495   0.007521   \n",
      "\n",
      "            wm_8       wm_9     wm_10     wm_11     wm_12  \n",
      "count  13.000000  12.000000  9.000000  9.000000  9.000000  \n",
      "mean    0.003218   0.002866  0.003309  0.003212  0.002712  \n",
      "std     0.002378   0.002017  0.002439  0.002155  0.002353  \n",
      "min     0.000970   0.000767  0.001877  0.001646  0.000857  \n",
      "25%     0.002028   0.001787  0.002113  0.002215  0.001589  \n",
      "50%     0.002376   0.002152  0.002504  0.002638  0.002020  \n",
      "75%     0.002769   0.003287  0.002678  0.003160  0.002818  \n",
      "max     0.008369   0.006941  0.009538  0.008773  0.008724  \n",
      "\n",
      "[8 rows x 24 columns]\n",
      "42 2 12\n",
      "********************\n",
      "1 2 wm\n",
      "********************\n",
      "********************\n",
      "2 2 wm\n",
      "********************\n",
      "********************\n",
      "3 2 wm\n",
      "********************\n",
      "********************\n",
      "4 2 wm\n",
      "********************\n",
      "********************\n",
      "5 2 wm\n",
      "********************\n",
      "       aggregate_1  aggregate_2  aggregate_3  aggregate_4  aggregate_5  \\\n",
      "count    20.000000    25.000000    27.000000    28.000000    35.000000   \n",
      "mean      0.194396     0.166212     0.243028     0.242391     0.308012   \n",
      "std       0.120975     0.108467     0.139784     0.142349     0.176166   \n",
      "min       0.000946     0.002542     0.075190     0.065992     0.077514   \n",
      "25%       0.121512     0.124728     0.139573     0.132665     0.173659   \n",
      "50%       0.156363     0.143349     0.185990     0.212072     0.253935   \n",
      "75%       0.317560     0.236487     0.322002     0.338547     0.407806   \n",
      "max       0.371890     0.350829     0.707697     0.699541     0.775010   \n",
      "\n",
      "       aggregate_6  aggregate_7  aggregate_8  aggregate_9  aggregate_10  \\\n",
      "count    35.000000    37.000000    36.000000    33.000000     30.000000   \n",
      "mean      0.289438     0.400248     0.442531     0.488433      0.326986   \n",
      "std       0.181481     0.231768     0.252136     0.269522      0.156570   \n",
      "min       0.086433     0.022890     0.124219     0.118393      0.099534   \n",
      "25%       0.145865     0.192162     0.227749     0.298346      0.202121   \n",
      "50%       0.255764     0.361156     0.388032     0.410197      0.307242   \n",
      "75%       0.372279     0.565380     0.641572     0.663752      0.438777   \n",
      "max       0.806814     0.825256     0.941387     1.000000      0.724773   \n",
      "\n",
      "         ...           mw_3       mw_4       mw_5       mw_6       mw_7  \\\n",
      "count    ...      26.000000  27.000000  34.000000  34.000000  36.000000   \n",
      "mean     ...       0.007593   0.006513   0.006068   0.006250   0.006532   \n",
      "std      ...       0.005814   0.005588   0.005303   0.006250   0.006544   \n",
      "min      ...       0.001191   0.000566   0.000576   0.000383   0.000000   \n",
      "25%      ...       0.003977   0.003719   0.002825   0.003094   0.003558   \n",
      "50%      ...       0.004701   0.004739   0.004594   0.004919   0.004610   \n",
      "75%      ...       0.008869   0.007026   0.007548   0.007714   0.007380   \n",
      "max      ...       0.023531   0.023461   0.023088   0.034321   0.034410   \n",
      "\n",
      "            mw_8       mw_9      mw_10      mw_11      mw_12  \n",
      "count  35.000000  32.000000  29.000000  25.000000  25.000000  \n",
      "mean    0.006747   0.006332   0.007075   0.008049   0.008719  \n",
      "std     0.006271   0.006545   0.007234   0.006728   0.007258  \n",
      "min     0.000500   0.000525   0.000566   0.001231   0.000446  \n",
      "25%     0.003378   0.003163   0.003634   0.004519   0.004469  \n",
      "50%     0.005030   0.004517   0.004951   0.005676   0.006277  \n",
      "75%     0.007056   0.006210   0.007851   0.008533   0.008845  \n",
      "max     0.029587   0.035683   0.036902   0.027470   0.027656  \n",
      "\n",
      "[8 rows x 24 columns]\n",
      "42 2 12\n",
      "********************\n",
      "1 2 mw\n",
      "********************\n"
     ]
    },
    {
     "name": "stdout",
     "output_type": "stream",
     "text": [
      "********************\n",
      "2 2 mw\n",
      "********************\n",
      "********************\n",
      "3 2 mw\n",
      "********************\n",
      "********************\n",
      "4 2 mw\n",
      "********************\n",
      "********************\n",
      "5 2 mw\n",
      "********************\n",
      "       aggregate_1  aggregate_2  aggregate_3  aggregate_4  aggregate_5  \\\n",
      "count    20.000000    25.000000    27.000000    28.000000    35.000000   \n",
      "mean      0.194401     0.166217     0.243032     0.242395     0.308016   \n",
      "std       0.120974     0.108467     0.139783     0.142348     0.176165   \n",
      "min       0.000952     0.002548     0.075195     0.065998     0.077520   \n",
      "25%       0.121517     0.124733     0.139578     0.132670     0.173664   \n",
      "50%       0.156368     0.143354     0.185995     0.212077     0.253939   \n",
      "75%       0.317564     0.236491     0.322006     0.338551     0.407809   \n",
      "max       0.371894     0.350833     0.707698     0.699543     0.775011   \n",
      "\n",
      "       aggregate_6  aggregate_7  aggregate_8  aggregate_9  aggregate_10  \\\n",
      "count    35.000000    37.000000    36.000000    33.000000     30.000000   \n",
      "mean      0.289442     0.400252     0.442535     0.488437      0.326990   \n",
      "std       0.181480     0.231766     0.252134     0.269520      0.156569   \n",
      "min       0.086438     0.022896     0.124224     0.118398      0.099540   \n",
      "25%       0.145870     0.192167     0.227754     0.298350      0.202126   \n",
      "50%       0.255768     0.361160     0.388036     0.410200      0.307246   \n",
      "75%       0.372283     0.565383     0.641574     0.663754      0.438781   \n",
      "max       0.806815     0.825257     0.941388     1.000000      0.724775   \n",
      "\n",
      "         ...         oven_3     oven_4     oven_5     oven_6     oven_7  \\\n",
      "count    ...      15.000000  15.000000  18.000000  18.000000  20.000000   \n",
      "mean     ...       0.007964   0.008791   0.009875   0.007124   0.013779   \n",
      "std      ...       0.006103   0.006936   0.012636   0.006546   0.032190   \n",
      "min      ...       0.000005   0.000005   0.000002   0.000000   0.000003   \n",
      "25%      ...       0.004561   0.003723   0.004381   0.003354   0.003450   \n",
      "50%      ...       0.006687   0.007262   0.006025   0.005963   0.006171   \n",
      "75%      ...       0.010694   0.015042   0.009501   0.008106   0.009991   \n",
      "max      ...       0.024416   0.020326   0.056115   0.027143   0.149100   \n",
      "\n",
      "          oven_8     oven_9    oven_10    oven_11    oven_12  \n",
      "count  20.000000  18.000000  18.000000  15.000000  15.000000  \n",
      "mean    0.013246   0.020244   0.007307   0.009830   0.011618  \n",
      "std     0.024188   0.053107   0.006934   0.008023   0.007468  \n",
      "min     0.000005   0.000005   0.000003   0.000000   0.000000  \n",
      "25%     0.003027   0.003581   0.003524   0.004780   0.008696  \n",
      "50%     0.005525   0.006122   0.005526   0.006482   0.009469  \n",
      "75%     0.012386   0.012590   0.009007   0.013839   0.014814  \n",
      "max     0.111031   0.231427   0.025386   0.026466   0.027966  \n",
      "\n",
      "[8 rows x 24 columns]\n",
      "42 2 12\n",
      "********************\n",
      "1 2 oven\n",
      "********************\n",
      "********************\n",
      "2 2 oven\n",
      "********************\n",
      "********************\n",
      "3 2 oven\n",
      "********************\n",
      "********************\n",
      "4 2 oven\n",
      "********************\n",
      "********************\n",
      "5 2 oven\n",
      "********************\n",
      "       aggregate_1  aggregate_2  aggregate_3  aggregate_4  aggregate_5  \\\n",
      "count    20.000000    25.000000    27.000000    28.000000    35.000000   \n",
      "mean      0.194401     0.166217     0.243032     0.242395     0.308016   \n",
      "std       0.120974     0.108467     0.139783     0.142348     0.176165   \n",
      "min       0.000952     0.002548     0.075195     0.065998     0.077520   \n",
      "25%       0.121517     0.124733     0.139578     0.132670     0.173664   \n",
      "50%       0.156368     0.143354     0.185995     0.212077     0.253939   \n",
      "75%       0.317564     0.236491     0.322006     0.338551     0.407809   \n",
      "max       0.371894     0.350833     0.707698     0.699543     0.775011   \n",
      "\n",
      "       aggregate_6  aggregate_7  aggregate_8  aggregate_9  aggregate_10  \\\n",
      "count    35.000000    37.000000    36.000000    33.000000     30.000000   \n",
      "mean      0.289442     0.400252     0.442535     0.488437      0.326990   \n",
      "std       0.181480     0.231766     0.252134     0.269520      0.156569   \n",
      "min       0.086438     0.022896     0.124224     0.118398      0.099540   \n",
      "25%       0.145870     0.192167     0.227754     0.298350      0.202126   \n",
      "50%       0.255768     0.361160     0.388036     0.410200      0.307246   \n",
      "75%       0.372283     0.565383     0.641574     0.663754      0.438781   \n",
      "max       0.806815     0.825257     0.941388     1.000000      0.724775   \n",
      "\n",
      "         ...           dw_3       dw_4       dw_5       dw_6       dw_7  \\\n",
      "count    ...      27.000000  28.000000  35.000000  35.000000  36.000000   \n",
      "mean     ...       0.005587   0.005921   0.005413   0.005875   0.005712   \n",
      "std      ...       0.009086   0.008963   0.007299   0.007594   0.007883   \n",
      "min      ...       0.000000   0.000000   0.000000   0.000000   0.000000   \n",
      "25%      ...       0.000435   0.000516   0.000512   0.000506   0.000917   \n",
      "50%      ...       0.002034   0.002278   0.003071   0.003203   0.002711   \n",
      "75%      ...       0.006536   0.006439   0.008307   0.007870   0.008618   \n",
      "max      ...       0.041571   0.039615   0.034717   0.032540   0.039579   \n",
      "\n",
      "            dw_8       dw_9      dw_10      dw_11      dw_12  \n",
      "count  36.000000  33.000000  30.000000  26.000000  26.000000  \n",
      "mean    0.005796   0.005304   0.006194   0.005566   0.005702  \n",
      "std     0.006768   0.005640   0.008142   0.005991   0.007287  \n",
      "min     0.000000   0.000000   0.000000   0.000000   0.000000  \n",
      "25%     0.001016   0.000444   0.001042   0.001247   0.001216  \n",
      "50%     0.003528   0.003482   0.003226   0.003873   0.003705  \n",
      "75%     0.008711   0.008556   0.007914   0.007374   0.006105  \n",
      "max     0.029880   0.021160   0.038719   0.023107   0.030289  \n",
      "\n",
      "[8 rows x 24 columns]\n",
      "42 2 12\n",
      "********************\n",
      "1 2 dw\n",
      "********************\n",
      "********************\n",
      "2 2 dw\n",
      "********************\n",
      "********************\n",
      "3 2 dw\n",
      "********************\n",
      "********************\n",
      "4 2 dw\n",
      "********************\n",
      "********************\n",
      "5 2 dw\n",
      "********************\n"
     ]
    }
   ],
   "source": [
    "lat_sd = learn_lf('SanDiego', 2014, 3, 3)"
   ]
  },
  {
   "cell_type": "code",
   "execution_count": 28,
   "metadata": {},
   "outputs": [
    {
     "name": "stdout",
     "output_type": "stream",
     "text": [
      "********************\n",
      "1 2 fridge\n",
      "********************\n",
      "********************\n",
      "2 2 fridge\n",
      "********************\n",
      "********************\n",
      "3 2 fridge\n",
      "********************\n",
      "********************\n",
      "4 2 fridge\n",
      "********************\n",
      "********************\n",
      "5 2 fridge\n",
      "********************\n",
      "********************\n",
      "1 2 hvac\n",
      "********************\n",
      "********************\n",
      "2 2 hvac\n",
      "********************\n",
      "********************\n",
      "3 2 hvac\n",
      "********************\n",
      "********************\n",
      "4 2 hvac\n",
      "********************\n",
      "********************\n",
      "5 2 hvac\n",
      "********************\n",
      "********************\n",
      "1 2 wm\n",
      "********************\n",
      "********************\n",
      "2 2 wm\n",
      "********************\n",
      "********************\n",
      "3 2 wm\n",
      "********************\n",
      "********************\n",
      "4 2 wm\n",
      "********************\n",
      "********************\n",
      "5 2 wm\n",
      "********************\n",
      "********************\n",
      "1 2 mw\n",
      "********************\n",
      "********************\n",
      "2 2 mw\n",
      "********************\n",
      "********************\n",
      "3 2 mw\n",
      "********************\n",
      "********************\n",
      "4 2 mw\n",
      "********************\n",
      "********************\n",
      "5 2 mw\n",
      "********************\n",
      "********************\n",
      "1 2 oven\n",
      "********************\n",
      "********************\n",
      "2 2 oven\n",
      "********************\n",
      "********************\n",
      "3 2 oven\n",
      "********************\n",
      "********************\n",
      "4 2 oven\n",
      "********************\n",
      "********************\n",
      "5 2 oven\n",
      "********************\n",
      "********************\n",
      "1 2 dw\n",
      "********************\n",
      "********************\n",
      "2 2 dw\n",
      "********************\n",
      "********************\n",
      "3 2 dw\n",
      "********************\n",
      "********************\n",
      "4 2 dw\n",
      "********************\n",
      "********************\n",
      "5 2 dw\n",
      "********************\n"
     ]
    }
   ],
   "source": [
    "lat_austin = learn_lf('Austin', 2014, 3, 3)"
   ]
  },
  {
   "cell_type": "code",
   "execution_count": 7,
   "metadata": {
    "collapsed": true
   },
   "outputs": [],
   "source": [
    "import seaborn as sns"
   ]
  },
  {
   "cell_type": "code",
   "execution_count": 77,
   "metadata": {},
   "outputs": [
    {
     "data": {
      "text/plain": [
       "[0.012706480304955527,\n",
       " 0.07369758576874205,\n",
       " 0.09148665819567979,\n",
       " 0.30495552731893266,\n",
       " 0.5184243964421855,\n",
       " 0.832274459974587,\n",
       " 0.9085133418043202,\n",
       " 1.0,\n",
       " 0.747141041931385,\n",
       " 0.4650571791613723,\n",
       " 0.054637865311308764,\n",
       " 0.03430749682337993]"
      ]
     },
     "execution_count": 77,
     "metadata": {},
     "output_type": "execute_result"
    }
   ],
   "source": [
    "dds[2014]['Austin']"
   ]
  },
  {
   "cell_type": "code",
   "execution_count": 83,
   "metadata": {
    "collapsed": true
   },
   "outputs": [],
   "source": [
    "import matplotlib.pyplot as plt"
   ]
  },
  {
   "cell_type": "code",
   "execution_count": 78,
   "metadata": {
    "collapsed": true
   },
   "outputs": [],
   "source": [
    "lat = {'Austin':lat_austin,'SanDiego':lat_sd}"
   ]
  },
  {
   "cell_type": "code",
   "execution_count": 84,
   "metadata": {},
   "outputs": [],
   "source": [
    "def append_weather(df, appliance, region):\n",
    "    if appliance==\"hvac\":\n",
    "        start, stop = 5, 11\n",
    "    else:\n",
    "        start, stop = 1, 13\n",
    "    degree_days = dds[2014][region][start-1:stop-1]\n",
    "    df.loc['Degree Days \\n(Normalised)'] = degree_days\n",
    "    return df\n",
    "\n",
    "def append_mean_energy(df, appliance):\n",
    "    appliance_df = create_matrix_region_appliance_year(region, year, appliance,all=True)\n",
    "    appliance_cols = [x for x in appliance_df.columns if appliance in x]\n",
    "    appliance_df = appliance_df[appliance_cols]\n",
    "    appliance_df.columns = range(len(appliance_cols))\n",
    "    appliance_energy = appliance_df.mean().div(appliance_df.mean().max())\n",
    "    df.loc['Mean Energy \\n(Normalised)'] = appliance_energy\n",
    "    return df\n",
    "    \n",
    "\n",
    "def plot_heatmap_correlation(appliance=\"fridge\", num_factors=1, region=\"Austin\"):    \n",
    "    appliance=\"fridge\"\n",
    "    num_factors=1\n",
    "    df = pd.DataFrame(lat[region][appliance][num_factors]['T']).T\n",
    "    df.index = ['Latent_'+str(x) for x in df.index]\n",
    "    df = append_weather(df, appliance, 'SanDiego')\n",
    "    df = append_mean_energy(df, appliance)\n",
    "\n",
    "    sns.heatmap(df, annot=True)\n",
    "    plt.figure()\n",
    "    sns.heatmap(df.T.corr(), annot=True)"
   ]
  },
  {
   "cell_type": "code",
   "execution_count": 86,
   "metadata": {},
   "outputs": [
    {
     "data": {
      "image/png": "[encoded data removed]",
      "text/plain": [
       "<matplotlib.figure.Figure at 0x1154232d0>"
      ]
     },
     "metadata": {},
     "output_type": "display_data"
    },
    {
     "data": {
      "image/png": "[encoded data removed]",
      "text/plain": [
       "<matplotlib.figure.Figure at 0x114c5e890>"
      ]
     },
     "metadata": {},
     "output_type": "display_data"
    }
   ],
   "source": [
    "plot_heatmap_correlation('hvac',1,'SanDiego')"
   ]
  },
  {
   "cell_type": "code",
   "execution_count": 125,
   "metadata": {},
   "outputs": [
    {
     "data": {
      "text/plain": [
       "array([[[ 0.82375844]],\n",
       "\n",
       "       [[ 0.08444968]]])"
      ]
     },
     "execution_count": 125,
     "metadata": {},
     "output_type": "execute_result"
    }
   ],
   "source": [
    "lat_sd['fridge'][1]['A'][:]"
   ]
  },
  {
   "cell_type": "code",
   "execution_count": 126,
   "metadata": {},
   "outputs": [
    {
     "data": {
      "text/plain": [
       "array([[[ 0.47757878]],\n",
       "\n",
       "       [[ 0.02489019]]])"
      ]
     },
     "execution_count": 126,
     "metadata": {},
     "output_type": "execute_result"
    }
   ],
   "source": [
    "lat_austin['fridge'][1]['A'][:]"
   ]
  },
  {
   "cell_type": "code",
   "execution_count": 94,
   "metadata": {},
   "outputs": [
    {
     "data": {
      "text/plain": [
       "3.0416666666666665"
      ]
     },
     "execution_count": 94,
     "metadata": {},
     "output_type": "execute_result"
    }
   ],
   "source": [
    "0.73/.24"
   ]
  },
  {
   "cell_type": "code",
   "execution_count": 95,
   "metadata": {},
   "outputs": [
    {
     "data": {
      "text/plain": [
       "2.857142857142857"
      ]
     },
     "execution_count": 95,
     "metadata": {},
     "output_type": "execute_result"
    }
   ],
   "source": [
    "0.60/.21"
   ]
  },
  {
   "cell_type": "code",
   "execution_count": null,
   "metadata": {
    "collapsed": true
   },
   "outputs": [],
   "source": []
  }
 ],
 "metadata": {
  "kernelspec": {
   "display_name": "Python 2",
   "language": "python",
   "name": "python2"
  },
  "language_info": {
   "codemirror_mode": {
    "name": "ipython",
    "version": 2
   },
   "file_extension": ".py",
   "mimetype": "text/x-python",
   "name": "python",
   "nbconvert_exporter": "python",
   "pygments_lexer": "ipython2",
   "version": "2.7.11"
  }
 },
 "nbformat": 4,
 "nbformat_minor": 1
}
