{
 "cells": [
  {
   "cell_type": "code",
   "execution_count": 1,
   "metadata": {
    "collapsed": true
   },
   "outputs": [],
   "source": [
    "import autograd.numpy as np\n",
    "import pandas as pd"
   ]
  },
  {
   "cell_type": "code",
   "execution_count": 2,
   "metadata": {
    "collapsed": true
   },
   "outputs": [],
   "source": [
    "M, N, O = 4, 3, 6\n",
    "E_np = np.random.randn(M, N, O)"
   ]
  },
  {
   "cell_type": "code",
   "execution_count": 3,
   "metadata": {
    "collapsed": true
   },
   "outputs": [],
   "source": [
    "E_np = np.abs(E_np)\n"
   ]
  },
  {
   "cell_type": "code",
   "execution_count": 4,
   "metadata": {
    "collapsed": true
   },
   "outputs": [],
   "source": [
    "E_np = np.divide(E_np, E_np.max())\n"
   ]
  },
  {
   "cell_type": "code",
   "execution_count": 5,
   "metadata": {},
   "outputs": [
    {
     "data": {
      "text/plain": [
       "array([[[ 0.2495686 ,  0.15639579,  0.19173782,  0.36269131,  0.23746075,\n",
       "          0.55661969],\n",
       "        [ 0.31522488,  0.54250973,  0.56055237,  0.41540447,  0.31177043,\n",
       "          0.13685991],\n",
       "        [ 0.01019742,  0.24143883,  0.29814897,  0.22976373,  0.02500548,\n",
       "          0.02241683]],\n",
       "\n",
       "       [[ 0.33939041,  0.14690375,  0.35667614,  0.30713639,  0.5192242 ,\n",
       "          0.22449151],\n",
       "        [ 0.2122677 ,  0.21155024,  0.02749964,  0.03300245,  0.07907378,\n",
       "          0.23849009],\n",
       "        [ 0.39319228,  0.02355076,  0.06530103,  0.41411542,  0.12958604,\n",
       "          0.04898004]],\n",
       "\n",
       "       [[ 0.197759  ,  0.27113167,  0.80549689,  0.23699048,  0.22752128,\n",
       "          0.546128  ],\n",
       "        [ 0.07403889,  0.33653459,  0.18688418,  0.44144554,  0.86480272,\n",
       "          0.4967378 ],\n",
       "        [ 0.30985255,  0.48297845,  0.05949094,  0.05040834,  0.16541064,\n",
       "          0.06481605]],\n",
       "\n",
       "       [[ 0.20229756,  0.16552947,  0.02749058,  0.20344661,  0.36618726,\n",
       "          0.25149388],\n",
       "        [ 0.02746732,  0.15739249,  0.05239715,  0.20972591,  0.56784558,\n",
       "          0.21501325],\n",
       "        [ 0.0579494 ,  1.        ,  0.19987712,  0.25087964,  0.0546617 ,\n",
       "          0.11983566]]])"
      ]
     },
     "execution_count": 5,
     "metadata": {},
     "output_type": "execute_result"
    }
   ],
   "source": [
    "E_np"
   ]
  },
  {
   "cell_type": "code",
   "execution_count": 6,
   "metadata": {
    "collapsed": true
   },
   "outputs": [],
   "source": [
    "E_np_masked = E_np.copy()\n",
    "for i in range(M):\n",
    "    for j in range(N):\n",
    "        for k in range(O):\n",
    "            if np.random.random()>0.8:\n",
    "                E_np_masked[i, j, k] = np.NAN"
   ]
  },
  {
   "cell_type": "code",
   "execution_count": 7,
   "metadata": {},
   "outputs": [
    {
     "data": {
      "text/plain": [
       "array([[[        nan,  0.15639579,  0.19173782,  0.36269131,  0.23746075,\n",
       "          0.55661969],\n",
       "        [ 0.31522488,  0.54250973,  0.56055237,  0.41540447,  0.31177043,\n",
       "          0.13685991],\n",
       "        [        nan,  0.24143883,  0.29814897,  0.22976373,  0.02500548,\n",
       "          0.02241683]],\n",
       "\n",
       "       [[ 0.33939041,  0.14690375,  0.35667614,         nan,         nan,\n",
       "          0.22449151],\n",
       "        [ 0.2122677 ,  0.21155024,  0.02749964,  0.03300245,  0.07907378,\n",
       "                 nan],\n",
       "        [ 0.39319228,  0.02355076,         nan,  0.41411542,  0.12958604,\n",
       "          0.04898004]],\n",
       "\n",
       "       [[ 0.197759  ,  0.27113167,         nan,  0.23699048,  0.22752128,\n",
       "          0.546128  ],\n",
       "        [ 0.07403889,  0.33653459,  0.18688418,  0.44144554,  0.86480272,\n",
       "                 nan],\n",
       "        [        nan,  0.48297845,  0.05949094,  0.05040834,         nan,\n",
       "          0.06481605]],\n",
       "\n",
       "       [[ 0.20229756,  0.16552947,  0.02749058,  0.20344661,  0.36618726,\n",
       "          0.25149388],\n",
       "        [ 0.02746732,  0.15739249,         nan,  0.20972591,  0.56784558,\n",
       "                 nan],\n",
       "        [ 0.0579494 ,  1.        ,  0.19987712,         nan,  0.0546617 ,\n",
       "          0.11983566]]])"
      ]
     },
     "execution_count": 7,
     "metadata": {},
     "output_type": "execute_result"
    }
   ],
   "source": [
    "E_np_masked"
   ]
  },
  {
   "cell_type": "code",
   "execution_count": 10,
   "metadata": {
    "collapsed": true
   },
   "outputs": [],
   "source": [
    "h = 2\n",
    "t = 3"
   ]
  },
  {
   "cell_type": "code",
   "execution_count": 11,
   "metadata": {},
   "outputs": [
    {
     "data": {
      "text/plain": [
       "(4, 3, 6)"
      ]
     },
     "execution_count": 11,
     "metadata": {},
     "output_type": "execute_result"
    }
   ],
   "source": [
    "E_np.shape"
   ]
  },
  {
   "cell_type": "code",
   "execution_count": 12,
   "metadata": {
    "collapsed": true
   },
   "outputs": [],
   "source": [
    "def cost(H, A, T):\n",
    "    HA = np.tensordot(H, A,axes = [[-1], [0]])\n",
    "    HAT = np.tensordot(HA, T, axes=[[-1], [0]])\n",
    "    mask = ~np.isnan(E_np_masked)\n",
    "    error = (HAT-E_np_masked)[mask].flatten()\n",
    "    return np.sqrt((error**2).mean())\n",
    "\n",
    "    "
   ]
  },
  {
   "cell_type": "code",
   "execution_count": 13,
   "metadata": {
    "collapsed": true
   },
   "outputs": [],
   "source": [
    "from autograd import multigrad"
   ]
  },
  {
   "cell_type": "code",
   "execution_count": 14,
   "metadata": {
    "collapsed": true
   },
   "outputs": [],
   "source": [
    "mg = multigrad(cost, argnums=[0, 1, 2])\n"
   ]
  },
  {
   "cell_type": "code",
   "execution_count": 15,
   "metadata": {
    "collapsed": true
   },
   "outputs": [],
   "source": [
    "lr = 1\n",
    "H =  np.random.rand(M, h)\n",
    "A = np.random.rand(h, N, t)\n",
    "T =  np.random.rand(t, O)"
   ]
  },
  {
   "cell_type": "code",
   "execution_count": 19,
   "metadata": {},
   "outputs": [
    {
     "data": {
      "text/plain": [
       "True"
      ]
     },
     "execution_count": 19,
     "metadata": {},
     "output_type": "execute_result"
    }
   ],
   "source": [
    "np.allclose(np.tensordot(H, A,axes = [[1], [0]]), np.tensordot(H, A,axes = [[-1], [0]]))"
   ]
  },
  {
   "cell_type": "code",
   "execution_count": 21,
   "metadata": {},
   "outputs": [
    {
     "data": {
      "text/plain": [
       "True"
      ]
     },
     "execution_count": 21,
     "metadata": {},
     "output_type": "execute_result"
    }
   ],
   "source": [
    "HA = np.tensordot(H, A,axes = [[1], [0]])\n",
    "np.allclose(np.tensordot(HA, T, axes=[[-1], [0]]), np.tensordot(HA, T, axes=[[2], [0]]))"
   ]
  },
  {
   "cell_type": "code",
   "execution_count": 17,
   "metadata": {},
   "outputs": [
    {
     "data": {
      "text/plain": [
       "(2, 3, 3)"
      ]
     },
     "execution_count": 17,
     "metadata": {},
     "output_type": "execute_result"
    }
   ],
   "source": [
    "A.shape"
   ]
  },
  {
   "cell_type": "code",
   "execution_count": 50,
   "metadata": {},
   "outputs": [
    {
     "name": "stdout",
     "output_type": "stream",
     "text": [
      "0.259098284311\n",
      "0.145871072094\n",
      "0.150477191217\n",
      "0.150144940079\n"
     ]
    }
   ],
   "source": [
    "for i in range(2000):\n",
    "    del_h, del_a, del_t = mg(H, A, T)\n",
    "    H-=lr*del_h\n",
    "    A-=lr*del_a\n",
    "    T-=lr*del_t\n",
    "    H[H<0] = 0\n",
    "    A[A<0] = 0\n",
    "    T[T<0] = 0\n",
    "    if i%500==0:\n",
    "        print(cost(H, A, T))"
   ]
  },
  {
   "cell_type": "code",
   "execution_count": 48,
   "metadata": {},
   "outputs": [
    {
     "data": {
      "text/plain": [
       "array([[[ 0.36550529,  0.6042783 ,  0.22580567,  0.343738  ,  0.75256312,\n",
       "          0.3339246 ],\n",
       "        [ 0.43228427,  0.9150506 ,  0.32190978,  0.46020755,  0.96733346,\n",
       "          0.38772689],\n",
       "        [ 0.39414323,  0.71278863,  0.26969717,  0.49276853,  0.80994261,\n",
       "          0.39955816]],\n",
       "\n",
       "       [[ 0.43847886,  0.90903492,  0.3182849 ,  0.42812187,  0.98180905,\n",
       "          0.38074381],\n",
       "        [ 0.4402462 ,  0.78562313,  0.29099495,  0.4652659 ,  0.92021891,\n",
       "          0.4142261 ],\n",
       "        [ 0.31066988,  0.68949433,  0.23596758,  0.29338615,  0.71841406,\n",
       "          0.25941337]],\n",
       "\n",
       "       [[ 0.90821036,  1.6700695 ,  0.60447544,  0.86854758,  1.94229521,\n",
       "          0.81156645],\n",
       "        [ 1.00241928,  1.98798063,  0.71274257,  1.06404122,  2.1836946 ,\n",
       "          0.91681785],\n",
       "        [ 0.83090865,  1.6195329 ,  0.58997081,  0.95183217,  1.78071561,\n",
       "          0.79149133]],\n",
       "\n",
       "       [[ 0.5895851 ,  1.15755277,  0.41130188,  0.57011777,  1.29237337,\n",
       "          0.51893433],\n",
       "        [ 0.61951376,  1.166127  ,  0.42475081,  0.65613736,  1.32182942,\n",
       "          0.57487897],\n",
       "        [ 0.47476172,  0.98534402,  0.34808406,  0.49920982,  1.05504828,\n",
       "          0.42615204]]])"
      ]
     },
     "execution_count": 48,
     "metadata": {},
     "output_type": "execute_result"
    }
   ],
   "source": [
    "HAT"
   ]
  },
  {
   "cell_type": "code",
   "execution_count": null,
   "metadata": {
    "collapsed": true
   },
   "outputs": [],
   "source": []
  }
 ],
 "metadata": {
  "kernelspec": {
   "display_name": "Python 2",
   "language": "python",
   "name": "python2"
  },
  "language_info": {
   "codemirror_mode": {
    "name": "ipython",
    "version": 2
   },
   "file_extension": ".py",
   "mimetype": "text/x-python",
   "name": "python",
   "nbconvert_exporter": "python",
   "pygments_lexer": "ipython2",
   "version": "2.7.11"
  }
 },
 "nbformat": 4,
 "nbformat_minor": 1
}
