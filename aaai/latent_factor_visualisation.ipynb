{
 "cells": [
  {
   "cell_type": "markdown",
   "metadata": {},
   "source": [
    "The aim of this notebook is to understand the various learnt latent factors."
   ]
  },
  {
   "cell_type": "code",
   "execution_count": 1,
   "metadata": {
    "collapsed": true
   },
   "outputs": [],
   "source": [
    "import numpy as np\n",
    "import pandas as pd\n",
    "import sys\n",
    "from common import compute_rmse_fraction\n"
   ]
  },
  {
   "cell_type": "code",
   "execution_count": 2,
   "metadata": {
    "collapsed": false,
    "scrolled": true
   },
   "outputs": [
    {
     "name": "stdout",
     "output_type": "stream",
     "text": [
      "3 3\n",
      "********************\n",
      "1 2 fridge\n",
      "********************\n",
      "********************\n",
      "2 2 fridge\n",
      "********************\n",
      "********************\n",
      "3 2 fridge\n",
      "********************\n",
      "********************\n",
      "4 2 fridge\n",
      "********************\n",
      "********************\n",
      "5 2 fridge\n",
      "********************\n",
      "********************\n",
      "1 2 hvac\n",
      "********************\n",
      "********************\n",
      "2 2 hvac\n",
      "********************\n",
      "********************\n",
      "3 2 hvac\n",
      "********************\n",
      "********************\n",
      "4 2 hvac\n",
      "********************\n",
      "********************\n",
      "5 2 hvac\n",
      "********************\n",
      "********************\n",
      "1 2 wm\n",
      "********************\n",
      "********************\n",
      "2 2 wm\n",
      "********************\n",
      "********************\n",
      "3 2 wm\n",
      "********************\n",
      "********************\n",
      "4 2 wm\n",
      "********************\n",
      "********************\n",
      "5 2 wm\n",
      "********************\n",
      "********************\n",
      "1 2 mw\n",
      "********************\n",
      "********************\n",
      "2 2 mw\n",
      "********************\n",
      "********************\n",
      "3 2 mw\n",
      "********************\n",
      "********************\n",
      "4 2 mw\n",
      "********************\n",
      "********************\n",
      "5 2 mw\n",
      "********************\n",
      "********************\n",
      "1 2 oven\n",
      "********************\n",
      "********************\n",
      "2 2 oven\n",
      "********************\n",
      "********************\n",
      "3 2 oven\n",
      "********************\n",
      "********************\n",
      "4 2 oven\n",
      "********************\n",
      "********************\n",
      "5 2 oven\n",
      "********************\n",
      "********************\n",
      "1 2 dw\n",
      "********************\n",
      "********************\n",
      "2 2 dw\n",
      "********************\n",
      "********************\n",
      "3 2 dw\n",
      "********************\n",
      "********************\n",
      "4 2 dw\n",
      "********************\n",
      "********************\n",
      "5 2 dw\n",
      "********************\n"
     ]
    }
   ],
   "source": [
    "from mf_core import *\n",
    "\n",
    "import numpy as np\n",
    "import pandas as pd\n",
    "import sys\n",
    "from create_matrix import *\n",
    "from sklearn.model_selection import LeaveOneOut\n",
    "from scipy.optimize import nnls\n",
    "\n",
    "import pickle\n",
    "from tensor_custom_core import *\n",
    "from degree_days import dds\n",
    "\n",
    "\n",
    "APPLIANCES = ['fridge', 'hvac', 'wm', 'mw', 'oven', 'dw']\n",
    "region = \"Austin\"\n",
    "year = 2014\n",
    "\n",
    "def un_normalize(x, maximum, minimum):\n",
    "    return (maximum-minimum)*x + minimum\n",
    "\n",
    "\n",
    "a, b = 3, 3\n",
    "\n",
    "print a, b\n",
    "\n",
    "\n",
    "pred = {}\n",
    "lat = {}\n",
    "for appliance in APPLIANCES[:]:\n",
    "    lat[appliance] = {}\n",
    "    pred[appliance] = {}\n",
    "    if appliance == \"hvac\":\n",
    "        start, stop = 5, 11\n",
    "    else:\n",
    "        start, stop = 1, 13\n",
    "    months = stop - start\n",
    "    pred[appliance] = {}\n",
    "    appliance_df = create_matrix_region_appliance_year(region, year, appliance)\n",
    "    aggregate_cols = [x for x in appliance_df.columns if \"aggregate\" in x]\n",
    "    appliance_cols = [x for x in appliance_df.columns if appliance in x]\n",
    "    energy_cols = np.concatenate([aggregate_cols, appliance_cols])\n",
    "\n",
    "    df = appliance_df.copy()\n",
    "    dfc = df.copy()\n",
    "    static_cols = ['area', 'total_occupants', 'num_rooms']\n",
    "    static_df = df[static_cols]\n",
    "    static_df = static_df.div(static_df.max())\n",
    "    weather_values = np.array(dds[2014]['Austin'][start-1:stop-1]).reshape(-1,1)\n",
    "\n",
    "    df = df[energy_cols]\n",
    "    col_max = df.max().max()\n",
    "    col_min = df.min().min()\n",
    "    df = (1.0*(df-col_min))/(col_max-col_min)\n",
    "    tensor = df.values.reshape((len(df), 2, months))\n",
    "    M, N, O = tensor.shape\n",
    "    mask = np.ones(M).astype('bool')\n",
    "\n",
    "    case=2\n",
    "    pred[appliance][case] = {}\n",
    "    for a in range(1, 6):\n",
    "        lat[appliance][a] = {}\n",
    "        print \"*\"*20\n",
    "        print a, case, appliance\n",
    "        print \"*\"*20\n",
    "\n",
    "        b = a\n",
    "        pred[appliance][case][a] = {}\n",
    "        for i, home in enumerate(df.index[:1]):\n",
    "\n",
    "\n",
    "            tensor_copy = tensor.copy()\n",
    "            tensor_copy[i, 1, :]=np.NaN\n",
    "            H, A, T = learn_HAT(case, tensor_copy, a, a, num_iter=2000, lr=0.1, dis=False, cost_function='rel',\n",
    "                                H_known=static_df.values[:,:a])\n",
    "            lat[appliance][a]['T'] = T\n",
    "            lat[appliance][a]['A'] = A\n",
    "            lat[appliance][a]['H'] = H\n",
    "            \n",
    "            "
   ]
  },
  {
   "cell_type": "code",
   "execution_count": 3,
   "metadata": {
    "collapsed": true
   },
   "outputs": [],
   "source": [
    "%matplotlib inline"
   ]
  },
  {
   "cell_type": "code",
   "execution_count": 4,
   "metadata": {
    "collapsed": false
   },
   "outputs": [
    {
     "name": "stderr",
     "output_type": "stream",
     "text": [
      "/Users/nipunbatra/anaconda/lib/python2.7/site-packages/IPython/html.py:14: ShimWarning: The `IPython.html` package has been deprecated since IPython 4.0. You should import from `notebook` instead. `IPython.html.widgets` has moved to `ipywidgets`.\n",
      "  \"`IPython.html.widgets` has moved to `ipywidgets`.\", ShimWarning)\n"
     ]
    }
   ],
   "source": [
    "import seaborn as sns"
   ]
  },
  {
   "cell_type": "code",
   "execution_count": 5,
   "metadata": {
    "collapsed": false
   },
   "outputs": [
    {
     "data": {
      "text/plain": [
       "[0.012706480304955527,\n",
       " 0.07369758576874205,\n",
       " 0.09148665819567979,\n",
       " 0.30495552731893266,\n",
       " 0.5184243964421855,\n",
       " 0.832274459974587,\n",
       " 0.9085133418043202,\n",
       " 1.0,\n",
       " 0.747141041931385,\n",
       " 0.4650571791613723,\n",
       " 0.054637865311308764,\n",
       " 0.03430749682337993]"
      ]
     },
     "execution_count": 5,
     "metadata": {},
     "output_type": "execute_result"
    }
   ],
   "source": [
    "dds[2014]['Austin']"
   ]
  },
  {
   "cell_type": "code",
   "execution_count": 10,
   "metadata": {
    "collapsed": false
   },
   "outputs": [
    {
     "data": {
      "text/plain": [
       "<matplotlib.axes._subplots.AxesSubplot at 0x11008aa10>"
      ]
     },
     "execution_count": 10,
     "metadata": {},
     "output_type": "execute_result"
    },
    {
     "data": {
      "image/png": "[encoded data removed]",
      "text/plain": [
       "<matplotlib.figure.Figure at 0x11007dc50>"
      ]
     },
     "metadata": {},
     "output_type": "display_data"
    }
   ],
   "source": [
    "def append_weather(df, appliance):\n",
    "    if appliance==\"hvac\":\n",
    "        start, stop = 5, 11\n",
    "    else:\n",
    "        start, stop = 1, 13\n",
    "    degree_days = dds[2014]['Austin'][start-1:stop-1]\n",
    "    df.loc['Degree Days \\n(Normalised)'] = degree_days\n",
    "    return df\n",
    "\n",
    "def append_mean_energy(df, appliance):\n",
    "    appliance_df = create_matrix_region_appliance_year(region, year, appliance)\n",
    "    appliance_cols = [x for x in appliance_df.columns if appliance in x]\n",
    "    appliance_df = appliance_df[appliance_cols]\n",
    "    appliance_df.columns = range(len(appliance_cols))\n",
    "    appliance_energy = appliance_df.mean().div(appliance_df.mean().max())\n",
    "    df.loc['Mean Energy \\n(Normalised)'] = appliance_energy\n",
    "    return df\n",
    "    \n",
    "\n",
    "appliance=\"mw\"\n",
    "num_factors=1\n",
    "df = pd.DataFrame(lat[appliance][num_factors]['T']).T\n",
    "df.index = ['Latent_'+str(x) for x in df.index]\n",
    "df = append_weather(df, appliance)\n",
    "df = append_mean_energy(df, appliance)\n",
    "\n",
    "sns.heatmap(df, annot=True)"
   ]
  },
  {
   "cell_type": "code",
   "execution_count": 11,
   "metadata": {
    "collapsed": false
   },
   "outputs": [
    {
     "data": {
      "text/plain": [
       "<matplotlib.axes._subplots.AxesSubplot at 0x10fe7dc10>"
      ]
     },
     "execution_count": 11,
     "metadata": {},
     "output_type": "execute_result"
    },
    {
     "data": {
      "image/png": "[encoded data removed]",
      "text/plain": [
       "<matplotlib.figure.Figure at 0x10f481dd0>"
      ]
     },
     "metadata": {},
     "output_type": "display_data"
    }
   ],
   "source": [
    "sns.heatmap(df.T.corr(), annot=True)"
   ]
  },
  {
   "cell_type": "code",
   "execution_count": 16,
   "metadata": {
    "collapsed": false
   },
   "outputs": [
    {
     "data": {
      "text/plain": [
       "array([[[ 0.90053403]],\n",
       "\n",
       "       [[ 0.00679061]]])"
      ]
     },
     "execution_count": 16,
     "metadata": {},
     "output_type": "execute_result"
    }
   ],
   "source": [
    "lat['mw'][1]['A']"
   ]
  },
  {
   "cell_type": "code",
   "execution_count": null,
   "metadata": {
    "collapsed": true
   },
   "outputs": [],
   "source": []
  },
  {
   "cell_type": "markdown",
   "metadata": {},
   "source": []
  },
  {
   "cell_type": "code",
   "execution_count": null,
   "metadata": {
    "collapsed": true
   },
   "outputs": [],
   "source": []
  }
 ],
 "metadata": {
  "kernelspec": {
   "display_name": "Python 2",
   "language": "python",
   "name": "python2"
  },
  "language_info": {
   "codemirror_mode": {
    "name": "ipython",
    "version": 2
   },
   "file_extension": ".py",
   "mimetype": "text/x-python",
   "name": "python",
   "nbconvert_exporter": "python",
   "pygments_lexer": "ipython2",
   "version": "2.7.13"
  }
 },
 "nbformat": 4,
 "nbformat_minor": 1
}
