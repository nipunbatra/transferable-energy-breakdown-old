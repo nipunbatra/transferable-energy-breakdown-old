{
 "cells": [
  {
   "cell_type": "code",
   "execution_count": 1,
   "metadata": {
    "collapsed": true
   },
   "outputs": [],
   "source": [
    "import matplotlib.pyplot as plt\n",
    "%matplotlib inline\n",
    "from plot_functions import *\n",
    "from sklearn.model_selection import KFold"
   ]
  },
  {
   "cell_type": "code",
   "execution_count": 2,
   "metadata": {
    "collapsed": true
   },
   "outputs": [],
   "source": [
    "from create_matrix import *\n",
    "\n",
    "from tensor_custom_core import *\n",
    "from create_matrix import *\n",
    "from tensor_custom_core import *\n",
    "from degree_days import dds\n",
    "appliance_index = {appliance: APPLIANCES_ORDER.index(appliance) for appliance in APPLIANCES_ORDER}\n",
    "\n",
    "APPLIANCES = ['fridge', 'hvac', 'wm', 'mw', 'oven', 'dw']\n",
    "region = \"SanDiego\"\n",
    "year = 2014\n",
    "\n",
    "import os\n",
    "\n",
    "\n",
    "def un_normalize(x, maximum, minimum):\n",
    "    return (maximum - minimum) * x + minimum"
   ]
  },
  {
   "cell_type": "code",
   "execution_count": 3,
   "metadata": {
    "collapsed": true
   },
   "outputs": [],
   "source": [
    "n_splits = 10\n",
    "import sys\n",
    "case=2\n",
    "a=2\n",
    "cost='abs'"
   ]
  },
  {
   "cell_type": "code",
   "execution_count": 4,
   "metadata": {
    "collapsed": true
   },
   "outputs": [],
   "source": [
    "def get_tensor_appliance(df, dfc, appliance):\n",
    "    start, stop = 1, 13\n",
    "    energy_cols = np.array(\n",
    "        [['%s_%d' % (appliance, month) for month in range(start, stop)] ]).flatten()\n",
    "    static_cols = ['area', 'total_occupants', 'num_rooms']\n",
    "    static_df = df[static_cols]\n",
    "    static_df = static_df.div(static_df.max())\n",
    "    weather_values = np.array(dds[2014][region][start - 1:stop - 1]).reshape(-1, 1)\n",
    "\n",
    "    dfc = df.copy()\n",
    "\n",
    "    df = dfc[energy_cols]\n",
    "    col_max = df.max().max()\n",
    "    col_min = df.min().min()\n",
    "    # df = (1.0 * (df - col_min)) / (col_max - col_min)\n",
    "    tensor = df.values.reshape((len(df), 1, stop - start))\n",
    "    M, N, O = tensor.shape\n",
    "    return tensor"
   ]
  },
  {
   "cell_type": "code",
   "execution_count": 331,
   "metadata": {
    "collapsed": true
   },
   "outputs": [],
   "source": [
    "def get_tensor(df):\n",
    "    start, stop = 1, 13\n",
    "    energy_cols = np.array(\n",
    "        [['%s_%d' % (appliance, month) for month in range(start, stop)] for appliance in APPLIANCES_ORDER]).flatten()\n",
    "    static_cols = ['area', 'total_occupants', 'num_rooms']\n",
    "    static_df = df[static_cols]\n",
    "    static_df = static_df.div(static_df.max())\n",
    "    weather_values = np.array(dds[2014][region][start - 1:stop - 1]).reshape(-1, 1)\n",
    "\n",
    "    #dfc = df.copy()\n",
    "\n",
    "    df = dfc[energy_cols]\n",
    "    col_max = df.max().max()\n",
    "    col_min = df.min().min()\n",
    "    # df = (1.0 * (df - col_min)) / (col_max - col_min)\n",
    "    tensor = df.values.reshape((len(df), 7, stop - start))\n",
    "    M, N, O = tensor.shape\n",
    "    return tensor"
   ]
  },
  {
   "cell_type": "code",
   "execution_count": 149,
   "metadata": {
    "collapsed": true
   },
   "outputs": [],
   "source": [
    "sd_df, sd_dfc = create_matrix_single_region(\"SanDiego\", year)\n",
    "sd_tensor = get_tensor(sd_df, sd_dfc)\n",
    "au_df, au_dfc = create_matrix_single_region(\"Austin\", year)\n",
    "au_tensor = get_tensor(au_df, au_dfc)\n",
    "from sklearn.model_selection import train_test_split, KFold"
   ]
  },
  {
   "cell_type": "code",
   "execution_count": 368,
   "metadata": {
    "collapsed": true
   },
   "outputs": [],
   "source": [
    "import autograd.numpy as np\n",
    "def learning_pca(case, tensor, num_home_f, num_season_f, num_iter=2000, lr=0.1, dis=False, cost_function='abs', random_seed=0, eps=1e-8, lam=0.0):\n",
    "\n",
    "    def find_season_basis(tensor, n_components=2):\n",
    "        data = tensor.reshape(tensor.shape[0]*7, 12)\n",
    "        weights = np.ones_like(data)\n",
    "        weights[np.isnan(data)] = 0\n",
    "        pca = WPCA(n_components=n_components).fit(data, weights=weights)\n",
    "        return pca\n",
    "\n",
    "    def find_home_basis(tensor, n_components=2):\n",
    "        data = np.sum(tensor, axis=2)\n",
    "\n",
    "        weights = np.ones_like(data)\n",
    "        weights[np.isnan(data)] = 0\n",
    "        pca = WPCA(n_components=n_components).fit(data, weights=weights)\n",
    "        return pca\n",
    "\n",
    "\n",
    "    def cost_abs(H, A, T, eta, tensor, case, lam):\n",
    "        HAT = multiply_case(H, A, T, case)\n",
    "        mask = ~np.isnan(tensor)\n",
    "        error = (HAT - tensor)[mask].flatten()\n",
    "        error_2 = np.sum(eta-np.sum(A, axis=2))\n",
    "        \n",
    "        return np.sqrt((error ** 2).mean()) +lam*error_2\n",
    "    \n",
    "   \n",
    "    \n",
    "    T = find_season_basis(tensor, num_season_f).components_.T\n",
    "    eta = find_home_basis(tensor, num_home_f).components_.T\n",
    "    \n",
    "\n",
    "    cost = cost_abs\n",
    "    mg = multigrad(cost, argnums=[0, 1])\n",
    "\n",
    "    params = {}\n",
    "    params['M'], params['N'], params['O'] = tensor.shape\n",
    "    params['a'] = num_home_f\n",
    "    params['b'] = num_season_f\n",
    "    H_dim_chars = list(cases[case]['HA'].split(\",\")[0].strip())\n",
    "    H_dim = tuple(params[x] for x in H_dim_chars)\n",
    "    A_dim_chars = list(cases[case]['HA'].split(\",\")[1].split(\"-\")[0].strip())\n",
    "    A_dim = tuple(params[x] for x in A_dim_chars)\n",
    "    T_dim_chars = list(cases[case]['HAT'].split(\",\")[1].split(\"-\")[0].strip())\n",
    "    T_dim = tuple(params[x] for x in T_dim_chars)\n",
    "    print (H_dim, A_dim, T_dim)\n",
    "    H = np.random.rand(*H_dim)\n",
    "\n",
    "    A = np.random.rand(*A_dim)\n",
    "    #return T, eta, H, A\n",
    "\n",
    "    sum_square_gradients_H = np.zeros_like(H)\n",
    "    sum_square_gradients_A = np.zeros_like(A)\n",
    "\n",
    "    Hs = [H.copy()]\n",
    "    As = [A.copy()]\n",
    "    costs = [cost(H, A, T, eta, tensor, case, lam)]\n",
    "    HATs = [multiply_case(H, A, T, 2)]\n",
    "\n",
    "    # GD procedure\n",
    "    for i in range(num_iter):\n",
    "        del_h, del_a = mg(H, A, T, eta, tensor, case, lam)\n",
    "        sum_square_gradients_H += eps + np.square(del_h)\n",
    "        sum_square_gradients_A += eps + np.square(del_a)\n",
    "\n",
    "        lr_h = np.divide(lr, np.sqrt(sum_square_gradients_H))\n",
    "        lr_a = np.divide(lr, np.sqrt(sum_square_gradients_A))\n",
    "\n",
    "        H -= lr_h * del_h\n",
    "        A -= lr_a * del_a\n",
    "       \n",
    "        \"\"\"\n",
    "        # Projection to non-negative space\n",
    "        H[H < 0] = 1e-8\n",
    "        A[A < 0] = 1e-8\n",
    "        T[T < 0] = 1e-8\n",
    "        \"\"\"\n",
    "     \n",
    "      \n",
    "        As.append(A.copy())\n",
    "        Hs.append(H.copy())\n",
    "        costs.append(cost(H, A, T, eta, tensor, case, lam))\n",
    "        HATs.append(multiply_case(H, A, T, 2))\n",
    "        if i % 100 == 0:\n",
    "            if dis:\n",
    "                print(cost(H, A, T, eta, tensor, case, lam))\n",
    "    return H, A, T, Hs, As, HATs, costs, eta\n"
   ]
  },
  {
   "cell_type": "code",
   "execution_count": 374,
   "metadata": {},
   "outputs": [
    {
     "name": "stdout",
     "output_type": "stream",
     "text": [
      "((39, 2), (7, 2, 2), (12, 2))\n",
      "216.575133444\n",
      "85.6431682392\n",
      "39.437160093\n",
      "35.1630692716\n",
      "34.5239571477\n",
      "34.3064089859\n",
      "34.2005256793\n",
      "34.1423346535\n",
      "34.1095868943\n",
      "34.0911492948\n"
     ]
    }
   ],
   "source": [
    "case = 2\n",
    "tensor = sd_tensor\n",
    "num_home_f = 2\n",
    "num_season_f = 2\n",
    "lam = 1e-8\n",
    "#T, eta, H, A = learning_pca(case, tensor, num_home_f, num_season_f, num_iter=1000, lr=1, dis=True, cost_function='abs', random_seed=0, eps=1e-8, lam=lam)\n",
    "H, A, T, Hs, As, HATs, costs, eta = learning_pca(case, tensor, num_home_f, num_season_f, num_iter=1000, lr=1, dis=True, cost_function='abs', random_seed=0, eps=1e-8, lam=lam)\n"
   ]
  },
  {
   "cell_type": "code",
   "execution_count": 375,
   "metadata": {},
   "outputs": [
    {
     "data": {
      "text/plain": [
       "array([[[-34.73356239,  25.97556227],\n",
       "        [ 34.75820351,  26.98820865]],\n",
       "\n",
       "       [[-34.26727835,  12.81197431],\n",
       "        [-14.70722016,   4.7692746 ]],\n",
       "\n",
       "       [[  0.10429985,  -0.1294473 ],\n",
       "        [  6.38790892,   1.46162657]],\n",
       "\n",
       "       [[ -0.25359318,   0.24527912],\n",
       "        [  0.82267469,   0.61778615]],\n",
       "\n",
       "       [[ -0.62480317,   0.03677755],\n",
       "        [  0.38634624,   0.24731164]],\n",
       "\n",
       "       [[ -0.57841636,  -0.04335712],\n",
       "        [  0.04962024,   0.11340951]],\n",
       "\n",
       "       [[ -0.98172353,  -0.33084348],\n",
       "        [  0.43275064,   0.11478273]]])"
      ]
     },
     "execution_count": 375,
     "metadata": {},
     "output_type": "execute_result"
    }
   ],
   "source": [
    "A"
   ]
  },
  {
   "cell_type": "code",
   "execution_count": 345,
   "metadata": {
    "collapsed": true
   },
   "outputs": [],
   "source": [
    "eta = find_home_basis(tensor, 3).components_.T"
   ]
  },
  {
   "cell_type": "code",
   "execution_count": 365,
   "metadata": {},
   "outputs": [
    {
     "data": {
      "text/plain": [
       "array([[  9.99386756e-01],\n",
       "       [  2.86014660e-02],\n",
       "       [  8.77938471e-03],\n",
       "       [ -5.16523924e-04],\n",
       "       [ -4.33977142e-04],\n",
       "       [  9.88419540e-04],\n",
       "       [  1.81537512e-02]])"
      ]
     },
     "execution_count": 365,
     "metadata": {},
     "output_type": "execute_result"
    }
   ],
   "source": [
    "eta"
   ]
  },
  {
   "cell_type": "code",
   "execution_count": 366,
   "metadata": {},
   "outputs": [
    {
     "data": {
      "text/plain": [
       "array([[[ 20.70020897]],\n",
       "\n",
       "       [[  5.92710848]],\n",
       "\n",
       "       [[  1.87667604]],\n",
       "\n",
       "       [[  0.33134004]],\n",
       "\n",
       "       [[  0.29765626]],\n",
       "\n",
       "       [[  0.17028657]],\n",
       "\n",
       "       [[  0.41104989]]])"
      ]
     },
     "execution_count": 366,
     "metadata": {},
     "output_type": "execute_result"
    }
   ],
   "source": [
    "A"
   ]
  },
  {
   "cell_type": "code",
   "execution_count": 333,
   "metadata": {
    "collapsed": true
   },
   "outputs": [],
   "source": [
    "n_splits = 10\n",
    "source_df = sd_df\n",
    "source_dfc = sd_dfc\n",
    "train_percentage = 10\n",
    "region=\"SanDiego\"\n",
    "source = region\n",
    "num_home_f = 1\n",
    "num_season_f = 1\n",
    "random_seed = 0\n",
    "import datetime"
   ]
  },
  {
   "cell_type": "code",
   "execution_count": 334,
   "metadata": {},
   "outputs": [
    {
     "name": "stdout",
     "output_type": "stream",
     "text": [
      "--------------------------------------------------------------------------------\n",
      "2017-08-26 13:06:56.616831\n",
      "Progress: 0.0\n",
      "--------------------------------------------------------------------------------\n",
      "Test set [  54  203  527 1450]\n",
      "--------------------------------------------------------------------------------\n",
      "Current Error, Least Error, #Iterations\n",
      "((39, 3), (7, 3, 2), (12, 2))\n",
      "((39, 3), (7, 3, 2), (12, 2))\n",
      "Error weighted on: ['hvac', 'fridge', 'mw', 'dw', 'wm', 'oven']\n",
      "None\n",
      "(15.400931907141711, 15.400931907141711, 100, 3, 2)\n",
      "((39, 5), (7, 5, 2), (12, 2))\n",
      "((39, 5), (7, 5, 2), (12, 2))\n",
      "Error weighted on: ['hvac', 'fridge', 'mw', 'dw', 'wm', 'oven']\n",
      "None\n",
      "(15.870718640475655, 15.400931907141711, 100, 5, 2)\n",
      "((39, 3), (7, 3, 4), (12, 4))\n",
      "((39, 3), (7, 3, 4), (12, 4))\n",
      "Error weighted on: ['hvac', 'fridge', 'mw', 'dw', 'wm', 'oven']\n",
      "None\n",
      "(14.950673506329366, 14.950673506329366, 100, 3, 4)\n",
      "((39, 5), (7, 5, 4), (12, 4))\n",
      "((39, 5), (7, 5, 4), (12, 4))\n",
      "Error weighted on: ['hvac', 'fridge', 'mw', 'dw', 'wm', 'oven']\n",
      "None\n",
      "(13.86271248634264, 13.86271248634264, 100, 5, 4)\n",
      "((39, 3), (7, 3, 2), (12, 2))\n",
      "((39, 3), (7, 3, 2), (12, 2))\n",
      "Error weighted on: ['hvac', 'fridge', 'mw', 'dw', 'wm', 'oven']\n",
      "None\n",
      "(14.847322821098837, 13.86271248634264, 700, 3, 2)\n",
      "((39, 5), (7, 5, 2), (12, 2))\n",
      "((39, 5), (7, 5, 2), (12, 2))\n",
      "Error weighted on: ['hvac', 'fridge', 'mw', 'dw', 'wm', 'oven']\n",
      "None\n",
      "(17.647174589083274, 13.86271248634264, 700, 5, 2)\n",
      "((39, 3), (7, 3, 4), (12, 4))\n",
      "((39, 3), (7, 3, 4), (12, 4))\n",
      "Error weighted on: ['hvac', 'fridge', 'mw', 'dw', 'wm', 'oven']\n",
      "None\n",
      "(18.14650008708388, 13.86271248634264, 700, 3, 4)\n",
      "((39, 5), (7, 5, 4), (12, 4))\n",
      "((39, 5), (7, 5, 4), (12, 4))\n",
      "Error weighted on: ['hvac', 'fridge', 'mw', 'dw', 'wm', 'oven']\n",
      "None\n",
      "(16.5588756551027, 13.86271248634264, 700, 5, 4)\n",
      "((39, 3), (7, 3, 2), (12, 2))\n",
      "((39, 3), (7, 3, 2), (12, 2))\n",
      "Error weighted on: ['hvac', 'fridge', 'mw', 'dw', 'wm', 'oven']\n",
      "None\n",
      "(16.478168895716742, 13.86271248634264, 1300, 3, 2)\n",
      "((39, 5), (7, 5, 2), (12, 2))\n",
      "((39, 5), (7, 5, 2), (12, 2))\n",
      "Error weighted on: ['hvac', 'fridge', 'mw', 'dw', 'wm', 'oven']\n",
      "None\n",
      "(21.678283673092427, 13.86271248634264, 1300, 5, 2)\n",
      "((39, 3), (7, 3, 4), (12, 4))\n",
      "((39, 3), (7, 3, 4), (12, 4))\n",
      "Error weighted on: ['hvac', 'fridge', 'mw', 'dw', 'wm', 'oven']\n",
      "None\n",
      "(20.728573223687427, 13.86271248634264, 1300, 3, 4)\n",
      "((39, 5), (7, 5, 4), (12, 4))\n",
      "((39, 5), (7, 5, 4), (12, 4))\n",
      "Error weighted on: ['hvac', 'fridge', 'mw', 'dw', 'wm', 'oven']\n",
      "None\n",
      "(18.407721336248482, 13.86271248634264, 1300, 5, 4)\n",
      "******* BEST PARAMS *******\n",
      "{'Num season factors': 4, 'Least Train Error': 13.86271248634264, 'Appliance Train Error': {'hvac': 21.65229500134393, 'wm': 9.8332206591903049, 'fridge': 4.0678977132903738, 'mw': 2.8963186987009775, 'oven': 2.6787983243241413, 'dw': 4.6723956767177537}, 'Num home factors': 5, 'Iterations': 100}\n",
      "******* BEST PARAMS *******\n",
      "((39, 5), (7, 5, 4), (12, 4))\n",
      "--------------------------------------------------------------------------------\n",
      "2017-08-26 13:07:35.083259\n",
      "Progress: 10.0\n",
      "--------------------------------------------------------------------------------\n",
      "Test set [1524 1731 2031 2354]\n",
      "--------------------------------------------------------------------------------\n",
      "Current Error, Least Error, #Iterations\n",
      "((39, 3), (7, 3, 2), (12, 2))\n",
      "((39, 3), (7, 3, 2), (12, 2))\n",
      "Error weighted on: ['hvac', 'fridge', 'mw', 'dw', 'wm', 'oven']\n",
      "None\n",
      "(12.012095675755525, 12.012095675755525, 100, 3, 2)\n",
      "((39, 5), (7, 5, 2), (12, 2))\n",
      "((39, 5), (7, 5, 2), (12, 2))\n",
      "Error weighted on: ['hvac', 'fridge', 'mw', 'dw', 'wm', 'oven']\n",
      "None\n",
      "(13.848811314395958, 12.012095675755525, 100, 5, 2)\n",
      "((39, 3), (7, 3, 4), (12, 4))\n",
      "((39, 3), (7, 3, 4), (12, 4))\n",
      "Error weighted on: ['hvac', 'fridge', 'mw', 'dw', 'wm', 'oven']\n",
      "None\n",
      "(13.755971512204152, 12.012095675755525, 100, 3, 4)\n",
      "((39, 5), (7, 5, 4), (12, 4))\n",
      "((39, 5), (7, 5, 4), (12, 4))\n",
      "Error weighted on: ['hvac', 'fridge', 'mw', 'dw', 'wm', 'oven']\n",
      "None\n",
      "(18.31291714851985, 12.012095675755525, 100, 5, 4)\n",
      "((39, 3), (7, 3, 2), (12, 2))\n",
      "((39, 3), (7, 3, 2), (12, 2))\n",
      "Error weighted on: ['hvac', 'fridge', 'mw', 'dw', 'wm', 'oven']\n",
      "None\n",
      "(12.43785824136228, 12.012095675755525, 700, 3, 2)\n",
      "((39, 5), (7, 5, 2), (12, 2))\n",
      "((39, 5), (7, 5, 2), (12, 2))\n",
      "Error weighted on: ['hvac', 'fridge', 'mw', 'dw', 'wm', 'oven']\n",
      "None\n",
      "(13.0667495408087, 12.012095675755525, 700, 5, 2)\n",
      "((39, 3), (7, 3, 4), (12, 4))\n",
      "((39, 3), (7, 3, 4), (12, 4))\n",
      "Error weighted on: ['hvac', 'fridge', 'mw', 'dw', 'wm', 'oven']\n",
      "None\n",
      "(31.942703947974238, 12.012095675755525, 700, 3, 4)\n",
      "((39, 5), (7, 5, 4), (12, 4))\n",
      "((39, 5), (7, 5, 4), (12, 4))\n",
      "Error weighted on: ['hvac', 'fridge', 'mw', 'dw', 'wm', 'oven']\n",
      "None\n",
      "(21.029137254253744, 12.012095675755525, 700, 5, 4)\n",
      "((39, 3), (7, 3, 2), (12, 2))\n",
      "((39, 3), (7, 3, 2), (12, 2))\n",
      "Error weighted on: ['hvac', 'fridge', 'mw', 'dw', 'wm', 'oven']\n",
      "None\n",
      "(12.723725141775258, 12.012095675755525, 1300, 3, 2)\n",
      "((39, 5), (7, 5, 2), (12, 2))\n",
      "((39, 5), (7, 5, 2), (12, 2))\n",
      "Error weighted on: ['hvac', 'fridge', 'mw', 'dw', 'wm', 'oven']\n",
      "None\n",
      "(20.521025593437805, 12.012095675755525, 1300, 5, 2)\n",
      "((39, 3), (7, 3, 4), (12, 4))\n",
      "((39, 3), (7, 3, 4), (12, 4))\n",
      "Error weighted on: ['hvac', 'fridge', 'mw', 'dw', 'wm', 'oven']\n",
      "None\n",
      "(34.641048236793, 12.012095675755525, 1300, 3, 4)\n",
      "((39, 5), (7, 5, 4), (12, 4))\n",
      "((39, 5), (7, 5, 4), (12, 4))\n",
      "Error weighted on: ['hvac', 'fridge', 'mw', 'dw', 'wm', 'oven']\n",
      "None\n",
      "(27.145665944964062, 12.012095675755525, 1300, 5, 4)\n",
      "******* BEST PARAMS *******\n",
      "{'Num season factors': 2, 'Least Train Error': 12.012095675755525, 'Appliance Train Error': {'hvac': 18.950573260928337, 'wm': 2.2678135574838461, 'fridge': 3.4138422997287856, 'mw': 3.3610535461090305, 'oven': 3.7424619383061137, 'dw': 3.126662254846357}, 'Num home factors': 3, 'Iterations': 100}\n",
      "******* BEST PARAMS *******\n",
      "((39, 3), (7, 3, 2), (12, 2))\n",
      "--------------------------------------------------------------------------------\n",
      "2017-08-26 13:08:14.501399\n",
      "Progress: 20.0\n",
      "--------------------------------------------------------------------------------\n",
      "Test set [2606 3687 3864 3938]\n",
      "--------------------------------------------------------------------------------\n",
      "Current Error, Least Error, #Iterations\n",
      "((39, 3), (7, 3, 2), (12, 2))\n",
      "((39, 3), (7, 3, 2), (12, 2))\n",
      "Error weighted on: ['hvac', 'fridge', 'mw', 'dw', 'wm', 'oven']\n",
      "None\n",
      "(10.460871784199114, 10.460871784199114, 100, 3, 2)\n",
      "((39, 5), (7, 5, 2), (12, 2))\n",
      "((39, 5), (7, 5, 2), (12, 2))\n",
      "Error weighted on: ['hvac', 'fridge', 'mw', 'dw', 'wm', 'oven']\n",
      "None\n",
      "(10.315607742224794, 10.315607742224794, 100, 5, 2)\n",
      "((39, 3), (7, 3, 4), (12, 4))\n",
      "((39, 3), (7, 3, 4), (12, 4))\n",
      "Error weighted on: ['hvac', 'fridge', 'mw', 'dw', 'wm', 'oven']\n",
      "None\n",
      "(10.977591809884249, 10.315607742224794, 100, 3, 4)\n",
      "((39, 5), (7, 5, 4), (12, 4))\n",
      "((39, 5), (7, 5, 4), (12, 4))\n",
      "Error weighted on: ['hvac', 'fridge', 'mw', 'dw', 'wm', 'oven']\n",
      "None\n",
      "(11.580184774190727, 10.315607742224794, 100, 5, 4)\n",
      "((39, 3), (7, 3, 2), (12, 2))\n",
      "((39, 3), (7, 3, 2), (12, 2))\n",
      "Error weighted on: ['hvac', 'fridge', 'mw', 'dw', 'wm', 'oven']\n",
      "None\n",
      "(10.167217569095552, 10.167217569095552, 700, 3, 2)\n",
      "((39, 5), (7, 5, 2), (12, 2))\n",
      "((39, 5), (7, 5, 2), (12, 2))\n",
      "Error weighted on: ['hvac', 'fridge', 'mw', 'dw', 'wm', 'oven']\n",
      "None\n",
      "(12.509178264905307, 10.167217569095552, 700, 5, 2)\n",
      "((39, 3), (7, 3, 4), (12, 4))\n",
      "((39, 3), (7, 3, 4), (12, 4))\n",
      "Error weighted on: ['hvac', 'fridge', 'mw', 'dw', 'wm', 'oven']\n",
      "None\n",
      "(10.793111632128493, 10.167217569095552, 700, 3, 4)\n",
      "((39, 5), (7, 5, 4), (12, 4))\n",
      "((39, 5), (7, 5, 4), (12, 4))\n",
      "Error weighted on: ['hvac', 'fridge', 'mw', 'dw', 'wm', 'oven']\n",
      "None\n",
      "(12.21289834479069, 10.167217569095552, 700, 5, 4)\n",
      "((39, 3), (7, 3, 2), (12, 2))\n",
      "((39, 3), (7, 3, 2), (12, 2))\n",
      "Error weighted on: ['hvac', 'fridge', 'mw', 'dw', 'wm', 'oven']\n",
      "None\n",
      "(10.71513633724721, 10.167217569095552, 1300, 3, 2)\n",
      "((39, 5), (7, 5, 2), (12, 2))\n",
      "((39, 5), (7, 5, 2), (12, 2))\n",
      "Error weighted on: ['hvac', 'fridge', 'mw', 'dw', 'wm', 'oven']\n",
      "None\n",
      "(11.021907150212988, 10.167217569095552, 1300, 5, 2)\n",
      "((39, 3), (7, 3, 4), (12, 4))\n",
      "((39, 3), (7, 3, 4), (12, 4))\n",
      "Error weighted on: ['hvac', 'fridge', 'mw', 'dw', 'wm', 'oven']\n",
      "None\n",
      "(20.536696043060342, 10.167217569095552, 1300, 3, 4)\n",
      "((39, 5), (7, 5, 4), (12, 4))\n",
      "((39, 5), (7, 5, 4), (12, 4))\n"
     ]
    },
    {
     "name": "stdout",
     "output_type": "stream",
     "text": [
      "Error weighted on: ['hvac', 'fridge', 'mw', 'dw', 'wm', 'oven']\n",
      "None\n",
      "(12.239906058164397, 10.167217569095552, 1300, 5, 4)\n",
      "******* BEST PARAMS *******\n",
      "{'Num season factors': 2, 'Least Train Error': 10.167217569095552, 'Appliance Train Error': {'hvac': 16.380595388511427, 'wm': 0.24451799948743283, 'fridge': 2.5642172996524568, 'mw': 1.8172846942531296, 'oven': 4.1704941063748135, 'dw': 1.0951560981494586}, 'Num home factors': 3, 'Iterations': 700}\n",
      "******* BEST PARAMS *******\n",
      "((39, 3), (7, 3, 2), (12, 2))\n",
      "--------------------------------------------------------------------------------\n",
      "2017-08-26 13:08:52.075373\n",
      "Progress: 30.0\n",
      "--------------------------------------------------------------------------------\n",
      "Test set [4083 4095 4329 4495]\n",
      "--------------------------------------------------------------------------------\n",
      "Current Error, Least Error, #Iterations\n",
      "((39, 3), (7, 3, 2), (12, 2))\n",
      "((39, 3), (7, 3, 2), (12, 2))\n",
      "Found array with 0 sample(s) (shape=(0,)) while a minimum of 1 is required.\n",
      "wm\n",
      "Error weighted on: ['hvac', 'fridge', 'mw', 'dw', 'oven']\n",
      "None\n",
      "(38.28426254336647, 38.28426254336647, 100, 3, 2)\n",
      "((39, 5), (7, 5, 2), (12, 2))\n",
      "((39, 5), (7, 5, 2), (12, 2))\n",
      "Found array with 0 sample(s) (shape=(0,)) while a minimum of 1 is required.\n",
      "wm\n",
      "Error weighted on: ['hvac', 'fridge', 'mw', 'dw', 'oven']\n",
      "None\n",
      "(39.3451870549839, 38.28426254336647, 100, 5, 2)\n",
      "((39, 3), (7, 3, 4), (12, 4))\n",
      "((39, 3), (7, 3, 4), (12, 4))\n",
      "Found array with 0 sample(s) (shape=(0,)) while a minimum of 1 is required.\n",
      "wm\n",
      "Error weighted on: ['hvac', 'fridge', 'mw', 'dw', 'oven']\n",
      "None\n",
      "(44.56120419604102, 38.28426254336647, 100, 3, 4)\n",
      "((39, 5), (7, 5, 4), (12, 4))\n",
      "((39, 5), (7, 5, 4), (12, 4))\n",
      "Found array with 0 sample(s) (shape=(0,)) while a minimum of 1 is required.\n",
      "wm\n",
      "Error weighted on: ['hvac', 'fridge', 'mw', 'dw', 'oven']\n",
      "None\n",
      "(50.96144499244203, 38.28426254336647, 100, 5, 4)\n",
      "((39, 3), (7, 3, 2), (12, 2))\n",
      "((39, 3), (7, 3, 2), (12, 2))\n",
      "Found array with 0 sample(s) (shape=(0,)) while a minimum of 1 is required.\n",
      "wm\n",
      "Error weighted on: ['hvac', 'fridge', 'mw', 'dw', 'oven']\n",
      "None\n",
      "(42.06930812084685, 38.28426254336647, 700, 3, 2)\n",
      "((39, 5), (7, 5, 2), (12, 2))\n",
      "((39, 5), (7, 5, 2), (12, 2))\n",
      "Found array with 0 sample(s) (shape=(0,)) while a minimum of 1 is required.\n",
      "wm\n",
      "Error weighted on: ['hvac', 'fridge', 'mw', 'dw', 'oven']\n",
      "None\n",
      "(39.473001712228374, 38.28426254336647, 700, 5, 2)\n",
      "((39, 3), (7, 3, 4), (12, 4))\n",
      "((39, 3), (7, 3, 4), (12, 4))\n",
      "Found array with 0 sample(s) (shape=(0,)) while a minimum of 1 is required.\n",
      "wm\n",
      "Error weighted on: ['hvac', 'fridge', 'mw', 'dw', 'oven']\n",
      "None\n",
      "(68.9508088904364, 38.28426254336647, 700, 3, 4)\n",
      "((39, 5), (7, 5, 4), (12, 4))\n",
      "((39, 5), (7, 5, 4), (12, 4))\n",
      "Found array with 0 sample(s) (shape=(0,)) while a minimum of 1 is required.\n",
      "wm\n",
      "Error weighted on: ['hvac', 'fridge', 'mw', 'dw', 'oven']\n",
      "None\n",
      "(57.07755870199584, 38.28426254336647, 700, 5, 4)\n",
      "((39, 3), (7, 3, 2), (12, 2))\n",
      "((39, 3), (7, 3, 2), (12, 2))\n",
      "Found array with 0 sample(s) (shape=(0,)) while a minimum of 1 is required.\n",
      "wm\n",
      "Error weighted on: ['hvac', 'fridge', 'mw', 'dw', 'oven']\n",
      "None\n",
      "(39.16303701175168, 38.28426254336647, 1300, 3, 2)\n",
      "((39, 5), (7, 5, 2), (12, 2))\n",
      "((39, 5), (7, 5, 2), (12, 2))\n",
      "Found array with 0 sample(s) (shape=(0,)) while a minimum of 1 is required.\n",
      "wm\n",
      "Error weighted on: ['hvac', 'fridge', 'mw', 'dw', 'oven']\n",
      "None\n",
      "(45.868232497561344, 38.28426254336647, 1300, 5, 2)\n",
      "((39, 3), (7, 3, 4), (12, 4))\n",
      "((39, 3), (7, 3, 4), (12, 4))\n",
      "Found array with 0 sample(s) (shape=(0,)) while a minimum of 1 is required.\n",
      "wm\n",
      "Error weighted on: ['hvac', 'fridge', 'mw', 'dw', 'oven']\n",
      "None\n",
      "(75.72936807123686, 38.28426254336647, 1300, 3, 4)\n",
      "((39, 5), (7, 5, 4), (12, 4))\n",
      "((39, 5), (7, 5, 4), (12, 4))\n",
      "Found array with 0 sample(s) (shape=(0,)) while a minimum of 1 is required.\n",
      "wm\n",
      "Error weighted on: ['hvac', 'fridge', 'mw', 'dw', 'oven']\n",
      "None\n",
      "(49.05638662241764, 38.28426254336647, 1300, 5, 4)\n",
      "******* BEST PARAMS *******\n",
      "{'Num season factors': 2, 'Least Train Error': 38.28426254336647, 'Appliance Train Error': {'dw': 3.6997147726892794, 'mw': 1.3898787254002425, 'oven': 7.8597102608749054, 'fridge': 7.4242854058115064, 'hvac': 63.95376415875824}, 'Num home factors': 3, 'Iterations': 100}\n",
      "******* BEST PARAMS *******\n",
      "((39, 3), (7, 3, 2), (12, 2))\n",
      "--------------------------------------------------------------------------------\n",
      "2017-08-26 13:09:27.236384\n",
      "Progress: 40.0\n",
      "--------------------------------------------------------------------------------\n",
      "Test set [4761 4934 5909 5938]\n",
      "--------------------------------------------------------------------------------\n",
      "Current Error, Least Error, #Iterations\n",
      "((39, 3), (7, 3, 2), (12, 2))\n",
      "((39, 3), (7, 3, 2), (12, 2))\n",
      "Error weighted on: ['hvac', 'fridge', 'mw', 'dw', 'wm', 'oven']\n",
      "None\n",
      "(12.909338655456684, 12.909338655456684, 100, 3, 2)\n",
      "((39, 5), (7, 5, 2), (12, 2))\n",
      "((39, 5), (7, 5, 2), (12, 2))\n",
      "Error weighted on: ['hvac', 'fridge', 'mw', 'dw', 'wm', 'oven']\n",
      "None\n",
      "(13.217737044179714, 12.909338655456684, 100, 5, 2)\n",
      "((39, 3), (7, 3, 4), (12, 4))\n",
      "((39, 3), (7, 3, 4), (12, 4))\n",
      "Error weighted on: ['hvac', 'fridge', 'mw', 'dw', 'wm', 'oven']\n",
      "None\n",
      "(16.890784020710242, 12.909338655456684, 100, 3, 4)\n",
      "((39, 5), (7, 5, 4), (12, 4))\n",
      "((39, 5), (7, 5, 4), (12, 4))\n",
      "Error weighted on: ['hvac', 'fridge', 'mw', 'dw', 'wm', 'oven']\n",
      "None\n",
      "(13.51744506257788, 12.909338655456684, 100, 5, 4)\n",
      "((39, 3), (7, 3, 2), (12, 2))\n",
      "((39, 3), (7, 3, 2), (12, 2))\n",
      "Error weighted on: ['hvac', 'fridge', 'mw', 'dw', 'wm', 'oven']\n",
      "None\n",
      "(13.15563769160893, 12.909338655456684, 700, 3, 2)\n",
      "((39, 5), (7, 5, 2), (12, 2))\n",
      "((39, 5), (7, 5, 2), (12, 2))\n",
      "Error weighted on: ['hvac', 'fridge', 'mw', 'dw', 'wm', 'oven']\n",
      "None\n",
      "(13.436575709717246, 12.909338655456684, 700, 5, 2)\n",
      "((39, 3), (7, 3, 4), (12, 4))\n",
      "((39, 3), (7, 3, 4), (12, 4))\n",
      "Error weighted on: ['hvac', 'fridge', 'mw', 'dw', 'wm', 'oven']\n",
      "None\n",
      "(13.843414738191171, 12.909338655456684, 700, 3, 4)\n",
      "((39, 5), (7, 5, 4), (12, 4))\n",
      "((39, 5), (7, 5, 4), (12, 4))\n",
      "Error weighted on: ['hvac', 'fridge', 'mw', 'dw', 'wm', 'oven']\n",
      "None\n",
      "(23.370946632853574, 12.909338655456684, 700, 5, 4)\n",
      "((39, 3), (7, 3, 2), (12, 2))\n",
      "((39, 3), (7, 3, 2), (12, 2))\n",
      "Error weighted on: ['hvac', 'fridge', 'mw', 'dw', 'wm', 'oven']\n",
      "None\n",
      "(13.951946341055134, 12.909338655456684, 1300, 3, 2)\n",
      "((39, 5), (7, 5, 2), (12, 2))\n",
      "((39, 5), (7, 5, 2), (12, 2))\n",
      "Error weighted on: ['hvac', 'fridge', 'mw', 'dw', 'wm', 'oven']\n",
      "None\n",
      "(13.515155893979228, 12.909338655456684, 1300, 5, 2)\n",
      "((39, 3), (7, 3, 4), (12, 4))\n",
      "((39, 3), (7, 3, 4), (12, 4))\n",
      "Error weighted on: ['hvac', 'fridge', 'mw', 'dw', 'wm', 'oven']\n",
      "None\n",
      "(28.876351109760368, 12.909338655456684, 1300, 3, 4)\n",
      "((39, 5), (7, 5, 4), (12, 4))\n",
      "((39, 5), (7, 5, 4), (12, 4))\n",
      "Error weighted on: ['hvac', 'fridge', 'mw', 'dw', 'wm', 'oven']\n",
      "None\n",
      "(20.535101656771563, 12.909338655456684, 1300, 5, 4)\n",
      "******* BEST PARAMS *******\n",
      "{'Num season factors': 2, 'Least Train Error': 12.909338655456684, 'Appliance Train Error': {'hvac': 20.709906414029948, 'wm': 2.0555642511820627, 'fridge': 3.199477321123358, 'mw': 2.6898807561435505, 'oven': 5.0521745568496321, 'dw': 2.1621104084757974}, 'Num home factors': 3, 'Iterations': 100}\n",
      "******* BEST PARAMS *******\n",
      "((39, 3), (7, 3, 2), (12, 2))\n",
      "--------------------------------------------------------------------------------\n",
      "2017-08-26 13:10:03.515828\n",
      "Progress: 50.0\n",
      "--------------------------------------------------------------------------------\n",
      "Test set [6268 6377 6429 6497]\n",
      "--------------------------------------------------------------------------------\n",
      "Current Error, Least Error, #Iterations\n",
      "((39, 3), (7, 3, 2), (12, 2))\n",
      "((39, 3), (7, 3, 2), (12, 2))\n",
      "Error weighted on: ['hvac', 'fridge', 'mw', 'dw', 'wm', 'oven']\n",
      "None\n",
      "(25.29020637802067, 25.29020637802067, 100, 3, 2)\n",
      "((39, 5), (7, 5, 2), (12, 2))\n",
      "((39, 5), (7, 5, 2), (12, 2))\n",
      "Error weighted on: ['hvac', 'fridge', 'mw', 'dw', 'wm', 'oven']\n",
      "None\n",
      "(24.711658775809234, 24.711658775809234, 100, 5, 2)\n",
      "((39, 3), (7, 3, 4), (12, 4))\n",
      "((39, 3), (7, 3, 4), (12, 4))\n",
      "Error weighted on: ['hvac', 'fridge', 'mw', 'dw', 'wm', 'oven']\n",
      "None\n",
      "(27.828571544116436, 24.711658775809234, 100, 3, 4)\n",
      "((39, 5), (7, 5, 4), (12, 4))\n",
      "((39, 5), (7, 5, 4), (12, 4))\n",
      "Error weighted on: ['hvac', 'fridge', 'mw', 'dw', 'wm', 'oven']\n",
      "None\n",
      "(24.631980608367808, 24.631980608367808, 100, 5, 4)\n"
     ]
    },
    {
     "name": "stdout",
     "output_type": "stream",
     "text": [
      "((39, 3), (7, 3, 2), (12, 2))\n",
      "((39, 3), (7, 3, 2), (12, 2))\n",
      "Error weighted on: ['hvac', 'fridge', 'mw', 'dw', 'wm', 'oven']\n",
      "None\n",
      "(25.878580067768294, 24.631980608367808, 700, 3, 2)\n",
      "((39, 5), (7, 5, 2), (12, 2))\n",
      "((39, 5), (7, 5, 2), (12, 2))\n",
      "Error weighted on: ['hvac', 'fridge', 'mw', 'dw', 'wm', 'oven']\n",
      "None\n",
      "(27.75812650482686, 24.631980608367808, 700, 5, 2)\n",
      "((39, 3), (7, 3, 4), (12, 4))\n",
      "((39, 3), (7, 3, 4), (12, 4))\n",
      "Error weighted on: ['hvac', 'fridge', 'mw', 'dw', 'wm', 'oven']\n",
      "None\n",
      "(31.37504628796463, 24.631980608367808, 700, 3, 4)\n",
      "((39, 5), (7, 5, 4), (12, 4))\n",
      "((39, 5), (7, 5, 4), (12, 4))\n",
      "Error weighted on: ['hvac', 'fridge', 'mw', 'dw', 'wm', 'oven']\n",
      "None\n",
      "(26.988339458003015, 24.631980608367808, 700, 5, 4)\n",
      "((39, 3), (7, 3, 2), (12, 2))\n",
      "((39, 3), (7, 3, 2), (12, 2))\n",
      "Error weighted on: ['hvac', 'fridge', 'mw', 'dw', 'wm', 'oven']\n",
      "None\n",
      "(25.862843957539102, 24.631980608367808, 1300, 3, 2)\n",
      "((39, 5), (7, 5, 2), (12, 2))\n",
      "((39, 5), (7, 5, 2), (12, 2))\n",
      "Error weighted on: ['hvac', 'fridge', 'mw', 'dw', 'wm', 'oven']\n",
      "None\n",
      "(30.08523687698393, 24.631980608367808, 1300, 5, 2)\n",
      "((39, 3), (7, 3, 4), (12, 4))\n",
      "((39, 3), (7, 3, 4), (12, 4))\n",
      "Error weighted on: ['hvac', 'fridge', 'mw', 'dw', 'wm', 'oven']\n",
      "None\n",
      "(33.536252820160136, 24.631980608367808, 1300, 3, 4)\n",
      "((39, 5), (7, 5, 4), (12, 4))\n",
      "((39, 5), (7, 5, 4), (12, 4))\n",
      "Error weighted on: ['hvac', 'fridge', 'mw', 'dw', 'wm', 'oven']\n",
      "None\n",
      "(29.48139090928921, 24.631980608367808, 1300, 5, 4)\n",
      "******* BEST PARAMS *******\n",
      "{'Num season factors': 4, 'Least Train Error': 24.631980608367808, 'Appliance Train Error': {'hvac': 37.881761128842946, 'wm': 4.6999833104838959, 'fridge': 5.9200800055458149, 'mw': 14.292063289560019, 'oven': 17.228030796108875, 'dw': 13.298890540412891}, 'Num home factors': 5, 'Iterations': 100}\n",
      "******* BEST PARAMS *******\n",
      "((39, 5), (7, 5, 4), (12, 4))\n",
      "--------------------------------------------------------------------------------\n",
      "2017-08-26 13:10:39.746307\n",
      "Progress: 60.0\n",
      "--------------------------------------------------------------------------------\n",
      "Test set [6547 7062 7114 7409]\n",
      "--------------------------------------------------------------------------------\n",
      "Current Error, Least Error, #Iterations\n",
      "((39, 3), (7, 3, 2), (12, 2))\n",
      "((39, 3), (7, 3, 2), (12, 2))\n",
      "Error weighted on: ['hvac', 'fridge', 'mw', 'dw', 'wm', 'oven']\n",
      "None\n",
      "(27.623949185008914, 27.623949185008914, 100, 3, 2)\n",
      "((39, 5), (7, 5, 2), (12, 2))\n",
      "((39, 5), (7, 5, 2), (12, 2))\n",
      "Error weighted on: ['hvac', 'fridge', 'mw', 'dw', 'wm', 'oven']\n",
      "None\n",
      "(27.53735085656448, 27.53735085656448, 100, 5, 2)\n",
      "((39, 3), (7, 3, 4), (12, 4))\n",
      "((39, 3), (7, 3, 4), (12, 4))\n",
      "Error weighted on: ['hvac', 'fridge', 'mw', 'dw', 'wm', 'oven']\n",
      "None\n",
      "(34.223002008722624, 27.53735085656448, 100, 3, 4)\n",
      "((39, 5), (7, 5, 4), (12, 4))\n",
      "((39, 5), (7, 5, 4), (12, 4))\n",
      "Error weighted on: ['hvac', 'fridge', 'mw', 'dw', 'wm', 'oven']\n",
      "None\n",
      "(34.46083226305598, 27.53735085656448, 100, 5, 4)\n",
      "((39, 3), (7, 3, 2), (12, 2))\n",
      "((39, 3), (7, 3, 2), (12, 2))\n",
      "Error weighted on: ['hvac', 'fridge', 'mw', 'dw', 'wm', 'oven']\n",
      "None\n",
      "(27.159098323835106, 27.159098323835106, 700, 3, 2)\n",
      "((39, 5), (7, 5, 2), (12, 2))\n",
      "((39, 5), (7, 5, 2), (12, 2))\n",
      "Error weighted on: ['hvac', 'fridge', 'mw', 'dw', 'wm', 'oven']\n",
      "None\n",
      "(31.099001741069067, 27.159098323835106, 700, 5, 2)\n",
      "((39, 3), (7, 3, 4), (12, 4))\n",
      "((39, 3), (7, 3, 4), (12, 4))\n",
      "Error weighted on: ['hvac', 'fridge', 'mw', 'dw', 'wm', 'oven']\n",
      "None\n",
      "(59.69093997788946, 27.159098323835106, 700, 3, 4)\n",
      "((39, 5), (7, 5, 4), (12, 4))\n",
      "((39, 5), (7, 5, 4), (12, 4))\n",
      "Error weighted on: ['hvac', 'fridge', 'mw', 'dw', 'wm', 'oven']\n",
      "None\n",
      "(46.59177813482532, 27.159098323835106, 700, 5, 4)\n",
      "((39, 3), (7, 3, 2), (12, 2))\n",
      "((39, 3), (7, 3, 2), (12, 2))\n",
      "Error weighted on: ['hvac', 'fridge', 'mw', 'dw', 'wm', 'oven']\n",
      "None\n",
      "(28.198670751992697, 27.159098323835106, 1300, 3, 2)\n",
      "((39, 5), (7, 5, 2), (12, 2))\n",
      "((39, 5), (7, 5, 2), (12, 2))\n",
      "Error weighted on: ['hvac', 'fridge', 'mw', 'dw', 'wm', 'oven']\n",
      "None\n",
      "(28.760071311685724, 27.159098323835106, 1300, 5, 2)\n",
      "((39, 3), (7, 3, 4), (12, 4))\n",
      "((39, 3), (7, 3, 4), (12, 4))\n",
      "Error weighted on: ['hvac', 'fridge', 'mw', 'dw', 'wm', 'oven']\n",
      "None\n",
      "(63.736250933561344, 27.159098323835106, 1300, 3, 4)\n",
      "((39, 5), (7, 5, 4), (12, 4))\n",
      "((39, 5), (7, 5, 4), (12, 4))\n",
      "Error weighted on: ['hvac', 'fridge', 'mw', 'dw', 'wm', 'oven']\n",
      "None\n",
      "(46.9029014515826, 27.159098323835106, 1300, 5, 4)\n",
      "******* BEST PARAMS *******\n",
      "{'Num season factors': 2, 'Least Train Error': 27.159098323835106, 'Appliance Train Error': {'hvac': 45.285232364630261, 'wm': 0.38335742264007711, 'fridge': 5.513553605066762, 'mw': 1.9732999454585245, 'oven': 3.6050903895017372, 'dw': 2.434578705678593}, 'Num home factors': 3, 'Iterations': 700}\n",
      "******* BEST PARAMS *******\n",
      "((39, 3), (7, 3, 2), (12, 2))\n",
      "--------------------------------------------------------------------------------\n",
      "2017-08-26 13:11:14.990343\n",
      "Progress: 70.0\n",
      "--------------------------------------------------------------------------------\n",
      "Test set [7639 8061 8342 8574]\n",
      "--------------------------------------------------------------------------------\n",
      "Current Error, Least Error, #Iterations\n",
      "((39, 3), (7, 3, 2), (12, 2))\n",
      "((39, 3), (7, 3, 2), (12, 2))\n",
      "Error weighted on: ['hvac', 'fridge', 'mw', 'dw', 'wm', 'oven']\n",
      "None\n",
      "(28.99616511450658, 28.99616511450658, 100, 3, 2)\n",
      "((39, 5), (7, 5, 2), (12, 2))\n",
      "((39, 5), (7, 5, 2), (12, 2))\n",
      "Error weighted on: ['hvac', 'fridge', 'mw', 'dw', 'wm', 'oven']\n",
      "None\n",
      "(28.3049089628497, 28.3049089628497, 100, 5, 2)\n",
      "((39, 3), (7, 3, 4), (12, 4))\n",
      "((39, 3), (7, 3, 4), (12, 4))\n",
      "Error weighted on: ['hvac', 'fridge', 'mw', 'dw', 'wm', 'oven']\n",
      "None\n",
      "(30.47118216766783, 28.3049089628497, 100, 3, 4)\n",
      "((39, 5), (7, 5, 4), (12, 4))\n",
      "((39, 5), (7, 5, 4), (12, 4))\n",
      "Error weighted on: ['hvac', 'fridge', 'mw', 'dw', 'wm', 'oven']\n",
      "None\n",
      "(27.829358988082163, 27.829358988082163, 100, 5, 4)\n",
      "((39, 3), (7, 3, 2), (12, 2))\n",
      "((39, 3), (7, 3, 2), (12, 2))\n",
      "Error weighted on: ['hvac', 'fridge', 'mw', 'dw', 'wm', 'oven']\n",
      "None\n",
      "(29.006307976382015, 27.829358988082163, 700, 3, 2)\n",
      "((39, 5), (7, 5, 2), (12, 2))\n",
      "((39, 5), (7, 5, 2), (12, 2))\n",
      "Error weighted on: ['hvac', 'fridge', 'mw', 'dw', 'wm', 'oven']\n",
      "None\n",
      "(30.725471683212678, 27.829358988082163, 700, 5, 2)\n",
      "((39, 3), (7, 3, 4), (12, 4))\n",
      "((39, 3), (7, 3, 4), (12, 4))\n",
      "Error weighted on: ['hvac', 'fridge', 'mw', 'dw', 'wm', 'oven']\n",
      "None\n",
      "(25.97335656650959, 25.97335656650959, 700, 3, 4)\n",
      "((39, 5), (7, 5, 4), (12, 4))\n",
      "((39, 5), (7, 5, 4), (12, 4))\n",
      "Error weighted on: ['hvac', 'fridge', 'mw', 'dw', 'wm', 'oven']\n",
      "None\n",
      "(29.071615174483448, 25.97335656650959, 700, 5, 4)\n",
      "((39, 3), (7, 3, 2), (12, 2))\n",
      "((39, 3), (7, 3, 2), (12, 2))\n",
      "Error weighted on: ['hvac', 'fridge', 'mw', 'dw', 'wm', 'oven']\n",
      "None\n",
      "(29.386983171621665, 25.97335656650959, 1300, 3, 2)\n",
      "((39, 5), (7, 5, 2), (12, 2))\n",
      "((39, 5), (7, 5, 2), (12, 2))\n",
      "Error weighted on: ['hvac', 'fridge', 'mw', 'dw', 'wm', 'oven']\n",
      "None\n",
      "(36.41478427149303, 25.97335656650959, 1300, 5, 2)\n",
      "((39, 3), (7, 3, 4), (12, 4))\n",
      "((39, 3), (7, 3, 4), (12, 4))\n",
      "Error weighted on: ['hvac', 'fridge', 'mw', 'dw', 'wm', 'oven']\n",
      "None\n",
      "(30.55426433725469, 25.97335656650959, 1300, 3, 4)\n",
      "((39, 5), (7, 5, 4), (12, 4))\n",
      "((39, 5), (7, 5, 4), (12, 4))\n",
      "Error weighted on: ['hvac', 'fridge', 'mw', 'dw', 'wm', 'oven']\n",
      "None\n",
      "(30.745597414131055, 25.97335656650959, 1300, 5, 4)\n",
      "******* BEST PARAMS *******\n",
      "{'Num season factors': 4, 'Least Train Error': 25.97335656650959, 'Appliance Train Error': {'hvac': 43.215219731257768, 'wm': 4.7713710026358651, 'fridge': 4.6354548709506735, 'mw': 4.2299333753386632, 'oven': 3.2460217831472655, 'dw': 4.5828794870751866}, 'Num home factors': 3, 'Iterations': 700}\n",
      "******* BEST PARAMS *******\n",
      "((39, 3), (7, 3, 4), (12, 4))\n",
      "--------------------------------------------------------------------------------\n",
      "2017-08-26 13:12:15.260654\n",
      "Progress: 80.0\n",
      "--------------------------------------------------------------------------------\n",
      "Test set [8733 9213 9370 9585]\n",
      "--------------------------------------------------------------------------------\n",
      "Current Error, Least Error, #Iterations\n",
      "((39, 3), (7, 3, 2), (12, 2))\n",
      "((39, 3), (7, 3, 2), (12, 2))\n",
      "Error weighted on: ['hvac', 'fridge', 'mw', 'dw', 'wm', 'oven']\n",
      "None\n",
      "(12.738862112700287, 12.738862112700287, 100, 3, 2)\n",
      "((39, 5), (7, 5, 2), (12, 2))\n",
      "((39, 5), (7, 5, 2), (12, 2))\n"
     ]
    },
    {
     "name": "stdout",
     "output_type": "stream",
     "text": [
      "Error weighted on: ['hvac', 'fridge', 'mw', 'dw', 'wm', 'oven']\n",
      "None\n",
      "(11.470033503992171, 11.470033503992171, 100, 5, 2)\n",
      "((39, 3), (7, 3, 4), (12, 4))\n",
      "((39, 3), (7, 3, 4), (12, 4))\n",
      "Error weighted on: ['hvac', 'fridge', 'mw', 'dw', 'wm', 'oven']\n",
      "None\n",
      "(13.735900860753546, 11.470033503992171, 100, 3, 4)\n",
      "((39, 5), (7, 5, 4), (12, 4))\n",
      "((39, 5), (7, 5, 4), (12, 4))\n",
      "Error weighted on: ['hvac', 'fridge', 'mw', 'dw', 'wm', 'oven']\n",
      "None\n",
      "(13.333371603661243, 11.470033503992171, 100, 5, 4)\n",
      "((39, 3), (7, 3, 2), (12, 2))\n",
      "((39, 3), (7, 3, 2), (12, 2))\n",
      "Error weighted on: ['hvac', 'fridge', 'mw', 'dw', 'wm', 'oven']\n",
      "None\n",
      "(11.338670797768403, 11.338670797768403, 700, 3, 2)\n",
      "((39, 5), (7, 5, 2), (12, 2))\n",
      "((39, 5), (7, 5, 2), (12, 2))\n",
      "Error weighted on: ['hvac', 'fridge', 'mw', 'dw', 'wm', 'oven']\n",
      "None\n",
      "(14.419292070870931, 11.338670797768403, 700, 5, 2)\n",
      "((39, 3), (7, 3, 4), (12, 4))\n",
      "((39, 3), (7, 3, 4), (12, 4))\n",
      "Error weighted on: ['hvac', 'fridge', 'mw', 'dw', 'wm', 'oven']\n",
      "None\n",
      "(28.513351614448244, 11.338670797768403, 700, 3, 4)\n",
      "((39, 5), (7, 5, 4), (12, 4))\n",
      "((39, 5), (7, 5, 4), (12, 4))\n",
      "Error weighted on: ['hvac', 'fridge', 'mw', 'dw', 'wm', 'oven']\n",
      "None\n",
      "(22.35280777275345, 11.338670797768403, 700, 5, 4)\n",
      "((39, 3), (7, 3, 2), (12, 2))\n",
      "((39, 3), (7, 3, 2), (12, 2))\n",
      "Error weighted on: ['hvac', 'fridge', 'mw', 'dw', 'wm', 'oven']\n",
      "None\n",
      "(14.026218735533584, 11.338670797768403, 1300, 3, 2)\n",
      "((39, 5), (7, 5, 2), (12, 2))\n",
      "((39, 5), (7, 5, 2), (12, 2))\n",
      "Error weighted on: ['hvac', 'fridge', 'mw', 'dw', 'wm', 'oven']\n",
      "None\n",
      "(13.22971350692673, 11.338670797768403, 1300, 5, 2)\n",
      "((39, 3), (7, 3, 4), (12, 4))\n",
      "((39, 3), (7, 3, 4), (12, 4))\n",
      "Error weighted on: ['hvac', 'fridge', 'mw', 'dw', 'wm', 'oven']\n",
      "None\n",
      "(31.7926323408347, 11.338670797768403, 1300, 3, 4)\n",
      "((39, 5), (7, 5, 4), (12, 4))\n",
      "((39, 5), (7, 5, 4), (12, 4))\n",
      "Error weighted on: ['hvac', 'fridge', 'mw', 'dw', 'wm', 'oven']\n",
      "None\n",
      "(21.460388186109515, 11.338670797768403, 1300, 5, 4)\n",
      "******* BEST PARAMS *******\n",
      "{'Num season factors': 2, 'Least Train Error': 11.338670797768403, 'Appliance Train Error': {'hvac': 18.016224891031843, 'wm': 0.65100221455280904, 'fridge': 3.4374420905809315, 'mw': 1.3871182155620438, 'oven': 3.5334546798267654, 'dw': 1.8879716946143694}, 'Num home factors': 3, 'Iterations': 700}\n",
      "******* BEST PARAMS *******\n",
      "((39, 3), (7, 3, 2), (12, 2))\n",
      "--------------------------------------------------------------------------------\n",
      "2017-08-26 13:12:56.271611\n",
      "Progress: 90.0\n",
      "--------------------------------------------------------------------------------\n",
      "Test set [9612 9775 9836]\n",
      "--------------------------------------------------------------------------------\n",
      "Current Error, Least Error, #Iterations\n",
      "((39, 3), (7, 3, 2), (12, 2))\n",
      "((39, 3), (7, 3, 2), (12, 2))\n",
      "Found array with 0 sample(s) (shape=(0,)) while a minimum of 1 is required.\n",
      "wm\n",
      "Error weighted on: ['hvac', 'fridge', 'mw', 'dw', 'oven']\n",
      "None\n",
      "(10.536954030220159, 10.536954030220159, 100, 3, 2)\n",
      "((39, 5), (7, 5, 2), (12, 2))\n",
      "((39, 5), (7, 5, 2), (12, 2))\n",
      "Found array with 0 sample(s) (shape=(0,)) while a minimum of 1 is required.\n",
      "wm\n",
      "Error weighted on: ['hvac', 'fridge', 'mw', 'dw', 'oven']\n",
      "None\n",
      "(11.616791881014088, 10.536954030220159, 100, 5, 2)\n",
      "((39, 3), (7, 3, 4), (12, 4))\n",
      "((39, 3), (7, 3, 4), (12, 4))\n",
      "Found array with 0 sample(s) (shape=(0,)) while a minimum of 1 is required.\n",
      "wm\n",
      "Error weighted on: ['hvac', 'fridge', 'mw', 'dw', 'oven']\n",
      "None\n",
      "(12.518825746602381, 10.536954030220159, 100, 3, 4)\n",
      "((39, 5), (7, 5, 4), (12, 4))\n",
      "((39, 5), (7, 5, 4), (12, 4))\n",
      "Found array with 0 sample(s) (shape=(0,)) while a minimum of 1 is required.\n",
      "wm\n",
      "Error weighted on: ['hvac', 'fridge', 'mw', 'dw', 'oven']\n",
      "None\n",
      "(12.430502306211938, 10.536954030220159, 100, 5, 4)\n",
      "((39, 3), (7, 3, 2), (12, 2))\n",
      "((39, 3), (7, 3, 2), (12, 2))\n",
      "Found array with 0 sample(s) (shape=(0,)) while a minimum of 1 is required.\n",
      "wm\n",
      "Error weighted on: ['hvac', 'fridge', 'mw', 'dw', 'oven']\n",
      "None\n",
      "(10.677366289520057, 10.536954030220159, 700, 3, 2)\n",
      "((39, 5), (7, 5, 2), (12, 2))\n",
      "((39, 5), (7, 5, 2), (12, 2))\n",
      "Found array with 0 sample(s) (shape=(0,)) while a minimum of 1 is required.\n",
      "wm\n",
      "Error weighted on: ['hvac', 'fridge', 'mw', 'dw', 'oven']\n",
      "None\n",
      "(10.929706062397658, 10.536954030220159, 700, 5, 2)\n",
      "((39, 3), (7, 3, 4), (12, 4))\n",
      "((39, 3), (7, 3, 4), (12, 4))\n",
      "Found array with 0 sample(s) (shape=(0,)) while a minimum of 1 is required.\n",
      "wm\n",
      "Error weighted on: ['hvac', 'fridge', 'mw', 'dw', 'oven']\n",
      "None\n",
      "(25.021831967653082, 10.536954030220159, 700, 3, 4)\n",
      "((39, 5), (7, 5, 4), (12, 4))\n",
      "((39, 5), (7, 5, 4), (12, 4))\n",
      "Found array with 0 sample(s) (shape=(0,)) while a minimum of 1 is required.\n",
      "wm\n",
      "Error weighted on: ['hvac', 'fridge', 'mw', 'dw', 'oven']\n",
      "None\n",
      "(19.613802240212465, 10.536954030220159, 700, 5, 4)\n",
      "((39, 3), (7, 3, 2), (12, 2))\n",
      "((39, 3), (7, 3, 2), (12, 2))\n",
      "Found array with 0 sample(s) (shape=(0,)) while a minimum of 1 is required.\n",
      "wm\n",
      "Error weighted on: ['hvac', 'fridge', 'mw', 'dw', 'oven']\n",
      "None\n",
      "(10.261039943010738, 10.261039943010738, 1300, 3, 2)\n",
      "((39, 5), (7, 5, 2), (12, 2))\n",
      "((39, 5), (7, 5, 2), (12, 2))\n",
      "Found array with 0 sample(s) (shape=(0,)) while a minimum of 1 is required.\n",
      "wm\n",
      "Error weighted on: ['hvac', 'fridge', 'mw', 'dw', 'oven']\n",
      "None\n",
      "(12.217526451611237, 10.261039943010738, 1300, 5, 2)\n",
      "((39, 3), (7, 3, 4), (12, 4))\n",
      "((39, 3), (7, 3, 4), (12, 4))\n",
      "Found array with 0 sample(s) (shape=(0,)) while a minimum of 1 is required.\n",
      "wm\n",
      "Error weighted on: ['hvac', 'fridge', 'mw', 'dw', 'oven']\n",
      "None\n",
      "(27.387150147182417, 10.261039943010738, 1300, 3, 4)\n",
      "((39, 5), (7, 5, 4), (12, 4))\n",
      "((39, 5), (7, 5, 4), (12, 4))\n",
      "Found array with 0 sample(s) (shape=(0,)) while a minimum of 1 is required.\n",
      "wm\n",
      "Error weighted on: ['hvac', 'fridge', 'mw', 'dw', 'oven']\n",
      "None\n",
      "(19.419159224066128, 10.261039943010738, 1300, 5, 4)\n",
      "******* BEST PARAMS *******\n",
      "{'Num season factors': 2, 'Least Train Error': 10.261039943010738, 'Appliance Train Error': {'dw': 5.7559416349073871, 'mw': 5.6672588005560538, 'oven': 6.0971463995953394, 'fridge': 2.6955469438527926, 'hvac': 15.809851074105607}, 'Num home factors': 3, 'Iterations': 1300}\n",
      "******* BEST PARAMS *******\n",
      "((39, 3), (7, 3, 2), (12, 2))\n"
     ]
    },
    {
     "ename": "TypeError",
     "evalue": "first argument must be an iterable of pandas objects, you passed an object of type \"DataFrame\"",
     "output_type": "error",
     "traceback": [
      "\u001b[0;31m---------------------------------------------------------------------------\u001b[0m",
      "\u001b[0;31mTypeError\u001b[0m                                 Traceback (most recent call last)",
      "\u001b[0;32m<ipython-input-334-9f568b797fd4>\u001b[0m in \u001b[0;36m<module>\u001b[0;34m()\u001b[0m\n\u001b[1;32m    121\u001b[0m \u001b[0;34m\u001b[0m\u001b[0m\n\u001b[1;32m    122\u001b[0m \u001b[0;32mfor\u001b[0m \u001b[0mappliance\u001b[0m \u001b[0;32min\u001b[0m \u001b[0mAPPLIANCES_ORDER\u001b[0m\u001b[0;34m:\u001b[0m\u001b[0;34m\u001b[0m\u001b[0m\n\u001b[0;32m--> 123\u001b[0;31m     \u001b[0mpred\u001b[0m\u001b[0;34m[\u001b[0m\u001b[0mappliance\u001b[0m\u001b[0;34m]\u001b[0m \u001b[0;34m=\u001b[0m \u001b[0mpd\u001b[0m\u001b[0;34m.\u001b[0m\u001b[0mDataFrame\u001b[0m\u001b[0;34m(\u001b[0m\u001b[0mpd\u001b[0m\u001b[0;34m.\u001b[0m\u001b[0mconcat\u001b[0m\u001b[0;34m(\u001b[0m\u001b[0mpred\u001b[0m\u001b[0;34m[\u001b[0m\u001b[0mappliance\u001b[0m\u001b[0;34m]\u001b[0m\u001b[0;34m)\u001b[0m\u001b[0;34m)\u001b[0m\u001b[0;34m\u001b[0m\u001b[0m\n\u001b[0m",
      "\u001b[0;32m/Users/nipunbatra/anaconda2/lib/python2.7/site-packages/pandas/core/reshape/concat.pyc\u001b[0m in \u001b[0;36mconcat\u001b[0;34m(objs, axis, join, join_axes, ignore_index, keys, levels, names, verify_integrity, copy)\u001b[0m\n\u001b[1;32m    204\u001b[0m                        \u001b[0mkeys\u001b[0m\u001b[0;34m=\u001b[0m\u001b[0mkeys\u001b[0m\u001b[0;34m,\u001b[0m \u001b[0mlevels\u001b[0m\u001b[0;34m=\u001b[0m\u001b[0mlevels\u001b[0m\u001b[0;34m,\u001b[0m \u001b[0mnames\u001b[0m\u001b[0;34m=\u001b[0m\u001b[0mnames\u001b[0m\u001b[0;34m,\u001b[0m\u001b[0;34m\u001b[0m\u001b[0m\n\u001b[1;32m    205\u001b[0m                        \u001b[0mverify_integrity\u001b[0m\u001b[0;34m=\u001b[0m\u001b[0mverify_integrity\u001b[0m\u001b[0;34m,\u001b[0m\u001b[0;34m\u001b[0m\u001b[0m\n\u001b[0;32m--> 206\u001b[0;31m                        copy=copy)\n\u001b[0m\u001b[1;32m    207\u001b[0m     \u001b[0;32mreturn\u001b[0m \u001b[0mop\u001b[0m\u001b[0;34m.\u001b[0m\u001b[0mget_result\u001b[0m\u001b[0;34m(\u001b[0m\u001b[0;34m)\u001b[0m\u001b[0;34m\u001b[0m\u001b[0m\n\u001b[1;32m    208\u001b[0m \u001b[0;34m\u001b[0m\u001b[0m\n",
      "\u001b[0;32m/Users/nipunbatra/anaconda2/lib/python2.7/site-packages/pandas/core/reshape/concat.pyc\u001b[0m in \u001b[0;36m__init__\u001b[0;34m(self, objs, axis, join, join_axes, keys, levels, names, ignore_index, verify_integrity, copy)\u001b[0m\n\u001b[1;32m    219\u001b[0m             raise TypeError('first argument must be an iterable of pandas '\n\u001b[1;32m    220\u001b[0m                             \u001b[0;34m'objects, you passed an object of type '\u001b[0m\u001b[0;34m\u001b[0m\u001b[0m\n\u001b[0;32m--> 221\u001b[0;31m                             '\"{0}\"'.format(type(objs).__name__))\n\u001b[0m\u001b[1;32m    222\u001b[0m \u001b[0;34m\u001b[0m\u001b[0m\n\u001b[1;32m    223\u001b[0m         \u001b[0;32mif\u001b[0m \u001b[0mjoin\u001b[0m \u001b[0;34m==\u001b[0m \u001b[0;34m'outer'\u001b[0m\u001b[0;34m:\u001b[0m\u001b[0;34m\u001b[0m\u001b[0m\n",
      "\u001b[0;31mTypeError\u001b[0m: first argument must be an iterable of pandas objects, you passed an object of type \"DataFrame\""
     ]
    }
   ],
   "source": [
    "best_params_global = {}\n",
    "for outer_loop_iteration, (train_max, test) in enumerate(kf.split(source_df)):\n",
    "    # Just a random thing\n",
    "    np.random.seed(10 * random_seed + 7 * outer_loop_iteration)\n",
    "    np.random.shuffle(train_max)\n",
    "    print(\"-\" * 80)\n",
    "    print(datetime.datetime.now())\n",
    "    print(\"Progress: {}\".format(100.0 * outer_loop_iteration / n_splits))\n",
    "    sys.stdout.flush()\n",
    "    num_train = int((train_percentage * len(train_max) / 100) + 0.5)\n",
    "    if train_percentage == 100:\n",
    "        train = train_max\n",
    "        train_ix = source_df.index[train]\n",
    "        # print(\"Train set {}\".format(train_ix.values))\n",
    "        test_ix = source_df.index[test]\n",
    "    else:\n",
    "        train, _ = train_test_split(train_max, train_size=train_percentage / 100.0)\n",
    "        train_ix = source_df.index[train]\n",
    "        # print(\"Train set {}\".format(train_ix.values))\n",
    "        test_ix = source_df.index[test]\n",
    "\n",
    "    print(\"-\" * 80)\n",
    "\n",
    "    print(\"Test set {}\".format(test_ix.values))\n",
    "\n",
    "    print(\"-\" * 80)\n",
    "    print(\"Current Error, Least Error, #Iterations\")\n",
    "\n",
    "    ### Inner CV loop to find the optimum set of params. In this case: the number of iterations\n",
    "    inner_kf = KFold(n_splits=2)\n",
    "    best_num_iterations = 0\n",
    "    best_num_season_factors = 0\n",
    "    best_num_home_factors = 0\n",
    "    best_appliance_wise_err = {appliance: 1e6 for appliance in APPLIANCES_ORDER[1:]}\n",
    "    least_error = 1e6\n",
    "\n",
    "    overall_df_inner = source_df.loc[train_ix]\n",
    "    best_params_global[outer_loop_iteration] = {}\n",
    "    for num_iterations_cv in range(100, 1400, 600):\n",
    "        for num_season_factors_cv in range(2, 5, 2):\n",
    "            for num_home_factors_cv in range(3, 6, 2):\n",
    "                pred_inner = {}\n",
    "                for train_inner, test_inner in inner_kf.split(overall_df_inner):\n",
    "                    train_ix_inner = overall_df_inner.index[train_inner]\n",
    "                    test_ix_inner = overall_df_inner.index[test_inner]\n",
    "\n",
    "                    train_test_ix_inner = np.concatenate([test_ix_inner, train_ix_inner])\n",
    "                    df_t_inner, dfc_t_inner = source_df.loc[train_test_ix_inner], source_dfc.loc[train_test_ix_inner]\n",
    "                    tensor_inner = get_tensor(df_t_inner)\n",
    "                    tensor_copy_inner = tensor_inner.copy()\n",
    "                    # First n\n",
    "                    tensor_copy_inner[:len(test_ix_inner), 1:, :] = np.NaN\n",
    "                    H, A, T, Hs, As, HATs, costs = learning_pca(case, tensor_copy_inner, num_home_factors_cv, \n",
    "                                                                num_season_factors_cv, num_iter=num_iterations_cv, lr=1, \n",
    "                                                                dis=False, cost_function='abs', random_seed=0,\n",
    "                                                                eps=1e-8, lam=lam)\n",
    "                    HAT = multiply_case(H, A, T, case)\n",
    "                    for appliance in APPLIANCES_ORDER:\n",
    "                        if appliance not in pred_inner:\n",
    "                            pred_inner[appliance] = []\n",
    "\n",
    "                        pred_inner[appliance].append(\n",
    "                            pd.DataFrame(HAT[:len(test_ix_inner), appliance_index[appliance], :],\n",
    "                                         index=test_ix_inner))\n",
    "\n",
    "                err = {}\n",
    "                appliance_to_weight = []\n",
    "                for appliance in APPLIANCES_ORDER[1:]:\n",
    "                    pred_inner[appliance] = pd.DataFrame(pd.concat(pred_inner[appliance]))\n",
    "\n",
    "                    try:\n",
    "                        if appliance == \"hvac\":\n",
    "                            err[appliance] = \\\n",
    "                                compute_rmse_fraction(appliance, pred_inner[appliance][range(4, 10)], source)[2]\n",
    "                        else:\n",
    "                            err[appliance] = compute_rmse_fraction(appliance, pred_inner[appliance], source)[2]\n",
    "                        appliance_to_weight.append(appliance)\n",
    "                    except Exception, e:\n",
    "                        # This appliance does not have enough samples. Will not be\n",
    "                        # weighed\n",
    "                        print(e)\n",
    "                        print(appliance)\n",
    "                        sys.stdout.flush()\n",
    "                print(\"Error weighted on: {}\".format(appliance_to_weight))\n",
    "                print(sys.stdout.flush())\n",
    "                err_weight = {}\n",
    "                for appliance in appliance_to_weight:\n",
    "                    err_weight[appliance] = err[appliance] * contri[source][appliance]\n",
    "                mean_err = pd.Series(err_weight).sum()\n",
    "                if mean_err < least_error:\n",
    "                    best_num_iterations = num_iterations_cv\n",
    "                    best_num_season_factors = num_season_factors_cv\n",
    "                    best_num_home_factors = num_home_factors_cv\n",
    "                    least_error = mean_err\n",
    "                    best_appliance_wise_err = err\n",
    "                print(mean_err, least_error, num_iterations_cv, num_home_factors_cv, num_season_factors_cv)\n",
    "                sys.stdout.flush()\n",
    "    best_params_global[outer_loop_iteration] = {'Iterations': best_num_iterations,\n",
    "                                                \"Appliance Train Error\": best_appliance_wise_err,\n",
    "                                                'Num season factors': best_num_season_factors,\n",
    "                                                'Num home factors': best_num_home_factors,\n",
    "                                                \"Least Train Error\": least_error}\n",
    "\n",
    "    print(\"******* BEST PARAMS *******\")\n",
    "    print(best_params_global[outer_loop_iteration])\n",
    "    print(\"******* BEST PARAMS *******\")\n",
    "    sys.stdout.flush()\n",
    "\n",
    "    num_test = len(test_ix)\n",
    "    train_test_ix = np.concatenate([test_ix, train_ix])\n",
    "    df_t, dfc_t = source_df.loc[train_test_ix], source_dfc.loc[train_test_ix]\n",
    "    tensor = get_tensor(df_t)\n",
    "    tensor_copy = tensor.copy()\n",
    "    # First n\n",
    "    tensor_copy[:num_test, 1:, :] = np.NaN\n",
    "    H, A, T, Hs, As, HATs, costs = learning_pca(case, tensor_copy, best_num_home_factors, best_num_season_factors, \n",
    "                                                num_iter=best_num_iterations, lr=1, dis=False, cost_function='abs', \n",
    "                                                random_seed=0, eps=1e-8, lam=lam)\n",
    "    HAT = multiply_case(H, A, T, case)\n",
    "    for appliance in APPLIANCES_ORDER:\n",
    "        pred[appliance].append(pd.DataFrame(HAT[:num_test, appliance_index[appliance], :], index=test_ix))\n",
    "\n",
    "for appliance in APPLIANCES_ORDER:\n",
    "    pred[appliance] = pd.DataFrame(pd.concat(pred[appliance]))"
   ]
  },
  {
   "cell_type": "code",
   "execution_count": 322,
   "metadata": {},
   "outputs": [
    {
     "name": "stdout",
     "output_type": "stream",
     "text": [
      "[0 1 2 3]\n",
      "((7, 1), (7, 1, 1), (12, 1))\n"
     ]
    },
    {
     "name": "stderr",
     "output_type": "stream",
     "text": [
      "/Users/nipunbatra/anaconda2/lib/python2.7/site-packages/wpca/wpca.py:90: RuntimeWarning: invalid value encountered in divide\n",
      "  self.mean_ = XW.sum(0) / weights.sum(0)\n"
     ]
    },
    {
     "name": "stdout",
     "output_type": "stream",
     "text": [
      "[4 5 6 7]\n",
      "((7, 1), (7, 1, 1), (12, 1))\n",
      "[ 8  9 10 11]\n",
      "((7, 1), (7, 1, 1), (12, 1))\n",
      "[12 13 14 15]\n",
      "((7, 1), (7, 1, 1), (12, 1))\n",
      "[16 17 18 19]\n",
      "((7, 1), (7, 1, 1), (12, 1))\n",
      "[20 21 22 23]\n",
      "((7, 1), (7, 1, 1), (12, 1))\n",
      "[24 25 26 27]\n",
      "((7, 1), (7, 1, 1), (12, 1))\n",
      "[28 29 30 31]\n",
      "((7, 1), (7, 1, 1), (12, 1))\n",
      "[32 33 34 35]\n",
      "((7, 1), (7, 1, 1), (12, 1))\n",
      "[36 37 38]\n",
      "((6, 1), (7, 1, 1), (12, 1))\n"
     ]
    }
   ],
   "source": [
    "kf = KFold(n_splits=n_splits)\n",
    "\n",
    "pred = {}\n",
    "for appliance in APPLIANCES_ORDER:\n",
    "    pred[appliance] = []\n",
    "for train_max, test in kf.split(source_df):\n",
    "    print(test)\n",
    "    num_train = int((train_percentage * len(train_max) / 100) + 0.5)\n",
    "    if train_percentage == 100:\n",
    "        train = train_max\n",
    "    else:\n",
    "        train, _ = train_test_split(train_max, train_size=train_percentage / 100.0, random_state=random_seed)\n",
    "    train_ix = source_df.index[train]\n",
    "    test_ix = source_df.index[test]\n",
    "\n",
    "    num_test = len(test_ix)\n",
    "    train_test_ix = np.concatenate([test_ix, train_ix])\n",
    "    df_t, dfc_t = source_df.loc[train_test_ix], source_dfc.loc[train_test_ix]\n",
    "    tensor = get_tensor(df_t, dfc_t)\n",
    "    tensor_copy = tensor.copy()\n",
    "    # First n\n",
    "    tensor_copy[:num_test, 1:, :] = np.NaN\n",
    "    H, A, T, Hs, As, HATs, costs = learning_pca(case, tensor_copy, num_home_f, num_season_f, num_iter=1000, lr=1, dis=False, cost_function='abs', random_seed=0, eps=1e-8, lam=lam)\n",
    "\n",
    "\n",
    "    HAT = multiply_case(H, A, T, case)\n",
    "    for appliance in APPLIANCES_ORDER:\n",
    "        pred[appliance].append(pd.DataFrame(HAT[:num_test, appliance_index[appliance], :], index=test_ix))\n",
    "\n",
    "for appliance in APPLIANCES_ORDER:\n",
    "    pred[appliance] = pd.DataFrame(pd.concat(pred[appliance]))"
   ]
  },
  {
   "cell_type": "code",
   "execution_count": 335,
   "metadata": {
    "collapsed": true
   },
   "outputs": [],
   "source": [
    "from common import compute_rmse_fraction, contri"
   ]
  },
  {
   "cell_type": "code",
   "execution_count": 336,
   "metadata": {},
   "outputs": [],
   "source": [
    "o = {}\n",
    "for appliance in APPLIANCES_ORDER[1:]:\n",
    "    prediction = pred[appliance]\n",
    "    if appliance == \"hvac\":\n",
    "        prediction = prediction[range(4, 10)]\n",
    "    o[appliance] = compute_rmse_fraction(appliance, prediction, region)[2]"
   ]
  },
  {
   "cell_type": "code",
   "execution_count": 337,
   "metadata": {},
   "outputs": [
    {
     "data": {
      "text/plain": [
       "dw         2.040706\n",
       "fridge     8.973608\n",
       "hvac      19.015124\n",
       "mw         1.884453\n",
       "oven       2.525775\n",
       "wm         1.434817\n",
       "dtype: float64"
      ]
     },
     "execution_count": 337,
     "metadata": {},
     "output_type": "execute_result"
    }
   ],
   "source": [
    "pd.Series(o)"
   ]
  },
  {
   "cell_type": "code",
   "execution_count": 338,
   "metadata": {},
   "outputs": [
    {
     "data": {
      "text/plain": [
       "13.634625276595598"
      ]
     },
     "execution_count": 338,
     "metadata": {},
     "output_type": "execute_result"
    }
   ],
   "source": [
    "(pd.Series(o)*pd.Series(contri[region])).sum()"
   ]
  },
  {
   "cell_type": "code",
   "execution_count": 104,
   "metadata": {},
   "outputs": [],
   "source": [
    "from wpca import PCA, WPCA, EMPCA\n"
   ]
  },
  {
   "cell_type": "markdown",
   "metadata": {},
   "source": [
    "### Season basis for SD"
   ]
  },
  {
   "cell_type": "code",
   "execution_count": 151,
   "metadata": {},
   "outputs": [],
   "source": [
    "def find_season_basis(tensor, n_components=2):\n",
    "    data = tensor.reshape(tensor.shape[0]*7, 12)\n",
    "    weights = np.ones_like(data)\n",
    "    weights[np.isnan(data)] = 0\n",
    "    pca = WPCA(n_components=n_components).fit(data, weights=weights)\n",
    "    return pca"
   ]
  },
  {
   "cell_type": "code",
   "execution_count": 168,
   "metadata": {},
   "outputs": [
    {
     "data": {
      "text/plain": [
       "<matplotlib.text.Text at 0x11ed2d810>"
      ]
     },
     "execution_count": 168,
     "metadata": {},
     "output_type": "execute_result"
    },
    {
     "data": {
      "image/png": "[encoded data removed]",
      "text/plain": [
       "<matplotlib.figure.Figure at 0x1202efe50>"
      ]
     },
     "metadata": {},
     "output_type": "display_data"
    }
   ],
   "source": [
    "pca_sd = find_season_basis(sd_tensor, 3)\n",
    "pca_au = find_season_basis(au_tensor, 3)\n",
    "\n",
    "fig, ax = plt.subplots(ncols=2, sharey=True)\n",
    "pd.DataFrame(pca_sd.components_).T.plot(ax=ax[0], title=\"Season basis SD\")\n",
    "\n",
    "pd.DataFrame(pca_au.components_).T.plot(ax=ax[1], title=\"Season basis AU\")\n",
    "format_axes(ax[0])\n",
    "format_axes(ax[1])\n",
    "fig.text(0.5, 0, \"Months\")"
   ]
  },
  {
   "cell_type": "code",
   "execution_count": 246,
   "metadata": {},
   "outputs": [],
   "source": [
    "def find_home_basis(tensor, n_components=2):\n",
    "    data = np.sum(tensor, axis=2)\n",
    "\n",
    "    weights = np.ones_like(data)\n",
    "    weights[np.isnan(data)] = 0\n",
    "    pca = WPCA(n_components=n_components).fit(data, weights=weights)\n",
    "    return pca"
   ]
  },
  {
   "cell_type": "code",
   "execution_count": 173,
   "metadata": {
    "collapsed": true
   },
   "outputs": [],
   "source": [
    "np.nanmean?"
   ]
  },
  {
   "cell_type": "code",
   "execution_count": 194,
   "metadata": {},
   "outputs": [
    {
     "data": {
      "text/html": [
       "<div>\n",
       "<style>\n",
       "    .dataframe thead tr:only-child th {\n",
       "        text-align: right;\n",
       "    }\n",
       "\n",
       "    .dataframe thead th {\n",
       "        text-align: left;\n",
       "    }\n",
       "\n",
       "    .dataframe tbody tr th {\n",
       "        vertical-align: top;\n",
       "    }\n",
       "</style>\n",
       "<table border=\"1\" class=\"dataframe\">\n",
       "  <thead>\n",
       "    <tr style=\"text-align: right;\">\n",
       "      <th></th>\n",
       "      <th>aggregate</th>\n",
       "      <th>hvac</th>\n",
       "      <th>fridge</th>\n",
       "      <th>mw</th>\n",
       "      <th>dw</th>\n",
       "      <th>wm</th>\n",
       "      <th>oven</th>\n",
       "    </tr>\n",
       "  </thead>\n",
       "  <tbody>\n",
       "    <tr>\n",
       "      <th>0</th>\n",
       "      <td>NaN</td>\n",
       "      <td>NaN</td>\n",
       "      <td>NaN</td>\n",
       "      <td>NaN</td>\n",
       "      <td>NaN</td>\n",
       "      <td>NaN</td>\n",
       "      <td>NaN</td>\n",
       "    </tr>\n",
       "    <tr>\n",
       "      <th>1</th>\n",
       "      <td>NaN</td>\n",
       "      <td>NaN</td>\n",
       "      <td>NaN</td>\n",
       "      <td>NaN</td>\n",
       "      <td>NaN</td>\n",
       "      <td>NaN</td>\n",
       "      <td>NaN</td>\n",
       "    </tr>\n",
       "    <tr>\n",
       "      <th>2</th>\n",
       "      <td>NaN</td>\n",
       "      <td>NaN</td>\n",
       "      <td>NaN</td>\n",
       "      <td>NaN</td>\n",
       "      <td>NaN</td>\n",
       "      <td>NaN</td>\n",
       "      <td>NaN</td>\n",
       "    </tr>\n",
       "    <tr>\n",
       "      <th>3</th>\n",
       "      <td>9094.242279</td>\n",
       "      <td>NaN</td>\n",
       "      <td>NaN</td>\n",
       "      <td>NaN</td>\n",
       "      <td>NaN</td>\n",
       "      <td>NaN</td>\n",
       "      <td>NaN</td>\n",
       "    </tr>\n",
       "    <tr>\n",
       "      <th>4</th>\n",
       "      <td>NaN</td>\n",
       "      <td>NaN</td>\n",
       "      <td>NaN</td>\n",
       "      <td>NaN</td>\n",
       "      <td>NaN</td>\n",
       "      <td>NaN</td>\n",
       "      <td>NaN</td>\n",
       "    </tr>\n",
       "    <tr>\n",
       "      <th>5</th>\n",
       "      <td>6646.073395</td>\n",
       "      <td>NaN</td>\n",
       "      <td>475.367405</td>\n",
       "      <td>72.852450</td>\n",
       "      <td>64.634083</td>\n",
       "      <td>NaN</td>\n",
       "      <td>140.907651</td>\n",
       "    </tr>\n",
       "    <tr>\n",
       "      <th>6</th>\n",
       "      <td>NaN</td>\n",
       "      <td>NaN</td>\n",
       "      <td>NaN</td>\n",
       "      <td>NaN</td>\n",
       "      <td>NaN</td>\n",
       "      <td>NaN</td>\n",
       "      <td>NaN</td>\n",
       "    </tr>\n",
       "    <tr>\n",
       "      <th>7</th>\n",
       "      <td>NaN</td>\n",
       "      <td>NaN</td>\n",
       "      <td>NaN</td>\n",
       "      <td>NaN</td>\n",
       "      <td>NaN</td>\n",
       "      <td>NaN</td>\n",
       "      <td>NaN</td>\n",
       "    </tr>\n",
       "    <tr>\n",
       "      <th>8</th>\n",
       "      <td>5786.475800</td>\n",
       "      <td>NaN</td>\n",
       "      <td>NaN</td>\n",
       "      <td>68.622983</td>\n",
       "      <td>26.604316</td>\n",
       "      <td>NaN</td>\n",
       "      <td>122.085066</td>\n",
       "    </tr>\n",
       "    <tr>\n",
       "      <th>9</th>\n",
       "      <td>6824.191986</td>\n",
       "      <td>NaN</td>\n",
       "      <td>NaN</td>\n",
       "      <td>91.237117</td>\n",
       "      <td>21.163800</td>\n",
       "      <td>NaN</td>\n",
       "      <td>115.548684</td>\n",
       "    </tr>\n",
       "    <tr>\n",
       "      <th>10</th>\n",
       "      <td>NaN</td>\n",
       "      <td>NaN</td>\n",
       "      <td>NaN</td>\n",
       "      <td>NaN</td>\n",
       "      <td>NaN</td>\n",
       "      <td>NaN</td>\n",
       "      <td>NaN</td>\n",
       "    </tr>\n",
       "    <tr>\n",
       "      <th>11</th>\n",
       "      <td>2206.979324</td>\n",
       "      <td>153.905780</td>\n",
       "      <td>438.956055</td>\n",
       "      <td>49.080900</td>\n",
       "      <td>158.722515</td>\n",
       "      <td>31.254449</td>\n",
       "      <td>NaN</td>\n",
       "    </tr>\n",
       "    <tr>\n",
       "      <th>12</th>\n",
       "      <td>NaN</td>\n",
       "      <td>NaN</td>\n",
       "      <td>NaN</td>\n",
       "      <td>NaN</td>\n",
       "      <td>NaN</td>\n",
       "      <td>NaN</td>\n",
       "      <td>NaN</td>\n",
       "    </tr>\n",
       "    <tr>\n",
       "      <th>13</th>\n",
       "      <td>NaN</td>\n",
       "      <td>NaN</td>\n",
       "      <td>NaN</td>\n",
       "      <td>NaN</td>\n",
       "      <td>NaN</td>\n",
       "      <td>NaN</td>\n",
       "      <td>NaN</td>\n",
       "    </tr>\n",
       "    <tr>\n",
       "      <th>14</th>\n",
       "      <td>NaN</td>\n",
       "      <td>NaN</td>\n",
       "      <td>NaN</td>\n",
       "      <td>NaN</td>\n",
       "      <td>NaN</td>\n",
       "      <td>NaN</td>\n",
       "      <td>NaN</td>\n",
       "    </tr>\n",
       "    <tr>\n",
       "      <th>15</th>\n",
       "      <td>2106.987518</td>\n",
       "      <td>66.861351</td>\n",
       "      <td>382.264240</td>\n",
       "      <td>92.924816</td>\n",
       "      <td>33.105216</td>\n",
       "      <td>NaN</td>\n",
       "      <td>NaN</td>\n",
       "    </tr>\n",
       "    <tr>\n",
       "      <th>16</th>\n",
       "      <td>NaN</td>\n",
       "      <td>NaN</td>\n",
       "      <td>NaN</td>\n",
       "      <td>NaN</td>\n",
       "      <td>NaN</td>\n",
       "      <td>NaN</td>\n",
       "      <td>NaN</td>\n",
       "    </tr>\n",
       "    <tr>\n",
       "      <th>17</th>\n",
       "      <td>NaN</td>\n",
       "      <td>NaN</td>\n",
       "      <td>NaN</td>\n",
       "      <td>NaN</td>\n",
       "      <td>NaN</td>\n",
       "      <td>NaN</td>\n",
       "      <td>NaN</td>\n",
       "    </tr>\n",
       "    <tr>\n",
       "      <th>18</th>\n",
       "      <td>NaN</td>\n",
       "      <td>NaN</td>\n",
       "      <td>NaN</td>\n",
       "      <td>NaN</td>\n",
       "      <td>NaN</td>\n",
       "      <td>NaN</td>\n",
       "      <td>NaN</td>\n",
       "    </tr>\n",
       "    <tr>\n",
       "      <th>19</th>\n",
       "      <td>2331.295273</td>\n",
       "      <td>68.301195</td>\n",
       "      <td>432.831030</td>\n",
       "      <td>126.248049</td>\n",
       "      <td>1.161850</td>\n",
       "      <td>NaN</td>\n",
       "      <td>15.121316</td>\n",
       "    </tr>\n",
       "    <tr>\n",
       "      <th>20</th>\n",
       "      <td>NaN</td>\n",
       "      <td>NaN</td>\n",
       "      <td>NaN</td>\n",
       "      <td>NaN</td>\n",
       "      <td>NaN</td>\n",
       "      <td>NaN</td>\n",
       "      <td>NaN</td>\n",
       "    </tr>\n",
       "    <tr>\n",
       "      <th>21</th>\n",
       "      <td>3188.663925</td>\n",
       "      <td>291.504322</td>\n",
       "      <td>461.897373</td>\n",
       "      <td>NaN</td>\n",
       "      <td>5.594217</td>\n",
       "      <td>38.680434</td>\n",
       "      <td>NaN</td>\n",
       "    </tr>\n",
       "    <tr>\n",
       "      <th>22</th>\n",
       "      <td>NaN</td>\n",
       "      <td>NaN</td>\n",
       "      <td>NaN</td>\n",
       "      <td>NaN</td>\n",
       "      <td>NaN</td>\n",
       "      <td>NaN</td>\n",
       "      <td>NaN</td>\n",
       "    </tr>\n",
       "    <tr>\n",
       "      <th>23</th>\n",
       "      <td>NaN</td>\n",
       "      <td>NaN</td>\n",
       "      <td>NaN</td>\n",
       "      <td>NaN</td>\n",
       "      <td>NaN</td>\n",
       "      <td>NaN</td>\n",
       "      <td>NaN</td>\n",
       "    </tr>\n",
       "    <tr>\n",
       "      <th>24</th>\n",
       "      <td>NaN</td>\n",
       "      <td>NaN</td>\n",
       "      <td>NaN</td>\n",
       "      <td>NaN</td>\n",
       "      <td>NaN</td>\n",
       "      <td>NaN</td>\n",
       "      <td>NaN</td>\n",
       "    </tr>\n",
       "    <tr>\n",
       "      <th>25</th>\n",
       "      <td>5748.704559</td>\n",
       "      <td>NaN</td>\n",
       "      <td>620.493114</td>\n",
       "      <td>71.549732</td>\n",
       "      <td>133.095948</td>\n",
       "      <td>NaN</td>\n",
       "      <td>NaN</td>\n",
       "    </tr>\n",
       "    <tr>\n",
       "      <th>26</th>\n",
       "      <td>NaN</td>\n",
       "      <td>NaN</td>\n",
       "      <td>NaN</td>\n",
       "      <td>NaN</td>\n",
       "      <td>NaN</td>\n",
       "      <td>NaN</td>\n",
       "      <td>NaN</td>\n",
       "    </tr>\n",
       "    <tr>\n",
       "      <th>27</th>\n",
       "      <td>NaN</td>\n",
       "      <td>NaN</td>\n",
       "      <td>NaN</td>\n",
       "      <td>NaN</td>\n",
       "      <td>NaN</td>\n",
       "      <td>NaN</td>\n",
       "      <td>NaN</td>\n",
       "    </tr>\n",
       "    <tr>\n",
       "      <th>28</th>\n",
       "      <td>NaN</td>\n",
       "      <td>NaN</td>\n",
       "      <td>NaN</td>\n",
       "      <td>NaN</td>\n",
       "      <td>NaN</td>\n",
       "      <td>NaN</td>\n",
       "      <td>NaN</td>\n",
       "    </tr>\n",
       "    <tr>\n",
       "      <th>29</th>\n",
       "      <td>NaN</td>\n",
       "      <td>NaN</td>\n",
       "      <td>NaN</td>\n",
       "      <td>NaN</td>\n",
       "      <td>NaN</td>\n",
       "      <td>NaN</td>\n",
       "      <td>NaN</td>\n",
       "    </tr>\n",
       "    <tr>\n",
       "      <th>30</th>\n",
       "      <td>2126.711899</td>\n",
       "      <td>136.372033</td>\n",
       "      <td>579.515636</td>\n",
       "      <td>73.063251</td>\n",
       "      <td>6.293967</td>\n",
       "      <td>NaN</td>\n",
       "      <td>65.369699</td>\n",
       "    </tr>\n",
       "    <tr>\n",
       "      <th>31</th>\n",
       "      <td>5317.522461</td>\n",
       "      <td>439.156110</td>\n",
       "      <td>430.967672</td>\n",
       "      <td>43.701401</td>\n",
       "      <td>27.017516</td>\n",
       "      <td>41.298816</td>\n",
       "      <td>NaN</td>\n",
       "    </tr>\n",
       "    <tr>\n",
       "      <th>32</th>\n",
       "      <td>NaN</td>\n",
       "      <td>NaN</td>\n",
       "      <td>NaN</td>\n",
       "      <td>NaN</td>\n",
       "      <td>NaN</td>\n",
       "      <td>NaN</td>\n",
       "      <td>NaN</td>\n",
       "    </tr>\n",
       "    <tr>\n",
       "      <th>33</th>\n",
       "      <td>2803.264191</td>\n",
       "      <td>432.053722</td>\n",
       "      <td>432.774553</td>\n",
       "      <td>26.360500</td>\n",
       "      <td>81.796418</td>\n",
       "      <td>35.394683</td>\n",
       "      <td>NaN</td>\n",
       "    </tr>\n",
       "    <tr>\n",
       "      <th>34</th>\n",
       "      <td>NaN</td>\n",
       "      <td>NaN</td>\n",
       "      <td>NaN</td>\n",
       "      <td>NaN</td>\n",
       "      <td>NaN</td>\n",
       "      <td>NaN</td>\n",
       "      <td>NaN</td>\n",
       "    </tr>\n",
       "    <tr>\n",
       "      <th>35</th>\n",
       "      <td>NaN</td>\n",
       "      <td>NaN</td>\n",
       "      <td>NaN</td>\n",
       "      <td>NaN</td>\n",
       "      <td>NaN</td>\n",
       "      <td>NaN</td>\n",
       "      <td>NaN</td>\n",
       "    </tr>\n",
       "    <tr>\n",
       "      <th>36</th>\n",
       "      <td>NaN</td>\n",
       "      <td>NaN</td>\n",
       "      <td>NaN</td>\n",
       "      <td>NaN</td>\n",
       "      <td>NaN</td>\n",
       "      <td>NaN</td>\n",
       "      <td>NaN</td>\n",
       "    </tr>\n",
       "    <tr>\n",
       "      <th>37</th>\n",
       "      <td>5282.951599</td>\n",
       "      <td>334.875144</td>\n",
       "      <td>505.840204</td>\n",
       "      <td>NaN</td>\n",
       "      <td>2.055033</td>\n",
       "      <td>41.709733</td>\n",
       "      <td>NaN</td>\n",
       "    </tr>\n",
       "    <tr>\n",
       "      <th>38</th>\n",
       "      <td>NaN</td>\n",
       "      <td>NaN</td>\n",
       "      <td>NaN</td>\n",
       "      <td>NaN</td>\n",
       "      <td>NaN</td>\n",
       "      <td>NaN</td>\n",
       "      <td>NaN</td>\n",
       "    </tr>\n",
       "  </tbody>\n",
       "</table>\n",
       "</div>"
      ],
      "text/plain": [
       "      aggregate        hvac      fridge          mw          dw         wm  \\\n",
       "0           NaN         NaN         NaN         NaN         NaN        NaN   \n",
       "1           NaN         NaN         NaN         NaN         NaN        NaN   \n",
       "2           NaN         NaN         NaN         NaN         NaN        NaN   \n",
       "3   9094.242279         NaN         NaN         NaN         NaN        NaN   \n",
       "4           NaN         NaN         NaN         NaN         NaN        NaN   \n",
       "5   6646.073395         NaN  475.367405   72.852450   64.634083        NaN   \n",
       "6           NaN         NaN         NaN         NaN         NaN        NaN   \n",
       "7           NaN         NaN         NaN         NaN         NaN        NaN   \n",
       "8   5786.475800         NaN         NaN   68.622983   26.604316        NaN   \n",
       "9   6824.191986         NaN         NaN   91.237117   21.163800        NaN   \n",
       "10          NaN         NaN         NaN         NaN         NaN        NaN   \n",
       "11  2206.979324  153.905780  438.956055   49.080900  158.722515  31.254449   \n",
       "12          NaN         NaN         NaN         NaN         NaN        NaN   \n",
       "13          NaN         NaN         NaN         NaN         NaN        NaN   \n",
       "14          NaN         NaN         NaN         NaN         NaN        NaN   \n",
       "15  2106.987518   66.861351  382.264240   92.924816   33.105216        NaN   \n",
       "16          NaN         NaN         NaN         NaN         NaN        NaN   \n",
       "17          NaN         NaN         NaN         NaN         NaN        NaN   \n",
       "18          NaN         NaN         NaN         NaN         NaN        NaN   \n",
       "19  2331.295273   68.301195  432.831030  126.248049    1.161850        NaN   \n",
       "20          NaN         NaN         NaN         NaN         NaN        NaN   \n",
       "21  3188.663925  291.504322  461.897373         NaN    5.594217  38.680434   \n",
       "22          NaN         NaN         NaN         NaN         NaN        NaN   \n",
       "23          NaN         NaN         NaN         NaN         NaN        NaN   \n",
       "24          NaN         NaN         NaN         NaN         NaN        NaN   \n",
       "25  5748.704559         NaN  620.493114   71.549732  133.095948        NaN   \n",
       "26          NaN         NaN         NaN         NaN         NaN        NaN   \n",
       "27          NaN         NaN         NaN         NaN         NaN        NaN   \n",
       "28          NaN         NaN         NaN         NaN         NaN        NaN   \n",
       "29          NaN         NaN         NaN         NaN         NaN        NaN   \n",
       "30  2126.711899  136.372033  579.515636   73.063251    6.293967        NaN   \n",
       "31  5317.522461  439.156110  430.967672   43.701401   27.017516  41.298816   \n",
       "32          NaN         NaN         NaN         NaN         NaN        NaN   \n",
       "33  2803.264191  432.053722  432.774553   26.360500   81.796418  35.394683   \n",
       "34          NaN         NaN         NaN         NaN         NaN        NaN   \n",
       "35          NaN         NaN         NaN         NaN         NaN        NaN   \n",
       "36          NaN         NaN         NaN         NaN         NaN        NaN   \n",
       "37  5282.951599  334.875144  505.840204         NaN    2.055033  41.709733   \n",
       "38          NaN         NaN         NaN         NaN         NaN        NaN   \n",
       "\n",
       "          oven  \n",
       "0          NaN  \n",
       "1          NaN  \n",
       "2          NaN  \n",
       "3          NaN  \n",
       "4          NaN  \n",
       "5   140.907651  \n",
       "6          NaN  \n",
       "7          NaN  \n",
       "8   122.085066  \n",
       "9   115.548684  \n",
       "10         NaN  \n",
       "11         NaN  \n",
       "12         NaN  \n",
       "13         NaN  \n",
       "14         NaN  \n",
       "15         NaN  \n",
       "16         NaN  \n",
       "17         NaN  \n",
       "18         NaN  \n",
       "19   15.121316  \n",
       "20         NaN  \n",
       "21         NaN  \n",
       "22         NaN  \n",
       "23         NaN  \n",
       "24         NaN  \n",
       "25         NaN  \n",
       "26         NaN  \n",
       "27         NaN  \n",
       "28         NaN  \n",
       "29         NaN  \n",
       "30   65.369699  \n",
       "31         NaN  \n",
       "32         NaN  \n",
       "33         NaN  \n",
       "34         NaN  \n",
       "35         NaN  \n",
       "36         NaN  \n",
       "37         NaN  \n",
       "38         NaN  "
      ]
     },
     "execution_count": 194,
     "metadata": {},
     "output_type": "execute_result"
    }
   ],
   "source": [
    "pd.DataFrame(np.sum(tensor, axis=2), columns=APPLIANCES_ORDER)"
   ]
  },
  {
   "cell_type": "code",
   "execution_count": 195,
   "metadata": {},
   "outputs": [
    {
     "data": {
      "text/plain": [
       "<matplotlib.text.Text at 0x12237a490>"
      ]
     },
     "execution_count": 195,
     "metadata": {},
     "output_type": "execute_result"
    },
    {
     "data": {
      "image/png": "[encoded data removed]",
      "text/plain": [
       "<matplotlib.figure.Figure at 0x12237a850>"
      ]
     },
     "metadata": {},
     "output_type": "display_data"
    }
   ],
   "source": [
    "fig, ax = plt.subplots(nrows=2, ncols=3, figsize=(9, 6))\n",
    "\n",
    "tensors= {'SD':sd_tensor, 'AU':au_tensor}\n",
    "for row, region in enumerate(['SD','AU']):\n",
    "    data_region = np.sum(tensors[region], axis=2)\n",
    "\n",
    "    weights_region = np.ones_like(data_region)\n",
    "    weights_region[np.isnan(data_region)] = 0\n",
    "    for col, n_components in enumerate([1, 2, 3]):\n",
    "        pca_2 = WPCA(n_components=n_components).fit(data_region, weights=weights_region)\n",
    "        pd.DataFrame(pca_2.components_, columns=[x[:2] for x in APPLIANCES_ORDER]).T.plot(kind='bar', rot=0, ax=ax[row, col])\n",
    "    ax[row, 0].set_ylabel(region)\n",
    "plt.suptitle(\"Home basis when season component summed out\")"
   ]
  },
  {
   "cell_type": "code",
   "execution_count": 199,
   "metadata": {},
   "outputs": [
    {
     "data": {
      "text/plain": [
       "<matplotlib.text.Text at 0x122d8d4d0>"
      ]
     },
     "execution_count": 199,
     "metadata": {},
     "output_type": "execute_result"
    },
    {
     "data": {
      "image/png": "[encoded data removed]",
      "text/plain": [
       "<matplotlib.figure.Figure at 0x122d8d550>"
      ]
     },
     "metadata": {},
     "output_type": "display_data"
    }
   ],
   "source": [
    "fig, ax = plt.subplots(nrows=2, ncols=3, figsize=(9, 6))\n",
    "\n",
    "tensors= {'SD':sd_tensor, 'AU':au_tensor}\n",
    "for row, region in enumerate(['SD','AU']):\n",
    "    data_region = tensors[region][:,:,7]\n",
    "\n",
    "    weights_region = np.ones_like(data_region)\n",
    "    weights_region[np.isnan(data_region)] = 0\n",
    "    for col, n_components in enumerate([1, 2, 3]):\n",
    "        pca_2 = WPCA(n_components=n_components).fit(data_region, weights=weights_region)\n",
    "        pd.DataFrame(pca_2.components_, columns=[x[:2] for x in APPLIANCES_ORDER]).T.plot(kind='bar', rot=0, ax=ax[row, col])\n",
    "    ax[row, 0].set_ylabel(region)\n",
    "plt.suptitle(\"Home basis for month #7\")"
   ]
  },
  {
   "cell_type": "code",
   "execution_count": 198,
   "metadata": {},
   "outputs": [
    {
     "data": {
      "text/plain": [
       "<matplotlib.text.Text at 0x1218a80d0>"
      ]
     },
     "execution_count": 198,
     "metadata": {},
     "output_type": "execute_result"
    },
    {
     "data": {
      "image/png": "[encoded data removed]",
      "text/plain": [
       "<matplotlib.figure.Figure at 0x1218a8510>"
      ]
     },
     "metadata": {},
     "output_type": "display_data"
    }
   ],
   "source": [
    "fig, ax = plt.subplots(nrows=2, ncols=3, figsize=(9, 6))\n",
    "\n",
    "tensors= {'SD':sd_tensor, 'AU':au_tensor}\n",
    "for row, region in enumerate(['SD','AU']):\n",
    "    data_region = tensors[region][:,:,3]\n",
    "\n",
    "    weights_region = np.ones_like(data_region)\n",
    "    weights_region[np.isnan(data_region)] = 0\n",
    "    for col, n_components in enumerate([1, 2, 3]):\n",
    "        pca_2 = WPCA(n_components=n_components).fit(data_region, weights=weights_region)\n",
    "        pd.DataFrame(pca_2.components_, columns=[x[:2] for x in APPLIANCES_ORDER]).T.plot(kind='bar', rot=0, ax=ax[row, col])\n",
    "    ax[row, 0].set_ylabel(region)\n",
    "plt.suptitle(\"Home basis for month #3\")"
   ]
  },
  {
   "cell_type": "markdown",
   "metadata": {},
   "source": [
    "### Learning"
   ]
  },
  {
   "cell_type": "code",
   "execution_count": 83,
   "metadata": {},
   "outputs": [
    {
     "data": {
      "text/plain": [
       "<matplotlib.axes._subplots.AxesSubplot at 0x1158fc750>"
      ]
     },
     "execution_count": 83,
     "metadata": {},
     "output_type": "execute_result"
    },
    {
     "data": {
      "image/png": "[encoded data removed]",
      "text/plain": [
       "<matplotlib.figure.Figure at 0x114f0b590>"
      ]
     },
     "metadata": {},
     "output_type": "display_data"
    }
   ],
   "source": [
    "pd.DataFrame(T).plot()"
   ]
  },
  {
   "cell_type": "code",
   "execution_count": 34,
   "metadata": {},
   "outputs": [
    {
     "data": {
      "text/plain": [
       "0.99999999999999989"
      ]
     },
     "execution_count": 34,
     "metadata": {},
     "output_type": "execute_result"
    }
   ],
   "source": [
    "A[5].sum()"
   ]
  },
  {
   "cell_type": "code",
   "execution_count": 39,
   "metadata": {},
   "outputs": [
    {
     "name": "stdout",
     "output_type": "stream",
     "text": [
      "1\n",
      "(216.80763817166198, 0.10000000000000001, 0, 28)\n",
      "(36.815726277503408, 0.097530930243951111, 500, 25)\n",
      "(31.804801440211808, 0.095122823542504578, 1000, 25)\n",
      "(31.505838167832273, 0.092774174675316845, 1500, 26)\n",
      "(31.395690312624538, 0.090483515586984642, 2000, 25)\n",
      "(31.260073405787359, 0.088249414469416615, 2500, 25)\n",
      "(31.105906360416796, 0.086070474866862021, 3000, 26)\n",
      "(31.064670808249854, 0.083945334803036675, 3500, 25)\n"
     ]
    },
    {
     "data": {
      "text/plain": [
       "<matplotlib.axes._subplots.AxesSubplot at 0x11cd1ef10>"
      ]
     },
     "execution_count": 39,
     "metadata": {},
     "output_type": "execute_result"
    },
    {
     "data": {
      "image/png": "[encoded data removed]",
      "text/plain": [
       "<matplotlib.figure.Figure at 0x11cc69650>"
      ]
     },
     "metadata": {},
     "output_type": "display_data"
    },
    {
     "data": {
      "image/png": "[encoded data removed]",
      "text/plain": [
       "<matplotlib.figure.Figure at 0x11cc69cd0>"
      ]
     },
     "metadata": {},
     "output_type": "display_data"
    }
   ],
   "source": [
    "H1, A1, T1 = learn_HAT_new(case, tensor, 2, 2, dis=True, lr=0.1, num_iter=4000, decay_mul=0.99995, lam=1, H_known=None)\n",
    "pd.DataFrame(H1).plot()\n",
    "pd.DataFrame(T1).plot()"
   ]
  },
  {
   "cell_type": "code",
   "execution_count": 64,
   "metadata": {},
   "outputs": [
    {
     "data": {
      "text/plain": [
       "<matplotlib.axes._subplots.AxesSubplot at 0x11d9ba810>"
      ]
     },
     "execution_count": 64,
     "metadata": {},
     "output_type": "execute_result"
    },
    {
     "data": {
      "image/png": "[encoded data removed]",
      "text/plain": [
       "<matplotlib.figure.Figure at 0x11d9a5bd0>"
      ]
     },
     "metadata": {},
     "output_type": "display_data"
    }
   ],
   "source": [
    "HAT = multiply_case(H1, A1, T1, 2)\n",
    "pd.DataFrame(HAT[:, 6, :]).mean().plot()"
   ]
  },
  {
   "cell_type": "code",
   "execution_count": 23,
   "metadata": {},
   "outputs": [
    {
     "name": "stdout",
     "output_type": "stream",
     "text": [
      "1\n",
      "(211.36775712066967, 0.10000000000000001, 0, 700)\n",
      "(27.585785060843108, 0.097530930243951111, 500, 419)\n",
      "(22.248142977658269, 0.095122823542504578, 1000, 400)\n",
      "(15.420727193069766, 0.092774174675316845, 1500, 367)\n",
      "(14.340401031583999, 0.090483515586984642, 2000, 568)\n",
      "(13.701735636551732, 0.088249414469416615, 2500, 578)\n",
      "(13.212731498111486, 0.086070474866862021, 3000, 585)\n",
      "(12.828608555053787, 0.083945334803036675, 3500, 590)\n"
     ]
    }
   ],
   "source": [
    "H1, A1, T1 = learn_HAT_new(case, tensor, 10, 10, dis=True, lr=0.1, num_iter=4000, decay_mul=0.99995, lam=1)"
   ]
  },
  {
   "cell_type": "code",
   "execution_count": 22,
   "metadata": {},
   "outputs": [
    {
     "name": "stdout",
     "output_type": "stream",
     "text": [
      "(210.87346344509365, 0.10000000000000001, 0, 700)\n",
      "(26.876927029533967, 0.097530930243951111, 500, 388)\n",
      "(21.395666967026301, 0.095122823542504578, 1000, 362)\n",
      "(14.559229720415686, 0.092774174675316845, 1500, 346)\n"
     ]
    }
   ],
   "source": [
    "H1, A1, T1 = learn_HAT_old(case, tensor, 10, 10, dis=True, lr=0.1, num_iter=2000, decay_mul=0.99995)"
   ]
  },
  {
   "cell_type": "code",
   "execution_count": 205,
   "metadata": {},
   "outputs": [
    {
     "name": "stdout",
     "output_type": "stream",
     "text": [
      "0.01\n",
      "(210.87840779584073, 0.10000000000000001, 0, 700)\n",
      "(29.112409949931777, 0.060637894486118477, 500, 411)\n",
      "(25.868699682243154, 0.036769542477096372, 1000, 369)\n",
      "(25.065140512433988, 0.022296276370290212, 1500, 368)\n",
      "(24.097826252832199, 0.013519992539749946, 2000, 379)\n",
      "(23.083296218205199, 0.0081982388107846599, 2500, 371)\n",
      "(22.19954384038402, 0.0049712393998036161, 3000, 368)\n",
      "(21.582297591312017, 0.0030144549019052664, 3500, 363)\n",
      "(21.184205367361375, 0.0018279019827489415, 4000, 363)\n",
      "(20.938107091184342, 0.0011084012756089705, 4500, 363)\n"
     ]
    }
   ],
   "source": [
    "H2, A2, T2 = learn_HAT_new(case, tensor, 10, 10, dis=True, lr=0.1, num_iter=5000, decay_mul=0.999, lam=0.01)"
   ]
  },
  {
   "cell_type": "code",
   "execution_count": 206,
   "metadata": {},
   "outputs": [
    {
     "name": "stdout",
     "output_type": "stream",
     "text": [
      "0.0\n",
      "(208.43776626939658, 1.0, 0, 699)\n",
      "(34.04816640822493, 0.60637894486118471, 500, 700)\n",
      "(22.544674353625322, 0.36769542477096373, 1000, 695)\n",
      "(16.455453491879311, 0.22296276370290211, 1500, 698)\n",
      "(15.638065739866798, 0.13519992539749945, 2000, 652)\n",
      "(11.616154964271125, 0.081982388107846596, 2500, 569)\n",
      "(8.0455080189338908, 0.049712393998036161, 3000, 331)\n",
      "(7.9539584372575858, 0.030144549019052662, 3500, 328)\n",
      "(7.9070861309352578, 0.018279019827489414, 4000, 327)\n",
      "(7.8805781082691455, 0.011084012756089705, 4500, 326)\n"
     ]
    }
   ],
   "source": [
    "H2, A2, T2 = learn_HAT_new(case, tensor, 10, 10, dis=True, lr=1, num_iter=5000, decay_mul=0.999, lam=0.0)"
   ]
  },
  {
   "cell_type": "code",
   "execution_count": 207,
   "metadata": {},
   "outputs": [
    {
     "name": "stdout",
     "output_type": "stream",
     "text": [
      "1e-05\n",
      "(208.43777152618921, 1.0, 0, 699)\n",
      "(34.267204672385922, 0.60637894486118471, 500, 700)\n",
      "(69.488289822414998, 0.36769542477096373, 1000, 306)\n",
      "(40.139608476129908, 0.22296276370290211, 1500, 321)\n",
      "(22.122356422039715, 0.13519992539749945, 2000, 323)\n",
      "(12.10322317757363, 0.081982388107846596, 2500, 325)\n",
      "(8.3258463124830051, 0.049712393998036161, 3000, 332)\n",
      "(8.2667623113825091, 0.030144549019052662, 3500, 326)\n",
      "(8.2339985155083735, 0.018279019827489414, 4000, 325)\n",
      "(8.2148480987047385, 0.011084012756089705, 4500, 325)\n"
     ]
    }
   ],
   "source": [
    "H2, A2, T2 = learn_HAT_new(case, tensor, 10, 10, dis=True, lr=1, num_iter=5000, decay_mul=0.999, lam=0.00001)"
   ]
  },
  {
   "cell_type": "code",
   "execution_count": 209,
   "metadata": {},
   "outputs": [
    {
     "name": "stdout",
     "output_type": "stream",
     "text": [
      "(208.43776626939658, 1.0, 0, 699)\n",
      "(34.04816640822493, 0.60637894486118471, 500, 700)\n",
      "(22.544674353625322, 0.36769542477096373, 1000, 695)\n",
      "(16.455453491879311, 0.22296276370290211, 1500, 698)\n",
      "(15.638065739866798, 0.13519992539749945, 2000, 652)\n",
      "(11.616154964271125, 0.081982388107846596, 2500, 569)\n",
      "(8.0455080189338908, 0.049712393998036161, 3000, 331)\n",
      "(7.9539584372575858, 0.030144549019052662, 3500, 328)\n",
      "(7.9070861309352578, 0.018279019827489414, 4000, 327)\n",
      "(7.8805781082691455, 0.011084012756089705, 4500, 326)\n"
     ]
    }
   ],
   "source": [
    "H2, A2, T2 = learn_HAT(case, tensor, 10, 10, dis=True, lr=1, num_iter=5000, decay_mul=0.999)"
   ]
  },
  {
   "cell_type": "code",
   "execution_count": 208,
   "metadata": {},
   "outputs": [
    {
     "data": {
      "text/plain": [
       "<matplotlib.axes._subplots.AxesSubplot at 0x12352b2d0>"
      ]
     },
     "execution_count": 208,
     "metadata": {},
     "output_type": "execute_result"
    },
    {
     "data": {
      "image/png": "[encoded data removed]",
      "text/plain": [
       "<matplotlib.figure.Figure at 0x123533390>"
      ]
     },
     "metadata": {},
     "output_type": "display_data"
    }
   ],
   "source": [
    "sns.heatmap(A[5])"
   ]
  },
  {
   "cell_type": "code",
   "execution_count": 149,
   "metadata": {},
   "outputs": [
    {
     "data": {
      "text/plain": [
       "<matplotlib.axes._subplots.AxesSubplot at 0x122dc9f90>"
      ]
     },
     "execution_count": 149,
     "metadata": {},
     "output_type": "execute_result"
    },
    {
     "data": {
      "image/png": "[encoded data removed]",
      "text/plain": [
       "<matplotlib.figure.Figure at 0x1229ee150>"
      ]
     },
     "metadata": {},
     "output_type": "display_data"
    }
   ],
   "source": [
    "import seaborn as sns\n",
    "sns.heatmap(A[5])"
   ]
  },
  {
   "cell_type": "code",
   "execution_count": 143,
   "metadata": {},
   "outputs": [
    {
     "data": {
      "text/plain": [
       "<matplotlib.image.AxesImage at 0x1221c71d0>"
      ]
     },
     "execution_count": 143,
     "metadata": {},
     "output_type": "execute_result"
    },
    {
     "data": {
      "image/png": "[encoded data removed]",
      "text/plain": [
       "<matplotlib.figure.Figure at 0x121fb1290>"
      ]
     },
     "metadata": {},
     "output_type": "display_data"
    }
   ],
   "source": [
    "plt.imshow(A[3])"
   ]
  },
  {
   "cell_type": "code",
   "execution_count": 135,
   "metadata": {},
   "outputs": [
    {
     "data": {
      "text/plain": [
       "(39, 7, 12)"
      ]
     },
     "execution_count": 135,
     "metadata": {},
     "output_type": "execute_result"
    }
   ],
   "source": [
    "HAT.shape"
   ]
  },
  {
   "cell_type": "code",
   "execution_count": 136,
   "metadata": {},
   "outputs": [
    {
     "data": {
      "text/plain": [
       "<matplotlib.axes._subplots.AxesSubplot at 0x121b01950>"
      ]
     },
     "execution_count": 136,
     "metadata": {},
     "output_type": "execute_result"
    },
    {
     "data": {
      "image/png": "[encoded data removed]",
      "text/plain": [
       "<matplotlib.figure.Figure at 0x121bd1a10>"
      ]
     },
     "metadata": {},
     "output_type": "display_data"
    }
   ],
   "source": [
    "HAT = multiply_case(H, A, T, case)\n",
    "pd.DataFrame(HAT[:, 0, :]).mean().plot()"
   ]
  },
  {
   "cell_type": "code",
   "execution_count": 20,
   "metadata": {},
   "outputs": [
    {
     "name": "stdout",
     "output_type": "stream",
     "text": [
      "('adagrad', 2, 0, 10)\n",
      "('adagrad', 2, 0, 50)\n",
      "('adagrad', 2, 0, 90)\n",
      "('adagrad', 2, 1, 10)\n",
      "('adagrad', 2, 1, 50)\n",
      "('adagrad', 2, 1, 90)\n",
      "('adagrad', 2, 2, 10)\n",
      "('adagrad', 2, 2, 50)\n",
      "('adagrad', 2, 2, 90)\n",
      "('adagrad', 2, 3, 10)\n",
      "('adagrad', 2, 3, 50)\n",
      "('adagrad', 2, 3, 90)\n"
     ]
    }
   ],
   "source": [
    "pred = {}\n",
    "sd = {}\n",
    "out = {}\n",
    "n_splits = 10\n",
    "NUM_RANDOM = 4\n",
    "TRAIN_SPLITS = range(10, 110, 40)\n",
    "case = 2\n",
    "\n",
    "cost = 'abs'\n",
    "for algo in ['adagrad']:\n",
    "    np.random.seed(0)\n",
    "    pred[algo] = {}\n",
    "    for a in range(2, 3):\n",
    "       \n",
    "        pred[algo][a] = {}\n",
    "        for random_seed in range(NUM_RANDOM):\n",
    "            pred[algo][a][random_seed] = {}\n",
    "            for appliance in APPLIANCES_ORDER:\n",
    "                pred[algo][a][random_seed][appliance] = {f:[] for f in TRAIN_SPLITS}\n",
    "\n",
    "        kf = KFold(n_splits=n_splits)\n",
    "        for random_seed in range(NUM_RANDOM):\n",
    "\n",
    "            for train_percentage in TRAIN_SPLITS:\n",
    "                print(algo, a, random_seed,train_percentage)\n",
    "                for train_max, test in kf.split(df):\n",
    "\n",
    "                    num_train = int((train_percentage*len(train_max)/100)+0.5)\n",
    "                    if train_percentage==100:\n",
    "                        train = train_max\n",
    "                    else:\n",
    "                        train, _ = train_test_split(train_max, train_size = train_percentage/100.0, random_state=random_seed)\n",
    "                    train_ix = df.index[train]\n",
    "                    test_ix = df.index[test]\n",
    "\n",
    "                    num_test = len(test_ix)\n",
    "                    train_test_ix = np.concatenate([test_ix, train_ix])\n",
    "                    df_t, dfc_t = df.ix[train_test_ix], dfc.ix[train_test_ix]\n",
    "                    agg_tensor = get_tensor_appliance(df_t, dfc_t, \"aggregate\")\n",
    "                    agg_tensor_copy = agg_tensor.copy()\n",
    "                    H, A_agg, T = learn_HAT_adagrad(case, agg_tensor, a, a, num_iter=1000, lr=1, dis=False, cost_function=cost)\n",
    "                    A_appliances = {}\n",
    "                    for appliance in APPLIANCES_ORDER[1:]:\n",
    "                        tensor = get_tensor_appliance(df_t, dfc_t, appliance)\n",
    "                        tensor_copy = tensor.copy()\n",
    "                        tensor_copy[:num_test, :, :] = np.NaN\n",
    "                        H, A_appliances[appliance], T = learn_HAT_adagrad(case, tensor, a, a, num_iter=1000, lr=1, dis=False,\n",
    "                                              cost_function=cost, H_known=H, T_known=T)\n",
    "    \n",
    "                        HAT = multiply_case(H, A_appliances[appliance], T, case)\n",
    "                        pred[algo][a][random_seed][appliance][train_percentage].append(pd.DataFrame(HAT[:num_test, 0, :], index=test_ix))\n"
   ]
  },
  {
   "cell_type": "code",
   "execution_count": 37,
   "metadata": {},
   "outputs": [
    {
     "data": {
      "text/plain": [
       "array([[[ 2.0197186 ,  0.        ],\n",
       "        [ 0.12432689,  0.        ]]])"
      ]
     },
     "execution_count": 37,
     "metadata": {},
     "output_type": "execute_result"
    }
   ],
   "source": [
    "A_appliances['fridge']"
   ]
  },
  {
   "cell_type": "code",
   "execution_count": 40,
   "metadata": {},
   "outputs": [
    {
     "data": {
      "text/plain": [
       "<matplotlib.axes._subplots.AxesSubplot at 0x10f0c5950>"
      ]
     },
     "execution_count": 40,
     "metadata": {},
     "output_type": "execute_result"
    },
    {
     "data": {
      "image/png": "[encoded data removed]",
      "text/plain": [
       "<matplotlib.figure.Figure at 0x10f126490>"
      ]
     },
     "metadata": {},
     "output_type": "display_data"
    }
   ],
   "source": [
    "pd.DataFrame(T).plot()"
   ]
  },
  {
   "cell_type": "code",
   "execution_count": 25,
   "metadata": {},
   "outputs": [
    {
     "name": "stderr",
     "output_type": "stream",
     "text": [
      "/Users/nipunbatra/anaconda2/lib/python2.7/site-packages/ipykernel_launcher.py:13: DeprecationWarning: \n",
      ".ix is deprecated. Please use\n",
      ".loc for label based indexing or\n",
      ".iloc for positional indexing\n",
      "\n",
      "See the documentation here:\n",
      "http://pandas.pydata.org/pandas-docs/stable/indexing.html#deprecate_ix\n",
      "  del sys.path[0]\n"
     ]
    }
   ],
   "source": [
    "from common import compute_rmse_fraction\n",
    "out = {}\n",
    "for algo in ['adagrad']:\n",
    "    out[algo] = {}\n",
    "    for a in range(2, 3):\n",
    "        out[algo][a] = {}\n",
    "        for random_seed in range(NUM_RANDOM):\n",
    "            out[algo][a][random_seed] = {}\n",
    "\n",
    "            for appliance in APPLIANCES_ORDER[1:]:\n",
    "                out[algo][a][random_seed][appliance] = {}\n",
    "                for f in TRAIN_SPLITS:\n",
    "                    s = pd.concat(pred[algo][a][random_seed][appliance][f]).ix[df.index]\n",
    "                    if appliance==\"hvac\":\n",
    "                            out[algo][a][random_seed][appliance][f] = compute_rmse_fraction(appliance,s[range(4, 10)],'SanDiego')[2]\n",
    "                    else:   \n",
    "                        out[algo][a][random_seed][appliance][f] = compute_rmse_fraction(appliance, s,'SanDiego')[2]\n",
    "\n",
    "    "
   ]
  },
  {
   "cell_type": "code",
   "execution_count": 32,
   "metadata": {},
   "outputs": [
    {
     "data": {
      "text/html": [
       "<div>\n",
       "<style>\n",
       "    .dataframe thead tr:only-child th {\n",
       "        text-align: right;\n",
       "    }\n",
       "\n",
       "    .dataframe thead th {\n",
       "        text-align: left;\n",
       "    }\n",
       "\n",
       "    .dataframe tbody tr th {\n",
       "        vertical-align: top;\n",
       "    }\n",
       "</style>\n",
       "<table border=\"1\" class=\"dataframe\">\n",
       "  <thead>\n",
       "    <tr style=\"text-align: right;\">\n",
       "      <th></th>\n",
       "      <th>dw</th>\n",
       "      <th>fridge</th>\n",
       "      <th>hvac</th>\n",
       "      <th>mw</th>\n",
       "      <th>oven</th>\n",
       "      <th>wm</th>\n",
       "    </tr>\n",
       "  </thead>\n",
       "  <tbody>\n",
       "    <tr>\n",
       "      <th>10</th>\n",
       "      <td>1.810467</td>\n",
       "      <td>6.334669</td>\n",
       "      <td>16.248818</td>\n",
       "      <td>1.737886</td>\n",
       "      <td>2.083915</td>\n",
       "      <td>0.556813</td>\n",
       "    </tr>\n",
       "    <tr>\n",
       "      <th>50</th>\n",
       "      <td>1.825415</td>\n",
       "      <td>7.305924</td>\n",
       "      <td>17.177552</td>\n",
       "      <td>1.801521</td>\n",
       "      <td>2.109104</td>\n",
       "      <td>0.599455</td>\n",
       "    </tr>\n",
       "    <tr>\n",
       "      <th>90</th>\n",
       "      <td>1.851658</td>\n",
       "      <td>7.821781</td>\n",
       "      <td>19.284749</td>\n",
       "      <td>1.859911</td>\n",
       "      <td>2.186930</td>\n",
       "      <td>0.707624</td>\n",
       "    </tr>\n",
       "  </tbody>\n",
       "</table>\n",
       "</div>"
      ],
      "text/plain": [
       "          dw    fridge       hvac        mw      oven        wm\n",
       "10  1.810467  6.334669  16.248818  1.737886  2.083915  0.556813\n",
       "50  1.825415  7.305924  17.177552  1.801521  2.109104  0.599455\n",
       "90  1.851658  7.821781  19.284749  1.859911  2.186930  0.707624"
      ]
     },
     "execution_count": 32,
     "metadata": {},
     "output_type": "execute_result"
    }
   ],
   "source": [
    "pd.Panel(out['adagrad'][2]).mean(axis=0)"
   ]
  },
  {
   "cell_type": "code",
   "execution_count": null,
   "metadata": {
    "collapsed": true
   },
   "outputs": [],
   "source": []
  }
 ],
 "metadata": {
  "kernelspec": {
   "display_name": "Python 2",
   "language": "python",
   "name": "python2"
  },
  "language_info": {
   "codemirror_mode": {
    "name": "ipython",
    "version": 2
   },
   "file_extension": ".py",
   "mimetype": "text/x-python",
   "name": "python",
   "nbconvert_exporter": "python",
   "pygments_lexer": "ipython2",
   "version": "2.7.13"
  }
 },
 "nbformat": 4,
 "nbformat_minor": 2
}
