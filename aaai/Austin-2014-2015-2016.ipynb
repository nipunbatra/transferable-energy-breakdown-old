{
 "cells": [
  {
   "cell_type": "code",
   "execution_count": 1,
   "metadata": {
    "collapsed": true
   },
   "outputs": [],
   "source": [
    "from create_matrix import *\n",
    "\n",
    "from tensor_custom_core import *\n",
    "from create_matrix import *\n",
    "from tensor_custom_core import *\n",
    "from degree_days import dds\n",
    "appliance_index = {appliance: APPLIANCES_ORDER.index(appliance) for appliance in APPLIANCES_ORDER}\n",
    "\n",
    "APPLIANCES = ['fridge', 'hvac', 'wm', 'mw', 'oven', 'dw']\n",
    "region = \"Austin\"\n",
    "\n",
    "import os\n",
    "\n",
    "\n",
    "def un_normalize(x, maximum, minimum):\n",
    "    return (maximum - minimum) * x + minimum"
   ]
  },
  {
   "cell_type": "code",
   "execution_count": 24,
   "metadata": {},
   "outputs": [
    {
     "data": {
      "text/plain": [
       "Int64Index([  22,   26,   59,   68,   77,   86,   93,   94,  101,  114,\n",
       "            ...\n",
       "            9932, 9933, 9935, 9937, 9938, 9939, 9942, 9971, 9981, 9982],\n",
       "           dtype='int64', length=468)"
      ]
     },
     "execution_count": 24,
     "metadata": {},
     "output_type": "execute_result"
    }
   ],
   "source": [
    "region = 'Austin'\n",
    "df_dict = {}\n",
    "dfc_dict = {}\n",
    "m = {}\n",
    "d= {}\n",
    "# Finding common homes\n",
    "for year in [2014, 2015]:\n",
    "    df_dict[year], dfc_dict[year] = create_matrix_single_region(region, year)\n",
    "common_homes = df_dict[2014].index.intersection(df_dict[2015].index)\n",
    "common_homes"
   ]
  },
  {
   "cell_type": "code",
   "execution_count": 27,
   "metadata": {},
   "outputs": [],
   "source": [
    "for year in [2014, 2015]:\n",
    "    mean_df = df_dict[year].ix[common_homes][['aggregate_%d' %month for month in range(1, 13)]].mean()\n",
    "    mean_df.index = range(1, 13)\n",
    "    m[year] = mean_df\n",
    "    dd = pd.Series(dds[year][region], index=range(1, 13))\n",
    "    d[year] = dd\n",
    "    "
   ]
  },
  {
   "cell_type": "code",
   "execution_count": 47,
   "metadata": {},
   "outputs": [
    {
     "data": {
      "text/plain": [
       "<matplotlib.text.Text at 0x112f3b4d0>"
      ]
     },
     "execution_count": 47,
     "metadata": {},
     "output_type": "execute_result"
    },
    {
     "data": {
      "image/png": "[encoded data removed]",
      "text/plain": [
       "<matplotlib.figure.Figure at 0x112dabf50>"
      ]
     },
     "metadata": {},
     "output_type": "display_data"
    }
   ],
   "source": [
    "from plot_functions import *\n",
    "fig, ax = plt.subplots(nrows=2, sharex=True)\n",
    "pd.DataFrame(d).plot(ax=ax[0], color=tableau20blind[::2], linewidth=1.4)\n",
    "pd.DataFrame(m).plot(ax=ax[1], color=tableau20blind[::2], linewidth=1.4)\n",
    "format_axes(ax[0])\n",
    "format_axes(ax[1])\n",
    "ax[1].set_xlabel(\"Month\")\n",
    "ax[1].set_ylabel(\"Energy\")\n",
    "ax[0].set_ylim((0, 1.1))\n",
    "\n",
    "ax[0].set_ylabel(\"Normalised \\n degree days\")"
   ]
  },
  {
   "cell_type": "code",
   "execution_count": 33,
   "metadata": {},
   "outputs": [
    {
     "data": {
      "text/html": [
       "<div>\n",
       "<table border=\"1\" class=\"dataframe\">\n",
       "  <thead>\n",
       "    <tr style=\"text-align: right;\">\n",
       "      <th></th>\n",
       "      <th>aggregate_1</th>\n",
       "      <th>aggregate_2</th>\n",
       "      <th>aggregate_3</th>\n",
       "      <th>aggregate_4</th>\n",
       "      <th>aggregate_5</th>\n",
       "      <th>aggregate_6</th>\n",
       "      <th>aggregate_7</th>\n",
       "      <th>aggregate_8</th>\n",
       "      <th>aggregate_9</th>\n",
       "      <th>aggregate_10</th>\n",
       "      <th>aggregate_11</th>\n",
       "      <th>aggregate_12</th>\n",
       "    </tr>\n",
       "  </thead>\n",
       "  <tbody>\n",
       "    <tr>\n",
       "      <th>count</th>\n",
       "      <td>294.000000</td>\n",
       "      <td>311.000000</td>\n",
       "      <td>350.000000</td>\n",
       "      <td>370.000000</td>\n",
       "      <td>386.000000</td>\n",
       "      <td>396.000000</td>\n",
       "      <td>410.000000</td>\n",
       "      <td>428.000000</td>\n",
       "      <td>437.000000</td>\n",
       "      <td>448.000000</td>\n",
       "      <td>451.000000</td>\n",
       "      <td>449.000000</td>\n",
       "    </tr>\n",
       "    <tr>\n",
       "      <th>mean</th>\n",
       "      <td>670.679365</td>\n",
       "      <td>567.849066</td>\n",
       "      <td>556.758839</td>\n",
       "      <td>615.107947</td>\n",
       "      <td>748.242007</td>\n",
       "      <td>1027.024470</td>\n",
       "      <td>1175.876624</td>\n",
       "      <td>1316.002291</td>\n",
       "      <td>1006.506477</td>\n",
       "      <td>796.196072</td>\n",
       "      <td>569.402580</td>\n",
       "      <td>632.461624</td>\n",
       "    </tr>\n",
       "    <tr>\n",
       "      <th>std</th>\n",
       "      <td>357.397661</td>\n",
       "      <td>291.062211</td>\n",
       "      <td>269.470357</td>\n",
       "      <td>351.131044</td>\n",
       "      <td>437.697091</td>\n",
       "      <td>568.507774</td>\n",
       "      <td>656.529997</td>\n",
       "      <td>744.531656</td>\n",
       "      <td>585.004957</td>\n",
       "      <td>450.958271</td>\n",
       "      <td>306.685628</td>\n",
       "      <td>347.858554</td>\n",
       "    </tr>\n",
       "    <tr>\n",
       "      <th>min</th>\n",
       "      <td>73.628365</td>\n",
       "      <td>58.439449</td>\n",
       "      <td>74.624779</td>\n",
       "      <td>77.954910</td>\n",
       "      <td>92.283058</td>\n",
       "      <td>63.819134</td>\n",
       "      <td>109.466499</td>\n",
       "      <td>118.904648</td>\n",
       "      <td>159.600296</td>\n",
       "      <td>129.998779</td>\n",
       "      <td>75.983116</td>\n",
       "      <td>82.582550</td>\n",
       "    </tr>\n",
       "    <tr>\n",
       "      <th>25%</th>\n",
       "      <td>419.517281</td>\n",
       "      <td>369.412292</td>\n",
       "      <td>352.101738</td>\n",
       "      <td>343.001808</td>\n",
       "      <td>405.673035</td>\n",
       "      <td>585.323792</td>\n",
       "      <td>670.790298</td>\n",
       "      <td>745.403458</td>\n",
       "      <td>555.100037</td>\n",
       "      <td>455.514648</td>\n",
       "      <td>341.702484</td>\n",
       "      <td>383.294556</td>\n",
       "    </tr>\n",
       "    <tr>\n",
       "      <th>50%</th>\n",
       "      <td>595.286224</td>\n",
       "      <td>497.242615</td>\n",
       "      <td>508.032364</td>\n",
       "      <td>547.930878</td>\n",
       "      <td>672.198456</td>\n",
       "      <td>955.453644</td>\n",
       "      <td>1092.680481</td>\n",
       "      <td>1278.822327</td>\n",
       "      <td>939.006592</td>\n",
       "      <td>699.589508</td>\n",
       "      <td>504.871613</td>\n",
       "      <td>553.565308</td>\n",
       "    </tr>\n",
       "    <tr>\n",
       "      <th>75%</th>\n",
       "      <td>831.790390</td>\n",
       "      <td>724.690063</td>\n",
       "      <td>732.707718</td>\n",
       "      <td>805.266815</td>\n",
       "      <td>979.125031</td>\n",
       "      <td>1336.335907</td>\n",
       "      <td>1553.345032</td>\n",
       "      <td>1749.680908</td>\n",
       "      <td>1302.453979</td>\n",
       "      <td>1036.679047</td>\n",
       "      <td>707.364410</td>\n",
       "      <td>787.518982</td>\n",
       "    </tr>\n",
       "    <tr>\n",
       "      <th>max</th>\n",
       "      <td>2042.325928</td>\n",
       "      <td>1714.841064</td>\n",
       "      <td>1671.587158</td>\n",
       "      <td>2100.521973</td>\n",
       "      <td>2668.505371</td>\n",
       "      <td>3436.233887</td>\n",
       "      <td>4257.861328</td>\n",
       "      <td>4846.148926</td>\n",
       "      <td>3806.924072</td>\n",
       "      <td>2763.652832</td>\n",
       "      <td>1817.782104</td>\n",
       "      <td>2063.252197</td>\n",
       "    </tr>\n",
       "  </tbody>\n",
       "</table>\n",
       "</div>"
      ],
      "text/plain": [
       "       aggregate_1  aggregate_2  aggregate_3  aggregate_4  aggregate_5  \\\n",
       "count   294.000000   311.000000   350.000000   370.000000   386.000000   \n",
       "mean    670.679365   567.849066   556.758839   615.107947   748.242007   \n",
       "std     357.397661   291.062211   269.470357   351.131044   437.697091   \n",
       "min      73.628365    58.439449    74.624779    77.954910    92.283058   \n",
       "25%     419.517281   369.412292   352.101738   343.001808   405.673035   \n",
       "50%     595.286224   497.242615   508.032364   547.930878   672.198456   \n",
       "75%     831.790390   724.690063   732.707718   805.266815   979.125031   \n",
       "max    2042.325928  1714.841064  1671.587158  2100.521973  2668.505371   \n",
       "\n",
       "       aggregate_6  aggregate_7  aggregate_8  aggregate_9  aggregate_10  \\\n",
       "count   396.000000   410.000000   428.000000   437.000000    448.000000   \n",
       "mean   1027.024470  1175.876624  1316.002291  1006.506477    796.196072   \n",
       "std     568.507774   656.529997   744.531656   585.004957    450.958271   \n",
       "min      63.819134   109.466499   118.904648   159.600296    129.998779   \n",
       "25%     585.323792   670.790298   745.403458   555.100037    455.514648   \n",
       "50%     955.453644  1092.680481  1278.822327   939.006592    699.589508   \n",
       "75%    1336.335907  1553.345032  1749.680908  1302.453979   1036.679047   \n",
       "max    3436.233887  4257.861328  4846.148926  3806.924072   2763.652832   \n",
       "\n",
       "       aggregate_11  aggregate_12  \n",
       "count    451.000000    449.000000  \n",
       "mean     569.402580    632.461624  \n",
       "std      306.685628    347.858554  \n",
       "min       75.983116     82.582550  \n",
       "25%      341.702484    383.294556  \n",
       "50%      504.871613    553.565308  \n",
       "75%      707.364410    787.518982  \n",
       "max     1817.782104   2063.252197  "
      ]
     },
     "execution_count": 33,
     "metadata": {},
     "output_type": "execute_result"
    }
   ],
   "source": [
    "df_dict[2014].ix[common_homes][['aggregate_%d' %month for month in range(1, 13)]].describe()"
   ]
  },
  {
   "cell_type": "code",
   "execution_count": 8,
   "metadata": {
    "collapsed": true
   },
   "outputs": [],
   "source": [
    "%matplotlib inline\n",
    "import matplotlib.pyplot as plt"
   ]
  },
  {
   "cell_type": "code",
   "execution_count": 9,
   "metadata": {},
   "outputs": [
    {
     "data": {
      "text/plain": [
       "<matplotlib.collections.PathCollection at 0x10ef608d0>"
      ]
     },
     "execution_count": 9,
     "metadata": {},
     "output_type": "execute_result"
    },
    {
     "data": {
      "image/png": "[encoded data removed]",
      "text/plain": [
       "<matplotlib.figure.Figure at 0x10ef2b2d0>"
      ]
     },
     "metadata": {},
     "output_type": "display_data"
    }
   ],
   "source": [
    "plt.scatter(dd, mean_df)"
   ]
  },
  {
   "cell_type": "code",
   "execution_count": 9,
   "metadata": {},
   "outputs": [
    {
     "data": {
      "text/plain": [
       "Int64Index([  22,   26,   59,   68,   77,   86,   93,   94,  101,  114,\n",
       "            ...\n",
       "            9932, 9933, 9935, 9937, 9938, 9939, 9942, 9971, 9981, 9982],\n",
       "           dtype='int64', length=494)"
      ]
     },
     "execution_count": 9,
     "metadata": {},
     "output_type": "execute_result"
    }
   ],
   "source": [
    "df_dict[2015].index"
   ]
  },
  {
   "cell_type": "code",
   "execution_count": 10,
   "metadata": {},
   "outputs": [
    {
     "data": {
      "text/plain": [
       "Int64Index([  26,   59,   77,   86,   93,   94,  101,  114,  115,  160,\n",
       "            ...\n",
       "            9922, 9926, 9929, 9932, 9933, 9937, 9938, 9939, 9942, 9982],\n",
       "           dtype='int64', length=347)"
      ]
     },
     "execution_count": 10,
     "metadata": {},
     "output_type": "execute_result"
    }
   ],
   "source": [
    "df_dict[2016].index"
   ]
  },
  {
   "cell_type": "code",
   "execution_count": null,
   "metadata": {
    "collapsed": true
   },
   "outputs": [],
   "source": []
  }
 ],
 "metadata": {
  "kernelspec": {
   "display_name": "Python 2",
   "language": "python",
   "name": "python2"
  },
  "language_info": {
   "codemirror_mode": {
    "name": "ipython",
    "version": 2
   },
   "file_extension": ".py",
   "mimetype": "text/x-python",
   "name": "python",
   "nbconvert_exporter": "python",
   "pygments_lexer": "ipython2",
   "version": "2.7.11"
  }
 },
 "nbformat": 4,
 "nbformat_minor": 2
}
