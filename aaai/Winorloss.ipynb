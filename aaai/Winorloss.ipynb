{
 "cells": [
  {
   "cell_type": "markdown",
   "metadata": {},
   "source": [
    "## Imports"
   ]
  },
  {
   "cell_type": "code",
   "execution_count": 35,
   "metadata": {
    "collapsed": true
   },
   "outputs": [],
   "source": [
    "import numpy as np\n",
    "import pandas as pd\n",
    "import sys\n",
    "from common import compute_rmse_fraction\n",
    "import pickle\n",
    "from create_matrix import *\n",
    "from sklearn.metrics import mean_squared_error"
   ]
  },
  {
   "cell_type": "markdown",
   "metadata": {},
   "source": [
    "## load predicted results"
   ]
  },
  {
   "cell_type": "code",
   "execution_count": 36,
   "metadata": {
    "collapsed": true
   },
   "outputs": [],
   "source": [
    "knn_p = pickle.load(open(\"predictions/knn.pkl\",'r'))\n",
    "knn_oracle_p = pickle.load(open(\"predictions/knn_oracle.pkl\",'r'))\n",
    "\n",
    "ml_p = pickle.load(open(\"predictions/metric_knn.pkl\",'r'))\n",
    "mf_p = pickle.load(open(\"predictions/mf.pkl\",'r'))\n",
    "\n",
    "tensor_parafac_p = pickle.load(open(\"predictions/tensor-parafac.pkl\",'r'))\n",
    "tensor_custom_p = pickle.load(open(\"predictions/tensor-custom.pkl\",'r'))\n",
    "tensor_custom_p_rel = pickle.load(open(\"predictions/tensor-custom-relative.pkl\",'r'))\n",
    "\n",
    "tensor_custom_parafac_static_p = pickle.load(open(\"predictions/tensor-custom-parafac-static-abs.pkl\",'r'))\n",
    "tensor_custom_parafac_static_rel_p = pickle.load(open(\"predictions/tensor-custom-parafac-static-rel.pkl\",'r'))\n",
    "\n",
    "tensor_custom_case_2_static_weather_rel_p = pickle.load(open(\"predictions/tensor-custom-2-static-weather-rel.pkl\",'r'))\n",
    "tensor_custom_case_2_static_weather_abs_p = pickle.load(open(\"predictions/tensor-custom-2-static-weather-abs.pkl\",'r'))\n",
    "tensor_custom_case_2_static_abs_p = pickle.load(open(\"predictions/tensor-custom-2-static-abs.pkl\",'r'))\n",
    "tensor_custom_case_2_static_rel_p = pickle.load(open(\"predictions/tensor-custom-2-static-rel.pkl\",'r'))"
   ]
  },
  {
   "cell_type": "code",
   "execution_count": 25,
   "metadata": {
    "collapsed": false
   },
   "outputs": [],
   "source": [
    "def winorloss(pred_1, pred_2, appliance, region='Austin',year=2014):\n",
    "    appliance_df = create_matrix_all_entries(region, year, appliance)\n",
    "    \n",
    "    if appliance == \"hvac\":\n",
    "        start, stop = 5, 11\n",
    "    else:\n",
    "        start, stop = 1, 13\n",
    "    pred_1 = pred_1.copy()\n",
    "    pred_2 = pred_2.copy()\n",
    "#     print \"pred_1: \", pred_1.shape\n",
    "#     print \"pred_2: \", pred_1.shape\n",
    "    \n",
    "    pred_1.columns = [['%s_%d' % (appliance, month) for month in range(start, stop)]]\n",
    "    pred_2.columns = [['%s_%d' % (appliance, month) for month in range(start, stop)]]\n",
    "    \n",
    "    gt_df = appliance_df[pred_1.columns].ix[pred_1.index]\n",
    "    \n",
    "    gt_df = gt_df.unstack().dropna()\n",
    "    pred_1 = pred_1.unstack().dropna()\n",
    "    pred_1 = pred_1.ix[gt_df.index]\n",
    "    \n",
    "    pred_2 = pred_2.unstack().dropna()\n",
    "    pred_2 = pred_2.ix[gt_df.index]\n",
    "    \n",
    "#     print \"pred_1: \", pred_1.shape\n",
    "#     print \"pred_2: \", pred_1.shape\n",
    "#     print \"gt_df: \", gt_df.shape\n",
    "\n",
    "    result_1 = (pred_1 - gt_df)*(pred_1 - gt_df)/gt_df\n",
    "    result_2 = (pred_2 - gt_df)*(pred_2 - gt_df)/gt_df\n",
    "    result = result_1 - result_2\n",
    "    \n",
    "    pos = sum(x < 0 for x in result)\n",
    "#     print pos\n",
    "#     print gt_df.size\n",
    "    return pos, gt_df.shape[0]-pos"
   ]
  },
  {
   "cell_type": "markdown",
   "metadata": {},
   "source": [
    "# KNN"
   ]
  },
  {
   "cell_type": "markdown",
   "metadata": {},
   "source": [
    "## RMSE"
   ]
  },
  {
   "cell_type": "code",
   "execution_count": 170,
   "metadata": {
    "collapsed": true
   },
   "outputs": [],
   "source": [
    "rmse_knn_results = {}\n",
    "rmse_knn_latent = {}\n",
    "for appliance in knn_p:\n",
    "    rmse_knn_results[appliance] = {}\n",
    "    rmse_knn_latent[appliance] = {}\n",
    "    for feature in ['energy_static','energy']:\n",
    "        rmse_knn_results[appliance][feature] = 1000\n",
    "        least_error = 1000\n",
    "        best_n = None\n",
    "        for neighbours in range(1, 10):\n",
    "            pred = knn_p[appliance][feature][neighbours]\n",
    "            gt_f, pred_f, rms, e = compute_rmse_fraction(appliance, pred)\n",
    "            if rms < least_error:\n",
    "                least_error = rms\n",
    "                best_n = neighbours\n",
    "        rmse_knn_results[appliance][feature] = least_error\n",
    "        rmse_knn_latent[appliance][feature] = best_n"
   ]
  },
  {
   "cell_type": "code",
   "execution_count": 171,
   "metadata": {
    "collapsed": false
   },
   "outputs": [
    {
     "data": {
      "text/html": [
       "<div>\n",
       "<table border=\"1\" class=\"dataframe\">\n",
       "  <thead>\n",
       "    <tr style=\"text-align: right;\">\n",
       "      <th></th>\n",
       "      <th>dw</th>\n",
       "      <th>fridge</th>\n",
       "      <th>hvac</th>\n",
       "      <th>mw</th>\n",
       "      <th>oven</th>\n",
       "      <th>wm</th>\n",
       "    </tr>\n",
       "  </thead>\n",
       "  <tbody>\n",
       "    <tr>\n",
       "      <th>energy</th>\n",
       "      <td>9</td>\n",
       "      <td>7</td>\n",
       "      <td>8</td>\n",
       "      <td>9</td>\n",
       "      <td>9</td>\n",
       "      <td>9</td>\n",
       "    </tr>\n",
       "    <tr>\n",
       "      <th>energy_static</th>\n",
       "      <td>5</td>\n",
       "      <td>9</td>\n",
       "      <td>6</td>\n",
       "      <td>7</td>\n",
       "      <td>4</td>\n",
       "      <td>8</td>\n",
       "    </tr>\n",
       "  </tbody>\n",
       "</table>\n",
       "</div>"
      ],
      "text/plain": [
       "               dw  fridge  hvac  mw  oven  wm\n",
       "energy          9       7     8   9     9   9\n",
       "energy_static   5       9     6   7     4   8"
      ]
     },
     "execution_count": 171,
     "metadata": {},
     "output_type": "execute_result"
    }
   ],
   "source": [
    "pd.DataFrame(rmse_knn_latent)"
   ]
  },
  {
   "cell_type": "markdown",
   "metadata": {},
   "source": [
    "## Win/Loss"
   ]
  },
  {
   "cell_type": "code",
   "execution_count": 172,
   "metadata": {
    "collapsed": false
   },
   "outputs": [],
   "source": [
    "winloss_knn_results = {}\n",
    "winloss_knn_latnet = {}\n",
    "for appliance in knn_p:\n",
    "    winloss_knn_results[appliance] = {}\n",
    "    winloss_knn_latent[appliance] = {}\n",
    "    for feature in ['energy_static','energy']:\n",
    "        winloss_knn_results[appliance][feature] = np.zeros((9, 9))\n",
    "#         least_error = 1000\n",
    "#         best_n = None\n",
    "        for neighbours_1 in range(1, 10):\n",
    "            pred_1 = knn_p[appliance][feature][neighbours_1]\n",
    "            for neighbours_2 in range(1, 10):\n",
    "                if neighbours_1 == neighbours_2:\n",
    "                    continue\n",
    "                else:        \n",
    "                    pred_2 = knn_p[appliance][feature][neighbours_2]\n",
    "                    win, loss = winorloss(pred_1, pred_2, appliance)\n",
    "                    winloss_knn_results[appliance][feature][neighbours_1-1][neighbours_2-1] = win\n",
    "                    winloss_knn_results[appliance][feature][neighbours_2-1][neighbours_1-1] = loss\n",
    "        factor_sum = winloss_knn_results[appliance][feature].sum(axis = 1)\n",
    "        best = factor_sum.argmax() + 1\n",
    "        winloss_knn_latent[appliance][feature] = best"
   ]
  },
  {
   "cell_type": "code",
   "execution_count": 173,
   "metadata": {
    "collapsed": false
   },
   "outputs": [
    {
     "data": {
      "text/html": [
       "<div>\n",
       "<table border=\"1\" class=\"dataframe\">\n",
       "  <thead>\n",
       "    <tr style=\"text-align: right;\">\n",
       "      <th></th>\n",
       "      <th>dw</th>\n",
       "      <th>fridge</th>\n",
       "      <th>hvac</th>\n",
       "      <th>mw</th>\n",
       "      <th>oven</th>\n",
       "      <th>wm</th>\n",
       "    </tr>\n",
       "  </thead>\n",
       "  <tbody>\n",
       "    <tr>\n",
       "      <th>energy</th>\n",
       "      <td>9</td>\n",
       "      <td>9</td>\n",
       "      <td>4</td>\n",
       "      <td>9</td>\n",
       "      <td>9</td>\n",
       "      <td>9</td>\n",
       "    </tr>\n",
       "    <tr>\n",
       "      <th>energy_static</th>\n",
       "      <td>9</td>\n",
       "      <td>9</td>\n",
       "      <td>4</td>\n",
       "      <td>7</td>\n",
       "      <td>4</td>\n",
       "      <td>9</td>\n",
       "    </tr>\n",
       "  </tbody>\n",
       "</table>\n",
       "</div>"
      ],
      "text/plain": [
       "               dw  fridge  hvac  mw  oven  wm\n",
       "energy          9       9     4   9     9   9\n",
       "energy_static   9       9     4   7     4   9"
      ]
     },
     "execution_count": 173,
     "metadata": {},
     "output_type": "execute_result"
    }
   ],
   "source": [
    "pd.DataFrame(winloss_knn_latent)"
   ]
  },
  {
   "cell_type": "markdown",
   "metadata": {},
   "source": [
    "# KNN Oracle"
   ]
  },
  {
   "cell_type": "code",
   "execution_count": 174,
   "metadata": {
    "collapsed": true
   },
   "outputs": [],
   "source": [
    "knn_oracle = {}\n",
    "for appliance in knn_oracle_p:\n",
    "    a, b, knn_oracle[appliance], e = compute_rmse_fraction(appliance, knn_oracle_p[appliance])"
   ]
  },
  {
   "cell_type": "markdown",
   "metadata": {},
   "source": [
    "# ML"
   ]
  },
  {
   "cell_type": "markdown",
   "metadata": {},
   "source": [
    "## RMSE"
   ]
  },
  {
   "cell_type": "code",
   "execution_count": 175,
   "metadata": {
    "collapsed": true
   },
   "outputs": [],
   "source": [
    "rmse_ml_results = {}\n",
    "rmse_ml_latent = {}\n",
    "for appliance in ml_p:\n",
    "    rmse_ml_results[appliance] = {}\n",
    "    rmse_ml_latent[appliance] = {}\n",
    "    for feature in ['energy_static','energy']:\n",
    "        rmse_ml_results[appliance][feature] = 1000\n",
    "        least_error = 1000\n",
    "        best_n = None\n",
    "        for neighbours in range(1, 10):\n",
    "            pred = ml_p[appliance][feature][neighbours]\n",
    "            gt_f, pred_f, rms, e = compute_rmse_fraction(appliance, pred)\n",
    "            if rms < least_error:\n",
    "                least_error = rms\n",
    "                best_n = neighbours\n",
    "        rmse_ml_results[appliance][feature] = least_error\n",
    "        rmse_ml_latent[appliance][feature] = best_n"
   ]
  },
  {
   "cell_type": "code",
   "execution_count": 176,
   "metadata": {
    "collapsed": false
   },
   "outputs": [
    {
     "data": {
      "text/html": [
       "<div>\n",
       "<table border=\"1\" class=\"dataframe\">\n",
       "  <thead>\n",
       "    <tr style=\"text-align: right;\">\n",
       "      <th></th>\n",
       "      <th>dw</th>\n",
       "      <th>fridge</th>\n",
       "      <th>hvac</th>\n",
       "      <th>mw</th>\n",
       "      <th>oven</th>\n",
       "      <th>wm</th>\n",
       "    </tr>\n",
       "  </thead>\n",
       "  <tbody>\n",
       "    <tr>\n",
       "      <th>energy</th>\n",
       "      <td>9</td>\n",
       "      <td>9</td>\n",
       "      <td>8</td>\n",
       "      <td>9</td>\n",
       "      <td>9</td>\n",
       "      <td>9</td>\n",
       "    </tr>\n",
       "    <tr>\n",
       "      <th>energy_static</th>\n",
       "      <td>9</td>\n",
       "      <td>8</td>\n",
       "      <td>8</td>\n",
       "      <td>6</td>\n",
       "      <td>9</td>\n",
       "      <td>9</td>\n",
       "    </tr>\n",
       "  </tbody>\n",
       "</table>\n",
       "</div>"
      ],
      "text/plain": [
       "               dw  fridge  hvac  mw  oven  wm\n",
       "energy          9       9     8   9     9   9\n",
       "energy_static   9       8     8   6     9   9"
      ]
     },
     "execution_count": 176,
     "metadata": {},
     "output_type": "execute_result"
    }
   ],
   "source": [
    "pd.DataFrame(rmse_ml_latent)"
   ]
  },
  {
   "cell_type": "markdown",
   "metadata": {},
   "source": [
    "## Win/Loss"
   ]
  },
  {
   "cell_type": "code",
   "execution_count": 177,
   "metadata": {
    "collapsed": true
   },
   "outputs": [],
   "source": [
    "winloss_ml_results = {}\n",
    "winloss_ml_latent = {}\n",
    "for appliance in ml_p:\n",
    "    winloss_ml_results[appliance] = {}\n",
    "    winloss_ml_latent[appliance] = {}\n",
    "    for feature in ['energy_static','energy']:\n",
    "        winloss_ml_results[appliance][feature] = np.zeros((9, 9))\n",
    "#         least_error = 1000\n",
    "#         best_n = None\n",
    "        for neighbours_1 in range(1, 10):\n",
    "            pred_1 = ml_p[appliance][feature][neighbours_1]\n",
    "            for neighbours_2 in range(1, 10):\n",
    "                if neighbours_1 == neighbours_2:\n",
    "                    continue\n",
    "                else:        \n",
    "                    pred_2 = ml_p[appliance][feature][neighbours_2]\n",
    "                    win, loss = winorloss(pred_1, pred_2, appliance)\n",
    "                    winloss_ml_results[appliance][feature][neighbours_1-1][neighbours_2-1] = win\n",
    "                    winloss_ml_results[appliance][feature][neighbours_2-1][neighbours_1-1] = loss\n",
    "        factor_sum = winloss_ml_results[appliance][feature].sum(axis = 1)\n",
    "        best = factor_sum.argmax() + 1\n",
    "        winloss_ml_latent[appliance][feature] = best"
   ]
  },
  {
   "cell_type": "code",
   "execution_count": 178,
   "metadata": {
    "collapsed": false
   },
   "outputs": [
    {
     "data": {
      "text/html": [
       "<div>\n",
       "<table border=\"1\" class=\"dataframe\">\n",
       "  <thead>\n",
       "    <tr style=\"text-align: right;\">\n",
       "      <th></th>\n",
       "      <th>dw</th>\n",
       "      <th>fridge</th>\n",
       "      <th>hvac</th>\n",
       "      <th>mw</th>\n",
       "      <th>oven</th>\n",
       "      <th>wm</th>\n",
       "    </tr>\n",
       "  </thead>\n",
       "  <tbody>\n",
       "    <tr>\n",
       "      <th>energy</th>\n",
       "      <td>9</td>\n",
       "      <td>9</td>\n",
       "      <td>4</td>\n",
       "      <td>9</td>\n",
       "      <td>9</td>\n",
       "      <td>9</td>\n",
       "    </tr>\n",
       "    <tr>\n",
       "      <th>energy_static</th>\n",
       "      <td>9</td>\n",
       "      <td>8</td>\n",
       "      <td>8</td>\n",
       "      <td>8</td>\n",
       "      <td>9</td>\n",
       "      <td>8</td>\n",
       "    </tr>\n",
       "  </tbody>\n",
       "</table>\n",
       "</div>"
      ],
      "text/plain": [
       "               dw  fridge  hvac  mw  oven  wm\n",
       "energy          9       9     4   9     9   9\n",
       "energy_static   9       8     8   8     9   8"
      ]
     },
     "execution_count": 178,
     "metadata": {},
     "output_type": "execute_result"
    }
   ],
   "source": [
    "pd.DataFrame(winloss_ml_latent)"
   ]
  },
  {
   "cell_type": "markdown",
   "metadata": {},
   "source": [
    "# Tensor Parafac"
   ]
  },
  {
   "cell_type": "markdown",
   "metadata": {},
   "source": [
    "## RMSE"
   ]
  },
  {
   "cell_type": "code",
   "execution_count": 179,
   "metadata": {
    "collapsed": true
   },
   "outputs": [],
   "source": [
    "rmse_tensor_parafac_results = {}\n",
    "rmse_tensor_parafac_latent = {}\n",
    "for appliance in tensor_parafac_p:\n",
    "#     rmse_tensor_parafac_results[appliance] = {}\n",
    "#     rmse_tensor_parafac_latent[appliance] = {}\n",
    "    least_error = 1000\n",
    "    best_n = None\n",
    "    for neighbours in range(1, 7):\n",
    "        pred = tensor_parafac_p[appliance][neighbours]\n",
    "        gt_f, pred_f, rms, e = compute_rmse_fraction(appliance, pred)\n",
    "        if rms < least_error:\n",
    "            least_error = rms\n",
    "            best_n = neighbours\n",
    "    rmse_tensor_parafac_results[appliance] = least_error\n",
    "    rmse_tensor_parafac_latent[appliance] = best_n"
   ]
  },
  {
   "cell_type": "code",
   "execution_count": 180,
   "metadata": {
    "collapsed": false
   },
   "outputs": [
    {
     "data": {
      "text/html": [
       "<div>\n",
       "<table border=\"1\" class=\"dataframe\">\n",
       "  <thead>\n",
       "    <tr style=\"text-align: right;\">\n",
       "      <th></th>\n",
       "      <th>dw</th>\n",
       "      <th>fridge</th>\n",
       "      <th>hvac</th>\n",
       "      <th>mw</th>\n",
       "      <th>oven</th>\n",
       "      <th>wm</th>\n",
       "    </tr>\n",
       "  </thead>\n",
       "  <tbody>\n",
       "    <tr>\n",
       "      <th>0</th>\n",
       "      <td>1</td>\n",
       "      <td>1</td>\n",
       "      <td>2</td>\n",
       "      <td>1</td>\n",
       "      <td>2</td>\n",
       "      <td>1</td>\n",
       "    </tr>\n",
       "  </tbody>\n",
       "</table>\n",
       "</div>"
      ],
      "text/plain": [
       "   dw  fridge  hvac  mw  oven  wm\n",
       "0   1       1     2   1     2   1"
      ]
     },
     "execution_count": 180,
     "metadata": {},
     "output_type": "execute_result"
    }
   ],
   "source": [
    "pd.DataFrame([rmse_tensor_parafac_latent])"
   ]
  },
  {
   "cell_type": "markdown",
   "metadata": {},
   "source": [
    "## Win/Loss"
   ]
  },
  {
   "cell_type": "code",
   "execution_count": 181,
   "metadata": {
    "collapsed": false
   },
   "outputs": [],
   "source": [
    "winloss_tensor_parafac_results = {}\n",
    "winloss_tensor_parafac_latent = {}\n",
    "for appliance  in tensor_parafac_p:\n",
    "    winloss_tensor_parafac_results[appliance] = np.zeros((6, 6))\n",
    "#     winloss_tensor_parafac_latent[appliance] = np.zeros((6, 6))\n",
    "    for neighbours_1 in range(1, 7):\n",
    "        pred_1 = tensor_parafac_p[appliance][neighbours_1]\n",
    "        for neighbours_2 in range(1, 7):\n",
    "            if neighbours_1 == neighbours_2:\n",
    "                continue\n",
    "            else:\n",
    "                pred_2 = tensor_parafac_p[appliance][neighbours_2]\n",
    "                win, loss = winorloss(pred_1, pred_2, appliance)\n",
    "                winloss_tensor_parafac_results[appliance][neighbours_1-1][neighbours_2-1] = win\n",
    "                winloss_tensor_parafac_results[appliance][neighbours_2-1][neighbours_1-1] = loss\n",
    "    factor_sum = winloss_tensor_parafac_results[appliance].sum(axis = 1)\n",
    "    best = factor_sum.argmax() + 1\n",
    "    winloss_tensor_parafac_latent[appliance] = best"
   ]
  },
  {
   "cell_type": "code",
   "execution_count": 182,
   "metadata": {
    "collapsed": false
   },
   "outputs": [
    {
     "data": {
      "text/html": [
       "<div>\n",
       "<table border=\"1\" class=\"dataframe\">\n",
       "  <thead>\n",
       "    <tr style=\"text-align: right;\">\n",
       "      <th></th>\n",
       "      <th>dw</th>\n",
       "      <th>fridge</th>\n",
       "      <th>hvac</th>\n",
       "      <th>mw</th>\n",
       "      <th>oven</th>\n",
       "      <th>wm</th>\n",
       "    </tr>\n",
       "  </thead>\n",
       "  <tbody>\n",
       "    <tr>\n",
       "      <th>0</th>\n",
       "      <td>3</td>\n",
       "      <td>1</td>\n",
       "      <td>2</td>\n",
       "      <td>1</td>\n",
       "      <td>2</td>\n",
       "      <td>1</td>\n",
       "    </tr>\n",
       "  </tbody>\n",
       "</table>\n",
       "</div>"
      ],
      "text/plain": [
       "   dw  fridge  hvac  mw  oven  wm\n",
       "0   3       1     2   1     2   1"
      ]
     },
     "execution_count": 182,
     "metadata": {},
     "output_type": "execute_result"
    }
   ],
   "source": [
    "pd.DataFrame([winloss_tensor_parafac_latent])"
   ]
  },
  {
   "cell_type": "markdown",
   "metadata": {},
   "source": [
    "# Tensor custom P"
   ]
  },
  {
   "cell_type": "markdown",
   "metadata": {},
   "source": [
    "## RMSE"
   ]
  },
  {
   "cell_type": "code",
   "execution_count": 183,
   "metadata": {
    "collapsed": true
   },
   "outputs": [],
   "source": [
    "rmse_tf_custom_result = {}\n",
    "rmse_tf_custom_latent = {}\n",
    "for appliance in tensor_custom_p:\n",
    "    rmse_tf_custom_result[appliance] = {}\n",
    "    rmse_tf_custom_latent[appliance] = {}\n",
    "    for case in range(1, 5):\n",
    "        best_error = 1e6\n",
    "        best_n = 0\n",
    "        for a in range(1, 6):\n",
    "            alpha, beta, error, e = compute_rmse_fraction(appliance,tensor_custom_p[appliance][case][a])\n",
    "            if error < best_error:\n",
    "                best_error = error\n",
    "                best_n = a\n",
    "        rmse_tf_custom_result[appliance][case] = best_error\n",
    "        rmse_tf_custom_latent[appliance][case] = best_n"
   ]
  },
  {
   "cell_type": "code",
   "execution_count": 184,
   "metadata": {
    "collapsed": false
   },
   "outputs": [
    {
     "data": {
      "text/html": [
       "<div>\n",
       "<table border=\"1\" class=\"dataframe\">\n",
       "  <thead>\n",
       "    <tr style=\"text-align: right;\">\n",
       "      <th></th>\n",
       "      <th>dw</th>\n",
       "      <th>fridge</th>\n",
       "      <th>hvac</th>\n",
       "      <th>mw</th>\n",
       "      <th>oven</th>\n",
       "      <th>wm</th>\n",
       "    </tr>\n",
       "  </thead>\n",
       "  <tbody>\n",
       "    <tr>\n",
       "      <th>1</th>\n",
       "      <td>4</td>\n",
       "      <td>5</td>\n",
       "      <td>2</td>\n",
       "      <td>5</td>\n",
       "      <td>5</td>\n",
       "      <td>5</td>\n",
       "    </tr>\n",
       "    <tr>\n",
       "      <th>2</th>\n",
       "      <td>5</td>\n",
       "      <td>2</td>\n",
       "      <td>4</td>\n",
       "      <td>3</td>\n",
       "      <td>3</td>\n",
       "      <td>1</td>\n",
       "    </tr>\n",
       "    <tr>\n",
       "      <th>3</th>\n",
       "      <td>5</td>\n",
       "      <td>2</td>\n",
       "      <td>1</td>\n",
       "      <td>5</td>\n",
       "      <td>3</td>\n",
       "      <td>2</td>\n",
       "    </tr>\n",
       "    <tr>\n",
       "      <th>4</th>\n",
       "      <td>5</td>\n",
       "      <td>5</td>\n",
       "      <td>3</td>\n",
       "      <td>5</td>\n",
       "      <td>5</td>\n",
       "      <td>3</td>\n",
       "    </tr>\n",
       "  </tbody>\n",
       "</table>\n",
       "</div>"
      ],
      "text/plain": [
       "   dw  fridge  hvac  mw  oven  wm\n",
       "1   4       5     2   5     5   5\n",
       "2   5       2     4   3     3   1\n",
       "3   5       2     1   5     3   2\n",
       "4   5       5     3   5     5   3"
      ]
     },
     "execution_count": 184,
     "metadata": {},
     "output_type": "execute_result"
    }
   ],
   "source": [
    "pd.DataFrame(rmse_tf_custom_latent)"
   ]
  },
  {
   "cell_type": "markdown",
   "metadata": {},
   "source": [
    "## Win/Loss"
   ]
  },
  {
   "cell_type": "code",
   "execution_count": 185,
   "metadata": {
    "collapsed": false
   },
   "outputs": [],
   "source": [
    "winloss_tf_custom_result = {}\n",
    "winloss_tf_custom_latent = {}\n",
    "for appliance in tensor_custom_p:\n",
    "    winloss_tf_custom_result[appliance] = {}\n",
    "    winloss_tf_custom_latent[appliance] = {}\n",
    "    for case in range(1,5):\n",
    "        winloss_tf_custom_result[appliance][case] = np.zeros((5, 5))\n",
    "        for a in range(1,6):\n",
    "            pred_1 = tensor_custom_p[appliance][case][a]\n",
    "            for b in range(1,6):\n",
    "                if a == b:\n",
    "                    continue\n",
    "                else:\n",
    "                    pred_2 = tensor_custom_p[appliance][case][b]\n",
    "                    win, loss = winorloss(pred_1, pred_2, appliance)\n",
    "                    winloss_tf_custom_result[appliance][case][a-1][b-1] = win\n",
    "                    winloss_tf_custom_result[appliance][case][b-1][a-1] = loss\n",
    "        factor_sum = winloss_tf_custom_result[appliance][case].sum(axis = 1)\n",
    "        best = factor_sum.argmax() + 1\n",
    "        winloss_tf_custom_latent[appliance][case] = best\n",
    "                "
   ]
  },
  {
   "cell_type": "code",
   "execution_count": 186,
   "metadata": {
    "collapsed": false
   },
   "outputs": [
    {
     "data": {
      "text/html": [
       "<div>\n",
       "<table border=\"1\" class=\"dataframe\">\n",
       "  <thead>\n",
       "    <tr style=\"text-align: right;\">\n",
       "      <th></th>\n",
       "      <th>dw</th>\n",
       "      <th>fridge</th>\n",
       "      <th>hvac</th>\n",
       "      <th>mw</th>\n",
       "      <th>oven</th>\n",
       "      <th>wm</th>\n",
       "    </tr>\n",
       "  </thead>\n",
       "  <tbody>\n",
       "    <tr>\n",
       "      <th>1</th>\n",
       "      <td>4</td>\n",
       "      <td>5</td>\n",
       "      <td>3</td>\n",
       "      <td>5</td>\n",
       "      <td>5</td>\n",
       "      <td>4</td>\n",
       "    </tr>\n",
       "    <tr>\n",
       "      <th>2</th>\n",
       "      <td>1</td>\n",
       "      <td>2</td>\n",
       "      <td>2</td>\n",
       "      <td>1</td>\n",
       "      <td>2</td>\n",
       "      <td>3</td>\n",
       "    </tr>\n",
       "    <tr>\n",
       "      <th>3</th>\n",
       "      <td>2</td>\n",
       "      <td>1</td>\n",
       "      <td>1</td>\n",
       "      <td>3</td>\n",
       "      <td>2</td>\n",
       "      <td>1</td>\n",
       "    </tr>\n",
       "    <tr>\n",
       "      <th>4</th>\n",
       "      <td>2</td>\n",
       "      <td>1</td>\n",
       "      <td>3</td>\n",
       "      <td>5</td>\n",
       "      <td>5</td>\n",
       "      <td>1</td>\n",
       "    </tr>\n",
       "  </tbody>\n",
       "</table>\n",
       "</div>"
      ],
      "text/plain": [
       "   dw  fridge  hvac  mw  oven  wm\n",
       "1   4       5     3   5     5   4\n",
       "2   1       2     2   1     2   3\n",
       "3   2       1     1   3     2   1\n",
       "4   2       1     3   5     5   1"
      ]
     },
     "execution_count": 186,
     "metadata": {},
     "output_type": "execute_result"
    }
   ],
   "source": [
    "pd.DataFrame(winloss_tf_custom_latent)"
   ]
  },
  {
   "cell_type": "markdown",
   "metadata": {},
   "source": [
    "# Tensor Custom p, relative"
   ]
  },
  {
   "cell_type": "markdown",
   "metadata": {},
   "source": [
    "## RMSE"
   ]
  },
  {
   "cell_type": "code",
   "execution_count": 187,
   "metadata": {
    "collapsed": false
   },
   "outputs": [],
   "source": [
    "rmse_tf_custom_rel_result = {}\n",
    "rmse_tf_custom_rel_latent = {}\n",
    "for appliance in tensor_custom_p_rel:\n",
    "    rmse_tf_custom_rel_result[appliance]= {}\n",
    "    rmse_tf_custom_rel_latent[appliance] = {}\n",
    "    for case in range(1, 5):\n",
    "        best_error = 1e6\n",
    "        best_n = 0\n",
    "        for a in range(1, 6):\n",
    "            alpha, beta, error, e = compute_rmse_fraction(appliance,tensor_custom_p_rel[appliance][case][a])\n",
    "            if error < best_error:\n",
    "                best_error = error\n",
    "                best_n = a\n",
    "        rmse_tf_custom_rel_result[appliance][case] = best_error\n",
    "        rmse_tf_custom_rel_latent[appliance][case] = best_n"
   ]
  },
  {
   "cell_type": "code",
   "execution_count": 188,
   "metadata": {
    "collapsed": false
   },
   "outputs": [
    {
     "data": {
      "text/html": [
       "<div>\n",
       "<table border=\"1\" class=\"dataframe\">\n",
       "  <thead>\n",
       "    <tr style=\"text-align: right;\">\n",
       "      <th></th>\n",
       "      <th>dw</th>\n",
       "      <th>fridge</th>\n",
       "      <th>hvac</th>\n",
       "      <th>mw</th>\n",
       "      <th>oven</th>\n",
       "      <th>wm</th>\n",
       "    </tr>\n",
       "  </thead>\n",
       "  <tbody>\n",
       "    <tr>\n",
       "      <th>1</th>\n",
       "      <td>2</td>\n",
       "      <td>2</td>\n",
       "      <td>2</td>\n",
       "      <td>2</td>\n",
       "      <td>1</td>\n",
       "      <td>2</td>\n",
       "    </tr>\n",
       "    <tr>\n",
       "      <th>2</th>\n",
       "      <td>3</td>\n",
       "      <td>5</td>\n",
       "      <td>2</td>\n",
       "      <td>5</td>\n",
       "      <td>2</td>\n",
       "      <td>2</td>\n",
       "    </tr>\n",
       "    <tr>\n",
       "      <th>3</th>\n",
       "      <td>2</td>\n",
       "      <td>2</td>\n",
       "      <td>1</td>\n",
       "      <td>2</td>\n",
       "      <td>2</td>\n",
       "      <td>2</td>\n",
       "    </tr>\n",
       "    <tr>\n",
       "      <th>4</th>\n",
       "      <td>4</td>\n",
       "      <td>5</td>\n",
       "      <td>1</td>\n",
       "      <td>2</td>\n",
       "      <td>3</td>\n",
       "      <td>5</td>\n",
       "    </tr>\n",
       "  </tbody>\n",
       "</table>\n",
       "</div>"
      ],
      "text/plain": [
       "   dw  fridge  hvac  mw  oven  wm\n",
       "1   2       2     2   2     1   2\n",
       "2   3       5     2   5     2   2\n",
       "3   2       2     1   2     2   2\n",
       "4   4       5     1   2     3   5"
      ]
     },
     "execution_count": 188,
     "metadata": {},
     "output_type": "execute_result"
    }
   ],
   "source": [
    "pd.DataFrame(rmse_tf_custom_rel_latent)"
   ]
  },
  {
   "cell_type": "markdown",
   "metadata": {},
   "source": [
    "## Win/Loss"
   ]
  },
  {
   "cell_type": "code",
   "execution_count": 189,
   "metadata": {
    "collapsed": true
   },
   "outputs": [],
   "source": [
    "winloss_tf_custom_rel_result = {}\n",
    "winloss_tf_custom_rel_latent = {}\n",
    "for appliance in tensor_custom_p_rel:\n",
    "    winloss_tf_custom_rel_result[appliance] = {}\n",
    "    winloss_tf_custom_rel_latent[appliance] = {}\n",
    "    for case in range(1,5):\n",
    "        winloss_tf_custom_rel_result[appliance][case] = np.zeros((5, 5))\n",
    "        for a in range(1,6):\n",
    "            pred_1 = tensor_custom_p_rel[appliance][case][a]\n",
    "            for b in range(1,6):\n",
    "                if a == b:\n",
    "                    continue\n",
    "                else:\n",
    "                    pred_2 = tensor_custom_p_rel[appliance][case][b]\n",
    "                    win, loss = winorloss(pred_1, pred_2, appliance)\n",
    "                    winloss_tf_custom_rel_result[appliance][case][a-1][b-1] = win\n",
    "                    winloss_tf_custom_rel_result[appliance][case][b-1][a-1] = loss\n",
    "        factor_sum = winloss_tf_custom_rel_result[appliance][case].sum(axis = 1)\n",
    "        best = factor_sum.argmax() + 1\n",
    "        winloss_tf_custom_rel_latent[appliance][case] = best\n",
    "                "
   ]
  },
  {
   "cell_type": "code",
   "execution_count": 190,
   "metadata": {
    "collapsed": false
   },
   "outputs": [
    {
     "data": {
      "text/html": [
       "<div>\n",
       "<table border=\"1\" class=\"dataframe\">\n",
       "  <thead>\n",
       "    <tr style=\"text-align: right;\">\n",
       "      <th></th>\n",
       "      <th>dw</th>\n",
       "      <th>fridge</th>\n",
       "      <th>hvac</th>\n",
       "      <th>mw</th>\n",
       "      <th>oven</th>\n",
       "      <th>wm</th>\n",
       "    </tr>\n",
       "  </thead>\n",
       "  <tbody>\n",
       "    <tr>\n",
       "      <th>1</th>\n",
       "      <td>2</td>\n",
       "      <td>2</td>\n",
       "      <td>2</td>\n",
       "      <td>1</td>\n",
       "      <td>1</td>\n",
       "      <td>2</td>\n",
       "    </tr>\n",
       "    <tr>\n",
       "      <th>2</th>\n",
       "      <td>4</td>\n",
       "      <td>2</td>\n",
       "      <td>2</td>\n",
       "      <td>1</td>\n",
       "      <td>2</td>\n",
       "      <td>1</td>\n",
       "    </tr>\n",
       "    <tr>\n",
       "      <th>3</th>\n",
       "      <td>2</td>\n",
       "      <td>2</td>\n",
       "      <td>1</td>\n",
       "      <td>2</td>\n",
       "      <td>2</td>\n",
       "      <td>1</td>\n",
       "    </tr>\n",
       "    <tr>\n",
       "      <th>4</th>\n",
       "      <td>5</td>\n",
       "      <td>3</td>\n",
       "      <td>4</td>\n",
       "      <td>5</td>\n",
       "      <td>2</td>\n",
       "      <td>5</td>\n",
       "    </tr>\n",
       "  </tbody>\n",
       "</table>\n",
       "</div>"
      ],
      "text/plain": [
       "   dw  fridge  hvac  mw  oven  wm\n",
       "1   2       2     2   1     1   2\n",
       "2   4       2     2   1     2   1\n",
       "3   2       2     1   2     2   1\n",
       "4   5       3     4   5     2   5"
      ]
     },
     "execution_count": 190,
     "metadata": {},
     "output_type": "execute_result"
    }
   ],
   "source": [
    "pd.DataFrame(winloss_tf_custom_rel_latent)"
   ]
  },
  {
   "cell_type": "markdown",
   "metadata": {},
   "source": [
    "# Tensor Custom Parafac with Static, absolute"
   ]
  },
  {
   "cell_type": "markdown",
   "metadata": {},
   "source": [
    "## RMSE"
   ]
  },
  {
   "cell_type": "code",
   "execution_count": 191,
   "metadata": {
    "collapsed": true
   },
   "outputs": [],
   "source": [
    "rmse_tf_custom_parafac_static_result = {}\n",
    "rmse_tf_custom_parafac_static_latent = {}\n",
    "for appliance in tensor_custom_parafac_static_p:\n",
    "    rmse_tf_custom_parafac_static_result[appliance]= {}\n",
    "    rmse_tf_custom_parafac_static_latent[appliance] = {}\n",
    "    for case in range(4, 5):\n",
    "        best_error = 1e6\n",
    "        best_n = 0\n",
    "        for a in range(1, 6):\n",
    "            alpha, beta, error, e = compute_rmse_fraction(appliance, tensor_custom_parafac_static_p[appliance][case][a])\n",
    "            if error < best_error:\n",
    "                best_error = error\n",
    "#                 tf_custom_parafac_static[appliance] = best_error\n",
    "                best_n = a\n",
    "        rmse_tf_custom_parafac_static_result[appliance][case] = best_error\n",
    "        rmse_tf_custom_parafac_static_latent[appliance][case] = best_n"
   ]
  },
  {
   "cell_type": "code",
   "execution_count": 195,
   "metadata": {
    "collapsed": false
   },
   "outputs": [
    {
     "data": {
      "text/html": [
       "<div>\n",
       "<table border=\"1\" class=\"dataframe\">\n",
       "  <thead>\n",
       "    <tr style=\"text-align: right;\">\n",
       "      <th></th>\n",
       "      <th>dw</th>\n",
       "      <th>fridge</th>\n",
       "      <th>hvac</th>\n",
       "      <th>mw</th>\n",
       "      <th>oven</th>\n",
       "      <th>wm</th>\n",
       "    </tr>\n",
       "  </thead>\n",
       "  <tbody>\n",
       "    <tr>\n",
       "      <th>4</th>\n",
       "      <td>4</td>\n",
       "      <td>4</td>\n",
       "      <td>3</td>\n",
       "      <td>2</td>\n",
       "      <td>2</td>\n",
       "      <td>4</td>\n",
       "    </tr>\n",
       "  </tbody>\n",
       "</table>\n",
       "</div>"
      ],
      "text/plain": [
       "   dw  fridge  hvac  mw  oven  wm\n",
       "4   4       4     3   2     2   4"
      ]
     },
     "execution_count": 195,
     "metadata": {},
     "output_type": "execute_result"
    }
   ],
   "source": [
    "pd.DataFrame(rmse_tf_custom_parafac_static_latent)"
   ]
  },
  {
   "cell_type": "markdown",
   "metadata": {},
   "source": [
    "## Win/Loss"
   ]
  },
  {
   "cell_type": "code",
   "execution_count": 196,
   "metadata": {
    "collapsed": false
   },
   "outputs": [],
   "source": [
    "winloss_tf_custom_parafac_static_result = {}\n",
    "winloss_tf_custom_parafac_static_latent = {}\n",
    "for appliance in tensor_custom_parafac_static_p:\n",
    "    winloss_tf_custom_parafac_static_result[appliance] = {}\n",
    "    winloss_tf_custom_parafac_static_latent[appliance] = {}\n",
    "    for case in range(4, 5):\n",
    "        winloss_tf_custom_parafac_static_result[appliance][case] = np.zeros((5, 5))\n",
    "        for a in range(1,6):\n",
    "            pred_1 = tensor_custom_parafac_static_p[appliance][case][a]\n",
    "            for b in range(1,6):\n",
    "                if a == b:\n",
    "                    continue\n",
    "                else:\n",
    "                    pred_2 = tensor_custom_parafac_static_p[appliance][case][b]\n",
    "                    win, loss = winorloss(pred_1, pred_2, appliance)\n",
    "                    winloss_tf_custom_parafac_static_result[appliance][case][a-1][b-1] = win\n",
    "                    winloss_tf_custom_parafac_static_result[appliance][case][b-1][a-1] = loss\n",
    "        factor_sum = winloss_tf_custom_parafac_static_result[appliance][case].sum(axis = 1)\n",
    "        best = factor_sum.argmax() + 1\n",
    "        winloss_tf_custom_parafac_static_latent[appliance][case] = best\n",
    "                "
   ]
  },
  {
   "cell_type": "code",
   "execution_count": 197,
   "metadata": {
    "collapsed": false
   },
   "outputs": [
    {
     "data": {
      "text/html": [
       "<div>\n",
       "<table border=\"1\" class=\"dataframe\">\n",
       "  <thead>\n",
       "    <tr style=\"text-align: right;\">\n",
       "      <th></th>\n",
       "      <th>dw</th>\n",
       "      <th>fridge</th>\n",
       "      <th>hvac</th>\n",
       "      <th>mw</th>\n",
       "      <th>oven</th>\n",
       "      <th>wm</th>\n",
       "    </tr>\n",
       "  </thead>\n",
       "  <tbody>\n",
       "    <tr>\n",
       "      <th>4</th>\n",
       "      <td>4</td>\n",
       "      <td>3</td>\n",
       "      <td>5</td>\n",
       "      <td>1</td>\n",
       "      <td>3</td>\n",
       "      <td>4</td>\n",
       "    </tr>\n",
       "  </tbody>\n",
       "</table>\n",
       "</div>"
      ],
      "text/plain": [
       "   dw  fridge  hvac  mw  oven  wm\n",
       "4   4       3     5   1     3   4"
      ]
     },
     "execution_count": 197,
     "metadata": {},
     "output_type": "execute_result"
    }
   ],
   "source": [
    "pd.DataFrame(winloss_tf_custom_parafac_static_latent)"
   ]
  },
  {
   "cell_type": "markdown",
   "metadata": {},
   "source": [
    "# Tensor Custom Parafac with Static, relative"
   ]
  },
  {
   "cell_type": "code",
   "execution_count": 198,
   "metadata": {
    "collapsed": true
   },
   "outputs": [],
   "source": [
    "rmse_tf_custom_parafac_static_rel_result = {}\n",
    "rmse_tf_custom_parafac_static_rel_latent = {}\n",
    "for appliance in tensor_custom_parafac_static_rel_p:\n",
    "    rmse_tf_custom_parafac_static_rel_result[appliance]= {}\n",
    "    rmse_tf_custom_parafac_static_rel_latent[appliance] = {}\n",
    "    for case in range(4, 5):\n",
    "        best_error = 1e6\n",
    "        best_n = 0\n",
    "        for a in range(1, 6):\n",
    "            alpha, beta, error, e = compute_rmse_fraction(appliance, tensor_custom_parafac_static_rel_p[appliance][case][a])\n",
    "            if error < best_error:\n",
    "                best_error = error\n",
    "                best_n = a\n",
    "        rmse_tf_custom_parafac_static_rel_result[appliance][case] = best_error\n",
    "        rmse_tf_custom_parafac_static_rel_latent[appliance][case] = best_n"
   ]
  },
  {
   "cell_type": "code",
   "execution_count": 199,
   "metadata": {
    "collapsed": false
   },
   "outputs": [
    {
     "data": {
      "text/html": [
       "<div>\n",
       "<table border=\"1\" class=\"dataframe\">\n",
       "  <thead>\n",
       "    <tr style=\"text-align: right;\">\n",
       "      <th></th>\n",
       "      <th>dw</th>\n",
       "      <th>fridge</th>\n",
       "      <th>hvac</th>\n",
       "      <th>mw</th>\n",
       "      <th>oven</th>\n",
       "      <th>wm</th>\n",
       "    </tr>\n",
       "  </thead>\n",
       "  <tbody>\n",
       "    <tr>\n",
       "      <th>4</th>\n",
       "      <td>4</td>\n",
       "      <td>4</td>\n",
       "      <td>3</td>\n",
       "      <td>4</td>\n",
       "      <td>5</td>\n",
       "      <td>3</td>\n",
       "    </tr>\n",
       "  </tbody>\n",
       "</table>\n",
       "</div>"
      ],
      "text/plain": [
       "   dw  fridge  hvac  mw  oven  wm\n",
       "4   4       4     3   4     5   3"
      ]
     },
     "execution_count": 199,
     "metadata": {},
     "output_type": "execute_result"
    }
   ],
   "source": [
    "pd.DataFrame(rmse_tf_custom_parafac_static_rel_latent)"
   ]
  },
  {
   "cell_type": "code",
   "execution_count": 200,
   "metadata": {
    "collapsed": true
   },
   "outputs": [],
   "source": [
    "winloss_tf_custom_parafac_static_rel_result = {}\n",
    "winloss_tf_custom_parafac_static_rel_latent = {}\n",
    "for appliance in tensor_custom_parafac_static_rel_p:\n",
    "    winloss_tf_custom_parafac_static_rel_result[appliance] = {}\n",
    "    winloss_tf_custom_parafac_static_rel_latent[appliance] = {}\n",
    "    for case in range(4, 5):\n",
    "        winloss_tf_custom_parafac_static_rel_result[appliance][case] = np.zeros((5, 5))\n",
    "        for a in range(1,6):\n",
    "            pred_1 = tensor_custom_parafac_static_rel_p[appliance][case][a]\n",
    "            for b in range(1,6):\n",
    "                if a == b:\n",
    "                    continue\n",
    "                else:\n",
    "                    pred_2 = tensor_custom_parafac_static_rel_p[appliance][case][b]\n",
    "                    win, loss = winorloss(pred_1, pred_2, appliance)\n",
    "                    winloss_tf_custom_parafac_static_rel_result[appliance][case][a-1][b-1] = win\n",
    "                    winloss_tf_custom_parafac_static_rel_result[appliance][case][b-1][a-1] = loss\n",
    "        factor_sum = winloss_tf_custom_parafac_static_rel_result[appliance][case].sum(axis = 1)\n",
    "        best = factor_sum.argmax() + 1\n",
    "        winloss_tf_custom_parafac_static_rel_latent[appliance][case] = best\n",
    "                "
   ]
  },
  {
   "cell_type": "code",
   "execution_count": 201,
   "metadata": {
    "collapsed": false
   },
   "outputs": [
    {
     "data": {
      "text/html": [
       "<div>\n",
       "<table border=\"1\" class=\"dataframe\">\n",
       "  <thead>\n",
       "    <tr style=\"text-align: right;\">\n",
       "      <th></th>\n",
       "      <th>dw</th>\n",
       "      <th>fridge</th>\n",
       "      <th>hvac</th>\n",
       "      <th>mw</th>\n",
       "      <th>oven</th>\n",
       "      <th>wm</th>\n",
       "    </tr>\n",
       "  </thead>\n",
       "  <tbody>\n",
       "    <tr>\n",
       "      <th>4</th>\n",
       "      <td>4</td>\n",
       "      <td>4</td>\n",
       "      <td>4</td>\n",
       "      <td>4</td>\n",
       "      <td>1</td>\n",
       "      <td>5</td>\n",
       "    </tr>\n",
       "  </tbody>\n",
       "</table>\n",
       "</div>"
      ],
      "text/plain": [
       "   dw  fridge  hvac  mw  oven  wm\n",
       "4   4       4     4   4     1   5"
      ]
     },
     "execution_count": 201,
     "metadata": {},
     "output_type": "execute_result"
    }
   ],
   "source": [
    "pd.DataFrame(winloss_tf_custom_parafac_static_rel_latent)"
   ]
  },
  {
   "cell_type": "markdown",
   "metadata": {},
   "source": [
    "# Tensor Custom Case 2 with Static and Weather, absolute"
   ]
  },
  {
   "cell_type": "code",
   "execution_count": 204,
   "metadata": {
    "collapsed": true
   },
   "outputs": [],
   "source": [
    "rmse_tf_custom_2_static_weather_abs_result = {}\n",
    "rmse_tf_custom_2_static_weather_abs_latent = {}\n",
    "for appliance in tensor_custom_case_2_static_weather_abs_p:\n",
    "    rmse_tf_custom_2_static_weather_abs_result[appliance]= {}\n",
    "    rmse_tf_custom_2_static_weather_abs_latent[appliance] = {}\n",
    "    for case in range(2, 3):\n",
    "        best_error = 1e6\n",
    "        best_n = 0\n",
    "        for a in range(1, 6):\n",
    "            alpha, beta, error, e = compute_rmse_fraction(appliance, tensor_custom_case_2_static_weather_abs_p[appliance][case][a])\n",
    "            if error < best_error:\n",
    "                best_error = error\n",
    "                best_n = a\n",
    "        rmse_tf_custom_2_static_weather_abs_result[appliance][case] = best_error\n",
    "        rmse_tf_custom_2_static_weather_abs_latent[appliance][case] = best_n"
   ]
  },
  {
   "cell_type": "code",
   "execution_count": 205,
   "metadata": {
    "collapsed": false
   },
   "outputs": [
    {
     "data": {
      "text/html": [
       "<div>\n",
       "<table border=\"1\" class=\"dataframe\">\n",
       "  <thead>\n",
       "    <tr style=\"text-align: right;\">\n",
       "      <th></th>\n",
       "      <th>dw</th>\n",
       "      <th>fridge</th>\n",
       "      <th>hvac</th>\n",
       "      <th>mw</th>\n",
       "      <th>oven</th>\n",
       "      <th>wm</th>\n",
       "    </tr>\n",
       "  </thead>\n",
       "  <tbody>\n",
       "    <tr>\n",
       "      <th>2</th>\n",
       "      <td>2</td>\n",
       "      <td>4</td>\n",
       "      <td>3</td>\n",
       "      <td>2</td>\n",
       "      <td>3</td>\n",
       "      <td>2</td>\n",
       "    </tr>\n",
       "  </tbody>\n",
       "</table>\n",
       "</div>"
      ],
      "text/plain": [
       "   dw  fridge  hvac  mw  oven  wm\n",
       "2   2       4     3   2     3   2"
      ]
     },
     "execution_count": 205,
     "metadata": {},
     "output_type": "execute_result"
    }
   ],
   "source": [
    "pd.DataFrame(rmse_tf_custom_2_static_weather_abs_latent)"
   ]
  },
  {
   "cell_type": "code",
   "execution_count": 211,
   "metadata": {
    "collapsed": false
   },
   "outputs": [],
   "source": [
    "winloss_tf_custom_2_static_weather_abs_result = {}\n",
    "winloss_tf_custom_2_static_weather_abs_latent = {}\n",
    "for appliance in tensor_custom_case_2_static_weather_abs_p:\n",
    "    winloss_tf_custom_2_static_weather_abs_result[appliance] = {}\n",
    "    winloss_tf_custom_2_static_weather_abs_latent[appliance] = {}\n",
    "    for case in range(2, 3):\n",
    "        winloss_tf_custom_2_static_weather_abs_result[appliance][case] = np.zeros((5, 5))\n",
    "        for a in range(1,6):\n",
    "            pred_1 = tensor_custom_case_2_static_weather_abs_p[appliance][case][a]\n",
    "            for b in range(1,6):\n",
    "                if a == b:\n",
    "                    continue\n",
    "                else:\n",
    "                    pred_2 = tensor_custom_case_2_static_weather_abs_p[appliance][case][b]\n",
    "                    win, loss = winorloss(pred_1, pred_2, appliance)\n",
    "                    winloss_tf_custom_2_static_weather_abs_result[appliance][case][a-1][b-1] = win\n",
    "                    winloss_tf_custom_2_static_weather_abs_result[appliance][case][b-1][a-1] = loss\n",
    "        factor_sum = winloss_tf_custom_2_static_weather_abs_result[appliance][case].sum(axis = 1)\n",
    "        best = factor_sum.argmax() + 1\n",
    "        winloss_tf_custom_2_static_weather_abs_latent[appliance][case] = best\n"
   ]
  },
  {
   "cell_type": "code",
   "execution_count": 212,
   "metadata": {
    "collapsed": false
   },
   "outputs": [
    {
     "data": {
      "text/html": [
       "<div>\n",
       "<table border=\"1\" class=\"dataframe\">\n",
       "  <thead>\n",
       "    <tr style=\"text-align: right;\">\n",
       "      <th></th>\n",
       "      <th>dw</th>\n",
       "      <th>fridge</th>\n",
       "      <th>hvac</th>\n",
       "      <th>mw</th>\n",
       "      <th>oven</th>\n",
       "      <th>wm</th>\n",
       "    </tr>\n",
       "  </thead>\n",
       "  <tbody>\n",
       "    <tr>\n",
       "      <th>2</th>\n",
       "      <td>2</td>\n",
       "      <td>2</td>\n",
       "      <td>4</td>\n",
       "      <td>2</td>\n",
       "      <td>3</td>\n",
       "      <td>2</td>\n",
       "    </tr>\n",
       "  </tbody>\n",
       "</table>\n",
       "</div>"
      ],
      "text/plain": [
       "   dw  fridge  hvac  mw  oven  wm\n",
       "2   2       2     4   2     3   2"
      ]
     },
     "execution_count": 212,
     "metadata": {},
     "output_type": "execute_result"
    }
   ],
   "source": [
    "pd.DataFrame(winloss_tf_custom_2_static_weather_abs_latent)"
   ]
  },
  {
   "cell_type": "markdown",
   "metadata": {},
   "source": [
    "# Tensor Custom Case 2 with Static and Weather, relative"
   ]
  },
  {
   "cell_type": "code",
   "execution_count": 213,
   "metadata": {
    "collapsed": true
   },
   "outputs": [],
   "source": [
    "rmse_tf_custom_2_static_weather_rel_result = {}\n",
    "rmse_tf_custom_2_static_weather_rel_latent = {}\n",
    "for appliance in tensor_custom_case_2_static_weather_rel_p:\n",
    "    rmse_tf_custom_2_static_weather_rel_result[appliance]= {}\n",
    "    rmse_tf_custom_2_static_weather_rel_latent[appliance] = {}\n",
    "    for case in range(2, 3):\n",
    "        best_error = 1e6\n",
    "        best_n = 0\n",
    "        for a in range(1, 6):\n",
    "            alpha, beta, error, e = compute_rmse_fraction(appliance, tensor_custom_case_2_static_weather_rel_p[appliance][case][a])\n",
    "            if error < best_error:\n",
    "                best_error = error\n",
    "                best_n = a\n",
    "        rmse_tf_custom_2_static_weather_rel_result[appliance][case] = best_error\n",
    "        rmse_tf_custom_2_static_weather_rel_latent[appliance][case] = best_n"
   ]
  },
  {
   "cell_type": "code",
   "execution_count": 214,
   "metadata": {
    "collapsed": false
   },
   "outputs": [
    {
     "data": {
      "text/html": [
       "<div>\n",
       "<table border=\"1\" class=\"dataframe\">\n",
       "  <thead>\n",
       "    <tr style=\"text-align: right;\">\n",
       "      <th></th>\n",
       "      <th>dw</th>\n",
       "      <th>fridge</th>\n",
       "      <th>hvac</th>\n",
       "      <th>mw</th>\n",
       "      <th>oven</th>\n",
       "      <th>wm</th>\n",
       "    </tr>\n",
       "  </thead>\n",
       "  <tbody>\n",
       "    <tr>\n",
       "      <th>2</th>\n",
       "      <td>2</td>\n",
       "      <td>3</td>\n",
       "      <td>3</td>\n",
       "      <td>2</td>\n",
       "      <td>4</td>\n",
       "      <td>2</td>\n",
       "    </tr>\n",
       "  </tbody>\n",
       "</table>\n",
       "</div>"
      ],
      "text/plain": [
       "   dw  fridge  hvac  mw  oven  wm\n",
       "2   2       3     3   2     4   2"
      ]
     },
     "execution_count": 214,
     "metadata": {},
     "output_type": "execute_result"
    }
   ],
   "source": [
    "pd.DataFrame(rmse_tf_custom_2_static_weather_rel_latent)"
   ]
  },
  {
   "cell_type": "code",
   "execution_count": 217,
   "metadata": {
    "collapsed": false
   },
   "outputs": [],
   "source": [
    "winloss_tf_custom_2_static_weather_rel_result = {}\n",
    "winloss_tf_custom_2_static_weather_rel_latent = {}\n",
    "for appliance in tensor_custom_case_2_static_weather_rel_p:\n",
    "    winloss_tf_custom_2_static_weather_rel_result[appliance] = {}\n",
    "    winloss_tf_custom_2_static_weather_rel_latent[appliance] = {}\n",
    "    for case in range(2,3):\n",
    "        winloss_tf_custom_2_static_weather_rel_result[appliance][case] = np.zeros((5, 5))\n",
    "        for a in range(1,6):\n",
    "            pred_1 = tensor_custom_case_2_static_weather_rel_p[appliance][case][a]\n",
    "            for b in range(1,6):\n",
    "                if a == b:\n",
    "                    continue\n",
    "                else:\n",
    "                    pred_2 = tensor_custom_case_2_static_weather_rel_p[appliance][case][b]\n",
    "                    win, loss = winorloss(pred_1, pred_2, appliance)\n",
    "                    winloss_tf_custom_2_static_weather_rel_result[appliance][case][a-1][b-1] = win\n",
    "                    winloss_tf_custom_2_static_weather_rel_result[appliance][case][b-1][a-1] = loss\n",
    "        factor_sum = winloss_tf_custom_2_static_weather_rel_result[appliance][case].sum(axis = 1)\n",
    "        best = factor_sum.argmax() + 1\n",
    "        winloss_tf_custom_2_static_weather_rel_latent[appliance][case] = best\n",
    "                "
   ]
  },
  {
   "cell_type": "code",
   "execution_count": 218,
   "metadata": {
    "collapsed": false
   },
   "outputs": [
    {
     "data": {
      "text/html": [
       "<div>\n",
       "<table border=\"1\" class=\"dataframe\">\n",
       "  <thead>\n",
       "    <tr style=\"text-align: right;\">\n",
       "      <th></th>\n",
       "      <th>dw</th>\n",
       "      <th>fridge</th>\n",
       "      <th>hvac</th>\n",
       "      <th>mw</th>\n",
       "      <th>oven</th>\n",
       "      <th>wm</th>\n",
       "    </tr>\n",
       "  </thead>\n",
       "  <tbody>\n",
       "    <tr>\n",
       "      <th>2</th>\n",
       "      <td>2</td>\n",
       "      <td>2</td>\n",
       "      <td>4</td>\n",
       "      <td>3</td>\n",
       "      <td>4</td>\n",
       "      <td>2</td>\n",
       "    </tr>\n",
       "  </tbody>\n",
       "</table>\n",
       "</div>"
      ],
      "text/plain": [
       "   dw  fridge  hvac  mw  oven  wm\n",
       "2   2       2     4   3     4   2"
      ]
     },
     "execution_count": 218,
     "metadata": {},
     "output_type": "execute_result"
    }
   ],
   "source": [
    "pd.DataFrame(winloss_tf_custom_2_static_weather_rel_latent)"
   ]
  },
  {
   "cell_type": "markdown",
   "metadata": {},
   "source": [
    "# Tensor Custom Case 2 with Static, absolute"
   ]
  },
  {
   "cell_type": "code",
   "execution_count": 219,
   "metadata": {
    "collapsed": true
   },
   "outputs": [],
   "source": [
    "rmse_tf_custom_2_static_abs_result = {}\n",
    "rmse_tf_custom_2_static_abs_latent = {}\n",
    "for appliance in tensor_custom_case_2_static_abs_p:\n",
    "    rmse_tf_custom_2_static_abs_result[appliance]= {}\n",
    "    rmse_tf_custom_2_static_abs_latent[appliance] = {}\n",
    "    for case in range(2, 3):\n",
    "        best_error = 1e6\n",
    "        best_n = 0\n",
    "        for a in range(1, 6):\n",
    "            alpha, beta, error, e = compute_rmse_fraction(appliance, tensor_custom_case_2_static_abs_p[appliance][case][a])\n",
    "            if error < best_error:\n",
    "                best_error = error\n",
    "                best_n = a\n",
    "        rmse_tf_custom_2_static_abs_result[appliance][case] = best_error\n",
    "        rmse_tf_custom_2_static_abs_latent[appliance][case] = best_n"
   ]
  },
  {
   "cell_type": "code",
   "execution_count": 220,
   "metadata": {
    "collapsed": false
   },
   "outputs": [
    {
     "data": {
      "text/html": [
       "<div>\n",
       "<table border=\"1\" class=\"dataframe\">\n",
       "  <thead>\n",
       "    <tr style=\"text-align: right;\">\n",
       "      <th></th>\n",
       "      <th>dw</th>\n",
       "      <th>fridge</th>\n",
       "      <th>hvac</th>\n",
       "      <th>mw</th>\n",
       "      <th>oven</th>\n",
       "      <th>wm</th>\n",
       "    </tr>\n",
       "  </thead>\n",
       "  <tbody>\n",
       "    <tr>\n",
       "      <th>2</th>\n",
       "      <td>3</td>\n",
       "      <td>3</td>\n",
       "      <td>5</td>\n",
       "      <td>1</td>\n",
       "      <td>2</td>\n",
       "      <td>2</td>\n",
       "    </tr>\n",
       "  </tbody>\n",
       "</table>\n",
       "</div>"
      ],
      "text/plain": [
       "   dw  fridge  hvac  mw  oven  wm\n",
       "2   3       3     5   1     2   2"
      ]
     },
     "execution_count": 220,
     "metadata": {},
     "output_type": "execute_result"
    }
   ],
   "source": [
    "pd.DataFrame(rmse_tf_custom_2_static_abs_latent)"
   ]
  },
  {
   "cell_type": "code",
   "execution_count": 223,
   "metadata": {
    "collapsed": false
   },
   "outputs": [],
   "source": [
    "winloss_tf_custom_2_static_abs_result = {}\n",
    "winloss_tf_custom_2_static_abs_latent = {}\n",
    "for appliance in tensor_custom_case_2_static_abs_p:\n",
    "    winloss_tf_custom_2_static_abs_result[appliance] = {}\n",
    "    winloss_tf_custom_2_static_abs_latent[appliance] = {}\n",
    "    for case in range(2, 3):\n",
    "        winloss_tf_custom_2_static_abs_result[appliance][case] = np.zeros((5, 5))\n",
    "        for a in range(1,6):\n",
    "            pred_1 = tensor_custom_case_2_static_abs_p[appliance][case][a]\n",
    "            for b in range(1,6):\n",
    "                if a == b:\n",
    "                    continue\n",
    "                else:\n",
    "                    pred_2 = tensor_custom_case_2_static_abs_p[appliance][case][b]\n",
    "                    win, loss = winorloss(pred_1, pred_2, appliance)\n",
    "                    winloss_tf_custom_2_static_abs_result[appliance][case][a-1][b-1] = win\n",
    "                    winloss_tf_custom_2_static_abs_result[appliance][case][b-1][a-1] = loss\n",
    "        factor_sum = winloss_tf_custom_2_static_abs_result[appliance][case].sum(axis = 1)\n",
    "        best = factor_sum.argmax() + 1\n",
    "        winloss_tf_custom_2_static_abs_latent[appliance][case] = best\n",
    "                "
   ]
  },
  {
   "cell_type": "code",
   "execution_count": 224,
   "metadata": {
    "collapsed": false
   },
   "outputs": [
    {
     "data": {
      "text/html": [
       "<div>\n",
       "<table border=\"1\" class=\"dataframe\">\n",
       "  <thead>\n",
       "    <tr style=\"text-align: right;\">\n",
       "      <th></th>\n",
       "      <th>dw</th>\n",
       "      <th>fridge</th>\n",
       "      <th>hvac</th>\n",
       "      <th>mw</th>\n",
       "      <th>oven</th>\n",
       "      <th>wm</th>\n",
       "    </tr>\n",
       "  </thead>\n",
       "  <tbody>\n",
       "    <tr>\n",
       "      <th>2</th>\n",
       "      <td>3</td>\n",
       "      <td>2</td>\n",
       "      <td>4</td>\n",
       "      <td>1</td>\n",
       "      <td>3</td>\n",
       "      <td>1</td>\n",
       "    </tr>\n",
       "  </tbody>\n",
       "</table>\n",
       "</div>"
      ],
      "text/plain": [
       "   dw  fridge  hvac  mw  oven  wm\n",
       "2   3       2     4   1     3   1"
      ]
     },
     "execution_count": 224,
     "metadata": {},
     "output_type": "execute_result"
    }
   ],
   "source": [
    "pd.DataFrame(winloss_tf_custom_2_static_abs_latent)"
   ]
  },
  {
   "cell_type": "markdown",
   "metadata": {},
   "source": [
    "# Tensor Custom Case 2 with Static, relative"
   ]
  },
  {
   "cell_type": "code",
   "execution_count": 225,
   "metadata": {
    "collapsed": true
   },
   "outputs": [],
   "source": [
    "rmse_tf_custom_2_static_rel_result = {}\n",
    "rmse_tf_custom_2_static_rel_latent = {}\n",
    "for appliance in tensor_custom_case_2_static_rel_p:\n",
    "    rmse_tf_custom_2_static_rel_result[appliance]= {}\n",
    "    rmse_tf_custom_2_static_rel_latent[appliance] = {}\n",
    "    for case in range(2, 3):\n",
    "        best_error = 1e6\n",
    "        best_n = 0\n",
    "        for a in range(1, 6):\n",
    "            alpha, beta, error, e = compute_rmse_fraction(appliance, tensor_custom_case_2_static_rel_p[appliance][case][a])\n",
    "            if error < best_error:\n",
    "                best_error = error\n",
    "                best_n = a\n",
    "        rmse_tf_custom_2_static_rel_result[appliance][case] = best_error\n",
    "        rmse_tf_custom_2_static_rel_latent[appliance][case] = best_n"
   ]
  },
  {
   "cell_type": "code",
   "execution_count": 226,
   "metadata": {
    "collapsed": false
   },
   "outputs": [
    {
     "data": {
      "text/html": [
       "<div>\n",
       "<table border=\"1\" class=\"dataframe\">\n",
       "  <thead>\n",
       "    <tr style=\"text-align: right;\">\n",
       "      <th></th>\n",
       "      <th>dw</th>\n",
       "      <th>fridge</th>\n",
       "      <th>hvac</th>\n",
       "      <th>mw</th>\n",
       "      <th>oven</th>\n",
       "      <th>wm</th>\n",
       "    </tr>\n",
       "  </thead>\n",
       "  <tbody>\n",
       "    <tr>\n",
       "      <th>2</th>\n",
       "      <td>3</td>\n",
       "      <td>5</td>\n",
       "      <td>3</td>\n",
       "      <td>2</td>\n",
       "      <td>3</td>\n",
       "      <td>2</td>\n",
       "    </tr>\n",
       "  </tbody>\n",
       "</table>\n",
       "</div>"
      ],
      "text/plain": [
       "   dw  fridge  hvac  mw  oven  wm\n",
       "2   3       5     3   2     3   2"
      ]
     },
     "execution_count": 226,
     "metadata": {},
     "output_type": "execute_result"
    }
   ],
   "source": [
    "pd.DataFrame(rmse_tf_custom_2_static_rel_latent)"
   ]
  },
  {
   "cell_type": "code",
   "execution_count": 229,
   "metadata": {
    "collapsed": false
   },
   "outputs": [],
   "source": [
    "winloss_tf_custom_2_static_rel_result = {}\n",
    "winloss_tf_custom_2_static_rel_latent = {}\n",
    "for appliance in tensor_custom_case_2_static_rel_p:\n",
    "    winloss_tf_custom_2_static_rel_result[appliance] = {}\n",
    "    winloss_tf_custom_2_static_rel_latent[appliance] = {}\n",
    "    for case in range(2, 3):\n",
    "        winloss_tf_custom_2_static_rel_result[appliance][case] = np.zeros((5, 5))\n",
    "        for a in range(1,6):\n",
    "            pred_1 = tensor_custom_case_2_static_rel_p[appliance][case][a]\n",
    "            for b in range(1,6):\n",
    "                if a == b:\n",
    "                    continue\n",
    "                else:\n",
    "                    pred_2 = tensor_custom_case_2_static_rel_p[appliance][case][b]\n",
    "                    win, loss = winorloss(pred_1, pred_2, appliance)\n",
    "                    winloss_tf_custom_2_static_rel_result[appliance][case][a-1][b-1] = win\n",
    "                    winloss_tf_custom_2_static_rel_result[appliance][case][b-1][a-1] = loss\n",
    "        factor_sum = winloss_tf_custom_2_static_rel_result[appliance][case].sum(axis = 1)\n",
    "        best = factor_sum.argmax() + 1\n",
    "        winloss_tf_custom_2_static_rel_latent[appliance][case] = best\n",
    "                "
   ]
  },
  {
   "cell_type": "code",
   "execution_count": 230,
   "metadata": {
    "collapsed": false
   },
   "outputs": [
    {
     "data": {
      "text/html": [
       "<div>\n",
       "<table border=\"1\" class=\"dataframe\">\n",
       "  <thead>\n",
       "    <tr style=\"text-align: right;\">\n",
       "      <th></th>\n",
       "      <th>dw</th>\n",
       "      <th>fridge</th>\n",
       "      <th>hvac</th>\n",
       "      <th>mw</th>\n",
       "      <th>oven</th>\n",
       "      <th>wm</th>\n",
       "    </tr>\n",
       "  </thead>\n",
       "  <tbody>\n",
       "    <tr>\n",
       "      <th>2</th>\n",
       "      <td>2</td>\n",
       "      <td>2</td>\n",
       "      <td>3</td>\n",
       "      <td>1</td>\n",
       "      <td>2</td>\n",
       "      <td>4</td>\n",
       "    </tr>\n",
       "  </tbody>\n",
       "</table>\n",
       "</div>"
      ],
      "text/plain": [
       "   dw  fridge  hvac  mw  oven  wm\n",
       "2   2       2     3   1     2   4"
      ]
     },
     "execution_count": 230,
     "metadata": {},
     "output_type": "execute_result"
    }
   ],
   "source": [
    "pd.DataFrame(winloss_tf_custom_2_static_rel_latent)"
   ]
  },
  {
   "cell_type": "markdown",
   "metadata": {},
   "source": [
    "# Matrix Factorization"
   ]
  },
  {
   "cell_type": "code",
   "execution_count": null,
   "metadata": {
    "collapsed": false
   },
   "outputs": [],
   "source": [
    "winloss_mf_results = {}\n",
    "win_matrix = np.zeros((5,1))\n",
    "for appliance in mf_p:\n",
    "    winloss_mf_results[appliance] = {}\n",
    "    for feature in ['energy_static','energy']:\n",
    "        winloss_mf_results[appliance][feature] = {}\n",
    "        for cost in ['relative','absolute']:\n",
    "            winloss_mf_results[appliance][feature][cost] = np.zeros((5, 5))\n",
    "#             print mf_results[appliance][feature][cost]\n",
    "            for lat_1 in range(3, 8):\n",
    "                for lat_2 in range(3, 8):\n",
    "                    if lat_1 == lat_2:\n",
    "                        continue\n",
    "                    else:\n",
    "                        pred_1 = mf_p[appliance][feature][cost][lat_1]\n",
    "                        pred_2 = mf_p[appliance][feature][cost][lat_2]\n",
    "                        win, loss = winorloss(pred_1, pred_2, appliance)\n",
    "#                         print win, loss\n",
    "                        winloss_mf_results[appliance][feature][cost][lat_1 - 3][lat_2 - 3] = win\n",
    "                        winloss_mf_results[appliance][feature][cost][lat_2 - 3][lat_1 - 3] = loss\n",
    "            print appliance, feature, cost\n",
    "#             print mf_results[appliance][feature][cost]"
   ]
  },
  {
   "cell_type": "code",
   "execution_count": null,
   "metadata": {
    "collapsed": true
   },
   "outputs": [],
   "source": [
    "cost = 'relative'\n",
    "feature = 'energy'"
   ]
  },
  {
   "cell_type": "code",
   "execution_count": 88,
   "metadata": {
    "collapsed": false
   },
   "outputs": [],
   "source": [
    "# win_matrix = np.zeros((5,1))\n",
    "# for appliance in mf_p:\n",
    "#     factor_sum = mf_results[appliance][feature][cost].sum(axis = 1).reshape(5,1)\n",
    "#     win_matrix = win_matrix + factor_sum\n",
    "#     print appliance, feature, cost\n",
    "#     print win_matrix"
   ]
  },
  {
   "cell_type": "code",
   "execution_count": 46,
   "metadata": {
    "collapsed": false
   },
   "outputs": [
    {
     "name": "stdout",
     "output_type": "stream",
     "text": [
      "Fridge  \n"
     ]
    },
    {
     "data": {
      "text/html": [
       "<div>\n",
       "<table border=\"1\" class=\"dataframe\">\n",
       "  <thead>\n",
       "    <tr style=\"text-align: right;\">\n",
       "      <th></th>\n",
       "      <th>factor_3</th>\n",
       "      <th>factor_4</th>\n",
       "      <th>factor_5</th>\n",
       "      <th>factor_6</th>\n",
       "      <th>factor_7</th>\n",
       "      <th>sum</th>\n",
       "      <th>ratio</th>\n",
       "    </tr>\n",
       "  </thead>\n",
       "  <tbody>\n",
       "    <tr>\n",
       "      <th>factor_3</th>\n",
       "      <td>0.0</td>\n",
       "      <td>274.0</td>\n",
       "      <td>225.0</td>\n",
       "      <td>286.0</td>\n",
       "      <td>226.0</td>\n",
       "      <td>1011.0</td>\n",
       "      <td>0.501488</td>\n",
       "    </tr>\n",
       "    <tr>\n",
       "      <th>factor_4</th>\n",
       "      <td>230.0</td>\n",
       "      <td>0.0</td>\n",
       "      <td>225.0</td>\n",
       "      <td>266.0</td>\n",
       "      <td>235.0</td>\n",
       "      <td>956.0</td>\n",
       "      <td>0.474206</td>\n",
       "    </tr>\n",
       "    <tr>\n",
       "      <th>factor_5</th>\n",
       "      <td>279.0</td>\n",
       "      <td>279.0</td>\n",
       "      <td>0.0</td>\n",
       "      <td>296.0</td>\n",
       "      <td>234.0</td>\n",
       "      <td>1088.0</td>\n",
       "      <td>0.539683</td>\n",
       "    </tr>\n",
       "    <tr>\n",
       "      <th>factor_6</th>\n",
       "      <td>218.0</td>\n",
       "      <td>238.0</td>\n",
       "      <td>208.0</td>\n",
       "      <td>0.0</td>\n",
       "      <td>226.0</td>\n",
       "      <td>890.0</td>\n",
       "      <td>0.441468</td>\n",
       "    </tr>\n",
       "    <tr>\n",
       "      <th>factor_7</th>\n",
       "      <td>278.0</td>\n",
       "      <td>269.0</td>\n",
       "      <td>270.0</td>\n",
       "      <td>278.0</td>\n",
       "      <td>0.0</td>\n",
       "      <td>1095.0</td>\n",
       "      <td>0.543155</td>\n",
       "    </tr>\n",
       "  </tbody>\n",
       "</table>\n",
       "</div>"
      ],
      "text/plain": [
       "          factor_3  factor_4  factor_5  factor_6  factor_7     sum     ratio\n",
       "factor_3       0.0     274.0     225.0     286.0     226.0  1011.0  0.501488\n",
       "factor_4     230.0       0.0     225.0     266.0     235.0   956.0  0.474206\n",
       "factor_5     279.0     279.0       0.0     296.0     234.0  1088.0  0.539683\n",
       "factor_6     218.0     238.0     208.0       0.0     226.0   890.0  0.441468\n",
       "factor_7     278.0     269.0     270.0     278.0       0.0  1095.0  0.543155"
      ]
     },
     "execution_count": 46,
     "metadata": {},
     "output_type": "execute_result"
    }
   ],
   "source": [
    "appliance = 'fridge'\n",
    "factor_sum =  winloss_mf_results[appliance][feature][cost].sum(axis = 1).reshape(5, 1)\n",
    "whole_sum = winloss_mf_results[appliance][feature][cost].sum(axis=0)[0] + winloss_mf_results[appliance][feature][cost].sum(axis=1)[0]\n",
    "all_results = np.concatenate((winloss_mf_results[appliance][feature][cost], factor_sum), axis=1)\n",
    "all_results = np.concatenate((all_results, factor_sum/whole_sum), axis=1)\n",
    "pd_index = [\"factor_3\", \"factor_4\", \"factor_5\", \"factor_6\", \"factor_7\"]\n",
    "pd_column = [\"factor_3\", \"factor_4\", \"factor_5\", \"factor_6\", \"factor_7\", \"sum\", \"ratio\"]\n",
    "print \"Fridge  \"\n",
    "pd.DataFrame(data=all_results, index=pd_index, columns=pd_column)"
   ]
  },
  {
   "cell_type": "code",
   "execution_count": 30,
   "metadata": {
    "collapsed": false
   },
   "outputs": [
    {
     "name": "stdout",
     "output_type": "stream",
     "text": [
      "hvac\n"
     ]
    },
    {
     "data": {
      "text/html": [
       "<div>\n",
       "<table border=\"1\" class=\"dataframe\">\n",
       "  <thead>\n",
       "    <tr style=\"text-align: right;\">\n",
       "      <th></th>\n",
       "      <th>factor_3</th>\n",
       "      <th>factor_4</th>\n",
       "      <th>factor_5</th>\n",
       "      <th>factor_6</th>\n",
       "      <th>factor_7</th>\n",
       "      <th>sum</th>\n",
       "    </tr>\n",
       "  </thead>\n",
       "  <tbody>\n",
       "    <tr>\n",
       "      <th>factor_3</th>\n",
       "      <td>0.0</td>\n",
       "      <td>296.0</td>\n",
       "      <td>199.0</td>\n",
       "      <td>314.0</td>\n",
       "      <td>273.0</td>\n",
       "      <td>1082.0</td>\n",
       "    </tr>\n",
       "    <tr>\n",
       "      <th>factor_4</th>\n",
       "      <td>238.0</td>\n",
       "      <td>0.0</td>\n",
       "      <td>197.0</td>\n",
       "      <td>328.0</td>\n",
       "      <td>280.0</td>\n",
       "      <td>1043.0</td>\n",
       "    </tr>\n",
       "    <tr>\n",
       "      <th>factor_5</th>\n",
       "      <td>335.0</td>\n",
       "      <td>337.0</td>\n",
       "      <td>0.0</td>\n",
       "      <td>349.0</td>\n",
       "      <td>338.0</td>\n",
       "      <td>1359.0</td>\n",
       "    </tr>\n",
       "    <tr>\n",
       "      <th>factor_6</th>\n",
       "      <td>220.0</td>\n",
       "      <td>206.0</td>\n",
       "      <td>185.0</td>\n",
       "      <td>0.0</td>\n",
       "      <td>232.0</td>\n",
       "      <td>843.0</td>\n",
       "    </tr>\n",
       "    <tr>\n",
       "      <th>factor_7</th>\n",
       "      <td>261.0</td>\n",
       "      <td>254.0</td>\n",
       "      <td>196.0</td>\n",
       "      <td>302.0</td>\n",
       "      <td>0.0</td>\n",
       "      <td>1013.0</td>\n",
       "    </tr>\n",
       "  </tbody>\n",
       "</table>\n",
       "</div>"
      ],
      "text/plain": [
       "          factor_3  factor_4  factor_5  factor_6  factor_7     sum\n",
       "factor_3       0.0     296.0     199.0     314.0     273.0  1082.0\n",
       "factor_4     238.0       0.0     197.0     328.0     280.0  1043.0\n",
       "factor_5     335.0     337.0       0.0     349.0     338.0  1359.0\n",
       "factor_6     220.0     206.0     185.0       0.0     232.0   843.0\n",
       "factor_7     261.0     254.0     196.0     302.0       0.0  1013.0"
      ]
     },
     "execution_count": 30,
     "metadata": {},
     "output_type": "execute_result"
    }
   ],
   "source": [
    "appliance = 'hvac'\n",
    "factor_sum =  winloss_mf_results[appliance][feature][cost].sum(axis = 1).reshape(5, 1)\n",
    "all_results = np.concatenate((winloss_mf_results[appliance][feature][cost], factor_sum), axis=1)\n",
    "pd_index = [\"factor_3\", \"factor_4\", \"factor_5\", \"factor_6\", \"factor_7\"]\n",
    "pd_column = [\"factor_3\", \"factor_4\", \"factor_5\", \"factor_6\", \"factor_7\", \"sum\"]\n",
    "print \"hvac\"\n",
    "pd.DataFrame(data=all_results, index=pd_index, columns=pd_column)"
   ]
  },
  {
   "cell_type": "code",
   "execution_count": 31,
   "metadata": {
    "collapsed": false
   },
   "outputs": [
    {
     "name": "stdout",
     "output_type": "stream",
     "text": [
      "Washing Machine\n"
     ]
    },
    {
     "data": {
      "text/html": [
       "<div>\n",
       "<table border=\"1\" class=\"dataframe\">\n",
       "  <thead>\n",
       "    <tr style=\"text-align: right;\">\n",
       "      <th></th>\n",
       "      <th>factor_3</th>\n",
       "      <th>factor_4</th>\n",
       "      <th>factor_5</th>\n",
       "      <th>factor_6</th>\n",
       "      <th>factor_7</th>\n",
       "      <th>sum</th>\n",
       "    </tr>\n",
       "  </thead>\n",
       "  <tbody>\n",
       "    <tr>\n",
       "      <th>factor_3</th>\n",
       "      <td>0.0</td>\n",
       "      <td>211.0</td>\n",
       "      <td>172.0</td>\n",
       "      <td>173.0</td>\n",
       "      <td>176.0</td>\n",
       "      <td>732.0</td>\n",
       "    </tr>\n",
       "    <tr>\n",
       "      <th>factor_4</th>\n",
       "      <td>185.0</td>\n",
       "      <td>0.0</td>\n",
       "      <td>167.0</td>\n",
       "      <td>137.0</td>\n",
       "      <td>169.0</td>\n",
       "      <td>658.0</td>\n",
       "    </tr>\n",
       "    <tr>\n",
       "      <th>factor_5</th>\n",
       "      <td>224.0</td>\n",
       "      <td>229.0</td>\n",
       "      <td>0.0</td>\n",
       "      <td>195.0</td>\n",
       "      <td>235.0</td>\n",
       "      <td>883.0</td>\n",
       "    </tr>\n",
       "    <tr>\n",
       "      <th>factor_6</th>\n",
       "      <td>223.0</td>\n",
       "      <td>259.0</td>\n",
       "      <td>201.0</td>\n",
       "      <td>0.0</td>\n",
       "      <td>240.0</td>\n",
       "      <td>923.0</td>\n",
       "    </tr>\n",
       "    <tr>\n",
       "      <th>factor_7</th>\n",
       "      <td>220.0</td>\n",
       "      <td>227.0</td>\n",
       "      <td>161.0</td>\n",
       "      <td>156.0</td>\n",
       "      <td>0.0</td>\n",
       "      <td>764.0</td>\n",
       "    </tr>\n",
       "  </tbody>\n",
       "</table>\n",
       "</div>"
      ],
      "text/plain": [
       "          factor_3  factor_4  factor_5  factor_6  factor_7    sum\n",
       "factor_3       0.0     211.0     172.0     173.0     176.0  732.0\n",
       "factor_4     185.0       0.0     167.0     137.0     169.0  658.0\n",
       "factor_5     224.0     229.0       0.0     195.0     235.0  883.0\n",
       "factor_6     223.0     259.0     201.0       0.0     240.0  923.0\n",
       "factor_7     220.0     227.0     161.0     156.0       0.0  764.0"
      ]
     },
     "execution_count": 31,
     "metadata": {},
     "output_type": "execute_result"
    }
   ],
   "source": [
    "appliance = 'wm'\n",
    "factor_sum =  winloss_mf_results[appliance][feature][cost].sum(axis = 1).reshape(5, 1)\n",
    "all_results = np.concatenate((winloss_mf_results[appliance][feature][cost], factor_sum), axis=1)\n",
    "pd_index = [\"factor_3\", \"factor_4\", \"factor_5\", \"factor_6\", \"factor_7\"]\n",
    "pd_column = [\"factor_3\", \"factor_4\", \"factor_5\", \"factor_6\", \"factor_7\", \"sum\"]\n",
    "print \"Washing Machine\"\n",
    "pd.DataFrame(data=all_results, index=pd_index, columns=pd_column)"
   ]
  },
  {
   "cell_type": "code",
   "execution_count": 32,
   "metadata": {
    "collapsed": false
   },
   "outputs": [
    {
     "name": "stdout",
     "output_type": "stream",
     "text": [
      "Microwave\n"
     ]
    },
    {
     "data": {
      "text/html": [
       "<div>\n",
       "<table border=\"1\" class=\"dataframe\">\n",
       "  <thead>\n",
       "    <tr style=\"text-align: right;\">\n",
       "      <th></th>\n",
       "      <th>factor_3</th>\n",
       "      <th>factor_4</th>\n",
       "      <th>factor_5</th>\n",
       "      <th>factor_6</th>\n",
       "      <th>factor_7</th>\n",
       "      <th>sum</th>\n",
       "    </tr>\n",
       "  </thead>\n",
       "  <tbody>\n",
       "    <tr>\n",
       "      <th>factor_3</th>\n",
       "      <td>0.0</td>\n",
       "      <td>162.0</td>\n",
       "      <td>147.0</td>\n",
       "      <td>206.0</td>\n",
       "      <td>190.0</td>\n",
       "      <td>705.0</td>\n",
       "    </tr>\n",
       "    <tr>\n",
       "      <th>factor_4</th>\n",
       "      <td>150.0</td>\n",
       "      <td>0.0</td>\n",
       "      <td>166.0</td>\n",
       "      <td>191.0</td>\n",
       "      <td>199.0</td>\n",
       "      <td>706.0</td>\n",
       "    </tr>\n",
       "    <tr>\n",
       "      <th>factor_5</th>\n",
       "      <td>165.0</td>\n",
       "      <td>146.0</td>\n",
       "      <td>0.0</td>\n",
       "      <td>188.0</td>\n",
       "      <td>172.0</td>\n",
       "      <td>671.0</td>\n",
       "    </tr>\n",
       "    <tr>\n",
       "      <th>factor_6</th>\n",
       "      <td>106.0</td>\n",
       "      <td>121.0</td>\n",
       "      <td>124.0</td>\n",
       "      <td>0.0</td>\n",
       "      <td>179.0</td>\n",
       "      <td>530.0</td>\n",
       "    </tr>\n",
       "    <tr>\n",
       "      <th>factor_7</th>\n",
       "      <td>122.0</td>\n",
       "      <td>113.0</td>\n",
       "      <td>140.0</td>\n",
       "      <td>133.0</td>\n",
       "      <td>0.0</td>\n",
       "      <td>508.0</td>\n",
       "    </tr>\n",
       "  </tbody>\n",
       "</table>\n",
       "</div>"
      ],
      "text/plain": [
       "          factor_3  factor_4  factor_5  factor_6  factor_7    sum\n",
       "factor_3       0.0     162.0     147.0     206.0     190.0  705.0\n",
       "factor_4     150.0       0.0     166.0     191.0     199.0  706.0\n",
       "factor_5     165.0     146.0       0.0     188.0     172.0  671.0\n",
       "factor_6     106.0     121.0     124.0       0.0     179.0  530.0\n",
       "factor_7     122.0     113.0     140.0     133.0       0.0  508.0"
      ]
     },
     "execution_count": 32,
     "metadata": {},
     "output_type": "execute_result"
    }
   ],
   "source": [
    "appliance = 'mw'\n",
    "factor_sum =  winloss_mf_results[appliance][feature][cost].sum(axis = 1).reshape(5, 1)\n",
    "all_results = np.concatenate((winloss_mf_results[appliance][feature][cost], factor_sum), axis=1)\n",
    "pd_index = [\"factor_3\", \"factor_4\", \"factor_5\", \"factor_6\", \"factor_7\"]\n",
    "pd_column = [\"factor_3\", \"factor_4\", \"factor_5\", \"factor_6\", \"factor_7\", \"sum\"]\n",
    "print \"Microwave\"\n",
    "pd.DataFrame(data=all_results, index=pd_index, columns=pd_column)"
   ]
  },
  {
   "cell_type": "code",
   "execution_count": 33,
   "metadata": {
    "collapsed": false
   },
   "outputs": [
    {
     "name": "stdout",
     "output_type": "stream",
     "text": [
      "Oven\n"
     ]
    },
    {
     "data": {
      "text/html": [
       "<div>\n",
       "<table border=\"1\" class=\"dataframe\">\n",
       "  <thead>\n",
       "    <tr style=\"text-align: right;\">\n",
       "      <th></th>\n",
       "      <th>factor_3</th>\n",
       "      <th>factor_4</th>\n",
       "      <th>factor_5</th>\n",
       "      <th>factor_6</th>\n",
       "      <th>factor_7</th>\n",
       "      <th>sum</th>\n",
       "    </tr>\n",
       "  </thead>\n",
       "  <tbody>\n",
       "    <tr>\n",
       "      <th>factor_3</th>\n",
       "      <td>0.0</td>\n",
       "      <td>92.0</td>\n",
       "      <td>123.0</td>\n",
       "      <td>113.0</td>\n",
       "      <td>120.0</td>\n",
       "      <td>448.0</td>\n",
       "    </tr>\n",
       "    <tr>\n",
       "      <th>factor_4</th>\n",
       "      <td>136.0</td>\n",
       "      <td>0.0</td>\n",
       "      <td>128.0</td>\n",
       "      <td>120.0</td>\n",
       "      <td>137.0</td>\n",
       "      <td>521.0</td>\n",
       "    </tr>\n",
       "    <tr>\n",
       "      <th>factor_5</th>\n",
       "      <td>105.0</td>\n",
       "      <td>100.0</td>\n",
       "      <td>0.0</td>\n",
       "      <td>121.0</td>\n",
       "      <td>118.0</td>\n",
       "      <td>444.0</td>\n",
       "    </tr>\n",
       "    <tr>\n",
       "      <th>factor_6</th>\n",
       "      <td>115.0</td>\n",
       "      <td>108.0</td>\n",
       "      <td>107.0</td>\n",
       "      <td>0.0</td>\n",
       "      <td>116.0</td>\n",
       "      <td>446.0</td>\n",
       "    </tr>\n",
       "    <tr>\n",
       "      <th>factor_7</th>\n",
       "      <td>108.0</td>\n",
       "      <td>91.0</td>\n",
       "      <td>110.0</td>\n",
       "      <td>112.0</td>\n",
       "      <td>0.0</td>\n",
       "      <td>421.0</td>\n",
       "    </tr>\n",
       "  </tbody>\n",
       "</table>\n",
       "</div>"
      ],
      "text/plain": [
       "          factor_3  factor_4  factor_5  factor_6  factor_7    sum\n",
       "factor_3       0.0      92.0     123.0     113.0     120.0  448.0\n",
       "factor_4     136.0       0.0     128.0     120.0     137.0  521.0\n",
       "factor_5     105.0     100.0       0.0     121.0     118.0  444.0\n",
       "factor_6     115.0     108.0     107.0       0.0     116.0  446.0\n",
       "factor_7     108.0      91.0     110.0     112.0       0.0  421.0"
      ]
     },
     "execution_count": 33,
     "metadata": {},
     "output_type": "execute_result"
    }
   ],
   "source": [
    "appliance = 'oven'\n",
    "factor_sum =  mf_results[appliance][feature][cost].sum(axis = 1).reshape(5, 1)\n",
    "all_results = np.concatenate((mf_results[appliance][feature][cost], factor_sum), axis=1)\n",
    "pd_index = [\"factor_3\", \"factor_4\", \"factor_5\", \"factor_6\", \"factor_7\"]\n",
    "pd_column = [\"factor_3\", \"factor_4\", \"factor_5\", \"factor_6\", \"factor_7\", \"sum\"]\n",
    "print \"Oven\"\n",
    "pd.DataFrame(data=all_results, index=pd_index, columns=pd_column)"
   ]
  },
  {
   "cell_type": "code",
   "execution_count": 34,
   "metadata": {
    "collapsed": false
   },
   "outputs": [
    {
     "name": "stdout",
     "output_type": "stream",
     "text": [
      "Dish Washer\n"
     ]
    },
    {
     "data": {
      "text/html": [
       "<div>\n",
       "<table border=\"1\" class=\"dataframe\">\n",
       "  <thead>\n",
       "    <tr style=\"text-align: right;\">\n",
       "      <th></th>\n",
       "      <th>factor_3</th>\n",
       "      <th>factor_4</th>\n",
       "      <th>factor_5</th>\n",
       "      <th>factor_6</th>\n",
       "      <th>factor_7</th>\n",
       "      <th>sum</th>\n",
       "    </tr>\n",
       "  </thead>\n",
       "  <tbody>\n",
       "    <tr>\n",
       "      <th>factor_3</th>\n",
       "      <td>0.0</td>\n",
       "      <td>143.0</td>\n",
       "      <td>147.0</td>\n",
       "      <td>132.0</td>\n",
       "      <td>167.0</td>\n",
       "      <td>589.0</td>\n",
       "    </tr>\n",
       "    <tr>\n",
       "      <th>factor_4</th>\n",
       "      <td>169.0</td>\n",
       "      <td>0.0</td>\n",
       "      <td>157.0</td>\n",
       "      <td>160.0</td>\n",
       "      <td>150.0</td>\n",
       "      <td>636.0</td>\n",
       "    </tr>\n",
       "    <tr>\n",
       "      <th>factor_5</th>\n",
       "      <td>165.0</td>\n",
       "      <td>155.0</td>\n",
       "      <td>0.0</td>\n",
       "      <td>153.0</td>\n",
       "      <td>163.0</td>\n",
       "      <td>636.0</td>\n",
       "    </tr>\n",
       "    <tr>\n",
       "      <th>factor_6</th>\n",
       "      <td>180.0</td>\n",
       "      <td>152.0</td>\n",
       "      <td>159.0</td>\n",
       "      <td>0.0</td>\n",
       "      <td>140.0</td>\n",
       "      <td>631.0</td>\n",
       "    </tr>\n",
       "    <tr>\n",
       "      <th>factor_7</th>\n",
       "      <td>145.0</td>\n",
       "      <td>162.0</td>\n",
       "      <td>149.0</td>\n",
       "      <td>172.0</td>\n",
       "      <td>0.0</td>\n",
       "      <td>628.0</td>\n",
       "    </tr>\n",
       "  </tbody>\n",
       "</table>\n",
       "</div>"
      ],
      "text/plain": [
       "          factor_3  factor_4  factor_5  factor_6  factor_7    sum\n",
       "factor_3       0.0     143.0     147.0     132.0     167.0  589.0\n",
       "factor_4     169.0       0.0     157.0     160.0     150.0  636.0\n",
       "factor_5     165.0     155.0       0.0     153.0     163.0  636.0\n",
       "factor_6     180.0     152.0     159.0       0.0     140.0  631.0\n",
       "factor_7     145.0     162.0     149.0     172.0       0.0  628.0"
      ]
     },
     "execution_count": 34,
     "metadata": {},
     "output_type": "execute_result"
    }
   ],
   "source": [
    "appliance = 'dw'\n",
    "\n",
    "factor_sum =  mf_results[appliance][feature][cost].sum(axis = 1).reshape(5, 1)\n",
    "all_results = np.concatenate((mf_results[appliance][feature][cost], factor_sum), axis=1)\n",
    "pd_index = [\"factor_3\", \"factor_4\", \"factor_5\", \"factor_6\", \"factor_7\"]\n",
    "pd_column = [\"factor_3\", \"factor_4\", \"factor_5\", \"factor_6\", \"factor_7\", \"sum\"]\n",
    "print \"Dish Washer\"\n",
    "pd.DataFrame(data=all_results, index=pd_index, columns=pd_column)"
   ]
  },
  {
   "cell_type": "markdown",
   "metadata": {},
   "source": [
    "## calculate the best factor for mf based on win/loss"
   ]
  },
  {
   "cell_type": "code",
   "execution_count": 74,
   "metadata": {
    "collapsed": false
   },
   "outputs": [
    {
     "name": "stdout",
     "output_type": "stream",
     "text": [
      "7\n"
     ]
    }
   ],
   "source": [
    "winloss_mf_latent = {}\n",
    "for appliance in mf_p:\n",
    "    winloss_mf_latent[appliance] = {}\n",
    "    for feature in ['energy_static', 'energy']:\n",
    "        winloss_mf_latent[appliance][feature] = {}\n",
    "        for cost in ['relative', 'absolute']:\n",
    "            factor_sum = winloss_mf_results[appliance][feature][cost].sum(axis = 1)\n",
    "#             best = factor_sum.index(max(factor_sum))\n",
    "#             indices = np.where(a == a.max())\n",
    "            best = factor_sum.argmax()\n",
    "            winloss_mf_latent[appliance][feature][cost] = best + 3\n",
    "print winloss_mf_latent['fridge']['energy']['relative']"
   ]
  },
  {
   "cell_type": "code",
   "execution_count": 77,
   "metadata": {
    "collapsed": true
   },
   "outputs": [],
   "source": [
    "winloss_mf_relative = {}\n",
    "winloss_mf_abs = {}\n",
    "for appliance in winloss_mf_results.keys():\n",
    "    for cost in ['relative','absolute']:\n",
    "        if cost==\"absolute\":\n",
    "            winloss_mf_abs[appliance] =  pd.DataFrame(winloss_mf_latent[appliance]).ix[cost]\n",
    "        else:\n",
    "            winloss_mf_relative[appliance] =  pd.DataFrame(winloss_mf_latent[appliance]).ix[cost]"
   ]
  },
  {
   "cell_type": "code",
   "execution_count": 86,
   "metadata": {
    "collapsed": false
   },
   "outputs": [
    {
     "name": "stdout",
     "output_type": "stream",
     "text": [
      "win/loss: mf_relative\n"
     ]
    },
    {
     "data": {
      "text/html": [
       "<div>\n",
       "<table border=\"1\" class=\"dataframe\">\n",
       "  <thead>\n",
       "    <tr style=\"text-align: right;\">\n",
       "      <th></th>\n",
       "      <th>dw</th>\n",
       "      <th>fridge</th>\n",
       "      <th>hvac</th>\n",
       "      <th>mw</th>\n",
       "      <th>oven</th>\n",
       "      <th>wm</th>\n",
       "    </tr>\n",
       "  </thead>\n",
       "  <tbody>\n",
       "    <tr>\n",
       "      <th>energy</th>\n",
       "      <td>4</td>\n",
       "      <td>7</td>\n",
       "      <td>5</td>\n",
       "      <td>4</td>\n",
       "      <td>4</td>\n",
       "      <td>6</td>\n",
       "    </tr>\n",
       "    <tr>\n",
       "      <th>energy_static</th>\n",
       "      <td>3</td>\n",
       "      <td>3</td>\n",
       "      <td>5</td>\n",
       "      <td>3</td>\n",
       "      <td>6</td>\n",
       "      <td>4</td>\n",
       "    </tr>\n",
       "  </tbody>\n",
       "</table>\n",
       "</div>"
      ],
      "text/plain": [
       "               dw  fridge  hvac  mw  oven  wm\n",
       "energy          4       7     5   4     4   6\n",
       "energy_static   3       3     5   3     6   4"
      ]
     },
     "execution_count": 86,
     "metadata": {},
     "output_type": "execute_result"
    }
   ],
   "source": [
    "print \"win/loss: mf_relative\"\n",
    "pd.DataFrame(winloss_mf_relative)\n"
   ]
  },
  {
   "cell_type": "code",
   "execution_count": 87,
   "metadata": {
    "collapsed": false,
    "scrolled": true
   },
   "outputs": [
    {
     "name": "stdout",
     "output_type": "stream",
     "text": [
      "win/loss: absolute\n"
     ]
    },
    {
     "data": {
      "text/html": [
       "<div>\n",
       "<table border=\"1\" class=\"dataframe\">\n",
       "  <thead>\n",
       "    <tr style=\"text-align: right;\">\n",
       "      <th></th>\n",
       "      <th>dw</th>\n",
       "      <th>fridge</th>\n",
       "      <th>hvac</th>\n",
       "      <th>mw</th>\n",
       "      <th>oven</th>\n",
       "      <th>wm</th>\n",
       "    </tr>\n",
       "  </thead>\n",
       "  <tbody>\n",
       "    <tr>\n",
       "      <th>energy</th>\n",
       "      <td>7</td>\n",
       "      <td>4</td>\n",
       "      <td>7</td>\n",
       "      <td>3</td>\n",
       "      <td>4</td>\n",
       "      <td>3</td>\n",
       "    </tr>\n",
       "    <tr>\n",
       "      <th>energy_static</th>\n",
       "      <td>3</td>\n",
       "      <td>3</td>\n",
       "      <td>4</td>\n",
       "      <td>3</td>\n",
       "      <td>3</td>\n",
       "      <td>5</td>\n",
       "    </tr>\n",
       "  </tbody>\n",
       "</table>\n",
       "</div>"
      ],
      "text/plain": [
       "               dw  fridge  hvac  mw  oven  wm\n",
       "energy          7       4     7   3     4   3\n",
       "energy_static   3       3     4   3     3   5"
      ]
     },
     "execution_count": 87,
     "metadata": {},
     "output_type": "execute_result"
    }
   ],
   "source": [
    "print \"win/loss: absolute\"\n",
    "pd.DataFrame(winloss_mf_abs)"
   ]
  },
  {
   "cell_type": "markdown",
   "metadata": {},
   "source": [
    "## calculate the best factor for mf based on RMSE"
   ]
  },
  {
   "cell_type": "code",
   "execution_count": 58,
   "metadata": {
    "collapsed": false
   },
   "outputs": [
    {
     "name": "stdout",
     "output_type": "stream",
     "text": [
      "5 13.9521429822\n",
      "4 12.375774955\n",
      "5 13.469415368\n",
      "7 13.3840749751\n",
      "3 0.421989697507\n",
      "5 0.415035421109\n",
      "6 0.432161887913\n",
      "3 0.410138601918\n",
      "3 4.13605389051\n",
      "5 3.45110746712\n",
      "5 4.24984004827\n",
      "5 3.7090804557\n",
      "3 2.04396191455\n",
      "3 1.94103639731\n",
      "3 1.99015085019\n",
      "3 1.94335700744\n",
      "7 1.28259276358\n",
      "3 1.19365338472\n",
      "6 1.38564200487\n",
      "3 1.15585691192\n",
      "3 0.91622326559\n",
      "3 0.787991184931\n",
      "7 1.36225438741\n",
      "7 1.01248136816\n"
     ]
    }
   ],
   "source": [
    "mf_results = {}\n",
    "rmse_mf_latent = {}\n",
    "for appliance in mf_p:\n",
    "    mf_results[appliance] = {}\n",
    "    rmse_mf_latent[appliance] = {}\n",
    "    for feature in ['energy_static','energy']:\n",
    "        mf_results[appliance][feature] = {}\n",
    "        rmse_mf_latent[appliance][feature] = {}\n",
    "        for cost in ['relative','absolute']:\n",
    "            mf_results[appliance][feature][cost] = {}\n",
    "            rmse_mf_latent[appliance][feature][cost] = {}\n",
    "            least_error = 1000\n",
    "            for lat in range(3, 8):\n",
    "                \n",
    "                pred = mf_p[appliance][feature][cost][lat]\n",
    "                gt_f, pred_f, rms,e  = compute_rmse_fraction(appliance, pred)\n",
    "                if rms < least_error:\n",
    "                    least_error = rms\n",
    "                    best_k = lat\n",
    "#             print lat, cost, feature, appliance\n",
    "#             print best_k, least_error\n",
    "            mf_results[appliance][feature][cost] = least_error\n",
    "            rmse_mf_latent[appliance][feature][cost] = best_k"
   ]
  },
  {
   "cell_type": "code",
   "execution_count": 59,
   "metadata": {
    "collapsed": true
   },
   "outputs": [],
   "source": [
    "mf_relative = {}\n",
    "mf_abs = {}\n",
    "for appliance in mf_results.keys():\n",
    "    for cost in ['relative','absolute']:\n",
    "        if cost==\"absolute\":\n",
    "            mf_abs[appliance] =  pd.DataFrame(mf_results[appliance]).ix[cost]\n",
    "        else:\n",
    "            mf_relative[appliance] =  pd.DataFrame(mf_results[appliance]).ix[cost]"
   ]
  },
  {
   "cell_type": "code",
   "execution_count": 60,
   "metadata": {
    "collapsed": false
   },
   "outputs": [],
   "source": [
    "latent_relative = {}\n",
    "latent_abs = {}\n",
    "for appliance in best_latent.keys():\n",
    "    for cost in ['relative', 'absolute']:\n",
    "        if cost == \"absolute\":\n",
    "            latent_abs[appliance] = pd.DataFrame(rmse_mf_latent[appliance]).ix[cost]\n",
    "        else:\n",
    "            latent_relative[appliance] = pd.DataFrame(rmse_mf_latent[appliance]).ix[cost]"
   ]
  },
  {
   "cell_type": "code",
   "execution_count": 61,
   "metadata": {
    "collapsed": false
   },
   "outputs": [
    {
     "data": {
      "text/html": [
       "<div>\n",
       "<table border=\"1\" class=\"dataframe\">\n",
       "  <thead>\n",
       "    <tr style=\"text-align: right;\">\n",
       "      <th></th>\n",
       "      <th>dw</th>\n",
       "      <th>fridge</th>\n",
       "      <th>hvac</th>\n",
       "      <th>mw</th>\n",
       "      <th>oven</th>\n",
       "      <th>wm</th>\n",
       "    </tr>\n",
       "  </thead>\n",
       "  <tbody>\n",
       "    <tr>\n",
       "      <th>energy</th>\n",
       "      <td>1.362254</td>\n",
       "      <td>4.249840</td>\n",
       "      <td>13.469415</td>\n",
       "      <td>1.990151</td>\n",
       "      <td>1.385642</td>\n",
       "      <td>0.432162</td>\n",
       "    </tr>\n",
       "    <tr>\n",
       "      <th>energy_static</th>\n",
       "      <td>0.916223</td>\n",
       "      <td>4.136054</td>\n",
       "      <td>13.952143</td>\n",
       "      <td>2.043962</td>\n",
       "      <td>1.282593</td>\n",
       "      <td>0.421990</td>\n",
       "    </tr>\n",
       "  </tbody>\n",
       "</table>\n",
       "</div>"
      ],
      "text/plain": [
       "                     dw    fridge       hvac        mw      oven        wm\n",
       "energy         1.362254  4.249840  13.469415  1.990151  1.385642  0.432162\n",
       "energy_static  0.916223  4.136054  13.952143  2.043962  1.282593  0.421990"
      ]
     },
     "execution_count": 61,
     "metadata": {},
     "output_type": "execute_result"
    }
   ],
   "source": [
    "pd.DataFrame(mf_relative)"
   ]
  },
  {
   "cell_type": "code",
   "execution_count": 83,
   "metadata": {
    "collapsed": false
   },
   "outputs": [
    {
     "name": "stdout",
     "output_type": "stream",
     "text": [
      "rmse: absolute\n"
     ]
    },
    {
     "data": {
      "text/html": [
       "<div>\n",
       "<table border=\"1\" class=\"dataframe\">\n",
       "  <thead>\n",
       "    <tr style=\"text-align: right;\">\n",
       "      <th></th>\n",
       "      <th>dw</th>\n",
       "      <th>fridge</th>\n",
       "      <th>hvac</th>\n",
       "      <th>mw</th>\n",
       "      <th>oven</th>\n",
       "      <th>wm</th>\n",
       "    </tr>\n",
       "  </thead>\n",
       "  <tbody>\n",
       "    <tr>\n",
       "      <th>energy</th>\n",
       "      <td>7</td>\n",
       "      <td>5</td>\n",
       "      <td>7</td>\n",
       "      <td>3</td>\n",
       "      <td>3</td>\n",
       "      <td>3</td>\n",
       "    </tr>\n",
       "    <tr>\n",
       "      <th>energy_static</th>\n",
       "      <td>3</td>\n",
       "      <td>5</td>\n",
       "      <td>4</td>\n",
       "      <td>3</td>\n",
       "      <td>3</td>\n",
       "      <td>5</td>\n",
       "    </tr>\n",
       "  </tbody>\n",
       "</table>\n",
       "</div>"
      ],
      "text/plain": [
       "               dw  fridge  hvac  mw  oven  wm\n",
       "energy          7       5     7   3     3   3\n",
       "energy_static   3       5     4   3     3   5"
      ]
     },
     "execution_count": 83,
     "metadata": {},
     "output_type": "execute_result"
    }
   ],
   "source": [
    "print \"rmse: absolute\"\n",
    "pd.DataFrame(latent_abs)"
   ]
  },
  {
   "cell_type": "code",
   "execution_count": 84,
   "metadata": {
    "collapsed": false
   },
   "outputs": [
    {
     "name": "stdout",
     "output_type": "stream",
     "text": [
      "rmse: relative\n"
     ]
    },
    {
     "data": {
      "text/html": [
       "<div>\n",
       "<table border=\"1\" class=\"dataframe\">\n",
       "  <thead>\n",
       "    <tr style=\"text-align: right;\">\n",
       "      <th></th>\n",
       "      <th>dw</th>\n",
       "      <th>fridge</th>\n",
       "      <th>hvac</th>\n",
       "      <th>mw</th>\n",
       "      <th>oven</th>\n",
       "      <th>wm</th>\n",
       "    </tr>\n",
       "  </thead>\n",
       "  <tbody>\n",
       "    <tr>\n",
       "      <th>energy</th>\n",
       "      <td>7</td>\n",
       "      <td>5</td>\n",
       "      <td>5</td>\n",
       "      <td>3</td>\n",
       "      <td>6</td>\n",
       "      <td>6</td>\n",
       "    </tr>\n",
       "    <tr>\n",
       "      <th>energy_static</th>\n",
       "      <td>3</td>\n",
       "      <td>3</td>\n",
       "      <td>5</td>\n",
       "      <td>3</td>\n",
       "      <td>7</td>\n",
       "      <td>3</td>\n",
       "    </tr>\n",
       "  </tbody>\n",
       "</table>\n",
       "</div>"
      ],
      "text/plain": [
       "               dw  fridge  hvac  mw  oven  wm\n",
       "energy          7       5     5   3     6   6\n",
       "energy_static   3       3     5   3     7   3"
      ]
     },
     "execution_count": 84,
     "metadata": {},
     "output_type": "execute_result"
    }
   ],
   "source": [
    "print \"rmse: relative\"\n",
    "pd.DataFrame(latent_relative)"
   ]
  }
 ],
 "metadata": {
  "kernelspec": {
   "display_name": "Python 2",
   "language": "python",
   "name": "python2"
  },
  "language_info": {
   "codemirror_mode": {
    "name": "ipython",
    "version": 2
   },
   "file_extension": ".py",
   "mimetype": "text/x-python",
   "name": "python",
   "nbconvert_exporter": "python",
   "pygments_lexer": "ipython2",
   "version": "2.7.13"
  }
 },
 "nbformat": 4,
 "nbformat_minor": 1
}
