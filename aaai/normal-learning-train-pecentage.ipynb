{
 "cells": [
  {
   "cell_type": "code",
   "execution_count": 1,
   "metadata": {
    "collapsed": true
   },
   "outputs": [],
   "source": [
    "import matplotlib.pyplot as plt\n",
    "%matplotlib inline\n",
    "from sklearn.model_selection import KFold"
   ]
  },
  {
   "cell_type": "code",
   "execution_count": 2,
   "metadata": {
    "collapsed": true
   },
   "outputs": [],
   "source": [
    "from create_matrix import *\n",
    "\n",
    "from tensor_custom_core import *\n",
    "from create_matrix import *\n",
    "from tensor_custom_core import *\n",
    "from degree_days import dds\n",
    "appliance_index = {appliance: APPLIANCES_ORDER.index(appliance) for appliance in APPLIANCES_ORDER}\n",
    "\n",
    "APPLIANCES = ['fridge', 'hvac', 'wm', 'mw', 'oven', 'dw']\n",
    "region = \"SanDiego\"\n",
    "year = 2014\n",
    "\n",
    "import os\n",
    "\n",
    "\n",
    "def un_normalize(x, maximum, minimum):\n",
    "    return (maximum - minimum) * x + minimum"
   ]
  },
  {
   "cell_type": "code",
   "execution_count": 3,
   "metadata": {
    "collapsed": true
   },
   "outputs": [],
   "source": [
    "n_splits = 10\n",
    "import sys\n",
    "case=2\n",
    "a=2\n",
    "cost='abs'"
   ]
  },
  {
   "cell_type": "code",
   "execution_count": 4,
   "metadata": {
    "collapsed": true
   },
   "outputs": [],
   "source": [
    "def get_tensor(df, dfc):\n",
    "    start, stop = 1, 13\n",
    "    energy_cols = np.array(\n",
    "        [['%s_%d' % (appliance, month) for month in range(start, stop)] for appliance in APPLIANCES_ORDER]).flatten()\n",
    "\n",
    "    static_cols = ['area', 'total_occupants', 'num_rooms']\n",
    "    static_df = df[static_cols]\n",
    "    static_df = static_df.div(static_df.max())\n",
    "    weather_values = np.array(dds[2014][region][start - 1:stop - 1]).reshape(-1, 1)\n",
    "\n",
    "    dfc = df.copy()\n",
    "\n",
    "    df = dfc[energy_cols]\n",
    "    col_max = df.max().max()\n",
    "    col_min = df.min().min()\n",
    "    # df = (1.0 * (df - col_min)) / (col_max - col_min)\n",
    "    tensor = df.values.reshape((len(df), 7, stop - start))\n",
    "    M, N, O = tensor.shape\n",
    "    return tensor"
   ]
  },
  {
   "cell_type": "code",
   "execution_count": 5,
   "metadata": {
    "collapsed": true
   },
   "outputs": [],
   "source": [
    "df, dfc = create_matrix_single_region(\"SanDiego\", year)\n",
    "tensor = get_tensor(df, dfc)"
   ]
  },
  {
   "cell_type": "code",
   "execution_count": 6,
   "metadata": {
    "collapsed": true
   },
   "outputs": [],
   "source": [
    "from sklearn.model_selection import train_test_split, KFold"
   ]
  },
  {
   "cell_type": "code",
   "execution_count": 7,
   "metadata": {
    "collapsed": true
   },
   "outputs": [],
   "source": [
    "n_splits = 10\n"
   ]
  },
  {
   "cell_type": "code",
   "execution_count": 8,
   "metadata": {
    "collapsed": true
   },
   "outputs": [],
   "source": [
    "from common import compute_rmse"
   ]
  },
  {
   "cell_type": "code",
   "execution_count": 9,
   "metadata": {},
   "outputs": [
    {
     "data": {
      "text/plain": [
       "array([ 0.1,  0.2,  0.3,  0.4,  0.5,  0.6,  0.7,  0.8,  0.9])"
      ]
     },
     "execution_count": 9,
     "metadata": {},
     "output_type": "execute_result"
    }
   ],
   "source": [
    "np.arange(0.1, 1.0, 0.1)"
   ]
  },
  {
   "cell_type": "code",
   "execution_count": 10,
   "metadata": {
    "scrolled": true
   },
   "outputs": [
    {
     "name": "stdout",
     "output_type": "stream",
     "text": [
      "(0, '\\n')\n",
      "10 \n",
      "\n",
      "20 \n",
      "\n",
      "30 \n",
      "\n",
      "40 \n",
      "\n",
      "50 \n",
      "\n",
      "60 \n",
      "\n",
      "70 \n",
      "\n",
      "80 \n",
      "\n",
      "90 \n",
      "\n",
      "100 \n",
      "\n",
      "(1, '\\n')\n",
      "10 \n",
      "\n",
      "20 \n",
      "\n",
      "30 \n",
      "\n",
      "40 \n",
      "\n",
      "50 \n",
      "\n",
      "60 \n",
      "\n",
      "70 \n",
      "\n",
      "80 \n",
      "\n",
      "90 \n",
      "\n",
      "100 \n",
      "\n",
      "(2, '\\n')\n",
      "10 \n",
      "\n",
      "20 \n",
      "\n",
      "30 \n",
      "\n",
      "40 \n",
      "\n",
      "50 \n",
      "\n",
      "60 \n",
      "\n",
      "70 \n",
      "\n",
      "80 \n",
      "\n",
      "90 \n",
      "\n",
      "100 \n",
      "\n",
      "(3, '\\n')\n",
      "10 \n",
      "\n",
      "20 \n",
      "\n",
      "30 \n",
      "\n",
      "40 \n",
      "\n",
      "50 \n",
      "\n",
      "60 \n",
      "\n",
      "70 \n",
      "\n",
      "80 \n",
      "\n",
      "90 \n",
      "\n",
      "100 \n",
      "\n",
      "(4, '\\n')\n",
      "10 \n",
      "\n",
      "20 \n",
      "\n",
      "30 \n",
      "\n",
      "40 \n",
      "\n",
      "50 \n",
      "\n",
      "60 \n",
      "\n",
      "70 \n",
      "\n",
      "80 \n",
      "\n",
      "90 \n",
      "\n",
      "100 \n",
      "\n",
      "(5, '\\n')\n",
      "10 \n",
      "\n",
      "20 \n",
      "\n",
      "30 \n",
      "\n",
      "40 \n",
      "\n",
      "50 \n",
      "\n",
      "60 \n",
      "\n",
      "70 \n",
      "\n",
      "80 \n",
      "\n",
      "90 \n",
      "\n",
      "100 \n",
      "\n",
      "(6, '\\n')\n",
      "10 \n",
      "\n",
      "20 \n",
      "\n",
      "30 \n",
      "\n",
      "40 \n",
      "\n",
      "50 \n",
      "\n",
      "60 \n",
      "\n",
      "70 \n",
      "\n",
      "80 \n",
      "\n",
      "90 \n",
      "\n",
      "100 \n",
      "\n",
      "(7, '\\n')\n",
      "10 \n",
      "\n",
      "20 \n",
      "\n",
      "30 \n",
      "\n",
      "40 \n",
      "\n",
      "50 \n",
      "\n",
      "60 \n",
      "\n",
      "70 \n",
      "\n",
      "80 \n",
      "\n",
      "90 \n",
      "\n",
      "100 \n",
      "\n",
      "(8, '\\n')\n",
      "10 \n",
      "\n",
      "20 \n",
      "\n",
      "30 \n",
      "\n",
      "40 \n",
      "\n",
      "50 \n",
      "\n",
      "60 \n",
      "\n",
      "70 \n",
      "\n",
      "80 \n",
      "\n",
      "90 \n",
      "\n",
      "100 \n",
      "\n",
      "(9, '\\n')\n",
      "10 \n",
      "\n",
      "20 \n",
      "\n",
      "30 \n",
      "\n",
      "40 \n",
      "\n",
      "50 \n",
      "\n",
      "60 \n",
      "\n",
      "70 \n",
      "\n",
      "80 \n",
      "\n",
      "90 \n",
      "\n",
      "100 \n",
      "\n"
     ]
    }
   ],
   "source": [
    "pred = {}\n",
    "sd = {}\n",
    "out = {}\n",
    "n_splits = 10\n",
    "case = 2\n",
    "a = 2\n",
    "cost = 'abs'\n",
    "for random_seed in range(10):\n",
    "    pred[random_seed] = {}\n",
    "    for appliance in APPLIANCES_ORDER:\n",
    "        pred[random_seed][appliance] = {f:[] for f in range(10, 110, 10)}\n",
    "\n",
    "kf = KFold(n_splits=n_splits)\n",
    "for random_seed in range(10):\n",
    "    print(random_seed,\"\\n\")\n",
    "    for train_percentage in range(10, 110, 10):\n",
    "        print train_percentage, \"\\n\"\n",
    "        for train_max, test in kf.split(df):\n",
    "\n",
    "            num_train = int((train_percentage*len(train_max)/100)+0.5)\n",
    "            if train_percentage==100:\n",
    "                train = train_max\n",
    "            else:\n",
    "                train, _ = train_test_split(train_max, train_size = train_percentage/100.0, random_state=random_seed)\n",
    "            train_ix = df.index[train]\n",
    "            test_ix = df.index[test]\n",
    "           \n",
    "            num_test = len(test_ix)\n",
    "            train_test_ix = np.concatenate([test_ix, train_ix])\n",
    "            df_t, dfc_t = df.ix[train_test_ix], dfc.ix[train_test_ix]\n",
    "            tensor = get_tensor(df_t, dfc_t)\n",
    "            tensor_copy = tensor.copy()\n",
    "            # First n\n",
    "            tensor_copy[:num_test, 1:, :] = np.NaN\n",
    "            H, A, T = learn_HAT(case, tensor_copy, a, a, num_iter=2000, lr=0.1, dis=False, cost_function=cost)\n",
    "            HAT = multiply_case(H, A, T, case)\n",
    "            for appliance in APPLIANCES_ORDER:\n",
    "                pred[random_seed][appliance][train_percentage].append(pd.DataFrame(HAT[:num_test, appliance_index[appliance], :], index=test_ix))\n"
   ]
  },
  {
   "cell_type": "code",
   "execution_count": 11,
   "metadata": {
    "collapsed": true
   },
   "outputs": [],
   "source": [
    "from common import compute_rmse_fraction"
   ]
  },
  {
   "cell_type": "code",
   "execution_count": 12,
   "metadata": {},
   "outputs": [
    {
     "ename": "NameError",
     "evalue": "name 's' is not defined",
     "output_type": "error",
     "traceback": [
      "\u001b[0;31m---------------------------------------------------------------------------\u001b[0m",
      "\u001b[0;31mNameError\u001b[0m                                 Traceback (most recent call last)",
      "\u001b[0;32m<ipython-input-12-5b75bb42e2bf>\u001b[0m in \u001b[0;36m<module>\u001b[0;34m()\u001b[0m\n\u001b[0;32m----> 1\u001b[0;31m \u001b[0mlen\u001b[0m\u001b[0;34m(\u001b[0m\u001b[0mcompute_rmse_fraction\u001b[0m\u001b[0;34m(\u001b[0m\u001b[0;34m'hvac'\u001b[0m\u001b[0;34m,\u001b[0m\u001b[0ms\u001b[0m\u001b[0;34m[\u001b[0m\u001b[0mrange\u001b[0m\u001b[0;34m(\u001b[0m\u001b[0;36m4\u001b[0m\u001b[0;34m,\u001b[0m \u001b[0;36m10\u001b[0m\u001b[0;34m)\u001b[0m\u001b[0;34m]\u001b[0m\u001b[0;34m,\u001b[0m\u001b[0;34m'SanDiego'\u001b[0m\u001b[0;34m)\u001b[0m\u001b[0;34m[\u001b[0m\u001b[0;36m0\u001b[0m\u001b[0;34m]\u001b[0m\u001b[0;34m)\u001b[0m\u001b[0;34m\u001b[0m\u001b[0m\n\u001b[0m",
      "\u001b[0;31mNameError\u001b[0m: name 's' is not defined"
     ]
    }
   ],
   "source": [
    "len(compute_rmse_fraction('hvac',s[range(4, 10)],'SanDiego')[0])"
   ]
  },
  {
   "cell_type": "code",
   "execution_count": 13,
   "metadata": {},
   "outputs": [
    {
     "ename": "NameError",
     "evalue": "name 's' is not defined",
     "output_type": "error",
     "traceback": [
      "\u001b[0;31m---------------------------------------------------------------------------\u001b[0m",
      "\u001b[0;31mNameError\u001b[0m                                 Traceback (most recent call last)",
      "\u001b[0;32m<ipython-input-13-ac4c6cb038ec>\u001b[0m in \u001b[0;36m<module>\u001b[0;34m()\u001b[0m\n\u001b[0;32m----> 1\u001b[0;31m \u001b[0mlen\u001b[0m\u001b[0;34m(\u001b[0m\u001b[0mcompute_rmse\u001b[0m\u001b[0;34m(\u001b[0m\u001b[0;34m'hvac'\u001b[0m\u001b[0;34m,\u001b[0m\u001b[0ms\u001b[0m\u001b[0;34m[\u001b[0m\u001b[0mrange\u001b[0m\u001b[0;34m(\u001b[0m\u001b[0;36m4\u001b[0m\u001b[0;34m,\u001b[0m \u001b[0;36m10\u001b[0m\u001b[0;34m)\u001b[0m\u001b[0;34m]\u001b[0m\u001b[0;34m,\u001b[0m\u001b[0;34m'SanDiego'\u001b[0m\u001b[0;34m)\u001b[0m\u001b[0;34m[\u001b[0m\u001b[0;36m0\u001b[0m\u001b[0;34m]\u001b[0m\u001b[0;34m)\u001b[0m\u001b[0;34m\u001b[0m\u001b[0m\n\u001b[0m",
      "\u001b[0;31mNameError\u001b[0m: name 's' is not defined"
     ]
    }
   ],
   "source": [
    "len(compute_rmse('hvac',s[range(4, 10)],'SanDiego')[0])"
   ]
  },
  {
   "cell_type": "code",
   "execution_count": 14,
   "metadata": {
    "collapsed": true
   },
   "outputs": [],
   "source": [
    "out = {}\n",
    "for random_seed in range(10):\n",
    "    out[random_seed] = {}\n",
    "       \n",
    "    for appliance in APPLIANCES_ORDER[1:]:\n",
    "        out[random_seed][appliance] = {}\n",
    "        for f in range(10, 110, 10):\n",
    "            s = pd.concat(pred[random_seed][appliance][f]).ix[df.index]\n",
    "            if appliance==\"hvac\":\n",
    "                    out[random_seed][appliance][f] = compute_rmse_fraction(appliance,s[range(4, 10)],'SanDiego')[2]\n",
    "            else:   \n",
    "                out[random_seed][appliance][f] = compute_rmse_fraction(appliance, s,'SanDiego')[2]\n",
    "\n",
    "    "
   ]
  },
  {
   "cell_type": "code",
   "execution_count": 15,
   "metadata": {},
   "outputs": [
    {
     "data": {
      "text/html": [
       "<div>\n",
       "<table border=\"1\" class=\"dataframe\">\n",
       "  <thead>\n",
       "    <tr style=\"text-align: right;\">\n",
       "      <th></th>\n",
       "      <th>dw</th>\n",
       "      <th>fridge</th>\n",
       "      <th>hvac</th>\n",
       "      <th>mw</th>\n",
       "      <th>oven</th>\n",
       "      <th>wm</th>\n",
       "    </tr>\n",
       "  </thead>\n",
       "  <tbody>\n",
       "    <tr>\n",
       "      <th>10</th>\n",
       "      <td>2.354802</td>\n",
       "      <td>9.239410</td>\n",
       "      <td>19.543947</td>\n",
       "      <td>2.082503</td>\n",
       "      <td>2.764263</td>\n",
       "      <td>2.849736</td>\n",
       "    </tr>\n",
       "    <tr>\n",
       "      <th>20</th>\n",
       "      <td>2.078738</td>\n",
       "      <td>8.555117</td>\n",
       "      <td>18.471469</td>\n",
       "      <td>2.070541</td>\n",
       "      <td>2.518863</td>\n",
       "      <td>1.465153</td>\n",
       "    </tr>\n",
       "    <tr>\n",
       "      <th>30</th>\n",
       "      <td>2.003809</td>\n",
       "      <td>7.826642</td>\n",
       "      <td>20.815454</td>\n",
       "      <td>1.904710</td>\n",
       "      <td>2.289867</td>\n",
       "      <td>1.018258</td>\n",
       "    </tr>\n",
       "    <tr>\n",
       "      <th>40</th>\n",
       "      <td>1.967510</td>\n",
       "      <td>7.528686</td>\n",
       "      <td>19.450646</td>\n",
       "      <td>1.886208</td>\n",
       "      <td>2.144160</td>\n",
       "      <td>0.805956</td>\n",
       "    </tr>\n",
       "    <tr>\n",
       "      <th>50</th>\n",
       "      <td>1.933311</td>\n",
       "      <td>7.496887</td>\n",
       "      <td>19.382984</td>\n",
       "      <td>1.840827</td>\n",
       "      <td>2.162331</td>\n",
       "      <td>0.749503</td>\n",
       "    </tr>\n",
       "    <tr>\n",
       "      <th>60</th>\n",
       "      <td>1.928920</td>\n",
       "      <td>7.662647</td>\n",
       "      <td>21.633918</td>\n",
       "      <td>1.828358</td>\n",
       "      <td>2.089062</td>\n",
       "      <td>0.724983</td>\n",
       "    </tr>\n",
       "    <tr>\n",
       "      <th>70</th>\n",
       "      <td>1.935671</td>\n",
       "      <td>7.219609</td>\n",
       "      <td>17.842409</td>\n",
       "      <td>1.780168</td>\n",
       "      <td>2.167769</td>\n",
       "      <td>0.712708</td>\n",
       "    </tr>\n",
       "    <tr>\n",
       "      <th>80</th>\n",
       "      <td>1.911552</td>\n",
       "      <td>7.022751</td>\n",
       "      <td>17.144706</td>\n",
       "      <td>1.775979</td>\n",
       "      <td>2.071630</td>\n",
       "      <td>0.700201</td>\n",
       "    </tr>\n",
       "    <tr>\n",
       "      <th>90</th>\n",
       "      <td>1.895642</td>\n",
       "      <td>7.066648</td>\n",
       "      <td>16.874688</td>\n",
       "      <td>1.754489</td>\n",
       "      <td>2.131852</td>\n",
       "      <td>0.705021</td>\n",
       "    </tr>\n",
       "    <tr>\n",
       "      <th>100</th>\n",
       "      <td>1.882632</td>\n",
       "      <td>7.051506</td>\n",
       "      <td>16.226711</td>\n",
       "      <td>1.759001</td>\n",
       "      <td>2.076530</td>\n",
       "      <td>0.673275</td>\n",
       "    </tr>\n",
       "  </tbody>\n",
       "</table>\n",
       "</div>"
      ],
      "text/plain": [
       "           dw    fridge       hvac        mw      oven        wm\n",
       "10   2.354802  9.239410  19.543947  2.082503  2.764263  2.849736\n",
       "20   2.078738  8.555117  18.471469  2.070541  2.518863  1.465153\n",
       "30   2.003809  7.826642  20.815454  1.904710  2.289867  1.018258\n",
       "40   1.967510  7.528686  19.450646  1.886208  2.144160  0.805956\n",
       "50   1.933311  7.496887  19.382984  1.840827  2.162331  0.749503\n",
       "60   1.928920  7.662647  21.633918  1.828358  2.089062  0.724983\n",
       "70   1.935671  7.219609  17.842409  1.780168  2.167769  0.712708\n",
       "80   1.911552  7.022751  17.144706  1.775979  2.071630  0.700201\n",
       "90   1.895642  7.066648  16.874688  1.754489  2.131852  0.705021\n",
       "100  1.882632  7.051506  16.226711  1.759001  2.076530  0.673275"
      ]
     },
     "execution_count": 15,
     "metadata": {},
     "output_type": "execute_result"
    }
   ],
   "source": [
    "means_df = pd.Panel(out).mean(axis=0)\n",
    "means_df"
   ]
  },
  {
   "cell_type": "code",
   "execution_count": 16,
   "metadata": {},
   "outputs": [
    {
     "data": {
      "text/html": [
       "<div>\n",
       "<table border=\"1\" class=\"dataframe\">\n",
       "  <thead>\n",
       "    <tr style=\"text-align: right;\">\n",
       "      <th></th>\n",
       "      <th>dw</th>\n",
       "      <th>fridge</th>\n",
       "      <th>hvac</th>\n",
       "      <th>mw</th>\n",
       "      <th>oven</th>\n",
       "      <th>wm</th>\n",
       "    </tr>\n",
       "  </thead>\n",
       "  <tbody>\n",
       "    <tr>\n",
       "      <th>10</th>\n",
       "      <td>0.396760</td>\n",
       "      <td>0.929459</td>\n",
       "      <td>3.282532</td>\n",
       "      <td>1.761467e-01</td>\n",
       "      <td>0.449079</td>\n",
       "      <td>1.430357e+00</td>\n",
       "    </tr>\n",
       "    <tr>\n",
       "      <th>20</th>\n",
       "      <td>0.148039</td>\n",
       "      <td>1.094881</td>\n",
       "      <td>4.474935</td>\n",
       "      <td>2.975652e-01</td>\n",
       "      <td>0.405060</td>\n",
       "      <td>7.766940e-01</td>\n",
       "    </tr>\n",
       "    <tr>\n",
       "      <th>30</th>\n",
       "      <td>0.102172</td>\n",
       "      <td>1.028349</td>\n",
       "      <td>7.580053</td>\n",
       "      <td>1.977279e-01</td>\n",
       "      <td>0.230812</td>\n",
       "      <td>3.145338e-01</td>\n",
       "    </tr>\n",
       "    <tr>\n",
       "      <th>40</th>\n",
       "      <td>0.137084</td>\n",
       "      <td>0.560095</td>\n",
       "      <td>4.601759</td>\n",
       "      <td>1.092861e-01</td>\n",
       "      <td>0.102572</td>\n",
       "      <td>1.365624e-01</td>\n",
       "    </tr>\n",
       "    <tr>\n",
       "      <th>50</th>\n",
       "      <td>0.110684</td>\n",
       "      <td>0.582683</td>\n",
       "      <td>3.005059</td>\n",
       "      <td>6.723339e-02</td>\n",
       "      <td>0.093916</td>\n",
       "      <td>5.808487e-02</td>\n",
       "    </tr>\n",
       "    <tr>\n",
       "      <th>60</th>\n",
       "      <td>0.042238</td>\n",
       "      <td>0.805094</td>\n",
       "      <td>9.035794</td>\n",
       "      <td>6.091625e-02</td>\n",
       "      <td>0.036398</td>\n",
       "      <td>6.343019e-02</td>\n",
       "    </tr>\n",
       "    <tr>\n",
       "      <th>70</th>\n",
       "      <td>0.051208</td>\n",
       "      <td>0.456441</td>\n",
       "      <td>1.209041</td>\n",
       "      <td>3.840878e-02</td>\n",
       "      <td>0.073434</td>\n",
       "      <td>4.163541e-02</td>\n",
       "    </tr>\n",
       "    <tr>\n",
       "      <th>80</th>\n",
       "      <td>0.031145</td>\n",
       "      <td>0.254067</td>\n",
       "      <td>0.614541</td>\n",
       "      <td>2.944866e-02</td>\n",
       "      <td>0.015105</td>\n",
       "      <td>3.959475e-02</td>\n",
       "    </tr>\n",
       "    <tr>\n",
       "      <th>90</th>\n",
       "      <td>0.016891</td>\n",
       "      <td>0.105567</td>\n",
       "      <td>0.337145</td>\n",
       "      <td>2.341393e-02</td>\n",
       "      <td>0.033281</td>\n",
       "      <td>2.902259e-02</td>\n",
       "    </tr>\n",
       "    <tr>\n",
       "      <th>100</th>\n",
       "      <td>0.000000</td>\n",
       "      <td>0.000000</td>\n",
       "      <td>0.000000</td>\n",
       "      <td>2.340556e-16</td>\n",
       "      <td>0.000000</td>\n",
       "      <td>1.170278e-16</td>\n",
       "    </tr>\n",
       "  </tbody>\n",
       "</table>\n",
       "</div>"
      ],
      "text/plain": [
       "           dw    fridge      hvac            mw      oven            wm\n",
       "10   0.396760  0.929459  3.282532  1.761467e-01  0.449079  1.430357e+00\n",
       "20   0.148039  1.094881  4.474935  2.975652e-01  0.405060  7.766940e-01\n",
       "30   0.102172  1.028349  7.580053  1.977279e-01  0.230812  3.145338e-01\n",
       "40   0.137084  0.560095  4.601759  1.092861e-01  0.102572  1.365624e-01\n",
       "50   0.110684  0.582683  3.005059  6.723339e-02  0.093916  5.808487e-02\n",
       "60   0.042238  0.805094  9.035794  6.091625e-02  0.036398  6.343019e-02\n",
       "70   0.051208  0.456441  1.209041  3.840878e-02  0.073434  4.163541e-02\n",
       "80   0.031145  0.254067  0.614541  2.944866e-02  0.015105  3.959475e-02\n",
       "90   0.016891  0.105567  0.337145  2.341393e-02  0.033281  2.902259e-02\n",
       "100  0.000000  0.000000  0.000000  2.340556e-16  0.000000  1.170278e-16"
      ]
     },
     "execution_count": 16,
     "metadata": {},
     "output_type": "execute_result"
    }
   ],
   "source": [
    "std_df = pd.Panel(out).std(axis=0)\n",
    "std_df"
   ]
  },
  {
   "cell_type": "code",
   "execution_count": 18,
   "metadata": {},
   "outputs": [
    {
     "name": "stderr",
     "output_type": "stream",
     "text": [
      "/Users/nipunbatra/anaconda/lib/python2.7/site-packages/pandas/tools/plotting.py:983: UserWarning: 'colors' is being deprecated. Please use 'color'instead of 'colors'\n",
      "  warnings.warn((\"'colors' is being deprecated. Please use 'color'\"\n"
     ]
    },
    {
     "data": {
      "image/png": "[encoded data removed]",
      "text/plain": [
       "<matplotlib.figure.Figure at 0x1105fd750>"
      ]
     },
     "metadata": {},
     "output_type": "display_data"
    }
   ],
   "source": [
    "from plot_functions import *\n",
    "ax = means_df.plot(subplots=True, yerr=std_df, figsize=(6, 12), xlim=(0, 110), colors=tableau20blind[::2])\n",
    "for a in ax:\n",
    "    format_axes(a)"
   ]
  },
  {
   "cell_type": "code",
   "execution_count": 28,
   "metadata": {},
   "outputs": [
    {
     "name": "stdout",
     "output_type": "stream",
     "text": [
      "['/normal_mean', '/normal_sd']\n"
     ]
    }
   ],
   "source": [
    "st = pd.HDFStore('transfer.h5', mode='a')\n",
    "st['/normal_mean'] = means_df\n",
    "st['/normal_sd'] = std_df\n",
    "print st.keys()\n",
    "st.close()"
   ]
  },
  {
   "cell_type": "code",
   "execution_count": 25,
   "metadata": {},
   "outputs": [
    {
     "ename": "ClosedFileError",
     "evalue": "transfer.h5 file is not open!",
     "output_type": "error",
     "traceback": [
      "\u001b[0;31m---------------------------------------------------------------------------\u001b[0m",
      "\u001b[0;31mClosedFileError\u001b[0m                           Traceback (most recent call last)",
      "\u001b[0;32m<ipython-input-25-39a31e2a6b61>\u001b[0m in \u001b[0;36m<module>\u001b[0;34m()\u001b[0m\n\u001b[0;32m----> 1\u001b[0;31m \u001b[0mst\u001b[0m\u001b[0;34m.\u001b[0m\u001b[0mkeys\u001b[0m\u001b[0;34m(\u001b[0m\u001b[0;34m)\u001b[0m\u001b[0;34m\u001b[0m\u001b[0m\n\u001b[0m",
      "\u001b[0;32m/Users/nipunbatra/anaconda/lib/python2.7/site-packages/pandas/io/pytables.pyc\u001b[0m in \u001b[0;36mkeys\u001b[0;34m(self)\u001b[0m\n\u001b[1;32m    531\u001b[0m         \u001b[0mhave\u001b[0m \u001b[0mthe\u001b[0m \u001b[0mleading\u001b[0m \u001b[0;34m'/'\u001b[0m\u001b[0;34m\u001b[0m\u001b[0m\n\u001b[1;32m    532\u001b[0m         \"\"\"\n\u001b[0;32m--> 533\u001b[0;31m         \u001b[0;32mreturn\u001b[0m \u001b[0;34m[\u001b[0m\u001b[0mn\u001b[0m\u001b[0;34m.\u001b[0m\u001b[0m_v_pathname\u001b[0m \u001b[0;32mfor\u001b[0m \u001b[0mn\u001b[0m \u001b[0;32min\u001b[0m \u001b[0mself\u001b[0m\u001b[0;34m.\u001b[0m\u001b[0mgroups\u001b[0m\u001b[0;34m(\u001b[0m\u001b[0;34m)\u001b[0m\u001b[0;34m]\u001b[0m\u001b[0;34m\u001b[0m\u001b[0m\n\u001b[0m\u001b[1;32m    534\u001b[0m \u001b[0;34m\u001b[0m\u001b[0m\n\u001b[1;32m    535\u001b[0m     \u001b[0;32mdef\u001b[0m \u001b[0m__iter__\u001b[0m\u001b[0;34m(\u001b[0m\u001b[0mself\u001b[0m\u001b[0;34m)\u001b[0m\u001b[0;34m:\u001b[0m\u001b[0;34m\u001b[0m\u001b[0m\n",
      "\u001b[0;32m/Users/nipunbatra/anaconda/lib/python2.7/site-packages/pandas/io/pytables.pyc\u001b[0m in \u001b[0;36mgroups\u001b[0;34m(self)\u001b[0m\n\u001b[1;32m   1080\u001b[0m         \"\"\"\n\u001b[1;32m   1081\u001b[0m         \u001b[0m_tables\u001b[0m\u001b[0;34m(\u001b[0m\u001b[0;34m)\u001b[0m\u001b[0;34m\u001b[0m\u001b[0m\n\u001b[0;32m-> 1082\u001b[0;31m         \u001b[0mself\u001b[0m\u001b[0;34m.\u001b[0m\u001b[0m_check_if_open\u001b[0m\u001b[0;34m(\u001b[0m\u001b[0;34m)\u001b[0m\u001b[0;34m\u001b[0m\u001b[0m\n\u001b[0m\u001b[1;32m   1083\u001b[0m         return [\n\u001b[1;32m   1084\u001b[0m             \u001b[0mg\u001b[0m \u001b[0;32mfor\u001b[0m \u001b[0mg\u001b[0m \u001b[0;32min\u001b[0m \u001b[0mself\u001b[0m\u001b[0;34m.\u001b[0m\u001b[0m_handle\u001b[0m\u001b[0;34m.\u001b[0m\u001b[0mwalk_nodes\u001b[0m\u001b[0;34m(\u001b[0m\u001b[0;34m)\u001b[0m\u001b[0;34m\u001b[0m\u001b[0m\n",
      "\u001b[0;32m/Users/nipunbatra/anaconda/lib/python2.7/site-packages/pandas/io/pytables.pyc\u001b[0m in \u001b[0;36m_check_if_open\u001b[0;34m(self)\u001b[0m\n\u001b[1;32m   1162\u001b[0m     \u001b[0;32mdef\u001b[0m \u001b[0m_check_if_open\u001b[0m\u001b[0;34m(\u001b[0m\u001b[0mself\u001b[0m\u001b[0;34m)\u001b[0m\u001b[0;34m:\u001b[0m\u001b[0;34m\u001b[0m\u001b[0m\n\u001b[1;32m   1163\u001b[0m         \u001b[0;32mif\u001b[0m \u001b[0;32mnot\u001b[0m \u001b[0mself\u001b[0m\u001b[0;34m.\u001b[0m\u001b[0mis_open\u001b[0m\u001b[0;34m:\u001b[0m\u001b[0;34m\u001b[0m\u001b[0m\n\u001b[0;32m-> 1164\u001b[0;31m             \u001b[0;32mraise\u001b[0m \u001b[0mClosedFileError\u001b[0m\u001b[0;34m(\u001b[0m\u001b[0;34m\"{0} file is not open!\"\u001b[0m\u001b[0;34m.\u001b[0m\u001b[0mformat\u001b[0m\u001b[0;34m(\u001b[0m\u001b[0mself\u001b[0m\u001b[0;34m.\u001b[0m\u001b[0m_path\u001b[0m\u001b[0;34m)\u001b[0m\u001b[0;34m)\u001b[0m\u001b[0;34m\u001b[0m\u001b[0m\n\u001b[0m\u001b[1;32m   1165\u001b[0m \u001b[0;34m\u001b[0m\u001b[0m\n\u001b[1;32m   1166\u001b[0m     \u001b[0;32mdef\u001b[0m \u001b[0m_validate_format\u001b[0m\u001b[0;34m(\u001b[0m\u001b[0mself\u001b[0m\u001b[0;34m,\u001b[0m \u001b[0mformat\u001b[0m\u001b[0;34m,\u001b[0m \u001b[0mkwargs\u001b[0m\u001b[0;34m)\u001b[0m\u001b[0;34m:\u001b[0m\u001b[0;34m\u001b[0m\u001b[0m\n",
      "\u001b[0;31mClosedFileError\u001b[0m: transfer.h5 file is not open!"
     ]
    }
   ],
   "source": [
    "st.keys()"
   ]
  },
  {
   "cell_type": "code",
   "execution_count": 36,
   "metadata": {},
   "outputs": [
    {
     "data": {
      "text/plain": [
       "array([[ 1.91369205,  0.44960506],\n",
       "       [ 0.9424083 ,  0.22839916]])"
      ]
     },
     "execution_count": 36,
     "metadata": {},
     "output_type": "execute_result"
    }
   ],
   "source": [
    "A[2, :, :]"
   ]
  },
  {
   "cell_type": "code",
   "execution_count": 35,
   "metadata": {},
   "outputs": [
    {
     "data": {
      "text/plain": [
       "<matplotlib.axes._subplots.AxesSubplot at 0x1121542d0>"
      ]
     },
     "execution_count": 35,
     "metadata": {},
     "output_type": "execute_result"
    },
    {
     "data": {
      "image/png": "[encoded data removed]",
      "text/plain": [
       "<matplotlib.figure.Figure at 0x11119f550>"
      ]
     },
     "metadata": {},
     "output_type": "display_data"
    }
   ],
   "source": [
    "pd.DataFrame(T).plot()"
   ]
  },
  {
   "cell_type": "code",
   "execution_count": 37,
   "metadata": {
    "collapsed": true
   },
   "outputs": [],
   "source": [
    "import pickle\n",
    "pickle.dump(pred, open(\"predictions/normal_pred.pkl\", 'w'))"
   ]
  },
  {
   "cell_type": "code",
   "execution_count": null,
   "metadata": {
    "collapsed": true
   },
   "outputs": [],
   "source": []
  }
 ],
 "metadata": {
  "kernelspec": {
   "display_name": "Python 2",
   "language": "python",
   "name": "python2"
  },
  "language_info": {
   "codemirror_mode": {
    "name": "ipython",
    "version": 2
   },
   "file_extension": ".py",
   "mimetype": "text/x-python",
   "name": "python",
   "nbconvert_exporter": "python",
   "pygments_lexer": "ipython2",
   "version": "2.7.11"
  }
 },
 "nbformat": 4,
 "nbformat_minor": 2
}
