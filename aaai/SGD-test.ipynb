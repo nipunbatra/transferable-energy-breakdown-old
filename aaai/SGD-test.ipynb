{
 "cells": [
  {
   "cell_type": "code",
   "execution_count": 1,
   "metadata": {
    "collapsed": true
   },
   "outputs": [],
   "source": [
    "import matplotlib.pyplot as plt\n",
    "%matplotlib inline\n",
    "from plot_functions import *\n",
    "from sklearn.model_selection import KFold\n",
    "\n",
    "from create_matrix import *\n",
    "\n",
    "from tensor_custom_core import *\n",
    "from create_matrix import *\n",
    "from tensor_custom_core import *\n",
    "from degree_days import dds\n",
    "appliance_index = {appliance: APPLIANCES_ORDER.index(appliance) for appliance in APPLIANCES_ORDER}\n",
    "\n",
    "APPLIANCES = ['fridge', 'hvac', 'wm', 'mw', 'oven', 'dw']\n",
    "region = \"SanDiego\"\n",
    "year = 2014\n",
    "\n",
    "import os\n",
    "\n",
    "\n",
    "def un_normalize(x, maximum, minimum):\n",
    "    return (maximum - minimum) * x + minimum\n",
    "\n",
    "n_splits = 10\n",
    "import sys\n",
    "case=2\n",
    "a=2\n",
    "cost='abs'\n",
    "\n",
    "def get_tensor(df, dfc):\n",
    "    start, stop = 1, 13\n",
    "    energy_cols = np.array(\n",
    "        [['%s_%d' % (appliance, month) for month in range(start, stop)] for appliance in APPLIANCES_ORDER]).flatten()\n",
    "\n",
    "    static_cols = ['area', 'total_occupants', 'num_rooms']\n",
    "    static_df = df[static_cols]\n",
    "    static_df = static_df.div(static_df.max())\n",
    "    weather_values = np.array(dds[2014][region][start - 1:stop - 1]).reshape(-1, 1)\n",
    "\n",
    "    dfc = df.copy()\n",
    "\n",
    "    df = dfc[energy_cols]\n",
    "    col_max = df.max().max()\n",
    "    col_min = df.min().min()\n",
    "    # df = (1.0 * (df - col_min)) / (col_max - col_min)\n",
    "    tensor = df.values.reshape((len(df), 7, stop - start))\n",
    "    M, N, O = tensor.shape\n",
    "    return tensor"
   ]
  },
  {
   "cell_type": "code",
   "execution_count": 2,
   "metadata": {
    "collapsed": true
   },
   "outputs": [],
   "source": [
    "df, dfc = create_matrix_single_region(\"SanDiego\", year)\n",
    "tensor = get_tensor(df, dfc)"
   ]
  },
  {
   "cell_type": "code",
   "execution_count": 10,
   "metadata": {
    "collapsed": true
   },
   "outputs": [],
   "source": [
    "np.random.seed(0)\n",
    "lr = 0.1\n",
    "decay_mul = 1\n",
    "num_iter = 10\n",
    "E_np_masked = tensor\n",
    "cost_function = 'fraction'\n",
    "H_known=None\n",
    "A_known=None\n",
    "T_known=None\n",
    "batchsize=None\n",
    "aggregate_constraint=False\n",
    "dis=True\n",
    "lrs = lr*np.power(decay_mul, range(num_iter))\n",
    "if cost_function == 'abs':\n",
    "    cost = cost_abs\n",
    "elif cost_function =='rel':\n",
    "    cost = cost_rel\n",
    "elif cost_function =='fraction':\n",
    "    cost = cost_fraction\n",
    "mg = multigrad(cost, argnums=[0, 1, 2])\n",
    "\n",
    "params = {}\n",
    "params['M'], params['N'], params['O'] = E_np_masked.shape\n",
    "params['a'] = a\n",
    "params['b'] = b\n",
    "H_dim_chars = list(cases[case]['HA'].split(\",\")[0].strip())\n",
    "H_dim = tuple(params[x] for x in H_dim_chars)\n",
    "A_dim_chars = list(cases[case]['HA'].split(\",\")[1].split(\"-\")[0].strip())\n",
    "A_dim = tuple(params[x] for x in A_dim_chars)\n",
    "T_dim_chars = list(cases[case]['HAT'].split(\",\")[1].split(\"-\")[0].strip())\n",
    "T_dim = tuple(params[x] for x in T_dim_chars)\n",
    "H = np.abs(np.random.rand(*H_dim))\n",
    "\n",
    "A = np.abs(np.random.rand(*A_dim))\n",
    "T = np.abs(np.random.rand(*T_dim))"
   ]
  },
  {
   "cell_type": "code",
   "execution_count": 90,
   "metadata": {},
   "outputs": [
    {
     "name": "stdout",
     "output_type": "stream",
     "text": [
      "240.800270801\n",
      "198.616759517\n",
      "21.3136249546\n"
     ]
    }
   ],
   "source": [
    "print cost_fraction2(H, A, T, E_np_masked, 2)\n",
    "print cost_abs(H, A, T, E_np_masked, 2)\n",
    "print cost_rel(H, A, T, E_np_masked, 2)"
   ]
  },
  {
   "cell_type": "code",
   "execution_count": 80,
   "metadata": {},
   "outputs": [
    {
     "data": {
      "text/plain": [
       "array([[        nan,         nan],\n",
       "       [        nan,         nan],\n",
       "       [        nan,         nan],\n",
       "       [ 0.00581763,  0.00592227],\n",
       "       [        nan,         nan],\n",
       "       [ 0.01589464,  0.01600831],\n",
       "       [        nan,         nan],\n",
       "       [        nan,         nan],\n",
       "       [ 0.00740613,  0.00749264],\n",
       "       [ 0.01262322,  0.01277383],\n",
       "       [        nan,         nan],\n",
       "       [ 0.14719393,  0.14948436],\n",
       "       [        nan,         nan],\n",
       "       [        nan,         nan],\n",
       "       [        nan,         nan],\n",
       "       [ 0.06752103,  0.06916609],\n",
       "       [        nan,         nan],\n",
       "       [        nan,         nan],\n",
       "       [        nan,         nan],\n",
       "       [ 0.15115079,  0.15258234],\n",
       "       [        nan,         nan],\n",
       "       [ 0.03818583,  0.039191  ],\n",
       "       [        nan,         nan],\n",
       "       [        nan,         nan],\n",
       "       [        nan,         nan],\n",
       "       [ 0.01060625,  0.01070638],\n",
       "       [        nan,         nan],\n",
       "       [        nan,         nan],\n",
       "       [        nan,         nan],\n",
       "       [        nan,         nan],\n",
       "       [-0.00266958, -0.00251121],\n",
       "       [ 0.01264312,  0.01286114],\n",
       "       [        nan,         nan],\n",
       "       [ 0.0675916 ,  0.06852213],\n",
       "       [        nan,         nan],\n",
       "       [        nan,         nan],\n",
       "       [        nan,         nan],\n",
       "       [ 0.01029342,  0.01063743],\n",
       "       [        nan,         nan]])"
      ]
     },
     "execution_count": 80,
     "metadata": {},
     "output_type": "execute_result"
    }
   ],
   "source": [
    "multigrad(cost_fraction, argnums=[0, 1, 2])(H, A, T, E_np_masked, case)[0]"
   ]
  },
  {
   "cell_type": "code",
   "execution_count": 89,
   "metadata": {},
   "outputs": [
    {
     "data": {
      "text/plain": [
       "array([[ nan,  nan],\n",
       "       [ nan,  nan],\n",
       "       [ nan,  nan],\n",
       "       [ nan,  nan],\n",
       "       [ nan,  nan],\n",
       "       [ nan,  nan],\n",
       "       [ nan,  nan],\n",
       "       [ nan,  nan],\n",
       "       [ nan,  nan],\n",
       "       [ nan,  nan],\n",
       "       [ nan,  nan],\n",
       "       [ nan,  nan],\n",
       "       [ nan,  nan],\n",
       "       [ nan,  nan],\n",
       "       [ nan,  nan],\n",
       "       [ nan,  nan],\n",
       "       [ nan,  nan],\n",
       "       [ nan,  nan],\n",
       "       [ nan,  nan],\n",
       "       [ nan,  nan],\n",
       "       [ nan,  nan],\n",
       "       [ nan,  nan],\n",
       "       [ nan,  nan],\n",
       "       [ nan,  nan],\n",
       "       [ nan,  nan],\n",
       "       [ nan,  nan],\n",
       "       [ nan,  nan],\n",
       "       [ nan,  nan],\n",
       "       [ nan,  nan],\n",
       "       [ nan,  nan],\n",
       "       [ nan,  nan],\n",
       "       [ nan,  nan],\n",
       "       [ nan,  nan],\n",
       "       [ nan,  nan],\n",
       "       [ nan,  nan],\n",
       "       [ nan,  nan],\n",
       "       [ nan,  nan],\n",
       "       [ nan,  nan],\n",
       "       [ nan,  nan]])"
      ]
     },
     "execution_count": 89,
     "metadata": {},
     "output_type": "execute_result"
    }
   ],
   "source": [
    "multigrad(cost_fraction2, argnums=[0, 1, 2])(H, A, T, E_np_masked, case)[0]"
   ]
  },
  {
   "cell_type": "code",
   "execution_count": 9,
   "metadata": {},
   "outputs": [
    {
     "name": "stdout",
     "output_type": "stream",
     "text": [
      "(nan, 0.10000000000000001, 0)\n"
     ]
    },
    {
     "name": "stderr",
     "output_type": "stream",
     "text": [
      "/Users/nipunbatra/anaconda2/lib/python2.7/site-packages/ipykernel_launcher.py:62: RuntimeWarning: invalid value encountered in less\n",
      "/Users/nipunbatra/anaconda2/lib/python2.7/site-packages/ipykernel_launcher.py:63: RuntimeWarning: invalid value encountered in less\n",
      "/Users/nipunbatra/anaconda2/lib/python2.7/site-packages/ipykernel_launcher.py:64: RuntimeWarning: invalid value encountered in less\n"
     ]
    }
   ],
   "source": [
    "if batchsize is None:\n",
    "    batchsize = len(E_np_masked)\n",
    "\n",
    "indices_home = range(params['M'])\n",
    "\n",
    "\n",
    "# GD procedure\n",
    "for i in range(num_iter):\n",
    "    if batchsize < len(E_np_masked):\n",
    "        indices_select = np.random.choice(indices_home, batchsize)\n",
    "        del_h, del_a, del_t = mg(H[indices_select], A, T, E_np_masked[indices_select], case)\n",
    "        H[indices_select] -= lrs[i] * del_h\n",
    "    else:\n",
    "        del_h, del_a, del_t = mg(H, A, T, E_np_masked, case)\n",
    "        H -= lrs[i] * del_h\n",
    "    A -= lrs[i] * del_a\n",
    "    T -= lrs[i] * del_t\n",
    "    # Projection to known values\n",
    "    if H_known is not None:\n",
    "        H = set_known(H, H_known)\n",
    "    if A_known is not None:\n",
    "        A = set_known(A, A_known)\n",
    "    if T_known is not None:\n",
    "        T = set_known(T, T_known)\n",
    "    # Projection to non-negative space\n",
    "    H[H < 0] = 0\n",
    "    A[A < 0] = 0\n",
    "    T[T < 0] = 0\n",
    "\n",
    "    if aggregate_constraint:\n",
    "        # Projection to ensure A[aggregate] >=sum(A[appliances]\n",
    "        A[0] = np.maximum(A[0], np.sum(A[1:], axis=0))\n",
    "\n",
    "    if i % 500 == 0:\n",
    "        if dis:\n",
    "            print(cost(H, A, T, E_np_masked, case), lrs[i], i)       "
   ]
  },
  {
   "cell_type": "code",
   "execution_count": 4,
   "metadata": {},
   "outputs": [
    {
     "name": "stdout",
     "output_type": "stream",
     "text": [
      "(0.8382282405837751, 0.10000000000000001, 0)\n",
      "(0.81297955650473253, 0.10000000000000001, 500)\n",
      "(0.79015388447577806, 0.10000000000000001, 1000)\n",
      "(0.76965250045352007, 0.10000000000000001, 1500)\n",
      "(0.75479774366111196, 0.10000000000000001, 2000)\n",
      "(0.74325055905027038, 0.10000000000000001, 2500)\n"
     ]
    }
   ],
   "source": [
    "H, A, T = learn_HAT(case, tensor, a, a, num_iter=2900, lr=0.1, dis=True, cost_function='rel', batchsize=None, aggregate_constraint=True)\n"
   ]
  },
  {
   "cell_type": "code",
   "execution_count": 12,
   "metadata": {},
   "outputs": [
    {
     "name": "stdout",
     "output_type": "stream",
     "text": [
      "(216.32228718866989, 1.0, 0)\n",
      "(29.966532629644359, 0.081571861440278323, 500)\n",
      "(29.961431420656591, 0.0066539685788319656, 1000)\n",
      "(29.961125772130696, 0.00054277660294044672, 1500)\n",
      "(29.961101404282715, 4.4275297848083083e-05, 2000)\n",
      "(29.961099420237829, 3.6116184612908862e-06, 2500)\n",
      "(29.961099258420077, 2.9460644069957136e-07, 3000)\n",
      "(29.961099245220467, 2.4031595760159008e-08, 3500)\n"
     ]
    }
   ],
   "source": [
    "H, A, T = learn_HAT(case, tensor, a, a, num_iter=4000, lr=1, decay_mul=0.995, dis=True, cost_function='abs', batchsize=None, aggregate_constraint=False)\n"
   ]
  },
  {
   "cell_type": "code",
   "execution_count": 92,
   "metadata": {},
   "outputs": [
    {
     "name": "stdout",
     "output_type": "stream",
     "text": [
      "(215.26588352251775, 1.0, 0)\n",
      "(29.982369870168466, 0.081571861440278323, 500)\n",
      "(29.970292839121154, 0.0066539685788319656, 1000)\n",
      "(29.96960832221907, 0.00054277660294044672, 1500)\n",
      "(29.969553906781837, 4.4275297848083083e-05, 2000)\n",
      "(29.969549477253029, 3.6116184612908862e-06, 2500)\n",
      "(29.969549115989484, 2.9460644069957136e-07, 3000)\n",
      "(29.969549086520949, 2.4031595760159008e-08, 3500)\n"
     ]
    }
   ],
   "source": [
    "H, A, T = learn_HAT(case, tensor, a, a, num_iter=4000, lr=1, decay_mul=0.995, dis=True, cost_function='abs', batchsize=None, aggregate_constraint=True)\n"
   ]
  },
  {
   "cell_type": "code",
   "execution_count": 91,
   "metadata": {},
   "outputs": [
    {
     "name": "stdout",
     "output_type": "stream",
     "text": [
      "(0.83750290493180779, 1.0, 0)\n",
      "(0.75919864622597277, 0.081571861440278323, 500)\n",
      "(0.75522264527217597, 0.0066539685788319656, 1000)\n",
      "(0.75491220066172293, 0.00054277660294044672, 1500)\n",
      "(0.75488696035956393, 4.4275297848083083e-05, 2000)\n",
      "(0.75488490201034797, 3.6116184612908862e-06, 2500)\n",
      "(0.75488473411062296, 2.9460644069957136e-07, 3000)\n",
      "(0.75488472041475407, 2.4031595760159008e-08, 3500)\n"
     ]
    }
   ],
   "source": [
    "H, A, T = learn_HAT(case, tensor, a, a, num_iter=4000, lr=1, decay_mul=0.995, dis=True, cost_function='rel', batchsize=None, aggregate_constraint=True)\n"
   ]
  },
  {
   "cell_type": "code",
   "execution_count": 17,
   "metadata": {
    "collapsed": true
   },
   "outputs": [],
   "source": [
    "HAT = multiply_case(H, A, T, case)\n",
    "mask = ~np.isnan(tensor)\n",
    "error = (HAT - tensor)[mask].flatten() / (1 + tensor[mask].flatten())"
   ]
  },
  {
   "cell_type": "code",
   "execution_count": 18,
   "metadata": {},
   "outputs": [
    {
     "data": {
      "text/plain": [
       "array([-0.93222084, -0.9549655 , -0.9599602 , ..., -0.4831836 ,\n",
       "       -0.83514294, -0.82345105])"
      ]
     },
     "execution_count": 18,
     "metadata": {},
     "output_type": "execute_result"
    }
   ],
   "source": [
    "error"
   ]
  },
  {
   "cell_type": "code",
   "execution_count": 19,
   "metadata": {},
   "outputs": [
    {
     "data": {
      "text/plain": [
       "0.75488471929805534"
      ]
     },
     "execution_count": 19,
     "metadata": {},
     "output_type": "execute_result"
    }
   ],
   "source": [
    "np.sqrt((error ** 2).mean())"
   ]
  },
  {
   "cell_type": "code",
   "execution_count": 38,
   "metadata": {},
   "outputs": [
    {
     "name": "stdout",
     "output_type": "stream",
     "text": [
      "(0.8403065100695799, 0.10000000000000001, 0)\n",
      "(0.81622580540842915, 0.10000000000000001, 500)\n",
      "(0.79546200004375578, 0.10000000000000001, 1000)\n",
      "(0.77686774294045302, 0.10000000000000001, 1500)\n",
      "(0.76354843177732357, 0.10000000000000001, 2000)\n",
      "(0.75353305334554765, 0.10000000000000001, 2500)\n",
      "(0.74481888076587766, 0.10000000000000001, 3000)\n",
      "(0.7365154918730068, 0.10000000000000001, 3500)\n",
      "[[ 0.47836335  0.27935329]\n",
      " [ 0.48276051  0.55864448]] [[ 5.66667101  4.7138331 ]\n",
      " [ 4.98123767  5.27117919]]\n"
     ]
    }
   ],
   "source": [
    "H, A, T = learn_HAT(case, tensor, a, a, num_iter=4000, lr=0.1,  dis=True, cost_function='rel', batchsize=None, aggregate_constraint=False)\n",
    "print A[0], np.sum(A[1:], axis=0)"
   ]
  },
  {
   "cell_type": "code",
   "execution_count": 39,
   "metadata": {},
   "outputs": [
    {
     "data": {
      "text/plain": [
       "<matplotlib.axes._subplots.AxesSubplot at 0x11965f910>"
      ]
     },
     "execution_count": 39,
     "metadata": {},
     "output_type": "execute_result"
    },
    {
     "data": {
      "image/png": "[encoded data removed]",
      "text/plain": [
       "<matplotlib.figure.Figure at 0x11946cb90>"
      ]
     },
     "metadata": {},
     "output_type": "display_data"
    }
   ],
   "source": [
    "HAT = multiply_case(H, A, T, case)\n",
    "\n",
    "pd.DataFrame(HAT[:, 0, :]).mean().plot()\n",
    "pd.DataFrame(HAT[:, 1, :]).mean().plot()\n"
   ]
  },
  {
   "cell_type": "code",
   "execution_count": 28,
   "metadata": {},
   "outputs": [
    {
     "data": {
      "text/plain": [
       "7.3479842855758744"
      ]
     },
     "execution_count": 28,
     "metadata": {},
     "output_type": "execute_result"
    }
   ],
   "source": [
    "(HAT[:,0,:] - HAT[:, 5, :]).mean()"
   ]
  },
  {
   "cell_type": "code",
   "execution_count": 74,
   "metadata": {},
   "outputs": [
    {
     "data": {
      "text/plain": [
       "array([[ 15.86742109,   3.98781431],\n",
       "       [  5.42004517,  13.94392854]])"
      ]
     },
     "execution_count": 74,
     "metadata": {},
     "output_type": "execute_result"
    }
   ],
   "source": [
    "np.maximum(A[0], np.sum(A[1:], axis=0))"
   ]
  },
  {
   "cell_type": "code",
   "execution_count": 13,
   "metadata": {},
   "outputs": [
    {
     "data": {
      "text/plain": [
       "array([[ 15.86742109,   3.98781431],\n",
       "       [  5.42004517,  13.94392854]])"
      ]
     },
     "execution_count": 13,
     "metadata": {},
     "output_type": "execute_result"
    }
   ],
   "source": [
    "A[0]"
   ]
  },
  {
   "cell_type": "code",
   "execution_count": 14,
   "metadata": {},
   "outputs": [
    {
     "data": {
      "text/plain": [
       "array([[ 2.7524587 ,  2.18336352],\n",
       "       [ 1.8426366 ,  9.76660721]])"
      ]
     },
     "execution_count": 14,
     "metadata": {},
     "output_type": "execute_result"
    }
   ],
   "source": [
    "np.sum(A[1:], axis=0)"
   ]
  },
  {
   "cell_type": "code",
   "execution_count": 72,
   "metadata": {},
   "outputs": [
    {
     "data": {
      "text/plain": [
       "array([[ 2.7524587 ,  2.18336352],\n",
       "       [ 1.8426366 ,  9.76660721]])"
      ]
     },
     "execution_count": 72,
     "metadata": {},
     "output_type": "execute_result"
    }
   ],
   "source": [
    "A[1]+A[2]+A[3]+A[4]+A[5]+A[6]"
   ]
  },
  {
   "cell_type": "code",
   "execution_count": 67,
   "metadata": {},
   "outputs": [
    {
     "data": {
      "text/plain": [
       "array([[ 1.79977753,  0.57304481],\n",
       "       [ 0.92609654,  0.19185062]])"
      ]
     },
     "execution_count": 67,
     "metadata": {},
     "output_type": "execute_result"
    }
   ],
   "source": [
    "A[2]"
   ]
  },
  {
   "cell_type": "code",
   "execution_count": 26,
   "metadata": {},
   "outputs": [
    {
     "data": {
      "text/plain": [
       "array([[[ 0.79949874,  0.84427469,  1.24880615, ...,  0.99938648,\n",
       "          0.85270758,  0.96486837],\n",
       "        [ 0.14774213,  0.13712299,  0.2144625 , ...,  0.17341845,\n",
       "          0.14661051,  0.17769789],\n",
       "        [ 2.06692459,  2.20702098,  3.24951664, ...,  2.59819651,\n",
       "          2.21860808,  2.49522803],\n",
       "        ..., \n",
       "        [ 1.17435528,  1.0532045 ,  1.67297836, ...,  1.35654744,\n",
       "          1.14403785,  1.41129053],\n",
       "        [ 2.23394172,  1.89144067,  3.08574613, ...,  2.51373834,\n",
       "          2.11125088,  2.68107815],\n",
       "        [ 1.20470989,  1.58964702,  2.15577609, ...,  1.69513651,\n",
       "          1.46911969,  1.46403407]],\n",
       "\n",
       "       [[ 0.3628244 ,  0.36622884,  0.55212538, ...,  0.44345374,\n",
       "          0.3771549 ,  0.4373313 ],\n",
       "        [ 0.06302821,  0.07202621,  0.10316923, ...,  0.08204561,\n",
       "          0.07039617,  0.07623972],\n",
       "        [ 0.9405862 ,  0.95657126,  1.43751012, ...,  1.15387719,\n",
       "          0.98189136,  1.13396662],\n",
       "        ..., \n",
       "        [ 0.47814728,  0.44399393,  0.69426344, ...,  0.56137279,\n",
       "          0.47460916,  0.57510186],\n",
       "        [ 1.09015227,  0.90402189,  1.4894351 , ...,  1.21537148,\n",
       "          1.01925853,  1.30774599],\n",
       "        [ 0.62550091,  0.80877864,  1.10498931, ...,  0.87025014,\n",
       "          0.75316033,  0.75961559]],\n",
       "\n",
       "       [[ 0.67282799,  0.71456252,  1.05444649, ...,  0.84346167,\n",
       "          0.71995845,  0.81212628],\n",
       "        [ 0.1252972 ,  0.11305009,  0.17908364, ...,  0.14514083,\n",
       "          0.12245655,  0.15059857],\n",
       "        [ 1.73882641,  1.86812896,  2.74357589, ...,  2.19258734,\n",
       "          1.87307366,  2.09950763],\n",
       "        ..., \n",
       "        [ 1.00142082,  0.89447505,  1.42347896, ...,  1.15461654,\n",
       "          0.97345813,  1.20334909],\n",
       "        [ 1.86170694,  1.58082596,  2.57550551, ...,  2.0975941 ,\n",
       "          1.76210026,  2.23448375],\n",
       "        [ 0.99496221,  1.3168533 ,  1.78387202, ...,  1.40237115,\n",
       "          1.21564275,  1.20926332]],\n",
       "\n",
       "       ..., \n",
       "       [[ 0.78360546,  0.77719286,  1.18056377, ...,  0.94953874,\n",
       "          0.80656729,  0.94408114],\n",
       "        [ 0.13285356,  0.16353079,  0.22757327, ...,  0.17991962,\n",
       "          0.15518012,  0.1610754 ],\n",
       "        [ 2.03352299,  2.02931717,  3.07439784, ...,  2.47154626,\n",
       "          2.10032745,  2.45036827],\n",
       "        ..., \n",
       "        [ 0.98808431,  0.93127005,  1.44656543, ...,  1.16827226,\n",
       "          0.98875987,  1.18887911],\n",
       "        [ 2.41657892,  1.98960494,  3.28927722, ...,  2.68559005,\n",
       "          2.25108577,  2.89846753],\n",
       "        [ 1.41503086,  1.81785089,  2.4895634 , ...,  1.96167942,\n",
       "          1.6969803 ,  1.71805313]],\n",
       "\n",
       "       [[ 0.30732871,  0.26208202,  0.42612938, ...,  0.34693682,\n",
       "          0.2915362 ,  0.36890213],\n",
       "        [ 0.04195131,  0.08888739,  0.10401422, ...,  0.07901609,\n",
       "          0.07061783,  0.0520527 ],\n",
       "        [ 0.80407474,  0.68219746,  1.11187863, ...,  0.90561852,\n",
       "          0.76072698,  0.96505972],\n",
       "        ..., \n",
       "        [ 0.24910919,  0.2794386 ,  0.40324258, ...,  0.32115285,\n",
       "          0.27519262,  0.30115846],\n",
       "        [ 1.14066781,  0.89565996,  1.51507496, ...,  1.24173592,\n",
       "          1.03732637,  1.36673932],\n",
       "        [ 0.7539993 ,  0.93367827,  1.2963836 , ...,  1.02444056,\n",
       "          0.88394589,  0.91434798]],\n",
       "\n",
       "       [[ 0.32457015,  0.32382485,  0.49064007, ...,  0.39443883,\n",
       "          0.33518985,  0.39110036],\n",
       "        [ 0.05548211,  0.06662784,  0.09360104, ...,  0.07414494,\n",
       "          0.06383948,  0.06721487],\n",
       "        [ 0.84199519,  0.84562929,  1.27761724, ...,  1.02656611,\n",
       "          0.87277562,  1.01476475],\n",
       "        ..., \n",
       "        [ 0.41545495,  0.38956981,  0.60650669, ...,  0.49002752,\n",
       "          0.41458026,  0.49981837],\n",
       "        [ 0.99232401,  0.8189387 ,  1.35235947, ...,  1.10394712,\n",
       "          0.92549528,  1.19026485],\n",
       "        [ 0.5772074 ,  0.74308579,  1.01687117, ...,  0.80112356,\n",
       "          0.69312513,  0.70086362]]])"
      ]
     },
     "execution_count": 26,
     "metadata": {},
     "output_type": "execute_result"
    }
   ],
   "source": [
    "c = 0\n",
    "for i in range(1, np.shape(tensor)[1]):\n",
    "    c = c + tensor[:,i,:]/t"
   ]
  },
  {
   "cell_type": "code",
   "execution_count": 28,
   "metadata": {},
   "outputs": [
    {
     "data": {
      "text/plain": [
       "39"
      ]
     },
     "execution_count": 28,
     "metadata": {},
     "output_type": "execute_result"
    }
   ],
   "source": [
    "np.shape(tensor)[0]"
   ]
  },
  {
   "cell_type": "code",
   "execution_count": 69,
   "metadata": {},
   "outputs": [
    {
     "name": "stdout",
     "output_type": "stream",
     "text": [
      "(275,)\n",
      "0.266403755233\n",
      "(282,)\n",
      "0.142128101146\n",
      "(285,)\n",
      "0.241081470477\n",
      "(304,)\n",
      "0.231143655153\n",
      "(105,)\n",
      "0.208568894453\n",
      "(171,)\n",
      "0.206473864808\n",
      "1.29579974127\n",
      "1386\n"
     ]
    },
    {
     "data": {
      "text/plain": [
       "0.21596662354500892"
      ]
     },
     "execution_count": 69,
     "metadata": {},
     "output_type": "execute_result"
    }
   ],
   "source": [
    "\n",
    "E_np_masked = tensor\n",
    "HAT = multiply_case(H, A, T, case)\n",
    "num_appliances = len(A)-1\n",
    "c = 0\n",
    "s = 0\n",
    "for appliance_num in range(1, num_appliances+1):\n",
    "    gt_appliance_fr = E_np_masked[:, appliance_num, :]/E_np_masked[:, 0, :]\n",
    "    pred_appliance_fr = HAT[:, appliance_num, :]/E_np_masked[:, 0, :]\n",
    "    s+= np.isnan(pred_appliance_fr-gt_appliance_fr).sum()\n",
    "    diff_appliance_fr = (pred_appliance_fr-gt_appliance_fr).flatten()\n",
    "    diff_appliance_fr = diff_appliance_fr[~np.isnan(diff_appliance_fr)]\n",
    "    print diff_appliance_fr.shape\n",
    "    c = c+np.sqrt(np.square(diff_appliance_fr).mean())\n",
    "    print np.sqrt(np.square(diff_appliance_fr).mean())\n",
    "print c\n",
    "print s\n",
    "c/6"
   ]
  },
  {
   "cell_type": "code",
   "execution_count": 88,
   "metadata": {},
   "outputs": [],
   "source": [
    "def cost_fraction2(H, A, T, E_np_masked, case):\n",
    "    HAT = multiply_case(H, A, T, case)\n",
    "\n",
    "    gt_appliance_fr = E_np_masked[:, 1:, :]/E_np_masked[:, 0, None,  :]\n",
    "    pred_appliance_fr = HAT[:, 1:, :]/E_np_masked[:, 0, None, :]\n",
    "    diff_appliance_fr = (pred_appliance_fr-gt_appliance_fr).flatten()\n",
    "    diff_appliance_fr = diff_appliance_fr[~np.isnan(diff_appliance_fr)]\n",
    "    c = np.nan_to_num(np.abs(pred_appliance_fr-gt_appliance_fr)).sum()\n",
    "    return c"
   ]
  },
  {
   "cell_type": "code",
   "execution_count": 64,
   "metadata": {},
   "outputs": [
    {
     "data": {
      "text/plain": [
       "1386"
      ]
     },
     "execution_count": 64,
     "metadata": {},
     "output_type": "execute_result"
    }
   ],
   "source": [
    "np.isnan(pred_appliance_fr-gt_appliance_fr).sum()"
   ]
  },
  {
   "cell_type": "code",
   "execution_count": 48,
   "metadata": {},
   "outputs": [
    {
     "data": {
      "text/plain": [
       "(39, 1, 12)"
      ]
     },
     "execution_count": 48,
     "metadata": {},
     "output_type": "execute_result"
    }
   ],
   "source": [
    "E_np_masked[:, 0, None,  :].shape"
   ]
  },
  {
   "cell_type": "code",
   "execution_count": 36,
   "metadata": {},
   "outputs": [],
   "source": [
    "rep = np.repeat(E_np_masked[:, 0, :], 6, axis=0).reshape(39, 6, 12)"
   ]
  },
  {
   "cell_type": "code",
   "execution_count": 37,
   "metadata": {},
   "outputs": [
    {
     "data": {
      "text/plain": [
       "False"
      ]
     },
     "execution_count": 37,
     "metadata": {},
     "output_type": "execute_result"
    }
   ],
   "source": [
    "np.allclose(rep[:, 0, :], rep[:, 1, :])"
   ]
  },
  {
   "cell_type": "code",
   "execution_count": 44,
   "metadata": {},
   "outputs": [
    {
     "ename": "ValueError",
     "evalue": "operands could not be broadcast together with shapes (2808,) (468,) ",
     "output_type": "error",
     "traceback": [
      "\u001b[0;31m---------------------------------------------------------------------------\u001b[0m",
      "\u001b[0;31mValueError\u001b[0m                                Traceback (most recent call last)",
      "\u001b[0;32m<ipython-input-44-9d90c38961a9>\u001b[0m in \u001b[0;36m<module>\u001b[0;34m()\u001b[0m\n\u001b[0;32m----> 1\u001b[0;31m \u001b[0mE_np_masked\u001b[0m\u001b[0;34m[\u001b[0m\u001b[0;34m:\u001b[0m\u001b[0;34m,\u001b[0m \u001b[0;36m1\u001b[0m\u001b[0;34m:\u001b[0m\u001b[0;34m,\u001b[0m \u001b[0;34m:\u001b[0m\u001b[0;34m]\u001b[0m\u001b[0;34m.\u001b[0m\u001b[0mflatten\u001b[0m\u001b[0;34m(\u001b[0m\u001b[0;34m)\u001b[0m\u001b[0;34m/\u001b[0m\u001b[0mE_np_masked\u001b[0m\u001b[0;34m[\u001b[0m\u001b[0;34m:\u001b[0m\u001b[0;34m,\u001b[0m \u001b[0;36m0\u001b[0m\u001b[0;34m,\u001b[0m \u001b[0;34m:\u001b[0m\u001b[0;34m]\u001b[0m\u001b[0;34m.\u001b[0m\u001b[0mflatten\u001b[0m\u001b[0;34m(\u001b[0m\u001b[0;34m)\u001b[0m\u001b[0;34m\u001b[0m\u001b[0m\n\u001b[0m",
      "\u001b[0;31mValueError\u001b[0m: operands could not be broadcast together with shapes (2808,) (468,) "
     ]
    }
   ],
   "source": [
    "E_np_masked[:, 1:, :].flatten()/E_np_masked[:, 0, :].flatten()"
   ]
  },
  {
   "cell_type": "code",
   "execution_count": 83,
   "metadata": {},
   "outputs": [
    {
     "data": {
      "text/plain": [
       "array([ 0.22809784,  0.06079369,  0.04206018, ...,  0.07288679,\n",
       "        0.05714064,  0.04757723])"
      ]
     },
     "execution_count": 83,
     "metadata": {},
     "output_type": "execute_result"
    }
   ],
   "source": [
    "diff_appliance_fr"
   ]
  },
  {
   "cell_type": "code",
   "execution_count": 76,
   "metadata": {},
   "outputs": [
    {
     "data": {
      "text/plain": [
       "array([[[             nan,              nan,   2.20701675e+02, ...,\n",
       "                      nan,              nan,              nan],\n",
       "        [             nan,              nan,              nan, ...,\n",
       "                      nan,              nan,              nan],\n",
       "        [             nan,              nan,   3.12638664e+01, ...,\n",
       "                      nan,              nan,              nan],\n",
       "        ..., \n",
       "        [             nan,              nan,   1.23304672e+01, ...,\n",
       "                      nan,              nan,              nan],\n",
       "        [             nan,              nan,   9.54773331e+00, ...,\n",
       "                      nan,              nan,              nan],\n",
       "        [             nan,              nan,              nan, ...,\n",
       "                      nan,              nan,              nan]],\n",
       "\n",
       "       [[             nan,              nan,              nan, ...,\n",
       "           2.41617935e+02,   2.05790207e+02,   2.90333405e+02],\n",
       "        [             nan,              nan,              nan, ...,\n",
       "           3.22889671e+01,   8.26250017e-01,   8.58333334e-03],\n",
       "        [             nan,              nan,              nan, ...,\n",
       "           3.54341164e+01,   2.86137829e+01,   3.29496689e+01],\n",
       "        ..., \n",
       "        [             nan,              nan,              nan, ...,\n",
       "           0.00000000e+00,   7.68916667e-01,   1.58333336e-03],\n",
       "        [             nan,              nan,              nan, ...,\n",
       "                      nan,              nan,              nan],\n",
       "        [             nan,              nan,              nan, ...,\n",
       "           7.28333369e-02,   6.02390003e+00,   1.18374834e+01]],\n",
       "\n",
       "       [[             nan,              nan,              nan, ...,\n",
       "                      nan,              nan,              nan],\n",
       "        [             nan,              nan,              nan, ...,\n",
       "                      nan,              nan,              nan],\n",
       "        [             nan,              nan,              nan, ...,\n",
       "                      nan,              nan,              nan],\n",
       "        ..., \n",
       "        [             nan,              nan,              nan, ...,\n",
       "                      nan,              nan,              nan],\n",
       "        [             nan,              nan,              nan, ...,\n",
       "                      nan,              nan,              nan],\n",
       "        [             nan,              nan,              nan, ...,\n",
       "                      nan,              nan,              nan]],\n",
       "\n",
       "       ..., \n",
       "       [[             nan,              nan,   4.01709320e+02, ...,\n",
       "           4.67783234e+02,   2.79231903e+02,   3.73274872e+02],\n",
       "        [             nan,              nan,              nan, ...,\n",
       "           1.57740387e+02,              nan,              nan],\n",
       "        [             nan,              nan,   5.81837654e+01, ...,\n",
       "           6.96695175e+01,   5.93744659e+01,   6.34692993e+01],\n",
       "        ..., \n",
       "        [             nan,              nan,   2.69168329e+00, ...,\n",
       "           7.09766686e-01,   1.44213331e+00,   3.77208328e+00],\n",
       "        [             nan,              nan,              nan, ...,\n",
       "                      nan,              nan,              nan],\n",
       "        [             nan,              nan,   8.35981655e+00, ...,\n",
       "           1.20066166e+01,   6.81168318e+00,   2.81710663e+01]],\n",
       "\n",
       "       [[  4.34184448e+02,   3.94240906e+02,   4.19308044e+02, ...,\n",
       "           3.83792175e+02,   3.95691986e+02,   4.54022064e+02],\n",
       "        [  9.30000003e-03,   5.66666666e-03,   9.60000046e-03, ...,\n",
       "           2.00000009e-03,   2.78333342e-03,   3.10000009e-03],\n",
       "        [  3.05027676e+01,   3.06434669e+01,   3.56526337e+01, ...,\n",
       "           4.90996170e+01,   5.84994507e+01,   5.10933151e+01],\n",
       "        ..., \n",
       "        [  2.00000009e-04,   5.65699995e-01,   5.00000024e-05, ...,\n",
       "           0.00000000e+00,   1.00000005e-04,   3.70983332e-01],\n",
       "        [  3.42341685e+00,   3.35208321e+00,   3.54273343e+00, ...,\n",
       "           3.30425000e+00,   3.32726669e+00,   3.55185008e+00],\n",
       "        [             nan,              nan,              nan, ...,\n",
       "                      nan,              nan,              nan]],\n",
       "\n",
       "       [[             nan,              nan,              nan, ...,\n",
       "           2.95871948e+02,   2.53586060e+02,   2.81256409e+02],\n",
       "        [             nan,              nan,              nan, ...,\n",
       "           3.18632679e+01,   2.56128311e+00,   1.76666658e-02],\n",
       "        [             nan,              nan,              nan, ...,\n",
       "           4.32439003e+01,   4.02726326e+01,   3.72690163e+01],\n",
       "        ..., \n",
       "        [             nan,              nan,              nan, ...,\n",
       "           1.79703331e+00,   7.58974981e+00,   7.34091663e+00],\n",
       "        [             nan,              nan,              nan, ...,\n",
       "                      nan,              nan,              nan],\n",
       "        [             nan,              nan,              nan, ...,\n",
       "                      nan,              nan,              nan]]])"
      ]
     },
     "execution_count": 76,
     "metadata": {},
     "output_type": "execute_result"
    }
   ],
   "source": [
    "E_np_masked"
   ]
  },
  {
   "cell_type": "code",
   "execution_count": 87,
   "metadata": {},
   "outputs": [
    {
     "data": {
      "text/plain": [
       "240.8002708007852"
      ]
     },
     "execution_count": 87,
     "metadata": {},
     "output_type": "execute_result"
    }
   ],
   "source": [
    "np.nan_to_num(np.abs(pred_appliance_fr-gt_appliance_fr)).sum()"
   ]
  },
  {
   "cell_type": "code",
   "execution_count": null,
   "metadata": {
    "collapsed": true
   },
   "outputs": [],
   "source": []
  }
 ],
 "metadata": {
  "kernelspec": {
   "display_name": "Python 2",
   "language": "python",
   "name": "python2"
  },
  "language_info": {
   "codemirror_mode": {
    "name": "ipython",
    "version": 2
   },
   "file_extension": ".py",
   "mimetype": "text/x-python",
   "name": "python",
   "nbconvert_exporter": "python",
   "pygments_lexer": "ipython2",
   "version": "2.7.13"
  }
 },
 "nbformat": 4,
 "nbformat_minor": 2
}
