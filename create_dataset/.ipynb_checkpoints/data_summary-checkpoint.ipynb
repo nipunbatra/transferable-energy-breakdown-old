{
 "cells": [
  {
   "cell_type": "code",
   "execution_count": 1,
   "metadata": {
    "collapsed": true
   },
   "outputs": [],
   "source": [
    "import pandas as pd\n",
    "import os"
   ]
  },
  {
   "cell_type": "code",
   "execution_count": 2,
   "metadata": {
    "collapsed": true
   },
   "outputs": [],
   "source": [
    "import matplotlib.pyplot as plt"
   ]
  },
  {
   "cell_type": "code",
   "execution_count": 3,
   "metadata": {
    "collapsed": true
   },
   "outputs": [],
   "source": [
    "%matplotlib inline"
   ]
  },
  {
   "cell_type": "code",
   "execution_count": 11,
   "metadata": {
    "collapsed": false
   },
   "outputs": [],
   "source": [
    "metadata_df = pd.read_csv(os.path.expanduser(\"~/git/scalable-nilm/create_dataset/metadata/metadata.csv\"),index_col=0)"
   ]
  },
  {
   "cell_type": "code",
   "execution_count": 13,
   "metadata": {
    "collapsed": false
   },
   "outputs": [
    {
     "data": {
      "text/html": [
       "<div>\n",
       "<table border=\"1\" class=\"dataframe\">\n",
       "  <thead>\n",
       "    <tr style=\"text-align: right;\">\n",
       "      <th></th>\n",
       "      <th>active_record</th>\n",
       "      <th>building_type</th>\n",
       "      <th>program_579</th>\n",
       "      <th>program_baseline</th>\n",
       "      <th>program_energy_internet_demo</th>\n",
       "      <th>program_lg_appliance</th>\n",
       "      <th>program_verizon</th>\n",
       "      <th>program_ccet_group</th>\n",
       "      <th>program_civita_group</th>\n",
       "      <th>city</th>\n",
       "      <th>...</th>\n",
       "      <th>refrigerator1</th>\n",
       "      <th>refrigerator2</th>\n",
       "      <th>security1</th>\n",
       "      <th>shed1</th>\n",
       "      <th>sprinkler1</th>\n",
       "      <th>utilityroom1</th>\n",
       "      <th>venthood1</th>\n",
       "      <th>waterheater1</th>\n",
       "      <th>waterheater2</th>\n",
       "      <th>winecooler1</th>\n",
       "    </tr>\n",
       "    <tr>\n",
       "      <th>dataid</th>\n",
       "      <th></th>\n",
       "      <th></th>\n",
       "      <th></th>\n",
       "      <th></th>\n",
       "      <th></th>\n",
       "      <th></th>\n",
       "      <th></th>\n",
       "      <th></th>\n",
       "      <th></th>\n",
       "      <th></th>\n",
       "      <th></th>\n",
       "      <th></th>\n",
       "      <th></th>\n",
       "      <th></th>\n",
       "      <th></th>\n",
       "      <th></th>\n",
       "      <th></th>\n",
       "      <th></th>\n",
       "      <th></th>\n",
       "      <th></th>\n",
       "      <th></th>\n",
       "    </tr>\n",
       "  </thead>\n",
       "  <tbody>\n",
       "    <tr>\n",
       "      <th>2836</th>\n",
       "      <td>NaN</td>\n",
       "      <td>Single-Family Home</td>\n",
       "      <td>NaN</td>\n",
       "      <td>NaN</td>\n",
       "      <td>yes</td>\n",
       "      <td>NaN</td>\n",
       "      <td>NaN</td>\n",
       "      <td>NaN</td>\n",
       "      <td>NaN</td>\n",
       "      <td>Austin</td>\n",
       "      <td>...</td>\n",
       "      <td>NaN</td>\n",
       "      <td>NaN</td>\n",
       "      <td>NaN</td>\n",
       "      <td>NaN</td>\n",
       "      <td>NaN</td>\n",
       "      <td>NaN</td>\n",
       "      <td>NaN</td>\n",
       "      <td>NaN</td>\n",
       "      <td>NaN</td>\n",
       "      <td>NaN</td>\n",
       "    </tr>\n",
       "    <tr>\n",
       "      <th>2743</th>\n",
       "      <td>NaN</td>\n",
       "      <td>Single-Family Home</td>\n",
       "      <td>NaN</td>\n",
       "      <td>NaN</td>\n",
       "      <td>yes</td>\n",
       "      <td>NaN</td>\n",
       "      <td>NaN</td>\n",
       "      <td>NaN</td>\n",
       "      <td>NaN</td>\n",
       "      <td>Austin</td>\n",
       "      <td>...</td>\n",
       "      <td>NaN</td>\n",
       "      <td>NaN</td>\n",
       "      <td>NaN</td>\n",
       "      <td>NaN</td>\n",
       "      <td>NaN</td>\n",
       "      <td>NaN</td>\n",
       "      <td>NaN</td>\n",
       "      <td>NaN</td>\n",
       "      <td>NaN</td>\n",
       "      <td>NaN</td>\n",
       "    </tr>\n",
       "    <tr>\n",
       "      <th>5323</th>\n",
       "      <td>NaN</td>\n",
       "      <td>Single-Family Home</td>\n",
       "      <td>NaN</td>\n",
       "      <td>yes</td>\n",
       "      <td>yes</td>\n",
       "      <td>NaN</td>\n",
       "      <td>NaN</td>\n",
       "      <td>NaN</td>\n",
       "      <td>NaN</td>\n",
       "      <td>Austin</td>\n",
       "      <td>...</td>\n",
       "      <td>NaN</td>\n",
       "      <td>NaN</td>\n",
       "      <td>NaN</td>\n",
       "      <td>NaN</td>\n",
       "      <td>NaN</td>\n",
       "      <td>NaN</td>\n",
       "      <td>NaN</td>\n",
       "      <td>NaN</td>\n",
       "      <td>NaN</td>\n",
       "      <td>NaN</td>\n",
       "    </tr>\n",
       "    <tr>\n",
       "      <th>8560</th>\n",
       "      <td>NaN</td>\n",
       "      <td>Single-Family Home</td>\n",
       "      <td>NaN</td>\n",
       "      <td>yes</td>\n",
       "      <td>yes</td>\n",
       "      <td>NaN</td>\n",
       "      <td>NaN</td>\n",
       "      <td>NaN</td>\n",
       "      <td>NaN</td>\n",
       "      <td>Austin</td>\n",
       "      <td>...</td>\n",
       "      <td>NaN</td>\n",
       "      <td>NaN</td>\n",
       "      <td>NaN</td>\n",
       "      <td>NaN</td>\n",
       "      <td>NaN</td>\n",
       "      <td>NaN</td>\n",
       "      <td>NaN</td>\n",
       "      <td>NaN</td>\n",
       "      <td>NaN</td>\n",
       "      <td>NaN</td>\n",
       "    </tr>\n",
       "    <tr>\n",
       "      <th>3313</th>\n",
       "      <td>NaN</td>\n",
       "      <td>Single-Family Home</td>\n",
       "      <td>NaN</td>\n",
       "      <td>yes</td>\n",
       "      <td>yes</td>\n",
       "      <td>NaN</td>\n",
       "      <td>NaN</td>\n",
       "      <td>NaN</td>\n",
       "      <td>NaN</td>\n",
       "      <td>Austin</td>\n",
       "      <td>...</td>\n",
       "      <td>NaN</td>\n",
       "      <td>NaN</td>\n",
       "      <td>NaN</td>\n",
       "      <td>NaN</td>\n",
       "      <td>NaN</td>\n",
       "      <td>NaN</td>\n",
       "      <td>NaN</td>\n",
       "      <td>NaN</td>\n",
       "      <td>NaN</td>\n",
       "      <td>NaN</td>\n",
       "    </tr>\n",
       "  </tbody>\n",
       "</table>\n",
       "<p>5 rows × 102 columns</p>\n",
       "</div>"
      ],
      "text/plain": [
       "       active_record       building_type program_579 program_baseline  \\\n",
       "dataid                                                                  \n",
       "2836             NaN  Single-Family Home         NaN              NaN   \n",
       "2743             NaN  Single-Family Home         NaN              NaN   \n",
       "5323             NaN  Single-Family Home         NaN              yes   \n",
       "8560             NaN  Single-Family Home         NaN              yes   \n",
       "3313             NaN  Single-Family Home         NaN              yes   \n",
       "\n",
       "       program_energy_internet_demo program_lg_appliance program_verizon  \\\n",
       "dataid                                                                     \n",
       "2836                            yes                  NaN             NaN   \n",
       "2743                            yes                  NaN             NaN   \n",
       "5323                            yes                  NaN             NaN   \n",
       "8560                            yes                  NaN             NaN   \n",
       "3313                            yes                  NaN             NaN   \n",
       "\n",
       "       program_ccet_group program_civita_group    city     ...       \\\n",
       "dataid                                                     ...        \n",
       "2836                  NaN                  NaN  Austin     ...        \n",
       "2743                  NaN                  NaN  Austin     ...        \n",
       "5323                  NaN                  NaN  Austin     ...        \n",
       "8560                  NaN                  NaN  Austin     ...        \n",
       "3313                  NaN                  NaN  Austin     ...        \n",
       "\n",
       "       refrigerator1 refrigerator2 security1 shed1  sprinkler1  utilityroom1  \\\n",
       "dataid                                                                         \n",
       "2836             NaN           NaN       NaN   NaN         NaN           NaN   \n",
       "2743             NaN           NaN       NaN   NaN         NaN           NaN   \n",
       "5323             NaN           NaN       NaN   NaN         NaN           NaN   \n",
       "8560             NaN           NaN       NaN   NaN         NaN           NaN   \n",
       "3313             NaN           NaN       NaN   NaN         NaN           NaN   \n",
       "\n",
       "        venthood1  waterheater1  waterheater2  winecooler1  \n",
       "dataid                                                      \n",
       "2836          NaN           NaN           NaN          NaN  \n",
       "2743          NaN           NaN           NaN          NaN  \n",
       "5323          NaN           NaN           NaN          NaN  \n",
       "8560          NaN           NaN           NaN          NaN  \n",
       "3313          NaN           NaN           NaN          NaN  \n",
       "\n",
       "[5 rows x 102 columns]"
      ]
     },
     "execution_count": 13,
     "metadata": {},
     "output_type": "execute_result"
    }
   ],
   "source": [
    "metadata_df.head()"
   ]
  },
  {
   "cell_type": "code",
   "execution_count": 15,
   "metadata": {
    "collapsed": false
   },
   "outputs": [],
   "source": [
    "store = pd.HDFStore(os.path.expanduser(\"~/all.h5\"))"
   ]
  },
  {
   "cell_type": "code",
   "execution_count": 16,
   "metadata": {
    "collapsed": false
   },
   "outputs": [
    {
     "data": {
      "text/plain": [
       "Austin         881\n",
       "Houston         66\n",
       "Boulder         58\n",
       "San Diego       57\n",
       "Dallas          51\n",
       "San Antonio     30\n",
       "Arlington       21\n",
       "Fort Worth      20\n",
       "Plano           19\n",
       "Round Rock      10\n",
       "Name: city, dtype: int64"
      ]
     },
     "execution_count": 16,
     "metadata": {},
     "output_type": "execute_result"
    }
   ],
   "source": [
    "metadata_df.city.value_counts().head(10)"
   ]
  },
  {
   "cell_type": "code",
   "execution_count": 17,
   "metadata": {
    "collapsed": true
   },
   "outputs": [],
   "source": [
    "all_cities = [\"San Diego\", \"Boulder\", \"Austin\", \"Houston\", \"Dallas\",\"San Antonio\",\"Arlington\"]"
   ]
  },
  {
   "cell_type": "code",
   "execution_count": 30,
   "metadata": {
    "collapsed": false
   },
   "outputs": [],
   "source": [
    "a = store['/%d' %26].resample(\"1M\")"
   ]
  },
  {
   "cell_type": "code",
   "execution_count": 34,
   "metadata": {
    "collapsed": false
   },
   "outputs": [
    {
     "name": "stdout",
     "output_type": "stream",
     "text": [
      "San Diego\n"
     ]
    },
    {
     "name": "stderr",
     "output_type": "stream",
     "text": [
      "/home/nipun/anaconda2/lib/python2.7/site-packages/ipykernel/__main__.py:9: FutureWarning: .resample() is now a deferred operation\n",
      "use .resample(...).mean() instead of .resample(...)\n"
     ]
    },
    {
     "name": "stdout",
     "output_type": "stream",
     "text": [
      "Boulder\n",
      "Austin\n",
      "Houston\n",
      "Dallas\n",
      "San Antonio\n",
      "Arlington\n"
     ]
    }
   ],
   "source": [
    "from collections import Counter\n",
    "counter_dict = {}\n",
    "for city in all_cities:\n",
    "    print city\n",
    "    only_city_df = metadata_df[metadata_df['city'] == city]\n",
    "    counter_dict[city] = Counter()\n",
    "    for building in only_city_df.index:\n",
    "        try:\n",
    "            counter_dict[city].update(store['/%d' %building].resample(\"1M\").index)\n",
    "        except Exception, e:\n",
    "            pass\n",
    "    counter_dict[city] = pd.Series(counter_dict[city])\n",
    "    \n",
    "    \n"
   ]
  },
  {
   "cell_type": "code",
   "execution_count": 35,
   "metadata": {
    "collapsed": true
   },
   "outputs": [],
   "source": [
    "import sys\n"
   ]
  },
  {
   "cell_type": "code",
   "execution_count": 36,
   "metadata": {
    "collapsed": false
   },
   "outputs": [
    {
     "data": {
      "text/plain": [
       "<matplotlib.text.Text at 0x7f2e9de98fd0>"
      ]
     },
     "execution_count": 36,
     "metadata": {},
     "output_type": "execute_result"
    },
    {
     "data": {
      "image/png": "[encoded data removed]",
      "text/plain": [
       "<matplotlib.figure.Figure at 0x7f2e9dee5690>"
      ]
     },
     "metadata": {},
     "output_type": "display_data"
    }
   ],
   "source": [
    "ax = plt.gca()\n",
    "for k, v in counter_dict.iteritems():\n",
    "    try:\n",
    "        if k!='Austin':\n",
    "            pd.Series(v).plot(label=k, ax=ax)\n",
    "    except:\n",
    "        pass\n",
    "plt.legend()\n",
    "plt.ylabel(\"# homes\")"
   ]
  },
  {
   "cell_type": "code",
   "execution_count": 37,
   "metadata": {
    "collapsed": false
   },
   "outputs": [
    {
     "data": {
      "text/plain": [
       "<matplotlib.text.Text at 0x7f2e9dd0d990>"
      ]
     },
     "execution_count": 37,
     "metadata": {},
     "output_type": "execute_result"
    },
    {
     "data": {
      "image/png": "[encoded data removed]",
      "text/plain": [
       "<matplotlib.figure.Figure at 0x7f2e9dee5e90>"
      ]
     },
     "metadata": {},
     "output_type": "display_data"
    }
   ],
   "source": [
    "pd.Series(counter_dict['Austin']).plot()\n",
    "plt.ylabel(\"# homes\")"
   ]
  },
  {
   "cell_type": "code",
   "execution_count": 40,
   "metadata": {
    "collapsed": false
   },
   "outputs": [
    {
     "name": "stdout",
     "output_type": "stream",
     "text": [
      "San Diego\n",
      "Boulder\n",
      "Austin\n",
      "Houston\n",
      "Dallas\n",
      "San Antonio\n",
      "Arlington\n"
     ]
    }
   ],
   "source": [
    "stream_counter_dict = {}\n",
    "for city in all_cities:\n",
    "#for city in [\"Austin\"]:\n",
    "    print city\n",
    "    only_city_df = metadata_df[metadata_df['city'] == city]\n",
    "    stream_counter_dict[city] = Counter()\n",
    "    for building in only_city_df.index:\n",
    "        try:\n",
    "            stream_counter_dict[city].update(store['/%d' %building].columns)\n",
    "        except:\n",
    "            pass\n",
    "    #stream_counter_dict[city] = pd.Series(counter_dict[city])\n",
    "    \n",
    "    "
   ]
  },
  {
   "cell_type": "code",
   "execution_count": 44,
   "metadata": {
    "collapsed": false
   },
   "outputs": [],
   "source": [
    "streams_df = pd.DataFrame(stream_counter_dict)"
   ]
  },
  {
   "cell_type": "code",
   "execution_count": 45,
   "metadata": {
    "collapsed": false
   },
   "outputs": [
    {
     "data": {
      "text/html": [
       "<div>\n",
       "<table border=\"1\" class=\"dataframe\">\n",
       "  <thead>\n",
       "    <tr style=\"text-align: right;\">\n",
       "      <th></th>\n",
       "      <th>Arlington</th>\n",
       "      <th>Austin</th>\n",
       "      <th>Boulder</th>\n",
       "      <th>Dallas</th>\n",
       "      <th>Houston</th>\n",
       "      <th>San Diego</th>\n",
       "    </tr>\n",
       "  </thead>\n",
       "  <tbody>\n",
       "    <tr>\n",
       "      <th>HVAC</th>\n",
       "      <td>2</td>\n",
       "      <td>505</td>\n",
       "      <td>38</td>\n",
       "      <td>6</td>\n",
       "      <td>21</td>\n",
       "      <td>40</td>\n",
       "    </tr>\n",
       "    <tr>\n",
       "      <th>Washing Machine</th>\n",
       "      <td>3</td>\n",
       "      <td>284</td>\n",
       "      <td>30</td>\n",
       "      <td>4</td>\n",
       "      <td>12</td>\n",
       "      <td>19</td>\n",
       "    </tr>\n",
       "    <tr>\n",
       "      <th>Dish Washer</th>\n",
       "      <td>2</td>\n",
       "      <td>393</td>\n",
       "      <td>41</td>\n",
       "      <td>5</td>\n",
       "      <td>15</td>\n",
       "      <td>40</td>\n",
       "    </tr>\n",
       "    <tr>\n",
       "      <th>Furnace</th>\n",
       "      <td>3</td>\n",
       "      <td>451</td>\n",
       "      <td>39</td>\n",
       "      <td>5</td>\n",
       "      <td>15</td>\n",
       "      <td>42</td>\n",
       "    </tr>\n",
       "    <tr>\n",
       "      <th>Kitchen 1</th>\n",
       "      <td>2</td>\n",
       "      <td>310</td>\n",
       "      <td>27</td>\n",
       "      <td>3</td>\n",
       "      <td>4</td>\n",
       "      <td>40</td>\n",
       "    </tr>\n",
       "    <tr>\n",
       "      <th>Kitchen 2</th>\n",
       "      <td>1</td>\n",
       "      <td>224</td>\n",
       "      <td>14</td>\n",
       "      <td>2</td>\n",
       "      <td>5</td>\n",
       "      <td>25</td>\n",
       "    </tr>\n",
       "    <tr>\n",
       "      <th>Microwave</th>\n",
       "      <td>1</td>\n",
       "      <td>282</td>\n",
       "      <td>19</td>\n",
       "      <td>2</td>\n",
       "      <td>7</td>\n",
       "      <td>40</td>\n",
       "    </tr>\n",
       "    <tr>\n",
       "      <th>Oven</th>\n",
       "      <td>2</td>\n",
       "      <td>149</td>\n",
       "      <td>19</td>\n",
       "      <td>2</td>\n",
       "      <td>12</td>\n",
       "      <td>20</td>\n",
       "    </tr>\n",
       "    <tr>\n",
       "      <th>Fridge</th>\n",
       "      <td>1</td>\n",
       "      <td>428</td>\n",
       "      <td>40</td>\n",
       "      <td>4</td>\n",
       "      <td>12</td>\n",
       "      <td>40</td>\n",
       "    </tr>\n",
       "    <tr>\n",
       "      <th>Aggregate</th>\n",
       "      <td>3</td>\n",
       "      <td>589</td>\n",
       "      <td>47</td>\n",
       "      <td>6</td>\n",
       "      <td>21</td>\n",
       "      <td>42</td>\n",
       "    </tr>\n",
       "  </tbody>\n",
       "</table>\n",
       "</div>"
      ],
      "text/plain": [
       "                 Arlington  Austin  Boulder  Dallas  Houston  San Diego\n",
       "HVAC                     2     505       38       6       21         40\n",
       "Washing Machine          3     284       30       4       12         19\n",
       "Dish Washer              2     393       41       5       15         40\n",
       "Furnace                  3     451       39       5       15         42\n",
       "Kitchen 1                2     310       27       3        4         40\n",
       "Kitchen 2                1     224       14       2        5         25\n",
       "Microwave                1     282       19       2        7         40\n",
       "Oven                     2     149       19       2       12         20\n",
       "Fridge                   1     428       40       4       12         40\n",
       "Aggregate                3     589       47       6       21         42"
      ]
     },
     "execution_count": 45,
     "metadata": {},
     "output_type": "execute_result"
    }
   ],
   "source": [
    "streams_df = streams_df.drop('San Antonio', axis=1).dropna()\n",
    "streams_df.index = ['HVAC','Washing Machine','Dish Washer','Furnace','Kitchen 1','Kitchen 2','Microwave','Oven','Fridge','Aggregate']\n",
    "streams_df.astype('int')"
   ]
  },
  {
   "cell_type": "code",
   "execution_count": 47,
   "metadata": {
    "collapsed": false
   },
   "outputs": [],
   "source": [
    "import seaborn as sns"
   ]
  },
  {
   "cell_type": "code",
   "execution_count": 49,
   "metadata": {
    "collapsed": false
   },
   "outputs": [
    {
     "data": {
      "image/png": "[encoded data removed]",
      "text/plain": [
       "<matplotlib.figure.Figure at 0x7f2e9dbb4950>"
      ]
     },
     "metadata": {},
     "output_type": "display_data"
    }
   ],
   "source": [
    "sns.heatmap(streams_df.dropna().drop(\"Aggregate\"), annot=True)\n",
    "plt.savefig(\"../results/large_dataset_cities_streams.pdf\", bbox_inches=\"tight\")\n",
    "plt.savefig(\"../results/large_dataset_cities_streams.png\", bbox_inches=\"tight\")"
   ]
  },
  {
   "cell_type": "code",
   "execution_count": 18,
   "metadata": {
    "collapsed": false
   },
   "outputs": [
    {
     "data": {
      "image/png": "[encoded data removed]",
      "text/plain": [
       "<matplotlib.figure.Figure at 0x1162f3c50>"
      ]
     },
     "metadata": {},
     "output_type": "display_data"
    }
   ],
   "source": [
    "austin = streams_df[\"Austin\"]\n",
    "austin[austin>100].drop('use').plot(kind=\"barh\")\n",
    "plt.xlabel(\"Number of homes\")\n",
    "plt.savefig(\"../results/large_dataset_austin_streams.pdf\", bbox_inches=\"tight\")\n",
    "plt.savefig(\"../results/large_dataset_austin_streams.png\", bbox_inches=\"tight\")"
   ]
  },
  {
   "cell_type": "code",
   "execution_count": 19,
   "metadata": {
    "collapsed": false
   },
   "outputs": [
    {
     "name": "stdout",
     "output_type": "stream",
     "text": [
      "audits_2011.csv                   audits_2013_duct_leakage_eval.csv dataport-metadata.csv             survey_2013.csv\r\n",
      "audits_2013_appliances.csv        audits_2013_main.csv              survey_2011_all_participants.csv\r\n"
     ]
    }
   ],
   "source": [
    "!ls ~/git/nilm-actionable/data/total/"
   ]
  },
  {
   "cell_type": "code",
   "execution_count": 52,
   "metadata": {
    "collapsed": false
   },
   "outputs": [],
   "source": [
    "columns_to_use = {\n",
    "    'survey_2011_all_participants.csv': [\n",
    "        'males',\n",
    "        'females',\n",
    "        'age_under_5',\n",
    "        'age_6_to_12',\n",
    "        'age_13_to_18',\n",
    "        'age_19_to_24',\n",
    "        'age_25_to_34',\n",
    "        'age_35_to_49',\n",
    "        'age_50_to64',\n",
    "        'age_over_65',\n",
    "        'highest_education',\n",
    "        'income_range',\n",
    "        ],\n",
    "    'survey_2013.csv': [\n",
    "        'number_floors',\n",
    "        'house_num_rooms',\n",
    "        'house_square_feet',\n",
    "        'sex_males',\n",
    "        'sex_females',\n",
    "        'residents_under_5',\n",
    "        'residents_6_to_12',\n",
    "        'residents_13_to_18',\n",
    "        'residents_19_to_24',\n",
    "        'residents_25_to_34',\n",
    "        'residents_35_to_49',\n",
    "        'residents_50_to_64',\n",
    "        'residents_older_65',\n",
    "        'education_level',\n",
    "        'total_annual_income',\n",
    "        ],\n",
    "    'audits_2011.csv': ['no_bedrooms', 'year_built'],\n",
    "    'audits_2013_main.csv': ['Number_of_Floors__c',\n",
    "                             'Number_of_Bedrooms__c',\n",
    "                             'Construction_Year__c'],\n",
    "    'metadata.csv':['house_construction_year',\n",
    "                             'total_square_footage',\n",
    "                            'building_type',\n",
    "                             'first_floor_square_footage',\n",
    "                            'second_floor_square_footage',\n",
    "                            'third_floor_square_footage']\n",
    "    }\n",
    "\n",
    "\n"
   ]
  },
  {
   "cell_type": "code",
   "execution_count": 53,
   "metadata": {
    "collapsed": false
   },
   "outputs": [],
   "source": [
    "metadata_dataframes = {filename: pd.read_csv(os.path.expanduser('~/git/scalable-nilm/create_dataset/metadata/%s' %filename)) for filename in columns_to_use.keys()}"
   ]
  },
  {
   "cell_type": "markdown",
   "metadata": {},
   "source": [
    "### Finding how much metadata we have for each city"
   ]
  },
  {
   "cell_type": "code",
   "execution_count": 54,
   "metadata": {
    "collapsed": false
   },
   "outputs": [
    {
     "data": {
      "text/plain": [
       "['survey_2013.csv',\n",
       " 'survey_2011_all_participants.csv',\n",
       " 'audits_2013_main.csv',\n",
       " 'audits_2011.csv',\n",
       " 'metadata.csv']"
      ]
     },
     "execution_count": 54,
     "metadata": {},
     "output_type": "execute_result"
    }
   ],
   "source": [
    "metadata_dataframes.keys()"
   ]
  },
  {
   "cell_type": "code",
   "execution_count": 55,
   "metadata": {
    "collapsed": false
   },
   "outputs": [
    {
     "name": "stdout",
     "output_type": "stream",
     "text": [
      "San Diego\n",
      "Boulder\n",
      "Austin\n",
      "Houston\n",
      "Dallas\n",
      "San Antonio\n",
      "Arlington\n"
     ]
    }
   ],
   "source": [
    "counter_dict = {}\n",
    "out = {}\n",
    "for city in all_cities:\n",
    "#for city in [\"San Diego\"]:\n",
    "    out[city] = {}\n",
    "\n",
    "    \n",
    "    print city\n",
    "    only_city_df = metadata_df[metadata_df['city'] == city]\n",
    "    counter_dict[city] = Counter()\n",
    "    for building in only_city_df.index[:]:\n",
    "        try:\n",
    "            building=int(building)\n",
    "            out[city][building] = {}\n",
    "            for metadata_filename, metadata_columns in columns_to_use.iteritems():\n",
    "                \n",
    "                mdf = metadata_dataframes[metadata_filename]\n",
    "                \n",
    "                mdf_building = mdf[mdf.dataid==building].head(1)[metadata_columns]\n",
    "                \n",
    "                out[city][building].update(mdf_building.squeeze().to_dict())\n",
    "                \n",
    "                \n",
    "                \n",
    "            \n",
    "        except Exception, e:\n",
    "            print e\n",
    "    \n",
    "    "
   ]
  },
  {
   "cell_type": "code",
   "execution_count": 56,
   "metadata": {
    "collapsed": false
   },
   "outputs": [],
   "source": [
    "common_columns = {'year_built':['year_built','house_construction_year','Construction_Year__c'],\n",
    "                 'area':['house_square_feet','total_square_footage'],\n",
    "                  'area_first':['first_floor_square_footage'],\n",
    "                  'area_second':['second_floor_square_footage'],\n",
    "                    'area_third':['third_floor_square_footage'],\n",
    "                 'num_floors':['Number_of_Floors__c','number_floors'],\n",
    "                 'num_bedrooms':['Number_of_Bedrooms__c','no_bedrooms'],\n",
    "                 'num_males':['males','sex_males'],\n",
    "                 'num_females':['females','sex_females'],\n",
    "                 'age_13_to_18':['age_13_to_18','residents_13_to_18'],\n",
    "                 'age_19_to_24':['age_19_to_24','residents_19_to_24'],\n",
    "                  'age_25_to_34':['age_25_to_34','residents_25_to_34'],\n",
    "                  'age_35_to_49':['age_35_to_49','residents_35_to_49'],\n",
    "                  'age_50_to_64':['age_50_to64','residents_50_to_64'],\n",
    "                  'age_over_65':['age_over_65','residents_older_65'],\n",
    "                  'age_6_to_12':['age_6_to_12','residents_6_to_12'],\n",
    "                  'age_under_5':['age_under_5','residents_under_5'],\n",
    "                  'education_level':['education_level','highest_education'],\n",
    "                  'income_range':['income_range','total_annual_income']\n",
    "                  ,'building_type':['building_type']\n",
    "                  \n",
    "                  \n",
    "                 }"
   ]
  },
  {
   "cell_type": "code",
   "execution_count": 57,
   "metadata": {
    "collapsed": false
   },
   "outputs": [
    {
     "name": "stdout",
     "output_type": "stream",
     "text": [
      "San Diego\n",
      "Boulder\n",
      "Austin\n",
      "Houston\n",
      "Dallas\n",
      "San Antonio\n",
      "Arlington\n"
     ]
    }
   ],
   "source": [
    "odfs = {}\n",
    "for city in all_cities:\n",
    "    print city\n",
    "    odfs[city] = pd.DataFrame(out[city])\n",
    "    odfs[city] = odfs[city].replace([{}], [None])\n",
    "    odf = odfs[city]\n",
    "    odft = odf.T\n",
    "    out_new = {}\n",
    "    for common_key, common_list_columns in common_columns.iteritems():\n",
    "        out_new[common_key]={}\n",
    "        for home in odft.index:\n",
    "\n",
    "            num_columns = len(common_list_columns)\n",
    "            num_null = odft.ix[home][common_list_columns].isnull().sum()\n",
    "            if num_columns==num_null:\n",
    "                out_new[common_key][home]=None\n",
    "            else:\n",
    "                # Choose first not null\n",
    "                out_new[common_key][home]=odft.ix[home][common_list_columns].dropna().head(1).values[0]\n",
    "\n",
    "        for col in common_list_columns:\n",
    "\n",
    "            odft = odft.drop(col, axis=1)\n",
    "        odft[common_key] = pd.Series(out_new[common_key])\n",
    "    odfs[city]=odft.T\n",
    "    #odfs[city]=odft.T.notnull().sum(axis=1)\n",
    "\n",
    "    "
   ]
  },
  {
   "cell_type": "code",
   "execution_count": 58,
   "metadata": {
    "collapsed": false
   },
   "outputs": [
    {
     "ename": "ValueError",
     "evalue": "If using all scalar values, you must pass an index",
     "output_type": "error",
     "traceback": [
      "\u001b[0;31m---------------------------------------------------------------------------\u001b[0m",
      "\u001b[0;31mValueError\u001b[0m                                Traceback (most recent call last)",
      "\u001b[0;32m<ipython-input-58-f72cf9c21988>\u001b[0m in \u001b[0;36m<module>\u001b[0;34m()\u001b[0m\n\u001b[0;32m----> 1\u001b[0;31m \u001b[0mpd\u001b[0m\u001b[0;34m.\u001b[0m\u001b[0mDataFrame\u001b[0m\u001b[0;34m(\u001b[0m\u001b[0modfs\u001b[0m\u001b[0;34m)\u001b[0m\u001b[0;34m.\u001b[0m\u001b[0mplot\u001b[0m\u001b[0;34m(\u001b[0m\u001b[0mkind\u001b[0m\u001b[0;34m=\u001b[0m\u001b[0;34m\"bar\"\u001b[0m\u001b[0;34m,\u001b[0m \u001b[0mcolor\u001b[0m\u001b[0;34m=\u001b[0m\u001b[0mtableau20blind\u001b[0m\u001b[0;34m[\u001b[0m\u001b[0;34m:\u001b[0m\u001b[0;34m:\u001b[0m\u001b[0;36m2\u001b[0m\u001b[0;34m]\u001b[0m\u001b[0;34m,\u001b[0m \u001b[0msubplots\u001b[0m\u001b[0;34m=\u001b[0m\u001b[0mTrue\u001b[0m\u001b[0;34m,\u001b[0m \u001b[0mfigsize\u001b[0m\u001b[0;34m=\u001b[0m\u001b[0;34m(\u001b[0m\u001b[0;36m12\u001b[0m\u001b[0;34m,\u001b[0m\u001b[0;36m8\u001b[0m\u001b[0;34m)\u001b[0m\u001b[0;34m)\u001b[0m\u001b[0;34m\u001b[0m\u001b[0m\n\u001b[0m\u001b[1;32m      2\u001b[0m \u001b[0mfig\u001b[0m \u001b[0;34m=\u001b[0m \u001b[0mplt\u001b[0m\u001b[0;34m.\u001b[0m\u001b[0mgcf\u001b[0m\u001b[0;34m(\u001b[0m\u001b[0;34m)\u001b[0m\u001b[0;34m\u001b[0m\u001b[0m\n\u001b[1;32m      3\u001b[0m \u001b[0mfig\u001b[0m\u001b[0;34m.\u001b[0m\u001b[0mtext\u001b[0m\u001b[0;34m(\u001b[0m\u001b[0;34m-\u001b[0m\u001b[0;36m0.02\u001b[0m\u001b[0;34m,\u001b[0m \u001b[0;36m0.5\u001b[0m\u001b[0;34m,\u001b[0m \u001b[0;34m\"Number of homes\"\u001b[0m\u001b[0;34m,\u001b[0m \u001b[0mva\u001b[0m\u001b[0;34m=\u001b[0m\u001b[0;34m'center'\u001b[0m\u001b[0;34m,\u001b[0m \u001b[0mrotation\u001b[0m\u001b[0;34m=\u001b[0m\u001b[0;34m'vertical'\u001b[0m\u001b[0;34m)\u001b[0m\u001b[0;34m\u001b[0m\u001b[0m\n\u001b[1;32m      4\u001b[0m \u001b[0;34m\u001b[0m\u001b[0m\n\u001b[1;32m      5\u001b[0m \u001b[0mplt\u001b[0m\u001b[0;34m.\u001b[0m\u001b[0mtight_layout\u001b[0m\u001b[0;34m(\u001b[0m\u001b[0;34m)\u001b[0m\u001b[0;34m\u001b[0m\u001b[0m\n",
      "\u001b[0;32m/home/nipun/anaconda2/lib/python2.7/site-packages/pandas/core/frame.pyc\u001b[0m in \u001b[0;36m__init__\u001b[0;34m(self, data, index, columns, dtype, copy)\u001b[0m\n\u001b[1;32m    222\u001b[0m                                  dtype=dtype, copy=copy)\n\u001b[1;32m    223\u001b[0m         \u001b[0;32melif\u001b[0m \u001b[0misinstance\u001b[0m\u001b[0;34m(\u001b[0m\u001b[0mdata\u001b[0m\u001b[0;34m,\u001b[0m \u001b[0mdict\u001b[0m\u001b[0;34m)\u001b[0m\u001b[0;34m:\u001b[0m\u001b[0;34m\u001b[0m\u001b[0m\n\u001b[0;32m--> 224\u001b[0;31m             \u001b[0mmgr\u001b[0m \u001b[0;34m=\u001b[0m \u001b[0mself\u001b[0m\u001b[0;34m.\u001b[0m\u001b[0m_init_dict\u001b[0m\u001b[0;34m(\u001b[0m\u001b[0mdata\u001b[0m\u001b[0;34m,\u001b[0m \u001b[0mindex\u001b[0m\u001b[0;34m,\u001b[0m \u001b[0mcolumns\u001b[0m\u001b[0;34m,\u001b[0m \u001b[0mdtype\u001b[0m\u001b[0;34m=\u001b[0m\u001b[0mdtype\u001b[0m\u001b[0;34m)\u001b[0m\u001b[0;34m\u001b[0m\u001b[0m\n\u001b[0m\u001b[1;32m    225\u001b[0m         \u001b[0;32melif\u001b[0m \u001b[0misinstance\u001b[0m\u001b[0;34m(\u001b[0m\u001b[0mdata\u001b[0m\u001b[0;34m,\u001b[0m \u001b[0mma\u001b[0m\u001b[0;34m.\u001b[0m\u001b[0mMaskedArray\u001b[0m\u001b[0;34m)\u001b[0m\u001b[0;34m:\u001b[0m\u001b[0;34m\u001b[0m\u001b[0m\n\u001b[1;32m    226\u001b[0m             \u001b[0;32mimport\u001b[0m \u001b[0mnumpy\u001b[0m\u001b[0;34m.\u001b[0m\u001b[0mma\u001b[0m\u001b[0;34m.\u001b[0m\u001b[0mmrecords\u001b[0m \u001b[0;32mas\u001b[0m \u001b[0mmrecords\u001b[0m\u001b[0;34m\u001b[0m\u001b[0m\n",
      "\u001b[0;32m/home/nipun/anaconda2/lib/python2.7/site-packages/pandas/core/frame.pyc\u001b[0m in \u001b[0;36m_init_dict\u001b[0;34m(self, data, index, columns, dtype)\u001b[0m\n\u001b[1;32m    358\u001b[0m             \u001b[0marrays\u001b[0m \u001b[0;34m=\u001b[0m \u001b[0;34m[\u001b[0m\u001b[0mdata\u001b[0m\u001b[0;34m[\u001b[0m\u001b[0mk\u001b[0m\u001b[0;34m]\u001b[0m \u001b[0;32mfor\u001b[0m \u001b[0mk\u001b[0m \u001b[0;32min\u001b[0m \u001b[0mkeys\u001b[0m\u001b[0;34m]\u001b[0m\u001b[0;34m\u001b[0m\u001b[0m\n\u001b[1;32m    359\u001b[0m \u001b[0;34m\u001b[0m\u001b[0m\n\u001b[0;32m--> 360\u001b[0;31m         \u001b[0;32mreturn\u001b[0m \u001b[0m_arrays_to_mgr\u001b[0m\u001b[0;34m(\u001b[0m\u001b[0marrays\u001b[0m\u001b[0;34m,\u001b[0m \u001b[0mdata_names\u001b[0m\u001b[0;34m,\u001b[0m \u001b[0mindex\u001b[0m\u001b[0;34m,\u001b[0m \u001b[0mcolumns\u001b[0m\u001b[0;34m,\u001b[0m \u001b[0mdtype\u001b[0m\u001b[0;34m=\u001b[0m\u001b[0mdtype\u001b[0m\u001b[0;34m)\u001b[0m\u001b[0;34m\u001b[0m\u001b[0m\n\u001b[0m\u001b[1;32m    361\u001b[0m \u001b[0;34m\u001b[0m\u001b[0m\n\u001b[1;32m    362\u001b[0m     \u001b[0;32mdef\u001b[0m \u001b[0m_init_ndarray\u001b[0m\u001b[0;34m(\u001b[0m\u001b[0mself\u001b[0m\u001b[0;34m,\u001b[0m \u001b[0mvalues\u001b[0m\u001b[0;34m,\u001b[0m \u001b[0mindex\u001b[0m\u001b[0;34m,\u001b[0m \u001b[0mcolumns\u001b[0m\u001b[0;34m,\u001b[0m \u001b[0mdtype\u001b[0m\u001b[0;34m=\u001b[0m\u001b[0mNone\u001b[0m\u001b[0;34m,\u001b[0m \u001b[0mcopy\u001b[0m\u001b[0;34m=\u001b[0m\u001b[0mFalse\u001b[0m\u001b[0;34m)\u001b[0m\u001b[0;34m:\u001b[0m\u001b[0;34m\u001b[0m\u001b[0m\n",
      "\u001b[0;32m/home/nipun/anaconda2/lib/python2.7/site-packages/pandas/core/frame.pyc\u001b[0m in \u001b[0;36m_arrays_to_mgr\u001b[0;34m(arrays, arr_names, index, columns, dtype)\u001b[0m\n\u001b[1;32m   5229\u001b[0m     \u001b[0;31m# figure out the index, if necessary\u001b[0m\u001b[0;34m\u001b[0m\u001b[0;34m\u001b[0m\u001b[0m\n\u001b[1;32m   5230\u001b[0m     \u001b[0;32mif\u001b[0m \u001b[0mindex\u001b[0m \u001b[0;32mis\u001b[0m \u001b[0mNone\u001b[0m\u001b[0;34m:\u001b[0m\u001b[0;34m\u001b[0m\u001b[0m\n\u001b[0;32m-> 5231\u001b[0;31m         \u001b[0mindex\u001b[0m \u001b[0;34m=\u001b[0m \u001b[0mextract_index\u001b[0m\u001b[0;34m(\u001b[0m\u001b[0marrays\u001b[0m\u001b[0;34m)\u001b[0m\u001b[0;34m\u001b[0m\u001b[0m\n\u001b[0m\u001b[1;32m   5232\u001b[0m     \u001b[0;32melse\u001b[0m\u001b[0;34m:\u001b[0m\u001b[0;34m\u001b[0m\u001b[0m\n\u001b[1;32m   5233\u001b[0m         \u001b[0mindex\u001b[0m \u001b[0;34m=\u001b[0m \u001b[0m_ensure_index\u001b[0m\u001b[0;34m(\u001b[0m\u001b[0mindex\u001b[0m\u001b[0;34m)\u001b[0m\u001b[0;34m\u001b[0m\u001b[0m\n",
      "\u001b[0;32m/home/nipun/anaconda2/lib/python2.7/site-packages/pandas/core/frame.pyc\u001b[0m in \u001b[0;36mextract_index\u001b[0;34m(data)\u001b[0m\n\u001b[1;32m   5268\u001b[0m \u001b[0;34m\u001b[0m\u001b[0m\n\u001b[1;32m   5269\u001b[0m         \u001b[0;32mif\u001b[0m \u001b[0;32mnot\u001b[0m \u001b[0mindexes\u001b[0m \u001b[0;32mand\u001b[0m \u001b[0;32mnot\u001b[0m \u001b[0mraw_lengths\u001b[0m\u001b[0;34m:\u001b[0m\u001b[0;34m\u001b[0m\u001b[0m\n\u001b[0;32m-> 5270\u001b[0;31m             raise ValueError('If using all scalar values, you must pass'\n\u001b[0m\u001b[1;32m   5271\u001b[0m                              ' an index')\n\u001b[1;32m   5272\u001b[0m \u001b[0;34m\u001b[0m\u001b[0m\n",
      "\u001b[0;31mValueError\u001b[0m: If using all scalar values, you must pass an index"
     ]
    }
   ],
   "source": [
    "pd.DataFrame(odfs).plot(kind=\"bar\", color=tableau20blind[::2], subplots=True, figsize=(12,8))\n",
    "fig = plt.gcf()\n",
    "fig.text(-0.02, 0.5, \"Number of homes\", va='center', rotation='vertical')\n",
    "\n",
    "plt.tight_layout()\n",
    "plt.savefig(\"../results/metadata.png\", bbox_inches=\"tight\")\n",
    "plt.savefig(\"../results/metadata.pdf\", bbox_inches=\"tight\")"
   ]
  },
  {
   "cell_type": "code",
   "execution_count": 59,
   "metadata": {
    "collapsed": false
   },
   "outputs": [],
   "source": [
    "for city in odfs.keys():\n",
    "    odfs[city] = odfs[city].ix[['house_num_rooms','num_males','num_females',\n",
    "                                'area','num_bedrooms','num_floors','area_first',\n",
    "                               'area_second','area_third']].T\n",
    "    odfs[city] = odfs[city].replace({'5 or more':5})\n",
    "    odfs[city] = odfs[city].replace({'One':1})\n",
    "    odfs[city] = odfs[city].replace({'Two':2})\n",
    "    odfs[city] = odfs[city].replace({'Three':3})\n",
    "    odfs[city] = odfs[city].replace({'Four':4})\n",
    "    odfs[city] = odfs[city].replace({'Five':5})\n",
    "    odfs[city] = odfs[city].replace({\"None\":0})\n",
    "    odfs[city] = odfs[city].astype('float64')\n",
    "    odfs[city][\"num_occupants\"] = odfs[city].num_females+odfs[city].num_males\n",
    "    odfs[city] = odfs[city].drop(\"num_males\",1)\n",
    "    odfs[city] = odfs[city].drop(\"num_females\",1)\n",
    "    #odfs[city] = odfs[city].query('num_occupants>0')\n",
    "\n"
   ]
  },
  {
   "cell_type": "code",
   "execution_count": 60,
   "metadata": {
    "collapsed": false
   },
   "outputs": [],
   "source": [
    "for city in odfs.keys():\n",
    "    odfs[city].to_csv('metadata/%s_md.csv' %city.replace(\" \",\"\"))\n",
    "    "
   ]
  },
  {
   "cell_type": "code",
   "execution_count": 61,
   "metadata": {
    "collapsed": false
   },
   "outputs": [],
   "source": [
    "a = {}\n",
    "for city in odfs.keys():\n",
    "    a[city] = odfs[city].count()"
   ]
  },
  {
   "cell_type": "code",
   "execution_count": 62,
   "metadata": {
    "collapsed": false
   },
   "outputs": [
    {
     "data": {
      "text/html": [
       "<div>\n",
       "<table border=\"1\" class=\"dataframe\">\n",
       "  <thead>\n",
       "    <tr style=\"text-align: right;\">\n",
       "      <th></th>\n",
       "      <th>house_num_rooms</th>\n",
       "      <th>area</th>\n",
       "      <th>num_bedrooms</th>\n",
       "      <th>num_floors</th>\n",
       "      <th>area_first</th>\n",
       "      <th>area_second</th>\n",
       "      <th>area_third</th>\n",
       "      <th>num_occupants</th>\n",
       "    </tr>\n",
       "  </thead>\n",
       "  <tbody>\n",
       "    <tr>\n",
       "      <th>Arlington</th>\n",
       "      <td>7</td>\n",
       "      <td>20</td>\n",
       "      <td>0</td>\n",
       "      <td>7</td>\n",
       "      <td>20</td>\n",
       "      <td>0</td>\n",
       "      <td>0</td>\n",
       "      <td>6</td>\n",
       "    </tr>\n",
       "    <tr>\n",
       "      <th>Austin</th>\n",
       "      <td>187</td>\n",
       "      <td>710</td>\n",
       "      <td>220</td>\n",
       "      <td>210</td>\n",
       "      <td>470</td>\n",
       "      <td>428</td>\n",
       "      <td>378</td>\n",
       "      <td>338</td>\n",
       "    </tr>\n",
       "    <tr>\n",
       "      <th>Boulder</th>\n",
       "      <td>0</td>\n",
       "      <td>52</td>\n",
       "      <td>0</td>\n",
       "      <td>0</td>\n",
       "      <td>48</td>\n",
       "      <td>38</td>\n",
       "      <td>0</td>\n",
       "      <td>0</td>\n",
       "    </tr>\n",
       "    <tr>\n",
       "      <th>Dallas</th>\n",
       "      <td>18</td>\n",
       "      <td>46</td>\n",
       "      <td>0</td>\n",
       "      <td>18</td>\n",
       "      <td>45</td>\n",
       "      <td>1</td>\n",
       "      <td>0</td>\n",
       "      <td>17</td>\n",
       "    </tr>\n",
       "    <tr>\n",
       "      <th>Houston</th>\n",
       "      <td>11</td>\n",
       "      <td>60</td>\n",
       "      <td>0</td>\n",
       "      <td>11</td>\n",
       "      <td>59</td>\n",
       "      <td>28</td>\n",
       "      <td>0</td>\n",
       "      <td>9</td>\n",
       "    </tr>\n",
       "    <tr>\n",
       "      <th>San Antonio</th>\n",
       "      <td>0</td>\n",
       "      <td>1</td>\n",
       "      <td>0</td>\n",
       "      <td>0</td>\n",
       "      <td>1</td>\n",
       "      <td>1</td>\n",
       "      <td>0</td>\n",
       "      <td>0</td>\n",
       "    </tr>\n",
       "    <tr>\n",
       "      <th>San Diego</th>\n",
       "      <td>10</td>\n",
       "      <td>28</td>\n",
       "      <td>10</td>\n",
       "      <td>14</td>\n",
       "      <td>8</td>\n",
       "      <td>0</td>\n",
       "      <td>0</td>\n",
       "      <td>9</td>\n",
       "    </tr>\n",
       "  </tbody>\n",
       "</table>\n",
       "</div>"
      ],
      "text/plain": [
       "             house_num_rooms  area  num_bedrooms  num_floors  area_first  \\\n",
       "Arlington                  7    20             0           7          20   \n",
       "Austin                   187   710           220         210         470   \n",
       "Boulder                    0    52             0           0          48   \n",
       "Dallas                    18    46             0          18          45   \n",
       "Houston                   11    60             0          11          59   \n",
       "San Antonio                0     1             0           0           1   \n",
       "San Diego                 10    28            10          14           8   \n",
       "\n",
       "             area_second  area_third  num_occupants  \n",
       "Arlington              0           0              6  \n",
       "Austin               428         378            338  \n",
       "Boulder               38           0              0  \n",
       "Dallas                 1           0             17  \n",
       "Houston               28           0              9  \n",
       "San Antonio            1           0              0  \n",
       "San Diego              0           0              9  "
      ]
     },
     "execution_count": 62,
     "metadata": {},
     "output_type": "execute_result"
    }
   ],
   "source": [
    "pd.DataFrame(a).T"
   ]
  }
 ],
 "metadata": {
  "anaconda-cloud": {},
  "kernelspec": {
   "display_name": "Python [default]",
   "language": "python",
   "name": "python2"
  },
  "language_info": {
   "codemirror_mode": {
    "name": "ipython",
    "version": 2
   },
   "file_extension": ".py",
   "mimetype": "text/x-python",
   "name": "python",
   "nbconvert_exporter": "python",
   "pygments_lexer": "ipython2",
   "version": "2.7.12"
  }
 },
 "nbformat": 4,
 "nbformat_minor": 0
}
