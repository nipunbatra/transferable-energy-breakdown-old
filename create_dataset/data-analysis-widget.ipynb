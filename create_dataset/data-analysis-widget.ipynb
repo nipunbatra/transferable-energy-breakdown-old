{
 "cells": [
  {
   "cell_type": "code",
   "execution_count": 1,
   "metadata": {
    "collapsed": true
   },
   "outputs": [],
   "source": [
    "import pandas as pd\n",
    "import os\n",
    "import numpy as np\n",
    "from copy import deepcopy"
   ]
  },
  {
   "cell_type": "code",
   "execution_count": 2,
   "metadata": {
    "collapsed": true
   },
   "outputs": [],
   "source": [
    "st = pd.HDFStore(os.path.expanduser(\"~/all.h5\"), mode='r')"
   ]
  },
  {
   "cell_type": "code",
   "execution_count": 3,
   "metadata": {
    "collapsed": true
   },
   "outputs": [],
   "source": [
    "metadata_df = pd.read_csv(\"metadata/metadata.csv\",index_col=0)"
   ]
  },
  {
   "cell_type": "code",
   "execution_count": 4,
   "metadata": {
    "collapsed": true
   },
   "outputs": [],
   "source": [
    "feeds = {'use':'aggregate',\n",
    "        'air1':'hvac',\n",
    "         'clotheswasher1':'wm',\n",
    "         'dishwasher1':'dw',\n",
    "         'microwave1':'mw',\n",
    "         'refrigerator1':'fridge',\n",
    "         'oven1':'oven',\n",
    "        'car1':'ec',\n",
    "         'waterheater1':'wh',\n",
    "         'drye1':'dr'\n",
    "        }"
   ]
  },
  {
   "cell_type": "code",
   "execution_count": 5,
   "metadata": {
    "collapsed": true
   },
   "outputs": [],
   "source": [
    "feed_r = {v:k for k, v in feeds.iteritems()}"
   ]
  },
  {
   "cell_type": "code",
   "execution_count": 6,
   "metadata": {
    "collapsed": true
   },
   "outputs": [],
   "source": [
    "cities = ['Austin','Houston','San Diego','Boulder']"
   ]
  },
  {
   "cell_type": "code",
   "execution_count": 7,
   "metadata": {
    "collapsed": true
   },
   "outputs": [],
   "source": [
    "years = {\n",
    "    2014:{'start':'1-1-2014', 'end':'12-31-2014', 'start_month':1, 'end_month':12, 'months':1},\n",
    "    2015:{'start':'1-1-2015', 'end':'12-31-2015', 'start_month':1, 'end_month':12, 'months':1},\n",
    "    2016:{'start':'1-1-2016', 'end':'12-31-2016', 'start_month':1, 'end_month':12, 'months':1}\n",
    "    }"
   ]
  },
  {
   "cell_type": "code",
   "execution_count": 8,
   "metadata": {
    "collapsed": true
   },
   "outputs": [],
   "source": [
    "import pickle\n",
    "out_overall = pickle.load(open('metadata/all_regions_years_cleaned.pkl', 'r'))"
   ]
  },
  {
   "cell_type": "code",
   "execution_count": 9,
   "metadata": {},
   "outputs": [],
   "source": [
    "a = out_overall[2014]['Austin'].index"
   ]
  },
  {
   "cell_type": "code",
   "execution_count": 10,
   "metadata": {},
   "outputs": [],
   "source": [
    "import sys\n",
    "sys.path.append('../aaai/')\n",
    "from create_matrix import *\n",
    "df, dfc = create_matrix_single_region('Austin', 2014)"
   ]
  },
  {
   "cell_type": "code",
   "execution_count": 11,
   "metadata": {},
   "outputs": [
    {
     "data": {
      "text/plain": [
       "nan"
      ]
     },
     "execution_count": 11,
     "metadata": {},
     "output_type": "execute_result"
    }
   ],
   "source": [
    "home, appliance, month = 2378,'hvac',6\n",
    "df.ix[home]['%s_%d' %(appliance, month)]"
   ]
  },
  {
   "cell_type": "code",
   "execution_count": 12,
   "metadata": {},
   "outputs": [
    {
     "data": {
      "text/plain": [
       "(533, 128)"
      ]
     },
     "execution_count": 12,
     "metadata": {},
     "output_type": "execute_result"
    }
   ],
   "source": [
    "df.shape"
   ]
  },
  {
   "cell_type": "code",
   "execution_count": 13,
   "metadata": {},
   "outputs": [
    {
     "data": {
      "text/plain": [
       "68224"
      ]
     },
     "execution_count": 13,
     "metadata": {},
     "output_type": "execute_result"
    }
   ],
   "source": [
    "df.size"
   ]
  },
  {
   "cell_type": "code",
   "execution_count": 14,
   "metadata": {},
   "outputs": [
    {
     "data": {
      "text/plain": [
       "27502"
      ]
     },
     "execution_count": 14,
     "metadata": {},
     "output_type": "execute_result"
    }
   ],
   "source": [
    "df.notnull().sum().sum()"
   ]
  },
  {
   "cell_type": "code",
   "execution_count": 15,
   "metadata": {},
   "outputs": [
    {
     "data": {
      "text/html": [
       "<div>\n",
       "<table border=\"1\" class=\"dataframe\">\n",
       "  <thead>\n",
       "    <tr style=\"text-align: right;\">\n",
       "      <th></th>\n",
       "      <th>dw_1</th>\n",
       "      <th>dw_2</th>\n",
       "      <th>dw_3</th>\n",
       "      <th>dw_4</th>\n",
       "      <th>dw_5</th>\n",
       "      <th>dw_6</th>\n",
       "      <th>dw_7</th>\n",
       "      <th>dw_8</th>\n",
       "      <th>dw_9</th>\n",
       "      <th>dw_10</th>\n",
       "      <th>dw_11</th>\n",
       "      <th>dw_12</th>\n",
       "    </tr>\n",
       "  </thead>\n",
       "  <tbody>\n",
       "    <tr>\n",
       "      <th>count</th>\n",
       "      <td>205.000000</td>\n",
       "      <td>222.000000</td>\n",
       "      <td>252.000000</td>\n",
       "      <td>259.000000</td>\n",
       "      <td>265.000000</td>\n",
       "      <td>274.000000</td>\n",
       "      <td>285.000000</td>\n",
       "      <td>291.000000</td>\n",
       "      <td>297.000000</td>\n",
       "      <td>303.000000</td>\n",
       "      <td>299.000000</td>\n",
       "      <td>298.000000</td>\n",
       "    </tr>\n",
       "    <tr>\n",
       "      <th>mean</th>\n",
       "      <td>9.708619</td>\n",
       "      <td>8.434810</td>\n",
       "      <td>8.728374</td>\n",
       "      <td>8.144696</td>\n",
       "      <td>8.160846</td>\n",
       "      <td>7.714047</td>\n",
       "      <td>7.565975</td>\n",
       "      <td>7.764865</td>\n",
       "      <td>8.070098</td>\n",
       "      <td>8.728551</td>\n",
       "      <td>9.352359</td>\n",
       "      <td>9.855035</td>\n",
       "    </tr>\n",
       "    <tr>\n",
       "      <th>std</th>\n",
       "      <td>9.742111</td>\n",
       "      <td>8.173240</td>\n",
       "      <td>8.310532</td>\n",
       "      <td>8.073685</td>\n",
       "      <td>8.135321</td>\n",
       "      <td>7.426026</td>\n",
       "      <td>7.304776</td>\n",
       "      <td>7.692711</td>\n",
       "      <td>8.112861</td>\n",
       "      <td>8.748531</td>\n",
       "      <td>9.043597</td>\n",
       "      <td>9.821733</td>\n",
       "    </tr>\n",
       "    <tr>\n",
       "      <th>min</th>\n",
       "      <td>0.000000</td>\n",
       "      <td>0.000000</td>\n",
       "      <td>0.000000</td>\n",
       "      <td>0.000000</td>\n",
       "      <td>0.000000</td>\n",
       "      <td>0.000000</td>\n",
       "      <td>0.000000</td>\n",
       "      <td>0.000000</td>\n",
       "      <td>0.000000</td>\n",
       "      <td>0.000000</td>\n",
       "      <td>0.000000</td>\n",
       "      <td>0.000000</td>\n",
       "    </tr>\n",
       "    <tr>\n",
       "      <th>25%</th>\n",
       "      <td>1.411550</td>\n",
       "      <td>1.665383</td>\n",
       "      <td>1.383867</td>\n",
       "      <td>0.693025</td>\n",
       "      <td>0.771567</td>\n",
       "      <td>1.167817</td>\n",
       "      <td>1.244183</td>\n",
       "      <td>1.073133</td>\n",
       "      <td>1.249450</td>\n",
       "      <td>1.590183</td>\n",
       "      <td>1.839717</td>\n",
       "      <td>1.631142</td>\n",
       "    </tr>\n",
       "    <tr>\n",
       "      <th>50%</th>\n",
       "      <td>7.270467</td>\n",
       "      <td>6.552008</td>\n",
       "      <td>7.114942</td>\n",
       "      <td>5.709383</td>\n",
       "      <td>6.221283</td>\n",
       "      <td>5.898283</td>\n",
       "      <td>5.984983</td>\n",
       "      <td>5.888183</td>\n",
       "      <td>5.959017</td>\n",
       "      <td>6.269166</td>\n",
       "      <td>7.082933</td>\n",
       "      <td>7.243392</td>\n",
       "    </tr>\n",
       "    <tr>\n",
       "      <th>75%</th>\n",
       "      <td>14.768400</td>\n",
       "      <td>12.659258</td>\n",
       "      <td>12.734054</td>\n",
       "      <td>13.042058</td>\n",
       "      <td>12.649517</td>\n",
       "      <td>12.357571</td>\n",
       "      <td>11.418867</td>\n",
       "      <td>11.982325</td>\n",
       "      <td>11.814983</td>\n",
       "      <td>13.113583</td>\n",
       "      <td>14.645150</td>\n",
       "      <td>15.934863</td>\n",
       "    </tr>\n",
       "    <tr>\n",
       "      <th>max</th>\n",
       "      <td>48.084332</td>\n",
       "      <td>43.614601</td>\n",
       "      <td>36.097450</td>\n",
       "      <td>36.975132</td>\n",
       "      <td>37.158764</td>\n",
       "      <td>38.095615</td>\n",
       "      <td>35.783581</td>\n",
       "      <td>35.976170</td>\n",
       "      <td>38.892448</td>\n",
       "      <td>44.840683</td>\n",
       "      <td>42.959618</td>\n",
       "      <td>47.639168</td>\n",
       "    </tr>\n",
       "  </tbody>\n",
       "</table>\n",
       "</div>"
      ],
      "text/plain": [
       "             dw_1        dw_2        dw_3        dw_4        dw_5        dw_6  \\\n",
       "count  205.000000  222.000000  252.000000  259.000000  265.000000  274.000000   \n",
       "mean     9.708619    8.434810    8.728374    8.144696    8.160846    7.714047   \n",
       "std      9.742111    8.173240    8.310532    8.073685    8.135321    7.426026   \n",
       "min      0.000000    0.000000    0.000000    0.000000    0.000000    0.000000   \n",
       "25%      1.411550    1.665383    1.383867    0.693025    0.771567    1.167817   \n",
       "50%      7.270467    6.552008    7.114942    5.709383    6.221283    5.898283   \n",
       "75%     14.768400   12.659258   12.734054   13.042058   12.649517   12.357571   \n",
       "max     48.084332   43.614601   36.097450   36.975132   37.158764   38.095615   \n",
       "\n",
       "             dw_7        dw_8        dw_9       dw_10       dw_11       dw_12  \n",
       "count  285.000000  291.000000  297.000000  303.000000  299.000000  298.000000  \n",
       "mean     7.565975    7.764865    8.070098    8.728551    9.352359    9.855035  \n",
       "std      7.304776    7.692711    8.112861    8.748531    9.043597    9.821733  \n",
       "min      0.000000    0.000000    0.000000    0.000000    0.000000    0.000000  \n",
       "25%      1.244183    1.073133    1.249450    1.590183    1.839717    1.631142  \n",
       "50%      5.984983    5.888183    5.959017    6.269166    7.082933    7.243392  \n",
       "75%     11.418867   11.982325   11.814983   13.113583   14.645150   15.934863  \n",
       "max     35.783581   35.976170   38.892448   44.840683   42.959618   47.639168  "
      ]
     },
     "execution_count": 15,
     "metadata": {},
     "output_type": "execute_result"
    }
   ],
   "source": [
    "df[['dw_%d' %month for month in range(1, 13)]].describe()"
   ]
  },
  {
   "cell_type": "code",
   "execution_count": 15,
   "metadata": {},
   "outputs": [
    {
     "data": {
      "text/html": [
       "<div>\n",
       "<table border=\"1\" class=\"dataframe\">\n",
       "  <thead>\n",
       "    <tr style=\"text-align: right;\">\n",
       "      <th></th>\n",
       "      <th>oven_1</th>\n",
       "    </tr>\n",
       "  </thead>\n",
       "  <tbody>\n",
       "    <tr>\n",
       "      <th>22</th>\n",
       "      <td>NaN</td>\n",
       "    </tr>\n",
       "    <tr>\n",
       "      <th>26</th>\n",
       "      <td>20.389349</td>\n",
       "    </tr>\n",
       "    <tr>\n",
       "      <th>48</th>\n",
       "      <td>NaN</td>\n",
       "    </tr>\n",
       "    <tr>\n",
       "      <th>59</th>\n",
       "      <td>14.296000</td>\n",
       "    </tr>\n",
       "    <tr>\n",
       "      <th>68</th>\n",
       "      <td>NaN</td>\n",
       "    </tr>\n",
       "    <tr>\n",
       "      <th>77</th>\n",
       "      <td>NaN</td>\n",
       "    </tr>\n",
       "    <tr>\n",
       "      <th>86</th>\n",
       "      <td>NaN</td>\n",
       "    </tr>\n",
       "    <tr>\n",
       "      <th>93</th>\n",
       "      <td>5.864000</td>\n",
       "    </tr>\n",
       "    <tr>\n",
       "      <th>94</th>\n",
       "      <td>NaN</td>\n",
       "    </tr>\n",
       "    <tr>\n",
       "      <th>101</th>\n",
       "      <td>NaN</td>\n",
       "    </tr>\n",
       "    <tr>\n",
       "      <th>114</th>\n",
       "      <td>NaN</td>\n",
       "    </tr>\n",
       "    <tr>\n",
       "      <th>115</th>\n",
       "      <td>NaN</td>\n",
       "    </tr>\n",
       "    <tr>\n",
       "      <th>121</th>\n",
       "      <td>NaN</td>\n",
       "    </tr>\n",
       "    <tr>\n",
       "      <th>130</th>\n",
       "      <td>NaN</td>\n",
       "    </tr>\n",
       "    <tr>\n",
       "      <th>135</th>\n",
       "      <td>NaN</td>\n",
       "    </tr>\n",
       "    <tr>\n",
       "      <th>160</th>\n",
       "      <td>NaN</td>\n",
       "    </tr>\n",
       "    <tr>\n",
       "      <th>171</th>\n",
       "      <td>NaN</td>\n",
       "    </tr>\n",
       "    <tr>\n",
       "      <th>187</th>\n",
       "      <td>NaN</td>\n",
       "    </tr>\n",
       "    <tr>\n",
       "      <th>222</th>\n",
       "      <td>NaN</td>\n",
       "    </tr>\n",
       "    <tr>\n",
       "      <th>243</th>\n",
       "      <td>NaN</td>\n",
       "    </tr>\n",
       "    <tr>\n",
       "      <th>252</th>\n",
       "      <td>NaN</td>\n",
       "    </tr>\n",
       "    <tr>\n",
       "      <th>267</th>\n",
       "      <td>NaN</td>\n",
       "    </tr>\n",
       "    <tr>\n",
       "      <th>297</th>\n",
       "      <td>NaN</td>\n",
       "    </tr>\n",
       "    <tr>\n",
       "      <th>347</th>\n",
       "      <td>NaN</td>\n",
       "    </tr>\n",
       "    <tr>\n",
       "      <th>364</th>\n",
       "      <td>NaN</td>\n",
       "    </tr>\n",
       "    <tr>\n",
       "      <th>370</th>\n",
       "      <td>NaN</td>\n",
       "    </tr>\n",
       "    <tr>\n",
       "      <th>410</th>\n",
       "      <td>NaN</td>\n",
       "    </tr>\n",
       "    <tr>\n",
       "      <th>434</th>\n",
       "      <td>NaN</td>\n",
       "    </tr>\n",
       "    <tr>\n",
       "      <th>436</th>\n",
       "      <td>NaN</td>\n",
       "    </tr>\n",
       "    <tr>\n",
       "      <th>457</th>\n",
       "      <td>NaN</td>\n",
       "    </tr>\n",
       "    <tr>\n",
       "      <th>...</th>\n",
       "      <td>...</td>\n",
       "    </tr>\n",
       "    <tr>\n",
       "      <th>9701</th>\n",
       "      <td>NaN</td>\n",
       "    </tr>\n",
       "    <tr>\n",
       "      <th>9729</th>\n",
       "      <td>NaN</td>\n",
       "    </tr>\n",
       "    <tr>\n",
       "      <th>9737</th>\n",
       "      <td>NaN</td>\n",
       "    </tr>\n",
       "    <tr>\n",
       "      <th>9745</th>\n",
       "      <td>191.942459</td>\n",
       "    </tr>\n",
       "    <tr>\n",
       "      <th>9766</th>\n",
       "      <td>NaN</td>\n",
       "    </tr>\n",
       "    <tr>\n",
       "      <th>9771</th>\n",
       "      <td>15.484917</td>\n",
       "    </tr>\n",
       "    <tr>\n",
       "      <th>9773</th>\n",
       "      <td>NaN</td>\n",
       "    </tr>\n",
       "    <tr>\n",
       "      <th>9803</th>\n",
       "      <td>NaN</td>\n",
       "    </tr>\n",
       "    <tr>\n",
       "      <th>9830</th>\n",
       "      <td>NaN</td>\n",
       "    </tr>\n",
       "    <tr>\n",
       "      <th>9846</th>\n",
       "      <td>NaN</td>\n",
       "    </tr>\n",
       "    <tr>\n",
       "      <th>9875</th>\n",
       "      <td>NaN</td>\n",
       "    </tr>\n",
       "    <tr>\n",
       "      <th>9912</th>\n",
       "      <td>NaN</td>\n",
       "    </tr>\n",
       "    <tr>\n",
       "      <th>9915</th>\n",
       "      <td>NaN</td>\n",
       "    </tr>\n",
       "    <tr>\n",
       "      <th>9919</th>\n",
       "      <td>NaN</td>\n",
       "    </tr>\n",
       "    <tr>\n",
       "      <th>9921</th>\n",
       "      <td>NaN</td>\n",
       "    </tr>\n",
       "    <tr>\n",
       "      <th>9922</th>\n",
       "      <td>55.711552</td>\n",
       "    </tr>\n",
       "    <tr>\n",
       "      <th>9926</th>\n",
       "      <td>NaN</td>\n",
       "    </tr>\n",
       "    <tr>\n",
       "      <th>9929</th>\n",
       "      <td>NaN</td>\n",
       "    </tr>\n",
       "    <tr>\n",
       "      <th>9931</th>\n",
       "      <td>NaN</td>\n",
       "    </tr>\n",
       "    <tr>\n",
       "      <th>9932</th>\n",
       "      <td>NaN</td>\n",
       "    </tr>\n",
       "    <tr>\n",
       "      <th>9933</th>\n",
       "      <td>4.866900</td>\n",
       "    </tr>\n",
       "    <tr>\n",
       "      <th>9935</th>\n",
       "      <td>NaN</td>\n",
       "    </tr>\n",
       "    <tr>\n",
       "      <th>9936</th>\n",
       "      <td>NaN</td>\n",
       "    </tr>\n",
       "    <tr>\n",
       "      <th>9937</th>\n",
       "      <td>NaN</td>\n",
       "    </tr>\n",
       "    <tr>\n",
       "      <th>9938</th>\n",
       "      <td>10.839900</td>\n",
       "    </tr>\n",
       "    <tr>\n",
       "      <th>9939</th>\n",
       "      <td>NaN</td>\n",
       "    </tr>\n",
       "    <tr>\n",
       "      <th>9942</th>\n",
       "      <td>14.822766</td>\n",
       "    </tr>\n",
       "    <tr>\n",
       "      <th>9971</th>\n",
       "      <td>NaN</td>\n",
       "    </tr>\n",
       "    <tr>\n",
       "      <th>9981</th>\n",
       "      <td>NaN</td>\n",
       "    </tr>\n",
       "    <tr>\n",
       "      <th>9982</th>\n",
       "      <td>0.071433</td>\n",
       "    </tr>\n",
       "  </tbody>\n",
       "</table>\n",
       "<p>534 rows × 1 columns</p>\n",
       "</div>"
      ],
      "text/plain": [
       "          oven_1\n",
       "22           NaN\n",
       "26     20.389349\n",
       "48           NaN\n",
       "59     14.296000\n",
       "68           NaN\n",
       "77           NaN\n",
       "86           NaN\n",
       "93      5.864000\n",
       "94           NaN\n",
       "101          NaN\n",
       "114          NaN\n",
       "115          NaN\n",
       "121          NaN\n",
       "130          NaN\n",
       "135          NaN\n",
       "160          NaN\n",
       "171          NaN\n",
       "187          NaN\n",
       "222          NaN\n",
       "243          NaN\n",
       "252          NaN\n",
       "267          NaN\n",
       "297          NaN\n",
       "347          NaN\n",
       "364          NaN\n",
       "370          NaN\n",
       "410          NaN\n",
       "434          NaN\n",
       "436          NaN\n",
       "457          NaN\n",
       "...          ...\n",
       "9701         NaN\n",
       "9729         NaN\n",
       "9737         NaN\n",
       "9745  191.942459\n",
       "9766         NaN\n",
       "9771   15.484917\n",
       "9773         NaN\n",
       "9803         NaN\n",
       "9830         NaN\n",
       "9846         NaN\n",
       "9875         NaN\n",
       "9912         NaN\n",
       "9915         NaN\n",
       "9919         NaN\n",
       "9921         NaN\n",
       "9922   55.711552\n",
       "9926         NaN\n",
       "9929         NaN\n",
       "9931         NaN\n",
       "9932         NaN\n",
       "9933    4.866900\n",
       "9935         NaN\n",
       "9936         NaN\n",
       "9937         NaN\n",
       "9938   10.839900\n",
       "9939         NaN\n",
       "9942   14.822766\n",
       "9971         NaN\n",
       "9981         NaN\n",
       "9982    0.071433\n",
       "\n",
       "[534 rows x 1 columns]"
      ]
     },
     "execution_count": 15,
     "metadata": {},
     "output_type": "execute_result"
    }
   ],
   "source": [
    "df[['oven_%d' %month for month in range(1, 2)]]"
   ]
  },
  {
   "cell_type": "code",
   "execution_count": 16,
   "metadata": {
    "collapsed": true
   },
   "outputs": [],
   "source": [
    "%matplotlib tk"
   ]
  },
  {
   "cell_type": "code",
   "execution_count": 17,
   "metadata": {},
   "outputs": [],
   "source": [
    "import matplotlib.pyplot as plt\n",
    "from matplotlib.widgets import Button, CheckButtons\n",
    "\n",
    "fig, ax = plt.subplots()\n",
    "fig.subplots_adjust(bottom=0.2)\n",
    "fig.subplots_adjust(left=0.2)\n",
    "\n",
    "home_0 = st['/%d' %df.index.values[0]]\n",
    "\n",
    "rax = plt.axes([0.02, 0.4, 0.13, 0.2], aspect='equal')\n",
    "\n",
    "appliances = ['air1','use']\n",
    "year='2014'\n",
    "labels = tuple(appliances)\n",
    "states = tuple([True]*len(labels))\n",
    "check = CheckButtons(rax, labels, states)\n",
    "\n",
    "\n",
    "home_0[appliances][year].plot(ax=ax, title=\"Sample number: 0\").legend(loc=2)\n",
    "lines = ax.get_lines()\n",
    "\n",
    "class Index:\n",
    "    store = st\n",
    "    data_min = 0\n",
    "    data_max = len(df)-1\n",
    "    selected = 0\n",
    "    home_num = df.index.values[selected]\n",
    "    st, la = states, labels\n",
    "    states_dict = dict(zip(la, st))\n",
    "    def selected_column(self, label):\n",
    "        self.states_dict[label] = not self.states_dict[label]\n",
    "        self.plot()\n",
    "    \n",
    "    def plot(self):\n",
    "        ax.cla()\n",
    "        home_num = df.index.values[self.selected]\n",
    "        home_df = st['/%d' %home_num][year]\n",
    "        if 'air1' in home_df.columns:\n",
    "            home_df[appliances].plot(ax=ax, title=\"Home: %d\" %home_num).legend(loc=2)\n",
    "        else:\n",
    "            home_df[['use']].plot(ax=ax, title=\"Home: %d\" %home_num).legend(loc=2)\n",
    "       \n",
    "        lines = ax.get_lines()\n",
    "        for i ,(l, s) in enumerate(self.states_dict.items()):\n",
    "            lines[i].set_visible(s)\n",
    "        plt.legend(loc=1)\n",
    "        \n",
    "        \n",
    "    def next(self, event):\n",
    "        if self.selected >=self.data_max:\n",
    "            self.selected = self.data_max\n",
    "            ax.set_title('Last sample reached. Cannot go forwards')\n",
    "        else:\n",
    "            self.selected += 1\n",
    "            self.plot()\n",
    "            \n",
    "\n",
    "    def prev(self, event):\n",
    "        if self.selected <=self.data_min:\n",
    "            self.selected = 0\n",
    "            ax.set_title('First sample reached. Cannot go backwards')\n",
    "        else:\n",
    "            self.selected -= 1\n",
    "            self.plot()\n",
    "        \n",
    "\n",
    "callback = Index()\n",
    "axprev = plt.axes([0.7, 0.05, 0.1, 0.075])\n",
    "axnext = plt.axes([0.81, 0.05, 0.1, 0.075])\n",
    "\n",
    "bnext = Button(axnext, '>')\n",
    "bnext.on_clicked(callback.next)\n",
    "\n",
    "bprev = Button(axprev, '<')\n",
    "bprev.on_clicked(callback.prev)\n",
    "\n",
    "check.on_clicked(callback.selected_column);"
   ]
  },
  {
   "cell_type": "code",
   "execution_count": 24,
   "metadata": {},
   "outputs": [],
   "source": [
    "for appliance in APPLIANCES_ORDER:\n",
    "    for month in range(1, 13):\n",
    "        "
   ]
  },
  {
   "cell_type": "code",
   "execution_count": 43,
   "metadata": {},
   "outputs": [
    {
     "data": {
      "text/plain": [
       "5357    865.795631\n",
       "59      723.118385\n",
       "1700    643.282325\n",
       "1782    641.330360\n",
       "5673    626.841468\n",
       "8419    622.612281\n",
       "7875    517.472389\n",
       "5109    485.789711\n",
       "3192    449.892463\n",
       "8669    401.957191\n",
       "Name: hvac_1, dtype: float64"
      ]
     },
     "execution_count": 43,
     "metadata": {},
     "output_type": "execute_result"
    }
   ],
   "source": [
    "appliance, month = 'hvac', 1\n",
    "d = df['%s_%d' %(appliance, month)]\n",
    "e = (d-d.median()).abs().sort_values()[::-1]\n",
    "e.dropna().head(10)"
   ]
  },
  {
   "cell_type": "code",
   "execution_count": 46,
   "metadata": {},
   "outputs": [
    {
     "data": {
      "text/plain": [
       "<matplotlib.axes._subplots.AxesSubplot at 0x11d1c0150>"
      ]
     },
     "execution_count": 46,
     "metadata": {},
     "output_type": "execute_result"
    }
   ],
   "source": [
    "st['/1700']['2014'][feed_r[appliance]].plot()"
   ]
  },
  {
   "cell_type": "code",
   "execution_count": null,
   "metadata": {
    "collapsed": true
   },
   "outputs": [],
   "source": [
    "to_remove = \n",
    " {\n",
    "     'fridge':\n",
    "     {\n",
    "         1: [5371, # never turns off,\n",
    "             3652, # never turns off,\n",
    "             9019, # never turns off,\n",
    "             2864, # never turns off,\n",
    "            ]\n",
    "     },\n",
    "     'hvac':\n",
    "     {\n",
    "         1: [5357, # high HVAC energy through the year\n",
    "            59,\n",
    "            ]\n",
    "     }\n",
    "             \n",
    "             \n",
    "             \n",
    "         \n",
    "     }\n",
    " }"
   ]
  },
  {
   "cell_type": "code",
   "execution_count": 12,
   "metadata": {},
   "outputs": [],
   "source": [
    "def pl(home, appliances=['aggregate','hvac']):\n",
    "    for ap in appliances:\n",
    "        print df.ix[home][['%s_%d' %(ap, month) for month in range(1, 13)]]"
   ]
  },
  {
   "cell_type": "code",
   "execution_count": 19,
   "metadata": {},
   "outputs": [
    {
     "name": "stderr",
     "output_type": "stream",
     "text": [
      "/Users/nipunbatra/anaconda/lib/python2.7/site-packages/ipykernel_launcher.py:1: FutureWarning: how in .resample() is deprecated\n",
      "the new syntax is .resample(...).mean()\n",
      "  \"\"\"Entry point for launching an IPython kernel.\n"
     ]
    },
    {
     "data": {
      "text/plain": [
       "12    31\n",
       "8     31\n",
       "7     31\n",
       "5     31\n",
       "3     31\n",
       "1     31\n",
       "9     30\n",
       "6     30\n",
       "4     30\n",
       "2     28\n",
       "10     8\n",
       "11     7\n",
       "dtype: int64"
      ]
     },
     "execution_count": 19,
     "metadata": {},
     "output_type": "execute_result"
    }
   ],
   "source": [
    "pd.value_counts(st['/1185']['2014'].resample('1d',how='mean')['use'].dropna().index.month)"
   ]
  },
  {
   "cell_type": "code",
   "execution_count": 13,
   "metadata": {},
   "outputs": [
    {
     "name": "stdout",
     "output_type": "stream",
     "text": [
      "aggregate_1      849.482971\n",
      "aggregate_2      742.265991\n",
      "aggregate_3      766.720459\n",
      "aggregate_4      862.627563\n",
      "aggregate_5     1063.473633\n",
      "aggregate_6     1551.017456\n",
      "aggregate_7     1952.096802\n",
      "aggregate_8     2054.313477\n",
      "aggregate_9     1567.942505\n",
      "aggregate_10     379.430298\n",
      "aggregate_11     189.506805\n",
      "aggregate_12     891.225159\n",
      "Name: 1185, dtype: float64\n",
      "hvac_1       3.457550\n",
      "hvac_2       1.322767\n",
      "hvac_3       9.706167\n",
      "hvac_4     140.863190\n",
      "hvac_5     281.126373\n",
      "hvac_6     658.252075\n",
      "hvac_7     848.315063\n",
      "hvac_8     988.086243\n",
      "hvac_9     626.911316\n",
      "hvac_10    141.469574\n",
      "hvac_11      1.346326\n",
      "hvac_12      1.813000\n",
      "Name: 1185, dtype: float64\n"
     ]
    }
   ],
   "source": [
    "pl(1185)"
   ]
  },
  {
   "cell_type": "code",
   "execution_count": 35,
   "metadata": {},
   "outputs": [
    {
     "data": {
      "text/plain": [
       "1299.5018310546875"
      ]
     },
     "execution_count": 35,
     "metadata": {},
     "output_type": "execute_result"
    }
   ],
   "source": [
    "out_overall[2014]['Austin'].ix[26]['aggregate_6']"
   ]
  },
  {
   "cell_type": "code",
   "execution_count": 36,
   "metadata": {},
   "outputs": [
    {
     "ename": "TypeError",
     "evalue": "list indices must be integers, not str",
     "output_type": "error",
     "traceback": [
      "\u001b[0;31m---------------------------------------------------------------------------\u001b[0m",
      "\u001b[0;31mTypeError\u001b[0m                                 Traceback (most recent call last)",
      "\u001b[0;32m<ipython-input-36-294aa9b59961>\u001b[0m in \u001b[0;36m<module>\u001b[0;34m()\u001b[0m\n\u001b[0;32m----> 1\u001b[0;31m \u001b[0;34m[\u001b[0m\u001b[0;36m2014\u001b[0m\u001b[0;34m]\u001b[0m\u001b[0;34m[\u001b[0m\u001b[0;34m'Austin'\u001b[0m\u001b[0;34m]\u001b[0m\u001b[0;34m.\u001b[0m\u001b[0mix\u001b[0m\u001b[0;34m[\u001b[0m\u001b[0;36m26\u001b[0m\u001b[0;34m]\u001b[0m\u001b[0;34m\u001b[0m\u001b[0m\n\u001b[0m",
      "\u001b[0;31mTypeError\u001b[0m: list indices must be integers, not str"
     ]
    },
    {
     "name": "stderr",
     "output_type": "stream",
     "text": [
      "Exception in Tkinter callback\n",
      "Traceback (most recent call last):\n",
      "  File \"/Users/nipunbatra/anaconda/lib/python2.7/lib-tk/Tkinter.py\", line 1536, in __call__\n",
      "    return self.func(*args)\n",
      "  File \"/Users/nipunbatra/anaconda/lib/python2.7/site-packages/matplotlib/backends/backend_tkagg.py\", line 423, in button_release_event\n",
      "    FigureCanvasBase.button_release_event(self, x, y, num, guiEvent=event)\n",
      "  File \"/Users/nipunbatra/anaconda/lib/python2.7/site-packages/matplotlib/backend_bases.py\", line 1926, in button_release_event\n",
      "    self.callbacks.process(s, event)\n",
      "  File \"/Users/nipunbatra/anaconda/lib/python2.7/site-packages/matplotlib/cbook.py\", line 563, in process\n",
      "    proxy(*args, **kwargs)\n",
      "  File \"/Users/nipunbatra/anaconda/lib/python2.7/site-packages/matplotlib/cbook.py\", line 430, in __call__\n",
      "    return mtd(*args, **kwargs)\n",
      "  File \"/Users/nipunbatra/anaconda/lib/python2.7/site-packages/matplotlib/widgets.py\", line 229, in _release\n",
      "    func(event)\n",
      "  File \"<ipython-input-31-f44945a9ccd7>\", line 55, in next\n",
      "    self.plot()\n",
      "  File \"<ipython-input-31-f44945a9ccd7>\", line 45, in plot\n",
      "    lines[i].set_visible(s)\n",
      "IndexError: list index out of range\n"
     ]
    }
   ],
   "source": [
    "[2014]['Austin'][26][7] -> all to Nan\n",
    "[2014]['Austin'][187][7] -> all to Nan\n",
    "[2014]['Austin'][457][3] -> all to Nan\n",
    "[2014]['Austin'][457][4] -> all to Nan\n",
    "[2014]['Austin'][457][5] -> all to Nan\n",
    "[2014]['Austin'][457][6] -> all to Nan\n",
    "[2014]['Austin'][457][7] -> all to Nan\n",
    "\n",
    "[2014]['Austin'][580][6] -> all to Nan\n",
    "[2014]['Austin'][772] ->delete all\n",
    "\n",
    "\n",
    "\n",
    "\n",
    "\n",
    "\n"
   ]
  },
  {
   "cell_type": "code",
   "execution_count": 7,
   "metadata": {},
   "outputs": [
    {
     "name": "stdout",
     "output_type": "stream",
     "text": [
      "Austin 2016\n"
     ]
    },
    {
     "name": "stderr",
     "output_type": "stream",
     "text": [
      "/Users/nipunbatra/anaconda/lib/python2.7/site-packages/ipykernel_launcher.py:16: FutureWarning: how in .resample() is deprecated\n",
      "the new syntax is .resample(...).sum()\n",
      "  app.launch_new_instance()\n",
      "/Users/nipunbatra/anaconda/lib/python2.7/site-packages/ipykernel_launcher.py:20: FutureWarning: how in .resample() is deprecated\n",
      "the new syntax is .resample(...).sum()\n"
     ]
    },
    {
     "name": "stdout",
     "output_type": "stream",
     "text": [
      "Houston 2016\n",
      "San Diego 2016\n",
      "Boulder 2016\n",
      "Austin 2014\n",
      "Houston 2014\n",
      "San Diego 2014\n",
      "Boulder 2014\n",
      "Austin 2015\n",
      "Houston 2015\n",
      "San Diego 2015\n",
      "Boulder 2015\n"
     ]
    }
   ],
   "source": [
    "out_overall = {}\n",
    "for year, year_dict in years.iteritems(): \n",
    "    out_overall[year] = {}\n",
    "    to_ignore = []\n",
    "    for city in cities[:]:\n",
    "        print city, year\n",
    "        city_data = metadata_df[metadata_df['city'] == city]\n",
    "        city_homes = city_data.index.values.astype('int')\n",
    "        out = {}\n",
    "        for home in city_homes[:]:\n",
    "            \n",
    "            if home in to_ignore:\n",
    "                continue\n",
    "            try:\n",
    "                data_df = st['/%d' %home][year_dict['start']:year_dict['end']]\n",
    "                data_df_resampled = data_df.resample(\"1M\", how=\"sum\")\n",
    "                df_res_kwh = data_df_resampled.div(1000)\n",
    "                df_res_kwh.index = df_res_kwh.index.month\n",
    "                # Find months where we have less than 28 days worth data and ignore those months\n",
    "                day_res = data_df.resample(\"1D\", how=\"sum\").dropna()\n",
    "                a = pd.value_counts(day_res.index.month)\n",
    "                lt_28_days = a[a<28].index.values\n",
    "                \n",
    "                for m in lt_28_days:\n",
    "                    df_res_kwh.loc[m] = np.NAN\n",
    "                temp = {}\n",
    "                for feed_name, feed_value in feeds.iteritems():\n",
    "                    temp[feed_value] = []\n",
    "                    for month in range(year_dict['start_month'], year_dict['end_month']+1):\n",
    "\n",
    "\n",
    "                        try:\n",
    "                            temp[feed_value].append(df_res_kwh.loc[month, feed_name])\n",
    "                        except:\n",
    "                            temp[feed_value].append(np.NAN)\n",
    "                out[home] = np.hstack(temp.values())\n",
    "\n",
    "\n",
    "\n",
    "\n",
    "            except Exception, e:\n",
    "                pass\n",
    "        appliances = temp.keys()\n",
    "        col_headers = []\n",
    "        for appliance in appliances:\n",
    "            for month in range(1, 13):\n",
    "                col_headers.append(appliance+\"_\"+str(month))\n",
    "        df = pd.DataFrame(out).T\n",
    "        df.columns = col_headers\n",
    "\n",
    "        # Read metadata\n",
    "        mdf = pd.read_csv(\"metadata/%s_md.csv\" %city.replace(\" \",\"\"), index_col=0)\n",
    "        for column in mdf.columns:\n",
    "            df[column] = mdf[column]\n",
    "\n",
    "        city = city.replace(\" \",\"\")\n",
    "        out_overall[year][city] =df\n",
    "\n",
    "        tdf = df[['aggregate_'+str(month) for month in range(1, 13)]].dropna().copy()\n",
    "        full_agg = {}\n",
    "     \n",
    "\n",
    "        for home in df.index:\n",
    "            if home in tdf.index:\n",
    "                full_agg[home] = 1\n",
    "            \n",
    "\n",
    "            else:\n",
    "                full_agg[home] = 0\n",
    "     "
   ]
  },
  {
   "cell_type": "code",
   "execution_count": 9,
   "metadata": {},
   "outputs": [
    {
     "data": {
      "text/plain": [
       "hvac_1                0.086317\n",
       "hvac_2               20.471533\n",
       "hvac_3                7.657416\n",
       "hvac_4              196.112366\n",
       "hvac_5              383.484344\n",
       "hvac_6              814.079346\n",
       "hvac_7              832.334961\n",
       "hvac_8             1264.597290\n",
       "hvac_9                     NaN\n",
       "hvac_10                    NaN\n",
       "hvac_11                    NaN\n",
       "hvac_12                    NaN\n",
       "wm_1                  3.894867\n",
       "wm_2                  4.088883\n",
       "wm_3                  5.350867\n",
       "wm_4                  4.677467\n",
       "wm_5                  2.040100\n",
       "wm_6                  3.212350\n",
       "wm_7                  5.303050\n",
       "wm_8                  5.241133\n",
       "wm_9                       NaN\n",
       "wm_10                 5.608666\n",
       "wm_11                 7.121400\n",
       "wm_12                 8.528350\n",
       "fridge_1             39.481869\n",
       "fridge_2             38.179535\n",
       "fridge_3             43.660366\n",
       "fridge_4             44.056084\n",
       "fridge_5             52.707150\n",
       "fridge_6             53.328602\n",
       "                      ...     \n",
       "dw_3                  8.006283\n",
       "dw_4                  8.999750\n",
       "dw_5                  8.717216\n",
       "dw_6                  8.562684\n",
       "dw_7                  6.672017\n",
       "dw_8                  9.374250\n",
       "dw_9                       NaN\n",
       "dw_10                 7.342400\n",
       "dw_11                 9.578300\n",
       "dw_12                 9.455384\n",
       "dr_1                 51.830051\n",
       "dr_2                 50.497780\n",
       "dr_3                 80.470604\n",
       "dr_4                 68.172546\n",
       "dr_5                 23.099817\n",
       "dr_6                 37.786633\n",
       "dr_7                 61.830898\n",
       "dr_8                 60.199802\n",
       "dr_9                       NaN\n",
       "dr_10                73.252426\n",
       "dr_11                97.684898\n",
       "dr_12               109.715866\n",
       "house_num_rooms            NaN\n",
       "area               2669.000000\n",
       "num_bedrooms          4.000000\n",
       "num_floors                 NaN\n",
       "area_first         1455.000000\n",
       "area_second        1214.000000\n",
       "area_third            0.000000\n",
       "num_occupants         4.000000\n",
       "Name: 4590, dtype: float64"
      ]
     },
     "execution_count": 9,
     "metadata": {},
     "output_type": "execute_result"
    }
   ],
   "source": [
    "out_overall[2014]['Austin'].ix[4590]"
   ]
  },
  {
   "cell_type": "code",
   "execution_count": 10,
   "metadata": {
    "collapsed": true
   },
   "outputs": [],
   "source": [
    "def remove_lt(out_overall):\n",
    "    for region in ['SanDiego','Austin']:\n",
    "        for year in [2014, 2015, 2016]:\n",
    "            df = out_overall[year][region]\n",
    "            to_remove_agg_lt_appliance = []\n",
    "            for appliance in ['hvac','wm','dw','mw','fridge','oven']:\n",
    "                for month in range(1, 13):\n",
    "                    a=df.query('aggregate_%d<1.35*%s_%d' %(month, appliance, month))\n",
    "                    if len(a):\n",
    "                        for x in a.index.values:\n",
    "                            if x not in to_remove_agg_lt_appliance:\n",
    "                                to_remove_agg_lt_appliance.append(x)\n",
    "            print to_remove_agg_lt_appliance, year, region\n",
    "            out_overall[year][region] = out_overall[year][region].drop(to_remove_agg_lt_appliance)\n",
    "            \n",
    "    return out_overall"
   ]
  },
  {
   "cell_type": "code",
   "execution_count": 11,
   "metadata": {},
   "outputs": [
    {
     "name": "stdout",
     "output_type": "stream",
     "text": [
      "[] 2014 SanDiego\n",
      "[] 2015 SanDiego\n",
      "[] 2016 SanDiego\n",
      "[] 2014 Austin\n",
      "[] 2015 Austin\n",
      "[] 2016 Austin\n"
     ]
    }
   ],
   "source": [
    "out_overall = remove_lt(out_overall)"
   ]
  },
  {
   "cell_type": "markdown",
   "metadata": {},
   "source": [
    "### Removing outliers based on aggregate\n",
    "\n",
    "1. Remove homes where aggregate less than 150 units\n",
    "2. Remove high energy using z-score test"
   ]
  },
  {
   "cell_type": "code",
   "execution_count": 78,
   "metadata": {
    "collapsed": true
   },
   "outputs": [],
   "source": [
    "def is_outlier(points, thresh=3.5):\n",
    "    \"\"\"\n",
    "    Returns a boolean array with True if points are outliers and False \n",
    "    otherwise.\n",
    "\n",
    "    Parameters:\n",
    "    -----------\n",
    "        points : An numobservations by numdimensions array of observations\n",
    "        thresh : The modified z-score to use as a threshold. Observations with\n",
    "            a modified z-score (based on the median absolute deviation) greater\n",
    "            than this value will be classified as outliers.\n",
    "\n",
    "    Returns:\n",
    "    --------\n",
    "        mask : A numobservations-length boolean array.\n",
    "\n",
    "    References:\n",
    "    ----------\n",
    "        Boris Iglewicz and David Hoaglin (1993), \"Volume 16: How to Detect and\n",
    "        Handle Outliers\", The ASQC Basic References in Quality Control:\n",
    "        Statistical Techniques, Edward F. Mykytka, Ph.D., Editor. \n",
    "    \"\"\"\n",
    "    if len(points.shape) == 1:\n",
    "        points = points[:,None]\n",
    "    median = np.median(points, axis=0)\n",
    "    diff = np.sum((points - median)**2, axis=-1)\n",
    "    diff = np.sqrt(diff)\n",
    "    med_abs_deviation = np.median(diff)\n",
    "\n",
    "    modified_z_score = 0.6745 * diff / med_abs_deviation\n",
    "\n",
    "    return modified_z_score > thresh"
   ]
  },
  {
   "cell_type": "code",
   "execution_count": 79,
   "metadata": {},
   "outputs": [
    {
     "name": "stdout",
     "output_type": "stream",
     "text": [
      "Austin 2014 [59, 222, 1507, 1700, 2995, 4154, 5357, 5673, 8079, 8197, 9356, 9647, 9745, 9771, 9922, 1069, 9578, 4957, 6799, 739, 3519, 5552, 7013, 7901, 7016, 9484, 1854, 8589, 9931, 252, 3631, 7512, 9701, 1500, 8031, 3299, 5456, 491, 9935, 2129, 9248, 3268, 3789, 3500, 6691, 7510, 2458, 4000, 7638, 2510, 8669]\n",
      "Austin 2015 [59, 77, 222, 1507, 1700, 1994, 3916, 4154, 5673, 6691, 6799, 7016, 7510, 7788, 7965, 8197, 8419, 8669, 9356, 9647, 9745, 9771, 9922, 9935, 9938, 7512, 6941, 739, 3299, 3510, 7638, 9578, 9803, 3126, 3401, 4957, 5786, 898, 7900, 9248, 645, 3268, 4674, 5817, 6324, 4505, 7764, 4296, 252, 5784, 936]\n",
      "Austin 2016 [222, 1507, 1700, 3126, 3401, 5357, 6691, 6799, 7510, 8197, 9356, 9647, 9922, 9935, 9938, 252, 4375, 9701, 7016, 3893, 8092, 2018, 4957, 1310, 3268, 8467, 9631, 7719, 2638, 4590, 3916, 8730]\n"
     ]
    }
   ],
   "source": [
    "for region in ['Austin']:\n",
    "    for year in [2014, 2015, 2016]:\n",
    "        to_remove = []\n",
    "        for month in range(1, 13):\n",
    "            df = out_overall[year][region]\n",
    "            # Dropping outlier\n",
    "            d = df['aggregate_%d' %month].dropna()\n",
    "            drop_outlier = d.index[is_outlier(d)].values\n",
    "            for x in drop_outlier:\n",
    "                if x not in to_remove:\n",
    "                    to_remove.append(x)\n",
    "            \n",
    "            # Drop lt\n",
    "            drop_lt = d[d<150].index\n",
    "            for x in drop_lt:\n",
    "                if x not in to_remove:\n",
    "                    to_remove.append(x)\n",
    "            \n",
    "        print region, year, to_remove\n",
    "        out_overall[year][region] =  out_overall[year][region].drop(to_remove)\n",
    "            \n",
    "            \n",
    "            "
   ]
  },
  {
   "cell_type": "code",
   "execution_count": 80,
   "metadata": {
    "collapsed": true
   },
   "outputs": [],
   "source": [
    "%matplotlib inline"
   ]
  },
  {
   "cell_type": "code",
   "execution_count": 82,
   "metadata": {
    "collapsed": true
   },
   "outputs": [],
   "source": [
    "import pickle"
   ]
  },
  {
   "cell_type": "code",
   "execution_count": 83,
   "metadata": {
    "collapsed": true
   },
   "outputs": [],
   "source": [
    "pickle.dump(out_overall, open('metadata/all_regions_years_austin_cleaned.pkl','w'))"
   ]
  },
  {
   "cell_type": "code",
   "execution_count": null,
   "metadata": {
    "collapsed": true
   },
   "outputs": [],
   "source": []
  }
 ],
 "metadata": {
  "kernelspec": {
   "display_name": "Python 2",
   "language": "python",
   "name": "python2"
  },
  "language_info": {
   "codemirror_mode": {
    "name": "ipython",
    "version": 2
   },
   "file_extension": ".py",
   "mimetype": "text/x-python",
   "name": "python",
   "nbconvert_exporter": "python",
   "pygments_lexer": "ipython2",
   "version": "2.7.11"
  }
 },
 "nbformat": 4,
 "nbformat_minor": 1
}
