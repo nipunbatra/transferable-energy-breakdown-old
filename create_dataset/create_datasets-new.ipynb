{
 "cells": [
  {
   "cell_type": "code",
   "execution_count": 1,
   "metadata": {
    "collapsed": true
   },
   "outputs": [],
   "source": [
    "import pandas as pd\n",
    "import os\n",
    "import numpy as np\n",
    "from copy import deepcopy"
   ]
  },
  {
   "cell_type": "code",
   "execution_count": 2,
   "metadata": {
    "collapsed": true
   },
   "outputs": [],
   "source": [
    "st = pd.HDFStore(os.path.expanduser(\"~/all.h5\"), mode='r')"
   ]
  },
  {
   "cell_type": "code",
   "execution_count": 3,
   "metadata": {
    "collapsed": true
   },
   "outputs": [],
   "source": [
    "metadata_df = pd.read_csv(\"metadata/metadata.csv\",index_col=0)"
   ]
  },
  {
   "cell_type": "code",
   "execution_count": 4,
   "metadata": {
    "collapsed": true
   },
   "outputs": [],
   "source": [
    "feeds = {'use':'aggregate',\n",
    "        'air1':'hvac',\n",
    "         'clotheswasher1':'wm',\n",
    "         'dishwasher1':'dw',\n",
    "         'microwave1':'mw',\n",
    "         'refrigerator1':'fridge',\n",
    "         'oven1':'oven',\n",
    "        'car1':'ec',\n",
    "         'waterheater1':'wh',\n",
    "         'drye1':'dr'\n",
    "        }"
   ]
  },
  {
   "cell_type": "code",
   "execution_count": 5,
   "metadata": {
    "collapsed": true
   },
   "outputs": [],
   "source": [
    "cities = ['Austin','Houston','San Diego','Boulder']"
   ]
  },
  {
   "cell_type": "code",
   "execution_count": 6,
   "metadata": {
    "collapsed": true
   },
   "outputs": [],
   "source": [
    "years = {\n",
    "    2014:{'start':'1-1-2014', 'end':'12-31-2014', 'start_month':1, 'end_month':12, 'months':1},\n",
    "    2015:{'start':'1-1-2015', 'end':'12-31-2015', 'start_month':1, 'end_month':12, 'months':1},\n",
    "    2016:{'start':'1-1-2016', 'end':'12-31-2016', 'start_month':1, 'end_month':12, 'months':1}\n",
    "    }"
   ]
  },
  {
   "cell_type": "code",
   "execution_count": 74,
   "metadata": {},
   "outputs": [
    {
     "name": "stdout",
     "output_type": "stream",
     "text": [
      "Austin 2016\n"
     ]
    },
    {
     "name": "stderr",
     "output_type": "stream",
     "text": [
      "/Users/nipunbatra/anaconda/lib/python2.7/site-packages/ipykernel_launcher.py:16: FutureWarning: how in .resample() is deprecated\n",
      "the new syntax is .resample(...).sum()\n",
      "  app.launch_new_instance()\n",
      "/Users/nipunbatra/anaconda/lib/python2.7/site-packages/ipykernel_launcher.py:20: FutureWarning: how in .resample() is deprecated\n",
      "the new syntax is .resample(...).sum()\n"
     ]
    },
    {
     "name": "stdout",
     "output_type": "stream",
     "text": [
      "Houston 2016\n",
      "San Diego 2016\n",
      "Boulder 2016\n",
      "Austin 2014\n",
      "Houston 2014\n",
      "San Diego 2014\n",
      "Boulder 2014\n",
      "Austin 2015\n",
      "Houston 2015\n",
      "San Diego 2015\n",
      "Boulder 2015\n"
     ]
    }
   ],
   "source": [
    "out_overall = {}\n",
    "for year, year_dict in years.iteritems(): \n",
    "    out_overall[year] = {}\n",
    "    to_ignore = []\n",
    "    for city in cities[:]:\n",
    "        print city, year\n",
    "        city_data = metadata_df[metadata_df['city'] == city]\n",
    "        city_homes = city_data.index.values.astype('int')\n",
    "        out = {}\n",
    "        for home in city_homes[:]:\n",
    "            \n",
    "            if home in to_ignore:\n",
    "                continue\n",
    "            try:\n",
    "                data_df = st['/%d' %home][year_dict['start']:year_dict['end']]\n",
    "                data_df_resampled = data_df.resample(\"1M\", how=\"sum\")\n",
    "                df_res_kwh = data_df_resampled.div(1000)\n",
    "                df_res_kwh.index = df_res_kwh.index.month\n",
    "                # Find months where we have less than 28 days worth data and ignore those months\n",
    "                day_res = data_df.resample(\"1D\", how=\"sum\")\n",
    "                a = pd.value_counts(day_res.index.month)\n",
    "                lt_28_days = a[a<28].index.values\n",
    "                \n",
    "                for m in lt_28_days:\n",
    "                    df_res_kwh.loc[m] = np.NAN\n",
    "                temp = {}\n",
    "                for feed_name, feed_value in feeds.iteritems():\n",
    "                    temp[feed_value] = []\n",
    "                    for month in range(year_dict['start_month'], year_dict['end_month']+1):\n",
    "\n",
    "\n",
    "                        try:\n",
    "                            temp[feed_value].append(df_res_kwh.loc[month, feed_name])\n",
    "                        except:\n",
    "                            temp[feed_value].append(np.NAN)\n",
    "                out[home] = np.hstack(temp.values())\n",
    "\n",
    "\n",
    "\n",
    "\n",
    "            except Exception, e:\n",
    "                pass\n",
    "        appliances = temp.keys()\n",
    "        col_headers = []\n",
    "        for appliance in appliances:\n",
    "            for month in range(1, 13):\n",
    "                col_headers.append(appliance+\"_\"+str(month))\n",
    "        df = pd.DataFrame(out).T\n",
    "        df.columns = col_headers\n",
    "\n",
    "        # Read metadata\n",
    "        mdf = pd.read_csv(\"metadata/%s_md.csv\" %city.replace(\" \",\"\"), index_col=0)\n",
    "        for column in mdf.columns:\n",
    "            df[column] = mdf[column]\n",
    "\n",
    "        city = city.replace(\" \",\"\")\n",
    "        out_overall[year][city] =df\n",
    "\n",
    "        tdf = df[['aggregate_'+str(month) for month in range(1, 13)]].dropna().copy()\n",
    "        full_agg = {}\n",
    "     \n",
    "\n",
    "        for home in df.index:\n",
    "            if home in tdf.index:\n",
    "                full_agg[home] = 1\n",
    "            \n",
    "\n",
    "            else:\n",
    "                full_agg[home] = 0\n",
    "     "
   ]
  },
  {
   "cell_type": "code",
   "execution_count": 75,
   "metadata": {
    "collapsed": true
   },
   "outputs": [],
   "source": [
    "def remove_lt(out_overall):\n",
    "    for region in ['SanDiego','Austin']:\n",
    "        for year in [2014, 2015, 2016]:\n",
    "            df = out_overall[year][region]\n",
    "            to_remove_agg_lt_appliance = []\n",
    "            for appliance in ['hvac','wm','dw','mw','fridge','oven']:\n",
    "                for month in range(1, 13):\n",
    "                    a=df.query('aggregate_%d<1.35*%s_%d' %(month, appliance, month))\n",
    "                    if len(a):\n",
    "                        for x in a.index.values:\n",
    "                            if x not in to_remove_agg_lt_appliance:\n",
    "                                to_remove_agg_lt_appliance.append(x)\n",
    "            print to_remove_agg_lt_appliance, year, region\n",
    "            out_overall[year][region] = out_overall[year][region].drop(to_remove_agg_lt_appliance)\n",
    "            \n",
    "    return out_overall"
   ]
  },
  {
   "cell_type": "code",
   "execution_count": 76,
   "metadata": {},
   "outputs": [
    {
     "name": "stdout",
     "output_type": "stream",
     "text": [
      "[] 2014 SanDiego\n",
      "[] 2015 SanDiego\n",
      "[] 2016 SanDiego\n",
      "[1714, 4800, 5109, 8967, 5786, 9737, 3916, 4864, 4352, 2965] 2014 Austin\n",
      "[5357, 2401, 5109, 3531, 8142, 7024, 8600, 1069] 2015 Austin\n",
      "[2365, 9971, 2575, 5784, 668] 2016 Austin\n"
     ]
    }
   ],
   "source": [
    "out_overall = remove_lt(out_overall)"
   ]
  },
  {
   "cell_type": "markdown",
   "metadata": {},
   "source": [
    "### Removing outliers based on aggregate\n",
    "\n",
    "1. Remove homes where aggregate less than 150 units\n",
    "2. Remove high energy using z-score test"
   ]
  },
  {
   "cell_type": "code",
   "execution_count": 78,
   "metadata": {
    "collapsed": true
   },
   "outputs": [],
   "source": [
    "def is_outlier(points, thresh=3.5):\n",
    "    \"\"\"\n",
    "    Returns a boolean array with True if points are outliers and False \n",
    "    otherwise.\n",
    "\n",
    "    Parameters:\n",
    "    -----------\n",
    "        points : An numobservations by numdimensions array of observations\n",
    "        thresh : The modified z-score to use as a threshold. Observations with\n",
    "            a modified z-score (based on the median absolute deviation) greater\n",
    "            than this value will be classified as outliers.\n",
    "\n",
    "    Returns:\n",
    "    --------\n",
    "        mask : A numobservations-length boolean array.\n",
    "\n",
    "    References:\n",
    "    ----------\n",
    "        Boris Iglewicz and David Hoaglin (1993), \"Volume 16: How to Detect and\n",
    "        Handle Outliers\", The ASQC Basic References in Quality Control:\n",
    "        Statistical Techniques, Edward F. Mykytka, Ph.D., Editor. \n",
    "    \"\"\"\n",
    "    if len(points.shape) == 1:\n",
    "        points = points[:,None]\n",
    "    median = np.median(points, axis=0)\n",
    "    diff = np.sum((points - median)**2, axis=-1)\n",
    "    diff = np.sqrt(diff)\n",
    "    med_abs_deviation = np.median(diff)\n",
    "\n",
    "    modified_z_score = 0.6745 * diff / med_abs_deviation\n",
    "\n",
    "    return modified_z_score > thresh"
   ]
  },
  {
   "cell_type": "code",
   "execution_count": 79,
   "metadata": {},
   "outputs": [
    {
     "name": "stdout",
     "output_type": "stream",
     "text": [
      "Austin 2014 [59, 222, 1507, 1700, 2995, 4154, 5357, 5673, 8079, 8197, 9356, 9647, 9745, 9771, 9922, 1069, 9578, 4957, 6799, 739, 3519, 5552, 7013, 7901, 7016, 9484, 1854, 8589, 9931, 252, 3631, 7512, 9701, 1500, 8031, 3299, 5456, 491, 9935, 2129, 9248, 3268, 3789, 3500, 6691, 7510, 2458, 4000, 7638, 2510, 8669]\n",
      "Austin 2015 [59, 77, 222, 1507, 1700, 1994, 3916, 4154, 5673, 6691, 6799, 7016, 7510, 7788, 7965, 8197, 8419, 8669, 9356, 9647, 9745, 9771, 9922, 9935, 9938, 7512, 6941, 739, 3299, 3510, 7638, 9578, 9803, 3126, 3401, 4957, 5786, 898, 7900, 9248, 645, 3268, 4674, 5817, 6324, 4505, 7764, 4296, 252, 5784, 936]\n",
      "Austin 2016 [222, 1507, 1700, 3126, 3401, 5357, 6691, 6799, 7510, 8197, 9356, 9647, 9922, 9935, 9938, 252, 4375, 9701, 7016, 3893, 8092, 2018, 4957, 1310, 3268, 8467, 9631, 7719, 2638, 4590, 3916, 8730]\n"
     ]
    }
   ],
   "source": [
    "for region in ['Austin']:\n",
    "    for year in [2014, 2015, 2016]:\n",
    "        to_remove = []\n",
    "        for month in range(1, 13):\n",
    "            df = out_overall[year][region]\n",
    "            # Dropping outlier\n",
    "            d = df['aggregate_%d' %month].dropna()\n",
    "            drop_outlier = d.index[is_outlier(d)].values\n",
    "            for x in drop_outlier:\n",
    "                if x not in to_remove:\n",
    "                    to_remove.append(x)\n",
    "            \n",
    "            # Drop lt\n",
    "            drop_lt = d[d<150].index\n",
    "            for x in drop_lt:\n",
    "                if x not in to_remove:\n",
    "                    to_remove.append(x)\n",
    "            \n",
    "        print region, year, to_remove\n",
    "        out_overall[year][region] =  out_overall[year][region].drop(to_remove)\n",
    "            \n",
    "            \n",
    "            "
   ]
  },
  {
   "cell_type": "code",
   "execution_count": 80,
   "metadata": {
    "collapsed": true
   },
   "outputs": [],
   "source": [
    "%matplotlib inline"
   ]
  },
  {
   "cell_type": "code",
   "execution_count": 82,
   "metadata": {
    "collapsed": true
   },
   "outputs": [],
   "source": [
    "import pickle"
   ]
  },
  {
   "cell_type": "code",
   "execution_count": 83,
   "metadata": {
    "collapsed": true
   },
   "outputs": [],
   "source": [
    "pickle.dump(out_overall, open('metadata/all_regions_years_austin_cleaned.pkl','w'))"
   ]
  },
  {
   "cell_type": "code",
   "execution_count": null,
   "metadata": {
    "collapsed": true
   },
   "outputs": [],
   "source": []
  }
 ],
 "metadata": {
  "kernelspec": {
   "display_name": "Python 2",
   "language": "python",
   "name": "python2"
  },
  "language_info": {
   "codemirror_mode": {
    "name": "ipython",
    "version": 2
   },
   "file_extension": ".py",
   "mimetype": "text/x-python",
   "name": "python",
   "nbconvert_exporter": "python",
   "pygments_lexer": "ipython2",
   "version": "2.7.11"
  }
 },
 "nbformat": 4,
 "nbformat_minor": 1
}
