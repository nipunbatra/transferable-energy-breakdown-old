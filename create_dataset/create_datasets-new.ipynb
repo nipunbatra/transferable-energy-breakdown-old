{
 "cells": [
  {
   "cell_type": "code",
   "execution_count": 1,
   "metadata": {
    "collapsed": true
   },
   "outputs": [],
   "source": [
    "import pandas as pd\n",
    "import os\n",
    "import numpy as np\n",
    "from copy import deepcopy"
   ]
  },
  {
   "cell_type": "code",
   "execution_count": 2,
   "metadata": {
    "collapsed": true
   },
   "outputs": [],
   "source": [
    "st = pd.HDFStore(os.path.expanduser(\"~/all.h5\"))"
   ]
  },
  {
   "cell_type": "code",
   "execution_count": 3,
   "metadata": {
    "collapsed": true
   },
   "outputs": [],
   "source": [
    "metadata_df = pd.read_csv(\"metadata/metadata.csv\",index_col=0)"
   ]
  },
  {
   "cell_type": "code",
   "execution_count": 4,
   "metadata": {
    "collapsed": true
   },
   "outputs": [],
   "source": [
    "feeds = {'use':'aggregate',\n",
    "        'air1':'hvac',\n",
    "         'clotheswasher1':'wm',\n",
    "         'dishwasher1':'dw',\n",
    "         'microwave1':'mw',\n",
    "         'refrigerator1':'fridge',\n",
    "         'oven1':'oven',\n",
    "        'car1':'ec',\n",
    "         'waterheater1':'wh',\n",
    "         'drye1':'dr'\n",
    "        }"
   ]
  },
  {
   "cell_type": "code",
   "execution_count": 5,
   "metadata": {
    "collapsed": true
   },
   "outputs": [],
   "source": [
    "cities = ['Austin','Houston','San Diego','Boulder']"
   ]
  },
  {
   "cell_type": "code",
   "execution_count": 31,
   "metadata": {
    "collapsed": false
   },
   "outputs": [],
   "source": [
    "years = {\n",
    "    2014:{'start':'1-1-2014', 'end':'12-31-2014', 'start_month':1, 'end_month':12, 'months':1},\n",
    "    2015:{'start':'1-1-2015', 'end':'12-31-2015', 'start_month':1, 'end_month':12, 'months':1},\n",
    "    2016:{'start':'1-1-2016', 'end':'12-31-2016', 'start_month':1, 'end_month':12, 'months':1}\n",
    "    }"
   ]
  },
  {
   "cell_type": "code",
   "execution_count": 33,
   "metadata": {
    "collapsed": false
   },
   "outputs": [
    {
     "data": {
      "text/plain": [
       "('1-1-2015', '12-31-2015')"
      ]
     },
     "execution_count": 33,
     "metadata": {},
     "output_type": "execute_result"
    }
   ],
   "source": [
    "start, end"
   ]
  },
  {
   "cell_type": "code",
   "execution_count": 34,
   "metadata": {
    "collapsed": false
   },
   "outputs": [
    {
     "name": "stdout",
     "output_type": "stream",
     "text": [
      "Austin 2016\n"
     ]
    },
    {
     "name": "stderr",
     "output_type": "stream",
     "text": [
      "/home/nipun/anaconda2/lib/python2.7/site-packages/ipykernel/__main__.py:15: FutureWarning: how in .resample() is deprecated\n",
      "the new syntax is .resample(...).sum()\n"
     ]
    },
    {
     "name": "stdout",
     "output_type": "stream",
     "text": [
      "Houston 2016\n",
      "San Diego 2016\n",
      "Boulder 2016\n",
      "Austin 2014\n",
      "Houston 2014\n",
      "San Diego 2014\n",
      "Boulder 2014\n",
      "Austin 2015\n",
      "Houston 2015\n",
      "San Diego 2015\n",
      "Boulder 2015\n"
     ]
    }
   ],
   "source": [
    "out_overall = {}\n",
    "for year, year_dict in years.iteritems(): \n",
    "    out_overall[year] = {}\n",
    "    to_ignore = []\n",
    "    for city in cities[:]:\n",
    "        print city, year\n",
    "        city_data = metadata_df[metadata_df['city'] == city]\n",
    "        city_homes = city_data.index.values.astype('int')\n",
    "        out = {}\n",
    "        for home in city_homes[:]:\n",
    "            if home in to_ignore:\n",
    "                continue\n",
    "            try:\n",
    "                data_df = st['/%d' %home][year_dict['start']:year_dict['end']]\n",
    "                data_df_resampled = data_df.resample(\"1M\", how=\"sum\")\n",
    "                df_res_kwh = data_df_resampled.div(1000)\n",
    "                df_res_kwh.index = df_res_kwh.index.month\n",
    "                temp = {}\n",
    "                for feed_name, feed_value in feeds.iteritems():\n",
    "                    temp[feed_value] = []\n",
    "                    for month in range(year_dict['start_month'], year_dict['end_month']+1):\n",
    "\n",
    "\n",
    "                        try:\n",
    "                            temp[feed_value].append(df_res_kwh.loc[month, feed_name])\n",
    "                        except:\n",
    "                            temp[feed_value].append(np.NAN)\n",
    "                out[home] = np.hstack(temp.values())\n",
    "\n",
    "\n",
    "\n",
    "\n",
    "            except Exception, e:\n",
    "                pass\n",
    "        appliances = temp.keys()\n",
    "        col_headers = []\n",
    "        for appliance in appliances:\n",
    "            for month in range(start_month, end_month+1):\n",
    "                col_headers.append(appliance+\"_\"+str(month))\n",
    "        df = pd.DataFrame(out).T\n",
    "        df.columns = col_headers\n",
    "\n",
    "        # Read metadata\n",
    "        mdf = pd.read_csv(\"metadata/%s_md.csv\" %city.replace(\" \",\"\"), index_col=0)\n",
    "        for column in mdf.columns:\n",
    "            df[column] = mdf[column]\n",
    "\n",
    "        city = city.replace(\" \",\"\")\n",
    "        out_overall[year][city] =df\n",
    "\n",
    "        # Set metadata available flag\n",
    "        #df['md_available'] = (df['area']>0).astype('int')\n",
    "\n",
    "        tdf = df[['aggregate_'+str(month) for month in range(start_month, end_month+1)]].dropna().copy()\n",
    "        full_agg = {}\n",
    "        min_max_ratio = {}\n",
    "        difference_min_max_ratio = {}\n",
    "        variance = {}\n",
    "        kurt = {}\n",
    "        skew= {}\n",
    "        p_25 = {}\n",
    "        p_75 = {}\n",
    "        p_50 = {}\n",
    "\n",
    "        for home in df.index:\n",
    "            if home in tdf.index:\n",
    "                full_agg[home] = 1\n",
    "                difference_min_max_ratio[home] = (tdf.ix[home].max()-tdf.ix[home].min())/tdf.ix[home].max()\n",
    "                min_max_ratio[home] = tdf.ix[home].min()/tdf.ix[home].max()\n",
    "                variance[home] = tdf.ix[home].var()\n",
    "                p_25[home] =np.percentile(tdf.ix[home], 25)\n",
    "                p_50[home] =np.percentile(tdf.ix[home], 50)\n",
    "                p_75[home] = np.percentile(tdf.ix[home], 75)\n",
    "                kurt[home] = tdf.ix[home].kurtosis()\n",
    "                skew[home] = tdf.ix[home].skew()\n",
    "\n",
    "            else:\n",
    "                full_agg[home] = 0\n",
    "                min_max_ratio[home] = np.NaN\n",
    "                difference_min_max_ratio[home] = np.NaN\n",
    "                p_25[home] = np.NaN\n",
    "                p_50[home] = np.NaN\n",
    "                p_75[home] = np.NaN\n",
    "                skew[home] = np.NaN\n",
    "                kurt[home] = np.NaN\n",
    "                variance[home] = np.NaN\n",
    "\n",
    "\n",
    "        df['full_agg_available'] = pd.Series(full_agg)\n",
    "        df['ratio_min_max'] = pd.Series(min_max_ratio)\n",
    "        df['difference_ratio_min_max'] = pd.Series(min_max_ratio)\n",
    "        df['variance'] = pd.Series(variance)\n",
    "        df['skew'] = pd.Series(skew)\n",
    "        df['kurtosis'] = pd.Series(kurt)\n",
    "        df['p_25'] = pd.Series(p_25)\n",
    "        df['p_50'] = pd.Series(p_50)\n",
    "        df['p_75'] = pd.Series(p_75)"
   ]
  },
  {
   "cell_type": "code",
   "execution_count": 12,
   "metadata": {
    "collapsed": true
   },
   "outputs": [],
   "source": [
    "import pickle"
   ]
  },
  {
   "cell_type": "code",
   "execution_count": 40,
   "metadata": {
    "collapsed": false
   },
   "outputs": [
    {
     "data": {
      "text/html": [
       "<div>\n",
       "<table border=\"1\" class=\"dataframe\">\n",
       "  <thead>\n",
       "    <tr style=\"text-align: right;\">\n",
       "      <th></th>\n",
       "      <th>hvac_1</th>\n",
       "      <th>hvac_2</th>\n",
       "      <th>hvac_3</th>\n",
       "      <th>hvac_4</th>\n",
       "      <th>hvac_5</th>\n",
       "      <th>hvac_6</th>\n",
       "      <th>hvac_7</th>\n",
       "      <th>hvac_8</th>\n",
       "      <th>hvac_9</th>\n",
       "      <th>hvac_10</th>\n",
       "      <th>...</th>\n",
       "      <th>num_occupants</th>\n",
       "      <th>full_agg_available</th>\n",
       "      <th>ratio_min_max</th>\n",
       "      <th>difference_ratio_min_max</th>\n",
       "      <th>variance</th>\n",
       "      <th>skew</th>\n",
       "      <th>kurtosis</th>\n",
       "      <th>p_25</th>\n",
       "      <th>p_50</th>\n",
       "      <th>p_75</th>\n",
       "    </tr>\n",
       "  </thead>\n",
       "  <tbody>\n",
       "    <tr>\n",
       "      <th>22</th>\n",
       "      <td>138.796936</td>\n",
       "      <td>116.709915</td>\n",
       "      <td>51.263603</td>\n",
       "      <td>63.073967</td>\n",
       "      <td>96.288300</td>\n",
       "      <td>185.116989</td>\n",
       "      <td>223.729828</td>\n",
       "      <td>262.991455</td>\n",
       "      <td>150.238037</td>\n",
       "      <td>75.410019</td>\n",
       "      <td>...</td>\n",
       "      <td>NaN</td>\n",
       "      <td>1</td>\n",
       "      <td>0.549180</td>\n",
       "      <td>0.549180</td>\n",
       "      <td>3823.597452</td>\n",
       "      <td>0.516786</td>\n",
       "      <td>-0.689573</td>\n",
       "      <td>274.504639</td>\n",
       "      <td>315.106934</td>\n",
       "      <td>369.923645</td>\n",
       "    </tr>\n",
       "    <tr>\n",
       "      <th>26</th>\n",
       "      <td>7.635717</td>\n",
       "      <td>2.044650</td>\n",
       "      <td>49.361549</td>\n",
       "      <td>81.417267</td>\n",
       "      <td>236.560089</td>\n",
       "      <td>493.189484</td>\n",
       "      <td>387.065552</td>\n",
       "      <td>841.948120</td>\n",
       "      <td>504.574371</td>\n",
       "      <td>335.706543</td>\n",
       "      <td>...</td>\n",
       "      <td>4.0</td>\n",
       "      <td>1</td>\n",
       "      <td>0.388645</td>\n",
       "      <td>0.388645</td>\n",
       "      <td>100640.896298</td>\n",
       "      <td>1.163045</td>\n",
       "      <td>1.135843</td>\n",
       "      <td>748.288940</td>\n",
       "      <td>898.211029</td>\n",
       "      <td>1112.968536</td>\n",
       "    </tr>\n",
       "    <tr>\n",
       "      <th>48</th>\n",
       "      <td>26.711552</td>\n",
       "      <td>70.193047</td>\n",
       "      <td>28.318184</td>\n",
       "      <td>81.183067</td>\n",
       "      <td>109.748268</td>\n",
       "      <td>166.510284</td>\n",
       "      <td>185.771530</td>\n",
       "      <td>205.711853</td>\n",
       "      <td>172.368317</td>\n",
       "      <td>NaN</td>\n",
       "      <td>...</td>\n",
       "      <td>NaN</td>\n",
       "      <td>0</td>\n",
       "      <td>NaN</td>\n",
       "      <td>NaN</td>\n",
       "      <td>NaN</td>\n",
       "      <td>NaN</td>\n",
       "      <td>NaN</td>\n",
       "      <td>NaN</td>\n",
       "      <td>NaN</td>\n",
       "      <td>NaN</td>\n",
       "    </tr>\n",
       "    <tr>\n",
       "      <th>59</th>\n",
       "      <td>724.853577</td>\n",
       "      <td>508.429138</td>\n",
       "      <td>236.376205</td>\n",
       "      <td>44.645180</td>\n",
       "      <td>31.479816</td>\n",
       "      <td>262.018738</td>\n",
       "      <td>298.577332</td>\n",
       "      <td>540.575989</td>\n",
       "      <td>275.283661</td>\n",
       "      <td>84.855850</td>\n",
       "      <td>...</td>\n",
       "      <td>7.0</td>\n",
       "      <td>1</td>\n",
       "      <td>0.452525</td>\n",
       "      <td>0.452525</td>\n",
       "      <td>127069.291845</td>\n",
       "      <td>1.049623</td>\n",
       "      <td>0.234731</td>\n",
       "      <td>1056.249817</td>\n",
       "      <td>1111.055847</td>\n",
       "      <td>1487.265900</td>\n",
       "    </tr>\n",
       "    <tr>\n",
       "      <th>68</th>\n",
       "      <td>NaN</td>\n",
       "      <td>NaN</td>\n",
       "      <td>NaN</td>\n",
       "      <td>NaN</td>\n",
       "      <td>NaN</td>\n",
       "      <td>NaN</td>\n",
       "      <td>NaN</td>\n",
       "      <td>NaN</td>\n",
       "      <td>NaN</td>\n",
       "      <td>NaN</td>\n",
       "      <td>...</td>\n",
       "      <td>NaN</td>\n",
       "      <td>1</td>\n",
       "      <td>0.351272</td>\n",
       "      <td>0.351272</td>\n",
       "      <td>3673.068633</td>\n",
       "      <td>-1.190632</td>\n",
       "      <td>2.583459</td>\n",
       "      <td>262.236763</td>\n",
       "      <td>287.146225</td>\n",
       "      <td>303.242020</td>\n",
       "    </tr>\n",
       "  </tbody>\n",
       "</table>\n",
       "<p>5 rows × 137 columns</p>\n",
       "</div>"
      ],
      "text/plain": [
       "        hvac_1      hvac_2      hvac_3     hvac_4      hvac_5      hvac_6  \\\n",
       "22  138.796936  116.709915   51.263603  63.073967   96.288300  185.116989   \n",
       "26    7.635717    2.044650   49.361549  81.417267  236.560089  493.189484   \n",
       "48   26.711552   70.193047   28.318184  81.183067  109.748268  166.510284   \n",
       "59  724.853577  508.429138  236.376205  44.645180   31.479816  262.018738   \n",
       "68         NaN         NaN         NaN        NaN         NaN         NaN   \n",
       "\n",
       "        hvac_7      hvac_8      hvac_9     hvac_10     ...       \\\n",
       "22  223.729828  262.991455  150.238037   75.410019     ...        \n",
       "26  387.065552  841.948120  504.574371  335.706543     ...        \n",
       "48  185.771530  205.711853  172.368317         NaN     ...        \n",
       "59  298.577332  540.575989  275.283661   84.855850     ...        \n",
       "68         NaN         NaN         NaN         NaN     ...        \n",
       "\n",
       "    num_occupants  full_agg_available  ratio_min_max  \\\n",
       "22            NaN                   1       0.549180   \n",
       "26            4.0                   1       0.388645   \n",
       "48            NaN                   0            NaN   \n",
       "59            7.0                   1       0.452525   \n",
       "68            NaN                   1       0.351272   \n",
       "\n",
       "    difference_ratio_min_max       variance      skew  kurtosis         p_25  \\\n",
       "22                  0.549180    3823.597452  0.516786 -0.689573   274.504639   \n",
       "26                  0.388645  100640.896298  1.163045  1.135843   748.288940   \n",
       "48                       NaN            NaN       NaN       NaN          NaN   \n",
       "59                  0.452525  127069.291845  1.049623  0.234731  1056.249817   \n",
       "68                  0.351272    3673.068633 -1.190632  2.583459   262.236763   \n",
       "\n",
       "           p_50         p_75  \n",
       "22   315.106934   369.923645  \n",
       "26   898.211029  1112.968536  \n",
       "48          NaN          NaN  \n",
       "59  1111.055847  1487.265900  \n",
       "68   287.146225   303.242020  \n",
       "\n",
       "[5 rows x 137 columns]"
      ]
     },
     "execution_count": 40,
     "metadata": {},
     "output_type": "execute_result"
    }
   ],
   "source": [
    "out_overall[2014]['Austin'].head()"
   ]
  },
  {
   "cell_type": "code",
   "execution_count": 41,
   "metadata": {
    "collapsed": true
   },
   "outputs": [],
   "source": [
    "pickle.dump(out_overall, open('metadata/all_regions_years.pkl','w'))"
   ]
  }
 ],
 "metadata": {
  "kernelspec": {
   "display_name": "Python [default]",
   "language": "python",
   "name": "python2"
  },
  "language_info": {
   "codemirror_mode": {
    "name": "ipython",
    "version": 2.0
   },
   "file_extension": ".py",
   "mimetype": "text/x-python",
   "name": "python",
   "nbconvert_exporter": "python",
   "pygments_lexer": "ipython2",
   "version": "2.7.12"
  }
 },
 "nbformat": 4,
 "nbformat_minor": 0
}