{
 "cells": [
  {
   "cell_type": "code",
   "execution_count": 1,
   "metadata": {
    "collapsed": true
   },
   "outputs": [],
   "source": [
    "import pandas as pd\n",
    "import os\n",
    "import numpy as np\n",
    "from copy import deepcopy"
   ]
  },
  {
   "cell_type": "code",
   "execution_count": 2,
   "metadata": {
    "collapsed": true
   },
   "outputs": [],
   "source": [
    "st = pd.HDFStore(os.path.expanduser(\"~/all.h5\"), mode='r')"
   ]
  },
  {
   "cell_type": "code",
   "execution_count": 3,
   "metadata": {
    "collapsed": true
   },
   "outputs": [],
   "source": [
    "metadata_df = pd.read_csv(\"metadata/metadata.csv\",index_col=0)"
   ]
  },
  {
   "cell_type": "code",
   "execution_count": 4,
   "metadata": {
    "collapsed": true
   },
   "outputs": [],
   "source": [
    "feeds = {'use':'aggregate',\n",
    "        'air1':'hvac',\n",
    "         'clotheswasher1':'wm',\n",
    "         'dishwasher1':'dw',\n",
    "         'microwave1':'mw',\n",
    "         'refrigerator1':'fridge',\n",
    "         'oven1':'oven',\n",
    "        'car1':'ec',\n",
    "         'waterheater1':'wh',\n",
    "         'drye1':'dr'\n",
    "        }"
   ]
  },
  {
   "cell_type": "code",
   "execution_count": 5,
   "metadata": {
    "collapsed": true
   },
   "outputs": [],
   "source": [
    "cities = ['Austin','Houston','San Diego','Boulder']"
   ]
  },
  {
   "cell_type": "code",
   "execution_count": 6,
   "metadata": {
    "collapsed": true
   },
   "outputs": [],
   "source": [
    "years = {\n",
    "    2014:{'start':'1-1-2014', 'end':'12-31-2014', 'start_month':1, 'end_month':12, 'months':1},\n",
    "    2015:{'start':'1-1-2015', 'end':'12-31-2015', 'start_month':1, 'end_month':12, 'months':1},\n",
    "    2016:{'start':'1-1-2016', 'end':'12-31-2016', 'start_month':1, 'end_month':12, 'months':1}\n",
    "    }"
   ]
  },
  {
   "cell_type": "code",
   "execution_count": 7,
   "metadata": {},
   "outputs": [
    {
     "name": "stdout",
     "output_type": "stream",
     "text": [
      "Austin 2016\n"
     ]
    },
    {
     "name": "stderr",
     "output_type": "stream",
     "text": [
      "/Users/nipunbatra/anaconda/lib/python2.7/site-packages/ipykernel_launcher.py:16: FutureWarning: how in .resample() is deprecated\n",
      "the new syntax is .resample(...).sum()\n",
      "  app.launch_new_instance()\n",
      "/Users/nipunbatra/anaconda/lib/python2.7/site-packages/ipykernel_launcher.py:20: FutureWarning: how in .resample() is deprecated\n",
      "the new syntax is .resample(...).sum()\n"
     ]
    },
    {
     "name": "stdout",
     "output_type": "stream",
     "text": [
      "Houston 2016\n",
      "San Diego 2016\n",
      "Boulder 2016\n",
      "Austin 2014\n",
      "Houston 2014\n",
      "San Diego 2014\n",
      "Boulder 2014\n",
      "Austin 2015\n",
      "Houston 2015\n",
      "San Diego 2015\n",
      "Boulder 2015\n"
     ]
    }
   ],
   "source": [
    "out_overall = {}\n",
    "for year, year_dict in years.iteritems(): \n",
    "    out_overall[year] = {}\n",
    "    to_ignore = []\n",
    "    for city in cities[:]:\n",
    "        print city, year\n",
    "        city_data = metadata_df[metadata_df['city'] == city]\n",
    "        city_homes = city_data.index.values.astype('int')\n",
    "        out = {}\n",
    "        for home in city_homes[:]:\n",
    "            \n",
    "            if home in to_ignore:\n",
    "                continue\n",
    "            try:\n",
    "                data_df = st['/%d' %home][year_dict['start']:year_dict['end']]\n",
    "                data_df_resampled = data_df.resample(\"1M\", how=\"sum\")\n",
    "                df_res_kwh = data_df_resampled.div(1000)\n",
    "                df_res_kwh.index = df_res_kwh.index.month\n",
    "                # Find months where we have less than 28 days worth data and ignore those months\n",
    "                day_res = data_df.resample(\"1D\", how=\"sum\")['use'].dropna()\n",
    "                a = pd.value_counts(day_res.index.month)\n",
    "                lt_28_days = a[a<28].index.values\n",
    "                \n",
    "                for m in lt_28_days:\n",
    "                    df_res_kwh.loc[m] = np.NAN\n",
    "                    \n",
    "                temp = {}\n",
    "                for feed_name, feed_value in feeds.iteritems():\n",
    "                    temp[feed_value] = []\n",
    "                    for month in range(year_dict['start_month'], year_dict['end_month']+1):\n",
    "\n",
    "\n",
    "                        try:\n",
    "                            temp[feed_value].append(df_res_kwh.loc[month, feed_name])\n",
    "                        except:\n",
    "                            temp[feed_value].append(np.NAN)\n",
    "                out[home] = np.hstack(temp.values())\n",
    "\n",
    "\n",
    "\n",
    "\n",
    "            except Exception, e:\n",
    "                pass\n",
    "        appliances = temp.keys()\n",
    "        col_headers = []\n",
    "        for appliance in appliances:\n",
    "            for month in range(1, 13):\n",
    "                col_headers.append(appliance+\"_\"+str(month))\n",
    "        df = pd.DataFrame(out).T\n",
    "        df.columns = col_headers\n",
    "\n",
    "        # Read metadata\n",
    "        mdf = pd.read_csv(\"metadata/%s_md.csv\" %city.replace(\" \",\"\"), index_col=0)\n",
    "        for column in mdf.columns:\n",
    "            df[column] = mdf[column]\n",
    "\n",
    "        city = city.replace(\" \",\"\")\n",
    "        out_overall[year][city] =df\n",
    "\n",
    "        tdf = df[['aggregate_'+str(month) for month in range(1, 13)]].dropna().copy()\n",
    "        full_agg = {}\n",
    "     \n",
    "\n",
    "        for home in df.index:\n",
    "            if home in tdf.index:\n",
    "                full_agg[home] = 1\n",
    "            \n",
    "\n",
    "            else:\n",
    "                full_agg[home] = 0\n",
    "     "
   ]
  },
  {
   "cell_type": "code",
   "execution_count": 8,
   "metadata": {
    "collapsed": true
   },
   "outputs": [],
   "source": [
    "def remove_lt(out_overall):\n",
    "    for region in ['SanDiego','Austin']:\n",
    "        for year in [2014, 2015, 2016]:\n",
    "            df = out_overall[year][region]\n",
    "            to_remove_agg_lt_appliance = []\n",
    "            for appliance in ['hvac','wm','dw','mw','fridge','oven']:\n",
    "                for month in range(1, 13):\n",
    "                    a=df.query('aggregate_%d<1.35*%s_%d' %(month, appliance, month))\n",
    "                    if len(a):\n",
    "                        for x in a.index.values:\n",
    "                            if x not in to_remove_agg_lt_appliance:\n",
    "                                to_remove_agg_lt_appliance.append(x)\n",
    "            print to_remove_agg_lt_appliance, year, region\n",
    "            out_overall[year][region] = out_overall[year][region].drop(to_remove_agg_lt_appliance)\n",
    "            \n",
    "    return out_overall"
   ]
  },
  {
   "cell_type": "code",
   "execution_count": 9,
   "metadata": {},
   "outputs": [
    {
     "name": "stdout",
     "output_type": "stream",
     "text": [
      "[] 2014 SanDiego\n",
      "[] 2015 SanDiego\n",
      "[] 2016 SanDiego\n",
      "[4800] 2014 Austin\n",
      "[3531, 8600, 1069] 2015 Austin\n",
      "[2365, 9971] 2016 Austin\n"
     ]
    }
   ],
   "source": [
    "out_overall = remove_lt(out_overall)"
   ]
  },
  {
   "cell_type": "markdown",
   "metadata": {},
   "source": [
    "### Removing outliers based on aggregate\n",
    "\n",
    "1. Remove high energy using z-score test"
   ]
  },
  {
   "cell_type": "code",
   "execution_count": 10,
   "metadata": {
    "collapsed": true
   },
   "outputs": [],
   "source": [
    "def is_outlier(points, thresh=3.5):\n",
    "    \"\"\"\n",
    "    Returns a boolean array with True if points are outliers and False \n",
    "    otherwise.\n",
    "\n",
    "    Parameters:\n",
    "    -----------\n",
    "        points : An numobservations by numdimensions array of observations\n",
    "        thresh : The modified z-score to use as a threshold. Observations with\n",
    "            a modified z-score (based on the median absolute deviation) greater\n",
    "            than this value will be classified as outliers.\n",
    "\n",
    "    Returns:\n",
    "    --------\n",
    "        mask : A numobservations-length boolean array.\n",
    "\n",
    "    References:\n",
    "    ----------\n",
    "        Boris Iglewicz and David Hoaglin (1993), \"Volume 16: How to Detect and\n",
    "        Handle Outliers\", The ASQC Basic References in Quality Control:\n",
    "        Statistical Techniques, Edward F. Mykytka, Ph.D., Editor. \n",
    "    \"\"\"\n",
    "    if len(points.shape) == 1:\n",
    "        points = points[:,None]\n",
    "    median = np.median(points, axis=0)\n",
    "    diff = np.sum((points - median)**2, axis=-1)\n",
    "    diff = np.sqrt(diff)\n",
    "    med_abs_deviation = np.median(diff)\n",
    "\n",
    "    modified_z_score = 0.6745 * diff / med_abs_deviation\n",
    "\n",
    "    return modified_z_score > thresh"
   ]
  },
  {
   "cell_type": "code",
   "execution_count": 11,
   "metadata": {},
   "outputs": [
    {
     "data": {
      "text/plain": [
       "46680"
      ]
     },
     "execution_count": 11,
     "metadata": {},
     "output_type": "execute_result"
    }
   ],
   "source": [
    "out_overall[2014]['Austin'].isnull().sum().sum()"
   ]
  },
  {
   "cell_type": "code",
   "execution_count": 12,
   "metadata": {},
   "outputs": [
    {
     "data": {
      "text/plain": [
       "232      28.940968\n",
       "547     118.365952\n",
       "1350     39.240002\n",
       "1766     43.629734\n",
       "2931     41.292316\n",
       "3104     20.781282\n",
       "4147     11.389267\n",
       "4499     49.652897\n",
       "4830    102.610252\n",
       "4920     41.793434\n",
       "4974     40.264103\n",
       "5400     98.016899\n",
       "6148      2.899867\n",
       "6264      5.561083\n",
       "7001     42.072147\n",
       "8273     85.967484\n",
       "8395     13.866684\n",
       "8555     19.384632\n",
       "8622     28.466333\n",
       "8862      1.159867\n",
       "9085     55.968918\n",
       "9142     16.650034\n",
       "9818     51.272167\n",
       "Name: dr_12, dtype: float64"
      ]
     },
     "execution_count": 12,
     "metadata": {},
     "output_type": "execute_result"
    }
   ],
   "source": [
    "df['%s_%d' %(appliance, month)].dropna()"
   ]
  },
  {
   "cell_type": "code",
   "execution_count": 13,
   "metadata": {},
   "outputs": [
    {
     "data": {
      "text/plain": [
       "array([9745])"
      ]
     },
     "execution_count": 13,
     "metadata": {},
     "output_type": "execute_result"
    }
   ],
   "source": [
    "appliance, month = 'oven', 1\n",
    "d = out_overall[2014]['Austin']['%s_%d' %(appliance, month)].dropna()\n",
    "drop_outlier = d.index[is_outlier(d, thresh=5)].values\n",
    "drop_outlier"
   ]
  },
  {
   "cell_type": "code",
   "execution_count": 14,
   "metadata": {},
   "outputs": [
    {
     "data": {
      "text/plain": [
       "9745    191.942459\n",
       "Name: oven_1, dtype: float64"
      ]
     },
     "execution_count": 14,
     "metadata": {},
     "output_type": "execute_result"
    }
   ],
   "source": [
    "d.ix[drop_outlier]"
   ]
  },
  {
   "cell_type": "code",
   "execution_count": 15,
   "metadata": {},
   "outputs": [],
   "source": [
    "from copy import deepcopy\n",
    "ooc = deepcopy(out_overall)"
   ]
  },
  {
   "cell_type": "code",
   "execution_count": 16,
   "metadata": {
    "collapsed": true
   },
   "outputs": [],
   "source": [
    "out_overall =deepcopy(ooc)"
   ]
  },
  {
   "cell_type": "code",
   "execution_count": 18,
   "metadata": {},
   "outputs": [
    {
     "name": "stderr",
     "output_type": "stream",
     "text": [
      "/Users/nipunbatra/anaconda/lib/python2.7/site-packages/numpy/core/fromnumeric.py:2889: RuntimeWarning: Mean of empty slice.\n",
      "  out=out, **kwargs)\n",
      "/Users/nipunbatra/anaconda/lib/python2.7/site-packages/numpy/core/_methods.py:73: RuntimeWarning: invalid value encountered in true_divide\n",
      "  ret, rcount, out=ret, casting='unsafe', subok=False)\n",
      "/Users/nipunbatra/anaconda/lib/python2.7/site-packages/numpy/core/_methods.py:80: RuntimeWarning: invalid value encountered in double_scalars\n",
      "  ret = ret.dtype.type(ret / rcount)\n"
     ]
    }
   ],
   "source": [
    "APPLIANCES_ORDER = ['aggregate', 'hvac', 'fridge', 'mw', 'dw', 'wm', 'oven']\n",
    "year = 2014\n",
    "to_remove = {}\n",
    "for region in ['Austin','SanDiego']:\n",
    "    to_remove[region] = {}\n",
    "    for year in [2014, 2015, 2016]:\n",
    "        to_remove[region][year] = {}\n",
    "        f = out_overall[year][region].copy()\n",
    "        for appliance in APPLIANCES_ORDER :\n",
    "            to_remove[region][year][appliance] = []\n",
    "\n",
    "            for month in range(1, 13):\n",
    "\n",
    "\n",
    "                # Dropping outlier\n",
    "                d = f['%s_%d' %(appliance, month)].dropna()\n",
    "                drop_outlier = d.index[is_outlier(d, thresh=5)].values\n",
    "                for x in drop_outlier:\n",
    "                    to_remove[region][year][appliance].append((x, month))\n",
    "\n",
    "                    f = f.set_value(x, '%s_%d' %(appliance, month),np.NAN)\n",
    "        out_overall[year][region]=f"
   ]
  },
  {
   "cell_type": "code",
   "execution_count": null,
   "metadata": {
    "collapsed": true
   },
   "outputs": [],
   "source": []
  },
  {
   "cell_type": "code",
   "execution_count": 31,
   "metadata": {},
   "outputs": [],
   "source": [
    "# Setting for missing data\n",
    "def set_nan(home , months, year=2014, region='Austin'):\n",
    "    for appliance in APPLIANCES_ORDER:\n",
    "        for month in months:\n",
    "            out_overall[year][region] = out_overall[year][region].set_value(home, '%s_%d' %(appliance, month), np.NaN)\n"
   ]
  },
  {
   "cell_type": "code",
   "execution_count": 37,
   "metadata": {},
   "outputs": [],
   "source": [
    "set_nan(2378, [5, 6, 7])\n",
    "set_nan(4297, [6, 7])\n",
    "set_nan(8086, [5, 6, 7, 8, 9])\n",
    "set_nan(7017, [7, 8, 9])\n",
    "set_nan(6941, [8])"
   ]
  },
  {
   "cell_type": "code",
   "execution_count": 34,
   "metadata": {},
   "outputs": [
    {
     "data": {
      "text/plain": [
       "nan"
      ]
     },
     "execution_count": 34,
     "metadata": {},
     "output_type": "execute_result"
    }
   ],
   "source": [
    "out_overall[2014]['Austin'].get_value(2378, 'wm_5')"
   ]
  },
  {
   "cell_type": "code",
   "execution_count": 40,
   "metadata": {},
   "outputs": [
    {
     "data": {
      "text/plain": [
       "nan"
      ]
     },
     "execution_count": 40,
     "metadata": {},
     "output_type": "execute_result"
    }
   ],
   "source": [
    "f.loc[x, '%s_%d' %(appliance, month)]"
   ]
  },
  {
   "cell_type": "code",
   "execution_count": 19,
   "metadata": {},
   "outputs": [
    {
     "data": {
      "text/plain": [
       "26      20.389349\n",
       "59      14.296000\n",
       "93       5.864000\n",
       "545     19.345667\n",
       "580     42.701817\n",
       "624      8.255507\n",
       "871     11.082350\n",
       "1185    26.386734\n",
       "1464     5.564333\n",
       "1617     9.321967\n",
       "1642     8.153399\n",
       "1714     2.891200\n",
       "1718    20.308765\n",
       "1782    32.791000\n",
       "2018     8.379316\n",
       "2129     0.000000\n",
       "2156    17.751732\n",
       "2242    19.590416\n",
       "2335    15.170900\n",
       "2845    22.527567\n",
       "2945    12.597549\n",
       "2965    13.386400\n",
       "2974     7.293600\n",
       "3039    63.573235\n",
       "3192     4.024200\n",
       "3367    24.649099\n",
       "3456    16.859684\n",
       "3652    17.629900\n",
       "3719    23.825666\n",
       "3736     4.214883\n",
       "          ...    \n",
       "5209    33.329433\n",
       "5218    12.833433\n",
       "5357    34.279869\n",
       "5568     3.725050\n",
       "5949    14.492417\n",
       "5972    47.279213\n",
       "6692     4.909033\n",
       "6990    24.664684\n",
       "7536    13.408383\n",
       "7982    20.048483\n",
       "8046     6.005633\n",
       "8047     8.176666\n",
       "8079    23.060051\n",
       "8084    13.449284\n",
       "8142    14.552385\n",
       "8197    52.818516\n",
       "8419    22.495684\n",
       "8597    11.324383\n",
       "8669    27.312634\n",
       "9160     9.360017\n",
       "9340    55.977352\n",
       "9613    39.292168\n",
       "9647     5.232000\n",
       "9771    15.484917\n",
       "9922    55.711552\n",
       "9933     4.866900\n",
       "9934    48.968399\n",
       "9938    10.839900\n",
       "9942    14.822766\n",
       "9982     0.071433\n",
       "Name: oven_1, dtype: float64"
      ]
     },
     "execution_count": 19,
     "metadata": {},
     "output_type": "execute_result"
    }
   ],
   "source": [
    "out_overall[2014]['Austin']['oven_1'].dropna()"
   ]
  },
  {
   "cell_type": "code",
   "execution_count": 38,
   "metadata": {
    "collapsed": true
   },
   "outputs": [],
   "source": [
    "import pickle"
   ]
  },
  {
   "cell_type": "code",
   "execution_count": 39,
   "metadata": {},
   "outputs": [],
   "source": [
    "pickle.dump(out_overall, open('metadata/all_regions_years_cleaned_z_score_5.pkl','w'))"
   ]
  },
  {
   "cell_type": "code",
   "execution_count": 23,
   "metadata": {},
   "outputs": [
    {
     "data": {
      "text/plain": [
       "nan"
      ]
     },
     "execution_count": 23,
     "metadata": {},
     "output_type": "execute_result"
    }
   ],
   "source": [
    "out_overall[year][region].loc[x,'%s_%d' %(appliance, month)]"
   ]
  },
  {
   "cell_type": "code",
   "execution_count": 24,
   "metadata": {},
   "outputs": [
    {
     "data": {
      "text/plain": [
       "nan"
      ]
     },
     "execution_count": 24,
     "metadata": {},
     "output_type": "execute_result"
    }
   ],
   "source": [
    "out_overall[2014]['Austin'].loc[9745,'%s_%d' %('oven', 1)]"
   ]
  },
  {
   "cell_type": "code",
   "execution_count": null,
   "metadata": {
    "collapsed": true
   },
   "outputs": [],
   "source": []
  }
 ],
 "metadata": {
  "kernelspec": {
   "display_name": "Python 2",
   "language": "python",
   "name": "python2"
  },
  "language_info": {
   "codemirror_mode": {
    "name": "ipython",
    "version": 2
   },
   "file_extension": ".py",
   "mimetype": "text/x-python",
   "name": "python",
   "nbconvert_exporter": "python",
   "pygments_lexer": "ipython2",
   "version": "2.7.11"
  }
 },
 "nbformat": 4,
 "nbformat_minor": 1
}
