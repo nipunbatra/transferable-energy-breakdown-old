{
 "cells": [
  {
   "cell_type": "code",
   "execution_count": 1,
   "metadata": {},
   "outputs": [],
   "source": [
    "\"\"\"\n",
    "This module computes results for transfer learning\n",
    "\n",
    ">>>python graph_laplacian.py setting case static_use source target random_seed train_percentage\n",
    "setting: transfer or normal\n",
    "case: 1, 2, 3, 4; 2 is for our proposed approach, 4 is for standard TF\n",
    "static_use: \"True\" or \"False\"- If False, we don't use static household properties \n",
    "and the corresponding laplacian penalty term is set to 0\n",
    "constant_use: \"True\" or \"False\" - If True, we add the constraint that one column of seasonal factors to be 1.\n",
    "source:\n",
    "target:\n",
    "random_seed:\n",
    "train_percentage:\n",
    "\n",
    "NB: Prediction region is always called target. So, if we are doing n\n",
    "normal learning on SD, we don't care about source, but target will be SD\n",
    "\n",
    "Example:\n",
    "# Transfer learning from Austin -> SD, case 2, 10% data used, 0th random seed, static_data used\n",
    ">>> python graph_laplacian.py transfer 2 True Austin SanDiego 0 10\n",
    "\n",
    "# Normal training in SD, case 2, 10% data used, 0th random seed, static data used\n",
    ">>> python graph_laplacian.py normal 2 True None SanDiego 0 10\n",
    "\n",
    "TODO: mention the objective being solved here\n",
    "\n",
    "\"\"\"\n",
    "import matplotlib.pyplot as plt\n",
    "%matplotlib inline\n",
    "import datetime\n",
    "\n",
    "\n",
    "from sklearn.model_selection import train_test_split, KFold\n",
    "\n",
    "from common import compute_rmse_fraction, contri, get_tensor, create_region_df_dfc_static\n",
    "from create_matrix import *\n",
    "from tensor_custom_core import *\n",
    "\n",
    "appliance_index = {appliance: APPLIANCES_ORDER.index(appliance) for appliance in APPLIANCES_ORDER}\n",
    "APPLIANCES = ['fridge', 'hvac', 'wm', 'mw', 'oven', 'dw']\n",
    "year = 2014\n",
    "\n",
    "source = 'Austin'\n",
    "target = 'SanDiego'\n",
    "source_df, source_dfc, source_tensor, source_static = create_region_df_dfc_static(source, year)\n",
    "target_df, target_dfc, target_tensor, target_static = create_region_df_dfc_static(target, year)\n",
    "\n",
    "# # using cosine similarity to compute L\n",
    "source_L = get_L(source_static)\n",
    "target_L = get_L(target_static)\n",
    "\n",
    "pred = {}\n",
    "n_splits = 10\n",
    "\n",
    "for appliance in APPLIANCES_ORDER:\n",
    "\tpred[appliance] = []\n",
    "best_params_global = {}\n",
    "kf = KFold(n_splits=n_splits)"
   ]
  },
  {
   "cell_type": "code",
   "execution_count": 4,
   "metadata": {
    "collapsed": true
   },
   "outputs": [],
   "source": [
    "case = 4\n",
    "num_home_factors = 3\n",
    "num_season_factors = 3\n",
    "num_iterations = 2000\n",
    "learning_rate = 0.1\n",
    "lam = 0.001\n",
    "T_constant = np.ones(12).reshape(-1,1)"
   ]
  },
  {
   "cell_type": "code",
   "execution_count": 5,
   "metadata": {},
   "outputs": [],
   "source": [
    "case = 4\n",
    "H_source_4, A_source_4, T_source_4, Hs_source_4, As_source_4, Ts_source_4, HATs_source_4, costs_source_4 = learn_HAT_adagrad_graph(case, source_tensor,\n",
    "                                                                                          source_L,\n",
    "                                                                                          num_home_factors,\n",
    "                                                                                          num_season_factors,\n",
    "                                                                                          num_iter=num_iterations,\n",
    "                                                                                          lr=learning_rate, dis=False,\n",
    "                                                                                          lam=lam,\n",
    "                                                                                          T_known=T_constant)"
   ]
  },
  {
   "cell_type": "code",
   "execution_count": 6,
   "metadata": {
    "collapsed": true
   },
   "outputs": [],
   "source": [
    "case = 2\n",
    "H_source_2, A_source_2, T_source_2, Hs_source_2, As_source_2, Ts_source_2, HATs_source_2, costs_source_2 = learn_HAT_adagrad_graph(case, source_tensor,\n",
    "                                                                                          source_L,\n",
    "                                                                                          num_home_factors,\n",
    "                                                                                          num_season_factors,\n",
    "                                                                                          num_iter=num_iterations,\n",
    "                                                                                          lr=learning_rate, dis=False,\n",
    "                                                                                          lam=lam,\n",
    "                                                                                          T_known=T_constant)"
   ]
  },
  {
   "cell_type": "code",
   "execution_count": 7,
   "metadata": {},
   "outputs": [],
   "source": [
    "HAT_2 = multiply_case(H_source_2, A_source_2, T_source_2, 2)\n",
    "pred_2 = {}\n",
    "\n",
    "for appliance_name, appliance_id in appliance_index.iteritems():\n",
    "    pred_2[appliance_name] = []\n",
    "    pred_2[appliance_name].append(pd.DataFrame(HAT_2[:,appliance_id,:], index=source_df.index))"
   ]
  },
  {
   "cell_type": "code",
   "execution_count": 8,
   "metadata": {},
   "outputs": [],
   "source": [
    "HAT_4 = multiply_case(H_source_4, A_source_4, T_source_4, 4)\n",
    "pred_4 = {}\n",
    "\n",
    "for appliance_name, appliance_id in appliance_index.iteritems():\n",
    "    pred_4[appliance_name] = []\n",
    "    pred_4[appliance_name].append(pd.DataFrame(HAT_4[:,appliance_id,:], index=source_df.index))"
   ]
  },
  {
   "cell_type": "code",
   "execution_count": 9,
   "metadata": {},
   "outputs": [
    {
     "name": "stderr",
     "output_type": "stream",
     "text": [
      "/Users/xox/Library/Python/2.7/lib/python/site-packages/ipykernel_launcher.py:10: DeprecationWarning: \n",
      ".ix is deprecated. Please use\n",
      ".loc for label based indexing or\n",
      ".iloc for positional indexing\n",
      "\n",
      "See the documentation here:\n",
      "http://pandas.pydata.org/pandas-docs/stable/indexing.html#ix-indexer-is-deprecated\n",
      "  # Remove the CWD from sys.path while we load stuff.\n",
      "/Users/xox/Library/Python/2.7/lib/python/site-packages/ipykernel_launcher.py:11: DeprecationWarning: \n",
      ".ix is deprecated. Please use\n",
      ".loc for label based indexing or\n",
      ".iloc for positional indexing\n",
      "\n",
      "See the documentation here:\n",
      "http://pandas.pydata.org/pandas-docs/stable/indexing.html#ix-indexer-is-deprecated\n",
      "  # This is added back by InteractiveShellApp.init_path()\n"
     ]
    }
   ],
   "source": [
    "from sklearn.model_selection import train_test_split, KFold\n",
    "from common import compute_rmse\n",
    "from common import compute_rmse_fraction\n",
    "out_2 = {}\n",
    "out_4 = {}\n",
    "\n",
    "for appliance in APPLIANCES_ORDER[1:]:\n",
    "    out_2[appliance] = {}\n",
    "    out_4[appliance] = {}\n",
    "    s_2 = pd.concat(pred_2[appliance]).ix[source_df.index]\n",
    "    s_4 = pd.concat(pred_4[appliance]).ix[source_df.index]\n",
    "    if appliance==\"hvac\":\n",
    "        out_2[appliance] = compute_rmse_fraction(appliance,s_2[range(4, 10)],'Austin')[2]\n",
    "        out_4[appliance] = compute_rmse_fraction(appliance,s_4[range(4, 10)],'Austin')[2]\n",
    "    else:   \n",
    "        out_2[appliance] = compute_rmse_fraction(appliance, s_2,'Austin')[2]\n",
    "        out_4[appliance] = compute_rmse_fraction(appliance, s_4,'Austin')[2]"
   ]
  },
  {
   "cell_type": "code",
   "execution_count": 10,
   "metadata": {},
   "outputs": [
    {
     "data": {
      "text/plain": [
       "{'dw': 1.2674632447426291,\n",
       " 'fridge': 4.6160320728274362,\n",
       " 'hvac': 14.905296414190024,\n",
       " 'mw': 1.5697334288916986,\n",
       " 'oven': 1.4941288125962218,\n",
       " 'wm': 0.60210532724837063}"
      ]
     },
     "execution_count": 10,
     "metadata": {},
     "output_type": "execute_result"
    }
   ],
   "source": [
    "out_2"
   ]
  },
  {
   "cell_type": "code",
   "execution_count": 11,
   "metadata": {},
   "outputs": [
    {
     "data": {
      "text/plain": [
       "{'dw': 1.2960631053662317,\n",
       " 'fridge': 4.5943129907873637,\n",
       " 'hvac': 18.513076613256167,\n",
       " 'mw': 1.4093965181574701,\n",
       " 'oven': 1.5607837529876694,\n",
       " 'wm': 0.57784881512697739}"
      ]
     },
     "execution_count": 11,
     "metadata": {},
     "output_type": "execute_result"
    }
   ],
   "source": [
    "out_4"
   ]
  },
  {
   "cell_type": "code",
   "execution_count": 12,
   "metadata": {},
   "outputs": [
    {
     "data": {
      "text/plain": [
       "<matplotlib.axes.AxesSubplot at 0x112807850>"
      ]
     },
     "execution_count": 12,
     "metadata": {},
     "output_type": "execute_result"
    },
    {
     "data": {
      "image/png": "[encoded data removed]",
      "text/plain": [
       "<matplotlib.figure.Figure at 0x10da66250>"
      ]
     },
     "metadata": {},
     "output_type": "display_data"
    }
   ],
   "source": [
    "pd.DataFrame(T_source_2).plot()"
   ]
  },
  {
   "cell_type": "code",
   "execution_count": 13,
   "metadata": {},
   "outputs": [
    {
     "data": {
      "text/plain": [
       "<matplotlib.axes.AxesSubplot at 0x112805750>"
      ]
     },
     "execution_count": 13,
     "metadata": {},
     "output_type": "execute_result"
    },
    {
     "data": {
      "image/png": "[encoded data removed]",
      "text/plain": [
       "<matplotlib.figure.Figure at 0x16a044310>"
      ]
     },
     "metadata": {},
     "output_type": "display_data"
    }
   ],
   "source": [
    "pd.DataFrame(T_source_4).plot()"
   ]
  }
 ],
 "metadata": {
  "kernelspec": {
   "display_name": "Python 2",
   "language": "python",
   "name": "python2"
  },
  "language_info": {
   "codemirror_mode": {
    "name": "ipython",
    "version": 2
   },
   "file_extension": ".py",
   "mimetype": "text/x-python",
   "name": "python",
   "nbconvert_exporter": "python",
   "pygments_lexer": "ipython2",
   "version": "2.7.10"
  }
 },
 "nbformat": 4,
 "nbformat_minor": 2
}
