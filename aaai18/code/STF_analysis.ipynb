{
 "cells": [
  {
   "cell_type": "code",
   "execution_count": 1,
   "metadata": {
    "collapsed": true
   },
   "outputs": [],
   "source": [
    "from sklearn.model_selection import train_test_split, KFold\n",
    "from common import compute_rmse_fraction, contri, get_tensor, create_region_df_dfc_static\n",
    "from create_matrix import *\n",
    "from tensor_custom_core import *\n",
    "import multiprocessing as mp\n",
    "import matplotlib.pyplot as plt\n",
    "import numpy as np\n",
    "import pandas as pd\n",
    "%matplotlib inline"
   ]
  },
  {
   "cell_type": "code",
   "execution_count": 2,
   "metadata": {
    "collapsed": true
   },
   "outputs": [],
   "source": [
    "appliance_index = {appliance: APPLIANCES_ORDER.index(appliance) for appliance in APPLIANCES_ORDER}\n",
    "APPLIANCES = ['fridge', 'hvac', 'wm', 'mw', 'oven', 'dw']"
   ]
  },
  {
   "cell_type": "code",
   "execution_count": 108,
   "metadata": {
    "collapsed": true
   },
   "outputs": [],
   "source": [
    "case = 2\n",
    "setting = 'normal'\n",
    "constant_use = True\n",
    "static_use = True\n",
    "source = 'Austin'\n",
    "target = 'SanDiego'\n",
    "random_seed = 0\n",
    "train_percentage = 0.0\n",
    "start = 1\n",
    "stop = 13\n",
    "year = 2014"
   ]
  },
  {
   "cell_type": "code",
   "execution_count": 109,
   "metadata": {
    "collapsed": true
   },
   "outputs": [],
   "source": [
    "source_df, source_dfc, source_tensor, source_static = create_region_df_dfc_static(source, year, start, stop)\n",
    "target_df, target_dfc, target_tensor, target_static = create_region_df_dfc_static(target, year, start, stop)\n",
    "source_L = get_L(source_static)\n",
    "target_L = get_L(target_static)"
   ]
  },
  {
   "cell_type": "code",
   "execution_count": 110,
   "metadata": {
    "collapsed": true
   },
   "outputs": [],
   "source": [
    "best_num_home_factors = 2\n",
    "best_num_season_factors = 2\n",
    "best_num_iterations = 900\n",
    "best_learning_rate = 0.5\n",
    "best_lam = 0\n",
    "random_seed = 0\n",
    "T_constant = np.ones(12).reshape(-1, 1)"
   ]
  },
  {
   "cell_type": "code",
   "execution_count": 111,
   "metadata": {
    "collapsed": false
   },
   "outputs": [],
   "source": [
    "H_normal, A_normal, T_normal, Hs_normal, As_normal, Ts_normal, HATs_normal, costs_normal = learn_HAT_adagrad_graph(case, target_tensor, \n",
    "                                                                                                                    target_L,\n",
    "                                                          best_num_home_factors,\n",
    "                                                          best_num_season_factors,\n",
    "                                                          num_iter=best_num_iterations, lr=best_learning_rate, dis=False,\n",
    "                                                          lam=best_lam, random_seed = random_seed, T_known=T_constant)\n",
    "\n"
   ]
  },
  {
   "cell_type": "code",
   "execution_count": 112,
   "metadata": {
    "collapsed": true
   },
   "outputs": [],
   "source": [
    "H_source, A_source, T_source, Hs_source, As_source, Ts_source, HATs_source, costs_source = learn_HAT_adagrad_graph(case, source_tensor, \n",
    "                                                                                                                    source_L,\n",
    "                                                          best_num_home_factors,\n",
    "                                                          best_num_season_factors,\n",
    "                                                          num_iter=best_num_iterations, lr=best_learning_rate, dis=False,\n",
    "                                                          lam=best_lam, random_seed = random_seed, T_known=T_constant)\n",
    "\n"
   ]
  },
  {
   "cell_type": "code",
   "execution_count": 113,
   "metadata": {
    "collapsed": true
   },
   "outputs": [],
   "source": [
    "H_transfer, A_transfer, T_transfer, Hs_transfer, As_transfer, Ts_transfer, HATs_transfer, costs_transfer = learn_HAT_adagrad_graph(case, target_tensor, \n",
    "                                                                                                                    target_L,\n",
    "                                                          best_num_home_factors,\n",
    "                                                          best_num_season_factors,\n",
    "                                                          num_iter=best_num_iterations, lr=best_learning_rate, dis=False,\n",
    "                                                          lam=best_lam, random_seed = random_seed, A_known = A_source, T_known=T_constant)\n",
    "\n"
   ]
  },
  {
   "cell_type": "code",
   "execution_count": 114,
   "metadata": {
    "collapsed": false
   },
   "outputs": [],
   "source": [
    "HAT_normal = multiply_case(H_normal, A_normal, T_normal, case)\n",
    "\n",
    "pred_normal = {}\n",
    "for appliance in APPLIANCES_ORDER[1:]:\n",
    "#     pred_normal[appliance]\n",
    "    pred_normal[appliance] = (pd.DataFrame(HAT_normal[:, appliance_index[appliance], :], index=target_df.index))\n"
   ]
  },
  {
   "cell_type": "code",
   "execution_count": 115,
   "metadata": {
    "collapsed": false
   },
   "outputs": [],
   "source": [
    "out = {}\n",
    "for appliance in APPLIANCES_ORDER[1:]:\n",
    "    out[appliance] = {}\n",
    "#     s = pd.concat(pred_normal[appliance]).ix[target_df.index]\n",
    "    if appliance==\"hvac\":\n",
    "        out[appliance] = compute_rmse_fraction(appliance,pred_normal[appliance][range(4, 10)],'SanDiego')[2]\n",
    "    else:   \n",
    "        out[appliance] = compute_rmse_fraction(appliance, pred_normal[appliance],'SanDiego')[2]"
   ]
  },
  {
   "cell_type": "code",
   "execution_count": 116,
   "metadata": {
    "collapsed": false
   },
   "outputs": [
    {
     "data": {
      "text/plain": [
       "{'dw': 1.8145594012643593,\n",
       " 'fridge': 6.441900698680521,\n",
       " 'hvac': 12.162454274801247,\n",
       " 'mw': 1.7084130518920073,\n",
       " 'oven': 2.0519300001307554,\n",
       " 'wm': 0.61945467363994344}"
      ]
     },
     "execution_count": 116,
     "metadata": {},
     "output_type": "execute_result"
    }
   ],
   "source": [
    "out"
   ]
  },
  {
   "cell_type": "code",
   "execution_count": 107,
   "metadata": {
    "collapsed": false
   },
   "outputs": [
    {
     "data": {
      "text/plain": [
       "{'dw': 1.8557013677190799,\n",
       " 'fridge': 6.4232839265095976,\n",
       " 'hvac': 11.879888579402675,\n",
       " 'mw': 1.6772051863134347,\n",
       " 'oven': 2.2691659012264398,\n",
       " 'wm': 0.67176609231700568}"
      ]
     },
     "execution_count": 107,
     "metadata": {},
     "output_type": "execute_result"
    }
   ],
   "source": [
    "out"
   ]
  },
  {
   "cell_type": "code",
   "execution_count": 92,
   "metadata": {
    "collapsed": false
   },
   "outputs": [
    {
     "data": {
      "image/png": "[encoded data removed]",
      "text/plain": [
       "<matplotlib.figure.Figure at 0x7fb884b188d0>"
      ]
     },
     "metadata": {},
     "output_type": "display_data"
    }
   ],
   "source": [
    "pd.DataFrame(T_normal).plot()\n",
    "plt.savefig(\"./STF_normal_T.pdf\", bbox_inches=\"tight\", dpi=300, format='pdf')"
   ]
  },
  {
   "cell_type": "code",
   "execution_count": 24,
   "metadata": {
    "collapsed": false
   },
   "outputs": [
    {
     "data": {
      "text/plain": [
       "['aggregate', 'hvac', 'fridge', 'mw', 'dw', 'wm', 'oven']"
      ]
     },
     "execution_count": 24,
     "metadata": {},
     "output_type": "execute_result"
    }
   ],
   "source": [
    "APPLIANCES_ORDER"
   ]
  },
  {
   "cell_type": "code",
   "execution_count": 87,
   "metadata": {
    "collapsed": false
   },
   "outputs": [
    {
     "data": {
      "image/png": "[encoded data removed]",
      "text/plain": [
       "<matplotlib.figure.Figure at 0x7fb87dd4a4d0>"
      ]
     },
     "metadata": {},
     "output_type": "display_data"
    }
   ],
   "source": [
    "A_df = pd.DataFrame(A_normal)\n",
    "A_df = A_df.rename(columns={0:\"season independent\", 1:\"season dependent\"}, index={0:\"aggregate\", 1:\"hvac\", 2:'fridge',\n",
    "                                                                                3:\"mw\", 4:'dw', 5:'wm', 6:'oven'})\n",
    "\n",
    "A_df.plot(kind='bar')\n",
    "plt.savefig(\"./STF_normal_A.pdf\", bbox_inches=\"tight\", dpi=300, format='pdf')"
   ]
  },
  {
   "cell_type": "code",
   "execution_count": 91,
   "metadata": {
    "collapsed": false
   },
   "outputs": [
    {
     "data": {
      "image/png": "[encoded data removed]",
      "text/plain": [
       "<matplotlib.figure.Figure at 0x7fb87df0ded0>"
      ]
     },
     "metadata": {},
     "output_type": "display_data"
    }
   ],
   "source": [
    "pd.DataFrame(T_transfer).plot()\n",
    "plt.savefig(\"./STF_transfer_T.pdf\", bbox_inches=\"tight\", dpi=300, format='pdf')"
   ]
  },
  {
   "cell_type": "code",
   "execution_count": 89,
   "metadata": {
    "collapsed": false
   },
   "outputs": [
    {
     "data": {
      "image/png": "[encoded data removed]",
      "text/plain": [
       "<matplotlib.figure.Figure at 0x7fb87df52a50>"
      ]
     },
     "metadata": {},
     "output_type": "display_data"
    }
   ],
   "source": [
    "A_df = pd.DataFrame(A_transfer)\n",
    "A_df = A_df.rename(columns={0:\"season independent\", 1:\"season dependent\"}, index={0:\"aggregate\", 1:\"hvac\", 2:'fridge',\n",
    "                                                                                3:\"mw\", 4:'dw', 5:'wm', 6:'oven'})\n",
    "\n",
    "A_df.plot(kind='bar')\n",
    "plt.savefig(\"./STF_transfer_A.pdf\", bbox_inches=\"tight\", dpi=300, format='pdf')"
   ]
  },
  {
   "cell_type": "code",
   "execution_count": 78,
   "metadata": {
    "collapsed": false
   },
   "outputs": [
    {
     "ename": "TypeError",
     "evalue": "'numpy.ndarray' object is not callable",
     "output_type": "error",
     "traceback": [
      "\u001b[0;31m---------------------------------------------------------------------------\u001b[0m",
      "\u001b[0;31mTypeError\u001b[0m                                 Traceback (most recent call last)",
      "\u001b[0;32m<ipython-input-78-ccda37dff84a>\u001b[0m in \u001b[0;36m<module>\u001b[0;34m()\u001b[0m\n\u001b[1;32m      7\u001b[0m     \u001b[0mappliance_df\u001b[0m\u001b[0;34m.\u001b[0m\u001b[0mcolumns\u001b[0m \u001b[0;34m=\u001b[0m \u001b[0mrange\u001b[0m\u001b[0;34m(\u001b[0m\u001b[0mlen\u001b[0m\u001b[0;34m(\u001b[0m\u001b[0mappliance_cols\u001b[0m\u001b[0;34m)\u001b[0m\u001b[0;34m)\u001b[0m\u001b[0;34m\u001b[0m\u001b[0m\n\u001b[1;32m      8\u001b[0m \u001b[0;31m#     appliance_mean.append(appliance_df.mean())\u001b[0m\u001b[0;34m\u001b[0m\u001b[0;34m\u001b[0m\u001b[0m\n\u001b[0;32m----> 9\u001b[0;31m     \u001b[0mappliance_mean\u001b[0m \u001b[0;34m=\u001b[0m \u001b[0mnp\u001b[0m\u001b[0;34m.\u001b[0m\u001b[0mr_\u001b[0m\u001b[0;34m[\u001b[0m\u001b[0mappliance\u001b[0m\u001b[0;34m,\u001b[0m \u001b[0mappliance_df\u001b[0m\u001b[0;34m.\u001b[0m\u001b[0mmean\u001b[0m\u001b[0;34m(\u001b[0m\u001b[0;34m)\u001b[0m\u001b[0;34m.\u001b[0m\u001b[0mvalues\u001b[0m\u001b[0;34m(\u001b[0m\u001b[0;34m)\u001b[0m\u001b[0;34m]\u001b[0m\u001b[0;34m\u001b[0m\u001b[0m\n\u001b[0m\u001b[1;32m     10\u001b[0m \u001b[0;31m# appliance_energy = appliance_df.mean().div(appliance_df.mean().max())\u001b[0m\u001b[0;34m\u001b[0m\u001b[0;34m\u001b[0m\u001b[0m\n\u001b[1;32m     11\u001b[0m \u001b[0;31m# df.loc['Mean Energy \\n(Normalised)'] = appliance_energy\u001b[0m\u001b[0;34m\u001b[0m\u001b[0;34m\u001b[0m\u001b[0m\n",
      "\u001b[0;31mTypeError\u001b[0m: 'numpy.ndarray' object is not callable"
     ]
    }
   ],
   "source": [
    "appliance_mean = []\n",
    "for appliance in APPLIANCES_ORDER[2:]:\n",
    "#     appliance = 'wm'\n",
    "    appliance_df = create_matrix_region_appliance_year('SanDiego', 2014, appliance)\n",
    "    appliance_cols = [x for x in appliance_df.columns if appliance in x]\n",
    "    appliance_df = appliance_df[appliance_cols]\n",
    "    appliance_df.columns = range(len(appliance_cols))\n",
    "#     appliance_mean.append(appliance_df.mean())\n",
    "    appliance_mean = np.r_[appliance, appliance_df.mean().values()]\n",
    "# appliance_energy = appliance_df.mean().div(appliance_df.mean().max())\n",
    "# df.loc['Mean Energy \\n(Normalised)'] = appliance_energy\n",
    "# print appliance_energy\n",
    "# print appliance_df.corr().heatmap()\n",
    "import seaborn as sns\n",
    "print appliance_mean\n",
    "\n"
   ]
  },
  {
   "cell_type": "code",
   "execution_count": null,
   "metadata": {
    "collapsed": true
   },
   "outputs": [],
   "source": [
    "for outer_loop_iteration, (train_max, test) in enumerate(kf.split(target_df)):\n",
    "    # Just a random thing\n",
    "    np.random.seed(10 * random_seed + 7 * outer_loop_iteration)\n",
    "    np.random.shuffle(train_max)\n",
    "    print(\"-\" * 80)\n",
    "    print(\"Progress: {}\".format(100.0 * outer_loop_iteration / n_splits))\n",
    "#         print(datetime.datetime.now())\n",
    "#         sys.stdout.flush()\n",
    "    num_train = int((train_percentage * len(train_max) / 100) + 0.5)\n",
    "\n",
    "\n",
    "    if train_percentage == 100:\n",
    "        train = train_max\n",
    "        train_ix = target_df.index[train]\n",
    "        # print(\"Train set {}\".format(train_ix.values))\n",
    "        test_ix = target_df.index[test]\n",
    "    else:\n",
    "        # Sample `train_percentage` homes\n",
    "        # An important condition here is that all homes should have energy data\n",
    "        # for all appliances for atleast one month.\n",
    "        train, _ = train_test_split(train_max, train_size=train_percentage / 100.0)\n",
    "        train_ix = target_df.index[train]\n",
    "        test_ix = target_df.index[test]\n",
    "\n",
    "    count = 0\n",
    "\n",
    "#         print(\"******* BEST PARAMS *******\")\n",
    "#         print(\"******* BEST PARAMS *******\")\n",
    "    sys.stdout.flush()\n",
    "    # Now we will be using the best parameter set obtained to compute the predictions\n",
    "    if setting==\"transfer\":\n",
    "        A_source = A_store[best_learning_rate][best_num_season_factors][best_num_home_factors][best_lam][best_num_iterations]\n",
    "    else:\n",
    "        A_source = None\n",
    "    num_test = len(test_ix)\n",
    "    train_test_ix = np.concatenate([test_ix, train_ix])\n",
    "    df_t, dfc_t = target_df.loc[train_test_ix], target_dfc.loc[train_test_ix]\n",
    "    tensor = get_tensor(df_t, start, stop)\n",
    "    tensor_copy = tensor.copy()\n",
    "    # First n\n",
    "    tensor_copy[:num_test, 1:, :] = np.NaN\n",
    "#         print tensor_copy\n",
    "\n",
    "\n",
    "    L = target_L[np.ix_(np.concatenate([test, train]), np.concatenate([test, train]))]\n",
    "\n",
    "    H, A, T, Hs, As, Ts, HATs, costs = learn_HAT_adagrad_graph(case, tensor_copy, L,\n",
    "                                                                          best_num_home_factors,\n",
    "                                                                          best_num_season_factors,\n",
    "                                                                          num_iter=best_num_iterations, lr=best_learning_rate, dis=False,\n",
    "                                                                          lam=best_lam, random_seed = random_seed, A_known=A_source, T_known=T_constant)\n",
    "\n",
    "\n",
    "    HAT = multiply_case(H, A, T, case)\n",
    "#         print HAT\n",
    "    for appliance in APPLIANCES_ORDER:\n",
    "        pred[appliance].append(pd.DataFrame(HAT[:num_test, appliance_index[appliance], :], index=test_ix))\n",
    "    best_params_global[outer_loop_iteration] = {'Learning Rate': best_learning_rate,\n",
    "                                                'Iterations': best_num_iterations,\n",
    "                                                'Num season factors': best_num_season_factors,\n",
    "                                                'Num home factors': best_num_home_factors,\n",
    "                                                'Lambda': best_lam\n",
    "                                                }\n",
    "\n",
    "for appliance in APPLIANCES_ORDER:\n",
    "    pred[appliance] = pd.DataFrame(pd.concat(pred[appliance]))\n",
    "for appliance in APPLIANCES_ORDER[1:]:\n",
    "    prediction = pred[appliance]\n",
    "    if appliance == 'hvac':\n",
    "        prediction = prediction[range(5-start, 11-start)]\n",
    "    out[appliance] = \\\n",
    "        compute_rmse_fraction(appliance, prediction, target, start, stop)[2]\n",
    "print out\n",
    "#     print (pd.DataFrame(out).T*pd.Series(contri['SanDiego'])).sum(axis=1)\n",
    "return out\n",
    "#     print(\"Computed for: {}\".format(name))\n",
    "    "
   ]
  }
 ],
 "metadata": {
  "kernelspec": {
   "display_name": "Python 2",
   "language": "python",
   "name": "python2"
  },
  "language_info": {
   "codemirror_mode": {
    "name": "ipython",
    "version": 2
   },
   "file_extension": ".py",
   "mimetype": "text/x-python",
   "name": "python",
   "nbconvert_exporter": "python",
   "pygments_lexer": "ipython2",
   "version": "2.7.13"
  }
 },
 "nbformat": 4,
 "nbformat_minor": 2
}
