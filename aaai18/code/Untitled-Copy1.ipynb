{
 "cells": [
  {
   "cell_type": "code",
   "execution_count": 1,
   "metadata": {
    "collapsed": true
   },
   "outputs": [],
   "source": [
    "import datetime\n",
    "from sklearn.model_selection import train_test_split, KFold\n",
    "from common import compute_rmse_fraction, contri, get_tensor, create_region_df_dfc_static\n",
    "from create_matrix import *\n",
    "from tensor_custom_core_all import *\n",
    "import multiprocessing as mp"
   ]
  },
  {
   "cell_type": "code",
   "execution_count": 2,
   "metadata": {
    "collapsed": true
   },
   "outputs": [],
   "source": [
    "appliance_index = {appliance: APPLIANCES_ORDER.index(appliance) for appliance in APPLIANCES_ORDER}\n",
    "APPLIANCES = ['fridge', 'hvac', 'wm', 'mw', 'oven', 'dw']"
   ]
  },
  {
   "cell_type": "code",
   "execution_count": 3,
   "metadata": {
    "collapsed": true
   },
   "outputs": [],
   "source": [
    "case = 2\n",
    "setting = 'normal'\n",
    "constant_use = True\n",
    "static_use = True\n",
    "source = 'Austin'\n",
    "target = 'SanDiego'\n",
    "random_seed = 0\n",
    "train_percentage = 0\n",
    "start = 1\n",
    "stop = 13\n",
    "year = 2014"
   ]
  },
  {
   "cell_type": "code",
   "execution_count": 4,
   "metadata": {
    "collapsed": false
   },
   "outputs": [],
   "source": [
    "def get_zero_prediction(setting, case, constant_use, static_use, source, target, random_seed, train_percentage, start, stop, year = 2014):\n",
    "    \n",
    "    A_store = pickle.load(open(os.path.expanduser('~/git/scalable-nilm/aaai18/predictions/case-{}-graph_{}_{}_{}_{}_As.pkl'.format(case, source, constant_use, start, stop)), 'r'))\n",
    "    error_store = pickle.load(open(os.path.expanduser('~/git/scalable-nilm/aaai18/predictions/case-{}-graph_{}_{}_{}_{}_errs.pkl'.format(case, source, constant_use, start, stop)), 'r'))\n",
    "    source_df, source_dfc, source_tensor, source_static = create_region_df_dfc_static(source, year, start, stop)\n",
    "    target_df, target_dfc, target_tensor, target_static = create_region_df_dfc_static(target, year, start, stop)\n",
    "    source_L = get_L(source_static)\n",
    "    target_L = get_L(target_static)\n",
    "\n",
    "    if constant_use == 'True':\n",
    "        T_constant = np.ones(stop-start).reshape(-1 , 1)\n",
    "    else:\n",
    "        T_constant = None\n",
    "\n",
    "    pred = {}\n",
    "    out = {}\n",
    "    n_splits = 10\n",
    "\n",
    "    for appliance in APPLIANCES_ORDER:\n",
    "        pred[appliance] = []\n",
    "    best_params_global = {}\n",
    "    kf = KFold(n_splits=n_splits)\n",
    "\n",
    "    minimun = 10000\n",
    "\n",
    "    for key_1, nested_1 in error_store.items():\n",
    "        for key_2, nested_2 in nested_1.items():\n",
    "            for key_3, nested_3 in nested_2.items():\n",
    "                for key_4, nested_4 in nested_3.items():\n",
    "                    for key_5, nested_5 in nested_4.items():\n",
    "                        if nested_5 < minimun:\n",
    "                            minimun = nested_5\n",
    "                            best_learning_rate = key_1\n",
    "                            best_num_season_factors = key_2\n",
    "                            best_num_home_factors = key_3\n",
    "                            best_lam = key_4\n",
    "                            best_num_iterations = key_5\n",
    "    print key_1, key_2, key_3, key_4, key_5\n",
    "\n",
    "#     for outer_loop_iteration, (train_max, test) in enumerate(kf.split(target_df)):\n",
    "#         # Just a random thing\n",
    "#         np.random.seed(10 * random_seed + 7 * outer_loop_iteration)\n",
    "#         np.random.shuffle(train_max)\n",
    "#         print(\"-\" * 80)\n",
    "#         print(\"Progress: {}\".format(100.0 * outer_loop_iteration / n_splits))\n",
    "# #         print(datetime.datetime.now())\n",
    "# #         sys.stdout.flush()\n",
    "#         num_train = int((train_percentage * len(train_max) / 100) + 0.5)\n",
    "\n",
    "\n",
    "#         if train_percentage == 100:\n",
    "#             train = train_max\n",
    "#             train_ix = target_df.index[train]\n",
    "#             # print(\"Train set {}\".format(train_ix.values))\n",
    "#             test_ix = target_df.index[test]\n",
    "#         else:\n",
    "#             # Sample `train_percentage` homes\n",
    "#             # An important condition here is that all homes should have energy data\n",
    "#             # for all appliances for atleast one month.\n",
    "#             train, _ = train_test_split(train_max, train_size=train_percentage / 100.0)\n",
    "#             train_ix = target_df.index[train]\n",
    "#             test_ix = target_df.index[test]\n",
    "\n",
    "\n",
    "# #         print(\"-\" * 80)\n",
    "# #         print(\"Test set {}\".format(test_ix.values))\n",
    "# #         print(\"-\" * 80)\n",
    "# #         print(\"Current Error, Least Error, #Iterations\")\n",
    "\n",
    "#         ### Inner CV loop to find the optimum set of params. In this case: the number of iterations\n",
    "#         inner_kf = KFold(n_splits=2)\n",
    "\n",
    "\n",
    "#         overall_df_inner = target_df.loc[train_ix]\n",
    "#         best_params_global[outer_loop_iteration] = {}\n",
    "\n",
    "#         params = {}\n",
    "#         count = 0\n",
    "\n",
    "# #         print(\"******* BEST PARAMS *******\")\n",
    "# #         print(\"******* BEST PARAMS *******\")\n",
    "#         sys.stdout.flush()\n",
    "#         # Now we will be using the best parameter set obtained to compute the predictions\n",
    "#         if setting==\"transfer\":\n",
    "#             A_source = A_store[best_learning_rate][best_num_season_factors][best_num_home_factors][best_lam][best_num_iterations]\n",
    "#         else:\n",
    "#             A_source = None\n",
    "#         num_test = len(test_ix)\n",
    "#         train_test_ix = np.concatenate([test_ix, train_ix])\n",
    "#         df_t, dfc_t = target_df.loc[train_test_ix], target_dfc.loc[train_test_ix]\n",
    "#         tensor = get_tensor(df_t, start, stop)\n",
    "#         tensor_copy = tensor.copy()\n",
    "#         # First n\n",
    "#         tensor_copy[:num_test, 1:, :] = np.NaN\n",
    "# #         print tensor_copy\n",
    "\n",
    "\n",
    "#         L = target_L[np.ix_(np.concatenate([test, train]), np.concatenate([test, train]))]\n",
    "\n",
    "#         H, A, T, Hs, As, Ts, HATs, costs = learn_HAT_adagrad_graph(case, tensor_copy, L,\n",
    "#                                                                               best_num_home_factors,\n",
    "#                                                                               best_num_season_factors,\n",
    "#                                                                               num_iter=best_num_iterations, lr=best_learning_rate, dis=False,\n",
    "#                                                                               lam=best_lam, random_seed = random_seed, A_known=A_source, T_known=T_constant)\n",
    "\n",
    "    \n",
    "#         HAT = multiply_case(H, A, T, case)\n",
    "# #         print HAT\n",
    "#         for appliance in APPLIANCES_ORDER:\n",
    "#             pred[appliance].append(pd.DataFrame(HAT[:num_test, appliance_index[appliance], :], index=test_ix))\n",
    "#         best_params_global[outer_loop_iteration] = {'Learning Rate': best_learning_rate,\n",
    "#                                                     'Iterations': best_num_iterations,\n",
    "#                                                     'Num season factors': best_num_season_factors,\n",
    "#                                                     'Num home factors': best_num_home_factors,\n",
    "#                                                     'Lambda': best_lam\n",
    "#                                                     }\n",
    "\n",
    "#     for appliance in APPLIANCES_ORDER:\n",
    "#         pred[appliance] = pd.DataFrame(pd.concat(pred[appliance]))\n",
    "#     for appliance in APPLIANCES_ORDER[1:]:\n",
    "#         prediction = pred[appliance]\n",
    "#         if appliance == 'hvac':\n",
    "#             prediction = prediction[range(5-start, 11-start)]\n",
    "#         out[appliance] = \\\n",
    "#             compute_rmse_fraction(appliance, prediction, target, start, stop)[2]\n",
    "#     print out\n",
    "# #     print (pd.DataFrame(out).T*pd.Series(contri['SanDiego'])).sum(axis=1)\n",
    "#     return out\n",
    "# #     print(\"Computed for: {}\".format(name))\n",
    "    "
   ]
  },
  {
   "cell_type": "code",
   "execution_count": 8,
   "metadata": {
    "collapsed": false
   },
   "outputs": [
    {
     "name": "stdout",
     "output_type": "stream",
     "text": [
      "case-2 normal\n",
      "dw        16.035385\n",
      "fridge     7.937031\n",
      "hvac      18.931079\n",
      "mw        17.099908\n",
      "oven      15.301546\n",
      "wm        15.816977\n",
      "dtype: float64\n",
      "15.1122625411\n",
      "********************\n",
      "case-2 transfer\n",
      "dw         2.163809\n",
      "fridge     9.784088\n",
      "hvac      21.071625\n",
      "mw         2.713056\n",
      "oven       2.978464\n",
      "wm         1.250149\n",
      "dtype: float64\n",
      "15.0820940318\n",
      "********************\n",
      "case-4 normal\n",
      "dw         8.453122\n",
      "fridge     8.346045\n",
      "hvac      22.580974\n",
      "mw         8.047152\n",
      "oven       5.655186\n",
      "wm         8.115131\n",
      "dtype: float64\n",
      "16.1277591633\n",
      "********************\n",
      "case-4 transfer\n",
      "dw         1.843350\n",
      "fridge     8.251440\n",
      "hvac      25.593007\n",
      "mw         2.088127\n",
      "oven       2.576448\n",
      "wm         0.863349\n",
      "dtype: float64\n",
      "17.0503131142\n",
      "********************\n"
     ]
    }
   ],
   "source": [
    "out = pickle.load(open('../predictions/zero/lr-tf-Austin-SanDiego-all.pkl','r'))\n",
    "out\n",
    "for case in [2, 4]:\n",
    "    for setting in ['normal', 'transfer']:\n",
    "        print \"case-{}\".format(case), setting\n",
    "        print out[case]['True']['False'][setting][0.0]\n",
    "        print (pd.DataFrame(out[case]['True']['False'][setting]).T*pd.Series(contri['SanDiego'])).sum(axis=1)[0]\n",
    "        print \"*\"*20"
   ]
  },
  {
   "cell_type": "code",
   "execution_count": 68,
   "metadata": {
    "collapsed": false
   },
   "outputs": [
    {
     "data": {
      "text/plain": [
       "dw        0.029733\n",
       "fridge    0.313919\n",
       "hvac      0.554866\n",
       "mw        0.042220\n",
       "oven      0.038067\n",
       "wm        0.021196\n",
       "dtype: float64"
      ]
     },
     "execution_count": 68,
     "metadata": {},
     "output_type": "execute_result"
    }
   ],
   "source": [
    "pd.Series(contri['SanDiego'])"
   ]
  },
  {
   "cell_type": "code",
   "execution_count": 12,
   "metadata": {
    "collapsed": false
   },
   "outputs": [
    {
     "data": {
      "text/plain": [
       "array([[ 0.54340494,  0.27836939,  0.42451759],\n",
       "       [ 0.84477613,  0.00471886,  0.12156912]])"
      ]
     },
     "execution_count": 12,
     "metadata": {},
     "output_type": "execute_result"
    }
   ],
   "source": [
    "np.random.seed(100)\n",
    "n = np.random.rand(2, 3)\n",
    "n"
   ]
  },
  {
   "cell_type": "code",
   "execution_count": 83,
   "metadata": {
    "collapsed": true
   },
   "outputs": [],
   "source": [
    "import matplotlib.pyplot as plt\n",
    "import numpy as np\n",
    "import pandas as pd\n",
    "%matplotlib inline"
   ]
  },
  {
   "cell_type": "code",
   "execution_count": 88,
   "metadata": {
    "collapsed": false
   },
   "outputs": [
    {
     "data": {
      "image/png": "[encoded data removed]",
      "text/plain": [
       "<matplotlib.figure.Figure at 0x7fe36f157fd0>"
      ]
     },
     "metadata": {},
     "output_type": "display_data"
    },
    {
     "data": {
      "image/png": "[encoded data removed]",
      "text/plain": [
       "<matplotlib.figure.Figure at 0x7fe36ec0f890>"
      ]
     },
     "metadata": {},
     "output_type": "display_data"
    },
    {
     "data": {
      "image/png": "[encoded data removed]",
      "text/plain": [
       "<matplotlib.figure.Figure at 0x7fe36e940290>"
      ]
     },
     "metadata": {},
     "output_type": "display_data"
    },
    {
     "data": {
      "image/png": "[encoded data removed]",
      "text/plain": [
       "<matplotlib.figure.Figure at 0x7fe36e8e97d0>"
      ]
     },
     "metadata": {},
     "output_type": "display_data"
    }
   ],
   "source": [
    "out = pickle.load(open('../predictions/lr-tf-Austin-SanDiego-all.pkl','r'))\n",
    "for case in [2, 4]:\n",
    "    for setting in ['normal', 'transfer']:\n",
    "        pd.DataFrame(out[case]['True']['False'][setting]).T.plot()"
   ]
  },
  {
   "cell_type": "code",
   "execution_count": 53,
   "metadata": {
    "collapsed": false
   },
   "outputs": [
    {
     "data": {
      "text/html": [
       "<div>\n",
       "<style>\n",
       "    .dataframe thead tr:only-child th {\n",
       "        text-align: right;\n",
       "    }\n",
       "\n",
       "    .dataframe thead th {\n",
       "        text-align: left;\n",
       "    }\n",
       "\n",
       "    .dataframe tbody tr th {\n",
       "        vertical-align: top;\n",
       "    }\n",
       "</style>\n",
       "<table border=\"1\" class=\"dataframe\">\n",
       "  <thead>\n",
       "    <tr style=\"text-align: right;\">\n",
       "      <th></th>\n",
       "      <th>dw</th>\n",
       "      <th>fridge</th>\n",
       "      <th>hvac</th>\n",
       "      <th>mw</th>\n",
       "      <th>oven</th>\n",
       "      <th>wm</th>\n",
       "    </tr>\n",
       "  </thead>\n",
       "  <tbody>\n",
       "    <tr>\n",
       "      <th>0.0</th>\n",
       "      <td>1.825981</td>\n",
       "      <td>7.983982</td>\n",
       "      <td>28.294691</td>\n",
       "      <td>2.108620</td>\n",
       "      <td>2.442053</td>\n",
       "      <td>0.866586</td>\n",
       "    </tr>\n",
       "    <tr>\n",
       "      <th>6.0</th>\n",
       "      <td>1.972787</td>\n",
       "      <td>13.828324</td>\n",
       "      <td>22.933958</td>\n",
       "      <td>2.577025</td>\n",
       "      <td>2.665017</td>\n",
       "      <td>0.832345</td>\n",
       "    </tr>\n",
       "    <tr>\n",
       "      <th>7.0</th>\n",
       "      <td>1.972787</td>\n",
       "      <td>13.828324</td>\n",
       "      <td>22.933958</td>\n",
       "      <td>2.577025</td>\n",
       "      <td>2.665017</td>\n",
       "      <td>0.832345</td>\n",
       "    </tr>\n",
       "    <tr>\n",
       "      <th>8.0</th>\n",
       "      <td>1.972787</td>\n",
       "      <td>13.828324</td>\n",
       "      <td>22.933958</td>\n",
       "      <td>2.577025</td>\n",
       "      <td>2.665017</td>\n",
       "      <td>0.832345</td>\n",
       "    </tr>\n",
       "    <tr>\n",
       "      <th>9.0</th>\n",
       "      <td>2.009597</td>\n",
       "      <td>13.629195</td>\n",
       "      <td>22.077166</td>\n",
       "      <td>2.572320</td>\n",
       "      <td>2.700422</td>\n",
       "      <td>0.847617</td>\n",
       "    </tr>\n",
       "    <tr>\n",
       "      <th>10.0</th>\n",
       "      <td>2.009597</td>\n",
       "      <td>13.629195</td>\n",
       "      <td>22.077166</td>\n",
       "      <td>2.572320</td>\n",
       "      <td>2.700422</td>\n",
       "      <td>0.847617</td>\n",
       "    </tr>\n",
       "    <tr>\n",
       "      <th>15.0</th>\n",
       "      <td>1.841005</td>\n",
       "      <td>9.750262</td>\n",
       "      <td>18.057661</td>\n",
       "      <td>2.171511</td>\n",
       "      <td>2.461591</td>\n",
       "      <td>0.782759</td>\n",
       "    </tr>\n",
       "    <tr>\n",
       "      <th>20.0</th>\n",
       "      <td>1.819563</td>\n",
       "      <td>9.491846</td>\n",
       "      <td>17.578985</td>\n",
       "      <td>2.157076</td>\n",
       "      <td>2.467203</td>\n",
       "      <td>0.791445</td>\n",
       "    </tr>\n",
       "    <tr>\n",
       "      <th>30.0</th>\n",
       "      <td>1.878657</td>\n",
       "      <td>8.914198</td>\n",
       "      <td>17.159224</td>\n",
       "      <td>2.142638</td>\n",
       "      <td>2.479270</td>\n",
       "      <td>0.779314</td>\n",
       "    </tr>\n",
       "    <tr>\n",
       "      <th>40.0</th>\n",
       "      <td>1.865577</td>\n",
       "      <td>9.050069</td>\n",
       "      <td>16.372204</td>\n",
       "      <td>2.086076</td>\n",
       "      <td>2.392515</td>\n",
       "      <td>0.783598</td>\n",
       "    </tr>\n",
       "    <tr>\n",
       "      <th>50.0</th>\n",
       "      <td>1.824459</td>\n",
       "      <td>9.520077</td>\n",
       "      <td>16.540056</td>\n",
       "      <td>2.135190</td>\n",
       "      <td>2.533875</td>\n",
       "      <td>0.787135</td>\n",
       "    </tr>\n",
       "    <tr>\n",
       "      <th>60.0</th>\n",
       "      <td>1.833711</td>\n",
       "      <td>8.720909</td>\n",
       "      <td>16.056553</td>\n",
       "      <td>2.091030</td>\n",
       "      <td>2.362456</td>\n",
       "      <td>0.766598</td>\n",
       "    </tr>\n",
       "    <tr>\n",
       "      <th>70.0</th>\n",
       "      <td>1.868505</td>\n",
       "      <td>8.115857</td>\n",
       "      <td>14.844916</td>\n",
       "      <td>2.015866</td>\n",
       "      <td>2.219651</td>\n",
       "      <td>0.767762</td>\n",
       "    </tr>\n",
       "    <tr>\n",
       "      <th>80.0</th>\n",
       "      <td>1.875099</td>\n",
       "      <td>9.160183</td>\n",
       "      <td>15.260799</td>\n",
       "      <td>1.989725</td>\n",
       "      <td>2.438249</td>\n",
       "      <td>0.793991</td>\n",
       "    </tr>\n",
       "    <tr>\n",
       "      <th>90.0</th>\n",
       "      <td>1.842113</td>\n",
       "      <td>8.378971</td>\n",
       "      <td>15.503180</td>\n",
       "      <td>1.910411</td>\n",
       "      <td>2.387739</td>\n",
       "      <td>0.765833</td>\n",
       "    </tr>\n",
       "    <tr>\n",
       "      <th>100.0</th>\n",
       "      <td>1.844209</td>\n",
       "      <td>8.873344</td>\n",
       "      <td>15.233266</td>\n",
       "      <td>1.833401</td>\n",
       "      <td>2.559094</td>\n",
       "      <td>0.752938</td>\n",
       "    </tr>\n",
       "  </tbody>\n",
       "</table>\n",
       "</div>"
      ],
      "text/plain": [
       "             dw     fridge       hvac        mw      oven        wm\n",
       "0.0    1.825981   7.983982  28.294691  2.108620  2.442053  0.866586\n",
       "6.0    1.972787  13.828324  22.933958  2.577025  2.665017  0.832345\n",
       "7.0    1.972787  13.828324  22.933958  2.577025  2.665017  0.832345\n",
       "8.0    1.972787  13.828324  22.933958  2.577025  2.665017  0.832345\n",
       "9.0    2.009597  13.629195  22.077166  2.572320  2.700422  0.847617\n",
       "10.0   2.009597  13.629195  22.077166  2.572320  2.700422  0.847617\n",
       "15.0   1.841005   9.750262  18.057661  2.171511  2.461591  0.782759\n",
       "20.0   1.819563   9.491846  17.578985  2.157076  2.467203  0.791445\n",
       "30.0   1.878657   8.914198  17.159224  2.142638  2.479270  0.779314\n",
       "40.0   1.865577   9.050069  16.372204  2.086076  2.392515  0.783598\n",
       "50.0   1.824459   9.520077  16.540056  2.135190  2.533875  0.787135\n",
       "60.0   1.833711   8.720909  16.056553  2.091030  2.362456  0.766598\n",
       "70.0   1.868505   8.115857  14.844916  2.015866  2.219651  0.767762\n",
       "80.0   1.875099   9.160183  15.260799  1.989725  2.438249  0.793991\n",
       "90.0   1.842113   8.378971  15.503180  1.910411  2.387739  0.765833\n",
       "100.0  1.844209   8.873344  15.233266  1.833401  2.559094  0.752938"
      ]
     },
     "execution_count": 53,
     "metadata": {},
     "output_type": "execute_result"
    }
   ],
   "source": [
    "pd.DataFrame(out[case]['True']['True'][setting]).T"
   ]
  },
  {
   "cell_type": "code",
   "execution_count": null,
   "metadata": {
    "collapsed": true
   },
   "outputs": [],
   "source": [
    "error = (pd.DataFrame(out[case][constant][static][transfer]).T*pd.Series(contri['SanDiego'])).sum(axis=1)"
   ]
  }
 ],
 "metadata": {
  "kernelspec": {
   "display_name": "Python 2",
   "language": "python",
   "name": "python2"
  },
  "language_info": {
   "codemirror_mode": {
    "name": "ipython",
    "version": 2
   },
   "file_extension": ".py",
   "mimetype": "text/x-python",
   "name": "python",
   "nbconvert_exporter": "python",
   "pygments_lexer": "ipython2",
   "version": "2.7.13"
  }
 },
 "nbformat": 4,
 "nbformat_minor": 2
}
