{
 "cells": [
  {
   "cell_type": "code",
   "execution_count": 157,
   "metadata": {
    "collapsed": true
   },
   "outputs": [],
   "source": [
    "from sklearn.metrics import mean_squared_error\n",
    "\n",
    "from create_matrix import *\n",
    "\n",
    "\n",
    "def get_tensor(df, start, stop):\n",
    "#     start, stop = 1, 13\n",
    "    energy_cols = np.array(\n",
    "        [['%s_%d' % (appliance, month) for month in range(start, stop)] for appliance in APPLIANCES_ORDER]).flatten()\n",
    "\n",
    "    dfc = df.copy()\n",
    "\n",
    "    df = dfc[energy_cols]\n",
    "\n",
    "    tensor = df.values.reshape((len(df), 7, stop - start))\n",
    "    return tensor"
   ]
  },
  {
   "cell_type": "code",
   "execution_count": 158,
   "metadata": {},
   "outputs": [],
   "source": [
    "import pickle\n",
    "H_au = pickle.load(open(os.path.expanduser('../predictions/case-2-graph_Austin_True_1_13_Hs.pkl'), 'r'))\n"
   ]
  },
  {
   "cell_type": "code",
<<<<<<< HEAD
   "execution_count": 250,
   "metadata": {
    "collapsed": false
   },
   "outputs": [],
   "source": [
    "H_sd = pickle.load(open(os.path.expanduser('/home/yj9xs/git/scalable-nilm/aaai18/predictions/H/transfer/case-2/True/True/Austin-SanDiego-0-10.0.pkl'), 'r'))\n",
    "H_error_home = pickle.load(open(os.path.expanduser('/home/yj9xs/git/scalable-nilm/aaai18/predictions/H/transfer/case-2/True/True/Austin-SanDiego-0-10.0_error_home.pkl'), 'r'))\n",
    "H_error = pickle.load(open(os.path.expanduser('/home/yj9xs/git/scalable-nilm/aaai18/predictions/H/transfer/case-2/True/True/Austin-SanDiego-0-10.0_error.pkl'), 'r'))\n",
    "H_params = pickle.load(open(os.path.expanduser('/home/yj9xs/git/scalable-nilm/aaai18/predictions/H/transfer/case-2/True/True/Austin-SanDiego-0-10.0_params.pkl'), 'r'))\n",
    "H_error_app = pickle.load(open(os.path.expanduser('/home/yj9xs/git/scalable-nilm/aaai18/predictions/H/transfer/case-2/True/True/Austin-SanDiego-0-10.0_error_home_app.pkl'), 'r'))"
=======
   "execution_count": 159,
   "metadata": {},
   "outputs": [],
   "source": [
    "H_sd = pickle.load(open(os.path.expanduser('../predictions/H/transfer/case-2/True/True/Austin-SanDiego-0-10.0.pkl'), 'r'))\n",
    "H_error_home = pickle.load(open(os.path.expanduser('../predictions/H/transfer/case-2/True/True/Austin-SanDiego-0-10.0_error_home.pkl'), 'r'))\n",
    "H_error = pickle.load(open(os.path.expanduser('../predictions/H/transfer/case-2/True/True/Austin-SanDiego-0-10.0_error.pkl'), 'r'))\n",
    "H_params = pickle.load(open(os.path.expanduser('../predictions/H/transfer/case-2/True/True/Austin-SanDiego-0-10.0_params.pkl'), 'r'))"
>>>>>>> 4b8032832f00c39c105e8705285545de524db60a
   ]
  },
  {
   "cell_type": "code",
<<<<<<< HEAD
   "execution_count": 264,
   "metadata": {
    "collapsed": false
   },
=======
   "execution_count": 245,
   "metadata": {},
>>>>>>> 4b8032832f00c39c105e8705285545de524db60a
   "outputs": [
    {
     "data": {
      "text/html": [
       "<div>\n",
       "<style>\n",
       "    .dataframe thead tr:only-child th {\n",
       "        text-align: right;\n",
       "    }\n",
       "\n",
       "    .dataframe thead th {\n",
       "        text-align: left;\n",
       "    }\n",
       "\n",
       "    .dataframe tbody tr th {\n",
       "        vertical-align: top;\n",
       "    }\n",
       "</style>\n",
       "<table border=\"1\" class=\"dataframe\">\n",
       "  <thead>\n",
       "    <tr style=\"text-align: right;\">\n",
       "      <th></th>\n",
       "      <th>dw</th>\n",
       "      <th>fridge</th>\n",
       "      <th>hvac</th>\n",
       "      <th>mw</th>\n",
       "      <th>oven</th>\n",
       "      <th>wm</th>\n",
       "    </tr>\n",
       "  </thead>\n",
       "  <tbody>\n",
       "    <tr>\n",
       "      <th>54</th>\n",
       "      <td>0.744976</td>\n",
       "      <td>6.688591</td>\n",
       "      <td>23.725515</td>\n",
       "      <td>3.074836</td>\n",
       "      <td>0.000000</td>\n",
       "      <td>2.291299</td>\n",
       "    </tr>\n",
       "    <tr>\n",
       "      <th>203</th>\n",
       "      <td>5.597398</td>\n",
       "      <td>5.628926</td>\n",
       "      <td>29.511646</td>\n",
       "      <td>3.274491</td>\n",
       "      <td>4.291236</td>\n",
       "      <td>0.000000</td>\n",
       "    </tr>\n",
       "    <tr>\n",
       "      <th>527</th>\n",
       "      <td>2.218691</td>\n",
       "      <td>0.119318</td>\n",
       "      <td>46.509284</td>\n",
       "      <td>2.823507</td>\n",
       "      <td>1.956890</td>\n",
       "      <td>0.000000</td>\n",
       "    </tr>\n",
       "    <tr>\n",
       "      <th>1450</th>\n",
       "      <td>2.732370</td>\n",
       "      <td>4.185579</td>\n",
       "      <td>27.141630</td>\n",
       "      <td>3.791777</td>\n",
       "      <td>2.131792</td>\n",
       "      <td>0.000000</td>\n",
       "    </tr>\n",
       "    <tr>\n",
       "      <th>1524</th>\n",
       "      <td>6.714528</td>\n",
       "      <td>3.964512</td>\n",
       "      <td>38.679247</td>\n",
       "      <td>7.493938</td>\n",
       "      <td>6.085409</td>\n",
       "      <td>0.000000</td>\n",
       "    </tr>\n",
       "    <tr>\n",
       "      <th>1731</th>\n",
       "      <td>5.353227</td>\n",
       "      <td>2.029273</td>\n",
       "      <td>24.720813</td>\n",
       "      <td>5.210714</td>\n",
       "      <td>3.742591</td>\n",
       "      <td>0.000000</td>\n",
       "    </tr>\n",
       "    <tr>\n",
       "      <th>2031</th>\n",
       "      <td>1.278192</td>\n",
       "      <td>10.045263</td>\n",
       "      <td>18.213433</td>\n",
       "      <td>4.969290</td>\n",
       "      <td>0.000000</td>\n",
       "      <td>5.076975</td>\n",
       "    </tr>\n",
       "    <tr>\n",
       "      <th>2354</th>\n",
       "      <td>3.522818</td>\n",
       "      <td>0.000000</td>\n",
       "      <td>25.190531</td>\n",
       "      <td>2.999543</td>\n",
       "      <td>0.000000</td>\n",
       "      <td>4.942565</td>\n",
       "    </tr>\n",
       "    <tr>\n",
       "      <th>2606</th>\n",
       "      <td>6.500415</td>\n",
       "      <td>0.000000</td>\n",
       "      <td>36.677619</td>\n",
       "      <td>5.584875</td>\n",
       "      <td>4.644428</td>\n",
       "      <td>0.000000</td>\n",
       "    </tr>\n",
       "    <tr>\n",
       "      <th>3687</th>\n",
       "      <td>5.625647</td>\n",
       "      <td>8.236030</td>\n",
       "      <td>24.304669</td>\n",
       "      <td>4.511417</td>\n",
       "      <td>4.179813</td>\n",
       "      <td>0.000000</td>\n",
       "    </tr>\n",
       "    <tr>\n",
       "      <th>3864</th>\n",
       "      <td>6.184845</td>\n",
       "      <td>7.957880</td>\n",
       "      <td>35.048821</td>\n",
       "      <td>5.690174</td>\n",
       "      <td>6.384687</td>\n",
       "      <td>0.000000</td>\n",
       "    </tr>\n",
       "    <tr>\n",
       "      <th>3938</th>\n",
       "      <td>2.432684</td>\n",
       "      <td>14.299435</td>\n",
       "      <td>12.241098</td>\n",
       "      <td>4.097088</td>\n",
       "      <td>0.000000</td>\n",
       "      <td>4.800597</td>\n",
       "    </tr>\n",
       "    <tr>\n",
       "      <th>4083</th>\n",
       "      <td>5.725726</td>\n",
       "      <td>14.471803</td>\n",
       "      <td>18.743802</td>\n",
       "      <td>5.669878</td>\n",
       "      <td>0.000000</td>\n",
       "      <td>5.019693</td>\n",
       "    </tr>\n",
       "    <tr>\n",
       "      <th>4095</th>\n",
       "      <td>2.020241</td>\n",
       "      <td>1.446489</td>\n",
       "      <td>31.266174</td>\n",
       "      <td>3.610743</td>\n",
       "      <td>2.450619</td>\n",
       "      <td>0.000000</td>\n",
       "    </tr>\n",
       "    <tr>\n",
       "      <th>4329</th>\n",
       "      <td>3.323338</td>\n",
       "      <td>7.044084</td>\n",
       "      <td>25.652849</td>\n",
       "      <td>3.732252</td>\n",
       "      <td>0.000000</td>\n",
       "      <td>3.864611</td>\n",
       "    </tr>\n",
       "    <tr>\n",
       "      <th>4495</th>\n",
       "      <td>2.946089</td>\n",
       "      <td>13.935452</td>\n",
       "      <td>5.878057</td>\n",
       "      <td>2.156971</td>\n",
       "      <td>0.000000</td>\n",
       "      <td>0.000000</td>\n",
       "    </tr>\n",
       "    <tr>\n",
       "      <th>4761</th>\n",
       "      <td>2.624799</td>\n",
       "      <td>17.693041</td>\n",
       "      <td>9.715839</td>\n",
       "      <td>2.862427</td>\n",
       "      <td>1.792303</td>\n",
       "      <td>0.000000</td>\n",
       "    </tr>\n",
       "    <tr>\n",
       "      <th>4934</th>\n",
       "      <td>5.352568</td>\n",
       "      <td>20.489767</td>\n",
       "      <td>18.978906</td>\n",
       "      <td>3.274408</td>\n",
       "      <td>2.367343</td>\n",
       "      <td>0.000000</td>\n",
       "    </tr>\n",
       "    <tr>\n",
       "      <th>5909</th>\n",
       "      <td>1.775044</td>\n",
       "      <td>13.611292</td>\n",
       "      <td>0.000000</td>\n",
       "      <td>3.760845</td>\n",
       "      <td>0.000000</td>\n",
       "      <td>2.180430</td>\n",
       "    </tr>\n",
       "    <tr>\n",
       "      <th>5938</th>\n",
       "      <td>4.103149</td>\n",
       "      <td>14.766964</td>\n",
       "      <td>10.368381</td>\n",
       "      <td>1.795107</td>\n",
       "      <td>3.971134</td>\n",
       "      <td>0.000000</td>\n",
       "    </tr>\n",
       "    <tr>\n",
       "      <th>6268</th>\n",
       "      <td>2.661234</td>\n",
       "      <td>4.444020</td>\n",
       "      <td>0.000000</td>\n",
       "      <td>5.445312</td>\n",
       "      <td>0.000000</td>\n",
       "      <td>4.981471</td>\n",
       "    </tr>\n",
       "    <tr>\n",
       "      <th>6377</th>\n",
       "      <td>5.407053</td>\n",
       "      <td>9.500931</td>\n",
       "      <td>14.419026</td>\n",
       "      <td>5.113315</td>\n",
       "      <td>0.000000</td>\n",
       "      <td>4.262575</td>\n",
       "    </tr>\n",
       "    <tr>\n",
       "      <th>6429</th>\n",
       "      <td>5.556247</td>\n",
       "      <td>17.225110</td>\n",
       "      <td>27.596769</td>\n",
       "      <td>5.048817</td>\n",
       "      <td>0.000000</td>\n",
       "      <td>0.000000</td>\n",
       "    </tr>\n",
       "    <tr>\n",
       "      <th>6497</th>\n",
       "      <td>5.388693</td>\n",
       "      <td>4.215174</td>\n",
       "      <td>24.339583</td>\n",
       "      <td>2.545412</td>\n",
       "      <td>3.938136</td>\n",
       "      <td>0.000000</td>\n",
       "    </tr>\n",
       "    <tr>\n",
       "      <th>6547</th>\n",
       "      <td>5.453890</td>\n",
       "      <td>14.813242</td>\n",
       "      <td>16.027310</td>\n",
       "      <td>3.225175</td>\n",
       "      <td>2.850707</td>\n",
       "      <td>0.000000</td>\n",
       "    </tr>\n",
       "    <tr>\n",
       "      <th>7062</th>\n",
       "      <td>2.130033</td>\n",
       "      <td>6.917614</td>\n",
       "      <td>1.010347</td>\n",
       "      <td>3.225849</td>\n",
       "      <td>4.528580</td>\n",
       "      <td>0.000000</td>\n",
       "    </tr>\n",
       "    <tr>\n",
       "      <th>7114</th>\n",
       "      <td>6.127218</td>\n",
       "      <td>8.677723</td>\n",
       "      <td>30.893423</td>\n",
       "      <td>3.336818</td>\n",
       "      <td>3.953507</td>\n",
       "      <td>0.000000</td>\n",
       "    </tr>\n",
       "    <tr>\n",
       "      <th>7409</th>\n",
       "      <td>4.806619</td>\n",
       "      <td>6.443386</td>\n",
       "      <td>34.176978</td>\n",
       "      <td>5.706989</td>\n",
       "      <td>0.000000</td>\n",
       "      <td>5.131242</td>\n",
       "    </tr>\n",
       "    <tr>\n",
       "      <th>7639</th>\n",
       "      <td>5.853584</td>\n",
       "      <td>7.158232</td>\n",
       "      <td>17.346499</td>\n",
       "      <td>5.073629</td>\n",
       "      <td>0.000000</td>\n",
       "      <td>5.586138</td>\n",
       "    </tr>\n",
       "    <tr>\n",
       "      <th>8061</th>\n",
       "      <td>8.462571</td>\n",
       "      <td>4.138911</td>\n",
       "      <td>32.915754</td>\n",
       "      <td>8.545809</td>\n",
       "      <td>7.023833</td>\n",
       "      <td>0.000000</td>\n",
       "    </tr>\n",
       "    <tr>\n",
       "      <th>8342</th>\n",
       "      <td>7.421305</td>\n",
       "      <td>20.507045</td>\n",
       "      <td>10.776344</td>\n",
       "      <td>4.240572</td>\n",
       "      <td>5.568500</td>\n",
       "      <td>0.000000</td>\n",
       "    </tr>\n",
       "    <tr>\n",
       "      <th>8574</th>\n",
       "      <td>4.966869</td>\n",
       "      <td>2.981130</td>\n",
       "      <td>14.512065</td>\n",
       "      <td>4.621386</td>\n",
       "      <td>0.000000</td>\n",
       "      <td>4.683097</td>\n",
       "    </tr>\n",
       "    <tr>\n",
       "      <th>8733</th>\n",
       "      <td>0.250009</td>\n",
       "      <td>3.378556</td>\n",
       "      <td>24.860503</td>\n",
       "      <td>2.650067</td>\n",
       "      <td>0.000000</td>\n",
       "      <td>3.915885</td>\n",
       "    </tr>\n",
       "    <tr>\n",
       "      <th>9213</th>\n",
       "      <td>2.362766</td>\n",
       "      <td>10.933955</td>\n",
       "      <td>21.673491</td>\n",
       "      <td>4.578367</td>\n",
       "      <td>0.000000</td>\n",
       "      <td>4.214454</td>\n",
       "    </tr>\n",
       "    <tr>\n",
       "      <th>9370</th>\n",
       "      <td>2.266116</td>\n",
       "      <td>3.094134</td>\n",
       "      <td>43.099323</td>\n",
       "      <td>3.517711</td>\n",
       "      <td>2.948253</td>\n",
       "      <td>0.000000</td>\n",
       "    </tr>\n",
       "    <tr>\n",
       "      <th>9585</th>\n",
       "      <td>2.624459</td>\n",
       "      <td>4.818119</td>\n",
       "      <td>33.375577</td>\n",
       "      <td>1.099022</td>\n",
       "      <td>0.000000</td>\n",
       "      <td>3.723439</td>\n",
       "    </tr>\n",
       "    <tr>\n",
       "      <th>9612</th>\n",
       "      <td>6.552372</td>\n",
       "      <td>6.840403</td>\n",
       "      <td>40.382312</td>\n",
       "      <td>4.525703</td>\n",
       "      <td>4.801690</td>\n",
       "      <td>0.000000</td>\n",
       "    </tr>\n",
       "    <tr>\n",
       "      <th>9775</th>\n",
       "      <td>4.629090</td>\n",
       "      <td>5.484882</td>\n",
       "      <td>13.962287</td>\n",
       "      <td>0.000000</td>\n",
       "      <td>0.000000</td>\n",
       "      <td>3.861705</td>\n",
       "    </tr>\n",
       "    <tr>\n",
       "      <th>9836</th>\n",
       "      <td>3.766569</td>\n",
       "      <td>9.238984</td>\n",
       "      <td>16.421705</td>\n",
       "      <td>2.881708</td>\n",
       "      <td>0.000000</td>\n",
       "      <td>0.000000</td>\n",
       "    </tr>\n",
       "  </tbody>\n",
       "</table>\n",
       "</div>"
      ],
      "text/plain": [
       "            dw     fridge       hvac        mw      oven        wm\n",
       "54    0.744976   6.688591  23.725515  3.074836  0.000000  2.291299\n",
       "203   5.597398   5.628926  29.511646  3.274491  4.291236  0.000000\n",
       "527   2.218691   0.119318  46.509284  2.823507  1.956890  0.000000\n",
       "1450  2.732370   4.185579  27.141630  3.791777  2.131792  0.000000\n",
       "1524  6.714528   3.964512  38.679247  7.493938  6.085409  0.000000\n",
       "1731  5.353227   2.029273  24.720813  5.210714  3.742591  0.000000\n",
       "2031  1.278192  10.045263  18.213433  4.969290  0.000000  5.076975\n",
       "2354  3.522818   0.000000  25.190531  2.999543  0.000000  4.942565\n",
       "2606  6.500415   0.000000  36.677619  5.584875  4.644428  0.000000\n",
       "3687  5.625647   8.236030  24.304669  4.511417  4.179813  0.000000\n",
       "3864  6.184845   7.957880  35.048821  5.690174  6.384687  0.000000\n",
       "3938  2.432684  14.299435  12.241098  4.097088  0.000000  4.800597\n",
       "4083  5.725726  14.471803  18.743802  5.669878  0.000000  5.019693\n",
       "4095  2.020241   1.446489  31.266174  3.610743  2.450619  0.000000\n",
       "4329  3.323338   7.044084  25.652849  3.732252  0.000000  3.864611\n",
       "4495  2.946089  13.935452   5.878057  2.156971  0.000000  0.000000\n",
       "4761  2.624799  17.693041   9.715839  2.862427  1.792303  0.000000\n",
       "4934  5.352568  20.489767  18.978906  3.274408  2.367343  0.000000\n",
       "5909  1.775044  13.611292   0.000000  3.760845  0.000000  2.180430\n",
       "5938  4.103149  14.766964  10.368381  1.795107  3.971134  0.000000\n",
       "6268  2.661234   4.444020   0.000000  5.445312  0.000000  4.981471\n",
       "6377  5.407053   9.500931  14.419026  5.113315  0.000000  4.262575\n",
       "6429  5.556247  17.225110  27.596769  5.048817  0.000000  0.000000\n",
       "6497  5.388693   4.215174  24.339583  2.545412  3.938136  0.000000\n",
       "6547  5.453890  14.813242  16.027310  3.225175  2.850707  0.000000\n",
       "7062  2.130033   6.917614   1.010347  3.225849  4.528580  0.000000\n",
       "7114  6.127218   8.677723  30.893423  3.336818  3.953507  0.000000\n",
       "7409  4.806619   6.443386  34.176978  5.706989  0.000000  5.131242\n",
       "7639  5.853584   7.158232  17.346499  5.073629  0.000000  5.586138\n",
       "8061  8.462571   4.138911  32.915754  8.545809  7.023833  0.000000\n",
       "8342  7.421305  20.507045  10.776344  4.240572  5.568500  0.000000\n",
       "8574  4.966869   2.981130  14.512065  4.621386  0.000000  4.683097\n",
       "8733  0.250009   3.378556  24.860503  2.650067  0.000000  3.915885\n",
       "9213  2.362766  10.933955  21.673491  4.578367  0.000000  4.214454\n",
       "9370  2.266116   3.094134  43.099323  3.517711  2.948253  0.000000\n",
       "9585  2.624459   4.818119  33.375577  1.099022  0.000000  3.723439\n",
       "9612  6.552372   6.840403  40.382312  4.525703  4.801690  0.000000\n",
       "9775  4.629090   5.484882  13.962287  0.000000  0.000000  3.861705\n",
       "9836  3.766569   9.238984  16.421705  2.881708  0.000000  0.000000"
      ]
     },
     "execution_count": 264,
     "metadata": {},
     "output_type": "execute_result"
    }
   ],
   "source": [
    "app_error = H_error_app[lr][iters][season][home][lam]\n",
    "# (app_error.values)[:,1\n",
    "app_error\n",
    "# app_error.loc[app_error['hvac'].idxmax()]\n",
    "# app_error.nlargest(3, 'hvac').index[0]"
   ]
  },
  {
   "cell_type": "code",
<<<<<<< HEAD
   "execution_count": 277,
   "metadata": {
    "collapsed": false
   },
=======
   "execution_count": 247,
   "metadata": {},
>>>>>>> 4b8032832f00c39c105e8705285545de524db60a
   "outputs": [],
   "source": [
    "best_show = [\n",
    "            [2, 1300, 2,3,0.001],\n",
    "            [2, 700, 2, 3, 0.001]\n",
    "]"
   ]
  },
  {
   "cell_type": "code",
   "execution_count": 282,
   "metadata": {
    "scrolled": false
   },
   "outputs": [
    {
     "name": "stdout",
     "output_type": "stream",
     "text": [
      "9.64394298538\n",
      "~/git/task3/demo_2_1300_2_3_0.001.png\n",
      "10.6814626598\n",
      "~/git/task3/demo_2_700_2_3_0.001.png\n"
     ]
    },
    {
     "data": {
      "image/png": "iVBORw0KGgoAAAANSUhEUgAAAXgAAAD8CAYAAAB9y7/cAAAABHNCSVQICAgIfAhkiAAAAAlwSFlz\nAAALEgAACxIB0t1+/AAAIABJREFUeJzs3Xl4VNX5wPHvubNk3zdCQghLIIR9R9xARBAREDesioqU\nat1qa6211dbaWtx+da9bFZcKapVFDSD7JvsOYU+AJITs+zYz957fHxNCJplAwJAh4Xyeh8fMnXvv\nvBPwnTPvPfc9QkqJoiiK0vZong5AURRFuTBUglcURWmjVIJXFEVpo1SCVxRFaaNUglcURWmjVIJX\nFEVpo1SCVxRFaaNUglcURWmjVIJXFEVpo8yeeuHw8HAZHx/vqZdXFEVplbZu3ZonpYxoyr4eS/Dx\n8fFs2bLFUy+vKIrSKgkhjjV1X1WiURRFaaNUglcURWmjVIJXFEVpo1SCVxRFaaNUglcURWmjVIJX\nFEVpo1SCVxRFaaNUglcURWmjLvkEL6WkotKOQzc8HYqiKEqz8tidrBeDlMN5rNqagc2mIwT07hbB\nVYNiMWmX/OeeoihtwCWb4NMyilm64bjLyH33wVwMQzJqWEcPRqYoitI8Ltmh6oadJxqUZRy6ZO/h\nPOwO3UNRKYqiNJ9LNsEXl1c38oygssrRorEoiqJcCJdsgo8K83O7XdMEfr6WFo5GURSl+V2yCf6K\n/jGYza5v32zSuLx/e3WRVVGUNuGSzWQRob5MGZtIx/aBeFtNhAV7M+aKePr3iPJ0aIqiKM3ikp1F\nAxAZ5svNo7t5OgxFUZQLokkjeCHEWCHEASHEYSHEU43sM0IIsUMIsVcIsap5w1QURVHO1VlH8EII\nE/A2MBrIADYLIRZIKVPq7BMMvAOMlVIeF0JEXqiAFUVRlKZpygh+CHBYSpkqpbQBc4CJ9fb5BfCt\nlPI4gJQyp3nDVBRFUc5VUxJ8DJBe53FGzba6ugEhQoiVQoitQoipzRWgoiiKcn6a6yKrGRgIjAJ8\ngPVCiA1SyoN1dxJCzABmAMTFxTXTSyuKoijuNGUEnwl0qPM4tmZbXRnAYilluZQyD1gN9K1/Iinl\n+1LKQVLKQREREecbs6IoitIETUnwm4EEIUQnIYQVmAIsqLfPfOAKIYRZCOELDAX2NW+oiqIoyrk4\na4lGSukQQjwMLAZMwEdSyr1CiAdqnn9XSrlPCLEI2AUYwIdSyj0XMnBFURTlzISU0iMvPGjQILll\nyxaPvLaiKEprJYTYKqUc1JR9L9lWBYqiKG2dSvCKoihtlErwiqIobZRK8IqiKG2USvCKoihtlErw\niqIobZRK8IqiKG2USvCKoihtlErwiqIobZRK8IqiKG2USvCKoihtlErwiqIobZRK8IqiKG2USvCK\noihtlErwiqIobZRK8IqiKG2USvCKoihtlErwiqIobZRK8IqiKG2USvCKoihtlErwiqIobVSTErwQ\nYqwQ4oAQ4rAQ4ik3z48QQhQLIXbU/Hm2+UNVlEvHieO7WL/yUwrzjnk6FKUVM59tByGECXgbGA1k\nAJuFEAuklCn1dl0jpRx/AWJUlEtGZXkhv7x7OAtXHKJrnA8Hj1by4L1X849/LUFo6gu3cm6a8i9m\nCHBYSpkqpbQBc4CJFzYs5Zy9/jr06gU9e8JrrzV8Xkp49FHo2hX69IFt21o+RuWsfv/IGGxVORxf\n0YONX3dh/8LuLF2xkfde+5WnQ1NaoaYk+Bggvc7jjJpt9Q0XQuwSQiwUQvRsluiUptmzBz74ADZt\ngp074fvv4fBh130WLoRDh5x/3n8fHnzQM7EqjaquLOWzr7fxxp/a4edrAiAq3MJLv2/Hux9+6eHo\nlNaoub7zbQPipJR9gDeBee52EkLMEEJsEUJsyc3NbaaXVti3D4YOBV9fMJvh6qvh229d95k/H6ZO\nBSFg2DAoKoKsLM/Eq7hVUV6AYUiiwl0rp51ireTkV3koKqU1a0qCzwQ61HkcW7OtlpSyREpZVvNz\nMmARQoTXP5GU8n0p5SAp5aCIiIifEbZSVV3N7K+/4+PP/kdJXDysWQP5+VBRAcnJkJ7uekBmJnSo\n89cYG+vcplw0gkM70KmDHwtXl7ps/zK5iKsv6+ShqJTW7KwXWYHNQIIQohPOxD4F+EXdHYQQ7YBs\nKaUUQgzB+cGR39zBKk7fLVzO1Lt+QWBwOF5e3jycfpi54ydy3XXXgZ8f9OsHJpOnw1TOkdA0Xn7x\nOabe/yS/vz+SAUne/LiunFlzC1i57FNPh6e0QmdN8FJKhxDiYWAxYAI+klLuFUI8UPP8u8AtwINC\nCAdQCUyRUsoLGPclq7iklDvvuI3b7vsTSf2uBOBE+iEmv/RrVq5aw6D+veDpp50j9LpiYlxH9RkZ\nzm3KRWXMxMdZFNWRN1/7K9+vOkn/vgls+Gke8QnDPB2a0goJT+XhQYMGyS1btnjktVuz19/+mHff\ne59f/u5Nl+1rPvknwV3j+PjPj8N118GGDRAcfHqHH36At95ylm82bnTOqNm0qYWjVxTl5xJCbJVS\nDmrKvk0p0SgXkcKiIgKCwhps//vu9QRuXQYbl8PbbzuT+7vvOp984AEYN86Z3Lt2dV6M/fjjFo5c\nUZSWphJ8K3PThOt5ZeZzlJUW4R/gHKE7HHau8/Xn7//3BvfdfcvpnR944PTPQjgTv6Iol4xWm+AP\nHC1g/Y4TlJbbCA/x4cqBscRGBXgkFt0wOJJeTHZeOUH+XnTvFIqX9cJc5OzbO5FbptzLW3+fxuXX\n3o7Vy4eNq+bSIa4TU39x0wV5TUVRWqdWWYPfdSCXlZvTcehG7TazSXDz6G7EtHCSr7bpzFm4j5Iy\nG3aHgdkkMJk0bh+bSHiIzwV73c/nzGPWJ59jq65m4qSJPPrgvVgsrfbzWlGUJjqXGnyrS/BSSv79\n5Q6qqvUGz7WP9GfK9YnNEV6Trdqczo79OeiG6+8xItSHu29UN/QqitK8ziXBt7ruRVXVOna74fa5\n/MLKFo4G9qcVNEjuAPlFVVRW2Vs8HkVRlFNaXYK3WjU0Tbh9LsDf2sLRQCOhACDEGZ5UFEW5wFpd\ngjdpGgOTojCbXUM3mzSG92vf4vEkdQ3HZHJN5EJAVJgv3l6qJq4oiue0ugQPcFm/9gzqGYXF7BzN\n+3qbGTUsjq5xIS0ey5De0USF+tbGYjFr+HpbGHdl5xaPRVEUpa5Wd5G1LsOQ2B0GVovm0XKIlJKM\n7DKy88sJ9PeiS2wQJlOr/OxUFOUid8ncyapp4oLNNz8XQgg6tAugQ7uGUzTtDp2jmSUYUtIxOlCV\nbRRFaTEq21xARzOL+W7lEU59udANyaihHemV0KCTsqIoSrNTdYQLpNrmYMGKI9gdBja784+uS5Zv\nPEZhiVq8QVGUC08l+AvkSHoR7i4LGIZkf2pBywekKMolp20m+KoqGDIE+vZ1LkL9l7803OcCL0Jt\ntxu4u4BtSLA5Gt6FqyiK0tzaZoL38oLly50LUO/YAYsWOfuj13WBF6GOjwnC3fwki1mjS2ywm2cU\nRVGaV9tM8EKAv7/zZ7vd+ad+veQCL0IdFODF4J7tMNeZLmkxa3TpEExMlH+zvY6iKEpj2swsmvKK\nShb8sBSTSWPCDdfibTbDwIFw+DA89BAMHep6QGOLUEdHN1tMw/vHEB8TxN4jeei6JLFTKB3bB6oW\nBhfAwT0rOJCygaTeV9Clx5WeDkdRLgptIsF/8t9veeShGYSFR2NIyYzpObz7/kdM2bHDOTK/6SbY\nswd69Wrx2NpH+tM+Uo3YL5SKsnym3j6EdZvTGZDkz5Y9z3LtlV346IvNePl4Zn0ARblYtPoEn3o0\ng18/MI37HnmZzt37A3AwZRPT77uLq684RHS7CBg50lmHr5vg1SLUbcKffjcBTRZxbHkiVqtGVbXB\nbb9J5/k/3czf/+9HT4enKB7V6mvw/37/E3r1v6o2uQP0jU1gQPf+vPvhZ1BZCUuWQGK9PvETJsCn\nnzpn02zYAEFBzVqeudDKK+3s2J/DtpRsii7RefXSMPh49kZeeTIKq9X5T9nbS+OlJ6L4+ItVHo5O\nUTyv1Y/gCwsL8Q8MddnmV5zHfw7uwPf1FJjzEdx2G4wf32YWod6fms+PPx0FnJ9Pa7ZlMKR3NJf1\nbflump4kpUFZhU5kmOs/46hwM0UlDg9FpSgXjyaN4IUQY4UQB4QQh4UQT51hv8FCCIcQ4pbG9mlu\nN44fy67Ny7DbTo9iMyNiGGL1IuXLb52192efdT7xwAOnF6I+tQj1kSOwezcMalLvHo+rrLKz+Kej\nOHSJQ5fohkTXJZt3Z5FTUOHp8FqUZjJzzfBoPp1X6LJ91txCrrsqzkNRKcrF46wjeCGECXgbGA1k\nAJuFEAuklClu9nsRaNHC543XX0OffoN564VfcvmoWzEMg3XLvmL4Fdcw+prLWzKUFnEkvRhNCPR6\ns+x1XbI/LZ/IUF8PReYZL738NmNuuJ19R2wM7+/D6i2V/G9xIcuXfO/p0BTF45oygh8CHJZSpkop\nbcAcYKKb/R4BvgFymjG+s9I0jR+Tv+aJJ54k48hWso7u4Omnn+G7bz9v1tcpKatmw84TrNh4nNSM\nIrd3qbYE6fb2KZA4yzWXmn5Db2LLpvX4hvRhzmJBaNQAtm7ZQo++13k6NEXxuLP2g68pt4yVUk6v\neXw3MFRK+XCdfWKAL4CRwEfA91LK/7k51wxgBkBcXNzAY8eONdf7uKBS04v4flUqhpQYhsRi1mgX\n7sfk0QmYtJa9Tl1eaefDb3ah665/b2aTxm1ju9Mu3K9F41EUpWV5YtHt14A/SCndr4ZdQ0r5vpRy\nkJRyUERERDO99IXl0A2S16Ti0A2MmsW17Q6Doxl5LF29G11v2b4yfj4WRg6Ow2QSaJpAAGaToG9i\nhErubpSV5PDB6w/w5MMj+PS9x6ksLzz7QfU47FW888o0rh4ayRWDw3n1+SlUVRRfgGgVpXk1ZRZN\nJlDnlk9ia7bVNQiYU3OHZjgwTgjhkFLOa5YoPehkXrnLY7utmu++fIOtP/2A2WzFy9uHp//8HL99\ndHqLxdSnewRx7QM5eLQA3ZB07RBMxCVWe2+K1P3ruObaUfTv4cvQvl588d8d/PPlD1ixciPtYns2\n6RzSMLjz5t5kZ2fzh+nhWMyC1z9dxMLFiSxeeQyTueUXeleUpmpKgt8MJAghOuFM7FOAX9TdQUrZ\n6dTPQohZOEs0rT65g3PVqLpVrHlfvEpZSSFPzfyGgKAwjh7exd/++kfat2/HlFvGt1hcwQFeDOnd\neubte8JvH7uTB6aE8tSMSACemgFPvJjFM3+4kw/+u6NJ59i0Zjabt6ezb2E3vGrm2l8zzJ8htx5h\n4dz/Y/ytjU4qUxSPO2uJRkrpAB4GFgP7gK+klHuFEA8IIR640AF6WrswPyxm56+poryEHRuXcPv9\nzxAQFAZAfNc+jJ38K179v9c8GaZSj8NexcIVx3nkrjCX7b+5J4y5yXubfJ6f1iYzfmRQbXIHMJkE\nE6/x56d1y5p0jt1bv+ez93/LTytmIY0zVjEVpVk16UYnKWUykFxv27uN7Hvvzw/r4qFpgkmjEvjm\nx4PkleUTEBSKr1+gyz7RHRJYt+yr834Nu10nJTWf9JOlBPl70ad7BEH+Xj839EuaEBqaBja7pO6V\niWqbxGxuerO36OgOLF5c3WD7oWMOhgw/c2uL6spS7rq1P+u3HOfqIUFs21tOaMgTLEjeRFhk5ybH\noCjnq9W3KmgJ7cL9mHFbX265YRgV5SXkZae7PH9g10/07Nn3vM5dWe3g0wV7WbUlg4NHC9maks0n\n8/eSfrKkOUK/ZJnMVm4e152//zu3dkqrYUiefyeXKTc1/aa2ibf/gT0HK/nP1/kYhkRKybc/FrF4\nbTG/uO/ZMx774nN3UFmeR+rSRP77SgwpyQkMSjLx6K/G/az3pihNddZpkhfKoEGD5JYtWzzy2j/H\nb//wN774/GNuuPURIqPj2bNtFSsXfcby5asYPLD3OZ9v1eZ0tu/PqZ2hc4q/r4Vf3tJHtRb+GXJO\nHOC6a4dgNesM7evHqs1lBAb4kvzjTgJDmt7WYc+2ZO655xdk51ZgNgt8fSx89OG7DLv6rjMelxDv\ny5f/imVAz9MXwItKdGKuSiE/rwBv36Dzfm/Kpetcpkm2+l40Le3/XnyWmJj2vPfuOxTk59Cz9wAW\nL156Xskd4NDxwgbJHaCq2kFJmY2gAFWqOV+R7buzdVcuP373Bgf37+SmOy5j5NgHEOd470KvAePY\nsrOAI/vX4nDY6N7rmiado6JKJzjQ5LLNz0dDSonD0bDsoyjNTY3gPeyT+XvIL2rYDdKkCabf0gc/\nH4sHolKawy/v7Eeo70le/H272m0f/S+fWfOrWL0x14ORKa2ZGsG3In27R7J6SwYO/fTsCiEgMsxX\nJfdW7rl/fsqVVwwjLdPO6OG+bN1bzdwlRSz6fo6nQ1MuEeoiq4f16RZBQsdgTCaBxaxhMWsE+Xsx\n/uoung5N+Znax/Vh+87DXDXiRjamhBLXZTg7d2yn/7DJng5NuUSoEs1ForCkipN55QT4WomJ8lcX\nVxVFcUuVaFqhkEBvQgK9PR2GoihtiCrRKIqitFEqwTeBbhiknyzh2IkSl4uhCqxf+Sn339GHidd1\n5F//+AWlxSc9HZKiKDVUieYsMrNLmb/8MEbNtQop4forO9E1LsTDkXneR2/9mmee/5An7o8gbriF\n2T8s4pP//sDqdfvO6UYiRVEuDDWCPwObXefbpYeosunY7AY2u4HdYZC8OpXScpunw/OoirJ8fv/M\nByyd1ZnH743g5jHBfP16B7rHm3nvjd94OjxFUVAJ/owOHy9yu92QsC81v4Wjubhs2zifrnHe9Ohy\n+sKwEIK7JwaxdPlaD0amKMopKsGfQbXN4baNgGFIqqodHojo4hESGs3JPFuDpQMzs+2Ehvh7KCpF\nUepSCf4M4qIDcTcd3WLWiI+5tBtFJfUdQ3SkHy99mFv7IXgs08aLH+Qy7f6HPBydoihwiSd4aehI\no/GReFiwDz27htcu+AHO5N6hXQAd2gW0RIgXLaFpfPW/xXy7pJKE6w4w4u40+k06yCMP3MToGx/z\ndHiKonCJzqIxHNUUHVlFVf4RkBKLfwTBXUZg8W+4EPg1Q+PoFBPEnsN56LokqUsYCR1D1J2mQFyX\nwWzakc+OTfPIy01n8PCbCA6L83RYiqLUaNWtCgxHFXp1OSbvQDRT0xpzSSnJ2/U/7OV5IOs0+DJZ\niOx/JyYvvzMcrSiK4lltvlWBNHSKDq+gMu+wsy+3lPjFDCCgw6Czjqzt5bk4KgpckvupcxYeWoph\nrwQh8I1Mwq9dEkIzNXImRVGUi1urrMEXp62lMv8wSB2p25GGg/LMbVTk7D/rsXplMeDmQ0Aa2Ioz\ncFTk4yjPo/TYTxTsS8ZT33AURVF+rlaX4KWhU5G9Dwy93nYHZRlbz3q82S8MydmTtjQc2EpOYCtV\nt94ritI6NSnBCyHGCiEOCCEOCyGecvP8RCHELiHEDiHEFiHEFc0fqpPU7dBIgjbslWc93uIbildQ\nDDSh9CINHVtJ1rmGqCiKclE4a4IXQpiAt4HrgSTgDiFEUr3dlgF9pZT9gGnAh80daG08Zi80i4/b\n56wB7dxury808Xp8wrvhtlRT97U0Myar7xn3UZRLWXp6OiNHjiQpKYmePXvy+uuvA/DXv/6VmJgY\n+vXrR79+/UhOTnZ7/KJFi+jevTtdu3Zl5syZLRn6JaEpF1mHAIellKkAQog5wEQg5dQOUsqyOvv7\n0dgQuxkIIQjqdCWFh5ZC7Rx2gdDMBMZf1qRzGLrNOUXybGEKgXeYWllJURpjNpt59dVXGTBgAKWl\npQwcOJDRo0cD8Pjjj/PEE080eqyu6zz00EMsWbKE2NhYBg8ezIQJE0hKqj9+VM5XUxJ8DJBe53EG\nMLT+TkKIm4B/ApHADe5OJISYAcwAiIs7//nSPuFd0Kw+lBxdj15VgsU/ksD44Vh8m9bhsSJ7H7Je\nDf90kCaEEGhWX0ITr2/y9EtFuRRFR0cTHR0NQEBAAD169CAzM7NJx27atImuXbvSuXNnAKZMmcL8\n+fNVgm9GzXaRVUo5V0qZCEwCnm9kn/ellIOklIMiIhreVNRUhqOakqPrcZTnIQ0H1UXplGVsQcqm\n9Wp3VBaCdJPghYmADgOJ6Hc7kQPuwuIXDkBl3hGyt37GiXVvc3LzLMpPpjQ8VlEucUePHmX79u0M\nHeoc/7355pv06dOHadOmUVhY2GD/zMxMOnToUPs4Nja2yR8OrVVjJS1w/r4SExPp2bMnTz75pNvj\nFy1aBNCrseuh9TUlwWcCHeo8jq3Z5paUcjXQWQgR3oRzn5eiwyuwl+UgDQdSt4HUqcpPpSxzB7qt\nnMKDS8na+B9Obp5FafrmBqN1q38UaG6+vAiBV0hHzD7BtfPpqwrSKDq0FL2qBADDVk5x2hrKT+65\nUG9PUS5a1bZKnv7nL0kcEE1C70ge+ePtFJfmU1ZWxs0338xrr71GYGAgDz74IKmpqezYsYPo6Gh+\n97vfeTr0i8KpklZKSgobNmzg7bffJiUlhRUrVjB//nx27tzJ3r173Za2TpW0gIM0fj3U9fWaENNm\nIEEI0QlnYp8C/KLuDkKIrsARKaUUQgwAvIAL0k9X6g6qCtLc3KjkoDxrF+UndtbMpnFOhizN2Iq9\nLIfQHqerRj6R3SjN2IJh06mtwwsT1oB2WP0jXc5bcnRDw341hoPS4xvxjeqpWhYolwzDMBgzeQgF\nhXnc/GgCZovGj5+v57IRfYgJS+LOO+9k8uTJAERFRdUe98tf/pLx48c3OF9MTAzp6aervxkZGcTE\nxFz4N+JBjZW0PvjgA5566im8vLwAiIyMbHDsqZJWamqqTUppc3c9tL6zjuCllA7gYWAxsA/4Skq5\nVwjxgBDigZrdbgb2CCF24Jxxc7u8QHcISXellRqGvco5oq978dTQqSrKwF5RULtJM1mJ6HsbPpHd\nESYvNIsv/u37EZbU8NKBo7q4kdeqPmOjMkVpa5at/ZZ9O4/y+3eH0+uyKBIHRfDQq4PJSMvH0Cr4\n7W9/W7tvVtbp6cVz586lV69eDc43ePBgDh06RFpaGjabjTlz5jBhwoQWeS8Xg7olrYMHD7JmzRqG\nDh3K1VdfzebNmxvsX7+khfN66Bk/EZvUqkBKmQwk19v2bp2fXwRebMq5fi7N7IUweSEdDee8C5PV\n/XYE9vI8LL6htdtMVl9CEkZBwplfz+wV6KzZu4vDXZlHUdqo1euX0ffKdpitp8eFh3YUUFpYzbYt\nu+nXrx8AL7zwArNnz2bHjh0IIYiPj+e9994D4MSJE0yfPp3k5GTMZjNvvfUWY8aMQdd1pk2bRs+e\nPT3y3i6UDduX8runHmHr2sMEBHlx693X86/nP8Vu011KWg6Hg4KCAjZs2MDmzZu57bbbSE1N/dkV\nglaXoaQ0QLofOQshkEJrUL4BZ6I+H4EdL6Pw4I+uo3XNTEDcUFWeUS4psTFxzJ1X6rItcWA4V06M\n54qho3nhj+/Xbh83bpzbc7Rv395lTvy4ceMa3be1239kO2Ovu5GJM7pz7/PjKMqp5L8vrmPSXVdh\nFIe6lLRiY2OZPHkyQgiGDBmCpmnk5eVRdzJK/ZIWZ7keCq2xVYHD1ugUR0O347wvqy4Nk3cgloAo\nt8ecjXdYJ4ISRmHydn5AaFY/gjpdgV90w6+citKWTb31UXIzyln82WF0h4FhSNYnp7Nr7Ukeuu+P\nng7vovPi689w+Q1xjJ2agH+QldiEIB59fQhL520jqn2YS0lr0qRJrFixAoCDBw9is9kID3edp3Kq\npAVYhRBWnNdDF5wphlY3ghdmK0KY3E6JNPsEEdxlJEWHl+GodK6n6hUcR3DCNT9rtO0b3hXf8K7n\nfbyitAU+Xn4sXJjM3fdN4dt39mEyC4LD/Pj628+IadfJ0+FddPanHGT4ZNfp4Mf2F+OwG6xcscql\npDVt2jSmTZtGr169sFqtfPLJJwgh3Ja0brjhhm44r4d+JKXce6YYWmU/+JLjmyjP3N6gbBLa/Tq8\nQ53/0AxHNQhN3aikKBfAobTdVNsqSUoYhKY1vRCQnp7O1KlTyc7ORgjBjBkzeOyxx3jmmWeYP38+\nmqYRGRnJrFmzaN++fYPjFy1axGOPPYau60yfPp2nnjrrVHCPuevBMZTqx5nyu9Pf9m3VOo+OTGbd\nT6vp1X3IeZ33XPrBt8oEL6Wk5NgGyk/scNbbNQtBna/EL6pHM0epKEpzysrKIisry6W1wbx584iN\njSUw0FkGfeONN0hJSeHdd991OVbXdbp16+bS2mD27NkX7Z2vu/dv4orLr2LK73pzxY1xFOVV8fnM\nXfh7h7Fs/o7zPu+5JPhWV4MHcFTkU3FyD6ebhUlKj29Ct1Wc03n06lJK07dQnLaWqsLjqve7olxg\n0dHRDBgwAHCdB34quQOUl5e7LanWbW1gtVprWxtcrHonDuGbBXPY9EMu9/afyx8nLSGhcxILZq9u\nsRhaXQ0eoPDQspr57jUMB4atnNJjGwhOuIbqkixKj63HXl6AyTuAwLiheIfGu5yjqiCNggOLQUqQ\nBhUnU7AGRhOadANCtMrPPUW5aKVnHWH52u9oHxXLqCsmo2lag9YGf/rTn/j0008JCgqqveBYl7vW\nBhs3bmyx93A+rr18EtvXTcLusGHSzOdUzmoOrS6TGY5q55J7DUgqC9KoLj5B/t4F2EqykHo1jvI8\nCg4spiL34Ok9DZ3Cg0uci4bUXKyVhh1byQkqcw+10DupE7mUVJecoDI/9Zy/hSjKxe6Rp6fQI7EH\n/3rzZe6993669o5iy861LvPAAf7xj3+Qnp7OnXfeyVtvveXhqJuXxWxt8eQOrXEEf4bRtRAaJUd/\nqtNGuIbhoCRtHT7hCQghGl3EQxoOKnIP4BvZvTkjPiNHZTH5e+dj2KtAgDQM/GP7ExjXoGHnRaeq\nohizxQuzxdvToSgXqVlf/R/fzE7m5R/GEBzhjZSSBe8dYMSVo/jbX/9ZOw+8rjvvvJNx48bx3HPP\nuWy/FFskZmkkAAAgAElEQVQb/FytbgSvmSx4BcXSYLEOYcI3KglHhfsWOIaj8vSsmzN8krZkeUZK\nScG+79Gry5CG3blaldQpz9xBVcHRFovjXG1a/QVXDo4gKDiE0BA/fn3vIMpL8zwdlnIR+s/HHzLx\nV90Jjjg9CMhMLcGh61w9+vR1wpr53QDMnz+fxMTEBue61FsbnI9Wl+ABAuIvg3oXYYRmxj+mH5rV\nz+0xQjPXthawBrRzc0OUcx/fqJa7Iu+oKECvLqP+wiPOxmm7WyyOc5F2cD3jb7qHGbf6ULa9NwcX\nJ1JSmMadtzTpor5yiSktKSco/HRyP7Atn7ULjmPocNvkqbWrPT311FP06tWLPn368OOPP9a20T1x\n4kTtna51Wxv06NGD2267rc21NmhurXKaZP7eBVQXpdfbquEf2x+zTwjFR1a6zJF3Jv8BBMQNrt1m\nKz1J/t4FIGvaHwjwjUwkqPPVLdaCoLoki4KU710vGNew+EcR0feWFonjXDz58AhE9X5e/P3p5RFt\nNoOO1+xn5bKFdO89yoPRKRebx5+9i41b1/Dwq4Nr/786uq+IF6ev5UR6Lr4+/h6OsPU5l2mSra4G\nb+h2N8kdwKD85F6ih96P4aimNH0TUncghIZv+z5gspC99b9Iw453aCcC4oYQNfg+qgrSkI4qrEEd\nmrwiVHOx+kc4Z/HUp5nwDr84lwo8fOQYv7jeteZutWr06+HH4QNbVIJXXPz58VcYckVv/vXwRoaO\nbU9eZgWLPj/M3158UiX3FtDqErw0Gl+1STqqAfBv3we/6F4Y9io0sxdFh5ZRXrCz9uJrRXYKVQVH\niex/B74R3VokbneEZiaoy9U13zhqetNrZszegfi1uzi/evbumciKjVu5ZWxw7bbyCp3Nu8ro2fdq\nD0amXIzCQtqxZX0Kr733F1auWE1EZBjzvvuaEcMa9odXml+rq8GLMy2UXae0IoSGyepLdeFxKvMO\nu86skQaGo4qKnP0XMNKm8Y3sTnjvyfhG9cArpCNB8ZcT0edWNJPV06G59cBjLzN3aTEz388hK8fO\n9pQKbnr4OBPG9CA+YZinw1MuQiGBETz3+3dY9cMe/vfxqjMm98aWtCsoKGD06NEkJCQwevRot0sA\ngrOVQffu3enatSszZ868IO+nNWl1NXhp6GRt+MDtmqom7yB8o5KoOLm3prOkhuGodNs+GMA7rDOh\nidefcwyXukN7V/Lsn37Fj6tSCQ4wM+2u63jyr7OxWH09HZrSyjXWymDWrFmEhoby1FNPMXPmTAoL\nC3nxRdclKFpbK4Pz1aZr8EIz4deuJ+Un97omec2M0CyUpm+uHa2f8aNLaJi9g8+0xzmTUlJdlE5F\ntvMDxjc8AZ+IbgjNdcaOrSyn9oYqn/CuWM+zlfEpuq6jaVqLXRxO6DmC2fMOtMhrKZeWxpa0mz9/\nPitXrgTgnnvuYcSIEQ0SfN1WBkBtK4O2luDPRasr0QAExg/HNzIRNBNCsyA0C37teuKoKmp4k1Mj\nhNDwbeY6d8mx9RTuX0hVfiq2onSKUleTv3eBS2vjkmMbyds9l/ITOyg/sYP8PfMoTvvpvF4vJyeH\n5cuXs3DhQhYtWkRKSgrGGa5RKBe/xkoUX3/9NT179kTTNM70zbctlSjqtjLIzs6uTfzt2rUjOzu7\nwf7uWhlkZp5xPYw2r9WN4ME5ig/uOoLA+OEY9kpMXv5U5h1CnLlCX8vkFUBwwrVIw0FpxjaEZsIn\nrAsmr/O/qu+oKqH8xC7XbxWGA3tZLlUFR/EJ64yjopCyE9udLRJqSMNBxcnd+EZ2x+IXVru9sLCQ\nQ4cOUVZWRmBgIN26dXNpyFRYWMiWLVtqE7qu6xw9ehSHw0GfPn3O+30onmU2m3n11VddShSjR4+m\nV69efPvtt/zqV79q9Fhd13nooYdcShQTJky4qEewhSW5PPT7X5D87Vrs1TpXXtebN1+eRXREpwat\nDE4RQqjV1JqoVSb4UzSzFc3svBhp8gpo0jGWgHaE955M6fENlJ3YCYYEISg5up7griOc3wzOg63k\nhHPJwHqfMNKwU1WQhk9YZ6oKj7qdFikNnaqCtNoEn5uby5YtW9B15wdBRUUFubm5DBs2jJAQ51TO\nQ4cONRitG4ZBRkYGiYmJWK0X50Va5cwaK1GMHj36rMe2thKFYRhcc/1g/MPgL/8dgbevmR//e4Qr\nrhpOz26DXJa0i4qKIisri+joaLKysoiMjGxwPtXKoKFWWaJxxxrYvuYu1kY+2YUJYbIS3PUa7GW5\nztG2oQOGc9QtdYoOr0S3N1y0G8BeUUDB/kWc3DyL3F3fNGglIEzWBnfX1jyDZvapjcFtfEK41On3\n7NlTm9xP0XWdlJSU2sdlZWVu49Q0jaqqKrfPKRev9Kwj/LRtCeUVJbXb6ndbPJvWVqJYuOpLsk8U\n8MDMQbTr6E9whDe3PpaErhtU2otclrSbMGECn3zyCQCffPIJEydObHA+1cqgoSYleCHEWCHEASHE\nYSFEgyVUhBB3CiF2CSF2CyF+EkL0bf5Qzxoj4b0nYQ2KcTYkEyY0r0B8o5LwDu1MQIeBRA64E4tv\nCJV5h1xXgzpF6uTt+obqYuf/FPbyfIoOrSB31zfk7viSqvwjGLZy7KUnKTiwmPLs0wnXO6Sj+0Zo\nmql2IRKfsC6NfP4IvMOcNzYZhkF5ebnb91hcXFz7c1BQkNt9DMPA11fNZmktCktyuW7yAHok9uC2\nW2+hfYdI/vrqw5SVlTVaomgrtu/cSOKgSDTT6f8pDmzLJz+rgn17DtGvXz+XVgZLliwhISGBpUuX\n1q7kpFoZnNlZSzTC2bTlbWA0kAFsFkIskFKm1NktDbhaSlkohLgeeB9o8XaIJqsf4b0mYjiqkYaO\nqbFpe2eYGqpXFZOf8j3+7ftRdmJHzSjfzf6Gg5KjP+EbmYgQGkIzEdZzIgUp353+8JCSoK4jMdfc\nIWvy8iO4yzUUHVmOQAMkUkqCulyFuWZRbyEEJpOpwQgecCm7dOvWjZycHJf9TCYT8fHxmM2tuvJ2\nSZly31iqjELeWD4OH38LmaklvDxjFt98tpT7ps5w222xMa2tRNGrRz/ef2cWUsramnriwHCG39CR\nkVeM5e9Pua7otGzZsgbnaN++PcnJybWPx40bV5vwlabV4IcAh6WUqQBCiDnARKA2wUsp604D2QDE\nNmeQ50oze53xeZ+IBCqy97ofxQMYDsoytnKWiZZg6Oi2csw19X+rfwRRg+/FVnoSaehYA9o1WBPW\nN7IbXiEdqK4p8XiFxmOy+NQ+L4QgPj6etLQ0lxq7yWSqra2Csz572WWXkZKSQlFREVarlS5duhAf\nH3/mmJWLxomco6xdsps3VjiTO0D7TgGERHqTk53lUqJoirolipiYGObMmcMXX3xxIUJvFhNGT+WP\n/k8z6287uPmRJKzeJpbOTuXA1lzmfvKMp8NrE5qS4GOAus1fMjjz6Px+YKG7J4QQM4AZAHFxcU0M\n8cx0eyWOikLM3oFNngVjDYjCN7oP5Vk7XWa0uDr7fBwpZYMPEyE0vAIbLhZcl8nig+8Z1o/t3r07\ndrudjIwMNE3DMAzi4+Pp1Ml15frg4GCGDx9+1jh/LsMwWLp0KevWraNDhw7cddddeHurHvA/V1b2\ncQJCvPD1Pz0IOLAtnwPb8rF4mejXrx8AL7zwAtXV1TzyyCPk5uZyww030K9fPxYvXsyJEyeYPn06\nycnJLiUKXdeZNm3aRV2i0DSN5YvXM/2R23hsVDIOh2TI1V1ZsvRHIsMu3m8erclZ72QVQtwCjJVS\nTq95fDcwVEr5sJt9RwLvAFdIKd03Zq/xc7pJgjO5FqeupiJ7H0IzIQ0d75A4QrpdhzA1rURhrygg\nb9f/nH3Yz5Vmwie8GyEJ15z7sU1kt9uprKzE19fXY2WXqqoqxowZw6FDhxg4cCDHjx8nJyeHxYsX\nq+mYP1NldTntO0Tw1IeXE9f99E13X722F60ynG9mtdzanZ6m6w4MaWAxq9lfZ9Pcd7JmAh3qPI6t\n2Vb/RfsAHwLXny25N4fyEzudvWSkjqypQ1cVHqModQ0hCSObdA6LbygBccMoObbe5QYpoZkRZm8M\nWzn1R/JaTjEhz3+CuaQKzcsfZsyAxx5zPbGUzm3JyeDrC7NmQc1Cw+fCYrFgsVjOvuMF9Nxzz1FW\nVsY777xT+yGzYMECpk6dyo4d578yvAI+Xn48+eyveeXBf3PLI0m07xzA1mVZrJ53jDVrP/V0eC3K\nZDLTcIUG5edqyiyazUCCEKKTEMIKTAEW1N1BCBEHfAvcLaU86OYczc45h71eDV0aVObsq+nM2DR+\n0b0JiB1Yc0esc1EQv5h+hPe5GbNviHObyepcMSq6L2F9J2N591NMh48hNmyAt9+GlBTXky5cCIcO\nOf+8/z48+GAzvGPPmDt3LrfccovLN4hx48aRmppKWlqaByNrG/748Cu88e9X2Lm8lE+f34PV0Y41\na1fTM0EtoKL8fGcdwUspHUKIh4HFgAn4SEq5VwjxQM3z7wLPAmHAOzVXwx1N/QpxvqSjsbneEntZ\nLhb/CMpP7qUy9wBCM+Eb1dPZF6b+SlBCENBhEP4x/THslWgWn9o56RH9pmAvz8OwlWPxjzw9K+fU\ntc6AAOjRAzIzoe7NJPPnw9Spznnxw4ZBURFkZUHNDSyticPhaPAtQtM0TCYTDkfT2kIoZ3bHhAe5\nY0LrHQQoF68mFXallMlAcr1t79b5eTowvXlDOzPN6o9eVeT2uariDIqPrsNenlc7yreX5VJdlE5I\nt2vdn1BoaCePYxzYBCYzWo/LILozIBGaidLSEtau/JZuSb3p1qNmmv/Ro7B9O9S/ESUzE+rccEJs\nrHNbK0zw119/Pd999x3du3ev/XBcvXo1kZGRdOlycS5KoiiKU6udMG31j6TSbYLX0KtKcJTnu5Rw\npOGgMv8w/hX9sfiGuRwhpcRY/BEc2gr2ahACfe9aKmJiKG8fxaPP/Ydvf9yM0AS6btC5QxTrl60k\ncsqd8NprcAFuRJG6A7lvPTJlA5jNaL2vgq4DWrwHx/PPP88VV1zBH/7wBwYNGkR6ejo7d+5k7ty5\naGdYvFxRFM9rlQm+Mj+Vyvwj7p/UBEiJNNzMjJFgK85qkOA5cfh0cgeQEuGw43v8GM99t465S7fw\nzl/v48ZRAziemcftD7/G/j59ifzHP8HdjSgxMVDnhhMyMiAmhoqKCtLT06muriYiIoKoqCi3SVJK\nA+Pb1yDrCDic67UamQcxug1ljSWOoqIirrnmGoKDm7fdsTvBwcFs3bqVzz//nJ9++omrrrqK2bNn\n065du7MfrCiKR7W6BH9qeqS7BT9AENz1WmfpRmgNFvoQQkOrc1PRKcbh7aeTe93XAmbNW8ddN17O\njaOcs2Di2oexpUcc/129i+ix19JVSrBVgcULcSpZT5gAb70FU6bAxo0QFES2prF15UqkdN69mpmZ\nSWBgIMOGDcNkqjd/IG0PnEytTe4A27PLufXlZ3BIZ5uCe+65h2effZbf//735/T7Ox9eXl7cf//9\n3H///Rf8tRRFaT6tL8E7qjEaaQiGZsY3oit6dRllGVtd+rA7nzfhHdqxwWHC6oXUTA1vehKC8soq\nhvQ9XWu27kolfPUuRgGR110HQse4fiCipArZsSdi5luIceOcUyS7dgVfX4z//IcdO3a43Jmq6zrF\nxcWkp6c3uPvUOLbH5QNHNySTZy3jxomTGDt2LEII0tPT+fOf/8ygQYMYObJp00IVRbm0tLoiqjBZ\naKxj5KlZLiYvf0J6jEOYvREm5/RHk1cA4b0mIrSGn2kicRg0Uk+ObRfK5wvW1T629e3Cf/7xS/oK\ngf7oeIzHJ0BiDHJIF2SMgdz4g3P2zNtvw5EjsHs3xQkJuLuh7FR73wbx+ARAnTgXZ1VhtlhqkztA\nhw4dGD9+PO+++26D4xVFUaA1JnjNVLuak+t2M/4xp28m8g7uQLsh9xHWcxLhfW4hcuDdWPzCcVQW\nOXvF6HVubAqJQoy8E0wWpMmMoWkYmkZxQif+8dvb2LDjMLc8/Brzl27hT//3Fb969j/cPKIfQeZ6\nSdthQ25ZhKzXp13TNLcJHmhYngFE0nCXD5z8SjuhoaENLrCGhoY2uviwoihKqyvRAAR1vhJp2KnM\nO4KoSZ5+Mf0a9HcRQsMa4FwYQK8uo2BfMvbKQmeilBDQri++hSXOpf+6DkDMeIXyjV9RXZKFLTgA\naTJx5aAgZv/rIZ5+9St+84/P8fP14ncP38sLXbzc1u1x2MBRDdbTtf7AwECsViuVla6lJZPJRMeO\nbkpGgWFo4x/ASP4AkIzqaObhT5PJy8sjPDwccF6LWLlyJXfcccfP/G0qitJWnbUXzYXys3vRlBZg\nbFuCzM9AxCai9RmB8PZzv6+U5O74EkdFAS6tB3SDkIOpWCsqQYIYPRW9Y3dyd/3POcVSSiylZVjK\nK8A/hMBrH0YzO2/60b/4O5x0cyenZkL8+g00q2szrpKSEtavX197kVVKSWxsLL179wac5Zr6C2dL\n3QFZqWAy88fX32fWrFlMmjSJoKAgli1bhs1mY/369fj5uX/fiqK0PefSi6ZVJniZlYrxv1eQugNh\n6EiTBeHlg3bnM4iA0Ab728vznU3FGrQ2kHjlFxJ85KjzscmC9suXqKrIpejgUoL3pmAur0BIiTBb\nweqNNuWP4BOA3LsOuepL990o2ydgmtJgXRR0XScnJwebzUZYWBi+vr4cOHCAo0ePous6Pj4+9OrV\ni6ioKLfve968eXz44YeUlJRw3XXX8Zvf/AZ///NfR1ZRlNanuZuNXXSMxf8Be3XtpVah2zGqHJRs\n/pIqH83Ziz2wPUFdrsLiG4phr3C/2pIQGFaLy2N5ZAc+va/Cun8nsqIKcaqebq8Guw1j1p9B18Fk\nbrzV8IlDGAVZaKGud66aTKba9TYBdu/eTXp6eu3smsrKSrZt28bQoUMJDW34QTVp0iQmTZrU5N+T\noiiXtlZ3kVVWVSALsxtsL+rWhUqLo2aULrGVZJK36xv0mj4yUuroDp0P/z2XKyb+ke6jHue+B17m\nwKa9rufPy0T/7h3Yuhih1++1IkF31Pz3zC2G5b4NZ3ze4XC4JPdTdF3n4MEW6demKEob1+pG8Iab\nhTgcPt7Y/f0aTHWUhk75yb0Exg0hoMNgnp7xINv3H2fO3SPpHBbA1zvTuOnl/7Hq4RvoHhkEuoOi\nDYt5a/Vulh7MJMjbyr2DE5jUu+O5twjIb7jYsbRXQ8FJ8AukCkuj52xsTVZFUZRz0eoSvDBbqAoO\nwquoCFGT6x0+3u4XYJI69rJcAKoJ5/OVO9n/1C2E+zsvgM64LJGTJZW8uWYvb908nNLKaka8+T39\nYkJ5ZnR/csoq+cuibezKKuAvY86xn/uxFOc1gprFR4zNi5Dr5zs/hHQda4ce4J3g9lCrrRL961fA\nVonoNgjRdyTCqlZQUhTl3LS6Eo1mtlLRqz8OH5/a+eqmqmpnD5r6hAmLfwQAh3dupWtEUG1yP+Xq\nru3YneWcSz5r80ESIgKZ9YurGdWtPXcM6MKSB6/nzTUp5JQ2cvdsPRLQcfbDoSDLue3wNmdyd9ic\nbQ10O6b0FDo5Gq6LIqRBj9SVkL4Pso8i18/HmP0PpOM8Vp1SFOWS1uoSPEBw0vUU9u1DQVJ3Sjp3\npDChK5gsIOrf/OTsAy+rK4hP6sXh3GKKK20u+2w8lkv3iCAA1qZmc3OfeJfnowJ8GBIXwabMgjPG\nJGv+pAd2ZGmX8WyP7I9es16rsXmhS18ZAHQHXVLXYK7TFE0YOkPS1xBSXefmJYcdinLPWtN3Jz09\nnZEjR5KUlETPnj15/fXXASgoKGD06NEkJCQwevToRm+WWrRoEd27d6dr167MnDnznF9fURTPapUJ\nvkCz8KYRTLJPKGtC2zHfK4SPTFFYI7sjNGcrA2tQLGGBiYhPnsX492+I+O5f3DaoO3d+vpLU/BIc\nusFX21P516o9PHKVc7GOqAAfUgtKXV5LSklaQRntrpsCQeHuZ+NwunlCnl8UCEGhdwh7jtbU4ctL\n2Hw8l3+v28f3Kcdx6M4Lq8LQuTp1MUGVzg+PqPKTBLprgazbkYe2nvPvyWw28+qrr5KSksKGDRt4\n++23SUlJYebMmYwaNYpDhw4xatQot8lb13UeeughFi5cSEpKCrNnzyal/spViqJc1Fplgn8/ZS35\nhoMNeLNQ+rJdWki3VZKs+xB92QzaX/5rwgK7Y1r6BZQVOaczOmy8Pmko/WJCuey17/B76hPeWJPC\nl1OvoXe0c0ri/cO68fbafWw+7qzbO3SDF5btJMjPl8GTp6JNmwm3PtloXALomb2Da498z9VpP9Jt\n9QdUbl/BzW9/yx2frWDXiQJeXLaLvi/P5VhBGQKwGnYGZ/6EZujYNCsmDPcnLzvzNwh3oqOjGVCz\nFmxAQAA9evQgMzOT+fPnc8899wBwzz33MG/evAbHbtq0ia5du9K5c2esVitTpkxh/vz55xyD0vIa\n++Z2yquvvooQgry8PLfHq29ubUeru8ha5bCTUeF+Jad1Oam08w3k2phE5IYFtWURXQgqTGb8HHb+\nPn4oz08Yjl5dhdnk+vnWt30Yr980jMkfLyXE15v88iq6x0Tx7cLFtX3bTbEJ6D0ug33r3cZgNWy1\no3mTXs3Lz/6ByspKUv5wM1azs4Q0c9lOHvh6HQt/NQYAgSS8IpsSa1Djb7yitPHn6tF1HSmlyzqq\nR48eZfv27QwdOpTs7Oza+fjt2rUjO7vhtNPMzEw61FmVKjY2lo0bNzY5BsVzTn1zGzBgAKWlpQwc\nOJDRo0eTlJREeno6P/74I3FxcW6PPfXNbcmSJcTGxjJ48GAmTJhAUt0lKZVWo9WN4KvOMv/8m7Tt\nvLHoPYwThzGABTGd+V3/q/hT38t5sv9VrI6IRYx/oEFyP+WWvp1IfedPfPb5Z6xbvYpV+9LokNjb\nZR8x+h5nzd+N+pd6v9x2hKev7Vub3AEev7oXG4/nkFvmXFdW0zTCA/zwDwlrtAREI20Y6srIyGD8\n+PH4+vri4+PDiBEj2Lp1Ky+//DIDBgxg4MCBFBcXu8YrRIuvEqVcWI19cwN4/PHHeemllxr9O1ff\n3NqWVjeC9zFbG31OFJWgr1xHit1OdrjGlm5JLI+Kw1bTsdGhmfg2phN+hs5AUTPTxQ0LOv07RCHL\ni5EnjyLaxbs8r5kt6NfcAUs+PWu8Nt3Ax+L6azZrArOmke4TSQQlaFLS6apxdA4IQc/bAZkHXe+S\nNVsR/RtZS7aGw+HgmmuuISkpiY8//hiLxcI333zD0KFD8fHxISkpifLycvr06UNAQABZWVlER0eT\nlZVFZGRkg/PFxMSQXmdVqoyMDGJiYs76fhXP0nUHJpP7b27z588nJiaGvn37Nnq8+ubWtrS6EbyX\nyYyvu9Hz4hV8PeU3ZC5eTc6qjfSe+Q3Jq3fUJvdTbCYT3xccbzS5A5B3AuPHj5Grv8L46kX0eW8g\n67UlEMLU6Ci+rvE943hrbYpLu+DZ21LpFB5EeedBzuQ95HpEQAgA2g0zIDQaLF5IizfSZIbEodi7\nDyUnJ4eSkhK3r/PNN98gpeT+++8nMDAQHx8fdF3HbDbTpUsXnnnmGR599FGmT59OWVkZs2bNAuCT\nTz5h4sSJDc43ePBgDh06RFpaGjabjTlz5jBhwoSzvl/FMz7474vEJ4ZhsViI6hDAX175NSUlJdx8\n88289tprmM1mXnjhBf72t795OlSlBTVpBC+EGAu8DpiAD6WUM+s9nwh8DAwA/iSlfKW5Az2lWnc0\nKNNo+YV8+a/PWDhjDIM6ONvpHsot5so3f+DWIf3Ru3Ry2b+ousI5pdLtsn842xDUfY3j+5A7V7iO\noiuKnTcy1TtU4lqmeWJUP8b8+weu/fdCxvXowN6ThSw+kMm86WPwri6GwDDkzlXoJ4+iXTEZEdGB\ngrEPkbphBabKEkq8QzC0YKqXLcdkMjlbI/v5MWTIELy9T8/pT0lJITEx0eWr95o1a6iuriYtLY1H\nH30UgLvuuguHw8F3333HRx99RMeOHfnqq68AOHHiBNOnTyc5ORmz2cxbb73FmDFj0HWdadOm0bNn\nz8b/YhSP+fR/r/PHJ/7GjH8MpOdlkRxNKeK9p7/gs/cW8PCDv2Xy5Mns3r2btLS02tF7RkYGAwYM\nYNOmTS7r66pvbm3LWRO8EMIEvA2MBjKAzUKIBVLKunPmCoBHgQveCcuQssFNq9VLVjGyW0xtcgdI\niAjijoFdyE9egf8jrgk+RpgarNd6muDUbbFFldXsziqkQ7Af8duWIntdhbA4S0S6T0Dt3i7xCY1q\nzQuLYUcLa0dIXBKrzBrzd6WxOT2PPu1DeenGIYT4+yCyt9fGIdN2YaTvp2rCY2zZl4au+cGpNsBV\nzlq9w+HsjVNSUsLWrVu5/PLLa1+3X79+fPrpp0gpa5O8v78/QUFBjBs3jlGjRgFgt9uRUvLll1+6\nfBUHaN++PcnJybWPx40bx7hx4xr5PSkXi5deeoW7n+5L78udXUg79QwmIsaXvRtO8sijDwPQu3dv\ncnJyao+Jj49ny5YttesLnFL3m1tMTAxz5szhiy++aLk3ozSrpozghwCHpZSpAEKIOcBEoDbBSylz\ngBwhxA0XJMo6vE1mNKGh10nQWlUV/lYzUkreXruPN9fsJb2onKgAH5ISJXUb6lo0E5NjkmDTkkZf\nQ0rJ8z/u4I01e0mMDCY1v4RhHSOZlXuSwDF3I+KSEMu/oH5/BANBkXcom2KvACQ+vn6M8KrAx2zi\njgFduGPA6bVdJRJRp2wjAOmwUbV8NkbUkLP+HoqLi6msrMTHx7mwyIQJE/jLX/7CG2+8we23347F\nYsHX15eDBw8ydOjQ2uPmz59PUlJSg+SutF4ZqXkk9DtdVz+wLZ9tK7IQAvr374/ZZOGFF15o9MNa\nfRyvn5YAAB7hSURBVHNru5pSg48B0us8zqjZ5hEVDnuD5e/69+vGD3uO8cfvt/DZlkN8ftcIUv98\nG1V2nY07D2PavB2ACG9/Hu1xJZ3XzQMk1ZrGYf8gsr1965xN8sW2I8zdfZTdT05m7aPjSXvmdiL8\nvXnoqzWw4gvkJ38G3e62PLO1/TDnmqxCw2azURTeCWE+e60enEnetySn0eX9XPYVArv9dBnJZDKx\nfPlyIiIieOKJJ3jooYeIi4ujd+/eTJ06lSn/396Zx0dVnf//fe6dmcxkm+xkIxsQIWwJhB0Btaig\nFAsqFKzWtS5YF+yXr0utfSlVaP3+4Ktt/VlL1bZW6woiLmhVRLYEBDSAIQEkK1nIvk1m7vn+MSFk\nmcCASTDhvF8vXszcc+65z3OT1yfnPvc551m4kPnz57N27VpefvllXn/9dYYPH46maZxqX/7uyonu\nKjf7V7/6FUOHDmXUqFH85Cc/obLScwqsys3umvgh4Xy782RO+9CxYfzurUsIGeDLnt172L17dydx\nP3LkSOvs3dOTW3Z2Nrm5uTz88MO944SiR+jVLBohxG3AbUCXebinw6LrnXaUzB45irumpfD4h1+x\nZGoKnxws5MUdB1mQlsQFEXbe+edaBo1Lo7Kpnr/u28SN9VUURMTyTuxgNGngEhpRjXXccXAP9mYH\nz2/9lsdnjyUq0C38PiadlXPGk/jEa1Q2NBFk8/FY9lsKDaurkbqWl69CCJr8QmDIWFzfZqAbTlwI\nBLKLsuHQaPZuUzFN0zoV+wgLC+v0OF1UVMT69espLS0lIiKCFStWYBgGI0aM4K233uIXv/hFl9fo\nzpzornKzZ86cyZNPPonJZGLZsmU8+eSTrFixosfs6I88+NBD3Hnz/ZgsOiMnR3A4q4IXHv2KJQ/8\nvF1GjeL8w5uffgHQ9nk+tuXYGSOlfB54HtwVnc5mDKeHIhuNuolJAaHsF4LAnbkU+vkwZd5EpibH\nsP9YJas372eQlMxb/TdGbNtDs4+FzGW3tmTYuLNs8m3+/HnIaP57XwbldY3EBbUXz0CrGX+LmaqG\nZoJsPh5tE0ia9JNtJ2Lmxo9uYEejHw5DMjlvE2ajGScaCIGpzYtep9DJCRl62nug6zojR45sXXx1\nKqKiorj11ltbv7/77rsUFBQwc+bM057bNicaaM2JPhthjYqKal1c1TY3+9JLL23tM3HiRN54440e\ntaM/snDO7Tifc/LEE8t55v7tRA4M5Jf338ayu35/rk1TnGO8EfgMYIgQIhG3sC8EFvWoVadA8zD3\nDSo9Tvqm3Yz2MfPl/XNJe3cHVDUghWDLkRLiosMYsW0PEfnF/PqVp0n65iDXrnqJp/7/yZQxQ9Mo\nsvpxzMfG9EFRvLb7EKOiT1ZV+uLQMXxMGgODPC84cqFR5B+DU2+fp79r1y6EEEhzAKH1Ja3pmToG\n+QHxRNfk0aBbKbDHU+wfQ71PQKexk5OTW5eW22w2EhMTsdtPseqVkwVFIiIiWmu2ts2J9obuyIk+\nUWu2LV3ZsWbNGhYsWNAjdvR3rpu3hOvmLTnXZih+YJxW4KWUTiHEEuBD3NPdNVLKLCHE7S3tzwkh\nIoFMIBAwhBD3AilSSs9J29+Dpk5VltxohsHsi9NZ/PfP2KALbAFW3vvmOx59fyfzfnMnozdlsiMl\nCS1zN4dHDMNWW09gWQXVYcGtYwgpqTFbWHbJKKY98x61jc1cMTyOrOIK/vDp1/xp/mS0DtsSV/nY\nKbeFU2vxpyCwc9jJ5GoiuqYAl9BxaqbWJJ0TuTqfJF6O68QfBQ+rCzVNQ9d1Bg0axJAhnveP78jT\nTz/NihUrcDgcOJ1OFi5cyMqVK1tzogMDA70a5/vw5ZdfsnTpUjIyMvD39+eaa65h9erVSCk92rF8\n+XJMJhOLFy/ucdsUivMFrwJ0UsoNwIYOx55r87kYd+imx3F4CNFUhoewceEVPPOXf2MYLj6Ukvl/\n3cjYhCjm/+pGCA1GbtzM+2YTORs3U1BZx70hdoI7CLxD13k/KoE766rZeu8cnt28jz98upeBQf6s\nvXlmuzRMCeyJTKfEPwrjxFOFh20GDKETVF/OgLoid682L1AHVn9HTugwXKfYKsAwDBwOR5ftHXnp\npZf4/e9/z4MPPsiQIUMoKytj1apVjBw5kqVLlzJv3jyvxzrbnOjs7GyuvPJKFi1axAMPPEBFRQVr\n1qzhqquuQtM0Fi9e3M6OF198kfXr1/PJJ594XEKvcrMVirOjz72BsbS8NCravZ+vX/+AmuJSEhNi\nuDv/GI/962l+ezCTGa98yTuXTGZgSiTb7OH84Y7H+VWQH/+aPxmRFElmXhklz6xHO3wUhiadHFwI\ncgOC2RQewwyZz/LZXRcuLwwYSIl/FBZnE/amCpp0KxW20E79DM3E4ZAhxNTmA+ASGi7p/kPQrJtp\n1rveegHc8fbQ0M7jdsWqVau48cYbW2f7oaGh+Pn5kZWVdcoXqp4425zolStXMmPGDGbNmgW44+9L\nly5l0aJFLFiwgPvvv7+17wcffMDKlSv5/PPP8fX19Tieys1WKM6OPrdVgb/Zh8ObMvj4sWewBgUw\nYGQyk0sryMw5SuS3WUiTji0lmtlbd2BxOflu7wGCfMzEJwxAq3TXOk0fGMYwHzO523d1Gt+h62wJ\niz6lDcf8otgXMQrdaCa8rogLSr9hXP6XzMx5l2HHdmNtrm/Xv8lka/1soHEgfCQHQ4dx1J6A0dXm\nYrjDM0FBQYSHh3t9f4qKikhMPLmwa9++fWzZsgXDMBg3bhypqals2LCBt99+m9jYWLZu3coVV1zB\nZZe5d7YsLCxsTalrmxM9bNgwrr32Wq9yorOzsxk2bFi7Y7m5uTQ3N/P555+TmpraaseSJUuoqalh\n5syZpKamcvvtt3ebHQrF+Y7wJue6J0hPT5enyr/uiiZnM+FxMbianQQnxBA6JJ4Bm3exuqiE61Iv\nYMfCCYhXv4DYMBzThvOXbwr4JOMAb44fgvblPoxbLoWjpZT//TNuTkkg+skHO10jur6WR7I8v8TL\nCh9Jnj0Rqbmzb4ThwmI0M/XIJ1gMh7tkn9DZETuVKlsISEl4XTHphe6KTE6hkzUglUIP8fqOCCGY\nMWNG60tSb7j44osZMmQIc+bMaT2Wm5vLE088QUFBARbLqZ8YuoNbbrmF8vJybr755tZjTU1N3HTT\nTWzdulVlvygU3wMhxE4pZdfhhTb0uRDNkWOF1JaUk37z1aRd594kS/5iIR/97L94Zec+tN3fgq8P\nxjVTsHy5nwUNTfwmp5CyeROJqKpH+68XQRO8EBJA3OihdHxla3a5mFBW6PHaLqFRawlsFXcAqek4\ngCPBSSSXH0AAJuli5LGv2Bx/EZo0SKzIae0vkJT6DfDKVyEEBQUFJCcne31/HnvsMebMmYOmaYwd\nO5bDhw+zZs0aHnjggV4Rd4B77/klEydNpq6ujgULFuB0OlmzZg2TJk1S4q5Q9CJ9LkRj001Il0HS\njJMpdkLTeOPaWTwvNOTIeIgJBZOOnDwUv5ljuHLmeB5d/S4FwNrrL2bpwHDmVtZx59ABWF1OzC73\ni1sfl5PY+hpmlBR02u8GcIt1ZW6n41LTKfNtL9plNvcLWQFkxkwmI3oSTbqFfeGjaNY959F35Exf\nsAJMmzaNdevWceDAAR5++GHee+89li9fzrJly85onLMl86N3mTVtConBfmTu2M4tt9zCfffdR2pq\nKm+99Vav2KBQKNz0uRm8j8WK0HW2rH6Jix65E6s9gOrCEsr+uY4rhUBOSEZ8ntXa3yUEvvfdyqKj\nv+Olyio+2HGQ5AvHMnTDZigv5/E9X5IZGkmF2YfBtZWkVJWj0XGXGTcCsDY3dG6QEqvTHXc3EJTb\nwskOHw5Cw9USYy/zi+CzhMswulhZqAkwOlxU1/Uzir+fYPr06Xz66adnfN73pdnRxPyfLuZ/5o5n\nXkvx8qMVtUx79j1uuOJHXb5EVSgUPUOfE3irvy/RacNw1DXwr4X3YQ0KoLGqljeBtyaPYoqmoQEG\n0KxpvBaXjNRNBNlsmG9ZQMqoCwBo3P415qp6/AJ9mV7iznBxIk75SONC6zK8El11FKfQ+SpqHJW2\nUAytw60VGkYXVaSENAhsqKTGJxBXy3k6BnZ7iMdiHD9UPnv9HwwIsLWKO0BcsD93TUnh73/5E5N/\nfM25M06hOA/pcwLf1NzM5Htu4J3bH8XZ2ER9qZPZThfFPhbE0pvZsyOD4brOAXsoGyPjORQY7HGc\nQl9//HxsBGkaLiEwGwYVZh92hUQQ4GxmXFkx5jZ7xhgInLqZI8GDPYwmORySzAHTaBosfqcuJuIB\nzXCReDwbKTTy7Am4hEZMfRFxqVf3qXJ6tdWVhPh23ksnxNdCVmm9hzMUCkVP0ucE3t/HSu7HWwgd\nHEfC1HQcdQ1c/fW3XPLVfub8/EFsmoaproHm17Zw6JGTW6hWhoUQUlLOiQh6QFklT0+Yit2mE9bY\nSINu4nCAHYemYTYM3hyYzLJ9OxjQ5A7JuITGtpipODzlrQuNSt82+2qfKAfojThLicAgvP4YujSI\nqm2zzc+RryHWu9WrPwSmX7WAm5Y+xKHyapJC3atUnS6Dv2XkcPcStYxeoeht+txL1oq6WrLe3sig\niydx6LPt7F/7MY+YdObddi2pMZG88JslHBiTwppf33lSaIE9U8cw8cMvQEoSsw7S4GejOiyEPD87\ntbpOTkAQTboJKTQcuolGk4kVKeNbY/H1msbI4gyEx+h8F3iYybfPZHG3+zfVoHUsQCJ0hMW7nSV/\nKIRExbL8vjuY/uwGnti4m+e27GfaHzcQEhLM1XctPdfmKRTnHX1O4L8rLcTZ5GDvaxsYc/1VzP/r\n7xh08ST2vLKeyvyidn2nrf2Yaes+AeCbiamURUXw+ML7uObXq3kgOJAdz79GVX4xB4PCcHao3QrQ\nqOsc9LdjAH6uZoIc1QTXlyM6bpfQUcilgZ+jBiFdmFwOfJtqCK8pQnc1d8iKESAElbZQSvwi24+h\ngRg28Szv0rnjzuWrWPf6q5RbQ8msgvvuvYd3tu7GYrWd/mSFQtGt9LkQjT3AjtHsZMz1PyFuUhoA\nybOmUfDVPvK27SE7LYXsNHeu9aa5bWqoCsGLt17Lu19n4x8RQsKF4zDyCll7x2Nc/Os7iR0/yuP1\nTgRZTtyotKId7IyZSKU1CKcQ6BI06a7OZGgmNMOJLl3YHLWMz/8Sk9GMSbpwCp3CgIFkDUj1GLo5\nHDSIAXXFJw9MnAuVJUizD8Lq/UKnHwLpl84h/dI5p++oUCh6lD4n8I6GBjSziZ1/ewOzrw9hyYnk\nZ+zl6JZdHjf7asvXr79P6OB4Zjz0i9aXl7HjRrH56TUs+OcfEB22tdWkJKm2qt1jjsVwMD7vC7ZE\nxPNhTDIpx/OYn59LfmA8tZZAApoqqbQGE1d1GIursfVck3RhMhxo0oUhPNz2tqJvC4Dt6zE0HVxO\nxPhZaJPmnsXdUigU5zN9TuD9/AMwW31Iu/4q9r39MTVFpYQOiSd18Y85snnnKc/N27aHSUuua5eZ\nEjN2ONJlUJVfTFBc+z1oBjTU8UxyGrkBQe58emczVxQcZkZpPlH1FdSJJoZWl2FxORhUcRCn0Kn0\nCabJZCOk4Xin+FdE3bEuKzlFV+dRa/bH5qxHb6xrVxRcZnyADItFDBl7JrdKoVCc5/Q5gdfNJkZc\nfRnZGzYx4+HbscdGUrIvh08ee5ZJd193ynNNNh8aq2vbHZMuF80NjZisnVeXFvn6UwSts+t6s4W3\n4gZTbzJhMVxENtThZ/jynT0Rs+EEJJG1hYQ0VXh8GWuSLlILt7Mzdkr7BiHIihyDtbmO6Yc30mmZ\nldOBsfMjdCXwCoXiDOhzAh/jZyftZ3NBCNbe+Vtczc1YA/0Ze/N8Ei489f47yZddyFcvv0N02jAs\nfr5IKdn9ynpCBsXhH+FhS14PsXKXprMxKp6JJQXU6SYyIxIIk3YCm2sYf3QTesdsmDYYgGHyITIy\nkuLi4k7tZpcDNB0MD0VNGmpO6dv3obGxkZycHMrKyrBarQwaNOisVtAqFIofFn1O4Msb6hCaxpjr\nryJ10RyaGxqx+Nla4+eGyyA/Yy9VR4sIThpIzJiU1rbkyy+k7OAR/rXwPqJTh1GVVwxCcPlTD5yR\nDQ5NZ1NUPJphMKEgiwHTb0DP2oRG1+IO7he2vhctYHh0AiUlJRhG+/711iCEyQyODgKv6ZA4mp6g\noaGBTZs24XQ6kVJSW1tLRUUFKSkpxMfH98g1FQpF79DnBL7e2dT6WTPp+ASczDBpqKxmw9IVaLpG\nxPDBZH+wCZPVh1kr/wuLvy9C05hyzw2MvGYWpftz8Q0Lxj8yjE9/92cajlchhGDonIsZec3lNFbX\n8sljz1BTVEpAVDg/+u0vT16rJb8+UGjkhkzgx7Pm4qqt5KbUgSy75BRCLDQCS3PRwsNJGTaUffsP\ntGseOmwY2uBw5EcvgbMZkKCbwOqHNn5Wd97GVnJyclrF/QQul4v9+/cTGxuL7iF9VKFQ9A36nMDH\n+Id02bbtj/8kOm0YE+9a7C50LSWbVvyFjBdeZ8q9N7T2C4yOIDDavcdLfVkFk+5cTNgFiTjqG3j7\nlkeIHTeCb9/fRMyY4aRe92N2/2Mdu/+xjgl3/PTkxYRgckwKd984n4/+/jzRR7Yx8YGnmTM8jpRI\nz9sjCGlgbFmLsWMDA3WNiEnzOBbsLs4RGRmJzWYDEpH2CIydH0HNcUT8cETaJQib//e/eR4oKyvD\nU00AKSV1dXW9Ur9VoVD0DH1uoZPexfJ/aRgc+nQ7addf1ZolI4Qg7fqryP3Ptg6dTwqab1gwYRck\ngpRYbFaC4qOpK63gu827SL78QpCS5MuncmRzJrrhwuJsBsAsNCxHyxk0IISEzDewFB/i2rQk1mUd\n9WifQzPzVeQ4Phoyhw8TZ7E1YhyO7e+TYFSRmJjYIu5uRFQS+pW3o//0IbTJc3tM3AGsVs+rZaWU\nvbZ/vEKh6Bn6nMAfrDzm8biUbpHXTO1DCrrFjHR1LtTdCSGoKS6j7OB3RAxLouF4FYEhgSTWVvFQ\nSS6y9Dirdn7OXTl7MWs6cxNGU1t8jIGyFpzu1amxdj8KqzpvqiWBHbFTOeYfhRSae/WqNYRt0ZNo\n3P7+Gd+D7mTQoEGdwjCaphEaGtql+CsUir6BVyEaIcTlwGpAB16QUj7VoV20tM8G6oGfSyk7Fzzt\nBrqSak3XiJuUxjdvfMiY669qPf71v98nvk12jeF0kv3BZo58kYnQNQZdNIFBl0zC2ehg469XMfnu\nn2Hxd8faE2uqaNJ1/hOVAJpARzK4ppKnDuzCd8AFvFlZ6tWGYhWBUdRb/NtVgkIIDKGRZ9joWK/J\nMAzy8/PJz89HCEFcXBzR0dGtTybV1dXk5uZSV1dHcHAwSUlJ7Z4AzoSIiAiGDh3KgQMHEEJgGAYh\nISGMGTPmrMZTKBQ/HE4r8EIIHfgjMBPIBzKEEOuklPvadJsFDGn5NwH4c8v/3U64T9dFIyYtuY71\n9yyn9MAhBqQMpnD3fmqKS5mz+hHAPcPf+Oj/4qipY/i8SzGcTvb++30KdmVRV3KcwTOnkDh9HAC2\nEDt7msHXbqckv4AIPysG7kceW1UZct0zRFkTyas4mVefX1VHtL2zffXpc+BoUafjhmaiNrD9/vJS\nSnbs2EFFRQWuliePyspKSkpKSEtLo6ysjIyMjNa2qqoq8vLymDp1Kv7+ZxfKSUxMJC4ujtraWnx8\nfNTMXaHoJ3gTohkP5EgpD0kpHcCrQMd183OBl6WbbUCQECKqm20F4IvcfV22BUSFc/VLTxE/eQyN\nNbUMnjmZ+X/9Hb6hQQAUZH5DdcExrvh/D5J00QQGz5zClasfJvfjrVjtAYxaMLt1rPgpY8j+YDMA\nRe/9hx8Pj+t0s8Y1HCGnrIbDx2txOF38+6tDzBneuZh2wP5N7myYDmiGk6DEoe2OlZWVtRN3cGe1\nFBcXU1lZyd69e9u1SSlxOp3s37+/65vmBbquY7fblbgrFP0Ib0I0MUBem+/5dJ6de+oTA3Setn5P\nMms6LxBqi9lmZeiVMzy2Fe7eT9JFE9BMJ90+nnMUZ5ODwq/28eZNDwIw7tYFpC6ew8e/eYYD731G\nZJidP17tntkXVtVz2783s/7WSzEJyepV/8PspQ/gcjr5+fjBDPeQQWMvOoA9fgqVFcdPluWTEpOP\nlYFDR7TrW1ZW1k7Aae0uKS0tpaHBQ8lAoLy8/JT3RaFQnH/0apqkEOI24DaAuLjOM11vGB0ezRel\nR87qXGugPxXfFbY7FjnqAuImpzHo4okMmTmlXUz9ylUPATC2vJiQQ+46r9F2X9bfemlrnyuuXcSV\ni34OpUcxXlsJzY2dL2z2Yfz48WRnZ5OXl4dhGERERJCSkoLZbG7X1WKxoGlap0VQQgh8fHxa0z87\nXaLDOAqFQuFNiKYAGNjme2zLsTPtg5TyeSllupQy/WyXwl83dPJZnQcw+EeTObI5k8JdWSfs4fDn\nGZQeOOTe5qCrFEygSfNwq4Ij0cxu0RUR8YgxM8HUIbXQZIZR0zGZTKSkpHDZZZcxa9Ysxo4d6/HF\naExMjMcyfUIIoqOjiY6ORutgi67rJCUleXcTFArFeYM3M/gMYIgQIhG3aC8EFnXosw5YIoR4FXf4\npkpK2e3hmROMCBzAN9We0yU70TbnPTSISx5dwqfL/4zVHoCr2YnhdHHZk0sx29rHnnWh4ZIGJinJ\nsoexNyiM9OMlJ3eD9A1ELHyw3Tli0hxkdRlkZ4BuBlczJI1Gmzrfa9+sVivp6ens2rULKSVSSkwm\nE+np6ZhMJkaMGIHD4aCsrKx1ph8bG0tCQoLX11AoFOcHwtPjfqdOQswGVuFOk1wjpVwuhLgdQEr5\nXEua5LPA5bjTJG+UUmaeasz09HSZmXnKLqflji9ewcD9VyoxIByrbsamm8mtKUVDEOMbhIHkWH01\nA3SdBB8/vq2rprihiuM5BcSFRJI+dgyJ9giCLDayq0sItfgS6GPD4XISYQvkWEM1vs5mohtqMZzN\niOPFEJmAFu2p+LYbWVsJFccgKAIR4HlV6+kwDIOqKvf2CXa7vdOsvr6+noaGBvz9/fHx6bwTpkKh\n6J8IIXZKKU+9s+KJvt4IfE/QHQKvUCgU5xtnIvB9biWrQqFQKLxDCbxCoVD0U5TAKxQKRT9FCbxC\noVD0U5TAKxQKRT9FCbxCoVD0U5TAKxQKRT9FCbxCoVD0U5TAKxQKRT/lnK1kFUKUAt91w1BhQFk3\njNNXUP72X84nX0H5e7bESym92q3xnAl8dyGEyPR22W5/QPnbfzmffAXlb2+gQjQKhULRT1ECr1Ao\nFP2U/iDwz59rA3oZ5W//5XzyFZS/PU6fj8ErFAqFwjP9YQavUCgUCg/0GYEXQlwuhPhWCJEjhPhv\nD+1CCPG/Le17hRBjzoWd3YUX/i5u8fNrIcQWIcToc2Fnd3A6X9v0GyeEcAohru5N+7obb/wVQswQ\nQuwWQmQJIT7vbRu7Ey9+l+1CiHeFEHta/L3xXNjZHQgh1gghSoQQ33TR3rs6daLu5w/5H+5SgblA\nEmAB9gApHfrMBt4HBDAR2H6u7e5hfycDwS2fZ/VVf73xtU2//wAbgKvPtd09/LMNAvYBcS3fI861\n3T3s70PAipbP4cBxwHKubT9Lf6cBY4BvumjvVZ3qKzP48UCOlPKQlNIBvArM7dBnLvCydLMNCBJC\nRPW2od3Eaf2VUm6RUla0fN0GxPayjd2FNz9bgLuBN4GS3jSuB/DG30XAW1LKowBSyr7sszf+SiCg\npbazP26Bd/aumd2DlHITbvu7old1qq8IfAyQ1+Z7fsuxM+3TVzhTX27GPSvoi5zWVyFEDPAT4M+9\naFdP4c3PNhkIFkJ8JoTYKYS4vtes63688fdZYBhQCHwN3COlNHrHvF6nV3XK1FMDK3oHIcRFuAV+\n6rm2pQdZBSyTUhruSV6/xwSMBS4BbMBWIcQ2KWX2uTWrx7gM2A1cDAwCNgohvpBSVp9bs/o+fUXg\nC4CBbb7Hthw70z59Ba98EUKMAl4AZkkpy3vJtu7GG1/TgVdbxD0MmC2EcEop3+kdE7sVb/zNB8ql\nlHVAnRBiEzAa6IsC742/NwJPSXeQOkcIcRgYCuzoHRN7lV7Vqb4SoskAhgghEoUQFmAhsK5Dn3XA\n9S1vqScCVVLKot42tJs4rb9CiDjgLeBnfXxmd1pfpZSJUsoEKWUC8AZwZx8Vd/Dud3ktMFUIYRJC\n+AITgP29bGd34Y2/R3E/rSCEGABcABzqVSt7j17VqT4xg5dSOoUQS4APcb+VXyOlzBJC3N7S/hzu\n7IrZQA5Qj3tW0Cfx0t9HgVDgTy0zW6fsgxs3eelrv8Ebf6WU+4UQHwB7AQN4QUrpMe3uh46XP9/H\ngReFEF/jzi5ZJqXsk7tMCiH+BcwAwoQQ+cBvADOcG51SK1kVCoWin9JXQjQKhUKhOEOUwCsUCkU/\nRQm8QqFQ9FOUwCsUCkU/RQm8QqFQ9FOUwCsUCkU/RQm8QqFQ9FOUwCsUCkU/5f8AvEqMrjZuP0IA\nAAAASUVORK5CYII=\n",
      "text/plain": [
       "<matplotlib.figure.Figure at 0x7fd364ab5190>"
      ]
     },
     "metadata": {},
     "output_type": "display_data"
    },
    {
     "data": {
      "image/png": "iVBORw0KGgoAAAANSUhEUgAAAXgAAAD8CAYAAAB9y7/cAAAABHNCSVQICAgIfAhkiAAAAAlwSFlz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\nGXiFQqEoo/w/PvM/1qXy3U8AAAAASUVORK5CYII=\n",
      "text/plain": [
       "<matplotlib.figure.Figure at 0x7fd364f0eb90>"
      ]
     },
     "metadata": {},
     "output_type": "display_data"
    }
   ],
   "source": [
    "for i in range(len(best_show)):\n",
    "# for i in range(1):\n",
    "    lr, iters, season, home, lam = best_show[i]\n",
    "#     print H_params[i]\n",
    "    \n",
    "    H_sandiego = H_sd[lr][iters][season][home][lam]\n",
    "    H_austin = H_au[lr][season][home][lam][iters]\n",
    "    \n",
    "    H_sandiego = pd.DataFrame(pd.concat(H_sandiego))\n",
    "    H_sandiego = H_sandiego.values\n",
    "    \n",
    "    X = np.r_[H_austin, H_sandiego]\n",
    "    print np.max(X)\n",
    "    X = X/np.max(X)\n",
    "    y_pred = KMeans(n_clusters=7, random_state=0).fit_predict(X)\n",
    "    x1, x2 = (-np.var(X, axis=0)).argsort()[:2]\n",
    "    \n",
    "    y_sd = np.zeros(len(H_sandiego))\n",
    "    y_au = np.ones(len(H_austin))\n",
    "    y_label = np.r_[y_au, y_sd]\n",
    "    \n",
    "    home_error = H_error_home[lr][iters][season][home][lam]\n",
    "    home_error = np.around(home_error.values)    \n",
    "    \n",
    "    \n",
    "    start = len(H_austin)\n",
    "    d = np.random.randint(0, 2, size=(3,3,3))\n",
    "    z,x,y = d.nonzero()\n",
    "    import matplotlib.pyplot as plt\n",
    "    from mpl_toolkits.mplot3d import Axes3D\n",
    "    fig = plt.figure()\n",
    "    # ax = fig.add_subplot(111, projection='3d')\n",
    "    ax = fig.add_subplot(111)\n",
    "#     ax.scatter(X[:, x1], X[:, x2], c = y_label, cmap='autumn')\n",
    "    ax.scatter(X[:, x1], X[:, x2], c = y_pred, cmap='Set2')\n",
    "    ax.scatter(X[start:, x1], X[start:, x2], color='black', marker='o', facecolors='none')\n",
    "#     ax.set_color('yellow', 'red')\n",
    "    # ax.scatter(X[:, 2], X[:, 0], X[:,1], zdir='z', c= y_label)\n",
    "    \n",
    "    max_idx = (-home_error).argsort()[:10]\n",
    "    min_idx = (home_error).argsort()[:5]\n",
    "    \n",
    "    for j in max_idx:\n",
    "        ax.annotate(home_error[j], (X[j+start, x1],X[j+start, x2]))\n",
    "    for j in min_idx:\n",
    "        ax.annotate(home_error[j], (X[j+start, x1],X[j+start, x2]), color='red')\n",
    "        \n",
    "\n",
    "    plt.savefig(\"../results/Home_factors_{}_{}_{}_{}_{}.png\".format(lr, iters, season, home, lam))\n"
   ]
  },
  {
   "cell_type": "code",
   "execution_count": 283,
   "metadata": {
    "collapsed": false,
    "scrolled": false
   },
   "outputs": [
    {
     "name": "stdout",
     "output_type": "stream",
     "text": [
      "[0.1, 1300, 2, 3, 0]\n",
      "9.64394298538\n",
      "[0.1, 1300, 2, 3, 0.001]\n",
      "10.6814626598\n"
     ]
    },
    {
     "data": {
      "image/png": "iVBORw0KGgoAAAANSUhEUgAAAXgAAAD8CAYAAAB9y7/cAAAABHNCSVQICAgIfAhkiAAAAAlwSFlz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\n1AAAAABJRU5ErkJggg==\n",
      "text/plain": [
       "<matplotlib.figure.Figure at 0x7fd364ba74d0>"
      ]
     },
     "metadata": {},
     "output_type": "display_data"
    },
    {
     "data": {
      "image/png": "iVBORw0KGgoAAAANSUhEUgAAAXgAAAD8CAYAAAB9y7/cAAAABHNCSVQICAgIfAhkiAAAAAlwSFlz\nAAALEgAACxIB0t1+/AAAIABJREFUeJzs3Xd4VFX6wPHvuTOT3hvphVACSIgSFLGjKEVFxAKLrnUR\nFduqi6io4OraBUV/iC42EGSxgHSQIoL0HloCIUCAFEivU87vjwkhYSbJBBLChPN5njwyd+7ccybC\nO2fOfc97hJQSRVEUpfXRWroDiqIoSvNQAV5RFKWVUgFeURSllVIBXlEUpZVSAV5RFKWVUgFeURSl\nlVIBXlEUpZVSAV5RFKWVUgFeURSlldK3VMNBQUEyNja2pZpXFEVxSps2bcqVUgY7cm6LBfjY2Fg2\nbtzYUs0riqI4JSFEhqPnqikaRVGUVkoFeEVRlFZKBXhFUZRWSgV4RVGUVkoFeEVRlFZKBXhFUZRW\nSgV4RVGUVkoFeEVRlFaqxRY6XeiklBwuXsuBgmVYpIU4n+uI8bkKTehaumuKoigOUQG+DuuOf8bh\norWYZAUAuWV7OVS0hmsjRiGEaOHeKYqiNExN0diRV36QQ0V/VQd3ALOsILt0J9llu1qwZ4qiKI5T\nAd6OrNIdSGmxOW6SFRwv2dYCPVIURWk8FeDtcNF52Z1r14QBV51PC/RIURSl8VSAtyPK6wrAdp5d\noBHjc9X575CiKMpZUAHeDoPOg+sjX8FV541ec0evuWPQPLgm4gXc9f4t3T1FURSHqCyaOgR7JHBH\n/JecKEtFYiHQvT06YWjpbimKojhMBfh6aEJHsEdCS3dDURTlrKgpGkVRlFZKBXhFUZRWyqEAL4To\nK4TYK4RIE0K8ZOf5F4UQW6t+dgohzEKIgKbvrqIoiuKoBgO8EEIHfAb0AzoDQ4UQnWueI6V8X0qZ\nJKVMAkYDK6WUJ5ujw4qiKIpjHBnBXw6kSSkPSCkrgRnAwHrOHwpMb4rOKYqiKGfPkQAfARyu8fhI\n1TEbQggPoC/w07l3TVEURTkXTX2T9TZgdV3TM0KI4UKIjUKIjTk5OU3ctKIoilKTIwE+E4iq8Tiy\n6pg9Q6hnekZKOVlKmSylTA4ODna8l4qiKEqjORLgNwDthRBxQggXrEF8zpknCSF8geuA2U3bRUVR\nFOVsNLiSVUppEkKMBBYBOmCKlDJFCDGi6vlJVacOAhZLKUuarbeKoiiKw4SUskUaTk5Olhs3bmyR\nthVFUZyVEGKTlDLZkXPVSlZFUZRWSgV4RVGUVkoFeEVRlFZKBXhFUZRWSgV4RVGUVkoFeEVRlFZK\nBXhFUZRWSgV4RVGUVkoFeEVRlFZKBXhFUZRWSgV4RVGUVkoFeEVRlFZKBXhFUZRWSgV4RVGUVkoF\neEVRlFZKBXhFUZRWSgV4RVGUVsqhAC+E6CuE2CuESBNCvFTHOdcLIbYKIVKEECubtpuKoihKYzW4\nJ6sQQgd8BvQBjgAbhBBzpJS7apzjB3wO9JVSHhJChDRXhxVFURTHODKCvxxIk1IekFJWAjOAgWec\n8zfgZynlIQApZXbTdlNRFEVpLEcCfARwuMbjI1XHauoA+AshVgghNgkh/m7vQkKI4UKIjUKIjTk5\nOWfXY0VRFMUhTXWTVQ90BwYAtwBjhBAdzjxJSjlZSpkspUwODg5uoqYVRVEUexqcgwcygagajyOr\njtV0BDghpSwBSoQQfwDdgH1N0ktFURSl0RwZwW8A2gsh4oQQLsAQYM4Z58wGrhZC6IUQHsAVwO6m\n7aqiKIrSGA2O4KWUJiHESGARoAOmSClThBAjqp6fJKXcLYRYCGwHLMBXUsqdzdlxRVEUpX5CStki\nDScnJ8uNGze2SNuKoijOSgixSUqZ7Mi5aiWroihKK+XUAb6g4jCZxZsoMaqUS0VRlDM5kkVzwak0\nl/BH5jucLD+AJvSYpZFo715cEfo4mtC1dPcURVEuCE45gl+f9QUnytIwy0qMllIs0sjhor/Ymzev\npbumKIpywXC6AG+yVJBZvAELplrHzbKSfXkLWqhXiqIoFx6nC/AWaaSuzB+Tpew890ZRFOXC5XQB\n3qB54mWwV6xSEOrZ7bz3R1EU5ULldAFeCMEVoY+jF64IrDdUNWHARfOkW/CwFumTlBaySlPIKFyt\nMnoURblgOGUWTbBHJ/rGvs/evPkUVmYS7J5Ae79bcNP7nve+FFdmsezwWCrMRQBYMBPveyPdQx5G\nCHHe+6MoinKKUwZ4AG+XMJLbPNLS3eCPzPcoMeUCp+8LHChYTpB7R2J9rm65jimKctFzuimaC0lR\n5TGKjcepGdwBzLKC1LyFLdMpRVGUKirAnwOTpRxRx6/QKFVGj6IoLctpp2guBL6u0WhCf+YAHp0w\nEO195Tlfv8JcxL68hWSXpuDtEkZH//74ukY1/EJFURTUCP6caEJHz7CR6IRLdUaPTrjiaQiho/+A\nc7p2qekk89KfY/fJX8guS+FAwTIWZYzmaMmWpui6oigXATWCP0cRXt3pG/s+aflLKDXmEuaZRIzP\n1eg113O67s7cmVSai5GYAZBYMMsK1h+fxMC2k1SGjqIoDVIBvgn4uIRzWcgDTXrNoyVbqoN7TZXm\nYkpNuXga1J62iqLUz6EpGiFEXyHEXiFEmhDiJTvPXy+EKBBCbK36ea3pu3pxMWgedo9LLBg09/Pc\nG0VRnFGDAV4IoQM+A/oBnYGhQojOdk5dJaVMqvoZ18T9vOh09B+ATtSe5tHQ0ca9Ky46rxbqlaIo\nzsSREfzlQJqU8oCUshKYAQxs3m4p8b430tb3ejRhwKB5oBOu+Lu15crwp1q6a4qiOAlH5uAjgMM1\nHh8BrrBzXi8hxHYgE3hBSpnSBP27aAkhSG7zKF0CB5NXcRBPfZBKkVQUpVGa6ibrZiBaSlkshOgP\n/Aq0P/MkIcRwYDhAdHR0EzXdurnr/XHX+7d0NxRFcUKOTNFkAjWHjpFVx6pJKQullMVVf54PGIQQ\nQWdeSEo5WUqZLKVMDg5WWSCKoijNyZEAvwFoL4SIE0K4AEOAOTVPEEKEiqrEbCHE5VXXPdHUnT3T\n1l1r+PybN1m0chYWi6W5m1MURXEqDU7RSClNQoiRwCJAB0yRUqYIIUZUPT8JuAt4XAhhAsqAIbKu\nbZeaQKWxgjv/fh2rFm8lIbkNh/fl4Rf4DIt++4OosPjmarZBUkqOlW7lYMEqhBDE+VxHG4+ualGS\noigtQjRjHK5XcnKy3Lhx41m99qW3HuG3OXN58YteuLrrkVIy7d0dlGS7sGLejibuqePWHf+cQ4Vr\nMMkKwFq2oK3vDc1a1thisXAwcy+BfiH4egc2WzuKolwYhBCbpJTJjpzrlLVoZv4wh7ue7oSru/UL\niBCCwSM7sW7FHk7kHW+RPp0oSyOjRnAHa9ngAwXLyK841Cxtfvu/8US3DyApMYmw8DBuHdqTvEK1\no5SiKFZOGeDLiivw8nWpdczVQ4/OoFFUWtgifTpWsgWzrLQ5bpFmjjVDgbBla2bzzBOjeWBMIpP+\nuo3xS/pSUJrFoGG9m7wtRVGck1MG+Gtu6s6KWRm1jm1YnElopC/RYe1apE96zd1aOvgMmtChb4bS\nAh9MeItbH+nIJVe2QQiBt78rj467lM2rU9l7YFuTt6coivNxymJj7479P3pddQV52eUkXhPC4b1F\n/PnbQabNnIKmtcxnVrRPL7bnTrf/nFfPJm8v89BxkvrG1jrm4qYjNNqb1PQUOrbt1uRtKoriXJxy\nBB8XmcD2Lbu5/pqbObDRTHhgAmvXreHWG//WYn3y0AdwZejT6IQres3d+iNcuSr8n7jqfZq8vW6X\ndmbbH1m1juXnlHM0vYAe3a5p8vYA8srT2XD8S1Yf/ZiMwtVYpKlZ2lEUpWk4ZRbNhcxoKSOrZCcI\nCPVIPOe68HVJTd/BFT2v4MZ729KzXyQ5mSX8+HEKffpex+QPf2ny9tLyf2dz9hQs0oTEgl644e8W\nyw1Rr6EThiZvT1EU+1p9Fs2FzKC5E+ndg0ivHs0W3AHax3Vl+YpllGZ78t7w1fwyMZXHHn+YSe//\n1ORtGc2lbM6egllWIrEuKDPJck6Wp3OocE2Tt6coStNwyjl4xapbp57Mm7Gu2dvJKduDEDqbvWfN\nsoJDRWuI872u2fugKErjqRG80iC95gp1TOXVtTGJoigtTwV4pUFB7gl2p5t0wpV2fje1QI8URXGE\nCvBKgzSh4/rIV3DV+aAX7uiFO5ow0CXwTkI8urR09xRFqYOag2+lrNlREiGa5jPc3y2OO+K/IKt0\nJ0ZzKcEenXHX+zXJtRVFaR4qwLcyZouRbTnTSCtYillW4u8aS3KbfxDkbrP/SqNpQk+YZ1IT9FJR\nlPNBTdG0Mn8d/5S0giWYZQUgyatIZ9nhsRRWHm3primKcp6pAN+KlBpPkFm80abomUUa2X1yTh2v\nUhSltVIBvhUpNh63u6pUYiG/4uD575CiKC1KBfhWxNslHLM02hwX6AhwbbmdrhRFaRkOBXghRF8h\nxF4hRJoQ4qV6zushhDAJIe5qui46n6PFm1l4cBQ/pT7E74feILds33lp113vT7R3L3Sidq18nTDQ\nKeD289IHRVEuHA0GeCGEDvgM6Ad0BoYKITrXcd67wOKm7qQzOViwij+PfkhexQEqLcVkl6Ww7PBY\nckr3nJf2rwh9nE4Bt+Oi80ZDT7B7Z26KHoeXS5vz0r6iKBcOR9IkLwfSpJQHAIQQM4CBwK4zznsK\n+Ano0aQ9dCJSSrbkfGdzk9MsK9maM5U+Mf9u9j5oQkfXoHvpGnRvs7elKMqFzZEpmgjgcI3HR6qO\nVRNCRACDgP9ruq45H5OljApzkd3n8isy7B5XFEVpLk210Gk8MEpKaRFC1HmSEGI4MBwgOjr6nBq0\nWCzk5ORQWlqKr68v/v7+1Nf2+aDTXNEJAyZptnnOXR/QAj1SFOVi5kiAzwSiajyOrDpWUzIwoyrA\nBgH9hRAmKeWvNU+SUk4GJoN1w4+z7XRZWRlr1qzBaDRisVgQQuDj40PPnj3R6XRne9lzpgkdHf0H\nsCdvbtVCIyudcOWSwIv6vrOiKC3AkSmaDUB7IUScEMIFGALUWjUjpYyTUsZKKWOBWcATZwb3prR1\n61bKysowmUxYLBbMZjMFBQXs23d+slXq0zXoHjr490MnrKN5g+ZJUvAwYn2bZxs9RVGUujQ4gpdS\nmoQQI4FFgA6YIqVMEUKMqHp+UjP3sRaTycTJkydtjlssFo4cOUKnTp2are3i4mJSUlI4ceIEOp2O\nmJgYOnToUGujbyE0koKH0TXoHirNJbjqvNFEy32rUM6vL/77A5988gk52UdJ6NyNt8a9zjVXObS7\nmqI0OYfm4KWU84H5ZxyzG9illA+ee7fq7Uudz1kslmZrt7y8nD///BOTyVTd1oEDByguLiY52fYf\nsE4YVLXFi8wbb41n4oQPGHDPU4RGxLN725/0738z8+cvVkFeaRFOV03SYDDg4+NDQUFBreNCCMLC\nwpqkjWPHjjF16lQqKyu5++676dChA+np6TYfIBaLhezsbEpLS/HwUDsbXcwqK42M//BtHnn2YyJi\nOgLQJjwWgFdfH8fKpaoWkHL+OWWpgqSkJPR6fXXWjKZpuLu7k5CQcM7XnjJlCh06dGDOnDksX76c\n5ORkXnnlFfLz8+1+Q9A0jaIi+6mRysUjdf9BgOrgfkqnblezZ9e2FuiRojjhCB6sQbVmSqSU0uaY\nPSaTiaNHj1JQUIC3tzcREREYDKeLc2VlZfHMM8/w5ptv0q5dOwByc3P55z//SWJiIl5eXjZTRBaL\nBU9PzyZ8d4ozighrQ0VFGUUFJ/D2Daw+fvxIGsEh4S3YM+Vi5pQj+K1bt2I0GquDrZSSkpKSerNo\nysrKWL58OSkpKWRkZLB7926WL19OSUlJ9TnTp08nMTGxOrgDBAUFcdNNN7F06dJaN1PB+kETGBiI\nl5dXE79Dxdn4+fnQb8DdzJzyJkUFJwA4krGXuTM/5emnn27h3ikXK6cbwZtMJvLz822OSynJzMyk\nS5culJeXU1lZiaenZ3VefEpKChUVp3PTzWYzZrOZHTt20LNnTwAqKytrjehPMRgMmM1mrrzySnbs\n2EFBQQGaphEZGUmXLmpPUsVq2refM+yBJ3hn9F24urojhOC5519m+MNDW7prykXK6QJ8faSUrF27\nlpMnT6JpGlJKOnfuTExMDNnZ2XZfk5ubi5QSIQR3330348aN4/jx44SGhgLW1Mhly5bx9ddf4+fn\nxzXXXFO9uOrMKaHCwkJ2795NXl4erq6uxMfHExUV1eIrbJXzw93djZ9nTiE/fzzHsnKIj4vGxcV2\nwKAo54vTBXi9Xo+fnx95eXm1jmuahk6n4+TJk1gsluobort27cLDw6POIFvzeFxcHKNGjeKFF17g\nxhtvxGAwsHz5cm655RZuvvnmWm2dqaioiNWrV2M2W8sUmEwmUlJSKC8vp0OHDuf8vhXn4efng5+f\nT0t3Q1Gccw4+KSkJV1fX6ukXnU6Hu7s7lZWVNpkuZrOZ/fv3ExERYRPkhRCEhobWOj5mzBiWLl1K\nWFgYPj4+fP/993z33Xd2g3pNqamp1cH9zLbPPK4oinI+ON0IHsDT05PevXtz/PhxSktL8fHxwdXV\nlbVr19pNZSwvL6d79+7k5eVV31QVQuDu7k7Xrl1tzk9OTra7eKk+9u4LnFJaWoq3t3ejrqcoinKu\nnDLAg3Xu/MCBA9XVJNu3b293lasQgsDAQLZv305xcTGapmGxWAgKCiI5ObnBkbmjPDw8KC0ttTku\npcTV1bVJ2lAURWkMp5yiOXz4MJs3b6agoACj0Uhubi7r168nOjq6VjVJIQR6vR6z2UxWVhZSSsxm\nM1JKcnNz2b9/f5P1qX379jaVLDVNIzw8HBcXlzpepSiK0nycLsBLKdm9e7fd+e7CwkK6d+9OYGAg\nnp6exMTEcO2113Ls2DG7ZQbS09ObrF+BgYEkJSXh5uaGEAJN04iKiiIxMbHJ2lAURWkMp5uiMRqN\nGI1Gu88VFBQQEhJCSEhI9bHi4uI6b3KeKhzWVMLCwggNDcVoNKLX65ts+ke5MBiNJmb+NI/MY8e4\n5abr6db13EtjKEpzcroAfypw2gvabm5utR7v3r273lG6v79/k/dPCKGmZFqhLVt30W/AAFxc3QkK\niWTc66O5ud8gZk3/qkU/yI1GE7v37SesTQjBQU3/91lxbk43xNQ0jdjYWJt/VDqdrla+eW5uLgcP\nHqyzhLBOp1OrUBWH3TPkb/S8bhDPvv4d9z3+Ni+/9wsb1v/FBxMmt1if3v/4C9qERXHdtdcRHR3F\nzQPuJj+/sMX6o1x4nC7AAyQkJNQqDSyEID4+nvDw00WdDh06VOfUTHBwMNdeey0+PmoxitKwLVt3\nkZ2VydV97q0+5ubuRe8BDzJt6rQW6dPMn+fx1puv8fcn32HMR3N55YM5nMgrYtA9D7RIf5QLk1MG\n+OzsbI4ePVr9WEpJWlparbK9dY3c9Xo9sbGxqgKk4rCCoiLc3DzRtNpZUu4eXpSX2abGng8fffwJ\nNw98lOi21m+hHp4+DP77aNat/p2DGWdumaxcrBwK8EKIvkKIvUKINCHES3aeHyiE2C6E2CqE2CiE\nuLrpu2olpWTz5s12y/Zu2bKl+nF4eLjdDbgtFguBgYE2x5Xzy2QsZ8XCSSya/TGlxSdaujv1uqpn\nd0ymCtJ2b6o+JqVk3cpf6X3TzfW8svlkHz9KaGR8rWNu7p74BYRw8NCRFumTcuFp8CarEEIHfAb0\nAY4AG4QQc6SUu2qc9jswR0ophRCJwEygWVIMKioq6px6KSw8Pf8YFhZGZmYmubm5mM3m6uJgiYmJ\n6PVOd2+5VVm3chp3D32EkEA9nu46Uh78F59//C/uefAth15vNlXy18qpVJSX0uv6Ybh7Nu/NRYNB\nzwcffcpTT/6DHlcNIDAkip2bl1NZXsJbY23GO+fFJYmXsnvbn8S2O52Gm5t9hML8XC7t1rlF+qRc\neByJdJcDaVLKAwBCiBnAQKA6wEspi2uc7wnUvXHqeSKEIDk5mdzcXLKysjAYDERGRqqpmRZWVpLH\nwLseYvK4CG6/0ReAbXvKuOnB97js8lto1/nael+/4c8Z3DP0IXy9NDw9dOxLf45JE0Yz+P5xzdrv\nh+6/i6Sunfn400lkZe3n/vuG8czIR/DybJmtGt9842WuvfYadDoDXZNvIDfrMPNnfcY/Hn8OXx/n\nLovx55pN/N/kKRQVFTHw9gE8eN9ddr+NKw0T9W1iDSCEuAvoK6V8tOrx/cAVUsqRZ5w3CPgPEAIM\nkFL+Zedaw4HhANHR0d0zMjIa3WEpJQsWLLA7x+7p6ckNN9zQ6Gsq58+s78cw+YtPWTwlttbx5985\nhlfgZYx9f0Gdry0rySO+bSgTx4Rx583WDc03p5Ry88PprFuzjPhO1zRn1y84W7bu4qVXx7Jty3oC\nAoMZMeIJnn7iwZbu1jkZ9/YE3n93HD2vG4i7hw+b/1pATGw8K5bOwWBQ37wBhBCbpJQOFctqspus\nUspfpJQJwB3Am3WcM1lKmSylTA4ODj6rdk5Ns9hz2WWX2RwzGo0UFBRQWVl5Vu0pTSs//wShQbY1\n0kODdDYbqZ9p/i/juaS9e3VwB7isiwd/vyOA77/+T5P39UJ3aVJnFs39keOZ6ezavt7pg/vx7Fze\neWsMI1+eTL/BT3B9v/t4eszXHDqUzhdTfmjp7jklRwJ8JhBV43Fk1TG7pJR/AG2FEEHn2Lc6nSoa\nVpOmabWKfWVlZbF48WIWLVrEqlWrWLx4MRs3bqwzu0Y5P2685X7mr8znRN7pVcRGo+SHuQX0uXlg\nva/Ny8shLNj2wyEsWGezP4DifGb9Mp+49okEh8ZUH9MbXLji2oHMnv1bC/bMeTkS4DcA7YUQcUII\nF2AIMKfmCUKIdqKqqLoQ4jLAFWiW1IhTNWTs1ZY5tSfrnj172Lhxo82o/fjx42zbpna4b0lxHa5k\nxEPXc+WQ/Xw2LZdvfj7JdfcfIDY6hH6Dnq/3tTfcNJT5K/M5mV/7w2H6vIY/HJQLn6eHB+XlJTbH\ny8tLbVapK45pMMBLKU3ASGARsBuYKaVMEUKMEEKMqDptMLBTCLEVa8bNvbKhyf2zZDKZ7JYFBuvG\n2uXl5Rw4cKDOczIzM+t8Tjk//v3REiZOeJsNu/1YuMaVkU8+zv9+242mq3+ONb7TNTx63zX0GrKf\nL2acYOrsPG74ezqR4UH0G/TP89R7pbncM3gAuVlH2LN9TfWxwvxcVv8+k0cfUQu4zkaDN1mbS3Jy\nsty4cWOjXyelZPHixXYLjgUEBBAbG8u2bdvq3UWpX79+rfuuvKUSZBloPtDK9oOVFgsLfvmAH6Z9\nTXlFJbfffjtDH3oLg0vLZLMoTevXuUv4+7AhhEe3x9PLl93b/+KhfzzFZ+MdS6G9GDTmJqvTBXiA\njIwMdu7caTMS79WrFxaLhfXr19c51y6EYMCAAWfV7gXPUgE570LhPJAW0AdByMvgdXFllyjOrbCo\nhO9++ImioiLuGjSA9vGxLd2lC0pjArxT5h1VVFQghKgV4DVNw2g0otPp6r2RGh8fX+dzTu/4GChZ\nCbLC+th0DI69CFFfgdslLds3RXGQj7cnIx/7e0t3o1VwugBvsVjYv3+/3Zuse/bssbtt3imxsbEk\nJNS/wLa4uJjU1FQKCgrw8vKiXbt2+Pn51f2Csi2Q+xlUHgCXOAh8Ajy6N+o9NQnTCShZAfKMdFBZ\nASemQMRH579PiqK0KKcL8PXdZD21ofaZdDodiYmJRERE1HvtwsJCVq9ejcViQUpJcXExOTk5dO/e\nvdYmItVK10HmMyDLrY/LTkLmkxD+IXhe5fibspRbp1VKVoE+BPzuAdd2jr8ewHQchME2wCPB2PgF\nZYqiOD+nqyZpMBjq3GBBr9fbnZ6RUta5C1RNu3btqt6z9RSz2cyOHTvsf6hkv386uFc3Vm497ihL\nKRwaBjnvW0fgBbPg0H1QuNjxawAYokHa26FKB25q20BFuRg5XYCvb8ckT09Pu9kxQggCAgIavHZd\ni2VOpV/aqDxg/0LGg+Dozev8mWA8UuODwlL1ITEWZMMfStV03uD3NxA184WF9XHAw45fR1GUVsPp\nArzJZKKsrMzucyUlJXh5edUa4et0OkJCQhza3KO+rfZ2795te1BXx4eG5ud4emLR4tM3Rc9UbqfN\n+gQ9DcEvgCEKNG/wvAaivwOXqIZfqyhKq+N0c/AN6dWrF+np6WRmZqJpGjExMURFORbg4uPj2blz\np93njh07hpQSUTNwBzwEuZ/WnqYRbtbjjtK87B+XZtAcqHxpqQSM1nOFAL+7rD+Kolz0nC7A6/V6\nfH19yc/Pt3kuLCwMnU5Hu3btaNeukTcpgZhwN3Q5PxPsuQ+T2Y0D+VdyqKAHoNmfg/f7G1hK4OTX\nWCskC/C/H/wbkeLlPxTKd1gXJlXTQB8GLm3rfp25ELLehOIVgMWawdPmdXDv6njbiqK0ak4X4AGi\no6PtBvjIyMizv6jpJOLwUCJ9ChDCAvpiOgcvxMcli505txMQEFB79A7WEXPgcPB/EMwnQBcIWt3T\nPHZ5Xg9+QyF/KmAAJOh8IeKT+qd5Mp+E8j1A1Tx9ZRoceQxifwJDWN2vUxTlouF0c/Cn9l+1Z//+\n/Wd/4fwfwVJiDe5V9JqRKN/NeLqV1VmiGLAGdUNY44M7WIN48NMQNw9Cx0LEp9Y/1zdvXr4HKtKo\nDu6nSKP1pq2iKApOOII3Go113mQ9ceIcCliWbbSTQw5oLlydHILBq4658qaiDwbvmxw713gE+5/N\nxroze5qSpQLKt1nz7t0SQbTiuj6K4sScLsDrdDqbMgWnnNNeq4ZoKNsK1C5SphMWdO7nMPXTHFzb\nA3Zy3oVr8+e8Fy+DY69av3lIrN9awieAu8q1V5QLjVMG+LCwMI4dO1ZrUZNOp6Nt23puSjbE/z4o\nWmDNXqlmANeO4Opg/RpLCRQtgspD1mBbtsU62nbrDIEjGr86tS4uMeB5NZSsrpHBo4HmAX6Dm6YN\ne4yZcOzNE8gxAAAgAElEQVRla5unPl/NJZD5BLRdApp787WtKEqjOV2AB+jatStGo5Hc3Fw0TcNi\nsRAZGUlsbOzZX9Q1HsI/hqyxYM4DLOBxFYQ6uJlzZQYcesCa0y7PmEIqPm4NxlFfg1v9tXAcFvaO\nNXsn/3/W9jyuguBnQVdP3ZxzVTj3jA/AUyxQ8gd439J8bSuK0mhOGeD1ej2XX345paWllJWV4eXl\nhaur67lf2PNKiFsApmzraFhXz+70ljLI+94a9BDW+XtLAaeHtrVOtgbh3I8h8otz7ydY578Dh1t/\nzhdzPjY3dsFamthc/36qiqKcfw5l0Qgh+goh9goh0oQQL9l5fpgQYrsQYocQYo0QolvTd9WWh4cH\ngYGBTRPcTxECDG3qD+7SDIf/ASf/C8ZD1mJepmPYD+41lNtfROUMyksLyDwZislkb+s0CR5XnPc+\nKYpSvwYDvBBCh3Ubvn5AZ2CoEKLzGaelA9dJKbsCbwKTm7qjZ+NUkbEm39SkZI01W6WuEgN1qau0\nwQXMZCznXyOvIywskO7X/IPY3puZMqvGGgThDj53WO8LKIpyQXFkiuZyIE1KeQBACDEDGAjsOnWC\nlHJNjfPXAi2adiKlJD09ndTUVEwmE3q9nvbt2xMXF2e7WKlRFzZCwRw4+SXIuuvO2yXcwP+Rs2+7\nhbzyz75s2bKVnXM7EtHGwJZdpQx+KoOAoEjuGJAMvndaa94oinLBcSTARwCHazw+AtT3ffwRYMG5\ndOpcZWRksHfv3up9WY1GI3v37kWn0xETc5YjTWmGI49bp1nOLBFcTYBwqboRKQGLdYSLtFZ09B14\ndm23kPLSAiZ/92d1cAe4tLMHH74Uzvgp+7hj+J8t3ENFUerTpDdZhRA3YA3wV9fx/HBgOFjLDZyL\nwsJC9u/fT3FxMd7e3nh4eODu7k5oaCipqak2m26bzWZSU1NrBXiTyURubi4AQUFB9efRl6yG8pQG\ngrs3tHkFzNnW9EqXBLCcsNaV0ezNXZ+DijSoTLfWoGmq9MsznMzNwMUgqoP7KYkd3Th45FiztKko\nStNxJMBnAjXXzUdWHatFCJEIfAX0k1LaXVIqpZxM1fx8cnLyWU+M5+TksHHjxuogXlBgzeDQNI0d\nO3bUuSdrzZruWVlZbN68uXrKRkpJUlISYWF11HEp/cs2/bGazhpow94D1zNz8RsuU9woljLrLlLl\n263tYgL3SyF8fJN/iLQJT8DFoLE5pZTLunhUH1/wRxE9ki6wxV+KothwJItmA9BeCBEnhHABhgBz\nap4ghIgGfgbul1Lua/punialZMeOHTYjdLDuy1rfhtuentbyuxUVFWzatAmz2YzJZMJkMmE2m9my\nZYv9jT2g6gapwfa4cIeAJyBiojXIN7ecj6B8a9VioxLrjd7SzZAzocmb0uldGPfqPxj89CF+WpRP\nWkYFn36fy9iJWbz86ntN3p6iKE2rwQAvpTQBI4FFwG5gppQyRQgxQggxouq014BA4HMhxFYhxMbm\n6nB9tWhO0TTN5maqpml07mxN/jl2rO7phaNHj9p/wuc2+zVXZAXkfQEHB8LBO6oqPDajwt/s1Myp\nhMLZzdLcQ09OZPz7rzLxhzL6PHyQP7a4sXj+j1za885maU9RlKYjmjyF0EHJycly48bGfw6YzWYW\nLVpU70hdr9cTFxdHVlYWJSUleHp6kpCQUL1xdlpaGnv37rWbPtmxY0fat29v/8Ilf8Kx0daFPdIC\nnBrt17iO5gVx80FXY2rGUm5dmHSuRbmkhNTugL33roMOm87t+oqiXPCEEJuklMmOnOt0K1nrqkVT\nk8ViIT4+no4dO9p9PiQkhH379tkE+FPb+9XJXAY6fzAetW6JZzEDtUfTBQVlHF7zDrHdnsVLdwCy\n37bWoxEG8BkEIc9b/3w2hAD3y6BsE7UXVQnwcOj/t6IoFxGnqwcPcMkllyA9XTEjsSCRVcFOCIGm\naXTr1q3ejBgfHx+io6OrN+gu0sycdLEQEBaCr6+v/RcVLoSsMdaVq5jAkkfN4G4ySZ57O5PY3tu4\n56GPiY4O57V/DUJWZmAtVVABBTPg4F3WhVJHX7SmXRb82rjNtUNGV23lV1V7XrhYvzWE1FhgLKW1\n3IK52PHrKorS6jjdCB5gfsZOFoksXLwF7mYNgxQEmXUkhcSQ3KEzHh4eDV6jS5cueAT4Mmn3nxQZ\nLBh0etYXp5J10MBtMV1tF0TlTqgnRRLe/DyL7XvL2bcogeAAPZlZRu4ceZDgAI2n7g8+faIxAzJH\nUj3NUrYFCn6BqK8cG9m7xkPsr9YiY+W7wBBqXWx06gZv6To4/oZ1hykprfV1Qt+07hKlKMpFxelG\n8GZpYcmxPZgFlGmSkwYzWS4mUtwrWFx62Ca4b927mw+//ZK5fyyrNaXz4bdf0uPqXnzY936+HfQk\n6777hUqziSWZu9mce5jMknzSC3MxWyxVI+LaN2b3Hjewap8rRpM1s+fzH3KZNDaS4ADrZ2ZEGwMT\nXgln4lR7GaM1ppZkOVTsg6LfHf8l6IPAJd6aTVM4Dw4/YK1kWbrZmkJpOlZ1I9YIJX9B5lOOX1tR\nlFbD6UbwReVlmKUEOxUHckxl/GfLQq4P70D3wGj6PXAvq+cuJrxrR06kH8E/JIjlcxfw+7rVvPHi\nS1z38ggiunchP+MoK9+djNlopPtDg5mydw06oSEECAQPdbySbrpgMOeQlqXntlHFpKek4erlgTSb\nee1f7ckrNNM2qvaWfR3jXDmW48D0iyyzbqTh09exX0L5Hsh6rfY3ivJtcORhOycbrR8gFWnNtiBK\nUS40ZrOZ5ORkIiIimDt3LmPGjGH27NlomkZISAjffPMN4eHhNq9buHAhzzzzDGazmUcffZSXXrKp\nrehUnC6LptJYyT//moWxnpIyLpqOQ3NXsX7eEvq+9yIunh5Ii4V1n/+AyCuhtLiYqJt60q7PVdWv\nKTyazS+PjeG+nyaiczHYXO+tDha8TnxE3L0nCLikM90fvhudi4Hj2/eyZMx44gIrefu5UAbedHoq\nZMqsE8xcUMDC/zqwEYnvXdDmVfvPFS6Ak1+BKQfculqzcUr+xH42jR2aF4S+DV7XOna+oji5jz76\niI0bN1JYWMjcuXMpLCzEx8ea2fbJJ5+wa9cuJk2aVOs1ZrOZDh06sGTJEiIjI+nRowfTp0+vTq++\nUDQmi8bppmhcDC5EC896K/NWWsz89esCuj88GBdP65SN0DS6P3wXu1Zv4PiBQ4R0rj2a9QkPQdPp\nKS8osrmeyWLh3XRPftzuT152ET2GD6n+EAhN7Mgld/bBJzyY4a8dYeLUXDZsL+X9r7IZ9cExxj0T\n6tgbc73E/vGT31s3IancD5ZCKF3duOAO1ukaV/sZRYrS2hw5coR58+bx6KOPVh87FdwBSkpK7BYd\nXL9+Pe3ataNt27a4uLgwZMgQZs9unvUl54vTBXgpJYdEmd0pmpoqS8tw86tdJkDv7orexUCbuGiO\nbtlV67m8g5mAxN3ftrSABUluRTE5OWX4RYUgtNq/Nt/oCEqEN3MnxbF6cwkj3jjCztRyln0bz+WJ\nDd/wBR2YsyDr35D3A5gLqxquhNzP7dzcteDw/zrhZl2kZWjj2PmK4qRO3WN79tlnee+999DO+Hf6\nyiuvEBUVxbRp0xg3znantszMTKKiTldliYyMJDPTpiqLU3G6AF9YWY5RNjx6je6RyL75f9Q6dmjN\nFjwDfHl77Dg2TJ5J6uLVVBSVcHTLLpa+NoGkYbej1ZNe2bOLgezdBynLL6x1PGPVei5P8qJHogfT\nP4ph088d+PbdaLp2dHSPUgEnv4GCWZD7CaTfai0kZjoO1FVzXlL3LRTNWkLBEANBz0HIKw72Q1Gc\nz6QvpxHdthN6vR5fvyAOHDzCpZdeanPeW2+9xeHDhxk2bBgTJ05sgZ5amc1mLr30Um699VYA7r33\nXpKSkkhKSiI2NpakpCS7r1u4cOGptT2X2Nt4yR6nu8kqG9o1qcrVD93D9MdeoTyvgMieSeSnH2H3\nvOVM+u5r7r55AJXTvuO1N15n9cdf49UmiMQhA+jQr/456n1eyfS7u4T5z73NZQ8OxiPQj9SFK8nd\nc4BxbzW2+JYL1s9XM2AEaap6g+XWnPnjb0DwC9Q5FaNrY70pmzcNm230hDvEzbZm2yhKK/bttJ95\nadRz3P3QK3TocgUzp/ybzWsX4u8fiLu7K4WFhdx3331MnTq1+jXDhg2jf//+jB07tta1IiIiOHz4\ndGX0I0eOEBER0eR9njBhAp06daKw0DpQ/PHHH6ufe/755+2uxTGbzTz55JMsWbKE+Pj4FKwbL82R\nUu6yObkGpxvB+7q4o29gfibA1YOxve8mZes2ru95FQWb9hDp4cuKVX/wwG2DARjWfyArli3nH4u+\n5q5v3qFj/+vszst56U5nxqwq68bDT1zKyEei2D97Husm/JcOwRqbfowi3M/eZtT1keBxOVJWYjKd\n+aElrXXnKw9R52ewoY11k+34JeB5Q9V5OnBNgKj/NhjcpcWCxWxqZJ8VpekZjSayc07UW36kLu++\n+w4D//Y8nRKvQqfTM/Qfb/D8uGmg6Zk6dRq9e/dm6tSppKamVr9m1qxZHD16lG7dutGlSxdef/11\nAFxcXFi5ciUdO3ZkwIABTJs2jdtvv92mzVMj6Xbt2vHOO+80qr/27g+cIqVk5syZDB061Oa5mvcH\nsH59P7XxUr2cLsALIdDrdNjeZbU+vsQvnLd7DCTQzZMyF8GoF19k/bwlzJn8HVdcUvurz5/H92Oy\n1B2YvQyu9I7oiEE7VUNGMLfsWgqvfYy3vx3LsZTt/PLVUuLaNH4RkdFoZMzbPxLcMwW3xO1ccXcq\ny9fWXHkqwDUGhL0ArwePntY/6vwg4mNotxrarYKYGeCWUGe7JmM5b7zYj9AQNwwuBq7pEcyqJf9t\ndP8V5VyZzWYef+ZlAoPaEB0dTUhYNG+/91mjrnHk0AFi2yXWOhYaEU9lZTl5BaenUl966SUuueQS\nEhMTWbZsGWvXrmXbtm3Mnz+fCRMmsHbtWkaMGMHYsWORUrJ+/XqCg4Pp0qWLTZ+ffPJJFixYwK5d\nu5g+fTq7dtU7iK6lrvsDAKtWraJNmzZ2a2GdeX8A68ZLDX69cLopmmJjOeVmIzXvsvpnnWD0Y2Pw\nyi9CZzCQ88arvHN9J+57+X0S/9iAZrZQGd8Wl08+hf79q19XaqpAAv2//YUB3/4CEvZ078LED0bh\nrjNQYTTy26EdZ1Z9wcPFj/QKV+YcPkTvCDe8Ap+EnPfOuBkqqC/V57n/HCE1o4K1M9sTF+nCr0sL\nuPe5DBb9N45LO3tYA3vOJ2CItJZHqKogKSUgNeThEIRnMcLdy3pBzbGNx5997Fr27dvLnz/EExfp\nwqxF+dx57wh+XxxMYrLtaEVRmsvIZ19lwYK5PDH6C0LCYslI28FHH4zBx9ebkY/93aFrRMXEk566\nlaTL+1QfO3o4FTc3D+64/TbuHjwIgJ9++snu64ODg2nbti1CCPbt28e//vUvRo0axeHDh7nlllts\nzj9jJF2daVNfKuWylX8xZ+4icrOP4u3tQ/fu3VmxYoXNedOnT7c7ej8XTjeCLzfZTiuYdRqzH7mL\n974YiyUuDvnZ53in7iff15ul9/RjX1Inxo9+hOI+vWu9LikwCncT3PrNz4z/8CWemzeZDlt303X1\nJsrMRoxY7H5PyCkvJr34BIuO7GLspvkUePSDkFGgrypUpq9j05AqJ/JMTJ2Tx/QPY2gX44pOJxh8\nix8vDQ9h/Le5VQ2VQ9l6qDwMbolIDNbgnu+NZVU75KqlWKaMRuYecfh3l5uVxtRZm/nx4yjax7qi\n1wuGDPDnhYdDGP9BHTn4itIMjEYT076bzJBHXyckLBaAmHZduWPY80z4+COHrzN69Ghm//ARO7es\nxFhZTnrqNqZNepXhI57BYKh7/Go2m0lKSiIkJIQ+ffpwxRVX0KVLl+q0yP/973+15uNPaUymjcVi\nYcAdf+POQXewedselixezLfffkNIm1CGDBnCsmXLuO+++wDr7nI///wz9957r91rnXl/gDo2XjqT\n0wV4P51mHRtLyfEd+0hdvJqDRSWsvq03pT5elEkzx2Mj8MvJo9jPhyK/09Mna7MPsibrAN/uW8v8\nQzuJ8wmk//INlHl6kHppZyo93EjtlsD1Py9x6FauSVooNpaz4FAK+A6Ctouh/RZou4D6frUZRyuJ\njXAhwK/2X8Ce3TzYm35m1kwFVOyHsjbWTxffYkSHo6CVQEUplkVTHP3VcTBtE22j3PD3rd1ur8vc\n2Zvm3OlgF5vy8nIuv/xym3nkxmZknM08clM4kZdPZWVFdXA/JTK2E1nHHR+03DfkDj4aP5EV877h\nlSd687+v/81jI0bynzdPJ5kUFBYx5P4R+PoH4+Hpww197mDPvgNs3bqVI0eOsH79enbu3MmUKVP4\n/PPP6d69O0VFRbi4uNTTcsMmTvqObVs2Meo//+OOYS8w6p1ZPPrceExmwfffT62+PwCwdOlSEhIS\niIy0n6zRo0cPUlNTSU9PB+v0gM3GS/Y43RQNmp6y/CIWjf6IssIi/GMjWfv5NMKSOnHPI4MxVZQT\nue8k6Z3jid+xjxt+XoRXQTG3TPmJmZHhFHl5UGExYRAaCw/vYmxeOeaAgOoJldywYOJ3pjbUi2oW\nYOWxfdwY0ZFgd29rSV8AQxwY0+y+pm2UKxlHjWTlGmkTdHrV7Ir1xXTtYGfbPUseuOYhNKy9bJOP\n8C7DsqILZB9GVpQiXAxQssp6Y9a1PXhcSdULTrfb4QrSj5STe9JEUMDp//V/bCilS8K57ZGrnF+u\nrq4sW7YMLy8vjEYjV199Nf369Wt0RsapFZu33377eV2xGRzoj6eXD4cOpBDd9vQ8976U9cS2bdyi\nvEceuJdHHrA/8gW4/sYBCJ0bT7w0CVc3T/5a/hPXXnsdu3ftICQ4kBtuuIGFCxfywgsvsHjxYms/\n9u1j3rx5NtdqTKbNjzNncnWfe3F1O70WJiGxF57evqxdv6XWuTNmzLCZnjl69CiPPvoo8+fPR6/X\nM3HixFPTRl2AN6WUKQ38apxvBK/TdKz6+GtKT+ZTlJlNxqqNVBSVkJ2SxoGfl+B+9Dgzn7qfck8P\nVt5xE6/MGM/BjnEU+3ox4JNvqLBYp3iM0kKFxUTKyWNUWEwOJl/aZwFe3fgbT/w5g3/N+pLr7xtM\nj8fTGTXVnaJy28wcPx8dj90bwKAnD7Jheyl5BSa+nHmCj7/J4bkHg20boHasFhrgaoTgQpAWZE4K\npA+EY69C7kRrKeKMe8Fce1VuQHAsDw/tyZ1PHWLr7jKKis1MmXWC8d/m8OwL/zmH34Byvgkh8PKy\n3n8xGo0YjcZaWWCOZmS01IpNnU7Hcy+MZuqkV9i19U8K83PZtGY+v/04gdfGjGmydhYuXcXhjAP8\n7bE3CQ6NwccviKtuvIeImI58MH4SZWVlLFmyhISEBLKzswHr1Mq///1vRowYYXO9miPpyspKZsyY\nYTfTBsBitqBptmNoTdOT0OkS5s6dW33sm2++sWkvPDyc+fPnVz/u378/+/btA9gppXzLkffvUIAX\nQvQVQuwVQqTZS7AXQiQIIf4SQlQIIV5w5JpnK+dkDukrN1B6soDLHhjE1S8+QpdBfSjPymXkL0sp\n8/Jgy3U9ACgK8EXqNBCCrdckE7N7v831MsKD8KixcCnoWA4FgX5n1bc9i1Yx8bEXKXHT8LwsmekL\ni0kYVsjSEwlYzvgEefufYdzV14+/vZBB9PW7+WVJAQu+bEvndmeO4OvYBUqTCM+q6ZzscWDKAlkK\nmKz/rTxoLXF8hvcmLuPW/jczaOQhQnql8OMiM/PnfE/nJAcLnVWpKCsiNWUFhXl1bHGoNDt788in\nNCYjo6VWbL466ilee/3frJj/NR+9NowdGxbx9TfTuGtQ4/4u1mfTpq207ZiEpp3+d1RYkMuhA7uY\n9On79OjRgz59+nDrrbcyffp0OnToQEJCAuHh4Tz00EOAdSTdvyo5o+ZIulOnTtxzzz02mTan3Dl4\nEGuWzcRYeXra9cDeLeSfzOLWfjc02XusT4PFxoQQOmAf0Adras4GYGjNBHshRAgQA9wB5EkpP2io\n4bMtNrZl/14ua5eAT2Qomk4jqH0sR7fsYnt+IeFmC3qDnpG/fwtAwobtDPzvLMIPHKHS3ZUj8dFM\n+Gh0resZKir55JaHyQv0x6zXEZh9gknjnmH7NY3bIclUUckPdz3NreNfJiDeOt0hpWTR6A+JTO7C\n/z1SQifXDAzCmpYpLYA4PaNzmr7qoAEwgWsXKN/N6e0BraRJw7IhHk56o/XbgtDs/H/UvKDdn416\nH4749J37efP9GXh56DhZYGLY4Ev56PNluLp7N3lbymnHjufw1dc/UFBQyOBBt3LlFdbVmvn5+Qwa\nNIhPP/2USy6x1jR6/PHHadeuHc8//7zNdWbNmsXChQv56quvAPj+++9Zt25di67ubC6z5y1l+D8e\n5V9v/6/WN5wfvxrLlT27M/79N5qtbaPRxI233MHe3TtJ7HEjhQU5pGz+g88mTeGBYWe/p3FTFxu7\nHEiTUh6QUlZiJ8FeSpktpdyAzZLKpldWXAJYi4Pd/d179H7tSca8+gTxZgsGQG808dkN93PPhO8Y\n/vqnxOxJx7W8Ao/CYmKrRvBR+9L54Dbr1yGTXk+Zhzt+J/MJyDpBhaax+VgOpvK6SgTYl7PnAN7h\nIdXBHaxfozv2v47D63bwfwV3MrOwN4Vmd+qttCBcoc1YiJkGbZdC5P+B3hdZYyQvzQJKXOFEVUCt\na92XAyUdGmvmt68wcfIs/pgaz4HfE0hbnMChjDRGPWObUqY0nWkzZtO+fXt+/nUuazds55Zb+jDk\nvhFYLBb8/Pyq55Gh8RkZzbVi80JwW7/e+PkH8tN371BcmIexspw/Fk9nz861vPDs483atsGgZ8XS\nOXz2+SQi23hzzZU92L59xzkF98Zy5CZrBFAzP+cIcEUd5za7mHDrX8TjO/ey+uNvCOoQyy+/LWc0\n1q8QS329SHIxEO+i54dO8azpfx0bb7ySHkvXkLhmMwCHO8Txwm/WUqFxu/dzsFM8jyR3Zcv3v/Lv\nkADa/bKEcVPn0Gfc04QldXKoXwYPN8oLipBS1hoplBcUYfB0x4LGH+WXctwcyPMBM4CqnHYbFvC6\nHrQaRcqipyFyPkQWLAWzBZkZgNwTAQjQuYAhEUw7qF3WQA/eNznU98b4dOIXvP9iKAnx1qmkoAA9\nX74ZTkK/9fzn4zzcPf2bvM2LXXFJKY8/9jAPjHyX+ITuAFxz81C+/OgZps6Yzd2D+rJkyRJGjRoF\nNC4jIyIighkzZvDDDz+ct/dzPmmaxorfF/LgoyN564XbMZtNJF7Wi4ULFxMZ0fwF+DRN465BfZt0\n2qlR7Z/PxoQQw4UQG4UQG3Nycs7qGjpNQ2gCS6WJwqPZHPxzM7n70kGAwd0N9wA/7vrmXdJXrOez\nm69i8P9N5z+Dn+Kuz39g2cgHba7nl3uSoy4Gds5ayN3fvkvg0FvpeXkivcc8wdI3PsVUUWnbCTsC\n28Xg4uHGrl+WVG/mXXoin20/zKVD32uqz7PJq5cCKQ1I4Q7CDdnmPeSxTOTRNOSppdv6IAj7D3RY\nhyx8A5maACYdBEWi3fksIupt62bgoupDQXhYt/ILfq6xv94GZWaV2NwnCA024GIQ5J9UqZbN4X8/\nz6dNeGx1cAcwGiswGSt4csRDteaRoe6MjLOZR24NwkKDWTT3R0pLiyktLWXz+pXV01utnSMj+Eyg\n5hpZhxLs7ZFSTgYmg3UO/myuEegfQHCneCxGE0c27gCLBCEI7tiWmKhQSDuEq7cnCbfewFU/zmfm\nyPvYcv3lPLTlEHe8+Skffzza5pqFmVl0vuMmPIMDTr/JHl3xiwknc9NOYnpd1mC/hBDcNPYZFo3+\nkD1zl+MZHMDxHftIHDKA6J5JCCnpUpjD7cbdWIqCEGF5CBczePa27puquSJPhGP5/pvTUys6PeKK\n25AnjoKmoXXuhXblbXDlbTbfFIibi8ydjUxbAIeLkVkBED8T7Ya/ITyabm788kuj+G15Ya1sn7Vb\nS/D00NMmvO4SCcrZM5tMaLraN9vDo9pz460PUZCzn6ULZtV67ptvvrG5hr2MjP41VnVfDHQ6HTpd\nHUkLrZQjAX4D0F4IEYc1sA8B/tasvapHpdlM0s29WDz+e4IT2uLi5UHWjn3k7jtI3NBbIe0QYC2m\ndXvGUV64rgcumo7Ojz2DYbRtDej8oAC6lJRi8LCOSv1zTpIfbJ1mMLi7Y65w/LaCb1Qod3/3Lsd3\n7KO8oIjrXhqOu78vOouFkfu2EFdSgItFh9RFIndFol15CBE+ALx6I0sLsfw2Cky1vzHIFdOtfxAC\nS8pqRPItaL3usCmMJi16LLM3QbELSD/AAqmbsGRloD34JkJrmr/Yr74+nt59BlJZCX2v9WL7njJe\n/jiLd998Gk3nfMsqnMGdd/TjmadHcCRjL5Ex1hzxyopy1q74mddeH9vAq5WLWYP/IqWUJiHESGAR\n1py9KVLKFCHEiKrnJwkhQoGNgA9gEUI8C3SWUhbWeeGz5Co0tsxZzvWjh1OSk0deRiZISccB15G6\nZDUAZfmF7Jm7nPxAPzpv28ugB5/FbeUfZEXZ7q50MKEtfzdZKJu9FHnLNST/vpb/vvYkhZlZHN++\nh+tffqxR/ROaRli32iPZa3IyiSspxMUiAQFma7C1bIhDS77Wushqzzrq3aZKSjBVIjcsRHa+Ck5k\nYlk5E/KzwNMXYi+B8pLaN1YtZijJh/QdEJ/EjlVL+eTtcaRlHKZrx/Y88/pbxCf1aNT7u+Sy/qz4\n/Tfee/sFvn8hg5goP6ZMfo8+tz3TqOsojgvw9+Xd9ycw6sUn6dbjRjy9/Ni6bjGXJl/Jow/WvcBH\nUVRzpZ8AABj2SURBVJxuT9ZDxzJo1y6BB+d/Wb2z0oEV63l07ESuNZsJEoJsYEqvS3EfOoCnJv+C\nCxqZ5nK+e/bvZHSMwzc3j/vf/ZKJ7/8LgC5rNnPb2M/AaGTRZV34omMce+etIPmRu+h02+n6NV5Y\n6EolLkhSMXDUwYXAL6WsI7q02P6TCT3R+j2KZc2v/H975x1fRZU98O+dV9IbJISQQCAgRRFCB+kE\nREApUldZUERXBRaW3RXdtVesK4rg7gor6g+QZRWQooiiYKGtCkiH0EIKaaQnL+/N/f0xjxReQl7Y\nFF+838+HD2/u3Jk5Z97LmTvnnnsOuzdW3KcsJguiYz/koW/Lj/aFVnnUTFAYO7xaMfmBecwd0JHu\nzRvz1alklu8+zrZNG7ixf/nJ2GJbER8vfY2tWzYTGBjIXbPm0WngsIrPragzjhw7xZK3/0V2djbj\nxt3G6JFxFWYlVDRsqhMm6XEGPiM9gaYtrmPK6r/hU6Yk3+kde/nu9XeZMHkY4/pcz6EWLTmLhbFN\nWxMc2ISVJ/dh0yvPfy51nfN7DnDu+5+w+Hhz3c19aRRTOvXQliImiHzAeI2xAz9j5RPpS1X1Axcc\n2k10ZQYeoF0vSDoF2WlV3wCLF3j5QW5G1X1LEPRZtIE/D76R2zu1LGl9c+chvk7M4+PdB0vabIUF\njOnThYzMTKZ2jSElt5B3dh3j+YfmMePR56txTYVCURtUx8B7nNM0KKAxvYb2Ztcb79N/wb2YvawU\nZuVwYOUn3DF1JE9OuAkpIVs6OIeFYL9GHM5MvqpxB8O10qJ3LC16uyZnsiAZL/KxlLHjVqCjtHEI\nK/FYXI4BSuIgCypYrlyOY7uvvv/Kcxbmud8fKCguZv+FdMZ0LJ9vZlJsDE9v/cg4bUYS+lcfsuo/\n68nJusSOWSMxm4zR4W+6xND/hdeY8MA8Ahs3qda1FQpF/eFx73cOexF/n30bPo5iVk74PZ/MfooP\nfzOf2E5teGycUQRDB7LR0BBc723FdOksZf3bGpI2FNOJIrwqK4lXhtYUV9jLAtworh5Gef+J/bTP\nveS+gmXpcBNoZmPUbvEGsxXt1vuhUSXxu1Yf8HeNQ7eaNHwsZhKz8su1n83MJSzAF5mTgb7yWThz\nkC2HzzKjZ9sS4w7QPjyY2KhQdq7797XpoVAo6gWPG8HrtjyCfb3Y8sx0Didlcjz5Et2iw2jeyEi8\nJKVRpvowFgZoNt4/tJ1zmLic0yUUB3eLbLwwnm4S2Cq92Y03lblaKqsDK7nqtCiR+Tl0ykq/NkUt\n3mA2g48f2AqhSTTi5umIkHA0oaF/sqS8D95sRdw0BsxW5Nerobh0n0nTuLtXW+at38OK3/TH38tC\nel4hf/5kL/dNGY/+361gN6KFfK1mLhW6PrSyCmz4BQa6tCsUil8uHjeCN3n5l3y+PiKEsV1alTPu\nacDn0od7RDZ9ZR5jRT7jRD4B6IBkmsjGBzA588BoAoaLQuLIr/B6APFYK7xRduCAtCKkdFmWanE4\nGHsh/tqzVBYXws87IS8Liosg8QTy3y8hbQWIVjeijfodhIQbSvgFIwZORnQZiujQG3wCoGxYpGbi\n2TtvI6hxGK2eXUPfNzfR7oW1dO/SmXmvLoXk00bEDXBntza8ufMQSdml92Pt/tNk5BfRb+yUa9VG\noVDUAx43ghcmK85gQ9d9AqxS0ASdeGnBWxQTLCQtpIP7RTbbpQ/+wLenktiw6yi+Pl7MGNyJFo38\n6YuNg9KbixVkbyxGsFb6MZE8JMZTUUhJUkExvkVZjM3KIM9sZmuzVgCEFhUw+vxJ2melly/3J4Rr\nfoKotpBwggrfBcr2lToU5iMPf4eIjUO0jsXUunS+QJ76CX3NS5CfbYRMOhxw6scSf713fgbLx3Ul\n8b47OOMdTvvufQhr3hIAR+NISIoHqTOoTQT39m7HjS99xOA2EVzMK+JsRi7r1qzGbKlkrkGhUPwi\n8bgoGltOGqn7PyyXhVFLySTk2fewZeSQU2Bjd7vmFI0fwE1tIgl78l9YkjOwN23EqSdnMP+DL/nm\n893EDOqJLTefs9/9yPLxg5n4xR50XbJp1BA+m2rkdxZIYrDTCAfJmMlHZ4Ijj+bJSQRmZmIuKCTZ\n25cPW7Qj3j8QiaBPaiJTzh93+uwFpqrG8JcTvbubGKx9L0wj7zMOkTpy32fI3RsNN07JDTGBl6/h\ndikun4USzYwYNxcturS4g8xMRv/gaeNNwUlSjo2vU/IJ7jaEYXfOwOrt4558CoWiVmnQUTS5hRWs\nnTJpHL1zGBOXrCO8kT///vE4955JxF5YzPDbbqL49Tn4v7+VgtfWsPtYAhPfewmvAD8A0g6doPeD\nT3Hm3Ufwbd6Egfe+woF+Xclu2YwZIgc/dDSMidtiBFlFNvTgQHIC/LBlZvNc8w44hMl4fZCS3WER\n5FsszIg/hHDHQVOdjI+aCRFSulhL/3IVHPrGZfUrugOK8iqeINDtyJ1rIfrxkiYR0hRt/Hz0be9B\nehJoJpr27kdUlokjPx9g16aP6Tduioq5Vig8DI/7i7WaXUva6aFBPLx5Fzf3uYEP33mIoNg2LJ83\nkcF5hbycngVA3i29aLL7MB3GxJUYd4CeEs4H+LEyIQNhNaPFdaHHN/sYI/IIQsdLgEWAlwA/JBF+\nVhwBftiCA7FHRzJUKypN6i4ENpOZg8GhHAuohayKmgnRaSAAsiAXDu5wNe4lN0Wv/OGRloC8Yp9o\n1gbTtKfR5iwhe/JjDJn7FA/8fh57P9/E/bNmM6BDKy5dTKpJbRQKRS3jcQbey6+RS5ut2M72bw4y\nZ9rNmJLSsRxPwN6xFeFIPvjeKFsoQwMJKbIZs6plCE7LIMnLUpIBUg8LoWVqOjHYMV3h6L88KXsZ\nsyboJmwE4Sgvj2bip5CKS+/9TzRtBbYCQ5/0RKgitr9SpCznjimLMFv4672/pXWQF/v/NJZ/TLyJ\n/X8aS7sQHx65p95SECkUimvA4wy8bssBAWcvpPHsknXc9+gyFn+wFSklFpudkL++Q/bc8Ug/w2ds\ntzuNrxBYLGaOrv8CW25phEh2YioFl3IY38MobSaAKGGvYm1qKdLhoE92Gs3zsksmRTUkVr3mi22Q\ncBz9/55BT01Anvn56n2FZkTTVITU0d99DP3gzgp3r/riW54c3gXN+TTTNMETw2NZue27/0V6hUJR\nx3icD96Wl8m+A6e45y//ZMqoPowaHMvOvUexAEX3vULB+AEUDoxFSkmapjG5p1GwQ0vLwhQaRNde\nHVk7fQExcb2xZedx9Ks9LItuiq+f4foxp2UiQ4OMBGCyfEm9K7d9UlIJO5dAhIRREvLNZha17UKq\nty+902vDnSHBVoR8/8mKav2VJ7Ax2pA70Te8BY4KMmLmZiK3r0S329C6xJXbVWh34Gct/9Pws5op\nLLaj67ryxSsUHoLHGXiz1Y8n3vgPz82fxG1DjDztY4Z0Zdb+U3yZmMbG/aeILbbzzb7j3KUJ/tok\nBB3w3bKbov6deP/BsWy/pQfrdx3BPyyAu2Y8Qss5i0hPTMMRFozPth/IfOKuCu1n2TZzbh7+5xLQ\ndFnyGuRvL+aRw3v4vnEEzQqql07AfZwzp1VFP/mHGPHyt96PvuPfkJns2sduQ36/Hhk7GCFKjfZt\nPW7krW+P8Oiw0jDMJd8eZXSvG5VxVyg8CI8z8FnZOZw8m8LIgaXGx3ognr7nLxJi0ph47By2g/H0\nHdGLGx/9LSHPvodpylM4whuR8cwMAMat+ow7vt6PvXkTUif3J2v+JMKmv4AotqMH+tHooaVIfx9S\n33UtDmLZdZjgRWsxFdmQ3VtDXOeSfQLD59WvVkbv1aTIcENdjpd3vPlgxX53WyHYisCrNAzyxaXL\nGDx4EAeTL9GvZRjfnkllz7lUtn/5ZbVEKMjNISc9jdDm0erBUIM4HA66d+9OZGQkGzduJCMjg8mT\nJ3PmzBlatmzJmjVrCAlxneT/9NNPmTt3Lg6Hg5kzZ/Lwww/Xg/SKusTj/uq8nPHY2XkFJW22zq3Z\n8PZ8bm8Rjv2jZ9E2LqTrrHFYwoJJX/R7Lq5+gvRFc5CBRvRM/rgBpP39TyXHF/W5geTPXyXpq0Wk\nbHiewoGxFAx0TTrmsOv4v7aGi688SOFTU9F+jIfkzHJ93PXd1ypCQOgVRZSDKpn0tXiB1atcU6tO\nXdl/9ASDR4zipO7PoBGjOHD0BDGd3Qq9pSA3hzljhxERFkr76zvQoVkoHy159Vo0UVTAokWL6NCh\ntFbwwoULiYuL48SJE8TFxbFw4UKXYxwOB7NmzWLLli0cPnyYVatWcfjw4boUW1EPeJ6BtwpGDorl\nhaXrSyZQ8/KLWPj3T5g0srdb57DFtkEPLC1qXS7TgJT4bP+BgqHdynlBHBLMR87giAxDRIZiD/BD\n7xKDOHTOPcGFoM7Mv9DQeowo16T1ux3M1vL9zFZEn9Hl3DOXCQoLZ9bzb7B4/TZmPf8GQWHuFyie\nPX4E5+NPcmjB7Vx8+g7eur03sx55nG/Wrb4mdRSlJCQksGnTJmbOnFnStn79eqZPnw7A9OnTWbdu\nnctxe/bsoU2bNsTExGC1WpkyZQrr16+vM7kV9YPHGXjN5MPTcyeQkJJBn0lPMu2hpfSa+DgxUWHM\nnDio0uPsdgeJFzMpKLIhJeSWMd4FQCIaUoL5p1PYQwIojGrCUcyclybypWA/FgpSsxHhwQAUBgdC\nkB9kVZ7D5grBy+eHqQyTGbz9quhUxYPCNxAR1rxck4jpjLjlntKRvG8gYsBERJehFZzg2kk9f4aP\ndu5l+eR+NA30RQjB4DYRPDqsM2+8/GKNXuvXQvLFNOJPn0fXdebNm8dLL71UzuWVkpJCREQEAE2b\nNiUlJcXlHBcuXKB589LfRFRUFBcuqCLpDR23fPBCiFuARRgpGd+RUi68Yr9w7h8J5AN3SSl/qGFZ\njWshCfT3YeVrszkan8i5xHSenz+ZqKau8fGXWfnJd7y6bBO6lBQVFTPi1r60Hj2cWWgc0i1cL4rJ\nlZK/Echd234iPq4P62Qgmc68NK0oZpLINcyq88FgDwokv2kYvufdKNIhNGP07CimyuzEuk6lBjwo\nDDF0GvL4Pjh7GLJTK+7n5Vths9a2O7Tt7lqwuwa5cPIYUcH+BPmUf1vo3KwxK374b61cs6ESfyaB\nKXfcxYEfd2EymfHzD6Bbty5069aNr776qsJjhBC19t0qPI8qDbwQwgS8BQwDEoC9QogNUsqyDrwR\nwHXOf72Apc7/axy7rdT33j6mGe1jml21/6c79rP4/a2sePkBOl4XRXLaJeY99wEBqzagI1iPHwHk\nECUctCwuosWOH3jun89yqSTpmMQbibcAS1ggplSnz10IZJ6NgtZReAmBkJJioWHXBL6OMgufNBNE\ntEYMmoL88IWqFZQSigpc280W6DnKyCHjzCPjWPE4pCdSLieB2Vqy2rUyatMAtO7cjQtZeZzNyCW6\nUWnmz8+PJ9KlQ9tau25DQ9d1hg4bQat2XXli0RYsFi9WLF7AZ1s2EhkZhcNhJzs7m6lTpxIeHk5S\nUhIREREkJSXRpIlrUZbIyEjOnz9fsp2QkEBkZKRLP0XDwh0XTU/gpJQyXkppA1YDY67oMwZ4Txrs\nAoKFEBE1LCsAWcmHqtX/nTXbeWzWODpeFwVA09BgXv/rVL7/Yg9ISTGwU3qjCRjxw08kt2jGpSaN\nS463AN2EEX1S3CEa8/lUTIlpUGzH54sfyI3rzs6WrdnUrBVvtI1ldfN2ENAIMXQa4r5X0B5YhGny\nArTwaMTNd4PJYozmzZVlZpQgHa7N9mKXEbs2+kHwDTByx18+b/T1iM6DqnWPapKARqH8ceoExi7f\nxtZjF4hPz+bV7Qd5+7sj/PEpNx5wCgA2bP6C/Pw8Rk6YjZeXD5qmcffvX6b/sMkMv3USq1evZsiQ\nIXzwwQeMHj2aFStWALBixQrGjLnyzxN69OjBiRMnOH36NDabjdWrVzN69Oi6VktRx7jjookEzpfZ\nTsB1dF5Rn0igXLygEOI+4D6AFi3Kl49zm2xX/+LVSEjJpH3r8qP89m9+zLYCG6Hnk1g4fg5f3n07\njO5C02372Dy0N1YMN4kDiEtLpsdLy8l45UEwm8iaP4nG898CXZI/qjf5rZrxvfTnnLNsnz0vB9F2\nNFrH/i6yaO17IVt0QJ78EXQH8puPSlIPVInFCy2s/D0TIU3R7n0Z4g8gczMRzdogwqOrdX9qg0eW\nvkezFo/xxLJ3Sb6UzU03tOXLTzfTtnuf+hbNYzhxMp5mzdu4vG2FR7bm3Lmj5doefvhhJk2axLJl\ny4iOjmbNmjUAJCYmMnPmTDZv3ozZbGbx4sUMHz4ch8PBjBkzuOGGG+pMH0X9UGW6YCHEBOAWKeVM\n5/ZvgV5Sytll+mwEFkopv3FufwEskFJWmg/4WtMFp6Sk4Di51u3+v3tsGT07teaeMhOwB46eY8Zf\n/smtHy5CM2nEYmO0ZkyW6hJOY6YAQTR2AkTp/blyJStAsYTXZBCFaJh0B4NTE5kw8A6XSc6KcKx9\nBc4dcd0hNONCziIcaCYICkOb9hTC5HFLFxTXwO59BxgaN5hHX1mPxVqaYG/F4ocYNeJmnn9axbD/\nWqnpdMEXgLLWKsrZVt0+NUJ4eDiJJ93vP2facH7zh8VIKRnc+3qOnErkmSXrGHrPWDSThhVJf1Ga\nM10T0BrXJF66NKY+dVmacMwmYS9eFKIhpMRL1xli8XPLuANo/Segf/iiS+k9Bk6BS8lw+HvjqdKu\nB1rfccq4/4ro1b0TPfsMYtnf/sCwMTPx8Qtk99cfk5J4mj/Ou7++xVN4CO6M4M3AcSAOw2jvBe6Q\nUh4q02cUMBsjiqYX8IaUsufVznutI/jLJH77ltt9fz6RwOL3t3Lg6Dkimjai+8ThWPr2JBo7Q0QB\njcWVoS0Cr6AofMKuIy/5ILaCbBIxs0e3EKs5iBY2LBZfkryb8HFaMnl2B+0LchkTGk1o91uqZYhl\nyln0bz+Gi2eN/DG9RyNiOrl9vKLhYrMV8/DjL/CfNasoKiyg74A4Xn3xaVpGq8nRXzPVGcG7VdFJ\nCDESeB0jTHK5lPI5IcT9AFLKt51hkouBWzDCJO++mnsG/ncDr1AoFL9Garyik5RyM7D5ira3y3yW\nwKzqCKlQKBSK2sXjVrIqFAqFwj2UgVcoFIoGijLwCoVC0UBRBl6hUCgaKMrAKxQKRQNFGXiFQqFo\noCgDr1AoFA0UZeAVCoWigeLWStZaubAQqcDZGjhVKOBG1Y0Gg9K34fJr0hWUvtdKtJSykiLL5ak3\nA19TCCH2ubtstyGg9G24/Jp0BaVvXaBcNAqFQtFAUQZeoVAoGigNwcD/o74FqGOUvg2XX5OuoPSt\ndTzeB69QKBSKimkII3iFQqFQVIDHGHghxC1CiGNCiJNCCJeClMLgDef+A0KIrvUhZ03hhr53OvU8\nKIT4TgjRuT7krAmq0rVMvx5CCLuzTrDH4o6+QohBQoifhBCHhBBf17WMNYkbv+UgIcQnQoj9Tn3v\nrg85awIhxHIhxEUhxM+V7K9bOyWl/MX/w6gkdQqIAazAfuD6K/qMBLZglE7tDeyub7lrWd+bgBDn\n5xGeqq87upbp9yVG4ZkJ9S13LX+3wcBhoIVzu0l9y13L+v4FeNH5OQzIAKz1Lfs16jsA6Ar8XMn+\nOrVTnjKC7wmclFLGSyltwGpgzBV9xgDvSYNdQLAQIqKuBa0hqtRXSvmdlDLTubkLo9C5J+LOdwsw\nB/gPcLEuhasF3NH3DuAjKeU5ACmlJ+vsjr4SCHCW/vTHMPD2uhWzZpBS7sCQvzLq1E55ioGPBM6X\n2U5wtlW3j6dQXV3uwRgVeCJV6iqEiATGAUvrUK7awp3vti0QIoT4SgjxXyHEtDqTruZxR9/FQAcg\nETgIzJVS6nUjXp1Tp3bKrZqsil8uQojBGAa+X33LUou8DiyQUurGIK/BYwa6AXGAD/C9EGKXlPJ4\n/YpVawwHfgKGAK2Bz4UQO6WU2fUrlufjKQb+AtC8zHaUs626fTwFt3QRQnQC3gFGSCnT60i2msYd\nXbsDq53GPRQYKYSwSynX1Y2INYo7+iYA6VLKPCBPCLED6Ax4ooF3R9+7gYXScFKfFEKcBtoDe+pG\nxDqlTu2Up7ho9gLXCSFaCSGswBRgwxV9NgDTnLPUvYEsKWVSXQtaQ1SprxCiBfAR8FsPH9lVqauU\nspWUsqWUsiWwFnjQQ407uPdbXg/0E0KYhRC+QC/gSB3LWVO4o+85jLcVhBDhQDsgvk6lrDvq1E55\nxAheSmkXQswGPsOYlV8upTwkhLjfuf9tjOiKkcBJIB9jVOCRuKnv40BjYIlzZGuXHpi4yU1dGwzu\n6CulPCKE+BQ4AOjAO1LKCsPufum4+f0+A7wrhDiIEV2yQErpkVkmhRCrgEFAqBAiAXgCsED92Cm1\nklWhUCgaKJ7iolEoFApFNVEGXqFQKBooysArFApFA0UZeIVCoWigKAOvUCgUDRRl4BUKhaKBogy8\nQqFQNFCUgVcoFIoGyv8D1/PL1jZ+/xAAAAAASUVORK5CYII=\n",
      "text/plain": [
       "<matplotlib.figure.Figure at 0x7fd3657ad050>"
      ]
     },
     "metadata": {},
     "output_type": "display_data"
    }
   ],
   "source": [
    "for i in range(len(best_show)):\n",
    "# for i in range(1):\n",
    "    lr, iters, season, home, lam = best_show[i]\n",
    "    print H_params[i]\n",
    "    \n",
    "    H_sandiego = H_sd[lr][iters][season][home][lam]\n",
    "    H_austin = H_au[lr][season][home][lam][iters]\n",
    "    \n",
    "    H_sandiego = pd.DataFrame(pd.concat(H_sandiego))\n",
    "    H_sandiego = H_sandiego.values\n",
    "    \n",
    "    X = np.r_[H_austin, H_sandiego]\n",
    "    print np.max(X)\n",
    "    X = X/np.max(X)\n",
    "    y_pred = KMeans(n_clusters=7, random_state=0).fit_predict(X)\n",
    "    x1, x2 = (-np.var(X, axis=0)).argsort()[:2]\n",
    "    \n",
    "    y_sd = np.zeros(len(H_sandiego))\n",
    "    y_au = np.ones(len(H_austin))\n",
    "    y_label = np.r_[y_au, y_sd]\n",
    "    \n",
    "    home_error = H_error_home[lr][iters][season][home][lam]\n",
    "    home_error = np.around(home_error.values) \n",
    "    \n",
    "    app_error = np.around(H_error_app[lr][iters][season][home][lam].values)\n",
    "    \n",
    "    \n",
    "    start = len(H_austin)\n",
    "    d = np.random.randint(0, 2, size=(3,3,3))\n",
    "    z,x,y = d.nonzero()\n",
    "    import matplotlib.pyplot as plt\n",
    "    from mpl_toolkits.mplot3d import Axes3D\n",
    "    fig = plt.figure()\n",
    "    # ax = fig.add_subplot(111, projection='3d')\n",
    "    ax = fig.add_subplot(111)\n",
    "#     ax.scatter(X[:, x1], X[:, x2], c = y_label, cmap='autumn')\n",
    "    ax.scatter(X[:, x1], X[:, x2], c = y_pred, cmap='Set2')\n",
    "    ax.scatter(X[start:, x1], X[start:, x2], color='black', marker='o', facecolors='none')\n",
    "#     ax.set_color('yellow', 'red')\n",
    "    # ax.scatter(X[:, 2], X[:, 0], X[:,1], zdir='z', c= y_label)\n",
    "    \n",
    "#     max_idx = (-home_error).argsort()[:10]\n",
    "#     min_idx = (home_error).argsort()[:5]\n",
    "    hvac = app_error[:, 2]\n",
    "    fridge = app_error[:, 1]\n",
    "#     dw = app_error[:, 5]\n",
    "\n",
    "    max_hvac = (-hvac).argsort()[:5]\n",
    "    max_fridge = (-fridge).argsort()[:5]\n",
    "#     max_dw = (-dw).argsort()[:5]\n",
    "    \n",
    "    for i in max_hvac:\n",
    "        ax.annotate(hvac[i], (X[i+start, x1],X[i+start, x2]))\n",
    "    for i in max_fridge:\n",
    "        ax.annotate(fridge[i], (X[i+start, x1],X[i+start, x2]), color='red')\n",
    "#     for i in max_dw:\n",
    "#         ax.annotate(dw[i], (X[i+start, x1],X[i+start, x2]), color='blue')\n",
    "        \n",
    "#     print \"~/git/task3/demo_{}_{}_{}_{}_{}.png\".format(lr, iters, season, home, lam)\n",
    "\n",
    "    plt.savefig(\"../results/Home_factors_appliance_{}_{}_{}_{}_{}.png\".format(lr, iters, season, home, lam))\n"
   ]
  },
  {
   "cell_type": "code",
   "execution_count": 210,
   "metadata": {},
   "outputs": [
    {
     "data": {
      "text/plain": [
       "array([3, 4])"
      ]
     },
     "execution_count": 210,
     "metadata": {},
     "output_type": "execute_result"
    }
   ],
   "source": [
    "(-np.var(X, axis=0)).argsort()[:2]"
   ]
  },
  {
   "cell_type": "code",
   "execution_count": 205,
   "metadata": {},
   "outputs": [
    {
     "data": {
      "text/plain": [
       "array([[ 0.01635801,  0.0517815 ,  0.03943585,  0.01259887,  0.03302816],\n",
       "       [ 0.07921914,  0.07894605,  0.07840301,  0.07925766,  0.07939159],\n",
       "       [ 0.02948893,  0.03248081,  0.02282549,  0.0217706 ,  0.03641466],\n",
       "       ..., \n",
       "       [ 0.05789175,  0.12478885,  0.07216465,  0.01096588,  0.15634926],\n",
       "       [ 0.05540949,  0.05265663,  0.08815022,  0.10616215,  0.02584823],\n",
       "       [ 0.01143033,  0.01786658,  0.09138949,  0.0909926 ,  0.0115726 ]])"
      ]
     },
     "execution_count": 205,
     "metadata": {},
     "output_type": "execute_result"
    }
   ],
   "source": [
    "X"
   ]
  },
  {
   "cell_type": "code",
   "execution_count": 28,
   "metadata": {},
   "outputs": [
    {
     "data": {
      "text/plain": [
       "1"
      ]
     },
     "execution_count": 28,
     "metadata": {},
     "output_type": "execute_result"
    }
   ],
   "source": [
    "np.argmin(H_sd['Error'])"
   ]
  },
  {
   "cell_type": "code",
   "execution_count": 107,
   "metadata": {},
   "outputs": [],
   "source": [
    "y_pred = KMeans(n_clusters=5, random_state=0).fit_predict(X)"
   ]
  },
  {
   "cell_type": "code",
   "execution_count": 31,
   "metadata": {},
   "outputs": [],
   "source": [
    "lr, iters, home, season, lam = H_sd['Learning Params'][1]"
   ]
  },
  {
   "cell_type": "code",
   "execution_count": 114,
   "metadata": {},
   "outputs": [
    {
     "data": {
      "text/plain": [
       "[0.1, 1300, 2, 3, 0.001]"
      ]
     },
     "execution_count": 114,
     "metadata": {},
     "output_type": "execute_result"
    }
   ],
   "source": [
    "H_sd['Learning Params'][1]"
   ]
  },
  {
   "cell_type": "code",
   "execution_count": 57,
   "metadata": {},
   "outputs": [],
   "source": [
    "H_sandiego = H_sd['H'][lr][iters][home][season][lam]\n",
    "H_austin = H_au[lr][home][season][lam][iters]\n",
    "H_sandiego = pd.DataFrame(pd.concat(H_sandiego))\n",
    "H_sandiego = H_sandiego.values"
   ]
  },
  {
   "cell_type": "code",
   "execution_count": 66,
   "metadata": {
    "collapsed": true
   },
   "outputs": [],
   "source": [
    "import numpy as np\n",
    "import matplotlib.pyplot as plt\n",
    "%matplotlib inline\n",
    "\n",
    "from sklearn.cluster import KMeans"
   ]
  },
  {
   "cell_type": "code",
   "execution_count": 105,
   "metadata": {},
   "outputs": [],
   "source": [
    "X = np.r_[H_austin, H_sandiego]"
   ]
  },
  {
   "cell_type": "code",
   "execution_count": 106,
   "metadata": {},
   "outputs": [
    {
     "data": {
      "text/plain": [
       "array([[ 1.44978439,  1.85235149,  2.24196778],\n",
       "       [ 5.07829371,  5.19002611,  5.31706703],\n",
       "       [ 1.25873953,  1.91841413,  2.01917777],\n",
       "       ..., \n",
       "       [ 3.91653929,  4.54876306,  4.20064527],\n",
       "       [ 3.54303754,  2.33810825,  4.02175073],\n",
       "       [ 1.79951822,  0.7918247 ,  3.57216809]])"
      ]
     },
     "execution_count": 106,
     "metadata": {},
     "output_type": "execute_result"
    }
   ],
   "source": [
    "X"
   ]
  },
  {
   "cell_type": "code",
   "execution_count": 108,
   "metadata": {
    "collapsed": true
   },
   "outputs": [],
   "source": [
    "y_sd = np.zeros(39)\n",
    "y_au = np.ones(len(H_austin))"
   ]
  },
  {
   "cell_type": "code",
   "execution_count": 110,
   "metadata": {},
   "outputs": [],
   "source": [
    "y_label = np.r_[y_au, y_sd]"
   ]
  },
  {
   "cell_type": "code",
   "execution_count": 146,
   "metadata": {},
   "outputs": [],
   "source": [
    "result = pickle.load(open(os.path.expanduser('./result.pkl'), 'r'))\n",
    "result = np.around(result.values)"
   ]
  },
  {
   "cell_type": "code",
   "execution_count": 147,
   "metadata": {},
   "outputs": [
    {
     "data": {
      "text/plain": [
       "array([ 17.,  20.,  28.,  18.,  26.,  17.,  15.,  16.,  22.,  19.,  25.,\n",
       "        12.,  17.,  20.,  18.,   8.,  12.,  18.,   5.,  11.,   2.,  12.,\n",
       "        22.,  17.,  15.,   4.,  22.,  24.,  15.,  24.,  14.,  11.,  17.,\n",
       "        17.,  27.,  22.,  28.,  11.,  14.])"
      ]
     },
     "execution_count": 147,
     "metadata": {},
     "output_type": "execute_result"
    }
   ],
   "source": [
    "result"
   ]
  },
  {
   "cell_type": "code",
   "execution_count": 156,
   "metadata": {},
   "outputs": [
    {
     "data": {
      "image/png": "iVBORw0KGgoAAAANSUhEUgAAAXQAAAD8CAYAAABn919SAAAABHNCSVQICAgIfAhkiAAAAAlwSFlz\nAAALEgAACxIB0t1+/AAAIABJREFUeJzs3Xd4VNXWwOHfPtPTE2oIICAoAiJyQfGqWBBBVOwKYsWu\noGLvjWvXa6/3Wq+IFRVRKZ+IXRQUFVBBOqGF9DL1nPX9cYa0mUlCSCDAfp+Hh+TUPUNYs7PP2msr\nEUHTNE3b+Rk7ugGapmla09ABXdM0bRehA7qmadouQgd0TdO0XYQO6JqmabsIHdA1TdN2ETqga5qm\n7SJ0QNc0TdtF6ICuaZq2i3Buz5u1bt1aunTpsj1vqWmattObP3/+ZhFpU99x2zWgd+nShXnz5m3P\nW2qapu30lFKrGnKcHnLRNE3bReiArmmatovQAV3TNG0XoQO6pmnaLkIHdE3TtF2EDuiapmnNQMTC\nKnsRa9NBWBt6Y+WPQsK/Nes9dUDXNE1rBlJ6L5Q9A1Y+EIbwz0j+2Ujk72a7pw7omqZpTUysEqh4\nB/DX2hNEyp5rtvvqgK5pmtbUzDWgXHF2WBBe3Gy31QFd0zStqTk6gITj7DDA2aPZbqsDuqZpWhNT\nRib4jge8tfa4USmXNtt9dUDXNE1rBirtbkg6B1QSoMDZA5X5H5SrV7Pdc7sW59I0TdtdKOWC1PGI\nqw9YeSjPQShn92a9pw7omqZpzUDCfyAF5wAREBMpBfGNQKXdj1KqWe6ph1w0TdvtiVWE+D9G/J8i\nVtm2X08EKbwMpBikHAjYf/yfQeCTbb5+IrqHrmnabs2qmAIldwJOUIBYSPqjGL6jGn/RyB8gRXF2\n+JGKt1C+4xp/7TroHrqmabstiayJBvMgUB7tTfuh+BrEKtiGC4exPx3iCTX+uvXQAV3TtN2WBD4B\nrNgdSkFgVuLzrFKs4luxNvbD2rAvVuGViLmx6gBXb+IPgHjBO3Jbm52QDuiapu12xCrEKn0Yyl8G\n4kwAEhMkEP9csZCCMeD/AKQCCEJwOrL5JETsqf5KOVEZj2HnobvtE1USuHqjkk5vjpcE6DF0TdN2\nM2KVIJtPBGszcYM5AAo8h8ffFZoLkZVApNaFNyPlk1ApF9pX8BwCbWYi/ilg5qE8B4PnCJRyNM0L\niUMHdE3TditSMRmsAuIHcwV4IPl8lHOP+OeHl2BnrcThfxeiAR1AOdqjUi7f1iY3mA7omqbtXoLf\nYj8Erc0F7oNRKZej3P0Sn+9ok3hf9XH0HUCPoWuatntxdiBu6FNOVOrVdQdzAM+hifcZWdvUtG2l\nA7qmabsVlXQOlQ8qKznA0Rmc+9R7vmGkgudIYtMSvZB8XtM0spF0QNc0bbeiXL0g/WFQ6dHCWR5w\n7YfKfLnBU/JV+iPgGgh4QaUAbvCNRCWd1ZxNr5ceQ9c0bbdj+IYh3iEQWQZGGsqRvVXnKyMF1eoN\nJLIczHXg3AvlaNtMrW04HdA1TdstKeUE197bdg1nN3B2a6IWbbt6h1yUUi8rpTYppRZW25allJql\nlFoa/TuzeZupaZq2fYhVgFX2PFbRVVhl/0GseDVZWqaGjKG/Cgyvte0m4HMR6QF8Hv1e0zStxRCr\nCIksR6ThtVMkshzJOxrKnoHAZ1D2FJJ3NBJZ3YwtbTr1BnQR+QqoXaXmBOC16NevASc2cbs0TdMa\nRcSPVXgVsukQJP9kZNMgrPK3GnZuyZ0gpVTlqQdASpCSic3W3qbU2CyXdiKyPvr1BqBdE7VH0zRt\nm0jRjRCcDYTsWitSBqX3I8Ev6z5PLAj9BEitPRaEvmuu5japbU5bFBEh9h2opJS6WCk1Tyk1Ly8v\nb1tvp2malpBYRdFgXnsmqB8pe6GesxUJ80RU7bz1lqmxAX2jUiobIPr3pkQHisiLIjJARAa0aVPH\nlFlN07QokRBW+TtYBWOxiq5GQj817ESrAFSCoGyuj789SikFvuOJnXTkBu/OMarc2LTFqcC5wAPR\nvz9qshZpmrZbEwkh+aMh8jdgl6OVwGwkZTxGykU1jw39hJS/ZAdrz8HgO4v4/VQD3AfUe2+VeisS\nWQaRv+xzxAJXH1Tq9dv8uraHegO6UmoycDjQWim1FrgTO5C/o5S6AFgFNF+BX03Tdi+BaWAuY0sw\nj26EsieRpFNRhp0lbVV8CCV3UFn5MPI3VEyB5Eug7Nlq5xugklEpV9R7a2WkQNbbEFkIkeXg7GHP\nLN1J1BvQRWR0gl1DmrgtmqZpSGBWdOGIWpQLQvPAOxSRMJROpGYZ2zBICZgbUZlP2GPm5gZwH2AH\ncynCKn4BrCKUdxh4j0EpV+xtlALXvvafnYyeKappWstiZGIPm9ReGk5ApdlfRlYCZpyTIxD6GpV+\nB6raAhVW+RtQ+hD2ep4WEvwWKiZD1utxg/rOShfn0jStRVFJo4l9MIldSMs9AABRaZBowpDRqsa3\nYhVD6YPYvfktHxIVEF5sTx7aheiArmlai6Jc+0LqLVRWMlTJYLRHZb6KUg7EKoDCc4i/uLMPlXxh\nzW2hn+zhmhh+ZBcL6HrIRdO0FsdIHoX4joPwz3ZQd/VDKbv/KcV3gLmG2IDugOQrUN6jam5WycSf\nKqPASGuG1u84uoeuaVrLpLyAAnNlNICDSCQ6cSgS53gfRsrFsdvdA6PXqs2D8o1qwgbveLqHrmla\niyORVUjBWfa0fQTERHzHQ+qdxB1qgYTblXJC5stIwfnYM0iVPf6eejXKvX/zvIAdRAd0TdO2CxEL\nrHwwUlDKV7U9stxORzRagedQlHIjhZeCVWvBZf/HKPcBiGsAhOdRM4A7osvCxadc+0DbbyA01/6Q\ncB9Qmc++K9EBXdO0Zmf5P7Pzxq1SQKp626X3gP9j7Mk/DsCNZDxoD7PECCLlL6MynkLyTwMJYk8e\nSrJXHUqtu4q3Uk57NukuTAd0TdOalYR+guIbqTEJyD/NXv4t/BeVhbQEQEHRrcTPMcfOPzdao9rM\nRvxTIbIU5eoDvhE1ev27Kx3QNU1rVlL2HDVndAIEIfwrsdknAlLXCkEBJP94VKspGMlnNmk7dwU6\ny0XTtOYVzVCJpRJsdgKOOq63yS7IpcXQAV3TtObl6k/8AG0Anjjb3eAZDiSakh+CwIymat0uRQd0\nTdOalUq5rCqnvHKjD5IvA+de9pR+wA7gXlTGo6iMB8F7ah0XTW7GFu+89Bi6pmnNSjm7QKt3kdJ/\nQ2g+OFqjki8B7/GQcikE/w8JfgNGO1TSqShHB/u8jLux8hdDeCE1H5L6UMnnxNxHwn8ggZmAQvlG\noJzdt8fLa1GUvYLc9jFgwACZN2/edrufpmk7NzE3IAXnRnPSDXtCkO9UVNqddpnbKKvkcah4CQhT\nuZRcyvj4M0d3Qkqp+SIyoL7jdA9d07QWSznaQ+vpEF4A1iZw9UU5siv3i/iRopsgWLvIlgllTyHe\n4Shn5+3b6B1IB3RN01o0pRQkmKIvhVdA6PsEZ4pd98V5XrO1raXRD0U1TdspSWSZXTIg0SQkFHWm\nP+6CdA9d07TtRiQMoR+j9VQGooysxl8sstLOWa/rMaB3aOOvvxPSAV3TtO1CwouQgrFAECQCWEjy\nxRipVzfugs49QcIJdhqQdpc9Br8b0UMumqZtFbHKEHO9XT2xoedIBCm4AKQwugB0CIhA+bNYJQ82\nqh3K2SVabKv25CQPZH2AkXRKo667M9MBXdO0BhGrAqtoArJpEJI3DNk0EGvTEVgb+2FtHokE5yQ+\nOfQjsfVcoipeQSJrG9UmlfEkJJ0NKhVwgftgVOsPMdz7NOp6Ozsd0DVNaxApujo65T4EBEBKwcq1\ne9yRP5HCK7H8sxKcXB4dZom7E4KNm8qvlBsj7QaMdvMx2i/CyHoF5dyzUdfaFeiArmm7IbGKkdB8\nxFzXoOOtwOcQmkPcpd8qBaAswfCJ+wASrzRkwFYM32iJ6YCuabsREcEqeRjZdDBSeDGSNwyr4ALE\nKkt4jmVuhqKrGnYDcw2WZVF7Broy0iH5kgQnOXa7bJTmogO6pu1GxD8FKt4AQvaQCUEIzUWKb41/\nfGQV5A21j28QD+Ttj2zsiZV/BhJeXLnHSL0KfGdRlRuu7ONTrrQfcGrbTKctatrupPwl7GXbqgvZ\nBbKsMpSRUmOPlNwBVDTw4gYQqRorD/+CFJwJrT9BOXLsI9LvQJLPRPwzAVC+o3fLIlrNRQd0Tdud\nSGGCHYY92YeqgC5i2Ysq1zlzx409Nu7FzmKpNcYuYaT8dVTazZWblLM7KlUH8eagh1w0bXfi/idx\n/9sb6WC0rbWxgVPn0yZCxqPRmue1haHasIvWvHRA17TdiEq5ClQKVb+cK8CLSrsbpWqGA6UUeEeQ\neOUggBCUP2cvOCHx8swV7EbVDnc0HdA1bTeinJ1RradB0lng7AWe4ahWk1DeIfGPT7sdnN2pe43P\nNVB4AfHTEgX8MxCruCmar9VDj6Fr2m5GOdqj0m5p2LFGGpI1BTbtR+KqhgDBOvaFkIr3USljt6aZ\nWiNsUw9dKTVBKbVIKbVQKTVZqbiDaJqmtRAigoR+RspfQvzTkLjDJDUpZVL3hKL6Vj0LQOSPrWmm\n1kiN7qErpXKAK4FeIuJXSr0DjAJebaK2aZrWhERCSOGlEJ5vVylUHii5B8l6za4r7v8QlBPlOwN8\nJ6CUPcyilBtxdAPz7zhX9VB37xzAC65eTf1ytDi2dcjFCfiUUmEgCWjYPGJN07Y7qZgUXRAi2iuX\nCKAg/4zoEfZ2Cf8Jwa9QmY8jkb/BKoS0m6BwHPYEIwtw2B8InuEQ+Bh7Lc94DFBelO/kZnxl2haN\nDugikquUegRYjT1TYaaIzGyylmmatlUk/BtS/jqYG8AzGJU0GmWkVh1Q8S6xFQ8lzjY/BD/HyhsK\n5iZQDhATks4Haw1EltoPVK18CHxCzbH1LQ9PDcAC9z/tBZ2N9KZ9sVpc2zLkkgmcAHQFioB3lVJn\nicgbtY67GLgYoHNnnb6kac3BqvgISm6nsgcd/hXxT4ZWH1YLpltTACsI5mpAqobIK15FZb2Ecg/A\nKnsZyh4nZrjFaIvK+t9utTBzS7ItD0WPAlaISJ6IhIEpwD9rHyQiL4rIABEZ0KZNm224naZp8YiE\noPRu7J72lqAdBDMPKX+16kDfCcQuBlHnlWt9H0DKX7O/9E8mbn1zazMYaVtxD60pbUtAXw0MUkol\nKaUUMATQj7I1bTsSESQw0x4SiWHXaNlCJZ8Prr1p/C/mAlZe9MtE2TEKpL6HpFpzaXRAF5G5wHvA\nz8Dv0Wu92ETt0jSNaGaKVRRTjhZAwn8geUdA8S3EFtyKMjIrv1TKi8p6m7p76V5Q2dg1WmrzgOfI\n6JdDifvB4Ggfp4SAtr1sUx66iNwpIj1FpI+InC2iP5o1rSmIhLFKJiIbB9i1y/MOxfJPr7Y/iBSc\nA9Y6Ei7tBmBk1/gwUMoBRkaCg52Q9T9U2zmQei3gq7bPA462qKQz7eukjosG7i3HuEElodIfsksG\naDuEnimqaS2ARJYj/g9B/CjvUKTiQwhMozJYW5ug+AbEyER5DoTgF9Q92ScqOB0p74hKGV+1LelM\nKHuKmh8EBjg6g/8DpPgmcLSBlEsh/CuY+eAdgkoaU1leVxlZ0PpTxP8RhH8ERxdU0hkoR/smeke0\nxtABXdN2MKvibSi5FztAm0jFO9jBNt5DyWfsgG4VJBg3r0X8UP4SknwJStnDKCr5fCSyCAKfY2fF\nCGCBuRz8y+3zzGUQ+hVSr8ZIPj/upZWRhEoejUQGQvBLCH6BeIfZwV7bIXRxLk3bQcSqwCp9Gkru\noKqWuGCPhyeYTh9ZbZ/boBmalTdCIuuwIiuxLD9KOVEp48Bok/g+YLej9DHESrzAhVXyALL5JKT0\n30jJ/cimw5HA7Ia1S2tyuoeuaTuAiB/JPxXMVdRfC2ULA1z7IsHvoOTurTgvDPlHV35nObqDuZY6\nx963UE57IpF7v5hdEvoJKiZT9cFizxaV4gng/g5lJDewfVpT0T10TdsBpOIDMHNJPGU+zuISyotK\nuRIpfZC4wVglY68cVJ1BTJVE8+/458dtaBiMVvF3+T9McB0HhL5p2PW1JqUDuqbtCMHZJEw1BMAD\nSZeCoyuoVHAfjMp6E+XqAZFl8U8RP2Q8Dc6egLMBQyr1cYKrL8rZMcF+K8H1ZRvvqzWWHnLRtB3B\n0YbKeicxXJByCUbKFcBVcc5tGx0yqUWlojyHoryDEXM9UvooBKZuZcPsFYzsOiz7ozKeSHyk9zgk\n8Kn9QVKdmOA+ZCvvqzUFHdA1bTuSyGoIzMAOmi5qPthUoNKh1QcYzpzEF0keFx1Drx5IHeDcG8y1\nCILknxQbaOtlgPMASJuAcmTXn4Lo/id4jwf/x9HX4bRfQ/r9lemN2valA7qmbSdW+SQofYCqoQoB\nXHYZWkww2qMy/4OqI5iXl1QQCR1FamqFXRxLSqJ7TAjPRzYfa495S2k9rfFij99XH1+3IPIL+Keg\n0ifW+3qUUqj0fyFJZyCBOSgjCbwjUI7ses/VmocO6Jq2HYi5IRrMa6caOiH1NpSrFzj3Rillz+yM\nLARzHbj6oBw55K8v5KFzn+a3rxYDkLNnK657rBV79S2pdi3T/mPl1t8gpUB8QFmtHUHwf4ik3dPg\nGZ/KtS/KtW+DjtWalw7omtZMxCpByl+B4Kxowap44+URezzcdxwEPsDyz4DwAnu4RDlBwpieEVx7\neAUbVmzCjNjXWPXHRm44NZmXv3GS1bYBM0ZjG0fimabVFrHQdio6oGtaMxCrDMk/0V4gglA9B5tI\n/ulgrgSpNoknmijy2+w5FKzvVhnMt4iEFdMnZ3HmVZu2voHKC84+EP6OmIwUV9/K5ee0nYtOW9S0\nZiAV74C5mXqDOU7ssevlNYN5NRvXgFix+erhoEHu8q2pb76FD1KuRqXfBiqFqsqKLjuXPfUu7CUO\ntJ2N7qFrWnMIfUXiyTtO7L6UgpRx0UJbiSf69OjrJ071XLxJJr0HltffFse+YLgg8qf94DVlHMp3\nnL2v9WdIxRsQ/t3OkkGg8BxEyhBHZ1TarSjP4fXfQ2sRdEDXtObgaE/8PHMvJJ2JcrQBz1Gg3Ejw\nyzov1a1XmH6DU1nwVYig3+7xO10WaZkmR55cVE9DDEg+EyPpFMBeEIPQXKzSx1BGJniPw0i9BgCr\n5MHoVP5ouqO5Cim8ErJeQrkHbtXL13YMHdA1rYmJVQHiIHa2pAMcOajUG8FajxSOs+uk1Mvi9veu\n4v0nl/PJc/8jFBQOPqaYc67fgDepvnVCLQj/ApyCSAQpuhxCP4JU2AW+yh6DjGfB3R8qJhH7m0IA\nKXsKlfV6A1+9tiPpMXRNa0IiFlJwVnSGZvWArsDZE5X1CiD24hSRxdhpjDVTGdfkhhlyylr6DF7F\nvoet4sn/FOAKv0mvY7qxrP1fLG3zGW/88j1LVscfbpk+u5x9DlnJXget5MGniqtWEAp8DMG51cbq\ngyB+pOgqJLLebmM8kRWNfj+07Uv30DWtKYW+tuuKx+Sbe1Cp16Ic7e0qhVY+8dMYwelUPHxna/r3\n9VJaZjFw2GqOOmwmN/xrAXfe/SjDhrTn0/cv4aaJC5k9pWadFdMUxt+Sx4y3c+iY7eTAY9YyclRf\neu8bLQgWt36MCdZGO57HK8Hi3Hur3wZtx9A9dE1rSuHfE0y5D9n7IJrKmFh2Oyf9+9pVE1NTDHr2\ncJO7Pg9C31G07imUoxOlTCA7uy21/wv/+EuAPbu46dYlA7cnkzNGncPUad/bO+tIRVTKC8kXUXPZ\nOQAvKvXKOturtRy6h65pTcnogB0Ua6cguhCc9qCGaz+Qhk0GWrkmzILfgxzY38tj97g4ZvQsbrij\nIxat+Par98C41h5CkQpQSeRuTKZTtwGorIng7EmnLpOZO3cuAMp3ChL6mZheuvLaueeufojKhPLn\n7RWRnD1RaTejXH237T3Rthsd0DWtKXmHQ0m8OihBKHsSK/QDKvNp8J0I/o+AACLw81cp/DArjaQU\ni6NOLaRT9yBl5RanXbCef9/ThrRUB7c/mM+jd7fmlOPb8e6s4Vx4ye3MmjUbAjPBXA3OfVBpm1HG\nLJSrT5y2jYDgHPt4TOy8c4XKeKZyIpFKHgPJY5rv/dGalQ7omtaExP8BiafUByH0I1JyP3hHgv8D\nLEtx7yWdmfdFKoEKA4dTmPJiGy7712qenLqYM09O5eRj7cqFr79TyuMT24BUcOrIdlx0+Y/2UIlv\nZOUdctp/xJpV85HAF+A5mLVr15KTYxf7UspAZTyChBdB6AdQGeAdpisj7kJ0QNe0eoiZC6G5dmlb\nz6GViy0DSHgRUvEGa1av5LwrfmXjhuUoJVx0VhpXXpRJQaHJqEvXs2pNhD06OXn7hWwymRItORti\n7qw05n2RytryPJawAAkLHcJdufSGEkaO8TDh0szKe3Vo5+DL7/0c/s8svvimnB49elS1QwQpfYAB\nXSexdMlSlv82jpzsZN6aXMKbk9+v8XqUqze4ejf7+6Ztfzqga1oCdpB8GCr+F32gqAAnZL2GcvXC\nqng/Wpc8hNMK8fBtBv377kFpmWlnpgxO4rV3ShlySBI3js/iwacKePDpQh64zcGWkgBzPsrAX27w\nF7+wP4fiJYnvmYHfLGfGbB/9j1oFwL9ubs0Lj7Rjwu15RMwCvClTefHFFwFYt24dF449iWmvBnA6\nQzx5X2uOGb0U04TzR+fQq9c+O+T907Y/HdA1LZHQ19HJNsEa6XxScAHi7m9XUYzKbuckux2AVGWm\nbIgwdUYZs9/viAgc1LMdZ1+3nMvP8NC5h53W6PZYlKh8fJJCkrKHPjpIV9xui5fu93LgUTXrmv80\nswu0morh2qtyW4cOHZj25r7RcgMwYkgyI4ZEF2hWSRBZBLq87W5Bpy1qWgJS/hpx87Ylv0Ywr616\nZsrGPJMkp4fLh+7FxIs7krspyL6HraJ9j3U89nwhw0YVYroqiBDmO5nB9zKTIjbjlxD7H1KzQNb0\n2RH2OXQze+0zggceeKBWmxKtTmSANHBBaG2npwO6plUjEq6qNBj+o55jYfG8JD75XxYLvknBsohm\npmyozEwB+Pe1nVi91EM44MLAwSCGsX/kSB55sgwjo4BO/1hPkAoG+47gyJQhZLuzOfDYgXhy3gf3\nYaCSMSWb8beV8en0H1i8eDGTJ09m8eLFVY3xHoe9ClFMK+00SW23oIdcNA17RSEpvg1C3wCCODqB\nFCY8PlBhcPOobixf7EVEYRhCq+wgq9p8yZmnZnPysW7Aom0rB9/MduKM2H0nTzToWkEPDjLI3RCh\nxChk754w7sKN+JItvv57La6MQ1GuHqis/wAw9/vv6d7jLvbcszsAo0aN4qOPPqJXr14AqKRTkMAH\nEFkSndrvtP+k3V/jIa62a9MBXdvtiYTsBSasDVUbzdV1nvPqg+1Z+ruPcNCIXkOY//dCOoWzmHBx\ntMY5MPyIDGa8tobO9GQ9q2hDBwD8Uk5BqJgD+2eTXxhh9XqTW1/+hdQUgw15JlNemYpVGEGlP4gy\nUsjNzaVTp06V9+/YsWPlhCHADtpZkyD4f0hwDhitUb7TUM4uTfIeaTsHHdA1LTgbrMS98Xj+793M\nymAOUEw+62Q1JSvT2H/IRpSCe25oTZ/Mg5hkfc8aWYmPJPZlEBGJ8CvfkpnuIC3VgWkqDj7Ay5Jl\nYTYXhCn3C732ckLwS6RofLSgV/2UcoH3GJT3mK16LdquQwd0TYusJLaYVj2nhGtWJsxQrTmKUzEc\nwkef/o7bIzw4rjPffuakP4dFCxkKlgi/Gd+wZ1InZs221/XMyXYy4ZJMjjg4CYAeg1ayOd+kTesQ\nhOYhEXty0Jo1ayrvV33CkKZtoR+Kappzb7Z2QeQDh5bgcNQsTaiUsM8/ynF7hI1rXXzzSTpBf9V/\nMRH4Q81jj2wvX8+P0Kq9PaP0hOHJzPnWzlJZsixEKCy0bhVtj3KDtZGBAweydOlSVqxYQSgU4q23\n3mLkyJFoWnU6oGuaZzAY7bbqlIvvXEdGmzDeJNO+hM8kJd3k6ofXArDiDy9Od82AX0w+62U1q4sK\nOPTkFfQ/ahWffl7O2NHpLF8Vpu/hqzjz0g288kQ7lFKs2xDh2DOXgLMHTqeTp59+mmHDhrHPPvtw\n+umn07u3nu2p1aQk3mKFDT1ZqQzgv0Af7KkXY0Xk+0THDxgwQObNm9fo+2lac7HMIig4A8zEizlc\nMGEjn8wqp21rB7/N2ZNAhcV/n/Ly6BsrMZxhMlpZPPdwGw7Y38uqJR7GD9+LYMDuM22WDfbUfoSj\nBrbjw6mJfiOovmydD5LHYqRe1aSvVdv5KKXmi8iA+o7b1h76E8B0EekJ7AfUnbiraS2UkqJ6M1vO\nPT2NT9/sEP3Owptk8fHPS3n28WSW/ZLDxJuzuGliPuBhj55p7DWgEy6PExHhL36hH4dwRPLx/F1c\nzuK/4i1ukWIX7TLa2ZUT0yeiUnQtcq3hGh3QlVLpwGDgJQARCYlIfSvWalqzEvEjEtr68/LPwi4p\nm9jgg3xkZW7pWdsBWSkoKbO/Li4xyM7piWr9MbT+irsnJXPIiHzKXPkkqWR69kzlwek3cta5FzN1\npgl4otcyAC+kT8TIeAij7dcYrT9C+UaiVIJl4TQtjm3JcukK5AGvKKX2A+YDV4lIjYUOlVIXAxcD\ndO7ceRtup2mJSXgpUnIzhBcBCvEMRqXdi3K0qvM8ywzB5lNAEq8itGG1m9IiB3vsFTuF/rF72nDM\n6FxuuGczlgXfzDob5eyClL9KsutjbnomQJejypgxO8h/nloM3kn8sqIvP/wwFFL+AcGvwNEBlXye\nXQVR07bBtgR0J9AfGC8ic5VSTwA3AbdXP0hEXgReBHsMfRvup2lxiVWIFIwGKaWyilbwK6RgDLT+\nFKWqZZqYeRCYDhJAjNZQcjOJ1vYs2OTk7rFdWL7Yh9MpiMApE5YD6yqPef71InvRieNSeWdqKRdd\n/gQzp/wJZh5gfwA4XRJ9QBqCwGeI9EIpN0bKJZBySbO8J9ruaVsC+lpgrYhsma72HnZA17TtSiqm\ngISoucLnMed6AAAgAElEQVRxxF74ODQXcf8DAjMR/6cQmoOdolj7+Fi3n92VFYt9mKZiyyDOaw+3\nJ9D2r8pjKhedAE47PoWLr91kVzesJqe9kzW5Wxa9sFi7dqXOIdeaRaPH0EVkA7BGKbVlSfAhwOI6\nTtG05mEuZ0tvuAYxkfCfyObhSMltEPo/7NWEgtQXzFct8bDmbw+mWXMMOxxUlBZWZahsWXQCYPY3\nfnp0dUWvraJ/YGA/L3+vCLFidZiQmc3bb3+oc8i1ZrGtM0XHA5OUXf1nOXD+tjdJ07aSsy/wCbEL\nMwuUPweNeFZftNmJw1kz6P8ucykkj0hZkM79V3DndVnVFp0QvB7F8w+3BWDdhhAXXZvHJ5M643SG\nefK+9hwzeh2mhBl7wWU6h1xrFtuUh761dB661hzEqkA2DwdrM1XrebqjX8cfH69PeYnBqH69CQVq\n/hLr9liMunIjYyYkfohaKf1JCC+A8C/g7IZKvgDl7N6o9mi7t4bmoetaLlpcYhVB4BPE3IxyDwT3\nQS02hU4ZSdDqfXu5uODngIsLrl7FJ7PyopOA9gBg1CXrWbLMHg0vKrbISDf4+f/2iLne9NkVTLiz\njGLvWjIie9ApYpeodbkt0rIijDw/vwGt8qK8w1C+4U31MjWtXjqgazEktAApPB/EBAJIRZI9rJH1\n3xZbW1s52qAyHgJAwn9y7ulDueL8Dpx35cbKY956Ibvy6+vuyiM9rfYjJA9mxjeMv70/s2Z9RU7b\nAvr0PoyOrTNxBTIYNLSEky/OIzWj7nx1uw75HS32A1DbdemArtUgYiFF46D6dAKpgPACpOJtVPLZ\nO65xDSRlTzL4IB8r14Tj7xfhhdeL8XoU704ti/bgndD6G2684W42bNjA8ccfz7HHHsv55w2C8O/c\ndGVG5fnTZ5cz4Y48TBMuODONG8dnRfcowA3JY1G+U5r9dWpabbo4l1ZTZClIWZwdAfB/sN2bk8jY\nsWNp27Ytffr0qdz266+/MmjQIPoe9Aojz1lHaVn88fNHny0iHBGSfAZ5+SaQhGr7A3O+nMOsme9y\n2ol7s3D+v7lmwsXktF5C7oaqmaemKYy/JY9PJuWw8Ms9eOvDUhb/FS29a7RBtf0OI3WC7p1rO4QO\n6FotBolT+lpOkDrvvPOYPn165febVucxfPAIzHkecpYdi6ztwpMvlMacZ5rCvY8XcO1lmcx6L4fi\nUovFea9AZAXPPXEeJxwdwsEypPhG2jqvoPZr/vGXAHt2cdFtDxdut+KME1KZOqMc8IDvdJSR2syv\nXNMS0wFdq8nZHVRmnB0+8J263ZuTyODBg8nKsoc6QoEQ4w+6hc0lm0g322CZirIlnXnnvRDVk7hy\nV7h5/WWFP2Bx2bnpuD29SU/PZOrHnyHF17B0eQXr1vt57+MyjjhxCT/N/5vc9RXktK8amczdEKFT\nTtX3OdlOcjdEABck66xdbcfSY+haDUopyHwGKTgn+lA0BLjAcyAq6bQd2jYxc5HSRyDwJWBiFbQH\n8fPVe99SUZJPMmnksY625LDezMVPgIoyF+WlBnef34U/fk5mqbkQFfHw8fNdGH7hn7iMEnKXvwmm\nIhIBr9cgK0Nx1cUZnHHRatJSFZOey66vaUAEFfwSfMc187ugaYnpgK7FUK7e0OZLCM4EczO4B4Kr\n3w4dF7Yia5n13Jm891waJQWd2X9wKUeMWQ7mWtYuuINAeTt6MYC/WMAK+QMLCxOTNRsscvquZI9I\nMu3NVPKkAB8pfDYpE2/rIkAoL1vNsWNMcrKdnHJcCiOOSuaaO/LI3RBh9EmZ9N7bU9mOmtP4IXd9\nJNqDDyD+qSgd0LUdSAd0LS5lpIDv5B1ybwn/DsGvQSXZix472vHyjRP58PnWBP32tPsvPsjkixkO\nzDZr6NozgC/ZgvI0+jMYgHIp5Q/jRz54vhsPjd+DsGmPLnZnX5azmKDfwfTJWYQjsFc3Ny8/nsXz\nrxUx51s/d9/Qiu5dXAw9PZd/3VyzWmP1afw57Z28/VEpbzzb3t7ZQlM6td2HDuhaiyEids0V/8dU\nDvWUPkqJdT8fPJtPKFhVQ8UyFSG/QXGBg4OGFZPZNpuyNUEckSREhFXGH/Rp04l9/lFB9V8s0sjE\nTxkL5FtKV+UTFJMn/lNEm9YOxo5O54JrNtP38NW43YpXnjka5YR1uX9w0bUb+WRSDk6n4sn72nLM\n6FxME84flRbtwftQSS3nGYO2e9IBXWs5Qt+AfxpVhbbsdMBVP92Jy71HjYD+u8ylMJxHpDBItwNX\ncMOlpRR9mMLnC9aDAQf0bMWU94KkZli40suYu/E39leHYCiDvaUfS/iV5CSD28a14part+SRu/jf\n6y+gJADufkhkIxRPoEN7J59MqqqOOGJIMiOGJFdruAFJp4P7sGZ9ezStPjqga81OrAow/7bztB2J\nHzCKfyrgj9neJidAOFRz/H5fdSBKCYceV8StL9hLx427GKBDtaPsPPSbH9vMxAv/SThoYVkG2Z52\ndE06imdmLqFdx2qTjxwdUL7TUEohIlB4OVDf6kcuSH8Ew3dMPcdpWvPTAV1rVlbZS1D2JCgHSBhx\n/wOV8STKSGvwNdp1DNPnwHJ+/yGZcKgq09btFU67PK/e8wceUcrjHy9lyoutWbvMS9+Dyjjxws1k\nta1WyEs5UekPVz34tQrAqqtKYxJgQsrVOphrLYautqg1OX95AIfDwMXXSPE1INV73S5wH4SR9d+Y\n86zAV1B0EfEmNpWXGvz7mk78MDMNw4DkdJMrH1jLP4eXbHuDvaehUq9EOdpVbhIJIBsHkLCH7uyN\nyvxvvUvcaVpTaGi1RT2xSGsyKxauZtyBN3NS5rmckH4Ot5/4AkV5teuphCH0A2Jujr1AZC2JZqku\nX+Rj7TIPZkRhOIQhpxRywJAmCOYAwc9AJdfYpJQXvMNI+F8kspT6FpXWtO1NB3StSRRvLmHCobez\nZN7fmBGLSNhk3myL607ZEyumpIoDCUxHgt8gUq0HHHg37rWXL/Zy65iurPzTh4giUOHg41db88QN\nHZum8WJB4LOqbyPLsDafEt2WoJ66ckfrr2tay6EDurZVRCziDdPNeHUO4VCkxlR7M6LYvM7Fb98n\n1zraD2WPIkVXIpsORkI/Ry8ev8f91lNtCQVr/qgG/QZffJhJcb4j7jlbJ1AZnMUqQ/JHQWQhVYtl\nxCEmOLo0wb01renogK41iERWYRWch2zshWzsg1V0PWJVBeA1f6wl5I8db7YsxfqVSXEuWG5XdZRi\npPBCRAJglcceB6z8w4tYsbNUXW5hw5q6JvM4QaXX+9pQXnAfYH8d+DTOgtO1+SDlCnthDU1rQXRA\n1+olVgmSfxqEfsAegghD4FOk4OzK3nrPA3vgTfbEnKsML93+cTg49wajE/F/5ATxf5Jw7c/uff0Y\njtihj0hIkb1HHWmFygOu/ep5ddFg7upvt8RcQ7zUSVCgUsHZB5XxIEbKxfVcV9O2Px3QtXqJ/wOQ\nIDXHk8NgroKwnbV05JhDSclIxuGsGgJxe13sPaAje/dPBkcnMNoQd0xaAlByV/x9wKjxm3B7avaY\nPT6TYaMKSMtM9GBS2T1vz1FAomEZN6Teisp4tjJdUbn62CUHYi7nQ2U8jdF6Csqrl5XTWiYd0LX6\nRf4ibq9VBCLLAfAle3nmpwc48sxDSMlIJqNtOide0YeJL0+Dilch+H8Q+TnBDUy2zAqNp3OPIA+/\nv4xeA8txuiwyWoUZNnYNU/6aS5/Bq9j3sFU8+Z8iUCnccE8RvQ5ZTb8j13HKxakUBweDis15nz67\ngn0Gl7PXfrfy4IOPVO3wHAlGB8BV7WgPOHuAe1A9b5Sm7Vg6D12rl1X+BpQ+TExQVz5U5isod/+Y\nc36YNo8Xr72H3OVuWrULM+aajQwfXUBTFWxcvzHC+o0R+vf1UlpmMXDYGqa8/ya560o48sjBuLx7\ncuONNwLwwL3jkeJbIDwXAJNu9Dx4EbNmzaFjx44MHDiQyZMn06uXvRi0WKVI2VMQmAYY4DsJlXI5\nSvmapvGatpUamoeuZ4ru4sRcB4BydKjnyMSU70Sk/Bmwqg+7uMHRA1z7xxz/04wF/OuMRwn67TH1\nvHVunru9A6GA4oSx+Y1uR3XZ7Zxkt7N/fFNTnPTcqzXrNqUybETVWp6DBg3ivffeQzk7olq9jogJ\nKOb9MJfu3e+iW7duAIwaNYqPPvqoMqArIxWVdguk3dIkbdW07UUPueyiJPwXVt5wJG8YkjcMK+8Y\nJLykUddSRgqq1Xv2cARue4zZdzJkvhK3RvrLt7xJ0F8z5S/od/C/R9rHyUnfVi5WbhrKgkUGgwbV\nHBJ5+eWXOeaYqmn5SjlQyiA3N5dOnTpVbu/YsSO5ublN3TBN2+50QN8FiVWGFIwBczn22HQQzGVI\nwRi7UFYjKEcORuazqMyXwMgB/1uw+TCs0scQqRm8c5euj3sNf7mBv6xxP3Ii8NmbWZw9cB+O3WNf\nLj+6Bwu+7UBFylxOO/87Hn/8CdLSqsbK7733XpxOJ2PGjGnU/TRtZ6SHXHZFgekgcSbFSNjel9S4\nhSskvAgpvIjK8rZSBuWvIFYRKv3uyuOyu7Vj+W+rYs73Jln4UhrXRX//hda8/nD7ygUuli1M4raz\nvRT3Gc6YMWM4+eSq1/Tqq68ybdo0Pv/887i/QeTk5LBmzZrK79euXUtOTk7McZq2s9E99F2RtZH4\nudSB6L7GkbJnic1GCYB/ip2rblVglT7KedcvwOOrGbi9SSZnXr0RoxE/cWYEJj1WFczBXgzjF/88\n/OvCXHPNNZXbp0+fzkMPPcTUqVNJSrLTDyWyAqmYjPg/RcTPwIEDWbp0KStWrCAUCvHWW28xcuTI\nrW+YprUwuoe+K3LtB8oHUmt4RXnrnGgjwe+Q0gftVERHW/Cdj0o6FmVk2gdElhB/BqVC/DPBPxki\nSzhwSJAbnkrjP/d0YMNqNxmtI4yZsJHjz6v7gahlQdFmJ0kpJt4kADc4+1G8aT6RcM2edjH5bGA1\nFRtK6devHwD33XcfV155JcFgkKFDhwJwYH8nz90XZN2GCBddm8snb/bAkfUKTz/9NMOGDcM0TcaO\nHUvv3r3rbJum7Qx02uIuSMRCCs6E8GKqVv/xgqs3KuvNuMMQEvwBKby42vFbGPYC0RmPIiUP2gtH\nx50A5I1zrh2kG9Ir//qTdJ65JYfyEgcCHH5iCeOfvQ5P6v6E1x3Kqb17EyiPnSDU88AePPX9fXGv\nKYFZSPF1tcr3AkZrVJuvUaop6sBoWvPbZcvnjh07lrZt29KnT5/Kbddffz09e/akb9++nHTSSRQV\nxZ9CPn36dPbee2+6d+/OAw88sL2avN0pZaCyXoWUy+wCUo6udu2RrFchOBtr84lYGw/AKjgXCf0K\ngJQ9SryADBaEf0HyR0PypUDs9H5bvHMbFswX/ZjEw1d2pjDPRShoEA4afPlRGo+c/zjKkYUr7SRO\nuWQzHl/NWaEen+Lcu89IeF2peCc2mIO9Lfxb/Q3TtJ3MThfQzzvvPKZPn15j29ChQ1m4cCG//fYb\ne+21F/fff3/MeaZpcsUVV/DZZ5+xePFiJk+ezOLFi7dXs7c7pbwYKZdhtJmJ0WYGRsoliH8aUjQB\nIovtuimh7+16LKFfIbKsjqsJSCnK2oDKeg0c3Zq0rZOfbEfQX/O3hlDA4PsZSRSu/RyVdgdn39SJ\nMRM2kZIeQSmhXacgNz69hv4H/1LHlRPVeVFA7Trtmrbz2+kC+uDBg8nKyqqx7eijj8bptB8HDBo0\niLVr18ac9+OPP9K9e3e6deuG2+2unEzSkoVDYb798Ec+eXEWq//ctjxpEQtKHyK2Jx1Ayh4BRz21\nxSUCZi7K3Q8cTZsRsn6VGzvI1uRyCfmrZqGMJIzk0zljXAnvLV7EtJW/8frcPzn4mHwofRRJsFSc\n8p4AJJjd6erXdC9A01qIbQ7oSimHUuoXpdS0pmhQPGbEpLSwDKsBs1JqTybZYkdNJok3RHTXXXeR\nk5NDv3796NevH59++mnMeSsXreGItscx7JShnH7pyRzd91geGftM5Xsg5iY7ayP4bXQGZD2kyC5Z\nG0/4D1TK1YAXy4Kfvkjl1Qfb8/GrrSgt2jLObCBGa6TsBQj/vpXvghucg8DxT+IF7l4DyjEcsc9y\nTFOR02mD3fzADCCAUuCsXmZFuSD0U/zb+o4Hd79qxbZcgDe6dmhdZXc1befUFFkuVwF/AA1f9beB\nLMvixmETWfD5QgCUUhx/+dEcf+1RcY9viZNJzjvvPMaNG8c555xTY/uECRO47rrr4p4jItw28j5+\nLv6W/TkUL0n8GP6caW9PZ/8hfTli5Hwo/68dzMAOWFmvoZzdEzdEpUYXao6zz9Ee5T2SoGciNx3z\nMssWOQiUG3h8Fi/fl839b6+l54AMKL4ewWLrl15TEPkFe8GI2AaMvmoTX3+SQaDcQMQO+B6fyelX\nbMabaWerYKRj9z9qf6gLqJT4d1UuyHwFQl8hga/AyEIlnYRq4t8wNK2l2KYeulKqI3AsELvibxMY\nP+iWymAOdqCb+swMJt37XsyxWyaTTJo0qUVNJok3RFSflYvWsHL9cnykkKRSMJRBOzqxtmIl0557\nFypeAULRRSLKwdqMFFwYdyWhLZRyge8sYocgfKiU8QBMfUnx9+8p0WwSRdDvoKLMwb2X9kAi6+x7\nJgjKdYvOVk3wQdChS4gnP1nKQcOLSc+K0HmvAFc+mMuYa0pQSefaB7mPJG7/Q3nBPTDhnZUyUJ7D\nMdLvwEgdp4O5tkvb1iGXx4EbSLjwYuMFA0GWzIv/oG7GK3NqfB9vMklttSeTvPH6G5T+FmLcgTfx\n74ufZ81f27eWx1NPPUXfvn0ZO3YshYWFNfaFg2EC+PFWC75efATxE6rYFCdzQ+whlchC6qJSr4Gk\nM7GDusdezSf1ZpR3GACzXp9DMM6qQ8X5Ydb83bwpfp17BLnzpVW8s3Ax/5mzlKNGtcPIeg0c2ViF\nV0PxNVQN1zjsRZ2NVqjMl1FKT6fQNNiGgK6UOg7YJCLz6znuYqXUPKXUvLy8vAZff/mvsVPHAX6X\nucw1P+evv/6iY8eOvPTSS4wbN47S0lKGDh1Kv379uPTSSwFYt24dI0aMAMDpdFZOJumxZw/M5S5+\nfv8P/vppGTNe+YLLB9zI4u//anD76hIKhPjqve/58OnP+PuXFTH7L7vsMpYvX86CBQvIzs7m2muv\nrbF/z/26VD7krc7hNDjy1ES9YwMS1GmJhCN89d73PHnFS0x+qjv5kRmoNl+g2v6AkTyq6vqOBD8O\nYuJwNPMK9+4jUG2+R7VbhGq3AKP1VJR7P6TsOQjOpqqXD6DA1d/OJXft07zt0rSdSKMnFiml7gfO\nxv4d3Is9hj5FRM5KdM7WTCwqKy7jpMzzE9wcZpnxV4hviGuPuJPfvoxNWey+f1eem/9Qo68LsGrx\nGq45/E7CwTBm2EQZih6DuzBr9UcsXBjbg165ciXHHXdczL6XH3+dm667iQHOwwiHIqx1/U1Gu3S+\n+GUs7vAjxGSrKB+q7Q8xNbsDFUGuOewO1v61Dn9ZAJfHicPpYOLUm+h3RJ8ax37w1Ke8dPMkghXV\ne+lCh64hXv7mzyarZR7Lg0q7CZUU++zD2jgIpCDOOW5Uu1/15CBtt9DsE4tE5GYR6SgiXYBRwOy6\ngvnWSklPoVWHzLj7Bh0/gD9/XMrUZ2fww7T5mJGt6z0u/j5+GdllC1Zgmo3viYoId538MKX5pfhL\nA4QCYYIVIX6ds4jSwrLK49avr6pG+MEHH9TIgNninHFn4uvg5qjLD2H4hUcQzi7jhY+fxJN1Bji7\nUzUWbgBeSL0n7gIMHz39GasWr8VfZn8AhIMRAuVB7jvz8ZisoeMvPZq+g3vhTfbgcDnwJZukpJvc\n8d+VzRjMAUKIY+/4u2qXL6gUYesfzmrarq1FDz7+46i+zHz9y5jt6/7ewPVD7sYyBYfLICUjmce+\nmki7Pdo06LrJaT6KN5fGbHf7PBiNqR4Vlbt0PXlrC6j+S8/vMpdCfx6RQIiOHTty9913M2fOHBYs\nWIBSii5duvDCCy/Yr2vdOi688EI+/fRTnE4nzz3/LFdffbVdb+SisfTdr6990VZv2Ys0B2bb09iT\nRqFce8Vt0+dvfkUozri4vzzIqkVr6LrvHpXbnC4n/5p6CYvmPMvibxaT1SaXg48pxpvU5I9IahEo\nuhRp8znKSK+5y+gI1t+xpzh76tRDTaulSQK6iMwB5jTFtbYIBcPMeee7uPtW/7G2KtEiAMGKEPef\n9QSPf/2vBl175BXDefuhDwn5q2YLun1uRlw0JG6GTENFwmbM+fuqAwHoum9nXvz1UQAuuOCCuOd3\n6NChRk76iBEjKp8BVKeUG3wnonwn1tkeq+JdXMZS7BGxmsQM4HRbtbblQv5J9O5TQe8+iWZZNhMJ\nIf4PUMnnVdv0E1hr4h+fetd2aZam7Uxa7EzRQFkAy0owvl9rs2Va/PXTMkryY3vd8eT0yK5xDcNQ\nDBzejwsf2LYRo8775JCcHjvs4fG5Oersw7bp2ltLQj9CyUSOOzsvpgaKUkKbDkE6ZH9Q85zSf4OU\nkHjKfFOJ96EZgOAPNdtT/joJF4+2YmcDa9rursUG9NSsFDLbpcdsXyTz+FI+5nuZWbntd/mBb0PT\nOfiwf9KlS5fKcqq1TZ8+nS6duzLyrBEs8VfNdnS4nDgcBm6Pq8bxIhGs8tew8o7Fyjsaq/QpxEow\n2xIwDIPb3pqAN9mL22tfy5fipeu+nTnhimFb9frrI1Y5EpiNBL5AxB4fF3ODXQLXzEVK/wsEGHpG\nAf8cXoLba+HxWSSlmKRnRbjz5RWowJSaFw1+zdZnoBrED9CJuEj4Yxf6BolUy26y6ii3W3KPXc5A\n07RKLXYMXSnF+Kcv5N7RjxHyhxABw2HQka50oQe/ReZWHruvGkTnfTry0sLHuPbaa0lPj/0g2FKc\n65iuJ7FkzSp+5HNaSwdSVBrhYJjvP55PUV4xGW2qzpWicRD8jsqMkvIXkeBMaDXFnqgTR59D9uH1\nv59i1v++JD+3gP0O78OBx/bH4Wy6bAzLP5Nw3vV8PS2deXOSaJ0d5phz2pOd8xv2P6mfLYHZMOCm\nZ1az8i8Pi35MJrNNhIFHluJyi72CUXVGCpjx66LE8oLRBdz72DM1/W9Tf8/esGe1Gu3AjPdg2kTK\nX0el325/6zkKwj8T/0MmZFdMdOuaLJq2RYsN6AAHHT+Ahz+/i8n3TSH37w3sM6gHI68Yxi2n/YuF\nKxWIPZzhcDm4+Y0rERHeeecdZs+eHXOtLcW5/Ksi9sxL6UQe60iJVixweZzkryusDOgSXlQzmAP2\n2pxrIPg5eIcnbHdmuwxOv+6EpnwrKom5gcD665kwshPrVroJVDhwuiw+/G+A2150c8CQ+MNOXfYO\n0mXv6sMXztjX4DsHyuLXFgc3dsB2YQfYMFhLwEyPLh5dXy9dgXcEKuUaJLIIiq4htuKhCWbVA1CV\ndAZS9jjxS/MaIPFL9mra7qpFB3SAfQ7swT0f3Vhj272f3swPh/4fe3bsQkabNM6bOIru+3flq6++\nol27dvTo0SPmOluKc/Xs2JP1yzbijfgopiq/2YxYdOjevuqE8ALiTnGXCiT4E6qOgN6sAp/w8avp\nrF3uIRSwhy4iYYNIGB4a35m3f1uEo95/VcOujZJyVc3N7gOwfyTirEfq6ACugfaHmZRUHROea//Z\nct24vWkPJF+AkXq1/a1yIHGHXdzg+kfld8pIRlJvgNL7iQ3+Frj3r/tlatpupsWOoW/x8//9xoTD\n7mB0p0u46+SHWf7bSt64512KN5ey7NeVLPhiEdcecRfTXpzF5MmTGT16dJ3XG3PrKXiTPVRPrPYm\neRhz68n4kquyQUQSPIzDawe37UgkUlmnRaxSvvgwtTKYVxcJK5YvTlAuFoOqf24LrHIof7bGEUoJ\nqAQLWBjpKN/x2L3lOAF/y3UBcNpT8/ECPnDvj0q5rOo+jmzwHkNs9o0DfDWzelTS6dEl9baUdHDa\n56Xdh0rUVk3bTbXoHvoXb3/LI2OfqUwv3Jz7Iz9+9jN+qagMcGbExIyYPHPVS8xPmc3Pv/wc91pb\ninNld2vHMz8+wPmnXoRaYdF1zz0YdeOJHDn6EMAOmFJ4AYT/JG6GhXLUmy7YVCz/Z1D6IFjrQGUi\nKZeBuAg7ypkvPxEiAChy6Epn1YOAGeKCW5exMT/EHp2cvP1CNpkZDmDL+L2d7TJ9djkT7liJaU7k\ngovKuenm+8BcieDDDrK1H/y6+f/2zjzO6rLs/+/re/Yz+wrMsIkigZpKkiRKGCG5p6UI7mv1uC+l\nYj5FWtmvxHo0n8olNdEwwCVxBbXsZ6CJJuCSpMjODDD7dpbv9fxxn1nOzDnDzDAwS/f79eLFme96\n3WfmdX3v73Vf1+cieDra9FrqDkAd8ED2PEQbwDce8X2+wxGS81PUuz/U3k1r7D0OO7+J5t2P+E1R\nnIgf8h+BplfQpleNfkvom4h3dPe+TIvlP4B+69Bd1+WeKx9IyhUHU+kYbb+YB+yScoYWlDB8eHKj\nBo2th/hnHDFxTIs4V+noUspkE39c8ViH5sBa/UOIrqXjK74HnKFI7l2IpyClzepWozV3QuNSsyF4\nIpJ1PeJ0X1lYG1+FqhtpiR9rBdTMB6LMnBXg4w8PJtBUQEyjvMlyCiimJvAJs2cEuemqEn529y5+\ndk8Fd3y/EBPfNrPqeFy5cm45Ly4sZXhJNkee8AgnH7OMCWMjGCnaVOJmEahfBPFu6KBrDI38HSIr\nIXQ6+Kck5eiLeFAJk/ySGDH56JVXQ9HriDiJY70QPA4JHtf1+1ss/4H025BLbUUd1SmqOVfrSt7i\nVeqp4XVdymY14ldbYuuZPqVVJ13dOjatncUJMw9BK6/DU3EC/3PHYcycOZPx48dz5plndnTmGoPG\nF3BANTEAABufSURBVEjdniwDKXrFdOxJgWoc3XkWNCwyMWathoZF6M5Z5rrtSNX4YtasWS1NL/Y7\n8EQmfrW9WFgjECdjZDkf+lfwBs+zzfcx2d5MfLkR6nMqOH/OZPBM4LxZw3j6hTrwfRH8U2n+Vb/5\nTiP7j/YxZpQPv1+YdXKcZ57/FJMZ05hGN4VuOHMxYZuaedD4HDQ+i1Zejlb/qOOhDU+ScsFT6yDW\nO0JpFst/Ev12hq5pNLebKy/bc6h/MrfPn9d6fs2PKClYy9IFw0DNg+GEqes4YdW1OG3iucl00rxB\nop1XkTb9xYRGkh4GUXC3mX3B6UmHp2p8sXDhwpbP1327mJzsjrbE48pVc8t546VSnEiIL3/z30Qj\ncZb8fSz7Hxmj5MAfg6eEksJCtu/IhfgWcLfTHN/evC3GiFIvIGzc1Mgf/lTB9vIYCxbXcOk52Vx1\naR7zfrGT+xdUUVRgQjW331zICdMzOthiQjflxONw8ZxsbrwyHwiAtlVGxIRpGhaj4dntJArSFY7F\n6cd/mhZLv6XfztCTFf86x/E4zH3sGjJyjNNRjULDUjrmRTdC/aNpryPiB+9BKfY44D+mcyNiH6ZO\no9N6s68dxxxzDHkZn4Fbhlt1Kxp5q3XhU5U//bmWs76e1XL8J+8HueXs/Zg+roTGslzWrSimYFgE\n14kx8ytB8nLKQGvRigvR8mPRnXMQahMVle3fOMyDyeuNc9Zpmcw+PYs3lo7g3oeqeP8j44ivuSyP\nVctGsWrZqJTOvDl0s3RBKWv+Moo/PlVjznUOIHU+ehwir7czIyvFcYljO+u+ZLFYUtJvHXpWXkaX\nCxDHThzDUae07VrTiRJfur6aCSTn9kSGRrPwUxAkB8m6qXMjPCNN95wOFwyDZ1SHzVpzO1o9F9wq\naHjCdByquQOA119/nSFDRzJ2jIm9b/g4wLWnHMA/Xs2isi4CDRncffMwjpmxk6mTQ+TmeACXIUUe\ntm6rBCJs3byS4sKOxUylQ71s3BwFlGFDBJ9XKB3qJSvT4XNj/Wzeli6DJZkOoZtTs3jmpQj4SjC5\n6u1pznxpQyyF6FYzbprQj8ViSUu/deihzBDjj+yYT94ef9DH0acnh2FEQuAdk+JoAf+XOr2e+MYj\nhS9CxmUQmAGZlyNFLyLe4Z2eR3BGordl2680URkZnEHVjmoe+sFCrjn6+/x0zm18vOIZWuPHCjRA\n/eNo9GOTfjnnUiTvHvCO5dH5w2hqbC2xV5RVDe9Qs6mA6Ue39tM8+bgMHnmiGoBHnqjmlJkde21O\nOizIx59EWb0mTiSiLHy6hpNnZrB+Y5R3Vzdx5MQgEOaeByo57CufcfG126mo7PhwbA3dGEqH+di8\n1YXM60j7ZxVsJ3+Q6gFodrT2S7VYLF2m3zp0gO//4WiKSqL4Ay6OR/F41eRKJ/AHveQP9XPSBT5U\nk1/zJft2kBCtsVg/SBaSlVyklArxFONkXYWT92uczG8hTm7LPnV34Vbfhls21ei71D2EagyRAFKw\nEPxHYtIEPaZQJ/dudn7yAJcc9B2e+H9PsfaNj3j1ife4/rSRvPVqe4cbI1a3jCVLljBr1iwkMBWn\ncCkfvTcWdRPNkwlRSzXb2MBOt5y5P93BkqW1PLe8jhuvyGfZX+sZd9R6lr9ez41XGD35LdtinHj2\nZmqrHH7yrdEUbJ3EUTPKKN5/C1Mn5jNquI8zLt7K/B8VkZ3l4dvnB1i3cjyrlo1kWLGHG+btAILg\nOwICp0HgRAhdCM6wxPfrAe8oCM7E8Y2BnDvNdy+ZiX8ZSN49iNNO3z58Jilz0f1f6FFmkMXyn06/\nXXlSVQoz7+DhFdt465Vstm3wc8AhDUSj8NQD46nc4TB5xkZOuaCSMP9Ey26DgkeRROxV/IdDwTNG\nsS/2kSluCZ8L2og2vow6JYh3JEhmlyVz1a1Hd34D4mW0xKVr5qORd7n4+mqeffZZiouLWb36XQDe\nWXEP/3XF0Wxa76Gmwss4nUiO5KMuNDU4PPTTYeiQf7VZXBSOOfpxPve5zyWlX5YcMJRtn5YBkE0e\nMSJM4XgyfQE2Fz7PY78dwkHjTJHNy3/q+CZRMtTL0gWlXH3SGNatCZEXz+UoKYE4fLIkyikfL2PO\n6VmcfqJ5wAwpciCR437JOTmccu4W8ByIU/BYyzVHjPk7m8reRob8GXDZUnkXw0eYfU5oBhpIpCyK\ngH8ykmI2LhkXodFVCZVFAXFMnnnOz7v0+7BYLMn0uAVdT+hOCzp1K9CyyaTOhPAktrctMxfwjEAK\nX07poFWjaOUNif6USsvCnRRA9i04oZN2a5Nb9zjU3IFJ8WuLn7++fzPZueM577zzWLNmDeru4rhj\nR3LNZTk8PvcLrN2wi/V8xBEyDTDpl5VSRkyaQOBHNxZw3bfyKDl0K1dedT3z5rVm7Cxb8hpzzpzD\noe4UAHboVj6WdwmE41x7RQZzr8nfre3/Xhvk2lMOoKmhNa6uqnzgvMW4CXGWvdyaf7744TDP/nYk\nZZt9VOR8SOaYrbz0VDFSuKwl9BSLxTjwwANZvnw5paWlTJo0icce65jX3xU0+gFE14CnNOH8+/WL\no8Wyz+lqC7p+PEOHtGltKRc8FeLlaOwj8I7p0M1G6+6DplfpUP2pO6FqLupkIYHdaJZHV9LRmQNE\nmDphHus3D2ltmdb4CuII1bUu2XlxYhuiBGgtyz9EjsTnd7n6gbe5875ybrrSOOUbvhMEX3L+/VdP\nn8aiR77DvTe8TdUuDyXOEC48axLf+uEWo5rYBbZv8NO+GVMVO9nibiC6PpOJXzUNvE+fMprfPbCL\nyvinCEKwPMyhNZNZ8fJ2Rh5+AZd9V3nu+eVJTbfj8TgXXXRRj5w5mHULbLNni2WP6bcOXcSLIoDS\nWO9QudNDwZDYbhxYI+w8DUVRp9io+2Wcb7RD6h8jtWqfOU9r7969Q/eMplV1MAXuJohvRSOr0Ph2\n7ppXxPGzN9JY/zLV4uEIPbblUK/f4ZAvVVPV0NRucdHLm/98Dpjfsk01ytHTlzDl7TpqKjyEMt0u\nO/Jm8opjNNQle/RcKWSm93TOuWI7c64uQxXmTBzPeNeXnGHUBA/+uITfvbaOZx8pRdVFxEnbUcli\nsfQN/fbdVpws4kzgnrmlnHHwQXzr2HGcefBBLLmvsJOzFDN7d01BT/2DaPkM3IYXd69BEl2Hxjtp\nqICRcyXRZV4VVryUzQ8vGsWt543mtadzMT2X1cgH1P2W3zyyizvnFbL1/dGcP3M0Hzr/ICMrTiDk\nMvZQ4eZfb0h9I7e63c8VoDFEIDs/3kVnnhyzXr44L2Wj53hc+NpZZtyxqFBRlvoZv2W9H4ibphOR\nN7twf4vFsq/ptzN0gPt/9mVeWvh6krLgQ3cMJb8oxrSvd7URQwSqvwf+o430a9qOPI1o+TQ0+8c4\n4VNatmpsE1r3e4itBu84yP4J1M7nV9fDq0tyaKw3Dv69NzIZM8kPbEmUrSuPPFHDL28rQgTufTDG\n42N38t8PrKdgaJQRB5iqVJMX3pr7vXlrjNKhglu/GCf8DWODW0d6hcM0SBhUaA4Rvf1aFqodPXog\nBDVVYfKH1OD1Kdn5cap2dvyzKCptLk5ScLd2zxaLxbJP6Lcz9GgkytL73qKpIdnEpgYPC345pJtX\n80DgWJBs0j/DXKAJqm9B4zsA0OiH6M6ToeFxo4/esAiqb2H9xhtZvnhIizMHaKz3sGZlBo31rTK1\nJUM8/OXvxqG+8rcGxo7xcdjRtYw4oAmTJeNh0mFB1n0a4dMN0TZ54WGovhV31+W4lXNh5zdIWyiV\nEi84I2gb788tTKVPA27cT/bwC8A7AfEfwTm3TCEQSnb8gZDLBd9LOHF1wXdIN2yxWCz7in47Q6+v\nbsCNp55N79re3uxmJ5p+FiueYih6Aa3/IzS8APFPSB0LF2haBuGz0Orb21WWxkHrWfX8b1A3WYt7\nta6koqGc+OYmRk5cxw9uyOe3vxjCtbeWE4srwYDwm58XAyYv/NLrt7P08SPxeiv4n58Uc/zszcTj\ncOFZ2YkUxBhEXt7Nt5SKgEn/i3+QtPWM75TzsytDSQ8hr9/LodMmUDDmSuBKAE69WqHhWB6dn0v1\nLi/5xVEuumUrXz61ypzkP7olNdRisfQv+m3aouu6nFVyHhVl7TXJlcOPqeOOJ7YlRJzENECgISF7\nm8KpSyZS/PekhghuzV1Q91s6hmAcCF+Kk3097raDSKW8+NLCfH79/QNorEu2zRdQzv/BNM649HXT\n73K3s2pfwt5e+h1kXGNi/LX3kiobZ+E9RSyYPxSP30cs4jDhS+P470XXk5WXXODklh0F7g5iUfAm\nFWw6ULwKx0klsWuxWPYWXU1b7LchF8dxuOxH1QRCrQ5XRAmEXC6+pQyybkOyb0TyH0GyroJ4m7Zo\n5miaO+ZI7t1Jzlw1Cm4DqR2pC/UPmZ6i7bVHEkw53sjYdrBZlGPPKEFy705IDwRp1TVJVbwUTWND\nTxCI/AWiq0mdWgmzrijnj++t5ScLPuG+t4/n58t/0MGZAxAyFZzJztwHgRnWmVss/Zh+O0MHcMuO\n4e1X6nh0/lC2bfQz9vP1nP/dbex/MEjR84inFI19gu44jWQn5jNFRhmXQPA4o+oXXQXRNahTAvV/\ngOibpF8gxWi++CZC3QMkpzv6wSlk9RsN/PDCEty4gJjQ8k33fsbkGfUYR97e6TeHiZTuxcO7g4/U\nWu4p8OyHU/Riyl2qEbTiv0w2iySKuDyjkPyHk2QQLBbLvmHAFxYBEJjGF6Yt5gvT2qnyOUPAMX09\nte73dIyFRyG+2WipSADddQ7E1oLGMC8lXegWH3kXybsfjW80TS8kABoB74EQW8chkxtY+F4Fa97M\nwI0LB3+xDn+w+eGYStExhnH06XqVQvomy12li84cwN2RdpeIH8m/H43+y2TseEaC7/NdlkiwWCx9\nQ7926JJ5Jdq0DNxajCP0AD4k58etziX2MSlnvOKH+Ea04alEPLszR5qKOBrfhplRq6kA9R+V2Gfe\nBrw+OGxK53K8yezmQRI4DZr+TNrCpd6kC5kq4jsQkhpSWCyW/kz/duieYih8Dq1/DJpWgncUEj4P\nPMPQ+iWmz6YzHFhNh9mpNpkmCVVz6b4zx1xvx0mJ6yZi85E32KtfWdPTdDvfvAUPXQ/lhJCs7/bw\nPhaLpb/Srx26QYEAeEcgvs+jbgXsmmWC1kQwQ2i/DhCE0ImIZwja43h1QqM8iebWaJLinr1BT525\n1xROxTck0jFT4BQCCr7DkcyrEd84ADT2GVr/CMQ+A/8kJHwW4uT00A6LxdKX9GuHrtEP0F1ng0aB\nJrThWcxsu22cOYZZBD3QODTJgozzkYyL0fhW8OxnytV7bSGyJ7P9vYjvWCT/bkT8uPFq81ah29oc\nEIK8BTiBgzucqk0r0YrLaHkLiaxE6x+GgicRT3eLtywWS1/Tvx161U2gtW22pNNjiUL8X0AGaBXE\nPkTrHobauxL72z4AQqYbjjM0cU7/omyTj/dWZJKVG2Pi1Nou6LY0oVXfR5teAhwIngSBU8H9FPyT\ncLwd29+Bkc7VqptI/k6bwI0ZobKc23tpRBaLZV/Rbx26ujWJBc/ukFigbHwJeI7URUMXQ/hkcCOw\n6zR6HuboDQI0z/hV4f7bh/H0g4V4PIo44Pcrdzzxb8ZMSLeYGoTYGojW0zKOhsUQfQcpeLpzXXG3\nLE2mSzwhM2yxWAYaPS4sEpERIvKqiLwvImtF5OreNMws8vWUCGnT/+r/F3acDBUXsHfi4N2hNXzz\n5vIsnn24gGiTQ2O9h4ZaD1W7PNx67n4JFcf2JPpuaptFW8C8rWxMLOB2goRJ+x2lKaiyWCz9mz2p\nFI0B16vqBGAycLmITOgds0CcsCns6VWMwiFETGOLPYqrC0gO0DuVk0v/UJCks9J8j7pqD//6ZyjF\nGQ54JpAyDKXRhOJjesTJSjTMbv+SFoTwuV033GKx9Bt67NBVdauqrkp8rgE+AEp7y7DEXXr3cr2K\nH8n9Bc7Qd6HgOfDuWced9s0nmhGHDoqThjjE3k59MfEnmnF0juT+3EgCNzd0JmCyg8Jnd9lui8XS\nf+iVGLqIjAYOB1b2xvUgoQEefacn1gABCExP6J83F+l0twLTj3mgpKm+dApNqiDg+A6Awqdxo/+G\nXWcDja2t6LrItFMr+eidcFLPTzDZmeMnprqWkDb+r3WmObZ3f8Q7Ou09xclDCp9Eo++bylrfQYin\npFt2WyyW/sMei3OJSCawGLhGVatT7L9MRP4hIv8oLy/vxpU7c8A5ED7PpCT6DoPMGyB4Gnj2h8BX\nkYIFOHl3IQULIePbEL4E46C7NCIgCBmXQOFzQIpwhzMUKViESLLzdXz7I8WvQfhsUotxpWfGmRWM\nOaiRYNiEgTxeF3/Q5do7N7aRFGi5E7v91UVXoDvPQN3dNwIR3wQkOMM6c4tlgLNH4lwi4gOeBV5U\n1fm7O77b4lw7vg6x99tt9ULoGzg5tyVt1fhmtP5JcHchwangn5qU5eHW/Arq7iVtGMcZAaHTzbiC\nM0zZe/N1a34BTa8DIQifjWReYnqexjagtb+CyApw8iB8odF8qV9gGmJ0M0Yfi2byxgseVi7LJq8w\nyszZFYlmGG3xQGg2NCwBdvcW4AfPMHArwVOMZF6BBI/vlk0Wi6Xv6ao4V48duhgxlYeBXap6TVfO\n6a5D1+hH6K45iUyORpOZ4eQhBYsRJ7/1uMblaOW1GAcaNcf5DkPy7sM8cxJ515U3QdOTaQaUa/qO\neoZC5tU4oZM6ty2+Fd1xciJPvvltQjBRrG6IZLUQgOwfQ/UNnRwTgsCxSM7taPnUdjn6XUBCkPld\nnIxzemCfxWLpK/aFHvoU4FzgKyLybuJfr7aAF984pGg5ZF0HodlI9n8jhc8nO3ONoFU3YISvEo5U\n6yHyDjT+ufVaIjh5PwNnZOqbaSXQBPHPoGoubv2fOrVNa+9PxMnbhoY6ibkjpA/DeCHrBiR0HOmX\nNYJI9q1I7p2Ik4nkPwROcSL9MJjmnPZGN0DtXaj2Ze69xWLZW/R4UVRV/0Z3A8U9QJxcJOOC9AdE\n301jRgPa8AySCKO0XK/wKbTqFmh6GeOAPXRUN2yE2vlo6JvpJWOjb9G1oiSvWWwMn41qE1T/hI6p\nhg4S/BoiQTQ8B+ofJ/nBEEByf4kEv9I6Dt/noeivpipW41B9WyI8tRulRo2agiLP0C7YbrFYBhL9\ntlK066QS52qm40KoOJlI3q9QjYA2oWVHpz7VrTQzcMlANYrW3WccrTZA4MvgFAEfdXLv5hsGkKxb\nEP9h5n71jxohrBYp3RCEz2nRTpGsm1AE6heaa0sYsr6X5MxbLi0O+CYYqbD836M1d0DjM8ZpSzB9\nSMY2qbBYBiUD36H7DjWxYW2nSy4hJHxm2tNE/CB+1FMC8X+nOCBsrgto5XXQ9BdanHDjUiCRt707\njXN10YrLUSfDZL/kPwb1f4LG58DJQsLnQKDNzFu8SPYtaNZ3wa0CJ79DNk3K8TgZSM5tkFgs1qbX\n0Iqr2tkXhPAZiHQxRGOxWAYU/banaFcR8SB5vzEqi5KBiScHTBpjYPruz8+6ho4x6BBkfAcRB42t\nh6bXSHaMLtAEgeMSsrRBTEbJGPM/GQlbBFOVWg7x9VBzJ1T/ECfzIpzCRTj5v0eC01OGdUT8iKeo\nS8485bgC0yB7Hjj5CZuCEJ6NZN3co+tZLJb+z8CfoZOIJxf/f2h8xagt+icj3v26dm5wJprdCLU/\nN7FlyYLMbyPhi8wBsQ8Tmint0webgDqk6G/gbgfJQpxM0+Uo8hYaeQsaniRZbrcRGl9CYxsQb5rF\n2V7ECZ+Ghk4Ft8K8DUhXc/EtFstAZFA4dMCEEUI9S7JxwqeioVMwzjeQPGP2jCB1PrkPvGNMHNsz\nrNUOz1AInYw2Pk9K7XTxQnQN7AOHDok4u6dgn9zLYrH0LQM+5NJbiAgiwY7hD+8E8BwA+Nqd4Otc\n88S7H6mflwq2ItNisewFrEPfDSKC5D+YWLj0AV7wjkXyHu60VF5Cs+nwEMALnlKzkGuxWCy9zKAJ\nuexNxMlB8u42eeQaMdKzuzvHOxzy70erboR4OeCC/wgk5870ue0Wi8WyB1iH3g1EAkarpavH+ydB\n4fLEomnINl+2WCx7FevQ9zIiYqsyLRbLPsHG0C0Wi2WQYB26xWKxDBKsQ7dYLJZBgnXoFovFMkiw\nDt1isVgGCXvUgq7bNxMpBz7r4emFwI5eNKe/YMc1sBiM4xqMY4LBNa5Rqlq0u4P2qUPfE0TkH11p\nwTTQsOMaWAzGcQ3GMcHgHVdn2JCLxWKxDBKsQ7dYLJZBwkBy6L/rawP2EnZcA4vBOK7BOCYYvONK\ny4CJoVssFoulcwbSDN1isVgsnTAgHLqIfE1EPhKRdSJyU1/b0xuIyAgReVVE3heRtSJydV/b1FuI\niEdE3hGRZ/valt5CRHJFZJGIfCgiH4jIl/rapt5ARK5N/P2tEZHHZYB2EBeRB0WkTETWtNmWLyIv\ni8jHif/z+tLGfUG/d+hiuiT/GjgemADMFpEJfWtVrxADrlfVCcBk4PJBMi6Aq4EP+tqIXuZXwAuq\n+jngUAbB+ESkFLgKOEJVDwY8wFl9a1WPeQj4WrttNwHLVXUssDzx86Cm3zt04IvAOlX9RFUjwB+B\nU/vYpj1GVbeq6qrE5xqMgyjtW6v2HBEZDpwI3N/XtvQWIpIDTAUeAFDViKpW9q1VvYYXCImIFwgD\nW/rYnh6hqn8FdrXbfCrwcOLzw8DX96lRfcBAcOilwMY2P29iEDi+tojIaOBwYGXfWtIr/BL4HuD2\ntSG9yH5AOfD7RCjpfhHJ6Guj9hRV3Qz8AtgAbAWqVPWlvrWqVxmiqlsTn7cBQ/rSmH3BQHDogxoR\nyQQWA9eoanVf27MniMhJQJmqvt3XtvQyXmAi8L+qejhQxyB4fU/ElE/FPLBKgAwROadvrdo7qEnn\nG/QpfQPBoW8GRrT5eXhi24BHRHwYZ75AVZf0tT29wBTgFBFZjwmNfUVEHu1bk3qFTcAmVW1+g1qE\ncfADna8Cn6pquapGgSXAUX1sU2+yXUSGAST+L+tje/Y6A8GhvwWMFZH9RMSPWbR5po9t2mPEdIp+\nAPhAVef3tT29garerKrDVXU05vf0iqoO+Bmfqm4DNorIuMSm6cD7fWhSb7EBmCwi4cTf43QGwWJv\nG54Bzk98Ph94ug9t2Sf0+56iqhoTkSuAFzGr8A+q6to+Nqs3mAKcC6wWkXcT2+aq6nN9aJMlPVcC\nCxKTik+AC/vYnj1GVVeKyCJgFSbr6h0GaHWliDwOTAMKRWQT8APgDuAJEbkYo/J6Zt9ZuG+wlaIW\ni8UySBgIIReLxWKxdAHr0C0Wi2WQYB26xWKxDBKsQ7dYLJZBgnXoFovFMkiwDt1isVgGCdahWywW\nyyDBOnSLxWIZJPwfcRe+rc39bngAAAAASUVORK5CYII=\n",
      "text/plain": [
       "<matplotlib.figure.Figure at 0x7fd36615d090>"
      ]
     },
     "metadata": {},
     "output_type": "display_data"
    }
   ],
   "source": [
    "\n",
    "start = len(H_austin)\n",
    "d = np.random.randint(0, 2, size=(3,3,3))\n",
    "z,x,y = d.nonzero()\n",
    "import matplotlib.pyplot as plt\n",
    "from mpl_toolkits.mplot3d import Axes3D\n",
    "fig = plt.figure()\n",
    "# ax = fig.add_subplot(111, projection='3d')\n",
    "ax = fig.add_subplot(111)\n",
    "ax.scatter(X[:, 1], X[:, 2], c= y_label)\n",
    "# ax.scatter(X[:, 2], X[:, 0], X[:,1], zdir='z', c= y_label)\n",
    "\n",
    "for i in range(start, start + 15):\n",
    "    ax.annotate(result[i-start], (X[i, 1],X[i, 2]))\n",
    "\n",
    "plt.savefig(\"demo.png\")"
   ]
  }
 ],
 "metadata": {
  "kernelspec": {
   "display_name": "Python 2",
   "language": "python",
   "name": "python2"
  },
  "language_info": {
   "codemirror_mode": {
    "name": "ipython",
    "version": 2
   },
   "file_extension": ".py",
   "mimetype": "text/x-python",
   "name": "python",
   "nbconvert_exporter": "python",
   "pygments_lexer": "ipython2",
   "version": "2.7.10"
  }
 },
 "nbformat": 4,
 "nbformat_minor": 2
}
