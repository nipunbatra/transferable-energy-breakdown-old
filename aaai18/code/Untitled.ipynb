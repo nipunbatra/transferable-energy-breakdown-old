{
 "cells": [
  {
   "cell_type": "code",
   "execution_count": 2,
   "metadata": {
    "collapsed": true
   },
   "outputs": [],
   "source": [
    "import datetime\n",
    "from sklearn.model_selection import train_test_split, KFold\n",
    "from common import compute_rmse_fraction, contri, get_tensor, create_region_df_dfc_static\n",
    "from create_matrix import *\n",
    "from tensor_custom_core_all import *\n",
    "import multiprocessing as mp"
   ]
  },
  {
   "cell_type": "code",
   "execution_count": 3,
   "metadata": {
    "collapsed": true
   },
   "outputs": [],
   "source": [
    "appliance_index = {appliance: APPLIANCES_ORDER.index(appliance) for appliance in APPLIANCES_ORDER}\n",
    "APPLIANCES = ['fridge', 'hvac', 'wm', 'mw', 'oven', 'dw']"
   ]
  },
  {
   "cell_type": "code",
   "execution_count": 4,
   "metadata": {
    "collapsed": true
   },
   "outputs": [],
   "source": [
    "case = 2\n",
    "setting = 'normal'\n",
    "constant_use = True\n",
    "static_use = True\n",
    "source = 'Austin'\n",
    "target = 'SanDiego'\n",
    "random_seed = 0\n",
    "train_percentage = 0\n",
    "start = 1\n",
    "stop = 13\n",
    "year = 2014"
   ]
  },
  {
   "cell_type": "code",
   "execution_count": 5,
   "metadata": {},
   "outputs": [],
   "source": [
    "def get_zero_prediction(setting, case, constant_use, static_use, source, target, random_seed, train_percentage, start, stop, year = 2014):\n",
    "    \n",
    "    A_store = pickle.load(open(os.path.expanduser('~/git/scalable-nilm/aaai18/predictions/case-{}-graph_{}_{}_{}_{}_As.pkl'.format(case, source, constant_use, start, stop)), 'r'))\n",
    "    error_store = pickle.load(open(os.path.expanduser('~/git/scalable-nilm/aaai18/predictions/case-{}-graph_{}_{}_{}_{}_errs.pkl'.format(case, source, constant_use, start, stop)), 'r'))\n",
    "    source_df, source_dfc, source_tensor, source_static = create_region_df_dfc_static(source, year, start, stop)\n",
    "    target_df, target_dfc, target_tensor, target_static = create_region_df_dfc_static(target, year, start, stop)\n",
    "    source_L = get_L(source_static)\n",
    "    target_L = get_L(target_static)\n",
    "\n",
    "    if constant_use == 'True':\n",
    "        T_constant = np.ones(stop-start).reshape(-1 , 1)\n",
    "    else:\n",
    "        T_constant = None\n",
    "\n",
    "    pred = {}\n",
    "    out = {}\n",
    "    n_splits = 10\n",
    "\n",
    "    for appliance in APPLIANCES_ORDER:\n",
    "        pred[appliance] = []\n",
    "    best_params_global = {}\n",
    "    kf = KFold(n_splits=n_splits)\n",
    "\n",
    "    minimun = 10000\n",
    "\n",
    "    for key_1, nested_1 in error_store.items():\n",
    "        for key_2, nested_2 in nested_1.items():\n",
    "            for key_3, nested_3 in nested_2.items():\n",
    "                for key_4, nested_4 in nested_3.items():\n",
    "                    for key_5, nested_5 in nested_4.items():\n",
    "                        if nested_5 < minimun:\n",
    "                            minimun = nested_5\n",
    "                            best_learning_rate = key_1\n",
    "                            best_num_season_factors = key_2\n",
    "                            best_num_home_factors = key_3\n",
    "                            best_lam = key_4\n",
    "                            best_num_iterations = key_5\n",
    "    print key_1, key_2, key_3, key_4, key_5\n",
    "\n",
    "#     for outer_loop_iteration, (train_max, test) in enumerate(kf.split(target_df)):\n",
    "#         # Just a random thing\n",
    "#         np.random.seed(10 * random_seed + 7 * outer_loop_iteration)\n",
    "#         np.random.shuffle(train_max)\n",
    "#         print(\"-\" * 80)\n",
    "#         print(\"Progress: {}\".format(100.0 * outer_loop_iteration / n_splits))\n",
    "# #         print(datetime.datetime.now())\n",
    "# #         sys.stdout.flush()\n",
    "#         num_train = int((train_percentage * len(train_max) / 100) + 0.5)\n",
    "\n",
    "\n",
    "#         if train_percentage == 100:\n",
    "#             train = train_max\n",
    "#             train_ix = target_df.index[train]\n",
    "#             # print(\"Train set {}\".format(train_ix.values))\n",
    "#             test_ix = target_df.index[test]\n",
    "#         else:\n",
    "#             # Sample `train_percentage` homes\n",
    "#             # An important condition here is that all homes should have energy data\n",
    "#             # for all appliances for atleast one month.\n",
    "#             train, _ = train_test_split(train_max, train_size=train_percentage / 100.0)\n",
    "#             train_ix = target_df.index[train]\n",
    "#             test_ix = target_df.index[test]\n",
    "\n",
    "\n",
    "# #         print(\"-\" * 80)\n",
    "# #         print(\"Test set {}\".format(test_ix.values))\n",
    "# #         print(\"-\" * 80)\n",
    "# #         print(\"Current Error, Least Error, #Iterations\")\n",
    "\n",
    "#         ### Inner CV loop to find the optimum set of params. In this case: the number of iterations\n",
    "#         inner_kf = KFold(n_splits=2)\n",
    "\n",
    "\n",
    "#         overall_df_inner = target_df.loc[train_ix]\n",
    "#         best_params_global[outer_loop_iteration] = {}\n",
    "\n",
    "#         params = {}\n",
    "#         count = 0\n",
    "\n",
    "# #         print(\"******* BEST PARAMS *******\")\n",
    "# #         print(\"******* BEST PARAMS *******\")\n",
    "#         sys.stdout.flush()\n",
    "#         # Now we will be using the best parameter set obtained to compute the predictions\n",
    "#         if setting==\"transfer\":\n",
    "#             A_source = A_store[best_learning_rate][best_num_season_factors][best_num_home_factors][best_lam][best_num_iterations]\n",
    "#         else:\n",
    "#             A_source = None\n",
    "#         num_test = len(test_ix)\n",
    "#         train_test_ix = np.concatenate([test_ix, train_ix])\n",
    "#         df_t, dfc_t = target_df.loc[train_test_ix], target_dfc.loc[train_test_ix]\n",
    "#         tensor = get_tensor(df_t, start, stop)\n",
    "#         tensor_copy = tensor.copy()\n",
    "#         # First n\n",
    "#         tensor_copy[:num_test, 1:, :] = np.NaN\n",
    "# #         print tensor_copy\n",
    "\n",
    "\n",
    "#         L = target_L[np.ix_(np.concatenate([test, train]), np.concatenate([test, train]))]\n",
    "\n",
    "#         H, A, T, Hs, As, Ts, HATs, costs = learn_HAT_adagrad_graph(case, tensor_copy, L,\n",
    "#                                                                               best_num_home_factors,\n",
    "#                                                                               best_num_season_factors,\n",
    "#                                                                               num_iter=best_num_iterations, lr=best_learning_rate, dis=False,\n",
    "#                                                                               lam=best_lam, random_seed = random_seed, A_known=A_source, T_known=T_constant)\n",
    "\n",
    "    \n",
    "#         HAT = multiply_case(H, A, T, case)\n",
    "# #         print HAT\n",
    "#         for appliance in APPLIANCES_ORDER:\n",
    "#             pred[appliance].append(pd.DataFrame(HAT[:num_test, appliance_index[appliance], :], index=test_ix))\n",
    "#         best_params_global[outer_loop_iteration] = {'Learning Rate': best_learning_rate,\n",
    "#                                                     'Iterations': best_num_iterations,\n",
    "#                                                     'Num season factors': best_num_season_factors,\n",
    "#                                                     'Num home factors': best_num_home_factors,\n",
    "#                                                     'Lambda': best_lam\n",
    "#                                                     }\n",
    "\n",
    "#     for appliance in APPLIANCES_ORDER:\n",
    "#         pred[appliance] = pd.DataFrame(pd.concat(pred[appliance]))\n",
    "#     for appliance in APPLIANCES_ORDER[1:]:\n",
    "#         prediction = pred[appliance]\n",
    "#         if appliance == 'hvac':\n",
    "#             prediction = prediction[range(5-start, 11-start)]\n",
    "#         out[appliance] = \\\n",
    "#             compute_rmse_fraction(appliance, prediction, target, start, stop)[2]\n",
    "#     print out\n",
    "# #     print (pd.DataFrame(out).T*pd.Series(contri['SanDiego'])).sum(axis=1)\n",
    "#     return out\n",
    "# #     print(\"Computed for: {}\".format(name))\n",
    "    "
   ]
  },
  {
   "cell_type": "code",
<<<<<<< HEAD
   "execution_count": 6,
   "metadata": {},
=======
   "execution_count": 96,
   "metadata": {
    "collapsed": false
   },
   "outputs": [
    {
     "name": "stdout",
     "output_type": "stream",
     "text": [
      "0.1 5 5 0.1 700\n"
     ]
    }
   ],
   "source": [
    "get_zero_prediction('normal', 4, True, False, 'Austin', 'SanDiego', 1, 0, 1, 13)"
   ]
  },
  {
   "cell_type": "code",
   "execution_count": 63,
   "metadata": {
    "collapsed": false
   },
   "outputs": [
    {
     "name": "stdout",
     "output_type": "stream",
     "text": [
      "--------------------------------------------------------------------------------\n",
      "Progress: 0.0\n",
      "--------------------------------------------------------------------------------\n",
      "Progress: 10.0\n",
      "--------------------------------------------------------------------------------\n",
      "Progress: 20.0\n",
      "--------------------------------------------------------------------------------\n",
      "Progress: 30.0\n",
      "--------------------------------------------------------------------------------\n",
      "Progress: 40.0\n",
      "--------------------------------------------------------------------------------\n",
      "Progress: 50.0\n",
      "--------------------------------------------------------------------------------\n",
      "Progress: 60.0\n",
      "--------------------------------------------------------------------------------\n",
      "Progress: 70.0\n",
      "--------------------------------------------------------------------------------\n",
      "Progress: 80.0\n",
      "--------------------------------------------------------------------------------\n",
      "Progress: 90.0\n",
      "{'hvac': 19.945511485358036, 'wm': 21.890794547016785, 'fridge': 7.8137676445028674, 'mw': 21.841111511845739, 'oven': 17.518550142405754, 'dw': 20.995630434563022}\n"
     ]
    }
   ],
   "source": [
    "out = get_zero_prediction('normal', 2, True, True, 'Austin', 'SanDiego', 0, 0, 1, 13)\n",
    "# *pd.Series(contri['SanDiego'])).sum(axis=1)"
   ]
  },
  {
   "cell_type": "code",
   "execution_count": 36,
   "metadata": {
    "collapsed": false
   },
   "outputs": [
    {
     "name": "stdout",
     "output_type": "stream",
     "text": [
      "--------------------------------------------------------------------------------\n",
      "Progress: 0.0\n",
      "--------------------------------------------------------------------------------\n",
      "Progress: 10.0\n",
      "--------------------------------------------------------------------------------\n",
      "Progress: 20.0\n",
      "--------------------------------------------------------------------------------\n",
      "Progress: 30.0\n",
      "--------------------------------------------------------------------------------\n",
      "Progress: 40.0\n",
      "--------------------------------------------------------------------------------\n",
      "Progress: 50.0\n",
      "--------------------------------------------------------------------------------\n",
      "Progress: 60.0\n",
      "--------------------------------------------------------------------------------\n",
      "Progress: 70.0\n",
      "--------------------------------------------------------------------------------\n",
      "Progress: 80.0\n",
      "--------------------------------------------------------------------------------\n",
      "Progress: 90.0\n",
      "{'hvac': 21.809519524527978, 'wm': 4.8267410035801586, 'fridge': 9.0396648022330073, 'mw': 10.895088197940213, 'oven': 7.4242135995324521, 'dw': 8.5703473858256576}\n"
     ]
    }
   ],
   "source": [
    "get_zero_prediction('normal', 4, True, True, 'Austin', 'SanDiego', 0, 0, 1, 13)"
   ]
  },
  {
   "cell_type": "code",
   "execution_count": 65,
   "metadata": {
    "collapsed": false
   },
   "outputs": [
    {
     "name": "stdout",
     "output_type": "stream",
     "text": [
      "--------------------------------------------------------------------------------\n",
      "Progress: 0.0\n",
      "--------------------------------------------------------------------------------\n",
      "Progress: 10.0\n",
      "--------------------------------------------------------------------------------\n",
      "Progress: 20.0\n",
      "--------------------------------------------------------------------------------\n",
      "Progress: 30.0\n",
      "--------------------------------------------------------------------------------\n",
      "Progress: 40.0\n",
      "--------------------------------------------------------------------------------\n",
      "Progress: 50.0\n",
      "--------------------------------------------------------------------------------\n",
      "Progress: 60.0\n",
      "--------------------------------------------------------------------------------\n",
      "Progress: 70.0\n",
      "--------------------------------------------------------------------------------\n",
      "Progress: 80.0\n",
      "--------------------------------------------------------------------------------\n",
      "Progress: 90.0\n",
      "{'hvac': 23.312864483296114, 'wm': 7.0110707946543984, 'fridge': 8.1978360804244641, 'mw': 7.614586913644148, 'oven': 4.5605684928077865, 'dw': 10.15273051356947}\n"
     ]
    },
    {
     "data": {
      "text/plain": [
       "{'dw': 10.15273051356947,\n",
       " 'fridge': 8.1978360804244641,\n",
       " 'hvac': 23.312864483296114,\n",
       " 'mw': 7.614586913644148,\n",
       " 'oven': 4.5605684928077865,\n",
       " 'wm': 7.0110707946543984}"
      ]
     },
     "execution_count": 65,
     "metadata": {},
     "output_type": "execute_result"
    }
   ],
   "source": [
    "get_zero_prediction('normal', 4, True, True, 'Austin', 'SanDiego', 1, 0, 1, 13)"
   ]
  },
  {
   "cell_type": "code",
   "execution_count": 104,
   "metadata": {
    "collapsed": false
   },
>>>>>>> 5826f875143310444922030e6bee97b18a928315
   "outputs": [
    {
     "name": "stdout",
     "output_type": "stream",
     "text": [
      "case-2 normal\n",
      "dw        17.915132\n",
      "fridge     8.251091\n",
      "hvac      19.004583\n",
      "mw        19.402399\n",
      "oven      18.250522\n",
      "wm        18.046485\n",
      "dtype: float64\n",
      "15.5642521666\n",
      "********************\n",
      "case-2 transfer\n",
      "dw         2.296626\n",
      "fridge    11.453709\n",
      "hvac      21.514832\n",
      "mw         2.446456\n",
      "oven       3.065336\n",
      "wm         1.225860\n",
      "dtype: float64\n",
      "15.8476252401\n",
      "********************\n",
      "case-4 normal\n",
      "dw         9.089274\n",
      "fridge     8.184661\n",
      "hvac      22.230904\n",
      "mw         8.520118\n",
      "oven       6.318284\n",
      "wm         8.683430\n",
      "dtype: float64\n",
      "15.9590268951\n",
      "********************\n",
      "case-4 transfer\n",
      "dw         2.020930\n",
      "fridge    11.732491\n",
      "hvac      21.020835\n",
      "mw         2.528460\n",
      "oven       2.774143\n",
      "wm         1.032038\n",
      "dtype: float64\n",
      "15.6411100254\n",
      "********************\n"
     ]
    }
   ],
   "source": [
    "out = pickle.load(open('../predictions/zero/lr-tf-Austin-SanDiego-all.pkl','r'))\n",
    "out\n",
    "for case in [2, 4]:\n",
    "    for setting in ['normal', 'transfer']:\n",
    "        print \"case-{}\".format(case), setting\n",
    "        print out[case]['False']['False'][setting][0.0]\n",
    "        print (pd.DataFrame(out[case]['False']['False'][setting]).T*pd.Series(contri['SanDiego'])).sum(axis=1)[0]\n",
    "        print \"*\"*20"
   ]
  },
  {
   "cell_type": "code",
   "execution_count": 7,
   "metadata": {},
   "outputs": [
    {
     "data": {
      "text/plain": [
       "dw        0.029733\n",
       "fridge    0.313919\n",
       "hvac      0.554866\n",
       "mw        0.042220\n",
       "oven      0.038067\n",
       "wm        0.021196\n",
       "dtype: float64"
      ]
     },
     "execution_count": 7,
     "metadata": {},
     "output_type": "execute_result"
    }
   ],
   "source": [
    "pd.Series(contri['SanDiego'])"
   ]
  },
  {
   "cell_type": "code",
   "execution_count": 8,
   "metadata": {
    "collapsed": true
   },
   "outputs": [],
   "source": [
    "import matplotlib.pyplot as plt\n",
    "import numpy as np\n",
    "import pandas as pd\n",
    "%matplotlib inline"
   ]
  },
  {
   "cell_type": "code",
   "execution_count": 11,
   "metadata": {},
   "outputs": [
    {
     "data": {
      "image/png": "iVBORw0KGgoAAAANSUhEUgAAAXUAAAEKCAYAAADticXcAAAABHNCSVQICAgIfAhkiAAAAAlwSFlz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\nIYQQ3cf/A6JOqE4Km1/6AAAAAElFTkSuQmCC\n",
      "text/plain": [
       "<matplotlib.figure.Figure at 0x10bcf5390>"
      ]
     },
     "metadata": {},
     "output_type": "display_data"
    },
    {
     "data": {
      "image/png": "iVBORw0KGgoAAAANSUhEUgAAAXUAAAEKCAYAAADticXcAAAABHNCSVQICAgIfAhkiAAAAAlwSFlz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\niIiIiIiIiEj6+P9+sqdaFj8wUwAAAABJRU5ErkJggg==\n",
      "text/plain": [
       "<matplotlib.figure.Figure at 0x107016c90>"
      ]
     },
     "metadata": {},
     "output_type": "display_data"
    },
    {
     "data": {
      "image/png": "iVBORw0KGgoAAAANSUhEUgAAAXUAAAEKCAYAAADticXcAAAABHNCSVQICAgIfAhkiAAAAAlwSFlz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\nhBBCCCGEEEIIIYQQQgghhBBCBI//B9fSYkmN4PmJAAAAAElFTkSuQmCC\n",
      "text/plain": [
       "<matplotlib.figure.Figure at 0x10c19e690>"
      ]
     },
     "metadata": {},
     "output_type": "display_data"
    },
    {
     "data": {
      "image/png": "iVBORw0KGgoAAAANSUhEUgAAAXUAAAEKCAYAAADticXcAAAABHNCSVQICAgIfAhkiAAAAAlwSFlz\nAAALEgAACxIB0t1+/AAAIABJREFUeJzt3Xl8VOWh//HPmSQkgeysAZGdCkrFtaJCUivWpfrTUhXB\nn7jeW7XuK60LaG1de/kpVe+t4FbFutAWbFUqGuAqUr0X1KqAoOwIARIgISGZmfP74zmzZibJZGYy\nyeT7fr3O6+znPHOS+Z5nnnPmDIiIiIiIiIiIiIiIiIiIiIiIiIiIiEgXcxLwNbAfOCfFZRER6dBK\ngEpgWTPLlAOb26U0kS0Grkvh/iXNuVJdAJEEegj4ErDj3E5GAsoSzaGYMrZFMsslIuI3EJgP7AR2\nAU8404cB7znTKoE/AoVB690BbAH2AauBU5zpFnAnsM5Z909AcQtlOBH4ELiU6DX1HkAd4ME0f+wD\nSoEZwOvAi8Be4HLgOGA5UAVsc15TVtC2vMC/A2udZWYHzRsOLAGqndc9z5m+3tn3AWffWZjjMcfZ\nxxbgfgKVrUuBD4DfOcfhvhaOgYhI3DKAT4HHgFwgG9NuDCbUf4QJr16YoPsPZ973gE1AP2f8UGCo\nM3wDJqD7O+s+DbzcQhn+BziK5kMdoIymzS8zgAYCbdw5wNHA8ZiAHYSpXd8QtI4XWAAUYE5qO4HT\nnHnzgOnOcDfMCcfnWwInL4A/A09hjl1vYAXwb868S4FG4FqnHDnNvC4RkYQYhwm01jTlnQv8rzM8\nHNhBIPSDfUlo8JViQjfaPm4Cfu8MX0rsbeozgIpm1gG4EfNpxMdLaFj/CbjdGX4e+E9gQITtBId6\nX6Ce0LC+CPPpBsxr2dhCuURCqE1d4jUQEzzeCPP6Aq9gmhX2Ypo3ejrz1mGCcgYm3OdhwhtgMKYG\nW+V0XwJuTK3+aUzTyX5ME01/zIXHu+J8HVvCxkcCbwLbnbI/EFR2n++Chg8A+c7w7ZgmpH8C/wIu\ni7LPQZgT2nYCr/VpTI3dJ5UXdUWkCxqHCeVIF/HmAC8BRc74uUQOqXxM88oLzvhqZ7utcS6mnXy7\n01UDBzFt1FaE5SM1v9yLOeEEWww8jGmHB3MCCv4E4CXQXATwLKY9PNxJTvl8ywbX1EsxJ4NolatL\naf5Th0gTqqlLvFZgwvRBoDumKcHXLJEH1GIuCg4AbgtabyQm3LIxIVyPuYgIprb6G0w7O5iaa7R7\nuv+OqfEe6XT3ACuBsUS+C2YHpsZdEDQtUvjnYT4NHAAOA66Osv9I2zgfOMQZrnbKEemTzHZgEeZC\naD7m/TgMmNDCvkSiUqhLvLzA2Zg28k2YWvAFzryZmAuOe4GFwBsEgjYb+C3m7pDtmAupvouL/w9z\nEXIR5oSwHHPRMpIGTJu+r9sbNC2S1Zimnm+APZjask3TE8CtwBRn//+FaUYKXiZ8+eBtHAt8hDkp\n/BW4HtgQpTyXYC6mfumU5zUCF48jlUskLjmYmtgqzD/db53pJcA/MLdzLSLw8VpERDq47k4/E1P7\nOBnT1ui70n8H5qO3iIh0It2Bj4HDMR9h+zrT+znjIiLSCbgwzS/7MTV0MLde+Vhh4yIi0gkUYppf\nfkjTEN/T/sUREZFwmTEsuxf4G3AM5rawfpgvX5QS4U6DYcOG2evXr09EGUVEupL1mLvJ2qSlWxp7\nEbizJReYiLkHeAEwzZk+DfhLk1KtX49t2+psm3vvvTflZegonY6FjoWORfMd5rsKbdZSTb0U8xwL\nl9O9iPmm3UrgVeAKzP23F0RZX0RE2lFLof455ssj4fYApya+OCIiEg99o7QdlJeXp7oIHYaORYCO\nRYCOReJEeuZFothO+5CIiLSSZVkQRzbHcveLiEhEJSUlVFXp6yqxKC4uZs+exN8Nrpq6iMTNsiz0\nfo9NtGMWb01dbeoiImlEoS4ikkYU6iIiaUShLiJdyqWXXsrdd9+d6mIkTXJDfevWpG5eRCRWlmX5\nLkampeSG+vPPJ3XzIiJtkc536iQ31OfMAW+k39sVEWkfK1eu5Oijj6agoIDJkydTX18PmG+xzp8/\nH4APPvgAl8vF3//+dwAWL17MUUcdlbIyxyO5oZ6XBxUVSd2FiEg0DQ0NnHvuuUybNo2qqirOP/98\n3njjDQDKysqocPJpyZIlDB06lKVLl/rHO+ujC5Ib6lddBX/4Q1J3ISIdn2UlpovVRx99hNvt5oYb\nbiAjI4NJkyZx3HHHYVkWZWVlLFmyBIBly5Yxffp0//iSJUsoKytL5CFoN8kN9alT4a23YPfupO5G\nRDo2205MF6tt27YxYMCAkGmDBg0CYNy4caxdu5adO3eyatUqLrnkEjZv3szu3bv5+OOPmTBhQiJe\nertLbqgXF8NPfgJ//GNSdyMiEklpaSlbw+7C27hxIwC5ubkcc8wxzJo1izFjxpCVlcWJJ57IY489\nxvDhwykpKUlFkeOW/PvUr7wSnnmmbadZEZE4nHjiiWRmZvL444/T2NjI/Pnz+fjjj/3zy8rK+P3v\nf+9vaikvL2f27NmdtukF2iPUy8qgvh5WrEj6rkREgmVlZTF//nyee+45evbsyauvvsqkSZP88ydM\nmEBNTY2/qWXChAnU1tZ22qYXaK+nND70EHz9tamxi0ja0VMaY5espzS2T6h/9x2MGgWbNkF+fhJ3\nKSKpoFCPXed+9G6/flBeDn/6U7vsTkSkq2q/B3rpnnURkaRrv1D/8Y9h2zb47LN226WISFfTfqGe\nkQGXXWaeByMiIknRvr9RumEDHHssbNkCOTlJ3LWItCddKI1d575Q6jN4MBxzDDhPRhMRkcRq/18+\n8n3DVEREEq79Q/2cc+Bf/4J169p91yLS9axZs4axY8dSUFDA7Nmzm8y/+uqr+fWvfx11fZfLxTff\nfJPMIiZU+7ap+9xyC2Rnw29+k8Tdi0h76cht6ldccQVFRUU89thjbVrf5XKxbt06hg4dmtBypapN\nfSDwPvAF8C/gemf6DGALsNLpTo9pr1deCc89B253TKuJiMRq48aNjB49OuI8bxr+MltLod4I3AQc\nDpwAXAuMAmzgd8BRTvd2THsdNQqGDoW//S3W8oqItNopp5xCRUUFv/jFL8jPz2fq1KlcffXVnHnm\nmeTl5fH+++9z6aWXcvfdd/vXeeSRR+jfvz+HHHIIc+fODdne7t27OfvssyksLOT444/nrrvuYvz4\n8f75q1evZuLEifTs2ZPDDjuM1157rd1eq09Lof4dsMoZrgG+AnxPnI+v6UYXTEUkyd577z3Gjx/P\n73//e/bv309WVhbz5s3j7rvvpqamhpNPPhnLsnxNHrz99ts89thjvPvuu6xdu5Z33303ZHvXXnst\n+fn57Nixg+eff54XXnjBv25tbS0TJ07k4osvprKykldeeYVrrrmGr776ql1fc2YMyw7G1Mo/Ak4C\nrgMuAT4BbgGqY9rz+efDzTfD1q0Q9sskIpJerJmJuXxn3xt/u/25557LuHHjAMjOzg6Z9+qrr3L5\n5Zf7m2tmzpzJK6+8AoDH42H+/Pl88cUX5OTkMGrUKKZNm+b/ndM333yTIUOGMG3aNADGjh3LT3/6\nU1577TXuueeeuMvdWq0N9TzgdeAGTI39KeA+Z979wGPAFTHtuUcPuPBC07b+q1/FtKqIdC6JCONE\nsCyLQw45JOr87du3c9xxx/nHDz30UP9wZWUlbrebgQMH+qcFb2vjxo2sWLGC4uJi/zS3280ll1yS\nqOK3SmtCPQt4A/gj8Bdn2s6g+c8ACyOtOGPGDP9weXl501/nvvJKU2OfPh1c7X93pYhIsNLSUjZt\n2uQfDx7u3bs3mZmZbN68mREjRgCwefNm//xDDz2UsrIyFi1aFNM+Kyoq/LX9RGgp1C1gDvAlMCto\neimw3Rk+D/g80srBoR7R0UdDYSG89x6cemoriisi0naRbiG0bds//YILLuCyyy7jkksuYdCgQcyc\nOdO/XEZGBj/96U+ZMWMGzzzzDBs3buTFF1/0/5D1WWedxZ133skf//hHLrzwQgBWrVpFfn4+hx12\nWNQyhVd4g/fZFi1Vj08CLgZ+SOD2xTOAh4DPgE+BMswdMrGzLF0wFZF2E3xRNNK0008/nRtvvJFT\nTjmFkSNH8qMf/Shk+dmzZ7N371769evHtGnTuOiii+jWrRsA+fn5LFq0iFdeeYUBAwZQWlrK9OnT\naWhoaL8XSKq+fBSsuto8E2bdOujVK4nFEZFk6chfPkqmO+64g507d/Lss8/GvG56PNArkqIi8+iA\nF19MdUlERJq1Zs0aPvvsM2zb5p///Cdz587lvPPOS3WxQqQ+1CHQBNMFz/Qi0nns37+fSZMmkZeX\nx+TJk7n11ls555xzUl2sEKlvfjFLwmGHmdsbnftHRaTz6KrNL/FI3+YX0AVTEZEE6Rg1dYAdO0xt\nfeNGKChIXqlEJOFUU49detfUAfr2hVNOAecruSIiEruOE+qgJhgRkTh1rFA/7TT47jv49NNUl0RE\npFPqWKGekQGXXw5z5qS6JCKSBgYPHszixYtTXYx21bFCHeCyy+Dll6GuLtUlEZFOLtJjAdJdxwv1\nQYPg2GNh/vxUl0REpNPpeKEOcNVVumAqIgmxcuVKjjzySIqKipg8eTIHDx5k1KhR/C3o5zTdbje9\ne/dm1SrzQ2/nn38+paWlFBUVUVZWxpdffulftq6ujltuuYXBgwdTVFTE+PHjqa+vb/fXFU3HDPWz\nz4Yvv4Svv051SUSkE7Ntm9dee4133nmHb7/9ls8++4znnnuOKVOmMG/ePP9y77zzDn369GHs2LGA\neYzuunXrqKys5Oijj2bq1Kn+ZW+99VZWrlzJ8uXL2bNnD4888giuDvR7EB3ny0fhbrvNXDh98MHE\nlUhEkqLFLx8lql07xkwZMmQIDzzwAFOmTAHMUxX37dvHrbfeylFHHcXOnTvJyclh6tSpjBo1irvu\nuqvJNqqrqykpKWHv3r306NGDvLw8VqxYwZgxY+J6Ken/5aNwV1wBzz8PjY2pLomIxMu2E9O1Qb9+\n/fzDubm51NbWMmzYMEaNGsWCBQs4cOAACxcu9Ae/x+PhzjvvZPjw4RQWFjJkyBAAdu3axa5du6iv\nr2fYsGHxH5Mk6bihfthhMGIEBLV7iYjEy1c7vuiii5g3bx5//etfGT16NEOHDgXg5ZdfZsGCBSxe\nvJi9e/fy7bff+tfr1asXOTk5rFu3LmXlb0nHDXXQN0xFJGkmT57MO++8w9NPPx3SZl5TU0N2djYl\nJSXU1tbyy1/+0j/P5XJx+eWXc/PNN7N9+3Y8Hg/Lly9v9183ak7HDvWf/QyWL4ctW1JdEhFJA8H3\nrffr148TTzyR5cuX+39TFPD/PumAAQM44ogjGDduXMi97o8++ihjxozhuOOOo2fPnkyfPh2v19vu\nryWajnuh1Oeaa6C0FO6+O/5tiUhS6CmNsUvWhdKOH+orV8J558E330AHum1IRAIU6rHrene/+Bx1\nFPTsCV3s+Q0iIm3R8UMddMFURKSVOn7zC8DevTBsmPkyUiRjx8KCBZCdnZj9iUhM1PwSu67bpu5T\nUwO1tZHn/fzncMgh8MQTidufiLSaQj12CvXmVFebJzv++tcweXL77FNE/BTqsVOot2TVKpg4EZYu\nhVGj2m+/IqJQbwOFemvMnWseAHbOOYFpF10ExxzTvuUQ6WIU6rFLVqhnxlGmjufyyyEnB7ZtM+PV\n1SbgP/nEfIFJRCTNpVeoAzhPWvPLzDTt7IsXm2ERkTTW0n3qA4H3gS+AfwHXO9NLgH8Aa4FFQFGy\nChi3u+82tfcIz0kWEUk3LYV6I3ATcDhwAnAtMAq4ExPqI4HFznjHlJEBL71kfsx6wYJUl0ZE2tHg\nwYN59NFH+f73v09+fj5XXHEFO3bs4IwzzqCwsJCJEydSXV3NtGnT+N3vfgfA1q1bcblcPPnkkwCs\nX7+enj17pvJlxKSlUP8OWOUM1wBfAQOAc4DnnenPA+cmpXSJ0qsXvPqq+WbqN9+kujQi0k4sy2L+\n/PksXryYNWvW8Oabb3LGGWfw4IMPsnPnTrxeL48//jjl5eVUVFQAsGTJEoYOHcrSpUv94xMmTEjh\nq4hNLI3Mg4GjgBVAX2CHM32HM96xnXCCaYL52c/gww9Nk4yItAvLCcx42eXlMa9z3XXX0bt3bwDG\njx9P3759OfLIIwE477zzWLx4MRdffDG33HILtm2zbNkybr/9du6//37AhHpZWVlCyt8eWhvqecAb\nwA3A/rB5ttM1MWPGDP9weXk55W34gyTUddfBBx/A9dfDf/1Xassi0oW0JYwTpW/fQJ0zNzc3ZDwn\nJ4eamhqGDh1Kjx49WLVqFcuWLePuu+9mzpw5rF27lqVLl3LjjTcmrXwVFRX+TwmJ0JpQz8IE+ovA\nX5xpO4B+mOaZUmBnpBWDQ71DsCzzYLDjjjO/fzptWqpLJCLtLNr99GVlZbz22ms0NjbSv39/ysrK\neO6556iqqmLs2LFJK094hXfmzJlxba+lNnULmAN8CcwKmr4A8CXiNAJh3/Hl58Mbb8Ctt8Jnn6W6\nNCLSQZSVlTF79mx/+3l5eTmzZ89m/PjxIb981NG1FOonARcDPwRWOt3pwIPARMwtjac4453H4YfD\nrFmmfX3v3lSXRkTaUXBAB/+83YQJE6ipqfGH+kknnURdXV2nukgK6faYgFhdfTXs3Amvv26aZkSk\nTfSYgNh13V8+SqZZs2DTJtMXEUkDXbumDrBhA/zgBzB/Ppx0UqpLI9IpqaYeO9XUk2XwYPN0x8mT\nTVOMiEgnppq6z69+BStWwDvvRP/ZPBGJSDX12Kmmnmz33Qe2DR3t3noRkRioph5s507zgxr/+Z9w\n5pmpLo1Ip6Gaeuz0y0ft5b//GyZNgn/+EwYNSnVpRDoFhXrs1PzSXk4+Ge64w3wx6eDBVJdGRCQm\nqqlHYtsm1Pv2BeeZyiISnWrqsVNNvT1ZlrnN8R//MD+wISLSSaim3pxPP4VTTzU/Xj1mTKDr0yfV\nJRPpUFRTj51q6qlw5JGwZAkceyysXWtudxw50jTLnHoq3HSTqdF//DEcOJDq0opIBF999RXl5eUU\nFxdzxBFHsHDhQlasWEFpaWlIqP75z3/2/3iG1+vlwQcfZPjw4fTq1YsLL7yQqqoqADZs2IDL5eKF\nF15g0KBB9O7dm9/85jcpeW2RKNRbMnq0efDXk0/CsmVQVQWffAI33wz9+sF775mfyevZ0wT+pEkm\n/N94w5wIPJ5UvwKRLquxsZGzzz6b008/ncrKSp544gmmTp1KcXExPXr0YPHixf5lX375ZaZOnQrA\nE088wYIFC1i6dCnbt2+nuLiYa6+9NmTbH3zwAWvXrmXx4sXcd999rF69ul1fWzRqfkmUxkYT4p9/\nHtrt3AkjRkBJCRQUxN5lZ+sJktLhtdT8UmFVJGQ/5XZ5TMsvW7aMCy64gO3bt/unTZkyhe9973u4\n3W62bdvGnDlz2L9/P6WlpXz11VcMHDiQ0aNHM3v2bE455RQAtm/fzqBBg6ivr2fTpk0MHTqULVu2\n0L9/fwB+8IMfcPPNN3PhhRe2umzJan6J5TdKpTlZWeY57Ycfbp4j47NvH3z9NVRXm+HgrqoKNm5s\nOt3X+Z713paTQXjXo4dODpIysYZxomzbto2BAweGTBs0aBBbt27lpptu4sQTT+Spp55i/vz5HHPM\nMf5lN2zYwHnnnYfLFWjMyMzMZMeOHf7xfv36+Ye7d+9ObW1tkl9N6yjUk62gwHxLta0OHowe+sHd\njh3Nzz94EEpLzaeG8G7YMPOJQCTN9O/fn82bN2Pbtv/HMDZu3Mhhhx3GqFGjGDRoEG+99RYvv/wy\nU6ZM8a936KGH8uyzzzJu3Lgm29ywYUN7Fb9NFOodXXY29O5tuni43bBli/nU4OsqKkyT0aZN5vrA\nyJFNA3/IEPMpRKQTOuGEE+jevTsPP/wwN998Mx988AFvvvmm//eTp0yZwqxZs1ixYgXz5s3zr/fz\nn/+cX/7ylzz//PMceuihVFZWsnz5cs4555yo++oozc0K9a4iM9M8ZnjwYJg4MXSe222eKx8c+G+/\nbQJ/61YYODA06H3hP2iQnmgpHVpWVhYLFy7kmmuu4be//S2HHHIIL774IiNHjgTgoosuYvr06Zx5\n5pmUlJT417vhhhuwbZvTTjuNbdu20adPHyZPnuwP9Ui/WdpRfsdUF0qleQcPwrffhga+r9uxw5wk\nIjXpDBwILt1c1VXoPvXY6YFe0vHU1cH69ZEDv6oKhg6N3H7fqxfk5qa69JJACvXYKdSlc6mpgXXr\nmob9t9/Crl2m2aZnz8hdSUnk6UVFau7poBTqsVOoS/qwbaithd27I3d79kSevn8/FBa2/iTg67p3\nT/UrTnsK9dgp1EXcbtOsE+vJwLKangRKSqC4uPmusFCfDFpJoR47hbpIW9i2eS5PeNBXVbXc7d8P\n+fkth7+vKyoKHc7sOjeXKdRjp1AXaW8ej/lWb2tOAOHdvn3mW7zNnQRKSgLfQfB1JSWd8tOBQj12\nCnWRzsTrDZwQqqsjB/+ePVBZGdrt3WsCPzzso3W9enWIL4cp1GOnZ7+IdCYuV6BGHgu32zQPhYd9\nZSWsXm2eFFpZaR4UV1lpTgz5+aFB36dP8yeCtjwSwrbNdxbq6qC+3vSDh6VtzjrLNNUVFpp+UVHc\nm1Soi3QkmZnmef19+7Zuea83co2/shK++QZWrAidtmsX5OSEhrxlBcI5UmDX1ZlAz8oy3y/IyTH9\n4GFpm6uvNp/OqqtNf9euuDfZmir+XOAsYCcwxpk2A7gSqHTGpwNvh62n5heRjsa2TXgEBz1EDurg\n4ZycZr8hrOaX2KWyTX08UAO8QCDU7wX2A79rZj2FukgXoVCPXSp/zm4ZUBWpTG3dqYhIe3j22WdD\nnqw4YsQILrjgAv/4wIED+fTTT3G5XDz11FOMGDGCgoIC7rnnHtavX8+4ceMoKipi8uTJNDY2puIl\nxCyeJy5dB3wKzAHib90XEUmw8vJyli1bBpgfzGhsbOSjjz4C4JtvvuHAgQN8//vfB2DRokWsXLmS\njz76iIceeoirrrqKefPmsWnTJj7//POQR/N2ZG29UPoUcJ8zfD/wGHBF+EK+ZxaDObjl5eVt3J2I\ndGYVFYn5YF9eHlsTz5AhQ8jPz2flypWsWbOGH//4x3z66aesWbOGDz/8kPHjx/sfmXv77beTl5fH\n6NGjGTNmDGeccQaDBw8G4IwzzmDlypVccsklCXkdwSoqKqioqEjY9toa6juDhp8BFkZaKDjURaTr\nijWME6msrIyKigrWrVtHWVkZRUVFLFmyhOXLl1NWVuZfrm/QHUe5ublNxr/77ruklC+8wjtz5sy4\nttfW5pfSoOHzgM/jKoWISJKUlZXx/vvvs2zZMsrLy/0hv2TJkpBQTxetqanPA8qAXsBmzJ0v5cBY\nwAa+Bf49SeUTEYlLWVkZN910E6WlpfTv35+8vDwuvvhivF4vRx11VNT1gu9M6Ux39rQm1C+KMG1u\nogsiIpIMI0aMID8/n/HjxwNQUFDAsGHD6NOnj789vaWfp7Msq8P8XF1L9OwXEYmb7lOPXSrvUxcR\nkU5CoS4ikkYU6iIiaUShLiKSRhTqIiJpRKEuIpJG9CMZIhK34uLiTnMfd0dRHOuvYrWS7lMXEelA\ndJ+6iIj4KdRFRNKIQl1EJI0o1EVE0ohCXUQkjSjURUTSiEJdRCSNKNRFRNKIQl1EJI0o1EVE0ohC\nXUQkjSjURUTSiEJdRCSNKNRFRNKIQl1EJI0o1EVE0ohCXUQkjSjURUTSiEJdRCSNtCbU5wI7gM+D\nppUA/wDWAouAosQXTUREYtWaUH8WOD1s2p2YUB8JLHbGRUQkxVr7i9WDgYXAGGd8NVCGqcH3AyqA\nw8LWsW3bjr+EIiJdiGVZ0PpsbqKtbep9MYGO0+/b1gIk0pINS+jzSB+smZa/O3nuySzZsCTVRRMR\naReZCdiG7XRNzJgxwz9cXl5OeXl5AnYX2QufvsCti27l5Ukv86MhPwLAY3v407/+xOULLmdY8TAe\nOOUBjhtwXNLKICISq4qKCioqKhK2vXiaX8qB74BS4H2S3Pyyo2YHNQ01Eec9t+o5Xvr8Jd6c8iaj\ne49uMr/R08jclXO5f+n9HD/geO7/4f0c3ufwhJVNRCRR4m1+aWuoPwzsBh7CXCQtounF0oSEem1D\nLfe8fw9zV82lJLck4jIjSkbwwnkv0KdHn2a3VddYx5MfP8nDHz7MacNOY0bZDIaVDIu7jCIiidIe\noT4Pc1G0F6b9/B7gr8CrwKHABuACoDpsvbhD/b1v3+OqhVcx7pBxzDp9Fr2694prez77Du5j1kez\neHzF45w/+nzumnAXAwoGJGTbIiLxaK+aelu0OdSr66u5bdFtvLP+HZ466ynOGnlWgotm7D6wm4c+\neIg5K+dw2djLuPPkOxN24pDkafA0UNtQS01DDbWNTr81442B6d0yulGcW0xxjtPlRu/nd8v3vdFE\nEs62barrq6k8UEllbSUnDzoZ0inU/7r6r1z792s5e+TZPDTxIQqyC5JQtFDb9m/jgaUP8MoXr/CL\n437BzeNupjCnMOn7TWe2bXOg8QC1jbXUNtSG9FsVws0sZ2OT1y2PHlk9TL9bj6bjWVGmd8uje1Z3\nGjwNVNVVUVVf5e9X11eHjPv6dY11FOYURg79Fk4IBdkFuCx9cdvH4/WwZd8Wvt7zNev2rOPr3V+z\nrmodO2p2+I9xSW5JyHEsyS0JOaYluSX0yOrRYU+0Hq+HPXV7/CEdsR80vPvAbrpndad3j9707t6b\n5Vcuh3QI9Z21O7n+rev5n+3/wzNnP0PZ4LIkFi2yb6q+YeaSmbz19VvcduJtXHv8tXTP6t7sOjUN\nNWzbv41t+7exdd9W//C2mm3+4V0HdtEtoxu5mbnkZuU26edk5pjhaNObWydsXk5mDlkZWa16vbZt\nU+euCwnOaAEcdV6E6bUNtRxoPEB2ZnZIoPbI6tE0aJsL5gjjed3y6JbRLRF/7lZr9DRGDfzq+urA\ntAjzaxvMV57aAAAPQ0lEQVRqyc/Ojxj6PXN70j+/PwMKBjAgfwD98/vTL69fq/9+HZXH62Hzvs0m\nsPesCwT4nq/ZUL2BXt17MbxkOMOLhzOi5wiGlwynX14/9h3cR1VdFXvq9oQcw+Bx33Cjp5GinCJ/\nyDc5CUQ5KZTklpCblRvT62n0NLLrwK5Wh3RVXRWFOYX07t7bH9Qhw2H9Xt17kZ2Z7d9fp29+sW2b\nlz5/iVsW3cKlR17KjPIZMR/0RPti5xfcU3EPH235iDtPupO+eX0DYR3Wub1uBhSYN2T//P70z+sf\nGHa6Xt170ehtpK6xjjp3XZN+vbs+6ry6Rme+uxXznWkWVsQTgdvrjhq8waHbJIijTY8Q1L5p3bO6\nk+HKSOnfsSNwe93srd8b8USw68AuUxnYv5Wt+02FoLK2kp7dezIgf4D5v8oLhH5w+BflFKW0pur2\nutm0dxPr9qwLqXF/vdsEd58efUxwlwxnRIkJ7hE9RzC0eGiLFaXWOOg+SHV9deQTQNBJNmTcOSkA\nEQO/KKeIusa6JiFd01BDSW5Jq0O6Z/eeZLrafrd4pw71TXs38fM3f87W/VuZc84cju1/bBKLE7tP\ntn3CIx8+gsfrMTWq/AFNArsgu6BDfQy0bbvJCcQX+hlWRpNAVvB2LG6vmx01O0zQO5/8fKG/dV8g\n/N1et/9/Mlr4l+aXxvWpxu11s7F6YyC4g2rcG6s30qdHH1PTDqpxjygxwZ3qillz6hrrmtT8fcGf\nm5nbJKSLc4vbtQmtU4a61/by9CdPc2/Fvdz4gxu5/aTbO/1HTpH2tP/g/kDgRwn/HTU7KMopCoS9\nUykJDv/++f2prq+OWOPetHcTffP6BmraQTXuIUVDOnRwd2adLtTX7FrDVQuvwu11M+ecOYzqPSqJ\nRRDpujxeD5UHKv0hHyn8t+3fRkF2QcQa95DiIeRk5qT6ZXQ5nSbU3V43j374KI9++Cj3lt3LNcdd\no4/+IiJh4g31RDz7pUWrvlvFFQuuoGduTz75t08YXDS4PXYrItLlJDXU69313L/kfv7wv3/g4YkP\nM+3IaR3qoqKISLpJaqiPfXosR/Q5gs+u/ox+ef2SuSsRESHJbeqvf/E6k0ZPSuIuRETSS6e5UCoi\nIi1L1S8fiYhIB6RQFxFJIwp1EZE0olAXEUkjCnURkTSiUBcRSSMKdRGRNKJQFxFJIwp1EZE0olAX\nEUkjCnURkTSiUBcRSSMKdRGRNKJQFxFJIwp1EZE0olAXEUkj8f6c3QZgH+ABGoHj4y2QiIi0Xbyh\nbgPlwJ74iyIiIvFKRPNLMn8ST0REYhBvqNvAu8AnwFXxF0dEROIRb/PLScB2oDfwD2A1sCzeQomI\nSNvEG+rbnX4l8GfMhVJ/qM+YMcO/YHl5OeXl5XHuTkQkvVRUVFBRUZGw7cXTHt4dyAD2Az2ARcBM\npw9g27YdX+lERLoYy7IgjmyOp6beF1M7923nJQKBLiIiKZDMO1dUUxcRiVG8NXV9o1REJI0o1EVE\n0ohCXUQkjSjURUTSiEJdRCSNKNRFRNKIQl1EJI0o1EVE0ohCXUQkjSjURUTSiEJdRCSNKNRFRNJI\nvM9TTyrbY+OudtNY1YhnrwfbG/kBYZ5aD/Xf1ptuUz12Y2A5K8PCle3C6mb6rmwXVrYz3C1oOHhe\nt7DlfF1OhOUz9Gt+EpntsfE2erEbbOxGG2+DN6Rvu22sTMt0WVZgONPCleUKGcflf9CTSLOS/pRG\nr9uLu9qNuyrQNVY1tmrcU+shsyCTzOJMMgszowaoK9dFzuAccobmkHNoDq7swAcQ223jPeg1b6SD\nzrDT2Q2Bcf+8SMsFj9cHTav3mjddtoUrxxX9BNAtqDy2bX4E0HfesYOmOeP+aUHjvvltXt9/sMBy\nWYG+FTbuIuI0y7IirtumZSz8XarGbY9t/v7NhW6c87ExlYksU6mwskyFwdcnA/BgtuG2A12jHTru\ntsFLk+CPdDJozQkifBls53h4bfA4w06HNzDunxdpOQ/Y3rDlwtZvdjkIVLJ8lapuESpk3cIqZN0i\nVMbiWK9JxoRHTtB4k5NsM8uGz2tu3ZwBOZG21mpJrakvK1hmgrnQCebiTLKKs/zDmcWZZPXKIndE\nbuj8Emd+QaYJgw7Ktp03c1Dg+08A9aEnDyDwZwoOG990K+gPHRRCEBZM8azvC3uveWP5+zYRp4WM\ne4k4LXx7rV4m+OSUwHF/2VtY3hdsrhwXrvzIoWtlWc2GcovzE/gpzvY2DfpI4d+aE0TItEbb/O9k\nWJBhTr7+4Qxn2BUYbm658GX981wtLweYk6SvUtUQVHlqCK2EhVTGGsIqY86ynv2eNq2HN/igh/0N\ngh8lHt5o0Mx4k0eQN7duAp5WntSaekNVQ4cPZhGRjiSVv3zUolcP7iF3t4scl4tcV1g/IyNkPMuy\n1GYoIhKnpIb633bvpt7rpc7rNX2PJ3Q8qO+1bbItF9m4yLJdZHkzyPC4cLldWI0uaHBhRflokm1n\nMCKzB0cV5jGutDuFOebznG2DbdlYGTZk2Ngu01kZYLtsvJaNbdl4sHHbNh7b9H2db9wLeJ2+HTzc\nzDyvbYeM48z3fRQLbgJvzTyc+W2dF8yyrPCWG/8JNayVJ+KywdsIXzZkm1GWjXR8IvXtoGWbXaYN\n2/CVx2VZuIL6kaa5nPJHnR7HsplJ6DJamO8K+ls1xw47vp5mjnOz81q5jh20TzvCOK1YJtI4MawD\n0d8/IWVoZl74urFsNxGSGuo/WTWa6mpa7OqrISvLS35vLwW9vOT38pJX4qVHsZfcQi85hV6y871Y\nrsgve5/Hw9fuWj7c+R2/2XUAOzOoYcwLeCzwWNi+vjto3G1heS2wLVxeC8s24y4bLNvCZVu4sHBZ\nzpvRggzLNx4YzrAsXC7Tz3BBhgUZLosMC1wu52KUrzy2OeGAZfrOuO0U20yzQqd5wcZy1rfwBq8X\nsg0raHmzP9s3bgf/Q/mGnX/uoCZn39TwZW3/GoH1sMEbMr3pdrHwL2tbNi7bwlxT9QVdoG8CLzDf\n5esTevxNcIYdf2eZDFfoshlW6HRfU7cXG48NHuc1+APMGQ89Mdg4lwbMPNu8Qq/zSr3Oaws+2fuO\nmfmTBbZvE7Ssy1QsfBUOr2UqIN6gadE6fMMZYdMywua7ApUaMmxzZnFb4LWwPM7BcNnOmc5ZzncG\ncl6IhYVlY94rvmHbOVk7fZdv3Jkf8ncN+RubZVxAhm/cspz9+P6BgsYx//OBeVGm2dG34avXWLYV\n/E/qX8c37q/ChOwnMOhfP2i6c7kqdF6E9Zy3QpTtBypE8UpqqC9cCEVFpuvZE4YNC4wHd4WFkJPj\nIhW3zXu94PGA2x3o+zqPBxobzXBjY2gXaVqkzu30XS7TWVbkfmuntXX54H54F216a+bHOi/4mHs8\nocORxpO1DASOWbRjGD6ciOVa+lsEH6fm5seyXPgyNuak4cXGbdnYXvC6LbyeQN92W3jc4PFYgfeD\nF9xh75FI75to01qaHsv/ZFv+j2P5H/Uds1QM3xA5qlotESeGaPTD0yIiMdIPT4uIiJ9CXUQkjSjU\nRUTSiEJdRCSNJPXul/r6TbhcubhcOU6/Qz8/TESk00tqyq5ceRJebz0eTx1ebx1gkZERHPJN+9Hn\n52BZkT9YWFY22dn9yc4eQLdu/XG5ugG+m/sDnRn3Bg07dyDbwct4w9Zx7kz29z0hw755wcMQvkyi\n7gKK92alZN7sFIvgv0dgPPTvErh5OPLf0Y6wrfBlom3bx/ctZssZdvmHQ+e5QpYLzHM12Ub4dlq3\n/WDNj0f+0lD82wg9Xk377TefsPmtHU/MNmITy/up/d577XpLo9fbiNdbj9dbF9I3od90evj8aH8E\nr7eOgwe3cfDgFhoatmPb7qC50d+cTd9k4W9Gl3+6ZWU46ztfmbBcznjosG+Z0OUjvXljPpwpXj8x\nbNtuEoJAlNAMPm6RwjMwL/J60bcd/UThjTIvvDLQtBLQfOUg2vZDjk6TY9Xc/MjTYt1G8Fdigo8X\nTaa313yfpieflsYTtY3WiOX91Pplbdvm8MNfgjgCI56kOR2YhXnG2jPAQ2HzdZ+6iEiMUnWfegYw\nGxPso4GLgFFtLUS6q6ioSHUROgwdiwAdiwAdi8Rpa6gfD6wDNgCNwCvA/0lQmdKO/mEDdCwCdCwC\ndCwSp62hPgDYHDS+xZkmIiIp1NZQV2O5iEgH1NbG+BOAGZg2dYDpmNsDgi+WrgOGtblkIiJd03pg\neHvvNNPZ8WCgG7AKXSgVEenUzgDWYGrk01NcFhERERERaY3TgdXA18AdKS5LexsIvA98AfwLuN6Z\nXgL8A1gLLAKKUlK61MgAVgILnfGueiyKgNeBr4AvgR/QdY/FdMx75HPgZSCbrnMs5gI7MK/dp7nX\nPh2TpauB09qpjCEyME0yg4Esul57ez9grDOch2miGgU8DNzuTL8DeLD9i5YyNwMvAQuc8a56LJ4H\nLneGM4FCuuaxGAx8gwlygD8B0+g6x2I8cBShoR7ttY/GZGgW5ritIwVP1x0HvB00fqfTdVV/AU7F\nnGX7OtP6OeNdwSHAu8APCdTUu+KxKMQEWbiueCxKMJWdYszJbSEwka51LAYTGurRXvt0Qls73sbc\nfRhVMhJfX0wKGIw5I6/A/MF2ONN3EPgDprv/AG7D3PLq0xWPxRCgEngW+F/gD0APuuax2AM8BmwC\ntgHVmKaHrngsfKK99v6YDPVpMU+TEer6YpKRB7yB+XHw/WHzIj2iLx39BNiJaU+P9p2IrnIsMoGj\ngSedfi1NP8F2lWMxDLgRU+npj3mvXBy2TFc5FpG09NqbPS7JCPWtmIuFPgMJPdN0BVmYQH8R0/wC\n5uzbzxkuxYRdujsROAf4FpgHnII5Jl3xWGxxuo+d8dcx4f4dXe9YHAt8COwG3MB8TLNtVzwWPtHe\nE+F5eogzLapkhPonwAgCX0y6kMAFsq7AAuZg7m6YFTR9AeZiEE7/L6S/X2L+IYcAk4H3gP9L1zwW\n32GaJUc646di7v5YSNc7Fqsx7cK5mPfLqZj3S1c8Fj7R3hMLMO+dbpj30Qjgn+1eOrr2F5NOxrQf\nr8I0O6zE3OJZgrlgmO63a0VTRuDk3lWPxZGYmvqnmNppIV33WNxO4JbG5zGfbrvKsZiHuZbQgDnR\nX0bzr/2XmCxdDfy4XUsqIiIiIiIiIiIiIiIiIiIiIiIiIiIiIiIiIunj/wME0QDJ+cJeogAAAABJ\nRU5ErkJggg==\n",
      "text/plain": [
       "<matplotlib.figure.Figure at 0x10c03f450>"
      ]
     },
     "metadata": {},
     "output_type": "display_data"
    }
   ],
   "source": [
    "out = pickle.load(open('../predictions/lr-tf-Austin-SanDiego-all.pkl','r'))\n",
    "for case in [2, 4]:\n",
    "    for setting in ['normal', 'transfer']:\n",
    "        pd.DataFrame(out[case]['True']['False'][setting]).T.plot(title=\"case-{} {}\".format(case, setting))"
   ]
  },
  {
   "cell_type": "code",
   "execution_count": 53,
   "metadata": {},
   "outputs": [
    {
     "data": {
      "text/html": [
       "<div>\n",
       "<style>\n",
       "    .dataframe thead tr:only-child th {\n",
       "        text-align: right;\n",
       "    }\n",
       "\n",
       "    .dataframe thead th {\n",
       "        text-align: left;\n",
       "    }\n",
       "\n",
       "    .dataframe tbody tr th {\n",
       "        vertical-align: top;\n",
       "    }\n",
       "</style>\n",
       "<table border=\"1\" class=\"dataframe\">\n",
       "  <thead>\n",
       "    <tr style=\"text-align: right;\">\n",
       "      <th></th>\n",
       "      <th>dw</th>\n",
       "      <th>fridge</th>\n",
       "      <th>hvac</th>\n",
       "      <th>mw</th>\n",
       "      <th>oven</th>\n",
       "      <th>wm</th>\n",
       "    </tr>\n",
       "  </thead>\n",
       "  <tbody>\n",
       "    <tr>\n",
       "      <th>0.0</th>\n",
       "      <td>1.825981</td>\n",
       "      <td>7.983982</td>\n",
       "      <td>28.294691</td>\n",
       "      <td>2.108620</td>\n",
       "      <td>2.442053</td>\n",
       "      <td>0.866586</td>\n",
       "    </tr>\n",
       "    <tr>\n",
       "      <th>6.0</th>\n",
       "      <td>1.972787</td>\n",
       "      <td>13.828324</td>\n",
       "      <td>22.933958</td>\n",
       "      <td>2.577025</td>\n",
       "      <td>2.665017</td>\n",
       "      <td>0.832345</td>\n",
       "    </tr>\n",
       "    <tr>\n",
       "      <th>7.0</th>\n",
       "      <td>1.972787</td>\n",
       "      <td>13.828324</td>\n",
       "      <td>22.933958</td>\n",
       "      <td>2.577025</td>\n",
       "      <td>2.665017</td>\n",
       "      <td>0.832345</td>\n",
       "    </tr>\n",
       "    <tr>\n",
       "      <th>8.0</th>\n",
       "      <td>1.972787</td>\n",
       "      <td>13.828324</td>\n",
       "      <td>22.933958</td>\n",
       "      <td>2.577025</td>\n",
       "      <td>2.665017</td>\n",
       "      <td>0.832345</td>\n",
       "    </tr>\n",
       "    <tr>\n",
       "      <th>9.0</th>\n",
       "      <td>2.009597</td>\n",
       "      <td>13.629195</td>\n",
       "      <td>22.077166</td>\n",
       "      <td>2.572320</td>\n",
       "      <td>2.700422</td>\n",
       "      <td>0.847617</td>\n",
       "    </tr>\n",
       "    <tr>\n",
       "      <th>10.0</th>\n",
       "      <td>2.009597</td>\n",
       "      <td>13.629195</td>\n",
       "      <td>22.077166</td>\n",
       "      <td>2.572320</td>\n",
       "      <td>2.700422</td>\n",
       "      <td>0.847617</td>\n",
       "    </tr>\n",
       "    <tr>\n",
       "      <th>15.0</th>\n",
       "      <td>1.841005</td>\n",
       "      <td>9.750262</td>\n",
       "      <td>18.057661</td>\n",
       "      <td>2.171511</td>\n",
       "      <td>2.461591</td>\n",
       "      <td>0.782759</td>\n",
       "    </tr>\n",
       "    <tr>\n",
       "      <th>20.0</th>\n",
       "      <td>1.819563</td>\n",
       "      <td>9.491846</td>\n",
       "      <td>17.578985</td>\n",
       "      <td>2.157076</td>\n",
       "      <td>2.467203</td>\n",
       "      <td>0.791445</td>\n",
       "    </tr>\n",
       "    <tr>\n",
       "      <th>30.0</th>\n",
       "      <td>1.878657</td>\n",
       "      <td>8.914198</td>\n",
       "      <td>17.159224</td>\n",
       "      <td>2.142638</td>\n",
       "      <td>2.479270</td>\n",
       "      <td>0.779314</td>\n",
       "    </tr>\n",
       "    <tr>\n",
       "      <th>40.0</th>\n",
       "      <td>1.865577</td>\n",
       "      <td>9.050069</td>\n",
       "      <td>16.372204</td>\n",
       "      <td>2.086076</td>\n",
       "      <td>2.392515</td>\n",
       "      <td>0.783598</td>\n",
       "    </tr>\n",
       "    <tr>\n",
       "      <th>50.0</th>\n",
       "      <td>1.824459</td>\n",
       "      <td>9.520077</td>\n",
       "      <td>16.540056</td>\n",
       "      <td>2.135190</td>\n",
       "      <td>2.533875</td>\n",
       "      <td>0.787135</td>\n",
       "    </tr>\n",
       "    <tr>\n",
       "      <th>60.0</th>\n",
       "      <td>1.833711</td>\n",
       "      <td>8.720909</td>\n",
       "      <td>16.056553</td>\n",
       "      <td>2.091030</td>\n",
       "      <td>2.362456</td>\n",
       "      <td>0.766598</td>\n",
       "    </tr>\n",
       "    <tr>\n",
       "      <th>70.0</th>\n",
       "      <td>1.868505</td>\n",
       "      <td>8.115857</td>\n",
       "      <td>14.844916</td>\n",
       "      <td>2.015866</td>\n",
       "      <td>2.219651</td>\n",
       "      <td>0.767762</td>\n",
       "    </tr>\n",
       "    <tr>\n",
       "      <th>80.0</th>\n",
       "      <td>1.875099</td>\n",
       "      <td>9.160183</td>\n",
       "      <td>15.260799</td>\n",
       "      <td>1.989725</td>\n",
       "      <td>2.438249</td>\n",
       "      <td>0.793991</td>\n",
       "    </tr>\n",
       "    <tr>\n",
       "      <th>90.0</th>\n",
       "      <td>1.842113</td>\n",
       "      <td>8.378971</td>\n",
       "      <td>15.503180</td>\n",
       "      <td>1.910411</td>\n",
       "      <td>2.387739</td>\n",
       "      <td>0.765833</td>\n",
       "    </tr>\n",
       "    <tr>\n",
       "      <th>100.0</th>\n",
       "      <td>1.844209</td>\n",
       "      <td>8.873344</td>\n",
       "      <td>15.233266</td>\n",
       "      <td>1.833401</td>\n",
       "      <td>2.559094</td>\n",
       "      <td>0.752938</td>\n",
       "    </tr>\n",
       "  </tbody>\n",
       "</table>\n",
       "</div>"
      ],
      "text/plain": [
       "             dw     fridge       hvac        mw      oven        wm\n",
       "0.0    1.825981   7.983982  28.294691  2.108620  2.442053  0.866586\n",
       "6.0    1.972787  13.828324  22.933958  2.577025  2.665017  0.832345\n",
       "7.0    1.972787  13.828324  22.933958  2.577025  2.665017  0.832345\n",
       "8.0    1.972787  13.828324  22.933958  2.577025  2.665017  0.832345\n",
       "9.0    2.009597  13.629195  22.077166  2.572320  2.700422  0.847617\n",
       "10.0   2.009597  13.629195  22.077166  2.572320  2.700422  0.847617\n",
       "15.0   1.841005   9.750262  18.057661  2.171511  2.461591  0.782759\n",
       "20.0   1.819563   9.491846  17.578985  2.157076  2.467203  0.791445\n",
       "30.0   1.878657   8.914198  17.159224  2.142638  2.479270  0.779314\n",
       "40.0   1.865577   9.050069  16.372204  2.086076  2.392515  0.783598\n",
       "50.0   1.824459   9.520077  16.540056  2.135190  2.533875  0.787135\n",
       "60.0   1.833711   8.720909  16.056553  2.091030  2.362456  0.766598\n",
       "70.0   1.868505   8.115857  14.844916  2.015866  2.219651  0.767762\n",
       "80.0   1.875099   9.160183  15.260799  1.989725  2.438249  0.793991\n",
       "90.0   1.842113   8.378971  15.503180  1.910411  2.387739  0.765833\n",
       "100.0  1.844209   8.873344  15.233266  1.833401  2.559094  0.752938"
      ]
     },
     "execution_count": 53,
     "metadata": {},
     "output_type": "execute_result"
    }
   ],
   "source": [
    "pd.DataFrame(out[case]['True']['True'][setting]).T"
   ]
  },
  {
   "cell_type": "code",
   "execution_count": null,
   "metadata": {
    "collapsed": true
   },
   "outputs": [],
   "source": [
    "error = (pd.DataFrame(out[case][constant][static][transfer]).T*pd.Series(contri['SanDiego'])).sum(axis=1)"
   ]
  },
  {
   "cell_type": "code",
   "execution_count": null,
   "metadata": {
    "collapsed": true
   },
   "outputs": [],
   "source": [
    "yuuyuy6ut655t665656iollllooioioiooioioio9io990p-[[nm mmmvbbb                                           ]]"
   ]
  }
 ],
 "metadata": {
  "kernelspec": {
   "display_name": "Python 2",
   "language": "python",
   "name": "python2"
  },
  "language_info": {
   "codemirror_mode": {
    "name": "ipython",
    "version": 2
   },
   "file_extension": ".py",
   "mimetype": "text/x-python",
   "name": "python",
   "nbconvert_exporter": "python",
   "pygments_lexer": "ipython2",
   "version": "2.7.10"
  }
 },
 "nbformat": 4,
 "nbformat_minor": 2
}
