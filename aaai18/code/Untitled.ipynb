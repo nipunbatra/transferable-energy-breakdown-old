{
 "cells": [
  {
   "cell_type": "code",
   "execution_count": 1,
   "metadata": {
    "collapsed": true
   },
   "outputs": [],
   "source": [
    "from sklearn.metrics import mean_squared_error\n",
    "\n",
    "from create_matrix import *\n",
    "\n",
    "\n",
    "def get_tensor(df, start, stop):\n",
    "#     start, stop = 1, 13\n",
    "    energy_cols = np.array(\n",
    "        [['%s_%d' % (appliance, month) for month in range(start, stop)] for appliance in APPLIANCES_ORDER]).flatten()\n",
    "\n",
    "    dfc = df.copy()\n",
    "\n",
    "    df = dfc[energy_cols]\n",
    "\n",
    "    tensor = df.values.reshape((len(df), 7, stop - start))\n",
    "    return tensor\n",
    "\n",
    "\n",
    "# def create_region_df_dfc_static(region, year):\n",
    "#     df, dfc = create_matrix_single_region(region, year)\n",
    "#     tensor = get_tensor(df, start, stop)\n",
    "#     static_region = df[['area', 'total_occupants', 'num_rooms']].copy()\n",
    "#     static_region['area'] = static_region['area'].div(4000)\n",
    "#     static_region['total_occupants'] = static_region['total_occupants'].div(8)\n",
    "#     static_region['num_rooms'] = static_region['num_rooms'].div(8)\n",
    "#     static_region = static_region.values\n",
    "#     return df, dfc, tensor, static_region\n",
    "\n"
   ]
  },
  {
   "cell_type": "code",
   "execution_count": 23,
   "metadata": {
    "collapsed": false
   },
   "outputs": [],
   "source": [
    "import pickle\n",
    "H_au = pickle.load(open(os.path.expanduser('/home/yj9xs/git/scalable-nilm/aaai18/predictions/case-2-graph_Austin_True_1_13_Hs.pkl'), 'r'))\n"
   ]
  },
  {
   "cell_type": "code",
   "execution_count": 26,
   "metadata": {
    "collapsed": false
   },
   "outputs": [],
   "source": [
    "H_sd = pickle.load(open(os.path.expanduser('/home/yj9xs/git/scalable-nilm/aaai18/predictions/H/transfer/case-2/True/True/Austin-SanDiego-0-10.0.pkl'), 'r'))"
   ]
  },
  {
   "cell_type": "code",
   "execution_count": 28,
   "metadata": {
    "collapsed": false
   },
   "outputs": [
    {
     "data": {
      "text/plain": [
       "1"
      ]
     },
     "execution_count": 28,
     "metadata": {},
     "output_type": "execute_result"
    }
   ],
   "source": [
    "np.argmin(H_sd['Error'])"
   ]
  },
  {
   "cell_type": "code",
   "execution_count": 31,
   "metadata": {
    "collapsed": false
   },
   "outputs": [],
   "source": [
    "lr, iters, home, season, lam = H_sd['Learning Params'][1]"
   ]
  },
  {
   "cell_type": "code",
   "execution_count": 114,
   "metadata": {
    "collapsed": false
   },
   "outputs": [
    {
     "data": {
      "text/plain": [
       "[0.1, 1300, 2, 3, 0.001]"
      ]
     },
     "execution_count": 114,
     "metadata": {},
     "output_type": "execute_result"
    }
   ],
   "source": [
    "H_sd['Learning Params'][1]"
   ]
  },
  {
   "cell_type": "code",
   "execution_count": 57,
   "metadata": {
    "collapsed": false
   },
   "outputs": [],
   "source": [
    "H_sandiego = H_sd['H'][lr][iters][home][season][lam]\n",
    "H_austin = H_au[lr][home][season][lam][iters]\n",
    "H_sandiego = pd.DataFrame(pd.concat(H_sandiego))\n",
    "H_sandiego = H_sandiego.values"
   ]
  },
  {
   "cell_type": "code",
   "execution_count": 66,
   "metadata": {
    "collapsed": true
   },
   "outputs": [],
   "source": [
    "import numpy as np\n",
    "import matplotlib.pyplot as plt\n",
    "%matplotlib inline\n",
    "\n",
    "from sklearn.cluster import KMeans"
   ]
  },
  {
   "cell_type": "code",
   "execution_count": 105,
   "metadata": {
    "collapsed": false
   },
   "outputs": [],
   "source": [
    "X = np.r_[H_austin, H_sandiego]"
   ]
  },
  {
   "cell_type": "code",
   "execution_count": 106,
   "metadata": {
    "collapsed": false
   },
   "outputs": [
    {
     "data": {
      "text/plain": [
       "array([[ 1.44978439,  1.85235149,  2.24196778],\n",
       "       [ 5.07829371,  5.19002611,  5.31706703],\n",
       "       [ 1.25873953,  1.91841413,  2.01917777],\n",
       "       ..., \n",
       "       [ 3.91653929,  4.54876306,  4.20064527],\n",
       "       [ 3.54303754,  2.33810825,  4.02175073],\n",
       "       [ 1.79951822,  0.7918247 ,  3.57216809]])"
      ]
     },
     "execution_count": 106,
     "metadata": {},
     "output_type": "execute_result"
    }
   ],
   "source": [
    "X"
   ]
  },
  {
   "cell_type": "code",
   "execution_count": 107,
   "metadata": {
    "collapsed": false
   },
   "outputs": [],
   "source": [
    "y_pred = KMeans(n_clusters=5, random_state=0).fit_predict(X)"
   ]
  },
  {
   "cell_type": "code",
   "execution_count": 108,
   "metadata": {
    "collapsed": true
   },
   "outputs": [],
   "source": [
    "y_sd = np.zeros(39)\n",
    "y_au = np.ones(len(H_austin))"
   ]
  },
  {
   "cell_type": "code",
   "execution_count": 110,
   "metadata": {
    "collapsed": false
   },
   "outputs": [],
   "source": [
    "y_label = np.r_[y_au, y_sd]"
   ]
  },
  {
   "cell_type": "code",
   "execution_count": 146,
   "metadata": {
    "collapsed": false
   },
   "outputs": [],
   "source": [
    "result = pickle.load(open(os.path.expanduser('./result.pkl'), 'r'))\n",
    "result = np.around(result.values)"
   ]
  },
  {
   "cell_type": "code",
   "execution_count": 147,
   "metadata": {
    "collapsed": false
   },
   "outputs": [
    {
     "data": {
      "text/plain": [
       "array([ 17.,  20.,  28.,  18.,  26.,  17.,  15.,  16.,  22.,  19.,  25.,\n",
       "        12.,  17.,  20.,  18.,   8.,  12.,  18.,   5.,  11.,   2.,  12.,\n",
       "        22.,  17.,  15.,   4.,  22.,  24.,  15.,  24.,  14.,  11.,  17.,\n",
       "        17.,  27.,  22.,  28.,  11.,  14.])"
      ]
     },
     "execution_count": 147,
     "metadata": {},
     "output_type": "execute_result"
    }
   ],
   "source": [
    "result"
   ]
  },
  {
   "cell_type": "code",
   "execution_count": 156,
   "metadata": {
    "collapsed": false
   },
   "outputs": [
    {
     "data": {
      "image/png": "[encoded data removed]",
      "text/plain": [
       "<matplotlib.figure.Figure at 0x7fd36615d090>"
      ]
     },
     "metadata": {},
     "output_type": "display_data"
    }
   ],
   "source": [
    "\n",
    "start = len(H_austin)\n",
    "d = np.random.randint(0, 2, size=(3,3,3))\n",
    "z,x,y = d.nonzero()\n",
    "import matplotlib.pyplot as plt\n",
    "from mpl_toolkits.mplot3d import Axes3D\n",
    "fig = plt.figure()\n",
    "# ax = fig.add_subplot(111, projection='3d')\n",
    "ax = fig.add_subplot(111)\n",
    "ax.scatter(X[:, 1], X[:, 2], c= y_label)\n",
    "# ax.scatter(X[:, 2], X[:, 0], X[:,1], zdir='z', c= y_label)\n",
    "\n",
    "for i in range(start, start + 15):\n",
    "    ax.annotate(result[i-start], (X[i, 1],X[i, 2]))\n",
    "\n",
    "plt.savefig(\"demo.png\")"
   ]
  }
 ],
 "metadata": {
  "kernelspec": {
   "display_name": "Python 2",
   "language": "python",
   "name": "python2"
  },
  "language_info": {
   "codemirror_mode": {
    "name": "ipython",
    "version": 2
   },
   "file_extension": ".py",
   "mimetype": "text/x-python",
   "name": "python",
   "nbconvert_exporter": "python",
   "pygments_lexer": "ipython2",
   "version": "2.7.13"
  }
 },
 "nbformat": 4,
 "nbformat_minor": 2
}
