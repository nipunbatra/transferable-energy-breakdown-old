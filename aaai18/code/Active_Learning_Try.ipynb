{
 "cells": [
  {
   "cell_type": "code",
   "execution_count": 2,
   "metadata": {
    "collapsed": true
   },
   "outputs": [],
   "source": [
    "import matplotlib.pyplot as plt\n",
    "%matplotlib inline"
   ]
  },
  {
   "cell_type": "code",
   "execution_count": 3,
   "metadata": {
    "collapsed": true
   },
   "outputs": [],
   "source": [
    "# from degree_days import dds\n",
    "import datetime\n",
    "from sklearn.model_selection import train_test_split, KFold\n",
    "from common import compute_rmse_fraction, contri, get_tensor, create_region_df_dfc_static\n",
    "from create_matrix import *\n",
    "from tensor_custom_core import *\n",
    "\n",
    "appliance_index = {appliance: APPLIANCES_ORDER.index(appliance) for appliance in APPLIANCES_ORDER}\n",
    "\n",
    "APPLIANCES = ['fridge', 'hvac', 'wm', 'mw', 'oven', 'dw']\n",
    "region = \"Austin\"\n",
    "year = 2014\n",
    "\n",
    "import os\n",
    "\n",
    "def un_normalize(x, maximum, minimum):\n",
    "    return (maximum - minimum) * x + minimum"
   ]
  },
  {
   "cell_type": "code",
   "execution_count": 4,
   "metadata": {
    "collapsed": true
   },
   "outputs": [],
   "source": [
    "import sys\n",
    "case=2\n",
    "a = 3\n",
    "b = 2\n",
    "source = 'Austin'\n",
    "target = 'SanDiego'\n",
    "constant_use = 'True'\n",
    "start = 1\n",
    "stop = 13"
   ]
  },
  {
   "cell_type": "code",
   "execution_count": 5,
   "metadata": {
    "collapsed": true
   },
   "outputs": [],
   "source": [
    "source_df, source_dfc, source_tensor, source_static = create_region_df_dfc_static(source, year, start, stop)\n",
    "target_df, target_dfc, target_tensor, target_static = create_region_df_dfc_static(target, year, start, stop)\n",
    "\n",
    "# # using cosine similarity to compute L\n",
    "source_L = get_L(source_static)\n",
    "target_L = get_L(target_static)\n",
    "\n",
    "# Seasonal constant constraints\n",
    "if constant_use == 'True':\n",
    "    T_constant = np.ones(stop-start).reshape(-1 , 1)\n",
    "else:\n",
    "    T_constant = None"
   ]
  },
  {
   "cell_type": "code",
   "execution_count": 6,
   "metadata": {
    "collapsed": true
   },
   "outputs": [],
   "source": [
    "tensor_copy = source_tensor.copy()\n",
    "tensor_copy[:, 1:, :] = np.NaN"
   ]
  },
  {
   "cell_type": "code",
   "execution_count": 46,
   "metadata": {
    "collapsed": true
   },
   "outputs": [],
   "source": [
    "def compute_error(HAT, index, domain):\n",
    "    pred = {}\n",
    "    for appliance_name, appliance_id in appliance_index.iteritems():\n",
    "        pred[appliance_name] = []\n",
    "        pred[appliance_name].append(pd.DataFrame(HAT[:,appliance_id,:], index=index))\n",
    "#     print pred\n",
    "    for appliance_name, appliance_id in appliance_index.iteritems():\n",
    "        pred[appliance_name] = pd.concat(pred[appliance_name]).ix[index]\n",
    "    \n",
    "    \n",
    "#     pred = pd.DataFrame(pred)\n",
    "    err_all = {}\n",
    "    err = {}\n",
    "    for appliance in APPLIANCES_ORDER[1:]:        \n",
    "        if appliance==\"hvac\":\n",
    "            err_all[appliance], err[appliance] = compute_rmse_fraction(appliance, pred[appliance][range(4, 10)], domain)[2:]\n",
    "        else:   \n",
    "            err_all[appliance], err[appliance] = compute_rmse_fraction(appliance, pred[appliance], domain)[2:]\n",
    "\n",
    "    err_app = {}\n",
    "    for appliance in APPLIANCES_ORDER[1:]:\n",
    "        if appliance == 'hvac':\n",
    "            start, end = 5, 11\n",
    "        else:\n",
    "            start, end = 1, 13\n",
    "\n",
    "        error_home = pd.concat([err[appliance][appliance + \"_{}\".format(start)], \n",
    "                           err[appliance][appliance + \"_{}\".format(start+1)]],axis=1)\n",
    "\n",
    "        for i in range(start+2, end):\n",
    "            error_home = pd.concat([error_home, err[appliance][appliance + \"_{}\".format(i)]], axis = 1)\n",
    "        app = np.sqrt((error_home**2).mean(axis=1))\n",
    "        err_app[appliance] = app\n",
    "\n",
    "    result = (pd.DataFrame(err_app).fillna(0)*pd.Series(contri[domain])).sum(axis=1)\n",
    "        \n",
    "        \n",
    "    return err_all, result"
   ]
  },
  {
   "cell_type": "code",
   "execution_count": 78,
   "metadata": {},
   "outputs": [
    {
     "name": "stdout",
     "output_type": "stream",
     "text": [
      "927.359618339\n",
      "327.132788609\n",
      "174.115738163\n"
     ]
    }
   ],
   "source": [
    "H, A, T, Hs, As, Ts, HATs, costs = learn_HAT_adagrad_graph(case, tensor_copy,\n",
    "                                                            source_L,\n",
    "                                                          a,\n",
    "                                                          b,\n",
    "                                                          num_iter=1300,\n",
    "                                                          lr=0.1, dis=True,\n",
    "                                                          lam=0,\n",
    "                                                          T_known=T_constant)"
   ]
  },
  {
   "cell_type": "code",
   "execution_count": 79,
   "metadata": {},
   "outputs": [
    {
     "data": {
      "text/plain": [
       "array([[ 1.66345507,  1.8757803 ,  1.69049574],\n",
       "       [ 5.56361928,  5.50529646,  5.50663552],\n",
       "       [ 1.3197905 ,  1.78687358,  1.804727  ],\n",
       "       ..., \n",
       "       [ 2.73141718,  2.82475159,  2.26333804],\n",
       "       [ 2.24214654,  2.14861078,  2.76485631],\n",
       "       [ 2.99715369,  3.21232919,  3.28624526]])"
      ]
     },
     "execution_count": 79,
     "metadata": {},
     "output_type": "execute_result"
    }
   ],
   "source": [
    "H"
   ]
  },
  {
   "cell_type": "code",
   "execution_count": 11,
   "metadata": {},
   "outputs": [
    {
     "name": "stderr",
     "output_type": "stream",
     "text": [
      "/home/yj9xs/anaconda2/lib/python2.7/site-packages/ipykernel_launcher.py:8: DeprecationWarning: \n",
      ".ix is deprecated. Please use\n",
      ".loc for label based indexing or\n",
      ".iloc for positional indexing\n",
      "\n",
      "See the documentation here:\n",
      "http://pandas.pydata.org/pandas-docs/stable/indexing.html#ix-indexer-is-deprecated\n",
      "  \n"
     ]
    },
    {
     "name": "stdout",
     "output_type": "stream",
     "text": [
      "hvac\n",
      "fridge\n",
      "mw\n",
      "dw\n",
      "wm\n",
      "oven\n"
     ]
    }
   ],
   "source": [
    "err_all, err_home = compute_error(HATs[-1], source_df.index, source)"
   ]
  },
  {
   "cell_type": "code",
   "execution_count": 45,
   "metadata": {},
   "outputs": [
    {
     "data": {
      "text/plain": [
       "77.594146728515625"
      ]
     },
     "execution_count": 45,
     "metadata": {},
     "output_type": "execute_result"
    }
   ],
   "source": [
    "source_df.ix[max_index]['aggregate_3']"
   ]
  },
  {
   "cell_type": "code",
   "execution_count": 17,
   "metadata": {},
   "outputs": [],
   "source": [
    "k = ((pd.Series(err_all) * pd.Series(contri['Austin']))).sum()# error = (pd.DataFrame(out)*pd.Series(contri['SanDiego'])).sum(axis=1)"
   ]
  },
  {
   "cell_type": "code",
   "execution_count": 21,
   "metadata": {},
   "outputs": [],
   "source": [
    "max_index = err_home.argmax()"
   ]
  },
  {
   "cell_type": "code",
   "execution_count": 40,
   "metadata": {},
   "outputs": [],
   "source": [
    "position = source_df.index.get_loc(max_index)"
   ]
  },
  {
   "cell_type": "code",
   "execution_count": 42,
   "metadata": {
    "collapsed": true
   },
   "outputs": [],
   "source": [
    "tensor_copy[position] = source_tensor[position]"
   ]
  },
  {
   "cell_type": "code",
   "execution_count": 74,
   "metadata": {},
   "outputs": [],
   "source": [
    "import random\n",
    "random.seed(5)\n",
    "random_list =  random.sample(range(533), 533)\n",
    "random_list =[x+1 for x in random_list]"
   ]
  },
  {
   "cell_type": "code",
   "execution_count": 77,
   "metadata": {},
   "outputs": [
    {
     "name": "stderr",
     "output_type": "stream",
     "text": [
      "/home/yj9xs/anaconda2/lib/python2.7/site-packages/ipykernel_launcher.py:8: DeprecationWarning: \n",
      ".ix is deprecated. Please use\n",
      ".loc for label based indexing or\n",
      ".iloc for positional indexing\n",
      "\n",
      "See the documentation here:\n",
      "http://pandas.pydata.org/pandas-docs/stable/indexing.html#ix-indexer-is-deprecated\n",
      "  \n"
     ]
    },
    {
     "name": "stdout",
     "output_type": "stream",
     "text": [
      "26.1021914905\n",
      "61\n",
      "0 22.1222043053\n",
      "47\n",
      "1 19.8106416228\n",
      "476\n",
      "2 18.4501308997\n",
      "178\n",
      "3 16.5123081787\n",
      "518\n",
      "4 17.1332797771\n",
      "494\n",
      "5 17.0051122383\n",
      "45\n",
      "6 16.8313282303\n",
      "318\n",
      "7 14.7923720999\n",
      "131\n",
      "8 14.7421349938\n",
      "346\n",
      "9 14.6333198034\n",
      "153\n",
      "10 13.6021757488\n",
      "59\n",
      "11 13.596117084\n",
      "439\n",
      "12 13.4803772491\n",
      "425\n",
      "13 13.5001449042\n",
      "494\n",
      "14 13.5001449042\n",
      "494\n",
      "15 13.5001449042\n",
      "494\n",
      "16 13.5001449042\n",
      "494\n",
      "17 13.5001449042\n",
      "494\n",
      "18 13.5001449042\n",
      "494\n",
      "19 13.5001449042\n"
     ]
    }
   ],
   "source": [
    "prediction_error = []\n",
    "\n",
    "tensor_copy = source_tensor.copy()\n",
    "tensor_copy[:, 1:, :] = np.NaN\n",
    "H, A, T, Hs, As, Ts, HATs, costs = learn_HAT_adagrad_graph(case, tensor_copy,\n",
    "                                                            source_L,\n",
    "                                                          a,\n",
    "                                                          b,\n",
    "                                                          num_iter=1300,\n",
    "                                                          lr=0.1, dis=False,\n",
    "                                                          lam=0,\n",
    "                                                      T_known=T_constant)\n",
    "err_all, err_home = compute_error(HATs[-1], source_df.index, source)\n",
    "overall_error = ((pd.Series(err_all) * pd.Series(contri['Austin']))).sum()\n",
    "print overall_error\n",
    "\n",
    "for i in range(20):\n",
    "    max_index = err_home.argmax()\n",
    "    position = source_df.index.get_loc(max_index)\n",
    "#     position = random_list[i]\n",
    "    print position\n",
    "    tensor_copy[position] = source_tensor[position]\n",
    "    \n",
    "    H, A, T, Hs, As, Ts, HATs, costs = learn_HAT_adagrad_graph(case, tensor_copy,\n",
    "                                                            source_L,\n",
    "                                                          a,\n",
    "                                                          b,\n",
    "                                                          num_iter=1300,\n",
    "                                                          lr=0.1, dis=False,\n",
    "                                                          lam=0,\n",
    "                                                          T_known=T_constant)\n",
    "    err_all, err_home = compute_error(HATs[-1], source_df.index, source)\n",
    "    overall_error = ((pd.Series(err_all) * pd.Series(contri['Austin']))).sum()\n",
    "    print i, overall_error"
   ]
  }
 ],
 "metadata": {
  "kernelspec": {
   "display_name": "Python 2",
   "language": "python",
   "name": "python2"
  },
  "language_info": {
   "codemirror_mode": {
    "name": "ipython",
    "version": 2
   },
   "file_extension": ".py",
   "mimetype": "text/x-python",
   "name": "python",
   "nbconvert_exporter": "python",
   "pygments_lexer": "ipython2",
   "version": "2.7.13"
  }
 },
 "nbformat": 4,
 "nbformat_minor": 2
}
