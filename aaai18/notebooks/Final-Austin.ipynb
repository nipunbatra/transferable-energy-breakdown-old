{
 "cells": [
  {
   "cell_type": "code",
   "execution_count": 1,
   "metadata": {
    "collapsed": true
   },
   "outputs": [],
   "source": [
    "import matplotlib.pyplot as plt\n",
    "import numpy as np\n",
    "import pandas as pd\n",
    "%matplotlib inline"
   ]
  },
  {
   "cell_type": "code",
   "execution_count": 2,
   "metadata": {
    "collapsed": true
   },
   "outputs": [],
   "source": [
    "import pickle"
   ]
  },
  {
   "cell_type": "code",
   "execution_count": 3,
   "metadata": {
    "collapsed": true
   },
   "outputs": [],
   "source": [
    "import sys\n",
    "sys.path.append('../code/')\n",
    "\n",
    "from common import APPLIANCES_ORDER, contri\n",
    "from plot_functions import latexify, format_axes"
   ]
  },
  {
   "cell_type": "code",
   "execution_count": 4,
   "metadata": {},
   "outputs": [
    {
     "name": "stderr",
     "output_type": "stream",
     "text": [
      "/Users/nipunbatra/anaconda2/lib/python2.7/site-packages/matplotlib/__init__.py:913: UserWarning: text.fontsize is deprecated and replaced with font.size; please use the latter.\n",
      "  warnings.warn(self.msg_depr % (key, alt_key))\n"
     ]
    }
   ],
   "source": [
    "latexify(columns=1, fig_height=3.2)"
   ]
  },
  {
   "cell_type": "code",
   "execution_count": 7,
   "metadata": {},
   "outputs": [
    {
     "data": {
      "image/png": "[encoded data removed]",
      "text/plain": [
       "<matplotlib.figure.Figure at 0x1178cec90>"
      ]
     },
     "metadata": {},
     "output_type": "display_data"
    }
   ],
   "source": [
    "out = pickle.load(open('../predictions/lr-tf-SanDiego-Austin-all.pkl','r'))\n",
    "#out_mf = pickle.load(open('../predictions/mf-Austin-SanDiego.pkl','r'))\n",
    "\n",
    "constant = 'True'\n",
    "static = 'False'\n",
    "for case in [2, 4]:\n",
    "    \n",
    "    for transfer in ['normal', 'transfer']:\n",
    "        if case==2:\n",
    "            algo = \"{}, {}\".format(\"Our TF\", transfer)\n",
    "        else:\n",
    "            algo = \"{}, {}\".format(\"STF\", transfer)\n",
    "        error = (pd.DataFrame(out[case][constant][static][transfer]).T*pd.Series(contri['SanDiego'])).sum(axis=1)\n",
    "#                 error = (pd.DataFrame(out[case][constant][static][transfer]).T).sum(axis=1)\n",
    "        error.plot(label=algo, marker='o')\n",
    "    \n",
    "\"\"\"\n",
    "for transfer in ['normal', 'transfer']:\n",
    "       \n",
    "        algo = \"{}, {}\".format(\"MF\", transfer)\n",
    "        error = (pd.DataFrame(out_mf[transfer]).T*pd.Series(contri['SanDiego'])).sum(axis=1)\n",
    "#                 error = (pd.DataFrame(out[case][constant][static][transfer]).T).sum(axis=1)\n",
    "        error.plot(label=algo, marker='o')\n",
    "\"\"\"\n",
    "\n",
    "\n",
    "\n",
    "    \n",
    "plt.legend(bbox_to_anchor=(1.05, 1), title='Algorithm, Setting')\n",
    "plt.xlim((0, 110))\n",
    "#plt.ylim((11, 18))\n",
    "format_axes(plt.gca())\n",
    "plt.xlabel(r\"\\% Adaptation homes\")\n",
    "plt.ylabel(\"Weighted PEC\\nLower is better\")\n",
    "plt.savefig('../figures/main-austin.pdf', bbox_inches=\"tight\")"
   ]
  },
  {
   "cell_type": "code",
   "execution_count": null,
   "metadata": {
    "collapsed": true
   },
   "outputs": [],
   "source": []
  }
 ],
 "metadata": {
  "kernelspec": {
   "display_name": "Python 2",
   "language": "python",
   "name": "python2"
  },
  "language_info": {
   "codemirror_mode": {
    "name": "ipython",
    "version": 2
   },
   "file_extension": ".py",
   "mimetype": "text/x-python",
   "name": "python",
   "nbconvert_exporter": "python",
   "pygments_lexer": "ipython2",
   "version": "2.7.13"
  }
 },
 "nbformat": 4,
 "nbformat_minor": 2
}
