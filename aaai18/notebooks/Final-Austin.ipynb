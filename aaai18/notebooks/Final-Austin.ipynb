{
 "cells": [
  {
   "cell_type": "code",
   "execution_count": 1,
   "metadata": {
    "collapsed": true
   },
   "outputs": [],
   "source": [
    "import matplotlib.pyplot as plt\n",
    "import numpy as np\n",
    "import pandas as pd\n",
    "%matplotlib inline"
   ]
  },
  {
   "cell_type": "code",
   "execution_count": 2,
   "metadata": {
    "collapsed": true
   },
   "outputs": [],
   "source": [
    "import pickle"
   ]
  },
  {
   "cell_type": "code",
   "execution_count": 3,
   "metadata": {
    "collapsed": true
   },
   "outputs": [],
   "source": [
    "import sys\n",
    "sys.path.append('../code/')\n",
    "\n",
    "from common import APPLIANCES_ORDER, contri\n",
    "from plot_functions import latexify, format_axes"
   ]
  },
  {
   "cell_type": "code",
   "execution_count": 4,
   "metadata": {
    "collapsed": true
   },
   "outputs": [],
   "source": [
    "latexify(columns=1, fig_height=3.)"
   ]
  },
  {
   "cell_type": "code",
   "execution_count": 5,
   "metadata": {},
   "outputs": [
    {
     "ename": "ImportError",
     "evalue": "No module named mpl_toolkits.axes_grid1.inset_locator",
     "output_type": "error",
     "traceback": [
      "\u001b[0;31m---------------------------------------------------------------------------\u001b[0m",
      "\u001b[0;31mImportError\u001b[0m                               Traceback (most recent call last)",
      "\u001b[0;32m<ipython-input-5-a0e3802d9fdd>\u001b[0m in \u001b[0;36m<module>\u001b[0;34m()\u001b[0m\n\u001b[1;32m      9\u001b[0m \u001b[0mstatic\u001b[0m \u001b[0;34m=\u001b[0m \u001b[0;34m'False'\u001b[0m\u001b[0;34m\u001b[0m\u001b[0m\n\u001b[1;32m     10\u001b[0m \u001b[0;34m\u001b[0m\u001b[0m\n\u001b[0;32m---> 11\u001b[0;31m \u001b[0;32mfrom\u001b[0m \u001b[0mmpl_toolkits\u001b[0m\u001b[0;34m.\u001b[0m\u001b[0maxes_grid1\u001b[0m\u001b[0;34m.\u001b[0m\u001b[0minset_locator\u001b[0m \u001b[0;32mimport\u001b[0m \u001b[0mzoomed_inset_axes\u001b[0m\u001b[0;34m\u001b[0m\u001b[0m\n\u001b[0m\u001b[1;32m     12\u001b[0m \u001b[0maxins\u001b[0m \u001b[0;34m=\u001b[0m \u001b[0mzoomed_inset_axes\u001b[0m\u001b[0;34m(\u001b[0m\u001b[0mplt\u001b[0m\u001b[0;34m.\u001b[0m\u001b[0mgca\u001b[0m\u001b[0;34m(\u001b[0m\u001b[0;34m)\u001b[0m\u001b[0;34m,\u001b[0m \u001b[0;36m1.5\u001b[0m\u001b[0;34m,\u001b[0m \u001b[0mloc\u001b[0m\u001b[0;34m=\u001b[0m\u001b[0;36m1\u001b[0m\u001b[0;34m)\u001b[0m\u001b[0;34m\u001b[0m\u001b[0m\n\u001b[1;32m     13\u001b[0m \u001b[0;34m\u001b[0m\u001b[0m\n",
      "\u001b[0;31mImportError\u001b[0m: No module named mpl_toolkits.axes_grid1.inset_locator"
     ]
    },
    {
     "data": {
      "image/png": "[encoded data removed]",
      "text/plain": [
       "<matplotlib.figure.Figure at 0x111900690>"
      ]
     },
     "metadata": {},
     "output_type": "display_data"
    }
   ],
   "source": [
    "fig, ax = plt.subplots()\n",
    "\n",
    "out = pickle.load(open('../predictions/lr-tf-SanDiego-Austin-all.pkl','r'))\n",
    "out_mf = pickle.load(open('../predictions/mf-SanDiego-Austin.pkl','r'))\n",
    "\n",
    "\n",
    "\n",
    "constant = 'True'\n",
    "static = 'False'\n",
    "\n",
    "from mpl_toolkits.axes_grid1.inset_locator import zoomed_inset_axes\n",
    "axins = zoomed_inset_axes(plt.gca(), 1.5, loc=1)\n",
    "\n",
    "\n",
    "for case in [2, 4]:\n",
    "    \n",
    "    for transfer in ['normal', 'transfer']:\n",
    "        if case==2:\n",
    "            algo = \"{}, {}\".format(\"TTF\", transfer)\n",
    "        else:\n",
    "            algo = \"{}, {}\".format(\"STF\", transfer)\n",
    "        print algo\n",
    "        error = (pd.DataFrame(out[case][constant][static][transfer]).T*pd.Series(contri['SanDiego'])).sum(axis=1)\n",
    "#                 error = (pd.DataFrame(out[case][constant][static][transfer]).T).sum(axis=1)\n",
    "        error.plot(label=algo, marker='o', ax=ax, linewidth=0.7)\n",
    "        error.plot(label=algo, marker='.',ax=axins, legend=False, linewidth=0.6)\n",
    "        \n",
    "    \n",
    "\n",
    "for transfer in ['normal', 'transfer']:\n",
    "       \n",
    "        algo = \"{}, {}\".format(\"MF\", transfer)\n",
    "        error = (pd.DataFrame(out_mf[transfer]).T*pd.Series(contri['SanDiego'])).sum(axis=1)\n",
    "#                 error = (pd.DataFrame(out[case][constant][static][transfer]).T).sum(axis=1)\n",
    "        error.plot(label=algo, marker='o', ax=ax, linewidth=0.7)\n",
    "\n",
    "print \"Here\"\n",
    "    \n",
    "ax.legend(bbox_to_anchor=(1.05, 1), title='Algorithm, Setting')\n",
    "ax.set_xlim((6, 110))\n",
    "#plt.ylim((11, 18))\n",
    "format_axes(plt.gca())\n",
    "ax.set_xlabel(r\"\\% Adaptation homes\")\n",
    "ax.set_ylabel(\"Weighted PEC (Lower is better)\")\n",
    "\n",
    "print \"hrer no\"\n",
    "x1, x2 = 6, 23\n",
    "y1, y2= 12, 18\n",
    "axins.set_xlim(x1, x2) # apply the x-limits\n",
    "axins.set_ylim(y1, y2) # apply the y-limits\n",
    "from mpl_toolkits.axes_grid1.inset_locator import mark_inset\n",
    "\n",
    "mark_inset(ax, axins, loc1=2, loc2=4, fc=\"none\", ec=\"0.5\")\n",
    "format_axes(ax)\n",
    "# plt.savefig('../figures/main-austin.pdf', bbox_inches=\"tight\")"
   ]
  },
  {
   "cell_type": "code",
   "execution_count": null,
   "metadata": {
    "collapsed": true
   },
   "outputs": [],
   "source": []
  },
  {
   "cell_type": "code",
   "execution_count": null,
   "metadata": {
    "collapsed": true
   },
   "outputs": [],
   "source": []
  }
 ],
 "metadata": {
  "kernelspec": {
   "display_name": "Python 2",
   "language": "python",
   "name": "python2"
  },
  "language_info": {
   "codemirror_mode": {
    "name": "ipython",
    "version": 2
   },
   "file_extension": ".py",
   "mimetype": "text/x-python",
   "name": "python",
   "nbconvert_exporter": "python",
   "pygments_lexer": "ipython2",
   "version": "2.7.10"
  }
 },
 "nbformat": 4,
 "nbformat_minor": 2
}
