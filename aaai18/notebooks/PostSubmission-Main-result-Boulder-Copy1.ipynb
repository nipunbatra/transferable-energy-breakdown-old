{
 "cells": [
  {
   "cell_type": "code",
   "execution_count": 1,
   "metadata": {
    "collapsed": true
   },
   "outputs": [],
   "source": [
    "import matplotlib.pyplot as plt\n",
    "import numpy as np\n",
    "import pandas as pd\n",
    "%matplotlib inline"
   ]
  },
  {
   "cell_type": "code",
   "execution_count": 2,
   "metadata": {
    "collapsed": true
   },
   "outputs": [],
   "source": [
    "import pickle"
   ]
  },
  {
   "cell_type": "code",
   "execution_count": 3,
   "metadata": {
    "collapsed": true
   },
   "outputs": [],
   "source": [
    "import sys\n",
    "sys.path.append('../code/')\n",
    "\n",
    "from common import APPLIANCES_ORDER, contri"
   ]
  },
  {
   "cell_type": "code",
   "execution_count": 6,
   "metadata": {},
   "outputs": [
    {
     "data": {
      "text/html": [
       "<div>\n",
       "<style>\n",
       "    .dataframe thead tr:only-child th {\n",
       "        text-align: right;\n",
       "    }\n",
       "\n",
       "    .dataframe thead th {\n",
       "        text-align: left;\n",
       "    }\n",
       "\n",
       "    .dataframe tbody tr th {\n",
       "        vertical-align: top;\n",
       "    }\n",
       "</style>\n",
       "<table border=\"1\" class=\"dataframe\">\n",
       "  <thead>\n",
       "    <tr style=\"text-align: right;\">\n",
       "      <th></th>\n",
       "      <th>6.0</th>\n",
       "      <th>7.0</th>\n",
       "      <th>8.0</th>\n",
       "      <th>9.0</th>\n",
       "      <th>10.0</th>\n",
       "      <th>20.0</th>\n",
       "      <th>30.0</th>\n",
       "      <th>40.0</th>\n",
       "      <th>50.0</th>\n",
       "      <th>60.0</th>\n",
       "      <th>70.0</th>\n",
       "      <th>80.0</th>\n",
       "      <th>90.0</th>\n",
       "      <th>100.0</th>\n",
       "    </tr>\n",
       "  </thead>\n",
       "  <tbody>\n",
       "    <tr>\n",
       "      <th>dw</th>\n",
       "      <td>1.243869</td>\n",
       "      <td>1.242649</td>\n",
       "      <td>1.266671</td>\n",
       "      <td>1.266671</td>\n",
       "      <td>1.268748</td>\n",
       "      <td>1.261424</td>\n",
       "      <td>1.222241</td>\n",
       "      <td>1.189314</td>\n",
       "      <td>1.201501</td>\n",
       "      <td>1.206894</td>\n",
       "      <td>1.182649</td>\n",
       "      <td>1.195225</td>\n",
       "      <td>1.177463</td>\n",
       "      <td>1.196397</td>\n",
       "    </tr>\n",
       "    <tr>\n",
       "      <th>fridge</th>\n",
       "      <td>9.807406</td>\n",
       "      <td>10.021869</td>\n",
       "      <td>9.296165</td>\n",
       "      <td>9.296165</td>\n",
       "      <td>8.525354</td>\n",
       "      <td>9.117668</td>\n",
       "      <td>7.897208</td>\n",
       "      <td>8.486117</td>\n",
       "      <td>7.578240</td>\n",
       "      <td>7.567822</td>\n",
       "      <td>7.560282</td>\n",
       "      <td>7.099928</td>\n",
       "      <td>7.873403</td>\n",
       "      <td>6.971554</td>\n",
       "    </tr>\n",
       "    <tr>\n",
       "      <th>hvac</th>\n",
       "      <td>25.163225</td>\n",
       "      <td>25.088874</td>\n",
       "      <td>27.750673</td>\n",
       "      <td>27.750673</td>\n",
       "      <td>25.385422</td>\n",
       "      <td>21.833646</td>\n",
       "      <td>20.847899</td>\n",
       "      <td>21.876632</td>\n",
       "      <td>20.878963</td>\n",
       "      <td>20.197037</td>\n",
       "      <td>19.886370</td>\n",
       "      <td>20.101711</td>\n",
       "      <td>20.654703</td>\n",
       "      <td>20.259572</td>\n",
       "    </tr>\n",
       "    <tr>\n",
       "      <th>mw</th>\n",
       "      <td>2.556328</td>\n",
       "      <td>2.563816</td>\n",
       "      <td>2.504340</td>\n",
       "      <td>2.504340</td>\n",
       "      <td>2.428496</td>\n",
       "      <td>2.431994</td>\n",
       "      <td>2.362648</td>\n",
       "      <td>2.431543</td>\n",
       "      <td>2.335138</td>\n",
       "      <td>2.310357</td>\n",
       "      <td>2.321019</td>\n",
       "      <td>2.302552</td>\n",
       "      <td>2.418280</td>\n",
       "      <td>2.315697</td>\n",
       "    </tr>\n",
       "    <tr>\n",
       "      <th>oven</th>\n",
       "      <td>2.019732</td>\n",
       "      <td>2.162994</td>\n",
       "      <td>2.266188</td>\n",
       "      <td>2.266188</td>\n",
       "      <td>2.139235</td>\n",
       "      <td>2.180604</td>\n",
       "      <td>2.188105</td>\n",
       "      <td>2.113906</td>\n",
       "      <td>2.125882</td>\n",
       "      <td>2.112487</td>\n",
       "      <td>2.045796</td>\n",
       "      <td>1.973395</td>\n",
       "      <td>2.137723</td>\n",
       "      <td>2.038095</td>\n",
       "    </tr>\n",
       "    <tr>\n",
       "      <th>wm</th>\n",
       "      <td>2.181693</td>\n",
       "      <td>2.199575</td>\n",
       "      <td>2.195311</td>\n",
       "      <td>2.195311</td>\n",
       "      <td>2.175702</td>\n",
       "      <td>2.174387</td>\n",
       "      <td>2.134032</td>\n",
       "      <td>2.153652</td>\n",
       "      <td>2.134614</td>\n",
       "      <td>2.140550</td>\n",
       "      <td>2.121188</td>\n",
       "      <td>2.119268</td>\n",
       "      <td>2.146652</td>\n",
       "      <td>2.116127</td>\n",
       "    </tr>\n",
       "  </tbody>\n",
       "</table>\n",
       "</div>"
      ],
      "text/plain": [
       "            6.0        7.0        8.0        9.0        10.0       20.0   \\\n",
       "dw       1.243869   1.242649   1.266671   1.266671   1.268748   1.261424   \n",
       "fridge   9.807406  10.021869   9.296165   9.296165   8.525354   9.117668   \n",
       "hvac    25.163225  25.088874  27.750673  27.750673  25.385422  21.833646   \n",
       "mw       2.556328   2.563816   2.504340   2.504340   2.428496   2.431994   \n",
       "oven     2.019732   2.162994   2.266188   2.266188   2.139235   2.180604   \n",
       "wm       2.181693   2.199575   2.195311   2.195311   2.175702   2.174387   \n",
       "\n",
       "            30.0       40.0       50.0       60.0       70.0       80.0   \\\n",
       "dw       1.222241   1.189314   1.201501   1.206894   1.182649   1.195225   \n",
       "fridge   7.897208   8.486117   7.578240   7.567822   7.560282   7.099928   \n",
       "hvac    20.847899  21.876632  20.878963  20.197037  19.886370  20.101711   \n",
       "mw       2.362648   2.431543   2.335138   2.310357   2.321019   2.302552   \n",
       "oven     2.188105   2.113906   2.125882   2.112487   2.045796   1.973395   \n",
       "wm       2.134032   2.153652   2.134614   2.140550   2.121188   2.119268   \n",
       "\n",
       "            90.0       100.0  \n",
       "dw       1.177463   1.196397  \n",
       "fridge   7.873403   6.971554  \n",
       "hvac    20.654703  20.259572  \n",
       "mw       2.418280   2.315697  \n",
       "oven     2.137723   2.038095  \n",
       "wm       2.146652   2.116127  "
      ]
     },
     "execution_count": 6,
     "metadata": {},
     "output_type": "execute_result"
    }
   ],
   "source": [
    "pd.DataFrame(out[case][constant_use][static][transfer])"
   ]
  },
  {
   "cell_type": "code",
   "execution_count": 10,
   "metadata": {},
   "outputs": [
    {
     "data": {
      "text/plain": [
       "(0, 'aggregate')"
      ]
     },
     "execution_count": 10,
     "metadata": {},
     "output_type": "execute_result"
    }
   ],
   "source": [
    "enumerate(APPLIANCES_ORDER).next()"
   ]
  },
  {
   "cell_type": "code",
   "execution_count": 18,
   "metadata": {},
   "outputs": [
    {
     "data": {
      "text/plain": [
       "<matplotlib.axes._subplots.AxesSubplot at 0x11a293050>"
      ]
     },
     "execution_count": 18,
     "metadata": {},
     "output_type": "execute_result"
    },
    {
     "data": {
      "image/png": "[encoded data removed]",
      "text/plain": [
       "<matplotlib.figure.Figure at 0x11a2665d0>"
      ]
     },
     "metadata": {},
     "output_type": "display_data"
    }
   ],
   "source": [
    "error.loc['dw'].plot()"
   ]
  },
  {
   "cell_type": "code",
   "execution_count": 21,
   "metadata": {},
   "outputs": [
    {
     "name": "stdout",
     "output_type": "stream",
     "text": [
      "'the label [hvac] is not in the [index]'\n",
      "2 False normal ------\n",
      "'the label [hvac] is not in the [index]'\n",
      "2 False transfer ------\n",
      "'the label [hvac] is not in the [index]'\n",
      "2 False normal ------\n",
      "'the label [hvac] is not in the [index]'\n",
      "2 False transfer ------\n",
      "'the label [hvac] is not in the [index]'\n",
      "4 False normal ------\n",
      "'the label [hvac] is not in the [index]'\n",
      "4 False transfer ------\n"
     ]
    },
    {
     "data": {
      "text/plain": [
       "<matplotlib.text.Text at 0x11b34bb50>"
      ]
     },
     "execution_count": 21,
     "metadata": {},
     "output_type": "execute_result"
    },
    {
     "data": {
      "image/png": "[encoded data removed]",
      "text/plain": [
       "<matplotlib.figure.Figure at 0x11a697a10>"
      ]
     },
     "metadata": {},
     "output_type": "display_data"
    }
   ],
   "source": [
    "out = pickle.load(open('../predictions/lr-tf-Austin-Boulder.pkl','r'))\n",
    "fig, ax = plt.subplots(ncols=6)\n",
    "mapping = {2:'Our TF', 4:'STF'}\n",
    "for case in [2, 4]:\n",
    "    for constant_use in ['True', 'False']:\n",
    "        static = 'False'\n",
    "        for transfer in ['normal','transfer']:\n",
    "            try:\n",
    "                algo = \"{}_{}_{}_{}\".format(transfer, constant_use, static, mapping[case])\n",
    "                error = pd.DataFrame(out[case][constant_use][static][transfer])\n",
    "                for i, appliance in enumerate(APPLIANCES_ORDER[1:]):\n",
    "                    error.loc[appliance].plot(ax=ax[i], label=algo, legend=False)\n",
    "            except Exception, e:\n",
    "                print e\n",
    "                print case, static, transfer, \"------\"\n",
    "#prev_best_algo.plot(label='prev', marker='*')\n",
    "plt.legend(bbox_to_anchor=(1.1, 1), title='Setting, Constant season, Static, TF case')\n",
    "plt.xlim((0, 110))\n",
    "plt.title(\"Target: Boulder, Source (when transfer used): Austin\")"
   ]
  },
  {
   "cell_type": "code",
   "execution_count": 54,
   "metadata": {
    "collapsed": true
   },
   "outputs": [],
   "source": [
    "params = pickle.load(open('../predictions/params-lr-tf-Austin-SanDiego.pkl','r'))\n"
   ]
  },
  {
   "cell_type": "code",
   "execution_count": 115,
   "metadata": {
    "collapsed": true
   },
   "outputs": [],
   "source": [
    "case =2\n",
    "constant_use = 'True'\n",
    "static = 'True'\n",
    "setting = 'transfer'\n",
    "lrs = {}\n",
    "n_iter = {}\n",
    "for train in [10, 30, 50, 70, 90]:\n",
    "    lrs[train] = []\n",
    "    n_iter[train] = []\n",
    "    for random_seed in range(4):\n",
    "        for fold in range(10):\n",
    "            lrs[train].append(params[case][constant_use][static][setting][train][random_seed][fold]['Learning Rate'])\n",
    "            n_iter[train].append(params[case][constant_use][static][setting][train][random_seed][fold]['Iterations'])\n",
    "    lrs[train] = pd.value_counts(pd.Series(lrs)[train])\n",
    "    n_iter[train] = pd.value_counts(pd.Series(n_iter)[train])\n",
    "lrs = pd.DataFrame(lrs)\n",
    "n_iter = pd.DataFrame(n_iter)"
   ]
  },
  {
   "cell_type": "code",
   "execution_count": 117,
   "metadata": {},
   "outputs": [
    {
     "data": {
      "text/html": [
       "<div>\n",
       "<style>\n",
       "    .dataframe thead tr:only-child th {\n",
       "        text-align: right;\n",
       "    }\n",
       "\n",
       "    .dataframe thead th {\n",
       "        text-align: left;\n",
       "    }\n",
       "\n",
       "    .dataframe tbody tr th {\n",
       "        vertical-align: top;\n",
       "    }\n",
       "</style>\n",
       "<table border=\"1\" class=\"dataframe\">\n",
       "  <thead>\n",
       "    <tr style=\"text-align: right;\">\n",
       "      <th></th>\n",
       "      <th>10</th>\n",
       "      <th>30</th>\n",
       "      <th>50</th>\n",
       "      <th>70</th>\n",
       "      <th>90</th>\n",
       "    </tr>\n",
       "  </thead>\n",
       "  <tbody>\n",
       "    <tr>\n",
       "      <th>100</th>\n",
       "      <td>4</td>\n",
       "      <td>10</td>\n",
       "      <td>11</td>\n",
       "      <td>8</td>\n",
       "      <td>13</td>\n",
       "    </tr>\n",
       "    <tr>\n",
       "      <th>700</th>\n",
       "      <td>10</td>\n",
       "      <td>12</td>\n",
       "      <td>12</td>\n",
       "      <td>15</td>\n",
       "      <td>5</td>\n",
       "    </tr>\n",
       "    <tr>\n",
       "      <th>1300</th>\n",
       "      <td>26</td>\n",
       "      <td>18</td>\n",
       "      <td>17</td>\n",
       "      <td>17</td>\n",
       "      <td>22</td>\n",
       "    </tr>\n",
       "  </tbody>\n",
       "</table>\n",
       "</div>"
      ],
      "text/plain": [
       "      10  30  50  70  90\n",
       "100    4  10  11   8  13\n",
       "700   10  12  12  15   5\n",
       "1300  26  18  17  17  22"
      ]
     },
     "execution_count": 117,
     "metadata": {},
     "output_type": "execute_result"
    }
   ],
   "source": [
    "pd.DataFrame(n_iter)"
   ]
  },
  {
   "cell_type": "code",
   "execution_count": 100,
   "metadata": {
    "collapsed": true
   },
   "outputs": [],
   "source": [
    "lr_optimal = {}\n",
    "for train in [10, 30, 50, 70, 90]:\n",
    "    lr_optimal[train] = pd.value_counts(pd.DataFrame(a)[train])\n",
    "    "
   ]
  },
  {
   "cell_type": "code",
   "execution_count": null,
   "metadata": {
    "collapsed": true
   },
   "outputs": [],
   "source": [
    "pd.DataFrame(lrs).T.plot(kind='bar', rot=0)\n",
    "plt.xlabel(\"% Training data\")\n",
    "plt.title(\"Histogram of optimal Learning Rate for \\n Our TF Transfer from Austin ->SD\")\n",
    "plt.legend(title=\"Learning rate\")"
   ]
  },
  {
   "cell_type": "code",
   "execution_count": 126,
   "metadata": {},
   "outputs": [
    {
     "data": {
      "text/plain": [
       "<matplotlib.legend.Legend at 0x11767e810>"
      ]
     },
     "execution_count": 126,
     "metadata": {},
     "output_type": "execute_result"
    },
    {
     "data": {
      "image/png": "[encoded data removed]",
      "text/plain": [
       "<matplotlib.figure.Figure at 0x11767ee10>"
      ]
     },
     "metadata": {},
     "output_type": "display_data"
    }
   ],
   "source": [
    "pd.DataFrame(n_iter).T.plot(kind='bar', rot=0)\n",
    "plt.xlabel(\"% Training data\")\n",
    "plt.title(\"Histogram of optimal # Iterations \\n Our TF Transfer from Austin ->SD\")\n",
    "plt.legend(title=\"# Iterations\")"
   ]
  },
  {
   "cell_type": "code",
   "execution_count": null,
   "metadata": {
    "collapsed": true
   },
   "outputs": [],
   "source": []
  }
 ],
 "metadata": {
  "kernelspec": {
   "display_name": "Python 2",
   "language": "python",
   "name": "python2"
  },
  "language_info": {
   "codemirror_mode": {
    "name": "ipython",
    "version": 2
   },
   "file_extension": ".py",
   "mimetype": "text/x-python",
   "name": "python",
   "nbconvert_exporter": "python",
   "pygments_lexer": "ipython2",
   "version": "2.7.13"
  }
 },
 "nbformat": 4,
 "nbformat_minor": 2
}
