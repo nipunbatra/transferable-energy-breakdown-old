{
 "cells": [
  {
   "cell_type": "code",
   "execution_count": 1,
   "metadata": {
    "collapsed": true
   },
   "outputs": [],
   "source": [
    "import sys\n",
    "sys.path.append(\"../code/\")\n",
    "from sklearn.metrics import mean_squared_error\n",
    "\n",
    "from create_matrix import *\n",
    "\n",
    "\n",
    "def get_tensor(df, start=1, stop=13):\n",
    "#     start, stop = 1, 13\n",
    "    energy_cols = np.array(\n",
    "        [['%s_%d' % (appliance, month) for month in range(start, stop)] for appliance in APPLIANCES_ORDER]).flatten()\n",
    "\n",
    "    dfc = df.copy()\n",
    "\n",
    "    df = dfc[energy_cols]\n",
    "\n",
    "    tensor = df.values.reshape((len(df), 7, stop - start))\n",
    "    return tensor"
   ]
  },
  {
   "cell_type": "code",
   "execution_count": 2,
   "metadata": {
    "collapsed": true
   },
   "outputs": [],
   "source": [
    "import pandas as pd\n",
    "import numpy as np"
   ]
  },
  {
   "cell_type": "code",
   "execution_count": 3,
   "metadata": {
    "collapsed": true
   },
   "outputs": [],
   "source": [
    "from create_matrix import *\n",
    "\n",
    "from tensor_custom_core import *\n",
    "from create_matrix import *\n",
    "from tensor_custom_core import *\n",
    "appliance_index = {appliance: APPLIANCES_ORDER.index(appliance) for appliance in APPLIANCES_ORDER}\n",
    "\n",
    "APPLIANCES = ['fridge', 'hvac', 'wm', 'mw', 'oven', 'dw']\n",
    "region = \"SanDiego\"\n",
    "year = 2014\n",
    "\n",
    "import os\n"
   ]
  },
  {
   "cell_type": "code",
   "execution_count": 4,
   "metadata": {
    "collapsed": true
   },
   "outputs": [],
   "source": [
    "def create_region_df_dfc_static(region, year, start=1, stop=13):\n",
    "    df, dfc = create_matrix_single_region(region, year)\n",
    "    tensor = get_tensor(df, start, stop)\n",
    "    static_region = df[['area', 'total_occupants', 'num_rooms']].copy()\n",
    "    static_region['area'] = static_region['area'].div(4000)\n",
    "    static_region['total_occupants'] = static_region['total_occupants'].div(8)\n",
    "    static_region['num_rooms'] = static_region['num_rooms'].div(8)\n",
    "    static_region = static_region.values\n",
    "    return df, dfc, tensor, static_region"
   ]
  },
  {
   "cell_type": "code",
   "execution_count": 5,
   "metadata": {
    "collapsed": true
   },
   "outputs": [],
   "source": [
    "source, target = \"Austin\",\"SanDiego\"\n",
    "source_df, source_dfc, source_tensor, source_static = create_region_df_dfc_static(source, year)\n",
    "target_df, target_dfc, target_tensor, target_static = create_region_df_dfc_static(target, year)\n",
    "\n",
    "# # using cosine similarity to compute L\n",
    "source_L = get_L(source_static)\n",
    "target_L = get_L(target_static)"
   ]
  },
  {
   "cell_type": "code",
   "execution_count": null,
   "metadata": {
    "collapsed": true
   },
   "outputs": [],
   "source": [
    "\n"
   ]
  },
  {
   "cell_type": "code",
   "execution_count": 6,
   "metadata": {},
   "outputs": [
    {
     "name": "stdout",
     "output_type": "stream",
     "text": [
      "489.086493096\n",
      "54.4997338987\n"
     ]
    }
   ],
   "source": [
    "H_au, A_au, T_au, Hs, As, Ts, HATs, costs = learn_HAT_adagrad_graph(2, source_tensor, source_L, 3, 2, lr=1,\n",
    "                                                                    lam=0, num_iter=600, dis=True )"
   ]
  },
  {
   "cell_type": "code",
   "execution_count": 7,
   "metadata": {},
   "outputs": [
    {
     "name": "stdout",
     "output_type": "stream",
     "text": [
      "207.62262077\n",
      "26.8370823579\n"
     ]
    }
   ],
   "source": [
    "H_sd, A_sd, T_sd, Hs, As, Ts, HATs, costs = learn_HAT_adagrad_graph(2, target_tensor, target_L, 3, 2, lr=1,\n",
    "                                                                    lam=0, num_iter=600, dis=True )"
   ]
  },
  {
   "cell_type": "code",
   "execution_count": 8,
   "metadata": {},
   "outputs": [
    {
     "name": "stdout",
     "output_type": "stream",
     "text": [
      "186.278430782\n",
      "28.0765979993\n"
     ]
    }
   ],
   "source": [
    "H_au_sd, A_au_sd, T_au_sd, Hs, As, Ts, HATs, costs = learn_HAT_adagrad_graph(2, target_tensor, target_L, 3, 2, lr=1,\n",
    "                                                                    lam=0, num_iter=600, dis=True, A_known = A_au )"
   ]
  },
  {
   "cell_type": "code",
   "execution_count": 9,
   "metadata": {
    "collapsed": true
   },
   "outputs": [],
   "source": [
    "%matplotlib inline"
   ]
  },
  {
   "cell_type": "code",
   "execution_count": 10,
   "metadata": {
    "collapsed": true
   },
   "outputs": [],
   "source": [
    "dds = {}\n",
    "\n",
    "dds[2014] = {'Austin':[x/787.0 for x in [10, 58, 72, 240, 408, 655, 715, 787, 588, 366, 43, 27]],\n",
    "       'SanDiego':[x/787.0 for x in [65, 55, 136, 162,302, 262,428,433,472,374,176,69]],\n",
    "       'Boulder':[x/787.0 for x in [0, 0,0,4,70, 213, 408, 314, 161, 31, 0, 0]]}\n",
    "\n",
    "dds[2015] = {'Austin':[x/787.0 for x in [0, 16, 97, 292, 438, 579, 724, 747, 617, 376, 122, 46]]}\n",
    "\n",
    "dd_keys = ['dd_'+str(x) for x in range(1,13)]\n"
   ]
  },
  {
   "cell_type": "code",
   "execution_count": 12,
   "metadata": {},
   "outputs": [
    {
     "data": {
      "text/plain": [
       "<matplotlib.collections.PathCollection at 0x117d65a10>"
      ]
     },
     "execution_count": 12,
     "metadata": {},
     "output_type": "execute_result"
    },
    {
     "data": {
      "image/png": "[encoded data removed]",
      "text/plain": [
       "<matplotlib.figure.Figure at 0x117cca7d0>"
      ]
     },
     "metadata": {},
     "output_type": "display_data"
    }
   ],
   "source": [
    "import matplotlib.pyplot as plt\n",
    "plt.scatter(pd.Series(dds[2014]['Austin']), pd.Series(T_au[:,1]))"
   ]
  },
  {
   "cell_type": "code",
   "execution_count": 13,
   "metadata": {
    "collapsed": true
   },
   "outputs": [],
   "source": [
    "from plot_functions import latexify, format_axes"
   ]
  },
  {
   "cell_type": "code",
   "execution_count": 20,
   "metadata": {},
   "outputs": [],
   "source": [
    "latexify(columns=1, fig_height=1.6)"
   ]
  },
  {
   "cell_type": "code",
   "execution_count": null,
   "metadata": {},
   "outputs": [],
   "source": []
  },
  {
   "cell_type": "code",
   "execution_count": 23,
   "metadata": {},
   "outputs": [
    {
     "data": {
      "image/png": "[encoded data removed]",
      "text/plain": [
       "<matplotlib.figure.Figure at 0x11d0f4dd0>"
      ]
     },
     "metadata": {},
     "output_type": "display_data"
    }
   ],
   "source": [
    "fig, ax = plt.subplots(nrows=1, ncols=2, sharey=True)\n",
    "a_au  = pd.Series(dds[2014]['Austin'])\n",
    "a_au = a_au.div(a_au.max())\n",
    "b_au = pd.Series(T_au[:,1])\n",
    "b_au = b_au.div(b_au.max())\n",
    "a_au.plot(label='Degree Days', ax=ax[0])\n",
    "b_au.plot(ax=ax[0], label='Season Factor (S)')\n",
    "\n",
    "a_sd  = pd.Series(dds[2014]['SanDiego'])\n",
    "a_sd = a_sd.div(a_sd.max())\n",
    "b_sd = pd.Series(T_sd[:,1])\n",
    "b_sd = b_sd.div(b_sd.max())\n",
    "a_sd.plot(label='Degree Days', ax=ax[1])\n",
    "b_sd.plot(ax=ax[1], label='Season Factor (S)')\n",
    "l = plt.legend(bbox_to_anchor=(0.7, 1.65), ncol=1)\n",
    "format_axes(ax[0])\n",
    "format_axes(ax[1])\n",
    "ax[0].set_title(\"Austin\")\n",
    "ax[1].set_title(\"SanDiego\")\n",
    "f = fig.text(0.5, -0.15, \"Month\")\n",
    "plt.savefig(\"../figures/season.pdf\", bbox_inches=\"tight\",bbox_extra_artists = [f, l])"
   ]
  },
  {
   "cell_type": "code",
   "execution_count": 38,
   "metadata": {},
   "outputs": [
    {
     "data": {
      "text/html": [
       "<div>\n",
       "<style>\n",
       "    .dataframe thead tr:only-child th {\n",
       "        text-align: right;\n",
       "    }\n",
       "\n",
       "    .dataframe thead th {\n",
       "        text-align: left;\n",
       "    }\n",
       "\n",
       "    .dataframe tbody tr th {\n",
       "        vertical-align: top;\n",
       "    }\n",
       "</style>\n",
       "<table border=\"1\" class=\"dataframe\">\n",
       "  <thead>\n",
       "    <tr style=\"text-align: right;\">\n",
       "      <th></th>\n",
       "      <th>0</th>\n",
       "      <th>1</th>\n",
       "      <th>2</th>\n",
       "      <th>area</th>\n",
       "      <th>num-occupants</th>\n",
       "      <th>num-rooms</th>\n",
       "    </tr>\n",
       "  </thead>\n",
       "  <tbody>\n",
       "    <tr>\n",
       "      <th>0</th>\n",
       "      <td>1.000000</td>\n",
       "      <td>0.332557</td>\n",
       "      <td>0.465726</td>\n",
       "      <td>0.700071</td>\n",
       "      <td>0.333708</td>\n",
       "      <td>0.270242</td>\n",
       "    </tr>\n",
       "    <tr>\n",
       "      <th>1</th>\n",
       "      <td>0.332557</td>\n",
       "      <td>1.000000</td>\n",
       "      <td>0.061289</td>\n",
       "      <td>0.446882</td>\n",
       "      <td>0.300519</td>\n",
       "      <td>0.249380</td>\n",
       "    </tr>\n",
       "    <tr>\n",
       "      <th>2</th>\n",
       "      <td>0.465726</td>\n",
       "      <td>0.061289</td>\n",
       "      <td>1.000000</td>\n",
       "      <td>0.527473</td>\n",
       "      <td>0.122631</td>\n",
       "      <td>0.150263</td>\n",
       "    </tr>\n",
       "    <tr>\n",
       "      <th>area</th>\n",
       "      <td>0.700071</td>\n",
       "      <td>0.446882</td>\n",
       "      <td>0.527473</td>\n",
       "      <td>1.000000</td>\n",
       "      <td>0.342267</td>\n",
       "      <td>0.487478</td>\n",
       "    </tr>\n",
       "    <tr>\n",
       "      <th>num-occupants</th>\n",
       "      <td>0.333708</td>\n",
       "      <td>0.300519</td>\n",
       "      <td>0.122631</td>\n",
       "      <td>0.342267</td>\n",
       "      <td>1.000000</td>\n",
       "      <td>0.177126</td>\n",
       "    </tr>\n",
       "    <tr>\n",
       "      <th>num-rooms</th>\n",
       "      <td>0.270242</td>\n",
       "      <td>0.249380</td>\n",
       "      <td>0.150263</td>\n",
       "      <td>0.487478</td>\n",
       "      <td>0.177126</td>\n",
       "      <td>1.000000</td>\n",
       "    </tr>\n",
       "  </tbody>\n",
       "</table>\n",
       "</div>"
      ],
      "text/plain": [
       "                      0         1         2      area  num-occupants  \\\n",
       "0              1.000000  0.332557  0.465726  0.700071       0.333708   \n",
       "1              0.332557  1.000000  0.061289  0.446882       0.300519   \n",
       "2              0.465726  0.061289  1.000000  0.527473       0.122631   \n",
       "area           0.700071  0.446882  0.527473  1.000000       0.342267   \n",
       "num-occupants  0.333708  0.300519  0.122631  0.342267       1.000000   \n",
       "num-rooms      0.270242  0.249380  0.150263  0.487478       0.177126   \n",
       "\n",
       "               num-rooms  \n",
       "0               0.270242  \n",
       "1               0.249380  \n",
       "2               0.150263  \n",
       "area            0.487478  \n",
       "num-occupants   0.177126  \n",
       "num-rooms       1.000000  "
      ]
     },
     "execution_count": 38,
     "metadata": {},
     "output_type": "execute_result"
    }
   ],
   "source": [
    "e = pd.DataFrame(H_au)\n",
    "f = pd.DataFrame(source_static)\n",
    "f.columns = ['area','num-occupants','num-rooms']\n",
    "pd.concat([e, f], axis=1).corr()"
   ]
  },
  {
   "cell_type": "code",
   "execution_count": 40,
   "metadata": {},
   "outputs": [
    {
     "data": {
      "text/plain": [
       "<matplotlib.collections.PathCollection at 0x11ddf4e50>"
      ]
     },
     "execution_count": 40,
     "metadata": {},
     "output_type": "execute_result"
    },
    {
     "data": {
      "image/png": "[encoded data removed]",
      "text/plain": [
       "<matplotlib.figure.Figure at 0x11de09d50>"
      ]
     },
     "metadata": {},
     "output_type": "display_data"
    }
   ],
   "source": [
    "plt.scatter(H_au[:,0], f['area'])"
   ]
  },
  {
   "cell_type": "code",
   "execution_count": 33,
   "metadata": {},
   "outputs": [
    {
     "data": {
      "text/html": [
       "<div>\n",
       "<style>\n",
       "    .dataframe thead tr:only-child th {\n",
       "        text-align: right;\n",
       "    }\n",
       "\n",
       "    .dataframe thead th {\n",
       "        text-align: left;\n",
       "    }\n",
       "\n",
       "    .dataframe tbody tr th {\n",
       "        vertical-align: top;\n",
       "    }\n",
       "</style>\n",
       "<table border=\"1\" class=\"dataframe\">\n",
       "  <thead>\n",
       "    <tr style=\"text-align: right;\">\n",
       "      <th></th>\n",
       "      <th>0</th>\n",
       "      <th>1</th>\n",
       "      <th>2</th>\n",
       "    </tr>\n",
       "  </thead>\n",
       "  <tbody>\n",
       "    <tr>\n",
       "      <th>0</th>\n",
       "      <td>0.204000</td>\n",
       "      <td>NaN</td>\n",
       "      <td>NaN</td>\n",
       "    </tr>\n",
       "    <tr>\n",
       "      <th>1</th>\n",
       "      <td>0.511750</td>\n",
       "      <td>0.500</td>\n",
       "      <td>0.750</td>\n",
       "    </tr>\n",
       "    <tr>\n",
       "      <th>2</th>\n",
       "      <td>0.151500</td>\n",
       "      <td>NaN</td>\n",
       "      <td>NaN</td>\n",
       "    </tr>\n",
       "    <tr>\n",
       "      <th>3</th>\n",
       "      <td>0.900000</td>\n",
       "      <td>0.875</td>\n",
       "      <td>1.375</td>\n",
       "    </tr>\n",
       "    <tr>\n",
       "      <th>4</th>\n",
       "      <td>0.243750</td>\n",
       "      <td>NaN</td>\n",
       "      <td>NaN</td>\n",
       "    </tr>\n",
       "    <tr>\n",
       "      <th>5</th>\n",
       "      <td>0.667250</td>\n",
       "      <td>NaN</td>\n",
       "      <td>NaN</td>\n",
       "    </tr>\n",
       "    <tr>\n",
       "      <th>6</th>\n",
       "      <td>0.447000</td>\n",
       "      <td>NaN</td>\n",
       "      <td>NaN</td>\n",
       "    </tr>\n",
       "    <tr>\n",
       "      <th>7</th>\n",
       "      <td>0.733500</td>\n",
       "      <td>0.250</td>\n",
       "      <td>NaN</td>\n",
       "    </tr>\n",
       "    <tr>\n",
       "      <th>8</th>\n",
       "      <td>0.428250</td>\n",
       "      <td>0.250</td>\n",
       "      <td>0.375</td>\n",
       "    </tr>\n",
       "    <tr>\n",
       "      <th>9</th>\n",
       "      <td>0.325000</td>\n",
       "      <td>0.375</td>\n",
       "      <td>0.625</td>\n",
       "    </tr>\n",
       "    <tr>\n",
       "      <th>10</th>\n",
       "      <td>0.460500</td>\n",
       "      <td>0.250</td>\n",
       "      <td>NaN</td>\n",
       "    </tr>\n",
       "    <tr>\n",
       "      <th>11</th>\n",
       "      <td>0.250250</td>\n",
       "      <td>NaN</td>\n",
       "      <td>NaN</td>\n",
       "    </tr>\n",
       "    <tr>\n",
       "      <th>12</th>\n",
       "      <td>0.475000</td>\n",
       "      <td>0.375</td>\n",
       "      <td>1.250</td>\n",
       "    </tr>\n",
       "    <tr>\n",
       "      <th>13</th>\n",
       "      <td>0.269750</td>\n",
       "      <td>NaN</td>\n",
       "      <td>NaN</td>\n",
       "    </tr>\n",
       "    <tr>\n",
       "      <th>14</th>\n",
       "      <td>0.204000</td>\n",
       "      <td>0.500</td>\n",
       "      <td>0.250</td>\n",
       "    </tr>\n",
       "    <tr>\n",
       "      <th>15</th>\n",
       "      <td>0.254500</td>\n",
       "      <td>NaN</td>\n",
       "      <td>NaN</td>\n",
       "    </tr>\n",
       "    <tr>\n",
       "      <th>16</th>\n",
       "      <td>0.594000</td>\n",
       "      <td>0.500</td>\n",
       "      <td>NaN</td>\n",
       "    </tr>\n",
       "    <tr>\n",
       "      <th>17</th>\n",
       "      <td>0.530500</td>\n",
       "      <td>0.375</td>\n",
       "      <td>NaN</td>\n",
       "    </tr>\n",
       "    <tr>\n",
       "      <th>18</th>\n",
       "      <td>0.550000</td>\n",
       "      <td>0.625</td>\n",
       "      <td>0.500</td>\n",
       "    </tr>\n",
       "    <tr>\n",
       "      <th>19</th>\n",
       "      <td>0.243750</td>\n",
       "      <td>NaN</td>\n",
       "      <td>NaN</td>\n",
       "    </tr>\n",
       "    <tr>\n",
       "      <th>20</th>\n",
       "      <td>0.675000</td>\n",
       "      <td>0.500</td>\n",
       "      <td>0.500</td>\n",
       "    </tr>\n",
       "    <tr>\n",
       "      <th>21</th>\n",
       "      <td>0.187750</td>\n",
       "      <td>NaN</td>\n",
       "      <td>NaN</td>\n",
       "    </tr>\n",
       "    <tr>\n",
       "      <th>22</th>\n",
       "      <td>0.208000</td>\n",
       "      <td>NaN</td>\n",
       "      <td>NaN</td>\n",
       "    </tr>\n",
       "    <tr>\n",
       "      <th>23</th>\n",
       "      <td>0.151500</td>\n",
       "      <td>NaN</td>\n",
       "      <td>NaN</td>\n",
       "    </tr>\n",
       "    <tr>\n",
       "      <th>24</th>\n",
       "      <td>0.550000</td>\n",
       "      <td>0.250</td>\n",
       "      <td>1.250</td>\n",
       "    </tr>\n",
       "    <tr>\n",
       "      <th>25</th>\n",
       "      <td>0.670500</td>\n",
       "      <td>0.250</td>\n",
       "      <td>1.000</td>\n",
       "    </tr>\n",
       "    <tr>\n",
       "      <th>26</th>\n",
       "      <td>0.324750</td>\n",
       "      <td>0.250</td>\n",
       "      <td>1.000</td>\n",
       "    </tr>\n",
       "    <tr>\n",
       "      <th>27</th>\n",
       "      <td>0.539500</td>\n",
       "      <td>NaN</td>\n",
       "      <td>NaN</td>\n",
       "    </tr>\n",
       "    <tr>\n",
       "      <th>28</th>\n",
       "      <td>0.156750</td>\n",
       "      <td>NaN</td>\n",
       "      <td>NaN</td>\n",
       "    </tr>\n",
       "    <tr>\n",
       "      <th>29</th>\n",
       "      <td>0.156750</td>\n",
       "      <td>NaN</td>\n",
       "      <td>NaN</td>\n",
       "    </tr>\n",
       "    <tr>\n",
       "      <th>...</th>\n",
       "      <td>...</td>\n",
       "      <td>...</td>\n",
       "      <td>...</td>\n",
       "    </tr>\n",
       "    <tr>\n",
       "      <th>503</th>\n",
       "      <td>0.157250</td>\n",
       "      <td>NaN</td>\n",
       "      <td>NaN</td>\n",
       "    </tr>\n",
       "    <tr>\n",
       "      <th>504</th>\n",
       "      <td>0.296125</td>\n",
       "      <td>NaN</td>\n",
       "      <td>NaN</td>\n",
       "    </tr>\n",
       "    <tr>\n",
       "      <th>505</th>\n",
       "      <td>0.555500</td>\n",
       "      <td>0.625</td>\n",
       "      <td>1.375</td>\n",
       "    </tr>\n",
       "    <tr>\n",
       "      <th>506</th>\n",
       "      <td>1.307750</td>\n",
       "      <td>0.375</td>\n",
       "      <td>NaN</td>\n",
       "    </tr>\n",
       "    <tr>\n",
       "      <th>507</th>\n",
       "      <td>0.479250</td>\n",
       "      <td>NaN</td>\n",
       "      <td>NaN</td>\n",
       "    </tr>\n",
       "    <tr>\n",
       "      <th>508</th>\n",
       "      <td>0.841000</td>\n",
       "      <td>NaN</td>\n",
       "      <td>NaN</td>\n",
       "    </tr>\n",
       "    <tr>\n",
       "      <th>509</th>\n",
       "      <td>0.587500</td>\n",
       "      <td>0.250</td>\n",
       "      <td>0.500</td>\n",
       "    </tr>\n",
       "    <tr>\n",
       "      <th>510</th>\n",
       "      <td>0.156750</td>\n",
       "      <td>NaN</td>\n",
       "      <td>NaN</td>\n",
       "    </tr>\n",
       "    <tr>\n",
       "      <th>511</th>\n",
       "      <td>0.476250</td>\n",
       "      <td>NaN</td>\n",
       "      <td>NaN</td>\n",
       "    </tr>\n",
       "    <tr>\n",
       "      <th>512</th>\n",
       "      <td>0.156750</td>\n",
       "      <td>NaN</td>\n",
       "      <td>NaN</td>\n",
       "    </tr>\n",
       "    <tr>\n",
       "      <th>513</th>\n",
       "      <td>0.310250</td>\n",
       "      <td>NaN</td>\n",
       "      <td>NaN</td>\n",
       "    </tr>\n",
       "    <tr>\n",
       "      <th>514</th>\n",
       "      <td>0.000178</td>\n",
       "      <td>0.125</td>\n",
       "      <td>0.250</td>\n",
       "    </tr>\n",
       "    <tr>\n",
       "      <th>515</th>\n",
       "      <td>0.280000</td>\n",
       "      <td>NaN</td>\n",
       "      <td>NaN</td>\n",
       "    </tr>\n",
       "    <tr>\n",
       "      <th>516</th>\n",
       "      <td>0.625250</td>\n",
       "      <td>NaN</td>\n",
       "      <td>NaN</td>\n",
       "    </tr>\n",
       "    <tr>\n",
       "      <th>517</th>\n",
       "      <td>0.277750</td>\n",
       "      <td>0.250</td>\n",
       "      <td>NaN</td>\n",
       "    </tr>\n",
       "    <tr>\n",
       "      <th>518</th>\n",
       "      <td>0.575000</td>\n",
       "      <td>0.250</td>\n",
       "      <td>0.625</td>\n",
       "    </tr>\n",
       "    <tr>\n",
       "      <th>519</th>\n",
       "      <td>0.571000</td>\n",
       "      <td>0.250</td>\n",
       "      <td>NaN</td>\n",
       "    </tr>\n",
       "    <tr>\n",
       "      <th>520</th>\n",
       "      <td>0.228000</td>\n",
       "      <td>0.250</td>\n",
       "      <td>NaN</td>\n",
       "    </tr>\n",
       "    <tr>\n",
       "      <th>521</th>\n",
       "      <td>0.204000</td>\n",
       "      <td>0.375</td>\n",
       "      <td>0.250</td>\n",
       "    </tr>\n",
       "    <tr>\n",
       "      <th>522</th>\n",
       "      <td>0.587500</td>\n",
       "      <td>0.250</td>\n",
       "      <td>1.000</td>\n",
       "    </tr>\n",
       "    <tr>\n",
       "      <th>523</th>\n",
       "      <td>0.368500</td>\n",
       "      <td>0.500</td>\n",
       "      <td>1.000</td>\n",
       "    </tr>\n",
       "    <tr>\n",
       "      <th>524</th>\n",
       "      <td>1.111750</td>\n",
       "      <td>NaN</td>\n",
       "      <td>NaN</td>\n",
       "    </tr>\n",
       "    <tr>\n",
       "      <th>525</th>\n",
       "      <td>0.380750</td>\n",
       "      <td>0.250</td>\n",
       "      <td>NaN</td>\n",
       "    </tr>\n",
       "    <tr>\n",
       "      <th>526</th>\n",
       "      <td>0.480750</td>\n",
       "      <td>0.250</td>\n",
       "      <td>NaN</td>\n",
       "    </tr>\n",
       "    <tr>\n",
       "      <th>527</th>\n",
       "      <td>0.603250</td>\n",
       "      <td>NaN</td>\n",
       "      <td>NaN</td>\n",
       "    </tr>\n",
       "    <tr>\n",
       "      <th>528</th>\n",
       "      <td>0.360000</td>\n",
       "      <td>0.625</td>\n",
       "      <td>NaN</td>\n",
       "    </tr>\n",
       "    <tr>\n",
       "      <th>529</th>\n",
       "      <td>0.512500</td>\n",
       "      <td>NaN</td>\n",
       "      <td>NaN</td>\n",
       "    </tr>\n",
       "    <tr>\n",
       "      <th>530</th>\n",
       "      <td>0.775000</td>\n",
       "      <td>0.250</td>\n",
       "      <td>0.500</td>\n",
       "    </tr>\n",
       "    <tr>\n",
       "      <th>531</th>\n",
       "      <td>0.204000</td>\n",
       "      <td>NaN</td>\n",
       "      <td>NaN</td>\n",
       "    </tr>\n",
       "    <tr>\n",
       "      <th>532</th>\n",
       "      <td>0.350000</td>\n",
       "      <td>0.500</td>\n",
       "      <td>0.500</td>\n",
       "    </tr>\n",
       "  </tbody>\n",
       "</table>\n",
       "<p>533 rows × 3 columns</p>\n",
       "</div>"
      ],
      "text/plain": [
       "            0      1      2\n",
       "0    0.204000    NaN    NaN\n",
       "1    0.511750  0.500  0.750\n",
       "2    0.151500    NaN    NaN\n",
       "3    0.900000  0.875  1.375\n",
       "4    0.243750    NaN    NaN\n",
       "5    0.667250    NaN    NaN\n",
       "6    0.447000    NaN    NaN\n",
       "7    0.733500  0.250    NaN\n",
       "8    0.428250  0.250  0.375\n",
       "9    0.325000  0.375  0.625\n",
       "10   0.460500  0.250    NaN\n",
       "11   0.250250    NaN    NaN\n",
       "12   0.475000  0.375  1.250\n",
       "13   0.269750    NaN    NaN\n",
       "14   0.204000  0.500  0.250\n",
       "15   0.254500    NaN    NaN\n",
       "16   0.594000  0.500    NaN\n",
       "17   0.530500  0.375    NaN\n",
       "18   0.550000  0.625  0.500\n",
       "19   0.243750    NaN    NaN\n",
       "20   0.675000  0.500  0.500\n",
       "21   0.187750    NaN    NaN\n",
       "22   0.208000    NaN    NaN\n",
       "23   0.151500    NaN    NaN\n",
       "24   0.550000  0.250  1.250\n",
       "25   0.670500  0.250  1.000\n",
       "26   0.324750  0.250  1.000\n",
       "27   0.539500    NaN    NaN\n",
       "28   0.156750    NaN    NaN\n",
       "29   0.156750    NaN    NaN\n",
       "..        ...    ...    ...\n",
       "503  0.157250    NaN    NaN\n",
       "504  0.296125    NaN    NaN\n",
       "505  0.555500  0.625  1.375\n",
       "506  1.307750  0.375    NaN\n",
       "507  0.479250    NaN    NaN\n",
       "508  0.841000    NaN    NaN\n",
       "509  0.587500  0.250  0.500\n",
       "510  0.156750    NaN    NaN\n",
       "511  0.476250    NaN    NaN\n",
       "512  0.156750    NaN    NaN\n",
       "513  0.310250    NaN    NaN\n",
       "514  0.000178  0.125  0.250\n",
       "515  0.280000    NaN    NaN\n",
       "516  0.625250    NaN    NaN\n",
       "517  0.277750  0.250    NaN\n",
       "518  0.575000  0.250  0.625\n",
       "519  0.571000  0.250    NaN\n",
       "520  0.228000  0.250    NaN\n",
       "521  0.204000  0.375  0.250\n",
       "522  0.587500  0.250  1.000\n",
       "523  0.368500  0.500  1.000\n",
       "524  1.111750    NaN    NaN\n",
       "525  0.380750  0.250    NaN\n",
       "526  0.480750  0.250    NaN\n",
       "527  0.603250    NaN    NaN\n",
       "528  0.360000  0.625    NaN\n",
       "529  0.512500    NaN    NaN\n",
       "530  0.775000  0.250  0.500\n",
       "531  0.204000    NaN    NaN\n",
       "532  0.350000  0.500  0.500\n",
       "\n",
       "[533 rows x 3 columns]"
      ]
     },
     "execution_count": 33,
     "metadata": {},
     "output_type": "execute_result"
    }
   ],
   "source": [
    "pd.DataFrame(source_static)"
   ]
  },
  {
   "cell_type": "code",
   "execution_count": 55,
   "metadata": {},
   "outputs": [
    {
     "data": {
      "text/plain": [
       "<matplotlib.legend.Legend at 0x126470510>"
      ]
     },
     "execution_count": 55,
     "metadata": {},
     "output_type": "execute_result"
    },
    {
     "data": {
      "image/png": "[encoded data removed]",
      "text/plain": [
       "<matplotlib.figure.Figure at 0x125358f10>"
      ]
     },
     "metadata": {},
     "output_type": "display_data"
    }
   ],
   "source": [
    "a  = pd.Series(dds[2014]['SanDiego'])\n",
    "a = a.div(a.max())\n",
    "b = pd.Series(T_sd[:,1])\n",
    "b = b.div(b.max())\n",
    "ax = a.plot(label='Degree Days')\n",
    "b.plot(ax=ax, label='Season Factor (S)')\n",
    "plt.legend()"
   ]
  },
  {
   "cell_type": "code",
   "execution_count": 57,
   "metadata": {},
   "outputs": [
    {
     "data": {
      "text/plain": [
       "<matplotlib.legend.Legend at 0x126470550>"
      ]
     },
     "execution_count": 57,
     "metadata": {},
     "output_type": "execute_result"
    },
    {
     "data": {
      "image/png": "[encoded data removed]",
      "text/plain": [
       "<matplotlib.figure.Figure at 0x125980fd0>"
      ]
     },
     "metadata": {},
     "output_type": "display_data"
    }
   ],
   "source": [
    "a  = pd.Series(dds[2014]['SanDiego'])\n",
    "a = a.div(a.max())\n",
    "b = pd.Series(T_au_sd[:,1])\n",
    "b = b.div(b.max())\n",
    "ax = a.plot(label='Degree Days')\n",
    "b.plot(ax=ax, label='Season Factor (S)')\n",
    "plt.legend()"
   ]
  },
  {
   "cell_type": "code",
   "execution_count": 5,
   "metadata": {
    "collapsed": true
   },
   "outputs": [],
   "source": [
    "H_sd = pickle.load(open('../predictions/H/transfer/case-2/True/True/Austin-SanDiego-0-10.0.pkl', 'r'))\n",
    "H_error_home = pickle.load(open('../predictions/H/transfer/case-2/True/True/Austin-SanDiego-0-10.0_error_home.pkl', 'r'))\n",
    "H_error = pickle.load(open('../predictions/H/transfer/case-2/True/True/Austin-SanDiego-0-10.0_error.pkl', 'r'))\n",
    "H_params = pickle.load(open('../predictions/H/transfer/case-2/True/True/Austin-SanDiego-0-10.0_params.pkl', 'r'))"
   ]
  },
  {
   "cell_type": "code",
   "execution_count": 6,
   "metadata": {},
   "outputs": [
    {
     "data": {
      "text/plain": [
       "[2, 1300, 2, 3, 0.001]"
      ]
     },
     "execution_count": 6,
     "metadata": {},
     "output_type": "execute_result"
    }
   ],
   "source": [
    "H_params[325]"
   ]
  },
  {
   "cell_type": "code",
   "execution_count": 7,
   "metadata": {
    "collapsed": true
   },
   "outputs": [],
   "source": [
    "best_show = [\n",
    "            [2, 1300, 2,3,0.001],\n",
    "            [2, 700, 2, 3, 0.001]\n",
    "]"
   ]
  },
  {
   "cell_type": "code",
   "execution_count": 13,
   "metadata": {
    "collapsed": true
   },
   "outputs": [],
   "source": [
    "import numpy as np\n",
    "import matplotlib.pyplot as plt\n",
    "%matplotlib inline\n",
    "\n",
    "from sklearn.cluster import KMeans"
   ]
  },
  {
   "cell_type": "code",
   "execution_count": 14,
   "metadata": {
    "scrolled": false
   },
   "outputs": [
    {
     "name": "stdout",
     "output_type": "stream",
     "text": [
      "[0.1, 1300, 2, 3, 0]\n",
      "9.64394298538\n",
      "~/git/task3/demo_2_1300_2_3_0.001.png\n",
      "[0.1, 1300, 2, 3, 0.001]\n",
      "10.6814626598\n",
      "~/git/task3/demo_2_700_2_3_0.001.png\n"
     ]
    },
    {
     "data": {
      "image/png": "[encoded data removed]",
      "text/plain": [
       "<matplotlib.figure.Figure at 0x11b187950>"
      ]
     },
     "metadata": {},
     "output_type": "display_data"
    },
    {
     "data": {
      "image/png": "[encoded data removed]",
      "text/plain": [
       "<matplotlib.figure.Figure at 0x11bc8c4d0>"
      ]
     },
     "metadata": {},
     "output_type": "display_data"
    }
   ],
   "source": [
    "for i in range(len(best_show)):\n",
    "# for i in range(1):\n",
    "    lr, iters, season, home, lam = best_show[i]\n",
    "    print H_params[i]\n",
    "    \n",
    "    H_sandiego = H_sd[lr][iters][season][home][lam]\n",
    "    H_austin = H_au[lr][season][home][lam][iters]\n",
    "    \n",
    "    H_sandiego = pd.DataFrame(pd.concat(H_sandiego))\n",
    "    H_sandiego = H_sandiego.values\n",
    "    \n",
    "    X = np.r_[H_austin, H_sandiego]\n",
    "    print np.max(X)\n",
    "    X = X/np.max(X)\n",
    "    y_pred = KMeans(n_clusters=7, random_state=0).fit_predict(X)\n",
    "    x1, x2 = (-np.var(X, axis=0)).argsort()[:2]\n",
    "    \n",
    "    y_sd = np.zeros(len(H_sandiego))\n",
    "    y_au = np.ones(len(H_austin))\n",
    "    y_label = np.r_[y_au, y_sd]\n",
    "    \n",
    "    home_error = H_error_home[lr][iters][season][home][lam]\n",
    "    home_error = np.around(home_error.values)    \n",
    "    \n",
    "    \n",
    "    start = len(H_austin)\n",
    "    d = np.random.randint(0, 2, size=(3,3,3))\n",
    "    z,x,y = d.nonzero()\n",
    "    import matplotlib.pyplot as plt\n",
    "    from mpl_toolkits.mplot3d import Axes3D\n",
    "    fig = plt.figure()\n",
    "    # ax = fig.add_subplot(111, projection='3d')\n",
    "    ax = fig.add_subplot(111)\n",
    "#     ax.scatter(X[:, x1], X[:, x2], c = y_label, cmap='autumn')\n",
    "    ax.scatter(X[:, x1], X[:, x2], c = y_pred, cmap='Set2')\n",
    "    ax.scatter(X[start:, x1], X[start:, x2], color='black', marker='o', facecolors='none')\n",
    "#     ax.set_color('yellow', 'red')\n",
    "    # ax.scatter(X[:, 2], X[:, 0], X[:,1], zdir='z', c= y_label)\n",
    "    \n",
    "    max_idx = (-home_error).argsort()[:10]\n",
    "    min_idx = (home_error).argsort()[:5]\n",
    "    \n",
    "    for i in max_idx:\n",
    "        ax.annotate(home_error[i], (X[i+start, x1],X[i+start, x2]))\n",
    "    for i in min_idx:\n",
    "        ax.annotate(home_error[i], (X[i+start, x1],X[i+start, x2]), color='red')\n",
    "        \n",
    "    print \"~/git/task3/demo_{}_{}_{}_{}_{}.png\".format(lr, iters, season, home, lam)\n",
    "\n",
    "    #plt.savefig(\"../results/Home_factors_{}_{}_{}_{}_{}.png\".format(lr, iters, season, home, lam))\n"
   ]
  },
  {
   "cell_type": "code",
   "execution_count": 210,
   "metadata": {},
   "outputs": [
    {
     "data": {
      "text/plain": [
       "array([3, 4])"
      ]
     },
     "execution_count": 210,
     "metadata": {},
     "output_type": "execute_result"
    }
   ],
   "source": [
    "(-np.var(X, axis=0)).argsort()[:2]"
   ]
  },
  {
   "cell_type": "code",
   "execution_count": 205,
   "metadata": {},
   "outputs": [
    {
     "data": {
      "text/plain": [
       "array([[ 0.01635801,  0.0517815 ,  0.03943585,  0.01259887,  0.03302816],\n",
       "       [ 0.07921914,  0.07894605,  0.07840301,  0.07925766,  0.07939159],\n",
       "       [ 0.02948893,  0.03248081,  0.02282549,  0.0217706 ,  0.03641466],\n",
       "       ..., \n",
       "       [ 0.05789175,  0.12478885,  0.07216465,  0.01096588,  0.15634926],\n",
       "       [ 0.05540949,  0.05265663,  0.08815022,  0.10616215,  0.02584823],\n",
       "       [ 0.01143033,  0.01786658,  0.09138949,  0.0909926 ,  0.0115726 ]])"
      ]
     },
     "execution_count": 205,
     "metadata": {},
     "output_type": "execute_result"
    }
   ],
   "source": [
    "X"
   ]
  },
  {
   "cell_type": "code",
   "execution_count": 28,
   "metadata": {},
   "outputs": [
    {
     "data": {
      "text/plain": [
       "1"
      ]
     },
     "execution_count": 28,
     "metadata": {},
     "output_type": "execute_result"
    }
   ],
   "source": [
    "np.argmin(H_sd['Error'])"
   ]
  },
  {
   "cell_type": "code",
   "execution_count": 107,
   "metadata": {
    "collapsed": true
   },
   "outputs": [],
   "source": [
    "y_pred = KMeans(n_clusters=5, random_state=0).fit_predict(X)"
   ]
  },
  {
   "cell_type": "code",
   "execution_count": 31,
   "metadata": {
    "collapsed": true
   },
   "outputs": [],
   "source": [
    "lr, iters, home, season, lam = H_sd['Learning Params'][1]"
   ]
  },
  {
   "cell_type": "code",
   "execution_count": 114,
   "metadata": {},
   "outputs": [
    {
     "data": {
      "text/plain": [
       "[0.1, 1300, 2, 3, 0.001]"
      ]
     },
     "execution_count": 114,
     "metadata": {},
     "output_type": "execute_result"
    }
   ],
   "source": [
    "H_sd['Learning Params'][1]"
   ]
  },
  {
   "cell_type": "code",
   "execution_count": 57,
   "metadata": {
    "collapsed": true
   },
   "outputs": [],
   "source": [
    "H_sandiego = H_sd['H'][lr][iters][home][season][lam]\n",
    "H_austin = H_au[lr][home][season][lam][iters]\n",
    "H_sandiego = pd.DataFrame(pd.concat(H_sandiego))\n",
    "H_sandiego = H_sandiego.values"
   ]
  },
  {
   "cell_type": "code",
   "execution_count": 105,
   "metadata": {
    "collapsed": true
   },
   "outputs": [],
   "source": [
    "X = np.r_[H_austin, H_sandiego]"
   ]
  },
  {
   "cell_type": "code",
   "execution_count": 106,
   "metadata": {},
   "outputs": [
    {
     "data": {
      "text/plain": [
       "array([[ 1.44978439,  1.85235149,  2.24196778],\n",
       "       [ 5.07829371,  5.19002611,  5.31706703],\n",
       "       [ 1.25873953,  1.91841413,  2.01917777],\n",
       "       ..., \n",
       "       [ 3.91653929,  4.54876306,  4.20064527],\n",
       "       [ 3.54303754,  2.33810825,  4.02175073],\n",
       "       [ 1.79951822,  0.7918247 ,  3.57216809]])"
      ]
     },
     "execution_count": 106,
     "metadata": {},
     "output_type": "execute_result"
    }
   ],
   "source": [
    "X"
   ]
  },
  {
   "cell_type": "code",
   "execution_count": 108,
   "metadata": {
    "collapsed": true
   },
   "outputs": [],
   "source": [
    "y_sd = np.zeros(39)\n",
    "y_au = np.ones(len(H_austin))"
   ]
  },
  {
   "cell_type": "code",
   "execution_count": 110,
   "metadata": {
    "collapsed": true
   },
   "outputs": [],
   "source": [
    "y_label = np.r_[y_au, y_sd]"
   ]
  },
  {
   "cell_type": "code",
   "execution_count": 146,
   "metadata": {
    "collapsed": true
   },
   "outputs": [],
   "source": [
    "result = pickle.load(open(os.path.expanduser('./result.pkl'), 'r'))\n",
    "result = np.around(result.values)"
   ]
  },
  {
   "cell_type": "code",
   "execution_count": 147,
   "metadata": {},
   "outputs": [
    {
     "data": {
      "text/plain": [
       "array([ 17.,  20.,  28.,  18.,  26.,  17.,  15.,  16.,  22.,  19.,  25.,\n",
       "        12.,  17.,  20.,  18.,   8.,  12.,  18.,   5.,  11.,   2.,  12.,\n",
       "        22.,  17.,  15.,   4.,  22.,  24.,  15.,  24.,  14.,  11.,  17.,\n",
       "        17.,  27.,  22.,  28.,  11.,  14.])"
      ]
     },
     "execution_count": 147,
     "metadata": {},
     "output_type": "execute_result"
    }
   ],
   "source": [
    "result"
   ]
  },
  {
   "cell_type": "code",
   "execution_count": 156,
   "metadata": {},
   "outputs": [
    {
     "data": {
      "image/png": "[encoded data removed]",
      "text/plain": [
       "<matplotlib.figure.Figure at 0x7fd36615d090>"
      ]
     },
     "metadata": {},
     "output_type": "display_data"
    }
   ],
   "source": [
    "\n",
    "start = len(H_austin)\n",
    "d = np.random.randint(0, 2, size=(3,3,3))\n",
    "z,x,y = d.nonzero()\n",
    "import matplotlib.pyplot as plt\n",
    "from mpl_toolkits.mplot3d import Axes3D\n",
    "fig = plt.figure()\n",
    "# ax = fig.add_subplot(111, projection='3d')\n",
    "ax = fig.add_subplot(111)\n",
    "ax.scatter(X[:, 1], X[:, 2], c= y_label)\n",
    "# ax.scatter(X[:, 2], X[:, 0], X[:,1], zdir='z', c= y_label)\n",
    "\n",
    "for i in range(start, start + 15):\n",
    "    ax.annotate(result[i-start], (X[i, 1],X[i, 2]))\n",
    "\n",
    "plt.savefig(\"demo.png\")"
   ]
  }
 ],
 "metadata": {
  "kernelspec": {
   "display_name": "Python 2",
   "language": "python",
   "name": "python2"
  },
  "language_info": {
   "codemirror_mode": {
    "name": "ipython",
    "version": 2
   },
   "file_extension": ".py",
   "mimetype": "text/x-python",
   "name": "python",
   "nbconvert_exporter": "python",
   "pygments_lexer": "ipython2",
   "version": "2.7.13"
  }
 },
 "nbformat": 4,
 "nbformat_minor": 2
}
