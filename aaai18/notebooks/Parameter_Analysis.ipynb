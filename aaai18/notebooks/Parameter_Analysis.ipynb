{
 "cells": [
  {
   "cell_type": "code",
   "execution_count": 64,
   "metadata": {
    "collapsed": true
   },
   "outputs": [],
   "source": [
    "import matplotlib.pyplot as plt\n",
    "import numpy as np\n",
    "import pandas as pd\n",
    "%matplotlib inline\n",
    "import pickle"
   ]
  },
  {
   "cell_type": "code",
   "execution_count": 65,
   "metadata": {
    "collapsed": true
   },
   "outputs": [],
   "source": [
    "import sys\n",
    "sys.path.append('../code/')\n",
    "\n",
    "from common import APPLIANCES_ORDER, contri"
   ]
  },
  {
   "cell_type": "code",
   "execution_count": 66,
   "metadata": {},
   "outputs": [],
   "source": [
    "out = pickle.load(open('../predictions/params-lr-tf-Austin-SanDiego-all.pkl','r'))\n",
    "iterations = {}\n",
    "home = {}\n",
    "season = {}\n",
    "lr = {}\n",
    "\n",
    "\n",
    "for train_percentage in [6,7,8,9,10,15,20,30,40,50,60,70,80,90,100]:\n",
    "    iterations[train_percentage] = {}\n",
    "    for iters in [100, 700, 1300]:\n",
    "        iterations[train_percentage][iters] = 0\n",
    "\n",
    "    home[train_percentage] = {}\n",
    "    for h in range(3,6):\n",
    "        home[train_percentage][h] = 0\n",
    "\n",
    "    season[train_percentage] = {}\n",
    "    for s in range(2,5):\n",
    "        season[train_percentage][s] = 0\n",
    "        \n",
    "    lr[train_percentage] = {}\n",
    "    for l in [0.1, 0.5, 1, 2]:\n",
    "        lr[train_percentage][l] = 0\n",
    "\n",
    "    for random_seed in range(10):\n",
    "        for loop in range(10):\n",
    "            iterations[train_percentage][out[2]['True']['False']['transfer'][train_percentage][random_seed][loop]['Iterations']] += 1\n",
    "            home[train_percentage][out[2]['True']['False']['transfer'][train_percentage][random_seed][loop]['Num home factors']] +=1\n",
    "            season[train_percentage][out[2]['True']['False']['transfer'][train_percentage][random_seed][loop]['Num season factors']] +=1\n",
    "            lr[train_percentage][out[2]['True']['False']['transfer'][train_percentage][random_seed][loop]['Learning Rate']] +=1"
   ]
  },
  {
   "cell_type": "code",
   "execution_count": 67,
   "metadata": {},
   "outputs": [],
   "source": [
    "iterations = pd.DataFrame(iterations)"
   ]
  },
  {
   "cell_type": "code",
   "execution_count": 68,
   "metadata": {},
   "outputs": [
    {
     "data": {
      "text/plain": [
       "<matplotlib.text.Text at 0x115505910>"
      ]
     },
     "execution_count": 68,
     "metadata": {},
     "output_type": "execute_result"
    },
    {
     "data": {
      "image/png": "[encoded data removed]",
      "text/plain": [
       "<matplotlib.figure.Figure at 0x1153e3450>"
      ]
     },
     "metadata": {},
     "output_type": "display_data"
    }
   ],
   "source": [
    "iterations.T.plot(kind='bar', stacked='True', title=\"Best Iterations\")\n",
    "plt.xlabel(\"%training percentage\")"
   ]
  },
  {
   "cell_type": "code",
   "execution_count": 69,
   "metadata": {},
   "outputs": [],
   "source": [
    "home = pd.DataFrame(home)"
   ]
  },
  {
   "cell_type": "code",
   "execution_count": 70,
   "metadata": {},
   "outputs": [
    {
     "data": {
      "text/plain": [
       "<matplotlib.text.Text at 0x1138f2dd0>"
      ]
     },
     "execution_count": 70,
     "metadata": {},
     "output_type": "execute_result"
    },
    {
     "data": {
      "image/png": "[encoded data removed]",
      "text/plain": [
       "<matplotlib.figure.Figure at 0x115314dd0>"
      ]
     },
     "metadata": {},
     "output_type": "display_data"
    }
   ],
   "source": [
    "home.T.plot(kind='bar', stacked='True', title=\"Best Iterations\")\n",
    "plt.xlabel(\"%training percentage\")"
   ]
  },
  {
   "cell_type": "code",
   "execution_count": 71,
   "metadata": {},
   "outputs": [],
   "source": [
    "season = pd.DataFrame(season)"
   ]
  },
  {
   "cell_type": "code",
   "execution_count": 72,
   "metadata": {},
   "outputs": [
    {
     "data": {
      "text/plain": [
       "<matplotlib.text.Text at 0x110e49350>"
      ]
     },
     "execution_count": 72,
     "metadata": {},
     "output_type": "execute_result"
    },
    {
     "data": {
      "image/png": "[encoded data removed]",
      "text/plain": [
       "<matplotlib.figure.Figure at 0x1126b1b50>"
      ]
     },
     "metadata": {},
     "output_type": "display_data"
    }
   ],
   "source": [
    "season.T.plot(kind='bar', stacked='True', title=\"Best Iterations\")\n",
    "plt.xlabel(\"%training percentage\")"
   ]
  },
  {
   "cell_type": "code",
   "execution_count": 73,
   "metadata": {},
   "outputs": [],
   "source": [
    "lr = pd.DataFrame(lr)"
   ]
  },
  {
   "cell_type": "code",
   "execution_count": 63,
   "metadata": {},
   "outputs": [
    {
     "data": {
      "text/plain": [
       "<matplotlib.text.Text at 0x115201110>"
      ]
     },
     "execution_count": 63,
     "metadata": {},
     "output_type": "execute_result"
    },
    {
     "data": {
      "image/png": "[encoded data removed]",
      "text/plain": [
       "<matplotlib.figure.Figure at 0x114cd9b90>"
      ]
     },
     "metadata": {},
     "output_type": "display_data"
    }
   ],
   "source": [
    "lr.T.plot(kind='bar', stacked='True', title=\"Best Iterations\")\n",
    "plt.xlabel(\"%training percentage\")"
   ]
  },
  {
   "cell_type": "code",
   "execution_count": null,
   "metadata": {
    "collapsed": true
   },
   "outputs": [],
   "source": []
  }
 ],
 "metadata": {
  "kernelspec": {
   "display_name": "Python 2",
   "language": "python",
   "name": "python2"
  },
  "language_info": {
   "codemirror_mode": {
    "name": "ipython",
    "version": 2
   },
   "file_extension": ".py",
   "mimetype": "text/x-python",
   "name": "python",
   "nbconvert_exporter": "python",
   "pygments_lexer": "ipython2",
   "version": "2.7.10"
  }
 },
 "nbformat": 4,
 "nbformat_minor": 2
}
