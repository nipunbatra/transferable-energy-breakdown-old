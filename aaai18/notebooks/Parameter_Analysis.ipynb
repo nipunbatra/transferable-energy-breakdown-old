{
 "cells": [
  {
   "cell_type": "code",
   "execution_count": 74,
   "metadata": {
    "collapsed": true
   },
   "outputs": [],
   "source": [
    "import matplotlib.pyplot as plt\n",
    "import numpy as np\n",
    "import pandas as pd\n",
    "%matplotlib inline\n",
    "import pickle"
   ]
  },
  {
   "cell_type": "code",
   "execution_count": 75,
   "metadata": {
    "collapsed": true
   },
   "outputs": [],
   "source": [
    "import sys\n",
    "sys.path.append('../code/')\n",
    "\n",
    "from common import APPLIANCES_ORDER, contri"
   ]
  },
  {
   "cell_type": "code",
   "execution_count": 80,
   "metadata": {},
   "outputs": [
    {
     "data": {
      "text/plain": [
       "{0: {0: {'Iterations': 700,\n",
       "   'Lambda': 0,\n",
       "   'Learning Rate': 1,\n",
       "   'Least Train Error': 7.483712072352468,\n",
       "   'Num home factors': 4,\n",
       "   'Num season factors': 4},\n",
       "  1: {'Iterations': 1300,\n",
       "   'Lambda': 0,\n",
       "   'Learning Rate': 0.5,\n",
       "   'Least Train Error': 5.616751213291431,\n",
       "   'Num home factors': 5,\n",
       "   'Num season factors': 2},\n",
       "  2: {'Iterations': 700,\n",
       "   'Lambda': 0,\n",
       "   'Learning Rate': 0.1,\n",
       "   'Least Train Error': 7.192965247096909,\n",
       "   'Num home factors': 5,\n",
       "   'Num season factors': 3},\n",
       "  3: {'Iterations': 1300,\n",
       "   'Lambda': 0,\n",
       "   'Learning Rate': 0.5,\n",
       "   'Least Train Error': 4.044077623453588,\n",
       "   'Num home factors': 3,\n",
       "   'Num season factors': 4},\n",
       "  4: {'Iterations': 100,\n",
       "   'Lambda': 0,\n",
       "   'Learning Rate': 1,\n",
       "   'Least Train Error': 16.841520852895794,\n",
       "   'Num home factors': 4,\n",
       "   'Num season factors': 2},\n",
       "  5: {'Iterations': 700,\n",
       "   'Lambda': 0,\n",
       "   'Learning Rate': 1,\n",
       "   'Least Train Error': 6.419262509234133,\n",
       "   'Num home factors': 4,\n",
       "   'Num season factors': 4},\n",
       "  6: {'Iterations': 100,\n",
       "   'Lambda': 0,\n",
       "   'Learning Rate': 1,\n",
       "   'Least Train Error': 6.625064858216492,\n",
       "   'Num home factors': 5,\n",
       "   'Num season factors': 2},\n",
       "  7: {'Iterations': 700,\n",
       "   'Lambda': 0,\n",
       "   'Learning Rate': 1,\n",
       "   'Least Train Error': 4.820629114243068,\n",
       "   'Num home factors': 5,\n",
       "   'Num season factors': 4},\n",
       "  8: {'Iterations': 1300,\n",
       "   'Lambda': 0,\n",
       "   'Learning Rate': 0.1,\n",
       "   'Least Train Error': 6.474334752154988,\n",
       "   'Num home factors': 5,\n",
       "   'Num season factors': 4},\n",
       "  9: {'Iterations': 700,\n",
       "   'Lambda': 0,\n",
       "   'Learning Rate': 0.5,\n",
       "   'Least Train Error': 6.807420949820844,\n",
       "   'Num home factors': 3,\n",
       "   'Num season factors': 4}},\n",
       " 1: {0: {'Iterations': 700,\n",
       "   'Lambda': 0,\n",
       "   'Learning Rate': 1,\n",
       "   'Least Train Error': 8.67798726866732,\n",
       "   'Num home factors': 4,\n",
       "   'Num season factors': 4},\n",
       "  1: {'Iterations': 1300,\n",
       "   'Lambda': 0,\n",
       "   'Learning Rate': 0.5,\n",
       "   'Least Train Error': 6.791253795998289,\n",
       "   'Num home factors': 4,\n",
       "   'Num season factors': 2},\n",
       "  2: {'Iterations': 100,\n",
       "   'Lambda': 0,\n",
       "   'Learning Rate': 0.5,\n",
       "   'Least Train Error': 14.929252567633903,\n",
       "   'Num home factors': 5,\n",
       "   'Num season factors': 2},\n",
       "  3: {'Iterations': 1300,\n",
       "   'Lambda': 0,\n",
       "   'Learning Rate': 1,\n",
       "   'Least Train Error': 8.909987531982713,\n",
       "   'Num home factors': 4,\n",
       "   'Num season factors': 4},\n",
       "  4: {'Iterations': 700,\n",
       "   'Lambda': 0,\n",
       "   'Learning Rate': 0.5,\n",
       "   'Least Train Error': 9.320663956412188,\n",
       "   'Num home factors': 3,\n",
       "   'Num season factors': 2},\n",
       "  5: {'Iterations': 100,\n",
       "   'Lambda': 0,\n",
       "   'Learning Rate': 0.5,\n",
       "   'Least Train Error': 2.284019893873185,\n",
       "   'Num home factors': 4,\n",
       "   'Num season factors': 4},\n",
       "  6: {'Iterations': 100,\n",
       "   'Lambda': 0,\n",
       "   'Learning Rate': 0.1,\n",
       "   'Least Train Error': 8.89681330418933,\n",
       "   'Num home factors': 3,\n",
       "   'Num season factors': 2},\n",
       "  7: {'Iterations': 1300,\n",
       "   'Lambda': 0,\n",
       "   'Learning Rate': 0.1,\n",
       "   'Least Train Error': 7.935516868996047,\n",
       "   'Num home factors': 5,\n",
       "   'Num season factors': 3},\n",
       "  8: {'Iterations': 700,\n",
       "   'Lambda': 0,\n",
       "   'Learning Rate': 1,\n",
       "   'Least Train Error': 5.353784587853374,\n",
       "   'Num home factors': 3,\n",
       "   'Num season factors': 4},\n",
       "  9: {'Iterations': 100,\n",
       "   'Lambda': 0,\n",
       "   'Learning Rate': 0.5,\n",
       "   'Least Train Error': 2.284019893873185,\n",
       "   'Num home factors': 4,\n",
       "   'Num season factors': 4}},\n",
       " 2: {0: {'Iterations': 1300,\n",
       "   'Lambda': 0,\n",
       "   'Learning Rate': 0.5,\n",
       "   'Least Train Error': 3.151017442739061,\n",
       "   'Num home factors': 5,\n",
       "   'Num season factors': 4},\n",
       "  1: {'Iterations': 100,\n",
       "   'Lambda': 0,\n",
       "   'Learning Rate': 1,\n",
       "   'Least Train Error': 5.409503052297528,\n",
       "   'Num home factors': 5,\n",
       "   'Num season factors': 3},\n",
       "  2: {'Iterations': 1300,\n",
       "   'Lambda': 0,\n",
       "   'Learning Rate': 1,\n",
       "   'Least Train Error': 4.777508586169314,\n",
       "   'Num home factors': 3,\n",
       "   'Num season factors': 2},\n",
       "  3: {'Iterations': 1300,\n",
       "   'Lambda': 0,\n",
       "   'Learning Rate': 1,\n",
       "   'Least Train Error': 7.3600918428612845,\n",
       "   'Num home factors': 3,\n",
       "   'Num season factors': 4},\n",
       "  4: {'Iterations': 1300,\n",
       "   'Lambda': 0,\n",
       "   'Learning Rate': 1,\n",
       "   'Least Train Error': 6.488336803265852,\n",
       "   'Num home factors': 5,\n",
       "   'Num season factors': 3},\n",
       "  5: {'Iterations': 1300,\n",
       "   'Lambda': 0,\n",
       "   'Learning Rate': 0.5,\n",
       "   'Least Train Error': 1.0687618647844819,\n",
       "   'Num home factors': 5,\n",
       "   'Num season factors': 3},\n",
       "  6: {'Iterations': 1300,\n",
       "   'Lambda': 0,\n",
       "   'Learning Rate': 1,\n",
       "   'Least Train Error': 5.065503111526797,\n",
       "   'Num home factors': 4,\n",
       "   'Num season factors': 2},\n",
       "  7: {'Iterations': 1300,\n",
       "   'Lambda': 0,\n",
       "   'Learning Rate': 0.5,\n",
       "   'Least Train Error': 2.8637794651891944,\n",
       "   'Num home factors': 3,\n",
       "   'Num season factors': 2},\n",
       "  8: {'Iterations': 1300,\n",
       "   'Lambda': 0,\n",
       "   'Learning Rate': 1,\n",
       "   'Least Train Error': 1.1984519045495945,\n",
       "   'Num home factors': 4,\n",
       "   'Num season factors': 3},\n",
       "  9: {'Iterations': 700,\n",
       "   'Lambda': 0,\n",
       "   'Learning Rate': 1,\n",
       "   'Least Train Error': 11.491335305597058,\n",
       "   'Num home factors': 4,\n",
       "   'Num season factors': 4}},\n",
       " 3: {0: {'Iterations': 100,\n",
       "   'Lambda': 0,\n",
       "   'Learning Rate': 1,\n",
       "   'Least Train Error': 4.618366657805256,\n",
       "   'Num home factors': 5,\n",
       "   'Num season factors': 3},\n",
       "  1: {'Iterations': 1300,\n",
       "   'Lambda': 0,\n",
       "   'Learning Rate': 1,\n",
       "   'Least Train Error': 5.008832167001169,\n",
       "   'Num home factors': 4,\n",
       "   'Num season factors': 2},\n",
       "  2: {'Iterations': 700,\n",
       "   'Lambda': 0,\n",
       "   'Learning Rate': 0.5,\n",
       "   'Least Train Error': 5.286134939317065,\n",
       "   'Num home factors': 5,\n",
       "   'Num season factors': 4},\n",
       "  3: {'Iterations': 700,\n",
       "   'Lambda': 0,\n",
       "   'Learning Rate': 1,\n",
       "   'Least Train Error': 5.0315441735022794,\n",
       "   'Num home factors': 4,\n",
       "   'Num season factors': 4},\n",
       "  4: {'Iterations': 100,\n",
       "   'Lambda': 0,\n",
       "   'Learning Rate': 1,\n",
       "   'Least Train Error': 5.467810995906658,\n",
       "   'Num home factors': 5,\n",
       "   'Num season factors': 3},\n",
       "  5: {'Iterations': 1300,\n",
       "   'Lambda': 0,\n",
       "   'Learning Rate': 0.1,\n",
       "   'Least Train Error': 6.2437790251576795,\n",
       "   'Num home factors': 5,\n",
       "   'Num season factors': 3},\n",
       "  6: {'Iterations': 1300,\n",
       "   'Lambda': 0,\n",
       "   'Learning Rate': 1,\n",
       "   'Least Train Error': 3.7295522180321363,\n",
       "   'Num home factors': 3,\n",
       "   'Num season factors': 4},\n",
       "  7: {'Iterations': 700,\n",
       "   'Lambda': 0,\n",
       "   'Learning Rate': 0.1,\n",
       "   'Least Train Error': 12.158982944411285,\n",
       "   'Num home factors': 3,\n",
       "   'Num season factors': 2},\n",
       "  8: {'Iterations': 1300,\n",
       "   'Lambda': 0,\n",
       "   'Learning Rate': 0.5,\n",
       "   'Least Train Error': 4.690758173758258,\n",
       "   'Num home factors': 3,\n",
       "   'Num season factors': 2},\n",
       "  9: {'Iterations': 1300,\n",
       "   'Lambda': 0,\n",
       "   'Learning Rate': 0.1,\n",
       "   'Least Train Error': 5.6533090169444895,\n",
       "   'Num home factors': 4,\n",
       "   'Num season factors': 3}},\n",
       " 4: {0: {'Iterations': 1300,\n",
       "   'Lambda': 0,\n",
       "   'Learning Rate': 0.1,\n",
       "   'Least Train Error': 0,\n",
       "   'Num home factors': 3,\n",
       "   'Num season factors': 2},\n",
       "  1: {'Iterations': 1300,\n",
       "   'Lambda': 0,\n",
       "   'Learning Rate': 0.5,\n",
       "   'Least Train Error': 0.14949768593389273,\n",
       "   'Num home factors': 3,\n",
       "   'Num season factors': 2},\n",
       "  2: {'Iterations': 1300,\n",
       "   'Lambda': 0,\n",
       "   'Learning Rate': 1,\n",
       "   'Least Train Error': 7.074062014949876,\n",
       "   'Num home factors': 5,\n",
       "   'Num season factors': 3},\n",
       "  3: {'Iterations': 1300,\n",
       "   'Lambda': 0,\n",
       "   'Learning Rate': 0.1,\n",
       "   'Least Train Error': 4.31580188170921,\n",
       "   'Num home factors': 4,\n",
       "   'Num season factors': 4},\n",
       "  4: {'Iterations': 700,\n",
       "   'Lambda': 0,\n",
       "   'Learning Rate': 1,\n",
       "   'Least Train Error': 4.263262980168179,\n",
       "   'Num home factors': 3,\n",
       "   'Num season factors': 3},\n",
       "  5: {'Iterations': 700,\n",
       "   'Lambda': 0,\n",
       "   'Learning Rate': 1,\n",
       "   'Least Train Error': 8.877975028023947,\n",
       "   'Num home factors': 5,\n",
       "   'Num season factors': 4},\n",
       "  6: {'Iterations': 700,\n",
       "   'Lambda': 0,\n",
       "   'Learning Rate': 1,\n",
       "   'Least Train Error': 7.344915220552168,\n",
       "   'Num home factors': 4,\n",
       "   'Num season factors': 4},\n",
       "  7: {'Iterations': 100,\n",
       "   'Lambda': 0,\n",
       "   'Learning Rate': 0.1,\n",
       "   'Least Train Error': 14.323888512203103,\n",
       "   'Num home factors': 3,\n",
       "   'Num season factors': 4},\n",
       "  8: {'Iterations': 700,\n",
       "   'Lambda': 0,\n",
       "   'Learning Rate': 1,\n",
       "   'Least Train Error': 8.753369072960894,\n",
       "   'Num home factors': 5,\n",
       "   'Num season factors': 3},\n",
       "  9: {'Iterations': 1300,\n",
       "   'Lambda': 0,\n",
       "   'Learning Rate': 0.5,\n",
       "   'Least Train Error': 14.31417385691052,\n",
       "   'Num home factors': 4,\n",
       "   'Num season factors': 4}}}"
      ]
     },
     "execution_count": 80,
     "metadata": {},
     "output_type": "execute_result"
    }
   ],
   "source": [
    "out[stot][2]['True']['False'][method][train_percentage]"
   ]
  },
  {
   "cell_type": "code",
   "execution_count": 103,
   "metadata": {},
   "outputs": [],
   "source": [
    "out = {'Austin-to-SanDiego' :pickle.load(open('../predictions/params-lr-tf-Austin-SanDiego-all.pkl','r')),\n",
    "       'SanDiego-to-Austin':pickle.load(open('../predictions/params-lr-tf-SanDiego-Austin-all.pkl','r'))}\n",
    "iterations = {}\n",
    "home = {}\n",
    "season = {}\n",
    "lr = {}\n",
    "       \n",
    "for stot in ['Austin-to-SanDiego', 'SanDiego-to-Austin']:\n",
    "        iterations[stot] = {}\n",
    "        home[stot] = {}\n",
    "        season[stot] = {}\n",
    "        lr[stot] = {}\n",
    "        for method in ['transfer', 'normal']:\n",
    "            iterations[stot][method] = {}\n",
    "            home[stot][method] = {}\n",
    "            season[stot][method] = {}\n",
    "            lr[stot][method] = {}\n",
    "\n",
    "\n",
    "            for train_percentage in [6,7,8,9,10,15,20,30,40,50,60,70,80,90,100]:\n",
    "                iterations[stot][method][train_percentage] = {}\n",
    "                for iters in [100, 700, 1300]:\n",
    "                    iterations[stot][method][train_percentage][iters] = 0\n",
    "\n",
    "                home[stot][method][train_percentage] = {}\n",
    "                for h in range(3,6):\n",
    "                    home[stot][method][train_percentage][h] = 0\n",
    "\n",
    "                season[stot][method][train_percentage] = {}\n",
    "                for s in range(2,5):\n",
    "                    season[stot][method][train_percentage][s] = 0\n",
    "\n",
    "                lr[stot][method][train_percentage] = {}\n",
    "                for l in [0.1, 0.5, 1, 2]:\n",
    "                    lr[stot][method][train_percentage][l] = 0\n",
    "\n",
    "                for random_seed in range(5):\n",
    "                    for loop in range(10):\n",
    "                        iterations[stot][method][train_percentage][out[stot][2]['True']['False'][method][train_percentage][random_seed][loop]['Iterations']] += 1\n",
    "                        home[stot][method][train_percentage][out[stot][2]['True']['False'][method][train_percentage][random_seed][loop]['Num home factors']] +=1\n",
    "                        season[stot][method][train_percentage][out[stot][2]['True']['False'][method][train_percentage][random_seed][loop]['Num season factors']] +=1\n",
    "                        lr[stot][method][train_percentage][out[stot][2]['True']['False'][method][train_percentage][random_seed][loop]['Learning Rate']] +=1"
   ]
  },
  {
   "cell_type": "code",
   "execution_count": 98,
   "metadata": {},
   "outputs": [
    {
     "data": {
      "text/html": [
       "<div>\n",
       "<style>\n",
       "    .dataframe thead tr:only-child th {\n",
       "        text-align: right;\n",
       "    }\n",
       "\n",
       "    .dataframe thead th {\n",
       "        text-align: left;\n",
       "    }\n",
       "\n",
       "    .dataframe tbody tr th {\n",
       "        vertical-align: top;\n",
       "    }\n",
       "</style>\n",
       "<table border=\"1\" class=\"dataframe\">\n",
       "  <thead>\n",
       "    <tr style=\"text-align: right;\">\n",
       "      <th></th>\n",
       "      <th>6</th>\n",
       "      <th>7</th>\n",
       "      <th>8</th>\n",
       "      <th>9</th>\n",
       "      <th>10</th>\n",
       "      <th>15</th>\n",
       "      <th>20</th>\n",
       "      <th>30</th>\n",
       "      <th>40</th>\n",
       "      <th>50</th>\n",
       "      <th>60</th>\n",
       "      <th>70</th>\n",
       "      <th>80</th>\n",
       "      <th>90</th>\n",
       "      <th>100</th>\n",
       "    </tr>\n",
       "  </thead>\n",
       "  <tbody>\n",
       "    <tr>\n",
       "      <th>100</th>\n",
       "      <td>18</td>\n",
       "      <td>18</td>\n",
       "      <td>18</td>\n",
       "      <td>10</td>\n",
       "      <td>10</td>\n",
       "      <td>13</td>\n",
       "      <td>14</td>\n",
       "      <td>8</td>\n",
       "      <td>11</td>\n",
       "      <td>5</td>\n",
       "      <td>12</td>\n",
       "      <td>15</td>\n",
       "      <td>14</td>\n",
       "      <td>17</td>\n",
       "      <td>25</td>\n",
       "    </tr>\n",
       "    <tr>\n",
       "      <th>700</th>\n",
       "      <td>12</td>\n",
       "      <td>12</td>\n",
       "      <td>12</td>\n",
       "      <td>15</td>\n",
       "      <td>15</td>\n",
       "      <td>18</td>\n",
       "      <td>15</td>\n",
       "      <td>20</td>\n",
       "      <td>15</td>\n",
       "      <td>19</td>\n",
       "      <td>18</td>\n",
       "      <td>12</td>\n",
       "      <td>23</td>\n",
       "      <td>17</td>\n",
       "      <td>16</td>\n",
       "    </tr>\n",
       "    <tr>\n",
       "      <th>1300</th>\n",
       "      <td>20</td>\n",
       "      <td>20</td>\n",
       "      <td>20</td>\n",
       "      <td>25</td>\n",
       "      <td>25</td>\n",
       "      <td>19</td>\n",
       "      <td>21</td>\n",
       "      <td>22</td>\n",
       "      <td>24</td>\n",
       "      <td>26</td>\n",
       "      <td>20</td>\n",
       "      <td>23</td>\n",
       "      <td>13</td>\n",
       "      <td>16</td>\n",
       "      <td>9</td>\n",
       "    </tr>\n",
       "  </tbody>\n",
       "</table>\n",
       "</div>"
      ],
      "text/plain": [
       "      6    7    8    9    10   15   20   30   40   50   60   70   80   90   \\\n",
       "100    18   18   18   10   10   13   14    8   11    5   12   15   14   17   \n",
       "700    12   12   12   15   15   18   15   20   15   19   18   12   23   17   \n",
       "1300   20   20   20   25   25   19   21   22   24   26   20   23   13   16   \n",
       "\n",
       "      100  \n",
       "100    25  \n",
       "700    16  \n",
       "1300    9  "
      ]
     },
     "execution_count": 98,
     "metadata": {},
     "output_type": "execute_result"
    }
   ],
   "source": [
    "iterations = pd.DataFrame(iterations[stot][method])\n",
    "iterations"
   ]
  },
  {
   "cell_type": "code",
   "execution_count": 102,
   "metadata": {},
   "outputs": [
    {
     "data": {
      "text/plain": [
       "<matplotlib.axes.AxesSubplot at 0x11753a750>"
      ]
     },
     "execution_count": 102,
     "metadata": {},
     "output_type": "execute_result"
    },
    {
     "data": {
      "image/png": "[encoded data removed]",
      "text/plain": [
       "<matplotlib.figure.Figure at 0x1172e0690>"
      ]
     },
     "metadata": {},
     "output_type": "display_data"
    }
   ],
   "source": [
    "iterations.T.plot(kind = 'bar', stacked = 'True')"
   ]
  },
  {
   "cell_type": "code",
   "execution_count": 95,
   "metadata": {},
   "outputs": [
    {
     "data": {
      "text/plain": [
       "<matplotlib.text.Text at 0x116e9e490>"
      ]
     },
     "execution_count": 95,
     "metadata": {},
     "output_type": "execute_result"
    },
    {
     "ename": "RuntimeError",
     "evalue": "LaTeX was not able to process the following string:\n'%training percentage'\nHere is the full report generated by LaTeX: \n\nThis is pdfTeX, Version 3.14159265-2.6-1.40.16 (TeX Live 2015) (preloaded format=latex)\n restricted \\write18 enabled.\nentering extended mode\n(./2b39eb83d5508ca9a1a8288fa6fc762f.tex\nLaTeX2e <2015/01/01>\nBabel <3.9l> and hyphenation patterns for 79 languages loaded.\n(/usr/local/texlive/2015/texmf-dist/tex/latex/base/article.cls\nDocument Class: article 2014/09/29 v1.4h Standard LaTeX document class\n(/usr/local/texlive/2015/texmf-dist/tex/latex/base/size10.clo))\n(/usr/local/texlive/2015/texmf-dist/tex/latex/type1cm/type1cm.sty)\n(/usr/local/texlive/2015/texmf-dist/tex/latex/psnfss/helvet.sty\n(/usr/local/texlive/2015/texmf-dist/tex/latex/graphics/keyval.sty))\n(/usr/local/texlive/2015/texmf-dist/tex/latex/psnfss/courier.sty)\n(/usr/local/texlive/2015/texmf-dist/tex/latex/base/textcomp.sty\n(/usr/local/texlive/2015/texmf-dist/tex/latex/base/ts1enc.def))\n(/usr/local/texlive/2015/texmf-dist/tex/latex/was/gensymb.sty)\n(/usr/local/texlive/2015/texmf-dist/tex/latex/geometry/geometry.sty\n(/usr/local/texlive/2015/texmf-dist/tex/generic/oberdiek/ifpdf.sty)\n(/usr/local/texlive/2015/texmf-dist/tex/generic/oberdiek/ifvtex.sty)\n(/usr/local/texlive/2015/texmf-dist/tex/generic/ifxetex/ifxetex.sty)\n\nPackage geometry Warning: Over-specification in `h'-direction.\n    `width' (5058.9pt) is ignored.\n\n\nPackage geometry Warning: Over-specification in `v'-direction.\n    `height' (5058.9pt) is ignored.\n\n) (./2b39eb83d5508ca9a1a8288fa6fc762f.aux)\n(/usr/local/texlive/2015/texmf-dist/tex/latex/base/ts1cmr.fd)\n(/usr/local/texlive/2015/texmf-dist/tex/latex/psnfss/ot1pnc.fd)\n*geometry* driver: auto-detecting\n*geometry* detected driver: dvips\n(./2b39eb83d5508ca9a1a8288fa6fc762f.aux) )\n(\\end occurred inside a group at level 1)\n\n### simple group (level 1) entered at line 12 ({)\n### bottom level\nNo pages of output.\nTranscript written on 2b39eb83d5508ca9a1a8288fa6fc762f.log.\n",
     "output_type": "error",
     "traceback": [
      "\u001b[0;31m---------------------------------------------------------------------------\u001b[0m",
      "\u001b[0;31mRuntimeError\u001b[0m                              Traceback (most recent call last)",
      "\u001b[0;32m/Library/Python/2.7/site-packages/IPython/core/formatters.pyc\u001b[0m in \u001b[0;36m__call__\u001b[0;34m(self, obj)\u001b[0m\n\u001b[1;32m    305\u001b[0m                 \u001b[0;32mpass\u001b[0m\u001b[0;34m\u001b[0m\u001b[0m\n\u001b[1;32m    306\u001b[0m             \u001b[0;32melse\u001b[0m\u001b[0;34m:\u001b[0m\u001b[0;34m\u001b[0m\u001b[0m\n\u001b[0;32m--> 307\u001b[0;31m                 \u001b[0;32mreturn\u001b[0m \u001b[0mprinter\u001b[0m\u001b[0;34m(\u001b[0m\u001b[0mobj\u001b[0m\u001b[0;34m)\u001b[0m\u001b[0;34m\u001b[0m\u001b[0m\n\u001b[0m\u001b[1;32m    308\u001b[0m             \u001b[0;31m# Finally look for special method names\u001b[0m\u001b[0;34m\u001b[0m\u001b[0;34m\u001b[0m\u001b[0m\n\u001b[1;32m    309\u001b[0m             \u001b[0mmethod\u001b[0m \u001b[0;34m=\u001b[0m \u001b[0mget_real_method\u001b[0m\u001b[0;34m(\u001b[0m\u001b[0mobj\u001b[0m\u001b[0;34m,\u001b[0m \u001b[0mself\u001b[0m\u001b[0;34m.\u001b[0m\u001b[0mprint_method\u001b[0m\u001b[0;34m)\u001b[0m\u001b[0;34m\u001b[0m\u001b[0m\n",
      "\u001b[0;32m/Library/Python/2.7/site-packages/IPython/core/pylabtools.pyc\u001b[0m in \u001b[0;36m<lambda>\u001b[0;34m(fig)\u001b[0m\n\u001b[1;32m    238\u001b[0m \u001b[0;34m\u001b[0m\u001b[0m\n\u001b[1;32m    239\u001b[0m     \u001b[0;32mif\u001b[0m \u001b[0;34m'png'\u001b[0m \u001b[0;32min\u001b[0m \u001b[0mformats\u001b[0m\u001b[0;34m:\u001b[0m\u001b[0;34m\u001b[0m\u001b[0m\n\u001b[0;32m--> 240\u001b[0;31m         \u001b[0mpng_formatter\u001b[0m\u001b[0;34m.\u001b[0m\u001b[0mfor_type\u001b[0m\u001b[0;34m(\u001b[0m\u001b[0mFigure\u001b[0m\u001b[0;34m,\u001b[0m \u001b[0;32mlambda\u001b[0m \u001b[0mfig\u001b[0m\u001b[0;34m:\u001b[0m \u001b[0mprint_figure\u001b[0m\u001b[0;34m(\u001b[0m\u001b[0mfig\u001b[0m\u001b[0;34m,\u001b[0m \u001b[0;34m'png'\u001b[0m\u001b[0;34m,\u001b[0m \u001b[0;34m**\u001b[0m\u001b[0mkwargs\u001b[0m\u001b[0;34m)\u001b[0m\u001b[0;34m)\u001b[0m\u001b[0;34m\u001b[0m\u001b[0m\n\u001b[0m\u001b[1;32m    241\u001b[0m     \u001b[0;32mif\u001b[0m \u001b[0;34m'retina'\u001b[0m \u001b[0;32min\u001b[0m \u001b[0mformats\u001b[0m \u001b[0;32mor\u001b[0m \u001b[0;34m'png2x'\u001b[0m \u001b[0;32min\u001b[0m \u001b[0mformats\u001b[0m\u001b[0;34m:\u001b[0m\u001b[0;34m\u001b[0m\u001b[0m\n\u001b[1;32m    242\u001b[0m         \u001b[0mpng_formatter\u001b[0m\u001b[0;34m.\u001b[0m\u001b[0mfor_type\u001b[0m\u001b[0;34m(\u001b[0m\u001b[0mFigure\u001b[0m\u001b[0;34m,\u001b[0m \u001b[0;32mlambda\u001b[0m \u001b[0mfig\u001b[0m\u001b[0;34m:\u001b[0m \u001b[0mretina_figure\u001b[0m\u001b[0;34m(\u001b[0m\u001b[0mfig\u001b[0m\u001b[0;34m,\u001b[0m \u001b[0;34m**\u001b[0m\u001b[0mkwargs\u001b[0m\u001b[0;34m)\u001b[0m\u001b[0;34m)\u001b[0m\u001b[0;34m\u001b[0m\u001b[0m\n",
      "\u001b[0;32m/Library/Python/2.7/site-packages/IPython/core/pylabtools.pyc\u001b[0m in \u001b[0;36mprint_figure\u001b[0;34m(fig, fmt, bbox_inches, **kwargs)\u001b[0m\n\u001b[1;32m    122\u001b[0m \u001b[0;34m\u001b[0m\u001b[0m\n\u001b[1;32m    123\u001b[0m     \u001b[0mbytes_io\u001b[0m \u001b[0;34m=\u001b[0m \u001b[0mBytesIO\u001b[0m\u001b[0;34m(\u001b[0m\u001b[0;34m)\u001b[0m\u001b[0;34m\u001b[0m\u001b[0m\n\u001b[0;32m--> 124\u001b[0;31m     \u001b[0mfig\u001b[0m\u001b[0;34m.\u001b[0m\u001b[0mcanvas\u001b[0m\u001b[0;34m.\u001b[0m\u001b[0mprint_figure\u001b[0m\u001b[0;34m(\u001b[0m\u001b[0mbytes_io\u001b[0m\u001b[0;34m,\u001b[0m \u001b[0;34m**\u001b[0m\u001b[0mkw\u001b[0m\u001b[0;34m)\u001b[0m\u001b[0;34m\u001b[0m\u001b[0m\n\u001b[0m\u001b[1;32m    125\u001b[0m     \u001b[0mdata\u001b[0m \u001b[0;34m=\u001b[0m \u001b[0mbytes_io\u001b[0m\u001b[0;34m.\u001b[0m\u001b[0mgetvalue\u001b[0m\u001b[0;34m(\u001b[0m\u001b[0;34m)\u001b[0m\u001b[0;34m\u001b[0m\u001b[0m\n\u001b[1;32m    126\u001b[0m     \u001b[0;32mif\u001b[0m \u001b[0mfmt\u001b[0m \u001b[0;34m==\u001b[0m \u001b[0;34m'svg'\u001b[0m\u001b[0;34m:\u001b[0m\u001b[0;34m\u001b[0m\u001b[0m\n",
      "\u001b[0;32m/System/Library/Frameworks/Python.framework/Versions/2.7/Extras/lib/python/matplotlib/backend_bases.pyc\u001b[0m in \u001b[0;36mprint_figure\u001b[0;34m(self, filename, dpi, facecolor, edgecolor, orientation, format, **kwargs)\u001b[0m\n\u001b[1;32m   2165\u001b[0m                     \u001b[0morientation\u001b[0m\u001b[0;34m=\u001b[0m\u001b[0morientation\u001b[0m\u001b[0;34m,\u001b[0m\u001b[0;34m\u001b[0m\u001b[0m\n\u001b[1;32m   2166\u001b[0m                     \u001b[0mdryrun\u001b[0m\u001b[0;34m=\u001b[0m\u001b[0mTrue\u001b[0m\u001b[0;34m,\u001b[0m\u001b[0;34m\u001b[0m\u001b[0m\n\u001b[0;32m-> 2167\u001b[0;31m                     **kwargs)\n\u001b[0m\u001b[1;32m   2168\u001b[0m                 \u001b[0mrenderer\u001b[0m \u001b[0;34m=\u001b[0m \u001b[0mself\u001b[0m\u001b[0;34m.\u001b[0m\u001b[0mfigure\u001b[0m\u001b[0;34m.\u001b[0m\u001b[0m_cachedRenderer\u001b[0m\u001b[0;34m\u001b[0m\u001b[0m\n\u001b[1;32m   2169\u001b[0m                 \u001b[0mbbox_inches\u001b[0m \u001b[0;34m=\u001b[0m \u001b[0mself\u001b[0m\u001b[0;34m.\u001b[0m\u001b[0mfigure\u001b[0m\u001b[0;34m.\u001b[0m\u001b[0mget_tightbbox\u001b[0m\u001b[0;34m(\u001b[0m\u001b[0mrenderer\u001b[0m\u001b[0;34m)\u001b[0m\u001b[0;34m\u001b[0m\u001b[0m\n",
      "\u001b[0;32m/System/Library/Frameworks/Python.framework/Versions/2.7/Extras/lib/python/matplotlib/backends/backend_agg.pyc\u001b[0m in \u001b[0;36mprint_png\u001b[0;34m(self, filename_or_obj, *args, **kwargs)\u001b[0m\n\u001b[1;32m    503\u001b[0m \u001b[0;34m\u001b[0m\u001b[0m\n\u001b[1;32m    504\u001b[0m     \u001b[0;32mdef\u001b[0m \u001b[0mprint_png\u001b[0m\u001b[0;34m(\u001b[0m\u001b[0mself\u001b[0m\u001b[0;34m,\u001b[0m \u001b[0mfilename_or_obj\u001b[0m\u001b[0;34m,\u001b[0m \u001b[0;34m*\u001b[0m\u001b[0margs\u001b[0m\u001b[0;34m,\u001b[0m \u001b[0;34m**\u001b[0m\u001b[0mkwargs\u001b[0m\u001b[0;34m)\u001b[0m\u001b[0;34m:\u001b[0m\u001b[0;34m\u001b[0m\u001b[0m\n\u001b[0;32m--> 505\u001b[0;31m         \u001b[0mFigureCanvasAgg\u001b[0m\u001b[0;34m.\u001b[0m\u001b[0mdraw\u001b[0m\u001b[0;34m(\u001b[0m\u001b[0mself\u001b[0m\u001b[0;34m)\u001b[0m\u001b[0;34m\u001b[0m\u001b[0m\n\u001b[0m\u001b[1;32m    506\u001b[0m         \u001b[0mrenderer\u001b[0m \u001b[0;34m=\u001b[0m \u001b[0mself\u001b[0m\u001b[0;34m.\u001b[0m\u001b[0mget_renderer\u001b[0m\u001b[0;34m(\u001b[0m\u001b[0;34m)\u001b[0m\u001b[0;34m\u001b[0m\u001b[0m\n\u001b[1;32m    507\u001b[0m         \u001b[0moriginal_dpi\u001b[0m \u001b[0;34m=\u001b[0m \u001b[0mrenderer\u001b[0m\u001b[0;34m.\u001b[0m\u001b[0mdpi\u001b[0m\u001b[0;34m\u001b[0m\u001b[0m\n",
      "\u001b[0;32m/System/Library/Frameworks/Python.framework/Versions/2.7/Extras/lib/python/matplotlib/backends/backend_agg.pyc\u001b[0m in \u001b[0;36mdraw\u001b[0;34m(self)\u001b[0m\n\u001b[1;32m    449\u001b[0m \u001b[0;34m\u001b[0m\u001b[0m\n\u001b[1;32m    450\u001b[0m         \u001b[0;32mtry\u001b[0m\u001b[0;34m:\u001b[0m\u001b[0;34m\u001b[0m\u001b[0m\n\u001b[0;32m--> 451\u001b[0;31m             \u001b[0mself\u001b[0m\u001b[0;34m.\u001b[0m\u001b[0mfigure\u001b[0m\u001b[0;34m.\u001b[0m\u001b[0mdraw\u001b[0m\u001b[0;34m(\u001b[0m\u001b[0mself\u001b[0m\u001b[0;34m.\u001b[0m\u001b[0mrenderer\u001b[0m\u001b[0;34m)\u001b[0m\u001b[0;34m\u001b[0m\u001b[0m\n\u001b[0m\u001b[1;32m    452\u001b[0m         \u001b[0;32mfinally\u001b[0m\u001b[0;34m:\u001b[0m\u001b[0;34m\u001b[0m\u001b[0m\n\u001b[1;32m    453\u001b[0m             \u001b[0mRendererAgg\u001b[0m\u001b[0;34m.\u001b[0m\u001b[0mlock\u001b[0m\u001b[0;34m.\u001b[0m\u001b[0mrelease\u001b[0m\u001b[0;34m(\u001b[0m\u001b[0;34m)\u001b[0m\u001b[0;34m\u001b[0m\u001b[0m\n",
      "\u001b[0;32m/System/Library/Frameworks/Python.framework/Versions/2.7/Extras/lib/python/matplotlib/artist.pyc\u001b[0m in \u001b[0;36mdraw_wrapper\u001b[0;34m(artist, renderer, *args, **kwargs)\u001b[0m\n\u001b[1;32m     53\u001b[0m     \u001b[0;32mdef\u001b[0m \u001b[0mdraw_wrapper\u001b[0m\u001b[0;34m(\u001b[0m\u001b[0martist\u001b[0m\u001b[0;34m,\u001b[0m \u001b[0mrenderer\u001b[0m\u001b[0;34m,\u001b[0m \u001b[0;34m*\u001b[0m\u001b[0margs\u001b[0m\u001b[0;34m,\u001b[0m \u001b[0;34m**\u001b[0m\u001b[0mkwargs\u001b[0m\u001b[0;34m)\u001b[0m\u001b[0;34m:\u001b[0m\u001b[0;34m\u001b[0m\u001b[0m\n\u001b[1;32m     54\u001b[0m         \u001b[0mbefore\u001b[0m\u001b[0;34m(\u001b[0m\u001b[0martist\u001b[0m\u001b[0;34m,\u001b[0m \u001b[0mrenderer\u001b[0m\u001b[0;34m)\u001b[0m\u001b[0;34m\u001b[0m\u001b[0m\n\u001b[0;32m---> 55\u001b[0;31m         \u001b[0mdraw\u001b[0m\u001b[0;34m(\u001b[0m\u001b[0martist\u001b[0m\u001b[0;34m,\u001b[0m \u001b[0mrenderer\u001b[0m\u001b[0;34m,\u001b[0m \u001b[0;34m*\u001b[0m\u001b[0margs\u001b[0m\u001b[0;34m,\u001b[0m \u001b[0;34m**\u001b[0m\u001b[0mkwargs\u001b[0m\u001b[0;34m)\u001b[0m\u001b[0;34m\u001b[0m\u001b[0m\n\u001b[0m\u001b[1;32m     56\u001b[0m         \u001b[0mafter\u001b[0m\u001b[0;34m(\u001b[0m\u001b[0martist\u001b[0m\u001b[0;34m,\u001b[0m \u001b[0mrenderer\u001b[0m\u001b[0;34m)\u001b[0m\u001b[0;34m\u001b[0m\u001b[0m\n\u001b[1;32m     57\u001b[0m \u001b[0;34m\u001b[0m\u001b[0m\n",
      "\u001b[0;32m/System/Library/Frameworks/Python.framework/Versions/2.7/Extras/lib/python/matplotlib/figure.pyc\u001b[0m in \u001b[0;36mdraw\u001b[0;34m(self, renderer)\u001b[0m\n\u001b[1;32m   1032\u001b[0m         \u001b[0mdsu\u001b[0m\u001b[0;34m.\u001b[0m\u001b[0msort\u001b[0m\u001b[0;34m(\u001b[0m\u001b[0mkey\u001b[0m\u001b[0;34m=\u001b[0m\u001b[0mitemgetter\u001b[0m\u001b[0;34m(\u001b[0m\u001b[0;36m0\u001b[0m\u001b[0;34m)\u001b[0m\u001b[0;34m)\u001b[0m\u001b[0;34m\u001b[0m\u001b[0m\n\u001b[1;32m   1033\u001b[0m         \u001b[0;32mfor\u001b[0m \u001b[0mzorder\u001b[0m\u001b[0;34m,\u001b[0m \u001b[0ma\u001b[0m\u001b[0;34m,\u001b[0m \u001b[0mfunc\u001b[0m\u001b[0;34m,\u001b[0m \u001b[0margs\u001b[0m \u001b[0;32min\u001b[0m \u001b[0mdsu\u001b[0m\u001b[0;34m:\u001b[0m\u001b[0;34m\u001b[0m\u001b[0m\n\u001b[0;32m-> 1034\u001b[0;31m             \u001b[0mfunc\u001b[0m\u001b[0;34m(\u001b[0m\u001b[0;34m*\u001b[0m\u001b[0margs\u001b[0m\u001b[0;34m)\u001b[0m\u001b[0;34m\u001b[0m\u001b[0m\n\u001b[0m\u001b[1;32m   1035\u001b[0m \u001b[0;34m\u001b[0m\u001b[0m\n\u001b[1;32m   1036\u001b[0m         \u001b[0mrenderer\u001b[0m\u001b[0;34m.\u001b[0m\u001b[0mclose_group\u001b[0m\u001b[0;34m(\u001b[0m\u001b[0;34m'figure'\u001b[0m\u001b[0;34m)\u001b[0m\u001b[0;34m\u001b[0m\u001b[0m\n",
      "\u001b[0;32m/System/Library/Frameworks/Python.framework/Versions/2.7/Extras/lib/python/matplotlib/artist.pyc\u001b[0m in \u001b[0;36mdraw_wrapper\u001b[0;34m(artist, renderer, *args, **kwargs)\u001b[0m\n\u001b[1;32m     53\u001b[0m     \u001b[0;32mdef\u001b[0m \u001b[0mdraw_wrapper\u001b[0m\u001b[0;34m(\u001b[0m\u001b[0martist\u001b[0m\u001b[0;34m,\u001b[0m \u001b[0mrenderer\u001b[0m\u001b[0;34m,\u001b[0m \u001b[0;34m*\u001b[0m\u001b[0margs\u001b[0m\u001b[0;34m,\u001b[0m \u001b[0;34m**\u001b[0m\u001b[0mkwargs\u001b[0m\u001b[0;34m)\u001b[0m\u001b[0;34m:\u001b[0m\u001b[0;34m\u001b[0m\u001b[0m\n\u001b[1;32m     54\u001b[0m         \u001b[0mbefore\u001b[0m\u001b[0;34m(\u001b[0m\u001b[0martist\u001b[0m\u001b[0;34m,\u001b[0m \u001b[0mrenderer\u001b[0m\u001b[0;34m)\u001b[0m\u001b[0;34m\u001b[0m\u001b[0m\n\u001b[0;32m---> 55\u001b[0;31m         \u001b[0mdraw\u001b[0m\u001b[0;34m(\u001b[0m\u001b[0martist\u001b[0m\u001b[0;34m,\u001b[0m \u001b[0mrenderer\u001b[0m\u001b[0;34m,\u001b[0m \u001b[0;34m*\u001b[0m\u001b[0margs\u001b[0m\u001b[0;34m,\u001b[0m \u001b[0;34m**\u001b[0m\u001b[0mkwargs\u001b[0m\u001b[0;34m)\u001b[0m\u001b[0;34m\u001b[0m\u001b[0m\n\u001b[0m\u001b[1;32m     56\u001b[0m         \u001b[0mafter\u001b[0m\u001b[0;34m(\u001b[0m\u001b[0martist\u001b[0m\u001b[0;34m,\u001b[0m \u001b[0mrenderer\u001b[0m\u001b[0;34m)\u001b[0m\u001b[0;34m\u001b[0m\u001b[0m\n\u001b[1;32m     57\u001b[0m \u001b[0;34m\u001b[0m\u001b[0m\n",
      "\u001b[0;32m/System/Library/Frameworks/Python.framework/Versions/2.7/Extras/lib/python/matplotlib/axes.pyc\u001b[0m in \u001b[0;36mdraw\u001b[0;34m(self, renderer, inframe)\u001b[0m\n\u001b[1;32m   2084\u001b[0m \u001b[0;34m\u001b[0m\u001b[0m\n\u001b[1;32m   2085\u001b[0m         \u001b[0;32mfor\u001b[0m \u001b[0mzorder\u001b[0m\u001b[0;34m,\u001b[0m \u001b[0ma\u001b[0m \u001b[0;32min\u001b[0m \u001b[0mdsu\u001b[0m\u001b[0;34m:\u001b[0m\u001b[0;34m\u001b[0m\u001b[0m\n\u001b[0;32m-> 2086\u001b[0;31m             \u001b[0ma\u001b[0m\u001b[0;34m.\u001b[0m\u001b[0mdraw\u001b[0m\u001b[0;34m(\u001b[0m\u001b[0mrenderer\u001b[0m\u001b[0;34m)\u001b[0m\u001b[0;34m\u001b[0m\u001b[0m\n\u001b[0m\u001b[1;32m   2087\u001b[0m \u001b[0;34m\u001b[0m\u001b[0m\n\u001b[1;32m   2088\u001b[0m         \u001b[0mrenderer\u001b[0m\u001b[0;34m.\u001b[0m\u001b[0mclose_group\u001b[0m\u001b[0;34m(\u001b[0m\u001b[0;34m'axes'\u001b[0m\u001b[0;34m)\u001b[0m\u001b[0;34m\u001b[0m\u001b[0m\n",
      "\u001b[0;32m/System/Library/Frameworks/Python.framework/Versions/2.7/Extras/lib/python/matplotlib/artist.pyc\u001b[0m in \u001b[0;36mdraw_wrapper\u001b[0;34m(artist, renderer, *args, **kwargs)\u001b[0m\n\u001b[1;32m     53\u001b[0m     \u001b[0;32mdef\u001b[0m \u001b[0mdraw_wrapper\u001b[0m\u001b[0;34m(\u001b[0m\u001b[0martist\u001b[0m\u001b[0;34m,\u001b[0m \u001b[0mrenderer\u001b[0m\u001b[0;34m,\u001b[0m \u001b[0;34m*\u001b[0m\u001b[0margs\u001b[0m\u001b[0;34m,\u001b[0m \u001b[0;34m**\u001b[0m\u001b[0mkwargs\u001b[0m\u001b[0;34m)\u001b[0m\u001b[0;34m:\u001b[0m\u001b[0;34m\u001b[0m\u001b[0m\n\u001b[1;32m     54\u001b[0m         \u001b[0mbefore\u001b[0m\u001b[0;34m(\u001b[0m\u001b[0martist\u001b[0m\u001b[0;34m,\u001b[0m \u001b[0mrenderer\u001b[0m\u001b[0;34m)\u001b[0m\u001b[0;34m\u001b[0m\u001b[0m\n\u001b[0;32m---> 55\u001b[0;31m         \u001b[0mdraw\u001b[0m\u001b[0;34m(\u001b[0m\u001b[0martist\u001b[0m\u001b[0;34m,\u001b[0m \u001b[0mrenderer\u001b[0m\u001b[0;34m,\u001b[0m \u001b[0;34m*\u001b[0m\u001b[0margs\u001b[0m\u001b[0;34m,\u001b[0m \u001b[0;34m**\u001b[0m\u001b[0mkwargs\u001b[0m\u001b[0;34m)\u001b[0m\u001b[0;34m\u001b[0m\u001b[0m\n\u001b[0m\u001b[1;32m     56\u001b[0m         \u001b[0mafter\u001b[0m\u001b[0;34m(\u001b[0m\u001b[0martist\u001b[0m\u001b[0;34m,\u001b[0m \u001b[0mrenderer\u001b[0m\u001b[0;34m)\u001b[0m\u001b[0;34m\u001b[0m\u001b[0m\n\u001b[1;32m     57\u001b[0m \u001b[0;34m\u001b[0m\u001b[0m\n",
      "\u001b[0;32m/System/Library/Frameworks/Python.framework/Versions/2.7/Extras/lib/python/matplotlib/axis.pyc\u001b[0m in \u001b[0;36mdraw\u001b[0;34m(self, renderer, *args, **kwargs)\u001b[0m\n\u001b[1;32m   1103\u001b[0m         \u001b[0mself\u001b[0m\u001b[0;34m.\u001b[0m\u001b[0m_update_label_position\u001b[0m\u001b[0;34m(\u001b[0m\u001b[0mticklabelBoxes\u001b[0m\u001b[0;34m,\u001b[0m \u001b[0mticklabelBoxes2\u001b[0m\u001b[0;34m)\u001b[0m\u001b[0;34m\u001b[0m\u001b[0m\n\u001b[1;32m   1104\u001b[0m \u001b[0;34m\u001b[0m\u001b[0m\n\u001b[0;32m-> 1105\u001b[0;31m         \u001b[0mself\u001b[0m\u001b[0;34m.\u001b[0m\u001b[0mlabel\u001b[0m\u001b[0;34m.\u001b[0m\u001b[0mdraw\u001b[0m\u001b[0;34m(\u001b[0m\u001b[0mrenderer\u001b[0m\u001b[0;34m)\u001b[0m\u001b[0;34m\u001b[0m\u001b[0m\n\u001b[0m\u001b[1;32m   1106\u001b[0m \u001b[0;34m\u001b[0m\u001b[0m\n\u001b[1;32m   1107\u001b[0m         \u001b[0mself\u001b[0m\u001b[0;34m.\u001b[0m\u001b[0m_update_offset_text_position\u001b[0m\u001b[0;34m(\u001b[0m\u001b[0mticklabelBoxes\u001b[0m\u001b[0;34m,\u001b[0m \u001b[0mticklabelBoxes2\u001b[0m\u001b[0;34m)\u001b[0m\u001b[0;34m\u001b[0m\u001b[0m\n",
      "\u001b[0;32m/System/Library/Frameworks/Python.framework/Versions/2.7/Extras/lib/python/matplotlib/artist.pyc\u001b[0m in \u001b[0;36mdraw_wrapper\u001b[0;34m(artist, renderer, *args, **kwargs)\u001b[0m\n\u001b[1;32m     53\u001b[0m     \u001b[0;32mdef\u001b[0m \u001b[0mdraw_wrapper\u001b[0m\u001b[0;34m(\u001b[0m\u001b[0martist\u001b[0m\u001b[0;34m,\u001b[0m \u001b[0mrenderer\u001b[0m\u001b[0;34m,\u001b[0m \u001b[0;34m*\u001b[0m\u001b[0margs\u001b[0m\u001b[0;34m,\u001b[0m \u001b[0;34m**\u001b[0m\u001b[0mkwargs\u001b[0m\u001b[0;34m)\u001b[0m\u001b[0;34m:\u001b[0m\u001b[0;34m\u001b[0m\u001b[0m\n\u001b[1;32m     54\u001b[0m         \u001b[0mbefore\u001b[0m\u001b[0;34m(\u001b[0m\u001b[0martist\u001b[0m\u001b[0;34m,\u001b[0m \u001b[0mrenderer\u001b[0m\u001b[0;34m)\u001b[0m\u001b[0;34m\u001b[0m\u001b[0m\n\u001b[0;32m---> 55\u001b[0;31m         \u001b[0mdraw\u001b[0m\u001b[0;34m(\u001b[0m\u001b[0martist\u001b[0m\u001b[0;34m,\u001b[0m \u001b[0mrenderer\u001b[0m\u001b[0;34m,\u001b[0m \u001b[0;34m*\u001b[0m\u001b[0margs\u001b[0m\u001b[0;34m,\u001b[0m \u001b[0;34m**\u001b[0m\u001b[0mkwargs\u001b[0m\u001b[0;34m)\u001b[0m\u001b[0;34m\u001b[0m\u001b[0m\n\u001b[0m\u001b[1;32m     56\u001b[0m         \u001b[0mafter\u001b[0m\u001b[0;34m(\u001b[0m\u001b[0martist\u001b[0m\u001b[0;34m,\u001b[0m \u001b[0mrenderer\u001b[0m\u001b[0;34m)\u001b[0m\u001b[0;34m\u001b[0m\u001b[0m\n\u001b[1;32m     57\u001b[0m \u001b[0;34m\u001b[0m\u001b[0m\n",
      "\u001b[0;32m/System/Library/Frameworks/Python.framework/Versions/2.7/Extras/lib/python/matplotlib/text.pyc\u001b[0m in \u001b[0;36mdraw\u001b[0;34m(self, renderer)\u001b[0m\n\u001b[1;32m    545\u001b[0m         \u001b[0mrenderer\u001b[0m\u001b[0;34m.\u001b[0m\u001b[0mopen_group\u001b[0m\u001b[0;34m(\u001b[0m\u001b[0;34m'text'\u001b[0m\u001b[0;34m,\u001b[0m \u001b[0mself\u001b[0m\u001b[0;34m.\u001b[0m\u001b[0mget_gid\u001b[0m\u001b[0;34m(\u001b[0m\u001b[0;34m)\u001b[0m\u001b[0;34m)\u001b[0m\u001b[0;34m\u001b[0m\u001b[0m\n\u001b[1;32m    546\u001b[0m \u001b[0;34m\u001b[0m\u001b[0m\n\u001b[0;32m--> 547\u001b[0;31m         \u001b[0mbbox\u001b[0m\u001b[0;34m,\u001b[0m \u001b[0minfo\u001b[0m\u001b[0;34m,\u001b[0m \u001b[0mdescent\u001b[0m \u001b[0;34m=\u001b[0m \u001b[0mself\u001b[0m\u001b[0;34m.\u001b[0m\u001b[0m_get_layout\u001b[0m\u001b[0;34m(\u001b[0m\u001b[0mrenderer\u001b[0m\u001b[0;34m)\u001b[0m\u001b[0;34m\u001b[0m\u001b[0m\n\u001b[0m\u001b[1;32m    548\u001b[0m         \u001b[0mtrans\u001b[0m \u001b[0;34m=\u001b[0m \u001b[0mself\u001b[0m\u001b[0;34m.\u001b[0m\u001b[0mget_transform\u001b[0m\u001b[0;34m(\u001b[0m\u001b[0;34m)\u001b[0m\u001b[0;34m\u001b[0m\u001b[0m\n\u001b[1;32m    549\u001b[0m \u001b[0;34m\u001b[0m\u001b[0m\n",
      "\u001b[0;32m/System/Library/Frameworks/Python.framework/Versions/2.7/Extras/lib/python/matplotlib/text.pyc\u001b[0m in \u001b[0;36m_get_layout\u001b[0;34m(self, renderer)\u001b[0m\n\u001b[1;32m    327\u001b[0m                 w, h, d = get_text_width_height_descent(clean_line,\n\u001b[1;32m    328\u001b[0m                                                         \u001b[0mself\u001b[0m\u001b[0;34m.\u001b[0m\u001b[0m_fontproperties\u001b[0m\u001b[0;34m,\u001b[0m\u001b[0;34m\u001b[0m\u001b[0m\n\u001b[0;32m--> 329\u001b[0;31m                                                         ismath=ismath)\n\u001b[0m\u001b[1;32m    330\u001b[0m             \u001b[0;32melse\u001b[0m\u001b[0;34m:\u001b[0m\u001b[0;34m\u001b[0m\u001b[0m\n\u001b[1;32m    331\u001b[0m                 \u001b[0mw\u001b[0m\u001b[0;34m,\u001b[0m \u001b[0mh\u001b[0m\u001b[0;34m,\u001b[0m \u001b[0md\u001b[0m \u001b[0;34m=\u001b[0m \u001b[0;36m0\u001b[0m\u001b[0;34m,\u001b[0m \u001b[0;36m0\u001b[0m\u001b[0;34m,\u001b[0m \u001b[0;36m0\u001b[0m\u001b[0;34m\u001b[0m\u001b[0m\n",
      "\u001b[0;32m/System/Library/Frameworks/Python.framework/Versions/2.7/Extras/lib/python/matplotlib/backends/backend_agg.pyc\u001b[0m in \u001b[0;36mget_text_width_height_descent\u001b[0;34m(self, s, prop, ismath)\u001b[0m\n\u001b[1;32m    203\u001b[0m             \u001b[0mfontsize\u001b[0m \u001b[0;34m=\u001b[0m \u001b[0mprop\u001b[0m\u001b[0;34m.\u001b[0m\u001b[0mget_size_in_points\u001b[0m\u001b[0;34m(\u001b[0m\u001b[0;34m)\u001b[0m\u001b[0;34m\u001b[0m\u001b[0m\n\u001b[1;32m    204\u001b[0m             w, h, d = texmanager.get_text_width_height_descent(s, fontsize,\n\u001b[0;32m--> 205\u001b[0;31m                                                                renderer=self)\n\u001b[0m\u001b[1;32m    206\u001b[0m             \u001b[0;32mreturn\u001b[0m \u001b[0mw\u001b[0m\u001b[0;34m,\u001b[0m \u001b[0mh\u001b[0m\u001b[0;34m,\u001b[0m \u001b[0md\u001b[0m\u001b[0;34m\u001b[0m\u001b[0m\n\u001b[1;32m    207\u001b[0m \u001b[0;34m\u001b[0m\u001b[0m\n",
      "\u001b[0;32m/System/Library/Frameworks/Python.framework/Versions/2.7/Extras/lib/python/matplotlib/texmanager.pyc\u001b[0m in \u001b[0;36mget_text_width_height_descent\u001b[0;34m(self, tex, fontsize, renderer)\u001b[0m\n\u001b[1;32m    664\u001b[0m         \u001b[0;32melse\u001b[0m\u001b[0;34m:\u001b[0m\u001b[0;34m\u001b[0m\u001b[0m\n\u001b[1;32m    665\u001b[0m             \u001b[0;31m# use dviread. It sometimes returns a wrong descent.\u001b[0m\u001b[0;34m\u001b[0m\u001b[0;34m\u001b[0m\u001b[0m\n\u001b[0;32m--> 666\u001b[0;31m             \u001b[0mdvifile\u001b[0m \u001b[0;34m=\u001b[0m \u001b[0mself\u001b[0m\u001b[0;34m.\u001b[0m\u001b[0mmake_dvi\u001b[0m\u001b[0;34m(\u001b[0m\u001b[0mtex\u001b[0m\u001b[0;34m,\u001b[0m \u001b[0mfontsize\u001b[0m\u001b[0;34m)\u001b[0m\u001b[0;34m\u001b[0m\u001b[0m\n\u001b[0m\u001b[1;32m    667\u001b[0m             \u001b[0mdvi\u001b[0m \u001b[0;34m=\u001b[0m \u001b[0mdviread\u001b[0m\u001b[0;34m.\u001b[0m\u001b[0mDvi\u001b[0m\u001b[0;34m(\u001b[0m\u001b[0mdvifile\u001b[0m\u001b[0;34m,\u001b[0m \u001b[0;36m72\u001b[0m \u001b[0;34m*\u001b[0m \u001b[0mdpi_fraction\u001b[0m\u001b[0;34m)\u001b[0m\u001b[0;34m\u001b[0m\u001b[0m\n\u001b[1;32m    668\u001b[0m             \u001b[0;32mtry\u001b[0m\u001b[0;34m:\u001b[0m\u001b[0;34m\u001b[0m\u001b[0m\n",
      "\u001b[0;32m/System/Library/Frameworks/Python.framework/Versions/2.7/Extras/lib/python/matplotlib/texmanager.pyc\u001b[0m in \u001b[0;36mmake_dvi\u001b[0;34m(self, tex, fontsize)\u001b[0m\n\u001b[1;32m    411\u001b[0m                     ('LaTeX was not able to process the following '\n\u001b[1;32m    412\u001b[0m                      \u001b[0;34m'string:\\n%s\\nHere is the full report generated by '\u001b[0m\u001b[0;34m\u001b[0m\u001b[0m\n\u001b[0;32m--> 413\u001b[0;31m                      'LaTeX: \\n\\n' % repr(tex)) + report)\n\u001b[0m\u001b[1;32m    414\u001b[0m             \u001b[0;32melse\u001b[0m\u001b[0;34m:\u001b[0m\u001b[0;34m\u001b[0m\u001b[0m\n\u001b[1;32m    415\u001b[0m                 \u001b[0mmpl\u001b[0m\u001b[0;34m.\u001b[0m\u001b[0mverbose\u001b[0m\u001b[0;34m.\u001b[0m\u001b[0mreport\u001b[0m\u001b[0;34m(\u001b[0m\u001b[0mreport\u001b[0m\u001b[0;34m,\u001b[0m \u001b[0;34m'debug'\u001b[0m\u001b[0;34m)\u001b[0m\u001b[0;34m\u001b[0m\u001b[0m\n",
      "\u001b[0;31mRuntimeError\u001b[0m: LaTeX was not able to process the following string:\n'%training percentage'\nHere is the full report generated by LaTeX: \n\nThis is pdfTeX, Version 3.14159265-2.6-1.40.16 (TeX Live 2015) (preloaded format=latex)\n restricted \\write18 enabled.\nentering extended mode\n(./2b39eb83d5508ca9a1a8288fa6fc762f.tex\nLaTeX2e <2015/01/01>\nBabel <3.9l> and hyphenation patterns for 79 languages loaded.\n(/usr/local/texlive/2015/texmf-dist/tex/latex/base/article.cls\nDocument Class: article 2014/09/29 v1.4h Standard LaTeX document class\n(/usr/local/texlive/2015/texmf-dist/tex/latex/base/size10.clo))\n(/usr/local/texlive/2015/texmf-dist/tex/latex/type1cm/type1cm.sty)\n(/usr/local/texlive/2015/texmf-dist/tex/latex/psnfss/helvet.sty\n(/usr/local/texlive/2015/texmf-dist/tex/latex/graphics/keyval.sty))\n(/usr/local/texlive/2015/texmf-dist/tex/latex/psnfss/courier.sty)\n(/usr/local/texlive/2015/texmf-dist/tex/latex/base/textcomp.sty\n(/usr/local/texlive/2015/texmf-dist/tex/latex/base/ts1enc.def))\n(/usr/local/texlive/2015/texmf-dist/tex/latex/was/gensymb.sty)\n(/usr/local/texlive/2015/texmf-dist/tex/latex/geometry/geometry.sty\n(/usr/local/texlive/2015/texmf-dist/tex/generic/oberdiek/ifpdf.sty)\n(/usr/local/texlive/2015/texmf-dist/tex/generic/oberdiek/ifvtex.sty)\n(/usr/local/texlive/2015/texmf-dist/tex/generic/ifxetex/ifxetex.sty)\n\nPackage geometry Warning: Over-specification in `h'-direction.\n    `width' (5058.9pt) is ignored.\n\n\nPackage geometry Warning: Over-specification in `v'-direction.\n    `height' (5058.9pt) is ignored.\n\n) (./2b39eb83d5508ca9a1a8288fa6fc762f.aux)\n(/usr/local/texlive/2015/texmf-dist/tex/latex/base/ts1cmr.fd)\n(/usr/local/texlive/2015/texmf-dist/tex/latex/psnfss/ot1pnc.fd)\n*geometry* driver: auto-detecting\n*geometry* detected driver: dvips\n(./2b39eb83d5508ca9a1a8288fa6fc762f.aux) )\n(\\end occurred inside a group at level 1)\n\n### simple group (level 1) entered at line 12 ({)\n### bottom level\nNo pages of output.\nTranscript written on 2b39eb83d5508ca9a1a8288fa6fc762f.log.\n"
     ]
    },
    {
     "data": {
      "text/plain": [
       "<matplotlib.figure.Figure at 0x117372d10>"
      ]
     },
     "metadata": {},
     "output_type": "display_data"
    }
   ],
   "source": [
    "iterations.T.plot(kind='bar', stacked='True', title=\"Best Iterations\")\n",
    "plt.xlabel(\"%training percentage\")"
   ]
  },
  {
   "cell_type": "code",
   "execution_count": 7,
   "metadata": {
    "collapsed": true
   },
   "outputs": [],
   "source": [
    "home = pd.DataFrame(home)"
   ]
  },
  {
   "cell_type": "code",
   "execution_count": 15,
   "metadata": {},
   "outputs": [
    {
     "data": {
      "text/plain": [
       "<matplotlib.text.Text at 0x11654f450>"
      ]
     },
     "execution_count": 15,
     "metadata": {},
     "output_type": "execute_result"
    },
    {
     "data": {
      "image/png": "[encoded data removed]",
      "text/plain": [
       "<matplotlib.figure.Figure at 0x1165bef10>"
      ]
     },
     "metadata": {},
     "output_type": "display_data"
    }
   ],
   "source": [
    "home.T.plot(kind='bar', stacked='True', title=\"# Home factors\")\n",
    "plt.xlabel(\"%training percentage\")"
   ]
  },
  {
   "cell_type": "code",
   "execution_count": 9,
   "metadata": {
    "collapsed": true
   },
   "outputs": [],
   "source": [
    "season = pd.DataFrame(season)"
   ]
  },
  {
   "cell_type": "code",
   "execution_count": 16,
   "metadata": {},
   "outputs": [
    {
     "data": {
      "text/plain": [
       "<matplotlib.text.Text at 0x116691cd0>"
      ]
     },
     "execution_count": 16,
     "metadata": {},
     "output_type": "execute_result"
    },
    {
     "data": {
      "image/png": "[encoded data removed]",
      "text/plain": [
       "<matplotlib.figure.Figure at 0x116593c10>"
      ]
     },
     "metadata": {},
     "output_type": "display_data"
    }
   ],
   "source": [
    "season.T.plot(kind='bar', stacked='True', title=\"# Season factors\")\n",
    "plt.xlabel(\"%training percentage\")"
   ]
  },
  {
   "cell_type": "code",
   "execution_count": 11,
   "metadata": {
    "collapsed": true
   },
   "outputs": [],
   "source": [
    "lr = pd.DataFrame(lr)"
   ]
  },
  {
   "cell_type": "code",
   "execution_count": 13,
   "metadata": {},
   "outputs": [
    {
     "data": {
      "text/plain": [
       "<matplotlib.text.Text at 0x11631b510>"
      ]
     },
     "execution_count": 13,
     "metadata": {},
     "output_type": "execute_result"
    },
    {
     "data": {
      "image/png": "[encoded data removed]",
      "text/plain": [
       "<matplotlib.figure.Figure at 0x116189390>"
      ]
     },
     "metadata": {},
     "output_type": "display_data"
    }
   ],
   "source": [
    "lr.T.plot(kind='bar', stacked='True', title=\"Best Iterations\",rot=0)\n",
    "plt.xlabel(\"%training percentage\")"
   ]
  },
  {
   "cell_type": "code",
   "execution_count": 83,
   "metadata": {
    "collapsed": true
   },
   "outputs": [],
   "source": [
    "from plot_functions import format_axes, latexify"
   ]
  },
  {
   "cell_type": "code",
   "execution_count": 117,
   "metadata": {},
   "outputs": [
    {
     "ename": "AttributeError",
     "evalue": "'numpy.ndarray' object has no attribute 'spines'",
     "output_type": "error",
     "traceback": [
      "\u001b[0;31m---------------------------------------------------------------------------\u001b[0m",
      "\u001b[0;31mAttributeError\u001b[0m                            Traceback (most recent call last)",
      "\u001b[0;32m<ipython-input-117-9287e99aacbc>\u001b[0m in \u001b[0;36m<module>\u001b[0;34m()\u001b[0m\n\u001b[1;32m     11\u001b[0m \u001b[0mn\u001b[0m \u001b[0;34m=\u001b[0m \u001b[0;36m3\u001b[0m\u001b[0;34m\u001b[0m\u001b[0m\n\u001b[1;32m     12\u001b[0m \u001b[0;32mfor\u001b[0m \u001b[0ma\u001b[0m \u001b[0;32min\u001b[0m \u001b[0max\u001b[0m\u001b[0;34m:\u001b[0m\u001b[0;34m\u001b[0m\u001b[0m\n\u001b[0;32m---> 13\u001b[0;31m     \u001b[0mformat_axes\u001b[0m\u001b[0;34m(\u001b[0m\u001b[0ma\u001b[0m\u001b[0;34m)\u001b[0m\u001b[0;34m\u001b[0m\u001b[0m\n\u001b[0m\u001b[1;32m     14\u001b[0m \u001b[0mticks\u001b[0m \u001b[0;34m=\u001b[0m \u001b[0max\u001b[0m\u001b[0;34m[\u001b[0m\u001b[0;36m0\u001b[0m\u001b[0;34m]\u001b[0m\u001b[0;34m.\u001b[0m\u001b[0mxaxis\u001b[0m\u001b[0;34m.\u001b[0m\u001b[0mget_ticklocs\u001b[0m\u001b[0;34m(\u001b[0m\u001b[0;34m)\u001b[0m\u001b[0;34m\u001b[0m\u001b[0m\n\u001b[1;32m     15\u001b[0m \u001b[0mticklabels\u001b[0m \u001b[0;34m=\u001b[0m \u001b[0;34m[\u001b[0m\u001b[0ml\u001b[0m\u001b[0;34m.\u001b[0m\u001b[0mget_text\u001b[0m\u001b[0;34m(\u001b[0m\u001b[0;34m)\u001b[0m \u001b[0;32mfor\u001b[0m \u001b[0ml\u001b[0m \u001b[0;32min\u001b[0m \u001b[0max\u001b[0m\u001b[0;34m[\u001b[0m\u001b[0;36m3\u001b[0m\u001b[0;34m,\u001b[0m\u001b[0;36m0\u001b[0m\u001b[0;34m]\u001b[0m\u001b[0;34m.\u001b[0m\u001b[0mxaxis\u001b[0m\u001b[0;34m.\u001b[0m\u001b[0mget_ticklabels\u001b[0m\u001b[0;34m(\u001b[0m\u001b[0;34m)\u001b[0m\u001b[0;34m]\u001b[0m\u001b[0;34m\u001b[0m\u001b[0m\n",
      "\u001b[0;32m/Users/xox/git/scalable-nilm/aaai18/code/plot_functions.py\u001b[0m in \u001b[0;36mformat_axes\u001b[0;34m(ax)\u001b[0m\n\u001b[1;32m    126\u001b[0m \u001b[0;32mdef\u001b[0m \u001b[0mformat_axes\u001b[0m\u001b[0;34m(\u001b[0m\u001b[0max\u001b[0m\u001b[0;34m)\u001b[0m\u001b[0;34m:\u001b[0m\u001b[0;34m\u001b[0m\u001b[0m\n\u001b[1;32m    127\u001b[0m         \u001b[0;32mfor\u001b[0m \u001b[0mspine\u001b[0m \u001b[0;32min\u001b[0m \u001b[0;34m[\u001b[0m\u001b[0;34m'top'\u001b[0m\u001b[0;34m,\u001b[0m \u001b[0;34m'right'\u001b[0m\u001b[0;34m]\u001b[0m\u001b[0;34m:\u001b[0m\u001b[0;34m\u001b[0m\u001b[0m\n\u001b[0;32m--> 128\u001b[0;31m                 \u001b[0max\u001b[0m\u001b[0;34m.\u001b[0m\u001b[0mspines\u001b[0m\u001b[0;34m[\u001b[0m\u001b[0mspine\u001b[0m\u001b[0;34m]\u001b[0m\u001b[0;34m.\u001b[0m\u001b[0mset_visible\u001b[0m\u001b[0;34m(\u001b[0m\u001b[0mFalse\u001b[0m\u001b[0;34m)\u001b[0m\u001b[0;34m\u001b[0m\u001b[0m\n\u001b[0m\u001b[1;32m    129\u001b[0m \u001b[0;34m\u001b[0m\u001b[0m\n\u001b[1;32m    130\u001b[0m         \u001b[0;32mfor\u001b[0m \u001b[0mspine\u001b[0m \u001b[0;32min\u001b[0m \u001b[0;34m[\u001b[0m\u001b[0;34m'left'\u001b[0m\u001b[0;34m,\u001b[0m \u001b[0;34m'bottom'\u001b[0m\u001b[0;34m]\u001b[0m\u001b[0;34m:\u001b[0m\u001b[0;34m\u001b[0m\u001b[0m\n",
      "\u001b[0;31mAttributeError\u001b[0m: 'numpy.ndarray' object has no attribute 'spines'"
     ]
    },
    {
     "data": {
      "image/png": "[encoded data removed]",
      "text/plain": [
       "<matplotlib.figure.Figure at 0x115c14fd0>"
      ]
     },
     "metadata": {},
     "output_type": "display_data"
    }
   ],
   "source": [
    "latexify(columns=2, fig_height=6, fig_width=6)\n",
    "fig, ax = plt.subplots(nrows=4, ncols=4, sharey=True, sharex=True)\n",
    "idx = 0\n",
    "for stot in ['Austin-to-SanDiego', 'SanDiego-to-Austin']:\n",
    "    for method in ['transfer', 'normal']:\n",
    "        (pd.DataFrame(iterations[stot][method])).T.plot(kind='bar', stacked='True', title=\"\\# Iterations\", rot=0, ax=ax[idx, 0])\n",
    "        pd.DataFrame(season[stot][method]).T.plot(kind='bar', stacked='True', title=r\"\\# Home factors\",ax=ax[idx, 1], rot=0)\n",
    "        pd.DataFrame(home[stot][method]).T.plot(kind='bar', stacked='True', title=r\"\\# Season factors\", ax=ax[idx, 2],rot=0)\n",
    "        pd.DataFrame(lr[stot][method]).T.plot(kind='bar', stacked='True', title=\"Learning rate\",rot=0, ax=ax[idx,3])\n",
    "        idx += 1\n",
    "n = 3\n",
    "for a in ax:\n",
    "    format_axes(a)\n",
    "ticks = ax[0].xaxis.get_ticklocs()\n",
    "ticklabels = [l.get_text() for l in ax[0].xaxis.get_ticklabels()]\n",
    "ax[0].xaxis.set_ticks(ticks[::n])\n",
    "ax[0].xaxis.set_ticklabels(ticklabels[::n])\n",
    "f = fig.text(0.5, -0.1, \"\\% Adaptation homes\")\n",
    "l = ax[0].set_ylabel(\"\\% instances\")\n",
    "# plt.savefig('../figures/params-Austin-SD.pdf',bbox_inches=\"tight\",bbox_extra_artists=[f, l])"
   ]
  },
  {
   "cell_type": "code",
   "execution_count": 39,
   "metadata": {},
   "outputs": [
    {
     "data": {
      "image/png": "[encoded data removed]",
      "text/plain": [
       "<matplotlib.figure.Figure at 0x11b924950>"
      ]
     },
     "metadata": {},
     "output_type": "display_data"
    }
   ],
   "source": [
    "latexify(columns=2, fig_height=1.5, fig_width=6)\n",
    "fig, ax = plt.subplots(nrows=1, ncols=4, sharey=True, sharex=True)\n",
    "iterations.T.plot(kind='bar', stacked='True', title=\"\\# Iterations\", rot=0, ax=ax[0])\n",
    "home.T.plot(kind='bar', stacked='True', title=r\"\\# Home factors\",ax=ax[1], rot=0)\n",
    "season.T.plot(kind='bar', stacked='True', title=r\"\\# Season factors\", ax=ax[2],rot=0)\n",
    "lr.T.plot(kind='bar', stacked='True', title=\"Learning rate\",rot=0, ax=ax[3])\n",
    "n = 3\n",
    "for a in ax:\n",
    "    format_axes(a)\n",
    "ticks = ax[0].xaxis.get_ticklocs()\n",
    "ticklabels = [l.get_text() for l in ax[0].xaxis.get_ticklabels()]\n",
    "ax[0].xaxis.set_ticks(ticks[::n])\n",
    "ax[0].xaxis.set_ticklabels(ticklabels[::n])\n",
    "f = fig.text(0.5, -0.1, \"\\% Adaptation homes\")\n",
    "l = ax[0].set_ylabel(\"\\% instances\")\n"
   ]
  },
  {
   "cell_type": "code",
   "execution_count": 31,
   "metadata": {},
   "outputs": [
    {
     "data": {
      "text/plain": [
       "array([0])"
      ]
     },
     "execution_count": 31,
     "metadata": {},
     "output_type": "execute_result"
    }
   ],
   "source": [
    "ticks[::n]"
   ]
  },
  {
   "cell_type": "code",
   "execution_count": null,
   "metadata": {
    "collapsed": true
   },
   "outputs": [],
   "source": []
  }
 ],
 "metadata": {
  "kernelspec": {
   "display_name": "Python 2",
   "language": "python",
   "name": "python2"
  },
  "language_info": {
   "codemirror_mode": {
    "name": "ipython",
    "version": 2
   },
   "file_extension": ".py",
   "mimetype": "text/x-python",
   "name": "python",
   "nbconvert_exporter": "python",
   "pygments_lexer": "ipython2",
   "version": "2.7.10"
  }
 },
 "nbformat": 4,
 "nbformat_minor": 2
}
