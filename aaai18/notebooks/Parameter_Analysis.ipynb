{
 "cells": [
  {
   "cell_type": "code",
   "execution_count": 1,
   "metadata": {
    "collapsed": true
   },
   "outputs": [],
   "source": [
    "import matplotlib.pyplot as plt\n",
    "import numpy as np\n",
    "import pandas as pd\n",
    "%matplotlib inline\n",
    "import pickle"
   ]
  },
  {
   "cell_type": "code",
   "execution_count": 2,
   "metadata": {
    "collapsed": true
   },
   "outputs": [],
   "source": [
    "import sys\n",
    "sys.path.append('../code/')\n",
    "\n",
    "from common import APPLIANCES_ORDER, contri"
   ]
  },
  {
   "cell_type": "code",
   "execution_count": 3,
   "metadata": {
    "collapsed": true
   },
   "outputs": [],
   "source": [
    "out = {'Austin-to-SanDiego' :pickle.load(open('../predictions/params-lr-tf-Austin-SanDiego-all.pkl','r')),\n",
    "       'SanDiego-to-Austin':pickle.load(open('../predictions/params-lr-tf-SanDiego-Austin-all.pkl','r'))\n",
    "iterations = {}\n",
    "home = {}\n",
    "season = {}\n",
    "lr = {}\n",
    "\n",
    "\n",
    "for train_percentage in [6,7,8,9,10,15,20,30,40,50,60,70,80,90,100]:\n",
    "    iterations[train_percentage] = {}\n",
    "    for iters in [100, 700, 1300]:\n",
    "        iterations[train_percentage][iters] = 0\n",
    "\n",
    "    home[train_percentage] = {}\n",
    "    for h in range(3,6):\n",
    "        home[train_percentage][h] = 0\n",
    "\n",
    "    season[train_percentage] = {}\n",
    "    for s in range(2,5):\n",
    "        season[train_percentage][s] = 0\n",
    "        \n",
    "    lr[train_percentage] = {}\n",
    "    for l in [0.1, 0.5, 1, 2]:\n",
    "        lr[train_percentage][l] = 0\n",
    "\n",
    "    for random_seed in range(10):\n",
    "        for loop in range(10):\n",
    "            iterations[train_percentage][out[2]['True']['False']['transfer'][train_percentage][random_seed][loop]['Iterations']] += 1\n",
    "            home[train_percentage][out[2]['True']['False']['transfer'][train_percentage][random_seed][loop]['Num home factors']] +=1\n",
    "            season[train_percentage][out[2]['True']['False']['transfer'][train_percentage][random_seed][loop]['Num season factors']] +=1\n",
    "            lr[train_percentage][out[2]['True']['False']['transfer'][train_percentage][random_seed][loop]['Learning Rate']] +=1"
   ]
  },
  {
   "cell_type": "code",
   "execution_count": 4,
   "metadata": {
    "collapsed": true
   },
   "outputs": [],
   "source": [
    "iterations = pd.DataFrame(iterations)"
   ]
  },
  {
   "cell_type": "code",
   "execution_count": 6,
   "metadata": {},
   "outputs": [
    {
     "data": {
      "text/plain": [
       "<matplotlib.text.Text at 0x1159ca4d0>"
      ]
     },
     "execution_count": 6,
     "metadata": {},
     "output_type": "execute_result"
    },
    {
     "data": {
      "image/png": "[encoded data removed]",
      "text/plain": [
       "<matplotlib.figure.Figure at 0x115a80550>"
      ]
     },
     "metadata": {},
     "output_type": "display_data"
    }
   ],
   "source": [
    "iterations.T.plot(kind='bar', stacked='True', title=\"Best Iterations\", rot=0)\n",
    "plt.xlabel(\"%training percentage\")"
   ]
  },
  {
   "cell_type": "code",
   "execution_count": 7,
   "metadata": {
    "collapsed": true
   },
   "outputs": [],
   "source": [
    "home = pd.DataFrame(home)"
   ]
  },
  {
   "cell_type": "code",
   "execution_count": 15,
   "metadata": {},
   "outputs": [
    {
     "data": {
      "text/plain": [
       "<matplotlib.text.Text at 0x11654f450>"
      ]
     },
     "execution_count": 15,
     "metadata": {},
     "output_type": "execute_result"
    },
    {
     "data": {
      "image/png": "[encoded data removed]",
      "text/plain": [
       "<matplotlib.figure.Figure at 0x1165bef10>"
      ]
     },
     "metadata": {},
     "output_type": "display_data"
    }
   ],
   "source": [
    "home.T.plot(kind='bar', stacked='True', title=\"# Home factors\")\n",
    "plt.xlabel(\"%training percentage\")"
   ]
  },
  {
   "cell_type": "code",
   "execution_count": 9,
   "metadata": {
    "collapsed": true
   },
   "outputs": [],
   "source": [
    "season = pd.DataFrame(season)"
   ]
  },
  {
   "cell_type": "code",
   "execution_count": 16,
   "metadata": {},
   "outputs": [
    {
     "data": {
      "text/plain": [
       "<matplotlib.text.Text at 0x116691cd0>"
      ]
     },
     "execution_count": 16,
     "metadata": {},
     "output_type": "execute_result"
    },
    {
     "data": {
      "image/png": "[encoded data removed]",
      "text/plain": [
       "<matplotlib.figure.Figure at 0x116593c10>"
      ]
     },
     "metadata": {},
     "output_type": "display_data"
    }
   ],
   "source": [
    "season.T.plot(kind='bar', stacked='True', title=\"# Season factors\")\n",
    "plt.xlabel(\"%training percentage\")"
   ]
  },
  {
   "cell_type": "code",
   "execution_count": 11,
   "metadata": {
    "collapsed": true
   },
   "outputs": [],
   "source": [
    "lr = pd.DataFrame(lr)"
   ]
  },
  {
   "cell_type": "code",
   "execution_count": 13,
   "metadata": {},
   "outputs": [
    {
     "data": {
      "text/plain": [
       "<matplotlib.text.Text at 0x11631b510>"
      ]
     },
     "execution_count": 13,
     "metadata": {},
     "output_type": "execute_result"
    },
    {
     "data": {
      "image/png": "[encoded data removed]",
      "text/plain": [
       "<matplotlib.figure.Figure at 0x116189390>"
      ]
     },
     "metadata": {},
     "output_type": "display_data"
    }
   ],
   "source": [
    "lr.T.plot(kind='bar', stacked='True', title=\"Best Iterations\",rot=0)\n",
    "plt.xlabel(\"%training percentage\")"
   ]
  },
  {
   "cell_type": "code",
   "execution_count": 14,
   "metadata": {
    "collapsed": true
   },
   "outputs": [],
   "source": [
    "from plot_functions import format_axes, latexify"
   ]
  },
  {
   "cell_type": "code",
   "execution_count": 39,
   "metadata": {},
   "outputs": [
    {
     "data": {
      "image/png": "[encoded data removed]",
      "text/plain": [
       "<matplotlib.figure.Figure at 0x11b924950>"
      ]
     },
     "metadata": {},
     "output_type": "display_data"
    }
   ],
   "source": [
    "latexify(columns=2, fig_height=1.5, fig_width=6)\n",
    "fig, ax = plt.subplots(nrows=1, ncols=4, sharey=True, sharex=True)\n",
    "iterations.T.plot(kind='bar', stacked='True', title=\"\\# Iterations\", rot=0, ax=ax[0])\n",
    "home.T.plot(kind='bar', stacked='True', title=r\"\\# Home factors\",ax=ax[1], rot=0)\n",
    "season.T.plot(kind='bar', stacked='True', title=r\"\\# Season factors\", ax=ax[2],rot=0)\n",
    "lr.T.plot(kind='bar', stacked='True', title=\"Learning rate\",rot=0, ax=ax[3])\n",
    "n = 3\n",
    "for a in ax:\n",
    "    format_axes(a)\n",
    "ticks = ax[0].xaxis.get_ticklocs()\n",
    "ticklabels = [l.get_text() for l in ax[0].xaxis.get_ticklabels()]\n",
    "ax[0].xaxis.set_ticks(ticks[::n])\n",
    "ax[0].xaxis.set_ticklabels(ticklabels[::n])\n",
    "f = fig.text(0.5, -0.1, \"\\% Adaptation homes\")\n",
    "l = ax[0].set_ylabel(\"\\% instances\")\n",
    "plt.savefig('../figures/params-Austin-SD.pdf',bbox_inches=\"tight\",bbox_extra_artists=[f, l])"
   ]
  },
  {
   "cell_type": "code",
   "execution_count": 31,
   "metadata": {},
   "outputs": [
    {
     "data": {
      "text/plain": [
       "array([0])"
      ]
     },
     "execution_count": 31,
     "metadata": {},
     "output_type": "execute_result"
    }
   ],
   "source": [
    "ticks[::n]"
   ]
  },
  {
   "cell_type": "code",
   "execution_count": null,
   "metadata": {
    "collapsed": true
   },
   "outputs": [],
   "source": []
  }
 ],
 "metadata": {
  "kernelspec": {
   "display_name": "Python 2",
   "language": "python",
   "name": "python2"
  },
  "language_info": {
   "codemirror_mode": {
    "name": "ipython",
    "version": 2
   },
   "file_extension": ".py",
   "mimetype": "text/x-python",
   "name": "python",
   "nbconvert_exporter": "python",
   "pygments_lexer": "ipython2",
   "version": "2.7.13"
  }
 },
 "nbformat": 4,
 "nbformat_minor": 2
}
