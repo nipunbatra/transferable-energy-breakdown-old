{
 "cells": [
  {
   "cell_type": "code",
   "execution_count": 15,
   "metadata": {
    "collapsed": true
   },
   "outputs": [],
   "source": [
    "import pandas as pd\n",
    "import numpy as np\n",
    "import sys\n",
    "sys.path.append(\"../code/\")"
   ]
  },
  {
   "cell_type": "code",
   "execution_count": 16,
   "metadata": {
    "collapsed": true
   },
   "outputs": [],
   "source": [
    "import pickle\n",
    "H_au = pickle.load(open('../predictions/case-2-graph_Austin_True_1_13_Hs.pkl', 'r'))\n"
   ]
  },
  {
   "cell_type": "code",
   "execution_count": 17,
   "metadata": {
    "collapsed": true
   },
   "outputs": [],
   "source": [
    "H_sd = pickle.load(open('../predictions/H/transfer/case-2/True/True/Austin-SanDiego-0-10.0.pkl', 'r'))\n",
    "H_error_home = pickle.load(open('../predictions/H/transfer/case-2/True/True/Austin-SanDiego-0-10.0_error_home.pkl', 'r'))\n",
    "H_error = pickle.load(open('../predictions/H/transfer/case-2/True/True/Austin-SanDiego-0-10.0_error.pkl', 'r'))\n",
    "H_params = pickle.load(open('../predictions/H/transfer/case-2/True/True/Austin-SanDiego-0-10.0_params.pkl', 'r'))"
   ]
  },
  {
   "cell_type": "code",
   "execution_count": 18,
   "metadata": {},
   "outputs": [
    {
     "data": {
      "text/plain": [
       "[2, 1300, 2, 3, 0.001]"
      ]
     },
     "execution_count": 18,
     "metadata": {},
     "output_type": "execute_result"
    }
   ],
   "source": [
    "H_params[325]"
   ]
  },
  {
   "cell_type": "code",
   "execution_count": 19,
   "metadata": {
    "collapsed": true
   },
   "outputs": [],
   "source": [
    "best_show = [\n",
    "            [2, 1300, 2,3,0.001],\n",
    "            #[2, 700, 2, 3, 0.001]\n",
    "]"
   ]
  },
  {
   "cell_type": "code",
   "execution_count": 20,
   "metadata": {
    "collapsed": true
   },
   "outputs": [],
   "source": [
    "import numpy as np\n",
    "import matplotlib.pyplot as plt\n",
    "%matplotlib inline\n",
    "\n",
    "from sklearn.cluster import KMeans"
   ]
  },
  {
   "cell_type": "code",
   "execution_count": 21,
   "metadata": {
    "collapsed": true
   },
   "outputs": [],
   "source": [
    "from plot_functions import latexify, format_axes"
   ]
  },
  {
   "cell_type": "code",
   "execution_count": 25,
   "metadata": {
    "scrolled": false
   },
   "outputs": [
    {
     "name": "stdout",
     "output_type": "stream",
     "text": [
      "[0.1, 1300, 2, 3, 0]\n",
      "9.64394298538\n",
      "~/git/task3/demo_2_1300_2_3_0.001.png\n"
     ]
    },
    {
     "data": {
      "text/plain": [
       "<matplotlib.text.Text at 0x10d05d6d0>"
      ]
     },
     "execution_count": 25,
     "metadata": {},
     "output_type": "execute_result"
    },
    {
     "data": {
      "image/png": "[encoded data removed]",
      "text/plain": [
       "<matplotlib.figure.Figure at 0x10ce3c6d0>"
      ]
     },
     "metadata": {},
     "output_type": "display_data"
    }
   ],
   "source": [
    "latexify()\n",
    "for i in range(len(best_show)):\n",
    "# for i in range(1):\n",
    "    lr, iters, season, home, lam = best_show[i]\n",
    "    print H_params[i]\n",
    "    \n",
    "    H_sandiego = H_sd[lr][iters][season][home][lam]\n",
    "    H_austin = H_au[lr][season][home][lam][iters]\n",
    "    \n",
    "    H_sandiego = pd.DataFrame(pd.concat(H_sandiego))\n",
    "    H_sandiego = H_sandiego.values\n",
    "    \n",
    "    X = np.r_[H_austin, H_sandiego]\n",
    "    print np.max(X)\n",
    "    X = X/np.max(X)\n",
    "    y_pred = KMeans(n_clusters=7, random_state=0).fit_predict(X)\n",
    "    x1, x2 = (-np.var(X, axis=0)).argsort()[:2]\n",
    "    \n",
    "    y_sd = np.zeros(len(H_sandiego))\n",
    "    y_au = np.ones(len(H_austin))\n",
    "    y_label = np.r_[y_au, y_sd]\n",
    "    \n",
    "    home_error = H_error_home[lr][iters][season][home][lam]\n",
    "    home_error = np.around(home_error.values)    \n",
    "    \n",
    "    \n",
    "    start = len(H_austin)\n",
    "    d = np.random.randint(0, 2, size=(3,3,3))\n",
    "    z,x,y = d.nonzero()\n",
    "    import matplotlib.pyplot as plt\n",
    "    from mpl_toolkits.mplot3d import Axes3D\n",
    "    fig = plt.figure()\n",
    "    # ax = fig.add_subplot(111, projection='3d')\n",
    "    ax = fig.add_subplot(111)\n",
    "#     ax.scatter(X[:, x1], X[:, x2], c = y_label, cmap='autumn')\n",
    "    ax.scatter(X[:, x1], X[:, x2], c = y_pred, cmap='Set2')\n",
    "    ax.scatter(X[start:, x1], X[start:, x2], color='black', marker='^', facecolors='none')\n",
    "#     ax.set_color('yellow', 'red')\n",
    "    # ax.scatter(X[:, 2], X[:, 0], X[:,1], zdir='z', c= y_label)\n",
    "    \n",
    "    max_idx = (-home_error).argsort()[:10]\n",
    "    min_idx = (home_error).argsort()[:5]\n",
    "    \n",
    "    for i in max_idx:\n",
    "        ax.annotate(int(home_error[i]), (X[i+start, x1],X[i+start, x2]))\n",
    "    for i in min_idx:\n",
    "        ax.annotate(int(home_error[i]), (X[i+start, x1],X[i+start, x2]), color='red')\n",
    "        \n",
    "    print \"~/git/task3/demo_{}_{}_{}_{}_{}.png\".format(lr, iters, season, home, lam)\n",
    "\n",
    "    #plt.savefig(\"../results/Home_factors_{}_{}_{}_{}_{}.png\".format(lr, iters, season, home, lam))\n",
    "format_axes(ax)\n",
    "ax.set_xlabel(\"H1\")\n",
    "ax.set_ylabel(\"H2\")"
   ]
  },
  {
   "cell_type": "code",
   "execution_count": 210,
   "metadata": {},
   "outputs": [
    {
     "data": {
      "text/plain": [
       "array([3, 4])"
      ]
     },
     "execution_count": 210,
     "metadata": {},
     "output_type": "execute_result"
    }
   ],
   "source": [
    "(-np.var(X, axis=0)).argsort()[:2]"
   ]
  },
  {
   "cell_type": "code",
   "execution_count": 205,
   "metadata": {},
   "outputs": [
    {
     "data": {
      "text/plain": [
       "array([[ 0.01635801,  0.0517815 ,  0.03943585,  0.01259887,  0.03302816],\n",
       "       [ 0.07921914,  0.07894605,  0.07840301,  0.07925766,  0.07939159],\n",
       "       [ 0.02948893,  0.03248081,  0.02282549,  0.0217706 ,  0.03641466],\n",
       "       ..., \n",
       "       [ 0.05789175,  0.12478885,  0.07216465,  0.01096588,  0.15634926],\n",
       "       [ 0.05540949,  0.05265663,  0.08815022,  0.10616215,  0.02584823],\n",
       "       [ 0.01143033,  0.01786658,  0.09138949,  0.0909926 ,  0.0115726 ]])"
      ]
     },
     "execution_count": 205,
     "metadata": {},
     "output_type": "execute_result"
    }
   ],
   "source": [
    "X"
   ]
  },
  {
   "cell_type": "code",
   "execution_count": 28,
   "metadata": {},
   "outputs": [
    {
     "data": {
      "text/plain": [
       "1"
      ]
     },
     "execution_count": 28,
     "metadata": {},
     "output_type": "execute_result"
    }
   ],
   "source": [
    "np.argmin(H_sd['Error'])"
   ]
  },
  {
   "cell_type": "code",
   "execution_count": 107,
   "metadata": {
    "collapsed": true
   },
   "outputs": [],
   "source": [
    "y_pred = KMeans(n_clusters=5, random_state=0).fit_predict(X)"
   ]
  },
  {
   "cell_type": "code",
   "execution_count": 31,
   "metadata": {
    "collapsed": true
   },
   "outputs": [],
   "source": [
    "lr, iters, home, season, lam = H_sd['Learning Params'][1]"
   ]
  },
  {
   "cell_type": "code",
   "execution_count": 114,
   "metadata": {},
   "outputs": [
    {
     "data": {
      "text/plain": [
       "[0.1, 1300, 2, 3, 0.001]"
      ]
     },
     "execution_count": 114,
     "metadata": {},
     "output_type": "execute_result"
    }
   ],
   "source": [
    "H_sd['Learning Params'][1]"
   ]
  },
  {
   "cell_type": "code",
   "execution_count": 57,
   "metadata": {
    "collapsed": true
   },
   "outputs": [],
   "source": [
    "H_sandiego = H_sd['H'][lr][iters][home][season][lam]\n",
    "H_austin = H_au[lr][home][season][lam][iters]\n",
    "H_sandiego = pd.DataFrame(pd.concat(H_sandiego))\n",
    "H_sandiego = H_sandiego.values"
   ]
  },
  {
   "cell_type": "code",
   "execution_count": 105,
   "metadata": {
    "collapsed": true
   },
   "outputs": [],
   "source": [
    "X = np.r_[H_austin, H_sandiego]"
   ]
  },
  {
   "cell_type": "code",
   "execution_count": 106,
   "metadata": {},
   "outputs": [
    {
     "data": {
      "text/plain": [
       "array([[ 1.44978439,  1.85235149,  2.24196778],\n",
       "       [ 5.07829371,  5.19002611,  5.31706703],\n",
       "       [ 1.25873953,  1.91841413,  2.01917777],\n",
       "       ..., \n",
       "       [ 3.91653929,  4.54876306,  4.20064527],\n",
       "       [ 3.54303754,  2.33810825,  4.02175073],\n",
       "       [ 1.79951822,  0.7918247 ,  3.57216809]])"
      ]
     },
     "execution_count": 106,
     "metadata": {},
     "output_type": "execute_result"
    }
   ],
   "source": [
    "X"
   ]
  },
  {
   "cell_type": "code",
   "execution_count": 108,
   "metadata": {
    "collapsed": true
   },
   "outputs": [],
   "source": [
    "y_sd = np.zeros(39)\n",
    "y_au = np.ones(len(H_austin))"
   ]
  },
  {
   "cell_type": "code",
   "execution_count": 110,
   "metadata": {
    "collapsed": true
   },
   "outputs": [],
   "source": [
    "y_label = np.r_[y_au, y_sd]"
   ]
  },
  {
   "cell_type": "code",
   "execution_count": 146,
   "metadata": {
    "collapsed": true
   },
   "outputs": [],
   "source": [
    "result = pickle.load(open(os.path.expanduser('./result.pkl'), 'r'))\n",
    "result = np.around(result.values)"
   ]
  },
  {
   "cell_type": "code",
   "execution_count": 147,
   "metadata": {},
   "outputs": [
    {
     "data": {
      "text/plain": [
       "array([ 17.,  20.,  28.,  18.,  26.,  17.,  15.,  16.,  22.,  19.,  25.,\n",
       "        12.,  17.,  20.,  18.,   8.,  12.,  18.,   5.,  11.,   2.,  12.,\n",
       "        22.,  17.,  15.,   4.,  22.,  24.,  15.,  24.,  14.,  11.,  17.,\n",
       "        17.,  27.,  22.,  28.,  11.,  14.])"
      ]
     },
     "execution_count": 147,
     "metadata": {},
     "output_type": "execute_result"
    }
   ],
   "source": [
    "result"
   ]
  },
  {
   "cell_type": "code",
   "execution_count": 156,
   "metadata": {},
   "outputs": [
    {
     "data": {
      "image/png": "[encoded data removed]",
      "text/plain": [
       "<matplotlib.figure.Figure at 0x7fd36615d090>"
      ]
     },
     "metadata": {},
     "output_type": "display_data"
    }
   ],
   "source": [
    "\n",
    "start = len(H_austin)\n",
    "d = np.random.randint(0, 2, size=(3,3,3))\n",
    "z,x,y = d.nonzero()\n",
    "import matplotlib.pyplot as plt\n",
    "from mpl_toolkits.mplot3d import Axes3D\n",
    "fig = plt.figure()\n",
    "# ax = fig.add_subplot(111, projection='3d')\n",
    "ax = fig.add_subplot(111)\n",
    "ax.scatter(X[:, 1], X[:, 2], c= y_label)\n",
    "# ax.scatter(X[:, 2], X[:, 0], X[:,1], zdir='z', c= y_label)\n",
    "\n",
    "for i in range(start, start + 15):\n",
    "    ax.annotate(result[i-start], (X[i, 1],X[i, 2]))\n",
    "\n",
    "plt.savefig(\"demo.png\")"
   ]
  }
 ],
 "metadata": {
  "kernelspec": {
   "display_name": "Python 2",
   "language": "python",
   "name": "python2"
  },
  "language_info": {
   "codemirror_mode": {
    "name": "ipython",
    "version": 2
   },
   "file_extension": ".py",
   "mimetype": "text/x-python",
   "name": "python",
   "nbconvert_exporter": "python",
   "pygments_lexer": "ipython2",
   "version": "2.7.10"
  }
 },
 "nbformat": 4,
 "nbformat_minor": 2
}
