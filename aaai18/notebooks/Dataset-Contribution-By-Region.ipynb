{
 "cells": [
  {
   "cell_type": "code",
   "execution_count": null,
   "metadata": {
    "collapsed": true
   },
   "outputs": [],
   "source": []
  },
  {
   "cell_type": "code",
   "execution_count": 5,
   "metadata": {
    "collapsed": true
   },
   "outputs": [],
   "source": [
    "import pandas as pd\n",
    "import sys\n",
    "\n",
    "sys.path.append(\"../code/\")\n",
    "from common import create_matrix_single_region, APPLIANCES_ORDER"
   ]
  },
  {
   "cell_type": "code",
   "execution_count": 40,
   "metadata": {},
   "outputs": [],
   "source": [
    "contribution = {}\n",
    "for region in ['SanDiego', 'Austin', 'Boulder']:\n",
    "\n",
    "    temp = {}\n",
    "    r_df = create_matrix_single_region(region, 2014)[0]\n",
    "    for appliance in APPLIANCES_ORDER[1:]:\n",
    "        df_app = r_df[['{}_{}'.format(appliance, month) for month in range(1, 13)]]\n",
    "        df_agg = r_df[['{}_{}'.format(\"aggregate\", month) for month in range(1, 13)]]\n",
    "        df_app.columns = df_agg.columns\n",
    "        temp[appliance] = (df_app.div(df_agg)).mean().mean()\n",
    "    error_weights = pd.Series(temp).to_dict()\n",
    "    contribution[region] = error_weights"
   ]
  },
  {
   "cell_type": "code",
   "execution_count": 41,
   "metadata": {},
   "outputs": [
    {
     "data": {
      "text/plain": [
       "{'Austin': {'dw': 0.012319551319019947,\n",
       "  'fridge': 0.090344146891213839,\n",
       "  'hvac': 0.20323856343120128,\n",
       "  'mw': 0.013223228424632354,\n",
       "  'oven': 0.018147104643032555,\n",
       "  'wm': 0.0061775780345535809},\n",
       " 'Boulder': {'dw': 0.016238452430123097,\n",
       "  'fridge': 0.12957241944273667,\n",
       "  'hvac': 0.0751167484850261,\n",
       "  'mw': 0.021824532914112984,\n",
       "  'oven': 0.028995969570346034,\n",
       "  'wm': 0.012536790978333469},\n",
       " 'SanDiego': {'dw': 0.016351260467306238,\n",
       "  'fridge': 0.14594851944128154,\n",
       "  'hvac': 0.12236811705161471,\n",
       "  'mw': 0.023762994663075035,\n",
       "  'oven': 0.026485593044440703,\n",
       "  'wm': 0.01099002897219121}}"
      ]
     },
     "execution_count": 41,
     "metadata": {},
     "output_type": "execute_result"
    }
   ],
   "source": [
    "contribution"
   ]
  },
  {
   "cell_type": "code",
   "execution_count": 42,
   "metadata": {
    "collapsed": true
   },
   "outputs": [],
   "source": [
    "appliance_name_mapping = {'hvac':'HVAC',\n",
    "                         'fridge':'Fridge',\n",
    "                         'wm':'Washing\\n machine',\n",
    "                         'dw':'Dish \\nWasher',\n",
    "                         'oven':'Oven',\n",
    "                         'mw':'Micro-\\nwave'}"
   ]
  },
  {
   "cell_type": "code",
   "execution_count": 43,
   "metadata": {
    "collapsed": true
   },
   "outputs": [],
   "source": [
    "df = pd.DataFrame(contribution).T[APPLIANCES_ORDER[1:]]\n"
   ]
  },
  {
   "cell_type": "code",
   "execution_count": 44,
   "metadata": {
    "collapsed": true
   },
   "outputs": [],
   "source": [
    "df.columns = [appliance_name_mapping[x] for x in df.columns]"
   ]
  },
  {
   "cell_type": "code",
   "execution_count": 45,
   "metadata": {},
   "outputs": [
    {
     "data": {
      "text/html": [
       "<div>\n",
       "<style>\n",
       "    .dataframe thead tr:only-child th {\n",
       "        text-align: right;\n",
       "    }\n",
       "\n",
       "    .dataframe thead th {\n",
       "        text-align: left;\n",
       "    }\n",
       "\n",
       "    .dataframe tbody tr th {\n",
       "        vertical-align: top;\n",
       "    }\n",
       "</style>\n",
       "<table border=\"1\" class=\"dataframe\">\n",
       "  <thead>\n",
       "    <tr style=\"text-align: right;\">\n",
       "      <th></th>\n",
       "      <th>HVAC</th>\n",
       "      <th>Fridge</th>\n",
       "      <th>Micro-\n",
       "wave</th>\n",
       "      <th>Dish \n",
       "Washer</th>\n",
       "      <th>Washing\n",
       " machine</th>\n",
       "      <th>Oven</th>\n",
       "    </tr>\n",
       "  </thead>\n",
       "  <tbody>\n",
       "    <tr>\n",
       "      <th>Austin</th>\n",
       "      <td>0.203239</td>\n",
       "      <td>0.090344</td>\n",
       "      <td>0.013223</td>\n",
       "      <td>0.012320</td>\n",
       "      <td>0.006178</td>\n",
       "      <td>0.018147</td>\n",
       "    </tr>\n",
       "    <tr>\n",
       "      <th>Boulder</th>\n",
       "      <td>0.075117</td>\n",
       "      <td>0.129572</td>\n",
       "      <td>0.021825</td>\n",
       "      <td>0.016238</td>\n",
       "      <td>0.012537</td>\n",
       "      <td>0.028996</td>\n",
       "    </tr>\n",
       "    <tr>\n",
       "      <th>SanDiego</th>\n",
       "      <td>0.122368</td>\n",
       "      <td>0.145949</td>\n",
       "      <td>0.023763</td>\n",
       "      <td>0.016351</td>\n",
       "      <td>0.010990</td>\n",
       "      <td>0.026486</td>\n",
       "    </tr>\n",
       "  </tbody>\n",
       "</table>\n",
       "</div>"
      ],
      "text/plain": [
       "              HVAC    Fridge  Micro-\\nwave  Dish \\nWasher  Washing\\n machine  \\\n",
       "Austin    0.203239  0.090344      0.013223       0.012320           0.006178   \n",
       "Boulder   0.075117  0.129572      0.021825       0.016238           0.012537   \n",
       "SanDiego  0.122368  0.145949      0.023763       0.016351           0.010990   \n",
       "\n",
       "              Oven  \n",
       "Austin    0.018147  \n",
       "Boulder   0.028996  \n",
       "SanDiego  0.026486  "
      ]
     },
     "execution_count": 45,
     "metadata": {},
     "output_type": "execute_result"
    }
   ],
   "source": [
    "df"
   ]
  },
  {
   "cell_type": "code",
   "execution_count": 46,
   "metadata": {
    "collapsed": true
   },
   "outputs": [],
   "source": [
    "regions = ['Austin','SanDiego']"
   ]
  },
  {
   "cell_type": "code",
   "execution_count": 47,
   "metadata": {
    "collapsed": true
   },
   "outputs": [],
   "source": [
    "df = df.loc[regions]"
   ]
  },
  {
   "cell_type": "code",
   "execution_count": 48,
   "metadata": {},
   "outputs": [
    {
     "data": {
      "text/html": [
       "<div>\n",
       "<style>\n",
       "    .dataframe thead tr:only-child th {\n",
       "        text-align: right;\n",
       "    }\n",
       "\n",
       "    .dataframe thead th {\n",
       "        text-align: left;\n",
       "    }\n",
       "\n",
       "    .dataframe tbody tr th {\n",
       "        vertical-align: top;\n",
       "    }\n",
       "</style>\n",
       "<table border=\"1\" class=\"dataframe\">\n",
       "  <thead>\n",
       "    <tr style=\"text-align: right;\">\n",
       "      <th></th>\n",
       "      <th>HVAC</th>\n",
       "      <th>Fridge</th>\n",
       "      <th>Micro-\n",
       "wave</th>\n",
       "      <th>Dish \n",
       "Washer</th>\n",
       "      <th>Washing\n",
       " machine</th>\n",
       "      <th>Oven</th>\n",
       "    </tr>\n",
       "  </thead>\n",
       "  <tbody>\n",
       "    <tr>\n",
       "      <th>Austin</th>\n",
       "      <td>0.203239</td>\n",
       "      <td>0.090344</td>\n",
       "      <td>0.013223</td>\n",
       "      <td>0.012320</td>\n",
       "      <td>0.006178</td>\n",
       "      <td>0.018147</td>\n",
       "    </tr>\n",
       "    <tr>\n",
       "      <th>SanDiego</th>\n",
       "      <td>0.122368</td>\n",
       "      <td>0.145949</td>\n",
       "      <td>0.023763</td>\n",
       "      <td>0.016351</td>\n",
       "      <td>0.010990</td>\n",
       "      <td>0.026486</td>\n",
       "    </tr>\n",
       "  </tbody>\n",
       "</table>\n",
       "</div>"
      ],
      "text/plain": [
       "              HVAC    Fridge  Micro-\\nwave  Dish \\nWasher  Washing\\n machine  \\\n",
       "Austin    0.203239  0.090344      0.013223       0.012320           0.006178   \n",
       "SanDiego  0.122368  0.145949      0.023763       0.016351           0.010990   \n",
       "\n",
       "              Oven  \n",
       "Austin    0.018147  \n",
       "SanDiego  0.026486  "
      ]
     },
     "execution_count": 48,
     "metadata": {},
     "output_type": "execute_result"
    }
   ],
   "source": [
    "df"
   ]
  },
  {
   "cell_type": "code",
   "execution_count": 49,
   "metadata": {
    "collapsed": true
   },
   "outputs": [],
   "source": [
    "df.to_latex('contribution.txt', float_format=\"%0.2f\")"
   ]
  },
  {
   "cell_type": "code",
   "execution_count": 50,
   "metadata": {},
   "outputs": [
    {
     "name": "stdout",
     "output_type": "stream",
     "text": [
      "\\begin{tabular}{lrrrrrr}\r\n",
      "\\toprule\r\n",
      "{} &  HVAC &  Fridge &  Micro-\\textbackslashnwave &  Dish \\textbackslashnWasher &  Washing\\textbackslashn machine &  Oven \\\\\r\n",
      "\\midrule\r\n",
      "Austin   &  0.20 &    0.09 &          0.01 &           0.01 &               0.01 &  0.02 \\\\\r\n",
      "SanDiego &  0.12 &    0.15 &          0.02 &           0.02 &               0.01 &  0.03 \\\\\r\n",
      "\\bottomrule\r\n",
      "\\end{tabular}\r\n"
     ]
    }
   ],
   "source": [
    "!cat contribution.txt"
   ]
  },
  {
   "cell_type": "code",
   "execution_count": null,
   "metadata": {
    "collapsed": true
   },
   "outputs": [],
   "source": []
  }
 ],
 "metadata": {
  "kernelspec": {
   "display_name": "Python 2",
   "language": "python",
   "name": "python2"
  },
  "language_info": {
   "codemirror_mode": {
    "name": "ipython",
    "version": 2
   },
   "file_extension": ".py",
   "mimetype": "text/x-python",
   "name": "python",
   "nbconvert_exporter": "python",
   "pygments_lexer": "ipython2",
   "version": "2.7.13"
  }
 },
 "nbformat": 4,
 "nbformat_minor": 2
}
