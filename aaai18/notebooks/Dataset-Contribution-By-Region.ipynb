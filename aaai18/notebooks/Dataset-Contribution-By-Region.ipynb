{
 "cells": [
  {
   "cell_type": "code",
   "execution_count": 1,
   "metadata": {
    "collapsed": true
   },
   "outputs": [],
   "source": [
    "import pandas as pd\n",
    "import sys\n",
    "\n",
    "sys.path.append(\"../code/\")"
   ]
  },
  {
   "cell_type": "code",
   "execution_count": 25,
   "metadata": {
    "collapsed": true
   },
   "outputs": [],
   "source": [
    "appliance_name_mapping = {'hvac':'HVAC',\n",
    "                         'fridge':'Fridge',\n",
    "                         'wm':'Washing\\n machine',\n",
    "                         'dw':'Dish \\nWasher',\n",
    "                         'oven':'Oven',\n",
    "                         'mw':'Micro-\\nwave'}"
   ]
  },
  {
   "cell_type": "code",
   "execution_count": 26,
   "metadata": {
    "collapsed": true
   },
   "outputs": [],
   "source": [
    "from common import contri, APPLIANCES_ORDER"
   ]
  },
  {
   "cell_type": "code",
   "execution_count": 27,
   "metadata": {},
   "outputs": [],
   "source": [
    "df = pd.DataFrame(contri).T[APPLIANCES_ORDER[1:]]\n"
   ]
  },
  {
   "cell_type": "code",
   "execution_count": 28,
   "metadata": {},
   "outputs": [],
   "source": [
    "df.columns = [appliance_name_mapping[x] for x in df.columns]"
   ]
  },
  {
   "cell_type": "code",
   "execution_count": 29,
   "metadata": {},
   "outputs": [
    {
     "data": {
      "text/html": [
       "<div>\n",
       "<style>\n",
       "    .dataframe thead tr:only-child th {\n",
       "        text-align: right;\n",
       "    }\n",
       "\n",
       "    .dataframe thead th {\n",
       "        text-align: left;\n",
       "    }\n",
       "\n",
       "    .dataframe tbody tr th {\n",
       "        vertical-align: top;\n",
       "    }\n",
       "</style>\n",
       "<table border=\"1\" class=\"dataframe\">\n",
       "  <thead>\n",
       "    <tr style=\"text-align: right;\">\n",
       "      <th></th>\n",
       "      <th>HVAC</th>\n",
       "      <th>Fridge</th>\n",
       "      <th>Micro-\n",
       "wave</th>\n",
       "      <th>Dish \n",
       "Washer</th>\n",
       "      <th>Washing\n",
       " machine</th>\n",
       "      <th>Oven</th>\n",
       "    </tr>\n",
       "  </thead>\n",
       "  <tbody>\n",
       "    <tr>\n",
       "      <th>Austin</th>\n",
       "      <td>0.757683</td>\n",
       "      <td>0.168670</td>\n",
       "      <td>0.021209</td>\n",
       "      <td>0.018721</td>\n",
       "      <td>0.009893</td>\n",
       "      <td>0.023824</td>\n",
       "    </tr>\n",
       "    <tr>\n",
       "      <th>Boulder</th>\n",
       "      <td>0.313963</td>\n",
       "      <td>0.439994</td>\n",
       "      <td>0.067946</td>\n",
       "      <td>0.053257</td>\n",
       "      <td>0.036816</td>\n",
       "      <td>0.088023</td>\n",
       "    </tr>\n",
       "    <tr>\n",
       "      <th>SanDiego</th>\n",
       "      <td>0.554866</td>\n",
       "      <td>0.313919</td>\n",
       "      <td>0.042220</td>\n",
       "      <td>0.029733</td>\n",
       "      <td>0.021196</td>\n",
       "      <td>0.038067</td>\n",
       "    </tr>\n",
       "  </tbody>\n",
       "</table>\n",
       "</div>"
      ],
      "text/plain": [
       "              HVAC    Fridge  Micro-\\nwave  Dish \\nWasher  Washing\\n machine  \\\n",
       "Austin    0.757683  0.168670      0.021209       0.018721           0.009893   \n",
       "Boulder   0.313963  0.439994      0.067946       0.053257           0.036816   \n",
       "SanDiego  0.554866  0.313919      0.042220       0.029733           0.021196   \n",
       "\n",
       "              Oven  \n",
       "Austin    0.023824  \n",
       "Boulder   0.088023  \n",
       "SanDiego  0.038067  "
      ]
     },
     "execution_count": 29,
     "metadata": {},
     "output_type": "execute_result"
    }
   ],
   "source": [
    "df"
   ]
  },
  {
   "cell_type": "code",
   "execution_count": 30,
   "metadata": {
    "collapsed": true
   },
   "outputs": [],
   "source": [
    "regions = ['Austin','SanDiego','Boulder']"
   ]
  },
  {
   "cell_type": "code",
   "execution_count": 31,
   "metadata": {
    "collapsed": true
   },
   "outputs": [],
   "source": [
    "df = df.loc[regions]"
   ]
  },
  {
   "cell_type": "code",
   "execution_count": 32,
   "metadata": {},
   "outputs": [
    {
     "data": {
      "text/html": [
       "<div>\n",
       "<style>\n",
       "    .dataframe thead tr:only-child th {\n",
       "        text-align: right;\n",
       "    }\n",
       "\n",
       "    .dataframe thead th {\n",
       "        text-align: left;\n",
       "    }\n",
       "\n",
       "    .dataframe tbody tr th {\n",
       "        vertical-align: top;\n",
       "    }\n",
       "</style>\n",
       "<table border=\"1\" class=\"dataframe\">\n",
       "  <thead>\n",
       "    <tr style=\"text-align: right;\">\n",
       "      <th></th>\n",
       "      <th>HVAC</th>\n",
       "      <th>Fridge</th>\n",
       "      <th>Micro-\n",
       "wave</th>\n",
       "      <th>Dish \n",
       "Washer</th>\n",
       "      <th>Washing\n",
       " machine</th>\n",
       "      <th>Oven</th>\n",
       "    </tr>\n",
       "  </thead>\n",
       "  <tbody>\n",
       "    <tr>\n",
       "      <th>Austin</th>\n",
       "      <td>0.757683</td>\n",
       "      <td>0.168670</td>\n",
       "      <td>0.021209</td>\n",
       "      <td>0.018721</td>\n",
       "      <td>0.009893</td>\n",
       "      <td>0.023824</td>\n",
       "    </tr>\n",
       "    <tr>\n",
       "      <th>SanDiego</th>\n",
       "      <td>0.554866</td>\n",
       "      <td>0.313919</td>\n",
       "      <td>0.042220</td>\n",
       "      <td>0.029733</td>\n",
       "      <td>0.021196</td>\n",
       "      <td>0.038067</td>\n",
       "    </tr>\n",
       "    <tr>\n",
       "      <th>Boulder</th>\n",
       "      <td>0.313963</td>\n",
       "      <td>0.439994</td>\n",
       "      <td>0.067946</td>\n",
       "      <td>0.053257</td>\n",
       "      <td>0.036816</td>\n",
       "      <td>0.088023</td>\n",
       "    </tr>\n",
       "  </tbody>\n",
       "</table>\n",
       "</div>"
      ],
      "text/plain": [
       "              HVAC    Fridge  Micro-\\nwave  Dish \\nWasher  Washing\\n machine  \\\n",
       "Austin    0.757683  0.168670      0.021209       0.018721           0.009893   \n",
       "SanDiego  0.554866  0.313919      0.042220       0.029733           0.021196   \n",
       "Boulder   0.313963  0.439994      0.067946       0.053257           0.036816   \n",
       "\n",
       "              Oven  \n",
       "Austin    0.023824  \n",
       "SanDiego  0.038067  \n",
       "Boulder   0.088023  "
      ]
     },
     "execution_count": 32,
     "metadata": {},
     "output_type": "execute_result"
    }
   ],
   "source": [
    "df"
   ]
  },
  {
   "cell_type": "code",
   "execution_count": 33,
   "metadata": {},
   "outputs": [],
   "source": [
    "df.to_latex('contribution.txt', float_format=\"%0.2f\")"
   ]
  },
  {
   "cell_type": "code",
   "execution_count": 34,
   "metadata": {},
   "outputs": [
    {
     "name": "stdout",
     "output_type": "stream",
     "text": [
      "\\begin{tabular}{lrrrrrr}\r\n",
      "\\toprule\r\n",
      "{} &  HVAC &  Fridge &  Micro-\\textbackslashnwave &  Dish \\textbackslashnWasher &  Washing\\textbackslashn machine &  Oven \\\\\r\n",
      "\\midrule\r\n",
      "Austin   &  0.76 &    0.17 &          0.02 &           0.02 &               0.01 &  0.02 \\\\\r\n",
      "SanDiego &  0.55 &    0.31 &          0.04 &           0.03 &               0.02 &  0.04 \\\\\r\n",
      "Boulder  &  0.31 &    0.44 &          0.07 &           0.05 &               0.04 &  0.09 \\\\\r\n",
      "\\bottomrule\r\n",
      "\\end{tabular}\r\n"
     ]
    }
   ],
   "source": [
    "!cat contribution.txt"
   ]
  },
  {
   "cell_type": "code",
   "execution_count": null,
   "metadata": {
    "collapsed": true
   },
   "outputs": [],
   "source": []
  }
 ],
 "metadata": {
  "kernelspec": {
   "display_name": "Python 2",
   "language": "python",
   "name": "python2"
  },
  "language_info": {
   "codemirror_mode": {
    "name": "ipython",
    "version": 2
   },
   "file_extension": ".py",
   "mimetype": "text/x-python",
   "name": "python",
   "nbconvert_exporter": "python",
   "pygments_lexer": "ipython2",
   "version": "2.7.13"
  }
 },
 "nbformat": 4,
 "nbformat_minor": 2
}
