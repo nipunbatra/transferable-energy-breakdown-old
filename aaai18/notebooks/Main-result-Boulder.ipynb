{
 "cells": [
  {
   "cell_type": "code",
   "execution_count": 1,
   "metadata": {
    "collapsed": true
   },
   "outputs": [],
   "source": [
    "import matplotlib.pyplot as plt\n",
    "import numpy as np\n",
    "import pandas as pd\n",
    "%matplotlib inline"
   ]
  },
  {
   "cell_type": "code",
   "execution_count": 2,
   "metadata": {
    "collapsed": true
   },
   "outputs": [],
   "source": [
    "import pickle"
   ]
  },
  {
   "cell_type": "code",
   "execution_count": 3,
   "metadata": {
    "collapsed": true
   },
   "outputs": [],
   "source": [
    "import sys\n",
    "sys.path.append('../code/')\n",
    "\n",
    "from common import APPLIANCES_ORDER, contri"
   ]
  },
  {
   "cell_type": "code",
   "execution_count": null,
   "metadata": {},
   "outputs": [
    {
     "data": {
      "text/plain": [
       "<matplotlib.text.Text at 0x113cc43d0>"
      ]
     },
     "execution_count": 7,
     "metadata": {},
     "output_type": "execute_result"
    }
   ],
   "source": [
    "out = pickle.load(open('../predictions/lr-tf-Austin-Boulder.pkl','r'))\n",
    "\n",
    "mapping = {2:'Our TF', 4:'STF'}\n",
    "for case in [2, 4]:\n",
    "    for constant_use in ['True', 'False']:\n",
    "    \n",
    "        for static in ['False','True']:\n",
    "            for transfer in ['normal','transfer']:\n",
    "                try:\n",
    "                    algo = \"{}_{}_{}_{}\".format(transfer, constant_use, static, mapping[case])\n",
    "                    error = (pd.DataFrame(out[case][constant_use][static][transfer]).T*pd.Series(contri['Boulder'])).sum(axis=1)\n",
    "                    if error.mean()>2:\n",
    "                        error.plot(label=algo, marker='o', logx=False)\n",
    "                except Exception, e:\n",
    "                    print e\n",
    "                    print case, static, transfer, \"------\"\n",
    "#prev_best_algo.plot(label='prev', marker='*')\n",
    "plt.legend(bbox_to_anchor=(1.1, 1), title='Setting, Constant season, Static, TF case')\n",
    "plt.xlim((0, 110))\n",
    "plt.title(\"Target: Boulder, Source (when transfer used): Austin\")"
   ]
  },
  {
   "cell_type": "code",
   "execution_count": 54,
   "metadata": {
    "collapsed": true
   },
   "outputs": [],
   "source": [
    "params = pickle.load(open('../predictions/params-lr-tf-Austin-SanDiego.pkl','r'))\n"
   ]
  },
  {
   "cell_type": "code",
   "execution_count": 115,
   "metadata": {
    "collapsed": true
   },
   "outputs": [],
   "source": [
    "case =2\n",
    "constant_use = 'True'\n",
    "static = 'True'\n",
    "setting = 'transfer'\n",
    "lrs = {}\n",
    "n_iter = {}\n",
    "for train in [10, 30, 50, 70, 90]:\n",
    "    lrs[train] = []\n",
    "    n_iter[train] = []\n",
    "    for random_seed in range(4):\n",
    "        for fold in range(10):\n",
    "            lrs[train].append(params[case][constant_use][static][setting][train][random_seed][fold]['Learning Rate'])\n",
    "            n_iter[train].append(params[case][constant_use][static][setting][train][random_seed][fold]['Iterations'])\n",
    "    lrs[train] = pd.value_counts(pd.Series(lrs)[train])\n",
    "    n_iter[train] = pd.value_counts(pd.Series(n_iter)[train])\n",
    "lrs = pd.DataFrame(lrs)\n",
    "n_iter = pd.DataFrame(n_iter)"
   ]
  },
  {
   "cell_type": "code",
   "execution_count": 117,
   "metadata": {},
   "outputs": [
    {
     "data": {
      "text/html": [
       "<div>\n",
       "<style>\n",
       "    .dataframe thead tr:only-child th {\n",
       "        text-align: right;\n",
       "    }\n",
       "\n",
       "    .dataframe thead th {\n",
       "        text-align: left;\n",
       "    }\n",
       "\n",
       "    .dataframe tbody tr th {\n",
       "        vertical-align: top;\n",
       "    }\n",
       "</style>\n",
       "<table border=\"1\" class=\"dataframe\">\n",
       "  <thead>\n",
       "    <tr style=\"text-align: right;\">\n",
       "      <th></th>\n",
       "      <th>10</th>\n",
       "      <th>30</th>\n",
       "      <th>50</th>\n",
       "      <th>70</th>\n",
       "      <th>90</th>\n",
       "    </tr>\n",
       "  </thead>\n",
       "  <tbody>\n",
       "    <tr>\n",
       "      <th>100</th>\n",
       "      <td>4</td>\n",
       "      <td>10</td>\n",
       "      <td>11</td>\n",
       "      <td>8</td>\n",
       "      <td>13</td>\n",
       "    </tr>\n",
       "    <tr>\n",
       "      <th>700</th>\n",
       "      <td>10</td>\n",
       "      <td>12</td>\n",
       "      <td>12</td>\n",
       "      <td>15</td>\n",
       "      <td>5</td>\n",
       "    </tr>\n",
       "    <tr>\n",
       "      <th>1300</th>\n",
       "      <td>26</td>\n",
       "      <td>18</td>\n",
       "      <td>17</td>\n",
       "      <td>17</td>\n",
       "      <td>22</td>\n",
       "    </tr>\n",
       "  </tbody>\n",
       "</table>\n",
       "</div>"
      ],
      "text/plain": [
       "      10  30  50  70  90\n",
       "100    4  10  11   8  13\n",
       "700   10  12  12  15   5\n",
       "1300  26  18  17  17  22"
      ]
     },
     "execution_count": 117,
     "metadata": {},
     "output_type": "execute_result"
    }
   ],
   "source": [
    "pd.DataFrame(n_iter)"
   ]
  },
  {
   "cell_type": "code",
   "execution_count": 100,
   "metadata": {
    "collapsed": true
   },
   "outputs": [],
   "source": [
    "lr_optimal = {}\n",
    "for train in [10, 30, 50, 70, 90]:\n",
    "    lr_optimal[train] = pd.value_counts(pd.DataFrame(a)[train])\n",
    "    "
   ]
  },
  {
   "cell_type": "code",
   "execution_count": null,
   "metadata": {
    "collapsed": true
   },
   "outputs": [],
   "source": [
    "pd.DataFrame(lrs).T.plot(kind='bar', rot=0)\n",
    "plt.xlabel(\"% Training data\")\n",
    "plt.title(\"Histogram of optimal Learning Rate for \\n Our TF Transfer from Austin ->SD\")\n",
    "plt.legend(title=\"Learning rate\")"
   ]
  },
  {
   "cell_type": "code",
   "execution_count": 126,
   "metadata": {},
   "outputs": [
    {
     "data": {
      "text/plain": [
       "<matplotlib.legend.Legend at 0x11767e810>"
      ]
     },
     "execution_count": 126,
     "metadata": {},
     "output_type": "execute_result"
    },
    {
     "data": {
      "image/png": "[encoded data removed]",
      "text/plain": [
       "<matplotlib.figure.Figure at 0x11767ee10>"
      ]
     },
     "metadata": {},
     "output_type": "display_data"
    }
   ],
   "source": [
    "pd.DataFrame(n_iter).T.plot(kind='bar', rot=0)\n",
    "plt.xlabel(\"% Training data\")\n",
    "plt.title(\"Histogram of optimal # Iterations \\n Our TF Transfer from Austin ->SD\")\n",
    "plt.legend(title=\"# Iterations\")"
   ]
  },
  {
   "cell_type": "code",
   "execution_count": null,
   "metadata": {
    "collapsed": true
   },
   "outputs": [],
   "source": []
  }
 ],
 "metadata": {
  "kernelspec": {
   "display_name": "Python 2",
   "language": "python",
   "name": "python2"
  },
  "language_info": {
   "codemirror_mode": {
    "name": "ipython",
    "version": 2
   },
   "file_extension": ".py",
   "mimetype": "text/x-python",
   "name": "python",
   "nbconvert_exporter": "python",
   "pygments_lexer": "ipython2",
   "version": "2.7.13"
  }
 },
 "nbformat": 4,
 "nbformat_minor": 2
}
