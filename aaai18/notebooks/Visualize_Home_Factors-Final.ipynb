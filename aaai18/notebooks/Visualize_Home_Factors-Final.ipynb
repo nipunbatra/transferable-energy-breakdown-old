{
 "cells": [
  {
   "cell_type": "code",
   "execution_count": 9,
   "metadata": {
    "collapsed": true
   },
   "outputs": [],
   "source": [
    "from sklearn.metrics import mean_squared_error\n",
    "from sklearn.cluster import KMeans\n",
    "import os\n",
    "import matplotlib.pyplot as plt\n",
    "import pandas as pd\n",
    "import numpy as np\n",
    "import sys\n",
    "sys.path.append(\"../code/\")\n",
    "\n",
    "%matplotlib inline"
   ]
  },
  {
   "cell_type": "code",
   "execution_count": 2,
   "metadata": {
    "collapsed": true
   },
   "outputs": [],
   "source": [
    "import pickle\n",
    "H_au = pickle.load(open(os.path.expanduser('~/git/scalable-nilm/aaai18/predictions/case-2-graph_Austin_True_1_13_Hs.pkl'), 'r'))"
   ]
  },
  {
   "cell_type": "code",
   "execution_count": 3,
   "metadata": {
    "collapsed": true
   },
   "outputs": [],
   "source": [
    "H_sd = pickle.load(open(os.path.expanduser('~/git/scalable-nilm/aaai18/predictions/H/transfer/case-2/True/True/Austin-SanDiego-0-10.0.pkl'), 'r'))\n",
    "H_error_home = pickle.load(open(os.path.expanduser('~/git/scalable-nilm/aaai18/predictions/H/transfer/case-2/True/True/Austin-SanDiego-0-10.0_error_home.pkl'), 'r'))\n",
    "H_error = pickle.load(open(os.path.expanduser('~/git/scalable-nilm/aaai18/predictions/H/transfer/case-2/True/True/Austin-SanDiego-0-10.0_error.pkl'), 'r'))\n",
    "H_params = pickle.load(open(os.path.expanduser('~/git/scalable-nilm/aaai18/predictions/H/transfer/case-2/True/True/Austin-SanDiego-0-10.0_params.pkl'), 'r'))\n",
    "H_error_app = pickle.load(open(os.path.expanduser('~/git/scalable-nilm/aaai18/predictions/H/transfer/case-2/True/True/Austin-SanDiego-0-10.0_error_home_app.pkl'), 'r'))"
   ]
  },
  {
   "cell_type": "code",
   "execution_count": 10,
   "metadata": {
    "collapsed": true
   },
   "outputs": [],
   "source": [
    "best_show = [\n",
    "    [2, 1300, 2, 3, 0.001]\n",
    "]\n",
    "\n",
    "from plot_functions import latexify, format_axes"
   ]
  },
  {
   "cell_type": "code",
   "execution_count": 65,
   "metadata": {
    "scrolled": false
   },
   "outputs": [
    {
     "name": "stdout",
     "output_type": "stream",
     "text": [
      "9.64394298538\n"
     ]
    },
    {
     "data": {
      "image/png": "[encoded data removed]",
      "text/plain": [
       "<matplotlib.figure.Figure at 0x12022fd10>"
      ]
     },
     "metadata": {},
     "output_type": "display_data"
    }
   ],
   "source": [
    "latexify()\n",
    "from matplotlib.legend_handler import HandlerLine2D\n",
    "import matplotlib.patches as patches\n",
    "import matplotlib.lines as mlines\n",
    "for i in range(len(best_show)):\n",
    "    # for i in range(1):\n",
    "        lr, iters, season, home, lam = best_show[i]\n",
    "    #     print H_params[i]\n",
    "        \n",
    "        H_sandiego = H_sd[lr][iters][season][home][lam]\n",
    "        H_austin = H_au[lr][season][home][lam][iters]\n",
    "        \n",
    "        H_sandiego = pd.DataFrame(pd.concat(H_sandiego))\n",
    "        H_sandiego = H_sandiego.values\n",
    "        \n",
    "        ### NIPUN ###\n",
    "        \"\"\"\n",
    "        H_sandiego = H_sandiego/np.max(H_sandiego)\n",
    "        H_austin = H_austin/np.max(H_austin)\n",
    "        \"\"\"\n",
    "        \n",
    "        \n",
    "        X = np.r_[H_austin, H_sandiego]\n",
    "        print np.max(X)\n",
    "        X = X/np.max(X)\n",
    "        y_pred = KMeans(n_clusters=7, random_state=0).fit_predict(X)\n",
    "        x1, x2 = (-np.var(X, axis=0)).argsort()[:2]\n",
    "        \n",
    "        y_sd = np.zeros(len(H_sandiego))\n",
    "        y_au = np.ones(len(H_austin))\n",
    "        y_label = np.r_[y_au, y_sd]\n",
    "        \n",
    "        home_error = H_error_home[lr][iters][season][home][lam]\n",
    "        home_error = np.around(home_error.values)    \n",
    "        \n",
    "        \n",
    "        start = len(H_austin)\n",
    "        d = np.random.randint(0, 2, size=(3,3,3))\n",
    "        z,x,y = d.nonzero()\n",
    "        import matplotlib.pyplot as plt\n",
    "        from mpl_toolkits.mplot3d import Axes3D\n",
    "        fig = plt.figure()\n",
    "        # ax = fig.add_subplot(111, projection='3d')\n",
    "        ax = fig.add_subplot(111)\n",
    "    #     ax.scatter(X[:, x1], X[:, x2], c = y_label, cmap='autumn')\n",
    "        ax.scatter(X[:, x1], X[:, x2], c = y_pred, cmap='Set2',alpha=0.6, s=40)\n",
    "        \n",
    "        ax.scatter(X[start:, x1], X[start:, x2], color='black', marker='o', facecolors='none', s=8)\n",
    "    #     ax.set_color('yellow', 'red')\n",
    "        # ax.scatter(X[:, 2], X[:, 0], X[:,1], zdir='z', c= y_label)\n",
    "        \n",
    "        max_idx = (-home_error).argsort()[:10]\n",
    "        min_idx = (home_error).argsort()[:5]\n",
    "        \n",
    "        #for j in max_idx:\n",
    "        #    ax.annotate(int(home_error[j]), (X[j+start, x1],X[j+start, x2]))\n",
    "        #for j in min_idx:\n",
    "        #    ax.annotate(int(home_error[j]), (X[j+start, x1],X[j+start, x2]), color='red')\n",
    "            \n",
    "#         line1, = ax.scatter([], [], marker='o', label='Austin', colormap='Set2')\n",
    "#         line2, = plt.plot([], marker='o', label='SanDiego')\n",
    "\n",
    "#         blue_line = mlines.Line2D([], [], color='blue', marker='*',\n",
    "#                           markersize=15, label='Blue stars')\n",
    "#         plt.legend(handles=[blue_line])\n",
    "#         plt.legend(handler_map={line1: HandlerLine2D(numpoints=4)})\n",
    "        format_axes(ax)\n",
    "        ax.set_xlabel(\"H1\")\n",
    "        ax.set_ylabel(\"H2\")\n",
    "        ax.add_patch(\n",
    "            patches.Rectangle(\n",
    "                (0.55, 0.08),\n",
    "                0.5,\n",
    "                0.25,\n",
    "                fill=False      # remove background\n",
    "            )\n",
    "        )\n",
    "        ax.text(0.6, 0.35, \"Homes in SanDiego\\n dis-similar to Austin \\nhomes\", fontsize=8)\n",
    "        \n",
    "        ax.add_patch(\n",
    "            patches.Rectangle(\n",
    "                (0.0, 0.0),\n",
    "                0.2,\n",
    "                0.25,\n",
    "                fill=False      # remove background\n",
    "            )\n",
    "        )\n",
    "        ax.annotate('Homes in SanDiego\\n similar to Austin homes', xy=(0.2, 0.1), xytext=(0.3, 0.6),\n",
    "            arrowprops=dict(facecolor='black', shrink=0.005, width=2), fontsize=8\n",
    "            )\n",
    "        #ax.text(0.1, 0.6, \"Homes in SanDiego\\n similar to Austin homes\", fontsize=8)\n",
    "        \n",
    "        marker1 = plt.scatter([],[], alpha=0.6)\n",
    "        marker2 = plt.scatter([],[],color='black', marker='o', facecolors='none', s=8)\n",
    "        legend_markers = [marker1, marker2]\n",
    "\n",
    "        labels = [\"Austin\",\"SD\"\n",
    "            ]\n",
    "\n",
    "        fig.legend(handles=legend_markers, labels=labels, loc='upper right',\n",
    "            scatterpoints=1)\n",
    "\n",
    "        plt.savefig(\"../figures/HF-Aggregate.pdf\",bbox_inches=\"tight\")"
   ]
  },
  {
   "cell_type": "code",
   "execution_count": 89,
   "metadata": {},
   "outputs": [
    {
     "name": "stdout",
     "output_type": "stream",
     "text": [
      "9.64394298538\n"
     ]
    },
    {
     "data": {
      "image/png": "[encoded data removed]",
      "text/plain": [
       "<matplotlib.figure.Figure at 0x11ffa1810>"
      ]
     },
     "metadata": {},
     "output_type": "display_data"
    }
   ],
   "source": [
    "latexify()\n",
    "from matplotlib.legend_handler import HandlerLine2D\n",
    "import matplotlib.patches as patches\n",
    "import matplotlib.lines as mlines\n",
    "for i in range(len(best_show)):\n",
    "    # for i in range(1):\n",
    "        lr, iters, season, home, lam = best_show[i]\n",
    "    #     print H_params[i]\n",
    "        \n",
    "        H_sandiego = H_sd[lr][iters][season][home][lam]\n",
    "        H_austin = H_au[lr][season][home][lam][iters]\n",
    "        \n",
    "        H_sandiego = pd.DataFrame(pd.concat(H_sandiego))\n",
    "        H_sandiego = H_sandiego.values\n",
    "        \n",
    "        ### NIPUN ###\n",
    "        \"\"\"\n",
    "        H_sandiego = H_sandiego/np.max(H_sandiego)\n",
    "        H_austin = H_austin/np.max(H_austin)\n",
    "        \"\"\"\n",
    "        \n",
    "        \n",
    "        X = np.r_[H_austin, H_sandiego]\n",
    "        print np.max(X)\n",
    "        X = X/np.max(X)\n",
    "        y_pred = KMeans(n_clusters=7, random_state=0).fit_predict(X)\n",
    "        x1, x2 = (-np.var(X, axis=0)).argsort()[:2]\n",
    "        \n",
    "        y_sd = np.zeros(len(H_sandiego))\n",
    "        y_au = np.ones(len(H_austin))\n",
    "        y_label = np.r_[y_au, y_sd]\n",
    "        \n",
    "        home_error = H_error_home[lr][iters][season][home][lam]\n",
    "        home_error = np.around(home_error.values)    \n",
    "        \n",
    "        \n",
    "        start = len(H_austin)\n",
    "        d = np.random.randint(0, 2, size=(3,3,3))\n",
    "        z,x,y = d.nonzero()\n",
    "        import matplotlib.pyplot as plt\n",
    "        from mpl_toolkits.mplot3d import Axes3D\n",
    "        fig = plt.figure()\n",
    "        # ax = fig.add_subplot(111, projection='3d')\n",
    "        ax = fig.add_subplot(111)\n",
    "    #     ax.scatter(X[:, x1], X[:, x2], c = y_label, cmap='autumn')\n",
    "        ax.scatter(X[:start, x1], X[:start, x2], c = y_pred[:start], cmap='Set2',alpha=1, s=40, marker='o',label='Normal learning\\n Austin')\n",
    "        ax.scatter(X[start:, x1], X[start:, x2], c = y_pred[start:], cmap='Set2',alpha=1, s=50, lw = 0.6,marker='*', edgecolors=['grey'],label=\"Transfer learning\\nSanDiego\")\n",
    "        \n",
    "        #ax.scatter(X[start:, x1], X[start:, x2], color='black', marker='o', facecolors='none', s=8)\n",
    "    #     ax.set_color('yellow', 'red')\n",
    "        # ax.scatter(X[:, 2], X[:, 0], X[:,1], zdir='z', c= y_label)\n",
    "        \n",
    "        max_idx = (-home_error).argsort()[:10]\n",
    "        min_idx = (home_error).argsort()[:5]\n",
    "        \n",
    "        \n",
    "        format_axes(ax)\n",
    "        ax.set_xlabel(\"H1\")\n",
    "        ax.set_ylabel(\"H2\")\n",
    "        ax.add_patch(\n",
    "            patches.Rectangle(\n",
    "                (0.55, 0.08),\n",
    "                0.5,\n",
    "                0.25,\n",
    "                fill=False      # remove background\n",
    "            )\n",
    "        )\n",
    "        ax.text(0.6, 0.35, \"Homes in SanDiego\\n dis-similar to Austin \\nhomes have high error\", fontsize=6)\n",
    "        \n",
    "        ax.add_patch(\n",
    "            patches.Rectangle(\n",
    "                (0.0, 0.0),\n",
    "                0.2,\n",
    "                0.25,\n",
    "                fill=False      # remove background\n",
    "            )\n",
    "        )\n",
    "        ax.annotate('Homes in SanDiego\\n similar to Austin homes\\nhave low error', xy=(0.2, 0.1), xytext=(0.3, 0.6),\n",
    "            arrowprops=dict(facecolor='black', shrink=0.005, width=2), fontsize=6\n",
    "            )\n",
    "        #ax.text(0.1, 0.6, \"Homes in SanDiego\\n similar to Austin homes\", fontsize=8)\n",
    "        \n",
    "        l = ax.legend(bbox_to_anchor=(1, 1.3), ncol=2, fontsize=7)\n",
    "\n",
    "        plt.savefig(\"../figures/HF-Aggregate.pdf\",bbox_inches=\"tight\", bbox_extra_artists=[l])"
   ]
  },
  {
   "cell_type": "code",
   "execution_count": 91,
   "metadata": {},
   "outputs": [
    {
     "name": "stdout",
     "output_type": "stream",
     "text": [
      "[0.1, 1300, 2, 3, 0]\n",
      "9.64394298538\n"
     ]
    },
    {
     "data": {
      "image/png": "[encoded data removed]",
      "text/plain": [
       "<matplotlib.figure.Figure at 0x119063590>"
      ]
     },
     "metadata": {},
     "output_type": "display_data"
    }
   ],
   "source": [
    "for i in range(len(best_show)):\n",
    "    # for i in range(1):\n",
    "        lr, iters, season, home, lam = best_show[i]\n",
    "        print H_params[i]\n",
    "        \n",
    "        H_sandiego = H_sd[lr][iters][season][home][lam]\n",
    "        H_austin = H_au[lr][season][home][lam][iters]\n",
    "        \n",
    "        H_sandiego = pd.DataFrame(pd.concat(H_sandiego))\n",
    "        H_sandiego = H_sandiego.values\n",
    "        \n",
    "        X = np.r_[H_austin, H_sandiego]\n",
    "        print np.max(X)\n",
    "        X = X/np.max(X)\n",
    "        y_pred = KMeans(n_clusters=7, random_state=0).fit_predict(X)\n",
    "        x1, x2 = (-np.var(X, axis=0)).argsort()[:2]\n",
    "        \n",
    "        y_sd = np.zeros(len(H_sandiego))\n",
    "        y_au = np.ones(len(H_austin))\n",
    "        y_label = np.r_[y_au, y_sd]\n",
    "        \n",
    "        home_error = H_error_home[lr][iters][season][home][lam]\n",
    "        home_error = np.around(home_error.values) \n",
    "        \n",
    "        app_error = np.around(H_error_app[lr][iters][season][home][lam].values)\n",
    "        \n",
    "        \n",
    "        start = len(H_austin)\n",
    "        d = np.random.randint(0, 2, size=(3,3,3))\n",
    "        z,x,y = d.nonzero()\n",
    "        import matplotlib.pyplot as plt\n",
    "        from mpl_toolkits.mplot3d import Axes3D\n",
    "        fig = plt.figure()\n",
    "        # ax = fig.add_subplot(111, projection='3d')\n",
    "        ax = fig.add_subplot(111)\n",
    "    #     ax.scatter(X[:, x1], X[:, x2], c = y_label, cmap='autumn')\n",
    "        ax.scatter(X[:, x1], X[:, x2], c = y_pred, cmap='Set2')\n",
    "        \n",
    "        hvac = app_error[:, 2]\n",
    "        fridge = app_error[:, 1]\n",
    "    #     dw = app_error[:, 5]\n",
    "    \n",
    "        max_hvac = (-hvac).argsort()[:5]\n",
    "        max_fridge = (-fridge).argsort()[:5]\n",
    "    #     max_dw = (-dw).argsort()[:5]\n",
    "        \n",
    "        #for i in max_hvac:\n",
    "        #    ax.annotate(hvac[i], (X[i+start, x1],X[i+start, x2]))\n",
    "        #for i in max_fridge:\n",
    "        #    ax.annotate(fridge[i], (X[i+start, x1],X[i+start, x2]), color='red')\n",
    "    #     for i in max_dw:\n",
    "    #         ax.annotate(dw[i], (X[i+start, x1],X[i+start, x2]), color='blue')\n",
    "            \n",
    "    #     print \\~/git/task3/demo_{}_{}_{}_{}_{}.png\\.format(lr, iters, season, home, lam)\n",
    "        format_axes(ax)\n",
    "        plt.savefig(\"../figures/HF-appliance.pdf\")"
   ]
  },
  {
   "cell_type": "code",
   "execution_count": null,
   "metadata": {
    "collapsed": true
   },
   "outputs": [],
   "source": []
  }
 ],
 "metadata": {
  "kernelspec": {
   "display_name": "Python 2",
   "language": "python",
   "name": "python2"
  },
  "language_info": {
   "codemirror_mode": {
    "name": "ipython",
    "version": 2
   },
   "file_extension": ".py",
   "mimetype": "text/x-python",
   "name": "python",
   "nbconvert_exporter": "python",
   "pygments_lexer": "ipython2",
   "version": "2.7.13"
  }
 },
 "nbformat": 4,
 "nbformat_minor": 2
}
